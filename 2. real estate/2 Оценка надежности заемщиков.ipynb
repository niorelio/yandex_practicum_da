{
 "cells": [
  {
   "cell_type": "markdown",
   "metadata": {},
   "source": [
    "## Шаг 1. Откройте файл с данными и изучите общую информацию"
   ]
  },
  {
   "cell_type": "code",
   "execution_count": 1,
   "metadata": {},
   "outputs": [],
   "source": [
    "import pandas as pd\n",
    "from pymystem3 import Mystem\n",
    "m = Mystem()\n",
    "from collections import Counter"
   ]
  },
  {
   "cell_type": "code",
   "execution_count": 2,
   "metadata": {},
   "outputs": [
    {
     "name": "stdout",
     "output_type": "stream",
     "text": [
      "<class 'pandas.core.frame.DataFrame'>\n",
      "RangeIndex: 21525 entries, 0 to 21524\n",
      "Data columns (total 12 columns):\n",
      " #   Column            Non-Null Count  Dtype  \n",
      "---  ------            --------------  -----  \n",
      " 0   children          21525 non-null  int64  \n",
      " 1   days_employed     19351 non-null  float64\n",
      " 2   dob_years         21525 non-null  int64  \n",
      " 3   education         21525 non-null  object \n",
      " 4   education_id      21525 non-null  int64  \n",
      " 5   family_status     21525 non-null  object \n",
      " 6   family_status_id  21525 non-null  int64  \n",
      " 7   gender            21525 non-null  object \n",
      " 8   income_type       21525 non-null  object \n",
      " 9   debt              21525 non-null  int64  \n",
      " 10  total_income      19351 non-null  float64\n",
      " 11  purpose           21525 non-null  object \n",
      "dtypes: float64(2), int64(5), object(5)\n",
      "memory usage: 2.0+ MB\n",
      " 0     14149\n",
      " 1      4818\n",
      " 2      2055\n",
      " 3       330\n",
      " 20       76\n",
      "-1        47\n",
      " 4        41\n",
      " 5         9\n",
      "Name: children, dtype: int64\n",
      "-327.685916       1\n",
      "-1197.176853      1\n",
      "-89.856353        1\n",
      "-1179.225442      1\n",
      "-629.048598       1\n",
      "                 ..\n",
      " 347947.835507    1\n",
      "-1922.024563      1\n",
      "-2355.073220      1\n",
      "-3782.904489      1\n",
      "-3382.113891      1\n",
      "Name: days_employed, Length: 19351, dtype: int64\n",
      "35    617\n",
      "40    609\n",
      "41    607\n",
      "34    603\n",
      "38    598\n",
      "42    597\n",
      "33    581\n",
      "39    573\n",
      "31    560\n",
      "36    555\n",
      "44    547\n",
      "29    545\n",
      "30    540\n",
      "48    538\n",
      "37    537\n",
      "50    514\n",
      "43    513\n",
      "32    510\n",
      "49    508\n",
      "28    503\n",
      "45    497\n",
      "27    493\n",
      "56    487\n",
      "52    484\n",
      "47    480\n",
      "54    479\n",
      "46    475\n",
      "58    461\n",
      "57    460\n",
      "53    459\n",
      "51    448\n",
      "59    444\n",
      "55    443\n",
      "26    408\n",
      "60    377\n",
      "25    357\n",
      "61    355\n",
      "62    352\n",
      "63    269\n",
      "64    265\n",
      "24    264\n",
      "23    254\n",
      "65    194\n",
      "66    183\n",
      "22    183\n",
      "67    167\n",
      "21    111\n",
      "0     101\n",
      "68     99\n",
      "69     85\n",
      "70     65\n",
      "71     58\n",
      "20     51\n",
      "72     33\n",
      "19     14\n",
      "73      8\n",
      "74      6\n",
      "75      1\n",
      "Name: dob_years, dtype: int64\n",
      "среднее                13750\n",
      "высшее                  4718\n",
      "СРЕДНЕЕ                  772\n",
      "Среднее                  711\n",
      "неоконченное высшее      668\n",
      "ВЫСШЕЕ                   274\n",
      "Высшее                   268\n",
      "начальное                250\n",
      "Неоконченное высшее       47\n",
      "НЕОКОНЧЕННОЕ ВЫСШЕЕ       29\n",
      "НАЧАЛЬНОЕ                 17\n",
      "Начальное                 15\n",
      "ученая степень             4\n",
      "УЧЕНАЯ СТЕПЕНЬ             1\n",
      "Ученая степень             1\n",
      "Name: education, dtype: int64\n",
      "1    15233\n",
      "0     5260\n",
      "2      744\n",
      "3      282\n",
      "4        6\n",
      "Name: education_id, dtype: int64\n",
      "женат / замужем          12380\n",
      "гражданский брак          4177\n",
      "Не женат / не замужем     2813\n",
      "в разводе                 1195\n",
      "вдовец / вдова             960\n",
      "Name: family_status, dtype: int64\n",
      "0    12380\n",
      "1     4177\n",
      "4     2813\n",
      "3     1195\n",
      "2      960\n",
      "Name: family_status_id, dtype: int64\n",
      "F      14236\n",
      "M       7288\n",
      "XNA        1\n",
      "Name: gender, dtype: int64\n",
      "сотрудник          11119\n",
      "компаньон           5085\n",
      "пенсионер           3856\n",
      "госслужащий         1459\n",
      "безработный            2\n",
      "предприниматель        2\n",
      "в декрете              1\n",
      "студент                1\n",
      "Name: income_type, dtype: int64\n",
      "0    19784\n",
      "1     1741\n",
      "Name: debt, dtype: int64\n",
      "1.698464e+05    1\n",
      "2.047768e+05    1\n",
      "1.013426e+05    1\n",
      "1.640952e+05    1\n",
      "1.466457e+05    1\n",
      "               ..\n",
      "1.226802e+05    1\n",
      "1.089120e+06    1\n",
      "9.171984e+04    1\n",
      "2.840557e+05    1\n",
      "1.892553e+05    1\n",
      "Name: total_income, Length: 19351, dtype: int64\n",
      "свадьба                                   797\n",
      "на проведение свадьбы                     777\n",
      "сыграть свадьбу                           774\n",
      "операции с недвижимостью                  676\n",
      "покупка коммерческой недвижимости         664\n",
      "операции с жильем                         653\n",
      "покупка жилья для сдачи                   653\n",
      "операции с коммерческой недвижимостью     651\n",
      "покупка жилья                             647\n",
      "жилье                                     647\n",
      "покупка жилья для семьи                   641\n",
      "строительство собственной недвижимости    635\n",
      "недвижимость                              634\n",
      "операции со своей недвижимостью           630\n",
      "строительство жилой недвижимости          626\n",
      "покупка недвижимости                      624\n",
      "строительство недвижимости                620\n",
      "покупка своего жилья                      620\n",
      "ремонт жилью                              612\n",
      "покупка жилой недвижимости                607\n",
      "на покупку своего автомобиля              505\n",
      "заняться высшим образованием              496\n",
      "автомобиль                                495\n",
      "сделка с подержанным автомобилем          489\n",
      "свой автомобиль                           480\n",
      "на покупку подержанного автомобиля        479\n",
      "автомобили                                478\n",
      "на покупку автомобиля                     472\n",
      "приобретение автомобиля                   462\n",
      "дополнительное образование                462\n",
      "сделка с автомобилем                      455\n",
      "высшее образование                        453\n",
      "образование                               447\n",
      "получение дополнительного образования     447\n",
      "получение образования                     443\n",
      "профильное образование                    436\n",
      "получение высшего образования             426\n",
      "заняться образованием                     412\n",
      "Name: purpose, dtype: int64\n"
     ]
    }
   ],
   "source": [
    "data = pd.read_csv('/datasets/data.csv')\n",
    "data.info()\n",
    "df_ch = data.sort_values('children', ascending = False) # отсортируем данные по количеству детей и сохраним в новой переменной, чтобы не изменять исходные данные \n",
    "df_ch.head(10)\n",
    "for row in df_ch: \n",
    "    print(df_ch[row].value_counts())\n",
    "    "
   ]
  },
  {
   "cell_type": "markdown",
   "metadata": {},
   "source": [
    "**Вывод**"
   ]
  },
  {
   "cell_type": "markdown",
   "metadata": {},
   "source": [
    "В таблице двенадцать столбцов. Тип данных: \n",
    "\n",
    "* float64 - 2 столбца\n",
    "* int64 - 5 стобцов\n",
    "* object - 5 столбцов\n",
    "\n",
    "Согласно документации к данным:\n",
    "\n",
    "* children — количество детей в семье\n",
    "* days_employed — общий трудовой стаж в днях\n",
    "* dob_years — возраст клиента в годах\n",
    "* education — уровень образования клиента\n",
    "* education_id — идентификатор уровня образования\n",
    "* family_status — семейное положение\n",
    "* family_status_id — идентификатор семейного положения\n",
    "* gender — пол клиента\n",
    "* income_type — тип занятости\n",
    "* debt — имел ли задолженность по возврату кредитов\n",
    "* total_income — ежемесячный доход\n",
    "* purpose — цель получения кредита\n",
    "\n",
    "В каждой строке таблицы — данные о заемщике. Предварительно можно утверждать, что, данных достаточно для проверки гипотез. Но встречаются проблемы с данными.\n",
    "\n",
    "* Столбец \"children\". Ошибочные значения \"20\", -1. Поменять на 2 и 0 соответственно\n",
    "* Столбец \"gender\". Строки с пропущенными данными.\n",
    "* Столбец \"education\". Дубликаты в названиях. Привести к одному регистру.\n",
    "* Столбец \"dob_days\". Нулевые значения.\n",
    "* Столбец \"purpose\". Много дубликатов с похожими или идентичными причинами. Требуется объеденить в одинаковые значения.\n",
    "* Столбец \"days_employed\". Положительные и отрицательные значения.\n",
    "* Столбец \"total_income\". Пропущенные значения (2174)\n",
    "* Столбец \"days_employed\". Пропущенные значения (2174)\n",
    "\n",
    "Чтобы двигаться дальше, нужно устранить проблемы в данных."
   ]
  },
  {
   "cell_type": "markdown",
   "metadata": {},
   "source": [
    "## Шаг 2. Предобработка данных"
   ]
  },
  {
   "cell_type": "markdown",
   "metadata": {},
   "source": [
    "### Обработка пропусков"
   ]
  },
  {
   "cell_type": "code",
   "execution_count": 3,
   "metadata": {},
   "outputs": [
    {
     "name": "stdout",
     "output_type": "stream",
     "text": [
      "Пропуски до: 2174\n",
      "Пропуски до: 2174\n"
     ]
    },
    {
     "data": {
      "image/png": "[encoded data removed]",
      "text/plain": [
       "<Figure size 432x288 with 1 Axes>"
      ]
     },
     "metadata": {
      "needs_background": "light"
     },
     "output_type": "display_data"
    }
   ],
   "source": [
    "print('Пропуски до:', df_ch['days_employed'].isna().sum())\n",
    "print('Пропуски до:', df_ch['total_income'].isna().sum())\n",
    "\n",
    "#отметим пропущенные дни в таблице\n",
    "df_ch['missing_days_employed'] = df_ch['days_employed'].isna()\n",
    "df_ch['missing_total_income'] = df_ch['total_income'].isna()\n",
    "\n",
    "df_ch['days_employed'].hist() # выводим гистограмму, чтобы посмотреть разброс данных в рабочих днях (не показывает отрицательные значения)\n",
    "\n",
    "# возвращаем по модулю отрицательные рабочие дни\n",
    "df_ch['days_employed'] = df_ch['days_employed'].apply(abs) \n",
    "\n",
    "# возвращаем по модулю отрицательный заработок\n",
    "df_ch['total_income'] = df_ch['total_income'].apply(abs) \n",
    "\n",
    "# перевели из часов в дни\n",
    "df_ch.loc[data['days_employed'] > 50000, 'days_employed'] = data.loc[data['days_employed'] >300000, 'days_employed'] / 24 "
   ]
  },
  {
   "cell_type": "markdown",
   "metadata": {},
   "source": [
    "Проблема в данных столбца \"days_employed: данные - либо \"маленькие и отрицательные\", либо \"большие и положительные\"\n",
    "Тут, скорее, имело места выгрузка из разных систем, одна из которых считает стаж \"наоборот\" и в часах. \n",
    "\n",
    "По отрицательным данным, вероятен ввод даты вручную. Предположительно, данные отрицательные, потому что перепутали графы \"дата начала труд.стажа\" и \"дата конца труд.стажа\"."
   ]
  },
  {
   "cell_type": "code",
   "execution_count": 4,
   "metadata": {},
   "outputs": [
    {
     "data": {
      "text/html": [
       "<div>\n",
       "<style scoped>\n",
       "    .dataframe tbody tr th:only-of-type {\n",
       "        vertical-align: middle;\n",
       "    }\n",
       "\n",
       "    .dataframe tbody tr th {\n",
       "        vertical-align: top;\n",
       "    }\n",
       "\n",
       "    .dataframe thead th {\n",
       "        text-align: right;\n",
       "    }\n",
       "</style>\n",
       "<table border=\"1\" class=\"dataframe\">\n",
       "  <thead>\n",
       "    <tr style=\"text-align: right;\">\n",
       "      <th></th>\n",
       "      <th>missing_days_employed</th>\n",
       "      <th>missing_total_income</th>\n",
       "    </tr>\n",
       "    <tr>\n",
       "      <th>family_status</th>\n",
       "      <th></th>\n",
       "      <th></th>\n",
       "    </tr>\n",
       "  </thead>\n",
       "  <tbody>\n",
       "    <tr>\n",
       "      <th>гражданский брак</th>\n",
       "      <td>0.105818</td>\n",
       "      <td>0.105818</td>\n",
       "    </tr>\n",
       "    <tr>\n",
       "      <th>Не женат / не замужем</th>\n",
       "      <td>0.102382</td>\n",
       "      <td>0.102382</td>\n",
       "    </tr>\n",
       "    <tr>\n",
       "      <th>женат / замужем</th>\n",
       "      <td>0.099919</td>\n",
       "      <td>0.099919</td>\n",
       "    </tr>\n",
       "    <tr>\n",
       "      <th>вдовец / вдова</th>\n",
       "      <td>0.098958</td>\n",
       "      <td>0.098958</td>\n",
       "    </tr>\n",
       "    <tr>\n",
       "      <th>в разводе</th>\n",
       "      <td>0.093724</td>\n",
       "      <td>0.093724</td>\n",
       "    </tr>\n",
       "  </tbody>\n",
       "</table>\n",
       "</div>"
      ],
      "text/plain": [
       "                       missing_days_employed  missing_total_income\n",
       "family_status                                                     \n",
       "гражданский брак                    0.105818              0.105818\n",
       "Не женат / не замужем               0.102382              0.102382\n",
       "женат / замужем                     0.099919              0.099919\n",
       "вдовец / вдова                      0.098958              0.098958\n",
       "в разводе                           0.093724              0.093724"
      ]
     },
     "metadata": {},
     "output_type": "display_data"
    }
   ],
   "source": [
    "#(df_ch.loc[df_ch['days_employed'] < 0].median()) # медиана отрицательных значений\n",
    "#(df_ch.loc[df_ch['days_employed'] > 0].median()) # медиана положительных значений\n",
    "#(df_ch.loc[df_ch['days_employed'] < 0].median().abs()/df_ch.loc[df_ch['days_employed'] > 0].median()) # соотношение медиан\n",
    "\n",
    "#смотрим количество пропусков по семейному положению\n",
    "display(df_ch.groupby('family_status').agg({'missing_days_employed': 'mean',\n",
    "                                          'missing_total_income': 'mean'}).sort_values(by = 'missing_days_employed', ascending = False))"
   ]
  },
  {
   "cell_type": "code",
   "execution_count": 5,
   "metadata": {},
   "outputs": [
    {
     "data": {
      "text/html": [
       "<div>\n",
       "<style scoped>\n",
       "    .dataframe tbody tr th:only-of-type {\n",
       "        vertical-align: middle;\n",
       "    }\n",
       "\n",
       "    .dataframe tbody tr th {\n",
       "        vertical-align: top;\n",
       "    }\n",
       "\n",
       "    .dataframe thead th {\n",
       "        text-align: right;\n",
       "    }\n",
       "</style>\n",
       "<table border=\"1\" class=\"dataframe\">\n",
       "  <thead>\n",
       "    <tr style=\"text-align: right;\">\n",
       "      <th></th>\n",
       "      <th>missing_days_employed</th>\n",
       "      <th>missing_total_income</th>\n",
       "    </tr>\n",
       "    <tr>\n",
       "      <th>income_type</th>\n",
       "      <th></th>\n",
       "      <th></th>\n",
       "    </tr>\n",
       "  </thead>\n",
       "  <tbody>\n",
       "    <tr>\n",
       "      <th>предприниматель</th>\n",
       "      <td>0.500000</td>\n",
       "      <td>0.500000</td>\n",
       "    </tr>\n",
       "    <tr>\n",
       "      <th>пенсионер</th>\n",
       "      <td>0.107106</td>\n",
       "      <td>0.107106</td>\n",
       "    </tr>\n",
       "    <tr>\n",
       "      <th>госслужащий</th>\n",
       "      <td>0.100754</td>\n",
       "      <td>0.100754</td>\n",
       "    </tr>\n",
       "    <tr>\n",
       "      <th>компаньон</th>\n",
       "      <td>0.099902</td>\n",
       "      <td>0.099902</td>\n",
       "    </tr>\n",
       "    <tr>\n",
       "      <th>сотрудник</th>\n",
       "      <td>0.099379</td>\n",
       "      <td>0.099379</td>\n",
       "    </tr>\n",
       "    <tr>\n",
       "      <th>безработный</th>\n",
       "      <td>0.000000</td>\n",
       "      <td>0.000000</td>\n",
       "    </tr>\n",
       "    <tr>\n",
       "      <th>в декрете</th>\n",
       "      <td>0.000000</td>\n",
       "      <td>0.000000</td>\n",
       "    </tr>\n",
       "    <tr>\n",
       "      <th>студент</th>\n",
       "      <td>0.000000</td>\n",
       "      <td>0.000000</td>\n",
       "    </tr>\n",
       "  </tbody>\n",
       "</table>\n",
       "</div>"
      ],
      "text/plain": [
       "                 missing_days_employed  missing_total_income\n",
       "income_type                                                 \n",
       "предприниматель               0.500000              0.500000\n",
       "пенсионер                     0.107106              0.107106\n",
       "госслужащий                   0.100754              0.100754\n",
       "компаньон                     0.099902              0.099902\n",
       "сотрудник                     0.099379              0.099379\n",
       "безработный                   0.000000              0.000000\n",
       "в декрете                     0.000000              0.000000\n",
       "студент                       0.000000              0.000000"
      ]
     },
     "metadata": {},
     "output_type": "display_data"
    }
   ],
   "source": [
    "#смотрим количество пропусков по типу занятости\n",
    "display(df_ch.groupby('income_type').agg({'missing_days_employed': 'mean',\n",
    "                                         'missing_total_income': 'mean'}).sort_values(by = 'missing_days_employed', ascending = False))"
   ]
  },
  {
   "cell_type": "markdown",
   "metadata": {},
   "source": [
    "Из 21525 значений пропущено 2174. Получается, что стаж и доход не указан примерно для 10% заявителей (безработных, в декрете, студентов и предпринимателей не берем в расчет, их слишком мало). Это значит, что пропуски не зависят от семейного положения и зависят от типа занятости.\n",
    "\n",
    "Пропуски появились у пенсионеров, госслужащих, компаньонов и сотрудников и зависят от типа занятости. Все это - люди, имеющие постоянный доход. Мое предположение, что эти данные скрыты специально. Вероятно, они скрывают дополнительный доход."
   ]
  },
  {
   "cell_type": "code",
   "execution_count": 6,
   "metadata": {},
   "outputs": [
    {
     "data": {
      "text/html": [
       "<div>\n",
       "<style scoped>\n",
       "    .dataframe tbody tr th:only-of-type {\n",
       "        vertical-align: middle;\n",
       "    }\n",
       "\n",
       "    .dataframe tbody tr th {\n",
       "        vertical-align: top;\n",
       "    }\n",
       "\n",
       "    .dataframe thead th {\n",
       "        text-align: right;\n",
       "    }\n",
       "</style>\n",
       "<table border=\"1\" class=\"dataframe\">\n",
       "  <thead>\n",
       "    <tr style=\"text-align: right;\">\n",
       "      <th></th>\n",
       "      <th>education</th>\n",
       "      <th>total_income</th>\n",
       "      <th>days_employed</th>\n",
       "    </tr>\n",
       "    <tr>\n",
       "      <th>family_status</th>\n",
       "      <th></th>\n",
       "      <th></th>\n",
       "      <th></th>\n",
       "    </tr>\n",
       "  </thead>\n",
       "  <tbody>\n",
       "    <tr>\n",
       "      <th>вдовец / вдова</th>\n",
       "      <td>960</td>\n",
       "      <td>128213.686950</td>\n",
       "      <td>14053.619941</td>\n",
       "    </tr>\n",
       "    <tr>\n",
       "      <th>Не женат / не замужем</th>\n",
       "      <td>2813</td>\n",
       "      <td>144681.423262</td>\n",
       "      <td>1462.009287</td>\n",
       "    </tr>\n",
       "    <tr>\n",
       "      <th>гражданский брак</th>\n",
       "      <td>4177</td>\n",
       "      <td>144915.837605</td>\n",
       "      <td>1944.345291</td>\n",
       "    </tr>\n",
       "    <tr>\n",
       "      <th>женат / замужем</th>\n",
       "      <td>12380</td>\n",
       "      <td>146184.627236</td>\n",
       "      <td>2304.964439</td>\n",
       "    </tr>\n",
       "    <tr>\n",
       "      <th>в разводе</th>\n",
       "      <td>1195</td>\n",
       "      <td>146969.347256</td>\n",
       "      <td>2401.954568</td>\n",
       "    </tr>\n",
       "  </tbody>\n",
       "</table>\n",
       "</div>"
      ],
      "text/plain": [
       "                       education   total_income  days_employed\n",
       "family_status                                                 \n",
       "вдовец / вдова               960  128213.686950   14053.619941\n",
       "Не женат / не замужем       2813  144681.423262    1462.009287\n",
       "гражданский брак            4177  144915.837605    1944.345291\n",
       "женат / замужем            12380  146184.627236    2304.964439\n",
       "в разводе                   1195  146969.347256    2401.954568"
      ]
     },
     "metadata": {},
     "output_type": "display_data"
    }
   ],
   "source": [
    "#смотрим медианный доход и медианный стаж по семейному положению\n",
    "display(df_ch.groupby('family_status').agg({'education': 'count', \n",
    "                                            'total_income': 'median',\n",
    "                                            'days_employed': 'median'}).sort_values(by = 'total_income'))"
   ]
  },
  {
   "cell_type": "code",
   "execution_count": 7,
   "metadata": {},
   "outputs": [
    {
     "data": {
      "text/html": [
       "<div>\n",
       "<style scoped>\n",
       "    .dataframe tbody tr th:only-of-type {\n",
       "        vertical-align: middle;\n",
       "    }\n",
       "\n",
       "    .dataframe tbody tr th {\n",
       "        vertical-align: top;\n",
       "    }\n",
       "\n",
       "    .dataframe thead th {\n",
       "        text-align: right;\n",
       "    }\n",
       "</style>\n",
       "<table border=\"1\" class=\"dataframe\">\n",
       "  <thead>\n",
       "    <tr style=\"text-align: right;\">\n",
       "      <th></th>\n",
       "      <th>education</th>\n",
       "      <th>total_income</th>\n",
       "      <th>days_employed</th>\n",
       "    </tr>\n",
       "    <tr>\n",
       "      <th>income_type</th>\n",
       "      <th></th>\n",
       "      <th></th>\n",
       "      <th></th>\n",
       "    </tr>\n",
       "  </thead>\n",
       "  <tbody>\n",
       "    <tr>\n",
       "      <th>в декрете</th>\n",
       "      <td>1</td>\n",
       "      <td>53829.130729</td>\n",
       "      <td>3296.759962</td>\n",
       "    </tr>\n",
       "    <tr>\n",
       "      <th>студент</th>\n",
       "      <td>1</td>\n",
       "      <td>98201.625314</td>\n",
       "      <td>578.751554</td>\n",
       "    </tr>\n",
       "    <tr>\n",
       "      <th>пенсионер</th>\n",
       "      <td>3856</td>\n",
       "      <td>118514.486412</td>\n",
       "      <td>15217.221094</td>\n",
       "    </tr>\n",
       "    <tr>\n",
       "      <th>безработный</th>\n",
       "      <td>2</td>\n",
       "      <td>131339.751676</td>\n",
       "      <td>15267.235531</td>\n",
       "    </tr>\n",
       "    <tr>\n",
       "      <th>сотрудник</th>\n",
       "      <td>11119</td>\n",
       "      <td>142594.396847</td>\n",
       "      <td>1574.202821</td>\n",
       "    </tr>\n",
       "    <tr>\n",
       "      <th>госслужащий</th>\n",
       "      <td>1459</td>\n",
       "      <td>150447.935283</td>\n",
       "      <td>2689.368353</td>\n",
       "    </tr>\n",
       "    <tr>\n",
       "      <th>компаньон</th>\n",
       "      <td>5085</td>\n",
       "      <td>172357.950966</td>\n",
       "      <td>1547.382223</td>\n",
       "    </tr>\n",
       "    <tr>\n",
       "      <th>предприниматель</th>\n",
       "      <td>2</td>\n",
       "      <td>499163.144947</td>\n",
       "      <td>520.848083</td>\n",
       "    </tr>\n",
       "  </tbody>\n",
       "</table>\n",
       "</div>"
      ],
      "text/plain": [
       "                 education   total_income  days_employed\n",
       "income_type                                             \n",
       "в декрете                1   53829.130729    3296.759962\n",
       "студент                  1   98201.625314     578.751554\n",
       "пенсионер             3856  118514.486412   15217.221094\n",
       "безработный              2  131339.751676   15267.235531\n",
       "сотрудник            11119  142594.396847    1574.202821\n",
       "госслужащий           1459  150447.935283    2689.368353\n",
       "компаньон             5085  172357.950966    1547.382223\n",
       "предприниматель          2  499163.144947     520.848083"
      ]
     },
     "metadata": {},
     "output_type": "display_data"
    }
   ],
   "source": [
    "#смотрим медианный доход и медианный стаж по типу занятости\n",
    "display(df_ch.groupby('income_type').agg({'education': 'count',\n",
    "                                          'total_income': 'median',\n",
    "                                          'days_employed': 'median'}).sort_values(by = 'total_income'))"
   ]
  },
  {
   "cell_type": "markdown",
   "metadata": {},
   "source": [
    "Так же, медианный доход по типу занятости различается довольно значительно. А, вот, например, по семейному положению намного меньше."
   ]
  },
  {
   "cell_type": "code",
   "execution_count": 8,
   "metadata": {},
   "outputs": [],
   "source": [
    "#заполним пропуски медианным значением по типу занятости\n",
    "\n",
    "for income in df_ch['income_type'].unique():\n",
    "    median_days = df_ch.loc[df_ch['income_type'] == income, 'days_employed'].median()\n",
    "    median_income = df_ch.loc[df_ch['income_type'] == income,'total_income'].median()\n",
    "    median_years = df_ch.loc[df_ch['income_type'] == income,'dob_years'].median()\n",
    "    df_ch.loc[(df_ch['days_employed'].isna()) & (df_ch['income_type'] == income),'days_employed'] = median_days\n",
    "    df_ch.loc[(df_ch['total_income'].isna()) & (df_ch['income_type'] == income),'total_income'] = median_income\n",
    "    df_ch.loc[(df_ch['dob_years'] == 0) & (df_ch['income_type'] == income),'total_income'] = median_years                                 "
   ]
  },
  {
   "cell_type": "markdown",
   "metadata": {},
   "source": [
    "Заполняя пропуски, мы хотим сохранить параметры распределения заполняемой переменной - математическое ожидание и дисперсию. Самый простой способ это сделать - заполнить средним или медианой. В этом случае сохраняется среднее, но дисперсией приходится пожертвовать."
   ]
  },
  {
   "cell_type": "code",
   "execution_count": 9,
   "metadata": {},
   "outputs": [
    {
     "name": "stdout",
     "output_type": "stream",
     "text": [
      "Пропуски после: 0\n",
      "Пропуски после: 0\n"
     ]
    }
   ],
   "source": [
    "# проверим, что пропуски действительно заполнены\n",
    "\n",
    "print('Пропуски после:', df_ch['days_employed'].isna().sum())\n",
    "print('Пропуски после:', df_ch['total_income'].isna().sum())"
   ]
  },
  {
   "cell_type": "code",
   "execution_count": 10,
   "metadata": {},
   "outputs": [],
   "source": [
    "df_ch['children'] = df_ch['children'].replace(20, 2) # убираем 20 детей"
   ]
  },
  {
   "cell_type": "markdown",
   "metadata": {},
   "source": [
    "20 детей это, очень похоже на опечатку - на клавиатуре 2 и 0 очень близко."
   ]
  },
  {
   "cell_type": "code",
   "execution_count": 11,
   "metadata": {},
   "outputs": [],
   "source": [
    "df_ch['children'] = df_ch['children'].replace(-1, 0) # убираем отрицательных детей"
   ]
  },
  {
   "cell_type": "markdown",
   "metadata": {},
   "source": [
    "-1 это, скорее всего, \"нет детей\". Вероятно, данные в проекте выгружались из нескольких систем и у одной из них, похоже, такой формат записи."
   ]
  },
  {
   "cell_type": "code",
   "execution_count": 12,
   "metadata": {},
   "outputs": [],
   "source": [
    "df_ch[df_ch['gender'] == 'XNA'].count() # узнаем количество пропущенных значений\n",
    "df_ch = df_ch[df_ch['gender'] != 'XNA'] # удалим строку с пропуском "
   ]
  },
  {
   "cell_type": "markdown",
   "metadata": {},
   "source": [
    "Строка с пропуском всего одна, ее удаление не повлияет на дальнейший анализ."
   ]
  },
  {
   "cell_type": "markdown",
   "metadata": {},
   "source": [
    "**Вывод**"
   ]
  },
  {
   "cell_type": "markdown",
   "metadata": {},
   "source": [
    "Во время педобработки данных:\n",
    "\n",
    "* Отметили пропущенные дни в таблице\n",
    "* Вывели гистограмму и посмотрели разброс в рабочих днях\n",
    "* Определили отрицательные значения и причины их появлений \n",
    "* Определили количество пропусков и их зависимоть от типа занятости и независимость их от семейного положения\n",
    "* Заполнили медианными значениями пропуски в рабочих днях и доходе\n",
    "* Определили появление нулевого значения возраста и заполнили его медианой\n",
    "* Предположили появление аномальных значений в количестве детей и исправили аномалию\n",
    "* Определили пропущенное значение в гендере и удалили его за незначительностью выборки"
   ]
  },
  {
   "cell_type": "markdown",
   "metadata": {},
   "source": [
    "### Замена типа данных"
   ]
  },
  {
   "cell_type": "code",
   "execution_count": 13,
   "metadata": {},
   "outputs": [
    {
     "data": {
      "text/html": [
       "<div>\n",
       "<style scoped>\n",
       "    .dataframe tbody tr th:only-of-type {\n",
       "        vertical-align: middle;\n",
       "    }\n",
       "\n",
       "    .dataframe tbody tr th {\n",
       "        vertical-align: top;\n",
       "    }\n",
       "\n",
       "    .dataframe thead th {\n",
       "        text-align: right;\n",
       "    }\n",
       "</style>\n",
       "<table border=\"1\" class=\"dataframe\">\n",
       "  <thead>\n",
       "    <tr style=\"text-align: right;\">\n",
       "      <th></th>\n",
       "      <th>children</th>\n",
       "      <th>days_employed</th>\n",
       "      <th>dob_years</th>\n",
       "      <th>education</th>\n",
       "      <th>education_id</th>\n",
       "      <th>family_status</th>\n",
       "      <th>family_status_id</th>\n",
       "      <th>gender</th>\n",
       "      <th>income_type</th>\n",
       "      <th>debt</th>\n",
       "      <th>total_income</th>\n",
       "      <th>purpose</th>\n",
       "      <th>missing_days_employed</th>\n",
       "      <th>missing_total_income</th>\n",
       "    </tr>\n",
       "  </thead>\n",
       "  <tbody>\n",
       "    <tr>\n",
       "      <th>19562</th>\n",
       "      <td>2</td>\n",
       "      <td>721</td>\n",
       "      <td>30</td>\n",
       "      <td>неоконченное высшее</td>\n",
       "      <td>2</td>\n",
       "      <td>гражданский брак</td>\n",
       "      <td>1</td>\n",
       "      <td>F</td>\n",
       "      <td>компаньон</td>\n",
       "      <td>0</td>\n",
       "      <td>133319</td>\n",
       "      <td>сыграть свадьбу</td>\n",
       "      <td>False</td>\n",
       "      <td>False</td>\n",
       "    </tr>\n",
       "    <tr>\n",
       "      <th>11715</th>\n",
       "      <td>2</td>\n",
       "      <td>1034</td>\n",
       "      <td>43</td>\n",
       "      <td>среднее</td>\n",
       "      <td>1</td>\n",
       "      <td>женат / замужем</td>\n",
       "      <td>0</td>\n",
       "      <td>M</td>\n",
       "      <td>сотрудник</td>\n",
       "      <td>0</td>\n",
       "      <td>220771</td>\n",
       "      <td>свой автомобиль</td>\n",
       "      <td>False</td>\n",
       "      <td>False</td>\n",
       "    </tr>\n",
       "    <tr>\n",
       "      <th>3302</th>\n",
       "      <td>2</td>\n",
       "      <td>2689</td>\n",
       "      <td>35</td>\n",
       "      <td>среднее</td>\n",
       "      <td>1</td>\n",
       "      <td>Не женат / не замужем</td>\n",
       "      <td>4</td>\n",
       "      <td>F</td>\n",
       "      <td>госслужащий</td>\n",
       "      <td>0</td>\n",
       "      <td>150447</td>\n",
       "      <td>профильное образование</td>\n",
       "      <td>True</td>\n",
       "      <td>True</td>\n",
       "    </tr>\n",
       "    <tr>\n",
       "      <th>5315</th>\n",
       "      <td>2</td>\n",
       "      <td>2047</td>\n",
       "      <td>24</td>\n",
       "      <td>среднее</td>\n",
       "      <td>1</td>\n",
       "      <td>женат / замужем</td>\n",
       "      <td>0</td>\n",
       "      <td>F</td>\n",
       "      <td>сотрудник</td>\n",
       "      <td>0</td>\n",
       "      <td>100415</td>\n",
       "      <td>покупка коммерческой недвижимости</td>\n",
       "      <td>False</td>\n",
       "      <td>False</td>\n",
       "    </tr>\n",
       "    <tr>\n",
       "      <th>13489</th>\n",
       "      <td>2</td>\n",
       "      <td>16052</td>\n",
       "      <td>62</td>\n",
       "      <td>среднее</td>\n",
       "      <td>1</td>\n",
       "      <td>гражданский брак</td>\n",
       "      <td>1</td>\n",
       "      <td>F</td>\n",
       "      <td>пенсионер</td>\n",
       "      <td>0</td>\n",
       "      <td>192221</td>\n",
       "      <td>операции с коммерческой недвижимостью</td>\n",
       "      <td>False</td>\n",
       "      <td>False</td>\n",
       "    </tr>\n",
       "    <tr>\n",
       "      <th>13471</th>\n",
       "      <td>2</td>\n",
       "      <td>630</td>\n",
       "      <td>44</td>\n",
       "      <td>ВЫСШЕЕ</td>\n",
       "      <td>0</td>\n",
       "      <td>женат / замужем</td>\n",
       "      <td>0</td>\n",
       "      <td>M</td>\n",
       "      <td>компаньон</td>\n",
       "      <td>0</td>\n",
       "      <td>245019</td>\n",
       "      <td>дополнительное образование</td>\n",
       "      <td>False</td>\n",
       "      <td>False</td>\n",
       "    </tr>\n",
       "    <tr>\n",
       "      <th>15976</th>\n",
       "      <td>2</td>\n",
       "      <td>1574</td>\n",
       "      <td>39</td>\n",
       "      <td>среднее</td>\n",
       "      <td>1</td>\n",
       "      <td>Не женат / не замужем</td>\n",
       "      <td>4</td>\n",
       "      <td>F</td>\n",
       "      <td>сотрудник</td>\n",
       "      <td>0</td>\n",
       "      <td>142594</td>\n",
       "      <td>покупка недвижимости</td>\n",
       "      <td>True</td>\n",
       "      <td>True</td>\n",
       "    </tr>\n",
       "    <tr>\n",
       "      <th>8430</th>\n",
       "      <td>2</td>\n",
       "      <td>15217</td>\n",
       "      <td>60</td>\n",
       "      <td>среднее</td>\n",
       "      <td>1</td>\n",
       "      <td>вдовец / вдова</td>\n",
       "      <td>2</td>\n",
       "      <td>F</td>\n",
       "      <td>пенсионер</td>\n",
       "      <td>0</td>\n",
       "      <td>118514</td>\n",
       "      <td>покупка жилья</td>\n",
       "      <td>True</td>\n",
       "      <td>True</td>\n",
       "    </tr>\n",
       "    <tr>\n",
       "      <th>14355</th>\n",
       "      <td>2</td>\n",
       "      <td>15771</td>\n",
       "      <td>56</td>\n",
       "      <td>среднее</td>\n",
       "      <td>1</td>\n",
       "      <td>женат / замужем</td>\n",
       "      <td>0</td>\n",
       "      <td>F</td>\n",
       "      <td>пенсионер</td>\n",
       "      <td>0</td>\n",
       "      <td>127947</td>\n",
       "      <td>сделка с подержанным автомобилем</td>\n",
       "      <td>False</td>\n",
       "      <td>False</td>\n",
       "    </tr>\n",
       "    <tr>\n",
       "      <th>13256</th>\n",
       "      <td>2</td>\n",
       "      <td>542</td>\n",
       "      <td>46</td>\n",
       "      <td>среднее</td>\n",
       "      <td>1</td>\n",
       "      <td>женат / замужем</td>\n",
       "      <td>0</td>\n",
       "      <td>F</td>\n",
       "      <td>сотрудник</td>\n",
       "      <td>0</td>\n",
       "      <td>84405</td>\n",
       "      <td>операции с недвижимостью</td>\n",
       "      <td>False</td>\n",
       "      <td>False</td>\n",
       "    </tr>\n",
       "  </tbody>\n",
       "</table>\n",
       "</div>"
      ],
      "text/plain": [
       "       children  days_employed  dob_years            education  education_id  \\\n",
       "19562         2            721         30  неоконченное высшее             2   \n",
       "11715         2           1034         43              среднее             1   \n",
       "3302          2           2689         35              среднее             1   \n",
       "5315          2           2047         24              среднее             1   \n",
       "13489         2          16052         62              среднее             1   \n",
       "13471         2            630         44               ВЫСШЕЕ             0   \n",
       "15976         2           1574         39              среднее             1   \n",
       "8430          2          15217         60              среднее             1   \n",
       "14355         2          15771         56              среднее             1   \n",
       "13256         2            542         46              среднее             1   \n",
       "\n",
       "               family_status  family_status_id gender  income_type  debt  \\\n",
       "19562       гражданский брак                 1      F    компаньон     0   \n",
       "11715        женат / замужем                 0      M    сотрудник     0   \n",
       "3302   Не женат / не замужем                 4      F  госслужащий     0   \n",
       "5315         женат / замужем                 0      F    сотрудник     0   \n",
       "13489       гражданский брак                 1      F    пенсионер     0   \n",
       "13471        женат / замужем                 0      M    компаньон     0   \n",
       "15976  Не женат / не замужем                 4      F    сотрудник     0   \n",
       "8430          вдовец / вдова                 2      F    пенсионер     0   \n",
       "14355        женат / замужем                 0      F    пенсионер     0   \n",
       "13256        женат / замужем                 0      F    сотрудник     0   \n",
       "\n",
       "       total_income                                purpose  \\\n",
       "19562        133319                        сыграть свадьбу   \n",
       "11715        220771                        свой автомобиль   \n",
       "3302         150447                 профильное образование   \n",
       "5315         100415      покупка коммерческой недвижимости   \n",
       "13489        192221  операции с коммерческой недвижимостью   \n",
       "13471        245019             дополнительное образование   \n",
       "15976        142594                   покупка недвижимости   \n",
       "8430         118514                          покупка жилья   \n",
       "14355        127947       сделка с подержанным автомобилем   \n",
       "13256         84405               операции с недвижимостью   \n",
       "\n",
       "       missing_days_employed  missing_total_income  \n",
       "19562                  False                 False  \n",
       "11715                  False                 False  \n",
       "3302                    True                  True  \n",
       "5315                   False                 False  \n",
       "13489                  False                 False  \n",
       "13471                  False                 False  \n",
       "15976                   True                  True  \n",
       "8430                    True                  True  \n",
       "14355                  False                 False  \n",
       "13256                  False                 False  "
      ]
     },
     "execution_count": 13,
     "metadata": {},
     "output_type": "execute_result"
    }
   ],
   "source": [
    "df_ch['days_employed'] = df_ch['days_employed'].astype(int) # обрезаем до полных отработанных дней, заменяя значение float на int\n",
    "df_ch['total_income'] = df_ch['total_income'].astype(int)\n",
    "df_ch.head(10)"
   ]
  },
  {
   "cell_type": "markdown",
   "metadata": {},
   "source": [
    "**Вывод**\n",
    "\n",
    "6 знаков после запятой в общем трудовом стаже, а так же в доходе за месяц не имеют для данного анализа практической значимости, но на такие данные тяжело смотреть, проще иметь дело с целыми числами."
   ]
  },
  {
   "cell_type": "markdown",
   "metadata": {},
   "source": [
    "\n",
    "\n"
   ]
  },
  {
   "cell_type": "markdown",
   "metadata": {},
   "source": [
    "### Обработка дубликатов"
   ]
  },
  {
   "cell_type": "code",
   "execution_count": 14,
   "metadata": {},
   "outputs": [
    {
     "name": "stdout",
     "output_type": "stream",
     "text": [
      "71\n"
     ]
    }
   ],
   "source": [
    "df_ch['education'] = df_ch['education'].str.lower() # убираем прописные буквы в образовании\n",
    "\n",
    "print(df_ch.duplicated().sum()) # ищем явные дубликаты\n",
    "df_ch = df_ch.drop_duplicates().reset_index(drop=True) # удаляем их"
   ]
  },
  {
   "cell_type": "markdown",
   "metadata": {},
   "source": [
    "**Вывод**"
   ]
  },
  {
   "cell_type": "markdown",
   "metadata": {},
   "source": [
    "* Из таблицы удален 71 явный дубликат методом drop_duplicates() с новой индексацией. \n",
    "* Методом .str.lower() удалены неявные дубликаты в колонке \"образование\".\n",
    "\n",
    "Явные дубликаты могли возникнуть из-за технического сбоя и \"задвоиться\" в таблице. Неявные дубликаты, вероятнее всего появились из-за склейки нескольких таблиц с названиями столбцов в разном регистре."
   ]
  },
  {
   "cell_type": "markdown",
   "metadata": {},
   "source": [
    "### Лемматизация"
   ]
  },
  {
   "cell_type": "code",
   "execution_count": 15,
   "metadata": {},
   "outputs": [
    {
     "data": {
      "text/plain": [
       "array(['сыграть   свадьба \\n', 'свой   автомобиль \\n',\n",
       "       'профильный   образование \\n',\n",
       "       'покупка   коммерческий   недвижимость \\n',\n",
       "       'операция   с   коммерческий   недвижимость \\n',\n",
       "       'дополнительный   образование \\n', 'покупка   недвижимость \\n',\n",
       "       'покупка   жилье \\n', 'сделка   с   подержанный   автомобиль \\n',\n",
       "       'операция   с   недвижимость \\n', 'высокий   образование \\n',\n",
       "       'строительство   собственный   недвижимость \\n',\n",
       "       'на   покупка   подержать   автомобиль \\n', 'образование \\n',\n",
       "       'покупка   жилье   для   семья \\n', 'операция   с   жилье \\n',\n",
       "       'строительство   жилой   недвижимость \\n', 'жилье \\n',\n",
       "       'получение   образование \\n',\n",
       "       'получение   дополнительный   образование \\n',\n",
       "       'на   проведение   свадьба \\n', 'автомобиль \\n',\n",
       "       'ремонт   жилье \\n', 'операция   со   свой   недвижимость \\n',\n",
       "       'на   покупка   автомобиль \\n', 'свадьба \\n',\n",
       "       'покупка   жилье   для   сдача \\n', 'недвижимость \\n',\n",
       "       'покупка   жилой   недвижимость \\n',\n",
       "       'получение   высокий   образование \\n',\n",
       "       'заниматься   высокий   образование \\n',\n",
       "       'на   покупка   свой   автомобиль \\n',\n",
       "       'заниматься   образование \\n', 'покупка   свой   жилье \\n',\n",
       "       'строительство   недвижимость \\n', 'сделка   с   автомобиль \\n',\n",
       "       'приобретение   автомобиль \\n'], dtype=object)"
      ]
     },
     "execution_count": 15,
     "metadata": {},
     "output_type": "execute_result"
    }
   ],
   "source": [
    "#создадим функцию которая возвращает строку с ключевыми словами цели кредита\n",
    "def lemma_pur(purpose):\n",
    "    lemma = ' ' .join(m.lemmatize(purpose))\n",
    "    return lemma\n",
    "\n",
    "df_ch['purpose_word'] = df_ch['purpose'].apply(lemma_pur)\n",
    "\n",
    "#уникальные значения\n",
    "df_ch['purpose_word'].unique()"
   ]
  },
  {
   "cell_type": "markdown",
   "metadata": {},
   "source": [
    "**Вывод**"
   ]
  },
  {
   "cell_type": "markdown",
   "metadata": {},
   "source": [
    "После выделения ключевых слов обнаружены 6 основных категорий:\n",
    "* автомобиль \n",
    "* образование \n",
    "* свадьба\n",
    "* недвижимость \n",
    "* строительство \n",
    "* жилье "
   ]
  },
  {
   "cell_type": "markdown",
   "metadata": {},
   "source": [
    "### Категоризация данных"
   ]
  },
  {
   "cell_type": "code",
   "execution_count": 16,
   "metadata": {},
   "outputs": [
    {
     "data": {
      "text/html": [
       "<div>\n",
       "<style scoped>\n",
       "    .dataframe tbody tr th:only-of-type {\n",
       "        vertical-align: middle;\n",
       "    }\n",
       "\n",
       "    .dataframe tbody tr th {\n",
       "        vertical-align: top;\n",
       "    }\n",
       "\n",
       "    .dataframe thead th {\n",
       "        text-align: right;\n",
       "    }\n",
       "</style>\n",
       "<table border=\"1\" class=\"dataframe\">\n",
       "  <thead>\n",
       "    <tr style=\"text-align: right;\">\n",
       "      <th></th>\n",
       "      <th>children</th>\n",
       "      <th>days_employed</th>\n",
       "      <th>dob_years</th>\n",
       "      <th>education</th>\n",
       "      <th>education_id</th>\n",
       "      <th>family_status</th>\n",
       "      <th>family_status_id</th>\n",
       "      <th>gender</th>\n",
       "      <th>income_type</th>\n",
       "      <th>debt</th>\n",
       "      <th>total_income</th>\n",
       "      <th>purpose</th>\n",
       "      <th>missing_days_employed</th>\n",
       "      <th>missing_total_income</th>\n",
       "      <th>purpose_word</th>\n",
       "      <th>purpose_cat</th>\n",
       "    </tr>\n",
       "  </thead>\n",
       "  <tbody>\n",
       "    <tr>\n",
       "      <th>0</th>\n",
       "      <td>2</td>\n",
       "      <td>721</td>\n",
       "      <td>30</td>\n",
       "      <td>неоконченное высшее</td>\n",
       "      <td>2</td>\n",
       "      <td>гражданский брак</td>\n",
       "      <td>1</td>\n",
       "      <td>F</td>\n",
       "      <td>компаньон</td>\n",
       "      <td>0</td>\n",
       "      <td>133319</td>\n",
       "      <td>сыграть свадьбу</td>\n",
       "      <td>False</td>\n",
       "      <td>False</td>\n",
       "      <td>сыграть   свадьба \\n</td>\n",
       "      <td>свадьба</td>\n",
       "    </tr>\n",
       "    <tr>\n",
       "      <th>1</th>\n",
       "      <td>2</td>\n",
       "      <td>1034</td>\n",
       "      <td>43</td>\n",
       "      <td>среднее</td>\n",
       "      <td>1</td>\n",
       "      <td>женат / замужем</td>\n",
       "      <td>0</td>\n",
       "      <td>M</td>\n",
       "      <td>сотрудник</td>\n",
       "      <td>0</td>\n",
       "      <td>220771</td>\n",
       "      <td>свой автомобиль</td>\n",
       "      <td>False</td>\n",
       "      <td>False</td>\n",
       "      <td>свой   автомобиль \\n</td>\n",
       "      <td>автомобиль</td>\n",
       "    </tr>\n",
       "    <tr>\n",
       "      <th>2</th>\n",
       "      <td>2</td>\n",
       "      <td>2689</td>\n",
       "      <td>35</td>\n",
       "      <td>среднее</td>\n",
       "      <td>1</td>\n",
       "      <td>Не женат / не замужем</td>\n",
       "      <td>4</td>\n",
       "      <td>F</td>\n",
       "      <td>госслужащий</td>\n",
       "      <td>0</td>\n",
       "      <td>150447</td>\n",
       "      <td>профильное образование</td>\n",
       "      <td>True</td>\n",
       "      <td>True</td>\n",
       "      <td>профильный   образование \\n</td>\n",
       "      <td>образование</td>\n",
       "    </tr>\n",
       "    <tr>\n",
       "      <th>3</th>\n",
       "      <td>2</td>\n",
       "      <td>2047</td>\n",
       "      <td>24</td>\n",
       "      <td>среднее</td>\n",
       "      <td>1</td>\n",
       "      <td>женат / замужем</td>\n",
       "      <td>0</td>\n",
       "      <td>F</td>\n",
       "      <td>сотрудник</td>\n",
       "      <td>0</td>\n",
       "      <td>100415</td>\n",
       "      <td>покупка коммерческой недвижимости</td>\n",
       "      <td>False</td>\n",
       "      <td>False</td>\n",
       "      <td>покупка   коммерческий   недвижимость \\n</td>\n",
       "      <td>недвижимость</td>\n",
       "    </tr>\n",
       "    <tr>\n",
       "      <th>4</th>\n",
       "      <td>2</td>\n",
       "      <td>16052</td>\n",
       "      <td>62</td>\n",
       "      <td>среднее</td>\n",
       "      <td>1</td>\n",
       "      <td>гражданский брак</td>\n",
       "      <td>1</td>\n",
       "      <td>F</td>\n",
       "      <td>пенсионер</td>\n",
       "      <td>0</td>\n",
       "      <td>192221</td>\n",
       "      <td>операции с коммерческой недвижимостью</td>\n",
       "      <td>False</td>\n",
       "      <td>False</td>\n",
       "      <td>операция   с   коммерческий   недвижимость \\n</td>\n",
       "      <td>недвижимость</td>\n",
       "    </tr>\n",
       "  </tbody>\n",
       "</table>\n",
       "</div>"
      ],
      "text/plain": [
       "   children  days_employed  dob_years            education  education_id  \\\n",
       "0         2            721         30  неоконченное высшее             2   \n",
       "1         2           1034         43              среднее             1   \n",
       "2         2           2689         35              среднее             1   \n",
       "3         2           2047         24              среднее             1   \n",
       "4         2          16052         62              среднее             1   \n",
       "\n",
       "           family_status  family_status_id gender  income_type  debt  \\\n",
       "0       гражданский брак                 1      F    компаньон     0   \n",
       "1        женат / замужем                 0      M    сотрудник     0   \n",
       "2  Не женат / не замужем                 4      F  госслужащий     0   \n",
       "3        женат / замужем                 0      F    сотрудник     0   \n",
       "4       гражданский брак                 1      F    пенсионер     0   \n",
       "\n",
       "   total_income                                purpose  missing_days_employed  \\\n",
       "0        133319                        сыграть свадьбу                  False   \n",
       "1        220771                        свой автомобиль                  False   \n",
       "2        150447                 профильное образование                   True   \n",
       "3        100415      покупка коммерческой недвижимости                  False   \n",
       "4        192221  операции с коммерческой недвижимостью                  False   \n",
       "\n",
       "   missing_total_income                                   purpose_word  \\\n",
       "0                 False                           сыграть   свадьба \\n   \n",
       "1                 False                           свой   автомобиль \\n   \n",
       "2                  True                    профильный   образование \\n   \n",
       "3                 False       покупка   коммерческий   недвижимость \\n   \n",
       "4                 False  операция   с   коммерческий   недвижимость \\n   \n",
       "\n",
       "    purpose_cat  \n",
       "0       свадьба  \n",
       "1    автомобиль  \n",
       "2   образование  \n",
       "3  недвижимость  \n",
       "4  недвижимость  "
      ]
     },
     "execution_count": 16,
     "metadata": {},
     "output_type": "execute_result"
    }
   ],
   "source": [
    "# Создадим новый столбец (purpose_cat) с категориями на основании результатов лемматизации\n",
    "def purpose_cat(list):\n",
    "    if 'автомобиль' in list:\n",
    "        return \"автомобиль\"\n",
    "    if \"образование\" in list:\n",
    "        return \"образование\"\n",
    "    if \"свадьба\" in list:\n",
    "        return \"свадьба\"\n",
    "    if \"недвижимость\" in list:\n",
    "        return \"недвижимость\"\n",
    "    if \"строительство\" in list:\n",
    "        return \"строительство\"\n",
    "    if \"жилье\" in list:\n",
    "        return \"жилье\"\n",
    "df_ch['purpose_cat'] = df_ch['purpose_word'].apply(purpose_cat)\n",
    "df_ch.head()"
   ]
  },
  {
   "cell_type": "code",
   "execution_count": 17,
   "metadata": {},
   "outputs": [
    {
     "data": {
      "text/html": [
       "<div>\n",
       "<style scoped>\n",
       "    .dataframe tbody tr th:only-of-type {\n",
       "        vertical-align: middle;\n",
       "    }\n",
       "\n",
       "    .dataframe tbody tr th {\n",
       "        vertical-align: top;\n",
       "    }\n",
       "\n",
       "    .dataframe thead th {\n",
       "        text-align: right;\n",
       "    }\n",
       "</style>\n",
       "<table border=\"1\" class=\"dataframe\">\n",
       "  <thead>\n",
       "    <tr style=\"text-align: right;\">\n",
       "      <th></th>\n",
       "      <th>children</th>\n",
       "      <th>days_employed</th>\n",
       "      <th>dob_years</th>\n",
       "      <th>education</th>\n",
       "      <th>education_id</th>\n",
       "      <th>family_status</th>\n",
       "      <th>family_status_id</th>\n",
       "      <th>gender</th>\n",
       "      <th>income_type</th>\n",
       "      <th>debt</th>\n",
       "      <th>total_income</th>\n",
       "      <th>purpose</th>\n",
       "      <th>missing_days_employed</th>\n",
       "      <th>missing_total_income</th>\n",
       "      <th>purpose_word</th>\n",
       "      <th>purpose_cat</th>\n",
       "      <th>income_gr</th>\n",
       "    </tr>\n",
       "  </thead>\n",
       "  <tbody>\n",
       "    <tr>\n",
       "      <th>0</th>\n",
       "      <td>2</td>\n",
       "      <td>721</td>\n",
       "      <td>30</td>\n",
       "      <td>неоконченное высшее</td>\n",
       "      <td>2</td>\n",
       "      <td>гражданский брак</td>\n",
       "      <td>1</td>\n",
       "      <td>F</td>\n",
       "      <td>компаньон</td>\n",
       "      <td>0</td>\n",
       "      <td>133319</td>\n",
       "      <td>сыграть свадьбу</td>\n",
       "      <td>False</td>\n",
       "      <td>False</td>\n",
       "      <td>сыграть   свадьба \\n</td>\n",
       "      <td>свадьба</td>\n",
       "      <td>Доход 120-200</td>\n",
       "    </tr>\n",
       "    <tr>\n",
       "      <th>1</th>\n",
       "      <td>2</td>\n",
       "      <td>1034</td>\n",
       "      <td>43</td>\n",
       "      <td>среднее</td>\n",
       "      <td>1</td>\n",
       "      <td>женат / замужем</td>\n",
       "      <td>0</td>\n",
       "      <td>M</td>\n",
       "      <td>сотрудник</td>\n",
       "      <td>0</td>\n",
       "      <td>220771</td>\n",
       "      <td>свой автомобиль</td>\n",
       "      <td>False</td>\n",
       "      <td>False</td>\n",
       "      <td>свой   автомобиль \\n</td>\n",
       "      <td>автомобиль</td>\n",
       "      <td>Доход &gt; 200</td>\n",
       "    </tr>\n",
       "    <tr>\n",
       "      <th>2</th>\n",
       "      <td>2</td>\n",
       "      <td>2689</td>\n",
       "      <td>35</td>\n",
       "      <td>среднее</td>\n",
       "      <td>1</td>\n",
       "      <td>Не женат / не замужем</td>\n",
       "      <td>4</td>\n",
       "      <td>F</td>\n",
       "      <td>госслужащий</td>\n",
       "      <td>0</td>\n",
       "      <td>150447</td>\n",
       "      <td>профильное образование</td>\n",
       "      <td>True</td>\n",
       "      <td>True</td>\n",
       "      <td>профильный   образование \\n</td>\n",
       "      <td>образование</td>\n",
       "      <td>Доход 120-200</td>\n",
       "    </tr>\n",
       "    <tr>\n",
       "      <th>3</th>\n",
       "      <td>2</td>\n",
       "      <td>2047</td>\n",
       "      <td>24</td>\n",
       "      <td>среднее</td>\n",
       "      <td>1</td>\n",
       "      <td>женат / замужем</td>\n",
       "      <td>0</td>\n",
       "      <td>F</td>\n",
       "      <td>сотрудник</td>\n",
       "      <td>0</td>\n",
       "      <td>100415</td>\n",
       "      <td>покупка коммерческой недвижимости</td>\n",
       "      <td>False</td>\n",
       "      <td>False</td>\n",
       "      <td>покупка   коммерческий   недвижимость \\n</td>\n",
       "      <td>недвижимость</td>\n",
       "      <td>Доход 55-20</td>\n",
       "    </tr>\n",
       "    <tr>\n",
       "      <th>4</th>\n",
       "      <td>2</td>\n",
       "      <td>16052</td>\n",
       "      <td>62</td>\n",
       "      <td>среднее</td>\n",
       "      <td>1</td>\n",
       "      <td>гражданский брак</td>\n",
       "      <td>1</td>\n",
       "      <td>F</td>\n",
       "      <td>пенсионер</td>\n",
       "      <td>0</td>\n",
       "      <td>192221</td>\n",
       "      <td>операции с коммерческой недвижимостью</td>\n",
       "      <td>False</td>\n",
       "      <td>False</td>\n",
       "      <td>операция   с   коммерческий   недвижимость \\n</td>\n",
       "      <td>недвижимость</td>\n",
       "      <td>Доход 120-200</td>\n",
       "    </tr>\n",
       "  </tbody>\n",
       "</table>\n",
       "</div>"
      ],
      "text/plain": [
       "   children  days_employed  dob_years            education  education_id  \\\n",
       "0         2            721         30  неоконченное высшее             2   \n",
       "1         2           1034         43              среднее             1   \n",
       "2         2           2689         35              среднее             1   \n",
       "3         2           2047         24              среднее             1   \n",
       "4         2          16052         62              среднее             1   \n",
       "\n",
       "           family_status  family_status_id gender  income_type  debt  \\\n",
       "0       гражданский брак                 1      F    компаньон     0   \n",
       "1        женат / замужем                 0      M    сотрудник     0   \n",
       "2  Не женат / не замужем                 4      F  госслужащий     0   \n",
       "3        женат / замужем                 0      F    сотрудник     0   \n",
       "4       гражданский брак                 1      F    пенсионер     0   \n",
       "\n",
       "   total_income                                purpose  missing_days_employed  \\\n",
       "0        133319                        сыграть свадьбу                  False   \n",
       "1        220771                        свой автомобиль                  False   \n",
       "2        150447                 профильное образование                   True   \n",
       "3        100415      покупка коммерческой недвижимости                  False   \n",
       "4        192221  операции с коммерческой недвижимостью                  False   \n",
       "\n",
       "   missing_total_income                                   purpose_word  \\\n",
       "0                 False                           сыграть   свадьба \\n   \n",
       "1                 False                           свой   автомобиль \\n   \n",
       "2                  True                    профильный   образование \\n   \n",
       "3                 False       покупка   коммерческий   недвижимость \\n   \n",
       "4                 False  операция   с   коммерческий   недвижимость \\n   \n",
       "\n",
       "    purpose_cat      income_gr  \n",
       "0       свадьба  Доход 120-200  \n",
       "1    автомобиль    Доход > 200  \n",
       "2   образование  Доход 120-200  \n",
       "3  недвижимость    Доход 55-20  \n",
       "4  недвижимость  Доход 120-200  "
      ]
     },
     "execution_count": 17,
     "metadata": {},
     "output_type": "execute_result"
    }
   ],
   "source": [
    "# Сгрупируем данные о доходе в месяц \n",
    "\n",
    "def income_group(row):\n",
    "    income = row['total_income']\n",
    "    if income <= 55000:\n",
    "        return 'Доход 15-55' \n",
    "    if income <= 120000 and income > 55000:\n",
    "        return 'Доход 55-20'    \n",
    "    if income <= 200000 and income > 120000:\n",
    "        return 'Доход 120-200'    \n",
    "    if income <= 4000000 and income > 200000:\n",
    "        return 'Доход > 200'\n",
    "df_ch['income_gr'] = df_ch.apply(income_group, axis=1)    \n",
    "df_ch.head()"
   ]
  },
  {
   "cell_type": "code",
   "execution_count": 18,
   "metadata": {},
   "outputs": [
    {
     "data": {
      "text/html": [
       "<div>\n",
       "<style scoped>\n",
       "    .dataframe tbody tr th:only-of-type {\n",
       "        vertical-align: middle;\n",
       "    }\n",
       "\n",
       "    .dataframe tbody tr th {\n",
       "        vertical-align: top;\n",
       "    }\n",
       "\n",
       "    .dataframe thead th {\n",
       "        text-align: right;\n",
       "    }\n",
       "</style>\n",
       "<table border=\"1\" class=\"dataframe\">\n",
       "  <thead>\n",
       "    <tr style=\"text-align: right;\">\n",
       "      <th></th>\n",
       "      <th>children</th>\n",
       "      <th>days_employed</th>\n",
       "      <th>dob_years</th>\n",
       "      <th>education</th>\n",
       "      <th>education_id</th>\n",
       "      <th>family_status</th>\n",
       "      <th>family_status_id</th>\n",
       "      <th>gender</th>\n",
       "      <th>income_type</th>\n",
       "      <th>debt</th>\n",
       "      <th>total_income</th>\n",
       "      <th>purpose</th>\n",
       "      <th>missing_days_employed</th>\n",
       "      <th>missing_total_income</th>\n",
       "      <th>purpose_word</th>\n",
       "      <th>purpose_cat</th>\n",
       "      <th>income_gr</th>\n",
       "      <th>children_gr</th>\n",
       "    </tr>\n",
       "  </thead>\n",
       "  <tbody>\n",
       "    <tr>\n",
       "      <th>0</th>\n",
       "      <td>2</td>\n",
       "      <td>721</td>\n",
       "      <td>30</td>\n",
       "      <td>неоконченное высшее</td>\n",
       "      <td>2</td>\n",
       "      <td>гражданский брак</td>\n",
       "      <td>1</td>\n",
       "      <td>F</td>\n",
       "      <td>компаньон</td>\n",
       "      <td>0</td>\n",
       "      <td>133319</td>\n",
       "      <td>сыграть свадьбу</td>\n",
       "      <td>False</td>\n",
       "      <td>False</td>\n",
       "      <td>сыграть   свадьба \\n</td>\n",
       "      <td>свадьба</td>\n",
       "      <td>Доход 120-200</td>\n",
       "      <td>2 ребенка</td>\n",
       "    </tr>\n",
       "    <tr>\n",
       "      <th>1</th>\n",
       "      <td>2</td>\n",
       "      <td>1034</td>\n",
       "      <td>43</td>\n",
       "      <td>среднее</td>\n",
       "      <td>1</td>\n",
       "      <td>женат / замужем</td>\n",
       "      <td>0</td>\n",
       "      <td>M</td>\n",
       "      <td>сотрудник</td>\n",
       "      <td>0</td>\n",
       "      <td>220771</td>\n",
       "      <td>свой автомобиль</td>\n",
       "      <td>False</td>\n",
       "      <td>False</td>\n",
       "      <td>свой   автомобиль \\n</td>\n",
       "      <td>автомобиль</td>\n",
       "      <td>Доход &gt; 200</td>\n",
       "      <td>2 ребенка</td>\n",
       "    </tr>\n",
       "    <tr>\n",
       "      <th>2</th>\n",
       "      <td>2</td>\n",
       "      <td>2689</td>\n",
       "      <td>35</td>\n",
       "      <td>среднее</td>\n",
       "      <td>1</td>\n",
       "      <td>Не женат / не замужем</td>\n",
       "      <td>4</td>\n",
       "      <td>F</td>\n",
       "      <td>госслужащий</td>\n",
       "      <td>0</td>\n",
       "      <td>150447</td>\n",
       "      <td>профильное образование</td>\n",
       "      <td>True</td>\n",
       "      <td>True</td>\n",
       "      <td>профильный   образование \\n</td>\n",
       "      <td>образование</td>\n",
       "      <td>Доход 120-200</td>\n",
       "      <td>2 ребенка</td>\n",
       "    </tr>\n",
       "    <tr>\n",
       "      <th>3</th>\n",
       "      <td>2</td>\n",
       "      <td>2047</td>\n",
       "      <td>24</td>\n",
       "      <td>среднее</td>\n",
       "      <td>1</td>\n",
       "      <td>женат / замужем</td>\n",
       "      <td>0</td>\n",
       "      <td>F</td>\n",
       "      <td>сотрудник</td>\n",
       "      <td>0</td>\n",
       "      <td>100415</td>\n",
       "      <td>покупка коммерческой недвижимости</td>\n",
       "      <td>False</td>\n",
       "      <td>False</td>\n",
       "      <td>покупка   коммерческий   недвижимость \\n</td>\n",
       "      <td>недвижимость</td>\n",
       "      <td>Доход 55-20</td>\n",
       "      <td>2 ребенка</td>\n",
       "    </tr>\n",
       "    <tr>\n",
       "      <th>4</th>\n",
       "      <td>2</td>\n",
       "      <td>16052</td>\n",
       "      <td>62</td>\n",
       "      <td>среднее</td>\n",
       "      <td>1</td>\n",
       "      <td>гражданский брак</td>\n",
       "      <td>1</td>\n",
       "      <td>F</td>\n",
       "      <td>пенсионер</td>\n",
       "      <td>0</td>\n",
       "      <td>192221</td>\n",
       "      <td>операции с коммерческой недвижимостью</td>\n",
       "      <td>False</td>\n",
       "      <td>False</td>\n",
       "      <td>операция   с   коммерческий   недвижимость \\n</td>\n",
       "      <td>недвижимость</td>\n",
       "      <td>Доход 120-200</td>\n",
       "      <td>2 ребенка</td>\n",
       "    </tr>\n",
       "  </tbody>\n",
       "</table>\n",
       "</div>"
      ],
      "text/plain": [
       "   children  days_employed  dob_years            education  education_id  \\\n",
       "0         2            721         30  неоконченное высшее             2   \n",
       "1         2           1034         43              среднее             1   \n",
       "2         2           2689         35              среднее             1   \n",
       "3         2           2047         24              среднее             1   \n",
       "4         2          16052         62              среднее             1   \n",
       "\n",
       "           family_status  family_status_id gender  income_type  debt  \\\n",
       "0       гражданский брак                 1      F    компаньон     0   \n",
       "1        женат / замужем                 0      M    сотрудник     0   \n",
       "2  Не женат / не замужем                 4      F  госслужащий     0   \n",
       "3        женат / замужем                 0      F    сотрудник     0   \n",
       "4       гражданский брак                 1      F    пенсионер     0   \n",
       "\n",
       "   total_income                                purpose  missing_days_employed  \\\n",
       "0        133319                        сыграть свадьбу                  False   \n",
       "1        220771                        свой автомобиль                  False   \n",
       "2        150447                 профильное образование                   True   \n",
       "3        100415      покупка коммерческой недвижимости                  False   \n",
       "4        192221  операции с коммерческой недвижимостью                  False   \n",
       "\n",
       "   missing_total_income                                   purpose_word  \\\n",
       "0                 False                           сыграть   свадьба \\n   \n",
       "1                 False                           свой   автомобиль \\n   \n",
       "2                  True                    профильный   образование \\n   \n",
       "3                 False       покупка   коммерческий   недвижимость \\n   \n",
       "4                 False  операция   с   коммерческий   недвижимость \\n   \n",
       "\n",
       "    purpose_cat      income_gr children_gr  \n",
       "0       свадьба  Доход 120-200   2 ребенка  \n",
       "1    автомобиль    Доход > 200   2 ребенка  \n",
       "2   образование  Доход 120-200   2 ребенка  \n",
       "3  недвижимость    Доход 55-20   2 ребенка  \n",
       "4  недвижимость  Доход 120-200   2 ребенка  "
      ]
     },
     "execution_count": 18,
     "metadata": {},
     "output_type": "execute_result"
    }
   ],
   "source": [
    "# Сгруппируем данные по колчеству детей\n",
    "def children_group(row):\n",
    "    child = row['children']\n",
    "    if child == 0:\n",
    "        return 'нет детей' \n",
    "    if child == 1:\n",
    "        return '1 ребенок'    \n",
    "    if child == 2:\n",
    "        return '2 ребенка'    \n",
    "    if child >= 3:\n",
    "        return 'многодетные'\n",
    "df_ch['children_gr'] = df_ch.apply(children_group, axis=1)\n",
    "df_ch.head()"
   ]
  },
  {
   "cell_type": "markdown",
   "metadata": {},
   "source": [
    "**Вывод**"
   ]
  },
  {
   "cell_type": "markdown",
   "metadata": {},
   "source": [
    "После группировки цели кредита разделены на 6 категорий.\n",
    "\n",
    "После группировки доход разделен на 4 категории.\n",
    "\n",
    "После группировки количество детей разделено на 4 категории."
   ]
  },
  {
   "cell_type": "markdown",
   "metadata": {},
   "source": [
    "## Шаг 3. Ответьте на вопросы"
   ]
  },
  {
   "cell_type": "markdown",
   "metadata": {},
   "source": [
    "- Есть ли зависимость между наличием детей и возвратом кредита в срок?"
   ]
  },
  {
   "cell_type": "code",
   "execution_count": 19,
   "metadata": {},
   "outputs": [
    {
     "name": "stdout",
     "output_type": "stream",
     "text": [
      "0.08832183441558442\n"
     ]
    },
    {
     "data": {
      "text/html": [
       "<div>\n",
       "<style scoped>\n",
       "    .dataframe tbody tr th:only-of-type {\n",
       "        vertical-align: middle;\n",
       "    }\n",
       "\n",
       "    .dataframe tbody tr th {\n",
       "        vertical-align: top;\n",
       "    }\n",
       "\n",
       "    .dataframe thead th {\n",
       "        text-align: right;\n",
       "    }\n",
       "</style>\n",
       "<table border=\"1\" class=\"dataframe\">\n",
       "  <thead>\n",
       "    <tr style=\"text-align: right;\">\n",
       "      <th>children_gr</th>\n",
       "      <th>1 ребенок</th>\n",
       "      <th>2 ребенка</th>\n",
       "      <th>многодетные</th>\n",
       "      <th>нет детей</th>\n",
       "    </tr>\n",
       "    <tr>\n",
       "      <th>debt</th>\n",
       "      <th></th>\n",
       "      <th></th>\n",
       "      <th></th>\n",
       "      <th></th>\n",
       "    </tr>\n",
       "  </thead>\n",
       "  <tbody>\n",
       "    <tr>\n",
       "      <th>0</th>\n",
       "      <td>4364</td>\n",
       "      <td>1926</td>\n",
       "      <td>349</td>\n",
       "      <td>13073</td>\n",
       "    </tr>\n",
       "    <tr>\n",
       "      <th>1</th>\n",
       "      <td>444</td>\n",
       "      <td>202</td>\n",
       "      <td>31</td>\n",
       "      <td>1064</td>\n",
       "    </tr>\n",
       "  </tbody>\n",
       "</table>\n",
       "</div>"
      ],
      "text/plain": [
       "children_gr  1 ребенок  2 ребенка  многодетные  нет детей\n",
       "debt                                                     \n",
       "0                 4364       1926          349      13073\n",
       "1                  444        202           31       1064"
      ]
     },
     "metadata": {},
     "output_type": "display_data"
    },
    {
     "name": "stdout",
     "output_type": "stream",
     "text": [
      "8.14% нет детей\n",
      "10.17% 1 ребенок\n",
      "10.49% 2 ребенка\n",
      "8.88% многодетные\n"
     ]
    }
   ],
   "source": [
    "late_payment = df_ch[(df_ch['debt'] == 1)].count() / df_ch[(df_ch['debt'] == 0)].count()\n",
    "print(late_payment['debt'])\n",
    "\n",
    "children_pivot = df_ch.pivot_table(index=['debt'], columns='children_gr', values = 'family_status_id', aggfunc='count')\n",
    "ch0 = children_pivot['нет детей'][1] / children_pivot['нет детей'][0]\n",
    "ch1 = children_pivot['1 ребенок'][1] / children_pivot['1 ребенок'][0]\n",
    "ch2 = children_pivot['2 ребенка'][1] / children_pivot['2 ребенка'][0]\n",
    "ch3 = children_pivot['многодетные'][1] / children_pivot['многодетные'][0]\n",
    "\n",
    "\n",
    "display(children_pivot)\n",
    "print(\"{0:.2f}% нет детей\".format(ch0*100))\n",
    "print(\"{0:.2f}% 1 ребенок\".format(ch1*100))\n",
    "print(\"{0:.2f}% 2 ребенка\".format(ch2*100))\n",
    "print(\"{0:.2f}% многодетные\".format(ch3*100))"
   ]
  },
  {
   "cell_type": "markdown",
   "metadata": {},
   "source": [
    "**Вывод**"
   ]
  },
  {
   "cell_type": "markdown",
   "metadata": {},
   "source": [
    "Без дополнительных параметров в 8,8% случаем кредит не выплачивается вовремя. Посмотрим как меняется это значение в зависимости от других факторов.\n",
    "\n",
    "В среднем с появлением ребенка увеличивает возможность просрочки платежа по кредиту. Многодетные задерживают платежи меньше, чем семьи с одним или двумя детьми, но чаще, чем бездетные."
   ]
  },
  {
   "cell_type": "markdown",
   "metadata": {},
   "source": [
    "- Есть ли зависимость между семейным положением и возвратом кредита в срок?"
   ]
  },
  {
   "cell_type": "code",
   "execution_count": 20,
   "metadata": {},
   "outputs": [
    {
     "name": "stdout",
     "output_type": "stream",
     "text": [
      "10.80% Не женат / не замужем\n",
      "7.66% в разводе\n",
      "7.03% вдовец / вдова\n",
      "10.31% гражданский брак\n",
      "8.16% женат / замужем\n"
     ]
    },
    {
     "data": {
      "text/html": [
       "<div>\n",
       "<style scoped>\n",
       "    .dataframe tbody tr th:only-of-type {\n",
       "        vertical-align: middle;\n",
       "    }\n",
       "\n",
       "    .dataframe tbody tr th {\n",
       "        vertical-align: top;\n",
       "    }\n",
       "\n",
       "    .dataframe thead th {\n",
       "        text-align: right;\n",
       "    }\n",
       "</style>\n",
       "<table border=\"1\" class=\"dataframe\">\n",
       "  <thead>\n",
       "    <tr style=\"text-align: right;\">\n",
       "      <th>family_status</th>\n",
       "      <th>Не женат / не замужем</th>\n",
       "      <th>в разводе</th>\n",
       "      <th>вдовец / вдова</th>\n",
       "      <th>гражданский брак</th>\n",
       "      <th>женат / замужем</th>\n",
       "    </tr>\n",
       "    <tr>\n",
       "      <th>debt</th>\n",
       "      <th></th>\n",
       "      <th></th>\n",
       "      <th></th>\n",
       "      <th></th>\n",
       "      <th></th>\n",
       "    </tr>\n",
       "  </thead>\n",
       "  <tbody>\n",
       "    <tr>\n",
       "      <th>0</th>\n",
       "      <td>2536</td>\n",
       "      <td>1110</td>\n",
       "      <td>896</td>\n",
       "      <td>3762</td>\n",
       "      <td>11408</td>\n",
       "    </tr>\n",
       "    <tr>\n",
       "      <th>1</th>\n",
       "      <td>274</td>\n",
       "      <td>85</td>\n",
       "      <td>63</td>\n",
       "      <td>388</td>\n",
       "      <td>931</td>\n",
       "    </tr>\n",
       "  </tbody>\n",
       "</table>\n",
       "</div>"
      ],
      "text/plain": [
       "family_status  Не женат / не замужем  в разводе  вдовец / вдова  \\\n",
       "debt                                                              \n",
       "0                               2536       1110             896   \n",
       "1                                274         85              63   \n",
       "\n",
       "family_status  гражданский брак  женат / замужем  \n",
       "debt                                              \n",
       "0                          3762            11408  \n",
       "1                           388              931  "
      ]
     },
     "execution_count": 20,
     "metadata": {},
     "output_type": "execute_result"
    }
   ],
   "source": [
    "marry_pivot = df_ch.pivot_table(index=['debt'], columns='family_status', values='total_income', aggfunc='count')\n",
    "no_family = marry_pivot['Не женат / не замужем'][1] / marry_pivot['Не женат / не замужем'][0]\n",
    "divorce = marry_pivot['в разводе'][1] / marry_pivot['в разводе'][0]\n",
    "widow = marry_pivot['вдовец / вдова'][1] / marry_pivot['вдовец / вдова'][0]\n",
    "partner = marry_pivot['гражданский брак'][1] / marry_pivot['гражданский брак'][0]\n",
    "family = marry_pivot['женат / замужем'][1] / marry_pivot['женат / замужем'][0]\n",
    "\n",
    "\n",
    "print(\"{0:.2f}% Не женат / не замужем\".format(no_family*100))\n",
    "print(\"{0:.2f}% в разводе\".format(divorce*100))\n",
    "print(\"{0:.2f}% вдовец / вдова\".format(widow*100))\n",
    "print(\"{0:.2f}% гражданский брак\".format(partner*100))\n",
    "print(\"{0:.2f}% женат / замужем\".format(family*100))\n",
    "marry_pivot"
   ]
  },
  {
   "cell_type": "markdown",
   "metadata": {},
   "source": [
    "**Вывод**"
   ]
  },
  {
   "cell_type": "markdown",
   "metadata": {},
   "source": [
    "Не женатые/ Не замужние или люди в гражданском браке реже выплачивают кредит в срок."
   ]
  },
  {
   "cell_type": "markdown",
   "metadata": {},
   "source": [
    "- Есть ли зависимость между уровнем дохода и возвратом кредита в срок?"
   ]
  },
  {
   "cell_type": "code",
   "execution_count": 21,
   "metadata": {},
   "outputs": [
    {
     "data": {
      "text/html": [
       "<div>\n",
       "<style scoped>\n",
       "    .dataframe tbody tr th:only-of-type {\n",
       "        vertical-align: middle;\n",
       "    }\n",
       "\n",
       "    .dataframe tbody tr th {\n",
       "        vertical-align: top;\n",
       "    }\n",
       "\n",
       "    .dataframe thead th {\n",
       "        text-align: right;\n",
       "    }\n",
       "</style>\n",
       "<table border=\"1\" class=\"dataframe\">\n",
       "  <thead>\n",
       "    <tr style=\"text-align: right;\">\n",
       "      <th></th>\n",
       "      <th>no_debt</th>\n",
       "      <th>debt</th>\n",
       "      <th>%</th>\n",
       "    </tr>\n",
       "    <tr>\n",
       "      <th>income_gr</th>\n",
       "      <th></th>\n",
       "      <th></th>\n",
       "      <th></th>\n",
       "    </tr>\n",
       "  </thead>\n",
       "  <tbody>\n",
       "    <tr>\n",
       "      <th>Доход 120-200</th>\n",
       "      <td>8328</td>\n",
       "      <td>793</td>\n",
       "      <td>0.086942</td>\n",
       "    </tr>\n",
       "    <tr>\n",
       "      <th>Доход 55-20</th>\n",
       "      <td>6067</td>\n",
       "      <td>548</td>\n",
       "      <td>0.082842</td>\n",
       "    </tr>\n",
       "    <tr>\n",
       "      <th>Доход &gt; 200</th>\n",
       "      <td>4683</td>\n",
       "      <td>357</td>\n",
       "      <td>0.070833</td>\n",
       "    </tr>\n",
       "    <tr>\n",
       "      <th>Доход 15-55</th>\n",
       "      <td>634</td>\n",
       "      <td>43</td>\n",
       "      <td>0.063516</td>\n",
       "    </tr>\n",
       "  </tbody>\n",
       "</table>\n",
       "</div>"
      ],
      "text/plain": [
       "               no_debt  debt         %\n",
       "income_gr                             \n",
       "Доход 120-200     8328   793  0.086942\n",
       "Доход 55-20       6067   548  0.082842\n",
       "Доход > 200       4683   357  0.070833\n",
       "Доход 15-55        634    43  0.063516"
      ]
     },
     "execution_count": 21,
     "metadata": {},
     "output_type": "execute_result"
    }
   ],
   "source": [
    "cash_pivot = df_ch.pivot_table(index = 'income_gr', columns = 'debt', values = 'total_income', aggfunc = 'count')\n",
    "cash_pivot.columns = ['no_debt', 'debt',] \n",
    "cash_pivot['%'] = cash_pivot['debt'] / (cash_pivot['debt'] + cash_pivot['no_debt'])\n",
    "cash_pivot.sort_values(by='%', ascending = False)"
   ]
  },
  {
   "cell_type": "markdown",
   "metadata": {},
   "source": [
    "**Вывод**"
   ]
  },
  {
   "cell_type": "markdown",
   "metadata": {},
   "source": [
    "Парадоксально люди с наименьшим доходом чаще других групп выплачивают кредит в срок."
   ]
  },
  {
   "cell_type": "markdown",
   "metadata": {},
   "source": [
    "- Как разные цели кредита влияют на его возврат в срок?"
   ]
  },
  {
   "cell_type": "code",
   "execution_count": 22,
   "metadata": {},
   "outputs": [
    {
     "data": {
      "text/html": [
       "<div>\n",
       "<style scoped>\n",
       "    .dataframe tbody tr th:only-of-type {\n",
       "        vertical-align: middle;\n",
       "    }\n",
       "\n",
       "    .dataframe tbody tr th {\n",
       "        vertical-align: top;\n",
       "    }\n",
       "\n",
       "    .dataframe thead th {\n",
       "        text-align: right;\n",
       "    }\n",
       "</style>\n",
       "<table border=\"1\" class=\"dataframe\">\n",
       "  <thead>\n",
       "    <tr style=\"text-align: right;\">\n",
       "      <th>purpose_cat</th>\n",
       "      <th>автомобиль</th>\n",
       "      <th>жилье</th>\n",
       "      <th>недвижимость</th>\n",
       "      <th>образование</th>\n",
       "      <th>свадьба</th>\n",
       "    </tr>\n",
       "    <tr>\n",
       "      <th>debt</th>\n",
       "      <th></th>\n",
       "      <th></th>\n",
       "      <th></th>\n",
       "      <th></th>\n",
       "      <th></th>\n",
       "    </tr>\n",
       "  </thead>\n",
       "  <tbody>\n",
       "    <tr>\n",
       "      <th>0</th>\n",
       "      <td>3903</td>\n",
       "      <td>4152</td>\n",
       "      <td>5876</td>\n",
       "      <td>3643</td>\n",
       "      <td>2138</td>\n",
       "    </tr>\n",
       "    <tr>\n",
       "      <th>1</th>\n",
       "      <td>403</td>\n",
       "      <td>308</td>\n",
       "      <td>474</td>\n",
       "      <td>370</td>\n",
       "      <td>186</td>\n",
       "    </tr>\n",
       "  </tbody>\n",
       "</table>\n",
       "</div>"
      ],
      "text/plain": [
       "purpose_cat  автомобиль  жилье  недвижимость  образование  свадьба\n",
       "debt                                                              \n",
       "0                  3903   4152          5876         3643     2138\n",
       "1                   403    308           474          370      186"
      ]
     },
     "metadata": {},
     "output_type": "display_data"
    },
    {
     "name": "stdout",
     "output_type": "stream",
     "text": [
      "10.33% автомобиль\n",
      "7.42% жилье\n",
      "8.07% недвижимость\n",
      "10.16% образование\n",
      "8.70% свадьба\n"
     ]
    }
   ],
   "source": [
    "purpose_pivot = df_ch.pivot_table(index=['debt'], columns='purpose_cat', values='income_type', aggfunc='count')\n",
    "display(purpose_pivot)\n",
    "\n",
    "in1 = purpose_pivot['автомобиль'][1] / purpose_pivot['автомобиль'][0]\n",
    "in2 = purpose_pivot['жилье'][1] / purpose_pivot['жилье'][0]\n",
    "in3 = purpose_pivot['недвижимость'][1] / purpose_pivot['недвижимость'][0]\n",
    "in4 = purpose_pivot['образование'][1] / purpose_pivot['образование'][0]\n",
    "in5 = purpose_pivot['свадьба'][1] / purpose_pivot['свадьба'][0]\n",
    "\n",
    "print(\"{0:.2f}% автомобиль\".format(in1*100))\n",
    "print(\"{0:.2f}% жилье\".format(in2*100))\n",
    "print(\"{0:.2f}% недвижимость\".format(in3*100))\n",
    "print(\"{0:.2f}% образование\".format(in4*100))\n",
    "print(\"{0:.2f}% свадьба\".format(in5*100))"
   ]
  },
  {
   "cell_type": "markdown",
   "metadata": {},
   "source": [
    "**Вывод**"
   ]
  },
  {
   "cell_type": "markdown",
   "metadata": {},
   "source": [
    "Люди с большей вероятностью выплачивают кредит если он взят на жилье, недвижимость или свадьбу."
   ]
  },
  {
   "cell_type": "markdown",
   "metadata": {},
   "source": [
    "## Шаг 4. Общий вывод"
   ]
  },
  {
   "cell_type": "markdown",
   "metadata": {},
   "source": [
    "Во время педобработки данных:\n",
    "\n",
    "* **Отработаны пропуски в данных, заполнены медианными значениями и предположены причины их появления**\n",
    "\n",
    "Из 21525 значений пропущено 2174. Получается, что стаж и доход не указан примерно для 10% заявителей (безработных, в декрете, студентов и предпринимателей не берем в расчет, их слишком мало). Это значит, что пропуски не зависят от семейного положения и зависят от типа занятости.\n",
    "\n",
    "Пропуски появились у пенсионеров, госслужащих, компаньонов и сотрудников и зависят от типа занятости. Все это - люди, имеющие постоянный доход. Мое предположение, что эти данные скрыты специально. Вероятно, они скрывают дополнительный доход.\n",
    "\n",
    "Так же, медианный доход по типу занятости различается довольно значительно. А, вот, например, по семейному положению намного меньше.\n",
    "\n",
    "Заполняя пропуски, мы хотим сохранить параметры распределения заполняемой переменной - математическое ожидание и дисперсию. Самый простой способ это сделать - заполнить средним или медианой. В этом случае сохраняется среднее, но дисперсией приходится пожертвовать.\n",
    "\n",
    "* **Определены дубликаты, удалены явные, исправлены неявные и предположены причины их появлений**\n",
    "\n",
    "Явные дубликаты могли возникнуть из-за технического сбоя и \"задвоиться\" в таблице. Неявные дубликаты, вероятнее всего появились из-за склейки нескольких таблиц с названиями столбцов в разном регистре.\n",
    "\n",
    "* **Выделены категории для целей кредита, а так же группы по доходу и количеству детей** \n",
    "\n",
    "Цели кредита разделены на 6 категорий.\n",
    "Доход разделен на 4 категории.\n",
    "Количество детей разделено на 4 категории.\n",
    "\n",
    "* **При помощи сводных таблиц, проведена, какие критерии влияют на возврат кредита**\n",
    "\n",
    "Без дополнительных параметров в 8,8% случаем кредит не выплачивается вовремя. Посмотрим как меняется это значение в зависимости от других факторов. В среднем с появлением ребенка увеличивает возможность просрочки платежа по кредиту. Многодетные задерживают платежи, в 8,8%, как если бы дети вообще не имели влияния на выплаты.\n",
    "\n",
    "Не женатые/ Не замужние или люди в гражданском браке реже выплачивают кредит в срок.\n",
    "\n",
    "Люди с большей вероятностью выплачивают кредит если он взят на жилье, недвижимость или свадьбу.\n",
    "\n",
    "\n",
    "Дополнительный анализ может помочь более точно предсказать вероятность вылпаты кредита в срок.\n"
   ]
  },
  {
   "cell_type": "code",
   "execution_count": null,
   "metadata": {},
   "outputs": [],
   "source": []
  }
 ],
 "metadata": {
  "ExecuteTimeLog": [
   {
    "duration": 634,
    "start_time": "2021-12-16T05:45:34.161Z"
   },
   {
    "duration": 54,
    "start_time": "2021-12-16T05:47:37.011Z"
   },
   {
    "duration": 622,
    "start_time": "2021-12-16T05:47:52.475Z"
   },
   {
    "duration": 61,
    "start_time": "2021-12-16T05:48:02.778Z"
   },
   {
    "duration": 614,
    "start_time": "2021-12-16T05:49:09.466Z"
   },
   {
    "duration": 929,
    "start_time": "2021-12-16T05:49:52.757Z"
   },
   {
    "duration": 58,
    "start_time": "2021-12-16T05:50:01.870Z"
   },
   {
    "duration": 614,
    "start_time": "2021-12-16T05:51:14.592Z"
   },
   {
    "duration": 10,
    "start_time": "2021-12-16T06:18:47.858Z"
   },
   {
    "duration": 685,
    "start_time": "2021-12-16T06:32:32.694Z"
   },
   {
    "duration": 9,
    "start_time": "2021-12-16T06:32:33.381Z"
   },
   {
    "duration": 650,
    "start_time": "2021-12-16T06:37:41.760Z"
   },
   {
    "duration": 12,
    "start_time": "2021-12-16T06:37:42.412Z"
   },
   {
    "duration": 1422,
    "start_time": "2021-12-16T08:45:24.489Z"
   },
   {
    "duration": -222,
    "start_time": "2021-12-16T08:45:26.135Z"
   },
   {
    "duration": -227,
    "start_time": "2021-12-16T08:45:26.142Z"
   },
   {
    "duration": 693,
    "start_time": "2021-12-16T08:45:44.811Z"
   },
   {
    "duration": 12,
    "start_time": "2021-12-16T08:45:45.506Z"
   },
   {
    "duration": 346,
    "start_time": "2021-12-16T08:45:45.520Z"
   },
   {
    "duration": 762,
    "start_time": "2021-12-16T08:46:30.487Z"
   },
   {
    "duration": 15,
    "start_time": "2021-12-16T08:46:31.251Z"
   },
   {
    "duration": 381,
    "start_time": "2021-12-16T08:46:31.268Z"
   },
   {
    "duration": 635,
    "start_time": "2021-12-16T08:48:52.665Z"
   },
   {
    "duration": 12,
    "start_time": "2021-12-16T08:48:53.302Z"
   },
   {
    "duration": 310,
    "start_time": "2021-12-16T08:48:53.316Z"
   },
   {
    "duration": 695,
    "start_time": "2021-12-16T08:49:29.135Z"
   },
   {
    "duration": 15,
    "start_time": "2021-12-16T08:49:29.831Z"
   },
   {
    "duration": 387,
    "start_time": "2021-12-16T08:49:29.851Z"
   },
   {
    "duration": 685,
    "start_time": "2021-12-16T08:50:09.704Z"
   },
   {
    "duration": 15,
    "start_time": "2021-12-16T08:50:10.391Z"
   },
   {
    "duration": 325,
    "start_time": "2021-12-16T08:50:10.409Z"
   },
   {
    "duration": 90,
    "start_time": "2021-12-16T08:54:27.801Z"
   },
   {
    "duration": 819,
    "start_time": "2021-12-16T08:55:28.220Z"
   },
   {
    "duration": 17,
    "start_time": "2021-12-16T08:55:29.041Z"
   },
   {
    "duration": 7,
    "start_time": "2021-12-16T08:55:29.060Z"
   },
   {
    "duration": 21,
    "start_time": "2021-12-16T08:58:25.101Z"
   },
   {
    "duration": 18,
    "start_time": "2021-12-16T09:03:33.085Z"
   },
   {
    "duration": 688,
    "start_time": "2021-12-16T09:42:40.739Z"
   },
   {
    "duration": 15,
    "start_time": "2021-12-16T09:42:41.430Z"
   },
   {
    "duration": 492,
    "start_time": "2021-12-16T09:42:41.448Z"
   },
   {
    "duration": 722,
    "start_time": "2021-12-16T09:44:24.229Z"
   },
   {
    "duration": 14,
    "start_time": "2021-12-16T09:44:24.952Z"
   },
   {
    "duration": 542,
    "start_time": "2021-12-16T09:44:24.967Z"
   },
   {
    "duration": 458,
    "start_time": "2021-12-16T09:46:02.990Z"
   },
   {
    "duration": 448,
    "start_time": "2021-12-16T09:47:22.424Z"
   },
   {
    "duration": 438,
    "start_time": "2021-12-16T09:48:06.846Z"
   },
   {
    "duration": 271,
    "start_time": "2021-12-16T09:49:32.040Z"
   },
   {
    "duration": 276,
    "start_time": "2021-12-16T09:49:44.889Z"
   },
   {
    "duration": 87,
    "start_time": "2021-12-16T10:01:49.340Z"
   },
   {
    "duration": 1103,
    "start_time": "2021-12-16T10:01:56.235Z"
   },
   {
    "duration": 16,
    "start_time": "2021-12-16T10:26:17.111Z"
   },
   {
    "duration": 642,
    "start_time": "2021-12-16T10:27:32.274Z"
   },
   {
    "duration": 13,
    "start_time": "2021-12-16T10:27:32.918Z"
   },
   {
    "duration": 16,
    "start_time": "2021-12-16T10:27:32.933Z"
   },
   {
    "duration": 656,
    "start_time": "2021-12-16T10:28:09.874Z"
   },
   {
    "duration": 14,
    "start_time": "2021-12-16T10:28:10.532Z"
   },
   {
    "duration": 18,
    "start_time": "2021-12-16T10:28:10.548Z"
   },
   {
    "duration": 418,
    "start_time": "2021-12-16T10:35:46.586Z"
   },
   {
    "duration": 346,
    "start_time": "2021-12-16T10:35:53.697Z"
   },
   {
    "duration": 291,
    "start_time": "2021-12-16T10:36:22.351Z"
   },
   {
    "duration": 689,
    "start_time": "2021-12-16T10:40:34.134Z"
   },
   {
    "duration": 13,
    "start_time": "2021-12-16T10:40:34.825Z"
   },
   {
    "duration": 36,
    "start_time": "2021-12-16T10:40:34.840Z"
   },
   {
    "duration": 317,
    "start_time": "2021-12-16T11:04:24.317Z"
   },
   {
    "duration": 755,
    "start_time": "2021-12-16T11:09:24.303Z"
   },
   {
    "duration": 16,
    "start_time": "2021-12-16T11:09:25.061Z"
   },
   {
    "duration": 426,
    "start_time": "2021-12-16T11:09:25.080Z"
   },
   {
    "duration": 634,
    "start_time": "2021-12-16T11:09:36.676Z"
   },
   {
    "duration": 246,
    "start_time": "2021-12-16T11:12:32.091Z"
   },
   {
    "duration": 781,
    "start_time": "2021-12-16T11:13:00.139Z"
   },
   {
    "duration": 14,
    "start_time": "2021-12-16T11:13:00.922Z"
   },
   {
    "duration": 426,
    "start_time": "2021-12-16T11:13:00.938Z"
   },
   {
    "duration": 716,
    "start_time": "2021-12-16T11:24:24.011Z"
   },
   {
    "duration": 13,
    "start_time": "2021-12-16T11:24:24.729Z"
   },
   {
    "duration": 323,
    "start_time": "2021-12-16T11:24:24.745Z"
   },
   {
    "duration": 714,
    "start_time": "2021-12-16T11:28:56.663Z"
   },
   {
    "duration": 14,
    "start_time": "2021-12-16T11:28:57.379Z"
   },
   {
    "duration": 325,
    "start_time": "2021-12-16T11:28:57.395Z"
   },
   {
    "duration": 485,
    "start_time": "2021-12-16T11:43:20.044Z"
   },
   {
    "duration": 710,
    "start_time": "2021-12-16T11:43:31.825Z"
   },
   {
    "duration": 13,
    "start_time": "2021-12-16T11:43:32.537Z"
   },
   {
    "duration": 350,
    "start_time": "2021-12-16T11:43:32.552Z"
   },
   {
    "duration": 22,
    "start_time": "2021-12-16T11:43:32.903Z"
   },
   {
    "duration": 27,
    "start_time": "2021-12-16T11:44:41.531Z"
   },
   {
    "duration": 35,
    "start_time": "2021-12-16T11:45:12.398Z"
   },
   {
    "duration": 38,
    "start_time": "2021-12-16T11:45:41.944Z"
   },
   {
    "duration": 63,
    "start_time": "2021-12-16T11:46:19.367Z"
   },
   {
    "duration": 729,
    "start_time": "2021-12-16T11:49:24.159Z"
   },
   {
    "duration": 13,
    "start_time": "2021-12-16T11:49:24.890Z"
   },
   {
    "duration": 312,
    "start_time": "2021-12-16T11:49:24.905Z"
   },
   {
    "duration": 45,
    "start_time": "2021-12-16T11:49:25.219Z"
   },
   {
    "duration": 724,
    "start_time": "2021-12-16T11:50:28.882Z"
   },
   {
    "duration": 18,
    "start_time": "2021-12-16T11:50:29.608Z"
   },
   {
    "duration": 384,
    "start_time": "2021-12-16T11:50:29.628Z"
   },
   {
    "duration": 48,
    "start_time": "2021-12-16T11:50:30.014Z"
   },
   {
    "duration": 455,
    "start_time": "2021-12-16T11:54:11.731Z"
   },
   {
    "duration": 652,
    "start_time": "2021-12-16T11:54:28.966Z"
   },
   {
    "duration": 13,
    "start_time": "2021-12-16T11:54:29.619Z"
   },
   {
    "duration": 296,
    "start_time": "2021-12-16T11:54:29.634Z"
   },
   {
    "duration": 44,
    "start_time": "2021-12-16T11:54:29.932Z"
   },
   {
    "duration": 330,
    "start_time": "2021-12-16T11:54:29.978Z"
   },
   {
    "duration": 5,
    "start_time": "2021-12-16T11:56:11.815Z"
   },
   {
    "duration": 6,
    "start_time": "2021-12-16T11:56:33.566Z"
   },
   {
    "duration": 659,
    "start_time": "2021-12-16T12:00:07.165Z"
   },
   {
    "duration": 20,
    "start_time": "2021-12-16T12:00:07.826Z"
   },
   {
    "duration": 330,
    "start_time": "2021-12-16T12:00:07.848Z"
   },
   {
    "duration": 38,
    "start_time": "2021-12-16T12:00:08.181Z"
   },
   {
    "duration": 334,
    "start_time": "2021-12-16T12:00:08.220Z"
   },
   {
    "duration": 724,
    "start_time": "2021-12-16T12:00:34.928Z"
   },
   {
    "duration": 13,
    "start_time": "2021-12-16T12:00:35.654Z"
   },
   {
    "duration": 330,
    "start_time": "2021-12-16T12:00:35.669Z"
   },
   {
    "duration": 50,
    "start_time": "2021-12-16T12:00:36.001Z"
   },
   {
    "duration": 718,
    "start_time": "2021-12-16T12:00:36.053Z"
   },
   {
    "duration": 299,
    "start_time": "2021-12-16T12:01:11.528Z"
   },
   {
    "duration": 299,
    "start_time": "2021-12-16T12:02:21.157Z"
   },
   {
    "duration": 6,
    "start_time": "2021-12-16T12:03:02.954Z"
   },
   {
    "duration": 6,
    "start_time": "2021-12-16T12:05:52.389Z"
   },
   {
    "duration": 270,
    "start_time": "2021-12-16T12:06:33.237Z"
   },
   {
    "duration": 7,
    "start_time": "2021-12-16T12:11:44.747Z"
   },
   {
    "duration": 279,
    "start_time": "2021-12-16T12:12:49.160Z"
   },
   {
    "duration": 6,
    "start_time": "2021-12-16T12:14:22.128Z"
   },
   {
    "duration": 6,
    "start_time": "2021-12-16T12:15:39.330Z"
   },
   {
    "duration": 302,
    "start_time": "2021-12-16T12:16:34.062Z"
   },
   {
    "duration": 274,
    "start_time": "2021-12-16T12:17:06.496Z"
   },
   {
    "duration": 953,
    "start_time": "2021-12-16T12:17:33.800Z"
   },
   {
    "duration": 11,
    "start_time": "2021-12-16T12:18:58.384Z"
   },
   {
    "duration": 13,
    "start_time": "2021-12-16T12:21:24.243Z"
   },
   {
    "duration": 12,
    "start_time": "2021-12-16T12:24:21.945Z"
   },
   {
    "duration": 11,
    "start_time": "2021-12-16T12:25:32.311Z"
   },
   {
    "duration": 85,
    "start_time": "2021-12-16T12:27:32.937Z"
   },
   {
    "duration": 12,
    "start_time": "2021-12-16T12:27:39.872Z"
   },
   {
    "duration": 414,
    "start_time": "2021-12-16T12:28:31.031Z"
   },
   {
    "duration": 338,
    "start_time": "2021-12-16T12:28:43.816Z"
   },
   {
    "duration": 12,
    "start_time": "2021-12-16T12:29:17.491Z"
   },
   {
    "duration": 283,
    "start_time": "2021-12-16T12:29:37.375Z"
   },
   {
    "duration": 11,
    "start_time": "2021-12-16T12:30:01.704Z"
   },
   {
    "duration": 13,
    "start_time": "2021-12-16T12:30:22.742Z"
   },
   {
    "duration": 12,
    "start_time": "2021-12-16T12:30:31.666Z"
   },
   {
    "duration": 12,
    "start_time": "2021-12-16T12:30:43.690Z"
   },
   {
    "duration": 10,
    "start_time": "2021-12-16T12:30:55.108Z"
   },
   {
    "duration": 11,
    "start_time": "2021-12-16T12:31:12.726Z"
   },
   {
    "duration": 341,
    "start_time": "2021-12-16T12:32:36.893Z"
   },
   {
    "duration": 12,
    "start_time": "2021-12-16T12:32:53.158Z"
   },
   {
    "duration": 11,
    "start_time": "2021-12-16T12:35:29.169Z"
   },
   {
    "duration": 5,
    "start_time": "2021-12-16T12:36:45.171Z"
   },
   {
    "duration": 6,
    "start_time": "2021-12-16T12:36:51.580Z"
   },
   {
    "duration": 5,
    "start_time": "2021-12-16T12:37:29.672Z"
   },
   {
    "duration": 5,
    "start_time": "2021-12-16T12:37:41.224Z"
   },
   {
    "duration": 6,
    "start_time": "2021-12-16T14:27:51.161Z"
   },
   {
    "duration": 127,
    "start_time": "2021-12-16T14:28:07.353Z"
   },
   {
    "duration": 6,
    "start_time": "2021-12-16T14:28:13.610Z"
   },
   {
    "duration": 5,
    "start_time": "2021-12-16T14:28:26.905Z"
   },
   {
    "duration": 11,
    "start_time": "2021-12-16T14:30:01.369Z"
   },
   {
    "duration": 10,
    "start_time": "2021-12-16T14:31:02.923Z"
   },
   {
    "duration": 10,
    "start_time": "2021-12-16T14:33:19.498Z"
   },
   {
    "duration": 9,
    "start_time": "2021-12-16T14:33:44.082Z"
   },
   {
    "duration": 9,
    "start_time": "2021-12-16T14:34:10.685Z"
   },
   {
    "duration": 9,
    "start_time": "2021-12-16T14:34:34.917Z"
   },
   {
    "duration": 965,
    "start_time": "2021-12-18T05:22:28.690Z"
   },
   {
    "duration": 19,
    "start_time": "2021-12-18T05:22:29.658Z"
   },
   {
    "duration": 552,
    "start_time": "2021-12-18T05:22:29.680Z"
   },
   {
    "duration": 51,
    "start_time": "2021-12-18T05:22:30.235Z"
   },
   {
    "duration": 1242,
    "start_time": "2021-12-18T05:22:30.290Z"
   },
   {
    "duration": 18,
    "start_time": "2021-12-18T05:22:31.536Z"
   },
   {
    "duration": 33,
    "start_time": "2021-12-18T05:23:17.717Z"
   },
   {
    "duration": 26,
    "start_time": "2021-12-18T05:28:37.289Z"
   },
   {
    "duration": 27,
    "start_time": "2021-12-18T05:30:01.622Z"
   },
   {
    "duration": 28,
    "start_time": "2021-12-18T05:30:18.484Z"
   },
   {
    "duration": 27,
    "start_time": "2021-12-18T05:31:21.536Z"
   },
   {
    "duration": 27,
    "start_time": "2021-12-18T05:32:52.728Z"
   },
   {
    "duration": 28,
    "start_time": "2021-12-18T05:33:07.987Z"
   },
   {
    "duration": 28,
    "start_time": "2021-12-18T05:34:39.036Z"
   },
   {
    "duration": 27,
    "start_time": "2021-12-18T05:37:20.041Z"
   },
   {
    "duration": 29,
    "start_time": "2021-12-18T05:37:33.827Z"
   },
   {
    "duration": 30,
    "start_time": "2021-12-18T05:39:12.987Z"
   },
   {
    "duration": 27,
    "start_time": "2021-12-18T05:41:43.857Z"
   },
   {
    "duration": 35,
    "start_time": "2021-12-18T05:42:19.499Z"
   },
   {
    "duration": 908,
    "start_time": "2021-12-18T05:43:12.401Z"
   },
   {
    "duration": 18,
    "start_time": "2021-12-18T05:43:13.312Z"
   },
   {
    "duration": 539,
    "start_time": "2021-12-18T05:43:13.334Z"
   },
   {
    "duration": 61,
    "start_time": "2021-12-18T05:43:13.875Z"
   },
   {
    "duration": 1038,
    "start_time": "2021-12-18T05:43:13.940Z"
   },
   {
    "duration": 51,
    "start_time": "2021-12-18T05:43:14.980Z"
   },
   {
    "duration": 28,
    "start_time": "2021-12-18T05:56:13.892Z"
   },
   {
    "duration": 413,
    "start_time": "2021-12-18T05:58:22.019Z"
   },
   {
    "duration": 814,
    "start_time": "2021-12-18T05:59:13.369Z"
   },
   {
    "duration": 18,
    "start_time": "2021-12-18T05:59:14.185Z"
   },
   {
    "duration": 538,
    "start_time": "2021-12-18T05:59:14.205Z"
   },
   {
    "duration": 50,
    "start_time": "2021-12-18T05:59:14.746Z"
   },
   {
    "duration": 1113,
    "start_time": "2021-12-18T05:59:14.798Z"
   },
   {
    "duration": 35,
    "start_time": "2021-12-18T05:59:15.918Z"
   },
   {
    "duration": 26,
    "start_time": "2021-12-18T05:59:15.955Z"
   },
   {
    "duration": 53,
    "start_time": "2021-12-18T05:59:15.984Z"
   },
   {
    "duration": 890,
    "start_time": "2021-12-18T06:00:25.022Z"
   },
   {
    "duration": 24,
    "start_time": "2021-12-18T06:00:25.915Z"
   },
   {
    "duration": 622,
    "start_time": "2021-12-18T06:00:25.942Z"
   },
   {
    "duration": 63,
    "start_time": "2021-12-18T06:00:26.567Z"
   },
   {
    "duration": 981,
    "start_time": "2021-12-18T06:00:26.636Z"
   },
   {
    "duration": 27,
    "start_time": "2021-12-18T06:00:27.620Z"
   },
   {
    "duration": 25,
    "start_time": "2021-12-18T06:00:27.649Z"
   },
   {
    "duration": 53,
    "start_time": "2021-12-18T06:00:27.677Z"
   },
   {
    "duration": 27,
    "start_time": "2021-12-18T06:03:22.268Z"
   },
   {
    "duration": 706,
    "start_time": "2021-12-18T06:05:16.546Z"
   },
   {
    "duration": 367,
    "start_time": "2021-12-18T06:06:07.950Z"
   },
   {
    "duration": 2757,
    "start_time": "2021-12-18T06:12:12.599Z"
   },
   {
    "duration": 580,
    "start_time": "2021-12-18T06:12:30.082Z"
   },
   {
    "duration": 82,
    "start_time": "2021-12-18T06:15:12.441Z"
   },
   {
    "duration": 415,
    "start_time": "2021-12-18T06:15:36.037Z"
   },
   {
    "duration": 85,
    "start_time": "2021-12-18T06:15:50.823Z"
   },
   {
    "duration": 813,
    "start_time": "2021-12-18T06:17:10.160Z"
   },
   {
    "duration": 17,
    "start_time": "2021-12-18T06:17:10.975Z"
   },
   {
    "duration": 605,
    "start_time": "2021-12-18T06:17:10.996Z"
   },
   {
    "duration": 57,
    "start_time": "2021-12-18T06:17:11.604Z"
   },
   {
    "duration": 947,
    "start_time": "2021-12-18T06:17:11.664Z"
   },
   {
    "duration": 33,
    "start_time": "2021-12-18T06:17:12.617Z"
   },
   {
    "duration": 25,
    "start_time": "2021-12-18T06:17:12.653Z"
   },
   {
    "duration": 47,
    "start_time": "2021-12-18T06:17:12.681Z"
   },
   {
    "duration": 595,
    "start_time": "2021-12-18T06:17:12.731Z"
   },
   {
    "duration": 22,
    "start_time": "2021-12-18T06:17:30.387Z"
   },
   {
    "duration": 23,
    "start_time": "2021-12-18T06:17:47.860Z"
   },
   {
    "duration": 375,
    "start_time": "2021-12-18T06:30:29.624Z"
   },
   {
    "duration": 446,
    "start_time": "2021-12-18T06:32:23.207Z"
   },
   {
    "duration": 384,
    "start_time": "2021-12-18T06:32:34.173Z"
   },
   {
    "duration": 369,
    "start_time": "2021-12-18T06:32:42.238Z"
   },
   {
    "duration": 377,
    "start_time": "2021-12-18T06:32:59.278Z"
   },
   {
    "duration": 356,
    "start_time": "2021-12-18T06:37:14.040Z"
   },
   {
    "duration": 843,
    "start_time": "2021-12-18T06:37:29.272Z"
   },
   {
    "duration": 19,
    "start_time": "2021-12-18T06:37:30.118Z"
   },
   {
    "duration": 541,
    "start_time": "2021-12-18T06:37:30.140Z"
   },
   {
    "duration": 58,
    "start_time": "2021-12-18T06:37:30.684Z"
   },
   {
    "duration": 952,
    "start_time": "2021-12-18T06:37:30.745Z"
   },
   {
    "duration": 41,
    "start_time": "2021-12-18T06:37:31.699Z"
   },
   {
    "duration": 30,
    "start_time": "2021-12-18T06:37:31.743Z"
   },
   {
    "duration": 44,
    "start_time": "2021-12-18T06:37:31.776Z"
   },
   {
    "duration": 25,
    "start_time": "2021-12-18T06:37:31.822Z"
   },
   {
    "duration": 381,
    "start_time": "2021-12-18T06:39:09.901Z"
   },
   {
    "duration": 362,
    "start_time": "2021-12-18T06:39:18.167Z"
   },
   {
    "duration": 411,
    "start_time": "2021-12-18T06:40:33.542Z"
   },
   {
    "duration": 816,
    "start_time": "2021-12-18T06:42:21.134Z"
   },
   {
    "duration": 19,
    "start_time": "2021-12-18T06:42:21.954Z"
   },
   {
    "duration": 520,
    "start_time": "2021-12-18T06:42:21.977Z"
   },
   {
    "duration": 56,
    "start_time": "2021-12-18T06:42:22.500Z"
   },
   {
    "duration": 948,
    "start_time": "2021-12-18T06:42:22.559Z"
   },
   {
    "duration": 33,
    "start_time": "2021-12-18T06:42:23.517Z"
   },
   {
    "duration": 24,
    "start_time": "2021-12-18T06:42:23.553Z"
   },
   {
    "duration": 49,
    "start_time": "2021-12-18T06:42:23.579Z"
   },
   {
    "duration": 23,
    "start_time": "2021-12-18T06:42:23.631Z"
   },
   {
    "duration": 233,
    "start_time": "2021-12-19T09:59:15.195Z"
   },
   {
    "duration": 571,
    "start_time": "2021-12-19T09:59:20.828Z"
   },
   {
    "duration": 12,
    "start_time": "2021-12-19T09:59:21.401Z"
   },
   {
    "duration": 288,
    "start_time": "2021-12-19T09:59:21.416Z"
   },
   {
    "duration": 31,
    "start_time": "2021-12-19T09:59:21.706Z"
   },
   {
    "duration": 620,
    "start_time": "2021-12-19T09:59:21.739Z"
   },
   {
    "duration": 29,
    "start_time": "2021-12-19T09:59:22.360Z"
   },
   {
    "duration": 18,
    "start_time": "2021-12-19T09:59:22.390Z"
   },
   {
    "duration": 13,
    "start_time": "2021-12-19T09:59:22.410Z"
   },
   {
    "duration": 193,
    "start_time": "2021-12-19T09:59:22.424Z"
   },
   {
    "duration": 850,
    "start_time": "2021-12-21T10:00:52.257Z"
   },
   {
    "duration": 26,
    "start_time": "2021-12-21T10:00:53.111Z"
   },
   {
    "duration": 1711,
    "start_time": "2021-12-21T10:00:53.141Z"
   },
   {
    "duration": 583,
    "start_time": "2021-12-21T10:00:54.272Z"
   },
   {
    "duration": 583,
    "start_time": "2021-12-21T10:00:54.274Z"
   },
   {
    "duration": 582,
    "start_time": "2021-12-21T10:00:54.276Z"
   },
   {
    "duration": 580,
    "start_time": "2021-12-21T10:00:54.280Z"
   },
   {
    "duration": 578,
    "start_time": "2021-12-21T10:00:54.283Z"
   },
   {
    "duration": 578,
    "start_time": "2021-12-21T10:00:54.285Z"
   },
   {
    "duration": 383,
    "start_time": "2021-12-21T10:02:37.039Z"
   },
   {
    "duration": 38,
    "start_time": "2021-12-21T11:30:40.385Z"
   },
   {
    "duration": 517,
    "start_time": "2021-12-21T11:32:16.733Z"
   },
   {
    "duration": 403,
    "start_time": "2021-12-21T11:37:34.460Z"
   },
   {
    "duration": 75,
    "start_time": "2021-12-21T11:37:41.942Z"
   },
   {
    "duration": 117,
    "start_time": "2021-12-21T11:45:21.543Z"
   },
   {
    "duration": 129,
    "start_time": "2021-12-21T11:45:27.815Z"
   },
   {
    "duration": 369,
    "start_time": "2021-12-21T11:58:23.742Z"
   },
   {
    "duration": 53,
    "start_time": "2021-12-21T11:58:36.221Z"
   },
   {
    "duration": 962,
    "start_time": "2021-12-21T12:01:08.118Z"
   },
   {
    "duration": 17,
    "start_time": "2021-12-21T12:01:09.082Z"
   },
   {
    "duration": 555,
    "start_time": "2021-12-21T12:01:09.102Z"
   },
   {
    "duration": 63,
    "start_time": "2021-12-21T12:01:09.660Z"
   },
   {
    "duration": 952,
    "start_time": "2021-12-21T12:01:09.731Z"
   },
   {
    "duration": 49,
    "start_time": "2021-12-21T12:01:10.686Z"
   },
   {
    "duration": 28,
    "start_time": "2021-12-21T12:01:10.739Z"
   },
   {
    "duration": 24,
    "start_time": "2021-12-21T12:01:10.770Z"
   },
   {
    "duration": 352,
    "start_time": "2021-12-21T12:01:10.825Z"
   },
   {
    "duration": 908,
    "start_time": "2021-12-21T12:02:07.258Z"
   },
   {
    "duration": 32,
    "start_time": "2021-12-21T12:02:08.169Z"
   },
   {
    "duration": 563,
    "start_time": "2021-12-21T12:02:08.205Z"
   },
   {
    "duration": 63,
    "start_time": "2021-12-21T12:02:08.771Z"
   },
   {
    "duration": 1065,
    "start_time": "2021-12-21T12:02:08.841Z"
   },
   {
    "duration": 68,
    "start_time": "2021-12-21T12:02:09.909Z"
   },
   {
    "duration": 24,
    "start_time": "2021-12-21T12:02:09.980Z"
   },
   {
    "duration": 21,
    "start_time": "2021-12-21T12:02:10.023Z"
   },
   {
    "duration": 358,
    "start_time": "2021-12-21T12:02:10.046Z"
   },
   {
    "duration": 880,
    "start_time": "2021-12-21T12:47:41.205Z"
   },
   {
    "duration": 111,
    "start_time": "2021-12-21T12:47:42.087Z"
   },
   {
    "duration": 628,
    "start_time": "2021-12-21T12:47:41.573Z"
   },
   {
    "duration": 628,
    "start_time": "2021-12-21T12:47:41.575Z"
   },
   {
    "duration": 628,
    "start_time": "2021-12-21T12:47:41.577Z"
   },
   {
    "duration": 627,
    "start_time": "2021-12-21T12:47:41.579Z"
   },
   {
    "duration": 627,
    "start_time": "2021-12-21T12:47:41.581Z"
   },
   {
    "duration": 626,
    "start_time": "2021-12-21T12:47:41.583Z"
   },
   {
    "duration": 621,
    "start_time": "2021-12-21T12:47:41.589Z"
   },
   {
    "duration": 885,
    "start_time": "2021-12-21T12:49:13.588Z"
   },
   {
    "duration": 72,
    "start_time": "2021-12-21T12:49:14.476Z"
   },
   {
    "duration": 546,
    "start_time": "2021-12-21T12:49:14.551Z"
   },
   {
    "duration": 68,
    "start_time": "2021-12-21T12:49:15.100Z"
   },
   {
    "duration": 952,
    "start_time": "2021-12-21T12:49:15.171Z"
   },
   {
    "duration": 41,
    "start_time": "2021-12-21T12:49:16.126Z"
   },
   {
    "duration": 25,
    "start_time": "2021-12-21T12:49:16.170Z"
   },
   {
    "duration": 47,
    "start_time": "2021-12-21T12:49:16.198Z"
   },
   {
    "duration": 335,
    "start_time": "2021-12-21T12:49:16.248Z"
   },
   {
    "duration": 878,
    "start_time": "2021-12-21T13:12:36.682Z"
   },
   {
    "duration": 85,
    "start_time": "2021-12-21T13:12:37.563Z"
   },
   {
    "duration": 521,
    "start_time": "2021-12-21T13:12:37.651Z"
   },
   {
    "duration": 70,
    "start_time": "2021-12-21T13:12:38.175Z"
   },
   {
    "duration": 914,
    "start_time": "2021-12-21T13:12:38.247Z"
   },
   {
    "duration": 36,
    "start_time": "2021-12-21T13:12:39.164Z"
   },
   {
    "duration": 43,
    "start_time": "2021-12-21T13:12:39.203Z"
   },
   {
    "duration": 24,
    "start_time": "2021-12-21T13:12:39.249Z"
   },
   {
    "duration": 440,
    "start_time": "2021-12-21T13:12:39.276Z"
   },
   {
    "duration": 98,
    "start_time": "2021-12-21T13:13:16.006Z"
   },
   {
    "duration": 857,
    "start_time": "2021-12-21T13:13:39.467Z"
   },
   {
    "duration": 110,
    "start_time": "2021-12-21T13:13:40.327Z"
   },
   {
    "duration": 695,
    "start_time": "2021-12-21T13:13:40.440Z"
   },
   {
    "duration": 86,
    "start_time": "2021-12-21T13:13:41.138Z"
   },
   {
    "duration": 929,
    "start_time": "2021-12-21T13:13:41.227Z"
   },
   {
    "duration": 41,
    "start_time": "2021-12-21T13:13:42.160Z"
   },
   {
    "duration": 57,
    "start_time": "2021-12-21T13:13:42.204Z"
   },
   {
    "duration": 19,
    "start_time": "2021-12-21T13:13:42.265Z"
   },
   {
    "duration": 312,
    "start_time": "2021-12-21T13:13:42.286Z"
   },
   {
    "duration": 812,
    "start_time": "2021-12-21T13:29:37.166Z"
   },
   {
    "duration": 2208,
    "start_time": "2021-12-21T13:29:37.981Z"
   },
   {
    "duration": 606,
    "start_time": "2021-12-21T13:29:39.587Z"
   },
   {
    "duration": 582,
    "start_time": "2021-12-21T13:29:39.612Z"
   },
   {
    "duration": 579,
    "start_time": "2021-12-21T13:29:39.618Z"
   },
   {
    "duration": 578,
    "start_time": "2021-12-21T13:29:39.621Z"
   },
   {
    "duration": 577,
    "start_time": "2021-12-21T13:29:39.624Z"
   },
   {
    "duration": 577,
    "start_time": "2021-12-21T13:29:39.626Z"
   },
   {
    "duration": 576,
    "start_time": "2021-12-21T13:29:39.629Z"
   },
   {
    "duration": 804,
    "start_time": "2021-12-21T13:31:05.069Z"
   },
   {
    "duration": 107,
    "start_time": "2021-12-21T13:31:05.876Z"
   },
   {
    "duration": 627,
    "start_time": "2021-12-21T13:31:05.359Z"
   },
   {
    "duration": 624,
    "start_time": "2021-12-21T13:31:05.363Z"
   },
   {
    "duration": 624,
    "start_time": "2021-12-21T13:31:05.365Z"
   },
   {
    "duration": 623,
    "start_time": "2021-12-21T13:31:05.367Z"
   },
   {
    "duration": 624,
    "start_time": "2021-12-21T13:31:05.368Z"
   },
   {
    "duration": 622,
    "start_time": "2021-12-21T13:31:05.371Z"
   },
   {
    "duration": 619,
    "start_time": "2021-12-21T13:31:05.375Z"
   },
   {
    "duration": 878,
    "start_time": "2021-12-21T13:33:49.238Z"
   },
   {
    "duration": 523,
    "start_time": "2021-12-21T13:33:50.119Z"
   },
   {
    "duration": 607,
    "start_time": "2021-12-21T13:33:50.038Z"
   },
   {
    "duration": 603,
    "start_time": "2021-12-21T13:33:50.043Z"
   },
   {
    "duration": 596,
    "start_time": "2021-12-21T13:33:50.051Z"
   },
   {
    "duration": 582,
    "start_time": "2021-12-21T13:33:50.067Z"
   },
   {
    "duration": 581,
    "start_time": "2021-12-21T13:33:50.069Z"
   },
   {
    "duration": 581,
    "start_time": "2021-12-21T13:33:50.071Z"
   },
   {
    "duration": 580,
    "start_time": "2021-12-21T13:33:50.073Z"
   },
   {
    "duration": 814,
    "start_time": "2021-12-21T13:34:49.979Z"
   },
   {
    "duration": 84,
    "start_time": "2021-12-21T13:34:50.795Z"
   },
   {
    "duration": 555,
    "start_time": "2021-12-21T13:34:50.882Z"
   },
   {
    "duration": 64,
    "start_time": "2021-12-21T13:34:51.441Z"
   },
   {
    "duration": 951,
    "start_time": "2021-12-21T13:34:51.524Z"
   },
   {
    "duration": 54,
    "start_time": "2021-12-21T13:34:52.477Z"
   },
   {
    "duration": 28,
    "start_time": "2021-12-21T13:34:52.534Z"
   },
   {
    "duration": 23,
    "start_time": "2021-12-21T13:34:52.566Z"
   },
   {
    "duration": 351,
    "start_time": "2021-12-21T13:34:52.592Z"
   },
   {
    "duration": 850,
    "start_time": "2021-12-21T13:40:43.084Z"
   },
   {
    "duration": 503,
    "start_time": "2021-12-21T13:40:43.937Z"
   },
   {
    "duration": 85,
    "start_time": "2021-12-21T13:40:44.445Z"
   },
   {
    "duration": 50,
    "start_time": "2021-12-21T13:40:44.533Z"
   },
   {
    "duration": 939,
    "start_time": "2021-12-21T13:40:44.586Z"
   },
   {
    "duration": 35,
    "start_time": "2021-12-21T13:40:45.528Z"
   },
   {
    "duration": 39,
    "start_time": "2021-12-21T13:40:45.565Z"
   },
   {
    "duration": 31,
    "start_time": "2021-12-21T13:40:45.607Z"
   },
   {
    "duration": 324,
    "start_time": "2021-12-21T13:40:45.641Z"
   },
   {
    "duration": 962,
    "start_time": "2021-12-21T13:50:00.752Z"
   },
   {
    "duration": 684,
    "start_time": "2021-12-21T13:50:01.723Z"
   },
   {
    "duration": 83,
    "start_time": "2021-12-21T13:50:02.410Z"
   },
   {
    "duration": 69,
    "start_time": "2021-12-21T13:50:02.495Z"
   },
   {
    "duration": 994,
    "start_time": "2021-12-21T13:50:02.566Z"
   },
   {
    "duration": 37,
    "start_time": "2021-12-21T13:50:03.562Z"
   },
   {
    "duration": 46,
    "start_time": "2021-12-21T13:50:03.601Z"
   },
   {
    "duration": 19,
    "start_time": "2021-12-21T13:50:03.650Z"
   },
   {
    "duration": 355,
    "start_time": "2021-12-21T13:50:03.671Z"
   },
   {
    "duration": 108,
    "start_time": "2021-12-21T13:51:11.497Z"
   },
   {
    "duration": 541,
    "start_time": "2021-12-21T13:51:41.467Z"
   },
   {
    "duration": 612,
    "start_time": "2021-12-21T13:55:45.320Z"
   },
   {
    "duration": 956,
    "start_time": "2021-12-21T13:59:58.240Z"
   },
   {
    "duration": 681,
    "start_time": "2021-12-21T13:59:59.199Z"
   },
   {
    "duration": 920,
    "start_time": "2021-12-21T13:59:59.885Z"
   },
   {
    "duration": 572,
    "start_time": "2021-12-21T14:00:00.237Z"
   },
   {
    "duration": 571,
    "start_time": "2021-12-21T14:00:00.240Z"
   },
   {
    "duration": 572,
    "start_time": "2021-12-21T14:00:00.241Z"
   },
   {
    "duration": 571,
    "start_time": "2021-12-21T14:00:00.243Z"
   },
   {
    "duration": 572,
    "start_time": "2021-12-21T14:00:00.244Z"
   },
   {
    "duration": 573,
    "start_time": "2021-12-21T14:00:00.245Z"
   },
   {
    "duration": 1049,
    "start_time": "2021-12-21T14:10:48.211Z"
   },
   {
    "duration": 326,
    "start_time": "2021-12-21T14:10:49.263Z"
   },
   {
    "duration": 626,
    "start_time": "2021-12-21T14:10:48.967Z"
   },
   {
    "duration": 624,
    "start_time": "2021-12-21T14:10:48.970Z"
   },
   {
    "duration": 623,
    "start_time": "2021-12-21T14:10:48.973Z"
   },
   {
    "duration": 618,
    "start_time": "2021-12-21T14:10:48.979Z"
   },
   {
    "duration": 583,
    "start_time": "2021-12-21T14:10:49.016Z"
   },
   {
    "duration": 580,
    "start_time": "2021-12-21T14:10:49.021Z"
   },
   {
    "duration": 580,
    "start_time": "2021-12-21T14:10:49.024Z"
   },
   {
    "duration": 116,
    "start_time": "2021-12-21T14:30:34.663Z"
   },
   {
    "duration": 503,
    "start_time": "2021-12-21T14:32:16.168Z"
   },
   {
    "duration": 925,
    "start_time": "2021-12-21T14:32:26.260Z"
   },
   {
    "duration": 726,
    "start_time": "2021-12-21T14:32:27.189Z"
   },
   {
    "duration": 543,
    "start_time": "2021-12-21T14:32:27.918Z"
   },
   {
    "duration": 572,
    "start_time": "2021-12-21T14:32:27.892Z"
   },
   {
    "duration": 572,
    "start_time": "2021-12-21T14:32:27.894Z"
   },
   {
    "duration": 572,
    "start_time": "2021-12-21T14:32:27.896Z"
   },
   {
    "duration": 572,
    "start_time": "2021-12-21T14:32:27.898Z"
   },
   {
    "duration": 572,
    "start_time": "2021-12-21T14:32:27.900Z"
   },
   {
    "duration": 572,
    "start_time": "2021-12-21T14:32:27.902Z"
   },
   {
    "duration": 335,
    "start_time": "2021-12-21T14:33:28.354Z"
   },
   {
    "duration": 889,
    "start_time": "2021-12-21T14:34:17.422Z"
   },
   {
    "duration": 987,
    "start_time": "2021-12-21T14:39:09.825Z"
   },
   {
    "duration": 114,
    "start_time": "2021-12-21T14:39:10.815Z"
   },
   {
    "duration": 615,
    "start_time": "2021-12-21T14:39:10.318Z"
   },
   {
    "duration": 613,
    "start_time": "2021-12-21T14:39:10.321Z"
   },
   {
    "duration": 613,
    "start_time": "2021-12-21T14:39:10.323Z"
   },
   {
    "duration": 615,
    "start_time": "2021-12-21T14:39:10.324Z"
   },
   {
    "duration": 615,
    "start_time": "2021-12-21T14:39:10.326Z"
   },
   {
    "duration": 606,
    "start_time": "2021-12-21T14:39:10.337Z"
   },
   {
    "duration": 607,
    "start_time": "2021-12-21T14:39:10.338Z"
   },
   {
    "duration": 998,
    "start_time": "2021-12-21T14:40:46.305Z"
   },
   {
    "duration": 993,
    "start_time": "2021-12-21T14:42:23.030Z"
   },
   {
    "duration": 874,
    "start_time": "2021-12-21T14:44:50.309Z"
   },
   {
    "duration": 684,
    "start_time": "2021-12-22T23:57:45.430Z"
   },
   {
    "duration": 597,
    "start_time": "2021-12-22T23:57:46.115Z"
   },
   {
    "duration": -82,
    "start_time": "2021-12-22T23:57:46.796Z"
   },
   {
    "duration": -85,
    "start_time": "2021-12-22T23:57:46.800Z"
   },
   {
    "duration": -86,
    "start_time": "2021-12-22T23:57:46.802Z"
   },
   {
    "duration": -87,
    "start_time": "2021-12-22T23:57:46.804Z"
   },
   {
    "duration": -88,
    "start_time": "2021-12-22T23:57:46.806Z"
   },
   {
    "duration": -90,
    "start_time": "2021-12-22T23:57:46.808Z"
   },
   {
    "duration": -90,
    "start_time": "2021-12-22T23:57:46.809Z"
   },
   {
    "duration": 634,
    "start_time": "2021-12-23T00:00:10.987Z"
   },
   {
    "duration": 370,
    "start_time": "2021-12-23T00:00:11.623Z"
   },
   {
    "duration": 324,
    "start_time": "2021-12-23T00:00:11.995Z"
   },
   {
    "duration": -106,
    "start_time": "2021-12-23T00:00:12.427Z"
   },
   {
    "duration": -109,
    "start_time": "2021-12-23T00:00:12.431Z"
   },
   {
    "duration": -110,
    "start_time": "2021-12-23T00:00:12.433Z"
   },
   {
    "duration": -111,
    "start_time": "2021-12-23T00:00:12.436Z"
   },
   {
    "duration": -113,
    "start_time": "2021-12-23T00:00:12.439Z"
   },
   {
    "duration": -114,
    "start_time": "2021-12-23T00:00:12.441Z"
   },
   {
    "duration": 597,
    "start_time": "2021-12-23T00:02:47.513Z"
   },
   {
    "duration": 372,
    "start_time": "2021-12-23T00:02:48.112Z"
   },
   {
    "duration": 283,
    "start_time": "2021-12-23T00:02:48.487Z"
   },
   {
    "duration": -100,
    "start_time": "2021-12-23T00:02:48.873Z"
   },
   {
    "duration": -101,
    "start_time": "2021-12-23T00:02:48.875Z"
   },
   {
    "duration": -103,
    "start_time": "2021-12-23T00:02:48.878Z"
   },
   {
    "duration": -103,
    "start_time": "2021-12-23T00:02:48.879Z"
   },
   {
    "duration": -103,
    "start_time": "2021-12-23T00:02:48.881Z"
   },
   {
    "duration": -103,
    "start_time": "2021-12-23T00:02:48.882Z"
   },
   {
    "duration": 301,
    "start_time": "2021-12-23T00:04:26.873Z"
   },
   {
    "duration": 656,
    "start_time": "2021-12-23T00:08:03.658Z"
   },
   {
    "duration": 379,
    "start_time": "2021-12-23T00:08:04.317Z"
   },
   {
    "duration": 291,
    "start_time": "2021-12-23T00:08:04.698Z"
   },
   {
    "duration": -95,
    "start_time": "2021-12-23T00:08:05.087Z"
   },
   {
    "duration": -96,
    "start_time": "2021-12-23T00:08:05.089Z"
   },
   {
    "duration": -97,
    "start_time": "2021-12-23T00:08:05.091Z"
   },
   {
    "duration": -98,
    "start_time": "2021-12-23T00:08:05.093Z"
   },
   {
    "duration": -98,
    "start_time": "2021-12-23T00:08:05.094Z"
   },
   {
    "duration": -98,
    "start_time": "2021-12-23T00:08:05.095Z"
   },
   {
    "duration": 674,
    "start_time": "2021-12-23T00:08:33.525Z"
   },
   {
    "duration": 376,
    "start_time": "2021-12-23T00:08:34.201Z"
   },
   {
    "duration": 296,
    "start_time": "2021-12-23T00:08:34.580Z"
   },
   {
    "duration": -96,
    "start_time": "2021-12-23T00:08:34.974Z"
   },
   {
    "duration": -98,
    "start_time": "2021-12-23T00:08:34.977Z"
   },
   {
    "duration": -98,
    "start_time": "2021-12-23T00:08:34.978Z"
   },
   {
    "duration": -100,
    "start_time": "2021-12-23T00:08:34.981Z"
   },
   {
    "duration": -100,
    "start_time": "2021-12-23T00:08:34.982Z"
   },
   {
    "duration": -101,
    "start_time": "2021-12-23T00:08:34.984Z"
   },
   {
    "duration": 579,
    "start_time": "2021-12-23T00:09:03.113Z"
   },
   {
    "duration": 381,
    "start_time": "2021-12-23T00:09:03.694Z"
   },
   {
    "duration": 283,
    "start_time": "2021-12-23T00:09:04.077Z"
   },
   {
    "duration": -96,
    "start_time": "2021-12-23T00:09:04.458Z"
   },
   {
    "duration": -97,
    "start_time": "2021-12-23T00:09:04.460Z"
   },
   {
    "duration": -98,
    "start_time": "2021-12-23T00:09:04.462Z"
   },
   {
    "duration": -101,
    "start_time": "2021-12-23T00:09:04.465Z"
   },
   {
    "duration": -104,
    "start_time": "2021-12-23T00:09:04.469Z"
   },
   {
    "duration": -104,
    "start_time": "2021-12-23T00:09:04.470Z"
   },
   {
    "duration": 694,
    "start_time": "2021-12-23T11:12:08.469Z"
   },
   {
    "duration": 529,
    "start_time": "2021-12-23T11:12:09.165Z"
   },
   {
    "duration": 472,
    "start_time": "2021-12-23T11:12:09.697Z"
   },
   {
    "duration": 396,
    "start_time": "2021-12-23T11:12:09.775Z"
   },
   {
    "duration": 394,
    "start_time": "2021-12-23T11:12:09.778Z"
   },
   {
    "duration": 392,
    "start_time": "2021-12-23T11:12:09.781Z"
   },
   {
    "duration": 390,
    "start_time": "2021-12-23T11:12:09.784Z"
   },
   {
    "duration": 387,
    "start_time": "2021-12-23T11:12:09.788Z"
   },
   {
    "duration": 387,
    "start_time": "2021-12-23T11:12:09.789Z"
   },
   {
    "duration": 759,
    "start_time": "2021-12-23T11:50:23.876Z"
   },
   {
    "duration": 269,
    "start_time": "2021-12-23T11:50:24.637Z"
   },
   {
    "duration": 0,
    "start_time": "2021-12-23T11:50:24.910Z"
   },
   {
    "duration": -1,
    "start_time": "2021-12-23T11:50:24.912Z"
   },
   {
    "duration": -2,
    "start_time": "2021-12-23T11:50:24.914Z"
   },
   {
    "duration": -3,
    "start_time": "2021-12-23T11:50:24.916Z"
   },
   {
    "duration": -4,
    "start_time": "2021-12-23T11:50:24.918Z"
   },
   {
    "duration": -4,
    "start_time": "2021-12-23T11:50:24.919Z"
   },
   {
    "duration": -4,
    "start_time": "2021-12-23T11:50:24.920Z"
   },
   {
    "duration": 638,
    "start_time": "2021-12-23T11:50:39.292Z"
   },
   {
    "duration": 341,
    "start_time": "2021-12-23T11:50:39.932Z"
   },
   {
    "duration": 292,
    "start_time": "2021-12-23T11:50:40.276Z"
   },
   {
    "duration": 379,
    "start_time": "2021-12-23T11:50:40.191Z"
   },
   {
    "duration": 375,
    "start_time": "2021-12-23T11:50:40.196Z"
   },
   {
    "duration": 373,
    "start_time": "2021-12-23T11:50:40.199Z"
   },
   {
    "duration": 369,
    "start_time": "2021-12-23T11:50:40.204Z"
   },
   {
    "duration": 366,
    "start_time": "2021-12-23T11:50:40.207Z"
   },
   {
    "duration": 365,
    "start_time": "2021-12-23T11:50:40.210Z"
   },
   {
    "duration": 680,
    "start_time": "2021-12-23T12:00:23.795Z"
   },
   {
    "duration": 327,
    "start_time": "2021-12-23T12:00:24.477Z"
   },
   {
    "duration": 359,
    "start_time": "2021-12-23T12:00:24.806Z"
   },
   {
    "duration": 330,
    "start_time": "2021-12-23T12:00:24.837Z"
   },
   {
    "duration": 330,
    "start_time": "2021-12-23T12:00:24.839Z"
   },
   {
    "duration": 330,
    "start_time": "2021-12-23T12:00:24.841Z"
   },
   {
    "duration": 330,
    "start_time": "2021-12-23T12:00:24.842Z"
   },
   {
    "duration": 331,
    "start_time": "2021-12-23T12:00:24.843Z"
   },
   {
    "duration": 330,
    "start_time": "2021-12-23T12:00:24.845Z"
   },
   {
    "duration": 902,
    "start_time": "2021-12-23T12:10:50.464Z"
   },
   {
    "duration": 707,
    "start_time": "2021-12-23T12:10:51.369Z"
   },
   {
    "duration": 874,
    "start_time": "2021-12-23T12:10:52.079Z"
   },
   {
    "duration": 380,
    "start_time": "2021-12-23T12:10:52.576Z"
   },
   {
    "duration": 379,
    "start_time": "2021-12-23T12:10:52.579Z"
   },
   {
    "duration": 378,
    "start_time": "2021-12-23T12:10:52.581Z"
   },
   {
    "duration": 379,
    "start_time": "2021-12-23T12:10:52.582Z"
   },
   {
    "duration": 378,
    "start_time": "2021-12-23T12:10:52.584Z"
   },
   {
    "duration": 379,
    "start_time": "2021-12-23T12:10:52.585Z"
   },
   {
    "duration": 677,
    "start_time": "2021-12-23T12:40:15.719Z"
   },
   {
    "duration": 537,
    "start_time": "2021-12-23T12:40:16.398Z"
   },
   {
    "duration": 45,
    "start_time": "2021-12-23T12:40:16.938Z"
   },
   {
    "duration": 39,
    "start_time": "2021-12-23T12:40:16.985Z"
   },
   {
    "duration": 692,
    "start_time": "2021-12-23T12:40:17.026Z"
   },
   {
    "duration": 24,
    "start_time": "2021-12-23T12:40:17.720Z"
   },
   {
    "duration": 37,
    "start_time": "2021-12-23T12:40:17.745Z"
   },
   {
    "duration": 14,
    "start_time": "2021-12-23T12:40:17.784Z"
   },
   {
    "duration": 205,
    "start_time": "2021-12-23T12:40:17.800Z"
   },
   {
    "duration": 634,
    "start_time": "2021-12-23T12:41:14.984Z"
   },
   {
    "duration": 425,
    "start_time": "2021-12-23T12:41:15.620Z"
   },
   {
    "duration": 36,
    "start_time": "2021-12-23T12:41:16.048Z"
   },
   {
    "duration": 48,
    "start_time": "2021-12-23T12:41:16.087Z"
   },
   {
    "duration": 673,
    "start_time": "2021-12-23T12:41:16.137Z"
   },
   {
    "duration": 22,
    "start_time": "2021-12-23T12:41:16.812Z"
   },
   {
    "duration": 35,
    "start_time": "2021-12-23T12:41:16.836Z"
   },
   {
    "duration": 14,
    "start_time": "2021-12-23T12:41:16.874Z"
   },
   {
    "duration": 207,
    "start_time": "2021-12-23T12:41:16.890Z"
   },
   {
    "duration": 687,
    "start_time": "2021-12-23T12:44:06.240Z"
   },
   {
    "duration": 73,
    "start_time": "2021-12-23T12:44:06.930Z"
   },
   {
    "duration": 435,
    "start_time": "2021-12-23T12:44:06.570Z"
   },
   {
    "duration": 431,
    "start_time": "2021-12-23T12:44:06.575Z"
   },
   {
    "duration": 429,
    "start_time": "2021-12-23T12:44:06.578Z"
   },
   {
    "duration": 427,
    "start_time": "2021-12-23T12:44:06.581Z"
   },
   {
    "duration": 426,
    "start_time": "2021-12-23T12:44:06.583Z"
   },
   {
    "duration": 425,
    "start_time": "2021-12-23T12:44:06.585Z"
   },
   {
    "duration": 423,
    "start_time": "2021-12-23T12:44:06.588Z"
   },
   {
    "duration": 623,
    "start_time": "2021-12-23T12:45:12.490Z"
   },
   {
    "duration": 421,
    "start_time": "2021-12-23T12:45:13.115Z"
   },
   {
    "duration": 32,
    "start_time": "2021-12-23T12:45:13.538Z"
   },
   {
    "duration": 37,
    "start_time": "2021-12-23T12:45:13.572Z"
   },
   {
    "duration": 671,
    "start_time": "2021-12-23T12:45:13.611Z"
   },
   {
    "duration": 22,
    "start_time": "2021-12-23T12:45:14.284Z"
   },
   {
    "duration": 22,
    "start_time": "2021-12-23T12:45:14.308Z"
   },
   {
    "duration": 30,
    "start_time": "2021-12-23T12:45:14.333Z"
   },
   {
    "duration": 195,
    "start_time": "2021-12-23T12:45:14.365Z"
   },
   {
    "duration": 658,
    "start_time": "2021-12-23T12:53:48.023Z"
   },
   {
    "duration": 467,
    "start_time": "2021-12-23T12:53:48.684Z"
   },
   {
    "duration": 33,
    "start_time": "2021-12-23T12:53:49.153Z"
   },
   {
    "duration": 38,
    "start_time": "2021-12-23T12:53:49.188Z"
   },
   {
    "duration": 668,
    "start_time": "2021-12-23T12:53:49.228Z"
   },
   {
    "duration": 24,
    "start_time": "2021-12-23T12:53:49.898Z"
   },
   {
    "duration": 32,
    "start_time": "2021-12-23T12:53:49.923Z"
   },
   {
    "duration": 14,
    "start_time": "2021-12-23T12:53:49.962Z"
   },
   {
    "duration": 199,
    "start_time": "2021-12-23T12:53:49.978Z"
   },
   {
    "duration": 700,
    "start_time": "2021-12-23T13:07:54.045Z"
   },
   {
    "duration": 434,
    "start_time": "2021-12-23T13:07:54.747Z"
   },
   {
    "duration": 23,
    "start_time": "2021-12-23T13:07:55.187Z"
   },
   {
    "duration": 62,
    "start_time": "2021-12-23T13:07:55.213Z"
   },
   {
    "duration": 683,
    "start_time": "2021-12-23T13:07:55.277Z"
   },
   {
    "duration": 23,
    "start_time": "2021-12-23T13:07:55.963Z"
   },
   {
    "duration": 18,
    "start_time": "2021-12-23T13:07:55.989Z"
   },
   {
    "duration": 14,
    "start_time": "2021-12-23T13:07:56.010Z"
   },
   {
    "duration": 217,
    "start_time": "2021-12-23T13:07:56.026Z"
   },
   {
    "duration": 615,
    "start_time": "2021-12-23T13:09:32.399Z"
   },
   {
    "duration": 438,
    "start_time": "2021-12-23T13:09:33.016Z"
   },
   {
    "duration": 19,
    "start_time": "2021-12-23T13:09:33.456Z"
   },
   {
    "duration": 38,
    "start_time": "2021-12-23T13:09:33.477Z"
   },
   {
    "duration": 697,
    "start_time": "2021-12-23T13:09:33.517Z"
   },
   {
    "duration": 22,
    "start_time": "2021-12-23T13:09:34.216Z"
   },
   {
    "duration": 34,
    "start_time": "2021-12-23T13:09:34.240Z"
   },
   {
    "duration": 12,
    "start_time": "2021-12-23T13:09:34.277Z"
   },
   {
    "duration": 196,
    "start_time": "2021-12-23T13:09:34.291Z"
   },
   {
    "duration": 680,
    "start_time": "2021-12-23T13:14:16.759Z"
   },
   {
    "duration": 464,
    "start_time": "2021-12-23T13:14:17.441Z"
   },
   {
    "duration": 15,
    "start_time": "2021-12-23T13:14:17.907Z"
   },
   {
    "duration": 59,
    "start_time": "2021-12-23T13:14:17.924Z"
   },
   {
    "duration": 682,
    "start_time": "2021-12-23T13:14:17.984Z"
   },
   {
    "duration": 22,
    "start_time": "2021-12-23T13:14:18.669Z"
   },
   {
    "duration": 19,
    "start_time": "2021-12-23T13:14:18.693Z"
   },
   {
    "duration": 14,
    "start_time": "2021-12-23T13:14:18.714Z"
   },
   {
    "duration": 221,
    "start_time": "2021-12-23T13:14:18.730Z"
   },
   {
    "duration": 670,
    "start_time": "2021-12-23T13:15:29.840Z"
   },
   {
    "duration": 444,
    "start_time": "2021-12-23T13:15:30.512Z"
   },
   {
    "duration": 15,
    "start_time": "2021-12-23T13:15:30.957Z"
   },
   {
    "duration": 36,
    "start_time": "2021-12-23T13:15:30.974Z"
   },
   {
    "duration": 673,
    "start_time": "2021-12-23T13:15:31.012Z"
   },
   {
    "duration": 23,
    "start_time": "2021-12-23T13:15:31.687Z"
   },
   {
    "duration": 26,
    "start_time": "2021-12-23T13:15:31.712Z"
   },
   {
    "duration": 32,
    "start_time": "2021-12-23T13:15:31.740Z"
   },
   {
    "duration": 192,
    "start_time": "2021-12-23T13:15:31.773Z"
   },
   {
    "duration": 673,
    "start_time": "2021-12-23T13:45:44.842Z"
   },
   {
    "duration": 425,
    "start_time": "2021-12-23T13:45:45.517Z"
   },
   {
    "duration": 24,
    "start_time": "2021-12-23T13:45:45.944Z"
   },
   {
    "duration": 59,
    "start_time": "2021-12-23T13:45:45.970Z"
   },
   {
    "duration": 669,
    "start_time": "2021-12-23T13:45:46.031Z"
   },
   {
    "duration": 22,
    "start_time": "2021-12-23T13:45:46.702Z"
   },
   {
    "duration": 37,
    "start_time": "2021-12-23T13:45:46.725Z"
   },
   {
    "duration": 13,
    "start_time": "2021-12-23T13:45:46.764Z"
   },
   {
    "duration": 189,
    "start_time": "2021-12-23T13:45:46.779Z"
   },
   {
    "duration": 664,
    "start_time": "2021-12-23T13:46:52.767Z"
   },
   {
    "duration": 415,
    "start_time": "2021-12-23T13:46:53.433Z"
   },
   {
    "duration": 24,
    "start_time": "2021-12-23T13:46:53.850Z"
   },
   {
    "duration": 57,
    "start_time": "2021-12-23T13:46:53.876Z"
   },
   {
    "duration": 669,
    "start_time": "2021-12-23T13:46:53.934Z"
   },
   {
    "duration": 23,
    "start_time": "2021-12-23T13:46:54.606Z"
   },
   {
    "duration": 32,
    "start_time": "2021-12-23T13:46:54.631Z"
   },
   {
    "duration": 13,
    "start_time": "2021-12-23T13:46:54.665Z"
   },
   {
    "duration": 198,
    "start_time": "2021-12-23T13:46:54.679Z"
   },
   {
    "duration": 350,
    "start_time": "2021-12-23T13:47:13.796Z"
   },
   {
    "duration": 627,
    "start_time": "2021-12-23T13:54:21.221Z"
   },
   {
    "duration": 395,
    "start_time": "2021-12-23T13:54:21.850Z"
   },
   {
    "duration": 25,
    "start_time": "2021-12-23T13:54:22.247Z"
   },
   {
    "duration": 59,
    "start_time": "2021-12-23T13:54:22.274Z"
   },
   {
    "duration": 664,
    "start_time": "2021-12-23T13:54:22.335Z"
   },
   {
    "duration": 25,
    "start_time": "2021-12-23T13:54:23.001Z"
   },
   {
    "duration": 35,
    "start_time": "2021-12-23T13:54:23.028Z"
   },
   {
    "duration": 13,
    "start_time": "2021-12-23T13:54:23.066Z"
   },
   {
    "duration": 199,
    "start_time": "2021-12-23T13:54:23.081Z"
   },
   {
    "duration": 671,
    "start_time": "2021-12-23T13:58:09.644Z"
   },
   {
    "duration": 411,
    "start_time": "2021-12-23T13:58:10.317Z"
   },
   {
    "duration": 17,
    "start_time": "2021-12-23T13:58:10.730Z"
   },
   {
    "duration": 59,
    "start_time": "2021-12-23T13:58:10.760Z"
   },
   {
    "duration": 671,
    "start_time": "2021-12-23T13:58:10.821Z"
   },
   {
    "duration": 23,
    "start_time": "2021-12-23T13:58:11.494Z"
   },
   {
    "duration": 22,
    "start_time": "2021-12-23T13:58:11.518Z"
   },
   {
    "duration": 25,
    "start_time": "2021-12-23T13:58:11.543Z"
   },
   {
    "duration": 198,
    "start_time": "2021-12-23T13:58:11.569Z"
   },
   {
    "duration": 591,
    "start_time": "2021-12-23T13:59:06.957Z"
   },
   {
    "duration": 891,
    "start_time": "2021-12-23T14:04:48.044Z"
   },
   {
    "duration": 386,
    "start_time": "2021-12-23T14:04:48.552Z"
   },
   {
    "duration": 376,
    "start_time": "2021-12-23T14:04:48.564Z"
   },
   {
    "duration": 370,
    "start_time": "2021-12-23T14:04:48.571Z"
   },
   {
    "duration": 364,
    "start_time": "2021-12-23T14:04:48.578Z"
   },
   {
    "duration": 361,
    "start_time": "2021-12-23T14:04:48.582Z"
   },
   {
    "duration": 357,
    "start_time": "2021-12-23T14:04:48.587Z"
   },
   {
    "duration": 347,
    "start_time": "2021-12-23T14:04:48.597Z"
   },
   {
    "duration": 342,
    "start_time": "2021-12-23T14:04:48.603Z"
   },
   {
    "duration": 886,
    "start_time": "2021-12-23T14:05:03.779Z"
   },
   {
    "duration": 432,
    "start_time": "2021-12-23T14:05:04.235Z"
   },
   {
    "duration": 432,
    "start_time": "2021-12-23T14:05:04.236Z"
   },
   {
    "duration": 380,
    "start_time": "2021-12-23T14:05:04.288Z"
   },
   {
    "duration": 379,
    "start_time": "2021-12-23T14:05:04.290Z"
   },
   {
    "duration": 376,
    "start_time": "2021-12-23T14:05:04.294Z"
   },
   {
    "duration": 373,
    "start_time": "2021-12-23T14:05:04.297Z"
   },
   {
    "duration": 372,
    "start_time": "2021-12-23T14:05:04.299Z"
   },
   {
    "duration": 372,
    "start_time": "2021-12-23T14:05:04.300Z"
   },
   {
    "duration": 700,
    "start_time": "2021-12-23T14:05:21.168Z"
   },
   {
    "duration": 445,
    "start_time": "2021-12-23T14:05:21.870Z"
   },
   {
    "duration": 19,
    "start_time": "2021-12-23T14:05:22.317Z"
   },
   {
    "duration": 91,
    "start_time": "2021-12-23T14:05:22.338Z"
   },
   {
    "duration": 689,
    "start_time": "2021-12-23T14:05:22.432Z"
   },
   {
    "duration": 37,
    "start_time": "2021-12-23T14:05:23.123Z"
   },
   {
    "duration": 25,
    "start_time": "2021-12-23T14:05:23.163Z"
   },
   {
    "duration": 18,
    "start_time": "2021-12-23T14:05:23.190Z"
   },
   {
    "duration": 296,
    "start_time": "2021-12-23T14:05:23.211Z"
   },
   {
    "duration": 667,
    "start_time": "2021-12-23T14:23:34.610Z"
   },
   {
    "duration": 398,
    "start_time": "2021-12-23T14:23:35.279Z"
   },
   {
    "duration": 16,
    "start_time": "2021-12-23T14:23:35.679Z"
   },
   {
    "duration": 74,
    "start_time": "2021-12-23T14:23:35.697Z"
   },
   {
    "duration": 3443,
    "start_time": "2021-12-23T14:23:35.773Z"
   },
   {
    "duration": 11,
    "start_time": "2021-12-23T14:23:39.218Z"
   },
   {
    "duration": 32,
    "start_time": "2021-12-23T14:23:39.231Z"
   },
   {
    "duration": 14,
    "start_time": "2021-12-23T14:23:39.265Z"
   },
   {
    "duration": 194,
    "start_time": "2021-12-23T14:23:39.280Z"
   },
   {
    "duration": 720,
    "start_time": "2021-12-23T14:25:07.653Z"
   },
   {
    "duration": 411,
    "start_time": "2021-12-23T14:25:08.375Z"
   },
   {
    "duration": 15,
    "start_time": "2021-12-23T14:25:08.788Z"
   },
   {
    "duration": 75,
    "start_time": "2021-12-23T14:25:08.805Z"
   },
   {
    "duration": 3727,
    "start_time": "2021-12-23T14:25:08.882Z"
   },
   {
    "duration": 26,
    "start_time": "2021-12-23T14:25:12.611Z"
   },
   {
    "duration": 36,
    "start_time": "2021-12-23T14:25:12.639Z"
   },
   {
    "duration": 15,
    "start_time": "2021-12-23T14:25:12.678Z"
   },
   {
    "duration": 198,
    "start_time": "2021-12-23T14:25:12.695Z"
   },
   {
    "duration": 631,
    "start_time": "2021-12-23T14:31:18.122Z"
   },
   {
    "duration": 388,
    "start_time": "2021-12-23T14:31:18.755Z"
   },
   {
    "duration": 23,
    "start_time": "2021-12-23T14:31:19.145Z"
   },
   {
    "duration": 53,
    "start_time": "2021-12-23T14:31:19.170Z"
   },
   {
    "duration": 3620,
    "start_time": "2021-12-23T14:31:19.225Z"
   },
   {
    "duration": 38,
    "start_time": "2021-12-23T14:31:22.847Z"
   },
   {
    "duration": 22,
    "start_time": "2021-12-23T14:31:22.886Z"
   },
   {
    "duration": 12,
    "start_time": "2021-12-23T14:31:22.910Z"
   },
   {
    "duration": 199,
    "start_time": "2021-12-23T14:31:22.924Z"
   },
   {
    "duration": 776,
    "start_time": "2021-12-23T14:42:41.121Z"
   },
   {
    "duration": 527,
    "start_time": "2021-12-23T14:42:41.899Z"
   },
   {
    "duration": 15,
    "start_time": "2021-12-23T14:42:42.428Z"
   },
   {
    "duration": 66,
    "start_time": "2021-12-23T14:42:42.445Z"
   },
   {
    "duration": 3567,
    "start_time": "2021-12-23T14:42:42.513Z"
   },
   {
    "duration": 26,
    "start_time": "2021-12-23T14:42:46.082Z"
   },
   {
    "duration": 22,
    "start_time": "2021-12-23T14:42:46.109Z"
   },
   {
    "duration": 31,
    "start_time": "2021-12-23T14:42:46.133Z"
   },
   {
    "duration": 199,
    "start_time": "2021-12-23T14:42:46.166Z"
   },
   {
    "duration": 671,
    "start_time": "2021-12-23T15:39:20.665Z"
   },
   {
    "duration": 525,
    "start_time": "2021-12-23T15:39:21.338Z"
   },
   {
    "duration": 20,
    "start_time": "2021-12-23T15:39:21.866Z"
   },
   {
    "duration": 75,
    "start_time": "2021-12-23T15:39:21.889Z"
   },
   {
    "duration": 3547,
    "start_time": "2021-12-23T15:39:21.966Z"
   },
   {
    "duration": 27,
    "start_time": "2021-12-23T15:39:25.515Z"
   },
   {
    "duration": 51,
    "start_time": "2021-12-23T15:39:25.544Z"
   },
   {
    "duration": 14,
    "start_time": "2021-12-23T15:39:25.598Z"
   },
   {
    "duration": 212,
    "start_time": "2021-12-23T15:39:25.613Z"
   },
   {
    "duration": 650,
    "start_time": "2021-12-23T15:42:03.971Z"
   },
   {
    "duration": 522,
    "start_time": "2021-12-23T15:42:04.623Z"
   },
   {
    "duration": 24,
    "start_time": "2021-12-23T15:42:05.147Z"
   },
   {
    "duration": 42,
    "start_time": "2021-12-23T15:42:05.173Z"
   },
   {
    "duration": 3586,
    "start_time": "2021-12-23T15:42:05.216Z"
   },
   {
    "duration": 24,
    "start_time": "2021-12-23T15:42:08.804Z"
   },
   {
    "duration": 70,
    "start_time": "2021-12-23T15:42:08.830Z"
   },
   {
    "duration": 337,
    "start_time": "2021-12-23T15:42:08.565Z"
   },
   {
    "duration": 335,
    "start_time": "2021-12-23T15:42:08.568Z"
   },
   {
    "duration": 676,
    "start_time": "2021-12-23T15:42:27.141Z"
   },
   {
    "duration": 444,
    "start_time": "2021-12-23T15:42:27.820Z"
   },
   {
    "duration": 14,
    "start_time": "2021-12-23T15:42:28.266Z"
   },
   {
    "duration": 49,
    "start_time": "2021-12-23T15:42:28.283Z"
   },
   {
    "duration": 3586,
    "start_time": "2021-12-23T15:42:28.334Z"
   },
   {
    "duration": 40,
    "start_time": "2021-12-23T15:42:31.922Z"
   },
   {
    "duration": 412,
    "start_time": "2021-12-23T15:42:31.964Z"
   },
   {
    "duration": 409,
    "start_time": "2021-12-23T15:42:31.969Z"
   },
   {
    "duration": 408,
    "start_time": "2021-12-23T15:42:31.971Z"
   },
   {
    "duration": 682,
    "start_time": "2021-12-23T15:43:07.292Z"
   },
   {
    "duration": 452,
    "start_time": "2021-12-23T15:43:07.976Z"
   },
   {
    "duration": 14,
    "start_time": "2021-12-23T15:43:08.430Z"
   },
   {
    "duration": 52,
    "start_time": "2021-12-23T15:43:08.446Z"
   },
   {
    "duration": 3530,
    "start_time": "2021-12-23T15:43:08.500Z"
   },
   {
    "duration": 40,
    "start_time": "2021-12-23T15:43:12.032Z"
   },
   {
    "duration": 39,
    "start_time": "2021-12-23T15:43:12.074Z"
   },
   {
    "duration": 17,
    "start_time": "2021-12-23T15:43:12.116Z"
   },
   {
    "duration": 326,
    "start_time": "2021-12-23T15:43:12.135Z"
   },
   {
    "duration": 631,
    "start_time": "2021-12-23T15:43:27.704Z"
   },
   {
    "duration": 441,
    "start_time": "2021-12-23T15:43:28.338Z"
   },
   {
    "duration": 15,
    "start_time": "2021-12-23T15:43:28.781Z"
   },
   {
    "duration": 40,
    "start_time": "2021-12-23T15:43:28.798Z"
   },
   {
    "duration": 3491,
    "start_time": "2021-12-23T15:43:28.840Z"
   },
   {
    "duration": 38,
    "start_time": "2021-12-23T15:43:32.333Z"
   },
   {
    "duration": 42,
    "start_time": "2021-12-23T15:43:32.373Z"
   },
   {
    "duration": 13,
    "start_time": "2021-12-23T15:43:32.417Z"
   },
   {
    "duration": 207,
    "start_time": "2021-12-23T15:43:32.431Z"
   },
   {
    "duration": 731,
    "start_time": "2021-12-23T15:45:51.517Z"
   },
   {
    "duration": 468,
    "start_time": "2021-12-23T15:45:52.250Z"
   },
   {
    "duration": 17,
    "start_time": "2021-12-23T15:45:52.720Z"
   },
   {
    "duration": 55,
    "start_time": "2021-12-23T15:45:52.739Z"
   },
   {
    "duration": 3565,
    "start_time": "2021-12-23T15:45:52.795Z"
   },
   {
    "duration": 28,
    "start_time": "2021-12-23T15:45:56.362Z"
   },
   {
    "duration": 69,
    "start_time": "2021-12-23T15:45:56.392Z"
   },
   {
    "duration": 13,
    "start_time": "2021-12-23T15:45:56.464Z"
   },
   {
    "duration": 201,
    "start_time": "2021-12-23T15:45:56.478Z"
   },
   {
    "duration": 697,
    "start_time": "2021-12-23T15:53:56.129Z"
   },
   {
    "duration": 443,
    "start_time": "2021-12-23T15:53:56.828Z"
   },
   {
    "duration": 16,
    "start_time": "2021-12-23T15:53:57.273Z"
   },
   {
    "duration": 44,
    "start_time": "2021-12-23T15:53:57.290Z"
   },
   {
    "duration": 3493,
    "start_time": "2021-12-23T15:53:57.335Z"
   },
   {
    "duration": 42,
    "start_time": "2021-12-23T15:54:00.830Z"
   },
   {
    "duration": 322,
    "start_time": "2021-12-23T15:54:00.874Z"
   },
   {
    "duration": 410,
    "start_time": "2021-12-23T15:54:00.788Z"
   },
   {
    "duration": 409,
    "start_time": "2021-12-23T15:54:00.790Z"
   },
   {
    "duration": 636,
    "start_time": "2021-12-23T15:54:48.981Z"
   },
   {
    "duration": 459,
    "start_time": "2021-12-23T15:54:49.619Z"
   },
   {
    "duration": 15,
    "start_time": "2021-12-23T15:54:50.080Z"
   },
   {
    "duration": 41,
    "start_time": "2021-12-23T15:54:50.096Z"
   },
   {
    "duration": 3659,
    "start_time": "2021-12-23T15:54:50.138Z"
   },
   {
    "duration": 27,
    "start_time": "2021-12-23T15:54:53.799Z"
   },
   {
    "duration": 67,
    "start_time": "2021-12-23T15:54:53.828Z"
   },
   {
    "duration": 12,
    "start_time": "2021-12-23T15:54:53.897Z"
   },
   {
    "duration": 194,
    "start_time": "2021-12-23T15:54:53.911Z"
   },
   {
    "duration": 642,
    "start_time": "2021-12-23T15:55:24.383Z"
   },
   {
    "duration": 450,
    "start_time": "2021-12-23T15:55:25.027Z"
   },
   {
    "duration": 16,
    "start_time": "2021-12-23T15:55:25.479Z"
   },
   {
    "duration": 41,
    "start_time": "2021-12-23T15:55:25.497Z"
   },
   {
    "duration": 3559,
    "start_time": "2021-12-23T15:55:25.540Z"
   },
   {
    "duration": 24,
    "start_time": "2021-12-23T15:55:29.101Z"
   },
   {
    "duration": 65,
    "start_time": "2021-12-23T15:55:29.126Z"
   },
   {
    "duration": 11,
    "start_time": "2021-12-23T15:55:29.194Z"
   },
   {
    "duration": 199,
    "start_time": "2021-12-23T15:55:29.207Z"
   },
   {
    "duration": 683,
    "start_time": "2021-12-23T16:08:47.450Z"
   },
   {
    "duration": 446,
    "start_time": "2021-12-23T16:08:48.135Z"
   },
   {
    "duration": 13,
    "start_time": "2021-12-23T16:08:48.583Z"
   },
   {
    "duration": 43,
    "start_time": "2021-12-23T16:08:48.598Z"
   },
   {
    "duration": 3655,
    "start_time": "2021-12-23T16:08:48.643Z"
   },
   {
    "duration": 28,
    "start_time": "2021-12-23T16:08:52.300Z"
   },
   {
    "duration": 61,
    "start_time": "2021-12-23T16:08:52.329Z"
   },
   {
    "duration": 13,
    "start_time": "2021-12-23T16:08:52.392Z"
   },
   {
    "duration": 20,
    "start_time": "2021-12-23T16:08:52.407Z"
   },
   {
    "duration": 944,
    "start_time": "2021-12-24T12:37:34.298Z"
   },
   {
    "duration": 758,
    "start_time": "2021-12-24T12:37:35.246Z"
   },
   {
    "duration": 31,
    "start_time": "2021-12-24T12:37:36.008Z"
   },
   {
    "duration": 91,
    "start_time": "2021-12-24T12:37:36.043Z"
   },
   {
    "duration": 5152,
    "start_time": "2021-12-24T12:37:36.137Z"
   },
   {
    "duration": 59,
    "start_time": "2021-12-24T12:37:41.292Z"
   },
   {
    "duration": 86,
    "start_time": "2021-12-24T12:37:41.354Z"
   },
   {
    "duration": 21,
    "start_time": "2021-12-24T12:37:41.444Z"
   },
   {
    "duration": 80,
    "start_time": "2021-12-24T12:37:41.468Z"
   },
   {
    "duration": 545,
    "start_time": "2021-12-24T12:37:41.551Z"
   },
   {
    "duration": 875,
    "start_time": "2021-12-24T12:45:43.614Z"
   },
   {
    "duration": 714,
    "start_time": "2021-12-24T12:45:44.491Z"
   },
   {
    "duration": 29,
    "start_time": "2021-12-24T12:45:45.208Z"
   },
   {
    "duration": 86,
    "start_time": "2021-12-24T12:45:45.240Z"
   },
   {
    "duration": 4597,
    "start_time": "2021-12-24T12:45:45.329Z"
   },
   {
    "duration": 42,
    "start_time": "2021-12-24T12:45:49.930Z"
   },
   {
    "duration": 120,
    "start_time": "2021-12-24T12:45:49.975Z"
   },
   {
    "duration": 41,
    "start_time": "2021-12-24T12:45:50.100Z"
   },
   {
    "duration": 45,
    "start_time": "2021-12-24T12:45:50.145Z"
   },
   {
    "duration": 66,
    "start_time": "2021-12-24T12:45:50.193Z"
   },
   {
    "duration": 850,
    "start_time": "2021-12-24T12:46:49.949Z"
   },
   {
    "duration": 721,
    "start_time": "2021-12-24T12:46:50.802Z"
   },
   {
    "duration": 24,
    "start_time": "2021-12-24T12:46:51.526Z"
   },
   {
    "duration": 85,
    "start_time": "2021-12-24T12:46:51.553Z"
   },
   {
    "duration": 4583,
    "start_time": "2021-12-24T12:46:51.641Z"
   },
   {
    "duration": 43,
    "start_time": "2021-12-24T12:46:56.226Z"
   },
   {
    "duration": 87,
    "start_time": "2021-12-24T12:46:56.271Z"
   },
   {
    "duration": 20,
    "start_time": "2021-12-24T12:46:56.361Z"
   },
   {
    "duration": 56,
    "start_time": "2021-12-24T12:46:56.383Z"
   },
   {
    "duration": 30,
    "start_time": "2021-12-24T12:46:56.441Z"
   },
   {
    "duration": 953,
    "start_time": "2021-12-24T12:47:25.996Z"
   },
   {
    "duration": 710,
    "start_time": "2021-12-24T12:47:26.952Z"
   },
   {
    "duration": 25,
    "start_time": "2021-12-24T12:47:27.665Z"
   },
   {
    "duration": 81,
    "start_time": "2021-12-24T12:47:27.692Z"
   },
   {
    "duration": 4998,
    "start_time": "2021-12-24T12:47:27.775Z"
   },
   {
    "duration": 65,
    "start_time": "2021-12-24T12:47:32.775Z"
   },
   {
    "duration": 78,
    "start_time": "2021-12-24T12:47:32.843Z"
   },
   {
    "duration": 21,
    "start_time": "2021-12-24T12:47:32.924Z"
   },
   {
    "duration": 31,
    "start_time": "2021-12-24T12:47:32.948Z"
   },
   {
    "duration": 64,
    "start_time": "2021-12-24T12:47:32.982Z"
   },
   {
    "duration": 898,
    "start_time": "2021-12-24T12:50:17.016Z"
   },
   {
    "duration": 725,
    "start_time": "2021-12-24T12:50:17.917Z"
   },
   {
    "duration": 25,
    "start_time": "2021-12-24T12:50:18.645Z"
   },
   {
    "duration": 88,
    "start_time": "2021-12-24T12:50:18.673Z"
   },
   {
    "duration": 4842,
    "start_time": "2021-12-24T12:50:18.763Z"
   },
   {
    "duration": 43,
    "start_time": "2021-12-24T12:50:23.618Z"
   },
   {
    "duration": 90,
    "start_time": "2021-12-24T12:50:23.664Z"
   },
   {
    "duration": 19,
    "start_time": "2021-12-24T12:50:23.758Z"
   },
   {
    "duration": 59,
    "start_time": "2021-12-24T12:50:23.780Z"
   },
   {
    "duration": 37,
    "start_time": "2021-12-24T12:50:23.842Z"
   },
   {
    "duration": 830,
    "start_time": "2021-12-24T13:01:04.968Z"
   },
   {
    "duration": 1140,
    "start_time": "2021-12-24T13:01:05.801Z"
   },
   {
    "duration": 26,
    "start_time": "2021-12-24T13:01:06.945Z"
   },
   {
    "duration": 93,
    "start_time": "2021-12-24T13:01:06.974Z"
   },
   {
    "duration": 4589,
    "start_time": "2021-12-24T13:01:07.070Z"
   },
   {
    "duration": 42,
    "start_time": "2021-12-24T13:01:11.662Z"
   },
   {
    "duration": 62,
    "start_time": "2021-12-24T13:01:11.718Z"
   },
   {
    "duration": 46,
    "start_time": "2021-12-24T13:01:11.783Z"
   },
   {
    "duration": 37,
    "start_time": "2021-12-24T13:01:11.832Z"
   },
   {
    "duration": 80,
    "start_time": "2021-12-24T13:01:11.873Z"
   },
   {
    "duration": 860,
    "start_time": "2021-12-24T13:07:10.663Z"
   },
   {
    "duration": 1250,
    "start_time": "2021-12-24T13:07:11.525Z"
   },
   {
    "duration": 26,
    "start_time": "2021-12-24T13:07:12.779Z"
   },
   {
    "duration": 65,
    "start_time": "2021-12-24T13:07:12.818Z"
   },
   {
    "duration": 4533,
    "start_time": "2021-12-24T13:07:12.885Z"
   },
   {
    "duration": 44,
    "start_time": "2021-12-24T13:07:17.421Z"
   },
   {
    "duration": 87,
    "start_time": "2021-12-24T13:07:17.468Z"
   },
   {
    "duration": 20,
    "start_time": "2021-12-24T13:07:17.558Z"
   },
   {
    "duration": 53,
    "start_time": "2021-12-24T13:07:17.580Z"
   },
   {
    "duration": 33,
    "start_time": "2021-12-24T13:07:17.635Z"
   },
   {
    "duration": 891,
    "start_time": "2021-12-24T13:07:40.511Z"
   },
   {
    "duration": 1113,
    "start_time": "2021-12-24T13:07:41.404Z"
   },
   {
    "duration": 24,
    "start_time": "2021-12-24T13:07:42.520Z"
   },
   {
    "duration": 86,
    "start_time": "2021-12-24T13:07:42.546Z"
   },
   {
    "duration": 4565,
    "start_time": "2021-12-24T13:07:42.635Z"
   },
   {
    "duration": 51,
    "start_time": "2021-12-24T13:07:47.202Z"
   },
   {
    "duration": 83,
    "start_time": "2021-12-24T13:07:47.255Z"
   },
   {
    "duration": 21,
    "start_time": "2021-12-24T13:07:47.341Z"
   },
   {
    "duration": 55,
    "start_time": "2021-12-24T13:07:47.364Z"
   },
   {
    "duration": 34,
    "start_time": "2021-12-24T13:07:47.421Z"
   },
   {
    "duration": 845,
    "start_time": "2021-12-24T13:10:01.870Z"
   },
   {
    "duration": 1129,
    "start_time": "2021-12-24T13:10:02.717Z"
   },
   {
    "duration": 25,
    "start_time": "2021-12-24T13:10:03.850Z"
   },
   {
    "duration": 94,
    "start_time": "2021-12-24T13:10:03.878Z"
   },
   {
    "duration": 4551,
    "start_time": "2021-12-24T13:10:03.974Z"
   },
   {
    "duration": 42,
    "start_time": "2021-12-24T13:10:08.528Z"
   },
   {
    "duration": 90,
    "start_time": "2021-12-24T13:10:08.573Z"
   },
   {
    "duration": 21,
    "start_time": "2021-12-24T13:10:08.667Z"
   },
   {
    "duration": 58,
    "start_time": "2021-12-24T13:10:08.691Z"
   },
   {
    "duration": 34,
    "start_time": "2021-12-24T13:10:08.751Z"
   },
   {
    "duration": 953,
    "start_time": "2021-12-25T08:50:11.530Z"
   },
   {
    "duration": 628,
    "start_time": "2021-12-25T08:50:12.485Z"
   },
   {
    "duration": 133,
    "start_time": "2021-12-25T08:50:13.119Z"
   },
   {
    "duration": 234,
    "start_time": "2021-12-25T08:50:13.256Z"
   },
   {
    "duration": 506,
    "start_time": "2021-12-25T08:50:13.492Z"
   },
   {
    "duration": 16,
    "start_time": "2021-12-25T08:50:14.001Z"
   },
   {
    "duration": 8,
    "start_time": "2021-12-25T08:50:14.020Z"
   },
   {
    "duration": 27,
    "start_time": "2021-12-25T08:50:14.033Z"
   },
   {
    "duration": 73,
    "start_time": "2021-12-25T08:50:14.063Z"
   },
   {
    "duration": 109,
    "start_time": "2021-12-25T08:50:14.139Z"
   },
   {
    "duration": 6121,
    "start_time": "2021-12-25T08:50:14.250Z"
   },
   {
    "duration": 65,
    "start_time": "2021-12-25T08:50:20.374Z"
   },
   {
    "duration": 85,
    "start_time": "2021-12-25T08:50:20.441Z"
   },
   {
    "duration": 21,
    "start_time": "2021-12-25T08:50:20.528Z"
   },
   {
    "duration": 31,
    "start_time": "2021-12-25T08:50:20.551Z"
   },
   {
    "duration": 64,
    "start_time": "2021-12-25T08:50:20.584Z"
   },
   {
    "duration": 880,
    "start_time": "2021-12-25T08:51:51.880Z"
   },
   {
    "duration": 438,
    "start_time": "2021-12-25T08:51:52.762Z"
   },
   {
    "duration": 35,
    "start_time": "2021-12-25T08:51:53.203Z"
   },
   {
    "duration": 18,
    "start_time": "2021-12-25T08:51:53.241Z"
   },
   {
    "duration": 20,
    "start_time": "2021-12-25T08:51:53.262Z"
   },
   {
    "duration": 49,
    "start_time": "2021-12-25T08:51:53.284Z"
   },
   {
    "duration": 13,
    "start_time": "2021-12-25T08:51:53.335Z"
   },
   {
    "duration": 204,
    "start_time": "2021-12-25T08:51:53.352Z"
   },
   {
    "duration": 415,
    "start_time": "2021-12-25T08:51:53.559Z"
   },
   {
    "duration": 7,
    "start_time": "2021-12-25T08:51:53.977Z"
   },
   {
    "duration": 30,
    "start_time": "2021-12-25T08:51:53.987Z"
   },
   {
    "duration": 22,
    "start_time": "2021-12-25T08:51:54.020Z"
   },
   {
    "duration": 27,
    "start_time": "2021-12-25T08:51:54.045Z"
   },
   {
    "duration": 93,
    "start_time": "2021-12-25T08:51:54.075Z"
   },
   {
    "duration": 4603,
    "start_time": "2021-12-25T08:51:54.170Z"
   },
   {
    "duration": 58,
    "start_time": "2021-12-25T08:51:58.776Z"
   },
   {
    "duration": 81,
    "start_time": "2021-12-25T08:51:58.837Z"
   },
   {
    "duration": 22,
    "start_time": "2021-12-25T08:51:58.920Z"
   },
   {
    "duration": 30,
    "start_time": "2021-12-25T08:51:58.944Z"
   },
   {
    "duration": 66,
    "start_time": "2021-12-25T08:51:58.976Z"
   },
   {
    "duration": 767,
    "start_time": "2021-12-25T08:55:11.323Z"
   },
   {
    "duration": 132,
    "start_time": "2021-12-25T08:55:12.093Z"
   },
   {
    "duration": 440,
    "start_time": "2021-12-25T08:55:12.228Z"
   },
   {
    "duration": 25,
    "start_time": "2021-12-25T08:55:12.672Z"
   },
   {
    "duration": 36,
    "start_time": "2021-12-25T08:55:12.700Z"
   },
   {
    "duration": 20,
    "start_time": "2021-12-25T08:55:12.740Z"
   },
   {
    "duration": 55,
    "start_time": "2021-12-25T08:55:12.762Z"
   },
   {
    "duration": 13,
    "start_time": "2021-12-25T08:55:12.821Z"
   },
   {
    "duration": 194,
    "start_time": "2021-12-25T08:55:12.837Z"
   },
   {
    "duration": 412,
    "start_time": "2021-12-25T08:55:13.033Z"
   },
   {
    "duration": 7,
    "start_time": "2021-12-25T08:55:13.448Z"
   },
   {
    "duration": 8,
    "start_time": "2021-12-25T08:55:13.458Z"
   },
   {
    "duration": 49,
    "start_time": "2021-12-25T08:55:13.468Z"
   },
   {
    "duration": 26,
    "start_time": "2021-12-25T08:55:13.520Z"
   },
   {
    "duration": 98,
    "start_time": "2021-12-25T08:55:13.549Z"
   },
   {
    "duration": 4551,
    "start_time": "2021-12-25T08:55:13.650Z"
   },
   {
    "duration": 54,
    "start_time": "2021-12-25T08:55:18.203Z"
   },
   {
    "duration": 88,
    "start_time": "2021-12-25T08:55:18.259Z"
   },
   {
    "duration": 20,
    "start_time": "2021-12-25T08:55:18.350Z"
   },
   {
    "duration": 55,
    "start_time": "2021-12-25T08:55:18.372Z"
   },
   {
    "duration": 37,
    "start_time": "2021-12-25T08:55:18.429Z"
   },
   {
    "duration": 773,
    "start_time": "2021-12-25T09:04:05.928Z"
   },
   {
    "duration": 127,
    "start_time": "2021-12-25T09:04:06.704Z"
   },
   {
    "duration": 426,
    "start_time": "2021-12-25T09:04:06.834Z"
   },
   {
    "duration": 23,
    "start_time": "2021-12-25T09:04:07.263Z"
   },
   {
    "duration": 37,
    "start_time": "2021-12-25T09:04:07.288Z"
   },
   {
    "duration": 19,
    "start_time": "2021-12-25T09:04:07.327Z"
   },
   {
    "duration": 19,
    "start_time": "2021-12-25T09:04:07.349Z"
   },
   {
    "duration": 45,
    "start_time": "2021-12-25T09:04:07.372Z"
   },
   {
    "duration": 174,
    "start_time": "2021-12-25T09:04:07.420Z"
   },
   {
    "duration": 7,
    "start_time": "2021-12-25T09:04:07.597Z"
   },
   {
    "duration": 16,
    "start_time": "2021-12-25T09:04:07.606Z"
   },
   {
    "duration": 16,
    "start_time": "2021-12-25T09:04:07.624Z"
   },
   {
    "duration": 24,
    "start_time": "2021-12-25T09:04:07.642Z"
   },
   {
    "duration": 96,
    "start_time": "2021-12-25T09:04:07.668Z"
   },
   {
    "duration": 4530,
    "start_time": "2021-12-25T09:04:07.766Z"
   },
   {
    "duration": 55,
    "start_time": "2021-12-25T09:04:12.298Z"
   },
   {
    "duration": 407,
    "start_time": "2021-12-25T09:04:12.355Z"
   },
   {
    "duration": 403,
    "start_time": "2021-12-25T09:04:12.765Z"
   },
   {
    "duration": 77,
    "start_time": "2021-12-25T09:04:13.170Z"
   },
   {
    "duration": 22,
    "start_time": "2021-12-25T09:04:13.249Z"
   },
   {
    "duration": 64,
    "start_time": "2021-12-25T09:04:13.274Z"
   },
   {
    "duration": 36,
    "start_time": "2021-12-25T09:04:13.341Z"
   },
   {
    "duration": 733,
    "start_time": "2021-12-25T09:20:04.051Z"
   },
   {
    "duration": 126,
    "start_time": "2021-12-25T09:20:04.787Z"
   },
   {
    "duration": 429,
    "start_time": "2021-12-25T09:20:04.916Z"
   },
   {
    "duration": 22,
    "start_time": "2021-12-25T09:20:05.348Z"
   },
   {
    "duration": 17,
    "start_time": "2021-12-25T09:20:05.373Z"
   },
   {
    "duration": 20,
    "start_time": "2021-12-25T09:20:05.417Z"
   },
   {
    "duration": 22,
    "start_time": "2021-12-25T09:20:05.439Z"
   },
   {
    "duration": 15,
    "start_time": "2021-12-25T09:20:05.465Z"
   },
   {
    "duration": 206,
    "start_time": "2021-12-25T09:20:05.483Z"
   },
   {
    "duration": 7,
    "start_time": "2021-12-25T09:20:05.692Z"
   },
   {
    "duration": 18,
    "start_time": "2021-12-25T09:20:05.701Z"
   },
   {
    "duration": 14,
    "start_time": "2021-12-25T09:20:05.722Z"
   },
   {
    "duration": 24,
    "start_time": "2021-12-25T09:20:05.738Z"
   },
   {
    "duration": 90,
    "start_time": "2021-12-25T09:20:05.764Z"
   },
   {
    "duration": 4459,
    "start_time": "2021-12-25T09:20:05.857Z"
   },
   {
    "duration": 43,
    "start_time": "2021-12-25T09:20:10.319Z"
   },
   {
    "duration": 424,
    "start_time": "2021-12-25T09:20:10.365Z"
   },
   {
    "duration": 411,
    "start_time": "2021-12-25T09:20:10.791Z"
   },
   {
    "duration": 7914,
    "start_time": "2021-12-25T09:20:11.204Z"
   },
   {
    "duration": -36,
    "start_time": "2021-12-25T09:20:19.157Z"
   },
   {
    "duration": -38,
    "start_time": "2021-12-25T09:20:19.160Z"
   },
   {
    "duration": -38,
    "start_time": "2021-12-25T09:20:19.162Z"
   },
   {
    "duration": 840,
    "start_time": "2021-12-25T09:20:54.573Z"
   },
   {
    "duration": 131,
    "start_time": "2021-12-25T09:20:55.415Z"
   },
   {
    "duration": 446,
    "start_time": "2021-12-25T09:20:55.549Z"
   },
   {
    "duration": 35,
    "start_time": "2021-12-25T09:20:55.998Z"
   },
   {
    "duration": 17,
    "start_time": "2021-12-25T09:20:56.036Z"
   },
   {
    "duration": 29,
    "start_time": "2021-12-25T09:20:56.055Z"
   },
   {
    "duration": 45,
    "start_time": "2021-12-25T09:20:56.087Z"
   },
   {
    "duration": 12,
    "start_time": "2021-12-25T09:20:56.134Z"
   },
   {
    "duration": 202,
    "start_time": "2021-12-25T09:20:56.150Z"
   },
   {
    "duration": 7,
    "start_time": "2021-12-25T09:20:56.355Z"
   },
   {
    "duration": 26,
    "start_time": "2021-12-25T09:20:56.364Z"
   },
   {
    "duration": 24,
    "start_time": "2021-12-25T09:20:56.393Z"
   },
   {
    "duration": 25,
    "start_time": "2021-12-25T09:20:56.419Z"
   },
   {
    "duration": 84,
    "start_time": "2021-12-25T09:20:56.446Z"
   },
   {
    "duration": 4535,
    "start_time": "2021-12-25T09:20:56.532Z"
   },
   {
    "duration": 56,
    "start_time": "2021-12-25T09:21:01.070Z"
   },
   {
    "duration": 403,
    "start_time": "2021-12-25T09:21:01.129Z"
   },
   {
    "duration": 406,
    "start_time": "2021-12-25T09:21:01.534Z"
   },
   {
    "duration": 7541,
    "start_time": "2021-12-25T09:21:01.942Z"
   },
   {
    "duration": -37,
    "start_time": "2021-12-25T09:21:09.523Z"
   },
   {
    "duration": -40,
    "start_time": "2021-12-25T09:21:09.528Z"
   },
   {
    "duration": -42,
    "start_time": "2021-12-25T09:21:09.531Z"
   },
   {
    "duration": 800,
    "start_time": "2021-12-25T09:21:36.949Z"
   },
   {
    "duration": 130,
    "start_time": "2021-12-25T09:21:37.751Z"
   },
   {
    "duration": 442,
    "start_time": "2021-12-25T09:21:37.884Z"
   },
   {
    "duration": 23,
    "start_time": "2021-12-25T09:21:38.329Z"
   },
   {
    "duration": 17,
    "start_time": "2021-12-25T09:21:38.355Z"
   },
   {
    "duration": 48,
    "start_time": "2021-12-25T09:21:38.374Z"
   },
   {
    "duration": 27,
    "start_time": "2021-12-25T09:21:38.425Z"
   },
   {
    "duration": 16,
    "start_time": "2021-12-25T09:21:38.457Z"
   },
   {
    "duration": 280,
    "start_time": "2021-12-25T09:21:38.477Z"
   },
   {
    "duration": 7,
    "start_time": "2021-12-25T09:21:38.759Z"
   },
   {
    "duration": 6,
    "start_time": "2021-12-25T09:21:38.769Z"
   },
   {
    "duration": 40,
    "start_time": "2021-12-25T09:21:38.777Z"
   },
   {
    "duration": 24,
    "start_time": "2021-12-25T09:21:38.820Z"
   },
   {
    "duration": 84,
    "start_time": "2021-12-25T09:21:38.846Z"
   },
   {
    "duration": 4847,
    "start_time": "2021-12-25T09:21:38.933Z"
   },
   {
    "duration": 54,
    "start_time": "2021-12-25T09:21:43.783Z"
   },
   {
    "duration": 423,
    "start_time": "2021-12-25T09:21:43.840Z"
   },
   {
    "duration": 412,
    "start_time": "2021-12-25T09:21:44.265Z"
   },
   {
    "duration": 581,
    "start_time": "2021-12-25T09:21:44.680Z"
   },
   {
    "duration": 15,
    "start_time": "2021-12-25T09:21:45.248Z"
   },
   {
    "duration": 14,
    "start_time": "2021-12-25T09:21:45.251Z"
   },
   {
    "duration": 9,
    "start_time": "2021-12-25T09:21:45.257Z"
   },
   {
    "duration": 757,
    "start_time": "2021-12-25T09:23:38.148Z"
   },
   {
    "duration": 133,
    "start_time": "2021-12-25T09:23:38.908Z"
   },
   {
    "duration": 455,
    "start_time": "2021-12-25T09:23:39.046Z"
   },
   {
    "duration": 34,
    "start_time": "2021-12-25T09:23:39.503Z"
   },
   {
    "duration": 17,
    "start_time": "2021-12-25T09:23:39.539Z"
   },
   {
    "duration": 59,
    "start_time": "2021-12-25T09:23:39.558Z"
   },
   {
    "duration": 20,
    "start_time": "2021-12-25T09:23:39.620Z"
   },
   {
    "duration": 12,
    "start_time": "2021-12-25T09:23:39.644Z"
   },
   {
    "duration": 215,
    "start_time": "2021-12-25T09:23:39.659Z"
   },
   {
    "duration": 7,
    "start_time": "2021-12-25T09:23:39.877Z"
   },
   {
    "duration": 7,
    "start_time": "2021-12-25T09:23:39.887Z"
   },
   {
    "duration": 31,
    "start_time": "2021-12-25T09:23:39.897Z"
   },
   {
    "duration": 24,
    "start_time": "2021-12-25T09:23:39.931Z"
   },
   {
    "duration": 114,
    "start_time": "2021-12-25T09:23:39.958Z"
   },
   {
    "duration": 4891,
    "start_time": "2021-12-25T09:23:40.075Z"
   },
   {
    "duration": 50,
    "start_time": "2021-12-25T09:23:44.969Z"
   },
   {
    "duration": 416,
    "start_time": "2021-12-25T09:23:45.022Z"
   },
   {
    "duration": 396,
    "start_time": "2021-12-25T09:23:45.440Z"
   },
   {
    "duration": 7452,
    "start_time": "2021-12-25T09:23:45.839Z"
   },
   {
    "duration": -29,
    "start_time": "2021-12-25T09:23:53.323Z"
   },
   {
    "duration": -28,
    "start_time": "2021-12-25T09:23:53.325Z"
   },
   {
    "duration": -29,
    "start_time": "2021-12-25T09:23:53.327Z"
   },
   {
    "duration": 8407,
    "start_time": "2021-12-25T09:25:25.063Z"
   },
   {
    "duration": 1238,
    "start_time": "2021-12-25T09:26:41.967Z"
   },
   {
    "duration": 789,
    "start_time": "2021-12-25T09:30:05.205Z"
   },
   {
    "duration": 130,
    "start_time": "2021-12-25T09:30:05.997Z"
   },
   {
    "duration": 441,
    "start_time": "2021-12-25T09:30:06.131Z"
   },
   {
    "duration": 22,
    "start_time": "2021-12-25T09:30:06.575Z"
   },
   {
    "duration": 30,
    "start_time": "2021-12-25T09:30:06.600Z"
   },
   {
    "duration": 19,
    "start_time": "2021-12-25T09:30:06.632Z"
   },
   {
    "duration": 19,
    "start_time": "2021-12-25T09:30:06.654Z"
   },
   {
    "duration": 12,
    "start_time": "2021-12-25T09:30:06.717Z"
   },
   {
    "duration": 184,
    "start_time": "2021-12-25T09:30:06.733Z"
   },
   {
    "duration": 7,
    "start_time": "2021-12-25T09:30:06.919Z"
   },
   {
    "duration": 9,
    "start_time": "2021-12-25T09:30:06.928Z"
   },
   {
    "duration": 13,
    "start_time": "2021-12-25T09:30:06.940Z"
   },
   {
    "duration": 23,
    "start_time": "2021-12-25T09:30:06.956Z"
   },
   {
    "duration": 60,
    "start_time": "2021-12-25T09:30:07.018Z"
   },
   {
    "duration": 4607,
    "start_time": "2021-12-25T09:30:07.081Z"
   },
   {
    "duration": 57,
    "start_time": "2021-12-25T09:30:11.691Z"
   },
   {
    "duration": 430,
    "start_time": "2021-12-25T09:30:11.751Z"
   },
   {
    "duration": 404,
    "start_time": "2021-12-25T09:30:12.183Z"
   },
   {
    "duration": 457,
    "start_time": "2021-12-25T09:30:12.590Z"
   },
   {
    "duration": 22,
    "start_time": "2021-12-25T09:30:13.029Z"
   },
   {
    "duration": 21,
    "start_time": "2021-12-25T09:30:13.032Z"
   },
   {
    "duration": 22,
    "start_time": "2021-12-25T09:30:13.033Z"
   },
   {
    "duration": 719,
    "start_time": "2021-12-25T09:30:47.967Z"
   },
   {
    "duration": 129,
    "start_time": "2021-12-25T09:30:48.688Z"
   },
   {
    "duration": 429,
    "start_time": "2021-12-25T09:30:48.820Z"
   },
   {
    "duration": 25,
    "start_time": "2021-12-25T09:30:49.253Z"
   },
   {
    "duration": 41,
    "start_time": "2021-12-25T09:30:49.280Z"
   },
   {
    "duration": 21,
    "start_time": "2021-12-25T09:30:49.324Z"
   },
   {
    "duration": 19,
    "start_time": "2021-12-25T09:30:49.347Z"
   },
   {
    "duration": 49,
    "start_time": "2021-12-25T09:30:49.369Z"
   },
   {
    "duration": 183,
    "start_time": "2021-12-25T09:30:49.421Z"
   },
   {
    "duration": 11,
    "start_time": "2021-12-25T09:30:49.606Z"
   },
   {
    "duration": 7,
    "start_time": "2021-12-25T09:30:49.620Z"
   },
   {
    "duration": 16,
    "start_time": "2021-12-25T09:30:49.629Z"
   },
   {
    "duration": 23,
    "start_time": "2021-12-25T09:30:49.648Z"
   },
   {
    "duration": 100,
    "start_time": "2021-12-25T09:30:49.673Z"
   },
   {
    "duration": 4609,
    "start_time": "2021-12-25T09:30:49.776Z"
   },
   {
    "duration": 59,
    "start_time": "2021-12-25T09:30:54.388Z"
   },
   {
    "duration": 415,
    "start_time": "2021-12-25T09:30:54.450Z"
   },
   {
    "duration": 405,
    "start_time": "2021-12-25T09:30:54.868Z"
   },
   {
    "duration": 7503,
    "start_time": "2021-12-25T09:30:55.276Z"
   },
   {
    "duration": -60,
    "start_time": "2021-12-25T09:31:02.842Z"
   },
   {
    "duration": -63,
    "start_time": "2021-12-25T09:31:02.847Z"
   },
   {
    "duration": -64,
    "start_time": "2021-12-25T09:31:02.850Z"
   },
   {
    "duration": 776,
    "start_time": "2021-12-25T09:31:22.385Z"
   },
   {
    "duration": 121,
    "start_time": "2021-12-25T09:31:23.164Z"
   },
   {
    "duration": 427,
    "start_time": "2021-12-25T09:31:23.288Z"
   },
   {
    "duration": 21,
    "start_time": "2021-12-25T09:31:23.718Z"
   },
   {
    "duration": 14,
    "start_time": "2021-12-25T09:31:23.742Z"
   },
   {
    "duration": 21,
    "start_time": "2021-12-25T09:31:23.758Z"
   },
   {
    "duration": 22,
    "start_time": "2021-12-25T09:31:23.818Z"
   },
   {
    "duration": 13,
    "start_time": "2021-12-25T09:31:23.845Z"
   },
   {
    "duration": 199,
    "start_time": "2021-12-25T09:31:23.861Z"
   },
   {
    "duration": 8,
    "start_time": "2021-12-25T09:31:24.062Z"
   },
   {
    "duration": 8,
    "start_time": "2021-12-25T09:31:24.073Z"
   },
   {
    "duration": 45,
    "start_time": "2021-12-25T09:31:24.083Z"
   },
   {
    "duration": 25,
    "start_time": "2021-12-25T09:31:24.131Z"
   },
   {
    "duration": 90,
    "start_time": "2021-12-25T09:31:24.159Z"
   },
   {
    "duration": 4566,
    "start_time": "2021-12-25T09:31:24.253Z"
   },
   {
    "duration": 45,
    "start_time": "2021-12-25T09:31:28.821Z"
   },
   {
    "duration": 475,
    "start_time": "2021-12-25T09:31:28.869Z"
   },
   {
    "duration": 424,
    "start_time": "2021-12-25T09:31:29.346Z"
   },
   {
    "duration": 73,
    "start_time": "2021-12-25T09:31:29.773Z"
   },
   {
    "duration": 22,
    "start_time": "2021-12-25T09:31:29.849Z"
   },
   {
    "duration": 59,
    "start_time": "2021-12-25T09:31:29.873Z"
   },
   {
    "duration": 33,
    "start_time": "2021-12-25T09:31:29.934Z"
   },
   {
    "duration": 772,
    "start_time": "2021-12-25T09:51:58.603Z"
   },
   {
    "duration": 122,
    "start_time": "2021-12-25T09:51:59.378Z"
   },
   {
    "duration": 38,
    "start_time": "2021-12-25T09:51:59.503Z"
   },
   {
    "duration": 424,
    "start_time": "2021-12-25T09:51:59.543Z"
   },
   {
    "duration": 17,
    "start_time": "2021-12-25T09:51:59.969Z"
   },
   {
    "duration": 36,
    "start_time": "2021-12-25T09:51:59.989Z"
   },
   {
    "duration": 18,
    "start_time": "2021-12-25T09:52:00.027Z"
   },
   {
    "duration": 194,
    "start_time": "2021-12-25T09:52:00.049Z"
   },
   {
    "duration": 6,
    "start_time": "2021-12-25T09:52:00.246Z"
   },
   {
    "duration": 17,
    "start_time": "2021-12-25T09:52:00.255Z"
   },
   {
    "duration": 22,
    "start_time": "2021-12-25T09:52:00.275Z"
   },
   {
    "duration": 34,
    "start_time": "2021-12-25T09:52:00.299Z"
   },
   {
    "duration": 43,
    "start_time": "2021-12-25T09:52:00.335Z"
   },
   {
    "duration": 60,
    "start_time": "2021-12-25T09:52:00.380Z"
   },
   {
    "duration": 4536,
    "start_time": "2021-12-25T09:52:00.442Z"
   },
   {
    "duration": 60,
    "start_time": "2021-12-25T09:52:04.981Z"
   },
   {
    "duration": 412,
    "start_time": "2021-12-25T09:52:05.043Z"
   },
   {
    "duration": 393,
    "start_time": "2021-12-25T09:52:05.457Z"
   },
   {
    "duration": 66,
    "start_time": "2021-12-25T09:52:05.852Z"
   },
   {
    "duration": 20,
    "start_time": "2021-12-25T09:52:05.920Z"
   },
   {
    "duration": 28,
    "start_time": "2021-12-25T09:52:05.943Z"
   },
   {
    "duration": 66,
    "start_time": "2021-12-25T09:52:05.973Z"
   },
   {
    "duration": 783,
    "start_time": "2021-12-25T09:54:21.413Z"
   },
   {
    "duration": 122,
    "start_time": "2021-12-25T09:54:22.198Z"
   },
   {
    "duration": 432,
    "start_time": "2021-12-25T09:54:22.323Z"
   },
   {
    "duration": 18,
    "start_time": "2021-12-25T09:54:22.758Z"
   },
   {
    "duration": 41,
    "start_time": "2021-12-25T09:54:22.778Z"
   },
   {
    "duration": 19,
    "start_time": "2021-12-25T09:54:22.821Z"
   },
   {
    "duration": 18,
    "start_time": "2021-12-25T09:54:22.843Z"
   },
   {
    "duration": 194,
    "start_time": "2021-12-25T09:54:22.865Z"
   },
   {
    "duration": 6,
    "start_time": "2021-12-25T09:54:23.062Z"
   },
   {
    "duration": 6,
    "start_time": "2021-12-25T09:54:23.070Z"
   },
   {
    "duration": 9,
    "start_time": "2021-12-25T09:54:23.078Z"
   },
   {
    "duration": 37,
    "start_time": "2021-12-25T09:54:23.089Z"
   },
   {
    "duration": 23,
    "start_time": "2021-12-25T09:54:23.128Z"
   },
   {
    "duration": 80,
    "start_time": "2021-12-25T09:54:23.154Z"
   },
   {
    "duration": 4660,
    "start_time": "2021-12-25T09:54:23.237Z"
   },
   {
    "duration": 57,
    "start_time": "2021-12-25T09:54:27.901Z"
   },
   {
    "duration": 422,
    "start_time": "2021-12-25T09:54:27.960Z"
   },
   {
    "duration": 406,
    "start_time": "2021-12-25T09:54:28.385Z"
   },
   {
    "duration": 77,
    "start_time": "2021-12-25T09:54:28.794Z"
   },
   {
    "duration": 23,
    "start_time": "2021-12-25T09:54:28.874Z"
   },
   {
    "duration": 30,
    "start_time": "2021-12-25T09:54:28.918Z"
   },
   {
    "duration": 37,
    "start_time": "2021-12-25T09:54:28.950Z"
   },
   {
    "duration": 749,
    "start_time": "2021-12-25T09:55:37.227Z"
   },
   {
    "duration": 124,
    "start_time": "2021-12-25T09:55:37.979Z"
   },
   {
    "duration": 450,
    "start_time": "2021-12-25T09:55:38.105Z"
   },
   {
    "duration": 19,
    "start_time": "2021-12-25T09:55:38.558Z"
   },
   {
    "duration": 40,
    "start_time": "2021-12-25T09:55:38.579Z"
   },
   {
    "duration": 20,
    "start_time": "2021-12-25T09:55:38.621Z"
   },
   {
    "duration": 18,
    "start_time": "2021-12-25T09:55:38.643Z"
   },
   {
    "duration": 205,
    "start_time": "2021-12-25T09:55:38.665Z"
   },
   {
    "duration": 6,
    "start_time": "2021-12-25T09:55:38.874Z"
   },
   {
    "duration": 6,
    "start_time": "2021-12-25T09:55:38.883Z"
   },
   {
    "duration": 26,
    "start_time": "2021-12-25T09:55:38.891Z"
   },
   {
    "duration": 16,
    "start_time": "2021-12-25T09:55:38.920Z"
   },
   {
    "duration": 24,
    "start_time": "2021-12-25T09:55:38.939Z"
   },
   {
    "duration": 86,
    "start_time": "2021-12-25T09:55:38.965Z"
   },
   {
    "duration": 4685,
    "start_time": "2021-12-25T09:55:39.054Z"
   },
   {
    "duration": 43,
    "start_time": "2021-12-25T09:55:43.741Z"
   },
   {
    "duration": 441,
    "start_time": "2021-12-25T09:55:43.786Z"
   },
   {
    "duration": 410,
    "start_time": "2021-12-25T09:55:44.229Z"
   },
   {
    "duration": 75,
    "start_time": "2021-12-25T09:55:44.641Z"
   },
   {
    "duration": 20,
    "start_time": "2021-12-25T09:55:44.719Z"
   },
   {
    "duration": 30,
    "start_time": "2021-12-25T09:55:44.741Z"
   },
   {
    "duration": 63,
    "start_time": "2021-12-25T09:55:44.774Z"
   },
   {
    "duration": 796,
    "start_time": "2021-12-25T09:56:47.104Z"
   },
   {
    "duration": 131,
    "start_time": "2021-12-25T09:56:47.902Z"
   },
   {
    "duration": 456,
    "start_time": "2021-12-25T09:56:48.037Z"
   },
   {
    "duration": 31,
    "start_time": "2021-12-25T09:56:48.497Z"
   },
   {
    "duration": 18,
    "start_time": "2021-12-25T09:56:48.530Z"
   },
   {
    "duration": 19,
    "start_time": "2021-12-25T09:56:48.550Z"
   },
   {
    "duration": 48,
    "start_time": "2021-12-25T09:56:48.571Z"
   },
   {
    "duration": 176,
    "start_time": "2021-12-25T09:56:48.623Z"
   },
   {
    "duration": 14,
    "start_time": "2021-12-25T09:56:48.802Z"
   },
   {
    "duration": 6,
    "start_time": "2021-12-25T09:56:48.819Z"
   },
   {
    "duration": 5,
    "start_time": "2021-12-25T09:56:48.827Z"
   },
   {
    "duration": 15,
    "start_time": "2021-12-25T09:56:48.835Z"
   },
   {
    "duration": 27,
    "start_time": "2021-12-25T09:56:48.852Z"
   },
   {
    "duration": 64,
    "start_time": "2021-12-25T09:56:48.917Z"
   },
   {
    "duration": 4543,
    "start_time": "2021-12-25T09:56:48.983Z"
   },
   {
    "duration": 37,
    "start_time": "2021-12-25T09:56:53.529Z"
   },
   {
    "duration": 435,
    "start_time": "2021-12-25T09:56:53.569Z"
   },
   {
    "duration": 423,
    "start_time": "2021-12-25T09:56:54.007Z"
   },
   {
    "duration": 63,
    "start_time": "2021-12-25T09:56:54.432Z"
   },
   {
    "duration": 21,
    "start_time": "2021-12-25T09:56:54.518Z"
   },
   {
    "duration": 31,
    "start_time": "2021-12-25T09:56:54.542Z"
   },
   {
    "duration": 63,
    "start_time": "2021-12-25T09:56:54.576Z"
   },
   {
    "duration": 738,
    "start_time": "2021-12-25T10:42:07.568Z"
   },
   {
    "duration": 126,
    "start_time": "2021-12-25T10:42:08.309Z"
   },
   {
    "duration": 439,
    "start_time": "2021-12-25T10:42:08.439Z"
   },
   {
    "duration": 18,
    "start_time": "2021-12-25T10:42:08.881Z"
   },
   {
    "duration": 31,
    "start_time": "2021-12-25T10:42:08.901Z"
   },
   {
    "duration": 22,
    "start_time": "2021-12-25T10:42:08.934Z"
   },
   {
    "duration": 20,
    "start_time": "2021-12-25T10:42:08.958Z"
   },
   {
    "duration": 172,
    "start_time": "2021-12-25T10:42:09.018Z"
   },
   {
    "duration": 6,
    "start_time": "2021-12-25T10:42:09.193Z"
   },
   {
    "duration": 17,
    "start_time": "2021-12-25T10:42:09.201Z"
   },
   {
    "duration": 6,
    "start_time": "2021-12-25T10:42:09.221Z"
   },
   {
    "duration": 15,
    "start_time": "2021-12-25T10:42:09.230Z"
   },
   {
    "duration": 25,
    "start_time": "2021-12-25T10:42:09.248Z"
   },
   {
    "duration": 93,
    "start_time": "2021-12-25T10:42:09.275Z"
   },
   {
    "duration": 4488,
    "start_time": "2021-12-25T10:42:09.370Z"
   },
   {
    "duration": 34,
    "start_time": "2021-12-25T10:42:13.861Z"
   },
   {
    "duration": 542,
    "start_time": "2021-12-25T10:42:13.897Z"
   },
   {
    "duration": 521,
    "start_time": "2021-12-25T10:42:14.442Z"
   },
   {
    "duration": 74,
    "start_time": "2021-12-25T10:42:14.965Z"
   },
   {
    "duration": 26,
    "start_time": "2021-12-25T10:42:15.042Z"
   },
   {
    "duration": 53,
    "start_time": "2021-12-25T10:42:15.070Z"
   },
   {
    "duration": 33,
    "start_time": "2021-12-25T10:42:15.125Z"
   },
   {
    "duration": 943,
    "start_time": "2021-12-25T10:42:52.725Z"
   },
   {
    "duration": 122,
    "start_time": "2021-12-25T10:42:53.671Z"
   },
   {
    "duration": 470,
    "start_time": "2021-12-25T10:42:53.796Z"
   },
   {
    "duration": 19,
    "start_time": "2021-12-25T10:42:54.269Z"
   },
   {
    "duration": 37,
    "start_time": "2021-12-25T10:42:54.290Z"
   },
   {
    "duration": 19,
    "start_time": "2021-12-25T10:42:54.329Z"
   },
   {
    "duration": 18,
    "start_time": "2021-12-25T10:42:54.351Z"
   },
   {
    "duration": 201,
    "start_time": "2021-12-25T10:42:54.373Z"
   },
   {
    "duration": 6,
    "start_time": "2021-12-25T10:42:54.577Z"
   },
   {
    "duration": 6,
    "start_time": "2021-12-25T10:42:54.586Z"
   },
   {
    "duration": 24,
    "start_time": "2021-12-25T10:42:54.594Z"
   },
   {
    "duration": 14,
    "start_time": "2021-12-25T10:42:54.620Z"
   },
   {
    "duration": 23,
    "start_time": "2021-12-25T10:42:54.636Z"
   },
   {
    "duration": 92,
    "start_time": "2021-12-25T10:42:54.661Z"
   },
   {
    "duration": 4884,
    "start_time": "2021-12-25T10:42:54.756Z"
   },
   {
    "duration": 36,
    "start_time": "2021-12-25T10:42:59.642Z"
   },
   {
    "duration": 463,
    "start_time": "2021-12-25T10:42:59.680Z"
   },
   {
    "duration": 432,
    "start_time": "2021-12-25T10:43:00.145Z"
   },
   {
    "duration": 79,
    "start_time": "2021-12-25T10:43:00.579Z"
   },
   {
    "duration": 513,
    "start_time": "2021-12-25T10:43:00.661Z"
   },
   {
    "duration": 6,
    "start_time": "2021-12-25T10:43:01.170Z"
   },
   {
    "duration": 5,
    "start_time": "2021-12-25T10:43:01.173Z"
   },
   {
    "duration": 29,
    "start_time": "2021-12-25T10:43:36.485Z"
   },
   {
    "duration": 36,
    "start_time": "2021-12-25T10:44:03.377Z"
   },
   {
    "duration": 7,
    "start_time": "2021-12-25T12:29:29.236Z"
   },
   {
    "duration": 365,
    "start_time": "2022-01-16T11:13:44.218Z"
   },
   {
    "duration": 820,
    "start_time": "2022-01-16T11:13:51.468Z"
   },
   {
    "duration": 124,
    "start_time": "2022-01-16T11:13:52.290Z"
   },
   {
    "duration": 453,
    "start_time": "2022-01-16T11:13:52.417Z"
   },
   {
    "duration": 18,
    "start_time": "2022-01-16T11:13:52.874Z"
   },
   {
    "duration": 17,
    "start_time": "2022-01-16T11:13:52.894Z"
   },
   {
    "duration": 60,
    "start_time": "2022-01-16T11:13:52.914Z"
   },
   {
    "duration": 26,
    "start_time": "2022-01-16T11:13:52.977Z"
   },
   {
    "duration": 192,
    "start_time": "2022-01-16T11:13:53.006Z"
   },
   {
    "duration": 5,
    "start_time": "2022-01-16T11:13:53.201Z"
   },
   {
    "duration": 15,
    "start_time": "2022-01-16T11:13:53.209Z"
   },
   {
    "duration": 18,
    "start_time": "2022-01-16T11:13:53.227Z"
   },
   {
    "duration": 22,
    "start_time": "2022-01-16T11:13:53.247Z"
   },
   {
    "duration": 46,
    "start_time": "2022-01-16T11:13:53.271Z"
   },
   {
    "duration": 64,
    "start_time": "2022-01-16T11:13:53.320Z"
   },
   {
    "duration": 5633,
    "start_time": "2022-01-16T11:13:53.386Z"
   },
   {
    "duration": 49,
    "start_time": "2022-01-16T11:13:59.021Z"
   },
   {
    "duration": 425,
    "start_time": "2022-01-16T11:13:59.073Z"
   },
   {
    "duration": 460,
    "start_time": "2022-01-16T11:13:59.500Z"
   },
   {
    "duration": 59,
    "start_time": "2022-01-16T11:13:59.963Z"
   },
   {
    "duration": 57,
    "start_time": "2022-01-16T11:14:00.025Z"
   },
   {
    "duration": 33,
    "start_time": "2022-01-16T11:14:00.085Z"
   },
   {
    "duration": 64,
    "start_time": "2022-01-16T11:14:00.120Z"
   },
   {
    "duration": 11,
    "start_time": "2022-01-16T11:14:00.188Z"
   },
   {
    "duration": 67,
    "start_time": "2022-05-23T08:37:41.049Z"
   },
   {
    "duration": 8,
    "start_time": "2022-05-23T08:37:52.073Z"
   },
   {
    "duration": 398,
    "start_time": "2022-08-04T04:36:31.428Z"
   },
   {
    "duration": 389,
    "start_time": "2022-08-04T04:36:31.828Z"
   },
   {
    "duration": 564,
    "start_time": "2022-08-04T04:36:32.219Z"
   },
   {
    "duration": 26,
    "start_time": "2022-08-04T04:36:32.786Z"
   },
   {
    "duration": 12,
    "start_time": "2022-08-04T04:36:32.814Z"
   },
   {
    "duration": 27,
    "start_time": "2022-08-04T04:36:32.828Z"
   },
   {
    "duration": 23,
    "start_time": "2022-08-04T04:36:32.857Z"
   },
   {
    "duration": 128,
    "start_time": "2022-08-04T04:36:32.882Z"
   },
   {
    "duration": 6,
    "start_time": "2022-08-04T04:36:33.011Z"
   },
   {
    "duration": 17,
    "start_time": "2022-08-04T04:36:33.020Z"
   },
   {
    "duration": 15,
    "start_time": "2022-08-04T04:36:33.038Z"
   },
   {
    "duration": 23,
    "start_time": "2022-08-04T04:36:33.055Z"
   },
   {
    "duration": 28,
    "start_time": "2022-08-04T04:36:33.079Z"
   },
   {
    "duration": 46,
    "start_time": "2022-08-04T04:36:33.109Z"
   },
   {
    "duration": 3681,
    "start_time": "2022-08-04T04:36:33.157Z"
   },
   {
    "duration": 41,
    "start_time": "2022-08-04T04:36:36.841Z"
   },
   {
    "duration": 191,
    "start_time": "2022-08-04T04:36:36.884Z"
   },
   {
    "duration": 172,
    "start_time": "2022-08-04T04:36:37.077Z"
   },
   {
    "duration": 53,
    "start_time": "2022-08-04T04:36:37.251Z"
   },
   {
    "duration": 23,
    "start_time": "2022-08-04T04:36:37.306Z"
   },
   {
    "duration": 23,
    "start_time": "2022-08-04T04:36:37.331Z"
   },
   {
    "duration": 55,
    "start_time": "2022-08-04T04:36:37.356Z"
   },
   {
    "duration": 7,
    "start_time": "2022-08-04T04:36:37.413Z"
   }
  ],
  "kernelspec": {
   "display_name": "Python 3 (ipykernel)",
   "language": "python",
   "name": "python3"
  },
  "language_info": {
   "codemirror_mode": {
    "name": "ipython",
    "version": 3
   },
   "file_extension": ".py",
   "mimetype": "text/x-python",
   "name": "python",
   "nbconvert_exporter": "python",
   "pygments_lexer": "ipython3",
   "version": "3.9.12"
  },
  "toc": {
   "base_numbering": 1,
   "nav_menu": {},
   "number_sections": true,
   "sideBar": true,
   "skip_h1_title": true,
   "title_cell": "Table of Contents",
   "title_sidebar": "Contents",
   "toc_cell": false,
   "toc_position": {},
   "toc_section_display": true,
   "toc_window_display": false
  }
 },
 "nbformat": 4,
 "nbformat_minor": 2
}

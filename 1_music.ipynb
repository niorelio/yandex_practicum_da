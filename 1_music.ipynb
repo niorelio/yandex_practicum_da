{
 "cells": [
  {
   "cell_type": "markdown",
   "metadata": {
    "id": "Ml1hmfXC_Zcs"
   },
   "source": [
    "## Обзор данных\n",
    "\n",
    "Составьте первое представление о данных Яндекс.Музыки.\n",
    "\n",
    "\n"
   ]
  },
  {
   "cell_type": "markdown",
   "metadata": {
    "id": "57eAOGIz_Zcs"
   },
   "source": [
    "Основной инструмент аналитика — `pandas`. Импортируйте эту библиотеку."
   ]
  },
  {
   "cell_type": "code",
   "execution_count": 1,
   "metadata": {
    "id": "AXN7PHPN_Zcs",
    "scrolled": true
   },
   "outputs": [],
   "source": [
    "import pandas as pd # импорт библиотеки pandas"
   ]
  },
  {
   "cell_type": "markdown",
   "metadata": {
    "id": "SG23P8tt_Zcs"
   },
   "source": [
    "Прочитайте файл `yandex_music_project.csv` из папки `/datasets` и сохраните его в переменной `df`:"
   ]
  },
  {
   "cell_type": "code",
   "execution_count": 2,
   "metadata": {
    "id": "fFVu7vqh_Zct",
    "scrolled": true
   },
   "outputs": [],
   "source": [
    "df = pd.read_csv('/datasets/yandex_music_project.csv') # чтение файла с данными и сохранение в df"
   ]
  },
  {
   "cell_type": "markdown",
   "metadata": {
    "id": "rDoOMd3uTqnZ"
   },
   "source": [
    "Выведите на экран первые десять строк таблицы:"
   ]
  },
  {
   "cell_type": "code",
   "execution_count": 3,
   "metadata": {
    "id": "oWTVX3gW_Zct",
    "scrolled": true
   },
   "outputs": [
    {
     "data": {
      "text/html": [
       "<div>\n",
       "<style scoped>\n",
       "    .dataframe tbody tr th:only-of-type {\n",
       "        vertical-align: middle;\n",
       "    }\n",
       "\n",
       "    .dataframe tbody tr th {\n",
       "        vertical-align: top;\n",
       "    }\n",
       "\n",
       "    .dataframe thead th {\n",
       "        text-align: right;\n",
       "    }\n",
       "</style>\n",
       "<table border=\"1\" class=\"dataframe\">\n",
       "  <thead>\n",
       "    <tr style=\"text-align: right;\">\n",
       "      <th></th>\n",
       "      <th>userID</th>\n",
       "      <th>Track</th>\n",
       "      <th>artist</th>\n",
       "      <th>genre</th>\n",
       "      <th>City</th>\n",
       "      <th>time</th>\n",
       "      <th>Day</th>\n",
       "    </tr>\n",
       "  </thead>\n",
       "  <tbody>\n",
       "    <tr>\n",
       "      <td>0</td>\n",
       "      <td>FFB692EC</td>\n",
       "      <td>Kamigata To Boots</td>\n",
       "      <td>The Mass Missile</td>\n",
       "      <td>rock</td>\n",
       "      <td>Saint-Petersburg</td>\n",
       "      <td>20:28:33</td>\n",
       "      <td>Wednesday</td>\n",
       "    </tr>\n",
       "    <tr>\n",
       "      <td>1</td>\n",
       "      <td>55204538</td>\n",
       "      <td>Delayed Because of Accident</td>\n",
       "      <td>Andreas Rönnberg</td>\n",
       "      <td>rock</td>\n",
       "      <td>Moscow</td>\n",
       "      <td>14:07:09</td>\n",
       "      <td>Friday</td>\n",
       "    </tr>\n",
       "    <tr>\n",
       "      <td>2</td>\n",
       "      <td>20EC38</td>\n",
       "      <td>Funiculì funiculà</td>\n",
       "      <td>Mario Lanza</td>\n",
       "      <td>pop</td>\n",
       "      <td>Saint-Petersburg</td>\n",
       "      <td>20:58:07</td>\n",
       "      <td>Wednesday</td>\n",
       "    </tr>\n",
       "    <tr>\n",
       "      <td>3</td>\n",
       "      <td>A3DD03C9</td>\n",
       "      <td>Dragons in the Sunset</td>\n",
       "      <td>Fire + Ice</td>\n",
       "      <td>folk</td>\n",
       "      <td>Saint-Petersburg</td>\n",
       "      <td>08:37:09</td>\n",
       "      <td>Monday</td>\n",
       "    </tr>\n",
       "    <tr>\n",
       "      <td>4</td>\n",
       "      <td>E2DC1FAE</td>\n",
       "      <td>Soul People</td>\n",
       "      <td>Space Echo</td>\n",
       "      <td>dance</td>\n",
       "      <td>Moscow</td>\n",
       "      <td>08:34:34</td>\n",
       "      <td>Monday</td>\n",
       "    </tr>\n",
       "    <tr>\n",
       "      <td>5</td>\n",
       "      <td>842029A1</td>\n",
       "      <td>Преданная</td>\n",
       "      <td>IMPERVTOR</td>\n",
       "      <td>rusrap</td>\n",
       "      <td>Saint-Petersburg</td>\n",
       "      <td>13:09:41</td>\n",
       "      <td>Friday</td>\n",
       "    </tr>\n",
       "    <tr>\n",
       "      <td>6</td>\n",
       "      <td>4CB90AA5</td>\n",
       "      <td>True</td>\n",
       "      <td>Roman Messer</td>\n",
       "      <td>dance</td>\n",
       "      <td>Moscow</td>\n",
       "      <td>13:00:07</td>\n",
       "      <td>Wednesday</td>\n",
       "    </tr>\n",
       "    <tr>\n",
       "      <td>7</td>\n",
       "      <td>F03E1C1F</td>\n",
       "      <td>Feeling This Way</td>\n",
       "      <td>Polina Griffith</td>\n",
       "      <td>dance</td>\n",
       "      <td>Moscow</td>\n",
       "      <td>20:47:49</td>\n",
       "      <td>Wednesday</td>\n",
       "    </tr>\n",
       "    <tr>\n",
       "      <td>8</td>\n",
       "      <td>8FA1D3BE</td>\n",
       "      <td>И вновь продолжается бой</td>\n",
       "      <td>NaN</td>\n",
       "      <td>ruspop</td>\n",
       "      <td>Moscow</td>\n",
       "      <td>09:17:40</td>\n",
       "      <td>Friday</td>\n",
       "    </tr>\n",
       "    <tr>\n",
       "      <td>9</td>\n",
       "      <td>E772D5C0</td>\n",
       "      <td>Pessimist</td>\n",
       "      <td>NaN</td>\n",
       "      <td>dance</td>\n",
       "      <td>Saint-Petersburg</td>\n",
       "      <td>21:20:49</td>\n",
       "      <td>Wednesday</td>\n",
       "    </tr>\n",
       "  </tbody>\n",
       "</table>\n",
       "</div>"
      ],
      "text/plain": [
       "     userID                        Track            artist   genre  \\\n",
       "0  FFB692EC            Kamigata To Boots  The Mass Missile    rock   \n",
       "1  55204538  Delayed Because of Accident  Andreas Rönnberg    rock   \n",
       "2    20EC38            Funiculì funiculà       Mario Lanza     pop   \n",
       "3  A3DD03C9        Dragons in the Sunset        Fire + Ice    folk   \n",
       "4  E2DC1FAE                  Soul People        Space Echo   dance   \n",
       "5  842029A1                    Преданная         IMPERVTOR  rusrap   \n",
       "6  4CB90AA5                         True      Roman Messer   dance   \n",
       "7  F03E1C1F             Feeling This Way   Polina Griffith   dance   \n",
       "8  8FA1D3BE     И вновь продолжается бой               NaN  ruspop   \n",
       "9  E772D5C0                    Pessimist               NaN   dance   \n",
       "\n",
       "             City        time        Day  \n",
       "0  Saint-Petersburg  20:28:33  Wednesday  \n",
       "1            Moscow  14:07:09     Friday  \n",
       "2  Saint-Petersburg  20:58:07  Wednesday  \n",
       "3  Saint-Petersburg  08:37:09     Monday  \n",
       "4            Moscow  08:34:34     Monday  \n",
       "5  Saint-Petersburg  13:09:41     Friday  \n",
       "6            Moscow  13:00:07  Wednesday  \n",
       "7            Moscow  20:47:49  Wednesday  \n",
       "8            Moscow  09:17:40     Friday  \n",
       "9  Saint-Petersburg  21:20:49  Wednesday  "
      ]
     },
     "execution_count": 3,
     "metadata": {},
     "output_type": "execute_result"
    }
   ],
   "source": [
    "df.head(10) # получение первых 10 строк таблицы df"
   ]
  },
  {
   "cell_type": "markdown",
   "metadata": {
    "id": "EO73Kwic_Zct"
   },
   "source": [
    "Одной командой получить общую информацию о таблице:"
   ]
  },
  {
   "cell_type": "code",
   "execution_count": 4,
   "metadata": {
    "id": "DSf2kIb-_Zct",
    "scrolled": false
   },
   "outputs": [
    {
     "name": "stdout",
     "output_type": "stream",
     "text": [
      "<class 'pandas.core.frame.DataFrame'>\n",
      "RangeIndex: 65079 entries, 0 to 65078\n",
      "Data columns (total 7 columns):\n",
      "  userID    65079 non-null object\n",
      "Track       63848 non-null object\n",
      "artist      57876 non-null object\n",
      "genre       63881 non-null object\n",
      "  City      65079 non-null object\n",
      "time        65079 non-null object\n",
      "Day         65079 non-null object\n",
      "dtypes: object(7)\n",
      "memory usage: 3.5+ MB\n"
     ]
    }
   ],
   "source": [
    "df.info() # получение общей информации о данных в таблице df"
   ]
  },
  {
   "cell_type": "markdown",
   "metadata": {
    "id": "TaQ2Iwbr_Zct"
   },
   "source": [
    "Итак, в таблице семь столбцов. Тип данных во всех столбцах — `object`.\n",
    "\n",
    "Согласно документации к данным:\n",
    "* `userID` — идентификатор пользователя;\n",
    "* `Track` — название трека;  \n",
    "* `artist` — имя исполнителя;\n",
    "* `genre` — название жанра;\n",
    "* `City` — город пользователя;\n",
    "* `time` — время начала прослушивания;\n",
    "* `Day` — день недели.\n",
    "\n",
    "В названиях колонок видны три нарушения стиля:\n",
    "1. Строчные буквы сочетаются с прописными.\n",
    "2. Встречаются пробелы.\n",
    "3. \"Верблюжий регистр\".\n",
    "\n",
    "\n",
    "\n",
    "Количество значений в столбцах различается. Значит, в данных есть пропущенные значения.\n"
   ]
  },
  {
   "cell_type": "markdown",
   "metadata": {
    "id": "MCB6-dXG_Zct"
   },
   "source": [
    "**Выводы**\n",
    "\n",
    "В каждой строке таблицы — данные о прослушанном треке. Часть колонок описывает саму композицию: название, исполнителя и жанр. Остальные данные рассказывают о пользователе: из какого он города, когда он слушал музыку. \n",
    "\n",
    "Предварительно можно утверждать, что, данных достаточно для проверки гипотез. Но встречаются пропуски в данных, а в названиях колонок — расхождения с хорошим стилем.\n",
    "\n",
    "Чтобы двигаться дальше, нужно устранить проблемы в данных."
   ]
  },
  {
   "cell_type": "markdown",
   "metadata": {
    "id": "SjYF6Ub9_Zct"
   },
   "source": [
    "## Предобработка данных\n",
    "Исправьте стиль в заголовках столбцов, исключите пропуски. Затем проверьте данные на дубликаты."
   ]
  },
  {
   "cell_type": "markdown",
   "metadata": {
    "id": "dIaKXr29_Zct"
   },
   "source": [
    "### Стиль заголовков\n",
    "Выведите на экран названия столбцов:"
   ]
  },
  {
   "cell_type": "code",
   "execution_count": 5,
   "metadata": {
    "id": "oKOTdF_Q_Zct",
    "scrolled": false
   },
   "outputs": [
    {
     "data": {
      "text/plain": [
       "Index(['  userID', 'Track', 'artist', 'genre', '  City  ', 'time', 'Day'], dtype='object')"
      ]
     },
     "execution_count": 5,
     "metadata": {},
     "output_type": "execute_result"
    }
   ],
   "source": [
    "df.columns # перечень названий столбцов таблицы df"
   ]
  },
  {
   "cell_type": "markdown",
   "metadata": {
    "id": "zj5534cv_Zct"
   },
   "source": [
    "Приведите названия в соответствие с хорошим стилем:\n",
    "* несколько слов в названии запишите в «змеином_регистре»,\n",
    "* все символы сделайте строчными,\n",
    "* устраните пробелы.\n",
    "\n",
    "Для этого переименуйте колонки так:\n",
    "* `'  userID'` → `'user_id'`;\n",
    "* `'Track'` → `'track'`;\n",
    "* `'  City  '` → `'city'`;\n",
    "* `'Day'` → `'day'`."
   ]
  },
  {
   "cell_type": "code",
   "execution_count": 6,
   "metadata": {
    "id": "ISlFqs5y_Zct",
    "scrolled": true
   },
   "outputs": [],
   "source": [
    "df_filtred = df.rename(columns={'  userID': 'user_id', 'Track': 'track', '  City  ': 'city', 'Day': 'day'}) # переименование столбцов"
   ]
  },
  {
   "cell_type": "markdown",
   "metadata": {
    "id": "1dqbh00J_Zct"
   },
   "source": [
    "Проверьте результат. Для этого ещё раз выведите на экран названия столбцов:"
   ]
  },
  {
   "cell_type": "code",
   "execution_count": 7,
   "metadata": {
    "id": "d4NOAmTW_Zct",
    "scrolled": true
   },
   "outputs": [
    {
     "data": {
      "text/plain": [
       "Index(['user_id', 'track', 'artist', 'genre', 'city', 'time', 'day'], dtype='object')"
      ]
     },
     "execution_count": 7,
     "metadata": {},
     "output_type": "execute_result"
    }
   ],
   "source": [
    "df_filtred.columns # проверка результатов - перечень названий столбцов"
   ]
  },
  {
   "cell_type": "markdown",
   "metadata": {
    "id": "5ISfbcfY_Zct"
   },
   "source": [
    "### Пропуски значений\n",
    "Сначала посчитайте, сколько в таблице пропущенных значений. Для этого достаточно двух методов `pandas`:"
   ]
  },
  {
   "cell_type": "code",
   "execution_count": 8,
   "metadata": {
    "id": "RskX29qr_Zct",
    "scrolled": false
   },
   "outputs": [
    {
     "data": {
      "text/plain": [
       "user_id       0\n",
       "track      1231\n",
       "artist     7203\n",
       "genre      1198\n",
       "city          0\n",
       "time          0\n",
       "day           0\n",
       "dtype: int64"
      ]
     },
     "execution_count": 8,
     "metadata": {},
     "output_type": "execute_result"
    }
   ],
   "source": [
    "df_filtred.isna().sum() # подсчёт пропусков\n",
    "# df_filtred.isnull().sum() - второй метод подсчета пропусков"
   ]
  },
  {
   "cell_type": "markdown",
   "metadata": {
    "id": "qubhgnlO_Zct"
   },
   "source": [
    "Не все пропущенные значения влияют на исследование. Так в `track` и `artist` пропуски не важны для вашей работы. Достаточно заменить их явными обозначениями.\n",
    "\n",
    "Но пропуски в `genre` могут помешать сравнению музыкальных вкусов в Москве и Санкт-Петербурге. На практике было бы правильно установить причину пропусков и восстановить данные. Такой возможности нет в учебном проекте. Придётся:\n",
    "* заполнить и эти пропуски явными обозначениями,\n",
    "* оценить, насколько они повредят расчётам. "
   ]
  },
  {
   "cell_type": "markdown",
   "metadata": {
    "id": "fSv2laPA_Zct"
   },
   "source": [
    "Замените пропущенные значения в столбцах `track`, `artist` и `genre` на строку `'unknown'`. Для этого создайте список `columns_to_replace`, переберите его элементы циклом `for` и для каждого столбца выполните замену пропущенных значений:"
   ]
  },
  {
   "cell_type": "code",
   "execution_count": 9,
   "metadata": {
    "id": "KplB5qWs_Zct",
    "scrolled": true
   },
   "outputs": [],
   "source": [
    "columns_to_replace = ['track', 'artist', 'genre'] # создайте список columns_to_replace\n",
    "for column in columns_to_replace:  # перебор названий столбцов в цикле и замена пропущенных значений на 'unknown'\n",
    "    df_filtred[column] = df_filtred[column].fillna('unknown')"
   ]
  },
  {
   "cell_type": "markdown",
   "metadata": {
    "id": "Ilsm-MZo_Zct"
   },
   "source": [
    "Убедитесь, что в таблице не осталось пропусков. Для этого ещё раз посчитайте пропущенные значения."
   ]
  },
  {
   "cell_type": "code",
   "execution_count": 10,
   "metadata": {
    "id": "Tq4nYRX4_Zct",
    "scrolled": true
   },
   "outputs": [
    {
     "data": {
      "text/plain": [
       "user_id    0\n",
       "track      0\n",
       "artist     0\n",
       "genre      0\n",
       "city       0\n",
       "time       0\n",
       "day        0\n",
       "dtype: int64"
      ]
     },
     "execution_count": 10,
     "metadata": {},
     "output_type": "execute_result"
    }
   ],
   "source": [
    "(df_filtred.isna().sum()) # подсчёт пропусков"
   ]
  },
  {
   "cell_type": "code",
   "execution_count": 5,
   "metadata": {},
   "outputs": [
    {
     "ename": "SyntaxError",
     "evalue": "invalid syntax (<ipython-input-5-67221edb320e>, line 1)",
     "output_type": "error",
     "traceback": [
      "\u001b[0;36m  File \u001b[0;32m\"<ipython-input-5-67221edb320e>\"\u001b[0;36m, line \u001b[0;32m1\u001b[0m\n\u001b[0;31m    kapa = [1: ['se', 7, 'fa', 88, 0,35],\u001b[0m\n\u001b[0m             ^\u001b[0m\n\u001b[0;31mSyntaxError\u001b[0m\u001b[0;31m:\u001b[0m invalid syntax\n"
     ]
    }
   ],
   "source": [
    "kapa = [1: ['se', 7, 'fa', 88, 0,35],\n",
    "       2: ['fd', 'hge', 6, 0, 7]]\n",
    "kapa.mean()"
   ]
  },
  {
   "cell_type": "markdown",
   "metadata": {
    "id": "BWKRtBJ3_Zct"
   },
   "source": [
    "### Дубликаты\n",
    "Посчитайте явные дубликаты в таблице одной командой:"
   ]
  },
  {
   "cell_type": "code",
   "execution_count": 11,
   "metadata": {
    "id": "36eES_S0_Zct",
    "scrolled": true
   },
   "outputs": [
    {
     "data": {
      "text/plain": [
       "3826"
      ]
     },
     "execution_count": 11,
     "metadata": {},
     "output_type": "execute_result"
    }
   ],
   "source": [
    "df_filtred.duplicated().sum() # подсчёт явных дубликатов"
   ]
  },
  {
   "cell_type": "markdown",
   "metadata": {
    "id": "Ot25h6XR_Zct"
   },
   "source": [
    "Вызовите специальный метод `pandas`, чтобы удалить явные дубликаты:"
   ]
  },
  {
   "cell_type": "code",
   "execution_count": 12,
   "metadata": {
    "id": "exFHq6tt_Zct",
    "scrolled": true
   },
   "outputs": [],
   "source": [
    "df_filtred = df_filtred.drop_duplicates().reset_index(drop=True) # удаление явных дубликатов (с удалением старых индексов и формированием новых)"
   ]
  },
  {
   "cell_type": "markdown",
   "metadata": {
    "id": "Im2YwBEG_Zct"
   },
   "source": [
    "Ещё раз посчитайте явные дубликаты в таблице — убедитесь, что полностью от них избавились:"
   ]
  },
  {
   "cell_type": "code",
   "execution_count": 13,
   "metadata": {
    "id": "-8PuNWQ0_Zct",
    "scrolled": true
   },
   "outputs": [
    {
     "data": {
      "text/plain": [
       "0"
      ]
     },
     "execution_count": 13,
     "metadata": {},
     "output_type": "execute_result"
    }
   ],
   "source": [
    "df_filtred.duplicated().sum() # проверка на отсутствие дубликатов"
   ]
  },
  {
   "cell_type": "markdown",
   "metadata": {
    "id": "QlFBsxAr_Zct"
   },
   "source": [
    "Теперь избавьтесь от неявных дубликатов в колонке `genre`. Например, название одного и того же жанра может быть записано немного по-разному. Такие ошибки тоже повлияют на результат исследования."
   ]
  },
  {
   "cell_type": "markdown",
   "metadata": {
    "id": "eSjWwsOh_Zct"
   },
   "source": [
    "Выведите на экран список уникальных названий жанров, отсортированный в алфавитном порядке. Для этого:\n",
    "* извлеките нужный столбец датафрейма, \n",
    "* примените к нему метод сортировки,\n",
    "* для отсортированного столбца вызовите метод, который вернёт уникальные значения из столбца."
   ]
  },
  {
   "cell_type": "code",
   "execution_count": 14,
   "metadata": {
    "id": "JIUcqzZN_Zct",
    "scrolled": true
   },
   "outputs": [
    {
     "data": {
      "text/plain": [
       "array(['acid', 'acoustic', 'action', 'adult', 'africa', 'afrikaans',\n",
       "       'alternative', 'alternativepunk', 'ambient', 'americana',\n",
       "       'animated', 'anime', 'arabesk', 'arabic', 'arena',\n",
       "       'argentinetango', 'art', 'audiobook', 'author', 'avantgarde',\n",
       "       'axé', 'baile', 'balkan', 'beats', 'bigroom', 'black', 'bluegrass',\n",
       "       'blues', 'bollywood', 'bossa', 'brazilian', 'breakbeat', 'breaks',\n",
       "       'broadway', 'cantautori', 'cantopop', 'canzone', 'caribbean',\n",
       "       'caucasian', 'celtic', 'chamber', 'chanson', 'children', 'chill',\n",
       "       'chinese', 'choral', 'christian', 'christmas', 'classical',\n",
       "       'classicmetal', 'club', 'colombian', 'comedy', 'conjazz',\n",
       "       'contemporary', 'country', 'cuban', 'dance', 'dancehall',\n",
       "       'dancepop', 'dark', 'death', 'deep', 'deutschrock', 'deutschspr',\n",
       "       'dirty', 'disco', 'dnb', 'documentary', 'downbeat', 'downtempo',\n",
       "       'drum', 'dub', 'dubstep', 'eastern', 'easy', 'electronic',\n",
       "       'electropop', 'emo', 'entehno', 'epicmetal', 'estrada', 'ethnic',\n",
       "       'eurofolk', 'european', 'experimental', 'extrememetal', 'fado',\n",
       "       'fairytail', 'film', 'fitness', 'flamenco', 'folk', 'folklore',\n",
       "       'folkmetal', 'folkrock', 'folktronica', 'forró', 'frankreich',\n",
       "       'französisch', 'french', 'funk', 'future', 'gangsta', 'garage',\n",
       "       'german', 'ghazal', 'gitarre', 'glitch', 'gospel', 'gothic',\n",
       "       'grime', 'grunge', 'gypsy', 'handsup', \"hard'n'heavy\", 'hardcore',\n",
       "       'hardstyle', 'hardtechno', 'hip', 'hip-hop', 'hiphop',\n",
       "       'historisch', 'holiday', 'hop', 'horror', 'house', 'hymn', 'idm',\n",
       "       'independent', 'indian', 'indie', 'indipop', 'industrial',\n",
       "       'inspirational', 'instrumental', 'international', 'irish', 'jam',\n",
       "       'japanese', 'jazz', 'jewish', 'jpop', 'jungle', 'k-pop',\n",
       "       'karadeniz', 'karaoke', 'kayokyoku', 'korean', 'laiko', 'latin',\n",
       "       'latino', 'leftfield', 'local', 'lounge', 'loungeelectronic',\n",
       "       'lovers', 'malaysian', 'mandopop', 'marschmusik', 'meditative',\n",
       "       'mediterranean', 'melodic', 'metal', 'metalcore', 'mexican',\n",
       "       'middle', 'minimal', 'miscellaneous', 'modern', 'mood', 'mpb',\n",
       "       'muslim', 'native', 'neoklassik', 'neue', 'new', 'newage',\n",
       "       'newwave', 'nu', 'nujazz', 'numetal', 'oceania', 'old', 'opera',\n",
       "       'orchestral', 'other', 'piano', 'podcasts', 'pop', 'popdance',\n",
       "       'popelectronic', 'popeurodance', 'poprussian', 'post',\n",
       "       'posthardcore', 'postrock', 'power', 'progmetal', 'progressive',\n",
       "       'psychedelic', 'punjabi', 'punk', 'quebecois', 'ragga', 'ram',\n",
       "       'rancheras', 'rap', 'rave', 'reggae', 'reggaeton', 'regional',\n",
       "       'relax', 'religious', 'retro', 'rhythm', 'rnb', 'rnr', 'rock',\n",
       "       'rockabilly', 'rockalternative', 'rockindie', 'rockother',\n",
       "       'romance', 'roots', 'ruspop', 'rusrap', 'rusrock', 'russian',\n",
       "       'salsa', 'samba', 'scenic', 'schlager', 'self', 'sertanejo',\n",
       "       'shanson', 'shoegazing', 'showtunes', 'singer', 'ska', 'skarock',\n",
       "       'slow', 'smooth', 'soft', 'soul', 'soulful', 'sound', 'soundtrack',\n",
       "       'southern', 'specialty', 'speech', 'spiritual', 'sport',\n",
       "       'stonerrock', 'surf', 'swing', 'synthpop', 'synthrock',\n",
       "       'sängerportrait', 'tango', 'tanzorchester', 'taraftar', 'tatar',\n",
       "       'tech', 'techno', 'teen', 'thrash', 'top', 'traditional',\n",
       "       'tradjazz', 'trance', 'tribal', 'trip', 'triphop', 'tropical',\n",
       "       'türk', 'türkçe', 'ukrrock', 'unknown', 'urban', 'uzbek',\n",
       "       'variété', 'vi', 'videogame', 'vocal', 'western', 'world',\n",
       "       'worldbeat', 'ïîï', 'электроника'], dtype=object)"
      ]
     },
     "execution_count": 14,
     "metadata": {},
     "output_type": "execute_result"
    }
   ],
   "source": [
    "#genres = df_filtred['genre'].sort_values()            рабочий вариант \n",
    "#genres.unique()# Просмотр уникальных названий жанров\n",
    "\n",
    "df_filtred['genre'].sort_values().unique()\n",
    "# df_filtred['genre'].unique()"
   ]
  },
  {
   "cell_type": "markdown",
   "metadata": {
    "id": "qej-Qmuo_Zct"
   },
   "source": [
    "Просмотрите список и найдите неявные дубликаты названия `hiphop`. Это могут быть названия с ошибками или альтернативные названия того же жанра.\n",
    "\n",
    "Вы увидите следующие неявные дубликаты:\n",
    "* *hip*,\n",
    "* *hop*,\n",
    "* *hip-hop*.\n",
    "\n",
    "Чтобы очистить от них таблицу, напишите функцию `replace_wrong_genres()` с двумя параметрами: \n",
    "* `wrong_genres` — список дубликатов,\n",
    "* `correct_genre` — строка с правильным значением.\n",
    "\n",
    "Функция должна исправить колонку `genre` в таблице `df`: заменить каждое значение из списка `wrong_genres` на значение из `correct_genre`."
   ]
  },
  {
   "cell_type": "code",
   "execution_count": 15,
   "metadata": {
    "id": "ErNDkmns_Zct",
    "scrolled": true
   },
   "outputs": [],
   "source": [
    "def replace_wrong_genres(wrong_genres, correct_genre): # Функция для замены неявных дубликатов\n",
    "    for wrong_genre in wrong_genres: # перебираем неправильные имена\n",
    "        df_filtred['genre'] = df_filtred['genre'].replace(wrong_genre, correct_genre) # и для каждого неправильного имени вызываем метод replace()\n",
    "\n",
    "\n",
    "wrong_genres = ['hip', 'hop', 'hip-hop'] # список дубликатов\n",
    "correct_genre = 'hiphop' # правильное значение\n"
   ]
  },
  {
   "cell_type": "markdown",
   "metadata": {
    "id": "aDoBJxbA_Zct"
   },
   "source": [
    "Вызовите `replace_wrong_genres()` и передайте ей такие аргументы, чтобы она устранила неявные дубликаты: вместо `hip`, `hop` и `hip-hop` в таблице должно быть значение `hiphop`:"
   ]
  },
  {
   "cell_type": "code",
   "execution_count": 16,
   "metadata": {
    "id": "YN5i2hpmSo09"
   },
   "outputs": [],
   "source": [
    "replace_wrong_genres(wrong_genres, correct_genre) # Устранение неявных дубликатов"
   ]
  },
  {
   "cell_type": "markdown",
   "metadata": {
    "id": "zQKF16_RG15m"
   },
   "source": [
    "Проверьте, что заменили неправильные названия:\n",
    "\n",
    "*   hip\n",
    "*   hop\n",
    "*   hip-hop\n",
    "\n",
    "Выведите отсортированный список уникальных значений столбца `genre`:"
   ]
  },
  {
   "cell_type": "code",
   "execution_count": 17,
   "metadata": {
    "id": "wvixALnFG15m",
    "scrolled": true
   },
   "outputs": [
    {
     "data": {
      "text/plain": [
       "array(['acid', 'acoustic', 'action', 'adult', 'africa', 'afrikaans',\n",
       "       'alternative', 'alternativepunk', 'ambient', 'americana',\n",
       "       'animated', 'anime', 'arabesk', 'arabic', 'arena',\n",
       "       'argentinetango', 'art', 'audiobook', 'author', 'avantgarde',\n",
       "       'axé', 'baile', 'balkan', 'beats', 'bigroom', 'black', 'bluegrass',\n",
       "       'blues', 'bollywood', 'bossa', 'brazilian', 'breakbeat', 'breaks',\n",
       "       'broadway', 'cantautori', 'cantopop', 'canzone', 'caribbean',\n",
       "       'caucasian', 'celtic', 'chamber', 'chanson', 'children', 'chill',\n",
       "       'chinese', 'choral', 'christian', 'christmas', 'classical',\n",
       "       'classicmetal', 'club', 'colombian', 'comedy', 'conjazz',\n",
       "       'contemporary', 'country', 'cuban', 'dance', 'dancehall',\n",
       "       'dancepop', 'dark', 'death', 'deep', 'deutschrock', 'deutschspr',\n",
       "       'dirty', 'disco', 'dnb', 'documentary', 'downbeat', 'downtempo',\n",
       "       'drum', 'dub', 'dubstep', 'eastern', 'easy', 'electronic',\n",
       "       'electropop', 'emo', 'entehno', 'epicmetal', 'estrada', 'ethnic',\n",
       "       'eurofolk', 'european', 'experimental', 'extrememetal', 'fado',\n",
       "       'fairytail', 'film', 'fitness', 'flamenco', 'folk', 'folklore',\n",
       "       'folkmetal', 'folkrock', 'folktronica', 'forró', 'frankreich',\n",
       "       'französisch', 'french', 'funk', 'future', 'gangsta', 'garage',\n",
       "       'german', 'ghazal', 'gitarre', 'glitch', 'gospel', 'gothic',\n",
       "       'grime', 'grunge', 'gypsy', 'handsup', \"hard'n'heavy\", 'hardcore',\n",
       "       'hardstyle', 'hardtechno', 'hiphop', 'historisch', 'holiday',\n",
       "       'horror', 'house', 'hymn', 'idm', 'independent', 'indian', 'indie',\n",
       "       'indipop', 'industrial', 'inspirational', 'instrumental',\n",
       "       'international', 'irish', 'jam', 'japanese', 'jazz', 'jewish',\n",
       "       'jpop', 'jungle', 'k-pop', 'karadeniz', 'karaoke', 'kayokyoku',\n",
       "       'korean', 'laiko', 'latin', 'latino', 'leftfield', 'local',\n",
       "       'lounge', 'loungeelectronic', 'lovers', 'malaysian', 'mandopop',\n",
       "       'marschmusik', 'meditative', 'mediterranean', 'melodic', 'metal',\n",
       "       'metalcore', 'mexican', 'middle', 'minimal', 'miscellaneous',\n",
       "       'modern', 'mood', 'mpb', 'muslim', 'native', 'neoklassik', 'neue',\n",
       "       'new', 'newage', 'newwave', 'nu', 'nujazz', 'numetal', 'oceania',\n",
       "       'old', 'opera', 'orchestral', 'other', 'piano', 'podcasts', 'pop',\n",
       "       'popdance', 'popelectronic', 'popeurodance', 'poprussian', 'post',\n",
       "       'posthardcore', 'postrock', 'power', 'progmetal', 'progressive',\n",
       "       'psychedelic', 'punjabi', 'punk', 'quebecois', 'ragga', 'ram',\n",
       "       'rancheras', 'rap', 'rave', 'reggae', 'reggaeton', 'regional',\n",
       "       'relax', 'religious', 'retro', 'rhythm', 'rnb', 'rnr', 'rock',\n",
       "       'rockabilly', 'rockalternative', 'rockindie', 'rockother',\n",
       "       'romance', 'roots', 'ruspop', 'rusrap', 'rusrock', 'russian',\n",
       "       'salsa', 'samba', 'scenic', 'schlager', 'self', 'sertanejo',\n",
       "       'shanson', 'shoegazing', 'showtunes', 'singer', 'ska', 'skarock',\n",
       "       'slow', 'smooth', 'soft', 'soul', 'soulful', 'sound', 'soundtrack',\n",
       "       'southern', 'specialty', 'speech', 'spiritual', 'sport',\n",
       "       'stonerrock', 'surf', 'swing', 'synthpop', 'synthrock',\n",
       "       'sängerportrait', 'tango', 'tanzorchester', 'taraftar', 'tatar',\n",
       "       'tech', 'techno', 'teen', 'thrash', 'top', 'traditional',\n",
       "       'tradjazz', 'trance', 'tribal', 'trip', 'triphop', 'tropical',\n",
       "       'türk', 'türkçe', 'ukrrock', 'unknown', 'urban', 'uzbek',\n",
       "       'variété', 'vi', 'videogame', 'vocal', 'western', 'world',\n",
       "       'worldbeat', 'ïîï', 'электроника'], dtype=object)"
      ]
     },
     "execution_count": 17,
     "metadata": {},
     "output_type": "execute_result"
    }
   ],
   "source": [
    "df_filtred['genre'].sort_values().unique()"
   ]
  },
  {
   "cell_type": "markdown",
   "metadata": {
    "id": "jz6a9-7HQUDd"
   },
   "source": [
    "**Выводы**\n",
    "\n",
    "Предобработка обнаружила три проблемы в данных:\n",
    "\n",
    "- нарушения в стиле заголовков,\n",
    "- пропущенные значения,\n",
    "- дубликаты — явные и неявные.\n",
    "\n",
    "Вы исправили заголовки, чтобы упростить работу с таблицей. Без дубликатов исследование станет более точным.\n",
    "\n",
    "Пропущенные значения вы заменили на `'unknown'`. Ещё предстоит увидеть, не повредят ли исследованию пропуски в колонке `genre`.\n",
    "\n",
    "Теперь можно перейти к проверке гипотез. "
   ]
  },
  {
   "cell_type": "markdown",
   "metadata": {
    "id": "WttZHXH0SqKk"
   },
   "source": [
    "## Проверка гипотез"
   ]
  },
  {
   "cell_type": "markdown",
   "metadata": {
    "id": "Im936VVi_Zcu"
   },
   "source": [
    "### Сравнение поведения пользователей двух столиц"
   ]
  },
  {
   "cell_type": "markdown",
   "metadata": {
    "id": "nwt_MuaL_Zcu"
   },
   "source": [
    "Первая гипотеза утверждает, что пользователи по-разному слушают музыку в Москве и Санкт-Петербурге. Проверьте это предположение по данным о трёх днях недели — понедельнике, среде и пятнице. Для этого:\n",
    "\n",
    "* Разделите пользователей Москвы и Санкт-Петербурга\n",
    "* Сравните, сколько треков послушала каждая группа пользователей в понедельник, среду и пятницу.\n"
   ]
  },
  {
   "cell_type": "markdown",
   "metadata": {
    "id": "8Dw_YMmT_Zcu"
   },
   "source": [
    "Для тренировки сначала выполните каждый из расчётов по отдельности. \n",
    "\n",
    "Оцените активность пользователей в каждом городе. Сгруппируйте данные по городу и посчитайте прослушивания в каждой группе.\n",
    "\n"
   ]
  },
  {
   "cell_type": "code",
   "execution_count": 18,
   "metadata": {
    "id": "0_Qs96oh_Zcu",
    "scrolled": true
   },
   "outputs": [
    {
     "data": {
      "text/plain": [
       "city\n",
       "Moscow              42741\n",
       "Saint-Petersburg    18512\n",
       "Name: track, dtype: int64"
      ]
     },
     "execution_count": 18,
     "metadata": {},
     "output_type": "execute_result"
    }
   ],
   "source": [
    "df_filtred.groupby('city')['track'].count()"
   ]
  },
  {
   "cell_type": "markdown",
   "metadata": {
    "id": "dzli3w8o_Zcu"
   },
   "source": [
    "В Москве прослушиваний больше, чем в Петербурге. Из этого не следует, что московские пользователи чаще слушают музыку. Просто самих пользователей в Москве больше.\n",
    "\n",
    "Теперь сгруппируйте данные по дню недели и подсчитайте прослушивания в понедельник, среду и пятницу. Учтите, что в данных есть информация только о прослушиваниях только за эти дни.\n"
   ]
  },
  {
   "cell_type": "code",
   "execution_count": 19,
   "metadata": {
    "id": "uZMKjiJz_Zcu",
    "scrolled": true
   },
   "outputs": [
    {
     "data": {
      "text/plain": [
       "day\n",
       "Friday       21840\n",
       "Monday       21354\n",
       "Wednesday    18059\n",
       "Name: track, dtype: int64"
      ]
     },
     "execution_count": 19,
     "metadata": {},
     "output_type": "execute_result"
    }
   ],
   "source": [
    "df_filtred.groupby('day')['track'].count() # Подсчёт прослушиваний в каждый из трёх дней"
   ]
  },
  {
   "cell_type": "markdown",
   "metadata": {
    "id": "cC2tNrlL_Zcu"
   },
   "source": [
    "В среднем пользователи из двух городов менее активны по средам. Но картина может измениться, если рассмотреть каждый город в отдельности."
   ]
  },
  {
   "cell_type": "markdown",
   "metadata": {
    "id": "POzs8bGa_Zcu"
   },
   "source": [
    "Вы видели, как работает группировка по городу и по дням недели. Теперь напишите функцию, которая объединит два эти расчёта.\n",
    "\n",
    "Создайте функцию `number_tracks()`, которая посчитает прослушивания для заданного дня и города. Ей понадобятся два параметра:\n",
    "* день недели,\n",
    "* название города.\n",
    "\n",
    "В функции сохраните в переменную строки исходной таблицы, у которых значение:\n",
    "  * в колонке `day` равно параметру `day`,\n",
    "  * в колонке `city` равно параметру `city`.\n",
    "\n",
    "Для этого примените последовательную фильтрацию с логической индексацией.\n",
    "\n",
    "Затем посчитайте значения в столбце `user_id` получившейся таблицы. Результат сохраните в новую переменную. Верните эту переменную из функции."
   ]
  },
  {
   "cell_type": "code",
   "execution_count": 20,
   "metadata": {
    "id": "Nz3GdQB1_Zcu",
    "scrolled": true
   },
   "outputs": [],
   "source": [
    "# <создание функции number_tracks()>\n",
    "# Объявляется функция с двумя параметрами: day, city.\n",
    "# В переменной track_list сохраняются те строки таблицы df, для которых \n",
    "# значение в столбце 'day' равно параметру day и одновременно значение\n",
    "# в столбце 'city' равно параметру city (используйте последовательную фильтрацию\n",
    "# с помощью логической индексации).\n",
    "# В переменной track_list_count сохраняется число значений столбца 'user_id',\n",
    "# рассчитанное методом count() для таблицы track_list.\n",
    "# Функция возвращает число - значение track_list_count.\n",
    "\n",
    "# Функция для подсчёта прослушиваний для конкретного города и дня.\n",
    "# С помощью последовательной фильтрации с логической индексацией она \n",
    "# сначала получит из исходной таблицы строки с нужным днём,\n",
    "# затем из результата отфильтрует строки с нужным городом,\n",
    "# методом count() посчитает количество значений в колонке user_id. \n",
    "# Это количество функция вернёт в качестве результата\n",
    "\n",
    "def number_tracks(day, city):\n",
    "    track_list = df_filtred[['day','city','user_id']]\n",
    "    track_list = track_list[(track_list['day'] == day) & (track_list['city'] == city)]\n",
    "    track_list_count = track_list['user_id'].count()\n",
    "    return track_list_count\n",
    "\n",
    "days_list = ['Monday', 'Wednesday', 'Friday'] \n",
    "cities_list = ['Moscow', 'Saint-Petersburg']\n",
    "\n",
    "data_df = []  # пустой список для цикла\n",
    " \n",
    "for city in cities_list:  # Цикл, который пройдется по городам и дням недели в нужной \n",
    "        city_list = [city,] # последовательности для таблицы и добавит данные в виде (город, пн, ср, пт)\n",
    "        for day in days_list:\n",
    "            city_list.append(number_tracks(day, city))                         \n",
    "        data_df.append(city_list)\n",
    "\n"
   ]
  },
  {
   "cell_type": "markdown",
   "metadata": {
    "id": "ytf7xFrFJQ2r"
   },
   "source": [
    "Вызовите `number_tracks()` шесть раз, меняя значение параметров — так, чтобы получить данные для каждого города в каждый из трёх дней."
   ]
  },
  {
   "cell_type": "code",
   "execution_count": 21,
   "metadata": {
    "id": "rJcRATNQ_Zcu",
    "scrolled": true
   },
   "outputs": [
    {
     "data": {
      "text/plain": [
       "15740"
      ]
     },
     "execution_count": 21,
     "metadata": {},
     "output_type": "execute_result"
    }
   ],
   "source": [
    "number_tracks('Monday', 'Moscow') # количество прослушиваний в Москве по понедельникам"
   ]
  },
  {
   "cell_type": "code",
   "execution_count": 22,
   "metadata": {
    "id": "hq_ncZ5T_Zcu",
    "scrolled": true
   },
   "outputs": [
    {
     "data": {
      "text/plain": [
       "5614"
      ]
     },
     "execution_count": 22,
     "metadata": {},
     "output_type": "execute_result"
    }
   ],
   "source": [
    "number_tracks('Monday', 'Saint-Petersburg')# количество прослушиваний в Санкт-Петербурге по понедельникам"
   ]
  },
  {
   "cell_type": "code",
   "execution_count": 23,
   "metadata": {
    "id": "_NTy2VPU_Zcu",
    "scrolled": true
   },
   "outputs": [
    {
     "data": {
      "text/plain": [
       "11056"
      ]
     },
     "execution_count": 23,
     "metadata": {},
     "output_type": "execute_result"
    }
   ],
   "source": [
    "number_tracks('Wednesday', 'Moscow')# количество прослушиваний в Москве по средам"
   ]
  },
  {
   "cell_type": "code",
   "execution_count": 24,
   "metadata": {
    "id": "j2y3TAwo_Zcu",
    "scrolled": true
   },
   "outputs": [
    {
     "data": {
      "text/plain": [
       "7003"
      ]
     },
     "execution_count": 24,
     "metadata": {},
     "output_type": "execute_result"
    }
   ],
   "source": [
    "number_tracks('Wednesday', 'Saint-Petersburg')# количество прослушиваний в Санкт-Петербурге по средам"
   ]
  },
  {
   "cell_type": "code",
   "execution_count": 25,
   "metadata": {
    "id": "vYDw5u_K_Zcu",
    "scrolled": true
   },
   "outputs": [
    {
     "data": {
      "text/plain": [
       "15945"
      ]
     },
     "execution_count": 25,
     "metadata": {},
     "output_type": "execute_result"
    }
   ],
   "source": [
    "number_tracks('Friday', 'Moscow')# количество прослушиваний в Москве по пятницам"
   ]
  },
  {
   "cell_type": "code",
   "execution_count": 26,
   "metadata": {
    "id": "8_yzFtW3_Zcu",
    "scrolled": true
   },
   "outputs": [
    {
     "data": {
      "text/plain": [
       "5895"
      ]
     },
     "execution_count": 26,
     "metadata": {},
     "output_type": "execute_result"
    }
   ],
   "source": [
    "number_tracks('Friday', 'Saint-Petersburg')# количество прослушиваний в Санкт-Петербурге по пятницам"
   ]
  },
  {
   "cell_type": "markdown",
   "metadata": {
    "id": "7QXffbO-_Zcu"
   },
   "source": [
    "Создайте c помощью конструктора `pd.DataFrame` таблицу, где\n",
    "* названия колонок — `['city', 'monday', 'wednesday', 'friday']`;\n",
    "* данные — результаты, которые вы получили с помощью `number_tracks`."
   ]
  },
  {
   "cell_type": "code",
   "execution_count": 27,
   "metadata": {
    "id": "APAcLpOr_Zcu",
    "scrolled": true
   },
   "outputs": [
    {
     "data": {
      "text/html": [
       "<div>\n",
       "<style scoped>\n",
       "    .dataframe tbody tr th:only-of-type {\n",
       "        vertical-align: middle;\n",
       "    }\n",
       "\n",
       "    .dataframe tbody tr th {\n",
       "        vertical-align: top;\n",
       "    }\n",
       "\n",
       "    .dataframe thead th {\n",
       "        text-align: right;\n",
       "    }\n",
       "</style>\n",
       "<table border=\"1\" class=\"dataframe\">\n",
       "  <thead>\n",
       "    <tr style=\"text-align: right;\">\n",
       "      <th></th>\n",
       "      <th>city</th>\n",
       "      <th>monday</th>\n",
       "      <th>wednesday</th>\n",
       "      <th>friday</th>\n",
       "    </tr>\n",
       "  </thead>\n",
       "  <tbody>\n",
       "    <tr>\n",
       "      <td>0</td>\n",
       "      <td>Moscow</td>\n",
       "      <td>15740</td>\n",
       "      <td>11056</td>\n",
       "      <td>15945</td>\n",
       "    </tr>\n",
       "    <tr>\n",
       "      <td>1</td>\n",
       "      <td>Saint-Petersburg</td>\n",
       "      <td>5614</td>\n",
       "      <td>7003</td>\n",
       "      <td>5895</td>\n",
       "    </tr>\n",
       "  </tbody>\n",
       "</table>\n",
       "</div>"
      ],
      "text/plain": [
       "               city  monday  wednesday  friday\n",
       "0            Moscow   15740      11056   15945\n",
       "1  Saint-Petersburg    5614       7003    5895"
      ]
     },
     "metadata": {},
     "output_type": "display_data"
    }
   ],
   "source": [
    "columns_df = ['city', 'monday', 'wednesday', 'friday'] # список с названием колонок для таблицы\n",
    "display(pd.DataFrame(data=data_df,columns=columns_df)) # Таблица с результатами"
   ]
  },
  {
   "cell_type": "markdown",
   "metadata": {
    "id": "-EgPIHYu_Zcu"
   },
   "source": [
    "**Выводы**\n",
    "\n",
    "Данные показывают разницу поведения пользователей:\n",
    "\n",
    "- В Москве пик прослушиваний приходится на понедельник и пятницу, а в среду заметен спад.\n",
    "- В Петербурге, наоборот, больше слушают музыку по средам. Активность в понедельник и пятницу здесь почти в равной мере уступает среде.\n",
    "\n",
    "Значит, данные говорят в пользу первой гипотезы."
   ]
  },
  {
   "cell_type": "markdown",
   "metadata": {
    "id": "atZAxtq4_Zcu"
   },
   "source": [
    "### Музыка в начале и в конце недели"
   ]
  },
  {
   "cell_type": "markdown",
   "metadata": {
    "id": "eXrQqXFH_Zcu"
   },
   "source": [
    "Согласно второй гипотезе, утром в понедельник в Москве преобладают одни жанры, а в Петербурге — другие. Так же и вечером пятницы преобладают разные жанры — в зависимости от города."
   ]
  },
  {
   "cell_type": "markdown",
   "metadata": {
    "id": "S8UcW6Hw_Zcu"
   },
   "source": [
    "Сохраните таблицы с данными в две переменные:\n",
    "* по Москве — в `moscow_general`;\n",
    "* по Санкт-Петербургу — в `spb_general`."
   ]
  },
  {
   "cell_type": "code",
   "execution_count": 28,
   "metadata": {
    "id": "qeaFfM_P_Zcu",
    "scrolled": true
   },
   "outputs": [
    {
     "data": {
      "text/html": [
       "<div>\n",
       "<style scoped>\n",
       "    .dataframe tbody tr th:only-of-type {\n",
       "        vertical-align: middle;\n",
       "    }\n",
       "\n",
       "    .dataframe tbody tr th {\n",
       "        vertical-align: top;\n",
       "    }\n",
       "\n",
       "    .dataframe thead th {\n",
       "        text-align: right;\n",
       "    }\n",
       "</style>\n",
       "<table border=\"1\" class=\"dataframe\">\n",
       "  <thead>\n",
       "    <tr style=\"text-align: right;\">\n",
       "      <th></th>\n",
       "      <th>user_id</th>\n",
       "      <th>track</th>\n",
       "      <th>artist</th>\n",
       "      <th>genre</th>\n",
       "      <th>city</th>\n",
       "      <th>time</th>\n",
       "      <th>day</th>\n",
       "    </tr>\n",
       "  </thead>\n",
       "  <tbody>\n",
       "    <tr>\n",
       "      <td>1</td>\n",
       "      <td>55204538</td>\n",
       "      <td>Delayed Because of Accident</td>\n",
       "      <td>Andreas Rönnberg</td>\n",
       "      <td>rock</td>\n",
       "      <td>Moscow</td>\n",
       "      <td>14:07:09</td>\n",
       "      <td>Friday</td>\n",
       "    </tr>\n",
       "    <tr>\n",
       "      <td>4</td>\n",
       "      <td>E2DC1FAE</td>\n",
       "      <td>Soul People</td>\n",
       "      <td>Space Echo</td>\n",
       "      <td>dance</td>\n",
       "      <td>Moscow</td>\n",
       "      <td>08:34:34</td>\n",
       "      <td>Monday</td>\n",
       "    </tr>\n",
       "    <tr>\n",
       "      <td>6</td>\n",
       "      <td>4CB90AA5</td>\n",
       "      <td>True</td>\n",
       "      <td>Roman Messer</td>\n",
       "      <td>dance</td>\n",
       "      <td>Moscow</td>\n",
       "      <td>13:00:07</td>\n",
       "      <td>Wednesday</td>\n",
       "    </tr>\n",
       "    <tr>\n",
       "      <td>7</td>\n",
       "      <td>F03E1C1F</td>\n",
       "      <td>Feeling This Way</td>\n",
       "      <td>Polina Griffith</td>\n",
       "      <td>dance</td>\n",
       "      <td>Moscow</td>\n",
       "      <td>20:47:49</td>\n",
       "      <td>Wednesday</td>\n",
       "    </tr>\n",
       "    <tr>\n",
       "      <td>8</td>\n",
       "      <td>8FA1D3BE</td>\n",
       "      <td>И вновь продолжается бой</td>\n",
       "      <td>unknown</td>\n",
       "      <td>ruspop</td>\n",
       "      <td>Moscow</td>\n",
       "      <td>09:17:40</td>\n",
       "      <td>Friday</td>\n",
       "    </tr>\n",
       "  </tbody>\n",
       "</table>\n",
       "</div>"
      ],
      "text/plain": [
       "    user_id                        track            artist   genre    city  \\\n",
       "1  55204538  Delayed Because of Accident  Andreas Rönnberg    rock  Moscow   \n",
       "4  E2DC1FAE                  Soul People        Space Echo   dance  Moscow   \n",
       "6  4CB90AA5                         True      Roman Messer   dance  Moscow   \n",
       "7  F03E1C1F             Feeling This Way   Polina Griffith   dance  Moscow   \n",
       "8  8FA1D3BE     И вновь продолжается бой           unknown  ruspop  Moscow   \n",
       "\n",
       "       time        day  \n",
       "1  14:07:09     Friday  \n",
       "4  08:34:34     Monday  \n",
       "6  13:00:07  Wednesday  \n",
       "7  20:47:49  Wednesday  \n",
       "8  09:17:40     Friday  "
      ]
     },
     "execution_count": 28,
     "metadata": {},
     "output_type": "execute_result"
    }
   ],
   "source": [
    "moscow_general = df_filtred[df_filtred['city'] == 'Moscow'] # получение таблицы moscow_general из тех строк таблицы df, \n",
    "# для которых значение в столбце 'city' равно 'Moscow'\n",
    "moscow_general.head()"
   ]
  },
  {
   "cell_type": "code",
   "execution_count": 29,
   "metadata": {
    "id": "ORaVRKto_Zcu",
    "scrolled": true
   },
   "outputs": [
    {
     "data": {
      "text/html": [
       "<div>\n",
       "<style scoped>\n",
       "    .dataframe tbody tr th:only-of-type {\n",
       "        vertical-align: middle;\n",
       "    }\n",
       "\n",
       "    .dataframe tbody tr th {\n",
       "        vertical-align: top;\n",
       "    }\n",
       "\n",
       "    .dataframe thead th {\n",
       "        text-align: right;\n",
       "    }\n",
       "</style>\n",
       "<table border=\"1\" class=\"dataframe\">\n",
       "  <thead>\n",
       "    <tr style=\"text-align: right;\">\n",
       "      <th></th>\n",
       "      <th>user_id</th>\n",
       "      <th>track</th>\n",
       "      <th>artist</th>\n",
       "      <th>genre</th>\n",
       "      <th>city</th>\n",
       "      <th>time</th>\n",
       "      <th>day</th>\n",
       "    </tr>\n",
       "  </thead>\n",
       "  <tbody>\n",
       "    <tr>\n",
       "      <td>0</td>\n",
       "      <td>FFB692EC</td>\n",
       "      <td>Kamigata To Boots</td>\n",
       "      <td>The Mass Missile</td>\n",
       "      <td>rock</td>\n",
       "      <td>Saint-Petersburg</td>\n",
       "      <td>20:28:33</td>\n",
       "      <td>Wednesday</td>\n",
       "    </tr>\n",
       "    <tr>\n",
       "      <td>2</td>\n",
       "      <td>20EC38</td>\n",
       "      <td>Funiculì funiculà</td>\n",
       "      <td>Mario Lanza</td>\n",
       "      <td>pop</td>\n",
       "      <td>Saint-Petersburg</td>\n",
       "      <td>20:58:07</td>\n",
       "      <td>Wednesday</td>\n",
       "    </tr>\n",
       "    <tr>\n",
       "      <td>3</td>\n",
       "      <td>A3DD03C9</td>\n",
       "      <td>Dragons in the Sunset</td>\n",
       "      <td>Fire + Ice</td>\n",
       "      <td>folk</td>\n",
       "      <td>Saint-Petersburg</td>\n",
       "      <td>08:37:09</td>\n",
       "      <td>Monday</td>\n",
       "    </tr>\n",
       "    <tr>\n",
       "      <td>5</td>\n",
       "      <td>842029A1</td>\n",
       "      <td>Преданная</td>\n",
       "      <td>IMPERVTOR</td>\n",
       "      <td>rusrap</td>\n",
       "      <td>Saint-Petersburg</td>\n",
       "      <td>13:09:41</td>\n",
       "      <td>Friday</td>\n",
       "    </tr>\n",
       "    <tr>\n",
       "      <td>9</td>\n",
       "      <td>E772D5C0</td>\n",
       "      <td>Pessimist</td>\n",
       "      <td>unknown</td>\n",
       "      <td>dance</td>\n",
       "      <td>Saint-Petersburg</td>\n",
       "      <td>21:20:49</td>\n",
       "      <td>Wednesday</td>\n",
       "    </tr>\n",
       "  </tbody>\n",
       "</table>\n",
       "</div>"
      ],
      "text/plain": [
       "    user_id                  track            artist   genre  \\\n",
       "0  FFB692EC      Kamigata To Boots  The Mass Missile    rock   \n",
       "2    20EC38      Funiculì funiculà       Mario Lanza     pop   \n",
       "3  A3DD03C9  Dragons in the Sunset        Fire + Ice    folk   \n",
       "5  842029A1              Преданная         IMPERVTOR  rusrap   \n",
       "9  E772D5C0              Pessimist           unknown   dance   \n",
       "\n",
       "               city      time        day  \n",
       "0  Saint-Petersburg  20:28:33  Wednesday  \n",
       "2  Saint-Petersburg  20:58:07  Wednesday  \n",
       "3  Saint-Petersburg  08:37:09     Monday  \n",
       "5  Saint-Petersburg  13:09:41     Friday  \n",
       "9  Saint-Petersburg  21:20:49  Wednesday  "
      ]
     },
     "execution_count": 29,
     "metadata": {},
     "output_type": "execute_result"
    }
   ],
   "source": [
    "spb_general = df_filtred[df_filtred['city'] == 'Saint-Petersburg'] # получение таблицы spb_general из тех строк таблицы df,\n",
    "# для которых значение в столбце 'city' равно 'Saint-Petersburg'\n",
    "spb_general.head()"
   ]
  },
  {
   "cell_type": "markdown",
   "metadata": {
    "id": "MEJV-CX2_Zcu"
   },
   "source": [
    "Создайте функцию `genre_weekday()` с четырьмя параметрами:\n",
    "* таблица (датафрейм) с данными,\n",
    "* день недели,\n",
    "* начальная временная метка в формате 'hh:mm', \n",
    "* последняя временная метка в формате 'hh:mm'.\n",
    "\n",
    "Функция должна вернуть информацию о топ-10 жанров тех треков, которые прослушивали в указанный день, в промежутке между двумя отметками времени."
   ]
  },
  {
   "cell_type": "code",
   "execution_count": 30,
   "metadata": {
    "id": "laJT9BYl_Zcu",
    "scrolled": true
   },
   "outputs": [],
   "source": [
    "# Объявление функции genre_weekday() с параметрами table, day, time1, time2,\n",
    "# которая возвращает информацию о самых популярных жанрах в указанный день в\n",
    "# заданное время:\n",
    "# 1) в переменную genre_df сохраняются те строки переданного датафрейма table, для\n",
    "#    которых одновременно:\n",
    "#    - значение в столбце day равно значению аргумента day\n",
    "#    - значение в столбце time больше значения аргумента time1\n",
    "#    - значение в столбце time меньше значения аргумента time2\n",
    "#    Используйте последовательную фильтрацию с помощью логической индексации.\n",
    "# 2) сгруппировать датафрейм genre_df по столбцу genre, взять один из его\n",
    "#    столбцов и посчитать методом count() количество записей для каждого из\n",
    "#    присутствующих жанров, получившийся Series записать в переменную\n",
    "#    genre_df_count\n",
    "# 3) отсортировать genre_df_count по убыванию встречаемости и сохранить\n",
    "#    в переменную genre_df_sorted\n",
    "# 4) вернуть Series из 10 первых значений genre_df_sorted, это будут топ-10\n",
    "#    популярных жанров (в указанный день, в заданное время)\n",
    "\n",
    "def genre_weekday(table, day, time1, time2):\n",
    "    genre_df = table[(table['day'] == day) & (table['time'] > time1) & (table['time'] < time2)]\n",
    "    genre_df_count = genre_df.groupby('genre')['track'].count()\n",
    "    genre_df_sorted = genre_df_count.sort_values(ascending = False)\n",
    "    return genre_df_sorted.head(10)\n",
    "\n",
    "    "
   ]
  },
  {
   "cell_type": "markdown",
   "metadata": {
    "id": "la2s2_PF_Zcu"
   },
   "source": [
    "Cравните результаты функции `genre_weekday()` для Москвы и Санкт-Петербурга в понедельник утром (с 7:00 до 11:00) и в пятницу вечером (с 17:00 до 23:00):"
   ]
  },
  {
   "cell_type": "code",
   "execution_count": 31,
   "metadata": {
    "id": "yz7itPUQ_Zcu",
    "scrolled": true
   },
   "outputs": [
    {
     "data": {
      "text/plain": [
       "genre\n",
       "pop            781\n",
       "dance          549\n",
       "electronic     480\n",
       "rock           474\n",
       "hiphop         286\n",
       "ruspop         186\n",
       "world          181\n",
       "rusrap         175\n",
       "alternative    164\n",
       "unknown        161\n",
       "Name: track, dtype: int64"
      ]
     },
     "execution_count": 31,
     "metadata": {},
     "output_type": "execute_result"
    }
   ],
   "source": [
    "genre_weekday(moscow_general, 'Monday', '07:00', '11:00') # вызов функции для утра понедельника в Москве (вместо df — таблица moscow_general)\n",
    "# объекты, хранящие время, являются строками и сравниваются как строки\n",
    "# пример вызова: genre_weekday(moscow_general, 'Monday', '07:00', '11:00')"
   ]
  },
  {
   "cell_type": "code",
   "execution_count": 32,
   "metadata": {
    "id": "kwUcHPdy_Zcu",
    "scrolled": true
   },
   "outputs": [
    {
     "data": {
      "text/plain": [
       "genre\n",
       "pop            218\n",
       "dance          182\n",
       "rock           162\n",
       "electronic     147\n",
       "hiphop          80\n",
       "ruspop          64\n",
       "alternative     58\n",
       "rusrap          55\n",
       "jazz            44\n",
       "classical       40\n",
       "Name: track, dtype: int64"
      ]
     },
     "execution_count": 32,
     "metadata": {},
     "output_type": "execute_result"
    }
   ],
   "source": [
    "genre_weekday(spb_general, 'Monday', '07:00', '11:00')# вызов функции для утра понедельника в Петербурге (вместо df — таблица spb_general)"
   ]
  },
  {
   "cell_type": "code",
   "execution_count": 33,
   "metadata": {
    "id": "EzXVRE1o_Zcu",
    "scrolled": true
   },
   "outputs": [
    {
     "data": {
      "text/plain": [
       "genre\n",
       "pop            713\n",
       "rock           517\n",
       "dance          495\n",
       "electronic     482\n",
       "hiphop         273\n",
       "world          208\n",
       "ruspop         170\n",
       "alternative    163\n",
       "classical      163\n",
       "rusrap         142\n",
       "Name: track, dtype: int64"
      ]
     },
     "execution_count": 33,
     "metadata": {},
     "output_type": "execute_result"
    }
   ],
   "source": [
    "genre_weekday(moscow_general, 'Friday', '17:00', '23:00')# вызов функции для вечера пятницы в Москве"
   ]
  },
  {
   "cell_type": "code",
   "execution_count": 34,
   "metadata": {
    "id": "JZaEKu5v_Zcu",
    "scrolled": true
   },
   "outputs": [
    {
     "data": {
      "text/plain": [
       "genre\n",
       "pop            256\n",
       "rock           216\n",
       "electronic     216\n",
       "dance          210\n",
       "hiphop          97\n",
       "alternative     63\n",
       "jazz            61\n",
       "classical       60\n",
       "rusrap          59\n",
       "world           54\n",
       "Name: track, dtype: int64"
      ]
     },
     "execution_count": 34,
     "metadata": {},
     "output_type": "execute_result"
    }
   ],
   "source": [
    "genre_weekday(spb_general, 'Friday', '17:00', '23:00')# вызов функции для вечера пятницы в Петербурге"
   ]
  },
  {
   "cell_type": "markdown",
   "metadata": {
    "id": "wrCe4MNX_Zcu"
   },
   "source": [
    "**Выводы**\n",
    "\n",
    "Если сравнить топ-10 жанров в понедельник утром, можно сделать такие выводы:\n",
    "\n",
    "1. В Москве и Петербурге слушают похожую музыку. Единственное отличие — в московский рейтинг вошёл жанр “world”, а в петербургский — джаз и классика.\n",
    "\n",
    "2. В Москве пропущенных значений оказалось так много, что значение `'unknown'` заняло десятое место среди самых популярных жанров. Значит, пропущенные значения занимают существенную долю в данных и угрожают достоверности исследования.\n",
    "\n",
    "Вечер пятницы не меняет эту картину. Некоторые жанры поднимаются немного выше, другие спускаются, но в целом топ-10 остаётся тем же самым.\n",
    "\n",
    "Таким образом, вторая гипотеза подтвердилась лишь частично:\n",
    "* Пользователи слушают похожую музыку в начале недели и в конце.\n",
    "* Разница между Москвой и Петербургом не слишком выражена. В Москве чаще слушают русскую популярную музыку, в Петербурге — джаз.\n",
    "\n",
    "Однако пропуски в данных ставят под сомнение этот результат. В Москве их так много, что рейтинг топ-10 мог бы выглядеть иначе, если бы не утерянные  данные о жанрах."
   ]
  },
  {
   "cell_type": "markdown",
   "metadata": {
    "id": "JolODAqr_Zcu"
   },
   "source": [
    "### Жанровые предпочтения в Москве и Петербурге\n",
    "\n",
    "Гипотеза: Петербург — столица рэпа, музыку этого жанра там слушают чаще, чем в Москве.  А Москва — город контрастов, в котором, тем не менее, преобладает поп-музыка."
   ]
  },
  {
   "cell_type": "markdown",
   "metadata": {
    "id": "DlegSvaT_Zcu"
   },
   "source": [
    "Сгруппируйте таблицу `moscow_general` по жанру и посчитайте прослушивания треков каждого жанра методом `count()`. Затем отсортируйте результат в порядке убывания и сохраните его в таблице `moscow_genres`."
   ]
  },
  {
   "cell_type": "code",
   "execution_count": 35,
   "metadata": {
    "id": "r19lIPke_Zcu",
    "scrolled": true
   },
   "outputs": [],
   "source": [
    "moscow_genres = (moscow_general.groupby('genre')['genre'].count()).sort_values(ascending = False) # одной строкой: группировка таблицы moscow_general по столбцу 'genre', \n",
    "# подсчёт числа значений 'genre' в этой группировке методом count(), \n",
    "# сортировка получившегося Series в порядке убывания и сохранение в moscow_genres\n"
   ]
  },
  {
   "cell_type": "markdown",
   "metadata": {
    "id": "6kMuomxTiIr8"
   },
   "source": [
    "Выведите на экран первые десять строк `moscow_genres`:"
   ]
  },
  {
   "cell_type": "code",
   "execution_count": 36,
   "metadata": {
    "id": "WhCSooF8_Zcv",
    "scrolled": true
   },
   "outputs": [
    {
     "data": {
      "text/plain": [
       "genre\n",
       "pop            5892\n",
       "dance          4435\n",
       "rock           3965\n",
       "electronic     3786\n",
       "hiphop         2096\n",
       "classical      1616\n",
       "world          1432\n",
       "alternative    1379\n",
       "ruspop         1372\n",
       "rusrap         1161\n",
       "Name: genre, dtype: int64"
      ]
     },
     "execution_count": 36,
     "metadata": {},
     "output_type": "execute_result"
    }
   ],
   "source": [
    "moscow_genres.head(10) # просмотр первых 10 строк moscow_genres"
   ]
  },
  {
   "cell_type": "markdown",
   "metadata": {
    "id": "cnPG2vnN_Zcv"
   },
   "source": [
    "Теперь повторите то же и для Петербурга.\n",
    "\n",
    "Сгруппируйте таблицу `spb_general` по жанру. Посчитайте прослушивания треков каждого жанра. Результат отсортируйте в порядке убывания и сохраните в таблице `spb_genres`:\n"
   ]
  },
  {
   "cell_type": "code",
   "execution_count": 37,
   "metadata": {
    "id": "gluLIpE7_Zcv",
    "scrolled": true
   },
   "outputs": [],
   "source": [
    "spb_genres = (spb_general.groupby('genre')['genre'].count()).sort_values(ascending = False)# одной строкой: группировка таблицы spb_general по столбцу 'genre', \n",
    "# подсчёт числа значений 'genre' в этой группировке методом count(), \n",
    "# сортировка получившегося Series в порядке убывания и сохранение в spb_genres"
   ]
  },
  {
   "cell_type": "markdown",
   "metadata": {
    "id": "5Doha_ODgyQ8"
   },
   "source": [
    "Выведите на экран первые десять строк `spb_genres`:"
   ]
  },
  {
   "cell_type": "code",
   "execution_count": 38,
   "metadata": {
    "id": "uaGJHjVU_Zcv",
    "scrolled": true
   },
   "outputs": [
    {
     "data": {
      "text/plain": [
       "genre\n",
       "pop            2431\n",
       "dance          1932\n",
       "rock           1879\n",
       "electronic     1736\n",
       "hiphop          960\n",
       "alternative     649\n",
       "classical       646\n",
       "rusrap          564\n",
       "ruspop          538\n",
       "world           515\n",
       "Name: genre, dtype: int64"
      ]
     },
     "execution_count": 38,
     "metadata": {},
     "output_type": "execute_result"
    }
   ],
   "source": [
    "spb_genres.head(10) # просмотр первых 10 строк spb_genres"
   ]
  },
  {
   "cell_type": "markdown",
   "metadata": {
    "id": "RY51YJYu_Zcv"
   },
   "source": [
    "**Выводы**"
   ]
  },
  {
   "cell_type": "markdown",
   "metadata": {
    "id": "nVhnJEm__Zcv"
   },
   "source": [
    "Гипотеза частично подтвердилась:\n",
    "* Поп-музыка — самый популярный жанр в Москве, как и предполагала гипотеза. Более того, в топ-10 жанров встречается близкий жанр — русская популярная музыка.\n",
    "* Вопреки ожиданиям, рэп одинаково популярен в Москве и Петербурге. \n"
   ]
  },
  {
   "cell_type": "markdown",
   "metadata": {
    "id": "ykKQ0N65_Zcv"
   },
   "source": [
    "## Итоги исследования"
   ]
  },
  {
   "cell_type": "markdown",
   "metadata": {
    "id": "tjUwbHb3_Zcv"
   },
   "source": [
    "Вы проверили три гипотезы и установили:\n",
    "\n",
    "1. День недели по-разному влияет на активность пользователей в Москве и Петербурге. \n",
    "\n",
    "Первая гипотеза полностью подтвердилась.\n",
    "\n",
    "2. Музыкальные предпочтения не сильно меняются в течение недели — будь то Москва или Петербург. Небольшие различия заметны в начале недели, по понедельникам:\n",
    "* в Москве слушают музыку жанра “world”,\n",
    "* в Петербурге — джаз и классику.\n",
    "\n",
    "Таким образом, вторая гипотеза подтвердилась лишь отчасти. Этот результат мог оказаться иным, если бы не пропуски в данных.\n",
    "\n",
    "3. Во вкусах пользователей Москвы и Петербурга больше общего чем различий. Вопреки ожиданиям, предпочтения жанров в Петербурге напоминают московские.\n",
    "\n",
    "Третья гипотеза не подтвердилась. Если различия в предпочтениях и существуют, на основной массе пользователей они незаметны.\n",
    "\n",
    "**На практике исследования содержат проверки статистических гипотез.**\n",
    "Из данных одного сервиса не всегда можно сделать вывод о всех жителях города.\n",
    "Проверки статистических гипотез покажут, насколько они достоверны, исходя из имеющихся данных. \n",
    "С методами проверок гипотез вы ещё познакомитесь в следующих темах."
   ]
  }
 ],
 "metadata": {
  "ExecuteTimeLog": [
   {
    "duration": 418,
    "start_time": "2021-12-06T09:19:28.492Z"
   },
   {
    "duration": 894,
    "start_time": "2021-12-06T09:19:33.780Z"
   },
   {
    "duration": 405,
    "start_time": "2021-12-06T09:19:37.588Z"
   },
   {
    "duration": 190,
    "start_time": "2021-12-06T09:21:27.940Z"
   },
   {
    "duration": 27,
    "start_time": "2021-12-06T09:21:42.629Z"
   },
   {
    "duration": 16,
    "start_time": "2021-12-06T09:21:59.957Z"
   },
   {
    "duration": 32,
    "start_time": "2021-12-06T09:24:01.310Z"
   },
   {
    "duration": 5,
    "start_time": "2021-12-06T09:26:19.316Z"
   },
   {
    "duration": 24,
    "start_time": "2021-12-06T09:29:20.426Z"
   },
   {
    "duration": 5,
    "start_time": "2021-12-06T09:29:56.878Z"
   },
   {
    "duration": 29,
    "start_time": "2021-12-06T09:32:31.252Z"
   },
   {
    "duration": 57,
    "start_time": "2021-12-06T09:35:10.892Z"
   },
   {
    "duration": 31,
    "start_time": "2021-12-06T09:36:14.730Z"
   },
   {
    "duration": 22,
    "start_time": "2021-12-06T09:46:11.101Z"
   },
   {
    "duration": 51,
    "start_time": "2021-12-06T09:46:15.226Z"
   },
   {
    "duration": 88,
    "start_time": "2021-12-06T09:47:25.515Z"
   },
   {
    "duration": 107,
    "start_time": "2021-12-06T09:48:10.918Z"
   },
   {
    "duration": 95,
    "start_time": "2021-12-06T09:48:20.365Z"
   },
   {
    "duration": 9986,
    "start_time": "2021-12-06T09:49:05.377Z"
   },
   {
    "duration": 10,
    "start_time": "2021-12-06T09:49:32.760Z"
   },
   {
    "duration": 1067,
    "start_time": "2021-12-06T10:20:11.517Z"
   },
   {
    "duration": 135,
    "start_time": "2021-12-06T10:21:30.526Z"
   },
   {
    "duration": 125,
    "start_time": "2021-12-06T10:21:56.104Z"
   },
   {
    "duration": 138,
    "start_time": "2021-12-06T10:22:12.602Z"
   },
   {
    "duration": 435,
    "start_time": "2021-12-06T10:22:50.829Z"
   },
   {
    "duration": 477,
    "start_time": "2021-12-06T10:27:35.325Z"
   },
   {
    "duration": 638,
    "start_time": "2021-12-06T10:31:27.340Z"
   },
   {
    "duration": 5,
    "start_time": "2021-12-06T10:31:55.685Z"
   },
   {
    "duration": 4,
    "start_time": "2021-12-06T10:32:28.826Z"
   },
   {
    "duration": 18,
    "start_time": "2021-12-06T11:27:40.775Z"
   },
   {
    "duration": 5,
    "start_time": "2021-12-06T11:27:59.368Z"
   },
   {
    "duration": 30,
    "start_time": "2021-12-06T11:30:54.194Z"
   },
   {
    "duration": 21,
    "start_time": "2021-12-06T11:30:57.223Z"
   },
   {
    "duration": 28,
    "start_time": "2021-12-06T11:30:59.888Z"
   },
   {
    "duration": 75,
    "start_time": "2021-12-06T11:31:03.167Z"
   },
   {
    "duration": 88,
    "start_time": "2021-12-06T11:31:05.475Z"
   },
   {
    "duration": 73,
    "start_time": "2021-12-06T11:31:17.644Z"
   },
   {
    "duration": 10,
    "start_time": "2021-12-06T11:31:46.472Z"
   },
   {
    "duration": 4,
    "start_time": "2021-12-06T11:32:01.341Z"
   },
   {
    "duration": 381,
    "start_time": "2021-12-06T11:39:28.612Z"
   },
   {
    "duration": 16,
    "start_time": "2021-12-06T12:10:04.908Z"
   },
   {
    "duration": 3,
    "start_time": "2021-12-06T12:11:31.669Z"
   },
   {
    "duration": 207,
    "start_time": "2021-12-06T12:11:31.675Z"
   },
   {
    "duration": 16,
    "start_time": "2021-12-06T12:11:31.886Z"
   },
   {
    "duration": 54,
    "start_time": "2021-12-06T12:11:31.905Z"
   },
   {
    "duration": 6,
    "start_time": "2021-12-06T12:11:31.962Z"
   },
   {
    "duration": 25,
    "start_time": "2021-12-06T12:11:31.970Z"
   },
   {
    "duration": 5,
    "start_time": "2021-12-06T12:11:31.997Z"
   },
   {
    "duration": 67,
    "start_time": "2021-12-06T12:11:32.005Z"
   },
   {
    "duration": 23,
    "start_time": "2021-12-06T12:11:32.076Z"
   },
   {
    "duration": 32,
    "start_time": "2021-12-06T12:11:32.102Z"
   },
   {
    "duration": 101,
    "start_time": "2021-12-06T12:11:32.137Z"
   },
   {
    "duration": 106,
    "start_time": "2021-12-06T12:11:32.240Z"
   },
   {
    "duration": 84,
    "start_time": "2021-12-06T12:11:32.349Z"
   },
   {
    "duration": 27,
    "start_time": "2021-12-06T12:11:32.435Z"
   },
   {
    "duration": 5,
    "start_time": "2021-12-06T12:11:32.464Z"
   },
   {
    "duration": 364,
    "start_time": "2021-12-06T12:11:32.471Z"
   },
   {
    "duration": 1304,
    "start_time": "2021-12-06T12:11:31.534Z"
   },
   {
    "duration": 1304,
    "start_time": "2021-12-06T12:11:31.536Z"
   },
   {
    "duration": 1302,
    "start_time": "2021-12-06T12:11:31.539Z"
   },
   {
    "duration": 1301,
    "start_time": "2021-12-06T12:11:31.542Z"
   },
   {
    "duration": 1299,
    "start_time": "2021-12-06T12:11:31.545Z"
   },
   {
    "duration": 1299,
    "start_time": "2021-12-06T12:11:31.547Z"
   },
   {
    "duration": 1298,
    "start_time": "2021-12-06T12:11:31.549Z"
   },
   {
    "duration": 1296,
    "start_time": "2021-12-06T12:11:31.553Z"
   },
   {
    "duration": 1292,
    "start_time": "2021-12-06T12:11:31.558Z"
   },
   {
    "duration": 1282,
    "start_time": "2021-12-06T12:11:31.569Z"
   },
   {
    "duration": 1282,
    "start_time": "2021-12-06T12:11:31.571Z"
   },
   {
    "duration": 1279,
    "start_time": "2021-12-06T12:11:31.575Z"
   },
   {
    "duration": 1278,
    "start_time": "2021-12-06T12:11:31.578Z"
   },
   {
    "duration": 1276,
    "start_time": "2021-12-06T12:11:31.581Z"
   },
   {
    "duration": 1276,
    "start_time": "2021-12-06T12:11:31.583Z"
   },
   {
    "duration": 1275,
    "start_time": "2021-12-06T12:11:31.585Z"
   },
   {
    "duration": 1268,
    "start_time": "2021-12-06T12:11:31.594Z"
   },
   {
    "duration": 1267,
    "start_time": "2021-12-06T12:11:31.596Z"
   },
   {
    "duration": 1267,
    "start_time": "2021-12-06T12:11:31.598Z"
   },
   {
    "duration": 1266,
    "start_time": "2021-12-06T12:11:31.600Z"
   },
   {
    "duration": 1265,
    "start_time": "2021-12-06T12:11:31.602Z"
   },
   {
    "duration": 1265,
    "start_time": "2021-12-06T12:11:31.604Z"
   },
   {
    "duration": 3,
    "start_time": "2021-12-06T12:13:29.103Z"
   },
   {
    "duration": 806,
    "start_time": "2021-12-06T12:38:50.959Z"
   },
   {
    "duration": 184,
    "start_time": "2021-12-06T12:38:51.767Z"
   },
   {
    "duration": 26,
    "start_time": "2021-12-06T12:38:51.954Z"
   },
   {
    "duration": 40,
    "start_time": "2021-12-06T12:38:51.983Z"
   },
   {
    "duration": 6,
    "start_time": "2021-12-06T12:38:52.026Z"
   },
   {
    "duration": 25,
    "start_time": "2021-12-06T12:38:52.059Z"
   },
   {
    "duration": 10,
    "start_time": "2021-12-06T12:38:52.087Z"
   },
   {
    "duration": 74,
    "start_time": "2021-12-06T12:38:52.103Z"
   },
   {
    "duration": 21,
    "start_time": "2021-12-06T12:38:52.181Z"
   },
   {
    "duration": 60,
    "start_time": "2021-12-06T12:38:52.205Z"
   },
   {
    "duration": 100,
    "start_time": "2021-12-06T12:38:52.268Z"
   },
   {
    "duration": 109,
    "start_time": "2021-12-06T12:38:52.371Z"
   },
   {
    "duration": 87,
    "start_time": "2021-12-06T12:38:52.483Z"
   },
   {
    "duration": 9,
    "start_time": "2021-12-06T12:38:52.573Z"
   },
   {
    "duration": 7,
    "start_time": "2021-12-06T12:38:52.585Z"
   },
   {
    "duration": 555,
    "start_time": "2021-12-06T12:38:52.595Z"
   },
   {
    "duration": 1319,
    "start_time": "2021-12-06T12:38:51.836Z"
   },
   {
    "duration": 1314,
    "start_time": "2021-12-06T12:38:51.844Z"
   },
   {
    "duration": 1269,
    "start_time": "2021-12-06T12:38:51.891Z"
   },
   {
    "duration": 1269,
    "start_time": "2021-12-06T12:38:51.893Z"
   },
   {
    "duration": 1269,
    "start_time": "2021-12-06T12:38:51.895Z"
   },
   {
    "duration": 1271,
    "start_time": "2021-12-06T12:38:51.896Z"
   },
   {
    "duration": 1271,
    "start_time": "2021-12-06T12:38:51.898Z"
   },
   {
    "duration": 1271,
    "start_time": "2021-12-06T12:38:51.901Z"
   },
   {
    "duration": 1270,
    "start_time": "2021-12-06T12:38:51.904Z"
   },
   {
    "duration": 1270,
    "start_time": "2021-12-06T12:38:51.906Z"
   },
   {
    "duration": 1270,
    "start_time": "2021-12-06T12:38:51.908Z"
   },
   {
    "duration": 1270,
    "start_time": "2021-12-06T12:38:51.910Z"
   },
   {
    "duration": 1271,
    "start_time": "2021-12-06T12:38:51.912Z"
   },
   {
    "duration": 1271,
    "start_time": "2021-12-06T12:38:51.914Z"
   },
   {
    "duration": 1270,
    "start_time": "2021-12-06T12:38:51.917Z"
   },
   {
    "duration": 1267,
    "start_time": "2021-12-06T12:38:51.921Z"
   },
   {
    "duration": 1266,
    "start_time": "2021-12-06T12:38:51.924Z"
   },
   {
    "duration": 1266,
    "start_time": "2021-12-06T12:38:51.925Z"
   },
   {
    "duration": 1266,
    "start_time": "2021-12-06T12:38:51.927Z"
   },
   {
    "duration": 1265,
    "start_time": "2021-12-06T12:38:51.929Z"
   },
   {
    "duration": 1265,
    "start_time": "2021-12-06T12:38:51.931Z"
   },
   {
    "duration": 1264,
    "start_time": "2021-12-06T12:38:51.933Z"
   },
   {
    "duration": 3,
    "start_time": "2021-12-07T02:29:19.714Z"
   },
   {
    "duration": 763,
    "start_time": "2021-12-07T02:30:20.591Z"
   },
   {
    "duration": 190,
    "start_time": "2021-12-07T02:30:27.938Z"
   },
   {
    "duration": 25,
    "start_time": "2021-12-07T02:30:32.240Z"
   },
   {
    "duration": 32,
    "start_time": "2021-12-07T02:30:38.081Z"
   },
   {
    "duration": 6,
    "start_time": "2021-12-07T02:30:50.626Z"
   },
   {
    "duration": 26,
    "start_time": "2021-12-07T02:31:02.111Z"
   },
   {
    "duration": 5,
    "start_time": "2021-12-07T02:31:08.556Z"
   },
   {
    "duration": 29,
    "start_time": "2021-12-07T02:31:18.188Z"
   },
   {
    "duration": 24,
    "start_time": "2021-12-07T02:31:49.519Z"
   },
   {
    "duration": 31,
    "start_time": "2021-12-07T02:31:52.742Z"
   },
   {
    "duration": 92,
    "start_time": "2021-12-07T02:31:59.261Z"
   },
   {
    "duration": 93,
    "start_time": "2021-12-07T02:32:03.438Z"
   },
   {
    "duration": 76,
    "start_time": "2021-12-07T02:32:06.609Z"
   },
   {
    "duration": 10,
    "start_time": "2021-12-07T02:32:13.542Z"
   },
   {
    "duration": 5,
    "start_time": "2021-12-07T02:34:23.016Z"
   },
   {
    "duration": 457,
    "start_time": "2021-12-07T02:34:40.900Z"
   },
   {
    "duration": 412,
    "start_time": "2021-12-07T02:35:16.752Z"
   },
   {
    "duration": 382,
    "start_time": "2021-12-07T02:35:28.017Z"
   },
   {
    "duration": 404,
    "start_time": "2021-12-07T02:47:00.632Z"
   },
   {
    "duration": 5,
    "start_time": "2021-12-07T02:49:33.997Z"
   },
   {
    "duration": 721,
    "start_time": "2021-12-07T02:51:03.003Z"
   },
   {
    "duration": 179,
    "start_time": "2021-12-07T02:51:03.726Z"
   },
   {
    "duration": 25,
    "start_time": "2021-12-07T02:51:03.908Z"
   },
   {
    "duration": 51,
    "start_time": "2021-12-07T02:51:03.935Z"
   },
   {
    "duration": 5,
    "start_time": "2021-12-07T02:51:03.989Z"
   },
   {
    "duration": 26,
    "start_time": "2021-12-07T02:51:03.997Z"
   },
   {
    "duration": 36,
    "start_time": "2021-12-07T02:51:04.025Z"
   },
   {
    "duration": 31,
    "start_time": "2021-12-07T02:51:04.065Z"
   },
   {
    "duration": 24,
    "start_time": "2021-12-07T02:51:04.101Z"
   },
   {
    "duration": 57,
    "start_time": "2021-12-07T02:51:04.128Z"
   },
   {
    "duration": 108,
    "start_time": "2021-12-07T02:51:04.188Z"
   },
   {
    "duration": 113,
    "start_time": "2021-12-07T02:51:04.299Z"
   },
   {
    "duration": 89,
    "start_time": "2021-12-07T02:51:04.415Z"
   },
   {
    "duration": 12,
    "start_time": "2021-12-07T02:51:04.507Z"
   },
   {
    "duration": 4,
    "start_time": "2021-12-07T02:51:04.521Z"
   },
   {
    "duration": 1016,
    "start_time": "2021-12-07T02:51:04.527Z"
   },
   {
    "duration": 2842,
    "start_time": "2021-12-07T02:51:02.704Z"
   },
   {
    "duration": 2798,
    "start_time": "2021-12-07T02:51:02.750Z"
   },
   {
    "duration": 2794,
    "start_time": "2021-12-07T02:51:02.755Z"
   },
   {
    "duration": 2792,
    "start_time": "2021-12-07T02:51:02.758Z"
   },
   {
    "duration": 2791,
    "start_time": "2021-12-07T02:51:02.761Z"
   },
   {
    "duration": 2790,
    "start_time": "2021-12-07T02:51:02.763Z"
   },
   {
    "duration": 2789,
    "start_time": "2021-12-07T02:51:02.765Z"
   },
   {
    "duration": 2789,
    "start_time": "2021-12-07T02:51:02.767Z"
   },
   {
    "duration": 2788,
    "start_time": "2021-12-07T02:51:02.769Z"
   },
   {
    "duration": 2787,
    "start_time": "2021-12-07T02:51:02.771Z"
   },
   {
    "duration": 2787,
    "start_time": "2021-12-07T02:51:02.773Z"
   },
   {
    "duration": 2786,
    "start_time": "2021-12-07T02:51:02.775Z"
   },
   {
    "duration": 2781,
    "start_time": "2021-12-07T02:51:02.781Z"
   },
   {
    "duration": 2780,
    "start_time": "2021-12-07T02:51:02.783Z"
   },
   {
    "duration": 2778,
    "start_time": "2021-12-07T02:51:02.786Z"
   },
   {
    "duration": 2777,
    "start_time": "2021-12-07T02:51:02.789Z"
   },
   {
    "duration": 2775,
    "start_time": "2021-12-07T02:51:02.792Z"
   },
   {
    "duration": 2774,
    "start_time": "2021-12-07T02:51:02.794Z"
   },
   {
    "duration": 2775,
    "start_time": "2021-12-07T02:51:02.796Z"
   },
   {
    "duration": 2776,
    "start_time": "2021-12-07T02:51:02.797Z"
   },
   {
    "duration": 2775,
    "start_time": "2021-12-07T02:51:02.799Z"
   },
   {
    "duration": 2775,
    "start_time": "2021-12-07T02:51:02.801Z"
   },
   {
    "duration": 739,
    "start_time": "2021-12-07T02:52:34.496Z"
   },
   {
    "duration": 181,
    "start_time": "2021-12-07T02:52:35.237Z"
   },
   {
    "duration": 25,
    "start_time": "2021-12-07T02:52:35.421Z"
   },
   {
    "duration": 41,
    "start_time": "2021-12-07T02:52:35.448Z"
   },
   {
    "duration": 6,
    "start_time": "2021-12-07T02:52:35.491Z"
   },
   {
    "duration": 28,
    "start_time": "2021-12-07T02:52:35.499Z"
   },
   {
    "duration": 34,
    "start_time": "2021-12-07T02:52:35.529Z"
   },
   {
    "duration": 29,
    "start_time": "2021-12-07T02:52:35.567Z"
   },
   {
    "duration": 22,
    "start_time": "2021-12-07T02:52:35.600Z"
   },
   {
    "duration": 59,
    "start_time": "2021-12-07T02:52:35.624Z"
   },
   {
    "duration": 94,
    "start_time": "2021-12-07T02:52:35.686Z"
   },
   {
    "duration": 100,
    "start_time": "2021-12-07T02:52:35.783Z"
   },
   {
    "duration": 77,
    "start_time": "2021-12-07T02:52:35.885Z"
   },
   {
    "duration": 10,
    "start_time": "2021-12-07T02:52:35.964Z"
   },
   {
    "duration": 4,
    "start_time": "2021-12-07T02:52:35.977Z"
   },
   {
    "duration": 28,
    "start_time": "2021-12-07T02:52:35.984Z"
   },
   {
    "duration": 11,
    "start_time": "2021-12-07T02:52:36.014Z"
   },
   {
    "duration": 3,
    "start_time": "2021-12-07T02:52:36.060Z"
   },
   {
    "duration": 7,
    "start_time": "2021-12-07T02:52:36.065Z"
   },
   {
    "duration": 6,
    "start_time": "2021-12-07T02:52:36.075Z"
   },
   {
    "duration": 8,
    "start_time": "2021-12-07T02:52:36.084Z"
   },
   {
    "duration": 7,
    "start_time": "2021-12-07T02:52:36.094Z"
   },
   {
    "duration": 4,
    "start_time": "2021-12-07T02:52:36.106Z"
   },
   {
    "duration": 48,
    "start_time": "2021-12-07T02:52:36.112Z"
   },
   {
    "duration": 5,
    "start_time": "2021-12-07T02:52:36.162Z"
   },
   {
    "duration": 8,
    "start_time": "2021-12-07T02:52:36.170Z"
   },
   {
    "duration": 4,
    "start_time": "2021-12-07T02:52:36.181Z"
   },
   {
    "duration": 4,
    "start_time": "2021-12-07T02:52:36.188Z"
   },
   {
    "duration": 5,
    "start_time": "2021-12-07T02:52:36.195Z"
   },
   {
    "duration": 5,
    "start_time": "2021-12-07T02:52:36.202Z"
   },
   {
    "duration": 50,
    "start_time": "2021-12-07T02:52:36.209Z"
   },
   {
    "duration": 4,
    "start_time": "2021-12-07T02:52:36.262Z"
   },
   {
    "duration": 6,
    "start_time": "2021-12-07T02:52:36.269Z"
   },
   {
    "duration": 4,
    "start_time": "2021-12-07T02:52:36.277Z"
   },
   {
    "duration": 6,
    "start_time": "2021-12-07T02:52:36.283Z"
   },
   {
    "duration": 5,
    "start_time": "2021-12-07T02:52:36.291Z"
   },
   {
    "duration": 5,
    "start_time": "2021-12-07T02:52:36.298Z"
   },
   {
    "duration": 5,
    "start_time": "2021-12-07T02:52:36.306Z"
   },
   {
    "duration": 6,
    "start_time": "2021-12-07T02:53:18.289Z"
   },
   {
    "duration": 779,
    "start_time": "2021-12-07T02:53:35.222Z"
   },
   {
    "duration": 192,
    "start_time": "2021-12-07T02:53:36.003Z"
   },
   {
    "duration": 26,
    "start_time": "2021-12-07T02:53:36.198Z"
   },
   {
    "duration": 51,
    "start_time": "2021-12-07T02:53:36.226Z"
   },
   {
    "duration": 12,
    "start_time": "2021-12-07T02:53:36.280Z"
   },
   {
    "duration": 35,
    "start_time": "2021-12-07T02:53:36.294Z"
   },
   {
    "duration": 14,
    "start_time": "2021-12-07T02:53:36.331Z"
   },
   {
    "duration": 43,
    "start_time": "2021-12-07T02:53:36.348Z"
   },
   {
    "duration": 26,
    "start_time": "2021-12-07T02:53:36.394Z"
   },
   {
    "duration": 38,
    "start_time": "2021-12-07T02:53:36.422Z"
   },
   {
    "duration": 96,
    "start_time": "2021-12-07T02:53:36.463Z"
   },
   {
    "duration": 98,
    "start_time": "2021-12-07T02:53:36.561Z"
   },
   {
    "duration": 74,
    "start_time": "2021-12-07T02:53:36.662Z"
   },
   {
    "duration": 25,
    "start_time": "2021-12-07T02:53:36.738Z"
   },
   {
    "duration": 4,
    "start_time": "2021-12-07T02:53:36.766Z"
   },
   {
    "duration": 25,
    "start_time": "2021-12-07T02:53:36.772Z"
   },
   {
    "duration": 6,
    "start_time": "2021-12-07T02:53:36.799Z"
   },
   {
    "duration": 4,
    "start_time": "2021-12-07T02:53:36.807Z"
   },
   {
    "duration": 22,
    "start_time": "2021-12-07T02:53:36.813Z"
   },
   {
    "duration": 28,
    "start_time": "2021-12-07T02:53:36.837Z"
   },
   {
    "duration": 5,
    "start_time": "2021-12-07T02:53:36.867Z"
   },
   {
    "duration": 11,
    "start_time": "2021-12-07T02:53:36.874Z"
   },
   {
    "duration": 14,
    "start_time": "2021-12-07T02:53:36.889Z"
   },
   {
    "duration": 24,
    "start_time": "2021-12-07T02:53:36.906Z"
   },
   {
    "duration": 10,
    "start_time": "2021-12-07T02:53:36.932Z"
   },
   {
    "duration": 6,
    "start_time": "2021-12-07T02:53:36.945Z"
   },
   {
    "duration": 6,
    "start_time": "2021-12-07T02:53:36.953Z"
   },
   {
    "duration": 7,
    "start_time": "2021-12-07T02:53:36.961Z"
   },
   {
    "duration": 16,
    "start_time": "2021-12-07T02:53:36.971Z"
   },
   {
    "duration": 10,
    "start_time": "2021-12-07T02:53:36.989Z"
   },
   {
    "duration": 29,
    "start_time": "2021-12-07T02:53:37.001Z"
   },
   {
    "duration": 16,
    "start_time": "2021-12-07T02:53:37.032Z"
   },
   {
    "duration": 18,
    "start_time": "2021-12-07T02:53:37.051Z"
   },
   {
    "duration": 6,
    "start_time": "2021-12-07T02:53:37.071Z"
   },
   {
    "duration": 8,
    "start_time": "2021-12-07T02:53:37.079Z"
   },
   {
    "duration": 15,
    "start_time": "2021-12-07T02:53:37.089Z"
   },
   {
    "duration": 20,
    "start_time": "2021-12-07T02:53:37.106Z"
   },
   {
    "duration": 29,
    "start_time": "2021-12-07T02:53:37.128Z"
   },
   {
    "duration": 1525,
    "start_time": "2021-12-07T02:55:00.395Z"
   },
   {
    "duration": 189,
    "start_time": "2021-12-07T02:55:03.409Z"
   },
   {
    "duration": 25,
    "start_time": "2021-12-07T02:55:05.196Z"
   },
   {
    "duration": 33,
    "start_time": "2021-12-07T02:55:10.056Z"
   },
   {
    "duration": 6,
    "start_time": "2021-12-07T02:55:13.388Z"
   },
   {
    "duration": 24,
    "start_time": "2021-12-07T02:55:18.769Z"
   },
   {
    "duration": 5,
    "start_time": "2021-12-07T02:55:20.754Z"
   },
   {
    "duration": 30,
    "start_time": "2021-12-07T02:55:24.516Z"
   },
   {
    "duration": 26,
    "start_time": "2021-12-07T02:55:27.204Z"
   },
   {
    "duration": 34,
    "start_time": "2021-12-07T02:55:30.284Z"
   },
   {
    "duration": 84,
    "start_time": "2021-12-07T02:55:32.989Z"
   },
   {
    "duration": 102,
    "start_time": "2021-12-07T02:55:35.002Z"
   },
   {
    "duration": 79,
    "start_time": "2021-12-07T02:55:37.205Z"
   },
   {
    "duration": 10,
    "start_time": "2021-12-07T02:55:41.707Z"
   },
   {
    "duration": 5,
    "start_time": "2021-12-07T02:55:46.550Z"
   },
   {
    "duration": 21,
    "start_time": "2021-12-07T02:55:50.980Z"
   },
   {
    "duration": 9,
    "start_time": "2021-12-07T02:55:53.668Z"
   },
   {
    "duration": 128,
    "start_time": "2021-12-07T03:33:41.814Z"
   },
   {
    "duration": 118,
    "start_time": "2021-12-07T03:35:59.122Z"
   },
   {
    "duration": 15,
    "start_time": "2021-12-07T03:42:05.098Z"
   },
   {
    "duration": 17,
    "start_time": "2021-12-07T03:42:26.931Z"
   },
   {
    "duration": 716,
    "start_time": "2021-12-07T03:43:36.302Z"
   },
   {
    "duration": 173,
    "start_time": "2021-12-07T03:43:39.472Z"
   },
   {
    "duration": 25,
    "start_time": "2021-12-07T03:43:41.401Z"
   },
   {
    "duration": 32,
    "start_time": "2021-12-07T03:43:44.478Z"
   },
   {
    "duration": 6,
    "start_time": "2021-12-07T03:43:48.111Z"
   },
   {
    "duration": 24,
    "start_time": "2021-12-07T03:43:51.846Z"
   },
   {
    "duration": 5,
    "start_time": "2021-12-07T03:43:54.234Z"
   },
   {
    "duration": 34,
    "start_time": "2021-12-07T03:43:56.412Z"
   },
   {
    "duration": 25,
    "start_time": "2021-12-07T03:43:59.108Z"
   },
   {
    "duration": 33,
    "start_time": "2021-12-07T03:44:01.984Z"
   },
   {
    "duration": 79,
    "start_time": "2021-12-07T03:44:05.147Z"
   },
   {
    "duration": 100,
    "start_time": "2021-12-07T03:44:07.822Z"
   },
   {
    "duration": 76,
    "start_time": "2021-12-07T03:44:09.843Z"
   },
   {
    "duration": 9,
    "start_time": "2021-12-07T03:44:13.703Z"
   },
   {
    "duration": 4,
    "start_time": "2021-12-07T03:44:22.505Z"
   },
   {
    "duration": 22,
    "start_time": "2021-12-07T03:44:26.018Z"
   },
   {
    "duration": 11,
    "start_time": "2021-12-07T03:44:29.113Z"
   },
   {
    "duration": 506,
    "start_time": "2021-12-07T03:44:51.521Z"
   },
   {
    "duration": 438,
    "start_time": "2021-12-07T03:45:11.785Z"
   },
   {
    "duration": 749,
    "start_time": "2021-12-07T03:45:27.194Z"
   },
   {
    "duration": 190,
    "start_time": "2021-12-07T03:45:27.945Z"
   },
   {
    "duration": 30,
    "start_time": "2021-12-07T03:45:28.138Z"
   },
   {
    "duration": 31,
    "start_time": "2021-12-07T03:45:28.171Z"
   },
   {
    "duration": 5,
    "start_time": "2021-12-07T03:45:28.205Z"
   },
   {
    "duration": 60,
    "start_time": "2021-12-07T03:45:28.212Z"
   },
   {
    "duration": 5,
    "start_time": "2021-12-07T03:45:28.274Z"
   },
   {
    "duration": 29,
    "start_time": "2021-12-07T03:45:28.283Z"
   },
   {
    "duration": 55,
    "start_time": "2021-12-07T03:45:28.316Z"
   },
   {
    "duration": 30,
    "start_time": "2021-12-07T03:45:28.374Z"
   },
   {
    "duration": 103,
    "start_time": "2021-12-07T03:45:28.406Z"
   },
   {
    "duration": 109,
    "start_time": "2021-12-07T03:45:28.511Z"
   },
   {
    "duration": 82,
    "start_time": "2021-12-07T03:45:28.623Z"
   },
   {
    "duration": 9,
    "start_time": "2021-12-07T03:45:28.707Z"
   },
   {
    "duration": 4,
    "start_time": "2021-12-07T03:45:28.719Z"
   },
   {
    "duration": 49,
    "start_time": "2021-12-07T03:45:28.725Z"
   },
   {
    "duration": 9,
    "start_time": "2021-12-07T03:45:28.776Z"
   },
   {
    "duration": 15,
    "start_time": "2021-12-07T03:45:28.788Z"
   },
   {
    "duration": 3,
    "start_time": "2021-12-07T03:45:28.805Z"
   },
   {
    "duration": 5,
    "start_time": "2021-12-07T03:45:28.810Z"
   },
   {
    "duration": 5,
    "start_time": "2021-12-07T03:45:28.817Z"
   },
   {
    "duration": 3,
    "start_time": "2021-12-07T03:45:28.860Z"
   },
   {
    "duration": 3,
    "start_time": "2021-12-07T03:45:28.867Z"
   },
   {
    "duration": 6,
    "start_time": "2021-12-07T03:45:28.873Z"
   },
   {
    "duration": 5,
    "start_time": "2021-12-07T03:45:28.881Z"
   },
   {
    "duration": 5,
    "start_time": "2021-12-07T03:45:28.888Z"
   },
   {
    "duration": 5,
    "start_time": "2021-12-07T03:45:28.895Z"
   },
   {
    "duration": 121,
    "start_time": "2021-12-07T03:45:28.903Z"
   },
   {
    "duration": 2844,
    "start_time": "2021-12-07T03:45:26.182Z"
   },
   {
    "duration": 2843,
    "start_time": "2021-12-07T03:45:26.185Z"
   },
   {
    "duration": 2842,
    "start_time": "2021-12-07T03:45:26.187Z"
   },
   {
    "duration": 2842,
    "start_time": "2021-12-07T03:45:26.189Z"
   },
   {
    "duration": 2837,
    "start_time": "2021-12-07T03:45:26.195Z"
   },
   {
    "duration": 2834,
    "start_time": "2021-12-07T03:45:26.199Z"
   },
   {
    "duration": 2831,
    "start_time": "2021-12-07T03:45:26.203Z"
   },
   {
    "duration": 2830,
    "start_time": "2021-12-07T03:45:26.206Z"
   },
   {
    "duration": 2828,
    "start_time": "2021-12-07T03:45:26.209Z"
   },
   {
    "duration": 2828,
    "start_time": "2021-12-07T03:45:26.210Z"
   },
   {
    "duration": 16,
    "start_time": "2021-12-07T03:47:21.194Z"
   },
   {
    "duration": 454,
    "start_time": "2021-12-07T03:58:11.637Z"
   },
   {
    "duration": 371,
    "start_time": "2021-12-07T04:02:41.172Z"
   },
   {
    "duration": 368,
    "start_time": "2021-12-07T04:13:34.212Z"
   },
   {
    "duration": 383,
    "start_time": "2021-12-07T04:13:56.086Z"
   },
   {
    "duration": 7,
    "start_time": "2021-12-07T04:14:15.817Z"
   },
   {
    "duration": 718,
    "start_time": "2021-12-07T04:15:41.059Z"
   },
   {
    "duration": 434,
    "start_time": "2021-12-07T04:21:16.324Z"
   },
   {
    "duration": 454,
    "start_time": "2021-12-07T04:21:56.537Z"
   },
   {
    "duration": 5,
    "start_time": "2021-12-07T04:26:35.108Z"
   },
   {
    "duration": 7,
    "start_time": "2021-12-07T04:26:49.976Z"
   },
   {
    "duration": 11,
    "start_time": "2021-12-07T04:26:53.264Z"
   },
   {
    "duration": 657,
    "start_time": "2021-12-07T04:27:14.658Z"
   },
   {
    "duration": 380,
    "start_time": "2021-12-07T04:29:21.912Z"
   },
   {
    "duration": 5,
    "start_time": "2021-12-07T04:48:32.155Z"
   },
   {
    "duration": 5,
    "start_time": "2021-12-07T04:49:49.477Z"
   },
   {
    "duration": 769,
    "start_time": "2021-12-07T04:49:57.473Z"
   },
   {
    "duration": 181,
    "start_time": "2021-12-07T04:49:58.244Z"
   },
   {
    "duration": 33,
    "start_time": "2021-12-07T04:49:58.428Z"
   },
   {
    "duration": 31,
    "start_time": "2021-12-07T04:49:58.464Z"
   },
   {
    "duration": 5,
    "start_time": "2021-12-07T04:49:58.498Z"
   },
   {
    "duration": 57,
    "start_time": "2021-12-07T04:49:58.506Z"
   },
   {
    "duration": 9,
    "start_time": "2021-12-07T04:49:58.566Z"
   },
   {
    "duration": 31,
    "start_time": "2021-12-07T04:49:58.581Z"
   },
   {
    "duration": 54,
    "start_time": "2021-12-07T04:49:58.616Z"
   },
   {
    "duration": 33,
    "start_time": "2021-12-07T04:49:58.672Z"
   },
   {
    "duration": 117,
    "start_time": "2021-12-07T04:49:58.708Z"
   },
   {
    "duration": 115,
    "start_time": "2021-12-07T04:49:58.828Z"
   },
   {
    "duration": 84,
    "start_time": "2021-12-07T04:49:58.946Z"
   },
   {
    "duration": 27,
    "start_time": "2021-12-07T04:49:59.033Z"
   },
   {
    "duration": 6,
    "start_time": "2021-12-07T04:49:59.062Z"
   },
   {
    "duration": 29,
    "start_time": "2021-12-07T04:49:59.071Z"
   },
   {
    "duration": 14,
    "start_time": "2021-12-07T04:49:59.102Z"
   },
   {
    "duration": 55,
    "start_time": "2021-12-07T04:49:59.119Z"
   },
   {
    "duration": 18,
    "start_time": "2021-12-07T04:49:59.177Z"
   },
   {
    "duration": 5,
    "start_time": "2021-12-07T04:49:59.198Z"
   },
   {
    "duration": 10,
    "start_time": "2021-12-07T04:49:59.205Z"
   },
   {
    "duration": 6,
    "start_time": "2021-12-07T04:49:59.217Z"
   },
   {
    "duration": 3,
    "start_time": "2021-12-07T04:49:59.262Z"
   },
   {
    "duration": 6,
    "start_time": "2021-12-07T04:49:59.268Z"
   },
   {
    "duration": 7,
    "start_time": "2021-12-07T04:49:59.276Z"
   },
   {
    "duration": 7,
    "start_time": "2021-12-07T04:49:59.285Z"
   },
   {
    "duration": 5,
    "start_time": "2021-12-07T04:49:59.294Z"
   },
   {
    "duration": 134,
    "start_time": "2021-12-07T04:49:59.301Z"
   },
   {
    "duration": 2842,
    "start_time": "2021-12-07T04:49:56.596Z"
   },
   {
    "duration": 2840,
    "start_time": "2021-12-07T04:49:56.599Z"
   },
   {
    "duration": 2839,
    "start_time": "2021-12-07T04:49:56.601Z"
   },
   {
    "duration": 2838,
    "start_time": "2021-12-07T04:49:56.603Z"
   },
   {
    "duration": 2838,
    "start_time": "2021-12-07T04:49:56.605Z"
   },
   {
    "duration": 2836,
    "start_time": "2021-12-07T04:49:56.608Z"
   },
   {
    "duration": 2834,
    "start_time": "2021-12-07T04:49:56.611Z"
   },
   {
    "duration": 2834,
    "start_time": "2021-12-07T04:49:56.613Z"
   },
   {
    "duration": 2832,
    "start_time": "2021-12-07T04:49:56.616Z"
   },
   {
    "duration": 2831,
    "start_time": "2021-12-07T04:49:56.618Z"
   },
   {
    "duration": 5,
    "start_time": "2021-12-07T04:52:55.297Z"
   },
   {
    "duration": 136,
    "start_time": "2021-12-07T04:55:04.823Z"
   },
   {
    "duration": 174,
    "start_time": "2021-12-07T04:55:16.125Z"
   },
   {
    "duration": 151,
    "start_time": "2021-12-07T04:56:40.856Z"
   },
   {
    "duration": 135,
    "start_time": "2021-12-07T04:56:58.207Z"
   },
   {
    "duration": 117,
    "start_time": "2021-12-07T04:57:58.476Z"
   },
   {
    "duration": 135,
    "start_time": "2021-12-07T04:58:08.004Z"
   },
   {
    "duration": 5,
    "start_time": "2021-12-07T05:01:12.956Z"
   },
   {
    "duration": 5,
    "start_time": "2021-12-07T05:01:32.359Z"
   },
   {
    "duration": 547,
    "start_time": "2021-12-07T05:02:37.773Z"
   },
   {
    "duration": 816,
    "start_time": "2021-12-07T05:02:56.579Z"
   },
   {
    "duration": 5,
    "start_time": "2021-12-07T05:07:14.298Z"
   },
   {
    "duration": 723,
    "start_time": "2021-12-07T05:07:17.769Z"
   },
   {
    "duration": 371,
    "start_time": "2021-12-07T05:08:07.163Z"
   },
   {
    "duration": 716,
    "start_time": "2021-12-07T05:08:29.206Z"
   },
   {
    "duration": 1563,
    "start_time": "2021-12-07T05:11:13.776Z"
   },
   {
    "duration": 729,
    "start_time": "2021-12-07T05:11:16.991Z"
   },
   {
    "duration": 617,
    "start_time": "2021-12-07T05:12:01.833Z"
   },
   {
    "duration": 607,
    "start_time": "2021-12-07T05:14:58.797Z"
   },
   {
    "duration": 144,
    "start_time": "2021-12-07T05:18:38.694Z"
   },
   {
    "duration": 89,
    "start_time": "2021-12-07T05:21:08.824Z"
   },
   {
    "duration": 759,
    "start_time": "2021-12-07T05:21:27.071Z"
   },
   {
    "duration": 187,
    "start_time": "2021-12-07T05:21:27.833Z"
   },
   {
    "duration": 37,
    "start_time": "2021-12-07T05:21:28.024Z"
   },
   {
    "duration": 35,
    "start_time": "2021-12-07T05:21:28.065Z"
   },
   {
    "duration": 7,
    "start_time": "2021-12-07T05:21:28.103Z"
   },
   {
    "duration": 60,
    "start_time": "2021-12-07T05:21:28.113Z"
   },
   {
    "duration": 7,
    "start_time": "2021-12-07T05:21:28.177Z"
   },
   {
    "duration": 29,
    "start_time": "2021-12-07T05:21:28.188Z"
   },
   {
    "duration": 57,
    "start_time": "2021-12-07T05:21:28.221Z"
   },
   {
    "duration": 29,
    "start_time": "2021-12-07T05:21:28.280Z"
   },
   {
    "duration": 108,
    "start_time": "2021-12-07T05:21:28.312Z"
   },
   {
    "duration": 112,
    "start_time": "2021-12-07T05:21:28.422Z"
   },
   {
    "duration": 80,
    "start_time": "2021-12-07T05:21:28.537Z"
   },
   {
    "duration": 9,
    "start_time": "2021-12-07T05:21:28.619Z"
   },
   {
    "duration": 4,
    "start_time": "2021-12-07T05:21:28.630Z"
   },
   {
    "duration": 39,
    "start_time": "2021-12-07T05:21:28.636Z"
   },
   {
    "duration": 9,
    "start_time": "2021-12-07T05:21:28.677Z"
   },
   {
    "duration": 15,
    "start_time": "2021-12-07T05:21:28.688Z"
   },
   {
    "duration": 14,
    "start_time": "2021-12-07T05:21:28.705Z"
   },
   {
    "duration": 140,
    "start_time": "2021-12-07T05:21:28.721Z"
   },
   {
    "duration": 22,
    "start_time": "2021-12-07T05:21:28.863Z"
   },
   {
    "duration": 4,
    "start_time": "2021-12-07T05:21:28.887Z"
   },
   {
    "duration": 3,
    "start_time": "2021-12-07T05:21:28.896Z"
   },
   {
    "duration": 9,
    "start_time": "2021-12-07T05:21:28.902Z"
   },
   {
    "duration": 8,
    "start_time": "2021-12-07T05:21:28.913Z"
   },
   {
    "duration": 36,
    "start_time": "2021-12-07T05:21:28.923Z"
   },
   {
    "duration": 6,
    "start_time": "2021-12-07T05:21:28.962Z"
   },
   {
    "duration": 6,
    "start_time": "2021-12-07T05:21:28.970Z"
   },
   {
    "duration": 7,
    "start_time": "2021-12-07T05:21:28.978Z"
   },
   {
    "duration": 6,
    "start_time": "2021-12-07T05:21:28.987Z"
   },
   {
    "duration": 13,
    "start_time": "2021-12-07T05:21:28.996Z"
   },
   {
    "duration": 10,
    "start_time": "2021-12-07T05:21:29.012Z"
   },
   {
    "duration": 11,
    "start_time": "2021-12-07T05:21:29.024Z"
   },
   {
    "duration": 22,
    "start_time": "2021-12-07T05:21:29.037Z"
   },
   {
    "duration": 11,
    "start_time": "2021-12-07T05:21:29.061Z"
   },
   {
    "duration": 6,
    "start_time": "2021-12-07T05:21:29.075Z"
   },
   {
    "duration": 9,
    "start_time": "2021-12-07T05:21:29.083Z"
   },
   {
    "duration": 5,
    "start_time": "2021-12-07T05:21:29.095Z"
   },
   {
    "duration": 21,
    "start_time": "2021-12-07T05:22:04.739Z"
   },
   {
    "duration": 21,
    "start_time": "2021-12-07T05:22:33.398Z"
   },
   {
    "duration": 813,
    "start_time": "2021-12-07T05:24:06.341Z"
   },
   {
    "duration": 188,
    "start_time": "2021-12-07T05:24:07.157Z"
   },
   {
    "duration": 29,
    "start_time": "2021-12-07T05:24:07.348Z"
   },
   {
    "duration": 32,
    "start_time": "2021-12-07T05:24:07.380Z"
   },
   {
    "duration": 5,
    "start_time": "2021-12-07T05:24:07.415Z"
   },
   {
    "duration": 61,
    "start_time": "2021-12-07T05:24:07.422Z"
   },
   {
    "duration": 10,
    "start_time": "2021-12-07T05:24:07.485Z"
   },
   {
    "duration": 31,
    "start_time": "2021-12-07T05:24:07.499Z"
   },
   {
    "duration": 40,
    "start_time": "2021-12-07T05:24:07.534Z"
   },
   {
    "duration": 32,
    "start_time": "2021-12-07T05:24:07.576Z"
   },
   {
    "duration": 108,
    "start_time": "2021-12-07T05:24:07.611Z"
   },
   {
    "duration": 136,
    "start_time": "2021-12-07T05:24:07.722Z"
   },
   {
    "duration": 76,
    "start_time": "2021-12-07T05:24:07.861Z"
   },
   {
    "duration": 11,
    "start_time": "2021-12-07T05:24:07.951Z"
   },
   {
    "duration": 6,
    "start_time": "2021-12-07T05:24:07.965Z"
   },
   {
    "duration": 34,
    "start_time": "2021-12-07T05:24:07.974Z"
   },
   {
    "duration": 50,
    "start_time": "2021-12-07T05:24:08.012Z"
   },
   {
    "duration": 24,
    "start_time": "2021-12-07T05:24:08.065Z"
   },
   {
    "duration": 23,
    "start_time": "2021-12-07T05:24:08.093Z"
   },
   {
    "duration": 177,
    "start_time": "2021-12-07T05:24:08.120Z"
   },
   {
    "duration": 33,
    "start_time": "2021-12-07T05:24:08.300Z"
   },
   {
    "duration": 47,
    "start_time": "2021-12-07T05:24:08.336Z"
   },
   {
    "duration": 29,
    "start_time": "2021-12-07T05:24:08.390Z"
   },
   {
    "duration": 57,
    "start_time": "2021-12-07T05:24:08.422Z"
   },
   {
    "duration": 32,
    "start_time": "2021-12-07T05:24:08.482Z"
   },
   {
    "duration": 48,
    "start_time": "2021-12-07T05:24:08.517Z"
   },
   {
    "duration": 3,
    "start_time": "2021-12-07T05:24:08.567Z"
   },
   {
    "duration": 17,
    "start_time": "2021-12-07T05:24:08.572Z"
   },
   {
    "duration": 24,
    "start_time": "2021-12-07T05:24:08.592Z"
   },
   {
    "duration": 19,
    "start_time": "2021-12-07T05:24:08.619Z"
   },
   {
    "duration": 34,
    "start_time": "2021-12-07T05:24:08.640Z"
   },
   {
    "duration": 21,
    "start_time": "2021-12-07T05:24:08.677Z"
   },
   {
    "duration": 49,
    "start_time": "2021-12-07T05:24:08.700Z"
   },
   {
    "duration": 22,
    "start_time": "2021-12-07T05:24:08.752Z"
   },
   {
    "duration": 24,
    "start_time": "2021-12-07T05:24:08.776Z"
   },
   {
    "duration": 17,
    "start_time": "2021-12-07T05:24:08.803Z"
   },
   {
    "duration": 35,
    "start_time": "2021-12-07T05:24:08.823Z"
   },
   {
    "duration": 7,
    "start_time": "2021-12-07T05:24:08.860Z"
   },
   {
    "duration": 789,
    "start_time": "2021-12-07T05:26:39.470Z"
   },
   {
    "duration": 181,
    "start_time": "2021-12-07T05:26:40.262Z"
   },
   {
    "duration": 30,
    "start_time": "2021-12-07T05:26:40.445Z"
   },
   {
    "duration": 32,
    "start_time": "2021-12-07T05:26:40.477Z"
   },
   {
    "duration": 5,
    "start_time": "2021-12-07T05:26:40.511Z"
   },
   {
    "duration": 55,
    "start_time": "2021-12-07T05:26:40.518Z"
   },
   {
    "duration": 5,
    "start_time": "2021-12-07T05:26:40.576Z"
   },
   {
    "duration": 29,
    "start_time": "2021-12-07T05:26:40.584Z"
   },
   {
    "duration": 52,
    "start_time": "2021-12-07T05:26:40.616Z"
   },
   {
    "duration": 28,
    "start_time": "2021-12-07T05:26:40.671Z"
   },
   {
    "duration": 100,
    "start_time": "2021-12-07T05:26:40.701Z"
   },
   {
    "duration": 100,
    "start_time": "2021-12-07T05:26:40.803Z"
   },
   {
    "duration": 84,
    "start_time": "2021-12-07T05:26:40.905Z"
   },
   {
    "duration": 13,
    "start_time": "2021-12-07T05:26:40.992Z"
   },
   {
    "duration": 6,
    "start_time": "2021-12-07T05:26:41.008Z"
   },
   {
    "duration": 55,
    "start_time": "2021-12-07T05:26:41.017Z"
   },
   {
    "duration": 13,
    "start_time": "2021-12-07T05:26:41.076Z"
   },
   {
    "duration": 23,
    "start_time": "2021-12-07T05:26:41.092Z"
   },
   {
    "duration": 54,
    "start_time": "2021-12-07T05:26:41.118Z"
   },
   {
    "duration": 1748,
    "start_time": "2021-12-07T05:26:41.175Z"
   },
   {
    "duration": 2852,
    "start_time": "2021-12-07T05:26:40.074Z"
   },
   {
    "duration": 2849,
    "start_time": "2021-12-07T05:26:40.078Z"
   },
   {
    "duration": 2845,
    "start_time": "2021-12-07T05:26:40.083Z"
   },
   {
    "duration": 2838,
    "start_time": "2021-12-07T05:26:40.092Z"
   },
   {
    "duration": 2808,
    "start_time": "2021-12-07T05:26:40.123Z"
   },
   {
    "duration": 2804,
    "start_time": "2021-12-07T05:26:40.129Z"
   },
   {
    "duration": 2796,
    "start_time": "2021-12-07T05:26:40.138Z"
   },
   {
    "duration": 2794,
    "start_time": "2021-12-07T05:26:40.141Z"
   },
   {
    "duration": 2784,
    "start_time": "2021-12-07T05:26:40.152Z"
   },
   {
    "duration": 2783,
    "start_time": "2021-12-07T05:26:40.155Z"
   },
   {
    "duration": 2782,
    "start_time": "2021-12-07T05:26:40.157Z"
   },
   {
    "duration": 2781,
    "start_time": "2021-12-07T05:26:40.159Z"
   },
   {
    "duration": 2773,
    "start_time": "2021-12-07T05:26:40.169Z"
   },
   {
    "duration": 2772,
    "start_time": "2021-12-07T05:26:40.171Z"
   },
   {
    "duration": 2769,
    "start_time": "2021-12-07T05:26:40.175Z"
   },
   {
    "duration": 2766,
    "start_time": "2021-12-07T05:26:40.180Z"
   },
   {
    "duration": 2756,
    "start_time": "2021-12-07T05:26:40.191Z"
   },
   {
    "duration": 2753,
    "start_time": "2021-12-07T05:26:40.195Z"
   },
   {
    "duration": 433,
    "start_time": "2021-12-07T05:29:13.116Z"
   },
   {
    "duration": 720,
    "start_time": "2021-12-07T05:29:23.807Z"
   },
   {
    "duration": 180,
    "start_time": "2021-12-07T05:29:24.530Z"
   },
   {
    "duration": 23,
    "start_time": "2021-12-07T05:29:24.713Z"
   },
   {
    "duration": 45,
    "start_time": "2021-12-07T05:29:24.739Z"
   },
   {
    "duration": 5,
    "start_time": "2021-12-07T05:29:24.786Z"
   },
   {
    "duration": 25,
    "start_time": "2021-12-07T05:29:24.794Z"
   },
   {
    "duration": 7,
    "start_time": "2021-12-07T05:29:24.822Z"
   },
   {
    "duration": 30,
    "start_time": "2021-12-07T05:29:24.862Z"
   },
   {
    "duration": 22,
    "start_time": "2021-12-07T05:29:24.895Z"
   },
   {
    "duration": 55,
    "start_time": "2021-12-07T05:29:24.919Z"
   },
   {
    "duration": 101,
    "start_time": "2021-12-07T05:29:24.977Z"
   },
   {
    "duration": 101,
    "start_time": "2021-12-07T05:29:25.080Z"
   },
   {
    "duration": 87,
    "start_time": "2021-12-07T05:29:25.183Z"
   },
   {
    "duration": 9,
    "start_time": "2021-12-07T05:29:25.272Z"
   },
   {
    "duration": 5,
    "start_time": "2021-12-07T05:29:25.283Z"
   },
   {
    "duration": 24,
    "start_time": "2021-12-07T05:29:25.290Z"
   },
   {
    "duration": 9,
    "start_time": "2021-12-07T05:29:25.316Z"
   },
   {
    "duration": 16,
    "start_time": "2021-12-07T05:29:25.360Z"
   },
   {
    "duration": 15,
    "start_time": "2021-12-07T05:29:25.378Z"
   },
   {
    "duration": 558,
    "start_time": "2021-12-07T05:29:25.396Z"
   },
   {
    "duration": 2837,
    "start_time": "2021-12-07T05:29:23.120Z"
   },
   {
    "duration": 2834,
    "start_time": "2021-12-07T05:29:23.125Z"
   },
   {
    "duration": 2817,
    "start_time": "2021-12-07T05:29:23.144Z"
   },
   {
    "duration": 2816,
    "start_time": "2021-12-07T05:29:23.146Z"
   },
   {
    "duration": 2816,
    "start_time": "2021-12-07T05:29:23.148Z"
   },
   {
    "duration": 2813,
    "start_time": "2021-12-07T05:29:23.152Z"
   },
   {
    "duration": 2809,
    "start_time": "2021-12-07T05:29:23.158Z"
   },
   {
    "duration": 2808,
    "start_time": "2021-12-07T05:29:23.160Z"
   },
   {
    "duration": 2807,
    "start_time": "2021-12-07T05:29:23.162Z"
   },
   {
    "duration": 2807,
    "start_time": "2021-12-07T05:29:23.164Z"
   },
   {
    "duration": 2806,
    "start_time": "2021-12-07T05:29:23.166Z"
   },
   {
    "duration": 2805,
    "start_time": "2021-12-07T05:29:23.168Z"
   },
   {
    "duration": 2806,
    "start_time": "2021-12-07T05:29:23.169Z"
   },
   {
    "duration": 2804,
    "start_time": "2021-12-07T05:29:23.172Z"
   },
   {
    "duration": 2801,
    "start_time": "2021-12-07T05:29:23.176Z"
   },
   {
    "duration": 2800,
    "start_time": "2021-12-07T05:29:23.179Z"
   },
   {
    "duration": 2785,
    "start_time": "2021-12-07T05:29:23.195Z"
   },
   {
    "duration": 2785,
    "start_time": "2021-12-07T05:29:23.197Z"
   },
   {
    "duration": 759,
    "start_time": "2021-12-07T05:29:56.389Z"
   },
   {
    "duration": 186,
    "start_time": "2021-12-07T05:29:57.151Z"
   },
   {
    "duration": 28,
    "start_time": "2021-12-07T05:29:57.341Z"
   },
   {
    "duration": 36,
    "start_time": "2021-12-07T05:29:57.372Z"
   },
   {
    "duration": 5,
    "start_time": "2021-12-07T05:29:57.410Z"
   },
   {
    "duration": 57,
    "start_time": "2021-12-07T05:29:57.417Z"
   },
   {
    "duration": 11,
    "start_time": "2021-12-07T05:29:57.476Z"
   },
   {
    "duration": 32,
    "start_time": "2021-12-07T05:29:57.489Z"
   },
   {
    "duration": 43,
    "start_time": "2021-12-07T05:29:57.525Z"
   },
   {
    "duration": 31,
    "start_time": "2021-12-07T05:29:57.571Z"
   },
   {
    "duration": 103,
    "start_time": "2021-12-07T05:29:57.604Z"
   },
   {
    "duration": 100,
    "start_time": "2021-12-07T05:29:57.709Z"
   },
   {
    "duration": 91,
    "start_time": "2021-12-07T05:29:57.811Z"
   },
   {
    "duration": 10,
    "start_time": "2021-12-07T05:29:57.904Z"
   },
   {
    "duration": 4,
    "start_time": "2021-12-07T05:29:57.916Z"
   },
   {
    "duration": 44,
    "start_time": "2021-12-07T05:29:57.923Z"
   },
   {
    "duration": 10,
    "start_time": "2021-12-07T05:29:57.969Z"
   },
   {
    "duration": 20,
    "start_time": "2021-12-07T05:29:57.982Z"
   },
   {
    "duration": 17,
    "start_time": "2021-12-07T05:29:58.004Z"
   },
   {
    "duration": 120,
    "start_time": "2021-12-07T05:29:58.023Z"
   },
   {
    "duration": 33,
    "start_time": "2021-12-07T05:29:58.145Z"
   },
   {
    "duration": 18,
    "start_time": "2021-12-07T05:29:58.181Z"
   },
   {
    "duration": 17,
    "start_time": "2021-12-07T05:29:58.202Z"
   },
   {
    "duration": 52,
    "start_time": "2021-12-07T05:29:58.221Z"
   },
   {
    "duration": 20,
    "start_time": "2021-12-07T05:29:58.275Z"
   },
   {
    "duration": 18,
    "start_time": "2021-12-07T05:29:58.297Z"
   },
   {
    "duration": 45,
    "start_time": "2021-12-07T05:29:58.319Z"
   },
   {
    "duration": 5,
    "start_time": "2021-12-07T05:29:58.367Z"
   },
   {
    "duration": 6,
    "start_time": "2021-12-07T05:29:58.374Z"
   },
   {
    "duration": 7,
    "start_time": "2021-12-07T05:29:58.383Z"
   },
   {
    "duration": 9,
    "start_time": "2021-12-07T05:29:58.392Z"
   },
   {
    "duration": 5,
    "start_time": "2021-12-07T05:29:58.403Z"
   },
   {
    "duration": 9,
    "start_time": "2021-12-07T05:29:58.410Z"
   },
   {
    "duration": 6,
    "start_time": "2021-12-07T05:29:58.421Z"
   },
   {
    "duration": 3,
    "start_time": "2021-12-07T05:29:58.460Z"
   },
   {
    "duration": 7,
    "start_time": "2021-12-07T05:29:58.465Z"
   },
   {
    "duration": 11,
    "start_time": "2021-12-07T05:29:58.475Z"
   },
   {
    "duration": 13,
    "start_time": "2021-12-07T05:29:58.488Z"
   },
   {
    "duration": 786,
    "start_time": "2021-12-07T05:32:50.359Z"
   },
   {
    "duration": 196,
    "start_time": "2021-12-07T05:32:51.148Z"
   },
   {
    "duration": 30,
    "start_time": "2021-12-07T05:32:51.348Z"
   },
   {
    "duration": 36,
    "start_time": "2021-12-07T05:32:51.380Z"
   },
   {
    "duration": 5,
    "start_time": "2021-12-07T05:32:51.419Z"
   },
   {
    "duration": 55,
    "start_time": "2021-12-07T05:32:51.426Z"
   },
   {
    "duration": 9,
    "start_time": "2021-12-07T05:32:51.483Z"
   },
   {
    "duration": 32,
    "start_time": "2021-12-07T05:32:51.496Z"
   },
   {
    "duration": 45,
    "start_time": "2021-12-07T05:32:51.531Z"
   },
   {
    "duration": 31,
    "start_time": "2021-12-07T05:32:51.579Z"
   },
   {
    "duration": 114,
    "start_time": "2021-12-07T05:32:51.612Z"
   },
   {
    "duration": 117,
    "start_time": "2021-12-07T05:32:51.728Z"
   },
   {
    "duration": 82,
    "start_time": "2021-12-07T05:32:51.848Z"
   },
   {
    "duration": 9,
    "start_time": "2021-12-07T05:32:51.932Z"
   },
   {
    "duration": 4,
    "start_time": "2021-12-07T05:32:51.959Z"
   },
   {
    "duration": 37,
    "start_time": "2021-12-07T05:32:51.965Z"
   },
   {
    "duration": 10,
    "start_time": "2021-12-07T05:32:52.005Z"
   },
   {
    "duration": 16,
    "start_time": "2021-12-07T05:32:52.017Z"
   },
   {
    "duration": 36,
    "start_time": "2021-12-07T05:32:52.036Z"
   },
   {
    "duration": 133,
    "start_time": "2021-12-07T05:32:52.074Z"
   },
   {
    "duration": 2852,
    "start_time": "2021-12-07T05:32:49.357Z"
   },
   {
    "duration": 2851,
    "start_time": "2021-12-07T05:32:49.360Z"
   },
   {
    "duration": 2849,
    "start_time": "2021-12-07T05:32:49.363Z"
   },
   {
    "duration": 2846,
    "start_time": "2021-12-07T05:32:49.367Z"
   },
   {
    "duration": 2843,
    "start_time": "2021-12-07T05:32:49.372Z"
   },
   {
    "duration": 2842,
    "start_time": "2021-12-07T05:32:49.374Z"
   },
   {
    "duration": 2834,
    "start_time": "2021-12-07T05:32:49.383Z"
   },
   {
    "duration": 2833,
    "start_time": "2021-12-07T05:32:49.386Z"
   },
   {
    "duration": 2831,
    "start_time": "2021-12-07T05:32:49.389Z"
   },
   {
    "duration": 2830,
    "start_time": "2021-12-07T05:32:49.391Z"
   },
   {
    "duration": 2827,
    "start_time": "2021-12-07T05:32:49.395Z"
   },
   {
    "duration": 2825,
    "start_time": "2021-12-07T05:32:49.399Z"
   },
   {
    "duration": 2823,
    "start_time": "2021-12-07T05:32:49.402Z"
   },
   {
    "duration": 2820,
    "start_time": "2021-12-07T05:32:49.406Z"
   },
   {
    "duration": 2819,
    "start_time": "2021-12-07T05:32:49.408Z"
   },
   {
    "duration": 2814,
    "start_time": "2021-12-07T05:32:49.414Z"
   },
   {
    "duration": 2813,
    "start_time": "2021-12-07T05:32:49.417Z"
   },
   {
    "duration": 2811,
    "start_time": "2021-12-07T05:32:49.420Z"
   },
   {
    "duration": 7,
    "start_time": "2021-12-07T05:33:35.784Z"
   },
   {
    "duration": 775,
    "start_time": "2021-12-07T05:33:44.303Z"
   },
   {
    "duration": 198,
    "start_time": "2021-12-07T05:33:45.081Z"
   },
   {
    "duration": 24,
    "start_time": "2021-12-07T05:33:45.283Z"
   },
   {
    "duration": 55,
    "start_time": "2021-12-07T05:33:45.310Z"
   },
   {
    "duration": 11,
    "start_time": "2021-12-07T05:33:45.368Z"
   },
   {
    "duration": 36,
    "start_time": "2021-12-07T05:33:45.381Z"
   },
   {
    "duration": 8,
    "start_time": "2021-12-07T05:33:45.419Z"
   },
   {
    "duration": 48,
    "start_time": "2021-12-07T05:33:45.429Z"
   },
   {
    "duration": 25,
    "start_time": "2021-12-07T05:33:45.482Z"
   },
   {
    "duration": 50,
    "start_time": "2021-12-07T05:33:45.510Z"
   },
   {
    "duration": 100,
    "start_time": "2021-12-07T05:33:45.563Z"
   },
   {
    "duration": 102,
    "start_time": "2021-12-07T05:33:45.665Z"
   },
   {
    "duration": 74,
    "start_time": "2021-12-07T05:33:45.770Z"
   },
   {
    "duration": 9,
    "start_time": "2021-12-07T05:33:45.859Z"
   },
   {
    "duration": 5,
    "start_time": "2021-12-07T05:33:45.870Z"
   },
   {
    "duration": 25,
    "start_time": "2021-12-07T05:33:45.877Z"
   },
   {
    "duration": 9,
    "start_time": "2021-12-07T05:33:45.904Z"
   },
   {
    "duration": 53,
    "start_time": "2021-12-07T05:33:45.916Z"
   },
   {
    "duration": 17,
    "start_time": "2021-12-07T05:33:45.971Z"
   },
   {
    "duration": 6,
    "start_time": "2021-12-07T05:33:45.991Z"
   },
   {
    "duration": 764,
    "start_time": "2021-12-07T05:34:25.347Z"
   },
   {
    "duration": 190,
    "start_time": "2021-12-07T05:34:26.114Z"
   },
   {
    "duration": 25,
    "start_time": "2021-12-07T05:34:26.307Z"
   },
   {
    "duration": 49,
    "start_time": "2021-12-07T05:34:26.335Z"
   },
   {
    "duration": 6,
    "start_time": "2021-12-07T05:34:26.386Z"
   },
   {
    "duration": 25,
    "start_time": "2021-12-07T05:34:26.394Z"
   },
   {
    "duration": 5,
    "start_time": "2021-12-07T05:34:26.421Z"
   },
   {
    "duration": 33,
    "start_time": "2021-12-07T05:34:26.461Z"
   },
   {
    "duration": 23,
    "start_time": "2021-12-07T05:34:26.498Z"
   },
   {
    "duration": 53,
    "start_time": "2021-12-07T05:34:26.523Z"
   },
   {
    "duration": 97,
    "start_time": "2021-12-07T05:34:26.578Z"
   },
   {
    "duration": 99,
    "start_time": "2021-12-07T05:34:26.677Z"
   },
   {
    "duration": 81,
    "start_time": "2021-12-07T05:34:26.779Z"
   },
   {
    "duration": 10,
    "start_time": "2021-12-07T05:34:26.863Z"
   },
   {
    "duration": 4,
    "start_time": "2021-12-07T05:34:26.875Z"
   },
   {
    "duration": 24,
    "start_time": "2021-12-07T05:34:26.881Z"
   },
   {
    "duration": 9,
    "start_time": "2021-12-07T05:34:26.907Z"
   },
   {
    "duration": 53,
    "start_time": "2021-12-07T05:34:26.918Z"
   },
   {
    "duration": 14,
    "start_time": "2021-12-07T05:34:26.973Z"
   },
   {
    "duration": 6,
    "start_time": "2021-12-07T05:34:26.990Z"
   },
   {
    "duration": 812,
    "start_time": "2021-12-07T05:36:20.453Z"
   },
   {
    "duration": 175,
    "start_time": "2021-12-07T05:36:21.267Z"
   },
   {
    "duration": 29,
    "start_time": "2021-12-07T05:36:21.445Z"
   },
   {
    "duration": 34,
    "start_time": "2021-12-07T05:36:21.476Z"
   },
   {
    "duration": 6,
    "start_time": "2021-12-07T05:36:21.512Z"
   },
   {
    "duration": 58,
    "start_time": "2021-12-07T05:36:21.520Z"
   },
   {
    "duration": 8,
    "start_time": "2021-12-07T05:36:21.581Z"
   },
   {
    "duration": 30,
    "start_time": "2021-12-07T05:36:21.593Z"
   },
   {
    "duration": 48,
    "start_time": "2021-12-07T05:36:21.626Z"
   },
   {
    "duration": 30,
    "start_time": "2021-12-07T05:36:21.677Z"
   },
   {
    "duration": 109,
    "start_time": "2021-12-07T05:36:21.710Z"
   },
   {
    "duration": 99,
    "start_time": "2021-12-07T05:36:21.821Z"
   },
   {
    "duration": 85,
    "start_time": "2021-12-07T05:36:21.922Z"
   },
   {
    "duration": 9,
    "start_time": "2021-12-07T05:36:22.009Z"
   },
   {
    "duration": 5,
    "start_time": "2021-12-07T05:36:22.020Z"
   },
   {
    "duration": 47,
    "start_time": "2021-12-07T05:36:22.027Z"
   },
   {
    "duration": 9,
    "start_time": "2021-12-07T05:36:22.076Z"
   },
   {
    "duration": 15,
    "start_time": "2021-12-07T05:36:22.088Z"
   },
   {
    "duration": 15,
    "start_time": "2021-12-07T05:36:22.105Z"
   },
   {
    "duration": 116,
    "start_time": "2021-12-07T05:36:22.122Z"
   },
   {
    "duration": 33,
    "start_time": "2021-12-07T05:36:22.240Z"
   },
   {
    "duration": 19,
    "start_time": "2021-12-07T05:36:22.275Z"
   },
   {
    "duration": 17,
    "start_time": "2021-12-07T05:36:22.298Z"
   },
   {
    "duration": 52,
    "start_time": "2021-12-07T05:36:22.318Z"
   },
   {
    "duration": 21,
    "start_time": "2021-12-07T05:36:22.372Z"
   },
   {
    "duration": 18,
    "start_time": "2021-12-07T05:36:22.395Z"
   },
   {
    "duration": 44,
    "start_time": "2021-12-07T05:36:22.416Z"
   },
   {
    "duration": 2,
    "start_time": "2021-12-07T05:36:22.463Z"
   },
   {
    "duration": 6,
    "start_time": "2021-12-07T05:36:22.467Z"
   },
   {
    "duration": 5,
    "start_time": "2021-12-07T05:36:22.475Z"
   },
   {
    "duration": 7,
    "start_time": "2021-12-07T05:36:22.482Z"
   },
   {
    "duration": 4,
    "start_time": "2021-12-07T05:36:22.491Z"
   },
   {
    "duration": 8,
    "start_time": "2021-12-07T05:36:22.497Z"
   },
   {
    "duration": 5,
    "start_time": "2021-12-07T05:36:22.507Z"
   },
   {
    "duration": 5,
    "start_time": "2021-12-07T05:36:22.515Z"
   },
   {
    "duration": 3,
    "start_time": "2021-12-07T05:36:22.560Z"
   },
   {
    "duration": 6,
    "start_time": "2021-12-07T05:36:22.566Z"
   },
   {
    "duration": 5,
    "start_time": "2021-12-07T05:36:22.574Z"
   },
   {
    "duration": 945,
    "start_time": "2021-12-07T05:37:24.747Z"
   },
   {
    "duration": 176,
    "start_time": "2021-12-07T05:37:25.694Z"
   },
   {
    "duration": 25,
    "start_time": "2021-12-07T05:37:25.873Z"
   },
   {
    "duration": 35,
    "start_time": "2021-12-07T05:37:25.900Z"
   },
   {
    "duration": 26,
    "start_time": "2021-12-07T05:37:25.937Z"
   },
   {
    "duration": 27,
    "start_time": "2021-12-07T05:37:25.965Z"
   },
   {
    "duration": 11,
    "start_time": "2021-12-07T05:37:25.994Z"
   },
   {
    "duration": 54,
    "start_time": "2021-12-07T05:37:26.010Z"
   },
   {
    "duration": 23,
    "start_time": "2021-12-07T05:37:26.068Z"
   },
   {
    "duration": 31,
    "start_time": "2021-12-07T05:37:26.093Z"
   },
   {
    "duration": 111,
    "start_time": "2021-12-07T05:37:26.126Z"
   },
   {
    "duration": 107,
    "start_time": "2021-12-07T05:37:26.239Z"
   },
   {
    "duration": 83,
    "start_time": "2021-12-07T05:37:26.349Z"
   },
   {
    "duration": 25,
    "start_time": "2021-12-07T05:37:26.435Z"
   },
   {
    "duration": 4,
    "start_time": "2021-12-07T05:37:26.463Z"
   },
   {
    "duration": 28,
    "start_time": "2021-12-07T05:37:26.469Z"
   },
   {
    "duration": 9,
    "start_time": "2021-12-07T05:37:26.500Z"
   },
   {
    "duration": 15,
    "start_time": "2021-12-07T05:37:26.511Z"
   },
   {
    "duration": 44,
    "start_time": "2021-12-07T05:37:26.529Z"
   },
   {
    "duration": 104,
    "start_time": "2021-12-07T05:37:26.575Z"
   },
   {
    "duration": 20,
    "start_time": "2021-12-07T05:37:26.681Z"
   },
   {
    "duration": 17,
    "start_time": "2021-12-07T05:37:26.703Z"
   },
   {
    "duration": 43,
    "start_time": "2021-12-07T05:37:26.724Z"
   },
   {
    "duration": 18,
    "start_time": "2021-12-07T05:37:26.770Z"
   },
   {
    "duration": 20,
    "start_time": "2021-12-07T05:37:26.790Z"
   },
   {
    "duration": 55,
    "start_time": "2021-12-07T05:37:26.813Z"
   },
   {
    "duration": 11,
    "start_time": "2021-12-07T05:37:26.870Z"
   },
   {
    "duration": 5,
    "start_time": "2021-12-07T05:37:26.883Z"
   },
   {
    "duration": 6,
    "start_time": "2021-12-07T05:37:26.890Z"
   },
   {
    "duration": 7,
    "start_time": "2021-12-07T05:37:26.898Z"
   },
   {
    "duration": 9,
    "start_time": "2021-12-07T05:37:26.908Z"
   },
   {
    "duration": 7,
    "start_time": "2021-12-07T05:37:26.919Z"
   },
   {
    "duration": 38,
    "start_time": "2021-12-07T05:37:26.928Z"
   },
   {
    "duration": 5,
    "start_time": "2021-12-07T05:37:26.968Z"
   },
   {
    "duration": 5,
    "start_time": "2021-12-07T05:37:26.976Z"
   },
   {
    "duration": 5,
    "start_time": "2021-12-07T05:37:26.984Z"
   },
   {
    "duration": 5,
    "start_time": "2021-12-07T05:37:26.991Z"
   },
   {
    "duration": 7,
    "start_time": "2021-12-07T05:37:26.999Z"
   },
   {
    "duration": 32,
    "start_time": "2021-12-07T05:55:37.587Z"
   },
   {
    "duration": 27,
    "start_time": "2021-12-07T05:56:29.825Z"
   },
   {
    "duration": 6,
    "start_time": "2021-12-07T06:08:04.137Z"
   },
   {
    "duration": 27,
    "start_time": "2021-12-07T06:08:08.836Z"
   },
   {
    "duration": 813,
    "start_time": "2021-12-07T06:10:12.129Z"
   },
   {
    "duration": 204,
    "start_time": "2021-12-07T06:10:12.945Z"
   },
   {
    "duration": 25,
    "start_time": "2021-12-07T06:10:13.152Z"
   },
   {
    "duration": 36,
    "start_time": "2021-12-07T06:10:13.180Z"
   },
   {
    "duration": 6,
    "start_time": "2021-12-07T06:10:13.218Z"
   },
   {
    "duration": 68,
    "start_time": "2021-12-07T06:10:13.227Z"
   },
   {
    "duration": 10,
    "start_time": "2021-12-07T06:10:13.299Z"
   },
   {
    "duration": 78,
    "start_time": "2021-12-07T06:10:13.315Z"
   },
   {
    "duration": 39,
    "start_time": "2021-12-07T06:10:13.398Z"
   },
   {
    "duration": 67,
    "start_time": "2021-12-07T06:10:13.440Z"
   },
   {
    "duration": 156,
    "start_time": "2021-12-07T06:10:13.510Z"
   },
   {
    "duration": 159,
    "start_time": "2021-12-07T06:10:13.669Z"
   },
   {
    "duration": 136,
    "start_time": "2021-12-07T06:10:13.832Z"
   },
   {
    "duration": 15,
    "start_time": "2021-12-07T06:10:13.971Z"
   },
   {
    "duration": 7,
    "start_time": "2021-12-07T06:10:13.989Z"
   },
   {
    "duration": 60,
    "start_time": "2021-12-07T06:10:13.999Z"
   },
   {
    "duration": 15,
    "start_time": "2021-12-07T06:10:14.063Z"
   },
   {
    "duration": 24,
    "start_time": "2021-12-07T06:10:14.081Z"
   },
   {
    "duration": 16,
    "start_time": "2021-12-07T06:10:14.107Z"
   },
   {
    "duration": 89,
    "start_time": "2021-12-07T06:10:14.159Z"
   },
   {
    "duration": 21,
    "start_time": "2021-12-07T06:10:14.260Z"
   },
   {
    "duration": 18,
    "start_time": "2021-12-07T06:10:14.284Z"
   },
   {
    "duration": 58,
    "start_time": "2021-12-07T06:10:14.309Z"
   },
   {
    "duration": 18,
    "start_time": "2021-12-07T06:10:14.371Z"
   },
   {
    "duration": 22,
    "start_time": "2021-12-07T06:10:14.392Z"
   },
   {
    "duration": 53,
    "start_time": "2021-12-07T06:10:14.416Z"
   },
   {
    "duration": 11,
    "start_time": "2021-12-07T06:10:14.472Z"
   },
   {
    "duration": 27,
    "start_time": "2021-12-07T06:10:14.485Z"
   },
   {
    "duration": 52,
    "start_time": "2021-12-07T06:10:14.514Z"
   },
   {
    "duration": 5,
    "start_time": "2021-12-07T06:10:14.569Z"
   },
   {
    "duration": 32,
    "start_time": "2021-12-07T06:10:14.576Z"
   },
   {
    "duration": 3,
    "start_time": "2021-12-07T06:10:14.611Z"
   },
   {
    "duration": 7,
    "start_time": "2021-12-07T06:10:14.616Z"
   },
   {
    "duration": 10,
    "start_time": "2021-12-07T06:10:14.625Z"
   },
   {
    "duration": 3,
    "start_time": "2021-12-07T06:10:14.661Z"
   },
   {
    "duration": 12,
    "start_time": "2021-12-07T06:10:14.667Z"
   },
   {
    "duration": 24,
    "start_time": "2021-12-07T06:10:14.681Z"
   },
   {
    "duration": 24,
    "start_time": "2021-12-07T06:10:14.708Z"
   },
   {
    "duration": 799,
    "start_time": "2021-12-07T06:14:00.042Z"
   },
   {
    "duration": 205,
    "start_time": "2021-12-07T06:14:00.844Z"
   },
   {
    "duration": 26,
    "start_time": "2021-12-07T06:14:01.053Z"
   },
   {
    "duration": 37,
    "start_time": "2021-12-07T06:14:01.082Z"
   },
   {
    "duration": 7,
    "start_time": "2021-12-07T06:14:01.121Z"
   },
   {
    "duration": 33,
    "start_time": "2021-12-07T06:14:01.160Z"
   },
   {
    "duration": 12,
    "start_time": "2021-12-07T06:14:01.195Z"
   },
   {
    "duration": 34,
    "start_time": "2021-12-07T06:14:01.211Z"
   },
   {
    "duration": 24,
    "start_time": "2021-12-07T06:14:01.261Z"
   },
   {
    "duration": 36,
    "start_time": "2021-12-07T06:14:01.288Z"
   },
   {
    "duration": 111,
    "start_time": "2021-12-07T06:14:01.327Z"
   },
   {
    "duration": 105,
    "start_time": "2021-12-07T06:14:01.441Z"
   },
   {
    "duration": 82,
    "start_time": "2021-12-07T06:14:01.548Z"
   },
   {
    "duration": 28,
    "start_time": "2021-12-07T06:14:01.633Z"
   },
   {
    "duration": 4,
    "start_time": "2021-12-07T06:14:01.664Z"
   },
   {
    "duration": 32,
    "start_time": "2021-12-07T06:14:01.670Z"
   },
   {
    "duration": 10,
    "start_time": "2021-12-07T06:14:01.704Z"
   },
   {
    "duration": 45,
    "start_time": "2021-12-07T06:14:01.716Z"
   },
   {
    "duration": 17,
    "start_time": "2021-12-07T06:14:01.763Z"
   },
   {
    "duration": 115,
    "start_time": "2021-12-07T06:14:01.782Z"
   },
   {
    "duration": 21,
    "start_time": "2021-12-07T06:14:01.900Z"
   },
   {
    "duration": 36,
    "start_time": "2021-12-07T06:14:01.924Z"
   },
   {
    "duration": 21,
    "start_time": "2021-12-07T06:14:01.965Z"
   },
   {
    "duration": 18,
    "start_time": "2021-12-07T06:14:01.989Z"
   },
   {
    "duration": 60,
    "start_time": "2021-12-07T06:14:02.010Z"
   },
   {
    "duration": 20,
    "start_time": "2021-12-07T06:14:02.072Z"
   },
   {
    "duration": 11,
    "start_time": "2021-12-07T06:14:02.095Z"
   },
   {
    "duration": 55,
    "start_time": "2021-12-07T06:14:02.109Z"
   },
   {
    "duration": 23,
    "start_time": "2021-12-07T06:14:02.166Z"
   },
   {
    "duration": 6,
    "start_time": "2021-12-07T06:14:02.191Z"
   },
   {
    "duration": 844,
    "start_time": "2021-12-07T06:14:02.199Z"
   },
   {
    "duration": -108,
    "start_time": "2021-12-07T06:14:03.154Z"
   },
   {
    "duration": -112,
    "start_time": "2021-12-07T06:14:03.159Z"
   },
   {
    "duration": -115,
    "start_time": "2021-12-07T06:14:03.164Z"
   },
   {
    "duration": -118,
    "start_time": "2021-12-07T06:14:03.168Z"
   },
   {
    "duration": -122,
    "start_time": "2021-12-07T06:14:03.173Z"
   },
   {
    "duration": -126,
    "start_time": "2021-12-07T06:14:03.178Z"
   },
   {
    "duration": -127,
    "start_time": "2021-12-07T06:14:03.181Z"
   },
   {
    "duration": 758,
    "start_time": "2021-12-07T06:14:29.683Z"
   },
   {
    "duration": 197,
    "start_time": "2021-12-07T06:14:30.444Z"
   },
   {
    "duration": 25,
    "start_time": "2021-12-07T06:14:30.644Z"
   },
   {
    "duration": 38,
    "start_time": "2021-12-07T06:14:30.671Z"
   },
   {
    "duration": 14,
    "start_time": "2021-12-07T06:14:30.711Z"
   },
   {
    "duration": 50,
    "start_time": "2021-12-07T06:14:30.728Z"
   },
   {
    "duration": 11,
    "start_time": "2021-12-07T06:14:30.781Z"
   },
   {
    "duration": 36,
    "start_time": "2021-12-07T06:14:30.795Z"
   },
   {
    "duration": 41,
    "start_time": "2021-12-07T06:14:30.834Z"
   },
   {
    "duration": 30,
    "start_time": "2021-12-07T06:14:30.877Z"
   },
   {
    "duration": 122,
    "start_time": "2021-12-07T06:14:30.909Z"
   },
   {
    "duration": 116,
    "start_time": "2021-12-07T06:14:31.034Z"
   },
   {
    "duration": 82,
    "start_time": "2021-12-07T06:14:31.152Z"
   },
   {
    "duration": 25,
    "start_time": "2021-12-07T06:14:31.236Z"
   },
   {
    "duration": 4,
    "start_time": "2021-12-07T06:14:31.263Z"
   },
   {
    "duration": 26,
    "start_time": "2021-12-07T06:14:31.270Z"
   },
   {
    "duration": 10,
    "start_time": "2021-12-07T06:14:31.298Z"
   },
   {
    "duration": 18,
    "start_time": "2021-12-07T06:14:31.310Z"
   },
   {
    "duration": 16,
    "start_time": "2021-12-07T06:14:31.360Z"
   },
   {
    "duration": 104,
    "start_time": "2021-12-07T06:14:31.378Z"
   },
   {
    "duration": 20,
    "start_time": "2021-12-07T06:14:31.484Z"
   },
   {
    "duration": 19,
    "start_time": "2021-12-07T06:14:31.506Z"
   },
   {
    "duration": 41,
    "start_time": "2021-12-07T06:14:31.530Z"
   },
   {
    "duration": 18,
    "start_time": "2021-12-07T06:14:31.574Z"
   },
   {
    "duration": 21,
    "start_time": "2021-12-07T06:14:31.595Z"
   },
   {
    "duration": 49,
    "start_time": "2021-12-07T06:14:31.618Z"
   },
   {
    "duration": 11,
    "start_time": "2021-12-07T06:14:31.669Z"
   },
   {
    "duration": 26,
    "start_time": "2021-12-07T06:14:31.682Z"
   },
   {
    "duration": 55,
    "start_time": "2021-12-07T06:14:31.710Z"
   },
   {
    "duration": 125,
    "start_time": "2021-12-07T06:14:31.768Z"
   },
   {
    "duration": -62,
    "start_time": "2021-12-07T06:14:31.958Z"
   },
   {
    "duration": -64,
    "start_time": "2021-12-07T06:14:31.961Z"
   },
   {
    "duration": -64,
    "start_time": "2021-12-07T06:14:31.963Z"
   },
   {
    "duration": -65,
    "start_time": "2021-12-07T06:14:31.965Z"
   },
   {
    "duration": -67,
    "start_time": "2021-12-07T06:14:31.968Z"
   },
   {
    "duration": -68,
    "start_time": "2021-12-07T06:14:31.971Z"
   },
   {
    "duration": -70,
    "start_time": "2021-12-07T06:14:31.974Z"
   },
   {
    "duration": -70,
    "start_time": "2021-12-07T06:14:31.975Z"
   },
   {
    "duration": 929,
    "start_time": "2021-12-07T06:15:23.053Z"
   },
   {
    "duration": 179,
    "start_time": "2021-12-07T06:15:23.985Z"
   },
   {
    "duration": 26,
    "start_time": "2021-12-07T06:15:24.167Z"
   },
   {
    "duration": 39,
    "start_time": "2021-12-07T06:15:24.196Z"
   },
   {
    "duration": 27,
    "start_time": "2021-12-07T06:15:24.237Z"
   },
   {
    "duration": 28,
    "start_time": "2021-12-07T06:15:24.266Z"
   },
   {
    "duration": 9,
    "start_time": "2021-12-07T06:15:24.296Z"
   },
   {
    "duration": 58,
    "start_time": "2021-12-07T06:15:24.309Z"
   },
   {
    "duration": 22,
    "start_time": "2021-12-07T06:15:24.371Z"
   },
   {
    "duration": 28,
    "start_time": "2021-12-07T06:15:24.395Z"
   },
   {
    "duration": 104,
    "start_time": "2021-12-07T06:15:24.426Z"
   },
   {
    "duration": 111,
    "start_time": "2021-12-07T06:15:24.532Z"
   },
   {
    "duration": 118,
    "start_time": "2021-12-07T06:15:24.646Z"
   },
   {
    "duration": 13,
    "start_time": "2021-12-07T06:15:24.767Z"
   },
   {
    "duration": 6,
    "start_time": "2021-12-07T06:15:24.783Z"
   },
   {
    "duration": 27,
    "start_time": "2021-12-07T06:15:24.792Z"
   },
   {
    "duration": 39,
    "start_time": "2021-12-07T06:15:24.822Z"
   },
   {
    "duration": 16,
    "start_time": "2021-12-07T06:15:24.864Z"
   },
   {
    "duration": 15,
    "start_time": "2021-12-07T06:15:24.883Z"
   },
   {
    "duration": 130,
    "start_time": "2021-12-07T06:15:24.901Z"
   },
   {
    "duration": 32,
    "start_time": "2021-12-07T06:15:25.033Z"
   },
   {
    "duration": 24,
    "start_time": "2021-12-07T06:15:25.067Z"
   },
   {
    "duration": 20,
    "start_time": "2021-12-07T06:15:25.095Z"
   },
   {
    "duration": 49,
    "start_time": "2021-12-07T06:15:25.119Z"
   },
   {
    "duration": 22,
    "start_time": "2021-12-07T06:15:25.171Z"
   },
   {
    "duration": 21,
    "start_time": "2021-12-07T06:15:25.196Z"
   },
   {
    "duration": 50,
    "start_time": "2021-12-07T06:15:25.220Z"
   },
   {
    "duration": 27,
    "start_time": "2021-12-07T06:15:25.273Z"
   },
   {
    "duration": 62,
    "start_time": "2021-12-07T06:15:25.303Z"
   },
   {
    "duration": 7,
    "start_time": "2021-12-07T06:15:25.368Z"
   },
   {
    "duration": 28,
    "start_time": "2021-12-07T06:15:25.378Z"
   },
   {
    "duration": 4,
    "start_time": "2021-12-07T06:15:25.409Z"
   },
   {
    "duration": 6,
    "start_time": "2021-12-07T06:15:25.416Z"
   },
   {
    "duration": 10,
    "start_time": "2021-12-07T06:15:25.461Z"
   },
   {
    "duration": 8,
    "start_time": "2021-12-07T06:15:25.474Z"
   },
   {
    "duration": 6,
    "start_time": "2021-12-07T06:15:25.484Z"
   },
   {
    "duration": 7,
    "start_time": "2021-12-07T06:15:25.492Z"
   },
   {
    "duration": 7,
    "start_time": "2021-12-07T06:15:25.502Z"
   },
   {
    "duration": 17,
    "start_time": "2021-12-07T06:22:56.767Z"
   },
   {
    "duration": 778,
    "start_time": "2021-12-07T06:24:09.906Z"
   },
   {
    "duration": 189,
    "start_time": "2021-12-07T06:24:10.686Z"
   },
   {
    "duration": 26,
    "start_time": "2021-12-07T06:24:10.878Z"
   },
   {
    "duration": 52,
    "start_time": "2021-12-07T06:24:10.907Z"
   },
   {
    "duration": 5,
    "start_time": "2021-12-07T06:24:10.962Z"
   },
   {
    "duration": 28,
    "start_time": "2021-12-07T06:24:10.969Z"
   },
   {
    "duration": 12,
    "start_time": "2021-12-07T06:24:10.999Z"
   },
   {
    "duration": 62,
    "start_time": "2021-12-07T06:24:11.014Z"
   },
   {
    "duration": 24,
    "start_time": "2021-12-07T06:24:11.079Z"
   },
   {
    "duration": 53,
    "start_time": "2021-12-07T06:24:11.106Z"
   },
   {
    "duration": 83,
    "start_time": "2021-12-07T06:24:11.162Z"
   },
   {
    "duration": 99,
    "start_time": "2021-12-07T06:24:11.260Z"
   },
   {
    "duration": 76,
    "start_time": "2021-12-07T06:24:11.361Z"
   },
   {
    "duration": 21,
    "start_time": "2021-12-07T06:24:11.439Z"
   },
   {
    "duration": 4,
    "start_time": "2021-12-07T06:24:11.463Z"
   },
   {
    "duration": 23,
    "start_time": "2021-12-07T06:24:11.469Z"
   },
   {
    "duration": 9,
    "start_time": "2021-12-07T06:24:11.494Z"
   },
   {
    "duration": 54,
    "start_time": "2021-12-07T06:24:11.505Z"
   },
   {
    "duration": 17,
    "start_time": "2021-12-07T06:24:11.561Z"
   },
   {
    "duration": 104,
    "start_time": "2021-12-07T06:24:11.580Z"
   },
   {
    "duration": 20,
    "start_time": "2021-12-07T06:24:11.687Z"
   },
   {
    "duration": 19,
    "start_time": "2021-12-07T06:24:11.709Z"
   },
   {
    "duration": 21,
    "start_time": "2021-12-07T06:24:11.758Z"
   },
   {
    "duration": 18,
    "start_time": "2021-12-07T06:24:11.781Z"
   },
   {
    "duration": 21,
    "start_time": "2021-12-07T06:24:11.802Z"
   },
   {
    "duration": 48,
    "start_time": "2021-12-07T06:24:11.825Z"
   },
   {
    "duration": 11,
    "start_time": "2021-12-07T06:24:11.875Z"
   },
   {
    "duration": 26,
    "start_time": "2021-12-07T06:24:11.888Z"
   },
   {
    "duration": 54,
    "start_time": "2021-12-07T06:24:11.916Z"
   },
   {
    "duration": 5,
    "start_time": "2021-12-07T06:24:11.973Z"
   },
   {
    "duration": 30,
    "start_time": "2021-12-07T06:24:11.980Z"
   },
   {
    "duration": 48,
    "start_time": "2021-12-07T06:24:12.012Z"
   },
   {
    "duration": 22,
    "start_time": "2021-12-07T06:24:12.063Z"
   },
   {
    "duration": 17,
    "start_time": "2021-12-07T06:24:12.088Z"
   },
   {
    "duration": 4,
    "start_time": "2021-12-07T06:24:12.108Z"
   },
   {
    "duration": 45,
    "start_time": "2021-12-07T06:24:12.114Z"
   },
   {
    "duration": 4,
    "start_time": "2021-12-07T06:24:12.161Z"
   },
   {
    "duration": 5,
    "start_time": "2021-12-07T06:24:12.168Z"
   },
   {
    "duration": 859,
    "start_time": "2021-12-07T06:25:46.938Z"
   },
   {
    "duration": 197,
    "start_time": "2021-12-07T06:25:47.800Z"
   },
   {
    "duration": 28,
    "start_time": "2021-12-07T06:25:48.001Z"
   },
   {
    "duration": 52,
    "start_time": "2021-12-07T06:25:48.032Z"
   },
   {
    "duration": 5,
    "start_time": "2021-12-07T06:25:48.087Z"
   },
   {
    "duration": 25,
    "start_time": "2021-12-07T06:25:48.094Z"
   },
   {
    "duration": 8,
    "start_time": "2021-12-07T06:25:48.121Z"
   },
   {
    "duration": 55,
    "start_time": "2021-12-07T06:25:48.133Z"
   },
   {
    "duration": 25,
    "start_time": "2021-12-07T06:25:48.191Z"
   },
   {
    "duration": 51,
    "start_time": "2021-12-07T06:25:48.218Z"
   },
   {
    "duration": 105,
    "start_time": "2021-12-07T06:25:48.271Z"
   },
   {
    "duration": 113,
    "start_time": "2021-12-07T06:25:48.378Z"
   },
   {
    "duration": 83,
    "start_time": "2021-12-07T06:25:48.493Z"
   },
   {
    "duration": 10,
    "start_time": "2021-12-07T06:25:48.579Z"
   },
   {
    "duration": 5,
    "start_time": "2021-12-07T06:25:48.591Z"
   },
   {
    "duration": 32,
    "start_time": "2021-12-07T06:25:48.598Z"
   },
   {
    "duration": 31,
    "start_time": "2021-12-07T06:25:48.632Z"
   },
   {
    "duration": 21,
    "start_time": "2021-12-07T06:25:48.666Z"
   },
   {
    "duration": 17,
    "start_time": "2021-12-07T06:25:48.689Z"
   },
   {
    "duration": 150,
    "start_time": "2021-12-07T06:25:48.709Z"
   },
   {
    "duration": 29,
    "start_time": "2021-12-07T06:25:48.862Z"
   },
   {
    "duration": 21,
    "start_time": "2021-12-07T06:25:48.893Z"
   },
   {
    "duration": 49,
    "start_time": "2021-12-07T06:25:48.919Z"
   },
   {
    "duration": 18,
    "start_time": "2021-12-07T06:25:48.971Z"
   },
   {
    "duration": 22,
    "start_time": "2021-12-07T06:25:48.992Z"
   },
   {
    "duration": 57,
    "start_time": "2021-12-07T06:25:49.017Z"
   },
   {
    "duration": 13,
    "start_time": "2021-12-07T06:25:49.077Z"
   },
   {
    "duration": 42,
    "start_time": "2021-12-07T06:25:49.093Z"
   },
   {
    "duration": 26,
    "start_time": "2021-12-07T06:25:49.159Z"
   },
   {
    "duration": 8,
    "start_time": "2021-12-07T06:25:49.188Z"
   },
   {
    "duration": 1040,
    "start_time": "2021-12-07T06:25:49.198Z"
   },
   {
    "duration": -98,
    "start_time": "2021-12-07T06:25:50.339Z"
   },
   {
    "duration": -100,
    "start_time": "2021-12-07T06:25:50.342Z"
   },
   {
    "duration": -100,
    "start_time": "2021-12-07T06:25:50.344Z"
   },
   {
    "duration": -102,
    "start_time": "2021-12-07T06:25:50.347Z"
   },
   {
    "duration": -104,
    "start_time": "2021-12-07T06:25:50.350Z"
   },
   {
    "duration": -105,
    "start_time": "2021-12-07T06:25:50.353Z"
   },
   {
    "duration": -107,
    "start_time": "2021-12-07T06:25:50.356Z"
   },
   {
    "duration": 825,
    "start_time": "2021-12-07T06:26:45.537Z"
   },
   {
    "duration": 196,
    "start_time": "2021-12-07T06:26:46.365Z"
   },
   {
    "duration": 29,
    "start_time": "2021-12-07T06:26:46.564Z"
   },
   {
    "duration": 34,
    "start_time": "2021-12-07T06:26:46.596Z"
   },
   {
    "duration": 31,
    "start_time": "2021-12-07T06:26:46.633Z"
   },
   {
    "duration": 31,
    "start_time": "2021-12-07T06:26:46.668Z"
   },
   {
    "duration": 7,
    "start_time": "2021-12-07T06:26:46.701Z"
   },
   {
    "duration": 64,
    "start_time": "2021-12-07T06:26:46.711Z"
   },
   {
    "duration": 22,
    "start_time": "2021-12-07T06:26:46.778Z"
   },
   {
    "duration": 30,
    "start_time": "2021-12-07T06:26:46.802Z"
   },
   {
    "duration": 85,
    "start_time": "2021-12-07T06:26:46.859Z"
   },
   {
    "duration": 118,
    "start_time": "2021-12-07T06:26:46.946Z"
   },
   {
    "duration": 78,
    "start_time": "2021-12-07T06:26:47.066Z"
   },
   {
    "duration": 11,
    "start_time": "2021-12-07T06:26:47.160Z"
   },
   {
    "duration": 8,
    "start_time": "2021-12-07T06:26:47.174Z"
   },
   {
    "duration": 33,
    "start_time": "2021-12-07T06:26:47.185Z"
   },
   {
    "duration": 10,
    "start_time": "2021-12-07T06:26:47.221Z"
   },
   {
    "duration": 41,
    "start_time": "2021-12-07T06:26:47.233Z"
   },
   {
    "duration": 15,
    "start_time": "2021-12-07T06:26:47.276Z"
   },
   {
    "duration": 116,
    "start_time": "2021-12-07T06:26:47.294Z"
   },
   {
    "duration": 21,
    "start_time": "2021-12-07T06:26:47.413Z"
   },
   {
    "duration": 31,
    "start_time": "2021-12-07T06:26:47.436Z"
   },
   {
    "duration": 18,
    "start_time": "2021-12-07T06:26:47.472Z"
   },
   {
    "duration": 17,
    "start_time": "2021-12-07T06:26:47.493Z"
   },
   {
    "duration": 53,
    "start_time": "2021-12-07T06:26:47.513Z"
   },
   {
    "duration": 20,
    "start_time": "2021-12-07T06:26:47.568Z"
   },
   {
    "duration": 11,
    "start_time": "2021-12-07T06:26:47.590Z"
   },
   {
    "duration": 58,
    "start_time": "2021-12-07T06:26:47.603Z"
   },
   {
    "duration": 23,
    "start_time": "2021-12-07T06:26:47.663Z"
   },
   {
    "duration": 6,
    "start_time": "2021-12-07T06:26:47.689Z"
   },
   {
    "duration": 29,
    "start_time": "2021-12-07T06:26:47.697Z"
   },
   {
    "duration": 46,
    "start_time": "2021-12-07T06:26:47.728Z"
   },
   {
    "duration": 22,
    "start_time": "2021-12-07T06:26:47.776Z"
   },
   {
    "duration": 16,
    "start_time": "2021-12-07T06:26:47.801Z"
   },
   {
    "duration": 2,
    "start_time": "2021-12-07T06:26:47.820Z"
   },
   {
    "duration": 3,
    "start_time": "2021-12-07T06:26:47.860Z"
   },
   {
    "duration": 9,
    "start_time": "2021-12-07T06:26:47.866Z"
   },
   {
    "duration": 9,
    "start_time": "2021-12-07T06:26:47.878Z"
   },
   {
    "duration": 713,
    "start_time": "2021-12-07T06:37:28.441Z"
   },
   {
    "duration": 134,
    "start_time": "2021-12-07T07:03:44.975Z"
   },
   {
    "duration": 767,
    "start_time": "2021-12-07T07:04:01.202Z"
   },
   {
    "duration": 190,
    "start_time": "2021-12-07T07:04:01.972Z"
   },
   {
    "duration": 28,
    "start_time": "2021-12-07T07:04:02.165Z"
   },
   {
    "duration": 62,
    "start_time": "2021-12-07T07:04:02.197Z"
   },
   {
    "duration": 7,
    "start_time": "2021-12-07T07:04:02.263Z"
   },
   {
    "duration": 28,
    "start_time": "2021-12-07T07:04:02.273Z"
   },
   {
    "duration": 6,
    "start_time": "2021-12-07T07:04:02.304Z"
   },
   {
    "duration": 32,
    "start_time": "2021-12-07T07:04:02.360Z"
   },
   {
    "duration": 24,
    "start_time": "2021-12-07T07:04:02.396Z"
   },
   {
    "duration": 57,
    "start_time": "2021-12-07T07:04:02.423Z"
   },
   {
    "duration": 108,
    "start_time": "2021-12-07T07:04:02.483Z"
   },
   {
    "duration": 113,
    "start_time": "2021-12-07T07:04:02.594Z"
   },
   {
    "duration": 94,
    "start_time": "2021-12-07T07:04:02.709Z"
   },
   {
    "duration": 12,
    "start_time": "2021-12-07T07:04:02.806Z"
   },
   {
    "duration": 7,
    "start_time": "2021-12-07T07:04:02.821Z"
   },
   {
    "duration": 46,
    "start_time": "2021-12-07T07:04:02.830Z"
   },
   {
    "duration": 10,
    "start_time": "2021-12-07T07:04:02.878Z"
   },
   {
    "duration": 16,
    "start_time": "2021-12-07T07:04:02.891Z"
   },
   {
    "duration": 15,
    "start_time": "2021-12-07T07:04:02.909Z"
   },
   {
    "duration": 111,
    "start_time": "2021-12-07T07:04:02.926Z"
   },
   {
    "duration": 34,
    "start_time": "2021-12-07T07:04:03.040Z"
   },
   {
    "duration": 19,
    "start_time": "2021-12-07T07:04:03.076Z"
   },
   {
    "duration": 19,
    "start_time": "2021-12-07T07:04:03.100Z"
   },
   {
    "duration": 47,
    "start_time": "2021-12-07T07:04:03.121Z"
   },
   {
    "duration": 22,
    "start_time": "2021-12-07T07:04:03.170Z"
   },
   {
    "duration": 19,
    "start_time": "2021-12-07T07:04:03.194Z"
   },
   {
    "duration": 47,
    "start_time": "2021-12-07T07:04:03.215Z"
   },
   {
    "duration": 33,
    "start_time": "2021-12-07T07:04:03.264Z"
   },
   {
    "duration": 24,
    "start_time": "2021-12-07T07:04:03.299Z"
   },
   {
    "duration": 5,
    "start_time": "2021-12-07T07:04:03.326Z"
   },
   {
    "duration": 25,
    "start_time": "2021-12-07T07:04:03.360Z"
   },
   {
    "duration": 16,
    "start_time": "2021-12-07T07:04:03.388Z"
   },
   {
    "duration": 53,
    "start_time": "2021-12-07T07:04:03.407Z"
   },
   {
    "duration": 16,
    "start_time": "2021-12-07T07:04:03.463Z"
   },
   {
    "duration": 464,
    "start_time": "2021-12-07T07:04:03.481Z"
   },
   {
    "duration": -105,
    "start_time": "2021-12-07T07:04:04.052Z"
   },
   {
    "duration": -106,
    "start_time": "2021-12-07T07:04:04.054Z"
   },
   {
    "duration": -107,
    "start_time": "2021-12-07T07:04:04.057Z"
   },
   {
    "duration": 11,
    "start_time": "2021-12-07T07:04:39.015Z"
   },
   {
    "duration": 7,
    "start_time": "2021-12-07T07:05:11.069Z"
   },
   {
    "duration": 835,
    "start_time": "2021-12-07T07:05:57.455Z"
   },
   {
    "duration": 192,
    "start_time": "2021-12-07T07:05:58.292Z"
   },
   {
    "duration": 25,
    "start_time": "2021-12-07T07:05:58.487Z"
   },
   {
    "duration": 53,
    "start_time": "2021-12-07T07:05:58.515Z"
   },
   {
    "duration": 6,
    "start_time": "2021-12-07T07:05:58.570Z"
   },
   {
    "duration": 35,
    "start_time": "2021-12-07T07:05:58.580Z"
   },
   {
    "duration": 8,
    "start_time": "2021-12-07T07:05:58.618Z"
   },
   {
    "duration": 34,
    "start_time": "2021-12-07T07:05:58.660Z"
   },
   {
    "duration": 22,
    "start_time": "2021-12-07T07:05:58.697Z"
   },
   {
    "duration": 49,
    "start_time": "2021-12-07T07:05:58.722Z"
   },
   {
    "duration": 106,
    "start_time": "2021-12-07T07:05:58.774Z"
   },
   {
    "duration": 106,
    "start_time": "2021-12-07T07:05:58.882Z"
   },
   {
    "duration": 87,
    "start_time": "2021-12-07T07:05:58.990Z"
   },
   {
    "duration": 10,
    "start_time": "2021-12-07T07:05:59.079Z"
   },
   {
    "duration": 6,
    "start_time": "2021-12-07T07:05:59.091Z"
   },
   {
    "duration": 36,
    "start_time": "2021-12-07T07:05:59.100Z"
   },
   {
    "duration": 23,
    "start_time": "2021-12-07T07:05:59.138Z"
   },
   {
    "duration": 17,
    "start_time": "2021-12-07T07:05:59.164Z"
   },
   {
    "duration": 16,
    "start_time": "2021-12-07T07:05:59.184Z"
   },
   {
    "duration": 125,
    "start_time": "2021-12-07T07:05:59.203Z"
   },
   {
    "duration": 30,
    "start_time": "2021-12-07T07:05:59.330Z"
   },
   {
    "duration": 19,
    "start_time": "2021-12-07T07:05:59.363Z"
   },
   {
    "duration": 18,
    "start_time": "2021-12-07T07:05:59.387Z"
   },
   {
    "duration": 17,
    "start_time": "2021-12-07T07:05:59.408Z"
   },
   {
    "duration": 22,
    "start_time": "2021-12-07T07:05:59.459Z"
   },
   {
    "duration": 20,
    "start_time": "2021-12-07T07:05:59.483Z"
   },
   {
    "duration": 11,
    "start_time": "2021-12-07T07:05:59.505Z"
   },
   {
    "duration": 56,
    "start_time": "2021-12-07T07:05:59.519Z"
   },
   {
    "duration": 21,
    "start_time": "2021-12-07T07:05:59.578Z"
   },
   {
    "duration": 6,
    "start_time": "2021-12-07T07:05:59.601Z"
   },
   {
    "duration": 59,
    "start_time": "2021-12-07T07:05:59.609Z"
   },
   {
    "duration": 16,
    "start_time": "2021-12-07T07:05:59.671Z"
   },
   {
    "duration": 23,
    "start_time": "2021-12-07T07:05:59.689Z"
   },
   {
    "duration": 54,
    "start_time": "2021-12-07T07:05:59.715Z"
   },
   {
    "duration": 13,
    "start_time": "2021-12-07T07:05:59.772Z"
   },
   {
    "duration": 9,
    "start_time": "2021-12-07T07:05:59.787Z"
   },
   {
    "duration": 13,
    "start_time": "2021-12-07T07:05:59.798Z"
   },
   {
    "duration": 49,
    "start_time": "2021-12-07T07:05:59.813Z"
   },
   {
    "duration": 750,
    "start_time": "2021-12-07T07:06:14.188Z"
   },
   {
    "duration": 210,
    "start_time": "2021-12-07T07:06:14.941Z"
   },
   {
    "duration": 26,
    "start_time": "2021-12-07T07:06:15.155Z"
   },
   {
    "duration": 34,
    "start_time": "2021-12-07T07:06:15.184Z"
   },
   {
    "duration": 6,
    "start_time": "2021-12-07T07:06:15.220Z"
   },
   {
    "duration": 25,
    "start_time": "2021-12-07T07:06:15.260Z"
   },
   {
    "duration": 10,
    "start_time": "2021-12-07T07:06:15.287Z"
   },
   {
    "duration": 36,
    "start_time": "2021-12-07T07:06:15.302Z"
   },
   {
    "duration": 23,
    "start_time": "2021-12-07T07:06:15.359Z"
   },
   {
    "duration": 29,
    "start_time": "2021-12-07T07:06:15.385Z"
   },
   {
    "duration": 106,
    "start_time": "2021-12-07T07:06:15.417Z"
   },
   {
    "duration": 106,
    "start_time": "2021-12-07T07:06:15.525Z"
   },
   {
    "duration": 87,
    "start_time": "2021-12-07T07:06:15.633Z"
   },
   {
    "duration": 10,
    "start_time": "2021-12-07T07:06:15.722Z"
   },
   {
    "duration": 5,
    "start_time": "2021-12-07T07:06:15.735Z"
   },
   {
    "duration": 22,
    "start_time": "2021-12-07T07:06:15.760Z"
   },
   {
    "duration": 9,
    "start_time": "2021-12-07T07:06:15.784Z"
   },
   {
    "duration": 15,
    "start_time": "2021-12-07T07:06:15.796Z"
   },
   {
    "duration": 52,
    "start_time": "2021-12-07T07:06:15.814Z"
   },
   {
    "duration": 96,
    "start_time": "2021-12-07T07:06:15.868Z"
   },
   {
    "duration": 21,
    "start_time": "2021-12-07T07:06:15.967Z"
   },
   {
    "duration": 20,
    "start_time": "2021-12-07T07:06:15.990Z"
   },
   {
    "duration": 46,
    "start_time": "2021-12-07T07:06:16.016Z"
   },
   {
    "duration": 21,
    "start_time": "2021-12-07T07:06:16.066Z"
   },
   {
    "duration": 25,
    "start_time": "2021-12-07T07:06:16.090Z"
   },
   {
    "duration": 63,
    "start_time": "2021-12-07T07:06:16.117Z"
   },
   {
    "duration": 14,
    "start_time": "2021-12-07T07:06:16.184Z"
   },
   {
    "duration": 60,
    "start_time": "2021-12-07T07:06:16.201Z"
   },
   {
    "duration": 25,
    "start_time": "2021-12-07T07:06:16.263Z"
   },
   {
    "duration": 5,
    "start_time": "2021-12-07T07:06:16.291Z"
   },
   {
    "duration": 30,
    "start_time": "2021-12-07T07:06:16.299Z"
   },
   {
    "duration": 20,
    "start_time": "2021-12-07T07:06:16.360Z"
   },
   {
    "duration": 25,
    "start_time": "2021-12-07T07:06:16.383Z"
   },
   {
    "duration": 56,
    "start_time": "2021-12-07T07:06:16.411Z"
   },
   {
    "duration": 13,
    "start_time": "2021-12-07T07:06:16.470Z"
   },
   {
    "duration": 7,
    "start_time": "2021-12-07T07:06:16.486Z"
   },
   {
    "duration": 12,
    "start_time": "2021-12-07T07:06:16.495Z"
   },
   {
    "duration": 50,
    "start_time": "2021-12-07T07:06:16.509Z"
   },
   {
    "duration": 797,
    "start_time": "2021-12-07T07:06:39.262Z"
   },
   {
    "duration": 191,
    "start_time": "2021-12-07T07:06:40.062Z"
   },
   {
    "duration": 27,
    "start_time": "2021-12-07T07:06:40.256Z"
   },
   {
    "duration": 34,
    "start_time": "2021-12-07T07:06:40.285Z"
   },
   {
    "duration": 6,
    "start_time": "2021-12-07T07:06:40.321Z"
   },
   {
    "duration": 28,
    "start_time": "2021-12-07T07:06:40.361Z"
   },
   {
    "duration": 8,
    "start_time": "2021-12-07T07:06:40.392Z"
   },
   {
    "duration": 58,
    "start_time": "2021-12-07T07:06:40.406Z"
   },
   {
    "duration": 25,
    "start_time": "2021-12-07T07:06:40.468Z"
   },
   {
    "duration": 33,
    "start_time": "2021-12-07T07:06:40.495Z"
   },
   {
    "duration": 100,
    "start_time": "2021-12-07T07:06:40.559Z"
   },
   {
    "duration": 122,
    "start_time": "2021-12-07T07:06:40.661Z"
   },
   {
    "duration": 94,
    "start_time": "2021-12-07T07:06:40.786Z"
   },
   {
    "duration": 12,
    "start_time": "2021-12-07T07:06:40.883Z"
   },
   {
    "duration": 6,
    "start_time": "2021-12-07T07:06:40.899Z"
   },
   {
    "duration": 58,
    "start_time": "2021-12-07T07:06:40.908Z"
   },
   {
    "duration": 11,
    "start_time": "2021-12-07T07:06:40.968Z"
   },
   {
    "duration": 17,
    "start_time": "2021-12-07T07:06:40.982Z"
   },
   {
    "duration": 59,
    "start_time": "2021-12-07T07:06:41.002Z"
   },
   {
    "duration": 145,
    "start_time": "2021-12-07T07:06:41.064Z"
   },
   {
    "duration": 31,
    "start_time": "2021-12-07T07:06:41.212Z"
   },
   {
    "duration": 22,
    "start_time": "2021-12-07T07:06:41.261Z"
   },
   {
    "duration": 19,
    "start_time": "2021-12-07T07:06:41.290Z"
   },
   {
    "duration": 57,
    "start_time": "2021-12-07T07:06:41.313Z"
   },
   {
    "duration": 25,
    "start_time": "2021-12-07T07:06:41.373Z"
   },
   {
    "duration": 19,
    "start_time": "2021-12-07T07:06:41.400Z"
   },
   {
    "duration": 43,
    "start_time": "2021-12-07T07:06:41.421Z"
   },
   {
    "duration": 33,
    "start_time": "2021-12-07T07:06:41.466Z"
   },
   {
    "duration": 23,
    "start_time": "2021-12-07T07:06:41.501Z"
   },
   {
    "duration": 35,
    "start_time": "2021-12-07T07:06:41.527Z"
   },
   {
    "duration": 34,
    "start_time": "2021-12-07T07:06:41.564Z"
   },
   {
    "duration": 17,
    "start_time": "2021-12-07T07:06:41.600Z"
   },
   {
    "duration": 49,
    "start_time": "2021-12-07T07:06:41.619Z"
   },
   {
    "duration": 17,
    "start_time": "2021-12-07T07:06:41.670Z"
   },
   {
    "duration": 10,
    "start_time": "2021-12-07T07:06:41.689Z"
   },
   {
    "duration": 5,
    "start_time": "2021-12-07T07:06:41.702Z"
   },
   {
    "duration": 52,
    "start_time": "2021-12-07T07:06:41.709Z"
   },
   {
    "duration": 6,
    "start_time": "2021-12-07T07:06:41.763Z"
   },
   {
    "duration": 703,
    "start_time": "2021-12-07T21:46:02.444Z"
   },
   {
    "duration": 177,
    "start_time": "2021-12-07T21:46:03.149Z"
   },
   {
    "duration": 18,
    "start_time": "2021-12-07T21:46:03.331Z"
   },
   {
    "duration": 39,
    "start_time": "2021-12-07T21:46:03.351Z"
   },
   {
    "duration": 14,
    "start_time": "2021-12-07T21:46:03.392Z"
   },
   {
    "duration": 45,
    "start_time": "2021-12-07T21:46:03.409Z"
   },
   {
    "duration": 24,
    "start_time": "2021-12-07T21:46:03.457Z"
   },
   {
    "duration": 29,
    "start_time": "2021-12-07T21:46:03.483Z"
   },
   {
    "duration": 29,
    "start_time": "2021-12-07T21:46:03.514Z"
   },
   {
    "duration": 51,
    "start_time": "2021-12-07T21:46:03.546Z"
   },
   {
    "duration": 86,
    "start_time": "2021-12-07T21:46:03.599Z"
   },
   {
    "duration": 82,
    "start_time": "2021-12-07T21:46:03.687Z"
   },
   {
    "duration": 80,
    "start_time": "2021-12-07T21:46:03.771Z"
   },
   {
    "duration": 9,
    "start_time": "2021-12-07T21:46:03.863Z"
   },
   {
    "duration": 15,
    "start_time": "2021-12-07T21:46:03.874Z"
   },
   {
    "duration": 42,
    "start_time": "2021-12-07T21:46:03.890Z"
   },
   {
    "duration": 7,
    "start_time": "2021-12-07T21:46:03.935Z"
   },
   {
    "duration": 19,
    "start_time": "2021-12-07T21:46:03.944Z"
   },
   {
    "duration": 18,
    "start_time": "2021-12-07T21:46:03.965Z"
   },
   {
    "duration": 107,
    "start_time": "2021-12-07T21:46:03.985Z"
   },
   {
    "duration": 28,
    "start_time": "2021-12-07T21:46:04.094Z"
   },
   {
    "duration": 17,
    "start_time": "2021-12-07T21:46:04.125Z"
   },
   {
    "duration": 24,
    "start_time": "2021-12-07T21:46:04.162Z"
   },
   {
    "duration": 21,
    "start_time": "2021-12-07T21:46:04.188Z"
   },
   {
    "duration": 22,
    "start_time": "2021-12-07T21:46:04.211Z"
   },
   {
    "duration": 47,
    "start_time": "2021-12-07T21:46:04.236Z"
   },
   {
    "duration": 14,
    "start_time": "2021-12-07T21:46:04.285Z"
   },
   {
    "duration": 40,
    "start_time": "2021-12-07T21:46:04.301Z"
   },
   {
    "duration": 39,
    "start_time": "2021-12-07T21:46:04.343Z"
   },
   {
    "duration": 6,
    "start_time": "2021-12-07T21:46:04.384Z"
   },
   {
    "duration": 66,
    "start_time": "2021-12-07T21:46:04.392Z"
   },
   {
    "duration": 20,
    "start_time": "2021-12-07T21:46:04.460Z"
   },
   {
    "duration": 26,
    "start_time": "2021-12-07T21:46:04.482Z"
   },
   {
    "duration": 15,
    "start_time": "2021-12-07T21:46:04.510Z"
   },
   {
    "duration": 38,
    "start_time": "2021-12-07T21:46:04.527Z"
   },
   {
    "duration": 5,
    "start_time": "2021-12-07T21:46:04.567Z"
   },
   {
    "duration": 10,
    "start_time": "2021-12-07T21:46:04.574Z"
   },
   {
    "duration": 5,
    "start_time": "2021-12-07T21:46:04.586Z"
   },
   {
    "duration": 337,
    "start_time": "2021-12-08T02:16:14.418Z"
   },
   {
    "duration": 753,
    "start_time": "2021-12-08T02:16:38.789Z"
   },
   {
    "duration": 165,
    "start_time": "2021-12-08T02:16:39.545Z"
   },
   {
    "duration": 28,
    "start_time": "2021-12-08T02:16:39.716Z"
   },
   {
    "duration": 34,
    "start_time": "2021-12-08T02:16:39.746Z"
   },
   {
    "duration": 5,
    "start_time": "2021-12-08T02:16:39.782Z"
   },
   {
    "duration": 51,
    "start_time": "2021-12-08T02:16:39.790Z"
   },
   {
    "duration": 8,
    "start_time": "2021-12-08T02:16:39.846Z"
   },
   {
    "duration": 41,
    "start_time": "2021-12-08T02:16:39.858Z"
   },
   {
    "duration": 43,
    "start_time": "2021-12-08T02:16:39.902Z"
   },
   {
    "duration": 39,
    "start_time": "2021-12-08T02:16:39.947Z"
   },
   {
    "duration": 106,
    "start_time": "2021-12-08T02:16:39.989Z"
   },
   {
    "duration": 102,
    "start_time": "2021-12-08T02:16:40.098Z"
   },
   {
    "duration": 86,
    "start_time": "2021-12-08T02:16:40.203Z"
   },
   {
    "duration": 335,
    "start_time": "2021-12-08T02:16:40.291Z"
   },
   {
    "duration": 2793,
    "start_time": "2021-12-08T02:16:37.836Z"
   },
   {
    "duration": 2790,
    "start_time": "2021-12-08T02:16:37.840Z"
   },
   {
    "duration": 2789,
    "start_time": "2021-12-08T02:16:37.843Z"
   },
   {
    "duration": 2756,
    "start_time": "2021-12-08T02:16:37.877Z"
   },
   {
    "duration": 2754,
    "start_time": "2021-12-08T02:16:37.881Z"
   },
   {
    "duration": 2751,
    "start_time": "2021-12-08T02:16:37.885Z"
   },
   {
    "duration": 2749,
    "start_time": "2021-12-08T02:16:37.889Z"
   },
   {
    "duration": 2743,
    "start_time": "2021-12-08T02:16:37.896Z"
   },
   {
    "duration": 2741,
    "start_time": "2021-12-08T02:16:37.900Z"
   },
   {
    "duration": 2739,
    "start_time": "2021-12-08T02:16:37.903Z"
   },
   {
    "duration": 2737,
    "start_time": "2021-12-08T02:16:37.907Z"
   },
   {
    "duration": 2729,
    "start_time": "2021-12-08T02:16:37.916Z"
   },
   {
    "duration": 2723,
    "start_time": "2021-12-08T02:16:37.923Z"
   },
   {
    "duration": 2713,
    "start_time": "2021-12-08T02:16:37.935Z"
   },
   {
    "duration": 2708,
    "start_time": "2021-12-08T02:16:37.941Z"
   },
   {
    "duration": 2699,
    "start_time": "2021-12-08T02:16:37.951Z"
   },
   {
    "duration": 2696,
    "start_time": "2021-12-08T02:16:37.956Z"
   },
   {
    "duration": 2689,
    "start_time": "2021-12-08T02:16:37.964Z"
   },
   {
    "duration": 2687,
    "start_time": "2021-12-08T02:16:37.968Z"
   },
   {
    "duration": 2685,
    "start_time": "2021-12-08T02:16:37.971Z"
   },
   {
    "duration": 2672,
    "start_time": "2021-12-08T02:16:37.985Z"
   },
   {
    "duration": 2671,
    "start_time": "2021-12-08T02:16:37.988Z"
   },
   {
    "duration": 2661,
    "start_time": "2021-12-08T02:16:37.999Z"
   },
   {
    "duration": 2659,
    "start_time": "2021-12-08T02:16:38.002Z"
   },
   {
    "duration": 110,
    "start_time": "2021-12-08T02:17:55.597Z"
   },
   {
    "duration": 103,
    "start_time": "2021-12-08T02:19:28.432Z"
   },
   {
    "duration": 10,
    "start_time": "2021-12-08T02:19:49.042Z"
   },
   {
    "duration": 289,
    "start_time": "2021-12-08T02:20:38.768Z"
   },
   {
    "duration": 67,
    "start_time": "2021-12-08T02:22:45.528Z"
   },
   {
    "duration": 10,
    "start_time": "2021-12-08T02:23:36.753Z"
   },
   {
    "duration": 10,
    "start_time": "2021-12-08T02:25:14.566Z"
   },
   {
    "duration": 107,
    "start_time": "2021-12-08T02:26:24.766Z"
   },
   {
    "duration": 68,
    "start_time": "2021-12-08T02:26:31.003Z"
   },
   {
    "duration": 577,
    "start_time": "2021-12-08T02:35:35.012Z"
   },
   {
    "duration": 282,
    "start_time": "2021-12-08T02:35:49.404Z"
   },
   {
    "duration": 73,
    "start_time": "2021-12-08T02:39:11.987Z"
   },
   {
    "duration": 70,
    "start_time": "2021-12-08T02:39:47.204Z"
   },
   {
    "duration": 77,
    "start_time": "2021-12-08T02:39:59.169Z"
   },
   {
    "duration": 293,
    "start_time": "2021-12-08T02:43:50.344Z"
   },
   {
    "duration": 54,
    "start_time": "2021-12-08T02:50:56.071Z"
   },
   {
    "duration": 68,
    "start_time": "2021-12-08T02:54:40.078Z"
   },
   {
    "duration": 499,
    "start_time": "2021-12-08T02:55:39.970Z"
   },
   {
    "duration": 10,
    "start_time": "2021-12-08T02:55:44.840Z"
   },
   {
    "duration": 72,
    "start_time": "2021-12-08T03:03:02.871Z"
   },
   {
    "duration": 317,
    "start_time": "2021-12-08T03:14:50.960Z"
   },
   {
    "duration": 75,
    "start_time": "2021-12-08T03:15:01.810Z"
   },
   {
    "duration": 273,
    "start_time": "2021-12-08T03:19:08.386Z"
   },
   {
    "duration": 262,
    "start_time": "2021-12-08T03:19:29.044Z"
   },
   {
    "duration": 69,
    "start_time": "2021-12-08T03:19:36.724Z"
   },
   {
    "duration": 747,
    "start_time": "2021-12-08T03:33:02.508Z"
   },
   {
    "duration": 168,
    "start_time": "2021-12-08T03:33:03.257Z"
   },
   {
    "duration": 25,
    "start_time": "2021-12-08T03:33:03.429Z"
   },
   {
    "duration": 32,
    "start_time": "2021-12-08T03:33:03.457Z"
   },
   {
    "duration": 32,
    "start_time": "2021-12-08T03:33:03.491Z"
   },
   {
    "duration": 24,
    "start_time": "2021-12-08T03:33:03.526Z"
   },
   {
    "duration": 10,
    "start_time": "2021-12-08T03:33:03.553Z"
   },
   {
    "duration": 35,
    "start_time": "2021-12-08T03:33:03.566Z"
   },
   {
    "duration": 21,
    "start_time": "2021-12-08T03:33:03.625Z"
   },
   {
    "duration": 30,
    "start_time": "2021-12-08T03:33:03.649Z"
   },
   {
    "duration": 105,
    "start_time": "2021-12-08T03:33:03.682Z"
   },
   {
    "duration": 105,
    "start_time": "2021-12-08T03:33:03.789Z"
   },
   {
    "duration": 82,
    "start_time": "2021-12-08T03:33:03.896Z"
   },
   {
    "duration": 76,
    "start_time": "2021-12-08T03:33:03.981Z"
   },
   {
    "duration": 4,
    "start_time": "2021-12-08T03:33:04.059Z"
   },
   {
    "duration": 23,
    "start_time": "2021-12-08T03:33:04.065Z"
   },
   {
    "duration": 33,
    "start_time": "2021-12-08T03:33:04.090Z"
   },
   {
    "duration": 15,
    "start_time": "2021-12-08T03:33:04.125Z"
   },
   {
    "duration": 14,
    "start_time": "2021-12-08T03:33:04.142Z"
   },
   {
    "duration": 578,
    "start_time": "2021-12-08T03:33:04.158Z"
   },
   {
    "duration": 2755,
    "start_time": "2021-12-08T03:33:01.984Z"
   },
   {
    "duration": 2749,
    "start_time": "2021-12-08T03:33:01.991Z"
   },
   {
    "duration": 2736,
    "start_time": "2021-12-08T03:33:02.005Z"
   },
   {
    "duration": 2727,
    "start_time": "2021-12-08T03:33:02.015Z"
   },
   {
    "duration": 2726,
    "start_time": "2021-12-08T03:33:02.018Z"
   },
   {
    "duration": 2722,
    "start_time": "2021-12-08T03:33:02.023Z"
   },
   {
    "duration": 2713,
    "start_time": "2021-12-08T03:33:02.033Z"
   },
   {
    "duration": 2711,
    "start_time": "2021-12-08T03:33:02.036Z"
   },
   {
    "duration": 2709,
    "start_time": "2021-12-08T03:33:02.040Z"
   },
   {
    "duration": 2700,
    "start_time": "2021-12-08T03:33:02.051Z"
   },
   {
    "duration": 2698,
    "start_time": "2021-12-08T03:33:02.054Z"
   },
   {
    "duration": 2694,
    "start_time": "2021-12-08T03:33:02.059Z"
   },
   {
    "duration": 2688,
    "start_time": "2021-12-08T03:33:02.067Z"
   },
   {
    "duration": 2685,
    "start_time": "2021-12-08T03:33:02.071Z"
   },
   {
    "duration": 2682,
    "start_time": "2021-12-08T03:33:02.076Z"
   },
   {
    "duration": 2675,
    "start_time": "2021-12-08T03:33:02.084Z"
   },
   {
    "duration": 2674,
    "start_time": "2021-12-08T03:33:02.086Z"
   },
   {
    "duration": 2673,
    "start_time": "2021-12-08T03:33:02.089Z"
   },
   {
    "duration": 701,
    "start_time": "2021-12-08T03:34:19.356Z"
   },
   {
    "duration": 174,
    "start_time": "2021-12-08T03:34:20.060Z"
   },
   {
    "duration": 23,
    "start_time": "2021-12-08T03:34:20.237Z"
   },
   {
    "duration": 28,
    "start_time": "2021-12-08T03:34:20.263Z"
   },
   {
    "duration": 29,
    "start_time": "2021-12-08T03:34:20.294Z"
   },
   {
    "duration": 23,
    "start_time": "2021-12-08T03:34:20.326Z"
   },
   {
    "duration": 9,
    "start_time": "2021-12-08T03:34:20.352Z"
   },
   {
    "duration": 40,
    "start_time": "2021-12-08T03:34:20.365Z"
   },
   {
    "duration": 24,
    "start_time": "2021-12-08T03:34:20.423Z"
   },
   {
    "duration": 29,
    "start_time": "2021-12-08T03:34:20.449Z"
   },
   {
    "duration": 104,
    "start_time": "2021-12-08T03:34:20.480Z"
   },
   {
    "duration": 96,
    "start_time": "2021-12-08T03:34:20.586Z"
   },
   {
    "duration": 82,
    "start_time": "2021-12-08T03:34:20.684Z"
   },
   {
    "duration": 77,
    "start_time": "2021-12-08T03:34:20.768Z"
   },
   {
    "duration": 4,
    "start_time": "2021-12-08T03:34:20.848Z"
   },
   {
    "duration": 44,
    "start_time": "2021-12-08T03:34:20.854Z"
   },
   {
    "duration": 18,
    "start_time": "2021-12-08T03:34:20.900Z"
   },
   {
    "duration": 28,
    "start_time": "2021-12-08T03:34:20.920Z"
   },
   {
    "duration": 22,
    "start_time": "2021-12-08T03:34:20.950Z"
   },
   {
    "duration": 1053,
    "start_time": "2021-12-08T03:34:20.974Z"
   },
   {
    "duration": 2690,
    "start_time": "2021-12-08T03:34:19.340Z"
   },
   {
    "duration": 2676,
    "start_time": "2021-12-08T03:34:19.356Z"
   },
   {
    "duration": 2675,
    "start_time": "2021-12-08T03:34:19.358Z"
   },
   {
    "duration": 2674,
    "start_time": "2021-12-08T03:34:19.361Z"
   },
   {
    "duration": 2672,
    "start_time": "2021-12-08T03:34:19.364Z"
   },
   {
    "duration": 2669,
    "start_time": "2021-12-08T03:34:19.368Z"
   },
   {
    "duration": 2668,
    "start_time": "2021-12-08T03:34:19.371Z"
   },
   {
    "duration": 2666,
    "start_time": "2021-12-08T03:34:19.374Z"
   },
   {
    "duration": 2665,
    "start_time": "2021-12-08T03:34:19.376Z"
   },
   {
    "duration": 2665,
    "start_time": "2021-12-08T03:34:19.378Z"
   },
   {
    "duration": 2661,
    "start_time": "2021-12-08T03:34:19.383Z"
   },
   {
    "duration": 2659,
    "start_time": "2021-12-08T03:34:19.386Z"
   },
   {
    "duration": 2657,
    "start_time": "2021-12-08T03:34:19.389Z"
   },
   {
    "duration": 2656,
    "start_time": "2021-12-08T03:34:19.392Z"
   },
   {
    "duration": 2655,
    "start_time": "2021-12-08T03:34:19.394Z"
   },
   {
    "duration": 2654,
    "start_time": "2021-12-08T03:34:19.397Z"
   },
   {
    "duration": 2616,
    "start_time": "2021-12-08T03:34:19.436Z"
   },
   {
    "duration": 2613,
    "start_time": "2021-12-08T03:34:19.440Z"
   },
   {
    "duration": 689,
    "start_time": "2021-12-08T03:36:49.243Z"
   },
   {
    "duration": 179,
    "start_time": "2021-12-08T03:36:49.935Z"
   },
   {
    "duration": 29,
    "start_time": "2021-12-08T03:36:50.118Z"
   },
   {
    "duration": 32,
    "start_time": "2021-12-08T03:36:50.150Z"
   },
   {
    "duration": 40,
    "start_time": "2021-12-08T03:36:50.184Z"
   },
   {
    "duration": 22,
    "start_time": "2021-12-08T03:36:50.227Z"
   },
   {
    "duration": 8,
    "start_time": "2021-12-08T03:36:50.252Z"
   },
   {
    "duration": 61,
    "start_time": "2021-12-08T03:36:50.265Z"
   },
   {
    "duration": 22,
    "start_time": "2021-12-08T03:36:50.329Z"
   },
   {
    "duration": 26,
    "start_time": "2021-12-08T03:36:50.353Z"
   },
   {
    "duration": 100,
    "start_time": "2021-12-08T03:36:50.382Z"
   },
   {
    "duration": 97,
    "start_time": "2021-12-08T03:36:50.484Z"
   },
   {
    "duration": 72,
    "start_time": "2021-12-08T03:36:50.583Z"
   },
   {
    "duration": 73,
    "start_time": "2021-12-08T03:36:50.657Z"
   },
   {
    "duration": 4,
    "start_time": "2021-12-08T03:36:50.732Z"
   },
   {
    "duration": 22,
    "start_time": "2021-12-08T03:36:50.739Z"
   },
   {
    "duration": 9,
    "start_time": "2021-12-08T03:36:50.763Z"
   },
   {
    "duration": 14,
    "start_time": "2021-12-08T03:36:50.774Z"
   },
   {
    "duration": 42,
    "start_time": "2021-12-08T03:36:50.791Z"
   },
   {
    "duration": 521,
    "start_time": "2021-12-08T03:36:50.835Z"
   },
   {
    "duration": 2737,
    "start_time": "2021-12-08T03:36:48.622Z"
   },
   {
    "duration": 2731,
    "start_time": "2021-12-08T03:36:48.629Z"
   },
   {
    "duration": 2718,
    "start_time": "2021-12-08T03:36:48.644Z"
   },
   {
    "duration": 2711,
    "start_time": "2021-12-08T03:36:48.652Z"
   },
   {
    "duration": 2708,
    "start_time": "2021-12-08T03:36:48.657Z"
   },
   {
    "duration": 2702,
    "start_time": "2021-12-08T03:36:48.664Z"
   },
   {
    "duration": 2699,
    "start_time": "2021-12-08T03:36:48.669Z"
   },
   {
    "duration": 2696,
    "start_time": "2021-12-08T03:36:48.673Z"
   },
   {
    "duration": 2695,
    "start_time": "2021-12-08T03:36:48.676Z"
   },
   {
    "duration": 2692,
    "start_time": "2021-12-08T03:36:48.680Z"
   },
   {
    "duration": 2690,
    "start_time": "2021-12-08T03:36:48.684Z"
   },
   {
    "duration": 2683,
    "start_time": "2021-12-08T03:36:48.692Z"
   },
   {
    "duration": 2682,
    "start_time": "2021-12-08T03:36:48.694Z"
   },
   {
    "duration": 2680,
    "start_time": "2021-12-08T03:36:48.698Z"
   },
   {
    "duration": 2675,
    "start_time": "2021-12-08T03:36:48.705Z"
   },
   {
    "duration": 2673,
    "start_time": "2021-12-08T03:36:48.708Z"
   },
   {
    "duration": 2671,
    "start_time": "2021-12-08T03:36:48.711Z"
   },
   {
    "duration": 2669,
    "start_time": "2021-12-08T03:36:48.715Z"
   },
   {
    "duration": 747,
    "start_time": "2021-12-08T03:37:25.913Z"
   },
   {
    "duration": 173,
    "start_time": "2021-12-08T03:37:26.662Z"
   },
   {
    "duration": 26,
    "start_time": "2021-12-08T03:37:26.838Z"
   },
   {
    "duration": 36,
    "start_time": "2021-12-08T03:37:26.867Z"
   },
   {
    "duration": 22,
    "start_time": "2021-12-08T03:37:26.906Z"
   },
   {
    "duration": 34,
    "start_time": "2021-12-08T03:37:26.931Z"
   },
   {
    "duration": 5,
    "start_time": "2021-12-08T03:37:26.968Z"
   },
   {
    "duration": 54,
    "start_time": "2021-12-08T03:37:26.977Z"
   },
   {
    "duration": 21,
    "start_time": "2021-12-08T03:37:27.034Z"
   },
   {
    "duration": 27,
    "start_time": "2021-12-08T03:37:27.058Z"
   },
   {
    "duration": 107,
    "start_time": "2021-12-08T03:37:27.088Z"
   },
   {
    "duration": 96,
    "start_time": "2021-12-08T03:37:27.198Z"
   },
   {
    "duration": 83,
    "start_time": "2021-12-08T03:37:27.296Z"
   },
   {
    "duration": 77,
    "start_time": "2021-12-08T03:37:27.381Z"
   },
   {
    "duration": 5,
    "start_time": "2021-12-08T03:37:27.460Z"
   },
   {
    "duration": 29,
    "start_time": "2021-12-08T03:37:27.468Z"
   },
   {
    "duration": 27,
    "start_time": "2021-12-08T03:37:27.499Z"
   },
   {
    "duration": 16,
    "start_time": "2021-12-08T03:37:27.528Z"
   },
   {
    "duration": 16,
    "start_time": "2021-12-08T03:37:27.547Z"
   },
   {
    "duration": 7239,
    "start_time": "2021-12-08T03:37:27.566Z"
   },
   {
    "duration": 2726,
    "start_time": "2021-12-08T03:37:32.082Z"
   },
   {
    "duration": 2718,
    "start_time": "2021-12-08T03:37:32.092Z"
   },
   {
    "duration": 2710,
    "start_time": "2021-12-08T03:37:32.101Z"
   },
   {
    "duration": 2701,
    "start_time": "2021-12-08T03:37:32.111Z"
   },
   {
    "duration": 2700,
    "start_time": "2021-12-08T03:37:32.114Z"
   },
   {
    "duration": 2692,
    "start_time": "2021-12-08T03:37:32.123Z"
   },
   {
    "duration": 2690,
    "start_time": "2021-12-08T03:37:32.127Z"
   },
   {
    "duration": 2689,
    "start_time": "2021-12-08T03:37:32.129Z"
   },
   {
    "duration": 2680,
    "start_time": "2021-12-08T03:37:32.140Z"
   },
   {
    "duration": 2679,
    "start_time": "2021-12-08T03:37:32.142Z"
   },
   {
    "duration": 2678,
    "start_time": "2021-12-08T03:37:32.145Z"
   },
   {
    "duration": 2677,
    "start_time": "2021-12-08T03:37:32.147Z"
   },
   {
    "duration": 2669,
    "start_time": "2021-12-08T03:37:32.157Z"
   },
   {
    "duration": 2666,
    "start_time": "2021-12-08T03:37:32.161Z"
   },
   {
    "duration": 2665,
    "start_time": "2021-12-08T03:37:32.163Z"
   },
   {
    "duration": 2663,
    "start_time": "2021-12-08T03:37:32.167Z"
   },
   {
    "duration": 2655,
    "start_time": "2021-12-08T03:37:32.176Z"
   },
   {
    "duration": 2653,
    "start_time": "2021-12-08T03:37:32.179Z"
   },
   {
    "duration": 1238,
    "start_time": "2021-12-08T03:38:42.800Z"
   },
   {
    "duration": 651,
    "start_time": "2021-12-08T03:38:51.165Z"
   },
   {
    "duration": 162,
    "start_time": "2021-12-08T03:38:51.822Z"
   },
   {
    "duration": 24,
    "start_time": "2021-12-08T03:38:51.987Z"
   },
   {
    "duration": 34,
    "start_time": "2021-12-08T03:38:52.023Z"
   },
   {
    "duration": 5,
    "start_time": "2021-12-08T03:38:52.060Z"
   },
   {
    "duration": 32,
    "start_time": "2021-12-08T03:38:52.067Z"
   },
   {
    "duration": 23,
    "start_time": "2021-12-08T03:38:52.101Z"
   },
   {
    "duration": 28,
    "start_time": "2021-12-08T03:38:52.128Z"
   },
   {
    "duration": 20,
    "start_time": "2021-12-08T03:38:52.159Z"
   },
   {
    "duration": 54,
    "start_time": "2021-12-08T03:38:52.181Z"
   },
   {
    "duration": 86,
    "start_time": "2021-12-08T03:38:52.238Z"
   },
   {
    "duration": 97,
    "start_time": "2021-12-08T03:38:52.326Z"
   },
   {
    "duration": 70,
    "start_time": "2021-12-08T03:38:52.425Z"
   },
   {
    "duration": 81,
    "start_time": "2021-12-08T03:38:52.497Z"
   },
   {
    "duration": 4,
    "start_time": "2021-12-08T03:38:52.581Z"
   },
   {
    "duration": 40,
    "start_time": "2021-12-08T03:38:52.587Z"
   },
   {
    "duration": 9,
    "start_time": "2021-12-08T03:38:52.629Z"
   },
   {
    "duration": 15,
    "start_time": "2021-12-08T03:38:52.640Z"
   },
   {
    "duration": 14,
    "start_time": "2021-12-08T03:38:52.657Z"
   },
   {
    "duration": 366,
    "start_time": "2021-12-08T03:38:52.674Z"
   },
   {
    "duration": 2785,
    "start_time": "2021-12-08T03:38:50.258Z"
   },
   {
    "duration": 2782,
    "start_time": "2021-12-08T03:38:50.263Z"
   },
   {
    "duration": 2778,
    "start_time": "2021-12-08T03:38:50.268Z"
   },
   {
    "duration": 2777,
    "start_time": "2021-12-08T03:38:50.271Z"
   },
   {
    "duration": 2744,
    "start_time": "2021-12-08T03:38:50.305Z"
   },
   {
    "duration": 2740,
    "start_time": "2021-12-08T03:38:50.310Z"
   },
   {
    "duration": 2736,
    "start_time": "2021-12-08T03:38:50.316Z"
   },
   {
    "duration": 2734,
    "start_time": "2021-12-08T03:38:50.319Z"
   },
   {
    "duration": 2734,
    "start_time": "2021-12-08T03:38:50.321Z"
   },
   {
    "duration": 2731,
    "start_time": "2021-12-08T03:38:50.325Z"
   },
   {
    "duration": 2730,
    "start_time": "2021-12-08T03:38:50.328Z"
   },
   {
    "duration": 2730,
    "start_time": "2021-12-08T03:38:50.330Z"
   },
   {
    "duration": 2730,
    "start_time": "2021-12-08T03:38:50.332Z"
   },
   {
    "duration": 2728,
    "start_time": "2021-12-08T03:38:50.335Z"
   },
   {
    "duration": 2727,
    "start_time": "2021-12-08T03:38:50.338Z"
   },
   {
    "duration": 2726,
    "start_time": "2021-12-08T03:38:50.341Z"
   },
   {
    "duration": 2722,
    "start_time": "2021-12-08T03:38:50.346Z"
   },
   {
    "duration": 2721,
    "start_time": "2021-12-08T03:38:50.349Z"
   },
   {
    "duration": 8662,
    "start_time": "2021-12-08T03:39:19.304Z"
   },
   {
    "duration": 664,
    "start_time": "2021-12-08T03:46:40.759Z"
   },
   {
    "duration": 160,
    "start_time": "2021-12-08T03:46:41.425Z"
   },
   {
    "duration": 34,
    "start_time": "2021-12-08T03:46:41.589Z"
   },
   {
    "duration": 30,
    "start_time": "2021-12-08T03:46:41.626Z"
   },
   {
    "duration": 6,
    "start_time": "2021-12-08T03:46:41.659Z"
   },
   {
    "duration": 24,
    "start_time": "2021-12-08T03:46:41.668Z"
   },
   {
    "duration": 5,
    "start_time": "2021-12-08T03:46:41.723Z"
   },
   {
    "duration": 28,
    "start_time": "2021-12-08T03:46:41.732Z"
   },
   {
    "duration": 20,
    "start_time": "2021-12-08T03:46:41.763Z"
   },
   {
    "duration": 56,
    "start_time": "2021-12-08T03:46:41.785Z"
   },
   {
    "duration": 95,
    "start_time": "2021-12-08T03:46:41.843Z"
   },
   {
    "duration": 104,
    "start_time": "2021-12-08T03:46:41.940Z"
   },
   {
    "duration": 80,
    "start_time": "2021-12-08T03:46:42.046Z"
   },
   {
    "duration": 68,
    "start_time": "2021-12-08T03:46:42.129Z"
   },
   {
    "duration": 24,
    "start_time": "2021-12-08T03:46:42.199Z"
   },
   {
    "duration": 25,
    "start_time": "2021-12-08T03:46:42.226Z"
   },
   {
    "duration": 9,
    "start_time": "2021-12-08T03:46:42.253Z"
   },
   {
    "duration": 15,
    "start_time": "2021-12-08T03:46:42.265Z"
   },
   {
    "duration": 46,
    "start_time": "2021-12-08T03:46:42.282Z"
   },
   {
    "duration": 6,
    "start_time": "2021-12-08T03:46:42.330Z"
   },
   {
    "duration": 746,
    "start_time": "2021-12-08T03:54:10.703Z"
   },
   {
    "duration": 186,
    "start_time": "2021-12-08T03:54:11.451Z"
   },
   {
    "duration": 25,
    "start_time": "2021-12-08T03:54:11.639Z"
   },
   {
    "duration": 33,
    "start_time": "2021-12-08T03:54:11.666Z"
   },
   {
    "duration": 23,
    "start_time": "2021-12-08T03:54:11.702Z"
   },
   {
    "duration": 27,
    "start_time": "2021-12-08T03:54:11.728Z"
   },
   {
    "duration": 10,
    "start_time": "2021-12-08T03:54:11.757Z"
   },
   {
    "duration": 60,
    "start_time": "2021-12-08T03:54:11.771Z"
   },
   {
    "duration": 26,
    "start_time": "2021-12-08T03:54:11.835Z"
   },
   {
    "duration": 30,
    "start_time": "2021-12-08T03:54:11.863Z"
   },
   {
    "duration": 102,
    "start_time": "2021-12-08T03:54:11.895Z"
   },
   {
    "duration": 100,
    "start_time": "2021-12-08T03:54:12.000Z"
   },
   {
    "duration": 87,
    "start_time": "2021-12-08T03:54:12.102Z"
   },
   {
    "duration": 86,
    "start_time": "2021-12-08T03:54:12.192Z"
   },
   {
    "duration": 4,
    "start_time": "2021-12-08T03:54:12.280Z"
   },
   {
    "duration": 40,
    "start_time": "2021-12-08T03:54:12.287Z"
   },
   {
    "duration": 10,
    "start_time": "2021-12-08T03:54:12.330Z"
   },
   {
    "duration": 18,
    "start_time": "2021-12-08T03:54:12.342Z"
   },
   {
    "duration": 14,
    "start_time": "2021-12-08T03:54:12.362Z"
   },
   {
    "duration": 124,
    "start_time": "2021-12-08T03:54:12.378Z"
   },
   {
    "duration": 30,
    "start_time": "2021-12-08T03:54:12.505Z"
   },
   {
    "duration": 19,
    "start_time": "2021-12-08T03:54:12.537Z"
   },
   {
    "duration": 18,
    "start_time": "2021-12-08T03:54:12.561Z"
   },
   {
    "duration": 56,
    "start_time": "2021-12-08T03:54:12.582Z"
   },
   {
    "duration": 20,
    "start_time": "2021-12-08T03:54:12.640Z"
   },
   {
    "duration": 18,
    "start_time": "2021-12-08T03:54:12.662Z"
   },
   {
    "duration": 42,
    "start_time": "2021-12-08T03:54:12.682Z"
   },
   {
    "duration": 25,
    "start_time": "2021-12-08T03:54:12.726Z"
   },
   {
    "duration": 21,
    "start_time": "2021-12-08T03:54:12.753Z"
   },
   {
    "duration": 6,
    "start_time": "2021-12-08T03:54:12.776Z"
   },
   {
    "duration": 61,
    "start_time": "2021-12-08T03:54:12.784Z"
   },
   {
    "duration": 16,
    "start_time": "2021-12-08T03:54:12.847Z"
   },
   {
    "duration": 21,
    "start_time": "2021-12-08T03:54:12.865Z"
   },
   {
    "duration": 49,
    "start_time": "2021-12-08T03:54:12.889Z"
   },
   {
    "duration": 11,
    "start_time": "2021-12-08T03:54:12.941Z"
   },
   {
    "duration": 7,
    "start_time": "2021-12-08T03:54:12.954Z"
   },
   {
    "duration": 10,
    "start_time": "2021-12-08T03:54:12.963Z"
   },
   {
    "duration": 6,
    "start_time": "2021-12-08T03:54:12.975Z"
   },
   {
    "duration": 701,
    "start_time": "2021-12-08T03:56:34.554Z"
   },
   {
    "duration": 166,
    "start_time": "2021-12-08T03:56:35.258Z"
   },
   {
    "duration": 25,
    "start_time": "2021-12-08T03:56:35.427Z"
   },
   {
    "duration": 29,
    "start_time": "2021-12-08T03:56:35.455Z"
   },
   {
    "duration": 5,
    "start_time": "2021-12-08T03:56:35.487Z"
   },
   {
    "duration": 48,
    "start_time": "2021-12-08T03:56:35.494Z"
   },
   {
    "duration": 9,
    "start_time": "2021-12-08T03:56:35.545Z"
   },
   {
    "duration": 33,
    "start_time": "2021-12-08T03:56:35.557Z"
   },
   {
    "duration": 46,
    "start_time": "2021-12-08T03:56:35.593Z"
   },
   {
    "duration": 27,
    "start_time": "2021-12-08T03:56:35.641Z"
   },
   {
    "duration": 103,
    "start_time": "2021-12-08T03:56:35.670Z"
   },
   {
    "duration": 97,
    "start_time": "2021-12-08T03:56:35.775Z"
   },
   {
    "duration": 83,
    "start_time": "2021-12-08T03:56:35.874Z"
   },
   {
    "duration": 82,
    "start_time": "2021-12-08T03:56:35.960Z"
   },
   {
    "duration": 5,
    "start_time": "2021-12-08T03:56:36.044Z"
   },
   {
    "duration": 24,
    "start_time": "2021-12-08T03:56:36.051Z"
   },
   {
    "duration": 9,
    "start_time": "2021-12-08T03:56:36.077Z"
   },
   {
    "duration": 46,
    "start_time": "2021-12-08T03:56:36.088Z"
   },
   {
    "duration": 14,
    "start_time": "2021-12-08T03:56:36.136Z"
   },
   {
    "duration": 108,
    "start_time": "2021-12-08T03:56:36.152Z"
   },
   {
    "duration": 21,
    "start_time": "2021-12-08T03:56:36.262Z"
   },
   {
    "duration": 19,
    "start_time": "2021-12-08T03:56:36.285Z"
   },
   {
    "duration": 19,
    "start_time": "2021-12-08T03:56:36.326Z"
   },
   {
    "duration": 18,
    "start_time": "2021-12-08T03:56:36.349Z"
   },
   {
    "duration": 58,
    "start_time": "2021-12-08T03:56:36.370Z"
   },
   {
    "duration": 19,
    "start_time": "2021-12-08T03:56:36.430Z"
   },
   {
    "duration": 14,
    "start_time": "2021-12-08T03:56:36.451Z"
   },
   {
    "duration": 57,
    "start_time": "2021-12-08T03:56:36.467Z"
   },
   {
    "duration": 22,
    "start_time": "2021-12-08T03:56:36.526Z"
   },
   {
    "duration": 4,
    "start_time": "2021-12-08T03:56:36.551Z"
   },
   {
    "duration": 26,
    "start_time": "2021-12-08T03:56:36.558Z"
   },
   {
    "duration": 43,
    "start_time": "2021-12-08T03:56:36.586Z"
   },
   {
    "duration": 21,
    "start_time": "2021-12-08T03:56:36.631Z"
   },
   {
    "duration": 15,
    "start_time": "2021-12-08T03:56:36.654Z"
   },
   {
    "duration": 10,
    "start_time": "2021-12-08T03:56:36.671Z"
   },
   {
    "duration": 39,
    "start_time": "2021-12-08T03:56:36.683Z"
   },
   {
    "duration": 8,
    "start_time": "2021-12-08T03:56:36.724Z"
   },
   {
    "duration": 8,
    "start_time": "2021-12-08T03:56:36.734Z"
   },
   {
    "duration": 776,
    "start_time": "2021-12-08T04:16:18.098Z"
   },
   {
    "duration": 342,
    "start_time": "2021-12-08T04:16:42.280Z"
   },
   {
    "duration": 54,
    "start_time": "2021-12-08T04:18:38.322Z"
   },
   {
    "duration": 58,
    "start_time": "2021-12-08T04:19:13.211Z"
   },
   {
    "duration": 57,
    "start_time": "2021-12-08T04:19:46.176Z"
   },
   {
    "duration": 299,
    "start_time": "2021-12-08T04:20:19.476Z"
   },
   {
    "duration": 55,
    "start_time": "2021-12-08T04:20:53.104Z"
   },
   {
    "duration": 9,
    "start_time": "2021-12-08T04:21:18.862Z"
   },
   {
    "duration": 784,
    "start_time": "2021-12-08T04:22:15.589Z"
   },
   {
    "duration": 178,
    "start_time": "2021-12-08T04:22:16.375Z"
   },
   {
    "duration": 24,
    "start_time": "2021-12-08T04:22:16.556Z"
   },
   {
    "duration": 54,
    "start_time": "2021-12-08T04:22:16.583Z"
   },
   {
    "duration": 19,
    "start_time": "2021-12-08T04:22:16.639Z"
   },
   {
    "duration": 54,
    "start_time": "2021-12-08T04:22:16.660Z"
   },
   {
    "duration": 22,
    "start_time": "2021-12-08T04:22:16.716Z"
   },
   {
    "duration": 61,
    "start_time": "2021-12-08T04:22:16.740Z"
   },
   {
    "duration": 40,
    "start_time": "2021-12-08T04:22:16.805Z"
   },
   {
    "duration": 41,
    "start_time": "2021-12-08T04:22:16.848Z"
   },
   {
    "duration": 111,
    "start_time": "2021-12-08T04:22:16.891Z"
   },
   {
    "duration": 96,
    "start_time": "2021-12-08T04:22:17.004Z"
   },
   {
    "duration": 85,
    "start_time": "2021-12-08T04:22:17.103Z"
   },
   {
    "duration": 72,
    "start_time": "2021-12-08T04:22:17.191Z"
   },
   {
    "duration": 10,
    "start_time": "2021-12-08T04:22:17.266Z"
   },
   {
    "duration": 55,
    "start_time": "2021-12-08T04:22:17.278Z"
   },
   {
    "duration": 35,
    "start_time": "2021-12-08T04:22:17.335Z"
   },
   {
    "duration": 39,
    "start_time": "2021-12-08T04:22:17.373Z"
   },
   {
    "duration": 18,
    "start_time": "2021-12-08T04:22:17.415Z"
   },
   {
    "duration": 108,
    "start_time": "2021-12-08T04:22:17.436Z"
   },
   {
    "duration": 23,
    "start_time": "2021-12-08T04:22:17.546Z"
   },
   {
    "duration": 23,
    "start_time": "2021-12-08T04:22:17.572Z"
   },
   {
    "duration": 20,
    "start_time": "2021-12-08T04:22:17.622Z"
   },
   {
    "duration": 21,
    "start_time": "2021-12-08T04:22:17.645Z"
   },
   {
    "duration": 55,
    "start_time": "2021-12-08T04:22:17.669Z"
   },
   {
    "duration": 32,
    "start_time": "2021-12-08T04:22:17.726Z"
   },
   {
    "duration": 12,
    "start_time": "2021-12-08T04:22:17.763Z"
   },
   {
    "duration": 61,
    "start_time": "2021-12-08T04:22:17.778Z"
   },
   {
    "duration": 21,
    "start_time": "2021-12-08T04:22:17.841Z"
   },
   {
    "duration": 15,
    "start_time": "2021-12-08T04:22:17.865Z"
   },
   {
    "duration": 58,
    "start_time": "2021-12-08T04:22:17.882Z"
   },
   {
    "duration": 21,
    "start_time": "2021-12-08T04:22:17.942Z"
   },
   {
    "duration": 25,
    "start_time": "2021-12-08T04:22:17.965Z"
   },
   {
    "duration": 43,
    "start_time": "2021-12-08T04:22:17.992Z"
   },
   {
    "duration": 11,
    "start_time": "2021-12-08T04:22:18.038Z"
   },
   {
    "duration": 16,
    "start_time": "2021-12-08T04:22:18.051Z"
   },
   {
    "duration": 49,
    "start_time": "2021-12-08T04:22:18.069Z"
   },
   {
    "duration": 18,
    "start_time": "2021-12-08T04:22:18.120Z"
   },
   {
    "duration": 686,
    "start_time": "2021-12-08T04:24:25.346Z"
   },
   {
    "duration": 160,
    "start_time": "2021-12-08T04:24:26.035Z"
   },
   {
    "duration": 32,
    "start_time": "2021-12-08T04:24:26.198Z"
   },
   {
    "duration": 32,
    "start_time": "2021-12-08T04:24:26.232Z"
   },
   {
    "duration": 6,
    "start_time": "2021-12-08T04:24:26.268Z"
   },
   {
    "duration": 64,
    "start_time": "2021-12-08T04:24:26.278Z"
   },
   {
    "duration": 6,
    "start_time": "2021-12-08T04:24:26.345Z"
   },
   {
    "duration": 73,
    "start_time": "2021-12-08T04:24:26.357Z"
   },
   {
    "duration": 23,
    "start_time": "2021-12-08T04:24:26.435Z"
   },
   {
    "duration": 26,
    "start_time": "2021-12-08T04:24:26.460Z"
   },
   {
    "duration": 113,
    "start_time": "2021-12-08T04:24:26.488Z"
   },
   {
    "duration": 82,
    "start_time": "2021-12-08T04:24:26.623Z"
   },
   {
    "duration": 78,
    "start_time": "2021-12-08T04:24:26.707Z"
   },
   {
    "duration": 67,
    "start_time": "2021-12-08T04:24:26.787Z"
   },
   {
    "duration": 5,
    "start_time": "2021-12-08T04:24:26.856Z"
   },
   {
    "duration": 22,
    "start_time": "2021-12-08T04:24:26.863Z"
   },
   {
    "duration": 84,
    "start_time": "2021-12-08T04:24:26.887Z"
   },
   {
    "duration": 17,
    "start_time": "2021-12-08T04:24:26.973Z"
   },
   {
    "duration": 46,
    "start_time": "2021-12-08T04:24:26.992Z"
   },
   {
    "duration": 107,
    "start_time": "2021-12-08T04:24:27.041Z"
   },
   {
    "duration": 19,
    "start_time": "2021-12-08T04:24:27.151Z"
   },
   {
    "duration": 17,
    "start_time": "2021-12-08T04:24:27.173Z"
   },
   {
    "duration": 20,
    "start_time": "2021-12-08T04:24:27.223Z"
   },
   {
    "duration": 19,
    "start_time": "2021-12-08T04:24:27.246Z"
   },
   {
    "duration": 60,
    "start_time": "2021-12-08T04:24:27.267Z"
   },
   {
    "duration": 23,
    "start_time": "2021-12-08T04:24:27.329Z"
   },
   {
    "duration": 14,
    "start_time": "2021-12-08T04:24:27.355Z"
   },
   {
    "duration": 73,
    "start_time": "2021-12-08T04:24:27.372Z"
   },
   {
    "duration": 23,
    "start_time": "2021-12-08T04:24:27.449Z"
   },
   {
    "duration": 6,
    "start_time": "2021-12-08T04:24:27.474Z"
   },
   {
    "duration": 59,
    "start_time": "2021-12-08T04:24:27.482Z"
   },
   {
    "duration": 16,
    "start_time": "2021-12-08T04:24:27.543Z"
   },
   {
    "duration": 19,
    "start_time": "2021-12-08T04:24:27.562Z"
   },
   {
    "duration": 52,
    "start_time": "2021-12-08T04:24:27.584Z"
   },
   {
    "duration": 10,
    "start_time": "2021-12-08T04:24:27.638Z"
   },
   {
    "duration": 6,
    "start_time": "2021-12-08T04:24:27.650Z"
   },
   {
    "duration": 9,
    "start_time": "2021-12-08T04:24:27.658Z"
   },
   {
    "duration": 6,
    "start_time": "2021-12-08T04:24:27.669Z"
   },
   {
    "duration": 711,
    "start_time": "2021-12-08T04:26:14.833Z"
   },
   {
    "duration": 181,
    "start_time": "2021-12-08T04:26:15.548Z"
   },
   {
    "duration": 28,
    "start_time": "2021-12-08T04:26:15.733Z"
   },
   {
    "duration": 63,
    "start_time": "2021-12-08T04:26:15.765Z"
   },
   {
    "duration": 7,
    "start_time": "2021-12-08T04:26:15.831Z"
   },
   {
    "duration": 27,
    "start_time": "2021-12-08T04:26:15.841Z"
   },
   {
    "duration": 54,
    "start_time": "2021-12-08T04:26:15.871Z"
   },
   {
    "duration": 31,
    "start_time": "2021-12-08T04:26:15.931Z"
   },
   {
    "duration": 60,
    "start_time": "2021-12-08T04:26:15.967Z"
   },
   {
    "duration": 32,
    "start_time": "2021-12-08T04:26:16.030Z"
   },
   {
    "duration": 120,
    "start_time": "2021-12-08T04:26:16.065Z"
   },
   {
    "duration": 101,
    "start_time": "2021-12-08T04:26:16.189Z"
   },
   {
    "duration": 95,
    "start_time": "2021-12-08T04:26:16.293Z"
   },
   {
    "duration": 75,
    "start_time": "2021-12-08T04:26:16.391Z"
   },
   {
    "duration": 6,
    "start_time": "2021-12-08T04:26:16.469Z"
   },
   {
    "duration": 58,
    "start_time": "2021-12-08T04:26:16.478Z"
   },
   {
    "duration": 61,
    "start_time": "2021-12-08T04:26:16.539Z"
   },
   {
    "duration": 15,
    "start_time": "2021-12-08T04:26:16.622Z"
   },
   {
    "duration": 13,
    "start_time": "2021-12-08T04:26:16.639Z"
   },
   {
    "duration": 124,
    "start_time": "2021-12-08T04:26:16.654Z"
   },
   {
    "duration": 19,
    "start_time": "2021-12-08T04:26:16.781Z"
   },
   {
    "duration": 31,
    "start_time": "2021-12-08T04:26:16.802Z"
   },
   {
    "duration": 18,
    "start_time": "2021-12-08T04:26:16.838Z"
   },
   {
    "duration": 18,
    "start_time": "2021-12-08T04:26:16.859Z"
   },
   {
    "duration": 60,
    "start_time": "2021-12-08T04:26:16.880Z"
   },
   {
    "duration": 19,
    "start_time": "2021-12-08T04:26:16.943Z"
   },
   {
    "duration": 11,
    "start_time": "2021-12-08T04:26:16.964Z"
   },
   {
    "duration": 64,
    "start_time": "2021-12-08T04:26:16.978Z"
   },
   {
    "duration": 22,
    "start_time": "2021-12-08T04:26:17.044Z"
   },
   {
    "duration": 5,
    "start_time": "2021-12-08T04:26:17.068Z"
   },
   {
    "duration": 61,
    "start_time": "2021-12-08T04:26:17.076Z"
   },
   {
    "duration": 16,
    "start_time": "2021-12-08T04:26:17.139Z"
   },
   {
    "duration": 21,
    "start_time": "2021-12-08T04:26:17.157Z"
   },
   {
    "duration": 55,
    "start_time": "2021-12-08T04:26:17.180Z"
   },
   {
    "duration": 11,
    "start_time": "2021-12-08T04:26:17.237Z"
   },
   {
    "duration": 6,
    "start_time": "2021-12-08T04:26:17.250Z"
   },
   {
    "duration": 9,
    "start_time": "2021-12-08T04:26:17.259Z"
   },
   {
    "duration": 53,
    "start_time": "2021-12-08T04:26:17.271Z"
   },
   {
    "duration": 706,
    "start_time": "2021-12-08T04:26:53.403Z"
   },
   {
    "duration": 167,
    "start_time": "2021-12-08T04:26:54.111Z"
   },
   {
    "duration": 25,
    "start_time": "2021-12-08T04:26:54.281Z"
   },
   {
    "duration": 45,
    "start_time": "2021-12-08T04:26:54.308Z"
   },
   {
    "duration": 5,
    "start_time": "2021-12-08T04:26:54.355Z"
   },
   {
    "duration": 25,
    "start_time": "2021-12-08T04:26:54.362Z"
   },
   {
    "duration": 6,
    "start_time": "2021-12-08T04:26:54.423Z"
   },
   {
    "duration": 29,
    "start_time": "2021-12-08T04:26:54.432Z"
   },
   {
    "duration": 20,
    "start_time": "2021-12-08T04:26:54.465Z"
   },
   {
    "duration": 28,
    "start_time": "2021-12-08T04:26:54.523Z"
   },
   {
    "duration": 100,
    "start_time": "2021-12-08T04:26:54.554Z"
   },
   {
    "duration": 96,
    "start_time": "2021-12-08T04:26:54.656Z"
   },
   {
    "duration": 83,
    "start_time": "2021-12-08T04:26:54.755Z"
   },
   {
    "duration": 53,
    "start_time": "2021-12-08T04:26:54.840Z"
   },
   {
    "duration": 4,
    "start_time": "2021-12-08T04:26:54.896Z"
   },
   {
    "duration": 21,
    "start_time": "2021-12-08T04:26:54.923Z"
   },
   {
    "duration": 78,
    "start_time": "2021-12-08T04:26:54.946Z"
   },
   {
    "duration": 16,
    "start_time": "2021-12-08T04:26:55.026Z"
   },
   {
    "duration": 14,
    "start_time": "2021-12-08T04:26:55.044Z"
   },
   {
    "duration": 125,
    "start_time": "2021-12-08T04:26:55.060Z"
   },
   {
    "duration": 19,
    "start_time": "2021-12-08T04:26:55.187Z"
   },
   {
    "duration": 18,
    "start_time": "2021-12-08T04:26:55.224Z"
   },
   {
    "duration": 18,
    "start_time": "2021-12-08T04:26:55.247Z"
   },
   {
    "duration": 56,
    "start_time": "2021-12-08T04:26:55.268Z"
   },
   {
    "duration": 20,
    "start_time": "2021-12-08T04:26:55.326Z"
   },
   {
    "duration": 22,
    "start_time": "2021-12-08T04:26:55.348Z"
   },
   {
    "duration": 11,
    "start_time": "2021-12-08T04:26:55.372Z"
   },
   {
    "duration": 57,
    "start_time": "2021-12-08T04:26:55.386Z"
   },
   {
    "duration": 21,
    "start_time": "2021-12-08T04:26:55.445Z"
   },
   {
    "duration": 5,
    "start_time": "2021-12-08T04:26:55.469Z"
   },
   {
    "duration": 66,
    "start_time": "2021-12-08T04:26:55.476Z"
   },
   {
    "duration": 15,
    "start_time": "2021-12-08T04:26:55.544Z"
   },
   {
    "duration": 23,
    "start_time": "2021-12-08T04:26:55.562Z"
   },
   {
    "duration": 17,
    "start_time": "2021-12-08T04:26:55.623Z"
   },
   {
    "duration": 15,
    "start_time": "2021-12-08T04:26:55.643Z"
   },
   {
    "duration": 7,
    "start_time": "2021-12-08T04:26:55.660Z"
   },
   {
    "duration": 59,
    "start_time": "2021-12-08T04:26:55.670Z"
   },
   {
    "duration": 8,
    "start_time": "2021-12-08T04:26:55.732Z"
   },
   {
    "duration": 743,
    "start_time": "2021-12-08T04:28:14.109Z"
   },
   {
    "duration": 180,
    "start_time": "2021-12-08T04:28:14.855Z"
   },
   {
    "duration": 25,
    "start_time": "2021-12-08T04:28:15.038Z"
   },
   {
    "duration": 57,
    "start_time": "2021-12-08T04:28:15.066Z"
   },
   {
    "duration": 5,
    "start_time": "2021-12-08T04:28:15.126Z"
   },
   {
    "duration": 26,
    "start_time": "2021-12-08T04:28:15.134Z"
   },
   {
    "duration": 13,
    "start_time": "2021-12-08T04:28:15.163Z"
   },
   {
    "duration": 67,
    "start_time": "2021-12-08T04:28:15.180Z"
   },
   {
    "duration": 20,
    "start_time": "2021-12-08T04:28:15.251Z"
   },
   {
    "duration": 51,
    "start_time": "2021-12-08T04:28:15.273Z"
   },
   {
    "duration": 97,
    "start_time": "2021-12-08T04:28:15.327Z"
   },
   {
    "duration": 100,
    "start_time": "2021-12-08T04:28:15.427Z"
   },
   {
    "duration": 72,
    "start_time": "2021-12-08T04:28:15.529Z"
   },
   {
    "duration": 71,
    "start_time": "2021-12-08T04:28:15.603Z"
   },
   {
    "duration": 10,
    "start_time": "2021-12-08T04:28:15.677Z"
   },
   {
    "duration": 406,
    "start_time": "2021-12-08T04:28:15.689Z"
   },
   {
    "duration": 2795,
    "start_time": "2021-12-08T04:28:13.304Z"
   },
   {
    "duration": 2791,
    "start_time": "2021-12-08T04:28:13.309Z"
   },
   {
    "duration": 2787,
    "start_time": "2021-12-08T04:28:13.314Z"
   },
   {
    "duration": 2779,
    "start_time": "2021-12-08T04:28:13.324Z"
   },
   {
    "duration": 2775,
    "start_time": "2021-12-08T04:28:13.329Z"
   },
   {
    "duration": 2774,
    "start_time": "2021-12-08T04:28:13.332Z"
   },
   {
    "duration": 2767,
    "start_time": "2021-12-08T04:28:13.340Z"
   },
   {
    "duration": 2764,
    "start_time": "2021-12-08T04:28:13.344Z"
   },
   {
    "duration": 2753,
    "start_time": "2021-12-08T04:28:13.357Z"
   },
   {
    "duration": 2745,
    "start_time": "2021-12-08T04:28:13.366Z"
   },
   {
    "duration": 2742,
    "start_time": "2021-12-08T04:28:13.371Z"
   },
   {
    "duration": 2738,
    "start_time": "2021-12-08T04:28:13.376Z"
   },
   {
    "duration": 2736,
    "start_time": "2021-12-08T04:28:13.380Z"
   },
   {
    "duration": 2733,
    "start_time": "2021-12-08T04:28:13.384Z"
   },
   {
    "duration": 2728,
    "start_time": "2021-12-08T04:28:13.390Z"
   },
   {
    "duration": 2726,
    "start_time": "2021-12-08T04:28:13.394Z"
   },
   {
    "duration": 2723,
    "start_time": "2021-12-08T04:28:13.398Z"
   },
   {
    "duration": 2721,
    "start_time": "2021-12-08T04:28:13.402Z"
   },
   {
    "duration": 2717,
    "start_time": "2021-12-08T04:28:13.407Z"
   },
   {
    "duration": 2714,
    "start_time": "2021-12-08T04:28:13.411Z"
   },
   {
    "duration": 2710,
    "start_time": "2021-12-08T04:28:13.417Z"
   },
   {
    "duration": 2707,
    "start_time": "2021-12-08T04:28:13.421Z"
   },
   {
    "duration": 5,
    "start_time": "2021-12-08T04:33:50.837Z"
   },
   {
    "duration": 753,
    "start_time": "2021-12-08T04:37:02.711Z"
   },
   {
    "duration": 176,
    "start_time": "2021-12-08T04:37:03.466Z"
   },
   {
    "duration": 25,
    "start_time": "2021-12-08T04:37:03.646Z"
   },
   {
    "duration": 56,
    "start_time": "2021-12-08T04:37:03.674Z"
   },
   {
    "duration": 5,
    "start_time": "2021-12-08T04:37:03.733Z"
   },
   {
    "duration": 24,
    "start_time": "2021-12-08T04:37:03.741Z"
   },
   {
    "duration": 8,
    "start_time": "2021-12-08T04:37:03.767Z"
   },
   {
    "duration": 67,
    "start_time": "2021-12-08T04:37:03.778Z"
   },
   {
    "duration": 21,
    "start_time": "2021-12-08T04:37:03.848Z"
   },
   {
    "duration": 66,
    "start_time": "2021-12-08T04:37:03.871Z"
   },
   {
    "duration": 91,
    "start_time": "2021-12-08T04:37:03.939Z"
   },
   {
    "duration": 107,
    "start_time": "2021-12-08T04:37:04.032Z"
   },
   {
    "duration": 83,
    "start_time": "2021-12-08T04:37:04.141Z"
   },
   {
    "duration": 57,
    "start_time": "2021-12-08T04:37:04.226Z"
   },
   {
    "duration": 5,
    "start_time": "2021-12-08T04:37:04.285Z"
   },
   {
    "duration": 346,
    "start_time": "2021-12-08T04:37:04.292Z"
   },
   {
    "duration": 2796,
    "start_time": "2021-12-08T04:37:01.845Z"
   },
   {
    "duration": 2786,
    "start_time": "2021-12-08T04:37:01.857Z"
   },
   {
    "duration": 2781,
    "start_time": "2021-12-08T04:37:01.864Z"
   },
   {
    "duration": 2775,
    "start_time": "2021-12-08T04:37:01.871Z"
   },
   {
    "duration": 2771,
    "start_time": "2021-12-08T04:37:01.877Z"
   },
   {
    "duration": 2761,
    "start_time": "2021-12-08T04:37:01.888Z"
   },
   {
    "duration": 2757,
    "start_time": "2021-12-08T04:37:01.893Z"
   },
   {
    "duration": 2754,
    "start_time": "2021-12-08T04:37:01.898Z"
   },
   {
    "duration": 2753,
    "start_time": "2021-12-08T04:37:01.901Z"
   },
   {
    "duration": 2738,
    "start_time": "2021-12-08T04:37:01.917Z"
   },
   {
    "duration": 2735,
    "start_time": "2021-12-08T04:37:01.922Z"
   },
   {
    "duration": 2730,
    "start_time": "2021-12-08T04:37:01.929Z"
   },
   {
    "duration": 2727,
    "start_time": "2021-12-08T04:37:01.933Z"
   },
   {
    "duration": 2717,
    "start_time": "2021-12-08T04:37:01.945Z"
   },
   {
    "duration": 2714,
    "start_time": "2021-12-08T04:37:01.949Z"
   },
   {
    "duration": 2710,
    "start_time": "2021-12-08T04:37:01.954Z"
   },
   {
    "duration": 2708,
    "start_time": "2021-12-08T04:37:01.958Z"
   },
   {
    "duration": 2702,
    "start_time": "2021-12-08T04:37:01.965Z"
   },
   {
    "duration": 2701,
    "start_time": "2021-12-08T04:37:01.968Z"
   },
   {
    "duration": 2699,
    "start_time": "2021-12-08T04:37:01.971Z"
   },
   {
    "duration": 2691,
    "start_time": "2021-12-08T04:37:01.980Z"
   },
   {
    "duration": 2689,
    "start_time": "2021-12-08T04:37:01.984Z"
   },
   {
    "duration": 717,
    "start_time": "2021-12-08T04:39:48.919Z"
   },
   {
    "duration": 164,
    "start_time": "2021-12-08T04:39:49.639Z"
   },
   {
    "duration": 30,
    "start_time": "2021-12-08T04:39:49.807Z"
   },
   {
    "duration": 33,
    "start_time": "2021-12-08T04:39:49.840Z"
   },
   {
    "duration": 11,
    "start_time": "2021-12-08T04:39:49.876Z"
   },
   {
    "duration": 50,
    "start_time": "2021-12-08T04:39:49.890Z"
   },
   {
    "duration": 15,
    "start_time": "2021-12-08T04:39:49.943Z"
   },
   {
    "duration": 37,
    "start_time": "2021-12-08T04:39:49.962Z"
   },
   {
    "duration": 30,
    "start_time": "2021-12-08T04:39:50.023Z"
   },
   {
    "duration": 29,
    "start_time": "2021-12-08T04:39:50.056Z"
   },
   {
    "duration": 110,
    "start_time": "2021-12-08T04:39:50.087Z"
   },
   {
    "duration": 109,
    "start_time": "2021-12-08T04:39:50.199Z"
   },
   {
    "duration": 80,
    "start_time": "2021-12-08T04:39:50.310Z"
   },
   {
    "duration": 68,
    "start_time": "2021-12-08T04:39:50.392Z"
   },
   {
    "duration": 331,
    "start_time": "2021-12-08T04:39:50.462Z"
   },
   {
    "duration": 2797,
    "start_time": "2021-12-08T04:39:47.999Z"
   },
   {
    "duration": 2791,
    "start_time": "2021-12-08T04:39:48.007Z"
   },
   {
    "duration": 2789,
    "start_time": "2021-12-08T04:39:48.010Z"
   },
   {
    "duration": 2788,
    "start_time": "2021-12-08T04:39:48.013Z"
   },
   {
    "duration": 2763,
    "start_time": "2021-12-08T04:39:48.039Z"
   },
   {
    "duration": 2758,
    "start_time": "2021-12-08T04:39:48.046Z"
   },
   {
    "duration": 2756,
    "start_time": "2021-12-08T04:39:48.049Z"
   },
   {
    "duration": 2754,
    "start_time": "2021-12-08T04:39:48.053Z"
   },
   {
    "duration": 2751,
    "start_time": "2021-12-08T04:39:48.057Z"
   },
   {
    "duration": 2749,
    "start_time": "2021-12-08T04:39:48.060Z"
   },
   {
    "duration": 2748,
    "start_time": "2021-12-08T04:39:48.063Z"
   },
   {
    "duration": 2746,
    "start_time": "2021-12-08T04:39:48.066Z"
   },
   {
    "duration": 2742,
    "start_time": "2021-12-08T04:39:48.071Z"
   },
   {
    "duration": 2741,
    "start_time": "2021-12-08T04:39:48.074Z"
   },
   {
    "duration": 2727,
    "start_time": "2021-12-08T04:39:48.089Z"
   },
   {
    "duration": 2724,
    "start_time": "2021-12-08T04:39:48.093Z"
   },
   {
    "duration": 2723,
    "start_time": "2021-12-08T04:39:48.096Z"
   },
   {
    "duration": 2691,
    "start_time": "2021-12-08T04:39:48.129Z"
   },
   {
    "duration": 2659,
    "start_time": "2021-12-08T04:39:48.162Z"
   },
   {
    "duration": 2658,
    "start_time": "2021-12-08T04:39:48.165Z"
   },
   {
    "duration": 2653,
    "start_time": "2021-12-08T04:39:48.171Z"
   },
   {
    "duration": 2649,
    "start_time": "2021-12-08T04:39:48.176Z"
   },
   {
    "duration": 2645,
    "start_time": "2021-12-08T04:39:48.182Z"
   },
   {
    "duration": 278,
    "start_time": "2021-12-08T04:44:42.030Z"
   },
   {
    "duration": 862,
    "start_time": "2021-12-08T04:45:04.416Z"
   },
   {
    "duration": 173,
    "start_time": "2021-12-08T04:45:05.281Z"
   },
   {
    "duration": 26,
    "start_time": "2021-12-08T04:45:05.457Z"
   },
   {
    "duration": 47,
    "start_time": "2021-12-08T04:45:05.486Z"
   },
   {
    "duration": 6,
    "start_time": "2021-12-08T04:45:05.536Z"
   },
   {
    "duration": 25,
    "start_time": "2021-12-08T04:45:05.545Z"
   },
   {
    "duration": 6,
    "start_time": "2021-12-08T04:45:05.572Z"
   },
   {
    "duration": 69,
    "start_time": "2021-12-08T04:45:05.582Z"
   },
   {
    "duration": 21,
    "start_time": "2021-12-08T04:45:05.654Z"
   },
   {
    "duration": 51,
    "start_time": "2021-12-08T04:45:05.677Z"
   },
   {
    "duration": 94,
    "start_time": "2021-12-08T04:45:05.730Z"
   },
   {
    "duration": 102,
    "start_time": "2021-12-08T04:45:05.827Z"
   },
   {
    "duration": 74,
    "start_time": "2021-12-08T04:45:05.931Z"
   },
   {
    "duration": 56,
    "start_time": "2021-12-08T04:45:06.024Z"
   },
   {
    "duration": 363,
    "start_time": "2021-12-08T04:45:06.083Z"
   },
   {
    "duration": 2807,
    "start_time": "2021-12-08T04:45:03.642Z"
   },
   {
    "duration": 2800,
    "start_time": "2021-12-08T04:45:03.651Z"
   },
   {
    "duration": 2797,
    "start_time": "2021-12-08T04:45:03.655Z"
   },
   {
    "duration": 2797,
    "start_time": "2021-12-08T04:45:03.657Z"
   },
   {
    "duration": 2795,
    "start_time": "2021-12-08T04:45:03.660Z"
   },
   {
    "duration": 2793,
    "start_time": "2021-12-08T04:45:03.664Z"
   },
   {
    "duration": 2783,
    "start_time": "2021-12-08T04:45:03.675Z"
   },
   {
    "duration": 2771,
    "start_time": "2021-12-08T04:45:03.688Z"
   },
   {
    "duration": 2771,
    "start_time": "2021-12-08T04:45:03.690Z"
   },
   {
    "duration": 2769,
    "start_time": "2021-12-08T04:45:03.693Z"
   },
   {
    "duration": 2768,
    "start_time": "2021-12-08T04:45:03.696Z"
   },
   {
    "duration": 2765,
    "start_time": "2021-12-08T04:45:03.700Z"
   },
   {
    "duration": 2762,
    "start_time": "2021-12-08T04:45:03.705Z"
   },
   {
    "duration": 2759,
    "start_time": "2021-12-08T04:45:03.709Z"
   },
   {
    "duration": 2754,
    "start_time": "2021-12-08T04:45:03.716Z"
   },
   {
    "duration": 2751,
    "start_time": "2021-12-08T04:45:03.720Z"
   },
   {
    "duration": 2749,
    "start_time": "2021-12-08T04:45:03.723Z"
   },
   {
    "duration": 2743,
    "start_time": "2021-12-08T04:45:03.731Z"
   },
   {
    "duration": 2740,
    "start_time": "2021-12-08T04:45:03.735Z"
   },
   {
    "duration": 2739,
    "start_time": "2021-12-08T04:45:03.738Z"
   },
   {
    "duration": 2738,
    "start_time": "2021-12-08T04:45:03.740Z"
   },
   {
    "duration": 2737,
    "start_time": "2021-12-08T04:45:03.743Z"
   },
   {
    "duration": 2733,
    "start_time": "2021-12-08T04:45:03.748Z"
   },
   {
    "duration": 741,
    "start_time": "2021-12-08T04:46:09.499Z"
   },
   {
    "duration": 167,
    "start_time": "2021-12-08T04:46:10.242Z"
   },
   {
    "duration": 26,
    "start_time": "2021-12-08T04:46:10.413Z"
   },
   {
    "duration": 31,
    "start_time": "2021-12-08T04:46:10.442Z"
   },
   {
    "duration": 5,
    "start_time": "2021-12-08T04:46:10.475Z"
   },
   {
    "duration": 55,
    "start_time": "2021-12-08T04:46:10.482Z"
   },
   {
    "duration": 5,
    "start_time": "2021-12-08T04:46:10.539Z"
   },
   {
    "duration": 29,
    "start_time": "2021-12-08T04:46:10.547Z"
   },
   {
    "duration": 55,
    "start_time": "2021-12-08T04:46:10.579Z"
   },
   {
    "duration": 29,
    "start_time": "2021-12-08T04:46:10.637Z"
   },
   {
    "duration": 109,
    "start_time": "2021-12-08T04:46:10.669Z"
   },
   {
    "duration": 110,
    "start_time": "2021-12-08T04:46:10.780Z"
   },
   {
    "duration": 81,
    "start_time": "2021-12-08T04:46:10.892Z"
   },
   {
    "duration": 62,
    "start_time": "2021-12-08T04:46:10.975Z"
   },
   {
    "duration": 13,
    "start_time": "2021-12-08T04:46:11.040Z"
   },
   {
    "duration": 402,
    "start_time": "2021-12-08T04:46:11.055Z"
   },
   {
    "duration": 2805,
    "start_time": "2021-12-08T04:46:08.656Z"
   },
   {
    "duration": 2801,
    "start_time": "2021-12-08T04:46:08.661Z"
   },
   {
    "duration": 2801,
    "start_time": "2021-12-08T04:46:08.663Z"
   },
   {
    "duration": 2800,
    "start_time": "2021-12-08T04:46:08.666Z"
   },
   {
    "duration": 2800,
    "start_time": "2021-12-08T04:46:08.668Z"
   },
   {
    "duration": 2799,
    "start_time": "2021-12-08T04:46:08.670Z"
   },
   {
    "duration": 2797,
    "start_time": "2021-12-08T04:46:08.674Z"
   },
   {
    "duration": 2774,
    "start_time": "2021-12-08T04:46:08.698Z"
   },
   {
    "duration": 2768,
    "start_time": "2021-12-08T04:46:08.706Z"
   },
   {
    "duration": 2766,
    "start_time": "2021-12-08T04:46:08.710Z"
   },
   {
    "duration": 2764,
    "start_time": "2021-12-08T04:46:08.713Z"
   },
   {
    "duration": 2764,
    "start_time": "2021-12-08T04:46:08.715Z"
   },
   {
    "duration": 2762,
    "start_time": "2021-12-08T04:46:08.718Z"
   },
   {
    "duration": 2762,
    "start_time": "2021-12-08T04:46:08.720Z"
   },
   {
    "duration": 2759,
    "start_time": "2021-12-08T04:46:08.724Z"
   },
   {
    "duration": 2757,
    "start_time": "2021-12-08T04:46:08.728Z"
   },
   {
    "duration": 2755,
    "start_time": "2021-12-08T04:46:08.731Z"
   },
   {
    "duration": 2750,
    "start_time": "2021-12-08T04:46:08.738Z"
   },
   {
    "duration": 2747,
    "start_time": "2021-12-08T04:46:08.742Z"
   },
   {
    "duration": 2746,
    "start_time": "2021-12-08T04:46:08.745Z"
   },
   {
    "duration": 2746,
    "start_time": "2021-12-08T04:46:08.747Z"
   },
   {
    "duration": 2745,
    "start_time": "2021-12-08T04:46:08.749Z"
   },
   {
    "duration": 663,
    "start_time": "2021-12-08T04:46:45.256Z"
   },
   {
    "duration": 169,
    "start_time": "2021-12-08T04:46:45.921Z"
   },
   {
    "duration": 30,
    "start_time": "2021-12-08T04:46:46.092Z"
   },
   {
    "duration": 29,
    "start_time": "2021-12-08T04:46:46.124Z"
   },
   {
    "duration": 5,
    "start_time": "2021-12-08T04:46:46.156Z"
   },
   {
    "duration": 28,
    "start_time": "2021-12-08T04:46:46.163Z"
   },
   {
    "duration": 34,
    "start_time": "2021-12-08T04:46:46.193Z"
   },
   {
    "duration": 29,
    "start_time": "2021-12-08T04:46:46.230Z"
   },
   {
    "duration": 20,
    "start_time": "2021-12-08T04:46:46.263Z"
   },
   {
    "duration": 52,
    "start_time": "2021-12-08T04:46:46.285Z"
   },
   {
    "duration": 95,
    "start_time": "2021-12-08T04:46:46.340Z"
   },
   {
    "duration": 94,
    "start_time": "2021-12-08T04:46:46.438Z"
   },
   {
    "duration": 70,
    "start_time": "2021-12-08T04:46:46.534Z"
   },
   {
    "duration": 67,
    "start_time": "2021-12-08T04:46:46.606Z"
   },
   {
    "duration": 4,
    "start_time": "2021-12-08T04:46:46.676Z"
   },
   {
    "duration": 340,
    "start_time": "2021-12-08T04:46:46.682Z"
   },
   {
    "duration": 2784,
    "start_time": "2021-12-08T04:46:44.241Z"
   },
   {
    "duration": 2784,
    "start_time": "2021-12-08T04:46:44.243Z"
   },
   {
    "duration": 2779,
    "start_time": "2021-12-08T04:46:44.249Z"
   },
   {
    "duration": 2778,
    "start_time": "2021-12-08T04:46:44.252Z"
   },
   {
    "duration": 2776,
    "start_time": "2021-12-08T04:46:44.255Z"
   },
   {
    "duration": 2776,
    "start_time": "2021-12-08T04:46:44.257Z"
   },
   {
    "duration": 2774,
    "start_time": "2021-12-08T04:46:44.260Z"
   },
   {
    "duration": 2762,
    "start_time": "2021-12-08T04:46:44.274Z"
   },
   {
    "duration": 2759,
    "start_time": "2021-12-08T04:46:44.278Z"
   },
   {
    "duration": 2756,
    "start_time": "2021-12-08T04:46:44.282Z"
   },
   {
    "duration": 2756,
    "start_time": "2021-12-08T04:46:44.285Z"
   },
   {
    "duration": 2755,
    "start_time": "2021-12-08T04:46:44.287Z"
   },
   {
    "duration": 2755,
    "start_time": "2021-12-08T04:46:44.289Z"
   },
   {
    "duration": 2753,
    "start_time": "2021-12-08T04:46:44.292Z"
   },
   {
    "duration": 2751,
    "start_time": "2021-12-08T04:46:44.296Z"
   },
   {
    "duration": 2749,
    "start_time": "2021-12-08T04:46:44.299Z"
   },
   {
    "duration": 2748,
    "start_time": "2021-12-08T04:46:44.302Z"
   },
   {
    "duration": 2746,
    "start_time": "2021-12-08T04:46:44.305Z"
   },
   {
    "duration": 2743,
    "start_time": "2021-12-08T04:46:44.309Z"
   },
   {
    "duration": 2739,
    "start_time": "2021-12-08T04:46:44.314Z"
   },
   {
    "duration": 2737,
    "start_time": "2021-12-08T04:46:44.318Z"
   },
   {
    "duration": 2736,
    "start_time": "2021-12-08T04:46:44.320Z"
   },
   {
    "duration": 725,
    "start_time": "2021-12-08T04:47:25.434Z"
   },
   {
    "duration": 169,
    "start_time": "2021-12-08T04:47:26.161Z"
   },
   {
    "duration": 26,
    "start_time": "2021-12-08T04:47:26.333Z"
   },
   {
    "duration": 32,
    "start_time": "2021-12-08T04:47:26.362Z"
   },
   {
    "duration": 5,
    "start_time": "2021-12-08T04:47:26.397Z"
   },
   {
    "duration": 25,
    "start_time": "2021-12-08T04:47:26.424Z"
   },
   {
    "duration": 6,
    "start_time": "2021-12-08T04:47:26.452Z"
   },
   {
    "duration": 62,
    "start_time": "2021-12-08T04:47:26.462Z"
   },
   {
    "duration": 23,
    "start_time": "2021-12-08T04:47:26.527Z"
   },
   {
    "duration": 26,
    "start_time": "2021-12-08T04:47:26.552Z"
   },
   {
    "duration": 103,
    "start_time": "2021-12-08T04:47:26.581Z"
   },
   {
    "duration": 105,
    "start_time": "2021-12-08T04:47:26.687Z"
   },
   {
    "duration": 82,
    "start_time": "2021-12-08T04:47:26.795Z"
   },
   {
    "duration": 63,
    "start_time": "2021-12-08T04:47:26.880Z"
   },
   {
    "duration": 4,
    "start_time": "2021-12-08T04:47:26.945Z"
   },
   {
    "duration": 361,
    "start_time": "2021-12-08T04:47:26.952Z"
   },
   {
    "duration": 2791,
    "start_time": "2021-12-08T04:47:24.526Z"
   },
   {
    "duration": 2786,
    "start_time": "2021-12-08T04:47:24.532Z"
   },
   {
    "duration": 2783,
    "start_time": "2021-12-08T04:47:24.537Z"
   },
   {
    "duration": 2781,
    "start_time": "2021-12-08T04:47:24.540Z"
   },
   {
    "duration": 2780,
    "start_time": "2021-12-08T04:47:24.543Z"
   },
   {
    "duration": 2770,
    "start_time": "2021-12-08T04:47:24.554Z"
   },
   {
    "duration": 2768,
    "start_time": "2021-12-08T04:47:24.557Z"
   },
   {
    "duration": 2767,
    "start_time": "2021-12-08T04:47:24.560Z"
   },
   {
    "duration": 2763,
    "start_time": "2021-12-08T04:47:24.565Z"
   },
   {
    "duration": 2762,
    "start_time": "2021-12-08T04:47:24.568Z"
   },
   {
    "duration": 2759,
    "start_time": "2021-12-08T04:47:24.572Z"
   },
   {
    "duration": 2758,
    "start_time": "2021-12-08T04:47:24.575Z"
   },
   {
    "duration": 2757,
    "start_time": "2021-12-08T04:47:24.577Z"
   },
   {
    "duration": 2757,
    "start_time": "2021-12-08T04:47:24.579Z"
   },
   {
    "duration": 2752,
    "start_time": "2021-12-08T04:47:24.585Z"
   },
   {
    "duration": 2749,
    "start_time": "2021-12-08T04:47:24.590Z"
   },
   {
    "duration": 2745,
    "start_time": "2021-12-08T04:47:24.595Z"
   },
   {
    "duration": 2742,
    "start_time": "2021-12-08T04:47:24.599Z"
   },
   {
    "duration": 2741,
    "start_time": "2021-12-08T04:47:24.602Z"
   },
   {
    "duration": 2739,
    "start_time": "2021-12-08T04:47:24.605Z"
   },
   {
    "duration": 2731,
    "start_time": "2021-12-08T04:47:24.615Z"
   },
   {
    "duration": 2728,
    "start_time": "2021-12-08T04:47:24.619Z"
   },
   {
    "duration": 731,
    "start_time": "2021-12-08T04:49:32.887Z"
   },
   {
    "duration": 163,
    "start_time": "2021-12-08T04:49:33.620Z"
   },
   {
    "duration": 25,
    "start_time": "2021-12-08T04:49:33.786Z"
   },
   {
    "duration": 38,
    "start_time": "2021-12-08T04:49:33.813Z"
   },
   {
    "duration": 5,
    "start_time": "2021-12-08T04:49:33.853Z"
   },
   {
    "duration": 25,
    "start_time": "2021-12-08T04:49:33.860Z"
   },
   {
    "duration": 35,
    "start_time": "2021-12-08T04:49:33.888Z"
   },
   {
    "duration": 27,
    "start_time": "2021-12-08T04:49:33.927Z"
   },
   {
    "duration": 20,
    "start_time": "2021-12-08T04:49:33.958Z"
   },
   {
    "duration": 48,
    "start_time": "2021-12-08T04:49:33.981Z"
   },
   {
    "duration": 92,
    "start_time": "2021-12-08T04:49:34.032Z"
   },
   {
    "duration": 97,
    "start_time": "2021-12-08T04:49:34.127Z"
   },
   {
    "duration": 66,
    "start_time": "2021-12-08T04:49:34.227Z"
   },
   {
    "duration": 63,
    "start_time": "2021-12-08T04:49:34.296Z"
   },
   {
    "duration": 5,
    "start_time": "2021-12-08T04:49:34.361Z"
   },
   {
    "duration": 17,
    "start_time": "2021-12-08T04:49:34.368Z"
   },
   {
    "duration": 77,
    "start_time": "2021-12-08T04:49:34.387Z"
   },
   {
    "duration": 15,
    "start_time": "2021-12-08T04:49:34.466Z"
   },
   {
    "duration": 40,
    "start_time": "2021-12-08T04:49:34.483Z"
   },
   {
    "duration": 98,
    "start_time": "2021-12-08T04:49:34.525Z"
   },
   {
    "duration": 19,
    "start_time": "2021-12-08T04:49:34.625Z"
   },
   {
    "duration": 28,
    "start_time": "2021-12-08T04:49:34.646Z"
   },
   {
    "duration": 21,
    "start_time": "2021-12-08T04:49:34.679Z"
   },
   {
    "duration": 33,
    "start_time": "2021-12-08T04:49:34.703Z"
   },
   {
    "duration": 21,
    "start_time": "2021-12-08T04:49:34.738Z"
   },
   {
    "duration": 21,
    "start_time": "2021-12-08T04:49:34.761Z"
   },
   {
    "duration": 11,
    "start_time": "2021-12-08T04:49:34.784Z"
   },
   {
    "duration": 44,
    "start_time": "2021-12-08T04:49:34.797Z"
   },
   {
    "duration": 21,
    "start_time": "2021-12-08T04:49:34.844Z"
   },
   {
    "duration": 6,
    "start_time": "2021-12-08T04:49:34.867Z"
   },
   {
    "duration": 59,
    "start_time": "2021-12-08T04:49:34.875Z"
   },
   {
    "duration": 16,
    "start_time": "2021-12-08T04:49:34.937Z"
   },
   {
    "duration": 21,
    "start_time": "2021-12-08T04:49:34.955Z"
   },
   {
    "duration": 46,
    "start_time": "2021-12-08T04:49:34.979Z"
   },
   {
    "duration": 12,
    "start_time": "2021-12-08T04:49:35.028Z"
   },
   {
    "duration": 8,
    "start_time": "2021-12-08T04:49:35.043Z"
   },
   {
    "duration": 10,
    "start_time": "2021-12-08T04:49:35.054Z"
   },
   {
    "duration": 9,
    "start_time": "2021-12-08T04:49:35.067Z"
   },
   {
    "duration": 714,
    "start_time": "2021-12-08T05:07:23.041Z"
   },
   {
    "duration": 184,
    "start_time": "2021-12-08T05:07:23.757Z"
   },
   {
    "duration": 25,
    "start_time": "2021-12-08T05:07:23.944Z"
   },
   {
    "duration": 51,
    "start_time": "2021-12-08T05:07:23.972Z"
   },
   {
    "duration": 5,
    "start_time": "2021-12-08T05:07:24.026Z"
   },
   {
    "duration": 25,
    "start_time": "2021-12-08T05:07:24.034Z"
   },
   {
    "duration": 5,
    "start_time": "2021-12-08T05:07:24.062Z"
   },
   {
    "duration": 67,
    "start_time": "2021-12-08T05:07:24.071Z"
   },
   {
    "duration": 22,
    "start_time": "2021-12-08T05:07:24.141Z"
   },
   {
    "duration": 29,
    "start_time": "2021-12-08T05:07:24.166Z"
   },
   {
    "duration": 80,
    "start_time": "2021-12-08T05:07:24.223Z"
   },
   {
    "duration": 94,
    "start_time": "2021-12-08T05:07:24.305Z"
   },
   {
    "duration": 84,
    "start_time": "2021-12-08T05:07:24.402Z"
   },
   {
    "duration": 69,
    "start_time": "2021-12-08T05:07:24.488Z"
   },
   {
    "duration": 4,
    "start_time": "2021-12-08T05:07:24.560Z"
   },
   {
    "duration": 16,
    "start_time": "2021-12-08T05:07:24.566Z"
   },
   {
    "duration": 81,
    "start_time": "2021-12-08T05:07:24.584Z"
   },
   {
    "duration": 15,
    "start_time": "2021-12-08T05:07:24.667Z"
   },
   {
    "duration": 39,
    "start_time": "2021-12-08T05:07:24.684Z"
   },
   {
    "duration": 6,
    "start_time": "2021-12-08T05:07:24.725Z"
   },
   {
    "duration": 2732,
    "start_time": "2021-12-08T05:07:22.002Z"
   },
   {
    "duration": 2728,
    "start_time": "2021-12-08T05:07:22.008Z"
   },
   {
    "duration": 2724,
    "start_time": "2021-12-08T05:07:22.014Z"
   },
   {
    "duration": 2718,
    "start_time": "2021-12-08T05:07:22.021Z"
   },
   {
    "duration": 2713,
    "start_time": "2021-12-08T05:07:22.027Z"
   },
   {
    "duration": 2710,
    "start_time": "2021-12-08T05:07:22.032Z"
   },
   {
    "duration": 2707,
    "start_time": "2021-12-08T05:07:22.036Z"
   },
   {
    "duration": 2704,
    "start_time": "2021-12-08T05:07:22.040Z"
   },
   {
    "duration": 2698,
    "start_time": "2021-12-08T05:07:22.047Z"
   },
   {
    "duration": 2695,
    "start_time": "2021-12-08T05:07:22.052Z"
   },
   {
    "duration": 2676,
    "start_time": "2021-12-08T05:07:22.072Z"
   },
   {
    "duration": 2666,
    "start_time": "2021-12-08T05:07:22.083Z"
   },
   {
    "duration": 2660,
    "start_time": "2021-12-08T05:07:22.090Z"
   },
   {
    "duration": 2652,
    "start_time": "2021-12-08T05:07:22.099Z"
   },
   {
    "duration": 2635,
    "start_time": "2021-12-08T05:07:22.117Z"
   },
   {
    "duration": 2632,
    "start_time": "2021-12-08T05:07:22.122Z"
   },
   {
    "duration": 2628,
    "start_time": "2021-12-08T05:07:22.127Z"
   },
   {
    "duration": 2624,
    "start_time": "2021-12-08T05:07:22.132Z"
   },
   {
    "duration": 772,
    "start_time": "2021-12-08T05:07:52.319Z"
   },
   {
    "duration": 187,
    "start_time": "2021-12-08T05:07:53.094Z"
   },
   {
    "duration": 40,
    "start_time": "2021-12-08T05:07:53.284Z"
   },
   {
    "duration": 35,
    "start_time": "2021-12-08T05:07:53.328Z"
   },
   {
    "duration": 13,
    "start_time": "2021-12-08T05:07:53.366Z"
   },
   {
    "duration": 56,
    "start_time": "2021-12-08T05:07:53.381Z"
   },
   {
    "duration": 8,
    "start_time": "2021-12-08T05:07:53.439Z"
   },
   {
    "duration": 36,
    "start_time": "2021-12-08T05:07:53.452Z"
   },
   {
    "duration": 54,
    "start_time": "2021-12-08T05:07:53.492Z"
   },
   {
    "duration": 29,
    "start_time": "2021-12-08T05:07:53.548Z"
   },
   {
    "duration": 115,
    "start_time": "2021-12-08T05:07:53.580Z"
   },
   {
    "duration": 111,
    "start_time": "2021-12-08T05:07:53.697Z"
   },
   {
    "duration": 77,
    "start_time": "2021-12-08T05:07:53.810Z"
   },
   {
    "duration": 66,
    "start_time": "2021-12-08T05:07:53.890Z"
   },
   {
    "duration": 5,
    "start_time": "2021-12-08T05:07:53.959Z"
   },
   {
    "duration": 16,
    "start_time": "2021-12-08T05:07:53.967Z"
   },
   {
    "duration": 93,
    "start_time": "2021-12-08T05:07:53.985Z"
   },
   {
    "duration": 18,
    "start_time": "2021-12-08T05:07:54.081Z"
   },
   {
    "duration": 35,
    "start_time": "2021-12-08T05:07:54.102Z"
   },
   {
    "duration": 116,
    "start_time": "2021-12-08T05:07:54.140Z"
   },
   {
    "duration": 21,
    "start_time": "2021-12-08T05:07:54.259Z"
   },
   {
    "duration": 42,
    "start_time": "2021-12-08T05:07:54.283Z"
   },
   {
    "duration": 21,
    "start_time": "2021-12-08T05:07:54.331Z"
   },
   {
    "duration": 21,
    "start_time": "2021-12-08T05:07:54.355Z"
   },
   {
    "duration": 61,
    "start_time": "2021-12-08T05:07:54.379Z"
   },
   {
    "duration": 22,
    "start_time": "2021-12-08T05:07:54.443Z"
   },
   {
    "duration": 12,
    "start_time": "2021-12-08T05:07:54.468Z"
   },
   {
    "duration": 66,
    "start_time": "2021-12-08T05:07:54.483Z"
   },
   {
    "duration": 25,
    "start_time": "2021-12-08T05:07:54.552Z"
   },
   {
    "duration": 6,
    "start_time": "2021-12-08T05:07:54.579Z"
   },
   {
    "duration": 62,
    "start_time": "2021-12-08T05:07:54.587Z"
   },
   {
    "duration": 17,
    "start_time": "2021-12-08T05:07:54.651Z"
   },
   {
    "duration": 22,
    "start_time": "2021-12-08T05:07:54.670Z"
   },
   {
    "duration": 17,
    "start_time": "2021-12-08T05:07:54.724Z"
   },
   {
    "duration": 10,
    "start_time": "2021-12-08T05:07:54.744Z"
   },
   {
    "duration": 6,
    "start_time": "2021-12-08T05:07:54.757Z"
   },
   {
    "duration": 8,
    "start_time": "2021-12-08T05:07:54.765Z"
   },
   {
    "duration": 48,
    "start_time": "2021-12-08T05:07:54.776Z"
   },
   {
    "duration": 777,
    "start_time": "2021-12-08T07:55:24.873Z"
   },
   {
    "duration": 177,
    "start_time": "2021-12-08T07:55:25.653Z"
   },
   {
    "duration": 29,
    "start_time": "2021-12-08T07:55:25.833Z"
   },
   {
    "duration": 33,
    "start_time": "2021-12-08T07:55:25.865Z"
   },
   {
    "duration": 5,
    "start_time": "2021-12-08T07:55:25.901Z"
   },
   {
    "duration": 59,
    "start_time": "2021-12-08T07:55:25.909Z"
   },
   {
    "duration": 6,
    "start_time": "2021-12-08T07:55:25.970Z"
   },
   {
    "duration": 29,
    "start_time": "2021-12-08T07:55:25.980Z"
   },
   {
    "duration": 54,
    "start_time": "2021-12-08T07:55:26.013Z"
   },
   {
    "duration": 33,
    "start_time": "2021-12-08T07:55:26.069Z"
   },
   {
    "duration": 108,
    "start_time": "2021-12-08T07:55:26.105Z"
   },
   {
    "duration": 98,
    "start_time": "2021-12-08T07:55:26.215Z"
   },
   {
    "duration": 83,
    "start_time": "2021-12-08T07:55:26.316Z"
   },
   {
    "duration": 65,
    "start_time": "2021-12-08T07:55:26.401Z"
   },
   {
    "duration": 4,
    "start_time": "2021-12-08T07:55:26.468Z"
   },
   {
    "duration": 18,
    "start_time": "2021-12-08T07:55:26.474Z"
   },
   {
    "duration": 80,
    "start_time": "2021-12-08T07:55:26.494Z"
   },
   {
    "duration": 15,
    "start_time": "2021-12-08T07:55:26.576Z"
   },
   {
    "duration": 13,
    "start_time": "2021-12-08T07:55:26.593Z"
   },
   {
    "duration": 117,
    "start_time": "2021-12-08T07:55:26.609Z"
   },
   {
    "duration": 32,
    "start_time": "2021-12-08T07:55:26.729Z"
   },
   {
    "duration": 20,
    "start_time": "2021-12-08T07:55:26.763Z"
   },
   {
    "duration": 20,
    "start_time": "2021-12-08T07:55:26.787Z"
   },
   {
    "duration": 50,
    "start_time": "2021-12-08T07:55:26.810Z"
   },
   {
    "duration": 21,
    "start_time": "2021-12-08T07:55:26.862Z"
   },
   {
    "duration": 20,
    "start_time": "2021-12-08T07:55:26.886Z"
   },
   {
    "duration": 12,
    "start_time": "2021-12-08T07:55:26.909Z"
   },
   {
    "duration": 26,
    "start_time": "2021-12-08T07:55:26.960Z"
   },
   {
    "duration": 21,
    "start_time": "2021-12-08T07:55:26.989Z"
   },
   {
    "duration": 5,
    "start_time": "2021-12-08T07:55:27.013Z"
   },
   {
    "duration": 1105,
    "start_time": "2021-12-08T07:55:27.021Z"
   },
   {
    "duration": -147,
    "start_time": "2021-12-08T07:55:28.276Z"
   },
   {
    "duration": -148,
    "start_time": "2021-12-08T07:55:28.279Z"
   },
   {
    "duration": -150,
    "start_time": "2021-12-08T07:55:28.282Z"
   },
   {
    "duration": -152,
    "start_time": "2021-12-08T07:55:28.286Z"
   },
   {
    "duration": -155,
    "start_time": "2021-12-08T07:55:28.290Z"
   },
   {
    "duration": -155,
    "start_time": "2021-12-08T07:55:28.292Z"
   },
   {
    "duration": -173,
    "start_time": "2021-12-08T07:55:28.312Z"
   },
   {
    "duration": 772,
    "start_time": "2021-12-08T07:57:41.176Z"
   },
   {
    "duration": 185,
    "start_time": "2021-12-08T07:57:41.950Z"
   },
   {
    "duration": 24,
    "start_time": "2021-12-08T07:57:42.139Z"
   },
   {
    "duration": 33,
    "start_time": "2021-12-08T07:57:42.166Z"
   },
   {
    "duration": 5,
    "start_time": "2021-12-08T07:57:42.202Z"
   },
   {
    "duration": 59,
    "start_time": "2021-12-08T07:57:42.209Z"
   },
   {
    "duration": 6,
    "start_time": "2021-12-08T07:57:42.272Z"
   },
   {
    "duration": 51,
    "start_time": "2021-12-08T07:57:42.284Z"
   },
   {
    "duration": 36,
    "start_time": "2021-12-08T07:57:42.361Z"
   },
   {
    "duration": 63,
    "start_time": "2021-12-08T07:57:42.400Z"
   },
   {
    "duration": 145,
    "start_time": "2021-12-08T07:57:42.465Z"
   },
   {
    "duration": 163,
    "start_time": "2021-12-08T07:57:42.613Z"
   },
   {
    "duration": 122,
    "start_time": "2021-12-08T07:57:42.779Z"
   },
   {
    "duration": 100,
    "start_time": "2021-12-08T07:57:42.904Z"
   },
   {
    "duration": 6,
    "start_time": "2021-12-08T07:57:43.008Z"
   },
   {
    "duration": 42,
    "start_time": "2021-12-08T07:57:43.017Z"
   },
   {
    "duration": 100,
    "start_time": "2021-12-08T07:57:43.063Z"
   },
   {
    "duration": 24,
    "start_time": "2021-12-08T07:57:43.166Z"
   },
   {
    "duration": 24,
    "start_time": "2021-12-08T07:57:43.193Z"
   },
   {
    "duration": 181,
    "start_time": "2021-12-08T07:57:43.220Z"
   },
   {
    "duration": 33,
    "start_time": "2021-12-08T07:57:43.404Z"
   },
   {
    "duration": 38,
    "start_time": "2021-12-08T07:57:43.439Z"
   },
   {
    "duration": 23,
    "start_time": "2021-12-08T07:57:43.483Z"
   },
   {
    "duration": 57,
    "start_time": "2021-12-08T07:57:43.509Z"
   },
   {
    "duration": 24,
    "start_time": "2021-12-08T07:57:43.568Z"
   },
   {
    "duration": 22,
    "start_time": "2021-12-08T07:57:43.595Z"
   },
   {
    "duration": 45,
    "start_time": "2021-12-08T07:57:43.619Z"
   },
   {
    "duration": 29,
    "start_time": "2021-12-08T07:57:43.667Z"
   },
   {
    "duration": 72,
    "start_time": "2021-12-08T07:57:43.699Z"
   },
   {
    "duration": 6,
    "start_time": "2021-12-08T07:57:43.773Z"
   },
   {
    "duration": 52,
    "start_time": "2021-12-08T07:57:43.782Z"
   },
   {
    "duration": 46,
    "start_time": "2021-12-08T07:57:43.837Z"
   },
   {
    "duration": 41,
    "start_time": "2021-12-08T07:57:43.886Z"
   },
   {
    "duration": 47,
    "start_time": "2021-12-08T07:57:43.929Z"
   },
   {
    "duration": 13,
    "start_time": "2021-12-08T07:57:43.979Z"
   },
   {
    "duration": 7,
    "start_time": "2021-12-08T07:57:43.995Z"
   },
   {
    "duration": 9,
    "start_time": "2021-12-08T07:57:44.004Z"
   },
   {
    "duration": 47,
    "start_time": "2021-12-08T07:57:44.015Z"
   },
   {
    "duration": 973,
    "start_time": "2021-12-08T07:59:46.729Z"
   },
   {
    "duration": 203,
    "start_time": "2021-12-08T07:59:47.705Z"
   },
   {
    "duration": 27,
    "start_time": "2021-12-08T07:59:47.912Z"
   },
   {
    "duration": 41,
    "start_time": "2021-12-08T07:59:47.959Z"
   },
   {
    "duration": 7,
    "start_time": "2021-12-08T07:59:48.004Z"
   },
   {
    "duration": 67,
    "start_time": "2021-12-08T07:59:48.014Z"
   },
   {
    "duration": 7,
    "start_time": "2021-12-08T07:59:48.084Z"
   },
   {
    "duration": 42,
    "start_time": "2021-12-08T07:59:48.094Z"
   },
   {
    "duration": 42,
    "start_time": "2021-12-08T07:59:48.139Z"
   },
   {
    "duration": 34,
    "start_time": "2021-12-08T07:59:48.185Z"
   },
   {
    "duration": 130,
    "start_time": "2021-12-08T07:59:48.221Z"
   },
   {
    "duration": 120,
    "start_time": "2021-12-08T07:59:48.358Z"
   },
   {
    "duration": 90,
    "start_time": "2021-12-08T07:59:48.481Z"
   },
   {
    "duration": 90,
    "start_time": "2021-12-08T07:59:48.575Z"
   },
   {
    "duration": 8,
    "start_time": "2021-12-08T07:59:48.667Z"
   },
   {
    "duration": 26,
    "start_time": "2021-12-08T07:59:48.677Z"
   },
   {
    "duration": 73,
    "start_time": "2021-12-08T07:59:48.706Z"
   },
   {
    "duration": 18,
    "start_time": "2021-12-08T07:59:48.782Z"
   },
   {
    "duration": 19,
    "start_time": "2021-12-08T07:59:48.803Z"
   },
   {
    "duration": 124,
    "start_time": "2021-12-08T07:59:48.825Z"
   },
   {
    "duration": 23,
    "start_time": "2021-12-08T07:59:48.959Z"
   },
   {
    "duration": 21,
    "start_time": "2021-12-08T07:59:48.985Z"
   },
   {
    "duration": 66,
    "start_time": "2021-12-08T07:59:49.014Z"
   },
   {
    "duration": 27,
    "start_time": "2021-12-08T07:59:49.083Z"
   },
   {
    "duration": 52,
    "start_time": "2021-12-08T07:59:49.115Z"
   },
   {
    "duration": 22,
    "start_time": "2021-12-08T07:59:49.170Z"
   },
   {
    "duration": 13,
    "start_time": "2021-12-08T07:59:49.194Z"
   },
   {
    "duration": 65,
    "start_time": "2021-12-08T07:59:49.209Z"
   },
   {
    "duration": 23,
    "start_time": "2021-12-08T07:59:49.276Z"
   },
   {
    "duration": 6,
    "start_time": "2021-12-08T07:59:49.302Z"
   },
   {
    "duration": 62,
    "start_time": "2021-12-08T07:59:49.311Z"
   },
   {
    "duration": 20,
    "start_time": "2021-12-08T07:59:49.376Z"
   },
   {
    "duration": 25,
    "start_time": "2021-12-08T07:59:49.398Z"
   },
   {
    "duration": 47,
    "start_time": "2021-12-08T07:59:49.425Z"
   },
   {
    "duration": 11,
    "start_time": "2021-12-08T07:59:49.475Z"
   },
   {
    "duration": 8,
    "start_time": "2021-12-08T07:59:49.489Z"
   },
   {
    "duration": 17,
    "start_time": "2021-12-08T07:59:49.499Z"
   },
   {
    "duration": 44,
    "start_time": "2021-12-08T07:59:49.519Z"
   },
   {
    "duration": 881,
    "start_time": "2021-12-08T08:03:01.690Z"
   },
   {
    "duration": 194,
    "start_time": "2021-12-08T08:03:02.574Z"
   },
   {
    "duration": 29,
    "start_time": "2021-12-08T08:03:02.771Z"
   },
   {
    "duration": 56,
    "start_time": "2021-12-08T08:03:02.804Z"
   },
   {
    "duration": 5,
    "start_time": "2021-12-08T08:03:02.863Z"
   },
   {
    "duration": 28,
    "start_time": "2021-12-08T08:03:02.871Z"
   },
   {
    "duration": 10,
    "start_time": "2021-12-08T08:03:02.902Z"
   },
   {
    "duration": 68,
    "start_time": "2021-12-08T08:03:02.916Z"
   },
   {
    "duration": 23,
    "start_time": "2021-12-08T08:03:02.987Z"
   },
   {
    "duration": 50,
    "start_time": "2021-12-08T08:03:03.012Z"
   },
   {
    "duration": 99,
    "start_time": "2021-12-08T08:03:03.064Z"
   },
   {
    "duration": 123,
    "start_time": "2021-12-08T08:03:03.166Z"
   },
   {
    "duration": 94,
    "start_time": "2021-12-08T08:03:03.291Z"
   },
   {
    "duration": 72,
    "start_time": "2021-12-08T08:03:03.388Z"
   },
   {
    "duration": 6,
    "start_time": "2021-12-08T08:03:03.463Z"
   },
   {
    "duration": 16,
    "start_time": "2021-12-08T08:03:03.472Z"
   },
   {
    "duration": 80,
    "start_time": "2021-12-08T08:03:03.491Z"
   },
   {
    "duration": 18,
    "start_time": "2021-12-08T08:03:03.574Z"
   },
   {
    "duration": 15,
    "start_time": "2021-12-08T08:03:03.594Z"
   },
   {
    "duration": 133,
    "start_time": "2021-12-08T08:03:03.611Z"
   },
   {
    "duration": 38,
    "start_time": "2021-12-08T08:03:03.746Z"
   },
   {
    "duration": 20,
    "start_time": "2021-12-08T08:03:03.786Z"
   },
   {
    "duration": 20,
    "start_time": "2021-12-08T08:03:03.811Z"
   },
   {
    "duration": 20,
    "start_time": "2021-12-08T08:03:03.860Z"
   },
   {
    "duration": 21,
    "start_time": "2021-12-08T08:03:03.883Z"
   },
   {
    "duration": 57,
    "start_time": "2021-12-08T08:03:03.906Z"
   },
   {
    "duration": 11,
    "start_time": "2021-12-08T08:03:03.966Z"
   },
   {
    "duration": 27,
    "start_time": "2021-12-08T08:03:03.979Z"
   },
   {
    "duration": 59,
    "start_time": "2021-12-08T08:03:04.008Z"
   },
   {
    "duration": 5,
    "start_time": "2021-12-08T08:03:04.069Z"
   },
   {
    "duration": 887,
    "start_time": "2021-12-08T08:03:04.076Z"
   },
   {
    "duration": -93,
    "start_time": "2021-12-08T08:03:05.058Z"
   },
   {
    "duration": -95,
    "start_time": "2021-12-08T08:03:05.062Z"
   },
   {
    "duration": -98,
    "start_time": "2021-12-08T08:03:05.066Z"
   },
   {
    "duration": -100,
    "start_time": "2021-12-08T08:03:05.069Z"
   },
   {
    "duration": -100,
    "start_time": "2021-12-08T08:03:05.071Z"
   },
   {
    "duration": -101,
    "start_time": "2021-12-08T08:03:05.073Z"
   },
   {
    "duration": -102,
    "start_time": "2021-12-08T08:03:05.076Z"
   },
   {
    "duration": 822,
    "start_time": "2021-12-08T08:34:10.344Z"
   },
   {
    "duration": 187,
    "start_time": "2021-12-08T08:34:11.169Z"
   },
   {
    "duration": 28,
    "start_time": "2021-12-08T08:34:11.361Z"
   },
   {
    "duration": 35,
    "start_time": "2021-12-08T08:34:11.392Z"
   },
   {
    "duration": 7,
    "start_time": "2021-12-08T08:34:11.460Z"
   },
   {
    "duration": 27,
    "start_time": "2021-12-08T08:34:11.470Z"
   },
   {
    "duration": 7,
    "start_time": "2021-12-08T08:34:11.500Z"
   },
   {
    "duration": 67,
    "start_time": "2021-12-08T08:34:11.511Z"
   },
   {
    "duration": 25,
    "start_time": "2021-12-08T08:34:11.582Z"
   },
   {
    "duration": 54,
    "start_time": "2021-12-08T08:34:11.610Z"
   },
   {
    "duration": 106,
    "start_time": "2021-12-08T08:34:11.666Z"
   },
   {
    "duration": 117,
    "start_time": "2021-12-08T08:34:11.775Z"
   },
   {
    "duration": 84,
    "start_time": "2021-12-08T08:34:11.895Z"
   },
   {
    "duration": 77,
    "start_time": "2021-12-08T08:34:11.982Z"
   },
   {
    "duration": 6,
    "start_time": "2021-12-08T08:34:12.063Z"
   },
   {
    "duration": 22,
    "start_time": "2021-12-08T08:34:12.072Z"
   },
   {
    "duration": 123,
    "start_time": "2021-12-08T08:34:12.097Z"
   },
   {
    "duration": 40,
    "start_time": "2021-12-08T08:34:12.223Z"
   },
   {
    "duration": 19,
    "start_time": "2021-12-08T08:34:12.265Z"
   },
   {
    "duration": 121,
    "start_time": "2021-12-08T08:34:12.288Z"
   },
   {
    "duration": 22,
    "start_time": "2021-12-08T08:34:12.412Z"
   },
   {
    "duration": 35,
    "start_time": "2021-12-08T08:34:12.437Z"
   },
   {
    "duration": 20,
    "start_time": "2021-12-08T08:34:12.477Z"
   },
   {
    "duration": 20,
    "start_time": "2021-12-08T08:34:12.500Z"
   },
   {
    "duration": 55,
    "start_time": "2021-12-08T08:34:12.523Z"
   },
   {
    "duration": 23,
    "start_time": "2021-12-08T08:34:12.581Z"
   },
   {
    "duration": 12,
    "start_time": "2021-12-08T08:34:12.606Z"
   },
   {
    "duration": 64,
    "start_time": "2021-12-08T08:34:12.621Z"
   },
   {
    "duration": 22,
    "start_time": "2021-12-08T08:34:12.688Z"
   },
   {
    "duration": 7,
    "start_time": "2021-12-08T08:34:12.712Z"
   },
   {
    "duration": 61,
    "start_time": "2021-12-08T08:34:12.724Z"
   },
   {
    "duration": 31,
    "start_time": "2021-12-08T08:34:12.788Z"
   },
   {
    "duration": 32,
    "start_time": "2021-12-08T08:34:12.859Z"
   },
   {
    "duration": 21,
    "start_time": "2021-12-08T08:34:12.894Z"
   },
   {
    "duration": 48,
    "start_time": "2021-12-08T08:34:12.919Z"
   },
   {
    "duration": 6,
    "start_time": "2021-12-08T08:34:12.970Z"
   },
   {
    "duration": 10,
    "start_time": "2021-12-08T08:34:12.979Z"
   },
   {
    "duration": 6,
    "start_time": "2021-12-08T08:34:12.991Z"
   },
   {
    "duration": 761,
    "start_time": "2021-12-08T08:40:09.997Z"
   },
   {
    "duration": 179,
    "start_time": "2021-12-08T08:40:10.761Z"
   },
   {
    "duration": 30,
    "start_time": "2021-12-08T08:40:10.943Z"
   },
   {
    "duration": 34,
    "start_time": "2021-12-08T08:40:10.976Z"
   },
   {
    "duration": 5,
    "start_time": "2021-12-08T08:40:11.012Z"
   },
   {
    "duration": 54,
    "start_time": "2021-12-08T08:40:11.020Z"
   },
   {
    "duration": 8,
    "start_time": "2021-12-08T08:40:11.076Z"
   },
   {
    "duration": 31,
    "start_time": "2021-12-08T08:40:11.087Z"
   },
   {
    "duration": 55,
    "start_time": "2021-12-08T08:40:11.121Z"
   },
   {
    "duration": 32,
    "start_time": "2021-12-08T08:40:11.178Z"
   },
   {
    "duration": 114,
    "start_time": "2021-12-08T08:40:11.212Z"
   },
   {
    "duration": 100,
    "start_time": "2021-12-08T08:40:11.328Z"
   },
   {
    "duration": 91,
    "start_time": "2021-12-08T08:40:11.430Z"
   },
   {
    "duration": 60,
    "start_time": "2021-12-08T08:40:11.523Z"
   },
   {
    "duration": 4,
    "start_time": "2021-12-08T08:40:11.585Z"
   },
   {
    "duration": 18,
    "start_time": "2021-12-08T08:40:11.591Z"
   },
   {
    "duration": 81,
    "start_time": "2021-12-08T08:40:11.611Z"
   },
   {
    "duration": 15,
    "start_time": "2021-12-08T08:40:11.695Z"
   },
   {
    "duration": 15,
    "start_time": "2021-12-08T08:40:11.712Z"
   },
   {
    "duration": 130,
    "start_time": "2021-12-08T08:40:11.729Z"
   },
   {
    "duration": 21,
    "start_time": "2021-12-08T08:40:11.861Z"
   },
   {
    "duration": 23,
    "start_time": "2021-12-08T08:40:11.884Z"
   },
   {
    "duration": 20,
    "start_time": "2021-12-08T08:40:11.911Z"
   },
   {
    "duration": 22,
    "start_time": "2021-12-08T08:40:11.960Z"
   },
   {
    "duration": 21,
    "start_time": "2021-12-08T08:40:11.985Z"
   },
   {
    "duration": 24,
    "start_time": "2021-12-08T08:40:12.008Z"
   },
   {
    "duration": 11,
    "start_time": "2021-12-08T08:40:12.060Z"
   },
   {
    "duration": 26,
    "start_time": "2021-12-08T08:40:12.073Z"
   },
   {
    "duration": 24,
    "start_time": "2021-12-08T08:40:12.102Z"
   },
   {
    "duration": 34,
    "start_time": "2021-12-08T08:40:12.128Z"
   },
   {
    "duration": 945,
    "start_time": "2021-12-08T08:40:12.164Z"
   },
   {
    "duration": -93,
    "start_time": "2021-12-08T08:40:13.204Z"
   },
   {
    "duration": -94,
    "start_time": "2021-12-08T08:40:13.207Z"
   },
   {
    "duration": -95,
    "start_time": "2021-12-08T08:40:13.209Z"
   },
   {
    "duration": -96,
    "start_time": "2021-12-08T08:40:13.212Z"
   },
   {
    "duration": -97,
    "start_time": "2021-12-08T08:40:13.214Z"
   },
   {
    "duration": -98,
    "start_time": "2021-12-08T08:40:13.217Z"
   },
   {
    "duration": -101,
    "start_time": "2021-12-08T08:40:13.221Z"
   },
   {
    "duration": 798,
    "start_time": "2021-12-08T08:42:31.475Z"
   },
   {
    "duration": 179,
    "start_time": "2021-12-08T08:42:32.275Z"
   },
   {
    "duration": 26,
    "start_time": "2021-12-08T08:42:32.458Z"
   },
   {
    "duration": 33,
    "start_time": "2021-12-08T08:42:32.489Z"
   },
   {
    "duration": 37,
    "start_time": "2021-12-08T08:42:32.524Z"
   },
   {
    "duration": 28,
    "start_time": "2021-12-08T08:42:32.564Z"
   },
   {
    "duration": 15,
    "start_time": "2021-12-08T08:42:32.595Z"
   },
   {
    "duration": 48,
    "start_time": "2021-12-08T08:42:32.614Z"
   },
   {
    "duration": 22,
    "start_time": "2021-12-08T08:42:32.664Z"
   },
   {
    "duration": 37,
    "start_time": "2021-12-08T08:42:32.689Z"
   },
   {
    "duration": 106,
    "start_time": "2021-12-08T08:42:32.729Z"
   },
   {
    "duration": 107,
    "start_time": "2021-12-08T08:42:32.838Z"
   },
   {
    "duration": 81,
    "start_time": "2021-12-08T08:42:32.947Z"
   },
   {
    "duration": 71,
    "start_time": "2021-12-08T08:42:33.031Z"
   },
   {
    "duration": 6,
    "start_time": "2021-12-08T08:42:33.106Z"
   },
   {
    "duration": 15,
    "start_time": "2021-12-08T08:42:33.114Z"
   },
   {
    "duration": 84,
    "start_time": "2021-12-08T08:42:33.131Z"
   },
   {
    "duration": 42,
    "start_time": "2021-12-08T08:42:33.218Z"
   },
   {
    "duration": 18,
    "start_time": "2021-12-08T08:42:33.263Z"
   },
   {
    "duration": 123,
    "start_time": "2021-12-08T08:42:33.284Z"
   },
   {
    "duration": 24,
    "start_time": "2021-12-08T08:42:33.409Z"
   },
   {
    "duration": 37,
    "start_time": "2021-12-08T08:42:33.435Z"
   },
   {
    "duration": 21,
    "start_time": "2021-12-08T08:42:33.477Z"
   },
   {
    "duration": 19,
    "start_time": "2021-12-08T08:42:33.501Z"
   },
   {
    "duration": 54,
    "start_time": "2021-12-08T08:42:33.523Z"
   },
   {
    "duration": 21,
    "start_time": "2021-12-08T08:42:33.580Z"
   },
   {
    "duration": 11,
    "start_time": "2021-12-08T08:42:33.604Z"
   },
   {
    "duration": 58,
    "start_time": "2021-12-08T08:42:33.617Z"
   },
   {
    "duration": 27,
    "start_time": "2021-12-08T08:42:33.678Z"
   },
   {
    "duration": 6,
    "start_time": "2021-12-08T08:42:33.708Z"
   },
   {
    "duration": 60,
    "start_time": "2021-12-08T08:42:33.717Z"
   },
   {
    "duration": 18,
    "start_time": "2021-12-08T08:42:33.780Z"
   },
   {
    "duration": 27,
    "start_time": "2021-12-08T08:42:33.800Z"
   },
   {
    "duration": 50,
    "start_time": "2021-12-08T08:42:33.830Z"
   },
   {
    "duration": 11,
    "start_time": "2021-12-08T08:42:33.883Z"
   },
   {
    "duration": 6,
    "start_time": "2021-12-08T08:42:33.896Z"
   },
   {
    "duration": 9,
    "start_time": "2021-12-08T08:42:33.904Z"
   },
   {
    "duration": 48,
    "start_time": "2021-12-08T08:42:33.915Z"
   },
   {
    "duration": 775,
    "start_time": "2021-12-08T08:52:05.467Z"
   },
   {
    "duration": 182,
    "start_time": "2021-12-08T08:52:06.244Z"
   },
   {
    "duration": 35,
    "start_time": "2021-12-08T08:52:06.430Z"
   },
   {
    "duration": 31,
    "start_time": "2021-12-08T08:52:06.467Z"
   },
   {
    "duration": 5,
    "start_time": "2021-12-08T08:52:06.501Z"
   },
   {
    "duration": 52,
    "start_time": "2021-12-08T08:52:06.508Z"
   },
   {
    "duration": 6,
    "start_time": "2021-12-08T08:52:06.562Z"
   },
   {
    "duration": 30,
    "start_time": "2021-12-08T08:52:06.571Z"
   },
   {
    "duration": 22,
    "start_time": "2021-12-08T08:52:06.605Z"
   },
   {
    "duration": 59,
    "start_time": "2021-12-08T08:52:06.629Z"
   },
   {
    "duration": 99,
    "start_time": "2021-12-08T08:52:06.690Z"
   },
   {
    "duration": 117,
    "start_time": "2021-12-08T08:52:06.792Z"
   },
   {
    "duration": 81,
    "start_time": "2021-12-08T08:52:06.911Z"
   },
   {
    "duration": 68,
    "start_time": "2021-12-08T08:52:06.994Z"
   },
   {
    "duration": 5,
    "start_time": "2021-12-08T08:52:07.064Z"
   },
   {
    "duration": 17,
    "start_time": "2021-12-08T08:52:07.071Z"
   },
   {
    "duration": 78,
    "start_time": "2021-12-08T08:52:07.090Z"
   },
   {
    "duration": 15,
    "start_time": "2021-12-08T08:52:07.171Z"
   },
   {
    "duration": 18,
    "start_time": "2021-12-08T08:52:07.188Z"
   },
   {
    "duration": 123,
    "start_time": "2021-12-08T08:52:07.208Z"
   },
   {
    "duration": 30,
    "start_time": "2021-12-08T08:52:07.333Z"
   },
   {
    "duration": 20,
    "start_time": "2021-12-08T08:52:07.365Z"
   },
   {
    "duration": 20,
    "start_time": "2021-12-08T08:52:07.389Z"
   },
   {
    "duration": 53,
    "start_time": "2021-12-08T08:52:07.412Z"
   },
   {
    "duration": 20,
    "start_time": "2021-12-08T08:52:07.468Z"
   },
   {
    "duration": 21,
    "start_time": "2021-12-08T08:52:07.491Z"
   },
   {
    "duration": 51,
    "start_time": "2021-12-08T08:52:07.515Z"
   },
   {
    "duration": 28,
    "start_time": "2021-12-08T08:52:07.569Z"
   },
   {
    "duration": 22,
    "start_time": "2021-12-08T08:52:07.600Z"
   },
   {
    "duration": 34,
    "start_time": "2021-12-08T08:52:07.625Z"
   },
   {
    "duration": 31,
    "start_time": "2021-12-08T08:52:07.662Z"
   },
   {
    "duration": 19,
    "start_time": "2021-12-08T08:52:07.695Z"
   },
   {
    "duration": 53,
    "start_time": "2021-12-08T08:52:07.717Z"
   },
   {
    "duration": 17,
    "start_time": "2021-12-08T08:52:07.773Z"
   },
   {
    "duration": 10,
    "start_time": "2021-12-08T08:52:07.793Z"
   },
   {
    "duration": 6,
    "start_time": "2021-12-08T08:52:07.806Z"
   },
   {
    "duration": 48,
    "start_time": "2021-12-08T08:52:07.814Z"
   },
   {
    "duration": 7,
    "start_time": "2021-12-08T08:52:07.864Z"
   },
   {
    "duration": 798,
    "start_time": "2021-12-08T08:53:03.146Z"
   },
   {
    "duration": 188,
    "start_time": "2021-12-08T08:53:03.946Z"
   },
   {
    "duration": 29,
    "start_time": "2021-12-08T08:53:04.137Z"
   },
   {
    "duration": 36,
    "start_time": "2021-12-08T08:53:04.169Z"
   },
   {
    "duration": 5,
    "start_time": "2021-12-08T08:53:04.207Z"
   },
   {
    "duration": 54,
    "start_time": "2021-12-08T08:53:04.215Z"
   },
   {
    "duration": 6,
    "start_time": "2021-12-08T08:53:04.271Z"
   },
   {
    "duration": 33,
    "start_time": "2021-12-08T08:53:04.280Z"
   },
   {
    "duration": 46,
    "start_time": "2021-12-08T08:53:04.316Z"
   },
   {
    "duration": 30,
    "start_time": "2021-12-08T08:53:04.365Z"
   },
   {
    "duration": 101,
    "start_time": "2021-12-08T08:53:04.398Z"
   },
   {
    "duration": 106,
    "start_time": "2021-12-08T08:53:04.501Z"
   },
   {
    "duration": 82,
    "start_time": "2021-12-08T08:53:04.610Z"
   },
   {
    "duration": 67,
    "start_time": "2021-12-08T08:53:04.695Z"
   },
   {
    "duration": 4,
    "start_time": "2021-12-08T08:53:04.764Z"
   },
   {
    "duration": 19,
    "start_time": "2021-12-08T08:53:04.771Z"
   },
   {
    "duration": 79,
    "start_time": "2021-12-08T08:53:04.793Z"
   },
   {
    "duration": 15,
    "start_time": "2021-12-08T08:53:04.875Z"
   },
   {
    "duration": 15,
    "start_time": "2021-12-08T08:53:04.892Z"
   },
   {
    "duration": 125,
    "start_time": "2021-12-08T08:53:04.910Z"
   },
   {
    "duration": 40,
    "start_time": "2021-12-08T08:53:05.038Z"
   },
   {
    "duration": 21,
    "start_time": "2021-12-08T08:53:05.080Z"
   },
   {
    "duration": 21,
    "start_time": "2021-12-08T08:53:05.107Z"
   },
   {
    "duration": 19,
    "start_time": "2021-12-08T08:53:05.160Z"
   },
   {
    "duration": 21,
    "start_time": "2021-12-08T08:53:05.182Z"
   },
   {
    "duration": 20,
    "start_time": "2021-12-08T08:53:05.205Z"
   },
   {
    "duration": 11,
    "start_time": "2021-12-08T08:53:05.259Z"
   },
   {
    "duration": 24,
    "start_time": "2021-12-08T08:53:05.272Z"
   },
   {
    "duration": 23,
    "start_time": "2021-12-08T08:53:05.298Z"
   },
   {
    "duration": 38,
    "start_time": "2021-12-08T08:53:05.324Z"
   },
   {
    "duration": 29,
    "start_time": "2021-12-08T08:53:05.365Z"
   },
   {
    "duration": 16,
    "start_time": "2021-12-08T08:53:05.397Z"
   },
   {
    "duration": 54,
    "start_time": "2021-12-08T08:53:05.416Z"
   },
   {
    "duration": 28,
    "start_time": "2021-12-08T08:53:05.474Z"
   },
   {
    "duration": 15,
    "start_time": "2021-12-08T08:53:05.505Z"
   },
   {
    "duration": 7,
    "start_time": "2021-12-08T08:53:05.522Z"
   },
   {
    "duration": 8,
    "start_time": "2021-12-08T08:53:05.560Z"
   },
   {
    "duration": 7,
    "start_time": "2021-12-08T08:53:05.570Z"
   },
   {
    "duration": 669,
    "start_time": "2021-12-09T18:17:07.572Z"
   },
   {
    "duration": 143,
    "start_time": "2021-12-09T18:17:08.243Z"
   },
   {
    "duration": 27,
    "start_time": "2021-12-09T18:17:08.388Z"
   },
   {
    "duration": 34,
    "start_time": "2021-12-09T18:17:08.417Z"
   },
   {
    "duration": 9,
    "start_time": "2021-12-09T18:17:08.454Z"
   },
   {
    "duration": 40,
    "start_time": "2021-12-09T18:17:08.466Z"
   },
   {
    "duration": 4,
    "start_time": "2021-12-09T18:17:08.508Z"
   },
   {
    "duration": 29,
    "start_time": "2021-12-09T18:17:08.514Z"
   },
   {
    "duration": 25,
    "start_time": "2021-12-09T18:17:08.545Z"
   },
   {
    "duration": 25,
    "start_time": "2021-12-09T18:17:08.572Z"
   },
   {
    "duration": 67,
    "start_time": "2021-12-09T18:17:08.599Z"
   },
   {
    "duration": 88,
    "start_time": "2021-12-09T18:17:08.667Z"
   },
   {
    "duration": 59,
    "start_time": "2021-12-09T18:17:08.757Z"
   },
   {
    "duration": 40,
    "start_time": "2021-12-09T18:17:08.817Z"
   },
   {
    "duration": 3,
    "start_time": "2021-12-09T18:17:08.859Z"
   },
   {
    "duration": 26,
    "start_time": "2021-12-09T18:17:08.864Z"
   },
   {
    "duration": 45,
    "start_time": "2021-12-09T18:17:08.892Z"
   },
   {
    "duration": 19,
    "start_time": "2021-12-09T18:17:08.939Z"
   },
   {
    "duration": 14,
    "start_time": "2021-12-09T18:17:08.959Z"
   },
   {
    "duration": 88,
    "start_time": "2021-12-09T18:17:08.975Z"
   },
   {
    "duration": 16,
    "start_time": "2021-12-09T18:17:09.065Z"
   },
   {
    "duration": 30,
    "start_time": "2021-12-09T18:17:09.082Z"
   },
   {
    "duration": 15,
    "start_time": "2021-12-09T18:17:09.115Z"
   },
   {
    "duration": 21,
    "start_time": "2021-12-09T18:17:09.131Z"
   },
   {
    "duration": 23,
    "start_time": "2021-12-09T18:17:09.154Z"
   },
   {
    "duration": 33,
    "start_time": "2021-12-09T18:17:09.178Z"
   },
   {
    "duration": 17,
    "start_time": "2021-12-09T18:17:09.212Z"
   },
   {
    "duration": 38,
    "start_time": "2021-12-09T18:17:09.231Z"
   },
   {
    "duration": 20,
    "start_time": "2021-12-09T18:17:09.271Z"
   },
   {
    "duration": 4,
    "start_time": "2021-12-09T18:17:09.293Z"
   },
   {
    "duration": 50,
    "start_time": "2021-12-09T18:17:09.299Z"
   },
   {
    "duration": 34,
    "start_time": "2021-12-09T18:17:09.351Z"
   },
   {
    "duration": 40,
    "start_time": "2021-12-09T18:17:09.387Z"
   },
   {
    "duration": 19,
    "start_time": "2021-12-09T18:17:09.429Z"
   },
   {
    "duration": 25,
    "start_time": "2021-12-09T18:17:09.450Z"
   },
   {
    "duration": 16,
    "start_time": "2021-12-09T18:17:09.477Z"
   },
   {
    "duration": 24,
    "start_time": "2021-12-09T18:17:09.495Z"
   },
   {
    "duration": 25,
    "start_time": "2021-12-09T18:17:09.521Z"
   },
   {
    "duration": 612,
    "start_time": "2021-12-09T18:17:37.317Z"
   },
   {
    "duration": 135,
    "start_time": "2021-12-09T18:17:37.931Z"
   },
   {
    "duration": 17,
    "start_time": "2021-12-09T18:17:38.068Z"
   },
   {
    "duration": 33,
    "start_time": "2021-12-09T18:17:38.086Z"
   },
   {
    "duration": 4,
    "start_time": "2021-12-09T18:17:38.121Z"
   },
   {
    "duration": 19,
    "start_time": "2021-12-09T18:17:38.126Z"
   },
   {
    "duration": 3,
    "start_time": "2021-12-09T18:17:38.147Z"
   },
   {
    "duration": 23,
    "start_time": "2021-12-09T18:17:38.153Z"
   },
   {
    "duration": 42,
    "start_time": "2021-12-09T18:17:38.178Z"
   },
   {
    "duration": 23,
    "start_time": "2021-12-09T18:17:38.222Z"
   },
   {
    "duration": 76,
    "start_time": "2021-12-09T18:17:38.247Z"
   },
   {
    "duration": 68,
    "start_time": "2021-12-09T18:17:38.324Z"
   },
   {
    "duration": 62,
    "start_time": "2021-12-09T18:17:38.394Z"
   },
   {
    "duration": 53,
    "start_time": "2021-12-09T18:17:38.458Z"
   },
   {
    "duration": 3,
    "start_time": "2021-12-09T18:17:38.513Z"
   },
   {
    "duration": 15,
    "start_time": "2021-12-09T18:17:38.518Z"
   },
   {
    "duration": 41,
    "start_time": "2021-12-09T18:17:38.535Z"
   },
   {
    "duration": 34,
    "start_time": "2021-12-09T18:17:38.578Z"
   },
   {
    "duration": 13,
    "start_time": "2021-12-09T18:17:38.614Z"
   },
   {
    "duration": 92,
    "start_time": "2021-12-09T18:17:38.629Z"
   },
   {
    "duration": 15,
    "start_time": "2021-12-09T18:17:38.722Z"
   },
   {
    "duration": 14,
    "start_time": "2021-12-09T18:17:38.738Z"
   },
   {
    "duration": 13,
    "start_time": "2021-12-09T18:17:38.755Z"
   },
   {
    "duration": 38,
    "start_time": "2021-12-09T18:17:38.770Z"
   },
   {
    "duration": 15,
    "start_time": "2021-12-09T18:17:38.810Z"
   },
   {
    "duration": 15,
    "start_time": "2021-12-09T18:17:38.827Z"
   },
   {
    "duration": 8,
    "start_time": "2021-12-09T18:17:38.844Z"
   },
   {
    "duration": 23,
    "start_time": "2021-12-09T18:17:38.854Z"
   },
   {
    "duration": 42,
    "start_time": "2021-12-09T18:17:38.879Z"
   },
   {
    "duration": 5,
    "start_time": "2021-12-09T18:17:38.923Z"
   },
   {
    "duration": 23,
    "start_time": "2021-12-09T18:17:38.929Z"
   },
   {
    "duration": 15,
    "start_time": "2021-12-09T18:17:38.953Z"
   },
   {
    "duration": 37,
    "start_time": "2021-12-09T18:17:38.970Z"
   },
   {
    "duration": 13,
    "start_time": "2021-12-09T18:17:39.009Z"
   },
   {
    "duration": 8,
    "start_time": "2021-12-09T18:17:39.024Z"
   },
   {
    "duration": 4,
    "start_time": "2021-12-09T18:17:39.034Z"
   },
   {
    "duration": 7,
    "start_time": "2021-12-09T18:17:39.039Z"
   },
   {
    "duration": 4,
    "start_time": "2021-12-09T18:17:39.048Z"
   },
   {
    "duration": 585,
    "start_time": "2021-12-09T18:18:11.253Z"
   },
   {
    "duration": 133,
    "start_time": "2021-12-09T18:18:11.840Z"
   },
   {
    "duration": 19,
    "start_time": "2021-12-09T18:18:11.976Z"
   },
   {
    "duration": 33,
    "start_time": "2021-12-09T18:18:11.997Z"
   },
   {
    "duration": 3,
    "start_time": "2021-12-09T18:18:12.032Z"
   },
   {
    "duration": 23,
    "start_time": "2021-12-09T18:18:12.037Z"
   },
   {
    "duration": 4,
    "start_time": "2021-12-09T18:18:12.062Z"
   },
   {
    "duration": 42,
    "start_time": "2021-12-09T18:18:12.070Z"
   },
   {
    "duration": 17,
    "start_time": "2021-12-09T18:18:12.115Z"
   },
   {
    "duration": 26,
    "start_time": "2021-12-09T18:18:12.133Z"
   },
   {
    "duration": 86,
    "start_time": "2021-12-09T18:18:12.161Z"
   },
   {
    "duration": 75,
    "start_time": "2021-12-09T18:18:12.249Z"
   },
   {
    "duration": 52,
    "start_time": "2021-12-09T18:18:12.326Z"
   },
   {
    "duration": 51,
    "start_time": "2021-12-09T18:18:12.380Z"
   },
   {
    "duration": 4,
    "start_time": "2021-12-09T18:18:12.433Z"
   },
   {
    "duration": 15,
    "start_time": "2021-12-09T18:18:12.438Z"
   },
   {
    "duration": 57,
    "start_time": "2021-12-09T18:18:12.455Z"
   },
   {
    "duration": 12,
    "start_time": "2021-12-09T18:18:12.514Z"
   },
   {
    "duration": 20,
    "start_time": "2021-12-09T18:18:12.527Z"
   },
   {
    "duration": 83,
    "start_time": "2021-12-09T18:18:12.549Z"
   },
   {
    "duration": 19,
    "start_time": "2021-12-09T18:18:12.634Z"
   },
   {
    "duration": 16,
    "start_time": "2021-12-09T18:18:12.654Z"
   },
   {
    "duration": 36,
    "start_time": "2021-12-09T18:18:12.673Z"
   },
   {
    "duration": 15,
    "start_time": "2021-12-09T18:18:12.711Z"
   },
   {
    "duration": 19,
    "start_time": "2021-12-09T18:18:12.728Z"
   },
   {
    "duration": 19,
    "start_time": "2021-12-09T18:18:12.749Z"
   },
   {
    "duration": 9,
    "start_time": "2021-12-09T18:18:12.770Z"
   },
   {
    "duration": 40,
    "start_time": "2021-12-09T18:18:12.781Z"
   },
   {
    "duration": 15,
    "start_time": "2021-12-09T18:18:12.823Z"
   },
   {
    "duration": 4,
    "start_time": "2021-12-09T18:18:12.840Z"
   },
   {
    "duration": 22,
    "start_time": "2021-12-09T18:18:12.846Z"
   },
   {
    "duration": 37,
    "start_time": "2021-12-09T18:18:12.870Z"
   },
   {
    "duration": 19,
    "start_time": "2021-12-09T18:18:12.909Z"
   },
   {
    "duration": 13,
    "start_time": "2021-12-09T18:18:12.929Z"
   },
   {
    "duration": 8,
    "start_time": "2021-12-09T18:18:12.944Z"
   },
   {
    "duration": 5,
    "start_time": "2021-12-09T18:18:12.953Z"
   },
   {
    "duration": 8,
    "start_time": "2021-12-09T18:18:12.959Z"
   },
   {
    "duration": 39,
    "start_time": "2021-12-09T18:18:12.969Z"
   },
   {
    "duration": 287,
    "start_time": "2022-02-01T06:41:11.980Z"
   },
   {
    "duration": 86,
    "start_time": "2022-02-01T06:42:32.709Z"
   },
   {
    "duration": 88,
    "start_time": "2022-02-01T06:44:28.372Z"
   },
   {
    "duration": 252,
    "start_time": "2022-02-01T06:44:44.337Z"
   },
   {
    "duration": 81,
    "start_time": "2022-02-01T06:45:04.099Z"
   }
  ],
  "colab": {
   "collapsed_sections": [
    "E0vqbgi9ay0H",
    "VUC88oWjTJw2"
   ],
   "name": "yandex_music_project_2021.2.ipynb",
   "provenance": []
  },
  "kernelspec": {
   "display_name": "Python 3 (ipykernel)",
   "language": "python",
   "name": "python3"
  },
  "language_info": {
   "codemirror_mode": {
    "name": "ipython",
    "version": 3
   },
   "file_extension": ".py",
   "mimetype": "text/x-python",
   "name": "python",
   "nbconvert_exporter": "python",
   "pygments_lexer": "ipython3",
   "version": "3.9.12"
  },
  "toc": {
   "base_numbering": 1,
   "nav_menu": {},
   "number_sections": true,
   "sideBar": true,
   "skip_h1_title": true,
   "title_cell": "Table of Contents",
   "title_sidebar": "Contents",
   "toc_cell": false,
   "toc_position": {
    "height": "calc(100% - 180px)",
    "left": "10px",
    "top": "150px",
    "width": "149.275px"
   },
   "toc_section_display": true,
   "toc_window_display": false
  }
 },
 "nbformat": 4,
 "nbformat_minor": 1
}

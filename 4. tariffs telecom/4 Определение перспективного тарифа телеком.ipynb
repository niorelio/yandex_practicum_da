{
 "cells": [
  {
   "cell_type": "markdown",
   "metadata": {},
   "source": [
    "## Изучение данных из файла "
   ]
  },
  {
   "cell_type": "markdown",
   "metadata": {},
   "source": [
    "[Начало тетрадки](#intro)"
   ]
  },
  {
   "cell_type": "code",
   "execution_count": 1,
   "metadata": {},
   "outputs": [],
   "source": [
    "import pandas as pd\n",
    "import numpy as np\n",
    "import matplotlib.pyplot as plt\n",
    "\n",
    "from datetime import datetime\n",
    "from scipy import stats as st"
   ]
  },
  {
   "cell_type": "markdown",
   "metadata": {},
   "source": [
    "Подгрузили все необходимы библиотеки, начинаем загружать дата-сеты"
   ]
  },
  {
   "cell_type": "code",
   "execution_count": 2,
   "metadata": {},
   "outputs": [],
   "source": [
    "pd.set_option('display.max_columns', None)\n",
    "pd.options.display.float_format = '{:,.2f}'.format"
   ]
  },
  {
   "cell_type": "markdown",
   "metadata": {},
   "source": [
    "### Информация о пользователях"
   ]
  },
  {
   "cell_type": "code",
   "execution_count": 3,
   "metadata": {},
   "outputs": [
    {
     "data": {
      "text/html": [
       "<div>\n",
       "<style scoped>\n",
       "    .dataframe tbody tr th:only-of-type {\n",
       "        vertical-align: middle;\n",
       "    }\n",
       "\n",
       "    .dataframe tbody tr th {\n",
       "        vertical-align: top;\n",
       "    }\n",
       "\n",
       "    .dataframe thead th {\n",
       "        text-align: right;\n",
       "    }\n",
       "</style>\n",
       "<table border=\"1\" class=\"dataframe\">\n",
       "  <thead>\n",
       "    <tr style=\"text-align: right;\">\n",
       "      <th></th>\n",
       "      <th>user_id</th>\n",
       "      <th>age</th>\n",
       "      <th>churn_date</th>\n",
       "      <th>city</th>\n",
       "      <th>first_name</th>\n",
       "      <th>last_name</th>\n",
       "      <th>reg_date</th>\n",
       "      <th>tariff</th>\n",
       "    </tr>\n",
       "  </thead>\n",
       "  <tbody>\n",
       "    <tr>\n",
       "      <td>0</td>\n",
       "      <td>1000</td>\n",
       "      <td>52</td>\n",
       "      <td>NaN</td>\n",
       "      <td>Краснодар</td>\n",
       "      <td>Рафаил</td>\n",
       "      <td>Верещагин</td>\n",
       "      <td>2018-05-25</td>\n",
       "      <td>ultra</td>\n",
       "    </tr>\n",
       "    <tr>\n",
       "      <td>1</td>\n",
       "      <td>1001</td>\n",
       "      <td>41</td>\n",
       "      <td>NaN</td>\n",
       "      <td>Москва</td>\n",
       "      <td>Иван</td>\n",
       "      <td>Ежов</td>\n",
       "      <td>2018-11-01</td>\n",
       "      <td>smart</td>\n",
       "    </tr>\n",
       "    <tr>\n",
       "      <td>2</td>\n",
       "      <td>1002</td>\n",
       "      <td>59</td>\n",
       "      <td>NaN</td>\n",
       "      <td>Стерлитамак</td>\n",
       "      <td>Евгений</td>\n",
       "      <td>Абрамович</td>\n",
       "      <td>2018-06-17</td>\n",
       "      <td>smart</td>\n",
       "    </tr>\n",
       "    <tr>\n",
       "      <td>3</td>\n",
       "      <td>1003</td>\n",
       "      <td>23</td>\n",
       "      <td>NaN</td>\n",
       "      <td>Москва</td>\n",
       "      <td>Белла</td>\n",
       "      <td>Белякова</td>\n",
       "      <td>2018-08-17</td>\n",
       "      <td>ultra</td>\n",
       "    </tr>\n",
       "    <tr>\n",
       "      <td>4</td>\n",
       "      <td>1004</td>\n",
       "      <td>68</td>\n",
       "      <td>NaN</td>\n",
       "      <td>Новокузнецк</td>\n",
       "      <td>Татьяна</td>\n",
       "      <td>Авдеенко</td>\n",
       "      <td>2018-05-14</td>\n",
       "      <td>ultra</td>\n",
       "    </tr>\n",
       "  </tbody>\n",
       "</table>\n",
       "</div>"
      ],
      "text/plain": [
       "   user_id  age churn_date         city first_name  last_name    reg_date  \\\n",
       "0     1000   52        NaN    Краснодар     Рафаил  Верещагин  2018-05-25   \n",
       "1     1001   41        NaN       Москва       Иван       Ежов  2018-11-01   \n",
       "2     1002   59        NaN  Стерлитамак    Евгений  Абрамович  2018-06-17   \n",
       "3     1003   23        NaN       Москва      Белла   Белякова  2018-08-17   \n",
       "4     1004   68        NaN  Новокузнецк    Татьяна   Авдеенко  2018-05-14   \n",
       "\n",
       "  tariff  \n",
       "0  ultra  \n",
       "1  smart  \n",
       "2  smart  \n",
       "3  ultra  \n",
       "4  ultra  "
      ]
     },
     "execution_count": 3,
     "metadata": {},
     "output_type": "execute_result"
    }
   ],
   "source": [
    "# загружаем информацию о пользователях\n",
    "users = pd.read_csv('/datasets/users.csv')\n",
    "users.head()"
   ]
  },
  {
   "cell_type": "code",
   "execution_count": 4,
   "metadata": {},
   "outputs": [
    {
     "name": "stdout",
     "output_type": "stream",
     "text": [
      "<class 'pandas.core.frame.DataFrame'>\n",
      "RangeIndex: 500 entries, 0 to 499\n",
      "Data columns (total 8 columns):\n",
      "user_id       500 non-null int64\n",
      "age           500 non-null int64\n",
      "churn_date    38 non-null object\n",
      "city          500 non-null object\n",
      "first_name    500 non-null object\n",
      "last_name     500 non-null object\n",
      "reg_date      500 non-null object\n",
      "tariff        500 non-null object\n",
      "dtypes: int64(2), object(6)\n",
      "memory usage: 31.4+ KB\n"
     ]
    }
   ],
   "source": [
    "users.info()"
   ]
  },
  {
   "cell_type": "markdown",
   "metadata": {},
   "source": [
    "#### Вывод об информации о пользователях\n",
    "\n",
    "В таблице 8 столбцов. Тип данных:\n",
    "\n",
    "- *int64* - 2 столбца,\n",
    "- *object* - 6 столбцов.\n",
    "\n",
    "Даты не в порядке - формат строковый вместо датового.\n",
    "\n",
    "38 пользователей прекратили пользование тарифом."
   ]
  },
  {
   "cell_type": "code",
   "execution_count": 5,
   "metadata": {},
   "outputs": [
    {
     "data": {
      "text/html": [
       "<div>\n",
       "<style scoped>\n",
       "    .dataframe tbody tr th:only-of-type {\n",
       "        vertical-align: middle;\n",
       "    }\n",
       "\n",
       "    .dataframe tbody tr th {\n",
       "        vertical-align: top;\n",
       "    }\n",
       "\n",
       "    .dataframe thead th {\n",
       "        text-align: right;\n",
       "    }\n",
       "</style>\n",
       "<table border=\"1\" class=\"dataframe\">\n",
       "  <thead>\n",
       "    <tr style=\"text-align: right;\">\n",
       "      <th></th>\n",
       "      <th>user_id</th>\n",
       "      <th>age</th>\n",
       "    </tr>\n",
       "  </thead>\n",
       "  <tbody>\n",
       "    <tr>\n",
       "      <td>count</td>\n",
       "      <td>500.00</td>\n",
       "      <td>500.00</td>\n",
       "    </tr>\n",
       "    <tr>\n",
       "      <td>mean</td>\n",
       "      <td>1,249.50</td>\n",
       "      <td>46.59</td>\n",
       "    </tr>\n",
       "    <tr>\n",
       "      <td>std</td>\n",
       "      <td>144.48</td>\n",
       "      <td>16.67</td>\n",
       "    </tr>\n",
       "    <tr>\n",
       "      <td>min</td>\n",
       "      <td>1,000.00</td>\n",
       "      <td>18.00</td>\n",
       "    </tr>\n",
       "    <tr>\n",
       "      <td>25%</td>\n",
       "      <td>1,124.75</td>\n",
       "      <td>32.00</td>\n",
       "    </tr>\n",
       "    <tr>\n",
       "      <td>50%</td>\n",
       "      <td>1,249.50</td>\n",
       "      <td>46.00</td>\n",
       "    </tr>\n",
       "    <tr>\n",
       "      <td>75%</td>\n",
       "      <td>1,374.25</td>\n",
       "      <td>62.00</td>\n",
       "    </tr>\n",
       "    <tr>\n",
       "      <td>max</td>\n",
       "      <td>1,499.00</td>\n",
       "      <td>75.00</td>\n",
       "    </tr>\n",
       "  </tbody>\n",
       "</table>\n",
       "</div>"
      ],
      "text/plain": [
       "       user_id    age\n",
       "count   500.00 500.00\n",
       "mean  1,249.50  46.59\n",
       "std     144.48  16.67\n",
       "min   1,000.00  18.00\n",
       "25%   1,124.75  32.00\n",
       "50%   1,249.50  46.00\n",
       "75%   1,374.25  62.00\n",
       "max   1,499.00  75.00"
      ]
     },
     "execution_count": 5,
     "metadata": {},
     "output_type": "execute_result"
    }
   ],
   "source": [
    "users.describe()"
   ]
  },
  {
   "cell_type": "markdown",
   "metadata": {},
   "source": [
    "### Информация о звонках"
   ]
  },
  {
   "cell_type": "code",
   "execution_count": 6,
   "metadata": {},
   "outputs": [],
   "source": [
    "# загружаем информацию о звонках\n",
    "calls = pd.read_csv('/datasets/calls.csv')"
   ]
  },
  {
   "cell_type": "code",
   "execution_count": 7,
   "metadata": {},
   "outputs": [
    {
     "data": {
      "text/html": [
       "<div>\n",
       "<style scoped>\n",
       "    .dataframe tbody tr th:only-of-type {\n",
       "        vertical-align: middle;\n",
       "    }\n",
       "\n",
       "    .dataframe tbody tr th {\n",
       "        vertical-align: top;\n",
       "    }\n",
       "\n",
       "    .dataframe thead th {\n",
       "        text-align: right;\n",
       "    }\n",
       "</style>\n",
       "<table border=\"1\" class=\"dataframe\">\n",
       "  <thead>\n",
       "    <tr style=\"text-align: right;\">\n",
       "      <th></th>\n",
       "      <th>id</th>\n",
       "      <th>call_date</th>\n",
       "      <th>duration</th>\n",
       "      <th>user_id</th>\n",
       "    </tr>\n",
       "  </thead>\n",
       "  <tbody>\n",
       "    <tr>\n",
       "      <td>202602</td>\n",
       "      <td>1499_215</td>\n",
       "      <td>2018-12-26</td>\n",
       "      <td>0.76</td>\n",
       "      <td>1499</td>\n",
       "    </tr>\n",
       "    <tr>\n",
       "      <td>202603</td>\n",
       "      <td>1499_216</td>\n",
       "      <td>2018-10-18</td>\n",
       "      <td>18.83</td>\n",
       "      <td>1499</td>\n",
       "    </tr>\n",
       "    <tr>\n",
       "      <td>202604</td>\n",
       "      <td>1499_217</td>\n",
       "      <td>2018-11-10</td>\n",
       "      <td>10.81</td>\n",
       "      <td>1499</td>\n",
       "    </tr>\n",
       "    <tr>\n",
       "      <td>202605</td>\n",
       "      <td>1499_218</td>\n",
       "      <td>2018-10-06</td>\n",
       "      <td>4.27</td>\n",
       "      <td>1499</td>\n",
       "    </tr>\n",
       "    <tr>\n",
       "      <td>202606</td>\n",
       "      <td>1499_219</td>\n",
       "      <td>2018-12-14</td>\n",
       "      <td>19.62</td>\n",
       "      <td>1499</td>\n",
       "    </tr>\n",
       "  </tbody>\n",
       "</table>\n",
       "</div>"
      ],
      "text/plain": [
       "              id   call_date  duration  user_id\n",
       "202602  1499_215  2018-12-26      0.76     1499\n",
       "202603  1499_216  2018-10-18     18.83     1499\n",
       "202604  1499_217  2018-11-10     10.81     1499\n",
       "202605  1499_218  2018-10-06      4.27     1499\n",
       "202606  1499_219  2018-12-14     19.62     1499"
      ]
     },
     "execution_count": 7,
     "metadata": {},
     "output_type": "execute_result"
    }
   ],
   "source": [
    "calls.tail()"
   ]
  },
  {
   "cell_type": "code",
   "execution_count": 8,
   "metadata": {},
   "outputs": [
    {
     "name": "stdout",
     "output_type": "stream",
     "text": [
      "<class 'pandas.core.frame.DataFrame'>\n",
      "RangeIndex: 202607 entries, 0 to 202606\n",
      "Data columns (total 4 columns):\n",
      "id           202607 non-null object\n",
      "call_date    202607 non-null object\n",
      "duration     202607 non-null float64\n",
      "user_id      202607 non-null int64\n",
      "dtypes: float64(1), int64(1), object(2)\n",
      "memory usage: 6.2+ MB\n"
     ]
    }
   ],
   "source": [
    "calls.info()"
   ]
  },
  {
   "cell_type": "code",
   "execution_count": 9,
   "metadata": {},
   "outputs": [
    {
     "data": {
      "text/html": [
       "<div>\n",
       "<style scoped>\n",
       "    .dataframe tbody tr th:only-of-type {\n",
       "        vertical-align: middle;\n",
       "    }\n",
       "\n",
       "    .dataframe tbody tr th {\n",
       "        vertical-align: top;\n",
       "    }\n",
       "\n",
       "    .dataframe thead th {\n",
       "        text-align: right;\n",
       "    }\n",
       "</style>\n",
       "<table border=\"1\" class=\"dataframe\">\n",
       "  <thead>\n",
       "    <tr style=\"text-align: right;\">\n",
       "      <th></th>\n",
       "      <th>duration</th>\n",
       "      <th>user_id</th>\n",
       "    </tr>\n",
       "  </thead>\n",
       "  <tbody>\n",
       "    <tr>\n",
       "      <td>count</td>\n",
       "      <td>202,607.00</td>\n",
       "      <td>202,607.00</td>\n",
       "    </tr>\n",
       "    <tr>\n",
       "      <td>mean</td>\n",
       "      <td>6.76</td>\n",
       "      <td>1,253.94</td>\n",
       "    </tr>\n",
       "    <tr>\n",
       "      <td>std</td>\n",
       "      <td>5.84</td>\n",
       "      <td>144.72</td>\n",
       "    </tr>\n",
       "    <tr>\n",
       "      <td>min</td>\n",
       "      <td>0.00</td>\n",
       "      <td>1,000.00</td>\n",
       "    </tr>\n",
       "    <tr>\n",
       "      <td>25%</td>\n",
       "      <td>1.30</td>\n",
       "      <td>1,126.00</td>\n",
       "    </tr>\n",
       "    <tr>\n",
       "      <td>50%</td>\n",
       "      <td>6.00</td>\n",
       "      <td>1,260.00</td>\n",
       "    </tr>\n",
       "    <tr>\n",
       "      <td>75%</td>\n",
       "      <td>10.70</td>\n",
       "      <td>1,379.00</td>\n",
       "    </tr>\n",
       "    <tr>\n",
       "      <td>max</td>\n",
       "      <td>38.00</td>\n",
       "      <td>1,499.00</td>\n",
       "    </tr>\n",
       "  </tbody>\n",
       "</table>\n",
       "</div>"
      ],
      "text/plain": [
       "        duration    user_id\n",
       "count 202,607.00 202,607.00\n",
       "mean        6.76   1,253.94\n",
       "std         5.84     144.72\n",
       "min         0.00   1,000.00\n",
       "25%         1.30   1,126.00\n",
       "50%         6.00   1,260.00\n",
       "75%        10.70   1,379.00\n",
       "max        38.00   1,499.00"
      ]
     },
     "execution_count": 9,
     "metadata": {},
     "output_type": "execute_result"
    }
   ],
   "source": [
    "calls.describe()"
   ]
  },
  {
   "cell_type": "markdown",
   "metadata": {},
   "source": [
    "#### Вывод об информации о звонках\n",
    "\n",
    "В таблице 4 столбца. Тип данных:\n",
    "\n",
    "- *float64* - 1 стобец,\n",
    "- *int64* - 1 столбец,\n",
    "- *object* - 2 столбца.\n",
    "\n",
    "Некорректный тип данных в колонке с датой.\n",
    "\n",
    "В документации к данным указаны звонки с нулевой продолжительностью. Это не ошибка: нулями обозначены пропущенные звонки, поэтому их не нужно удалять.\n",
    "\n",
    "Длительность звонков не в целочисленнном формате, хотя, в данных указано, что оператор всегда округляет звонки до минут."
   ]
  },
  {
   "cell_type": "markdown",
   "metadata": {},
   "source": [
    "### Информация о сообщениях"
   ]
  },
  {
   "cell_type": "code",
   "execution_count": 10,
   "metadata": {},
   "outputs": [
    {
     "data": {
      "text/html": [
       "<div>\n",
       "<style scoped>\n",
       "    .dataframe tbody tr th:only-of-type {\n",
       "        vertical-align: middle;\n",
       "    }\n",
       "\n",
       "    .dataframe tbody tr th {\n",
       "        vertical-align: top;\n",
       "    }\n",
       "\n",
       "    .dataframe thead th {\n",
       "        text-align: right;\n",
       "    }\n",
       "</style>\n",
       "<table border=\"1\" class=\"dataframe\">\n",
       "  <thead>\n",
       "    <tr style=\"text-align: right;\">\n",
       "      <th></th>\n",
       "      <th>id</th>\n",
       "      <th>message_date</th>\n",
       "      <th>user_id</th>\n",
       "    </tr>\n",
       "  </thead>\n",
       "  <tbody>\n",
       "    <tr>\n",
       "      <td>0</td>\n",
       "      <td>1000_0</td>\n",
       "      <td>2018-06-27</td>\n",
       "      <td>1000</td>\n",
       "    </tr>\n",
       "    <tr>\n",
       "      <td>1</td>\n",
       "      <td>1000_1</td>\n",
       "      <td>2018-10-08</td>\n",
       "      <td>1000</td>\n",
       "    </tr>\n",
       "    <tr>\n",
       "      <td>2</td>\n",
       "      <td>1000_2</td>\n",
       "      <td>2018-08-04</td>\n",
       "      <td>1000</td>\n",
       "    </tr>\n",
       "    <tr>\n",
       "      <td>3</td>\n",
       "      <td>1000_3</td>\n",
       "      <td>2018-06-16</td>\n",
       "      <td>1000</td>\n",
       "    </tr>\n",
       "    <tr>\n",
       "      <td>4</td>\n",
       "      <td>1000_4</td>\n",
       "      <td>2018-12-05</td>\n",
       "      <td>1000</td>\n",
       "    </tr>\n",
       "  </tbody>\n",
       "</table>\n",
       "</div>"
      ],
      "text/plain": [
       "       id message_date  user_id\n",
       "0  1000_0   2018-06-27     1000\n",
       "1  1000_1   2018-10-08     1000\n",
       "2  1000_2   2018-08-04     1000\n",
       "3  1000_3   2018-06-16     1000\n",
       "4  1000_4   2018-12-05     1000"
      ]
     },
     "execution_count": 10,
     "metadata": {},
     "output_type": "execute_result"
    }
   ],
   "source": [
    "# загружаем информацию о сообщениях\n",
    "messages = pd.read_csv('/datasets/messages.csv')\n",
    "messages.head()"
   ]
  },
  {
   "cell_type": "code",
   "execution_count": 11,
   "metadata": {},
   "outputs": [
    {
     "name": "stdout",
     "output_type": "stream",
     "text": [
      "<class 'pandas.core.frame.DataFrame'>\n",
      "RangeIndex: 123036 entries, 0 to 123035\n",
      "Data columns (total 3 columns):\n",
      "id              123036 non-null object\n",
      "message_date    123036 non-null object\n",
      "user_id         123036 non-null int64\n",
      "dtypes: int64(1), object(2)\n",
      "memory usage: 2.8+ MB\n"
     ]
    }
   ],
   "source": [
    "messages.info()"
   ]
  },
  {
   "cell_type": "code",
   "execution_count": 12,
   "metadata": {},
   "outputs": [
    {
     "data": {
      "text/html": [
       "<div>\n",
       "<style scoped>\n",
       "    .dataframe tbody tr th:only-of-type {\n",
       "        vertical-align: middle;\n",
       "    }\n",
       "\n",
       "    .dataframe tbody tr th {\n",
       "        vertical-align: top;\n",
       "    }\n",
       "\n",
       "    .dataframe thead th {\n",
       "        text-align: right;\n",
       "    }\n",
       "</style>\n",
       "<table border=\"1\" class=\"dataframe\">\n",
       "  <thead>\n",
       "    <tr style=\"text-align: right;\">\n",
       "      <th></th>\n",
       "      <th>user_id</th>\n",
       "    </tr>\n",
       "  </thead>\n",
       "  <tbody>\n",
       "    <tr>\n",
       "      <td>count</td>\n",
       "      <td>123,036.00</td>\n",
       "    </tr>\n",
       "    <tr>\n",
       "      <td>mean</td>\n",
       "      <td>1,256.99</td>\n",
       "    </tr>\n",
       "    <tr>\n",
       "      <td>std</td>\n",
       "      <td>143.52</td>\n",
       "    </tr>\n",
       "    <tr>\n",
       "      <td>min</td>\n",
       "      <td>1,000.00</td>\n",
       "    </tr>\n",
       "    <tr>\n",
       "      <td>25%</td>\n",
       "      <td>1,134.00</td>\n",
       "    </tr>\n",
       "    <tr>\n",
       "      <td>50%</td>\n",
       "      <td>1,271.00</td>\n",
       "    </tr>\n",
       "    <tr>\n",
       "      <td>75%</td>\n",
       "      <td>1,381.00</td>\n",
       "    </tr>\n",
       "    <tr>\n",
       "      <td>max</td>\n",
       "      <td>1,499.00</td>\n",
       "    </tr>\n",
       "  </tbody>\n",
       "</table>\n",
       "</div>"
      ],
      "text/plain": [
       "         user_id\n",
       "count 123,036.00\n",
       "mean    1,256.99\n",
       "std       143.52\n",
       "min     1,000.00\n",
       "25%     1,134.00\n",
       "50%     1,271.00\n",
       "75%     1,381.00\n",
       "max     1,499.00"
      ]
     },
     "execution_count": 12,
     "metadata": {},
     "output_type": "execute_result"
    }
   ],
   "source": [
    "messages.describe()"
   ]
  },
  {
   "cell_type": "markdown",
   "metadata": {},
   "source": [
    "#### Вывод об информации о сообщениях\n",
    "\n",
    "В таблице 4 столбца. Тип данных:\n",
    "\n",
    "- *int64* - 1 столбец,\n",
    "- *object* - 2 столбца.\n",
    "\n",
    "Некорректный тип данных в колонке с датой.\n",
    "\n",
    "Непонятно для чего уникальный номер сообщения в строковом формате."
   ]
  },
  {
   "cell_type": "markdown",
   "metadata": {},
   "source": [
    "### Информация об интернет-сессиях"
   ]
  },
  {
   "cell_type": "code",
   "execution_count": 13,
   "metadata": {},
   "outputs": [],
   "source": [
    "# загружаем информацию об интернет-сессиях\n",
    "internet = pd.read_csv('/datasets/internet.csv')"
   ]
  },
  {
   "cell_type": "code",
   "execution_count": 14,
   "metadata": {},
   "outputs": [
    {
     "data": {
      "text/html": [
       "<div>\n",
       "<style scoped>\n",
       "    .dataframe tbody tr th:only-of-type {\n",
       "        vertical-align: middle;\n",
       "    }\n",
       "\n",
       "    .dataframe tbody tr th {\n",
       "        vertical-align: top;\n",
       "    }\n",
       "\n",
       "    .dataframe thead th {\n",
       "        text-align: right;\n",
       "    }\n",
       "</style>\n",
       "<table border=\"1\" class=\"dataframe\">\n",
       "  <thead>\n",
       "    <tr style=\"text-align: right;\">\n",
       "      <th></th>\n",
       "      <th>Unnamed: 0</th>\n",
       "      <th>id</th>\n",
       "      <th>mb_used</th>\n",
       "      <th>session_date</th>\n",
       "      <th>user_id</th>\n",
       "    </tr>\n",
       "  </thead>\n",
       "  <tbody>\n",
       "    <tr>\n",
       "      <td>0</td>\n",
       "      <td>0</td>\n",
       "      <td>1000_0</td>\n",
       "      <td>112.95</td>\n",
       "      <td>2018-11-25</td>\n",
       "      <td>1000</td>\n",
       "    </tr>\n",
       "    <tr>\n",
       "      <td>1</td>\n",
       "      <td>1</td>\n",
       "      <td>1000_1</td>\n",
       "      <td>1,052.81</td>\n",
       "      <td>2018-09-07</td>\n",
       "      <td>1000</td>\n",
       "    </tr>\n",
       "    <tr>\n",
       "      <td>2</td>\n",
       "      <td>2</td>\n",
       "      <td>1000_2</td>\n",
       "      <td>1,197.26</td>\n",
       "      <td>2018-06-25</td>\n",
       "      <td>1000</td>\n",
       "    </tr>\n",
       "    <tr>\n",
       "      <td>3</td>\n",
       "      <td>3</td>\n",
       "      <td>1000_3</td>\n",
       "      <td>550.27</td>\n",
       "      <td>2018-08-22</td>\n",
       "      <td>1000</td>\n",
       "    </tr>\n",
       "    <tr>\n",
       "      <td>4</td>\n",
       "      <td>4</td>\n",
       "      <td>1000_4</td>\n",
       "      <td>302.56</td>\n",
       "      <td>2018-09-24</td>\n",
       "      <td>1000</td>\n",
       "    </tr>\n",
       "  </tbody>\n",
       "</table>\n",
       "</div>"
      ],
      "text/plain": [
       "   Unnamed: 0      id  mb_used session_date  user_id\n",
       "0           0  1000_0   112.95   2018-11-25     1000\n",
       "1           1  1000_1 1,052.81   2018-09-07     1000\n",
       "2           2  1000_2 1,197.26   2018-06-25     1000\n",
       "3           3  1000_3   550.27   2018-08-22     1000\n",
       "4           4  1000_4   302.56   2018-09-24     1000"
      ]
     },
     "execution_count": 14,
     "metadata": {},
     "output_type": "execute_result"
    }
   ],
   "source": [
    "internet.head()"
   ]
  },
  {
   "cell_type": "code",
   "execution_count": 15,
   "metadata": {},
   "outputs": [
    {
     "name": "stdout",
     "output_type": "stream",
     "text": [
      "<class 'pandas.core.frame.DataFrame'>\n",
      "RangeIndex: 149396 entries, 0 to 149395\n",
      "Data columns (total 5 columns):\n",
      "Unnamed: 0      149396 non-null int64\n",
      "id              149396 non-null object\n",
      "mb_used         149396 non-null float64\n",
      "session_date    149396 non-null object\n",
      "user_id         149396 non-null int64\n",
      "dtypes: float64(1), int64(2), object(2)\n",
      "memory usage: 5.7+ MB\n"
     ]
    }
   ],
   "source": [
    "internet.info()"
   ]
  },
  {
   "cell_type": "code",
   "execution_count": 16,
   "metadata": {},
   "outputs": [
    {
     "data": {
      "text/html": [
       "<div>\n",
       "<style scoped>\n",
       "    .dataframe tbody tr th:only-of-type {\n",
       "        vertical-align: middle;\n",
       "    }\n",
       "\n",
       "    .dataframe tbody tr th {\n",
       "        vertical-align: top;\n",
       "    }\n",
       "\n",
       "    .dataframe thead th {\n",
       "        text-align: right;\n",
       "    }\n",
       "</style>\n",
       "<table border=\"1\" class=\"dataframe\">\n",
       "  <thead>\n",
       "    <tr style=\"text-align: right;\">\n",
       "      <th></th>\n",
       "      <th>Unnamed: 0</th>\n",
       "      <th>mb_used</th>\n",
       "      <th>user_id</th>\n",
       "    </tr>\n",
       "  </thead>\n",
       "  <tbody>\n",
       "    <tr>\n",
       "      <td>count</td>\n",
       "      <td>149,396.00</td>\n",
       "      <td>149,396.00</td>\n",
       "      <td>149,396.00</td>\n",
       "    </tr>\n",
       "    <tr>\n",
       "      <td>mean</td>\n",
       "      <td>74,697.50</td>\n",
       "      <td>370.19</td>\n",
       "      <td>1,252.10</td>\n",
       "    </tr>\n",
       "    <tr>\n",
       "      <td>std</td>\n",
       "      <td>43,127.05</td>\n",
       "      <td>278.30</td>\n",
       "      <td>144.05</td>\n",
       "    </tr>\n",
       "    <tr>\n",
       "      <td>min</td>\n",
       "      <td>0.00</td>\n",
       "      <td>0.00</td>\n",
       "      <td>1,000.00</td>\n",
       "    </tr>\n",
       "    <tr>\n",
       "      <td>25%</td>\n",
       "      <td>37,348.75</td>\n",
       "      <td>138.19</td>\n",
       "      <td>1,130.00</td>\n",
       "    </tr>\n",
       "    <tr>\n",
       "      <td>50%</td>\n",
       "      <td>74,697.50</td>\n",
       "      <td>348.01</td>\n",
       "      <td>1,251.00</td>\n",
       "    </tr>\n",
       "    <tr>\n",
       "      <td>75%</td>\n",
       "      <td>112,046.25</td>\n",
       "      <td>559.55</td>\n",
       "      <td>1,380.00</td>\n",
       "    </tr>\n",
       "    <tr>\n",
       "      <td>max</td>\n",
       "      <td>149,395.00</td>\n",
       "      <td>1,724.83</td>\n",
       "      <td>1,499.00</td>\n",
       "    </tr>\n",
       "  </tbody>\n",
       "</table>\n",
       "</div>"
      ],
      "text/plain": [
       "       Unnamed: 0    mb_used    user_id\n",
       "count  149,396.00 149,396.00 149,396.00\n",
       "mean    74,697.50     370.19   1,252.10\n",
       "std     43,127.05     278.30     144.05\n",
       "min          0.00       0.00   1,000.00\n",
       "25%     37,348.75     138.19   1,130.00\n",
       "50%     74,697.50     348.01   1,251.00\n",
       "75%    112,046.25     559.55   1,380.00\n",
       "max    149,395.00   1,724.83   1,499.00"
      ]
     },
     "execution_count": 16,
     "metadata": {},
     "output_type": "execute_result"
    }
   ],
   "source": [
    "internet.describe()"
   ]
  },
  {
   "cell_type": "markdown",
   "metadata": {},
   "source": [
    "#### Вывод об информации об интернет-сессиях\n",
    "\n",
    "В таблице 5 столбцов. Тип данных:\n",
    "\n",
    "- *float64* - 1 стобец,\n",
    "- *int64* - 2 столбца,\n",
    "- *object* - 2 столбца.\n",
    "\n",
    "Некорректный тип данных в колонке с датой.\n",
    "\n",
    "Номер сессии в текстовом формате.\n",
    "\n",
    "Столбец \"Unnamed: 0\", который выглядит, как задублировавшийся индекс.\n",
    "\n",
    "Есть нулевые сессии. В описании к данным указано, что для веб-трафика отдельные сессии не считаются. Вместо этого общая сумма за месяц округляется в бо́льшую сторону. Вероятно, данные сессии ошибочны."
   ]
  },
  {
   "cell_type": "markdown",
   "metadata": {},
   "source": [
    "### Информация о тарифах"
   ]
  },
  {
   "cell_type": "code",
   "execution_count": 17,
   "metadata": {},
   "outputs": [
    {
     "data": {
      "text/html": [
       "<div>\n",
       "<style scoped>\n",
       "    .dataframe tbody tr th:only-of-type {\n",
       "        vertical-align: middle;\n",
       "    }\n",
       "\n",
       "    .dataframe tbody tr th {\n",
       "        vertical-align: top;\n",
       "    }\n",
       "\n",
       "    .dataframe thead th {\n",
       "        text-align: right;\n",
       "    }\n",
       "</style>\n",
       "<table border=\"1\" class=\"dataframe\">\n",
       "  <thead>\n",
       "    <tr style=\"text-align: right;\">\n",
       "      <th></th>\n",
       "      <th>messages_included</th>\n",
       "      <th>mb_per_month_included</th>\n",
       "      <th>minutes_included</th>\n",
       "      <th>rub_monthly_fee</th>\n",
       "      <th>rub_per_gb</th>\n",
       "      <th>rub_per_message</th>\n",
       "      <th>rub_per_minute</th>\n",
       "      <th>tariff_name</th>\n",
       "    </tr>\n",
       "  </thead>\n",
       "  <tbody>\n",
       "    <tr>\n",
       "      <td>0</td>\n",
       "      <td>50</td>\n",
       "      <td>15360</td>\n",
       "      <td>500</td>\n",
       "      <td>550</td>\n",
       "      <td>200</td>\n",
       "      <td>3</td>\n",
       "      <td>3</td>\n",
       "      <td>smart</td>\n",
       "    </tr>\n",
       "    <tr>\n",
       "      <td>1</td>\n",
       "      <td>1000</td>\n",
       "      <td>30720</td>\n",
       "      <td>3000</td>\n",
       "      <td>1950</td>\n",
       "      <td>150</td>\n",
       "      <td>1</td>\n",
       "      <td>1</td>\n",
       "      <td>ultra</td>\n",
       "    </tr>\n",
       "  </tbody>\n",
       "</table>\n",
       "</div>"
      ],
      "text/plain": [
       "   messages_included  mb_per_month_included  minutes_included  \\\n",
       "0                 50                  15360               500   \n",
       "1               1000                  30720              3000   \n",
       "\n",
       "   rub_monthly_fee  rub_per_gb  rub_per_message  rub_per_minute tariff_name  \n",
       "0              550         200                3               3       smart  \n",
       "1             1950         150                1               1       ultra  "
      ]
     },
     "execution_count": 17,
     "metadata": {},
     "output_type": "execute_result"
    }
   ],
   "source": [
    "# загружаем информацию о тарифах\n",
    "tariffs = pd.read_csv('/datasets/tariffs.csv')\n",
    "tariffs.head()"
   ]
  },
  {
   "cell_type": "code",
   "execution_count": 18,
   "metadata": {},
   "outputs": [
    {
     "name": "stdout",
     "output_type": "stream",
     "text": [
      "<class 'pandas.core.frame.DataFrame'>\n",
      "RangeIndex: 2 entries, 0 to 1\n",
      "Data columns (total 8 columns):\n",
      "messages_included        2 non-null int64\n",
      "mb_per_month_included    2 non-null int64\n",
      "minutes_included         2 non-null int64\n",
      "rub_monthly_fee          2 non-null int64\n",
      "rub_per_gb               2 non-null int64\n",
      "rub_per_message          2 non-null int64\n",
      "rub_per_minute           2 non-null int64\n",
      "tariff_name              2 non-null object\n",
      "dtypes: int64(7), object(1)\n",
      "memory usage: 256.0+ bytes\n"
     ]
    }
   ],
   "source": [
    "tariffs.info()"
   ]
  },
  {
   "cell_type": "markdown",
   "metadata": {},
   "source": [
    "#### Вывод об информации о тарифах\n",
    "\n",
    "В таблице 8 столбцов. Тип данных:\n",
    "\n",
    "- *int64* - 7 столбцов,\n",
    "- *object* - 1 столбец.\n",
    "\n",
    "Данные в таблице совпадают с описанием тарифов.\n",
    "\n",
    "Разные единицы измерения интернет-трафика. Пакет содержит количество мегабайт в месяц, а платим округляя до гигабайт."
   ]
  },
  {
   "cell_type": "markdown",
   "metadata": {},
   "source": [
    "### Общий вывод о полученных данных\n",
    "\n",
    "Имеем 5 таблиц:\n",
    "\n",
    "- `Таблица users` - информация о пользователях,\n",
    "- `Таблица calls` - информация о звонках,\n",
    "- `Таблица messages` - информация о сообщениях,\n",
    "- `Таблица internet` - информация об интернет-сессиях,\n",
    "- `Таблица tariffs` - информация о тарифах\n",
    "\n",
    "Проблемы с данными:\n",
    "\n",
    "- Некорректные форматы данных\n",
    "- Нулевые интернет-сессии\n",
    "- Предположительно задублировавшийся столбец индекса\n",
    "- Некорректные единицы измерений трафика"
   ]
  },
  {
   "cell_type": "markdown",
   "metadata": {},
   "source": [
    "## Подготовка данных ##"
   ]
  },
  {
   "cell_type": "markdown",
   "metadata": {},
   "source": [
    "[Начало тетрадки](#intro)"
   ]
  },
  {
   "cell_type": "markdown",
   "metadata": {},
   "source": [
    "### Приведите данные к нужным типам, найдите и исправьте ошибки в данных, если они есть. Поясните, какие ошибки вы нашли и как их исправили"
   ]
  },
  {
   "cell_type": "code",
   "execution_count": 19,
   "metadata": {},
   "outputs": [],
   "source": [
    "# переведем уникальные номера звонков, сообщений и интернет-сессий в цифровой формат из строкового\n",
    "for frame in [calls, internet, messages]: # все нужные фреймв\n",
    "    for col in [x for x in frame.columns if 'id' in x]: # все колонки с id\n",
    "        frame['id'] = frame['id'].astype('int')\n",
    "        continue # обрабатываем только одну id-колонку в фрейме"
   ]
  },
  {
   "cell_type": "code",
   "execution_count": 20,
   "metadata": {},
   "outputs": [
    {
     "name": "stdout",
     "output_type": "stream",
     "text": [
      "<class 'pandas.core.frame.DataFrame'>\n",
      "RangeIndex: 202607 entries, 0 to 202606\n",
      "Data columns (total 4 columns):\n",
      "id           202607 non-null int64\n",
      "call_date    202607 non-null object\n",
      "duration     202607 non-null float64\n",
      "user_id      202607 non-null int64\n",
      "dtypes: float64(1), int64(2), object(1)\n",
      "memory usage: 6.2+ MB\n"
     ]
    }
   ],
   "source": [
    "# проверим на примере таблицы звонков\n",
    "calls.info()"
   ]
  },
  {
   "cell_type": "markdown",
   "metadata": {},
   "source": [
    "Уникальные номера стали номерами."
   ]
  },
  {
   "cell_type": "code",
   "execution_count": 21,
   "metadata": {},
   "outputs": [],
   "source": [
    "# «Мегалайн» всегда округляет секунды до минут, округлим\n",
    "calls['duration'] = calls['duration'].apply(np.ceil).astype('int')"
   ]
  },
  {
   "cell_type": "code",
   "execution_count": 22,
   "metadata": {},
   "outputs": [
    {
     "name": "stdout",
     "output_type": "stream",
     "text": [
      "<class 'pandas.core.frame.DataFrame'>\n",
      "RangeIndex: 202607 entries, 0 to 202606\n",
      "Data columns (total 4 columns):\n",
      "id           202607 non-null int64\n",
      "call_date    202607 non-null object\n",
      "duration     202607 non-null int64\n",
      "user_id      202607 non-null int64\n",
      "dtypes: int64(3), object(1)\n",
      "memory usage: 6.2+ MB\n"
     ]
    }
   ],
   "source": [
    "calls.info()"
   ]
  },
  {
   "cell_type": "code",
   "execution_count": 23,
   "metadata": {},
   "outputs": [
    {
     "data": {
      "text/plain": [
       "array([     0,      1,      2, ..., 149393, 149394, 149395])"
      ]
     },
     "execution_count": 23,
     "metadata": {},
     "output_type": "execute_result"
    }
   ],
   "source": [
    "# Столбец 'Unnamed: 0' выглядят похожим на задублированный индекс, проверим\n",
    "internet['Unnamed: 0'].unique()"
   ]
  },
  {
   "cell_type": "markdown",
   "metadata": {},
   "source": [
    "От 0 до 149395 из 149396 значений. Это, действительно индекс - удалим его. Скорее всего, сохранили CSV файл с индексом (по умполчанию)."
   ]
  },
  {
   "cell_type": "code",
   "execution_count": 24,
   "metadata": {},
   "outputs": [
    {
     "name": "stdout",
     "output_type": "stream",
     "text": [
      "<class 'pandas.core.frame.DataFrame'>\n",
      "RangeIndex: 149396 entries, 0 to 149395\n",
      "Data columns (total 4 columns):\n",
      "id              149396 non-null int64\n",
      "mb_used         149396 non-null float64\n",
      "session_date    149396 non-null object\n",
      "user_id         149396 non-null int64\n",
      "dtypes: float64(1), int64(2), object(1)\n",
      "memory usage: 4.6+ MB\n"
     ]
    }
   ],
   "source": [
    "del internet['Unnamed: 0']\n",
    "internet.info()"
   ]
  },
  {
   "cell_type": "markdown",
   "metadata": {},
   "source": [
    "Форматы сменились. Лишний столбец удален. Пропусков в данных нет."
   ]
  },
  {
   "cell_type": "code",
   "execution_count": 25,
   "metadata": {},
   "outputs": [
    {
     "data": {
      "text/html": [
       "<div>\n",
       "<style scoped>\n",
       "    .dataframe tbody tr th:only-of-type {\n",
       "        vertical-align: middle;\n",
       "    }\n",
       "\n",
       "    .dataframe tbody tr th {\n",
       "        vertical-align: top;\n",
       "    }\n",
       "\n",
       "    .dataframe thead th {\n",
       "        text-align: right;\n",
       "    }\n",
       "</style>\n",
       "<table border=\"1\" class=\"dataframe\">\n",
       "  <thead>\n",
       "    <tr style=\"text-align: right;\">\n",
       "      <th></th>\n",
       "      <th>messages_included</th>\n",
       "      <th>mb_per_month_included</th>\n",
       "      <th>minutes_included</th>\n",
       "      <th>rub_monthly_fee</th>\n",
       "      <th>rub_per_gb</th>\n",
       "      <th>rub_per_message</th>\n",
       "      <th>rub_per_minute</th>\n",
       "      <th>tariff</th>\n",
       "    </tr>\n",
       "  </thead>\n",
       "  <tbody>\n",
       "    <tr>\n",
       "      <td>0</td>\n",
       "      <td>50</td>\n",
       "      <td>15360</td>\n",
       "      <td>500</td>\n",
       "      <td>550</td>\n",
       "      <td>200</td>\n",
       "      <td>3</td>\n",
       "      <td>3</td>\n",
       "      <td>smart</td>\n",
       "    </tr>\n",
       "    <tr>\n",
       "      <td>1</td>\n",
       "      <td>1000</td>\n",
       "      <td>30720</td>\n",
       "      <td>3000</td>\n",
       "      <td>1950</td>\n",
       "      <td>150</td>\n",
       "      <td>1</td>\n",
       "      <td>1</td>\n",
       "      <td>ultra</td>\n",
       "    </tr>\n",
       "  </tbody>\n",
       "</table>\n",
       "</div>"
      ],
      "text/plain": [
       "   messages_included  mb_per_month_included  minutes_included  \\\n",
       "0                 50                  15360               500   \n",
       "1               1000                  30720              3000   \n",
       "\n",
       "   rub_monthly_fee  rub_per_gb  rub_per_message  rub_per_minute tariff  \n",
       "0              550         200                3               3  smart  \n",
       "1             1950         150                1               1  ultra  "
      ]
     },
     "execution_count": 25,
     "metadata": {},
     "output_type": "execute_result"
    }
   ],
   "source": [
    "# сделаем одинаковые названия столбцу с типом тарифа \n",
    "tariffs = tariffs.rename(columns={'tariff_name':'tariff'})\n",
    "tariffs.head()"
   ]
  },
  {
   "cell_type": "code",
   "execution_count": 26,
   "metadata": {},
   "outputs": [
    {
     "data": {
      "text/html": [
       "<div>\n",
       "<style scoped>\n",
       "    .dataframe tbody tr th:only-of-type {\n",
       "        vertical-align: middle;\n",
       "    }\n",
       "\n",
       "    .dataframe tbody tr th {\n",
       "        vertical-align: top;\n",
       "    }\n",
       "\n",
       "    .dataframe thead th {\n",
       "        text-align: right;\n",
       "    }\n",
       "</style>\n",
       "<table border=\"1\" class=\"dataframe\">\n",
       "  <thead>\n",
       "    <tr style=\"text-align: right;\">\n",
       "      <th></th>\n",
       "      <th>messages_included</th>\n",
       "      <th>gb_per_month_included</th>\n",
       "      <th>minutes_included</th>\n",
       "      <th>rub_monthly_fee</th>\n",
       "      <th>rub_per_gb</th>\n",
       "      <th>rub_per_message</th>\n",
       "      <th>rub_per_minute</th>\n",
       "      <th>tariff</th>\n",
       "    </tr>\n",
       "  </thead>\n",
       "  <tbody>\n",
       "    <tr>\n",
       "      <td>0</td>\n",
       "      <td>50</td>\n",
       "      <td>15</td>\n",
       "      <td>500</td>\n",
       "      <td>550</td>\n",
       "      <td>200</td>\n",
       "      <td>3</td>\n",
       "      <td>3</td>\n",
       "      <td>smart</td>\n",
       "    </tr>\n",
       "    <tr>\n",
       "      <td>1</td>\n",
       "      <td>1000</td>\n",
       "      <td>30</td>\n",
       "      <td>3000</td>\n",
       "      <td>1950</td>\n",
       "      <td>150</td>\n",
       "      <td>1</td>\n",
       "      <td>1</td>\n",
       "      <td>ultra</td>\n",
       "    </tr>\n",
       "  </tbody>\n",
       "</table>\n",
       "</div>"
      ],
      "text/plain": [
       "   messages_included  gb_per_month_included  minutes_included  \\\n",
       "0                 50                     15               500   \n",
       "1               1000                     30              3000   \n",
       "\n",
       "   rub_monthly_fee  rub_per_gb  rub_per_message  rub_per_minute tariff  \n",
       "0              550         200                3               3  smart  \n",
       "1             1950         150                1               1  ultra  "
      ]
     },
     "execution_count": 26,
     "metadata": {},
     "output_type": "execute_result"
    }
   ],
   "source": [
    "# округлим до гигабайт\n",
    "tariffs['mb_per_month_included'] = (tariffs['mb_per_month_included'] / 1024).astype('int')\n",
    "tariffs = tariffs.rename(columns={'mb_per_month_included':'gb_per_month_included'})\n",
    "tariffs.head()"
   ]
  },
  {
   "cell_type": "code",
   "execution_count": 27,
   "metadata": {},
   "outputs": [],
   "source": [
    "# добавим колонку с месяцами в таблицы\n",
    "for frame in [calls, internet, messages]: # все нужные фреймы\n",
    "    for col in [x for x in frame.columns if 'date' in x]: # все колонки с date\n",
    "        frame['month'] = pd.to_datetime(frame[col]).dt.month\n",
    "        continue # обрабатываем только одну date-колонку в фрейме"
   ]
  },
  {
   "cell_type": "markdown",
   "metadata": {},
   "source": [
    "#### Вывод по предобработке данных\n",
    "\n",
    "- Изменили неподходящие форматы\n",
    "- Нашли и удалили ошибочный столбец\n",
    "\n",
    "Необходимые для анализа расчеты производятся за месяц. Работаем с данными за один календарный год, значит месяца повторяться не будут. Вместо форматирования дат добавили столбец с месяцем."
   ]
  },
  {
   "cell_type": "markdown",
   "metadata": {},
   "source": [
    "### Посчитайте для каждого пользователя:"
   ]
  },
  {
   "cell_type": "markdown",
   "metadata": {},
   "source": [
    "#### Количество сделанных звонков и израсходованных минут разговора по месяцам"
   ]
  },
  {
   "cell_type": "code",
   "execution_count": 28,
   "metadata": {},
   "outputs": [
    {
     "data": {
      "text/html": [
       "<div>\n",
       "<style scoped>\n",
       "    .dataframe tbody tr th:only-of-type {\n",
       "        vertical-align: middle;\n",
       "    }\n",
       "\n",
       "    .dataframe tbody tr th {\n",
       "        vertical-align: top;\n",
       "    }\n",
       "\n",
       "    .dataframe thead th {\n",
       "        text-align: right;\n",
       "    }\n",
       "</style>\n",
       "<table border=\"1\" class=\"dataframe\">\n",
       "  <thead>\n",
       "    <tr style=\"text-align: right;\">\n",
       "      <th></th>\n",
       "      <th>id</th>\n",
       "      <th>call_date</th>\n",
       "      <th>duration</th>\n",
       "      <th>user_id</th>\n",
       "      <th>month</th>\n",
       "    </tr>\n",
       "  </thead>\n",
       "  <tbody>\n",
       "    <tr>\n",
       "      <td>0</td>\n",
       "      <td>10000</td>\n",
       "      <td>2018-07-25</td>\n",
       "      <td>0</td>\n",
       "      <td>1000</td>\n",
       "      <td>7</td>\n",
       "    </tr>\n",
       "    <tr>\n",
       "      <td>1</td>\n",
       "      <td>10001</td>\n",
       "      <td>2018-08-17</td>\n",
       "      <td>0</td>\n",
       "      <td>1000</td>\n",
       "      <td>8</td>\n",
       "    </tr>\n",
       "    <tr>\n",
       "      <td>2</td>\n",
       "      <td>10002</td>\n",
       "      <td>2018-06-11</td>\n",
       "      <td>3</td>\n",
       "      <td>1000</td>\n",
       "      <td>6</td>\n",
       "    </tr>\n",
       "    <tr>\n",
       "      <td>3</td>\n",
       "      <td>10003</td>\n",
       "      <td>2018-09-21</td>\n",
       "      <td>14</td>\n",
       "      <td>1000</td>\n",
       "      <td>9</td>\n",
       "    </tr>\n",
       "    <tr>\n",
       "      <td>4</td>\n",
       "      <td>10004</td>\n",
       "      <td>2018-12-15</td>\n",
       "      <td>6</td>\n",
       "      <td>1000</td>\n",
       "      <td>12</td>\n",
       "    </tr>\n",
       "  </tbody>\n",
       "</table>\n",
       "</div>"
      ],
      "text/plain": [
       "      id   call_date  duration  user_id  month\n",
       "0  10000  2018-07-25         0     1000      7\n",
       "1  10001  2018-08-17         0     1000      8\n",
       "2  10002  2018-06-11         3     1000      6\n",
       "3  10003  2018-09-21        14     1000      9\n",
       "4  10004  2018-12-15         6     1000     12"
      ]
     },
     "execution_count": 28,
     "metadata": {},
     "output_type": "execute_result"
    }
   ],
   "source": [
    "calls.head()"
   ]
  },
  {
   "cell_type": "markdown",
   "metadata": {},
   "source": [
    "Столбец с месяцем добавлен."
   ]
  },
  {
   "cell_type": "code",
   "execution_count": 29,
   "metadata": {},
   "outputs": [],
   "source": [
    "# сгруппируем таблицу по месяцам и сделаем расчеты для звонков и минут\n",
    "# тут и далее сохраним в новых переменных, не меняем исходники\n",
    "grouped_calls = calls.groupby(['user_id', 'month'])\\\n",
    "                  .agg({'duration':'sum', 'id':'count'})\\\n",
    "                  .reset_index()\\\n",
    "                  .rename(columns={'duration':'month_calls_duration','id':'calls_total_in_month'})\\"
   ]
  },
  {
   "cell_type": "code",
   "execution_count": 30,
   "metadata": {},
   "outputs": [
    {
     "data": {
      "text/html": [
       "<div>\n",
       "<style scoped>\n",
       "    .dataframe tbody tr th:only-of-type {\n",
       "        vertical-align: middle;\n",
       "    }\n",
       "\n",
       "    .dataframe tbody tr th {\n",
       "        vertical-align: top;\n",
       "    }\n",
       "\n",
       "    .dataframe thead th {\n",
       "        text-align: right;\n",
       "    }\n",
       "</style>\n",
       "<table border=\"1\" class=\"dataframe\">\n",
       "  <thead>\n",
       "    <tr style=\"text-align: right;\">\n",
       "      <th></th>\n",
       "      <th>user_id</th>\n",
       "      <th>month</th>\n",
       "      <th>month_calls_duration</th>\n",
       "      <th>calls_total_in_month</th>\n",
       "    </tr>\n",
       "  </thead>\n",
       "  <tbody>\n",
       "    <tr>\n",
       "      <td>0</td>\n",
       "      <td>1000</td>\n",
       "      <td>5</td>\n",
       "      <td>159</td>\n",
       "      <td>22</td>\n",
       "    </tr>\n",
       "    <tr>\n",
       "      <td>1</td>\n",
       "      <td>1000</td>\n",
       "      <td>6</td>\n",
       "      <td>172</td>\n",
       "      <td>43</td>\n",
       "    </tr>\n",
       "    <tr>\n",
       "      <td>2</td>\n",
       "      <td>1000</td>\n",
       "      <td>7</td>\n",
       "      <td>340</td>\n",
       "      <td>47</td>\n",
       "    </tr>\n",
       "    <tr>\n",
       "      <td>3</td>\n",
       "      <td>1000</td>\n",
       "      <td>8</td>\n",
       "      <td>408</td>\n",
       "      <td>52</td>\n",
       "    </tr>\n",
       "    <tr>\n",
       "      <td>4</td>\n",
       "      <td>1000</td>\n",
       "      <td>9</td>\n",
       "      <td>466</td>\n",
       "      <td>58</td>\n",
       "    </tr>\n",
       "  </tbody>\n",
       "</table>\n",
       "</div>"
      ],
      "text/plain": [
       "   user_id  month  month_calls_duration  calls_total_in_month\n",
       "0     1000      5                   159                    22\n",
       "1     1000      6                   172                    43\n",
       "2     1000      7                   340                    47\n",
       "3     1000      8                   408                    52\n",
       "4     1000      9                   466                    58"
      ]
     },
     "execution_count": 30,
     "metadata": {},
     "output_type": "execute_result"
    }
   ],
   "source": [
    "grouped_calls.head()"
   ]
  },
  {
   "cell_type": "markdown",
   "metadata": {},
   "source": [
    "Таблица сгруппирована для каждого пользователя по номеру месяца."
   ]
  },
  {
   "cell_type": "markdown",
   "metadata": {},
   "source": [
    "#### Количество отправленных сообщений по месяцам"
   ]
  },
  {
   "cell_type": "code",
   "execution_count": 31,
   "metadata": {},
   "outputs": [
    {
     "data": {
      "text/html": [
       "<div>\n",
       "<style scoped>\n",
       "    .dataframe tbody tr th:only-of-type {\n",
       "        vertical-align: middle;\n",
       "    }\n",
       "\n",
       "    .dataframe tbody tr th {\n",
       "        vertical-align: top;\n",
       "    }\n",
       "\n",
       "    .dataframe thead th {\n",
       "        text-align: right;\n",
       "    }\n",
       "</style>\n",
       "<table border=\"1\" class=\"dataframe\">\n",
       "  <thead>\n",
       "    <tr style=\"text-align: right;\">\n",
       "      <th></th>\n",
       "      <th>id</th>\n",
       "      <th>message_date</th>\n",
       "      <th>user_id</th>\n",
       "      <th>month</th>\n",
       "    </tr>\n",
       "  </thead>\n",
       "  <tbody>\n",
       "    <tr>\n",
       "      <td>0</td>\n",
       "      <td>10000</td>\n",
       "      <td>2018-06-27</td>\n",
       "      <td>1000</td>\n",
       "      <td>6</td>\n",
       "    </tr>\n",
       "    <tr>\n",
       "      <td>1</td>\n",
       "      <td>10001</td>\n",
       "      <td>2018-10-08</td>\n",
       "      <td>1000</td>\n",
       "      <td>10</td>\n",
       "    </tr>\n",
       "    <tr>\n",
       "      <td>2</td>\n",
       "      <td>10002</td>\n",
       "      <td>2018-08-04</td>\n",
       "      <td>1000</td>\n",
       "      <td>8</td>\n",
       "    </tr>\n",
       "    <tr>\n",
       "      <td>3</td>\n",
       "      <td>10003</td>\n",
       "      <td>2018-06-16</td>\n",
       "      <td>1000</td>\n",
       "      <td>6</td>\n",
       "    </tr>\n",
       "    <tr>\n",
       "      <td>4</td>\n",
       "      <td>10004</td>\n",
       "      <td>2018-12-05</td>\n",
       "      <td>1000</td>\n",
       "      <td>12</td>\n",
       "    </tr>\n",
       "  </tbody>\n",
       "</table>\n",
       "</div>"
      ],
      "text/plain": [
       "      id message_date  user_id  month\n",
       "0  10000   2018-06-27     1000      6\n",
       "1  10001   2018-10-08     1000     10\n",
       "2  10002   2018-08-04     1000      8\n",
       "3  10003   2018-06-16     1000      6\n",
       "4  10004   2018-12-05     1000     12"
      ]
     },
     "execution_count": 31,
     "metadata": {},
     "output_type": "execute_result"
    }
   ],
   "source": [
    "messages.head()"
   ]
  },
  {
   "cell_type": "markdown",
   "metadata": {},
   "source": [
    "Столбец с месяцем добавлен."
   ]
  },
  {
   "cell_type": "code",
   "execution_count": 32,
   "metadata": {},
   "outputs": [],
   "source": [
    "grouped_messages = messages.groupby(['user_id', 'month'])\\\n",
    "                        .agg({'id':'count'})\\\n",
    "                        .reset_index()\\\n",
    "                        .rename(columns={'id':'sms_total_in_month'})"
   ]
  },
  {
   "cell_type": "code",
   "execution_count": 33,
   "metadata": {},
   "outputs": [
    {
     "data": {
      "text/html": [
       "<div>\n",
       "<style scoped>\n",
       "    .dataframe tbody tr th:only-of-type {\n",
       "        vertical-align: middle;\n",
       "    }\n",
       "\n",
       "    .dataframe tbody tr th {\n",
       "        vertical-align: top;\n",
       "    }\n",
       "\n",
       "    .dataframe thead th {\n",
       "        text-align: right;\n",
       "    }\n",
       "</style>\n",
       "<table border=\"1\" class=\"dataframe\">\n",
       "  <thead>\n",
       "    <tr style=\"text-align: right;\">\n",
       "      <th></th>\n",
       "      <th>user_id</th>\n",
       "      <th>month</th>\n",
       "      <th>sms_total_in_month</th>\n",
       "    </tr>\n",
       "  </thead>\n",
       "  <tbody>\n",
       "    <tr>\n",
       "      <td>0</td>\n",
       "      <td>1000</td>\n",
       "      <td>5</td>\n",
       "      <td>22</td>\n",
       "    </tr>\n",
       "    <tr>\n",
       "      <td>1</td>\n",
       "      <td>1000</td>\n",
       "      <td>6</td>\n",
       "      <td>60</td>\n",
       "    </tr>\n",
       "    <tr>\n",
       "      <td>2</td>\n",
       "      <td>1000</td>\n",
       "      <td>7</td>\n",
       "      <td>75</td>\n",
       "    </tr>\n",
       "    <tr>\n",
       "      <td>3</td>\n",
       "      <td>1000</td>\n",
       "      <td>8</td>\n",
       "      <td>81</td>\n",
       "    </tr>\n",
       "    <tr>\n",
       "      <td>4</td>\n",
       "      <td>1000</td>\n",
       "      <td>9</td>\n",
       "      <td>57</td>\n",
       "    </tr>\n",
       "  </tbody>\n",
       "</table>\n",
       "</div>"
      ],
      "text/plain": [
       "   user_id  month  sms_total_in_month\n",
       "0     1000      5                  22\n",
       "1     1000      6                  60\n",
       "2     1000      7                  75\n",
       "3     1000      8                  81\n",
       "4     1000      9                  57"
      ]
     },
     "execution_count": 33,
     "metadata": {},
     "output_type": "execute_result"
    }
   ],
   "source": [
    "grouped_messages.head()"
   ]
  },
  {
   "cell_type": "markdown",
   "metadata": {},
   "source": [
    "Таблица сгруппирована для каждого пользователя по номеру месяца."
   ]
  },
  {
   "cell_type": "markdown",
   "metadata": {},
   "source": [
    "#### Объем израсходованного интернет-трафика по месяцам"
   ]
  },
  {
   "cell_type": "code",
   "execution_count": 34,
   "metadata": {},
   "outputs": [
    {
     "data": {
      "text/html": [
       "<div>\n",
       "<style scoped>\n",
       "    .dataframe tbody tr th:only-of-type {\n",
       "        vertical-align: middle;\n",
       "    }\n",
       "\n",
       "    .dataframe tbody tr th {\n",
       "        vertical-align: top;\n",
       "    }\n",
       "\n",
       "    .dataframe thead th {\n",
       "        text-align: right;\n",
       "    }\n",
       "</style>\n",
       "<table border=\"1\" class=\"dataframe\">\n",
       "  <thead>\n",
       "    <tr style=\"text-align: right;\">\n",
       "      <th></th>\n",
       "      <th>id</th>\n",
       "      <th>mb_used</th>\n",
       "      <th>session_date</th>\n",
       "      <th>user_id</th>\n",
       "      <th>month</th>\n",
       "    </tr>\n",
       "  </thead>\n",
       "  <tbody>\n",
       "    <tr>\n",
       "      <td>0</td>\n",
       "      <td>10000</td>\n",
       "      <td>112.95</td>\n",
       "      <td>2018-11-25</td>\n",
       "      <td>1000</td>\n",
       "      <td>11</td>\n",
       "    </tr>\n",
       "    <tr>\n",
       "      <td>1</td>\n",
       "      <td>10001</td>\n",
       "      <td>1,052.81</td>\n",
       "      <td>2018-09-07</td>\n",
       "      <td>1000</td>\n",
       "      <td>9</td>\n",
       "    </tr>\n",
       "    <tr>\n",
       "      <td>2</td>\n",
       "      <td>10002</td>\n",
       "      <td>1,197.26</td>\n",
       "      <td>2018-06-25</td>\n",
       "      <td>1000</td>\n",
       "      <td>6</td>\n",
       "    </tr>\n",
       "    <tr>\n",
       "      <td>3</td>\n",
       "      <td>10003</td>\n",
       "      <td>550.27</td>\n",
       "      <td>2018-08-22</td>\n",
       "      <td>1000</td>\n",
       "      <td>8</td>\n",
       "    </tr>\n",
       "    <tr>\n",
       "      <td>4</td>\n",
       "      <td>10004</td>\n",
       "      <td>302.56</td>\n",
       "      <td>2018-09-24</td>\n",
       "      <td>1000</td>\n",
       "      <td>9</td>\n",
       "    </tr>\n",
       "  </tbody>\n",
       "</table>\n",
       "</div>"
      ],
      "text/plain": [
       "      id  mb_used session_date  user_id  month\n",
       "0  10000   112.95   2018-11-25     1000     11\n",
       "1  10001 1,052.81   2018-09-07     1000      9\n",
       "2  10002 1,197.26   2018-06-25     1000      6\n",
       "3  10003   550.27   2018-08-22     1000      8\n",
       "4  10004   302.56   2018-09-24     1000      9"
      ]
     },
     "execution_count": 34,
     "metadata": {},
     "output_type": "execute_result"
    }
   ],
   "source": [
    "internet.head()"
   ]
  },
  {
   "cell_type": "markdown",
   "metadata": {},
   "source": [
    "Столбец с месяцем добавлен."
   ]
  },
  {
   "cell_type": "code",
   "execution_count": 35,
   "metadata": {},
   "outputs": [],
   "source": [
    "# помним, что «Мегалайн» всегда округляет мегабайты — до гигабайт\n",
    "# сгруппируем и переназовем\n",
    "grouped_internet = internet.groupby(['user_id', 'month'])\\\n",
    "                        .agg({'mb_used':'sum'})\\\n",
    "                        .reset_index()\\\n",
    "                        .rename(columns={'mb_used':'gb_total_in_month'})"
   ]
  },
  {
   "cell_type": "code",
   "execution_count": 36,
   "metadata": {},
   "outputs": [],
   "source": [
    "# округлим до гигабайт\n",
    "grouped_internet['gb_total_in_month'] = (grouped_internet['gb_total_in_month']/1024).apply(np.ceil)"
   ]
  },
  {
   "cell_type": "code",
   "execution_count": 37,
   "metadata": {},
   "outputs": [
    {
     "data": {
      "text/html": [
       "<div>\n",
       "<style scoped>\n",
       "    .dataframe tbody tr th:only-of-type {\n",
       "        vertical-align: middle;\n",
       "    }\n",
       "\n",
       "    .dataframe tbody tr th {\n",
       "        vertical-align: top;\n",
       "    }\n",
       "\n",
       "    .dataframe thead th {\n",
       "        text-align: right;\n",
       "    }\n",
       "</style>\n",
       "<table border=\"1\" class=\"dataframe\">\n",
       "  <thead>\n",
       "    <tr style=\"text-align: right;\">\n",
       "      <th></th>\n",
       "      <th>user_id</th>\n",
       "      <th>month</th>\n",
       "      <th>gb_total_in_month</th>\n",
       "    </tr>\n",
       "  </thead>\n",
       "  <tbody>\n",
       "    <tr>\n",
       "      <td>0</td>\n",
       "      <td>1000</td>\n",
       "      <td>5</td>\n",
       "      <td>3.00</td>\n",
       "    </tr>\n",
       "    <tr>\n",
       "      <td>1</td>\n",
       "      <td>1000</td>\n",
       "      <td>6</td>\n",
       "      <td>23.00</td>\n",
       "    </tr>\n",
       "    <tr>\n",
       "      <td>2</td>\n",
       "      <td>1000</td>\n",
       "      <td>7</td>\n",
       "      <td>14.00</td>\n",
       "    </tr>\n",
       "    <tr>\n",
       "      <td>3</td>\n",
       "      <td>1000</td>\n",
       "      <td>8</td>\n",
       "      <td>14.00</td>\n",
       "    </tr>\n",
       "    <tr>\n",
       "      <td>4</td>\n",
       "      <td>1000</td>\n",
       "      <td>9</td>\n",
       "      <td>15.00</td>\n",
       "    </tr>\n",
       "  </tbody>\n",
       "</table>\n",
       "</div>"
      ],
      "text/plain": [
       "   user_id  month  gb_total_in_month\n",
       "0     1000      5               3.00\n",
       "1     1000      6              23.00\n",
       "2     1000      7              14.00\n",
       "3     1000      8              14.00\n",
       "4     1000      9              15.00"
      ]
     },
     "execution_count": 37,
     "metadata": {},
     "output_type": "execute_result"
    }
   ],
   "source": [
    "grouped_internet.head()"
   ]
  },
  {
   "cell_type": "markdown",
   "metadata": {},
   "source": [
    "#### Помесячную выручку с каждого пользователя"
   ]
  },
  {
   "cell_type": "markdown",
   "metadata": {},
   "source": [
    "Вычтите бесплатный лимит из суммарного количества звонков, сообщений и интернет-трафика; остаток умножьте на значение из тарифного плана; прибавьте абонентскую плату, соответствующую тарифному плану"
   ]
  },
  {
   "cell_type": "code",
   "execution_count": 38,
   "metadata": {},
   "outputs": [
    {
     "data": {
      "text/html": [
       "<div>\n",
       "<style scoped>\n",
       "    .dataframe tbody tr th:only-of-type {\n",
       "        vertical-align: middle;\n",
       "    }\n",
       "\n",
       "    .dataframe tbody tr th {\n",
       "        vertical-align: top;\n",
       "    }\n",
       "\n",
       "    .dataframe thead th {\n",
       "        text-align: right;\n",
       "    }\n",
       "</style>\n",
       "<table border=\"1\" class=\"dataframe\">\n",
       "  <thead>\n",
       "    <tr style=\"text-align: right;\">\n",
       "      <th></th>\n",
       "      <th>user_id</th>\n",
       "      <th>month</th>\n",
       "      <th>month_calls_duration</th>\n",
       "      <th>calls_total_in_month</th>\n",
       "      <th>sms_total_in_month</th>\n",
       "    </tr>\n",
       "  </thead>\n",
       "  <tbody>\n",
       "    <tr>\n",
       "      <td>0</td>\n",
       "      <td>1000</td>\n",
       "      <td>5</td>\n",
       "      <td>159.00</td>\n",
       "      <td>22.00</td>\n",
       "      <td>22.00</td>\n",
       "    </tr>\n",
       "    <tr>\n",
       "      <td>1</td>\n",
       "      <td>1000</td>\n",
       "      <td>6</td>\n",
       "      <td>172.00</td>\n",
       "      <td>43.00</td>\n",
       "      <td>60.00</td>\n",
       "    </tr>\n",
       "    <tr>\n",
       "      <td>2</td>\n",
       "      <td>1000</td>\n",
       "      <td>7</td>\n",
       "      <td>340.00</td>\n",
       "      <td>47.00</td>\n",
       "      <td>75.00</td>\n",
       "    </tr>\n",
       "    <tr>\n",
       "      <td>3</td>\n",
       "      <td>1000</td>\n",
       "      <td>8</td>\n",
       "      <td>408.00</td>\n",
       "      <td>52.00</td>\n",
       "      <td>81.00</td>\n",
       "    </tr>\n",
       "    <tr>\n",
       "      <td>4</td>\n",
       "      <td>1000</td>\n",
       "      <td>9</td>\n",
       "      <td>466.00</td>\n",
       "      <td>58.00</td>\n",
       "      <td>57.00</td>\n",
       "    </tr>\n",
       "  </tbody>\n",
       "</table>\n",
       "</div>"
      ],
      "text/plain": [
       "   user_id  month  month_calls_duration  calls_total_in_month  \\\n",
       "0     1000      5                159.00                 22.00   \n",
       "1     1000      6                172.00                 43.00   \n",
       "2     1000      7                340.00                 47.00   \n",
       "3     1000      8                408.00                 52.00   \n",
       "4     1000      9                466.00                 58.00   \n",
       "\n",
       "   sms_total_in_month  \n",
       "0               22.00  \n",
       "1               60.00  \n",
       "2               75.00  \n",
       "3               81.00  \n",
       "4               57.00  "
      ]
     },
     "execution_count": 38,
     "metadata": {},
     "output_type": "execute_result"
    }
   ],
   "source": [
    "# для начала соберем все в одну таблицу\n",
    "# соберем звонки и сообщения\n",
    "data = grouped_calls.merge(grouped_messages, on=['user_id', 'month'], how='outer')\n",
    "data.head()"
   ]
  },
  {
   "cell_type": "code",
   "execution_count": 39,
   "metadata": {},
   "outputs": [
    {
     "data": {
      "text/html": [
       "<div>\n",
       "<style scoped>\n",
       "    .dataframe tbody tr th:only-of-type {\n",
       "        vertical-align: middle;\n",
       "    }\n",
       "\n",
       "    .dataframe tbody tr th {\n",
       "        vertical-align: top;\n",
       "    }\n",
       "\n",
       "    .dataframe thead th {\n",
       "        text-align: right;\n",
       "    }\n",
       "</style>\n",
       "<table border=\"1\" class=\"dataframe\">\n",
       "  <thead>\n",
       "    <tr style=\"text-align: right;\">\n",
       "      <th></th>\n",
       "      <th>user_id</th>\n",
       "      <th>month</th>\n",
       "      <th>month_calls_duration</th>\n",
       "      <th>calls_total_in_month</th>\n",
       "      <th>sms_total_in_month</th>\n",
       "      <th>gb_total_in_month</th>\n",
       "    </tr>\n",
       "  </thead>\n",
       "  <tbody>\n",
       "    <tr>\n",
       "      <td>0</td>\n",
       "      <td>1000</td>\n",
       "      <td>5</td>\n",
       "      <td>159.00</td>\n",
       "      <td>22.00</td>\n",
       "      <td>22.00</td>\n",
       "      <td>3.00</td>\n",
       "    </tr>\n",
       "    <tr>\n",
       "      <td>1</td>\n",
       "      <td>1000</td>\n",
       "      <td>6</td>\n",
       "      <td>172.00</td>\n",
       "      <td>43.00</td>\n",
       "      <td>60.00</td>\n",
       "      <td>23.00</td>\n",
       "    </tr>\n",
       "    <tr>\n",
       "      <td>2</td>\n",
       "      <td>1000</td>\n",
       "      <td>7</td>\n",
       "      <td>340.00</td>\n",
       "      <td>47.00</td>\n",
       "      <td>75.00</td>\n",
       "      <td>14.00</td>\n",
       "    </tr>\n",
       "    <tr>\n",
       "      <td>3</td>\n",
       "      <td>1000</td>\n",
       "      <td>8</td>\n",
       "      <td>408.00</td>\n",
       "      <td>52.00</td>\n",
       "      <td>81.00</td>\n",
       "      <td>14.00</td>\n",
       "    </tr>\n",
       "    <tr>\n",
       "      <td>4</td>\n",
       "      <td>1000</td>\n",
       "      <td>9</td>\n",
       "      <td>466.00</td>\n",
       "      <td>58.00</td>\n",
       "      <td>57.00</td>\n",
       "      <td>15.00</td>\n",
       "    </tr>\n",
       "  </tbody>\n",
       "</table>\n",
       "</div>"
      ],
      "text/plain": [
       "   user_id  month  month_calls_duration  calls_total_in_month  \\\n",
       "0     1000      5                159.00                 22.00   \n",
       "1     1000      6                172.00                 43.00   \n",
       "2     1000      7                340.00                 47.00   \n",
       "3     1000      8                408.00                 52.00   \n",
       "4     1000      9                466.00                 58.00   \n",
       "\n",
       "   sms_total_in_month  gb_total_in_month  \n",
       "0               22.00               3.00  \n",
       "1               60.00              23.00  \n",
       "2               75.00              14.00  \n",
       "3               81.00              14.00  \n",
       "4               57.00              15.00  "
      ]
     },
     "execution_count": 39,
     "metadata": {},
     "output_type": "execute_result"
    }
   ],
   "source": [
    "# добавим интернет-трафик\n",
    "data = data.merge(grouped_internet, on=['user_id','month'], how = 'outer')\n",
    "data.head()"
   ]
  },
  {
   "cell_type": "code",
   "execution_count": 40,
   "metadata": {},
   "outputs": [
    {
     "data": {
      "text/plain": [
       "user_id                   0\n",
       "month                     0\n",
       "month_calls_duration     40\n",
       "calls_total_in_month     40\n",
       "sms_total_in_month      497\n",
       "gb_total_in_month        11\n",
       "dtype: int64"
      ]
     },
     "execution_count": 40,
     "metadata": {},
     "output_type": "execute_result"
    }
   ],
   "source": [
    "# посмотрим на получившиеся в новой таблице пропуски\n",
    "data.isna().sum()"
   ]
  },
  {
   "cell_type": "code",
   "execution_count": 41,
   "metadata": {},
   "outputs": [
    {
     "data": {
      "text/html": [
       "<div>\n",
       "<style scoped>\n",
       "    .dataframe tbody tr th:only-of-type {\n",
       "        vertical-align: middle;\n",
       "    }\n",
       "\n",
       "    .dataframe tbody tr th {\n",
       "        vertical-align: top;\n",
       "    }\n",
       "\n",
       "    .dataframe thead th {\n",
       "        text-align: right;\n",
       "    }\n",
       "</style>\n",
       "<table border=\"1\" class=\"dataframe\">\n",
       "  <thead>\n",
       "    <tr style=\"text-align: right;\">\n",
       "      <th></th>\n",
       "      <th>user_id</th>\n",
       "      <th>month</th>\n",
       "      <th>month_calls_duration</th>\n",
       "      <th>calls_total_in_month</th>\n",
       "      <th>sms_total_in_month</th>\n",
       "      <th>gb_total_in_month</th>\n",
       "      <th>age</th>\n",
       "      <th>churn_date</th>\n",
       "      <th>city</th>\n",
       "      <th>first_name</th>\n",
       "      <th>last_name</th>\n",
       "      <th>reg_date</th>\n",
       "      <th>tariff</th>\n",
       "    </tr>\n",
       "  </thead>\n",
       "  <tbody>\n",
       "    <tr>\n",
       "      <td>0</td>\n",
       "      <td>1000</td>\n",
       "      <td>5.00</td>\n",
       "      <td>159.00</td>\n",
       "      <td>22.00</td>\n",
       "      <td>22.00</td>\n",
       "      <td>3.00</td>\n",
       "      <td>52</td>\n",
       "      <td>NaN</td>\n",
       "      <td>Краснодар</td>\n",
       "      <td>Рафаил</td>\n",
       "      <td>Верещагин</td>\n",
       "      <td>2018-05-25</td>\n",
       "      <td>ultra</td>\n",
       "    </tr>\n",
       "    <tr>\n",
       "      <td>1</td>\n",
       "      <td>1000</td>\n",
       "      <td>6.00</td>\n",
       "      <td>172.00</td>\n",
       "      <td>43.00</td>\n",
       "      <td>60.00</td>\n",
       "      <td>23.00</td>\n",
       "      <td>52</td>\n",
       "      <td>NaN</td>\n",
       "      <td>Краснодар</td>\n",
       "      <td>Рафаил</td>\n",
       "      <td>Верещагин</td>\n",
       "      <td>2018-05-25</td>\n",
       "      <td>ultra</td>\n",
       "    </tr>\n",
       "    <tr>\n",
       "      <td>2</td>\n",
       "      <td>1000</td>\n",
       "      <td>7.00</td>\n",
       "      <td>340.00</td>\n",
       "      <td>47.00</td>\n",
       "      <td>75.00</td>\n",
       "      <td>14.00</td>\n",
       "      <td>52</td>\n",
       "      <td>NaN</td>\n",
       "      <td>Краснодар</td>\n",
       "      <td>Рафаил</td>\n",
       "      <td>Верещагин</td>\n",
       "      <td>2018-05-25</td>\n",
       "      <td>ultra</td>\n",
       "    </tr>\n",
       "    <tr>\n",
       "      <td>3</td>\n",
       "      <td>1000</td>\n",
       "      <td>8.00</td>\n",
       "      <td>408.00</td>\n",
       "      <td>52.00</td>\n",
       "      <td>81.00</td>\n",
       "      <td>14.00</td>\n",
       "      <td>52</td>\n",
       "      <td>NaN</td>\n",
       "      <td>Краснодар</td>\n",
       "      <td>Рафаил</td>\n",
       "      <td>Верещагин</td>\n",
       "      <td>2018-05-25</td>\n",
       "      <td>ultra</td>\n",
       "    </tr>\n",
       "    <tr>\n",
       "      <td>4</td>\n",
       "      <td>1000</td>\n",
       "      <td>9.00</td>\n",
       "      <td>466.00</td>\n",
       "      <td>58.00</td>\n",
       "      <td>57.00</td>\n",
       "      <td>15.00</td>\n",
       "      <td>52</td>\n",
       "      <td>NaN</td>\n",
       "      <td>Краснодар</td>\n",
       "      <td>Рафаил</td>\n",
       "      <td>Верещагин</td>\n",
       "      <td>2018-05-25</td>\n",
       "      <td>ultra</td>\n",
       "    </tr>\n",
       "  </tbody>\n",
       "</table>\n",
       "</div>"
      ],
      "text/plain": [
       "   user_id  month  month_calls_duration  calls_total_in_month  \\\n",
       "0     1000   5.00                159.00                 22.00   \n",
       "1     1000   6.00                172.00                 43.00   \n",
       "2     1000   7.00                340.00                 47.00   \n",
       "3     1000   8.00                408.00                 52.00   \n",
       "4     1000   9.00                466.00                 58.00   \n",
       "\n",
       "   sms_total_in_month  gb_total_in_month  age churn_date       city  \\\n",
       "0               22.00               3.00   52        NaN  Краснодар   \n",
       "1               60.00              23.00   52        NaN  Краснодар   \n",
       "2               75.00              14.00   52        NaN  Краснодар   \n",
       "3               81.00              14.00   52        NaN  Краснодар   \n",
       "4               57.00              15.00   52        NaN  Краснодар   \n",
       "\n",
       "  first_name  last_name    reg_date tariff  \n",
       "0     Рафаил  Верещагин  2018-05-25  ultra  \n",
       "1     Рафаил  Верещагин  2018-05-25  ultra  \n",
       "2     Рафаил  Верещагин  2018-05-25  ultra  \n",
       "3     Рафаил  Верещагин  2018-05-25  ultra  \n",
       "4     Рафаил  Верещагин  2018-05-25  ultra  "
      ]
     },
     "execution_count": 41,
     "metadata": {},
     "output_type": "execute_result"
    }
   ],
   "source": [
    "# добавим данные о пользователе\n",
    "data = data.merge(users, on='user_id', how='outer')\n",
    "data.head()"
   ]
  },
  {
   "cell_type": "code",
   "execution_count": 42,
   "metadata": {},
   "outputs": [
    {
     "data": {
      "text/plain": [
       "user_id                    0\n",
       "month                      2\n",
       "month_calls_duration      42\n",
       "calls_total_in_month      42\n",
       "sms_total_in_month       499\n",
       "gb_total_in_month         13\n",
       "age                        0\n",
       "churn_date              3027\n",
       "city                       0\n",
       "first_name                 0\n",
       "last_name                  0\n",
       "reg_date                   0\n",
       "tariff                     0\n",
       "dtype: int64"
      ]
     },
     "execution_count": 42,
     "metadata": {},
     "output_type": "execute_result"
    }
   ],
   "source": [
    "# посмотрим на получившиеся в новой таблице пропуски\n",
    "data.isna().sum()"
   ]
  },
  {
   "cell_type": "markdown",
   "metadata": {},
   "source": [
    "В таблице появились 2 строки с \"полными\" пропусками в данных, т.е. 2 месяца кто-то на тарифе был, но не использовал его."
   ]
  },
  {
   "cell_type": "code",
   "execution_count": 43,
   "metadata": {},
   "outputs": [],
   "source": [
    "# удалим пользователей без активности, их двое, на общий массив данных они не влияют, но создают выбросы\n",
    "data = data.dropna(subset=['month'])"
   ]
  },
  {
   "cell_type": "code",
   "execution_count": 44,
   "metadata": {},
   "outputs": [
    {
     "data": {
      "text/plain": [
       "user_id                    0\n",
       "month                      0\n",
       "month_calls_duration      40\n",
       "calls_total_in_month      40\n",
       "sms_total_in_month       497\n",
       "gb_total_in_month         11\n",
       "age                        0\n",
       "churn_date              3027\n",
       "city                       0\n",
       "first_name                 0\n",
       "last_name                  0\n",
       "reg_date                   0\n",
       "tariff                     0\n",
       "dtype: int64"
      ]
     },
     "execution_count": 44,
     "metadata": {},
     "output_type": "execute_result"
    }
   ],
   "source": [
    "data.isna().sum()"
   ]
  },
  {
   "cell_type": "markdown",
   "metadata": {},
   "source": [
    "Пользователи без активности удалены."
   ]
  },
  {
   "cell_type": "code",
   "execution_count": 45,
   "metadata": {},
   "outputs": [
    {
     "data": {
      "text/html": [
       "<div>\n",
       "<style scoped>\n",
       "    .dataframe tbody tr th:only-of-type {\n",
       "        vertical-align: middle;\n",
       "    }\n",
       "\n",
       "    .dataframe tbody tr th {\n",
       "        vertical-align: top;\n",
       "    }\n",
       "\n",
       "    .dataframe thead th {\n",
       "        text-align: right;\n",
       "    }\n",
       "</style>\n",
       "<table border=\"1\" class=\"dataframe\">\n",
       "  <thead>\n",
       "    <tr style=\"text-align: right;\">\n",
       "      <th></th>\n",
       "      <th>user_id</th>\n",
       "      <th>month</th>\n",
       "      <th>month_calls_duration</th>\n",
       "      <th>calls_total_in_month</th>\n",
       "      <th>sms_total_in_month</th>\n",
       "      <th>gb_total_in_month</th>\n",
       "      <th>age</th>\n",
       "      <th>churn_date</th>\n",
       "      <th>city</th>\n",
       "      <th>first_name</th>\n",
       "      <th>last_name</th>\n",
       "      <th>reg_date</th>\n",
       "      <th>tariff</th>\n",
       "      <th>messages_included</th>\n",
       "      <th>gb_per_month_included</th>\n",
       "      <th>minutes_included</th>\n",
       "      <th>rub_monthly_fee</th>\n",
       "      <th>rub_per_gb</th>\n",
       "      <th>rub_per_message</th>\n",
       "      <th>rub_per_minute</th>\n",
       "    </tr>\n",
       "  </thead>\n",
       "  <tbody>\n",
       "    <tr>\n",
       "      <td>3209</td>\n",
       "      <td>1489</td>\n",
       "      <td>8.00</td>\n",
       "      <td>nan</td>\n",
       "      <td>nan</td>\n",
       "      <td>17.00</td>\n",
       "      <td>11.00</td>\n",
       "      <td>35</td>\n",
       "      <td>NaN</td>\n",
       "      <td>Санкт-Петербург</td>\n",
       "      <td>Павел</td>\n",
       "      <td>Гончаров</td>\n",
       "      <td>2018-08-15</td>\n",
       "      <td>smart</td>\n",
       "      <td>50</td>\n",
       "      <td>15</td>\n",
       "      <td>500</td>\n",
       "      <td>550</td>\n",
       "      <td>200</td>\n",
       "      <td>3</td>\n",
       "      <td>3</td>\n",
       "    </tr>\n",
       "    <tr>\n",
       "      <td>3210</td>\n",
       "      <td>1489</td>\n",
       "      <td>9.00</td>\n",
       "      <td>nan</td>\n",
       "      <td>nan</td>\n",
       "      <td>32.00</td>\n",
       "      <td>17.00</td>\n",
       "      <td>35</td>\n",
       "      <td>NaN</td>\n",
       "      <td>Санкт-Петербург</td>\n",
       "      <td>Павел</td>\n",
       "      <td>Гончаров</td>\n",
       "      <td>2018-08-15</td>\n",
       "      <td>smart</td>\n",
       "      <td>50</td>\n",
       "      <td>15</td>\n",
       "      <td>500</td>\n",
       "      <td>550</td>\n",
       "      <td>200</td>\n",
       "      <td>3</td>\n",
       "      <td>3</td>\n",
       "    </tr>\n",
       "    <tr>\n",
       "      <td>3211</td>\n",
       "      <td>1489</td>\n",
       "      <td>10.00</td>\n",
       "      <td>nan</td>\n",
       "      <td>nan</td>\n",
       "      <td>21.00</td>\n",
       "      <td>20.00</td>\n",
       "      <td>35</td>\n",
       "      <td>NaN</td>\n",
       "      <td>Санкт-Петербург</td>\n",
       "      <td>Павел</td>\n",
       "      <td>Гончаров</td>\n",
       "      <td>2018-08-15</td>\n",
       "      <td>smart</td>\n",
       "      <td>50</td>\n",
       "      <td>15</td>\n",
       "      <td>500</td>\n",
       "      <td>550</td>\n",
       "      <td>200</td>\n",
       "      <td>3</td>\n",
       "      <td>3</td>\n",
       "    </tr>\n",
       "    <tr>\n",
       "      <td>3212</td>\n",
       "      <td>1489</td>\n",
       "      <td>11.00</td>\n",
       "      <td>nan</td>\n",
       "      <td>nan</td>\n",
       "      <td>20.00</td>\n",
       "      <td>18.00</td>\n",
       "      <td>35</td>\n",
       "      <td>NaN</td>\n",
       "      <td>Санкт-Петербург</td>\n",
       "      <td>Павел</td>\n",
       "      <td>Гончаров</td>\n",
       "      <td>2018-08-15</td>\n",
       "      <td>smart</td>\n",
       "      <td>50</td>\n",
       "      <td>15</td>\n",
       "      <td>500</td>\n",
       "      <td>550</td>\n",
       "      <td>200</td>\n",
       "      <td>3</td>\n",
       "      <td>3</td>\n",
       "    </tr>\n",
       "    <tr>\n",
       "      <td>3213</td>\n",
       "      <td>1489</td>\n",
       "      <td>12.00</td>\n",
       "      <td>nan</td>\n",
       "      <td>nan</td>\n",
       "      <td>35.00</td>\n",
       "      <td>17.00</td>\n",
       "      <td>35</td>\n",
       "      <td>NaN</td>\n",
       "      <td>Санкт-Петербург</td>\n",
       "      <td>Павел</td>\n",
       "      <td>Гончаров</td>\n",
       "      <td>2018-08-15</td>\n",
       "      <td>smart</td>\n",
       "      <td>50</td>\n",
       "      <td>15</td>\n",
       "      <td>500</td>\n",
       "      <td>550</td>\n",
       "      <td>200</td>\n",
       "      <td>3</td>\n",
       "      <td>3</td>\n",
       "    </tr>\n",
       "  </tbody>\n",
       "</table>\n",
       "</div>"
      ],
      "text/plain": [
       "      user_id  month  month_calls_duration  calls_total_in_month  \\\n",
       "3209     1489   8.00                   nan                   nan   \n",
       "3210     1489   9.00                   nan                   nan   \n",
       "3211     1489  10.00                   nan                   nan   \n",
       "3212     1489  11.00                   nan                   nan   \n",
       "3213     1489  12.00                   nan                   nan   \n",
       "\n",
       "      sms_total_in_month  gb_total_in_month  age churn_date             city  \\\n",
       "3209               17.00              11.00   35        NaN  Санкт-Петербург   \n",
       "3210               32.00              17.00   35        NaN  Санкт-Петербург   \n",
       "3211               21.00              20.00   35        NaN  Санкт-Петербург   \n",
       "3212               20.00              18.00   35        NaN  Санкт-Петербург   \n",
       "3213               35.00              17.00   35        NaN  Санкт-Петербург   \n",
       "\n",
       "     first_name last_name    reg_date tariff  messages_included  \\\n",
       "3209      Павел  Гончаров  2018-08-15  smart                 50   \n",
       "3210      Павел  Гончаров  2018-08-15  smart                 50   \n",
       "3211      Павел  Гончаров  2018-08-15  smart                 50   \n",
       "3212      Павел  Гончаров  2018-08-15  smart                 50   \n",
       "3213      Павел  Гончаров  2018-08-15  smart                 50   \n",
       "\n",
       "      gb_per_month_included  minutes_included  rub_monthly_fee  rub_per_gb  \\\n",
       "3209                     15               500              550         200   \n",
       "3210                     15               500              550         200   \n",
       "3211                     15               500              550         200   \n",
       "3212                     15               500              550         200   \n",
       "3213                     15               500              550         200   \n",
       "\n",
       "      rub_per_message  rub_per_minute  \n",
       "3209                3               3  \n",
       "3210                3               3  \n",
       "3211                3               3  \n",
       "3212                3               3  \n",
       "3213                3               3  "
      ]
     },
     "execution_count": 45,
     "metadata": {},
     "output_type": "execute_result"
    }
   ],
   "source": [
    "# добавим данные о тарифе\n",
    "data = data.merge(tariffs, on='tariff', how='outer')\n",
    "data.tail()"
   ]
  },
  {
   "cell_type": "code",
   "execution_count": 46,
   "metadata": {},
   "outputs": [
    {
     "data": {
      "text/plain": [
       "user_id                     0\n",
       "month                       0\n",
       "month_calls_duration       40\n",
       "calls_total_in_month       40\n",
       "sms_total_in_month        497\n",
       "gb_total_in_month          11\n",
       "age                         0\n",
       "churn_date               3027\n",
       "city                        0\n",
       "first_name                  0\n",
       "last_name                   0\n",
       "reg_date                    0\n",
       "tariff                      0\n",
       "messages_included           0\n",
       "gb_per_month_included       0\n",
       "minutes_included            0\n",
       "rub_monthly_fee             0\n",
       "rub_per_gb                  0\n",
       "rub_per_message             0\n",
       "rub_per_minute              0\n",
       "dtype: int64"
      ]
     },
     "execution_count": 46,
     "metadata": {},
     "output_type": "execute_result"
    }
   ],
   "source": [
    "# посмотрим на получившиеся в новой таблице пропуски\n",
    "data.isna().sum()"
   ]
  },
  {
   "cell_type": "code",
   "execution_count": 47,
   "metadata": {},
   "outputs": [],
   "source": [
    "# поставим нули людям, которые не тратят трафик\n",
    "data['sms_total_in_month'] = data['sms_total_in_month'].fillna(0)\n",
    "data['gb_total_in_month'] = data['gb_total_in_month'].fillna(0)\n",
    "data['month_calls_duration'] = data['month_calls_duration'].fillna(0)\n",
    "data['calls_total_in_month'] = data['calls_total_in_month'].fillna(0)"
   ]
  },
  {
   "cell_type": "code",
   "execution_count": 48,
   "metadata": {},
   "outputs": [
    {
     "data": {
      "text/plain": [
       "user_id                     0\n",
       "month                       0\n",
       "month_calls_duration        0\n",
       "calls_total_in_month        0\n",
       "sms_total_in_month          0\n",
       "gb_total_in_month           0\n",
       "age                         0\n",
       "churn_date               3027\n",
       "city                        0\n",
       "first_name                  0\n",
       "last_name                   0\n",
       "reg_date                    0\n",
       "tariff                      0\n",
       "messages_included           0\n",
       "gb_per_month_included       0\n",
       "minutes_included            0\n",
       "rub_monthly_fee             0\n",
       "rub_per_gb                  0\n",
       "rub_per_message             0\n",
       "rub_per_minute              0\n",
       "dtype: int64"
      ]
     },
     "execution_count": 48,
     "metadata": {},
     "output_type": "execute_result"
    }
   ],
   "source": [
    "# проверим заполнение пропусков\n",
    "data.isna().sum()"
   ]
  },
  {
   "cell_type": "markdown",
   "metadata": {},
   "source": [
    "Заполнили нулями строки людей, которые не тратят пакетный трафик"
   ]
  },
  {
   "cell_type": "code",
   "execution_count": 49,
   "metadata": {},
   "outputs": [
    {
     "data": {
      "text/plain": [
       "0"
      ]
     },
     "execution_count": 49,
     "metadata": {},
     "output_type": "execute_result"
    }
   ],
   "source": [
    "# проверим не возникли ли дубликаты из-за неверной склейки таблиц\n",
    "data.duplicated().sum()"
   ]
  },
  {
   "cell_type": "markdown",
   "metadata": {},
   "source": [
    "Дубликаты не возникли."
   ]
  },
  {
   "cell_type": "code",
   "execution_count": 50,
   "metadata": {},
   "outputs": [],
   "source": [
    "# напишем функцию, которая посчитает деньги, которые пользователи потратили на услуги сверх пакета тарифа\n",
    "def above_the_tariff(row):\n",
    "    sms = (row['sms_total_in_month'] - row['messages_included']) * row['rub_per_message'] # для смс\n",
    "    mins = (row['month_calls_duration'] - row['minutes_included']) * row['rub_per_minute'] # для звонков\n",
    "    gbs = (row['gb_total_in_month'] - row['gb_per_month_included']) * row['rub_per_gb'] # для интернета\n",
    "    total = 0\n",
    "    for i in [sms, mins, gbs]:\n",
    "        if i > 0:\n",
    "            total += i\n",
    "    return total"
   ]
  },
  {
   "cell_type": "code",
   "execution_count": 51,
   "metadata": {},
   "outputs": [
    {
     "data": {
      "text/html": [
       "<div>\n",
       "<style scoped>\n",
       "    .dataframe tbody tr th:only-of-type {\n",
       "        vertical-align: middle;\n",
       "    }\n",
       "\n",
       "    .dataframe tbody tr th {\n",
       "        vertical-align: top;\n",
       "    }\n",
       "\n",
       "    .dataframe thead th {\n",
       "        text-align: right;\n",
       "    }\n",
       "</style>\n",
       "<table border=\"1\" class=\"dataframe\">\n",
       "  <thead>\n",
       "    <tr style=\"text-align: right;\">\n",
       "      <th></th>\n",
       "      <th>user_id</th>\n",
       "      <th>month</th>\n",
       "      <th>month_calls_duration</th>\n",
       "      <th>calls_total_in_month</th>\n",
       "      <th>sms_total_in_month</th>\n",
       "      <th>gb_total_in_month</th>\n",
       "      <th>age</th>\n",
       "      <th>churn_date</th>\n",
       "      <th>city</th>\n",
       "      <th>first_name</th>\n",
       "      <th>last_name</th>\n",
       "      <th>reg_date</th>\n",
       "      <th>tariff</th>\n",
       "      <th>messages_included</th>\n",
       "      <th>gb_per_month_included</th>\n",
       "      <th>minutes_included</th>\n",
       "      <th>rub_monthly_fee</th>\n",
       "      <th>rub_per_gb</th>\n",
       "      <th>rub_per_message</th>\n",
       "      <th>rub_per_minute</th>\n",
       "    </tr>\n",
       "  </thead>\n",
       "  <tbody>\n",
       "    <tr>\n",
       "      <td>0</td>\n",
       "      <td>1000</td>\n",
       "      <td>5.00</td>\n",
       "      <td>159.00</td>\n",
       "      <td>22.00</td>\n",
       "      <td>22.00</td>\n",
       "      <td>3.00</td>\n",
       "      <td>52</td>\n",
       "      <td>NaN</td>\n",
       "      <td>Краснодар</td>\n",
       "      <td>Рафаил</td>\n",
       "      <td>Верещагин</td>\n",
       "      <td>2018-05-25</td>\n",
       "      <td>ultra</td>\n",
       "      <td>1000</td>\n",
       "      <td>30</td>\n",
       "      <td>3000</td>\n",
       "      <td>1950</td>\n",
       "      <td>150</td>\n",
       "      <td>1</td>\n",
       "      <td>1</td>\n",
       "    </tr>\n",
       "    <tr>\n",
       "      <td>1</td>\n",
       "      <td>1000</td>\n",
       "      <td>6.00</td>\n",
       "      <td>172.00</td>\n",
       "      <td>43.00</td>\n",
       "      <td>60.00</td>\n",
       "      <td>23.00</td>\n",
       "      <td>52</td>\n",
       "      <td>NaN</td>\n",
       "      <td>Краснодар</td>\n",
       "      <td>Рафаил</td>\n",
       "      <td>Верещагин</td>\n",
       "      <td>2018-05-25</td>\n",
       "      <td>ultra</td>\n",
       "      <td>1000</td>\n",
       "      <td>30</td>\n",
       "      <td>3000</td>\n",
       "      <td>1950</td>\n",
       "      <td>150</td>\n",
       "      <td>1</td>\n",
       "      <td>1</td>\n",
       "    </tr>\n",
       "    <tr>\n",
       "      <td>2</td>\n",
       "      <td>1000</td>\n",
       "      <td>7.00</td>\n",
       "      <td>340.00</td>\n",
       "      <td>47.00</td>\n",
       "      <td>75.00</td>\n",
       "      <td>14.00</td>\n",
       "      <td>52</td>\n",
       "      <td>NaN</td>\n",
       "      <td>Краснодар</td>\n",
       "      <td>Рафаил</td>\n",
       "      <td>Верещагин</td>\n",
       "      <td>2018-05-25</td>\n",
       "      <td>ultra</td>\n",
       "      <td>1000</td>\n",
       "      <td>30</td>\n",
       "      <td>3000</td>\n",
       "      <td>1950</td>\n",
       "      <td>150</td>\n",
       "      <td>1</td>\n",
       "      <td>1</td>\n",
       "    </tr>\n",
       "    <tr>\n",
       "      <td>3</td>\n",
       "      <td>1000</td>\n",
       "      <td>8.00</td>\n",
       "      <td>408.00</td>\n",
       "      <td>52.00</td>\n",
       "      <td>81.00</td>\n",
       "      <td>14.00</td>\n",
       "      <td>52</td>\n",
       "      <td>NaN</td>\n",
       "      <td>Краснодар</td>\n",
       "      <td>Рафаил</td>\n",
       "      <td>Верещагин</td>\n",
       "      <td>2018-05-25</td>\n",
       "      <td>ultra</td>\n",
       "      <td>1000</td>\n",
       "      <td>30</td>\n",
       "      <td>3000</td>\n",
       "      <td>1950</td>\n",
       "      <td>150</td>\n",
       "      <td>1</td>\n",
       "      <td>1</td>\n",
       "    </tr>\n",
       "    <tr>\n",
       "      <td>4</td>\n",
       "      <td>1000</td>\n",
       "      <td>9.00</td>\n",
       "      <td>466.00</td>\n",
       "      <td>58.00</td>\n",
       "      <td>57.00</td>\n",
       "      <td>15.00</td>\n",
       "      <td>52</td>\n",
       "      <td>NaN</td>\n",
       "      <td>Краснодар</td>\n",
       "      <td>Рафаил</td>\n",
       "      <td>Верещагин</td>\n",
       "      <td>2018-05-25</td>\n",
       "      <td>ultra</td>\n",
       "      <td>1000</td>\n",
       "      <td>30</td>\n",
       "      <td>3000</td>\n",
       "      <td>1950</td>\n",
       "      <td>150</td>\n",
       "      <td>1</td>\n",
       "      <td>1</td>\n",
       "    </tr>\n",
       "  </tbody>\n",
       "</table>\n",
       "</div>"
      ],
      "text/plain": [
       "   user_id  month  month_calls_duration  calls_total_in_month  \\\n",
       "0     1000   5.00                159.00                 22.00   \n",
       "1     1000   6.00                172.00                 43.00   \n",
       "2     1000   7.00                340.00                 47.00   \n",
       "3     1000   8.00                408.00                 52.00   \n",
       "4     1000   9.00                466.00                 58.00   \n",
       "\n",
       "   sms_total_in_month  gb_total_in_month  age churn_date       city  \\\n",
       "0               22.00               3.00   52        NaN  Краснодар   \n",
       "1               60.00              23.00   52        NaN  Краснодар   \n",
       "2               75.00              14.00   52        NaN  Краснодар   \n",
       "3               81.00              14.00   52        NaN  Краснодар   \n",
       "4               57.00              15.00   52        NaN  Краснодар   \n",
       "\n",
       "  first_name  last_name    reg_date tariff  messages_included  \\\n",
       "0     Рафаил  Верещагин  2018-05-25  ultra               1000   \n",
       "1     Рафаил  Верещагин  2018-05-25  ultra               1000   \n",
       "2     Рафаил  Верещагин  2018-05-25  ultra               1000   \n",
       "3     Рафаил  Верещагин  2018-05-25  ultra               1000   \n",
       "4     Рафаил  Верещагин  2018-05-25  ultra               1000   \n",
       "\n",
       "   gb_per_month_included  minutes_included  rub_monthly_fee  rub_per_gb  \\\n",
       "0                     30              3000             1950         150   \n",
       "1                     30              3000             1950         150   \n",
       "2                     30              3000             1950         150   \n",
       "3                     30              3000             1950         150   \n",
       "4                     30              3000             1950         150   \n",
       "\n",
       "   rub_per_message  rub_per_minute  \n",
       "0                1               1  \n",
       "1                1               1  \n",
       "2                1               1  \n",
       "3                1               1  \n",
       "4                1               1  "
      ]
     },
     "execution_count": 51,
     "metadata": {},
     "output_type": "execute_result"
    }
   ],
   "source": [
    "data.head()"
   ]
  },
  {
   "cell_type": "code",
   "execution_count": 52,
   "metadata": {},
   "outputs": [],
   "source": [
    "# добавим столбец с суммой, которую пользователь заплатил сверх тарифа\n",
    "data['above_the_tariff'] = data.apply(lambda x: above_the_tariff(x), axis=1)"
   ]
  },
  {
   "cell_type": "code",
   "execution_count": 53,
   "metadata": {},
   "outputs": [],
   "source": [
    "# добавим столбец с выручкой с каждого пользователя\n",
    "data['total_paid'] = data['rub_monthly_fee'] + data['above_the_tariff']"
   ]
  },
  {
   "cell_type": "code",
   "execution_count": 54,
   "metadata": {},
   "outputs": [
    {
     "data": {
      "text/html": [
       "<div>\n",
       "<style scoped>\n",
       "    .dataframe tbody tr th:only-of-type {\n",
       "        vertical-align: middle;\n",
       "    }\n",
       "\n",
       "    .dataframe tbody tr th {\n",
       "        vertical-align: top;\n",
       "    }\n",
       "\n",
       "    .dataframe thead th {\n",
       "        text-align: right;\n",
       "    }\n",
       "</style>\n",
       "<table border=\"1\" class=\"dataframe\">\n",
       "  <thead>\n",
       "    <tr style=\"text-align: right;\">\n",
       "      <th></th>\n",
       "      <th>user_id</th>\n",
       "      <th>month</th>\n",
       "      <th>month_calls_duration</th>\n",
       "      <th>calls_total_in_month</th>\n",
       "      <th>sms_total_in_month</th>\n",
       "      <th>gb_total_in_month</th>\n",
       "      <th>age</th>\n",
       "      <th>churn_date</th>\n",
       "      <th>city</th>\n",
       "      <th>first_name</th>\n",
       "      <th>last_name</th>\n",
       "      <th>reg_date</th>\n",
       "      <th>tariff</th>\n",
       "      <th>messages_included</th>\n",
       "      <th>gb_per_month_included</th>\n",
       "      <th>minutes_included</th>\n",
       "      <th>rub_monthly_fee</th>\n",
       "      <th>rub_per_gb</th>\n",
       "      <th>rub_per_message</th>\n",
       "      <th>rub_per_minute</th>\n",
       "      <th>above_the_tariff</th>\n",
       "      <th>total_paid</th>\n",
       "    </tr>\n",
       "  </thead>\n",
       "  <tbody>\n",
       "    <tr>\n",
       "      <td>2298</td>\n",
       "      <td>1286</td>\n",
       "      <td>12.00</td>\n",
       "      <td>739.00</td>\n",
       "      <td>95.00</td>\n",
       "      <td>68.00</td>\n",
       "      <td>35.00</td>\n",
       "      <td>19</td>\n",
       "      <td>NaN</td>\n",
       "      <td>Москва</td>\n",
       "      <td>Рашид</td>\n",
       "      <td>Троицкий</td>\n",
       "      <td>2018-11-27</td>\n",
       "      <td>smart</td>\n",
       "      <td>50</td>\n",
       "      <td>15</td>\n",
       "      <td>500</td>\n",
       "      <td>550</td>\n",
       "      <td>200</td>\n",
       "      <td>3</td>\n",
       "      <td>3</td>\n",
       "      <td>4,771.00</td>\n",
       "      <td>5,321.00</td>\n",
       "    </tr>\n",
       "    <tr>\n",
       "      <td>2177</td>\n",
       "      <td>1261</td>\n",
       "      <td>12.00</td>\n",
       "      <td>1,074.00</td>\n",
       "      <td>141.00</td>\n",
       "      <td>22.00</td>\n",
       "      <td>32.00</td>\n",
       "      <td>46</td>\n",
       "      <td>NaN</td>\n",
       "      <td>Казань</td>\n",
       "      <td>Мадина</td>\n",
       "      <td>Пантелеева</td>\n",
       "      <td>2018-10-30</td>\n",
       "      <td>smart</td>\n",
       "      <td>50</td>\n",
       "      <td>15</td>\n",
       "      <td>500</td>\n",
       "      <td>550</td>\n",
       "      <td>200</td>\n",
       "      <td>3</td>\n",
       "      <td>3</td>\n",
       "      <td>5,122.00</td>\n",
       "      <td>5,672.00</td>\n",
       "    </tr>\n",
       "    <tr>\n",
       "      <td>3156</td>\n",
       "      <td>1486</td>\n",
       "      <td>11.00</td>\n",
       "      <td>764.00</td>\n",
       "      <td>108.00</td>\n",
       "      <td>96.00</td>\n",
       "      <td>36.00</td>\n",
       "      <td>35</td>\n",
       "      <td>NaN</td>\n",
       "      <td>Нижний Новгород</td>\n",
       "      <td>Матвей</td>\n",
       "      <td>Моргунов</td>\n",
       "      <td>2018-10-31</td>\n",
       "      <td>smart</td>\n",
       "      <td>50</td>\n",
       "      <td>15</td>\n",
       "      <td>500</td>\n",
       "      <td>550</td>\n",
       "      <td>200</td>\n",
       "      <td>3</td>\n",
       "      <td>3</td>\n",
       "      <td>5,130.00</td>\n",
       "      <td>5,680.00</td>\n",
       "    </tr>\n",
       "    <tr>\n",
       "      <td>1183</td>\n",
       "      <td>1042</td>\n",
       "      <td>12.00</td>\n",
       "      <td>728.00</td>\n",
       "      <td>121.00</td>\n",
       "      <td>75.00</td>\n",
       "      <td>37.00</td>\n",
       "      <td>42</td>\n",
       "      <td>NaN</td>\n",
       "      <td>Хабаровск</td>\n",
       "      <td>Константин</td>\n",
       "      <td>Добрынин</td>\n",
       "      <td>2018-11-25</td>\n",
       "      <td>smart</td>\n",
       "      <td>50</td>\n",
       "      <td>15</td>\n",
       "      <td>500</td>\n",
       "      <td>550</td>\n",
       "      <td>200</td>\n",
       "      <td>3</td>\n",
       "      <td>3</td>\n",
       "      <td>5,159.00</td>\n",
       "      <td>5,709.00</td>\n",
       "    </tr>\n",
       "    <tr>\n",
       "      <td>3157</td>\n",
       "      <td>1486</td>\n",
       "      <td>12.00</td>\n",
       "      <td>1,007.00</td>\n",
       "      <td>133.00</td>\n",
       "      <td>83.00</td>\n",
       "      <td>38.00</td>\n",
       "      <td>35</td>\n",
       "      <td>NaN</td>\n",
       "      <td>Нижний Новгород</td>\n",
       "      <td>Матвей</td>\n",
       "      <td>Моргунов</td>\n",
       "      <td>2018-10-31</td>\n",
       "      <td>smart</td>\n",
       "      <td>50</td>\n",
       "      <td>15</td>\n",
       "      <td>500</td>\n",
       "      <td>550</td>\n",
       "      <td>200</td>\n",
       "      <td>3</td>\n",
       "      <td>3</td>\n",
       "      <td>6,220.00</td>\n",
       "      <td>6,770.00</td>\n",
       "    </tr>\n",
       "  </tbody>\n",
       "</table>\n",
       "</div>"
      ],
      "text/plain": [
       "      user_id  month  month_calls_duration  calls_total_in_month  \\\n",
       "2298     1286  12.00                739.00                 95.00   \n",
       "2177     1261  12.00              1,074.00                141.00   \n",
       "3156     1486  11.00                764.00                108.00   \n",
       "1183     1042  12.00                728.00                121.00   \n",
       "3157     1486  12.00              1,007.00                133.00   \n",
       "\n",
       "      sms_total_in_month  gb_total_in_month  age churn_date             city  \\\n",
       "2298               68.00              35.00   19        NaN           Москва   \n",
       "2177               22.00              32.00   46        NaN           Казань   \n",
       "3156               96.00              36.00   35        NaN  Нижний Новгород   \n",
       "1183               75.00              37.00   42        NaN        Хабаровск   \n",
       "3157               83.00              38.00   35        NaN  Нижний Новгород   \n",
       "\n",
       "      first_name   last_name    reg_date tariff  messages_included  \\\n",
       "2298       Рашид    Троицкий  2018-11-27  smart                 50   \n",
       "2177      Мадина  Пантелеева  2018-10-30  smart                 50   \n",
       "3156      Матвей    Моргунов  2018-10-31  smart                 50   \n",
       "1183  Константин    Добрынин  2018-11-25  smart                 50   \n",
       "3157      Матвей    Моргунов  2018-10-31  smart                 50   \n",
       "\n",
       "      gb_per_month_included  minutes_included  rub_monthly_fee  rub_per_gb  \\\n",
       "2298                     15               500              550         200   \n",
       "2177                     15               500              550         200   \n",
       "3156                     15               500              550         200   \n",
       "1183                     15               500              550         200   \n",
       "3157                     15               500              550         200   \n",
       "\n",
       "      rub_per_message  rub_per_minute  above_the_tariff  total_paid  \n",
       "2298                3               3          4,771.00    5,321.00  \n",
       "2177                3               3          5,122.00    5,672.00  \n",
       "3156                3               3          5,130.00    5,680.00  \n",
       "1183                3               3          5,159.00    5,709.00  \n",
       "3157                3               3          6,220.00    6,770.00  "
      ]
     },
     "execution_count": 54,
     "metadata": {},
     "output_type": "execute_result"
    }
   ],
   "source": [
    "data.sort_values(by='total_paid').tail()"
   ]
  },
  {
   "cell_type": "markdown",
   "metadata": {},
   "source": [
    "Рассчитаны и добавлены в таблицу столбцы:\n",
    " - деньги, уплаченные пользователем сверх тарифа\n",
    " - помесячная выручка с каждого пользователя"
   ]
  },
  {
   "cell_type": "markdown",
   "metadata": {},
   "source": [
    "#### Вывод о расчетах\n",
    "\n",
    "Расчитали и добавили в таблицу данные для каждого пользователя по месяцам:\n",
    "\n",
    "- о количестве сделанных звонков и израсходованных минут,\n",
    "- о количестве отправленных сообщений,\n",
    "- об объем израсходованного интернет-трафика,\n",
    "- помесячную выручку с каждого пользователя."
   ]
  },
  {
   "cell_type": "markdown",
   "metadata": {},
   "source": [
    "## Анализ данных"
   ]
  },
  {
   "cell_type": "markdown",
   "metadata": {},
   "source": [
    "[Начало тетрадки](#intro)"
   ]
  },
  {
   "cell_type": "markdown",
   "metadata": {},
   "source": [
    "- Опишите поведение клиентов оператора, исходя из выборки. \n",
    "- Сколько минут разговора, сколько сообщений и какой объём интернет-трафика требуется пользователям каждого тарифа в месяц?\n",
    "- Посчитайте среднее количество, дисперсию и стандартное отклонение. \n",
    "- Постройте гистограммы. Опишите распределения."
   ]
  },
  {
   "cell_type": "code",
   "execution_count": 55,
   "metadata": {},
   "outputs": [
    {
     "data": {
      "text/html": [
       "<div>\n",
       "<style scoped>\n",
       "    .dataframe tbody tr th:only-of-type {\n",
       "        vertical-align: middle;\n",
       "    }\n",
       "\n",
       "    .dataframe tbody tr th {\n",
       "        vertical-align: top;\n",
       "    }\n",
       "\n",
       "    .dataframe thead th {\n",
       "        text-align: right;\n",
       "    }\n",
       "</style>\n",
       "<table border=\"1\" class=\"dataframe\">\n",
       "  <thead>\n",
       "    <tr style=\"text-align: right;\">\n",
       "      <th></th>\n",
       "      <th>above_the_tariff</th>\n",
       "      <th>total_paid</th>\n",
       "    </tr>\n",
       "  </thead>\n",
       "  <tbody>\n",
       "    <tr>\n",
       "      <td>count</td>\n",
       "      <td>3,214.00</td>\n",
       "      <td>3,214.00</td>\n",
       "    </tr>\n",
       "    <tr>\n",
       "      <td>mean</td>\n",
       "      <td>550.02</td>\n",
       "      <td>1,529.08</td>\n",
       "    </tr>\n",
       "    <tr>\n",
       "      <td>std</td>\n",
       "      <td>767.77</td>\n",
       "      <td>798.25</td>\n",
       "    </tr>\n",
       "    <tr>\n",
       "      <td>min</td>\n",
       "      <td>0.00</td>\n",
       "      <td>550.00</td>\n",
       "    </tr>\n",
       "    <tr>\n",
       "      <td>25%</td>\n",
       "      <td>0.00</td>\n",
       "      <td>750.00</td>\n",
       "    </tr>\n",
       "    <tr>\n",
       "      <td>50%</td>\n",
       "      <td>163.50</td>\n",
       "      <td>1,653.50</td>\n",
       "    </tr>\n",
       "    <tr>\n",
       "      <td>75%</td>\n",
       "      <td>938.00</td>\n",
       "      <td>1,950.00</td>\n",
       "    </tr>\n",
       "    <tr>\n",
       "      <td>max</td>\n",
       "      <td>6,220.00</td>\n",
       "      <td>6,770.00</td>\n",
       "    </tr>\n",
       "  </tbody>\n",
       "</table>\n",
       "</div>"
      ],
      "text/plain": [
       "       above_the_tariff  total_paid\n",
       "count          3,214.00    3,214.00\n",
       "mean             550.02    1,529.08\n",
       "std              767.77      798.25\n",
       "min                0.00      550.00\n",
       "25%                0.00      750.00\n",
       "50%              163.50    1,653.50\n",
       "75%              938.00    1,950.00\n",
       "max            6,220.00    6,770.00"
      ]
     },
     "execution_count": 55,
     "metadata": {},
     "output_type": "execute_result"
    }
   ],
   "source": [
    "data[['above_the_tariff', 'total_paid']].describe()"
   ]
  },
  {
   "cell_type": "markdown",
   "metadata": {},
   "source": [
    "Рассмотрели значения по колонкам \"прибыль сверх тарифа\" и \"помесячная выручка с каждого пользователя\". Отрицательных значений не встречается. В среднее значение \"сверх тарифа\" выше медианного, а в \"помесячной выручке\" наоборот медианное значение выше среднего. Минимально \"сверх тарифа\" мы получаем 0, а суммарно минимально имеем 550 по тарифу \"смарт\"."
   ]
  },
  {
   "cell_type": "code",
   "execution_count": 56,
   "metadata": {},
   "outputs": [
    {
     "data": {
      "text/plain": [
       "smart    2229\n",
       "ultra     985\n",
       "Name: tariff, dtype: int64"
      ]
     },
     "execution_count": 56,
     "metadata": {},
     "output_type": "execute_result"
    }
   ],
   "source": [
    "# для начала посмотрим на пользователей\n",
    "data['tariff'].value_counts()"
   ]
  },
  {
   "cell_type": "markdown",
   "metadata": {},
   "source": [
    "- 2229 пользователей на фарифе \"smart\"\n",
    "- 985 пользователей на фарифе \"ultra\""
   ]
  },
  {
   "cell_type": "code",
   "execution_count": 57,
   "metadata": {},
   "outputs": [
    {
     "data": {
      "image/png": "[encoded data removed]",
      "text/plain": [
       "<Figure size 1080x648 with 1 Axes>"
      ]
     },
     "metadata": {
      "needs_background": "light"
     },
     "output_type": "display_data"
    }
   ],
   "source": [
    "x = data[data['tariff'] == 'smart']['total_paid']\n",
    "y = data[data['tariff'] == 'ultra']['total_paid']\n",
    "\n",
    "bins = 15\n",
    "fig, ax = plt.subplots(figsize=(15,9)) \n",
    "plt.hist(x, bins, alpha=0.5, label='smart')\n",
    "plt.hist(y, bins, alpha=0.7, label='ultra')\n",
    "plt.title('Помесячная выручка от пользователей тарифов')\n",
    "ax.set_xlabel('оплаченная сумма')\n",
    "ax.set_ylabel('количество пользователей тарифа')\n",
    "plt.legend()\n",
    "plt.show()"
   ]
  },
  {
   "cell_type": "markdown",
   "metadata": {},
   "source": [
    "Ультру, видимо, в основном платят по тарифу и мелкими группами вылазят на каждую тысячу рублей. А у Смарта люди вылезают за абонентскую плату чаще, для них это как будто дело привычное"
   ]
  },
  {
   "cell_type": "code",
   "execution_count": 58,
   "metadata": {},
   "outputs": [
    {
     "data": {
      "text/html": [
       "<style  type=\"text/css\" >\n",
       "</style><table id=\"T_677749da_8a84_11ec_94d9_02420a391342\" ><thead>    <tr>        <th class=\"blank level0\" ></th>        <th class=\"col_heading level0 col0\" colspan=4>total_paid</th>    </tr>    <tr>        <th class=\"blank level1\" ></th>        <th class=\"col_heading level1 col0\" >median</th>        <th class=\"col_heading level1 col1\" >mean</th>        <th class=\"col_heading level1 col2\" >var</th>        <th class=\"col_heading level1 col3\" >std</th>    </tr>    <tr>        <th class=\"index_name level0\" >tariff</th>        <th class=\"blank\" ></th>        <th class=\"blank\" ></th>        <th class=\"blank\" ></th>        <th class=\"blank\" ></th>    </tr></thead><tbody>\n",
       "                <tr>\n",
       "                        <th id=\"T_677749da_8a84_11ec_94d9_02420a391342level0_row0\" class=\"row_heading level0 row0\" >smart</th>\n",
       "                        <td id=\"T_677749da_8a84_11ec_94d9_02420a391342row0_col0\" class=\"data row0 col0\" >1023.00</td>\n",
       "                        <td id=\"T_677749da_8a84_11ec_94d9_02420a391342row0_col1\" class=\"data row0 col1\" >1289.97</td>\n",
       "                        <td id=\"T_677749da_8a84_11ec_94d9_02420a391342row0_col2\" class=\"data row0 col2\" >669785.71</td>\n",
       "                        <td id=\"T_677749da_8a84_11ec_94d9_02420a391342row0_col3\" class=\"data row0 col3\" >818.40</td>\n",
       "            </tr>\n",
       "            <tr>\n",
       "                        <th id=\"T_677749da_8a84_11ec_94d9_02420a391342level0_row1\" class=\"row_heading level0 row1\" >ultra</th>\n",
       "                        <td id=\"T_677749da_8a84_11ec_94d9_02420a391342row1_col0\" class=\"data row1 col0\" >1950.00</td>\n",
       "                        <td id=\"T_677749da_8a84_11ec_94d9_02420a391342row1_col1\" class=\"data row1 col1\" >2070.15</td>\n",
       "                        <td id=\"T_677749da_8a84_11ec_94d9_02420a391342row1_col2\" class=\"data row1 col2\" >141516.75</td>\n",
       "                        <td id=\"T_677749da_8a84_11ec_94d9_02420a391342row1_col3\" class=\"data row1 col3\" >376.19</td>\n",
       "            </tr>\n",
       "    </tbody></table>"
      ],
      "text/plain": [
       "<pandas.io.formats.style.Styler at 0x7f30d36834d0>"
      ]
     },
     "execution_count": 58,
     "metadata": {},
     "output_type": "execute_result"
    },
    {
     "data": {
      "image/png": "[encoded data removed]",
      "text/plain": [
       "<Figure size 432x288 with 1 Axes>"
      ]
     },
     "metadata": {
      "needs_background": "light"
     },
     "output_type": "display_data"
    }
   ],
   "source": [
    "data.pivot_table(index = 'month', columns = 'tariff', values = 'total_paid', aggfunc = 'mean').plot()\n",
    "data.groupby('tariff')\\\n",
    "  .agg({'total_paid':['median','mean','var','std']})\\\n",
    "  .style.format(\"{:.2f}\")"
   ]
  },
  {
   "cell_type": "markdown",
   "metadata": {},
   "source": [
    "Помня о ценах на тарифы:\n",
    "- смарт 550\n",
    "- ультра 1950\n",
    "\n",
    "Видим, что с течением времени. На тарифе \"ультра\" средняя помесячная выручка увеличивается незначительно, а на \"смарте\" увеличивается вдвое.\n"
   ]
  },
  {
   "cell_type": "code",
   "execution_count": 59,
   "metadata": {},
   "outputs": [
    {
     "data": {
      "text/html": [
       "<style  type=\"text/css\" >\n",
       "</style><table id=\"T_678eb656_8a84_11ec_94d9_02420a391342\" ><thead>    <tr>        <th class=\"blank level0\" ></th>        <th class=\"col_heading level0 col0\" colspan=4>month_calls_duration</th>    </tr>    <tr>        <th class=\"blank level1\" ></th>        <th class=\"col_heading level1 col0\" >median</th>        <th class=\"col_heading level1 col1\" >mean</th>        <th class=\"col_heading level1 col2\" >var</th>        <th class=\"col_heading level1 col3\" >std</th>    </tr>    <tr>        <th class=\"index_name level0\" >tariff</th>        <th class=\"blank\" ></th>        <th class=\"blank\" ></th>        <th class=\"blank\" ></th>        <th class=\"blank\" ></th>    </tr></thead><tbody>\n",
       "                <tr>\n",
       "                        <th id=\"T_678eb656_8a84_11ec_94d9_02420a391342level0_row0\" class=\"row_heading level0 row0\" >smart</th>\n",
       "                        <td id=\"T_678eb656_8a84_11ec_94d9_02420a391342row0_col0\" class=\"data row0 col0\" >422.00</td>\n",
       "                        <td id=\"T_678eb656_8a84_11ec_94d9_02420a391342row0_col1\" class=\"data row0 col1\" >417.93</td>\n",
       "                        <td id=\"T_678eb656_8a84_11ec_94d9_02420a391342row0_col2\" class=\"data row0 col2\" >36219.32</td>\n",
       "                        <td id=\"T_678eb656_8a84_11ec_94d9_02420a391342row0_col3\" class=\"data row0 col3\" >190.31</td>\n",
       "            </tr>\n",
       "            <tr>\n",
       "                        <th id=\"T_678eb656_8a84_11ec_94d9_02420a391342level0_row1\" class=\"row_heading level0 row1\" >ultra</th>\n",
       "                        <td id=\"T_678eb656_8a84_11ec_94d9_02420a391342row1_col0\" class=\"data row1 col0\" >518.00</td>\n",
       "                        <td id=\"T_678eb656_8a84_11ec_94d9_02420a391342row1_col1\" class=\"data row1 col1\" >526.62</td>\n",
       "                        <td id=\"T_678eb656_8a84_11ec_94d9_02420a391342row1_col2\" class=\"data row1 col2\" >100873.63</td>\n",
       "                        <td id=\"T_678eb656_8a84_11ec_94d9_02420a391342row1_col3\" class=\"data row1 col3\" >317.61</td>\n",
       "            </tr>\n",
       "    </tbody></table>"
      ],
      "text/plain": [
       "<pandas.io.formats.style.Styler at 0x7f30d3696050>"
      ]
     },
     "execution_count": 59,
     "metadata": {},
     "output_type": "execute_result"
    }
   ],
   "source": [
    "data.groupby('tariff')\\\n",
    "  .agg({'month_calls_duration':['median','mean','var','std']})\\\n",
    "  .style.format(\"{:.2f}\")"
   ]
  },
  {
   "cell_type": "code",
   "execution_count": 60,
   "metadata": {},
   "outputs": [
    {
     "data": {
      "image/png": "[encoded data removed]",
      "text/plain": [
       "<Figure size 1080x648 with 1 Axes>"
      ]
     },
     "metadata": {
      "needs_background": "light"
     },
     "output_type": "display_data"
    }
   ],
   "source": [
    "x = data[data['tariff'] == 'smart']['month_calls_duration']\n",
    "y = data[data['tariff'] == 'ultra']['month_calls_duration']\n",
    "\n",
    "bins = 15\n",
    "fig, ax = plt.subplots(figsize=(15,9)) \n",
    "plt.hist(x, bins, alpha=0.7, label='smart')\n",
    "plt.hist(y, bins, alpha=0.5, label='ultra')\n",
    "plt.title('Звонки в минутах в месяц')\n",
    "ax.set_xlabel('количество минут')\n",
    "ax.set_ylabel('частота')\n",
    "plt.legend()\n",
    "plt.show()"
   ]
  },
  {
   "cell_type": "markdown",
   "metadata": {},
   "source": [
    "На Смарте люди в месяц говорят около 450 минут, на Ультре 550 минут в месяц. То есть на Смарте люди подходят к краю своего тарифа, а на Ультре у них остается запас 2500 минут. Среднее и медиана лежат рядом и там и там"
   ]
  },
  {
   "cell_type": "code",
   "execution_count": 61,
   "metadata": {},
   "outputs": [
    {
     "data": {
      "text/html": [
       "<style  type=\"text/css\" >\n",
       "</style><table id=\"T_67c153ae_8a84_11ec_94d9_02420a391342\" ><thead>    <tr>        <th class=\"blank level0\" ></th>        <th class=\"col_heading level0 col0\" colspan=4>gb_total_in_month</th>    </tr>    <tr>        <th class=\"blank level1\" ></th>        <th class=\"col_heading level1 col0\" >median</th>        <th class=\"col_heading level1 col1\" >mean</th>        <th class=\"col_heading level1 col2\" >var</th>        <th class=\"col_heading level1 col3\" >std</th>    </tr>    <tr>        <th class=\"index_name level0\" >tariff</th>        <th class=\"blank\" ></th>        <th class=\"blank\" ></th>        <th class=\"blank\" ></th>        <th class=\"blank\" ></th>    </tr></thead><tbody>\n",
       "                <tr>\n",
       "                        <th id=\"T_67c153ae_8a84_11ec_94d9_02420a391342level0_row0\" class=\"row_heading level0 row0\" >smart</th>\n",
       "                        <td id=\"T_67c153ae_8a84_11ec_94d9_02420a391342row0_col0\" class=\"data row0 col0\" >17.00</td>\n",
       "                        <td id=\"T_67c153ae_8a84_11ec_94d9_02420a391342row0_col1\" class=\"data row0 col1\" >16.33</td>\n",
       "                        <td id=\"T_67c153ae_8a84_11ec_94d9_02420a391342row0_col2\" class=\"data row0 col2\" >33.03</td>\n",
       "                        <td id=\"T_67c153ae_8a84_11ec_94d9_02420a391342row0_col3\" class=\"data row0 col3\" >5.75</td>\n",
       "            </tr>\n",
       "            <tr>\n",
       "                        <th id=\"T_67c153ae_8a84_11ec_94d9_02420a391342level0_row1\" class=\"row_heading level0 row1\" >ultra</th>\n",
       "                        <td id=\"T_67c153ae_8a84_11ec_94d9_02420a391342row1_col0\" class=\"data row1 col0\" >19.00</td>\n",
       "                        <td id=\"T_67c153ae_8a84_11ec_94d9_02420a391342row1_col1\" class=\"data row1 col1\" >19.49</td>\n",
       "                        <td id=\"T_67c153ae_8a84_11ec_94d9_02420a391342row1_col2\" class=\"data row1 col2\" >97.09</td>\n",
       "                        <td id=\"T_67c153ae_8a84_11ec_94d9_02420a391342row1_col3\" class=\"data row1 col3\" >9.85</td>\n",
       "            </tr>\n",
       "    </tbody></table>"
      ],
      "text/plain": [
       "<pandas.io.formats.style.Styler at 0x7f30d21c7290>"
      ]
     },
     "execution_count": 61,
     "metadata": {},
     "output_type": "execute_result"
    }
   ],
   "source": [
    "data.groupby('tariff')\\\n",
    "  .agg({'gb_total_in_month':['median','mean','var','std']})\\\n",
    "  .style.format(\"{:.2f}\")"
   ]
  },
  {
   "cell_type": "code",
   "execution_count": 62,
   "metadata": {},
   "outputs": [
    {
     "data": {
      "image/png": "[encoded data removed]",
      "text/plain": [
       "<Figure size 1080x648 with 1 Axes>"
      ]
     },
     "metadata": {
      "needs_background": "light"
     },
     "output_type": "display_data"
    }
   ],
   "source": [
    "x = data[data['tariff'] == 'smart']['gb_total_in_month']\n",
    "y = data[data['tariff'] == 'ultra']['gb_total_in_month']\n",
    "\n",
    "\n",
    "bins = 15\n",
    "fig, ax = plt.subplots(figsize=(15,9)) \n",
    "plt.hist(x, bins, alpha=0.5, label='smart')\n",
    "plt.hist(y, bins, alpha=0.5, label='ultra')\n",
    "plt.title('Интернет в ГБ в месяц')\n",
    "ax.set_xlabel('количество ГБ')\n",
    "ax.set_ylabel('частота')\n",
    "plt.legend()\n",
    "plt.show()"
   ]
  },
  {
   "cell_type": "markdown",
   "metadata": {},
   "source": [
    "Среднее и медиана лежат рядом и там и там и тут тоже. На Смарте люди выходят за пределы тарифа больше, у Ультры снова запас — в 10 Гб, но и разброс больше"
   ]
  },
  {
   "cell_type": "code",
   "execution_count": 63,
   "metadata": {},
   "outputs": [
    {
     "data": {
      "text/html": [
       "<style  type=\"text/css\" >\n",
       "</style><table id=\"T_67f342ce_8a84_11ec_94d9_02420a391342\" ><thead>    <tr>        <th class=\"blank level0\" ></th>        <th class=\"col_heading level0 col0\" colspan=4>sms_total_in_month</th>    </tr>    <tr>        <th class=\"blank level1\" ></th>        <th class=\"col_heading level1 col0\" >median</th>        <th class=\"col_heading level1 col1\" >mean</th>        <th class=\"col_heading level1 col2\" >var</th>        <th class=\"col_heading level1 col3\" >std</th>    </tr>    <tr>        <th class=\"index_name level0\" >tariff</th>        <th class=\"blank\" ></th>        <th class=\"blank\" ></th>        <th class=\"blank\" ></th>        <th class=\"blank\" ></th>    </tr></thead><tbody>\n",
       "                <tr>\n",
       "                        <th id=\"T_67f342ce_8a84_11ec_94d9_02420a391342level0_row0\" class=\"row_heading level0 row0\" >smart</th>\n",
       "                        <td id=\"T_67f342ce_8a84_11ec_94d9_02420a391342row0_col0\" class=\"data row0 col0\" >28.00</td>\n",
       "                        <td id=\"T_67f342ce_8a84_11ec_94d9_02420a391342row0_col1\" class=\"data row0 col1\" >33.38</td>\n",
       "                        <td id=\"T_67f342ce_8a84_11ec_94d9_02420a391342row0_col2\" class=\"data row0 col2\" >796.81</td>\n",
       "                        <td id=\"T_67f342ce_8a84_11ec_94d9_02420a391342row0_col3\" class=\"data row0 col3\" >28.23</td>\n",
       "            </tr>\n",
       "            <tr>\n",
       "                        <th id=\"T_67f342ce_8a84_11ec_94d9_02420a391342level0_row1\" class=\"row_heading level0 row1\" >ultra</th>\n",
       "                        <td id=\"T_67f342ce_8a84_11ec_94d9_02420a391342row1_col0\" class=\"data row1 col0\" >38.00</td>\n",
       "                        <td id=\"T_67f342ce_8a84_11ec_94d9_02420a391342row1_col1\" class=\"data row1 col1\" >49.36</td>\n",
       "                        <td id=\"T_67f342ce_8a84_11ec_94d9_02420a391342row1_col2\" class=\"data row1 col2\" >2285.27</td>\n",
       "                        <td id=\"T_67f342ce_8a84_11ec_94d9_02420a391342row1_col3\" class=\"data row1 col3\" >47.80</td>\n",
       "            </tr>\n",
       "    </tbody></table>"
      ],
      "text/plain": [
       "<pandas.io.formats.style.Styler at 0x7f313bf6d5d0>"
      ]
     },
     "execution_count": 63,
     "metadata": {},
     "output_type": "execute_result"
    }
   ],
   "source": [
    "data.groupby('tariff')\\\n",
    "  .agg({'sms_total_in_month':['median','mean','var','std']})\\\n",
    "  .style.format(\"{:.2f}\")"
   ]
  },
  {
   "cell_type": "code",
   "execution_count": 64,
   "metadata": {},
   "outputs": [
    {
     "data": {
      "image/png": "[encoded data removed]",
      "text/plain": [
       "<Figure size 1080x648 with 1 Axes>"
      ]
     },
     "metadata": {
      "needs_background": "light"
     },
     "output_type": "display_data"
    }
   ],
   "source": [
    "x = data[data['tariff'] == 'smart']['sms_total_in_month']\n",
    "y = data[data['tariff'] == 'ultra']['sms_total_in_month']\n",
    "\n",
    "\n",
    "bins = 15\n",
    "fig, ax = plt.subplots(figsize=(15,9)) \n",
    "plt.hist(x, bins, alpha=0.5, label='smart')\n",
    "plt.hist(y, bins, alpha=0.5, label='ultra')\n",
    "plt.title('СМС в месяц')\n",
    "ax.set_xlabel('количество смс')\n",
    "ax.set_ylabel('частота')\n",
    "plt.legend()\n",
    "plt.show()"
   ]
  },
  {
   "cell_type": "markdown",
   "metadata": {},
   "source": [
    "Поведение пользователей выглядит похожим. Ультра не выходит за рамки тарифа, на смарте есть превышения. В подавляющем большинстве пользоватям СМС не нужны."
   ]
  },
  {
   "cell_type": "markdown",
   "metadata": {},
   "source": [
    "### Вывод по анализу данных\n",
    "\n",
    "2229 пользователей на фарифе \"smart\"\n",
    "985 пользователей на фарифе \"ultra\"\n",
    "\n",
    "Ультру, видимо, в основном платят по тарифу и мелкими группами вылазят на каждую тысячу рублей. А у Смарта люди вылезают за абонентскую плату чаще, для них это как будто дело привычное.\n",
    "\n",
    "На Смарте люди в месяц говорят около 450 минут, на Ультре 550 минут в месяц. То есть на Смарте люди подходят к краю своего тарифа, а на Ультре у них остается запас 2500 минут. Среднее и медиана лежат рядом и там и там.\n",
    "\n",
    "Среднее и медиана лежат рядом и там и там и тут тоже. На Смарте люди выходят за пределы тарифа больше, у Ультры снова запас — в 10 Гб, но и разброс больше.\n",
    "\n",
    "Поведение пользователей выглядит похожим. Ультра не выходит за рамки тарифа, на смарте есть превышения. В подавляющем большинстве пользоватям СМС не нужны."
   ]
  },
  {
   "cell_type": "markdown",
   "metadata": {},
   "source": [
    "## Проверка гипотез"
   ]
  },
  {
   "cell_type": "markdown",
   "metadata": {},
   "source": [
    "[Начало тетрадки](#intro)"
   ]
  },
  {
   "cell_type": "markdown",
   "metadata": {},
   "source": [
    "1. Средняя выручка пользователей тарифов «Ультра» и «Смарт» различаются;\n",
    "2. Средняя выручка пользователей из Москвы отличается от выручки пользователей из других регионов.\n",
    "\n",
    "Пороговое значение alpha задайте самостоятельно.\n",
    "\n",
    "**Поясните:**\n",
    "\n",
    "- как вы формулировали нулевую и альтернативную гипотезы\n",
    "- какой критерий использовали для проверки гипотез и почему"
   ]
  },
  {
   "cell_type": "markdown",
   "metadata": {},
   "source": [
    "### Средняя выручка пользователей тарифов «Ультра» и «Смарт» различаются"
   ]
  },
  {
   "cell_type": "markdown",
   "metadata": {},
   "source": [
    "Гипотеза о равенстве средних двух генеральных совокупностей №1"
   ]
  },
  {
   "cell_type": "code",
   "execution_count": 65,
   "metadata": {},
   "outputs": [],
   "source": [
    "ultra = data[data['tariff'] == 'ultra']\n",
    "smart = data[data['tariff'] == 'smart']"
   ]
  },
  {
   "cell_type": "code",
   "execution_count": 66,
   "metadata": {},
   "outputs": [
    {
     "data": {
      "text/plain": [
       "count     985.00\n",
       "mean    2,070.15\n",
       "std       376.19\n",
       "min     1,950.00\n",
       "25%     1,950.00\n",
       "50%     1,950.00\n",
       "75%     1,950.00\n",
       "max     4,800.00\n",
       "Name: total_paid, dtype: float64"
      ]
     },
     "execution_count": 66,
     "metadata": {},
     "output_type": "execute_result"
    }
   ],
   "source": [
    "ultra['total_paid'].describe()"
   ]
  },
  {
   "cell_type": "markdown",
   "metadata": {},
   "source": [
    "Посмотрели на выборку пользователей \"Ультра\". Границы выбросов сошлись в точке 1950, она же медиана. Среднее значение 2070."
   ]
  },
  {
   "cell_type": "code",
   "execution_count": 67,
   "metadata": {},
   "outputs": [
    {
     "data": {
      "text/plain": [
       "count   2,229.00\n",
       "mean    1,289.97\n",
       "std       818.40\n",
       "min       550.00\n",
       "25%       550.00\n",
       "50%     1,023.00\n",
       "75%     1,750.00\n",
       "max     6,770.00\n",
       "Name: total_paid, dtype: float64"
      ]
     },
     "execution_count": 67,
     "metadata": {},
     "output_type": "execute_result"
    }
   ],
   "source": [
    "smart['total_paid'].describe()"
   ]
  },
  {
   "cell_type": "markdown",
   "metadata": {},
   "source": [
    "Выборка \"Смарт\". Границы выбросов от 550 до 1750, медиана 1023. Среднее значение 1289. \n",
    "\n",
    "Выборки разного размера, есть сомнения, что дисперсии у совокупностей одинаковые, параметр equal_var при вызове метода scipy.stats.ttest_ind() укажем, как False, и тест посчитает дисперсии выборок по отдельности."
   ]
  },
  {
   "cell_type": "code",
   "execution_count": 68,
   "metadata": {},
   "outputs": [],
   "source": [
    "# Напишем функцию для удаления выбросов\n",
    "\n",
    "def delete_outliers(data, column):\n",
    "    q1 = data[column].quantile(0.25)                 \n",
    "    q3 = data[column].quantile(0.75)\n",
    "    iqr = q3 - q1\n",
    "    iqr_test = (data[column] >= (q1 - 1.5 * iqr)) & (data[column] <= (q3 + 1.5 * iqr))\n",
    "    return data.loc[iqr_test]"
   ]
  },
  {
   "cell_type": "markdown",
   "metadata": {},
   "source": [
    "Будем использовать t-критерий Стьюдента, так как сравниваемые выборки независимы между собой.\n",
    "\n",
    "Гипотеза о равенстве средних двух генеральных совокупностей №1\n",
    "\n",
    "Сформулируем гипотезы:\n",
    "\n",
    "- H0: выручка пользователей тарифов «Ультра» и «Смарт» не различается\n",
    "- H1: выручка пользователей тарифов «Ультра» и «Смарт» различается"
   ]
  },
  {
   "cell_type": "code",
   "execution_count": 69,
   "metadata": {},
   "outputs": [
    {
     "data": {
      "text/html": [
       "<div>\n",
       "<style scoped>\n",
       "    .dataframe tbody tr th:only-of-type {\n",
       "        vertical-align: middle;\n",
       "    }\n",
       "\n",
       "    .dataframe tbody tr th {\n",
       "        vertical-align: top;\n",
       "    }\n",
       "\n",
       "    .dataframe thead th {\n",
       "        text-align: right;\n",
       "    }\n",
       "</style>\n",
       "<table border=\"1\" class=\"dataframe\">\n",
       "  <thead>\n",
       "    <tr style=\"text-align: right;\">\n",
       "      <th></th>\n",
       "      <th>user_id</th>\n",
       "      <th>month</th>\n",
       "      <th>month_calls_duration</th>\n",
       "      <th>calls_total_in_month</th>\n",
       "      <th>sms_total_in_month</th>\n",
       "      <th>gb_total_in_month</th>\n",
       "      <th>age</th>\n",
       "      <th>churn_date</th>\n",
       "      <th>city</th>\n",
       "      <th>first_name</th>\n",
       "      <th>last_name</th>\n",
       "      <th>reg_date</th>\n",
       "      <th>tariff</th>\n",
       "      <th>messages_included</th>\n",
       "      <th>gb_per_month_included</th>\n",
       "      <th>minutes_included</th>\n",
       "      <th>rub_monthly_fee</th>\n",
       "      <th>rub_per_gb</th>\n",
       "      <th>rub_per_message</th>\n",
       "      <th>rub_per_minute</th>\n",
       "      <th>above_the_tariff</th>\n",
       "      <th>total_paid</th>\n",
       "    </tr>\n",
       "  </thead>\n",
       "  <tbody>\n",
       "    <tr>\n",
       "      <td>0</td>\n",
       "      <td>1000</td>\n",
       "      <td>5.00</td>\n",
       "      <td>159.00</td>\n",
       "      <td>22.00</td>\n",
       "      <td>22.00</td>\n",
       "      <td>3.00</td>\n",
       "      <td>52</td>\n",
       "      <td>NaN</td>\n",
       "      <td>Краснодар</td>\n",
       "      <td>Рафаил</td>\n",
       "      <td>Верещагин</td>\n",
       "      <td>2018-05-25</td>\n",
       "      <td>ultra</td>\n",
       "      <td>1000</td>\n",
       "      <td>30</td>\n",
       "      <td>3000</td>\n",
       "      <td>1950</td>\n",
       "      <td>150</td>\n",
       "      <td>1</td>\n",
       "      <td>1</td>\n",
       "      <td>0.00</td>\n",
       "      <td>1,950.00</td>\n",
       "    </tr>\n",
       "    <tr>\n",
       "      <td>1</td>\n",
       "      <td>1000</td>\n",
       "      <td>6.00</td>\n",
       "      <td>172.00</td>\n",
       "      <td>43.00</td>\n",
       "      <td>60.00</td>\n",
       "      <td>23.00</td>\n",
       "      <td>52</td>\n",
       "      <td>NaN</td>\n",
       "      <td>Краснодар</td>\n",
       "      <td>Рафаил</td>\n",
       "      <td>Верещагин</td>\n",
       "      <td>2018-05-25</td>\n",
       "      <td>ultra</td>\n",
       "      <td>1000</td>\n",
       "      <td>30</td>\n",
       "      <td>3000</td>\n",
       "      <td>1950</td>\n",
       "      <td>150</td>\n",
       "      <td>1</td>\n",
       "      <td>1</td>\n",
       "      <td>0.00</td>\n",
       "      <td>1,950.00</td>\n",
       "    </tr>\n",
       "    <tr>\n",
       "      <td>2</td>\n",
       "      <td>1000</td>\n",
       "      <td>7.00</td>\n",
       "      <td>340.00</td>\n",
       "      <td>47.00</td>\n",
       "      <td>75.00</td>\n",
       "      <td>14.00</td>\n",
       "      <td>52</td>\n",
       "      <td>NaN</td>\n",
       "      <td>Краснодар</td>\n",
       "      <td>Рафаил</td>\n",
       "      <td>Верещагин</td>\n",
       "      <td>2018-05-25</td>\n",
       "      <td>ultra</td>\n",
       "      <td>1000</td>\n",
       "      <td>30</td>\n",
       "      <td>3000</td>\n",
       "      <td>1950</td>\n",
       "      <td>150</td>\n",
       "      <td>1</td>\n",
       "      <td>1</td>\n",
       "      <td>0.00</td>\n",
       "      <td>1,950.00</td>\n",
       "    </tr>\n",
       "    <tr>\n",
       "      <td>3</td>\n",
       "      <td>1000</td>\n",
       "      <td>8.00</td>\n",
       "      <td>408.00</td>\n",
       "      <td>52.00</td>\n",
       "      <td>81.00</td>\n",
       "      <td>14.00</td>\n",
       "      <td>52</td>\n",
       "      <td>NaN</td>\n",
       "      <td>Краснодар</td>\n",
       "      <td>Рафаил</td>\n",
       "      <td>Верещагин</td>\n",
       "      <td>2018-05-25</td>\n",
       "      <td>ultra</td>\n",
       "      <td>1000</td>\n",
       "      <td>30</td>\n",
       "      <td>3000</td>\n",
       "      <td>1950</td>\n",
       "      <td>150</td>\n",
       "      <td>1</td>\n",
       "      <td>1</td>\n",
       "      <td>0.00</td>\n",
       "      <td>1,950.00</td>\n",
       "    </tr>\n",
       "    <tr>\n",
       "      <td>4</td>\n",
       "      <td>1000</td>\n",
       "      <td>9.00</td>\n",
       "      <td>466.00</td>\n",
       "      <td>58.00</td>\n",
       "      <td>57.00</td>\n",
       "      <td>15.00</td>\n",
       "      <td>52</td>\n",
       "      <td>NaN</td>\n",
       "      <td>Краснодар</td>\n",
       "      <td>Рафаил</td>\n",
       "      <td>Верещагин</td>\n",
       "      <td>2018-05-25</td>\n",
       "      <td>ultra</td>\n",
       "      <td>1000</td>\n",
       "      <td>30</td>\n",
       "      <td>3000</td>\n",
       "      <td>1950</td>\n",
       "      <td>150</td>\n",
       "      <td>1</td>\n",
       "      <td>1</td>\n",
       "      <td>0.00</td>\n",
       "      <td>1,950.00</td>\n",
       "    </tr>\n",
       "  </tbody>\n",
       "</table>\n",
       "</div>"
      ],
      "text/plain": [
       "   user_id  month  month_calls_duration  calls_total_in_month  \\\n",
       "0     1000   5.00                159.00                 22.00   \n",
       "1     1000   6.00                172.00                 43.00   \n",
       "2     1000   7.00                340.00                 47.00   \n",
       "3     1000   8.00                408.00                 52.00   \n",
       "4     1000   9.00                466.00                 58.00   \n",
       "\n",
       "   sms_total_in_month  gb_total_in_month  age churn_date       city  \\\n",
       "0               22.00               3.00   52        NaN  Краснодар   \n",
       "1               60.00              23.00   52        NaN  Краснодар   \n",
       "2               75.00              14.00   52        NaN  Краснодар   \n",
       "3               81.00              14.00   52        NaN  Краснодар   \n",
       "4               57.00              15.00   52        NaN  Краснодар   \n",
       "\n",
       "  first_name  last_name    reg_date tariff  messages_included  \\\n",
       "0     Рафаил  Верещагин  2018-05-25  ultra               1000   \n",
       "1     Рафаил  Верещагин  2018-05-25  ultra               1000   \n",
       "2     Рафаил  Верещагин  2018-05-25  ultra               1000   \n",
       "3     Рафаил  Верещагин  2018-05-25  ultra               1000   \n",
       "4     Рафаил  Верещагин  2018-05-25  ultra               1000   \n",
       "\n",
       "   gb_per_month_included  minutes_included  rub_monthly_fee  rub_per_gb  \\\n",
       "0                     30              3000             1950         150   \n",
       "1                     30              3000             1950         150   \n",
       "2                     30              3000             1950         150   \n",
       "3                     30              3000             1950         150   \n",
       "4                     30              3000             1950         150   \n",
       "\n",
       "   rub_per_message  rub_per_minute  above_the_tariff  total_paid  \n",
       "0                1               1              0.00    1,950.00  \n",
       "1                1               1              0.00    1,950.00  \n",
       "2                1               1              0.00    1,950.00  \n",
       "3                1               1              0.00    1,950.00  \n",
       "4                1               1              0.00    1,950.00  "
      ]
     },
     "execution_count": 69,
     "metadata": {},
     "output_type": "execute_result"
    }
   ],
   "source": [
    "data.head()"
   ]
  },
  {
   "cell_type": "code",
   "execution_count": 70,
   "metadata": {},
   "outputs": [],
   "source": [
    "ultra = data[data['tariff'] == 'ultra']\n",
    "smart = data[data['tariff'] == 'smart']"
   ]
  },
  {
   "cell_type": "code",
   "execution_count": 71,
   "metadata": {},
   "outputs": [],
   "source": [
    "# удаляем выбросы перед тестом\n",
    "#ultra = delete_outliers(ultra, 'total_paid')\n",
    "ultra = ultra['total_paid']\n",
    "#ultra.tolist() # проверим, как отработала функция"
   ]
  },
  {
   "cell_type": "code",
   "execution_count": 72,
   "metadata": {},
   "outputs": [],
   "source": [
    "smart = delete_outliers(smart, 'total_paid')\n",
    "smart = smart['total_paid']"
   ]
  },
  {
   "cell_type": "code",
   "execution_count": 73,
   "metadata": {},
   "outputs": [],
   "source": [
    "alpha = 0.05 # критический уровень статистической значимости"
   ]
  },
  {
   "cell_type": "code",
   "execution_count": 74,
   "metadata": {},
   "outputs": [],
   "source": [
    "results = st.ttest_ind(ultra, smart, equal_var = False)\n",
    "# equal_var = False"
   ]
  },
  {
   "cell_type": "code",
   "execution_count": 75,
   "metadata": {},
   "outputs": [
    {
     "name": "stdout",
     "output_type": "stream",
     "text": [
      "p-значение: 2.877731264576296e-305\n",
      "Отвергаем нулевую гипотезу\n"
     ]
    }
   ],
   "source": [
    "print('p-значение:', results.pvalue)\n",
    "\n",
    "if (results.pvalue < alpha):\n",
    "    print(\"Отвергаем нулевую гипотезу\")\n",
    "else:\n",
    "    print(\"Не получилось отвергнуть нулевую гипотезу\")"
   ]
  },
  {
   "cell_type": "markdown",
   "metadata": {},
   "source": [
    "Разница не случайна, есть значимые различия между выборками"
   ]
  },
  {
   "cell_type": "markdown",
   "metadata": {},
   "source": [
    "### Средняя выручка пользователей из Москвы отличается от выручки пользователей из других регионов"
   ]
  },
  {
   "cell_type": "markdown",
   "metadata": {},
   "source": [
    "Сформулируем гипотезы:\n",
    "\n",
    "- H0: средняя выручка пользователей из Москвы не отличается от выручки пользователей из других регионов\n",
    "- H1: средняя выручка пользователей из Москвы отличается от выручки пользователей из других регионов"
   ]
  },
  {
   "cell_type": "code",
   "execution_count": 76,
   "metadata": {},
   "outputs": [
    {
     "data": {
      "text/plain": [
       "array(['Краснодар', 'Москва', 'Новокузнецк', 'Иваново', 'Омск', 'Уфа',\n",
       "       'Томск', 'Санкт-Петербург', 'Тверь', 'Ярославль', 'Тюмень',\n",
       "       'Ростов-на-Дону', 'Калуга', 'Тула', 'Волгоград', 'Саранск',\n",
       "       'Иркутск', 'Череповец', 'Новосибирск', 'Брянск', 'Тольятти',\n",
       "       'Нижний Тагил', 'Воронеж', 'Махачкала', 'Пермь', 'Сургут', 'Пенза',\n",
       "       'Мурманск', 'Набережные Челны', 'Самара', 'Нижний Новгород',\n",
       "       'Кемерово', 'Кострома', 'Оренбург', 'Магнитогорск', 'Астрахань',\n",
       "       'Нижневартовск', 'Челябинск', 'Курган', 'Красноярск',\n",
       "       'Владивосток', 'Смоленск', 'Владимир', 'Казань', 'Саратов',\n",
       "       'Севастополь', 'Рязань', 'Екатеринбург', 'Стерлитамак',\n",
       "       'Ульяновск', 'Балашиха', 'Барнаул', 'Киров', 'Сочи', 'Вологда',\n",
       "       'Чебоксары', 'Чита', 'Петрозаводск', 'Хабаровск', 'Ставрополь',\n",
       "       'Улан-Удэ', 'Курск', 'Якутск', 'Химки', 'Владикавказ', 'Ижевск',\n",
       "       'Орёл', 'Белгород', 'Архангельск', 'Липецк', 'Волжский', 'Тамбов',\n",
       "       'Калининград', 'Новороссийск', 'Грозный', 'Подольск'], dtype=object)"
      ]
     },
     "execution_count": 76,
     "metadata": {},
     "output_type": "execute_result"
    }
   ],
   "source": [
    "data['city'].unique()"
   ]
  },
  {
   "cell_type": "code",
   "execution_count": 77,
   "metadata": {},
   "outputs": [],
   "source": [
    "data['region'] = np.where(data['city'] == 'Москва', 'Москва', 'Провинция')"
   ]
  },
  {
   "cell_type": "code",
   "execution_count": 78,
   "metadata": {},
   "outputs": [],
   "source": [
    "moscow = data[data['region'] == 'Москва']\n",
    "province = data[data['region'] == 'Провинция']"
   ]
  },
  {
   "cell_type": "code",
   "execution_count": 79,
   "metadata": {},
   "outputs": [],
   "source": [
    "moscow = delete_outliers(moscow, 'total_paid')\n",
    "moscow = moscow['total_paid']"
   ]
  },
  {
   "cell_type": "code",
   "execution_count": 80,
   "metadata": {},
   "outputs": [],
   "source": [
    "province = delete_outliers(province, 'total_paid')\n",
    "province = province['total_paid']"
   ]
  },
  {
   "cell_type": "code",
   "execution_count": 81,
   "metadata": {},
   "outputs": [],
   "source": [
    "# equal_var = False\n",
    "results = st.ttest_ind(moscow, province, equal_var = False)"
   ]
  },
  {
   "cell_type": "code",
   "execution_count": 82,
   "metadata": {},
   "outputs": [
    {
     "name": "stdout",
     "output_type": "stream",
     "text": [
      "p-значение: 0.28193534711211565\n",
      "Не получилось отвергнуть нулевую гипотезу\n"
     ]
    }
   ],
   "source": [
    "print('p-значение:', results.pvalue)\n",
    "\n",
    "if (results.pvalue < alpha):\n",
    "    print(\"Отвергаем нулевую гипотезу\")\n",
    "else:\n",
    "    print(\"Не получилось отвергнуть нулевую гипотезу\")"
   ]
  },
  {
   "cell_type": "markdown",
   "metadata": {},
   "source": [
    "С вероятностью в 30% такой результат может быть получен случайно. Значимых различий нет."
   ]
  },
  {
   "cell_type": "markdown",
   "metadata": {},
   "source": [
    "### Результаты исследования\n",
    "Люди на разных тарифах ведут себя по-разному. Так и должно работать сегментирование. Но и переплачивают, а это, особенно в Смарте, может приводить к разочарованию и оттоку.\n",
    "\n",
    "СМС-ки никому не нужны на обоих тарифах. Но если в Смарте люди близки к своим лимитам, то на Ультре остаются большие неизрасходованные \"запасы\" — возможно, имеет смысл подумать, как использовать эту, по сути, упущенную выгоду\n",
    "\n",
    "Деньги одинаково текут и из регионов и из Москвы, и вероятно это не связано с уровнем жизни, а с поведением: ~8-10 часов в месяц — это предел у среднего клиента на обоих тарифах\n",
    "\n",
    "Тарифы приносят разные деньги, значимые различия есть. Cредний чек у пользователей Ультры больше. Но пользователей Смарт больше в два раза и они чаще выходят за лемит."
   ]
  },
  {
   "cell_type": "markdown",
   "metadata": {},
   "source": [
    "## Общий вывод\n",
    "\n",
    "Имеем 5 таблиц:\n",
    "\n",
    "Таблица users - информация о пользователях,\n",
    "Таблица calls - информация о звонках,\n",
    "Таблица messages - информация о сообщениях,\n",
    "Таблица internet - информация об интернет-сессиях,\n",
    "Таблица tariffs - информация о тарифах\n",
    "\n",
    "Проблемы с данными:\n",
    "\n",
    "- некорректные форматы данных\n",
    "- нулевые интернет-сессии\n",
    "- предположительно задублировавшийся столбец индекса\n",
    "- некорректные единицы измерений трафика\n",
    "\n",
    "Изменили неподходящие форматы\n",
    "Нашли и удалили ошибочный столбец\n",
    "Необходимые для анализа расчеты производятся за месяц. Работаем с данными за один календарный год, значит месяца повторяться не будут. Вместо форматирования дат добавили столбец с месяцем.\n",
    "\n",
    "Расчитали и добавили в таблицу данные для каждого пользователя по месяцам:\n",
    "\n",
    "- о количестве сделанных звонков и израсходованных минут,\n",
    "- о количестве отправленных сообщений,\n",
    "- об объем израсходованного интернет-трафика,\n",
    "- помесячную выручку с каждого пользователя.\n",
    "\n",
    "Проанализировали поведение пользователей:\n",
    "\n",
    "2229 пользователей на фарифе \"smart\"\n",
    "985 пользователей на фарифе \"ultra\"\n",
    "\n",
    "Ультру, видимо, в основном платят по тарифу и мелкими группами вылазят на каждую тысячу рублей. А у Смарта люди вылезают за абонентскую плату чаще, для них это как будто дело привычное.\n",
    "\n",
    "На Смарте люди в месяц говорят около 450 минут, на Ультре 550 минут в месяц. То есть на Смарте люди подходят к краю своего тарифа, а на Ультре у них остается запас 2500 минут. Среднее и медиана лежат рядом и там и там.\n",
    "\n",
    "Среднее и медиана лежат рядом и там и там и тут тоже. На Смарте люди выходят за пределы тарифа больше, у Ультры снова запас — в 10 Гб, но и разброс больше.\n",
    "\n",
    "Поведение пользователей выглядит похожим. Ультра не выходит за рамки тарифа, на смарте есть превышения. В подавляющем большинстве пользоватям СМС не нужны.\n",
    "\n",
    "Люди на разных тарифах ведут себя по-разному. Так и должно работать сегментирование. Но и переплачивают, а это, особенно в Смарте, может приводить к разочарованию и оттоку.\n",
    "\n",
    "СМС-ки никому не нужны на обоих тарифах. Но если в Смарте люди близки к своим лимитам, то на Ультре остаются большие неизрасходованные \"запасы\" — возможно, имеет смысл подумать, как использовать эту, по сути, упущенную выгоду\n",
    "\n",
    "Деньги одинаково текут и из регионов и из Москвы, и, вероятно, это не связано с уровнем жизни, а с поведением: ~8-10 часов в месяц — это предел у среднего клиента на обоих тарифах\n",
    "\n",
    "Тарифы приносят разные деньги, значимые различия есть. Cредний чек у пользователей Ультры больше. Но пользователей Смарт больше в два раза и они чаще выходят за лемит.\n",
    "\n",
    "**Рекомендации оператору**\n",
    "\n",
    "- Не публиковать незашифрованные ФИО и города в одном наборе\n",
    "- Подумать над оптимизацией тарифов"
   ]
  }
 ],
 "metadata": {
  "ExecuteTimeLog": [
   {
    "duration": 1555,
    "start_time": "2022-01-29T10:22:33.836Z"
   },
   {
    "duration": 2468,
    "start_time": "2022-01-29T10:22:35.394Z"
   },
   {
    "duration": 422,
    "start_time": "2022-01-29T10:22:37.444Z"
   },
   {
    "duration": 420,
    "start_time": "2022-01-29T10:22:37.447Z"
   },
   {
    "duration": 419,
    "start_time": "2022-01-29T10:22:37.449Z"
   },
   {
    "duration": 420,
    "start_time": "2022-01-29T10:22:37.450Z"
   },
   {
    "duration": 419,
    "start_time": "2022-01-29T10:22:37.452Z"
   },
   {
    "duration": 418,
    "start_time": "2022-01-29T10:22:37.454Z"
   },
   {
    "duration": 417,
    "start_time": "2022-01-29T10:22:37.456Z"
   },
   {
    "duration": 415,
    "start_time": "2022-01-29T10:22:37.460Z"
   },
   {
    "duration": 412,
    "start_time": "2022-01-29T10:22:37.464Z"
   },
   {
    "duration": 410,
    "start_time": "2022-01-29T10:22:37.467Z"
   },
   {
    "duration": 410,
    "start_time": "2022-01-29T10:22:37.469Z"
   },
   {
    "duration": 408,
    "start_time": "2022-01-29T10:22:37.472Z"
   },
   {
    "duration": 405,
    "start_time": "2022-01-29T10:22:37.476Z"
   },
   {
    "duration": 403,
    "start_time": "2022-01-29T10:22:37.479Z"
   },
   {
    "duration": 2409,
    "start_time": "2022-01-29T10:24:24.896Z"
   },
   {
    "duration": 217,
    "start_time": "2022-01-29T10:25:10.913Z"
   },
   {
    "duration": 20,
    "start_time": "2022-01-29T10:25:16.630Z"
   },
   {
    "duration": 280,
    "start_time": "2022-01-29T10:25:24.191Z"
   },
   {
    "duration": 32,
    "start_time": "2022-01-29T10:25:44.229Z"
   },
   {
    "duration": 1503,
    "start_time": "2022-01-29T10:28:07.471Z"
   },
   {
    "duration": 201,
    "start_time": "2022-01-29T10:28:08.977Z"
   },
   {
    "duration": 14,
    "start_time": "2022-01-29T10:28:09.181Z"
   },
   {
    "duration": 53,
    "start_time": "2022-01-29T10:28:09.198Z"
   },
   {
    "duration": 2808,
    "start_time": "2022-01-29T10:28:09.253Z"
   },
   {
    "duration": 442,
    "start_time": "2022-01-29T10:28:11.623Z"
   },
   {
    "duration": 441,
    "start_time": "2022-01-29T10:28:11.625Z"
   },
   {
    "duration": 441,
    "start_time": "2022-01-29T10:28:11.627Z"
   },
   {
    "duration": 441,
    "start_time": "2022-01-29T10:28:11.629Z"
   },
   {
    "duration": 441,
    "start_time": "2022-01-29T10:28:11.631Z"
   },
   {
    "duration": 441,
    "start_time": "2022-01-29T10:28:11.633Z"
   },
   {
    "duration": 441,
    "start_time": "2022-01-29T10:28:11.634Z"
   },
   {
    "duration": 442,
    "start_time": "2022-01-29T10:28:11.635Z"
   },
   {
    "duration": 443,
    "start_time": "2022-01-29T10:28:11.636Z"
   },
   {
    "duration": 443,
    "start_time": "2022-01-29T10:28:11.637Z"
   },
   {
    "duration": 443,
    "start_time": "2022-01-29T10:28:11.638Z"
   },
   {
    "duration": 2610,
    "start_time": "2022-01-29T10:47:50.996Z"
   },
   {
    "duration": 190,
    "start_time": "2022-01-29T10:48:00.813Z"
   },
   {
    "duration": 39,
    "start_time": "2022-01-29T10:48:05.059Z"
   },
   {
    "duration": 28,
    "start_time": "2022-01-29T10:48:12.022Z"
   },
   {
    "duration": 116,
    "start_time": "2022-01-29T10:48:23.542Z"
   },
   {
    "duration": 1533,
    "start_time": "2022-01-29T10:48:58.068Z"
   },
   {
    "duration": 220,
    "start_time": "2022-01-29T10:48:59.604Z"
   },
   {
    "duration": 20,
    "start_time": "2022-01-29T10:48:59.828Z"
   },
   {
    "duration": 32,
    "start_time": "2022-01-29T10:48:59.851Z"
   },
   {
    "duration": 209,
    "start_time": "2022-01-29T10:48:59.885Z"
   },
   {
    "duration": 54,
    "start_time": "2022-01-29T10:49:00.096Z"
   },
   {
    "duration": 34,
    "start_time": "2022-01-29T10:49:00.153Z"
   },
   {
    "duration": 165,
    "start_time": "2022-01-29T10:49:00.191Z"
   },
   {
    "duration": 21,
    "start_time": "2022-01-29T10:49:00.359Z"
   },
   {
    "duration": 230,
    "start_time": "2022-01-29T10:49:00.383Z"
   },
   {
    "duration": 30,
    "start_time": "2022-01-29T10:49:00.616Z"
   },
   {
    "duration": 50,
    "start_time": "2022-01-29T10:49:00.649Z"
   },
   {
    "duration": 28,
    "start_time": "2022-01-29T10:49:00.701Z"
   },
   {
    "duration": 80,
    "start_time": "2022-01-29T10:49:00.732Z"
   },
   {
    "duration": 31,
    "start_time": "2022-01-29T10:49:00.814Z"
   },
   {
    "duration": 23,
    "start_time": "2022-01-29T10:49:00.847Z"
   },
   {
    "duration": 409409,
    "start_time": "2022-01-29T10:54:34.691Z"
   },
   {
    "duration": 1674,
    "start_time": "2022-01-29T11:02:31.711Z"
   },
   {
    "duration": 8,
    "start_time": "2022-01-29T11:02:33.391Z"
   },
   {
    "duration": 297,
    "start_time": "2022-01-29T11:02:33.402Z"
   },
   {
    "duration": 24,
    "start_time": "2022-01-29T11:02:33.703Z"
   },
   {
    "duration": 38,
    "start_time": "2022-01-29T11:02:33.730Z"
   },
   {
    "duration": 205,
    "start_time": "2022-01-29T11:02:33.770Z"
   },
   {
    "duration": 56,
    "start_time": "2022-01-29T11:02:33.977Z"
   },
   {
    "duration": 29,
    "start_time": "2022-01-29T11:02:34.037Z"
   },
   {
    "duration": 141,
    "start_time": "2022-01-29T11:02:34.070Z"
   },
   {
    "duration": 33,
    "start_time": "2022-01-29T11:02:34.214Z"
   },
   {
    "duration": 173,
    "start_time": "2022-01-29T11:02:34.250Z"
   },
   {
    "duration": 35,
    "start_time": "2022-01-29T11:02:34.426Z"
   },
   {
    "duration": 40,
    "start_time": "2022-01-29T11:02:34.464Z"
   },
   {
    "duration": 23,
    "start_time": "2022-01-29T11:02:34.507Z"
   },
   {
    "duration": 24,
    "start_time": "2022-01-29T11:02:34.534Z"
   },
   {
    "duration": 48,
    "start_time": "2022-01-29T11:02:34.561Z"
   },
   {
    "duration": 29,
    "start_time": "2022-01-29T11:02:34.612Z"
   },
   {
    "duration": 20,
    "start_time": "2022-01-29T11:02:34.645Z"
   },
   {
    "duration": 1769,
    "start_time": "2022-01-29T11:04:10.235Z"
   },
   {
    "duration": 5,
    "start_time": "2022-01-29T11:04:12.007Z"
   },
   {
    "duration": 262,
    "start_time": "2022-01-29T11:04:12.023Z"
   },
   {
    "duration": 20,
    "start_time": "2022-01-29T11:04:12.288Z"
   },
   {
    "duration": 49,
    "start_time": "2022-01-29T11:04:12.311Z"
   },
   {
    "duration": 226,
    "start_time": "2022-01-29T11:04:12.363Z"
   },
   {
    "duration": 61,
    "start_time": "2022-01-29T11:04:12.592Z"
   },
   {
    "duration": 34,
    "start_time": "2022-01-29T11:04:12.658Z"
   },
   {
    "duration": 168,
    "start_time": "2022-01-29T11:04:12.696Z"
   },
   {
    "duration": 23,
    "start_time": "2022-01-29T11:04:12.867Z"
   },
   {
    "duration": 194,
    "start_time": "2022-01-29T11:04:12.897Z"
   },
   {
    "duration": 28,
    "start_time": "2022-01-29T11:04:13.095Z"
   },
   {
    "duration": 55,
    "start_time": "2022-01-29T11:04:13.129Z"
   },
   {
    "duration": 37,
    "start_time": "2022-01-29T11:04:13.188Z"
   },
   {
    "duration": 10,
    "start_time": "2022-01-29T11:04:13.228Z"
   },
   {
    "duration": 79,
    "start_time": "2022-01-29T11:04:13.244Z"
   },
   {
    "duration": 29,
    "start_time": "2022-01-29T11:04:13.326Z"
   },
   {
    "duration": 14,
    "start_time": "2022-01-29T11:04:13.358Z"
   },
   {
    "duration": 1661,
    "start_time": "2022-01-29T11:06:33.921Z"
   },
   {
    "duration": 4,
    "start_time": "2022-01-29T11:06:35.585Z"
   },
   {
    "duration": 250,
    "start_time": "2022-01-29T11:06:35.593Z"
   },
   {
    "duration": 19,
    "start_time": "2022-01-29T11:06:35.846Z"
   },
   {
    "duration": 60,
    "start_time": "2022-01-29T11:06:35.869Z"
   },
   {
    "duration": 198,
    "start_time": "2022-01-29T11:06:35.931Z"
   },
   {
    "duration": 43,
    "start_time": "2022-01-29T11:06:36.132Z"
   },
   {
    "duration": 24,
    "start_time": "2022-01-29T11:06:36.177Z"
   },
   {
    "duration": 211,
    "start_time": "2022-01-29T11:06:36.204Z"
   },
   {
    "duration": 24,
    "start_time": "2022-01-29T11:06:36.419Z"
   },
   {
    "duration": 183,
    "start_time": "2022-01-29T11:06:36.445Z"
   },
   {
    "duration": 33,
    "start_time": "2022-01-29T11:06:36.631Z"
   },
   {
    "duration": 89,
    "start_time": "2022-01-29T11:06:36.666Z"
   },
   {
    "duration": 10,
    "start_time": "2022-01-29T11:06:36.758Z"
   },
   {
    "duration": 14,
    "start_time": "2022-01-29T11:06:36.771Z"
   },
   {
    "duration": 70,
    "start_time": "2022-01-29T11:06:36.788Z"
   },
   {
    "duration": 23,
    "start_time": "2022-01-29T11:06:36.860Z"
   },
   {
    "duration": 25,
    "start_time": "2022-01-29T11:06:36.886Z"
   },
   {
    "duration": 1581,
    "start_time": "2022-01-29T11:07:26.715Z"
   },
   {
    "duration": 3,
    "start_time": "2022-01-29T11:07:28.299Z"
   },
   {
    "duration": 218,
    "start_time": "2022-01-29T11:07:28.306Z"
   },
   {
    "duration": 18,
    "start_time": "2022-01-29T11:07:28.528Z"
   },
   {
    "duration": 27,
    "start_time": "2022-01-29T11:07:28.549Z"
   },
   {
    "duration": 205,
    "start_time": "2022-01-29T11:07:28.579Z"
   },
   {
    "duration": 57,
    "start_time": "2022-01-29T11:07:28.786Z"
   },
   {
    "duration": 21,
    "start_time": "2022-01-29T11:07:28.846Z"
   },
   {
    "duration": 128,
    "start_time": "2022-01-29T11:07:28.870Z"
   },
   {
    "duration": 33,
    "start_time": "2022-01-29T11:07:29.001Z"
   },
   {
    "duration": 152,
    "start_time": "2022-01-29T11:07:29.037Z"
   },
   {
    "duration": 23,
    "start_time": "2022-01-29T11:07:29.192Z"
   },
   {
    "duration": 48,
    "start_time": "2022-01-29T11:07:29.223Z"
   },
   {
    "duration": 9,
    "start_time": "2022-01-29T11:07:29.274Z"
   },
   {
    "duration": 13,
    "start_time": "2022-01-29T11:07:29.285Z"
   },
   {
    "duration": 67,
    "start_time": "2022-01-29T11:07:29.300Z"
   },
   {
    "duration": 24,
    "start_time": "2022-01-29T11:07:29.369Z"
   },
   {
    "duration": 10,
    "start_time": "2022-01-29T11:07:29.396Z"
   },
   {
    "duration": 1428,
    "start_time": "2022-01-29T11:59:17.263Z"
   },
   {
    "duration": 5,
    "start_time": "2022-01-29T11:59:18.694Z"
   },
   {
    "duration": 49,
    "start_time": "2022-01-29T11:59:18.702Z"
   },
   {
    "duration": 10,
    "start_time": "2022-01-29T11:59:18.754Z"
   },
   {
    "duration": 29,
    "start_time": "2022-01-29T11:59:18.767Z"
   },
   {
    "duration": 197,
    "start_time": "2022-01-29T11:59:18.798Z"
   },
   {
    "duration": 11,
    "start_time": "2022-01-29T11:59:18.998Z"
   },
   {
    "duration": 25,
    "start_time": "2022-01-29T11:59:19.025Z"
   },
   {
    "duration": 170,
    "start_time": "2022-01-29T11:59:19.053Z"
   },
   {
    "duration": 12,
    "start_time": "2022-01-29T11:59:19.225Z"
   },
   {
    "duration": 22,
    "start_time": "2022-01-29T11:59:19.239Z"
   },
   {
    "duration": 134,
    "start_time": "2022-01-29T11:59:19.264Z"
   },
   {
    "duration": 30,
    "start_time": "2022-01-29T11:59:19.401Z"
   },
   {
    "duration": 140,
    "start_time": "2022-01-29T11:59:19.434Z"
   },
   {
    "duration": 28,
    "start_time": "2022-01-29T11:59:19.577Z"
   },
   {
    "duration": 42,
    "start_time": "2022-01-29T11:59:19.624Z"
   },
   {
    "duration": 11,
    "start_time": "2022-01-29T11:59:19.669Z"
   },
   {
    "duration": 1422,
    "start_time": "2022-01-29T12:05:22.942Z"
   },
   {
    "duration": 3,
    "start_time": "2022-01-29T12:05:24.367Z"
   },
   {
    "duration": 48,
    "start_time": "2022-01-29T12:05:24.373Z"
   },
   {
    "duration": 8,
    "start_time": "2022-01-29T12:05:24.424Z"
   },
   {
    "duration": 20,
    "start_time": "2022-01-29T12:05:24.435Z"
   },
   {
    "duration": 199,
    "start_time": "2022-01-29T12:05:24.457Z"
   },
   {
    "duration": 11,
    "start_time": "2022-01-29T12:05:24.658Z"
   },
   {
    "duration": 26,
    "start_time": "2022-01-29T12:05:24.673Z"
   },
   {
    "duration": 161,
    "start_time": "2022-01-29T12:05:24.724Z"
   },
   {
    "duration": 11,
    "start_time": "2022-01-29T12:05:24.887Z"
   },
   {
    "duration": 37,
    "start_time": "2022-01-29T12:05:24.901Z"
   },
   {
    "duration": 121,
    "start_time": "2022-01-29T12:05:24.940Z"
   },
   {
    "duration": 17,
    "start_time": "2022-01-29T12:05:25.063Z"
   },
   {
    "duration": 140,
    "start_time": "2022-01-29T12:05:25.083Z"
   },
   {
    "duration": 28,
    "start_time": "2022-01-29T12:05:25.226Z"
   },
   {
    "duration": 40,
    "start_time": "2022-01-29T12:05:25.256Z"
   },
   {
    "duration": 30,
    "start_time": "2022-01-29T12:05:25.299Z"
   },
   {
    "duration": 1543,
    "start_time": "2022-01-29T12:25:47.400Z"
   },
   {
    "duration": 4,
    "start_time": "2022-01-29T12:25:48.946Z"
   },
   {
    "duration": 42,
    "start_time": "2022-01-29T12:25:48.954Z"
   },
   {
    "duration": 9,
    "start_time": "2022-01-29T12:25:48.999Z"
   },
   {
    "duration": 36,
    "start_time": "2022-01-29T12:25:49.011Z"
   },
   {
    "duration": 200,
    "start_time": "2022-01-29T12:25:49.049Z"
   },
   {
    "duration": 13,
    "start_time": "2022-01-29T12:25:49.252Z"
   },
   {
    "duration": 25,
    "start_time": "2022-01-29T12:25:49.269Z"
   },
   {
    "duration": 68,
    "start_time": "2022-01-29T12:25:49.297Z"
   },
   {
    "duration": 180,
    "start_time": "2022-01-29T12:25:49.367Z"
   },
   {
    "duration": 11,
    "start_time": "2022-01-29T12:25:49.550Z"
   },
   {
    "duration": 22,
    "start_time": "2022-01-29T12:25:49.564Z"
   },
   {
    "duration": 132,
    "start_time": "2022-01-29T12:25:49.588Z"
   },
   {
    "duration": 20,
    "start_time": "2022-01-29T12:25:49.722Z"
   },
   {
    "duration": 18,
    "start_time": "2022-01-29T12:25:49.744Z"
   },
   {
    "duration": 24,
    "start_time": "2022-01-29T12:25:49.764Z"
   },
   {
    "duration": 73,
    "start_time": "2022-01-29T12:25:49.790Z"
   },
   {
    "duration": 9,
    "start_time": "2022-01-29T12:25:49.865Z"
   },
   {
    "duration": 1487,
    "start_time": "2022-01-29T12:28:09.994Z"
   },
   {
    "duration": 4,
    "start_time": "2022-01-29T12:28:11.484Z"
   },
   {
    "duration": 40,
    "start_time": "2022-01-29T12:28:11.491Z"
   },
   {
    "duration": 9,
    "start_time": "2022-01-29T12:28:11.534Z"
   },
   {
    "duration": 23,
    "start_time": "2022-01-29T12:28:11.545Z"
   },
   {
    "duration": 199,
    "start_time": "2022-01-29T12:28:11.571Z"
   },
   {
    "duration": 11,
    "start_time": "2022-01-29T12:28:11.772Z"
   },
   {
    "duration": 46,
    "start_time": "2022-01-29T12:28:11.787Z"
   },
   {
    "duration": 34,
    "start_time": "2022-01-29T12:28:11.837Z"
   },
   {
    "duration": 186,
    "start_time": "2022-01-29T12:28:11.874Z"
   },
   {
    "duration": 12,
    "start_time": "2022-01-29T12:28:12.063Z"
   },
   {
    "duration": 47,
    "start_time": "2022-01-29T12:28:12.079Z"
   },
   {
    "duration": 117,
    "start_time": "2022-01-29T12:28:12.129Z"
   },
   {
    "duration": 18,
    "start_time": "2022-01-29T12:28:12.248Z"
   },
   {
    "duration": 18,
    "start_time": "2022-01-29T12:28:12.269Z"
   },
   {
    "duration": 46,
    "start_time": "2022-01-29T12:28:12.290Z"
   },
   {
    "duration": 41,
    "start_time": "2022-01-29T12:28:12.338Z"
   },
   {
    "duration": 8,
    "start_time": "2022-01-29T12:28:12.382Z"
   },
   {
    "duration": 1423,
    "start_time": "2022-01-29T12:42:05.169Z"
   },
   {
    "duration": 4,
    "start_time": "2022-01-29T12:42:06.595Z"
   },
   {
    "duration": 43,
    "start_time": "2022-01-29T12:42:06.602Z"
   },
   {
    "duration": 11,
    "start_time": "2022-01-29T12:42:06.647Z"
   },
   {
    "duration": 32,
    "start_time": "2022-01-29T12:42:06.660Z"
   },
   {
    "duration": 214,
    "start_time": "2022-01-29T12:42:06.695Z"
   },
   {
    "duration": 18,
    "start_time": "2022-01-29T12:42:06.912Z"
   },
   {
    "duration": 31,
    "start_time": "2022-01-29T12:42:06.933Z"
   },
   {
    "duration": 59,
    "start_time": "2022-01-29T12:42:06.967Z"
   },
   {
    "duration": 124,
    "start_time": "2022-01-29T12:42:07.029Z"
   },
   {
    "duration": 16,
    "start_time": "2022-01-29T12:42:07.156Z"
   },
   {
    "duration": 22,
    "start_time": "2022-01-29T12:42:07.175Z"
   },
   {
    "duration": 1835,
    "start_time": "2022-01-29T12:42:07.200Z"
   },
   {
    "duration": 13,
    "start_time": "2022-01-29T12:42:09.038Z"
   },
   {
    "duration": 34,
    "start_time": "2022-01-29T12:42:09.054Z"
   },
   {
    "duration": 43,
    "start_time": "2022-01-29T12:42:09.091Z"
   },
   {
    "duration": 37,
    "start_time": "2022-01-29T12:42:09.137Z"
   },
   {
    "duration": 8,
    "start_time": "2022-01-29T12:42:09.176Z"
   },
   {
    "duration": 35,
    "start_time": "2022-01-29T12:48:52.008Z"
   },
   {
    "duration": 13,
    "start_time": "2022-01-29T12:53:21.932Z"
   },
   {
    "duration": 11,
    "start_time": "2022-01-29T12:53:29.672Z"
   },
   {
    "duration": 11,
    "start_time": "2022-01-29T12:54:20.599Z"
   },
   {
    "duration": 22,
    "start_time": "2022-01-29T13:03:28.345Z"
   },
   {
    "duration": 11,
    "start_time": "2022-01-29T13:04:24.566Z"
   },
   {
    "duration": 1408,
    "start_time": "2022-01-29T13:12:15.472Z"
   },
   {
    "duration": 4,
    "start_time": "2022-01-29T13:12:16.883Z"
   },
   {
    "duration": 50,
    "start_time": "2022-01-29T13:12:16.890Z"
   },
   {
    "duration": 9,
    "start_time": "2022-01-29T13:12:16.943Z"
   },
   {
    "duration": 21,
    "start_time": "2022-01-29T13:12:16.955Z"
   },
   {
    "duration": 204,
    "start_time": "2022-01-29T13:12:16.978Z"
   },
   {
    "duration": 12,
    "start_time": "2022-01-29T13:12:17.184Z"
   },
   {
    "duration": 42,
    "start_time": "2022-01-29T13:12:17.199Z"
   },
   {
    "duration": 33,
    "start_time": "2022-01-29T13:12:17.244Z"
   },
   {
    "duration": 134,
    "start_time": "2022-01-29T13:12:17.280Z"
   },
   {
    "duration": 20,
    "start_time": "2022-01-29T13:12:17.424Z"
   },
   {
    "duration": 20,
    "start_time": "2022-01-29T13:12:17.448Z"
   },
   {
    "duration": 195,
    "start_time": "2022-01-29T13:12:17.471Z"
   },
   {
    "duration": 13,
    "start_time": "2022-01-29T13:12:17.668Z"
   },
   {
    "duration": 50,
    "start_time": "2022-01-29T13:12:17.684Z"
   },
   {
    "duration": 39,
    "start_time": "2022-01-29T13:12:17.737Z"
   },
   {
    "duration": 45,
    "start_time": "2022-01-29T13:12:17.780Z"
   },
   {
    "duration": 10,
    "start_time": "2022-01-29T13:12:17.828Z"
   },
   {
    "duration": 18,
    "start_time": "2022-01-29T13:20:16.158Z"
   },
   {
    "duration": 1335,
    "start_time": "2022-01-29T13:37:13.336Z"
   },
   {
    "duration": 5,
    "start_time": "2022-01-29T13:37:14.674Z"
   },
   {
    "duration": 80,
    "start_time": "2022-01-29T13:37:14.682Z"
   },
   {
    "duration": 9,
    "start_time": "2022-01-29T13:37:14.766Z"
   },
   {
    "duration": 22,
    "start_time": "2022-01-29T13:37:14.777Z"
   },
   {
    "duration": 188,
    "start_time": "2022-01-29T13:37:14.801Z"
   },
   {
    "duration": 10,
    "start_time": "2022-01-29T13:37:14.992Z"
   },
   {
    "duration": 42,
    "start_time": "2022-01-29T13:37:15.006Z"
   },
   {
    "duration": 33,
    "start_time": "2022-01-29T13:37:15.050Z"
   },
   {
    "duration": 131,
    "start_time": "2022-01-29T13:37:15.085Z"
   },
   {
    "duration": 20,
    "start_time": "2022-01-29T13:37:15.222Z"
   },
   {
    "duration": 18,
    "start_time": "2022-01-29T13:37:15.245Z"
   },
   {
    "duration": 200,
    "start_time": "2022-01-29T13:37:15.265Z"
   },
   {
    "duration": 11,
    "start_time": "2022-01-29T13:37:15.468Z"
   },
   {
    "duration": 22,
    "start_time": "2022-01-29T13:37:15.482Z"
   },
   {
    "duration": 37,
    "start_time": "2022-01-29T13:37:15.524Z"
   },
   {
    "duration": 24,
    "start_time": "2022-01-29T13:37:15.563Z"
   },
   {
    "duration": 35,
    "start_time": "2022-01-29T13:37:15.591Z"
   },
   {
    "duration": 860,
    "start_time": "2022-01-29T13:37:15.628Z"
   },
   {
    "duration": 473,
    "start_time": "2022-01-29T13:37:16.019Z"
   },
   {
    "duration": 1393,
    "start_time": "2022-01-29T13:39:23.379Z"
   },
   {
    "duration": 4,
    "start_time": "2022-01-29T13:39:24.774Z"
   },
   {
    "duration": 64,
    "start_time": "2022-01-29T13:39:24.781Z"
   },
   {
    "duration": 9,
    "start_time": "2022-01-29T13:39:24.848Z"
   },
   {
    "duration": 23,
    "start_time": "2022-01-29T13:39:24.859Z"
   },
   {
    "duration": 203,
    "start_time": "2022-01-29T13:39:24.884Z"
   },
   {
    "duration": 12,
    "start_time": "2022-01-29T13:39:25.089Z"
   },
   {
    "duration": 41,
    "start_time": "2022-01-29T13:39:25.104Z"
   },
   {
    "duration": 34,
    "start_time": "2022-01-29T13:39:25.147Z"
   },
   {
    "duration": 139,
    "start_time": "2022-01-29T13:39:25.184Z"
   },
   {
    "duration": 19,
    "start_time": "2022-01-29T13:39:25.325Z"
   },
   {
    "duration": 18,
    "start_time": "2022-01-29T13:39:25.346Z"
   },
   {
    "duration": 187,
    "start_time": "2022-01-29T13:39:25.367Z"
   },
   {
    "duration": 11,
    "start_time": "2022-01-29T13:39:25.557Z"
   },
   {
    "duration": 24,
    "start_time": "2022-01-29T13:39:25.571Z"
   },
   {
    "duration": 51,
    "start_time": "2022-01-29T13:39:25.598Z"
   },
   {
    "duration": 24,
    "start_time": "2022-01-29T13:39:25.652Z"
   },
   {
    "duration": 9,
    "start_time": "2022-01-29T13:39:25.678Z"
   },
   {
    "duration": 37,
    "start_time": "2022-01-29T13:39:25.689Z"
   },
   {
    "duration": 10,
    "start_time": "2022-01-29T13:39:25.728Z"
   },
   {
    "duration": 40,
    "start_time": "2022-01-29T13:43:43.368Z"
   },
   {
    "duration": 33,
    "start_time": "2022-01-29T13:43:46.243Z"
   },
   {
    "duration": 6,
    "start_time": "2022-01-29T13:43:47.808Z"
   },
   {
    "duration": 11,
    "start_time": "2022-01-29T13:43:49.939Z"
   },
   {
    "duration": 15,
    "start_time": "2022-01-29T13:44:06.002Z"
   },
   {
    "duration": 21,
    "start_time": "2022-01-29T13:49:54.942Z"
   },
   {
    "duration": 1418,
    "start_time": "2022-01-29T13:50:50.671Z"
   },
   {
    "duration": 3,
    "start_time": "2022-01-29T13:50:52.092Z"
   },
   {
    "duration": 67,
    "start_time": "2022-01-29T13:50:52.098Z"
   },
   {
    "duration": 9,
    "start_time": "2022-01-29T13:50:52.168Z"
   },
   {
    "duration": 21,
    "start_time": "2022-01-29T13:50:52.180Z"
   },
   {
    "duration": 197,
    "start_time": "2022-01-29T13:50:52.204Z"
   },
   {
    "duration": 11,
    "start_time": "2022-01-29T13:50:52.404Z"
   },
   {
    "duration": 27,
    "start_time": "2022-01-29T13:50:52.426Z"
   },
   {
    "duration": 67,
    "start_time": "2022-01-29T13:50:52.456Z"
   },
   {
    "duration": 117,
    "start_time": "2022-01-29T13:50:52.526Z"
   },
   {
    "duration": 18,
    "start_time": "2022-01-29T13:50:52.646Z"
   },
   {
    "duration": 21,
    "start_time": "2022-01-29T13:50:52.667Z"
   },
   {
    "duration": 171,
    "start_time": "2022-01-29T13:50:52.722Z"
   },
   {
    "duration": 12,
    "start_time": "2022-01-29T13:50:52.896Z"
   },
   {
    "duration": 34,
    "start_time": "2022-01-29T13:50:52.910Z"
   },
   {
    "duration": 34,
    "start_time": "2022-01-29T13:50:52.946Z"
   },
   {
    "duration": 42,
    "start_time": "2022-01-29T13:50:52.983Z"
   },
   {
    "duration": 13,
    "start_time": "2022-01-29T13:50:53.028Z"
   },
   {
    "duration": 14,
    "start_time": "2022-01-29T13:50:53.044Z"
   },
   {
    "duration": 13,
    "start_time": "2022-01-29T13:50:53.062Z"
   },
   {
    "duration": 79,
    "start_time": "2022-01-29T13:50:53.078Z"
   },
   {
    "duration": 34,
    "start_time": "2022-01-29T13:50:53.159Z"
   },
   {
    "duration": 6,
    "start_time": "2022-01-29T13:50:53.197Z"
   },
   {
    "duration": 35,
    "start_time": "2022-01-29T13:50:53.206Z"
   },
   {
    "duration": 37,
    "start_time": "2022-01-29T13:50:53.243Z"
   },
   {
    "duration": 49,
    "start_time": "2022-01-29T13:50:53.282Z"
   },
   {
    "duration": 11,
    "start_time": "2022-01-29T13:51:29.967Z"
   },
   {
    "duration": 31,
    "start_time": "2022-01-29T13:52:25.401Z"
   },
   {
    "duration": 1505,
    "start_time": "2022-01-29T13:53:03.418Z"
   },
   {
    "duration": 4,
    "start_time": "2022-01-29T13:53:04.925Z"
   },
   {
    "duration": 47,
    "start_time": "2022-01-29T13:53:04.933Z"
   },
   {
    "duration": 9,
    "start_time": "2022-01-29T13:53:04.983Z"
   },
   {
    "duration": 31,
    "start_time": "2022-01-29T13:53:04.994Z"
   },
   {
    "duration": 198,
    "start_time": "2022-01-29T13:53:05.027Z"
   },
   {
    "duration": 12,
    "start_time": "2022-01-29T13:53:05.228Z"
   },
   {
    "duration": 29,
    "start_time": "2022-01-29T13:53:05.244Z"
   },
   {
    "duration": 66,
    "start_time": "2022-01-29T13:53:05.276Z"
   },
   {
    "duration": 126,
    "start_time": "2022-01-29T13:53:05.344Z"
   },
   {
    "duration": 19,
    "start_time": "2022-01-29T13:53:05.473Z"
   },
   {
    "duration": 40,
    "start_time": "2022-01-29T13:53:05.494Z"
   },
   {
    "duration": 183,
    "start_time": "2022-01-29T13:53:05.536Z"
   },
   {
    "duration": 15,
    "start_time": "2022-01-29T13:53:05.721Z"
   },
   {
    "duration": 62,
    "start_time": "2022-01-29T13:53:05.739Z"
   },
   {
    "duration": 40,
    "start_time": "2022-01-29T13:53:05.803Z"
   },
   {
    "duration": 24,
    "start_time": "2022-01-29T13:53:05.845Z"
   },
   {
    "duration": 25,
    "start_time": "2022-01-29T13:53:05.871Z"
   },
   {
    "duration": 17,
    "start_time": "2022-01-29T13:53:05.899Z"
   },
   {
    "duration": 25,
    "start_time": "2022-01-29T13:53:05.919Z"
   },
   {
    "duration": 43,
    "start_time": "2022-01-29T13:53:05.947Z"
   },
   {
    "duration": 38,
    "start_time": "2022-01-29T13:53:05.992Z"
   },
   {
    "duration": 6,
    "start_time": "2022-01-29T13:53:06.035Z"
   },
   {
    "duration": 23,
    "start_time": "2022-01-29T13:53:06.043Z"
   },
   {
    "duration": 61,
    "start_time": "2022-01-29T13:53:06.069Z"
   },
   {
    "duration": 20,
    "start_time": "2022-01-29T13:53:06.133Z"
   },
   {
    "duration": 15,
    "start_time": "2022-01-29T13:53:06.155Z"
   },
   {
    "duration": 52,
    "start_time": "2022-01-29T13:53:06.173Z"
   },
   {
    "duration": 26,
    "start_time": "2022-01-29T13:53:06.228Z"
   },
   {
    "duration": 15,
    "start_time": "2022-01-29T13:59:19.018Z"
   },
   {
    "duration": 572,
    "start_time": "2022-01-29T14:27:17.437Z"
   },
   {
    "duration": 15,
    "start_time": "2022-01-29T14:27:32.009Z"
   },
   {
    "duration": 12,
    "start_time": "2022-01-29T14:29:57.799Z"
   },
   {
    "duration": 8386,
    "start_time": "2022-01-29T14:30:19.240Z"
   },
   {
    "duration": 1577,
    "start_time": "2022-01-29T14:30:40.549Z"
   },
   {
    "duration": 6,
    "start_time": "2022-01-29T14:30:42.129Z"
   },
   {
    "duration": 82,
    "start_time": "2022-01-29T14:30:42.138Z"
   },
   {
    "duration": 12,
    "start_time": "2022-01-29T14:30:42.223Z"
   },
   {
    "duration": 25,
    "start_time": "2022-01-29T14:30:42.237Z"
   },
   {
    "duration": 226,
    "start_time": "2022-01-29T14:30:42.264Z"
   },
   {
    "duration": 11,
    "start_time": "2022-01-29T14:30:42.493Z"
   },
   {
    "duration": 40,
    "start_time": "2022-01-29T14:30:42.508Z"
   },
   {
    "duration": 70,
    "start_time": "2022-01-29T14:30:42.553Z"
   },
   {
    "duration": 176,
    "start_time": "2022-01-29T14:30:42.627Z"
   },
   {
    "duration": 27,
    "start_time": "2022-01-29T14:30:42.806Z"
   },
   {
    "duration": 21,
    "start_time": "2022-01-29T14:30:42.836Z"
   },
   {
    "duration": 269,
    "start_time": "2022-01-29T14:30:42.859Z"
   },
   {
    "duration": 19,
    "start_time": "2022-01-29T14:30:43.131Z"
   },
   {
    "duration": 39,
    "start_time": "2022-01-29T14:30:43.154Z"
   },
   {
    "duration": 38,
    "start_time": "2022-01-29T14:30:43.225Z"
   },
   {
    "duration": 33,
    "start_time": "2022-01-29T14:30:43.266Z"
   },
   {
    "duration": 9,
    "start_time": "2022-01-29T14:30:43.322Z"
   },
   {
    "duration": 10,
    "start_time": "2022-01-29T14:30:43.334Z"
   },
   {
    "duration": 12,
    "start_time": "2022-01-29T14:30:43.346Z"
   },
   {
    "duration": 87,
    "start_time": "2022-01-29T14:30:43.360Z"
   },
   {
    "duration": 34,
    "start_time": "2022-01-29T14:30:43.449Z"
   },
   {
    "duration": 6,
    "start_time": "2022-01-29T14:30:43.488Z"
   },
   {
    "duration": 18,
    "start_time": "2022-01-29T14:30:43.525Z"
   },
   {
    "duration": 27,
    "start_time": "2022-01-29T14:30:43.545Z"
   },
   {
    "duration": 56,
    "start_time": "2022-01-29T14:30:43.575Z"
   },
   {
    "duration": 13,
    "start_time": "2022-01-29T14:30:43.634Z"
   },
   {
    "duration": 47,
    "start_time": "2022-01-29T14:30:43.650Z"
   },
   {
    "duration": 52,
    "start_time": "2022-01-29T14:30:43.724Z"
   },
   {
    "duration": 20,
    "start_time": "2022-01-29T14:30:43.779Z"
   },
   {
    "duration": 19,
    "start_time": "2022-01-29T14:30:43.823Z"
   },
   {
    "duration": 1272,
    "start_time": "2022-01-30T06:43:54.264Z"
   },
   {
    "duration": 4,
    "start_time": "2022-01-30T06:43:57.954Z"
   },
   {
    "duration": 41,
    "start_time": "2022-01-30T06:43:59.178Z"
   },
   {
    "duration": 11,
    "start_time": "2022-01-30T06:43:59.559Z"
   },
   {
    "duration": 16,
    "start_time": "2022-01-30T06:44:01.696Z"
   },
   {
    "duration": 160,
    "start_time": "2022-01-30T06:44:03.833Z"
   },
   {
    "duration": 8,
    "start_time": "2022-01-30T06:44:04.311Z"
   },
   {
    "duration": 23,
    "start_time": "2022-01-30T06:44:04.915Z"
   },
   {
    "duration": 29,
    "start_time": "2022-01-30T06:44:06.009Z"
   },
   {
    "duration": 98,
    "start_time": "2022-01-30T06:44:08.201Z"
   },
   {
    "duration": 16,
    "start_time": "2022-01-30T06:44:08.691Z"
   },
   {
    "duration": 16,
    "start_time": "2022-01-30T06:44:09.962Z"
   },
   {
    "duration": 141,
    "start_time": "2022-01-30T06:44:12.750Z"
   },
   {
    "duration": 9,
    "start_time": "2022-01-30T06:44:13.366Z"
   },
   {
    "duration": 18,
    "start_time": "2022-01-30T06:44:15.203Z"
   },
   {
    "duration": 32,
    "start_time": "2022-01-30T06:44:16.089Z"
   },
   {
    "duration": 25,
    "start_time": "2022-01-30T06:44:19.286Z"
   },
   {
    "duration": 8,
    "start_time": "2022-01-30T06:44:19.969Z"
   },
   {
    "duration": 115,
    "start_time": "2022-01-30T06:45:24.000Z"
   },
   {
    "duration": 15,
    "start_time": "2022-01-30T06:45:28.689Z"
   },
   {
    "duration": 8,
    "start_time": "2022-01-30T06:45:30.076Z"
   },
   {
    "duration": 9,
    "start_time": "2022-01-30T06:45:54.847Z"
   },
   {
    "duration": 29,
    "start_time": "2022-01-30T06:46:12.365Z"
   },
   {
    "duration": 9,
    "start_time": "2022-01-30T06:46:59.241Z"
   },
   {
    "duration": 1177,
    "start_time": "2022-01-30T06:48:43.803Z"
   },
   {
    "duration": 4,
    "start_time": "2022-01-30T06:48:44.982Z"
   },
   {
    "duration": 71,
    "start_time": "2022-01-30T06:48:44.988Z"
   },
   {
    "duration": 9,
    "start_time": "2022-01-30T06:48:45.062Z"
   },
   {
    "duration": 28,
    "start_time": "2022-01-30T06:48:45.073Z"
   },
   {
    "duration": 177,
    "start_time": "2022-01-30T06:48:45.104Z"
   },
   {
    "duration": 10,
    "start_time": "2022-01-30T06:48:45.283Z"
   },
   {
    "duration": 31,
    "start_time": "2022-01-30T06:48:45.296Z"
   },
   {
    "duration": 30,
    "start_time": "2022-01-30T06:48:45.331Z"
   },
   {
    "duration": 115,
    "start_time": "2022-01-30T06:48:45.363Z"
   },
   {
    "duration": 17,
    "start_time": "2022-01-30T06:48:45.480Z"
   },
   {
    "duration": 15,
    "start_time": "2022-01-30T06:48:45.508Z"
   },
   {
    "duration": 148,
    "start_time": "2022-01-30T06:48:45.525Z"
   },
   {
    "duration": 11,
    "start_time": "2022-01-30T06:48:45.675Z"
   },
   {
    "duration": 35,
    "start_time": "2022-01-30T06:48:45.688Z"
   },
   {
    "duration": 33,
    "start_time": "2022-01-30T06:48:45.725Z"
   },
   {
    "duration": 26,
    "start_time": "2022-01-30T06:48:45.760Z"
   },
   {
    "duration": 28,
    "start_time": "2022-01-30T06:48:45.788Z"
   },
   {
    "duration": 20,
    "start_time": "2022-01-30T06:48:45.819Z"
   },
   {
    "duration": 29,
    "start_time": "2022-01-30T06:48:45.841Z"
   },
   {
    "duration": 19,
    "start_time": "2022-01-30T06:48:45.872Z"
   },
   {
    "duration": 27,
    "start_time": "2022-01-30T06:48:45.893Z"
   },
   {
    "duration": 33,
    "start_time": "2022-01-30T06:48:45.925Z"
   },
   {
    "duration": 24,
    "start_time": "2022-01-30T06:48:45.960Z"
   },
   {
    "duration": 24,
    "start_time": "2022-01-30T06:48:45.986Z"
   },
   {
    "duration": 27,
    "start_time": "2022-01-30T06:48:46.012Z"
   },
   {
    "duration": 24,
    "start_time": "2022-01-30T06:48:46.041Z"
   },
   {
    "duration": 16,
    "start_time": "2022-01-30T06:48:46.067Z"
   },
   {
    "duration": 26,
    "start_time": "2022-01-30T06:48:46.085Z"
   },
   {
    "duration": 31,
    "start_time": "2022-01-30T06:48:46.113Z"
   },
   {
    "duration": 22,
    "start_time": "2022-01-30T06:48:46.146Z"
   },
   {
    "duration": 21,
    "start_time": "2022-01-30T06:48:46.170Z"
   },
   {
    "duration": 19,
    "start_time": "2022-01-30T06:48:46.193Z"
   },
   {
    "duration": 67,
    "start_time": "2022-01-30T06:48:46.214Z"
   },
   {
    "duration": 10,
    "start_time": "2022-01-30T06:52:40.453Z"
   },
   {
    "duration": 162,
    "start_time": "2022-01-30T06:56:26.750Z"
   },
   {
    "duration": 14,
    "start_time": "2022-01-30T06:56:28.954Z"
   },
   {
    "duration": 17,
    "start_time": "2022-01-30T06:57:02.671Z"
   },
   {
    "duration": 69,
    "start_time": "2022-01-30T06:57:18.594Z"
   },
   {
    "duration": 10,
    "start_time": "2022-01-30T06:57:20.009Z"
   },
   {
    "duration": 149,
    "start_time": "2022-01-30T06:57:33.396Z"
   },
   {
    "duration": 9,
    "start_time": "2022-01-30T06:57:34.175Z"
   },
   {
    "duration": 15,
    "start_time": "2022-01-30T06:57:35.327Z"
   },
   {
    "duration": 9,
    "start_time": "2022-01-30T06:58:24.665Z"
   },
   {
    "duration": 1195,
    "start_time": "2022-01-30T06:58:45.586Z"
   },
   {
    "duration": 3,
    "start_time": "2022-01-30T06:58:46.783Z"
   },
   {
    "duration": 49,
    "start_time": "2022-01-30T06:58:46.789Z"
   },
   {
    "duration": 8,
    "start_time": "2022-01-30T06:58:46.840Z"
   },
   {
    "duration": 20,
    "start_time": "2022-01-30T06:58:46.850Z"
   },
   {
    "duration": 165,
    "start_time": "2022-01-30T06:58:46.872Z"
   },
   {
    "duration": 9,
    "start_time": "2022-01-30T06:58:47.039Z"
   },
   {
    "duration": 35,
    "start_time": "2022-01-30T06:58:47.051Z"
   },
   {
    "duration": 40,
    "start_time": "2022-01-30T06:58:47.089Z"
   },
   {
    "duration": 104,
    "start_time": "2022-01-30T06:58:47.131Z"
   },
   {
    "duration": 18,
    "start_time": "2022-01-30T06:58:47.238Z"
   },
   {
    "duration": 15,
    "start_time": "2022-01-30T06:58:47.258Z"
   },
   {
    "duration": 171,
    "start_time": "2022-01-30T06:58:47.276Z"
   },
   {
    "duration": 11,
    "start_time": "2022-01-30T06:58:47.449Z"
   },
   {
    "duration": 24,
    "start_time": "2022-01-30T06:58:47.463Z"
   },
   {
    "duration": 48,
    "start_time": "2022-01-30T06:58:47.490Z"
   },
   {
    "duration": 25,
    "start_time": "2022-01-30T06:58:47.541Z"
   },
   {
    "duration": 20,
    "start_time": "2022-01-30T06:58:47.568Z"
   },
   {
    "duration": 29,
    "start_time": "2022-01-30T06:58:47.590Z"
   },
   {
    "duration": 24,
    "start_time": "2022-01-30T06:58:47.621Z"
   },
   {
    "duration": 24,
    "start_time": "2022-01-30T06:58:47.647Z"
   },
   {
    "duration": 37,
    "start_time": "2022-01-30T06:58:47.674Z"
   },
   {
    "duration": 34,
    "start_time": "2022-01-30T06:58:47.715Z"
   },
   {
    "duration": 25,
    "start_time": "2022-01-30T06:58:47.751Z"
   },
   {
    "duration": 30,
    "start_time": "2022-01-30T06:58:47.778Z"
   },
   {
    "duration": 18,
    "start_time": "2022-01-30T06:58:47.810Z"
   },
   {
    "duration": 18,
    "start_time": "2022-01-30T06:58:47.830Z"
   },
   {
    "duration": 16,
    "start_time": "2022-01-30T06:58:47.850Z"
   },
   {
    "duration": 15,
    "start_time": "2022-01-30T06:58:47.868Z"
   },
   {
    "duration": 24,
    "start_time": "2022-01-30T06:58:47.907Z"
   },
   {
    "duration": 19,
    "start_time": "2022-01-30T06:58:47.932Z"
   },
   {
    "duration": 12,
    "start_time": "2022-01-30T06:58:47.952Z"
   },
   {
    "duration": 16,
    "start_time": "2022-01-30T06:58:47.966Z"
   },
   {
    "duration": 154,
    "start_time": "2022-01-30T06:58:48.007Z"
   },
   {
    "duration": 10,
    "start_time": "2022-01-30T06:58:48.162Z"
   },
   {
    "duration": 21,
    "start_time": "2022-01-30T06:58:48.174Z"
   },
   {
    "duration": 1540,
    "start_time": "2022-01-30T07:02:06.675Z"
   },
   {
    "duration": 4,
    "start_time": "2022-01-30T07:02:08.218Z"
   },
   {
    "duration": 49,
    "start_time": "2022-01-30T07:02:08.469Z"
   },
   {
    "duration": 10,
    "start_time": "2022-01-30T07:02:08.851Z"
   },
   {
    "duration": 23,
    "start_time": "2022-01-30T07:02:10.355Z"
   },
   {
    "duration": 236,
    "start_time": "2022-01-30T07:02:11.891Z"
   },
   {
    "duration": 8,
    "start_time": "2022-01-30T07:02:12.386Z"
   },
   {
    "duration": 38,
    "start_time": "2022-01-30T07:02:12.888Z"
   },
   {
    "duration": 41,
    "start_time": "2022-01-30T07:02:13.890Z"
   },
   {
    "duration": 140,
    "start_time": "2022-01-30T07:02:16.815Z"
   },
   {
    "duration": 25,
    "start_time": "2022-01-30T07:02:17.610Z"
   },
   {
    "duration": 16,
    "start_time": "2022-01-30T07:02:18.779Z"
   },
   {
    "duration": 159,
    "start_time": "2022-01-30T07:02:23.777Z"
   },
   {
    "duration": 9,
    "start_time": "2022-01-30T07:02:24.247Z"
   },
   {
    "duration": 19,
    "start_time": "2022-01-30T07:02:24.735Z"
   },
   {
    "duration": 31,
    "start_time": "2022-01-30T07:02:25.807Z"
   },
   {
    "duration": 24,
    "start_time": "2022-01-30T07:02:28.715Z"
   },
   {
    "duration": 8,
    "start_time": "2022-01-30T07:02:29.819Z"
   },
   {
    "duration": 7,
    "start_time": "2022-01-30T07:02:35.874Z"
   },
   {
    "duration": 8,
    "start_time": "2022-01-30T07:02:36.945Z"
   },
   {
    "duration": 9,
    "start_time": "2022-01-30T07:02:40.032Z"
   },
   {
    "duration": 23,
    "start_time": "2022-01-30T07:02:41.581Z"
   },
   {
    "duration": 67,
    "start_time": "2022-01-30T07:02:47.033Z"
   },
   {
    "duration": 21,
    "start_time": "2022-01-30T07:02:58.334Z"
   },
   {
    "duration": 4813,
    "start_time": "2022-01-30T07:07:50.836Z"
   },
   {
    "duration": -101,
    "start_time": "2022-01-30T07:07:55.753Z"
   },
   {
    "duration": 1170,
    "start_time": "2022-01-30T09:08:31.626Z"
   },
   {
    "duration": 3,
    "start_time": "2022-01-30T09:08:32.798Z"
   },
   {
    "duration": 46,
    "start_time": "2022-01-30T09:08:32.803Z"
   },
   {
    "duration": 7,
    "start_time": "2022-01-30T09:08:32.852Z"
   },
   {
    "duration": 18,
    "start_time": "2022-01-30T09:08:32.860Z"
   },
   {
    "duration": 164,
    "start_time": "2022-01-30T09:08:32.881Z"
   },
   {
    "duration": 8,
    "start_time": "2022-01-30T09:08:33.047Z"
   },
   {
    "duration": 23,
    "start_time": "2022-01-30T09:08:33.058Z"
   },
   {
    "duration": 48,
    "start_time": "2022-01-30T09:08:33.083Z"
   },
   {
    "duration": 108,
    "start_time": "2022-01-30T09:08:33.132Z"
   },
   {
    "duration": 23,
    "start_time": "2022-01-30T09:08:33.242Z"
   },
   {
    "duration": 16,
    "start_time": "2022-01-30T09:08:33.267Z"
   },
   {
    "duration": 158,
    "start_time": "2022-01-30T09:08:33.285Z"
   },
   {
    "duration": 10,
    "start_time": "2022-01-30T09:08:33.445Z"
   },
   {
    "duration": 21,
    "start_time": "2022-01-30T09:08:33.457Z"
   },
   {
    "duration": 51,
    "start_time": "2022-01-30T09:08:33.480Z"
   },
   {
    "duration": 24,
    "start_time": "2022-01-30T09:08:33.533Z"
   },
   {
    "duration": 11,
    "start_time": "2022-01-30T09:08:33.559Z"
   },
   {
    "duration": 70,
    "start_time": "2022-01-30T09:08:33.572Z"
   },
   {
    "duration": 6,
    "start_time": "2022-01-30T09:08:33.644Z"
   },
   {
    "duration": 12,
    "start_time": "2022-01-30T09:08:33.652Z"
   },
   {
    "duration": 21,
    "start_time": "2022-01-30T09:08:33.666Z"
   },
   {
    "duration": 215,
    "start_time": "2022-01-30T09:08:33.708Z"
   },
   {
    "duration": 6,
    "start_time": "2022-01-30T09:08:33.925Z"
   },
   {
    "duration": 15,
    "start_time": "2022-01-30T09:08:33.933Z"
   },
   {
    "duration": 30,
    "start_time": "2022-01-30T09:08:33.950Z"
   },
   {
    "duration": 30,
    "start_time": "2022-01-30T09:08:33.983Z"
   },
   {
    "duration": 14,
    "start_time": "2022-01-30T09:08:34.015Z"
   },
   {
    "duration": 1225,
    "start_time": "2022-01-30T09:09:59.569Z"
   },
   {
    "duration": 3,
    "start_time": "2022-01-30T09:10:00.796Z"
   },
   {
    "duration": 52,
    "start_time": "2022-01-30T09:10:00.801Z"
   },
   {
    "duration": 9,
    "start_time": "2022-01-30T09:10:00.855Z"
   },
   {
    "duration": 22,
    "start_time": "2022-01-30T09:10:00.865Z"
   },
   {
    "duration": 187,
    "start_time": "2022-01-30T09:10:00.889Z"
   },
   {
    "duration": 9,
    "start_time": "2022-01-30T09:10:01.078Z"
   },
   {
    "duration": 30,
    "start_time": "2022-01-30T09:10:01.091Z"
   },
   {
    "duration": 30,
    "start_time": "2022-01-30T09:10:01.123Z"
   },
   {
    "duration": 109,
    "start_time": "2022-01-30T09:10:01.155Z"
   },
   {
    "duration": 16,
    "start_time": "2022-01-30T09:10:01.265Z"
   },
   {
    "duration": 34,
    "start_time": "2022-01-30T09:10:01.283Z"
   },
   {
    "duration": 147,
    "start_time": "2022-01-30T09:10:01.319Z"
   },
   {
    "duration": 11,
    "start_time": "2022-01-30T09:10:01.468Z"
   },
   {
    "duration": 45,
    "start_time": "2022-01-30T09:10:01.480Z"
   },
   {
    "duration": 30,
    "start_time": "2022-01-30T09:10:01.527Z"
   },
   {
    "duration": 26,
    "start_time": "2022-01-30T09:10:01.559Z"
   },
   {
    "duration": 24,
    "start_time": "2022-01-30T09:10:01.587Z"
   },
   {
    "duration": 82,
    "start_time": "2022-01-30T09:10:01.614Z"
   },
   {
    "duration": 21,
    "start_time": "2022-01-30T09:10:01.699Z"
   },
   {
    "duration": 18,
    "start_time": "2022-01-30T09:10:01.722Z"
   },
   {
    "duration": 221,
    "start_time": "2022-01-30T09:10:01.743Z"
   },
   {
    "duration": 6,
    "start_time": "2022-01-30T09:10:01.968Z"
   },
   {
    "duration": 45,
    "start_time": "2022-01-30T09:10:01.977Z"
   },
   {
    "duration": 47,
    "start_time": "2022-01-30T09:10:02.025Z"
   },
   {
    "duration": 99,
    "start_time": "2022-01-30T09:10:02.075Z"
   },
   {
    "duration": 33,
    "start_time": "2022-01-30T09:10:02.176Z"
   },
   {
    "duration": 18,
    "start_time": "2022-01-30T09:33:53.483Z"
   },
   {
    "duration": 11,
    "start_time": "2022-01-30T09:41:38.527Z"
   },
   {
    "duration": 6367,
    "start_time": "2022-01-30T09:47:57.863Z"
   },
   {
    "duration": 1226,
    "start_time": "2022-01-30T09:48:10.151Z"
   },
   {
    "duration": 3,
    "start_time": "2022-01-30T09:48:11.379Z"
   },
   {
    "duration": 55,
    "start_time": "2022-01-30T09:48:11.384Z"
   },
   {
    "duration": 7,
    "start_time": "2022-01-30T09:48:11.441Z"
   },
   {
    "duration": 17,
    "start_time": "2022-01-30T09:48:11.450Z"
   },
   {
    "duration": 169,
    "start_time": "2022-01-30T09:48:11.469Z"
   },
   {
    "duration": 7,
    "start_time": "2022-01-30T09:48:11.640Z"
   },
   {
    "duration": 24,
    "start_time": "2022-01-30T09:48:11.649Z"
   },
   {
    "duration": 52,
    "start_time": "2022-01-30T09:48:11.676Z"
   },
   {
    "duration": 102,
    "start_time": "2022-01-30T09:48:11.730Z"
   },
   {
    "duration": 15,
    "start_time": "2022-01-30T09:48:11.834Z"
   },
   {
    "duration": 28,
    "start_time": "2022-01-30T09:48:11.851Z"
   },
   {
    "duration": 150,
    "start_time": "2022-01-30T09:48:11.881Z"
   },
   {
    "duration": 10,
    "start_time": "2022-01-30T09:48:12.032Z"
   },
   {
    "duration": 19,
    "start_time": "2022-01-30T09:48:12.044Z"
   },
   {
    "duration": 49,
    "start_time": "2022-01-30T09:48:12.065Z"
   },
   {
    "duration": 24,
    "start_time": "2022-01-30T09:48:12.116Z"
   },
   {
    "duration": 12,
    "start_time": "2022-01-30T09:48:12.142Z"
   },
   {
    "duration": 59,
    "start_time": "2022-01-30T09:48:12.156Z"
   },
   {
    "duration": 19,
    "start_time": "2022-01-30T09:48:12.217Z"
   },
   {
    "duration": 5,
    "start_time": "2022-01-30T09:48:12.238Z"
   },
   {
    "duration": 28,
    "start_time": "2022-01-30T09:48:12.245Z"
   },
   {
    "duration": 33,
    "start_time": "2022-01-30T09:48:12.275Z"
   },
   {
    "duration": 17,
    "start_time": "2022-01-30T09:48:12.310Z"
   },
   {
    "duration": 31,
    "start_time": "2022-01-30T09:48:12.329Z"
   },
   {
    "duration": 133,
    "start_time": "2022-01-30T09:48:12.361Z"
   },
   {
    "duration": 13,
    "start_time": "2022-01-30T09:48:12.498Z"
   },
   {
    "duration": 11,
    "start_time": "2022-01-30T09:48:12.513Z"
   },
   {
    "duration": 67,
    "start_time": "2022-01-30T09:48:55.887Z"
   },
   {
    "duration": 1162,
    "start_time": "2022-01-30T09:59:41.626Z"
   },
   {
    "duration": 3,
    "start_time": "2022-01-30T09:59:42.790Z"
   },
   {
    "duration": 42,
    "start_time": "2022-01-30T09:59:42.807Z"
   },
   {
    "duration": 8,
    "start_time": "2022-01-30T09:59:42.851Z"
   },
   {
    "duration": 20,
    "start_time": "2022-01-30T09:59:42.861Z"
   },
   {
    "duration": 168,
    "start_time": "2022-01-30T09:59:42.883Z"
   },
   {
    "duration": 8,
    "start_time": "2022-01-30T09:59:43.053Z"
   },
   {
    "duration": 57,
    "start_time": "2022-01-30T09:59:43.064Z"
   },
   {
    "duration": 39,
    "start_time": "2022-01-30T09:59:43.125Z"
   },
   {
    "duration": 116,
    "start_time": "2022-01-30T09:59:43.166Z"
   },
   {
    "duration": 26,
    "start_time": "2022-01-30T09:59:43.285Z"
   },
   {
    "duration": 16,
    "start_time": "2022-01-30T09:59:43.313Z"
   },
   {
    "duration": 162,
    "start_time": "2022-01-30T09:59:43.332Z"
   },
   {
    "duration": 13,
    "start_time": "2022-01-30T09:59:43.496Z"
   },
   {
    "duration": 22,
    "start_time": "2022-01-30T09:59:43.511Z"
   },
   {
    "duration": 33,
    "start_time": "2022-01-30T09:59:43.536Z"
   },
   {
    "duration": 46,
    "start_time": "2022-01-30T09:59:43.571Z"
   },
   {
    "duration": 9,
    "start_time": "2022-01-30T09:59:43.621Z"
   },
   {
    "duration": 124,
    "start_time": "2022-01-30T09:59:43.633Z"
   },
   {
    "duration": 31,
    "start_time": "2022-01-30T09:59:43.760Z"
   },
   {
    "duration": 20,
    "start_time": "2022-01-30T09:59:43.793Z"
   },
   {
    "duration": 31,
    "start_time": "2022-01-30T09:59:43.816Z"
   },
   {
    "duration": 14,
    "start_time": "2022-01-30T09:59:43.851Z"
   },
   {
    "duration": 53,
    "start_time": "2022-01-30T09:59:43.868Z"
   },
   {
    "duration": 170,
    "start_time": "2022-01-30T09:59:43.924Z"
   },
   {
    "duration": 12,
    "start_time": "2022-01-30T09:59:44.097Z"
   },
   {
    "duration": 12,
    "start_time": "2022-01-30T09:59:44.112Z"
   },
   {
    "duration": 34,
    "start_time": "2022-01-30T10:11:55.678Z"
   },
   {
    "duration": 14,
    "start_time": "2022-01-30T10:12:22.813Z"
   },
   {
    "duration": 5626,
    "start_time": "2022-01-30T10:14:07.699Z"
   },
   {
    "duration": 1126,
    "start_time": "2022-01-30T10:15:13.655Z"
   },
   {
    "duration": 3,
    "start_time": "2022-01-30T10:15:14.783Z"
   },
   {
    "duration": 44,
    "start_time": "2022-01-30T10:15:14.789Z"
   },
   {
    "duration": 8,
    "start_time": "2022-01-30T10:15:14.836Z"
   },
   {
    "duration": 18,
    "start_time": "2022-01-30T10:15:14.845Z"
   },
   {
    "duration": 171,
    "start_time": "2022-01-30T10:15:14.865Z"
   },
   {
    "duration": 9,
    "start_time": "2022-01-30T10:15:15.038Z"
   },
   {
    "duration": 29,
    "start_time": "2022-01-30T10:15:15.049Z"
   },
   {
    "duration": 45,
    "start_time": "2022-01-30T10:15:15.080Z"
   },
   {
    "duration": 98,
    "start_time": "2022-01-30T10:15:15.127Z"
   },
   {
    "duration": 15,
    "start_time": "2022-01-30T10:15:15.226Z"
   },
   {
    "duration": 14,
    "start_time": "2022-01-30T10:15:15.243Z"
   },
   {
    "duration": 152,
    "start_time": "2022-01-30T10:15:15.258Z"
   },
   {
    "duration": 11,
    "start_time": "2022-01-30T10:15:15.412Z"
   },
   {
    "duration": 20,
    "start_time": "2022-01-30T10:15:15.425Z"
   },
   {
    "duration": 32,
    "start_time": "2022-01-30T10:15:15.448Z"
   },
   {
    "duration": 49,
    "start_time": "2022-01-30T10:15:15.482Z"
   },
   {
    "duration": 10,
    "start_time": "2022-01-30T10:15:15.533Z"
   },
   {
    "duration": 67,
    "start_time": "2022-01-30T10:15:15.545Z"
   },
   {
    "duration": 20,
    "start_time": "2022-01-30T10:15:15.615Z"
   },
   {
    "duration": 6,
    "start_time": "2022-01-30T10:15:15.637Z"
   },
   {
    "duration": 25,
    "start_time": "2022-01-30T10:15:15.645Z"
   },
   {
    "duration": 36,
    "start_time": "2022-01-30T10:15:15.673Z"
   },
   {
    "duration": 17,
    "start_time": "2022-01-30T10:15:15.711Z"
   },
   {
    "duration": 125,
    "start_time": "2022-01-30T10:15:15.730Z"
   },
   {
    "duration": 9,
    "start_time": "2022-01-30T10:15:15.857Z"
   },
   {
    "duration": 43,
    "start_time": "2022-01-30T10:15:15.868Z"
   },
   {
    "duration": 71,
    "start_time": "2022-01-30T10:15:32.007Z"
   },
   {
    "duration": 1164,
    "start_time": "2022-01-30T10:15:56.526Z"
   },
   {
    "duration": 3,
    "start_time": "2022-01-30T10:15:57.692Z"
   },
   {
    "duration": 50,
    "start_time": "2022-01-30T10:15:57.697Z"
   },
   {
    "duration": 8,
    "start_time": "2022-01-30T10:15:57.749Z"
   },
   {
    "duration": 17,
    "start_time": "2022-01-30T10:15:57.759Z"
   },
   {
    "duration": 162,
    "start_time": "2022-01-30T10:15:57.779Z"
   },
   {
    "duration": 9,
    "start_time": "2022-01-30T10:15:57.943Z"
   },
   {
    "duration": 26,
    "start_time": "2022-01-30T10:15:57.954Z"
   },
   {
    "duration": 47,
    "start_time": "2022-01-30T10:15:57.983Z"
   },
   {
    "duration": 99,
    "start_time": "2022-01-30T10:15:58.032Z"
   },
   {
    "duration": 15,
    "start_time": "2022-01-30T10:15:58.133Z"
   },
   {
    "duration": 15,
    "start_time": "2022-01-30T10:15:58.150Z"
   },
   {
    "duration": 150,
    "start_time": "2022-01-30T10:15:58.167Z"
   },
   {
    "duration": 10,
    "start_time": "2022-01-30T10:15:58.319Z"
   },
   {
    "duration": 27,
    "start_time": "2022-01-30T10:15:58.330Z"
   },
   {
    "duration": 29,
    "start_time": "2022-01-30T10:15:58.359Z"
   },
   {
    "duration": 41,
    "start_time": "2022-01-30T10:15:58.389Z"
   },
   {
    "duration": 8,
    "start_time": "2022-01-30T10:15:58.432Z"
   },
   {
    "duration": 66,
    "start_time": "2022-01-30T10:15:58.443Z"
   },
   {
    "duration": 19,
    "start_time": "2022-01-30T10:15:58.511Z"
   },
   {
    "duration": 6,
    "start_time": "2022-01-30T10:15:58.532Z"
   },
   {
    "duration": 23,
    "start_time": "2022-01-30T10:15:58.540Z"
   },
   {
    "duration": 11,
    "start_time": "2022-01-30T10:15:58.566Z"
   },
   {
    "duration": 18,
    "start_time": "2022-01-30T10:15:58.607Z"
   },
   {
    "duration": 126,
    "start_time": "2022-01-30T10:15:58.627Z"
   },
   {
    "duration": 9,
    "start_time": "2022-01-30T10:15:58.755Z"
   },
   {
    "duration": 46,
    "start_time": "2022-01-30T10:15:58.765Z"
   },
   {
    "duration": 8,
    "start_time": "2022-01-30T10:15:58.813Z"
   },
   {
    "duration": 1249,
    "start_time": "2022-01-30T10:25:39.246Z"
   },
   {
    "duration": 3,
    "start_time": "2022-01-30T10:25:40.497Z"
   },
   {
    "duration": 57,
    "start_time": "2022-01-30T10:25:40.507Z"
   },
   {
    "duration": 11,
    "start_time": "2022-01-30T10:25:40.566Z"
   },
   {
    "duration": 27,
    "start_time": "2022-01-30T10:25:40.579Z"
   },
   {
    "duration": 250,
    "start_time": "2022-01-30T10:25:40.608Z"
   },
   {
    "duration": 11,
    "start_time": "2022-01-30T10:25:40.861Z"
   },
   {
    "duration": 50,
    "start_time": "2022-01-30T10:25:40.876Z"
   },
   {
    "duration": 41,
    "start_time": "2022-01-30T10:25:40.929Z"
   },
   {
    "duration": 151,
    "start_time": "2022-01-30T10:25:40.972Z"
   },
   {
    "duration": 16,
    "start_time": "2022-01-30T10:25:41.126Z"
   },
   {
    "duration": 23,
    "start_time": "2022-01-30T10:25:41.144Z"
   },
   {
    "duration": 154,
    "start_time": "2022-01-30T10:25:41.169Z"
   },
   {
    "duration": 10,
    "start_time": "2022-01-30T10:25:41.325Z"
   },
   {
    "duration": 36,
    "start_time": "2022-01-30T10:25:41.337Z"
   },
   {
    "duration": 40,
    "start_time": "2022-01-30T10:25:41.375Z"
   },
   {
    "duration": 29,
    "start_time": "2022-01-30T10:25:41.417Z"
   },
   {
    "duration": 12,
    "start_time": "2022-01-30T10:25:41.448Z"
   },
   {
    "duration": 77,
    "start_time": "2022-01-30T10:25:41.463Z"
   },
   {
    "duration": 21,
    "start_time": "2022-01-30T10:25:41.542Z"
   },
   {
    "duration": 6,
    "start_time": "2022-01-30T10:25:41.565Z"
   },
   {
    "duration": 46,
    "start_time": "2022-01-30T10:25:41.573Z"
   },
   {
    "duration": 12,
    "start_time": "2022-01-30T10:25:41.622Z"
   },
   {
    "duration": 38,
    "start_time": "2022-01-30T10:25:41.636Z"
   },
   {
    "duration": 125,
    "start_time": "2022-01-30T10:25:41.675Z"
   },
   {
    "duration": 11,
    "start_time": "2022-01-30T10:25:41.802Z"
   },
   {
    "duration": 76,
    "start_time": "2022-01-30T10:25:41.815Z"
   },
   {
    "duration": 8,
    "start_time": "2022-01-30T10:25:41.893Z"
   },
   {
    "duration": 25,
    "start_time": "2022-01-30T10:25:41.903Z"
   },
   {
    "duration": 1200,
    "start_time": "2022-01-30T10:36:38.094Z"
   },
   {
    "duration": 3,
    "start_time": "2022-01-30T10:36:39.296Z"
   },
   {
    "duration": 47,
    "start_time": "2022-01-30T10:36:39.301Z"
   },
   {
    "duration": 12,
    "start_time": "2022-01-30T10:36:39.350Z"
   },
   {
    "duration": 21,
    "start_time": "2022-01-30T10:36:39.364Z"
   },
   {
    "duration": 173,
    "start_time": "2022-01-30T10:36:39.387Z"
   },
   {
    "duration": 8,
    "start_time": "2022-01-30T10:36:39.562Z"
   },
   {
    "duration": 36,
    "start_time": "2022-01-30T10:36:39.572Z"
   },
   {
    "duration": 29,
    "start_time": "2022-01-30T10:36:39.610Z"
   },
   {
    "duration": 115,
    "start_time": "2022-01-30T10:36:39.641Z"
   },
   {
    "duration": 17,
    "start_time": "2022-01-30T10:36:39.759Z"
   },
   {
    "duration": 37,
    "start_time": "2022-01-30T10:36:39.779Z"
   },
   {
    "duration": 157,
    "start_time": "2022-01-30T10:36:39.818Z"
   },
   {
    "duration": 11,
    "start_time": "2022-01-30T10:36:39.977Z"
   },
   {
    "duration": 31,
    "start_time": "2022-01-30T10:36:39.990Z"
   },
   {
    "duration": 40,
    "start_time": "2022-01-30T10:36:40.024Z"
   },
   {
    "duration": 27,
    "start_time": "2022-01-30T10:36:40.067Z"
   },
   {
    "duration": 19,
    "start_time": "2022-01-30T10:36:40.096Z"
   },
   {
    "duration": 58,
    "start_time": "2022-01-30T10:36:40.118Z"
   },
   {
    "duration": 41,
    "start_time": "2022-01-30T10:36:40.178Z"
   },
   {
    "duration": 5,
    "start_time": "2022-01-30T10:36:40.221Z"
   },
   {
    "duration": 22,
    "start_time": "2022-01-30T10:36:40.228Z"
   },
   {
    "duration": 11,
    "start_time": "2022-01-30T10:36:40.254Z"
   },
   {
    "duration": 51,
    "start_time": "2022-01-30T10:36:40.267Z"
   },
   {
    "duration": 120,
    "start_time": "2022-01-30T10:36:40.320Z"
   },
   {
    "duration": 10,
    "start_time": "2022-01-30T10:36:40.442Z"
   },
   {
    "duration": 35,
    "start_time": "2022-01-30T10:36:40.454Z"
   },
   {
    "duration": 22,
    "start_time": "2022-01-30T10:36:40.491Z"
   },
   {
    "duration": 10,
    "start_time": "2022-01-30T10:36:40.515Z"
   },
   {
    "duration": 17,
    "start_time": "2022-01-30T10:36:40.527Z"
   },
   {
    "duration": 8,
    "start_time": "2022-01-30T10:36:40.546Z"
   },
   {
    "duration": 10,
    "start_time": "2022-01-30T10:37:39.016Z"
   },
   {
    "duration": 102,
    "start_time": "2022-01-30T10:51:31.319Z"
   },
   {
    "duration": 1138,
    "start_time": "2022-01-30T10:53:17.356Z"
   },
   {
    "duration": 13,
    "start_time": "2022-01-30T10:53:18.496Z"
   },
   {
    "duration": 48,
    "start_time": "2022-01-30T10:53:18.512Z"
   },
   {
    "duration": 9,
    "start_time": "2022-01-30T10:53:18.562Z"
   },
   {
    "duration": 21,
    "start_time": "2022-01-30T10:53:18.573Z"
   },
   {
    "duration": 169,
    "start_time": "2022-01-30T10:53:18.596Z"
   },
   {
    "duration": 9,
    "start_time": "2022-01-30T10:53:18.767Z"
   },
   {
    "duration": 40,
    "start_time": "2022-01-30T10:53:18.780Z"
   },
   {
    "duration": 29,
    "start_time": "2022-01-30T10:53:18.823Z"
   },
   {
    "duration": 115,
    "start_time": "2022-01-30T10:53:18.853Z"
   },
   {
    "duration": 17,
    "start_time": "2022-01-30T10:53:18.969Z"
   },
   {
    "duration": 30,
    "start_time": "2022-01-30T10:53:18.987Z"
   },
   {
    "duration": 146,
    "start_time": "2022-01-30T10:53:19.019Z"
   },
   {
    "duration": 10,
    "start_time": "2022-01-30T10:53:19.167Z"
   },
   {
    "duration": 34,
    "start_time": "2022-01-30T10:53:19.178Z"
   },
   {
    "duration": 31,
    "start_time": "2022-01-30T10:53:19.214Z"
   },
   {
    "duration": 24,
    "start_time": "2022-01-30T10:53:19.247Z"
   },
   {
    "duration": 7,
    "start_time": "2022-01-30T10:53:19.273Z"
   },
   {
    "duration": 77,
    "start_time": "2022-01-30T10:53:19.282Z"
   },
   {
    "duration": 19,
    "start_time": "2022-01-30T10:53:19.362Z"
   },
   {
    "duration": 5,
    "start_time": "2022-01-30T10:53:19.383Z"
   },
   {
    "duration": 20,
    "start_time": "2022-01-30T10:53:19.407Z"
   },
   {
    "duration": 11,
    "start_time": "2022-01-30T10:53:19.431Z"
   },
   {
    "duration": 16,
    "start_time": "2022-01-30T10:53:19.444Z"
   },
   {
    "duration": 137,
    "start_time": "2022-01-30T10:53:19.462Z"
   },
   {
    "duration": 13,
    "start_time": "2022-01-30T10:53:19.601Z"
   },
   {
    "duration": 38,
    "start_time": "2022-01-30T10:53:19.616Z"
   },
   {
    "duration": 8,
    "start_time": "2022-01-30T10:53:19.656Z"
   },
   {
    "duration": 11,
    "start_time": "2022-01-30T10:53:19.666Z"
   },
   {
    "duration": 37,
    "start_time": "2022-01-30T10:53:19.679Z"
   },
   {
    "duration": 8,
    "start_time": "2022-01-30T10:53:19.718Z"
   },
   {
    "duration": 10,
    "start_time": "2022-01-30T10:53:19.729Z"
   },
   {
    "duration": 20,
    "start_time": "2022-01-30T10:53:19.742Z"
   },
   {
    "duration": 73,
    "start_time": "2022-01-30T10:53:19.764Z"
   },
   {
    "duration": -61,
    "start_time": "2022-01-30T10:53:19.901Z"
   },
   {
    "duration": 1271,
    "start_time": "2022-01-30T10:55:30.268Z"
   },
   {
    "duration": 4,
    "start_time": "2022-01-30T10:55:31.541Z"
   },
   {
    "duration": 60,
    "start_time": "2022-01-30T10:55:31.548Z"
   },
   {
    "duration": 14,
    "start_time": "2022-01-30T10:55:31.610Z"
   },
   {
    "duration": 31,
    "start_time": "2022-01-30T10:55:31.626Z"
   },
   {
    "duration": 178,
    "start_time": "2022-01-30T10:55:31.659Z"
   },
   {
    "duration": 9,
    "start_time": "2022-01-30T10:55:31.838Z"
   },
   {
    "duration": 28,
    "start_time": "2022-01-30T10:55:31.850Z"
   },
   {
    "duration": 46,
    "start_time": "2022-01-30T10:55:31.881Z"
   },
   {
    "duration": 106,
    "start_time": "2022-01-30T10:55:31.929Z"
   },
   {
    "duration": 18,
    "start_time": "2022-01-30T10:55:32.037Z"
   },
   {
    "duration": 20,
    "start_time": "2022-01-30T10:55:32.057Z"
   },
   {
    "duration": 181,
    "start_time": "2022-01-30T10:55:32.079Z"
   },
   {
    "duration": 11,
    "start_time": "2022-01-30T10:55:32.262Z"
   },
   {
    "duration": 37,
    "start_time": "2022-01-30T10:55:32.276Z"
   },
   {
    "duration": 31,
    "start_time": "2022-01-30T10:55:32.315Z"
   },
   {
    "duration": 25,
    "start_time": "2022-01-30T10:55:32.349Z"
   },
   {
    "duration": 10,
    "start_time": "2022-01-30T10:55:32.376Z"
   },
   {
    "duration": 76,
    "start_time": "2022-01-30T10:55:32.388Z"
   },
   {
    "duration": 21,
    "start_time": "2022-01-30T10:55:32.466Z"
   },
   {
    "duration": 21,
    "start_time": "2022-01-30T10:55:32.489Z"
   },
   {
    "duration": 27,
    "start_time": "2022-01-30T10:55:32.513Z"
   },
   {
    "duration": 11,
    "start_time": "2022-01-30T10:55:32.543Z"
   },
   {
    "duration": 18,
    "start_time": "2022-01-30T10:55:32.556Z"
   },
   {
    "duration": 146,
    "start_time": "2022-01-30T10:55:32.576Z"
   },
   {
    "duration": 9,
    "start_time": "2022-01-30T10:55:32.724Z"
   },
   {
    "duration": 39,
    "start_time": "2022-01-30T10:55:32.735Z"
   },
   {
    "duration": 7,
    "start_time": "2022-01-30T10:55:32.776Z"
   },
   {
    "duration": 28,
    "start_time": "2022-01-30T10:55:32.785Z"
   },
   {
    "duration": 16,
    "start_time": "2022-01-30T10:55:32.814Z"
   },
   {
    "duration": 11,
    "start_time": "2022-01-30T10:55:32.832Z"
   },
   {
    "duration": 12,
    "start_time": "2022-01-30T10:55:32.845Z"
   },
   {
    "duration": 20,
    "start_time": "2022-01-30T10:55:32.859Z"
   },
   {
    "duration": 69,
    "start_time": "2022-01-30T10:55:32.881Z"
   },
   {
    "duration": -75,
    "start_time": "2022-01-30T10:55:33.027Z"
   },
   {
    "duration": 1232,
    "start_time": "2022-01-30T11:03:29.735Z"
   },
   {
    "duration": 3,
    "start_time": "2022-01-30T11:03:30.969Z"
   },
   {
    "duration": 62,
    "start_time": "2022-01-30T11:03:30.975Z"
   },
   {
    "duration": 10,
    "start_time": "2022-01-30T11:03:31.040Z"
   },
   {
    "duration": 32,
    "start_time": "2022-01-30T11:03:31.053Z"
   },
   {
    "duration": 196,
    "start_time": "2022-01-30T11:03:31.087Z"
   },
   {
    "duration": 9,
    "start_time": "2022-01-30T11:03:31.285Z"
   },
   {
    "duration": 47,
    "start_time": "2022-01-30T11:03:31.298Z"
   },
   {
    "duration": 37,
    "start_time": "2022-01-30T11:03:31.348Z"
   },
   {
    "duration": 110,
    "start_time": "2022-01-30T11:03:31.387Z"
   },
   {
    "duration": 17,
    "start_time": "2022-01-30T11:03:31.499Z"
   },
   {
    "duration": 40,
    "start_time": "2022-01-30T11:03:31.518Z"
   },
   {
    "duration": 161,
    "start_time": "2022-01-30T11:03:31.560Z"
   },
   {
    "duration": 10,
    "start_time": "2022-01-30T11:03:31.723Z"
   },
   {
    "duration": 29,
    "start_time": "2022-01-30T11:03:31.736Z"
   },
   {
    "duration": 47,
    "start_time": "2022-01-30T11:03:31.767Z"
   },
   {
    "duration": 25,
    "start_time": "2022-01-30T11:03:31.816Z"
   },
   {
    "duration": 29,
    "start_time": "2022-01-30T11:03:31.843Z"
   },
   {
    "duration": 69,
    "start_time": "2022-01-30T11:03:31.874Z"
   },
   {
    "duration": 22,
    "start_time": "2022-01-30T11:03:31.945Z"
   },
   {
    "duration": 7,
    "start_time": "2022-01-30T11:03:31.970Z"
   },
   {
    "duration": 49,
    "start_time": "2022-01-30T11:03:31.980Z"
   },
   {
    "duration": 12,
    "start_time": "2022-01-30T11:03:32.034Z"
   },
   {
    "duration": 21,
    "start_time": "2022-01-30T11:03:32.048Z"
   },
   {
    "duration": 146,
    "start_time": "2022-01-30T11:03:32.072Z"
   },
   {
    "duration": 12,
    "start_time": "2022-01-30T11:03:32.220Z"
   },
   {
    "duration": 47,
    "start_time": "2022-01-30T11:03:32.234Z"
   },
   {
    "duration": 7,
    "start_time": "2022-01-30T11:03:32.283Z"
   },
   {
    "duration": 20,
    "start_time": "2022-01-30T11:03:32.292Z"
   },
   {
    "duration": 19,
    "start_time": "2022-01-30T11:03:32.314Z"
   },
   {
    "duration": 8,
    "start_time": "2022-01-30T11:03:32.335Z"
   },
   {
    "duration": 78,
    "start_time": "2022-01-30T11:03:32.345Z"
   },
   {
    "duration": -26,
    "start_time": "2022-01-30T11:03:32.451Z"
   },
   {
    "duration": -28,
    "start_time": "2022-01-30T11:03:32.454Z"
   },
   {
    "duration": -28,
    "start_time": "2022-01-30T11:03:32.456Z"
   },
   {
    "duration": 79,
    "start_time": "2022-01-30T11:03:49.993Z"
   },
   {
    "duration": 72,
    "start_time": "2022-01-30T11:29:00.352Z"
   },
   {
    "duration": 72,
    "start_time": "2022-01-30T11:29:15.925Z"
   },
   {
    "duration": 66,
    "start_time": "2022-01-30T11:29:31.401Z"
   },
   {
    "duration": 1200,
    "start_time": "2022-01-30T11:30:33.385Z"
   },
   {
    "duration": 2,
    "start_time": "2022-01-30T11:30:34.587Z"
   },
   {
    "duration": 49,
    "start_time": "2022-01-30T11:30:34.592Z"
   },
   {
    "duration": 8,
    "start_time": "2022-01-30T11:30:34.643Z"
   },
   {
    "duration": 23,
    "start_time": "2022-01-30T11:30:34.653Z"
   },
   {
    "duration": 168,
    "start_time": "2022-01-30T11:30:34.678Z"
   },
   {
    "duration": 8,
    "start_time": "2022-01-30T11:30:34.848Z"
   },
   {
    "duration": 28,
    "start_time": "2022-01-30T11:30:34.859Z"
   },
   {
    "duration": 42,
    "start_time": "2022-01-30T11:30:34.890Z"
   },
   {
    "duration": 114,
    "start_time": "2022-01-30T11:30:34.934Z"
   },
   {
    "duration": 16,
    "start_time": "2022-01-30T11:30:35.050Z"
   },
   {
    "duration": 18,
    "start_time": "2022-01-30T11:30:35.068Z"
   },
   {
    "duration": 144,
    "start_time": "2022-01-30T11:30:35.108Z"
   },
   {
    "duration": 10,
    "start_time": "2022-01-30T11:30:35.253Z"
   },
   {
    "duration": 24,
    "start_time": "2022-01-30T11:30:35.265Z"
   },
   {
    "duration": 42,
    "start_time": "2022-01-30T11:30:35.290Z"
   },
   {
    "duration": 26,
    "start_time": "2022-01-30T11:30:35.334Z"
   },
   {
    "duration": 7,
    "start_time": "2022-01-30T11:30:35.361Z"
   },
   {
    "duration": 71,
    "start_time": "2022-01-30T11:30:35.370Z"
   },
   {
    "duration": 21,
    "start_time": "2022-01-30T11:30:35.442Z"
   },
   {
    "duration": 6,
    "start_time": "2022-01-30T11:30:35.465Z"
   },
   {
    "duration": 41,
    "start_time": "2022-01-30T11:30:35.472Z"
   },
   {
    "duration": 11,
    "start_time": "2022-01-30T11:30:35.516Z"
   },
   {
    "duration": 17,
    "start_time": "2022-01-30T11:30:35.529Z"
   },
   {
    "duration": 138,
    "start_time": "2022-01-30T11:30:35.548Z"
   },
   {
    "duration": 19,
    "start_time": "2022-01-30T11:30:35.688Z"
   },
   {
    "duration": 34,
    "start_time": "2022-01-30T11:30:35.709Z"
   },
   {
    "duration": 8,
    "start_time": "2022-01-30T11:30:35.744Z"
   },
   {
    "duration": 11,
    "start_time": "2022-01-30T11:30:35.754Z"
   },
   {
    "duration": 45,
    "start_time": "2022-01-30T11:30:35.767Z"
   },
   {
    "duration": 8,
    "start_time": "2022-01-30T11:30:35.813Z"
   },
   {
    "duration": 323,
    "start_time": "2022-01-30T11:30:35.823Z"
   },
   {
    "duration": -66,
    "start_time": "2022-01-30T11:30:36.214Z"
   },
   {
    "duration": -72,
    "start_time": "2022-01-30T11:30:36.221Z"
   },
   {
    "duration": -75,
    "start_time": "2022-01-30T11:30:36.225Z"
   },
   {
    "duration": 1108,
    "start_time": "2022-01-30T11:32:03.606Z"
   },
   {
    "duration": 3,
    "start_time": "2022-01-30T11:32:04.717Z"
   },
   {
    "duration": 44,
    "start_time": "2022-01-30T11:32:04.723Z"
   },
   {
    "duration": 9,
    "start_time": "2022-01-30T11:32:04.770Z"
   },
   {
    "duration": 17,
    "start_time": "2022-01-30T11:32:04.781Z"
   },
   {
    "duration": 173,
    "start_time": "2022-01-30T11:32:04.808Z"
   },
   {
    "duration": 11,
    "start_time": "2022-01-30T11:32:04.983Z"
   },
   {
    "duration": 23,
    "start_time": "2022-01-30T11:32:05.011Z"
   },
   {
    "duration": 38,
    "start_time": "2022-01-30T11:32:05.037Z"
   },
   {
    "duration": 106,
    "start_time": "2022-01-30T11:32:05.077Z"
   },
   {
    "duration": 26,
    "start_time": "2022-01-30T11:32:05.185Z"
   },
   {
    "duration": 20,
    "start_time": "2022-01-30T11:32:05.212Z"
   },
   {
    "duration": 150,
    "start_time": "2022-01-30T11:32:05.234Z"
   },
   {
    "duration": 10,
    "start_time": "2022-01-30T11:32:05.385Z"
   },
   {
    "duration": 24,
    "start_time": "2022-01-30T11:32:05.397Z"
   },
   {
    "duration": 39,
    "start_time": "2022-01-30T11:32:05.423Z"
   },
   {
    "duration": 23,
    "start_time": "2022-01-30T11:32:05.464Z"
   },
   {
    "duration": 19,
    "start_time": "2022-01-30T11:32:05.489Z"
   },
   {
    "duration": 58,
    "start_time": "2022-01-30T11:32:05.509Z"
   },
   {
    "duration": 21,
    "start_time": "2022-01-30T11:32:05.569Z"
   },
   {
    "duration": 18,
    "start_time": "2022-01-30T11:32:05.592Z"
   },
   {
    "duration": 20,
    "start_time": "2022-01-30T11:32:05.612Z"
   },
   {
    "duration": 11,
    "start_time": "2022-01-30T11:32:05.636Z"
   },
   {
    "duration": 16,
    "start_time": "2022-01-30T11:32:05.649Z"
   },
   {
    "duration": 150,
    "start_time": "2022-01-30T11:32:05.668Z"
   },
   {
    "duration": 8,
    "start_time": "2022-01-30T11:32:05.820Z"
   },
   {
    "duration": 33,
    "start_time": "2022-01-30T11:32:05.830Z"
   },
   {
    "duration": 8,
    "start_time": "2022-01-30T11:32:05.865Z"
   },
   {
    "duration": 33,
    "start_time": "2022-01-30T11:32:05.874Z"
   },
   {
    "duration": 16,
    "start_time": "2022-01-30T11:32:05.909Z"
   },
   {
    "duration": 7,
    "start_time": "2022-01-30T11:32:05.927Z"
   },
   {
    "duration": 311,
    "start_time": "2022-01-30T11:32:05.936Z"
   },
   {
    "duration": -27,
    "start_time": "2022-01-30T11:32:06.276Z"
   },
   {
    "duration": -30,
    "start_time": "2022-01-30T11:32:06.280Z"
   },
   {
    "duration": -31,
    "start_time": "2022-01-30T11:32:06.283Z"
   },
   {
    "duration": 1126,
    "start_time": "2022-01-30T11:33:00.390Z"
   },
   {
    "duration": 3,
    "start_time": "2022-01-30T11:33:01.518Z"
   },
   {
    "duration": 45,
    "start_time": "2022-01-30T11:33:01.523Z"
   },
   {
    "duration": 24,
    "start_time": "2022-01-30T11:33:01.570Z"
   },
   {
    "duration": 31,
    "start_time": "2022-01-30T11:33:01.596Z"
   },
   {
    "duration": 193,
    "start_time": "2022-01-30T11:33:01.629Z"
   },
   {
    "duration": 9,
    "start_time": "2022-01-30T11:33:01.824Z"
   },
   {
    "duration": 40,
    "start_time": "2022-01-30T11:33:01.836Z"
   },
   {
    "duration": 44,
    "start_time": "2022-01-30T11:33:01.879Z"
   },
   {
    "duration": 107,
    "start_time": "2022-01-30T11:33:01.926Z"
   },
   {
    "duration": 21,
    "start_time": "2022-01-30T11:33:02.035Z"
   },
   {
    "duration": 37,
    "start_time": "2022-01-30T11:33:02.059Z"
   },
   {
    "duration": 224,
    "start_time": "2022-01-30T11:33:02.098Z"
   },
   {
    "duration": 9,
    "start_time": "2022-01-30T11:33:02.324Z"
   },
   {
    "duration": 33,
    "start_time": "2022-01-30T11:33:02.335Z"
   },
   {
    "duration": 39,
    "start_time": "2022-01-30T11:33:02.370Z"
   },
   {
    "duration": 24,
    "start_time": "2022-01-30T11:33:02.411Z"
   },
   {
    "duration": 19,
    "start_time": "2022-01-30T11:33:02.438Z"
   },
   {
    "duration": 81,
    "start_time": "2022-01-30T11:33:02.460Z"
   },
   {
    "duration": 22,
    "start_time": "2022-01-30T11:33:02.543Z"
   },
   {
    "duration": 7,
    "start_time": "2022-01-30T11:33:02.567Z"
   },
   {
    "duration": 47,
    "start_time": "2022-01-30T11:33:02.576Z"
   },
   {
    "duration": 13,
    "start_time": "2022-01-30T11:33:02.628Z"
   },
   {
    "duration": 18,
    "start_time": "2022-01-30T11:33:02.643Z"
   },
   {
    "duration": 139,
    "start_time": "2022-01-30T11:33:02.663Z"
   },
   {
    "duration": 9,
    "start_time": "2022-01-30T11:33:02.804Z"
   },
   {
    "duration": 36,
    "start_time": "2022-01-30T11:33:02.815Z"
   },
   {
    "duration": 8,
    "start_time": "2022-01-30T11:33:02.852Z"
   },
   {
    "duration": 11,
    "start_time": "2022-01-30T11:33:02.861Z"
   },
   {
    "duration": 41,
    "start_time": "2022-01-30T11:33:02.874Z"
   },
   {
    "duration": 9,
    "start_time": "2022-01-30T11:33:02.917Z"
   },
   {
    "duration": 63,
    "start_time": "2022-01-30T11:33:02.928Z"
   },
   {
    "duration": 28,
    "start_time": "2022-01-30T11:33:02.994Z"
   },
   {
    "duration": 70,
    "start_time": "2022-01-30T11:33:03.024Z"
   },
   {
    "duration": -15,
    "start_time": "2022-01-30T11:33:03.111Z"
   },
   {
    "duration": 1106,
    "start_time": "2022-01-30T11:34:22.311Z"
   },
   {
    "duration": 2,
    "start_time": "2022-01-30T11:34:23.420Z"
   },
   {
    "duration": 61,
    "start_time": "2022-01-30T11:34:23.424Z"
   },
   {
    "duration": 8,
    "start_time": "2022-01-30T11:34:23.487Z"
   },
   {
    "duration": 31,
    "start_time": "2022-01-30T11:34:23.497Z"
   },
   {
    "duration": 178,
    "start_time": "2022-01-30T11:34:23.530Z"
   },
   {
    "duration": 9,
    "start_time": "2022-01-30T11:34:23.710Z"
   },
   {
    "duration": 38,
    "start_time": "2022-01-30T11:34:23.721Z"
   },
   {
    "duration": 35,
    "start_time": "2022-01-30T11:34:23.761Z"
   },
   {
    "duration": 101,
    "start_time": "2022-01-30T11:34:23.798Z"
   },
   {
    "duration": 20,
    "start_time": "2022-01-30T11:34:23.901Z"
   },
   {
    "duration": 24,
    "start_time": "2022-01-30T11:34:23.923Z"
   },
   {
    "duration": 144,
    "start_time": "2022-01-30T11:34:23.949Z"
   },
   {
    "duration": 8,
    "start_time": "2022-01-30T11:34:24.094Z"
   },
   {
    "duration": 33,
    "start_time": "2022-01-30T11:34:24.107Z"
   },
   {
    "duration": 37,
    "start_time": "2022-01-30T11:34:24.142Z"
   },
   {
    "duration": 24,
    "start_time": "2022-01-30T11:34:24.181Z"
   },
   {
    "duration": 20,
    "start_time": "2022-01-30T11:34:24.207Z"
   },
   {
    "duration": 74,
    "start_time": "2022-01-30T11:34:24.229Z"
   },
   {
    "duration": 91,
    "start_time": "2022-01-30T11:34:24.305Z"
   },
   {
    "duration": 5,
    "start_time": "2022-01-30T11:34:24.398Z"
   },
   {
    "duration": 36,
    "start_time": "2022-01-30T11:34:24.405Z"
   },
   {
    "duration": 10,
    "start_time": "2022-01-30T11:34:24.445Z"
   },
   {
    "duration": 21,
    "start_time": "2022-01-30T11:34:24.457Z"
   },
   {
    "duration": 112,
    "start_time": "2022-01-30T11:34:24.480Z"
   },
   {
    "duration": 18,
    "start_time": "2022-01-30T11:34:24.594Z"
   },
   {
    "duration": 47,
    "start_time": "2022-01-30T11:34:24.614Z"
   },
   {
    "duration": 7,
    "start_time": "2022-01-30T11:34:24.664Z"
   },
   {
    "duration": 27,
    "start_time": "2022-01-30T11:34:24.673Z"
   },
   {
    "duration": 23,
    "start_time": "2022-01-30T11:34:24.702Z"
   },
   {
    "duration": 15,
    "start_time": "2022-01-30T11:34:24.727Z"
   },
   {
    "duration": 25,
    "start_time": "2022-01-30T11:34:24.744Z"
   },
   {
    "duration": 71,
    "start_time": "2022-01-30T11:34:24.771Z"
   },
   {
    "duration": 25,
    "start_time": "2022-01-30T11:34:24.844Z"
   },
   {
    "duration": 94,
    "start_time": "2022-01-30T11:34:24.871Z"
   },
   {
    "duration": 31,
    "start_time": "2022-01-30T11:34:24.967Z"
   },
   {
    "duration": 1204,
    "start_time": "2022-01-30T11:37:18.698Z"
   },
   {
    "duration": 3,
    "start_time": "2022-01-30T11:37:19.908Z"
   },
   {
    "duration": 46,
    "start_time": "2022-01-30T11:37:19.913Z"
   },
   {
    "duration": 7,
    "start_time": "2022-01-30T11:37:19.961Z"
   },
   {
    "duration": 19,
    "start_time": "2022-01-30T11:37:19.970Z"
   },
   {
    "duration": 176,
    "start_time": "2022-01-30T11:37:19.991Z"
   },
   {
    "duration": 9,
    "start_time": "2022-01-30T11:37:20.169Z"
   },
   {
    "duration": 34,
    "start_time": "2022-01-30T11:37:20.181Z"
   },
   {
    "duration": 30,
    "start_time": "2022-01-30T11:37:20.218Z"
   },
   {
    "duration": 110,
    "start_time": "2022-01-30T11:37:20.250Z"
   },
   {
    "duration": 16,
    "start_time": "2022-01-30T11:37:20.362Z"
   },
   {
    "duration": 30,
    "start_time": "2022-01-30T11:37:20.380Z"
   },
   {
    "duration": 148,
    "start_time": "2022-01-30T11:37:20.412Z"
   },
   {
    "duration": 9,
    "start_time": "2022-01-30T11:37:20.562Z"
   },
   {
    "duration": 21,
    "start_time": "2022-01-30T11:37:20.573Z"
   },
   {
    "duration": 39,
    "start_time": "2022-01-30T11:37:20.596Z"
   },
   {
    "duration": 24,
    "start_time": "2022-01-30T11:37:20.638Z"
   },
   {
    "duration": 10,
    "start_time": "2022-01-30T11:37:20.664Z"
   },
   {
    "duration": 77,
    "start_time": "2022-01-30T11:37:20.676Z"
   },
   {
    "duration": 20,
    "start_time": "2022-01-30T11:37:20.755Z"
   },
   {
    "duration": 6,
    "start_time": "2022-01-30T11:37:20.777Z"
   },
   {
    "duration": 37,
    "start_time": "2022-01-30T11:37:20.785Z"
   },
   {
    "duration": 10,
    "start_time": "2022-01-30T11:37:20.824Z"
   },
   {
    "duration": 20,
    "start_time": "2022-01-30T11:37:20.836Z"
   },
   {
    "duration": 157,
    "start_time": "2022-01-30T11:37:20.857Z"
   },
   {
    "duration": 12,
    "start_time": "2022-01-30T11:37:21.019Z"
   },
   {
    "duration": 49,
    "start_time": "2022-01-30T11:37:21.033Z"
   },
   {
    "duration": 23,
    "start_time": "2022-01-30T11:37:21.085Z"
   },
   {
    "duration": 11,
    "start_time": "2022-01-30T11:37:21.110Z"
   },
   {
    "duration": 19,
    "start_time": "2022-01-30T11:37:21.124Z"
   },
   {
    "duration": 24,
    "start_time": "2022-01-30T11:37:21.145Z"
   },
   {
    "duration": 20,
    "start_time": "2022-01-30T11:37:21.171Z"
   },
   {
    "duration": 27,
    "start_time": "2022-01-30T11:37:21.193Z"
   },
   {
    "duration": 20,
    "start_time": "2022-01-30T11:37:21.222Z"
   },
   {
    "duration": 10,
    "start_time": "2022-01-30T11:37:21.244Z"
   },
   {
    "duration": 8,
    "start_time": "2022-01-30T11:37:21.257Z"
   },
   {
    "duration": 8,
    "start_time": "2022-01-30T11:37:34.547Z"
   },
   {
    "duration": 9,
    "start_time": "2022-01-30T11:52:46.095Z"
   },
   {
    "duration": 9,
    "start_time": "2022-01-30T11:53:07.775Z"
   },
   {
    "duration": 11,
    "start_time": "2022-01-30T11:54:08.363Z"
   },
   {
    "duration": 16,
    "start_time": "2022-01-30T11:54:23.006Z"
   },
   {
    "duration": 10,
    "start_time": "2022-01-30T11:56:58.401Z"
   },
   {
    "duration": 18,
    "start_time": "2022-01-30T11:57:07.923Z"
   },
   {
    "duration": 17,
    "start_time": "2022-01-30T11:57:22.717Z"
   },
   {
    "duration": 1231,
    "start_time": "2022-01-30T11:57:28.163Z"
   },
   {
    "duration": 3,
    "start_time": "2022-01-30T11:57:29.396Z"
   },
   {
    "duration": 43,
    "start_time": "2022-01-30T11:57:29.408Z"
   },
   {
    "duration": 9,
    "start_time": "2022-01-30T11:57:29.453Z"
   },
   {
    "duration": 23,
    "start_time": "2022-01-30T11:57:29.464Z"
   },
   {
    "duration": 181,
    "start_time": "2022-01-30T11:57:29.489Z"
   },
   {
    "duration": 9,
    "start_time": "2022-01-30T11:57:29.672Z"
   },
   {
    "duration": 39,
    "start_time": "2022-01-30T11:57:29.683Z"
   },
   {
    "duration": 30,
    "start_time": "2022-01-30T11:57:29.725Z"
   },
   {
    "duration": 103,
    "start_time": "2022-01-30T11:57:29.758Z"
   },
   {
    "duration": 17,
    "start_time": "2022-01-30T11:57:29.863Z"
   },
   {
    "duration": 29,
    "start_time": "2022-01-30T11:57:29.882Z"
   },
   {
    "duration": 150,
    "start_time": "2022-01-30T11:57:29.913Z"
   },
   {
    "duration": 9,
    "start_time": "2022-01-30T11:57:30.066Z"
   },
   {
    "duration": 39,
    "start_time": "2022-01-30T11:57:30.077Z"
   },
   {
    "duration": 31,
    "start_time": "2022-01-30T11:57:30.118Z"
   },
   {
    "duration": 25,
    "start_time": "2022-01-30T11:57:30.151Z"
   },
   {
    "duration": 20,
    "start_time": "2022-01-30T11:57:30.178Z"
   },
   {
    "duration": 63,
    "start_time": "2022-01-30T11:57:30.208Z"
   },
   {
    "duration": 22,
    "start_time": "2022-01-30T11:57:30.273Z"
   },
   {
    "duration": 14,
    "start_time": "2022-01-30T11:57:30.297Z"
   },
   {
    "duration": 41,
    "start_time": "2022-01-30T11:57:30.313Z"
   },
   {
    "duration": 11,
    "start_time": "2022-01-30T11:57:30.356Z"
   },
   {
    "duration": 74,
    "start_time": "2022-01-30T11:57:30.369Z"
   },
   {
    "duration": 182,
    "start_time": "2022-01-30T11:57:30.445Z"
   },
   {
    "duration": 9,
    "start_time": "2022-01-30T11:57:30.629Z"
   },
   {
    "duration": 54,
    "start_time": "2022-01-30T11:57:30.642Z"
   },
   {
    "duration": 8,
    "start_time": "2022-01-30T11:57:30.698Z"
   },
   {
    "duration": 27,
    "start_time": "2022-01-30T11:57:30.708Z"
   },
   {
    "duration": 29,
    "start_time": "2022-01-30T11:57:30.737Z"
   },
   {
    "duration": 16,
    "start_time": "2022-01-30T11:57:30.768Z"
   },
   {
    "duration": 18,
    "start_time": "2022-01-30T11:57:30.786Z"
   },
   {
    "duration": 29,
    "start_time": "2022-01-30T11:57:30.807Z"
   },
   {
    "duration": 11,
    "start_time": "2022-01-30T11:57:30.838Z"
   },
   {
    "duration": 10,
    "start_time": "2022-01-30T11:57:30.851Z"
   },
   {
    "duration": 17,
    "start_time": "2022-01-30T11:57:30.864Z"
   },
   {
    "duration": 10,
    "start_time": "2022-01-30T11:57:30.883Z"
   },
   {
    "duration": 17,
    "start_time": "2022-01-30T11:57:30.895Z"
   },
   {
    "duration": 1174,
    "start_time": "2022-01-30T12:00:10.541Z"
   },
   {
    "duration": 3,
    "start_time": "2022-01-30T12:00:11.719Z"
   },
   {
    "duration": 63,
    "start_time": "2022-01-30T12:00:11.726Z"
   },
   {
    "duration": 19,
    "start_time": "2022-01-30T12:00:11.791Z"
   },
   {
    "duration": 37,
    "start_time": "2022-01-30T12:00:11.812Z"
   },
   {
    "duration": 177,
    "start_time": "2022-01-30T12:00:11.851Z"
   },
   {
    "duration": 9,
    "start_time": "2022-01-30T12:00:12.030Z"
   },
   {
    "duration": 33,
    "start_time": "2022-01-30T12:00:12.042Z"
   },
   {
    "duration": 50,
    "start_time": "2022-01-30T12:00:12.078Z"
   },
   {
    "duration": 103,
    "start_time": "2022-01-30T12:00:12.130Z"
   },
   {
    "duration": 18,
    "start_time": "2022-01-30T12:00:12.236Z"
   },
   {
    "duration": 22,
    "start_time": "2022-01-30T12:00:12.256Z"
   },
   {
    "duration": 161,
    "start_time": "2022-01-30T12:00:12.280Z"
   },
   {
    "duration": 9,
    "start_time": "2022-01-30T12:00:12.443Z"
   },
   {
    "duration": 28,
    "start_time": "2022-01-30T12:00:12.454Z"
   },
   {
    "duration": 53,
    "start_time": "2022-01-30T12:00:12.484Z"
   },
   {
    "duration": 40,
    "start_time": "2022-01-30T12:00:12.539Z"
   },
   {
    "duration": 27,
    "start_time": "2022-01-30T12:00:12.581Z"
   },
   {
    "duration": 68,
    "start_time": "2022-01-30T12:00:12.611Z"
   },
   {
    "duration": 20,
    "start_time": "2022-01-30T12:00:12.681Z"
   },
   {
    "duration": 14,
    "start_time": "2022-01-30T12:00:12.707Z"
   },
   {
    "duration": 49,
    "start_time": "2022-01-30T12:00:12.723Z"
   },
   {
    "duration": 26,
    "start_time": "2022-01-30T12:00:12.776Z"
   },
   {
    "duration": 20,
    "start_time": "2022-01-30T12:00:12.805Z"
   },
   {
    "duration": 123,
    "start_time": "2022-01-30T12:00:12.828Z"
   },
   {
    "duration": 10,
    "start_time": "2022-01-30T12:00:12.953Z"
   },
   {
    "duration": 47,
    "start_time": "2022-01-30T12:00:12.966Z"
   },
   {
    "duration": 8,
    "start_time": "2022-01-30T12:00:13.015Z"
   },
   {
    "duration": 37,
    "start_time": "2022-01-30T12:00:13.026Z"
   },
   {
    "duration": 30,
    "start_time": "2022-01-30T12:00:13.066Z"
   },
   {
    "duration": 8,
    "start_time": "2022-01-30T12:00:13.099Z"
   },
   {
    "duration": 16,
    "start_time": "2022-01-30T12:00:13.109Z"
   },
   {
    "duration": 28,
    "start_time": "2022-01-30T12:00:13.128Z"
   },
   {
    "duration": 9,
    "start_time": "2022-01-30T12:00:13.158Z"
   },
   {
    "duration": 11,
    "start_time": "2022-01-30T12:00:13.169Z"
   },
   {
    "duration": 30,
    "start_time": "2022-01-30T12:00:13.182Z"
   },
   {
    "duration": 33,
    "start_time": "2022-01-30T12:00:13.214Z"
   },
   {
    "duration": 20,
    "start_time": "2022-01-30T12:07:01.183Z"
   },
   {
    "duration": 295,
    "start_time": "2022-01-30T12:10:00.425Z"
   },
   {
    "duration": 203,
    "start_time": "2022-01-30T12:10:10.195Z"
   },
   {
    "duration": 211,
    "start_time": "2022-01-30T12:10:47.344Z"
   },
   {
    "duration": 215,
    "start_time": "2022-01-30T12:11:46.391Z"
   },
   {
    "duration": 1162,
    "start_time": "2022-01-30T12:15:51.053Z"
   },
   {
    "duration": 3,
    "start_time": "2022-01-30T12:15:52.217Z"
   },
   {
    "duration": 72,
    "start_time": "2022-01-30T12:15:52.222Z"
   },
   {
    "duration": 8,
    "start_time": "2022-01-30T12:15:52.296Z"
   },
   {
    "duration": 44,
    "start_time": "2022-01-30T12:15:52.306Z"
   },
   {
    "duration": 185,
    "start_time": "2022-01-30T12:15:52.351Z"
   },
   {
    "duration": 12,
    "start_time": "2022-01-30T12:15:52.538Z"
   },
   {
    "duration": 53,
    "start_time": "2022-01-30T12:15:52.554Z"
   },
   {
    "duration": 28,
    "start_time": "2022-01-30T12:15:52.610Z"
   },
   {
    "duration": 106,
    "start_time": "2022-01-30T12:15:52.640Z"
   },
   {
    "duration": 15,
    "start_time": "2022-01-30T12:15:52.748Z"
   },
   {
    "duration": 23,
    "start_time": "2022-01-30T12:15:52.765Z"
   },
   {
    "duration": 148,
    "start_time": "2022-01-30T12:15:52.790Z"
   },
   {
    "duration": 11,
    "start_time": "2022-01-30T12:15:52.940Z"
   },
   {
    "duration": 36,
    "start_time": "2022-01-30T12:15:52.953Z"
   },
   {
    "duration": 29,
    "start_time": "2022-01-30T12:15:52.991Z"
   },
   {
    "duration": 23,
    "start_time": "2022-01-30T12:15:53.022Z"
   },
   {
    "duration": 12,
    "start_time": "2022-01-30T12:15:53.048Z"
   },
   {
    "duration": 69,
    "start_time": "2022-01-30T12:15:53.062Z"
   },
   {
    "duration": 19,
    "start_time": "2022-01-30T12:15:53.133Z"
   },
   {
    "duration": 6,
    "start_time": "2022-01-30T12:15:53.154Z"
   },
   {
    "duration": 33,
    "start_time": "2022-01-30T12:15:53.162Z"
   },
   {
    "duration": 10,
    "start_time": "2022-01-30T12:15:53.208Z"
   },
   {
    "duration": 18,
    "start_time": "2022-01-30T12:15:53.220Z"
   },
   {
    "duration": 4,
    "start_time": "2022-01-30T12:15:53.240Z"
   },
   {
    "duration": 133,
    "start_time": "2022-01-30T12:15:53.246Z"
   },
   {
    "duration": 9,
    "start_time": "2022-01-30T12:15:53.381Z"
   },
   {
    "duration": 39,
    "start_time": "2022-01-30T12:15:53.392Z"
   },
   {
    "duration": 8,
    "start_time": "2022-01-30T12:15:53.433Z"
   },
   {
    "duration": 20,
    "start_time": "2022-01-30T12:15:53.443Z"
   },
   {
    "duration": 22,
    "start_time": "2022-01-30T12:15:53.465Z"
   },
   {
    "duration": 25,
    "start_time": "2022-01-30T12:15:53.489Z"
   },
   {
    "duration": 24,
    "start_time": "2022-01-30T12:15:53.516Z"
   },
   {
    "duration": 21,
    "start_time": "2022-01-30T12:15:53.542Z"
   },
   {
    "duration": 19,
    "start_time": "2022-01-30T12:15:53.565Z"
   },
   {
    "duration": 9,
    "start_time": "2022-01-30T12:15:53.586Z"
   },
   {
    "duration": 26,
    "start_time": "2022-01-30T12:15:53.597Z"
   },
   {
    "duration": 27,
    "start_time": "2022-01-30T12:15:53.625Z"
   },
   {
    "duration": 27,
    "start_time": "2022-01-30T12:15:53.654Z"
   },
   {
    "duration": 22,
    "start_time": "2022-01-30T12:15:53.683Z"
   },
   {
    "duration": 1140,
    "start_time": "2022-01-30T12:16:23.477Z"
   },
   {
    "duration": 4,
    "start_time": "2022-01-30T12:16:24.619Z"
   },
   {
    "duration": 47,
    "start_time": "2022-01-30T12:16:24.625Z"
   },
   {
    "duration": 8,
    "start_time": "2022-01-30T12:16:24.675Z"
   },
   {
    "duration": 18,
    "start_time": "2022-01-30T12:16:24.686Z"
   },
   {
    "duration": 176,
    "start_time": "2022-01-30T12:16:24.706Z"
   },
   {
    "duration": 9,
    "start_time": "2022-01-30T12:16:24.885Z"
   },
   {
    "duration": 25,
    "start_time": "2022-01-30T12:16:24.908Z"
   },
   {
    "duration": 32,
    "start_time": "2022-01-30T12:16:24.935Z"
   },
   {
    "duration": 107,
    "start_time": "2022-01-30T12:16:24.968Z"
   },
   {
    "duration": 16,
    "start_time": "2022-01-30T12:16:25.077Z"
   },
   {
    "duration": 14,
    "start_time": "2022-01-30T12:16:25.108Z"
   },
   {
    "duration": 152,
    "start_time": "2022-01-30T12:16:25.124Z"
   },
   {
    "duration": 11,
    "start_time": "2022-01-30T12:16:25.277Z"
   },
   {
    "duration": 34,
    "start_time": "2022-01-30T12:16:25.290Z"
   },
   {
    "duration": 31,
    "start_time": "2022-01-30T12:16:25.326Z"
   },
   {
    "duration": 26,
    "start_time": "2022-01-30T12:16:25.359Z"
   },
   {
    "duration": 26,
    "start_time": "2022-01-30T12:16:25.387Z"
   },
   {
    "duration": 79,
    "start_time": "2022-01-30T12:16:25.416Z"
   },
   {
    "duration": 21,
    "start_time": "2022-01-30T12:16:25.497Z"
   },
   {
    "duration": 12,
    "start_time": "2022-01-30T12:16:25.520Z"
   },
   {
    "duration": 34,
    "start_time": "2022-01-30T12:16:25.534Z"
   },
   {
    "duration": 11,
    "start_time": "2022-01-30T12:16:25.571Z"
   },
   {
    "duration": 33,
    "start_time": "2022-01-30T12:16:25.585Z"
   },
   {
    "duration": 10,
    "start_time": "2022-01-30T12:16:25.619Z"
   },
   {
    "duration": 133,
    "start_time": "2022-01-30T12:16:25.631Z"
   },
   {
    "duration": 9,
    "start_time": "2022-01-30T12:16:25.766Z"
   },
   {
    "duration": 44,
    "start_time": "2022-01-30T12:16:25.778Z"
   },
   {
    "duration": 8,
    "start_time": "2022-01-30T12:16:25.824Z"
   },
   {
    "duration": 17,
    "start_time": "2022-01-30T12:16:25.834Z"
   },
   {
    "duration": 29,
    "start_time": "2022-01-30T12:16:25.853Z"
   },
   {
    "duration": 8,
    "start_time": "2022-01-30T12:16:25.884Z"
   },
   {
    "duration": 26,
    "start_time": "2022-01-30T12:16:25.894Z"
   },
   {
    "duration": 32,
    "start_time": "2022-01-30T12:16:25.922Z"
   },
   {
    "duration": 9,
    "start_time": "2022-01-30T12:16:25.956Z"
   },
   {
    "duration": 27,
    "start_time": "2022-01-30T12:16:25.967Z"
   },
   {
    "duration": 27,
    "start_time": "2022-01-30T12:16:25.996Z"
   },
   {
    "duration": 19,
    "start_time": "2022-01-30T12:16:26.025Z"
   },
   {
    "duration": 25,
    "start_time": "2022-01-30T12:16:26.047Z"
   },
   {
    "duration": 36,
    "start_time": "2022-01-30T12:16:26.074Z"
   },
   {
    "duration": 24,
    "start_time": "2022-01-30T12:16:54.803Z"
   },
   {
    "duration": 9,
    "start_time": "2022-01-30T12:33:12.133Z"
   },
   {
    "duration": 1112,
    "start_time": "2022-01-30T12:35:15.117Z"
   },
   {
    "duration": 2,
    "start_time": "2022-01-30T12:35:16.231Z"
   },
   {
    "duration": 45,
    "start_time": "2022-01-30T12:35:16.236Z"
   },
   {
    "duration": 9,
    "start_time": "2022-01-30T12:35:16.283Z"
   },
   {
    "duration": 18,
    "start_time": "2022-01-30T12:35:16.295Z"
   },
   {
    "duration": 172,
    "start_time": "2022-01-30T12:35:16.316Z"
   },
   {
    "duration": 9,
    "start_time": "2022-01-30T12:35:16.491Z"
   },
   {
    "duration": 24,
    "start_time": "2022-01-30T12:35:16.508Z"
   },
   {
    "duration": 29,
    "start_time": "2022-01-30T12:35:16.535Z"
   },
   {
    "duration": 123,
    "start_time": "2022-01-30T12:35:16.566Z"
   },
   {
    "duration": 21,
    "start_time": "2022-01-30T12:35:16.691Z"
   },
   {
    "duration": 14,
    "start_time": "2022-01-30T12:35:16.714Z"
   },
   {
    "duration": 145,
    "start_time": "2022-01-30T12:35:16.730Z"
   },
   {
    "duration": 9,
    "start_time": "2022-01-30T12:35:16.877Z"
   },
   {
    "duration": 33,
    "start_time": "2022-01-30T12:35:16.888Z"
   },
   {
    "duration": 29,
    "start_time": "2022-01-30T12:35:16.923Z"
   },
   {
    "duration": 25,
    "start_time": "2022-01-30T12:35:16.954Z"
   },
   {
    "duration": 9,
    "start_time": "2022-01-30T12:35:16.981Z"
   },
   {
    "duration": 74,
    "start_time": "2022-01-30T12:35:16.991Z"
   },
   {
    "duration": 21,
    "start_time": "2022-01-30T12:35:17.067Z"
   },
   {
    "duration": 18,
    "start_time": "2022-01-30T12:35:17.091Z"
   },
   {
    "duration": 35,
    "start_time": "2022-01-30T12:35:17.111Z"
   },
   {
    "duration": 11,
    "start_time": "2022-01-30T12:35:17.152Z"
   },
   {
    "duration": 47,
    "start_time": "2022-01-30T12:35:17.165Z"
   },
   {
    "duration": 10,
    "start_time": "2022-01-30T12:35:17.214Z"
   },
   {
    "duration": 125,
    "start_time": "2022-01-30T12:35:17.226Z"
   },
   {
    "duration": 9,
    "start_time": "2022-01-30T12:35:17.353Z"
   },
   {
    "duration": 48,
    "start_time": "2022-01-30T12:35:17.364Z"
   },
   {
    "duration": 8,
    "start_time": "2022-01-30T12:35:17.414Z"
   },
   {
    "duration": 15,
    "start_time": "2022-01-30T12:35:17.423Z"
   },
   {
    "duration": 17,
    "start_time": "2022-01-30T12:35:17.440Z"
   },
   {
    "duration": 7,
    "start_time": "2022-01-30T12:35:17.460Z"
   },
   {
    "duration": 12,
    "start_time": "2022-01-30T12:35:17.469Z"
   },
   {
    "duration": 41,
    "start_time": "2022-01-30T12:35:17.483Z"
   },
   {
    "duration": 11,
    "start_time": "2022-01-30T12:35:17.526Z"
   },
   {
    "duration": 16,
    "start_time": "2022-01-30T12:35:17.539Z"
   },
   {
    "duration": 24,
    "start_time": "2022-01-30T12:35:17.557Z"
   },
   {
    "duration": 35,
    "start_time": "2022-01-30T12:35:17.583Z"
   },
   {
    "duration": 18,
    "start_time": "2022-01-30T12:35:17.619Z"
   },
   {
    "duration": 19,
    "start_time": "2022-01-30T12:35:17.639Z"
   },
   {
    "duration": 7,
    "start_time": "2022-01-30T12:35:17.660Z"
   },
   {
    "duration": 287,
    "start_time": "2022-01-30T12:35:17.669Z"
   },
   {
    "duration": 1084,
    "start_time": "2022-01-30T12:36:47.530Z"
   },
   {
    "duration": 4,
    "start_time": "2022-01-30T12:36:48.616Z"
   },
   {
    "duration": 43,
    "start_time": "2022-01-30T12:36:48.623Z"
   },
   {
    "duration": 8,
    "start_time": "2022-01-30T12:36:48.669Z"
   },
   {
    "duration": 18,
    "start_time": "2022-01-30T12:36:48.679Z"
   },
   {
    "duration": 164,
    "start_time": "2022-01-30T12:36:48.699Z"
   },
   {
    "duration": 9,
    "start_time": "2022-01-30T12:36:48.865Z"
   },
   {
    "duration": 39,
    "start_time": "2022-01-30T12:36:48.878Z"
   },
   {
    "duration": 29,
    "start_time": "2022-01-30T12:36:48.919Z"
   },
   {
    "duration": 106,
    "start_time": "2022-01-30T12:36:48.950Z"
   },
   {
    "duration": 17,
    "start_time": "2022-01-30T12:36:49.058Z"
   },
   {
    "duration": 33,
    "start_time": "2022-01-30T12:36:49.077Z"
   },
   {
    "duration": 146,
    "start_time": "2022-01-30T12:36:49.113Z"
   },
   {
    "duration": 11,
    "start_time": "2022-01-30T12:36:49.261Z"
   },
   {
    "duration": 37,
    "start_time": "2022-01-30T12:36:49.275Z"
   },
   {
    "duration": 30,
    "start_time": "2022-01-30T12:36:49.314Z"
   },
   {
    "duration": 26,
    "start_time": "2022-01-30T12:36:49.345Z"
   },
   {
    "duration": 11,
    "start_time": "2022-01-30T12:36:49.373Z"
   },
   {
    "duration": 70,
    "start_time": "2022-01-30T12:36:49.386Z"
   },
   {
    "duration": 21,
    "start_time": "2022-01-30T12:36:49.458Z"
   },
   {
    "duration": 28,
    "start_time": "2022-01-30T12:36:49.482Z"
   },
   {
    "duration": 21,
    "start_time": "2022-01-30T12:36:49.512Z"
   },
   {
    "duration": 11,
    "start_time": "2022-01-30T12:36:49.536Z"
   },
   {
    "duration": 15,
    "start_time": "2022-01-30T12:36:49.549Z"
   },
   {
    "duration": 42,
    "start_time": "2022-01-30T12:36:49.566Z"
   },
   {
    "duration": 116,
    "start_time": "2022-01-30T12:36:49.610Z"
   },
   {
    "duration": 10,
    "start_time": "2022-01-30T12:36:49.728Z"
   },
   {
    "duration": 32,
    "start_time": "2022-01-30T12:36:49.740Z"
   },
   {
    "duration": 9,
    "start_time": "2022-01-30T12:36:49.773Z"
   },
   {
    "duration": 32,
    "start_time": "2022-01-30T12:36:49.783Z"
   },
   {
    "duration": 16,
    "start_time": "2022-01-30T12:36:49.817Z"
   },
   {
    "duration": 8,
    "start_time": "2022-01-30T12:36:49.835Z"
   },
   {
    "duration": 10,
    "start_time": "2022-01-30T12:36:49.846Z"
   },
   {
    "duration": 60,
    "start_time": "2022-01-30T12:36:49.858Z"
   },
   {
    "duration": 11,
    "start_time": "2022-01-30T12:36:49.920Z"
   },
   {
    "duration": 7,
    "start_time": "2022-01-30T12:36:49.933Z"
   },
   {
    "duration": 16,
    "start_time": "2022-01-30T12:36:49.942Z"
   },
   {
    "duration": 16,
    "start_time": "2022-01-30T12:36:49.960Z"
   },
   {
    "duration": 47,
    "start_time": "2022-01-30T12:36:49.978Z"
   },
   {
    "duration": 23,
    "start_time": "2022-01-30T12:36:50.028Z"
   },
   {
    "duration": 8,
    "start_time": "2022-01-30T12:36:50.053Z"
   },
   {
    "duration": 16,
    "start_time": "2022-01-30T12:36:50.062Z"
   },
   {
    "duration": 8,
    "start_time": "2022-01-30T12:37:16.721Z"
   },
   {
    "duration": 1071,
    "start_time": "2022-01-30T12:43:35.039Z"
   },
   {
    "duration": 4,
    "start_time": "2022-01-30T12:43:36.112Z"
   },
   {
    "duration": 49,
    "start_time": "2022-01-30T12:43:36.118Z"
   },
   {
    "duration": 8,
    "start_time": "2022-01-30T12:43:36.170Z"
   },
   {
    "duration": 22,
    "start_time": "2022-01-30T12:43:36.180Z"
   },
   {
    "duration": 170,
    "start_time": "2022-01-30T12:43:36.203Z"
   },
   {
    "duration": 8,
    "start_time": "2022-01-30T12:43:36.374Z"
   },
   {
    "duration": 32,
    "start_time": "2022-01-30T12:43:36.385Z"
   },
   {
    "duration": 30,
    "start_time": "2022-01-30T12:43:36.420Z"
   },
   {
    "duration": 112,
    "start_time": "2022-01-30T12:43:36.453Z"
   },
   {
    "duration": 17,
    "start_time": "2022-01-30T12:43:36.568Z"
   },
   {
    "duration": 33,
    "start_time": "2022-01-30T12:43:36.588Z"
   },
   {
    "duration": 141,
    "start_time": "2022-01-30T12:43:36.623Z"
   },
   {
    "duration": 9,
    "start_time": "2022-01-30T12:43:36.766Z"
   },
   {
    "duration": 34,
    "start_time": "2022-01-30T12:43:36.777Z"
   },
   {
    "duration": 31,
    "start_time": "2022-01-30T12:43:36.813Z"
   },
   {
    "duration": 26,
    "start_time": "2022-01-30T12:43:36.846Z"
   },
   {
    "duration": 9,
    "start_time": "2022-01-30T12:43:36.874Z"
   },
   {
    "duration": 78,
    "start_time": "2022-01-30T12:43:36.885Z"
   },
   {
    "duration": 21,
    "start_time": "2022-01-30T12:43:36.965Z"
   },
   {
    "duration": 23,
    "start_time": "2022-01-30T12:43:36.988Z"
   },
   {
    "duration": 23,
    "start_time": "2022-01-30T12:43:37.013Z"
   },
   {
    "duration": 10,
    "start_time": "2022-01-30T12:43:37.041Z"
   },
   {
    "duration": 17,
    "start_time": "2022-01-30T12:43:37.054Z"
   },
   {
    "duration": 11,
    "start_time": "2022-01-30T12:43:37.107Z"
   },
   {
    "duration": 124,
    "start_time": "2022-01-30T12:43:37.119Z"
   },
   {
    "duration": 9,
    "start_time": "2022-01-30T12:43:37.245Z"
   },
   {
    "duration": 31,
    "start_time": "2022-01-30T12:43:37.256Z"
   },
   {
    "duration": 25,
    "start_time": "2022-01-30T12:43:37.289Z"
   },
   {
    "duration": 14,
    "start_time": "2022-01-30T12:43:37.316Z"
   },
   {
    "duration": 15,
    "start_time": "2022-01-30T12:43:37.332Z"
   },
   {
    "duration": 8,
    "start_time": "2022-01-30T12:43:37.349Z"
   },
   {
    "duration": 11,
    "start_time": "2022-01-30T12:43:37.359Z"
   },
   {
    "duration": 48,
    "start_time": "2022-01-30T12:43:37.372Z"
   },
   {
    "duration": 10,
    "start_time": "2022-01-30T12:43:37.422Z"
   },
   {
    "duration": 7,
    "start_time": "2022-01-30T12:43:37.434Z"
   },
   {
    "duration": 11,
    "start_time": "2022-01-30T12:43:37.443Z"
   },
   {
    "duration": 17,
    "start_time": "2022-01-30T12:43:37.456Z"
   },
   {
    "duration": 46,
    "start_time": "2022-01-30T12:43:37.475Z"
   },
   {
    "duration": 20,
    "start_time": "2022-01-30T12:43:37.523Z"
   },
   {
    "duration": 21,
    "start_time": "2022-01-30T12:43:37.546Z"
   },
   {
    "duration": 41,
    "start_time": "2022-01-30T12:43:37.569Z"
   },
   {
    "duration": 5,
    "start_time": "2022-01-30T12:43:37.612Z"
   },
   {
    "duration": 11,
    "start_time": "2022-01-30T12:43:37.619Z"
   },
   {
    "duration": 1144,
    "start_time": "2022-01-30T12:44:30.211Z"
   },
   {
    "duration": 2,
    "start_time": "2022-01-30T12:44:31.358Z"
   },
   {
    "duration": 62,
    "start_time": "2022-01-30T12:44:31.363Z"
   },
   {
    "duration": 8,
    "start_time": "2022-01-30T12:44:31.427Z"
   },
   {
    "duration": 34,
    "start_time": "2022-01-30T12:44:31.437Z"
   },
   {
    "duration": 186,
    "start_time": "2022-01-30T12:44:31.473Z"
   },
   {
    "duration": 8,
    "start_time": "2022-01-30T12:44:31.660Z"
   },
   {
    "duration": 40,
    "start_time": "2022-01-30T12:44:31.672Z"
   },
   {
    "duration": 30,
    "start_time": "2022-01-30T12:44:31.714Z"
   },
   {
    "duration": 112,
    "start_time": "2022-01-30T12:44:31.747Z"
   },
   {
    "duration": 18,
    "start_time": "2022-01-30T12:44:31.861Z"
   },
   {
    "duration": 38,
    "start_time": "2022-01-30T12:44:31.881Z"
   },
   {
    "duration": 160,
    "start_time": "2022-01-30T12:44:31.922Z"
   },
   {
    "duration": 10,
    "start_time": "2022-01-30T12:44:32.084Z"
   },
   {
    "duration": 37,
    "start_time": "2022-01-30T12:44:32.096Z"
   },
   {
    "duration": 31,
    "start_time": "2022-01-30T12:44:32.136Z"
   },
   {
    "duration": 25,
    "start_time": "2022-01-30T12:44:32.169Z"
   },
   {
    "duration": 20,
    "start_time": "2022-01-30T12:44:32.196Z"
   },
   {
    "duration": 69,
    "start_time": "2022-01-30T12:44:32.219Z"
   },
   {
    "duration": 25,
    "start_time": "2022-01-30T12:44:32.291Z"
   },
   {
    "duration": 5,
    "start_time": "2022-01-30T12:44:32.318Z"
   },
   {
    "duration": 43,
    "start_time": "2022-01-30T12:44:32.325Z"
   },
   {
    "duration": 11,
    "start_time": "2022-01-30T12:44:32.373Z"
   },
   {
    "duration": 26,
    "start_time": "2022-01-30T12:44:32.386Z"
   },
   {
    "duration": 20,
    "start_time": "2022-01-30T12:44:32.414Z"
   },
   {
    "duration": 135,
    "start_time": "2022-01-30T12:44:32.436Z"
   },
   {
    "duration": 9,
    "start_time": "2022-01-30T12:44:32.573Z"
   },
   {
    "duration": 52,
    "start_time": "2022-01-30T12:44:32.583Z"
   },
   {
    "duration": 8,
    "start_time": "2022-01-30T12:44:32.637Z"
   },
   {
    "duration": 25,
    "start_time": "2022-01-30T12:44:32.647Z"
   },
   {
    "duration": 21,
    "start_time": "2022-01-30T12:44:32.674Z"
   },
   {
    "duration": 12,
    "start_time": "2022-01-30T12:44:32.697Z"
   },
   {
    "duration": 23,
    "start_time": "2022-01-30T12:44:32.711Z"
   },
   {
    "duration": 33,
    "start_time": "2022-01-30T12:44:32.736Z"
   },
   {
    "duration": 10,
    "start_time": "2022-01-30T12:44:32.771Z"
   },
   {
    "duration": 18,
    "start_time": "2022-01-30T12:44:32.783Z"
   },
   {
    "duration": 20,
    "start_time": "2022-01-30T12:44:32.803Z"
   },
   {
    "duration": 30,
    "start_time": "2022-01-30T12:44:32.825Z"
   },
   {
    "duration": 18,
    "start_time": "2022-01-30T12:44:32.857Z"
   },
   {
    "duration": 31,
    "start_time": "2022-01-30T12:44:32.877Z"
   },
   {
    "duration": 23,
    "start_time": "2022-01-30T12:44:32.910Z"
   },
   {
    "duration": 27,
    "start_time": "2022-01-30T12:44:32.936Z"
   },
   {
    "duration": 20,
    "start_time": "2022-01-30T12:44:32.964Z"
   },
   {
    "duration": 21,
    "start_time": "2022-01-30T12:44:32.986Z"
   },
   {
    "duration": 18,
    "start_time": "2022-01-30T12:44:33.009Z"
   },
   {
    "duration": 21,
    "start_time": "2022-01-30T12:44:33.028Z"
   },
   {
    "duration": 1091,
    "start_time": "2022-01-30T12:48:40.360Z"
   },
   {
    "duration": 3,
    "start_time": "2022-01-30T12:48:41.453Z"
   },
   {
    "duration": 57,
    "start_time": "2022-01-30T12:48:41.459Z"
   },
   {
    "duration": 8,
    "start_time": "2022-01-30T12:48:41.519Z"
   },
   {
    "duration": 26,
    "start_time": "2022-01-30T12:48:41.529Z"
   },
   {
    "duration": 182,
    "start_time": "2022-01-30T12:48:41.557Z"
   },
   {
    "duration": 8,
    "start_time": "2022-01-30T12:48:41.741Z"
   },
   {
    "duration": 35,
    "start_time": "2022-01-30T12:48:41.752Z"
   },
   {
    "duration": 38,
    "start_time": "2022-01-30T12:48:41.790Z"
   },
   {
    "duration": 102,
    "start_time": "2022-01-30T12:48:41.830Z"
   },
   {
    "duration": 16,
    "start_time": "2022-01-30T12:48:41.934Z"
   },
   {
    "duration": 34,
    "start_time": "2022-01-30T12:48:41.952Z"
   },
   {
    "duration": 145,
    "start_time": "2022-01-30T12:48:41.988Z"
   },
   {
    "duration": 10,
    "start_time": "2022-01-30T12:48:42.135Z"
   },
   {
    "duration": 26,
    "start_time": "2022-01-30T12:48:42.147Z"
   },
   {
    "duration": 48,
    "start_time": "2022-01-30T12:48:42.175Z"
   },
   {
    "duration": 23,
    "start_time": "2022-01-30T12:48:42.226Z"
   },
   {
    "duration": 11,
    "start_time": "2022-01-30T12:48:42.251Z"
   },
   {
    "duration": 70,
    "start_time": "2022-01-30T12:48:42.264Z"
   },
   {
    "duration": 21,
    "start_time": "2022-01-30T12:48:42.336Z"
   },
   {
    "duration": 5,
    "start_time": "2022-01-30T12:48:42.359Z"
   },
   {
    "duration": 36,
    "start_time": "2022-01-30T12:48:42.365Z"
   },
   {
    "duration": 11,
    "start_time": "2022-01-30T12:48:42.409Z"
   },
   {
    "duration": 19,
    "start_time": "2022-01-30T12:48:42.422Z"
   },
   {
    "duration": 9,
    "start_time": "2022-01-30T12:48:42.444Z"
   },
   {
    "duration": 137,
    "start_time": "2022-01-30T12:48:42.455Z"
   },
   {
    "duration": 13,
    "start_time": "2022-01-30T12:48:42.594Z"
   },
   {
    "duration": 30,
    "start_time": "2022-01-30T12:48:42.609Z"
   },
   {
    "duration": 8,
    "start_time": "2022-01-30T12:48:42.640Z"
   },
   {
    "duration": 28,
    "start_time": "2022-01-30T12:48:42.650Z"
   },
   {
    "duration": 28,
    "start_time": "2022-01-30T12:48:42.680Z"
   },
   {
    "duration": 27,
    "start_time": "2022-01-30T12:48:42.710Z"
   },
   {
    "duration": 10,
    "start_time": "2022-01-30T12:48:42.739Z"
   },
   {
    "duration": 22,
    "start_time": "2022-01-30T12:48:42.750Z"
   },
   {
    "duration": 10,
    "start_time": "2022-01-30T12:48:42.774Z"
   },
   {
    "duration": 7,
    "start_time": "2022-01-30T12:48:42.786Z"
   },
   {
    "duration": 23,
    "start_time": "2022-01-30T12:48:42.795Z"
   },
   {
    "duration": 16,
    "start_time": "2022-01-30T12:48:42.820Z"
   },
   {
    "duration": 19,
    "start_time": "2022-01-30T12:48:42.838Z"
   },
   {
    "duration": 49,
    "start_time": "2022-01-30T12:48:42.859Z"
   },
   {
    "duration": 7,
    "start_time": "2022-01-30T12:48:42.910Z"
   },
   {
    "duration": 10,
    "start_time": "2022-01-30T12:48:42.919Z"
   },
   {
    "duration": 14,
    "start_time": "2022-01-30T12:48:42.931Z"
   },
   {
    "duration": 11,
    "start_time": "2022-01-30T12:48:42.947Z"
   },
   {
    "duration": 1177,
    "start_time": "2022-01-30T12:54:31.832Z"
   },
   {
    "duration": 2,
    "start_time": "2022-01-30T12:54:33.012Z"
   },
   {
    "duration": 45,
    "start_time": "2022-01-30T12:54:33.017Z"
   },
   {
    "duration": 7,
    "start_time": "2022-01-30T12:54:33.064Z"
   },
   {
    "duration": 20,
    "start_time": "2022-01-30T12:54:33.073Z"
   },
   {
    "duration": 167,
    "start_time": "2022-01-30T12:54:33.095Z"
   },
   {
    "duration": 8,
    "start_time": "2022-01-30T12:54:33.264Z"
   },
   {
    "duration": 32,
    "start_time": "2022-01-30T12:54:33.275Z"
   },
   {
    "duration": 29,
    "start_time": "2022-01-30T12:54:33.310Z"
   },
   {
    "duration": 103,
    "start_time": "2022-01-30T12:54:33.340Z"
   },
   {
    "duration": 15,
    "start_time": "2022-01-30T12:54:33.445Z"
   },
   {
    "duration": 14,
    "start_time": "2022-01-30T12:54:33.462Z"
   },
   {
    "duration": 157,
    "start_time": "2022-01-30T12:54:33.477Z"
   },
   {
    "duration": 8,
    "start_time": "2022-01-30T12:54:33.636Z"
   },
   {
    "duration": 21,
    "start_time": "2022-01-30T12:54:33.646Z"
   },
   {
    "duration": 50,
    "start_time": "2022-01-30T12:54:33.669Z"
   },
   {
    "duration": 24,
    "start_time": "2022-01-30T12:54:33.721Z"
   },
   {
    "duration": 10,
    "start_time": "2022-01-30T12:54:33.747Z"
   },
   {
    "duration": 66,
    "start_time": "2022-01-30T12:54:33.759Z"
   },
   {
    "duration": 21,
    "start_time": "2022-01-30T12:54:33.827Z"
   },
   {
    "duration": 6,
    "start_time": "2022-01-30T12:54:33.850Z"
   },
   {
    "duration": 23,
    "start_time": "2022-01-30T12:54:33.858Z"
   },
   {
    "duration": 11,
    "start_time": "2022-01-30T12:54:33.910Z"
   },
   {
    "duration": 17,
    "start_time": "2022-01-30T12:54:33.924Z"
   },
   {
    "duration": 10,
    "start_time": "2022-01-30T12:54:33.943Z"
   },
   {
    "duration": 139,
    "start_time": "2022-01-30T12:54:33.955Z"
   },
   {
    "duration": 13,
    "start_time": "2022-01-30T12:54:34.096Z"
   },
   {
    "duration": 34,
    "start_time": "2022-01-30T12:54:34.111Z"
   },
   {
    "duration": 8,
    "start_time": "2022-01-30T12:54:34.147Z"
   },
   {
    "duration": 11,
    "start_time": "2022-01-30T12:54:34.157Z"
   },
   {
    "duration": 42,
    "start_time": "2022-01-30T12:54:34.169Z"
   },
   {
    "duration": 7,
    "start_time": "2022-01-30T12:54:34.213Z"
   },
   {
    "duration": 10,
    "start_time": "2022-01-30T12:54:34.222Z"
   },
   {
    "duration": 17,
    "start_time": "2022-01-30T12:54:34.234Z"
   },
   {
    "duration": 9,
    "start_time": "2022-01-30T12:54:34.253Z"
   },
   {
    "duration": 8,
    "start_time": "2022-01-30T12:54:34.264Z"
   },
   {
    "duration": 46,
    "start_time": "2022-01-30T12:54:34.273Z"
   },
   {
    "duration": 14,
    "start_time": "2022-01-30T12:54:34.321Z"
   },
   {
    "duration": 19,
    "start_time": "2022-01-30T12:54:34.337Z"
   },
   {
    "duration": 53,
    "start_time": "2022-01-30T12:54:34.358Z"
   },
   {
    "duration": 7,
    "start_time": "2022-01-30T12:54:34.413Z"
   },
   {
    "duration": 7,
    "start_time": "2022-01-30T12:54:34.422Z"
   },
   {
    "duration": 9,
    "start_time": "2022-01-30T12:54:34.431Z"
   },
   {
    "duration": 1116,
    "start_time": "2022-01-30T12:55:34.092Z"
   },
   {
    "duration": 3,
    "start_time": "2022-01-30T12:55:35.210Z"
   },
   {
    "duration": 53,
    "start_time": "2022-01-30T12:55:35.215Z"
   },
   {
    "duration": 8,
    "start_time": "2022-01-30T12:55:35.270Z"
   },
   {
    "duration": 19,
    "start_time": "2022-01-30T12:55:35.280Z"
   },
   {
    "duration": 176,
    "start_time": "2022-01-30T12:55:35.301Z"
   },
   {
    "duration": 9,
    "start_time": "2022-01-30T12:55:35.479Z"
   },
   {
    "duration": 53,
    "start_time": "2022-01-30T12:55:35.490Z"
   },
   {
    "duration": 28,
    "start_time": "2022-01-30T12:55:35.546Z"
   },
   {
    "duration": 103,
    "start_time": "2022-01-30T12:55:35.576Z"
   },
   {
    "duration": 20,
    "start_time": "2022-01-30T12:55:35.681Z"
   },
   {
    "duration": 15,
    "start_time": "2022-01-30T12:55:35.703Z"
   },
   {
    "duration": 157,
    "start_time": "2022-01-30T12:55:35.720Z"
   },
   {
    "duration": 9,
    "start_time": "2022-01-30T12:55:35.879Z"
   },
   {
    "duration": 28,
    "start_time": "2022-01-30T12:55:35.890Z"
   },
   {
    "duration": 32,
    "start_time": "2022-01-30T12:55:35.921Z"
   },
   {
    "duration": 25,
    "start_time": "2022-01-30T12:55:35.955Z"
   },
   {
    "duration": 19,
    "start_time": "2022-01-30T12:55:35.982Z"
   },
   {
    "duration": 61,
    "start_time": "2022-01-30T12:55:36.008Z"
   },
   {
    "duration": 20,
    "start_time": "2022-01-30T12:55:36.071Z"
   },
   {
    "duration": 18,
    "start_time": "2022-01-30T12:55:36.093Z"
   },
   {
    "duration": 25,
    "start_time": "2022-01-30T12:55:36.113Z"
   },
   {
    "duration": 11,
    "start_time": "2022-01-30T12:55:36.142Z"
   },
   {
    "duration": 16,
    "start_time": "2022-01-30T12:55:36.155Z"
   },
   {
    "duration": 40,
    "start_time": "2022-01-30T12:55:36.172Z"
   },
   {
    "duration": 124,
    "start_time": "2022-01-30T12:55:36.214Z"
   },
   {
    "duration": 10,
    "start_time": "2022-01-30T12:55:36.339Z"
   },
   {
    "duration": 37,
    "start_time": "2022-01-30T12:55:36.351Z"
   },
   {
    "duration": 20,
    "start_time": "2022-01-30T12:55:36.390Z"
   },
   {
    "duration": 16,
    "start_time": "2022-01-30T12:55:36.412Z"
   },
   {
    "duration": 29,
    "start_time": "2022-01-30T12:55:36.430Z"
   },
   {
    "duration": 8,
    "start_time": "2022-01-30T12:55:36.462Z"
   },
   {
    "duration": 15,
    "start_time": "2022-01-30T12:55:36.473Z"
   },
   {
    "duration": 31,
    "start_time": "2022-01-30T12:55:36.490Z"
   },
   {
    "duration": 11,
    "start_time": "2022-01-30T12:55:36.522Z"
   },
   {
    "duration": 19,
    "start_time": "2022-01-30T12:55:36.535Z"
   },
   {
    "duration": 22,
    "start_time": "2022-01-30T12:55:36.556Z"
   },
   {
    "duration": 20,
    "start_time": "2022-01-30T12:55:36.580Z"
   },
   {
    "duration": 20,
    "start_time": "2022-01-30T12:55:36.608Z"
   },
   {
    "duration": 304,
    "start_time": "2022-01-30T12:55:36.630Z"
   },
   {
    "duration": -48,
    "start_time": "2022-01-30T12:55:36.985Z"
   },
   {
    "duration": -60,
    "start_time": "2022-01-30T12:55:36.999Z"
   },
   {
    "duration": -63,
    "start_time": "2022-01-30T12:55:37.003Z"
   },
   {
    "duration": 16,
    "start_time": "2022-01-30T12:55:57.635Z"
   },
   {
    "duration": 1109,
    "start_time": "2022-01-30T12:56:33.200Z"
   },
   {
    "duration": 3,
    "start_time": "2022-01-30T12:56:34.311Z"
   },
   {
    "duration": 56,
    "start_time": "2022-01-30T12:56:34.316Z"
   },
   {
    "duration": 8,
    "start_time": "2022-01-30T12:56:34.374Z"
   },
   {
    "duration": 21,
    "start_time": "2022-01-30T12:56:34.384Z"
   },
   {
    "duration": 188,
    "start_time": "2022-01-30T12:56:34.407Z"
   },
   {
    "duration": 13,
    "start_time": "2022-01-30T12:56:34.597Z"
   },
   {
    "duration": 37,
    "start_time": "2022-01-30T12:56:34.614Z"
   },
   {
    "duration": 31,
    "start_time": "2022-01-30T12:56:34.654Z"
   },
   {
    "duration": 108,
    "start_time": "2022-01-30T12:56:34.687Z"
   },
   {
    "duration": 24,
    "start_time": "2022-01-30T12:56:34.797Z"
   },
   {
    "duration": 14,
    "start_time": "2022-01-30T12:56:34.823Z"
   },
   {
    "duration": 150,
    "start_time": "2022-01-30T12:56:34.839Z"
   },
   {
    "duration": 9,
    "start_time": "2022-01-30T12:56:34.991Z"
   },
   {
    "duration": 23,
    "start_time": "2022-01-30T12:56:35.008Z"
   },
   {
    "duration": 36,
    "start_time": "2022-01-30T12:56:35.033Z"
   },
   {
    "duration": 25,
    "start_time": "2022-01-30T12:56:35.071Z"
   },
   {
    "duration": 34,
    "start_time": "2022-01-30T12:56:35.107Z"
   },
   {
    "duration": 66,
    "start_time": "2022-01-30T12:56:35.144Z"
   },
   {
    "duration": 21,
    "start_time": "2022-01-30T12:56:35.212Z"
   },
   {
    "duration": 6,
    "start_time": "2022-01-30T12:56:35.235Z"
   },
   {
    "duration": 31,
    "start_time": "2022-01-30T12:56:35.243Z"
   },
   {
    "duration": 11,
    "start_time": "2022-01-30T12:56:35.278Z"
   },
   {
    "duration": 18,
    "start_time": "2022-01-30T12:56:35.308Z"
   },
   {
    "duration": 11,
    "start_time": "2022-01-30T12:56:35.329Z"
   },
   {
    "duration": 142,
    "start_time": "2022-01-30T12:56:35.342Z"
   },
   {
    "duration": 9,
    "start_time": "2022-01-30T12:56:35.486Z"
   },
   {
    "duration": 41,
    "start_time": "2022-01-30T12:56:35.497Z"
   },
   {
    "duration": 7,
    "start_time": "2022-01-30T12:56:35.540Z"
   },
   {
    "duration": 13,
    "start_time": "2022-01-30T12:56:35.549Z"
   },
   {
    "duration": 19,
    "start_time": "2022-01-30T12:56:35.564Z"
   },
   {
    "duration": 7,
    "start_time": "2022-01-30T12:56:35.608Z"
   },
   {
    "duration": 12,
    "start_time": "2022-01-30T12:56:35.617Z"
   },
   {
    "duration": 21,
    "start_time": "2022-01-30T12:56:35.630Z"
   },
   {
    "duration": 10,
    "start_time": "2022-01-30T12:56:35.653Z"
   },
   {
    "duration": 8,
    "start_time": "2022-01-30T12:56:35.665Z"
   },
   {
    "duration": 44,
    "start_time": "2022-01-30T12:56:35.675Z"
   },
   {
    "duration": 16,
    "start_time": "2022-01-30T12:56:35.721Z"
   },
   {
    "duration": 19,
    "start_time": "2022-01-30T12:56:35.739Z"
   },
   {
    "duration": 16,
    "start_time": "2022-01-30T12:56:35.760Z"
   },
   {
    "duration": 36,
    "start_time": "2022-01-30T12:56:35.778Z"
   },
   {
    "duration": 10,
    "start_time": "2022-01-30T12:56:35.816Z"
   },
   {
    "duration": 11,
    "start_time": "2022-01-30T12:56:35.828Z"
   },
   {
    "duration": 1409,
    "start_time": "2022-01-30T12:57:09.628Z"
   },
   {
    "duration": 4,
    "start_time": "2022-01-30T12:57:11.039Z"
   },
   {
    "duration": 52,
    "start_time": "2022-01-30T12:57:11.046Z"
   },
   {
    "duration": 9,
    "start_time": "2022-01-30T12:57:11.100Z"
   },
   {
    "duration": 21,
    "start_time": "2022-01-30T12:57:11.111Z"
   },
   {
    "duration": 175,
    "start_time": "2022-01-30T12:57:11.134Z"
   },
   {
    "duration": 8,
    "start_time": "2022-01-30T12:57:11.311Z"
   },
   {
    "duration": 31,
    "start_time": "2022-01-30T12:57:11.322Z"
   },
   {
    "duration": 30,
    "start_time": "2022-01-30T12:57:11.355Z"
   },
   {
    "duration": 109,
    "start_time": "2022-01-30T12:57:11.387Z"
   },
   {
    "duration": 26,
    "start_time": "2022-01-30T12:57:11.498Z"
   },
   {
    "duration": 16,
    "start_time": "2022-01-30T12:57:11.526Z"
   },
   {
    "duration": 157,
    "start_time": "2022-01-30T12:57:11.544Z"
   },
   {
    "duration": 11,
    "start_time": "2022-01-30T12:57:11.703Z"
   },
   {
    "duration": 21,
    "start_time": "2022-01-30T12:57:11.716Z"
   },
   {
    "duration": 31,
    "start_time": "2022-01-30T12:57:11.740Z"
   },
   {
    "duration": 45,
    "start_time": "2022-01-30T12:57:11.773Z"
   },
   {
    "duration": 7,
    "start_time": "2022-01-30T12:57:11.820Z"
   },
   {
    "duration": 62,
    "start_time": "2022-01-30T12:57:11.829Z"
   },
   {
    "duration": 22,
    "start_time": "2022-01-30T12:57:11.908Z"
   },
   {
    "duration": 6,
    "start_time": "2022-01-30T12:57:11.932Z"
   },
   {
    "duration": 40,
    "start_time": "2022-01-30T12:57:11.940Z"
   },
   {
    "duration": 11,
    "start_time": "2022-01-30T12:57:11.984Z"
   },
   {
    "duration": 16,
    "start_time": "2022-01-30T12:57:12.009Z"
   },
   {
    "duration": 10,
    "start_time": "2022-01-30T12:57:12.027Z"
   },
   {
    "duration": 137,
    "start_time": "2022-01-30T12:57:12.039Z"
   },
   {
    "duration": 8,
    "start_time": "2022-01-30T12:57:12.178Z"
   },
   {
    "duration": 47,
    "start_time": "2022-01-30T12:57:12.188Z"
   },
   {
    "duration": 7,
    "start_time": "2022-01-30T12:57:12.237Z"
   },
   {
    "duration": 17,
    "start_time": "2022-01-30T12:57:12.246Z"
   },
   {
    "duration": 18,
    "start_time": "2022-01-30T12:57:12.265Z"
   },
   {
    "duration": 22,
    "start_time": "2022-01-30T12:57:12.286Z"
   },
   {
    "duration": 11,
    "start_time": "2022-01-30T12:57:12.310Z"
   },
   {
    "duration": 24,
    "start_time": "2022-01-30T12:57:12.323Z"
   },
   {
    "duration": 10,
    "start_time": "2022-01-30T12:57:12.349Z"
   },
   {
    "duration": 12,
    "start_time": "2022-01-30T12:57:12.361Z"
   },
   {
    "duration": 38,
    "start_time": "2022-01-30T12:57:12.375Z"
   },
   {
    "duration": 16,
    "start_time": "2022-01-30T12:57:12.415Z"
   },
   {
    "duration": 19,
    "start_time": "2022-01-30T12:57:12.432Z"
   },
   {
    "duration": 22,
    "start_time": "2022-01-30T12:57:12.453Z"
   },
   {
    "duration": 38,
    "start_time": "2022-01-30T12:57:12.476Z"
   },
   {
    "duration": 6,
    "start_time": "2022-01-30T12:57:12.516Z"
   },
   {
    "duration": 11,
    "start_time": "2022-01-30T12:57:12.524Z"
   },
   {
    "duration": 14,
    "start_time": "2022-01-30T12:58:59.035Z"
   },
   {
    "duration": 1114,
    "start_time": "2022-01-30T13:19:58.113Z"
   },
   {
    "duration": 3,
    "start_time": "2022-01-30T13:19:59.230Z"
   },
   {
    "duration": 43,
    "start_time": "2022-01-30T13:19:59.236Z"
   },
   {
    "duration": 9,
    "start_time": "2022-01-30T13:19:59.282Z"
   },
   {
    "duration": 35,
    "start_time": "2022-01-30T13:19:59.293Z"
   },
   {
    "duration": 186,
    "start_time": "2022-01-30T13:19:59.330Z"
   },
   {
    "duration": 8,
    "start_time": "2022-01-30T13:19:59.518Z"
   },
   {
    "duration": 48,
    "start_time": "2022-01-30T13:19:59.530Z"
   },
   {
    "duration": 39,
    "start_time": "2022-01-30T13:19:59.580Z"
   },
   {
    "duration": 110,
    "start_time": "2022-01-30T13:19:59.621Z"
   },
   {
    "duration": 16,
    "start_time": "2022-01-30T13:19:59.733Z"
   },
   {
    "duration": 28,
    "start_time": "2022-01-30T13:19:59.751Z"
   },
   {
    "duration": 142,
    "start_time": "2022-01-30T13:19:59.781Z"
   },
   {
    "duration": 9,
    "start_time": "2022-01-30T13:19:59.925Z"
   },
   {
    "duration": 37,
    "start_time": "2022-01-30T13:19:59.936Z"
   },
   {
    "duration": 34,
    "start_time": "2022-01-30T13:19:59.975Z"
   },
   {
    "duration": 27,
    "start_time": "2022-01-30T13:20:00.011Z"
   },
   {
    "duration": 17,
    "start_time": "2022-01-30T13:20:00.040Z"
   },
   {
    "duration": 70,
    "start_time": "2022-01-30T13:20:00.059Z"
   },
   {
    "duration": 22,
    "start_time": "2022-01-30T13:20:00.132Z"
   },
   {
    "duration": 5,
    "start_time": "2022-01-30T13:20:00.156Z"
   },
   {
    "duration": 40,
    "start_time": "2022-01-30T13:20:00.162Z"
   },
   {
    "duration": 11,
    "start_time": "2022-01-30T13:20:00.208Z"
   },
   {
    "duration": 29,
    "start_time": "2022-01-30T13:20:00.221Z"
   },
   {
    "duration": 10,
    "start_time": "2022-01-30T13:20:00.252Z"
   },
   {
    "duration": 26,
    "start_time": "2022-01-30T13:20:00.264Z"
   },
   {
    "duration": 127,
    "start_time": "2022-01-30T13:20:00.292Z"
   },
   {
    "duration": 8,
    "start_time": "2022-01-30T13:20:00.421Z"
   },
   {
    "duration": 50,
    "start_time": "2022-01-30T13:20:00.430Z"
   },
   {
    "duration": 18,
    "start_time": "2022-01-30T13:20:00.482Z"
   },
   {
    "duration": 19,
    "start_time": "2022-01-30T13:20:00.502Z"
   },
   {
    "duration": 24,
    "start_time": "2022-01-30T13:20:00.523Z"
   },
   {
    "duration": 9,
    "start_time": "2022-01-30T13:20:00.549Z"
   },
   {
    "duration": 18,
    "start_time": "2022-01-30T13:20:00.560Z"
   },
   {
    "duration": 46,
    "start_time": "2022-01-30T13:20:00.580Z"
   },
   {
    "duration": 7,
    "start_time": "2022-01-30T13:20:00.629Z"
   },
   {
    "duration": 28,
    "start_time": "2022-01-30T13:20:00.637Z"
   },
   {
    "duration": 21,
    "start_time": "2022-01-30T13:20:00.666Z"
   },
   {
    "duration": 16,
    "start_time": "2022-01-30T13:20:00.689Z"
   },
   {
    "duration": 36,
    "start_time": "2022-01-30T13:20:00.707Z"
   },
   {
    "duration": 415,
    "start_time": "2022-01-30T13:20:00.745Z"
   },
   {
    "duration": -63,
    "start_time": "2022-01-30T13:20:01.225Z"
   },
   {
    "duration": -66,
    "start_time": "2022-01-30T13:20:01.230Z"
   },
   {
    "duration": -69,
    "start_time": "2022-01-30T13:20:01.234Z"
   },
   {
    "duration": -82,
    "start_time": "2022-01-30T13:20:01.248Z"
   },
   {
    "duration": -84,
    "start_time": "2022-01-30T13:20:01.251Z"
   },
   {
    "duration": 1124,
    "start_time": "2022-01-30T13:21:38.083Z"
   },
   {
    "duration": 3,
    "start_time": "2022-01-30T13:21:39.209Z"
   },
   {
    "duration": 44,
    "start_time": "2022-01-30T13:21:39.215Z"
   },
   {
    "duration": 9,
    "start_time": "2022-01-30T13:21:39.261Z"
   },
   {
    "duration": 24,
    "start_time": "2022-01-30T13:21:39.272Z"
   },
   {
    "duration": 174,
    "start_time": "2022-01-30T13:21:39.298Z"
   },
   {
    "duration": 9,
    "start_time": "2022-01-30T13:21:39.473Z"
   },
   {
    "duration": 31,
    "start_time": "2022-01-30T13:21:39.484Z"
   },
   {
    "duration": 29,
    "start_time": "2022-01-30T13:21:39.519Z"
   },
   {
    "duration": 110,
    "start_time": "2022-01-30T13:21:39.550Z"
   },
   {
    "duration": 16,
    "start_time": "2022-01-30T13:21:39.662Z"
   },
   {
    "duration": 31,
    "start_time": "2022-01-30T13:21:39.680Z"
   },
   {
    "duration": 148,
    "start_time": "2022-01-30T13:21:39.713Z"
   },
   {
    "duration": 8,
    "start_time": "2022-01-30T13:21:39.863Z"
   },
   {
    "duration": 23,
    "start_time": "2022-01-30T13:21:39.873Z"
   },
   {
    "duration": 31,
    "start_time": "2022-01-30T13:21:39.907Z"
   },
   {
    "duration": 25,
    "start_time": "2022-01-30T13:21:39.940Z"
   },
   {
    "duration": 9,
    "start_time": "2022-01-30T13:21:39.967Z"
   },
   {
    "duration": 78,
    "start_time": "2022-01-30T13:21:39.978Z"
   },
   {
    "duration": 21,
    "start_time": "2022-01-30T13:21:40.058Z"
   },
   {
    "duration": 5,
    "start_time": "2022-01-30T13:21:40.081Z"
   },
   {
    "duration": 39,
    "start_time": "2022-01-30T13:21:40.088Z"
   },
   {
    "duration": 11,
    "start_time": "2022-01-30T13:21:40.129Z"
   },
   {
    "duration": 17,
    "start_time": "2022-01-30T13:21:40.142Z"
   },
   {
    "duration": 10,
    "start_time": "2022-01-30T13:21:40.162Z"
   },
   {
    "duration": 49,
    "start_time": "2022-01-30T13:21:40.174Z"
   },
   {
    "duration": 130,
    "start_time": "2022-01-30T13:21:40.228Z"
   },
   {
    "duration": 9,
    "start_time": "2022-01-30T13:21:40.361Z"
   },
   {
    "duration": 49,
    "start_time": "2022-01-30T13:21:40.373Z"
   },
   {
    "duration": 10,
    "start_time": "2022-01-30T13:21:40.424Z"
   },
   {
    "duration": 9,
    "start_time": "2022-01-30T13:21:40.437Z"
   },
   {
    "duration": 16,
    "start_time": "2022-01-30T13:21:40.449Z"
   },
   {
    "duration": 39,
    "start_time": "2022-01-30T13:21:40.468Z"
   },
   {
    "duration": 11,
    "start_time": "2022-01-30T13:21:40.509Z"
   },
   {
    "duration": 23,
    "start_time": "2022-01-30T13:21:40.522Z"
   },
   {
    "duration": 5,
    "start_time": "2022-01-30T13:21:40.547Z"
   },
   {
    "duration": 10,
    "start_time": "2022-01-30T13:21:40.554Z"
   },
   {
    "duration": 46,
    "start_time": "2022-01-30T13:21:40.566Z"
   },
   {
    "duration": 17,
    "start_time": "2022-01-30T13:21:40.614Z"
   },
   {
    "duration": 20,
    "start_time": "2022-01-30T13:21:40.633Z"
   },
   {
    "duration": 57,
    "start_time": "2022-01-30T13:21:40.656Z"
   },
   {
    "duration": 9,
    "start_time": "2022-01-30T13:21:40.715Z"
   },
   {
    "duration": 7,
    "start_time": "2022-01-30T13:21:40.727Z"
   },
   {
    "duration": 11,
    "start_time": "2022-01-30T13:21:40.736Z"
   },
   {
    "duration": 15,
    "start_time": "2022-01-30T13:21:40.749Z"
   },
   {
    "duration": 4,
    "start_time": "2022-01-30T13:21:40.766Z"
   },
   {
    "duration": 1082,
    "start_time": "2022-01-30T13:23:04.634Z"
   },
   {
    "duration": 3,
    "start_time": "2022-01-30T13:23:05.718Z"
   },
   {
    "duration": 48,
    "start_time": "2022-01-30T13:23:05.723Z"
   },
   {
    "duration": 8,
    "start_time": "2022-01-30T13:23:05.773Z"
   },
   {
    "duration": 20,
    "start_time": "2022-01-30T13:23:05.782Z"
   },
   {
    "duration": 169,
    "start_time": "2022-01-30T13:23:05.805Z"
   },
   {
    "duration": 9,
    "start_time": "2022-01-30T13:23:05.976Z"
   },
   {
    "duration": 32,
    "start_time": "2022-01-30T13:23:05.988Z"
   },
   {
    "duration": 30,
    "start_time": "2022-01-30T13:23:06.023Z"
   },
   {
    "duration": 111,
    "start_time": "2022-01-30T13:23:06.055Z"
   },
   {
    "duration": 16,
    "start_time": "2022-01-30T13:23:06.168Z"
   },
   {
    "duration": 33,
    "start_time": "2022-01-30T13:23:06.186Z"
   },
   {
    "duration": 141,
    "start_time": "2022-01-30T13:23:06.221Z"
   },
   {
    "duration": 11,
    "start_time": "2022-01-30T13:23:06.364Z"
   },
   {
    "duration": 32,
    "start_time": "2022-01-30T13:23:06.377Z"
   },
   {
    "duration": 28,
    "start_time": "2022-01-30T13:23:06.412Z"
   },
   {
    "duration": 24,
    "start_time": "2022-01-30T13:23:06.442Z"
   },
   {
    "duration": 13,
    "start_time": "2022-01-30T13:23:06.468Z"
   },
   {
    "duration": 74,
    "start_time": "2022-01-30T13:23:06.483Z"
   },
   {
    "duration": 20,
    "start_time": "2022-01-30T13:23:06.559Z"
   },
   {
    "duration": 29,
    "start_time": "2022-01-30T13:23:06.581Z"
   },
   {
    "duration": 21,
    "start_time": "2022-01-30T13:23:06.612Z"
   },
   {
    "duration": 11,
    "start_time": "2022-01-30T13:23:06.637Z"
   },
   {
    "duration": 16,
    "start_time": "2022-01-30T13:23:06.651Z"
   },
   {
    "duration": 43,
    "start_time": "2022-01-30T13:23:06.669Z"
   },
   {
    "duration": 17,
    "start_time": "2022-01-30T13:23:06.714Z"
   },
   {
    "duration": 126,
    "start_time": "2022-01-30T13:23:06.734Z"
   },
   {
    "duration": 10,
    "start_time": "2022-01-30T13:23:06.862Z"
   },
   {
    "duration": 47,
    "start_time": "2022-01-30T13:23:06.874Z"
   },
   {
    "duration": 8,
    "start_time": "2022-01-30T13:23:06.924Z"
   },
   {
    "duration": 11,
    "start_time": "2022-01-30T13:23:06.934Z"
   },
   {
    "duration": 19,
    "start_time": "2022-01-30T13:23:06.947Z"
   },
   {
    "duration": 7,
    "start_time": "2022-01-30T13:23:06.968Z"
   },
   {
    "duration": 38,
    "start_time": "2022-01-30T13:23:06.977Z"
   },
   {
    "duration": 26,
    "start_time": "2022-01-30T13:23:07.017Z"
   },
   {
    "duration": 5,
    "start_time": "2022-01-30T13:23:07.045Z"
   },
   {
    "duration": 14,
    "start_time": "2022-01-30T13:23:07.052Z"
   },
   {
    "duration": 50,
    "start_time": "2022-01-30T13:23:07.069Z"
   },
   {
    "duration": 16,
    "start_time": "2022-01-30T13:23:07.121Z"
   },
   {
    "duration": 18,
    "start_time": "2022-01-30T13:23:07.139Z"
   },
   {
    "duration": 55,
    "start_time": "2022-01-30T13:23:07.159Z"
   },
   {
    "duration": 7,
    "start_time": "2022-01-30T13:23:07.216Z"
   },
   {
    "duration": 7,
    "start_time": "2022-01-30T13:23:07.225Z"
   },
   {
    "duration": 9,
    "start_time": "2022-01-30T13:23:07.234Z"
   },
   {
    "duration": 11,
    "start_time": "2022-01-30T13:23:07.245Z"
   },
   {
    "duration": 4,
    "start_time": "2022-01-30T13:23:07.258Z"
   },
   {
    "duration": 1139,
    "start_time": "2022-01-30T13:23:44.773Z"
   },
   {
    "duration": 4,
    "start_time": "2022-01-30T13:23:45.914Z"
   },
   {
    "duration": 47,
    "start_time": "2022-01-30T13:23:45.920Z"
   },
   {
    "duration": 8,
    "start_time": "2022-01-30T13:23:45.970Z"
   },
   {
    "duration": 24,
    "start_time": "2022-01-30T13:23:45.981Z"
   },
   {
    "duration": 214,
    "start_time": "2022-01-30T13:23:46.007Z"
   },
   {
    "duration": 11,
    "start_time": "2022-01-30T13:23:46.223Z"
   },
   {
    "duration": 33,
    "start_time": "2022-01-30T13:23:46.237Z"
   },
   {
    "duration": 54,
    "start_time": "2022-01-30T13:23:46.273Z"
   },
   {
    "duration": 101,
    "start_time": "2022-01-30T13:23:46.329Z"
   },
   {
    "duration": 17,
    "start_time": "2022-01-30T13:23:46.431Z"
   },
   {
    "duration": 16,
    "start_time": "2022-01-30T13:23:46.450Z"
   },
   {
    "duration": 158,
    "start_time": "2022-01-30T13:23:46.469Z"
   },
   {
    "duration": 9,
    "start_time": "2022-01-30T13:23:46.629Z"
   },
   {
    "duration": 26,
    "start_time": "2022-01-30T13:23:46.641Z"
   },
   {
    "duration": 48,
    "start_time": "2022-01-30T13:23:46.669Z"
   },
   {
    "duration": 25,
    "start_time": "2022-01-30T13:23:46.719Z"
   },
   {
    "duration": 7,
    "start_time": "2022-01-30T13:23:46.746Z"
   },
   {
    "duration": 73,
    "start_time": "2022-01-30T13:23:46.755Z"
   },
   {
    "duration": 20,
    "start_time": "2022-01-30T13:23:46.830Z"
   },
   {
    "duration": 5,
    "start_time": "2022-01-30T13:23:46.852Z"
   },
   {
    "duration": 29,
    "start_time": "2022-01-30T13:23:46.859Z"
   },
   {
    "duration": 25,
    "start_time": "2022-01-30T13:23:46.892Z"
   },
   {
    "duration": 17,
    "start_time": "2022-01-30T13:23:46.920Z"
   },
   {
    "duration": 10,
    "start_time": "2022-01-30T13:23:46.939Z"
   },
   {
    "duration": 20,
    "start_time": "2022-01-30T13:23:46.951Z"
   },
   {
    "duration": 161,
    "start_time": "2022-01-30T13:23:46.973Z"
   },
   {
    "duration": 12,
    "start_time": "2022-01-30T13:23:47.136Z"
   },
   {
    "duration": 34,
    "start_time": "2022-01-30T13:23:47.150Z"
   },
   {
    "duration": 25,
    "start_time": "2022-01-30T13:23:47.186Z"
   },
   {
    "duration": 11,
    "start_time": "2022-01-30T13:23:47.212Z"
   },
   {
    "duration": 19,
    "start_time": "2022-01-30T13:23:47.225Z"
   },
   {
    "duration": 8,
    "start_time": "2022-01-30T13:23:47.246Z"
   },
   {
    "duration": 10,
    "start_time": "2022-01-30T13:23:47.256Z"
   },
   {
    "duration": 55,
    "start_time": "2022-01-30T13:23:47.269Z"
   },
   {
    "duration": 4,
    "start_time": "2022-01-30T13:23:47.325Z"
   },
   {
    "duration": 11,
    "start_time": "2022-01-30T13:23:47.331Z"
   },
   {
    "duration": 18,
    "start_time": "2022-01-30T13:23:47.343Z"
   },
   {
    "duration": 15,
    "start_time": "2022-01-30T13:23:47.362Z"
   },
   {
    "duration": 18,
    "start_time": "2022-01-30T13:23:47.408Z"
   },
   {
    "duration": 20,
    "start_time": "2022-01-30T13:23:47.428Z"
   },
   {
    "duration": 8,
    "start_time": "2022-01-30T13:23:47.449Z"
   },
   {
    "duration": 6,
    "start_time": "2022-01-30T13:23:47.459Z"
   },
   {
    "duration": 45,
    "start_time": "2022-01-30T13:23:47.466Z"
   },
   {
    "duration": 14,
    "start_time": "2022-01-30T13:23:47.513Z"
   },
   {
    "duration": 4,
    "start_time": "2022-01-30T13:23:47.529Z"
   },
   {
    "duration": 1142,
    "start_time": "2022-01-30T13:24:27.917Z"
   },
   {
    "duration": 5,
    "start_time": "2022-01-30T13:24:29.064Z"
   },
   {
    "duration": 156,
    "start_time": "2022-01-30T13:24:29.072Z"
   },
   {
    "duration": 7,
    "start_time": "2022-01-30T13:24:29.230Z"
   },
   {
    "duration": 21,
    "start_time": "2022-01-30T13:24:29.239Z"
   },
   {
    "duration": 164,
    "start_time": "2022-01-30T13:24:29.262Z"
   },
   {
    "duration": 9,
    "start_time": "2022-01-30T13:24:29.428Z"
   },
   {
    "duration": 24,
    "start_time": "2022-01-30T13:24:29.440Z"
   },
   {
    "duration": 54,
    "start_time": "2022-01-30T13:24:29.467Z"
   },
   {
    "duration": 100,
    "start_time": "2022-01-30T13:24:29.523Z"
   },
   {
    "duration": 16,
    "start_time": "2022-01-30T13:24:29.625Z"
   },
   {
    "duration": 13,
    "start_time": "2022-01-30T13:24:29.643Z"
   },
   {
    "duration": 145,
    "start_time": "2022-01-30T13:24:29.658Z"
   },
   {
    "duration": 8,
    "start_time": "2022-01-30T13:24:29.808Z"
   },
   {
    "duration": 24,
    "start_time": "2022-01-30T13:24:29.818Z"
   },
   {
    "duration": 28,
    "start_time": "2022-01-30T13:24:29.844Z"
   },
   {
    "duration": 38,
    "start_time": "2022-01-30T13:24:29.874Z"
   },
   {
    "duration": 16,
    "start_time": "2022-01-30T13:24:29.913Z"
   },
   {
    "duration": 57,
    "start_time": "2022-01-30T13:24:29.931Z"
   },
   {
    "duration": 34,
    "start_time": "2022-01-30T13:24:29.990Z"
   },
   {
    "duration": 6,
    "start_time": "2022-01-30T13:24:30.026Z"
   },
   {
    "duration": 29,
    "start_time": "2022-01-30T13:24:30.035Z"
   },
   {
    "duration": 13,
    "start_time": "2022-01-30T13:24:30.068Z"
   },
   {
    "duration": 40,
    "start_time": "2022-01-30T13:24:30.083Z"
   },
   {
    "duration": 10,
    "start_time": "2022-01-30T13:24:30.125Z"
   },
   {
    "duration": 20,
    "start_time": "2022-01-30T13:24:30.137Z"
   },
   {
    "duration": 133,
    "start_time": "2022-01-30T13:24:30.159Z"
   },
   {
    "duration": 14,
    "start_time": "2022-01-30T13:24:30.294Z"
   },
   {
    "duration": 55,
    "start_time": "2022-01-30T13:24:30.310Z"
   },
   {
    "duration": 7,
    "start_time": "2022-01-30T13:24:30.367Z"
   },
   {
    "duration": 11,
    "start_time": "2022-01-30T13:24:30.376Z"
   },
   {
    "duration": 18,
    "start_time": "2022-01-30T13:24:30.389Z"
   },
   {
    "duration": 9,
    "start_time": "2022-01-30T13:24:30.409Z"
   },
   {
    "duration": 26,
    "start_time": "2022-01-30T13:24:30.420Z"
   },
   {
    "duration": 31,
    "start_time": "2022-01-30T13:24:30.448Z"
   },
   {
    "duration": 4,
    "start_time": "2022-01-30T13:24:30.481Z"
   },
   {
    "duration": 22,
    "start_time": "2022-01-30T13:24:30.487Z"
   },
   {
    "duration": 29,
    "start_time": "2022-01-30T13:24:30.511Z"
   },
   {
    "duration": 15,
    "start_time": "2022-01-30T13:24:30.542Z"
   },
   {
    "duration": 19,
    "start_time": "2022-01-30T13:24:30.559Z"
   },
   {
    "duration": 37,
    "start_time": "2022-01-30T13:24:30.580Z"
   },
   {
    "duration": 7,
    "start_time": "2022-01-30T13:24:30.619Z"
   },
   {
    "duration": 22,
    "start_time": "2022-01-30T13:24:30.628Z"
   },
   {
    "duration": 12,
    "start_time": "2022-01-30T13:24:30.652Z"
   },
   {
    "duration": 28,
    "start_time": "2022-01-30T13:24:30.666Z"
   },
   {
    "duration": 5,
    "start_time": "2022-01-30T13:24:30.696Z"
   },
   {
    "duration": 17,
    "start_time": "2022-01-30T13:35:45.388Z"
   },
   {
    "duration": 318,
    "start_time": "2022-01-30T13:35:58.570Z"
   },
   {
    "duration": 5953,
    "start_time": "2022-01-30T13:36:12.294Z"
   },
   {
    "duration": 1076,
    "start_time": "2022-01-30T13:37:23.932Z"
   },
   {
    "duration": 3,
    "start_time": "2022-01-30T13:37:25.011Z"
   },
   {
    "duration": 57,
    "start_time": "2022-01-30T13:37:25.016Z"
   },
   {
    "duration": 9,
    "start_time": "2022-01-30T13:37:25.075Z"
   },
   {
    "duration": 28,
    "start_time": "2022-01-30T13:37:25.086Z"
   },
   {
    "duration": 187,
    "start_time": "2022-01-30T13:37:25.117Z"
   },
   {
    "duration": 9,
    "start_time": "2022-01-30T13:37:25.306Z"
   },
   {
    "duration": 40,
    "start_time": "2022-01-30T13:37:25.318Z"
   },
   {
    "duration": 37,
    "start_time": "2022-01-30T13:37:25.361Z"
   },
   {
    "duration": 112,
    "start_time": "2022-01-30T13:37:25.400Z"
   },
   {
    "duration": 17,
    "start_time": "2022-01-30T13:37:25.515Z"
   },
   {
    "duration": 47,
    "start_time": "2022-01-30T13:37:25.535Z"
   },
   {
    "duration": 171,
    "start_time": "2022-01-30T13:37:25.584Z"
   },
   {
    "duration": 10,
    "start_time": "2022-01-30T13:37:25.757Z"
   },
   {
    "duration": 58,
    "start_time": "2022-01-30T13:37:25.769Z"
   },
   {
    "duration": 45,
    "start_time": "2022-01-30T13:37:25.830Z"
   },
   {
    "duration": 51,
    "start_time": "2022-01-30T13:37:25.877Z"
   },
   {
    "duration": 33,
    "start_time": "2022-01-30T13:37:25.931Z"
   },
   {
    "duration": 84,
    "start_time": "2022-01-30T13:37:25.966Z"
   },
   {
    "duration": 20,
    "start_time": "2022-01-30T13:37:26.052Z"
   },
   {
    "duration": 15,
    "start_time": "2022-01-30T13:37:26.074Z"
   },
   {
    "duration": 47,
    "start_time": "2022-01-30T13:37:26.090Z"
   },
   {
    "duration": 18,
    "start_time": "2022-01-30T13:37:26.141Z"
   },
   {
    "duration": 39,
    "start_time": "2022-01-30T13:37:26.162Z"
   },
   {
    "duration": 24,
    "start_time": "2022-01-30T13:37:26.204Z"
   },
   {
    "duration": 34,
    "start_time": "2022-01-30T13:37:26.230Z"
   },
   {
    "duration": 123,
    "start_time": "2022-01-30T13:37:26.266Z"
   },
   {
    "duration": 9,
    "start_time": "2022-01-30T13:37:26.391Z"
   },
   {
    "duration": 49,
    "start_time": "2022-01-30T13:37:26.402Z"
   },
   {
    "duration": 8,
    "start_time": "2022-01-30T13:37:26.453Z"
   },
   {
    "duration": 47,
    "start_time": "2022-01-30T13:37:26.463Z"
   },
   {
    "duration": 34,
    "start_time": "2022-01-30T13:37:26.512Z"
   },
   {
    "duration": 30,
    "start_time": "2022-01-30T13:37:26.549Z"
   },
   {
    "duration": 40,
    "start_time": "2022-01-30T13:37:26.581Z"
   },
   {
    "duration": 50,
    "start_time": "2022-01-30T13:37:26.623Z"
   },
   {
    "duration": 14,
    "start_time": "2022-01-30T13:37:26.675Z"
   },
   {
    "duration": 26,
    "start_time": "2022-01-30T13:37:26.690Z"
   },
   {
    "duration": 40,
    "start_time": "2022-01-30T13:37:26.718Z"
   },
   {
    "duration": 32,
    "start_time": "2022-01-30T13:37:26.760Z"
   },
   {
    "duration": 35,
    "start_time": "2022-01-30T13:37:26.794Z"
   },
   {
    "duration": 20,
    "start_time": "2022-01-30T13:37:26.831Z"
   },
   {
    "duration": 8,
    "start_time": "2022-01-30T13:37:26.853Z"
   },
   {
    "duration": 14,
    "start_time": "2022-01-30T13:37:26.864Z"
   },
   {
    "duration": 13,
    "start_time": "2022-01-30T13:37:26.881Z"
   },
   {
    "duration": 30,
    "start_time": "2022-01-30T13:37:26.896Z"
   },
   {
    "duration": 4,
    "start_time": "2022-01-30T13:37:26.928Z"
   },
   {
    "duration": 21,
    "start_time": "2022-01-30T13:37:26.934Z"
   },
   {
    "duration": 6029,
    "start_time": "2022-01-30T13:37:26.957Z"
   },
   {
    "duration": -159,
    "start_time": "2022-01-30T13:37:33.147Z"
   },
   {
    "duration": -167,
    "start_time": "2022-01-30T13:37:33.156Z"
   },
   {
    "duration": 1104,
    "start_time": "2022-01-30T13:37:53.101Z"
   },
   {
    "duration": 3,
    "start_time": "2022-01-30T13:37:54.207Z"
   },
   {
    "duration": 48,
    "start_time": "2022-01-30T13:37:54.212Z"
   },
   {
    "duration": 7,
    "start_time": "2022-01-30T13:37:54.261Z"
   },
   {
    "duration": 18,
    "start_time": "2022-01-30T13:37:54.270Z"
   },
   {
    "duration": 182,
    "start_time": "2022-01-30T13:37:54.290Z"
   },
   {
    "duration": 9,
    "start_time": "2022-01-30T13:37:54.474Z"
   },
   {
    "duration": 37,
    "start_time": "2022-01-30T13:37:54.486Z"
   },
   {
    "duration": 27,
    "start_time": "2022-01-30T13:37:54.525Z"
   },
   {
    "duration": 100,
    "start_time": "2022-01-30T13:37:54.554Z"
   },
   {
    "duration": 15,
    "start_time": "2022-01-30T13:37:54.656Z"
   },
   {
    "duration": 21,
    "start_time": "2022-01-30T13:37:54.673Z"
   },
   {
    "duration": 149,
    "start_time": "2022-01-30T13:37:54.695Z"
   },
   {
    "duration": 9,
    "start_time": "2022-01-30T13:37:54.846Z"
   },
   {
    "duration": 24,
    "start_time": "2022-01-30T13:37:54.857Z"
   },
   {
    "duration": 47,
    "start_time": "2022-01-30T13:37:54.883Z"
   },
   {
    "duration": 25,
    "start_time": "2022-01-30T13:37:54.932Z"
   },
   {
    "duration": 14,
    "start_time": "2022-01-30T13:37:54.959Z"
   },
   {
    "duration": 61,
    "start_time": "2022-01-30T13:37:54.975Z"
   },
   {
    "duration": 23,
    "start_time": "2022-01-30T13:37:55.038Z"
   },
   {
    "duration": 6,
    "start_time": "2022-01-30T13:37:55.064Z"
   },
   {
    "duration": 46,
    "start_time": "2022-01-30T13:37:55.072Z"
   },
   {
    "duration": 11,
    "start_time": "2022-01-30T13:37:55.122Z"
   },
   {
    "duration": 17,
    "start_time": "2022-01-30T13:37:55.136Z"
   },
   {
    "duration": 10,
    "start_time": "2022-01-30T13:37:55.155Z"
   },
   {
    "duration": 46,
    "start_time": "2022-01-30T13:37:55.167Z"
   },
   {
    "duration": 117,
    "start_time": "2022-01-30T13:37:55.215Z"
   },
   {
    "duration": 9,
    "start_time": "2022-01-30T13:37:55.334Z"
   },
   {
    "duration": 35,
    "start_time": "2022-01-30T13:37:55.344Z"
   },
   {
    "duration": 7,
    "start_time": "2022-01-30T13:37:55.381Z"
   },
   {
    "duration": 9,
    "start_time": "2022-01-30T13:37:55.408Z"
   },
   {
    "duration": 20,
    "start_time": "2022-01-30T13:37:55.420Z"
   },
   {
    "duration": 7,
    "start_time": "2022-01-30T13:37:55.442Z"
   },
   {
    "duration": 17,
    "start_time": "2022-01-30T13:37:55.451Z"
   },
   {
    "duration": 47,
    "start_time": "2022-01-30T13:37:55.470Z"
   },
   {
    "duration": 4,
    "start_time": "2022-01-30T13:37:55.519Z"
   },
   {
    "duration": 13,
    "start_time": "2022-01-30T13:37:55.525Z"
   },
   {
    "duration": 21,
    "start_time": "2022-01-30T13:37:55.541Z"
   },
   {
    "duration": 20,
    "start_time": "2022-01-30T13:37:55.565Z"
   },
   {
    "duration": 20,
    "start_time": "2022-01-30T13:37:55.607Z"
   },
   {
    "duration": 20,
    "start_time": "2022-01-30T13:37:55.629Z"
   },
   {
    "duration": 8,
    "start_time": "2022-01-30T13:37:55.651Z"
   },
   {
    "duration": 5,
    "start_time": "2022-01-30T13:37:55.661Z"
   },
   {
    "duration": 43,
    "start_time": "2022-01-30T13:37:55.668Z"
   },
   {
    "duration": 15,
    "start_time": "2022-01-30T13:37:55.712Z"
   },
   {
    "duration": 4,
    "start_time": "2022-01-30T13:37:55.729Z"
   },
   {
    "duration": 27,
    "start_time": "2022-01-30T13:37:55.736Z"
   },
   {
    "duration": 225,
    "start_time": "2022-01-30T13:37:55.765Z"
   },
   {
    "duration": 289,
    "start_time": "2022-01-30T13:37:55.992Z"
   },
   {
    "duration": -70,
    "start_time": "2022-01-30T13:37:56.354Z"
   },
   {
    "duration": 1128,
    "start_time": "2022-01-30T13:38:22.382Z"
   },
   {
    "duration": 3,
    "start_time": "2022-01-30T13:38:23.512Z"
   },
   {
    "duration": 47,
    "start_time": "2022-01-30T13:38:23.516Z"
   },
   {
    "duration": 7,
    "start_time": "2022-01-30T13:38:23.566Z"
   },
   {
    "duration": 16,
    "start_time": "2022-01-30T13:38:23.576Z"
   },
   {
    "duration": 164,
    "start_time": "2022-01-30T13:38:23.595Z"
   },
   {
    "duration": 8,
    "start_time": "2022-01-30T13:38:23.762Z"
   },
   {
    "duration": 36,
    "start_time": "2022-01-30T13:38:23.774Z"
   },
   {
    "duration": 29,
    "start_time": "2022-01-30T13:38:23.813Z"
   },
   {
    "duration": 114,
    "start_time": "2022-01-30T13:38:23.844Z"
   },
   {
    "duration": 17,
    "start_time": "2022-01-30T13:38:23.960Z"
   },
   {
    "duration": 35,
    "start_time": "2022-01-30T13:38:23.980Z"
   },
   {
    "duration": 142,
    "start_time": "2022-01-30T13:38:24.016Z"
   },
   {
    "duration": 9,
    "start_time": "2022-01-30T13:38:24.160Z"
   },
   {
    "duration": 25,
    "start_time": "2022-01-30T13:38:24.171Z"
   },
   {
    "duration": 32,
    "start_time": "2022-01-30T13:38:24.207Z"
   },
   {
    "duration": 23,
    "start_time": "2022-01-30T13:38:24.241Z"
   },
   {
    "duration": 16,
    "start_time": "2022-01-30T13:38:24.266Z"
   },
   {
    "duration": 66,
    "start_time": "2022-01-30T13:38:24.284Z"
   },
   {
    "duration": 21,
    "start_time": "2022-01-30T13:38:24.352Z"
   },
   {
    "duration": 5,
    "start_time": "2022-01-30T13:38:24.375Z"
   },
   {
    "duration": 42,
    "start_time": "2022-01-30T13:38:24.382Z"
   },
   {
    "duration": 11,
    "start_time": "2022-01-30T13:38:24.428Z"
   },
   {
    "duration": 17,
    "start_time": "2022-01-30T13:38:24.441Z"
   },
   {
    "duration": 9,
    "start_time": "2022-01-30T13:38:24.460Z"
   },
   {
    "duration": 45,
    "start_time": "2022-01-30T13:38:24.471Z"
   },
   {
    "duration": 117,
    "start_time": "2022-01-30T13:38:24.518Z"
   },
   {
    "duration": 10,
    "start_time": "2022-01-30T13:38:24.637Z"
   },
   {
    "duration": 40,
    "start_time": "2022-01-30T13:38:24.649Z"
   },
   {
    "duration": 17,
    "start_time": "2022-01-30T13:38:24.691Z"
   },
   {
    "duration": 9,
    "start_time": "2022-01-30T13:38:24.710Z"
   },
   {
    "duration": 17,
    "start_time": "2022-01-30T13:38:24.721Z"
   },
   {
    "duration": 8,
    "start_time": "2022-01-30T13:38:24.740Z"
   },
   {
    "duration": 12,
    "start_time": "2022-01-30T13:38:24.749Z"
   },
   {
    "duration": 49,
    "start_time": "2022-01-30T13:38:24.763Z"
   },
   {
    "duration": 4,
    "start_time": "2022-01-30T13:38:24.814Z"
   },
   {
    "duration": 16,
    "start_time": "2022-01-30T13:38:24.820Z"
   },
   {
    "duration": 21,
    "start_time": "2022-01-30T13:38:24.838Z"
   },
   {
    "duration": 24,
    "start_time": "2022-01-30T13:38:24.862Z"
   },
   {
    "duration": 36,
    "start_time": "2022-01-30T13:38:24.888Z"
   },
   {
    "duration": 20,
    "start_time": "2022-01-30T13:38:24.926Z"
   },
   {
    "duration": 7,
    "start_time": "2022-01-30T13:38:24.948Z"
   },
   {
    "duration": 11,
    "start_time": "2022-01-30T13:38:24.957Z"
   },
   {
    "duration": 42,
    "start_time": "2022-01-30T13:38:24.969Z"
   },
   {
    "duration": 12,
    "start_time": "2022-01-30T13:38:25.013Z"
   },
   {
    "duration": 4,
    "start_time": "2022-01-30T13:38:25.027Z"
   },
   {
    "duration": 22,
    "start_time": "2022-01-30T13:38:25.033Z"
   },
   {
    "duration": 223,
    "start_time": "2022-01-30T13:38:25.058Z"
   },
   {
    "duration": 5,
    "start_time": "2022-01-30T13:38:25.283Z"
   },
   {
    "duration": 32,
    "start_time": "2022-01-30T13:38:25.290Z"
   },
   {
    "duration": 1156,
    "start_time": "2022-01-30T13:43:02.371Z"
   },
   {
    "duration": 3,
    "start_time": "2022-01-30T13:43:03.530Z"
   },
   {
    "duration": 53,
    "start_time": "2022-01-30T13:43:03.536Z"
   },
   {
    "duration": 8,
    "start_time": "2022-01-30T13:43:03.591Z"
   },
   {
    "duration": 22,
    "start_time": "2022-01-30T13:43:03.601Z"
   },
   {
    "duration": 184,
    "start_time": "2022-01-30T13:43:03.624Z"
   },
   {
    "duration": 9,
    "start_time": "2022-01-30T13:43:03.810Z"
   },
   {
    "duration": 49,
    "start_time": "2022-01-30T13:43:03.821Z"
   },
   {
    "duration": 31,
    "start_time": "2022-01-30T13:43:03.873Z"
   },
   {
    "duration": 100,
    "start_time": "2022-01-30T13:43:03.907Z"
   },
   {
    "duration": 18,
    "start_time": "2022-01-30T13:43:04.009Z"
   },
   {
    "duration": 15,
    "start_time": "2022-01-30T13:43:04.028Z"
   },
   {
    "duration": 167,
    "start_time": "2022-01-30T13:43:04.045Z"
   },
   {
    "duration": 10,
    "start_time": "2022-01-30T13:43:04.215Z"
   },
   {
    "duration": 22,
    "start_time": "2022-01-30T13:43:04.226Z"
   },
   {
    "duration": 31,
    "start_time": "2022-01-30T13:43:04.250Z"
   },
   {
    "duration": 36,
    "start_time": "2022-01-30T13:43:04.283Z"
   },
   {
    "duration": 15,
    "start_time": "2022-01-30T13:43:04.321Z"
   },
   {
    "duration": 72,
    "start_time": "2022-01-30T13:43:04.338Z"
   },
   {
    "duration": 20,
    "start_time": "2022-01-30T13:43:04.412Z"
   },
   {
    "duration": 49,
    "start_time": "2022-01-30T13:43:04.435Z"
   },
   {
    "duration": 31,
    "start_time": "2022-01-30T13:43:04.486Z"
   },
   {
    "duration": 12,
    "start_time": "2022-01-30T13:43:04.521Z"
   },
   {
    "duration": 16,
    "start_time": "2022-01-30T13:43:04.536Z"
   },
   {
    "duration": 11,
    "start_time": "2022-01-30T13:43:04.555Z"
   },
   {
    "duration": 47,
    "start_time": "2022-01-30T13:43:04.568Z"
   },
   {
    "duration": 118,
    "start_time": "2022-01-30T13:43:04.617Z"
   },
   {
    "duration": 8,
    "start_time": "2022-01-30T13:43:04.737Z"
   },
   {
    "duration": 36,
    "start_time": "2022-01-30T13:43:04.747Z"
   },
   {
    "duration": 8,
    "start_time": "2022-01-30T13:43:04.784Z"
   },
   {
    "duration": 12,
    "start_time": "2022-01-30T13:43:04.808Z"
   },
   {
    "duration": 24,
    "start_time": "2022-01-30T13:43:04.822Z"
   },
   {
    "duration": 7,
    "start_time": "2022-01-30T13:43:04.848Z"
   },
   {
    "duration": 11,
    "start_time": "2022-01-30T13:43:04.858Z"
   },
   {
    "duration": 42,
    "start_time": "2022-01-30T13:43:04.871Z"
   },
   {
    "duration": 4,
    "start_time": "2022-01-30T13:43:04.915Z"
   },
   {
    "duration": 13,
    "start_time": "2022-01-30T13:43:04.921Z"
   },
   {
    "duration": 21,
    "start_time": "2022-01-30T13:43:04.936Z"
   },
   {
    "duration": 15,
    "start_time": "2022-01-30T13:43:04.959Z"
   },
   {
    "duration": 42,
    "start_time": "2022-01-30T13:43:04.976Z"
   },
   {
    "duration": 20,
    "start_time": "2022-01-30T13:43:05.020Z"
   },
   {
    "duration": 8,
    "start_time": "2022-01-30T13:43:05.042Z"
   },
   {
    "duration": 13,
    "start_time": "2022-01-30T13:43:05.051Z"
   },
   {
    "duration": 14,
    "start_time": "2022-01-30T13:43:05.066Z"
   },
   {
    "duration": 13,
    "start_time": "2022-01-30T13:43:05.107Z"
   },
   {
    "duration": 13,
    "start_time": "2022-01-30T13:43:05.122Z"
   },
   {
    "duration": 28,
    "start_time": "2022-01-30T13:43:05.137Z"
   },
   {
    "duration": 213,
    "start_time": "2022-01-30T13:43:05.167Z"
   },
   {
    "duration": 5,
    "start_time": "2022-01-30T13:43:05.382Z"
   },
   {
    "duration": 36,
    "start_time": "2022-01-30T13:43:05.389Z"
   },
   {
    "duration": 1062,
    "start_time": "2022-01-30T13:43:38.156Z"
   },
   {
    "duration": 3,
    "start_time": "2022-01-30T13:43:39.220Z"
   },
   {
    "duration": 50,
    "start_time": "2022-01-30T13:43:39.225Z"
   },
   {
    "duration": 14,
    "start_time": "2022-01-30T13:43:39.277Z"
   },
   {
    "duration": 21,
    "start_time": "2022-01-30T13:43:39.294Z"
   },
   {
    "duration": 174,
    "start_time": "2022-01-30T13:43:39.317Z"
   },
   {
    "duration": 15,
    "start_time": "2022-01-30T13:43:39.492Z"
   },
   {
    "duration": 25,
    "start_time": "2022-01-30T13:43:39.511Z"
   },
   {
    "duration": 32,
    "start_time": "2022-01-30T13:43:39.539Z"
   },
   {
    "duration": 124,
    "start_time": "2022-01-30T13:43:39.573Z"
   },
   {
    "duration": 16,
    "start_time": "2022-01-30T13:43:39.708Z"
   },
   {
    "duration": 15,
    "start_time": "2022-01-30T13:43:39.727Z"
   },
   {
    "duration": 159,
    "start_time": "2022-01-30T13:43:39.744Z"
   },
   {
    "duration": 9,
    "start_time": "2022-01-30T13:43:39.905Z"
   },
   {
    "duration": 22,
    "start_time": "2022-01-30T13:43:39.916Z"
   },
   {
    "duration": 30,
    "start_time": "2022-01-30T13:43:39.940Z"
   },
   {
    "duration": 37,
    "start_time": "2022-01-30T13:43:39.972Z"
   },
   {
    "duration": 12,
    "start_time": "2022-01-30T13:43:40.012Z"
   },
   {
    "duration": 64,
    "start_time": "2022-01-30T13:43:40.026Z"
   },
   {
    "duration": 32,
    "start_time": "2022-01-30T13:43:40.092Z"
   },
   {
    "duration": 6,
    "start_time": "2022-01-30T13:43:40.126Z"
   },
   {
    "duration": 25,
    "start_time": "2022-01-30T13:43:40.134Z"
   },
   {
    "duration": 11,
    "start_time": "2022-01-30T13:43:40.163Z"
   },
   {
    "duration": 41,
    "start_time": "2022-01-30T13:43:40.176Z"
   },
   {
    "duration": 11,
    "start_time": "2022-01-30T13:43:40.219Z"
   },
   {
    "duration": 16,
    "start_time": "2022-01-30T13:43:40.231Z"
   },
   {
    "duration": 141,
    "start_time": "2022-01-30T13:43:40.248Z"
   },
   {
    "duration": 16,
    "start_time": "2022-01-30T13:43:40.392Z"
   },
   {
    "duration": 32,
    "start_time": "2022-01-30T13:43:40.410Z"
   },
   {
    "duration": 8,
    "start_time": "2022-01-30T13:43:40.444Z"
   },
   {
    "duration": 12,
    "start_time": "2022-01-30T13:43:40.453Z"
   },
   {
    "duration": 44,
    "start_time": "2022-01-30T13:43:40.466Z"
   },
   {
    "duration": 7,
    "start_time": "2022-01-30T13:43:40.512Z"
   },
   {
    "duration": 10,
    "start_time": "2022-01-30T13:43:40.521Z"
   },
   {
    "duration": 23,
    "start_time": "2022-01-30T13:43:40.533Z"
   },
   {
    "duration": 4,
    "start_time": "2022-01-30T13:43:40.557Z"
   },
   {
    "duration": 11,
    "start_time": "2022-01-30T13:43:40.563Z"
   },
   {
    "duration": 45,
    "start_time": "2022-01-30T13:43:40.575Z"
   },
   {
    "duration": 16,
    "start_time": "2022-01-30T13:43:40.622Z"
   },
   {
    "duration": 19,
    "start_time": "2022-01-30T13:43:40.639Z"
   },
   {
    "duration": 20,
    "start_time": "2022-01-30T13:43:40.660Z"
   },
   {
    "duration": 7,
    "start_time": "2022-01-30T13:43:40.708Z"
   },
   {
    "duration": 17,
    "start_time": "2022-01-30T13:43:40.717Z"
   },
   {
    "duration": 11,
    "start_time": "2022-01-30T13:43:40.736Z"
   },
   {
    "duration": 18,
    "start_time": "2022-01-30T13:43:40.749Z"
   },
   {
    "duration": 4,
    "start_time": "2022-01-30T13:43:40.769Z"
   },
   {
    "duration": 32,
    "start_time": "2022-01-30T13:43:40.775Z"
   },
   {
    "duration": 202,
    "start_time": "2022-01-30T13:43:40.809Z"
   },
   {
    "duration": 4,
    "start_time": "2022-01-30T13:43:41.013Z"
   },
   {
    "duration": 22,
    "start_time": "2022-01-30T13:43:41.019Z"
   },
   {
    "duration": 1139,
    "start_time": "2022-01-30T14:19:08.374Z"
   },
   {
    "duration": 2,
    "start_time": "2022-01-30T14:19:09.516Z"
   },
   {
    "duration": 50,
    "start_time": "2022-01-30T14:19:09.520Z"
   },
   {
    "duration": 7,
    "start_time": "2022-01-30T14:19:09.573Z"
   },
   {
    "duration": 20,
    "start_time": "2022-01-30T14:19:09.582Z"
   },
   {
    "duration": 170,
    "start_time": "2022-01-30T14:19:09.604Z"
   },
   {
    "duration": 9,
    "start_time": "2022-01-30T14:19:09.776Z"
   },
   {
    "duration": 32,
    "start_time": "2022-01-30T14:19:09.788Z"
   },
   {
    "duration": 28,
    "start_time": "2022-01-30T14:19:09.823Z"
   },
   {
    "duration": 111,
    "start_time": "2022-01-30T14:19:09.854Z"
   },
   {
    "duration": 16,
    "start_time": "2022-01-30T14:19:09.967Z"
   },
   {
    "duration": 28,
    "start_time": "2022-01-30T14:19:09.985Z"
   },
   {
    "duration": 149,
    "start_time": "2022-01-30T14:19:10.015Z"
   },
   {
    "duration": 9,
    "start_time": "2022-01-30T14:19:10.165Z"
   },
   {
    "duration": 21,
    "start_time": "2022-01-30T14:19:10.176Z"
   },
   {
    "duration": 30,
    "start_time": "2022-01-30T14:19:10.208Z"
   },
   {
    "duration": 23,
    "start_time": "2022-01-30T14:19:10.240Z"
   },
   {
    "duration": 9,
    "start_time": "2022-01-30T14:19:10.265Z"
   },
   {
    "duration": 76,
    "start_time": "2022-01-30T14:19:10.276Z"
   },
   {
    "duration": 21,
    "start_time": "2022-01-30T14:19:10.354Z"
   },
   {
    "duration": 5,
    "start_time": "2022-01-30T14:19:10.377Z"
   },
   {
    "duration": 36,
    "start_time": "2022-01-30T14:19:10.384Z"
   },
   {
    "duration": 11,
    "start_time": "2022-01-30T14:19:10.424Z"
   },
   {
    "duration": 16,
    "start_time": "2022-01-30T14:19:10.437Z"
   },
   {
    "duration": 11,
    "start_time": "2022-01-30T14:19:10.455Z"
   },
   {
    "duration": 51,
    "start_time": "2022-01-30T14:19:10.468Z"
   },
   {
    "duration": 122,
    "start_time": "2022-01-30T14:19:10.521Z"
   },
   {
    "duration": 11,
    "start_time": "2022-01-30T14:19:10.645Z"
   },
   {
    "duration": 53,
    "start_time": "2022-01-30T14:19:10.658Z"
   },
   {
    "duration": 7,
    "start_time": "2022-01-30T14:19:10.713Z"
   },
   {
    "duration": 22,
    "start_time": "2022-01-30T14:19:10.722Z"
   },
   {
    "duration": 22,
    "start_time": "2022-01-30T14:19:10.745Z"
   },
   {
    "duration": 8,
    "start_time": "2022-01-30T14:19:10.768Z"
   },
   {
    "duration": 13,
    "start_time": "2022-01-30T14:19:10.777Z"
   },
   {
    "duration": 31,
    "start_time": "2022-01-30T14:19:10.792Z"
   },
   {
    "duration": 4,
    "start_time": "2022-01-30T14:19:10.825Z"
   },
   {
    "duration": 15,
    "start_time": "2022-01-30T14:19:10.831Z"
   },
   {
    "duration": 18,
    "start_time": "2022-01-30T14:19:10.848Z"
   },
   {
    "duration": 14,
    "start_time": "2022-01-30T14:19:10.868Z"
   },
   {
    "duration": 39,
    "start_time": "2022-01-30T14:19:10.884Z"
   },
   {
    "duration": 20,
    "start_time": "2022-01-30T14:19:10.925Z"
   },
   {
    "duration": 8,
    "start_time": "2022-01-30T14:19:10.948Z"
   },
   {
    "duration": 7,
    "start_time": "2022-01-30T14:19:10.958Z"
   },
   {
    "duration": 42,
    "start_time": "2022-01-30T14:19:10.967Z"
   },
   {
    "duration": 7,
    "start_time": "2022-01-30T14:19:11.012Z"
   },
   {
    "duration": 14,
    "start_time": "2022-01-30T14:19:11.021Z"
   },
   {
    "duration": 4,
    "start_time": "2022-01-30T14:19:11.037Z"
   },
   {
    "duration": 20,
    "start_time": "2022-01-30T14:19:11.043Z"
   },
   {
    "duration": 228,
    "start_time": "2022-01-30T14:19:11.065Z"
   },
   {
    "duration": 4,
    "start_time": "2022-01-30T14:19:11.295Z"
   },
   {
    "duration": 19,
    "start_time": "2022-01-30T14:19:11.307Z"
   },
   {
    "duration": 18,
    "start_time": "2022-01-30T14:19:11.328Z"
   },
   {
    "duration": 1193,
    "start_time": "2022-01-30T14:20:36.403Z"
   },
   {
    "duration": 4,
    "start_time": "2022-01-30T14:20:37.599Z"
   },
   {
    "duration": 66,
    "start_time": "2022-01-30T14:20:37.616Z"
   },
   {
    "duration": 7,
    "start_time": "2022-01-30T14:20:37.685Z"
   },
   {
    "duration": 22,
    "start_time": "2022-01-30T14:20:37.694Z"
   },
   {
    "duration": 165,
    "start_time": "2022-01-30T14:20:37.718Z"
   },
   {
    "duration": 9,
    "start_time": "2022-01-30T14:20:37.885Z"
   },
   {
    "duration": 22,
    "start_time": "2022-01-30T14:20:37.908Z"
   },
   {
    "duration": 27,
    "start_time": "2022-01-30T14:20:37.933Z"
   },
   {
    "duration": 109,
    "start_time": "2022-01-30T14:20:37.962Z"
   },
   {
    "duration": 15,
    "start_time": "2022-01-30T14:20:38.073Z"
   },
   {
    "duration": 29,
    "start_time": "2022-01-30T14:20:38.090Z"
   },
   {
    "duration": 154,
    "start_time": "2022-01-30T14:20:38.121Z"
   },
   {
    "duration": 9,
    "start_time": "2022-01-30T14:20:38.277Z"
   },
   {
    "duration": 29,
    "start_time": "2022-01-30T14:20:38.287Z"
   },
   {
    "duration": 31,
    "start_time": "2022-01-30T14:20:38.318Z"
   },
   {
    "duration": 47,
    "start_time": "2022-01-30T14:20:38.351Z"
   },
   {
    "duration": 16,
    "start_time": "2022-01-30T14:20:38.400Z"
   },
   {
    "duration": 58,
    "start_time": "2022-01-30T14:20:38.418Z"
   },
   {
    "duration": 29,
    "start_time": "2022-01-30T14:20:38.479Z"
   },
   {
    "duration": 5,
    "start_time": "2022-01-30T14:20:38.511Z"
   },
   {
    "duration": 27,
    "start_time": "2022-01-30T14:20:38.518Z"
   },
   {
    "duration": 11,
    "start_time": "2022-01-30T14:20:38.549Z"
   },
   {
    "duration": 46,
    "start_time": "2022-01-30T14:20:38.563Z"
   },
   {
    "duration": 10,
    "start_time": "2022-01-30T14:20:38.611Z"
   },
   {
    "duration": 29,
    "start_time": "2022-01-30T14:20:38.623Z"
   },
   {
    "duration": 126,
    "start_time": "2022-01-30T14:20:38.654Z"
   },
   {
    "duration": 9,
    "start_time": "2022-01-30T14:20:38.782Z"
   },
   {
    "duration": 46,
    "start_time": "2022-01-30T14:20:38.793Z"
   },
   {
    "duration": 7,
    "start_time": "2022-01-30T14:20:38.841Z"
   },
   {
    "duration": 24,
    "start_time": "2022-01-30T14:20:38.850Z"
   },
   {
    "duration": 19,
    "start_time": "2022-01-30T14:20:38.876Z"
   },
   {
    "duration": 8,
    "start_time": "2022-01-30T14:20:38.908Z"
   },
   {
    "duration": 15,
    "start_time": "2022-01-30T14:20:38.918Z"
   },
   {
    "duration": 26,
    "start_time": "2022-01-30T14:20:38.935Z"
   },
   {
    "duration": 4,
    "start_time": "2022-01-30T14:20:38.963Z"
   },
   {
    "duration": 12,
    "start_time": "2022-01-30T14:20:38.969Z"
   },
   {
    "duration": 35,
    "start_time": "2022-01-30T14:20:38.984Z"
   },
   {
    "duration": 16,
    "start_time": "2022-01-30T14:20:39.021Z"
   },
   {
    "duration": 18,
    "start_time": "2022-01-30T14:20:39.039Z"
   },
   {
    "duration": 58,
    "start_time": "2022-01-30T14:20:39.058Z"
   },
   {
    "duration": 7,
    "start_time": "2022-01-30T14:20:39.118Z"
   },
   {
    "duration": 324,
    "start_time": "2022-01-30T14:20:39.127Z"
   },
   {
    "duration": -92,
    "start_time": "2022-01-30T14:20:39.545Z"
   },
   {
    "duration": -95,
    "start_time": "2022-01-30T14:20:39.549Z"
   },
   {
    "duration": -100,
    "start_time": "2022-01-30T14:20:39.555Z"
   },
   {
    "duration": -105,
    "start_time": "2022-01-30T14:20:39.561Z"
   },
   {
    "duration": -106,
    "start_time": "2022-01-30T14:20:39.564Z"
   },
   {
    "duration": -109,
    "start_time": "2022-01-30T14:20:39.568Z"
   },
   {
    "duration": -112,
    "start_time": "2022-01-30T14:20:39.572Z"
   },
   {
    "duration": -115,
    "start_time": "2022-01-30T14:20:39.576Z"
   },
   {
    "duration": -118,
    "start_time": "2022-01-30T14:20:39.580Z"
   },
   {
    "duration": 222,
    "start_time": "2022-01-30T14:21:26.298Z"
   },
   {
    "duration": 5,
    "start_time": "2022-01-30T14:21:34.471Z"
   },
   {
    "duration": 1072,
    "start_time": "2022-01-30T14:29:34.635Z"
   },
   {
    "duration": 3,
    "start_time": "2022-01-30T14:29:35.709Z"
   },
   {
    "duration": 46,
    "start_time": "2022-01-30T14:29:35.714Z"
   },
   {
    "duration": 8,
    "start_time": "2022-01-30T14:29:35.762Z"
   },
   {
    "duration": 19,
    "start_time": "2022-01-30T14:29:35.771Z"
   },
   {
    "duration": 169,
    "start_time": "2022-01-30T14:29:35.792Z"
   },
   {
    "duration": 8,
    "start_time": "2022-01-30T14:29:35.963Z"
   },
   {
    "duration": 34,
    "start_time": "2022-01-30T14:29:35.973Z"
   },
   {
    "duration": 29,
    "start_time": "2022-01-30T14:29:36.011Z"
   },
   {
    "duration": 109,
    "start_time": "2022-01-30T14:29:36.043Z"
   },
   {
    "duration": 15,
    "start_time": "2022-01-30T14:29:36.154Z"
   },
   {
    "duration": 15,
    "start_time": "2022-01-30T14:29:36.171Z"
   },
   {
    "duration": 160,
    "start_time": "2022-01-30T14:29:36.188Z"
   },
   {
    "duration": 9,
    "start_time": "2022-01-30T14:29:36.350Z"
   },
   {
    "duration": 30,
    "start_time": "2022-01-30T14:29:36.361Z"
   },
   {
    "duration": 38,
    "start_time": "2022-01-30T14:29:36.394Z"
   },
   {
    "duration": 25,
    "start_time": "2022-01-30T14:29:36.433Z"
   },
   {
    "duration": 36,
    "start_time": "2022-01-30T14:29:36.460Z"
   },
   {
    "duration": 57,
    "start_time": "2022-01-30T14:29:36.499Z"
   },
   {
    "duration": 21,
    "start_time": "2022-01-30T14:29:36.558Z"
   },
   {
    "duration": 5,
    "start_time": "2022-01-30T14:29:36.581Z"
   },
   {
    "duration": 36,
    "start_time": "2022-01-30T14:29:36.587Z"
   },
   {
    "duration": 10,
    "start_time": "2022-01-30T14:29:36.625Z"
   },
   {
    "duration": 16,
    "start_time": "2022-01-30T14:29:36.637Z"
   },
   {
    "duration": 10,
    "start_time": "2022-01-30T14:29:36.655Z"
   },
   {
    "duration": 42,
    "start_time": "2022-01-30T14:29:36.667Z"
   },
   {
    "duration": 124,
    "start_time": "2022-01-30T14:29:36.712Z"
   },
   {
    "duration": 8,
    "start_time": "2022-01-30T14:29:36.839Z"
   },
   {
    "duration": 68,
    "start_time": "2022-01-30T14:29:36.849Z"
   },
   {
    "duration": 7,
    "start_time": "2022-01-30T14:29:36.919Z"
   },
   {
    "duration": 12,
    "start_time": "2022-01-30T14:29:36.927Z"
   },
   {
    "duration": 20,
    "start_time": "2022-01-30T14:29:36.941Z"
   },
   {
    "duration": 6,
    "start_time": "2022-01-30T14:29:36.963Z"
   },
   {
    "duration": 12,
    "start_time": "2022-01-30T14:29:36.971Z"
   },
   {
    "duration": 18,
    "start_time": "2022-01-30T14:29:37.008Z"
   },
   {
    "duration": 3,
    "start_time": "2022-01-30T14:29:37.028Z"
   },
   {
    "duration": 12,
    "start_time": "2022-01-30T14:29:37.033Z"
   },
   {
    "duration": 18,
    "start_time": "2022-01-30T14:29:37.047Z"
   },
   {
    "duration": 50,
    "start_time": "2022-01-30T14:29:37.067Z"
   },
   {
    "duration": 20,
    "start_time": "2022-01-30T14:29:37.119Z"
   },
   {
    "duration": 23,
    "start_time": "2022-01-30T14:29:37.141Z"
   },
   {
    "duration": 7,
    "start_time": "2022-01-30T14:29:37.166Z"
   },
   {
    "duration": 37,
    "start_time": "2022-01-30T14:29:37.175Z"
   },
   {
    "duration": 6,
    "start_time": "2022-01-30T14:29:37.214Z"
   },
   {
    "duration": 11,
    "start_time": "2022-01-30T14:29:37.221Z"
   },
   {
    "duration": 13,
    "start_time": "2022-01-30T14:29:37.234Z"
   },
   {
    "duration": 4,
    "start_time": "2022-01-30T14:29:37.249Z"
   },
   {
    "duration": 53,
    "start_time": "2022-01-30T14:29:37.255Z"
   },
   {
    "duration": 207,
    "start_time": "2022-01-30T14:29:37.310Z"
   },
   {
    "duration": 5,
    "start_time": "2022-01-30T14:29:37.519Z"
   },
   {
    "duration": 21,
    "start_time": "2022-01-30T14:29:37.527Z"
   },
   {
    "duration": 16,
    "start_time": "2022-01-30T14:29:37.551Z"
   },
   {
    "duration": 1196,
    "start_time": "2022-01-30T14:30:00.558Z"
   },
   {
    "duration": 3,
    "start_time": "2022-01-30T14:30:01.756Z"
   },
   {
    "duration": 51,
    "start_time": "2022-01-30T14:30:01.761Z"
   },
   {
    "duration": 15,
    "start_time": "2022-01-30T14:30:01.814Z"
   },
   {
    "duration": 39,
    "start_time": "2022-01-30T14:30:01.831Z"
   },
   {
    "duration": 198,
    "start_time": "2022-01-30T14:30:01.872Z"
   },
   {
    "duration": 10,
    "start_time": "2022-01-30T14:30:02.073Z"
   },
   {
    "duration": 64,
    "start_time": "2022-01-30T14:30:02.106Z"
   },
   {
    "duration": 31,
    "start_time": "2022-01-30T14:30:02.172Z"
   },
   {
    "duration": 115,
    "start_time": "2022-01-30T14:30:02.205Z"
   },
   {
    "duration": 17,
    "start_time": "2022-01-30T14:30:02.322Z"
   },
   {
    "duration": 17,
    "start_time": "2022-01-30T14:30:02.341Z"
   },
   {
    "duration": 166,
    "start_time": "2022-01-30T14:30:02.360Z"
   },
   {
    "duration": 9,
    "start_time": "2022-01-30T14:30:02.528Z"
   },
   {
    "duration": 79,
    "start_time": "2022-01-30T14:30:02.539Z"
   },
   {
    "duration": 42,
    "start_time": "2022-01-30T14:30:02.620Z"
   },
   {
    "duration": 25,
    "start_time": "2022-01-30T14:30:02.664Z"
   },
   {
    "duration": 21,
    "start_time": "2022-01-30T14:30:02.691Z"
   },
   {
    "duration": 98,
    "start_time": "2022-01-30T14:30:02.714Z"
   },
   {
    "duration": 47,
    "start_time": "2022-01-30T14:30:02.814Z"
   },
   {
    "duration": 6,
    "start_time": "2022-01-30T14:30:02.863Z"
   },
   {
    "duration": 27,
    "start_time": "2022-01-30T14:30:02.871Z"
   },
   {
    "duration": 12,
    "start_time": "2022-01-30T14:30:02.902Z"
   },
   {
    "duration": 39,
    "start_time": "2022-01-30T14:30:02.916Z"
   },
   {
    "duration": 12,
    "start_time": "2022-01-30T14:30:02.957Z"
   },
   {
    "duration": 19,
    "start_time": "2022-01-30T14:30:02.971Z"
   },
   {
    "duration": 113,
    "start_time": "2022-01-30T14:30:02.992Z"
   },
   {
    "duration": 9,
    "start_time": "2022-01-30T14:30:03.107Z"
   },
   {
    "duration": 50,
    "start_time": "2022-01-30T14:30:03.118Z"
   },
   {
    "duration": 7,
    "start_time": "2022-01-30T14:30:03.170Z"
   },
   {
    "duration": 10,
    "start_time": "2022-01-30T14:30:03.179Z"
   },
   {
    "duration": 26,
    "start_time": "2022-01-30T14:30:03.191Z"
   },
   {
    "duration": 21,
    "start_time": "2022-01-30T14:30:03.219Z"
   },
   {
    "duration": 27,
    "start_time": "2022-01-30T14:30:03.242Z"
   },
   {
    "duration": 22,
    "start_time": "2022-01-30T14:30:03.271Z"
   },
   {
    "duration": 4,
    "start_time": "2022-01-30T14:30:03.295Z"
   },
   {
    "duration": 13,
    "start_time": "2022-01-30T14:30:03.302Z"
   },
   {
    "duration": 39,
    "start_time": "2022-01-30T14:30:03.317Z"
   },
   {
    "duration": 23,
    "start_time": "2022-01-30T14:30:03.358Z"
   },
   {
    "duration": 17,
    "start_time": "2022-01-30T14:30:03.383Z"
   },
   {
    "duration": 62,
    "start_time": "2022-01-30T14:30:03.402Z"
   },
   {
    "duration": 20,
    "start_time": "2022-01-30T14:30:03.466Z"
   },
   {
    "duration": 26,
    "start_time": "2022-01-30T14:30:03.488Z"
   },
   {
    "duration": 2876,
    "start_time": "2022-01-30T14:30:03.516Z"
   },
   {
    "duration": -122,
    "start_time": "2022-01-30T14:30:06.516Z"
   },
   {
    "duration": -133,
    "start_time": "2022-01-30T14:30:06.528Z"
   },
   {
    "duration": -142,
    "start_time": "2022-01-30T14:30:06.538Z"
   },
   {
    "duration": -145,
    "start_time": "2022-01-30T14:30:06.542Z"
   },
   {
    "duration": -145,
    "start_time": "2022-01-30T14:30:06.544Z"
   },
   {
    "duration": -156,
    "start_time": "2022-01-30T14:30:06.556Z"
   },
   {
    "duration": -158,
    "start_time": "2022-01-30T14:30:06.559Z"
   },
   {
    "duration": -161,
    "start_time": "2022-01-30T14:30:06.563Z"
   },
   {
    "duration": 1137,
    "start_time": "2022-01-30T14:31:49.373Z"
   },
   {
    "duration": 3,
    "start_time": "2022-01-30T14:31:50.512Z"
   },
   {
    "duration": 44,
    "start_time": "2022-01-30T14:31:50.518Z"
   },
   {
    "duration": 8,
    "start_time": "2022-01-30T14:31:50.564Z"
   },
   {
    "duration": 17,
    "start_time": "2022-01-30T14:31:50.574Z"
   },
   {
    "duration": 171,
    "start_time": "2022-01-30T14:31:50.593Z"
   },
   {
    "duration": 7,
    "start_time": "2022-01-30T14:31:50.766Z"
   },
   {
    "duration": 37,
    "start_time": "2022-01-30T14:31:50.776Z"
   },
   {
    "duration": 29,
    "start_time": "2022-01-30T14:31:50.816Z"
   },
   {
    "duration": 113,
    "start_time": "2022-01-30T14:31:50.847Z"
   },
   {
    "duration": 17,
    "start_time": "2022-01-30T14:31:50.962Z"
   },
   {
    "duration": 30,
    "start_time": "2022-01-30T14:31:50.981Z"
   },
   {
    "duration": 150,
    "start_time": "2022-01-30T14:31:51.013Z"
   },
   {
    "duration": 9,
    "start_time": "2022-01-30T14:31:51.165Z"
   },
   {
    "duration": 33,
    "start_time": "2022-01-30T14:31:51.176Z"
   },
   {
    "duration": 33,
    "start_time": "2022-01-30T14:31:51.211Z"
   },
   {
    "duration": 24,
    "start_time": "2022-01-30T14:31:51.247Z"
   },
   {
    "duration": 8,
    "start_time": "2022-01-30T14:31:51.273Z"
   },
   {
    "duration": 73,
    "start_time": "2022-01-30T14:31:51.283Z"
   },
   {
    "duration": 20,
    "start_time": "2022-01-30T14:31:51.358Z"
   },
   {
    "duration": 5,
    "start_time": "2022-01-30T14:31:51.380Z"
   },
   {
    "duration": 37,
    "start_time": "2022-01-30T14:31:51.386Z"
   },
   {
    "duration": 14,
    "start_time": "2022-01-30T14:31:51.427Z"
   },
   {
    "duration": 16,
    "start_time": "2022-01-30T14:31:51.444Z"
   },
   {
    "duration": 46,
    "start_time": "2022-01-30T14:31:51.461Z"
   },
   {
    "duration": 16,
    "start_time": "2022-01-30T14:31:51.510Z"
   },
   {
    "duration": 126,
    "start_time": "2022-01-30T14:31:51.527Z"
   },
   {
    "duration": 8,
    "start_time": "2022-01-30T14:31:51.655Z"
   },
   {
    "duration": 44,
    "start_time": "2022-01-30T14:31:51.665Z"
   },
   {
    "duration": 8,
    "start_time": "2022-01-30T14:31:51.711Z"
   },
   {
    "duration": 12,
    "start_time": "2022-01-30T14:31:51.721Z"
   },
   {
    "duration": 18,
    "start_time": "2022-01-30T14:31:51.734Z"
   },
   {
    "duration": 6,
    "start_time": "2022-01-30T14:31:51.754Z"
   },
   {
    "duration": 11,
    "start_time": "2022-01-30T14:31:51.762Z"
   },
   {
    "duration": 17,
    "start_time": "2022-01-30T14:31:51.808Z"
   },
   {
    "duration": 4,
    "start_time": "2022-01-30T14:31:51.827Z"
   },
   {
    "duration": 11,
    "start_time": "2022-01-30T14:31:51.833Z"
   },
   {
    "duration": 19,
    "start_time": "2022-01-30T14:31:51.846Z"
   },
   {
    "duration": 42,
    "start_time": "2022-01-30T14:31:51.867Z"
   },
   {
    "duration": 18,
    "start_time": "2022-01-30T14:31:51.910Z"
   },
   {
    "duration": 19,
    "start_time": "2022-01-30T14:31:51.930Z"
   },
   {
    "duration": 7,
    "start_time": "2022-01-30T14:31:51.950Z"
   },
   {
    "duration": 7,
    "start_time": "2022-01-30T14:31:51.959Z"
   },
   {
    "duration": 9,
    "start_time": "2022-01-30T14:31:51.968Z"
   },
   {
    "duration": 5,
    "start_time": "2022-01-30T14:31:52.007Z"
   },
   {
    "duration": 8,
    "start_time": "2022-01-30T14:31:52.014Z"
   },
   {
    "duration": 8,
    "start_time": "2022-01-30T14:31:52.024Z"
   },
   {
    "duration": 11,
    "start_time": "2022-01-30T14:31:52.034Z"
   },
   {
    "duration": 963,
    "start_time": "2022-01-30T14:31:52.047Z"
   },
   {
    "duration": -82,
    "start_time": "2022-01-30T14:31:53.094Z"
   },
   {
    "duration": -86,
    "start_time": "2022-01-30T14:31:53.100Z"
   },
   {
    "duration": -89,
    "start_time": "2022-01-30T14:31:53.104Z"
   },
   {
    "duration": 1105,
    "start_time": "2022-01-30T14:32:33.097Z"
   },
   {
    "duration": 4,
    "start_time": "2022-01-30T14:32:34.204Z"
   },
   {
    "duration": 47,
    "start_time": "2022-01-30T14:32:34.210Z"
   },
   {
    "duration": 8,
    "start_time": "2022-01-30T14:32:34.260Z"
   },
   {
    "duration": 18,
    "start_time": "2022-01-30T14:32:34.270Z"
   },
   {
    "duration": 167,
    "start_time": "2022-01-30T14:32:34.291Z"
   },
   {
    "duration": 10,
    "start_time": "2022-01-30T14:32:34.460Z"
   },
   {
    "duration": 43,
    "start_time": "2022-01-30T14:32:34.474Z"
   },
   {
    "duration": 28,
    "start_time": "2022-01-30T14:32:34.519Z"
   },
   {
    "duration": 105,
    "start_time": "2022-01-30T14:32:34.549Z"
   },
   {
    "duration": 17,
    "start_time": "2022-01-30T14:32:34.656Z"
   },
   {
    "duration": 21,
    "start_time": "2022-01-30T14:32:34.675Z"
   },
   {
    "duration": 148,
    "start_time": "2022-01-30T14:32:34.698Z"
   },
   {
    "duration": 9,
    "start_time": "2022-01-30T14:32:34.848Z"
   },
   {
    "duration": 23,
    "start_time": "2022-01-30T14:32:34.859Z"
   },
   {
    "duration": 46,
    "start_time": "2022-01-30T14:32:34.884Z"
   },
   {
    "duration": 25,
    "start_time": "2022-01-30T14:32:34.932Z"
   },
   {
    "duration": 22,
    "start_time": "2022-01-30T14:32:34.958Z"
   },
   {
    "duration": 68,
    "start_time": "2022-01-30T14:32:34.982Z"
   },
   {
    "duration": 21,
    "start_time": "2022-01-30T14:32:35.052Z"
   },
   {
    "duration": 6,
    "start_time": "2022-01-30T14:32:35.075Z"
   },
   {
    "duration": 33,
    "start_time": "2022-01-30T14:32:35.083Z"
   },
   {
    "duration": 11,
    "start_time": "2022-01-30T14:32:35.120Z"
   },
   {
    "duration": 16,
    "start_time": "2022-01-30T14:32:35.133Z"
   },
   {
    "duration": 10,
    "start_time": "2022-01-30T14:32:35.152Z"
   },
   {
    "duration": 45,
    "start_time": "2022-01-30T14:32:35.164Z"
   },
   {
    "duration": 123,
    "start_time": "2022-01-30T14:32:35.211Z"
   },
   {
    "duration": 9,
    "start_time": "2022-01-30T14:32:35.336Z"
   },
   {
    "duration": 32,
    "start_time": "2022-01-30T14:32:35.347Z"
   },
   {
    "duration": 31,
    "start_time": "2022-01-30T14:32:35.380Z"
   },
   {
    "duration": 11,
    "start_time": "2022-01-30T14:32:35.413Z"
   },
   {
    "duration": 21,
    "start_time": "2022-01-30T14:32:35.425Z"
   },
   {
    "duration": 8,
    "start_time": "2022-01-30T14:32:35.448Z"
   },
   {
    "duration": 13,
    "start_time": "2022-01-30T14:32:35.458Z"
   },
   {
    "duration": 43,
    "start_time": "2022-01-30T14:32:35.474Z"
   },
   {
    "duration": 4,
    "start_time": "2022-01-30T14:32:35.519Z"
   },
   {
    "duration": 11,
    "start_time": "2022-01-30T14:32:35.525Z"
   },
   {
    "duration": 20,
    "start_time": "2022-01-30T14:32:35.538Z"
   },
   {
    "duration": 14,
    "start_time": "2022-01-30T14:32:35.560Z"
   },
   {
    "duration": 41,
    "start_time": "2022-01-30T14:32:35.576Z"
   },
   {
    "duration": 21,
    "start_time": "2022-01-30T14:32:35.619Z"
   },
   {
    "duration": 9,
    "start_time": "2022-01-30T14:32:35.642Z"
   },
   {
    "duration": 6,
    "start_time": "2022-01-30T14:32:35.653Z"
   },
   {
    "duration": 8,
    "start_time": "2022-01-30T14:32:35.661Z"
   },
   {
    "duration": 48,
    "start_time": "2022-01-30T14:32:35.672Z"
   },
   {
    "duration": 5,
    "start_time": "2022-01-30T14:32:35.721Z"
   },
   {
    "duration": 25,
    "start_time": "2022-01-30T14:32:35.728Z"
   },
   {
    "duration": 224,
    "start_time": "2022-01-30T14:32:35.755Z"
   },
   {
    "duration": 4,
    "start_time": "2022-01-30T14:32:35.981Z"
   },
   {
    "duration": 31,
    "start_time": "2022-01-30T14:32:35.987Z"
   },
   {
    "duration": 17,
    "start_time": "2022-01-30T14:32:36.020Z"
   },
   {
    "duration": 1215,
    "start_time": "2022-01-30T14:34:24.605Z"
   },
   {
    "duration": 4,
    "start_time": "2022-01-30T14:34:25.822Z"
   },
   {
    "duration": 47,
    "start_time": "2022-01-30T14:34:25.828Z"
   },
   {
    "duration": 7,
    "start_time": "2022-01-30T14:34:25.877Z"
   },
   {
    "duration": 21,
    "start_time": "2022-01-30T14:34:25.886Z"
   },
   {
    "duration": 171,
    "start_time": "2022-01-30T14:34:25.909Z"
   },
   {
    "duration": 7,
    "start_time": "2022-01-30T14:34:26.082Z"
   },
   {
    "duration": 34,
    "start_time": "2022-01-30T14:34:26.092Z"
   },
   {
    "duration": 30,
    "start_time": "2022-01-30T14:34:26.129Z"
   },
   {
    "duration": 109,
    "start_time": "2022-01-30T14:34:26.161Z"
   },
   {
    "duration": 15,
    "start_time": "2022-01-30T14:34:26.272Z"
   },
   {
    "duration": 27,
    "start_time": "2022-01-30T14:34:26.289Z"
   },
   {
    "duration": 140,
    "start_time": "2022-01-30T14:34:26.318Z"
   },
   {
    "duration": 9,
    "start_time": "2022-01-30T14:34:26.460Z"
   },
   {
    "duration": 37,
    "start_time": "2022-01-30T14:34:26.471Z"
   },
   {
    "duration": 30,
    "start_time": "2022-01-30T14:34:26.510Z"
   },
   {
    "duration": 24,
    "start_time": "2022-01-30T14:34:26.542Z"
   },
   {
    "duration": 9,
    "start_time": "2022-01-30T14:34:26.568Z"
   },
   {
    "duration": 68,
    "start_time": "2022-01-30T14:34:26.579Z"
   },
   {
    "duration": 21,
    "start_time": "2022-01-30T14:34:26.649Z"
   },
   {
    "duration": 6,
    "start_time": "2022-01-30T14:34:26.672Z"
   },
   {
    "duration": 42,
    "start_time": "2022-01-30T14:34:26.679Z"
   },
   {
    "duration": 11,
    "start_time": "2022-01-30T14:34:26.725Z"
   },
   {
    "duration": 16,
    "start_time": "2022-01-30T14:34:26.738Z"
   },
   {
    "duration": 10,
    "start_time": "2022-01-30T14:34:26.756Z"
   },
   {
    "duration": 49,
    "start_time": "2022-01-30T14:34:26.767Z"
   },
   {
    "duration": 120,
    "start_time": "2022-01-30T14:34:26.818Z"
   },
   {
    "duration": 8,
    "start_time": "2022-01-30T14:34:26.940Z"
   },
   {
    "duration": 38,
    "start_time": "2022-01-30T14:34:26.950Z"
   },
   {
    "duration": 19,
    "start_time": "2022-01-30T14:34:26.990Z"
   },
   {
    "duration": 9,
    "start_time": "2022-01-30T14:34:27.011Z"
   },
   {
    "duration": 19,
    "start_time": "2022-01-30T14:34:27.022Z"
   },
   {
    "duration": 7,
    "start_time": "2022-01-30T14:34:27.043Z"
   },
   {
    "duration": 13,
    "start_time": "2022-01-30T14:34:27.052Z"
   },
   {
    "duration": 49,
    "start_time": "2022-01-30T14:34:27.066Z"
   },
   {
    "duration": 4,
    "start_time": "2022-01-30T14:34:27.117Z"
   },
   {
    "duration": 16,
    "start_time": "2022-01-30T14:34:27.123Z"
   },
   {
    "duration": 19,
    "start_time": "2022-01-30T14:34:27.141Z"
   },
   {
    "duration": 14,
    "start_time": "2022-01-30T14:34:27.162Z"
   },
   {
    "duration": 3,
    "start_time": "2022-01-30T14:34:27.178Z"
   },
   {
    "duration": 311,
    "start_time": "2022-01-30T14:34:27.183Z"
   },
   {
    "duration": -34,
    "start_time": "2022-01-30T14:34:27.530Z"
   },
   {
    "duration": -36,
    "start_time": "2022-01-30T14:34:27.533Z"
   },
   {
    "duration": -38,
    "start_time": "2022-01-30T14:34:27.536Z"
   },
   {
    "duration": -49,
    "start_time": "2022-01-30T14:34:27.548Z"
   },
   {
    "duration": -53,
    "start_time": "2022-01-30T14:34:27.553Z"
   },
   {
    "duration": -60,
    "start_time": "2022-01-30T14:34:27.561Z"
   },
   {
    "duration": -63,
    "start_time": "2022-01-30T14:34:27.564Z"
   },
   {
    "duration": -64,
    "start_time": "2022-01-30T14:34:27.566Z"
   },
   {
    "duration": -71,
    "start_time": "2022-01-30T14:34:27.574Z"
   },
   {
    "duration": -76,
    "start_time": "2022-01-30T14:34:27.580Z"
   },
   {
    "duration": -78,
    "start_time": "2022-01-30T14:34:27.583Z"
   },
   {
    "duration": 2661,
    "start_time": "2022-01-30T14:35:16.862Z"
   },
   {
    "duration": 1061,
    "start_time": "2022-01-30T14:35:25.954Z"
   },
   {
    "duration": 4,
    "start_time": "2022-01-30T14:35:27.018Z"
   },
   {
    "duration": 45,
    "start_time": "2022-01-30T14:35:27.025Z"
   },
   {
    "duration": 8,
    "start_time": "2022-01-30T14:35:27.072Z"
   },
   {
    "duration": 18,
    "start_time": "2022-01-30T14:35:27.083Z"
   },
   {
    "duration": 168,
    "start_time": "2022-01-30T14:35:27.107Z"
   },
   {
    "duration": 9,
    "start_time": "2022-01-30T14:35:27.277Z"
   },
   {
    "duration": 35,
    "start_time": "2022-01-30T14:35:27.290Z"
   },
   {
    "duration": 28,
    "start_time": "2022-01-30T14:35:27.328Z"
   },
   {
    "duration": 111,
    "start_time": "2022-01-30T14:35:27.358Z"
   },
   {
    "duration": 15,
    "start_time": "2022-01-30T14:35:27.471Z"
   },
   {
    "duration": 28,
    "start_time": "2022-01-30T14:35:27.489Z"
   },
   {
    "duration": 142,
    "start_time": "2022-01-30T14:35:27.519Z"
   },
   {
    "duration": 11,
    "start_time": "2022-01-30T14:35:27.663Z"
   },
   {
    "duration": 34,
    "start_time": "2022-01-30T14:35:27.676Z"
   },
   {
    "duration": 32,
    "start_time": "2022-01-30T14:35:27.713Z"
   },
   {
    "duration": 26,
    "start_time": "2022-01-30T14:35:27.747Z"
   },
   {
    "duration": 10,
    "start_time": "2022-01-30T14:35:27.776Z"
   },
   {
    "duration": 77,
    "start_time": "2022-01-30T14:35:27.788Z"
   },
   {
    "duration": 20,
    "start_time": "2022-01-30T14:35:27.867Z"
   },
   {
    "duration": 6,
    "start_time": "2022-01-30T14:35:27.907Z"
   },
   {
    "duration": 26,
    "start_time": "2022-01-30T14:35:27.915Z"
   },
   {
    "duration": 11,
    "start_time": "2022-01-30T14:35:27.947Z"
   },
   {
    "duration": 16,
    "start_time": "2022-01-30T14:35:27.961Z"
   },
   {
    "duration": 11,
    "start_time": "2022-01-30T14:35:28.008Z"
   },
   {
    "duration": 27,
    "start_time": "2022-01-30T14:35:28.021Z"
   },
   {
    "duration": 113,
    "start_time": "2022-01-30T14:35:28.049Z"
   },
   {
    "duration": 8,
    "start_time": "2022-01-30T14:35:28.164Z"
   },
   {
    "duration": 48,
    "start_time": "2022-01-30T14:35:28.174Z"
   },
   {
    "duration": 7,
    "start_time": "2022-01-30T14:35:28.224Z"
   },
   {
    "duration": 14,
    "start_time": "2022-01-30T14:35:28.233Z"
   },
   {
    "duration": 28,
    "start_time": "2022-01-30T14:35:28.249Z"
   },
   {
    "duration": 9,
    "start_time": "2022-01-30T14:35:28.278Z"
   },
   {
    "duration": 22,
    "start_time": "2022-01-30T14:35:28.289Z"
   },
   {
    "duration": 17,
    "start_time": "2022-01-30T14:35:28.313Z"
   },
   {
    "duration": 4,
    "start_time": "2022-01-30T14:35:28.332Z"
   },
   {
    "duration": 11,
    "start_time": "2022-01-30T14:35:28.337Z"
   },
   {
    "duration": 17,
    "start_time": "2022-01-30T14:35:28.349Z"
   },
   {
    "duration": 43,
    "start_time": "2022-01-30T14:35:28.368Z"
   },
   {
    "duration": 4,
    "start_time": "2022-01-30T14:35:28.413Z"
   },
   {
    "duration": 288,
    "start_time": "2022-01-30T14:35:28.419Z"
   },
   {
    "duration": -30,
    "start_time": "2022-01-30T14:35:28.739Z"
   },
   {
    "duration": -32,
    "start_time": "2022-01-30T14:35:28.743Z"
   },
   {
    "duration": -36,
    "start_time": "2022-01-30T14:35:28.748Z"
   },
   {
    "duration": -37,
    "start_time": "2022-01-30T14:35:28.750Z"
   },
   {
    "duration": -40,
    "start_time": "2022-01-30T14:35:28.754Z"
   },
   {
    "duration": -42,
    "start_time": "2022-01-30T14:35:28.757Z"
   },
   {
    "duration": -45,
    "start_time": "2022-01-30T14:35:28.762Z"
   },
   {
    "duration": -51,
    "start_time": "2022-01-30T14:35:28.769Z"
   },
   {
    "duration": -54,
    "start_time": "2022-01-30T14:35:28.773Z"
   },
   {
    "duration": -62,
    "start_time": "2022-01-30T14:35:28.782Z"
   },
   {
    "duration": -65,
    "start_time": "2022-01-30T14:35:28.787Z"
   },
   {
    "duration": 1081,
    "start_time": "2022-01-30T14:38:06.632Z"
   },
   {
    "duration": 2,
    "start_time": "2022-01-30T14:38:07.716Z"
   },
   {
    "duration": 54,
    "start_time": "2022-01-30T14:38:07.721Z"
   },
   {
    "duration": 7,
    "start_time": "2022-01-30T14:38:07.777Z"
   },
   {
    "duration": 19,
    "start_time": "2022-01-30T14:38:07.786Z"
   },
   {
    "duration": 172,
    "start_time": "2022-01-30T14:38:07.807Z"
   },
   {
    "duration": 8,
    "start_time": "2022-01-30T14:38:07.981Z"
   },
   {
    "duration": 28,
    "start_time": "2022-01-30T14:38:07.992Z"
   },
   {
    "duration": 29,
    "start_time": "2022-01-30T14:38:08.022Z"
   },
   {
    "duration": 112,
    "start_time": "2022-01-30T14:38:08.053Z"
   },
   {
    "duration": 16,
    "start_time": "2022-01-30T14:38:08.166Z"
   },
   {
    "duration": 31,
    "start_time": "2022-01-30T14:38:08.184Z"
   },
   {
    "duration": 142,
    "start_time": "2022-01-30T14:38:08.217Z"
   },
   {
    "duration": 10,
    "start_time": "2022-01-30T14:38:08.360Z"
   },
   {
    "duration": 22,
    "start_time": "2022-01-30T14:38:08.372Z"
   },
   {
    "duration": 39,
    "start_time": "2022-01-30T14:38:08.396Z"
   },
   {
    "duration": 25,
    "start_time": "2022-01-30T14:38:08.437Z"
   },
   {
    "duration": 8,
    "start_time": "2022-01-30T14:38:08.464Z"
   },
   {
    "duration": 74,
    "start_time": "2022-01-30T14:38:08.474Z"
   },
   {
    "duration": 21,
    "start_time": "2022-01-30T14:38:08.550Z"
   },
   {
    "duration": 7,
    "start_time": "2022-01-30T14:38:08.573Z"
   },
   {
    "duration": 40,
    "start_time": "2022-01-30T14:38:08.582Z"
   },
   {
    "duration": 12,
    "start_time": "2022-01-30T14:38:08.627Z"
   },
   {
    "duration": 17,
    "start_time": "2022-01-30T14:38:08.642Z"
   },
   {
    "duration": 12,
    "start_time": "2022-01-30T14:38:08.661Z"
   },
   {
    "duration": 16,
    "start_time": "2022-01-30T14:38:08.708Z"
   },
   {
    "duration": 128,
    "start_time": "2022-01-30T14:38:08.727Z"
   },
   {
    "duration": 10,
    "start_time": "2022-01-30T14:38:08.857Z"
   },
   {
    "duration": 46,
    "start_time": "2022-01-30T14:38:08.869Z"
   },
   {
    "duration": 8,
    "start_time": "2022-01-30T14:38:08.917Z"
   },
   {
    "duration": 23,
    "start_time": "2022-01-30T14:38:08.927Z"
   },
   {
    "duration": 18,
    "start_time": "2022-01-30T14:38:08.952Z"
   },
   {
    "duration": 6,
    "start_time": "2022-01-30T14:38:08.972Z"
   },
   {
    "duration": 30,
    "start_time": "2022-01-30T14:38:08.980Z"
   },
   {
    "duration": 22,
    "start_time": "2022-01-30T14:38:09.012Z"
   },
   {
    "duration": 3,
    "start_time": "2022-01-30T14:38:09.036Z"
   },
   {
    "duration": 10,
    "start_time": "2022-01-30T14:38:09.041Z"
   },
   {
    "duration": 18,
    "start_time": "2022-01-30T14:38:09.053Z"
   },
   {
    "duration": 43,
    "start_time": "2022-01-30T14:38:09.073Z"
   },
   {
    "duration": 4,
    "start_time": "2022-01-30T14:38:09.118Z"
   },
   {
    "duration": 564,
    "start_time": "2022-01-30T14:38:09.124Z"
   },
   {
    "duration": -990,
    "start_time": "2022-01-30T14:38:10.680Z"
   },
   {
    "duration": -995,
    "start_time": "2022-01-30T14:38:10.686Z"
   },
   {
    "duration": -998,
    "start_time": "2022-01-30T14:38:10.690Z"
   },
   {
    "duration": -1003,
    "start_time": "2022-01-30T14:38:10.696Z"
   },
   {
    "duration": -1008,
    "start_time": "2022-01-30T14:38:10.702Z"
   },
   {
    "duration": -1011,
    "start_time": "2022-01-30T14:38:10.707Z"
   },
   {
    "duration": -1013,
    "start_time": "2022-01-30T14:38:10.710Z"
   },
   {
    "duration": -1015,
    "start_time": "2022-01-30T14:38:10.712Z"
   },
   {
    "duration": -1018,
    "start_time": "2022-01-30T14:38:10.716Z"
   },
   {
    "duration": -1018,
    "start_time": "2022-01-30T14:38:10.718Z"
   },
   {
    "duration": -1027,
    "start_time": "2022-01-30T14:38:10.728Z"
   },
   {
    "duration": 1088,
    "start_time": "2022-01-30T14:38:42.735Z"
   },
   {
    "duration": 4,
    "start_time": "2022-01-30T14:38:43.825Z"
   },
   {
    "duration": 44,
    "start_time": "2022-01-30T14:38:44.331Z"
   },
   {
    "duration": 8,
    "start_time": "2022-01-30T14:38:44.804Z"
   },
   {
    "duration": 17,
    "start_time": "2022-01-30T14:38:46.240Z"
   },
   {
    "duration": 165,
    "start_time": "2022-01-30T14:38:47.260Z"
   },
   {
    "duration": 10,
    "start_time": "2022-01-30T14:38:47.717Z"
   },
   {
    "duration": 26,
    "start_time": "2022-01-30T14:38:48.225Z"
   },
   {
    "duration": 31,
    "start_time": "2022-01-30T14:38:48.721Z"
   },
   {
    "duration": 129,
    "start_time": "2022-01-30T14:38:50.763Z"
   },
   {
    "duration": 18,
    "start_time": "2022-01-30T14:38:51.266Z"
   },
   {
    "duration": 16,
    "start_time": "2022-01-30T14:38:52.021Z"
   },
   {
    "duration": 182,
    "start_time": "2022-01-30T14:38:54.015Z"
   },
   {
    "duration": 9,
    "start_time": "2022-01-30T14:38:54.476Z"
   },
   {
    "duration": 20,
    "start_time": "2022-01-30T14:38:54.882Z"
   },
   {
    "duration": 31,
    "start_time": "2022-01-30T14:38:55.351Z"
   },
   {
    "duration": 24,
    "start_time": "2022-01-30T14:38:57.133Z"
   },
   {
    "duration": 7,
    "start_time": "2022-01-30T14:38:57.507Z"
   },
   {
    "duration": 61,
    "start_time": "2022-01-30T14:39:00.854Z"
   },
   {
    "duration": 24,
    "start_time": "2022-01-30T14:39:01.359Z"
   },
   {
    "duration": 6,
    "start_time": "2022-01-30T14:39:02.929Z"
   },
   {
    "duration": 19,
    "start_time": "2022-01-30T14:39:03.388Z"
   },
   {
    "duration": 11,
    "start_time": "2022-01-30T14:39:03.883Z"
   },
   {
    "duration": 17,
    "start_time": "2022-01-30T14:39:04.958Z"
   },
   {
    "duration": 12,
    "start_time": "2022-01-30T14:39:05.918Z"
   },
   {
    "duration": 18,
    "start_time": "2022-01-30T14:39:06.925Z"
   },
   {
    "duration": 111,
    "start_time": "2022-01-30T14:39:07.907Z"
   },
   {
    "duration": 10,
    "start_time": "2022-01-30T14:39:11.135Z"
   },
   {
    "duration": 30,
    "start_time": "2022-01-30T14:39:13.040Z"
   },
   {
    "duration": 7,
    "start_time": "2022-01-30T14:39:13.875Z"
   },
   {
    "duration": 10,
    "start_time": "2022-01-30T14:39:16.220Z"
   },
   {
    "duration": 16,
    "start_time": "2022-01-30T14:39:18.628Z"
   },
   {
    "duration": 8,
    "start_time": "2022-01-30T14:39:24.687Z"
   },
   {
    "duration": 9,
    "start_time": "2022-01-30T14:39:27.157Z"
   },
   {
    "duration": 17,
    "start_time": "2022-01-30T14:39:29.410Z"
   },
   {
    "duration": 4,
    "start_time": "2022-01-30T14:39:30.268Z"
   },
   {
    "duration": 9,
    "start_time": "2022-01-30T14:39:32.598Z"
   },
   {
    "duration": 15,
    "start_time": "2022-01-30T14:39:39.981Z"
   },
   {
    "duration": 16,
    "start_time": "2022-01-30T14:39:42.190Z"
   },
   {
    "duration": 13,
    "start_time": "2022-01-30T14:39:55.341Z"
   },
   {
    "duration": 7,
    "start_time": "2022-01-30T14:40:05.614Z"
   },
   {
    "duration": 256,
    "start_time": "2022-01-31T03:06:57.772Z"
   },
   {
    "duration": 1041,
    "start_time": "2022-01-31T03:07:09.951Z"
   },
   {
    "duration": 2,
    "start_time": "2022-01-31T03:07:10.995Z"
   },
   {
    "duration": 83,
    "start_time": "2022-01-31T03:07:10.999Z"
   },
   {
    "duration": 8,
    "start_time": "2022-01-31T03:07:11.084Z"
   },
   {
    "duration": 18,
    "start_time": "2022-01-31T03:07:11.093Z"
   },
   {
    "duration": 160,
    "start_time": "2022-01-31T03:07:11.113Z"
   },
   {
    "duration": 8,
    "start_time": "2022-01-31T03:07:11.275Z"
   },
   {
    "duration": 27,
    "start_time": "2022-01-31T03:07:11.286Z"
   },
   {
    "duration": 27,
    "start_time": "2022-01-31T03:07:11.316Z"
   },
   {
    "duration": 109,
    "start_time": "2022-01-31T03:07:11.345Z"
   },
   {
    "duration": 15,
    "start_time": "2022-01-31T03:07:11.456Z"
   },
   {
    "duration": 28,
    "start_time": "2022-01-31T03:07:11.472Z"
   },
   {
    "duration": 130,
    "start_time": "2022-01-31T03:07:11.502Z"
   },
   {
    "duration": 9,
    "start_time": "2022-01-31T03:07:11.633Z"
   },
   {
    "duration": 21,
    "start_time": "2022-01-31T03:07:11.644Z"
   },
   {
    "duration": 51,
    "start_time": "2022-01-31T03:07:11.667Z"
   },
   {
    "duration": 23,
    "start_time": "2022-01-31T03:07:11.720Z"
   },
   {
    "duration": 10,
    "start_time": "2022-01-31T03:07:11.745Z"
   },
   {
    "duration": 69,
    "start_time": "2022-01-31T03:07:11.757Z"
   },
   {
    "duration": 19,
    "start_time": "2022-01-31T03:07:11.827Z"
   },
   {
    "duration": 5,
    "start_time": "2022-01-31T03:07:11.848Z"
   },
   {
    "duration": 20,
    "start_time": "2022-01-31T03:07:11.854Z"
   },
   {
    "duration": 9,
    "start_time": "2022-01-31T03:07:11.899Z"
   },
   {
    "duration": 15,
    "start_time": "2022-01-31T03:07:11.910Z"
   },
   {
    "duration": 9,
    "start_time": "2022-01-31T03:07:11.927Z"
   },
   {
    "duration": 13,
    "start_time": "2022-01-31T03:07:11.937Z"
   },
   {
    "duration": 132,
    "start_time": "2022-01-31T03:07:11.951Z"
   },
   {
    "duration": 16,
    "start_time": "2022-01-31T03:07:12.084Z"
   },
   {
    "duration": 29,
    "start_time": "2022-01-31T03:07:12.102Z"
   },
   {
    "duration": 7,
    "start_time": "2022-01-31T03:07:12.133Z"
   },
   {
    "duration": 9,
    "start_time": "2022-01-31T03:07:12.142Z"
   },
   {
    "duration": 13,
    "start_time": "2022-01-31T03:07:12.153Z"
   },
   {
    "duration": 32,
    "start_time": "2022-01-31T03:07:12.168Z"
   },
   {
    "duration": 8,
    "start_time": "2022-01-31T03:07:12.201Z"
   },
   {
    "duration": 17,
    "start_time": "2022-01-31T03:07:12.211Z"
   },
   {
    "duration": 3,
    "start_time": "2022-01-31T03:07:12.230Z"
   },
   {
    "duration": 9,
    "start_time": "2022-01-31T03:07:12.235Z"
   },
   {
    "duration": 14,
    "start_time": "2022-01-31T03:07:12.246Z"
   },
   {
    "duration": 50,
    "start_time": "2022-01-31T03:07:12.262Z"
   },
   {
    "duration": 7,
    "start_time": "2022-01-31T03:07:12.314Z"
   },
   {
    "duration": 3,
    "start_time": "2022-01-31T03:07:12.322Z"
   },
   {
    "duration": 301,
    "start_time": "2022-01-31T03:07:12.326Z"
   },
   {
    "duration": 1544,
    "start_time": "2022-01-31T03:07:11.085Z"
   },
   {
    "duration": 1542,
    "start_time": "2022-01-31T03:07:11.088Z"
   },
   {
    "duration": 1540,
    "start_time": "2022-01-31T03:07:11.091Z"
   },
   {
    "duration": 1538,
    "start_time": "2022-01-31T03:07:11.094Z"
   },
   {
    "duration": 1531,
    "start_time": "2022-01-31T03:07:11.102Z"
   },
   {
    "duration": 1528,
    "start_time": "2022-01-31T03:07:11.106Z"
   },
   {
    "duration": 1527,
    "start_time": "2022-01-31T03:07:11.108Z"
   },
   {
    "duration": 1523,
    "start_time": "2022-01-31T03:07:11.112Z"
   },
   {
    "duration": 1522,
    "start_time": "2022-01-31T03:07:11.114Z"
   },
   {
    "duration": 1520,
    "start_time": "2022-01-31T03:07:11.117Z"
   },
   {
    "duration": 1518,
    "start_time": "2022-01-31T03:07:11.120Z"
   },
   {
    "duration": 1058,
    "start_time": "2022-01-31T03:07:51.839Z"
   },
   {
    "duration": 3,
    "start_time": "2022-01-31T03:07:52.899Z"
   },
   {
    "duration": 47,
    "start_time": "2022-01-31T03:07:52.904Z"
   },
   {
    "duration": 7,
    "start_time": "2022-01-31T03:07:52.953Z"
   },
   {
    "duration": 15,
    "start_time": "2022-01-31T03:07:52.962Z"
   },
   {
    "duration": 160,
    "start_time": "2022-01-31T03:07:52.979Z"
   },
   {
    "duration": 8,
    "start_time": "2022-01-31T03:07:53.140Z"
   },
   {
    "duration": 24,
    "start_time": "2022-01-31T03:07:53.151Z"
   },
   {
    "duration": 41,
    "start_time": "2022-01-31T03:07:53.177Z"
   },
   {
    "duration": 94,
    "start_time": "2022-01-31T03:07:53.219Z"
   },
   {
    "duration": 15,
    "start_time": "2022-01-31T03:07:53.315Z"
   },
   {
    "duration": 16,
    "start_time": "2022-01-31T03:07:53.332Z"
   },
   {
    "duration": 142,
    "start_time": "2022-01-31T03:07:53.350Z"
   },
   {
    "duration": 10,
    "start_time": "2022-01-31T03:07:53.494Z"
   },
   {
    "duration": 22,
    "start_time": "2022-01-31T03:07:53.506Z"
   },
   {
    "duration": 27,
    "start_time": "2022-01-31T03:07:53.530Z"
   },
   {
    "duration": 22,
    "start_time": "2022-01-31T03:07:53.559Z"
   },
   {
    "duration": 7,
    "start_time": "2022-01-31T03:07:53.599Z"
   },
   {
    "duration": 53,
    "start_time": "2022-01-31T03:07:53.608Z"
   },
   {
    "duration": 37,
    "start_time": "2022-01-31T03:07:53.663Z"
   },
   {
    "duration": 5,
    "start_time": "2022-01-31T03:07:53.702Z"
   },
   {
    "duration": 25,
    "start_time": "2022-01-31T03:07:53.708Z"
   },
   {
    "duration": 10,
    "start_time": "2022-01-31T03:07:53.737Z"
   },
   {
    "duration": 15,
    "start_time": "2022-01-31T03:07:53.749Z"
   },
   {
    "duration": 39,
    "start_time": "2022-01-31T03:07:53.766Z"
   },
   {
    "duration": 13,
    "start_time": "2022-01-31T03:07:53.807Z"
   },
   {
    "duration": 118,
    "start_time": "2022-01-31T03:07:53.821Z"
   },
   {
    "duration": 8,
    "start_time": "2022-01-31T03:07:53.941Z"
   },
   {
    "duration": 31,
    "start_time": "2022-01-31T03:07:53.951Z"
   },
   {
    "duration": 21,
    "start_time": "2022-01-31T03:07:53.984Z"
   },
   {
    "duration": 10,
    "start_time": "2022-01-31T03:07:54.007Z"
   },
   {
    "duration": 18,
    "start_time": "2022-01-31T03:07:54.019Z"
   },
   {
    "duration": 6,
    "start_time": "2022-01-31T03:07:54.039Z"
   },
   {
    "duration": 10,
    "start_time": "2022-01-31T03:07:54.047Z"
   },
   {
    "duration": 45,
    "start_time": "2022-01-31T03:07:54.059Z"
   },
   {
    "duration": 4,
    "start_time": "2022-01-31T03:07:54.106Z"
   },
   {
    "duration": 18,
    "start_time": "2022-01-31T03:07:54.112Z"
   },
   {
    "duration": 17,
    "start_time": "2022-01-31T03:07:54.132Z"
   },
   {
    "duration": 14,
    "start_time": "2022-01-31T03:07:54.151Z"
   },
   {
    "duration": 10,
    "start_time": "2022-01-31T03:07:54.167Z"
   },
   {
    "duration": 32,
    "start_time": "2022-01-31T03:07:54.179Z"
   },
   {
    "duration": 17,
    "start_time": "2022-01-31T03:07:54.213Z"
   },
   {
    "duration": 6,
    "start_time": "2022-01-31T03:07:54.232Z"
   },
   {
    "duration": 5,
    "start_time": "2022-01-31T03:07:54.240Z"
   },
   {
    "duration": 19,
    "start_time": "2022-01-31T03:07:54.247Z"
   },
   {
    "duration": 34,
    "start_time": "2022-01-31T03:07:54.268Z"
   },
   {
    "duration": 4,
    "start_time": "2022-01-31T03:07:54.303Z"
   },
   {
    "duration": 20,
    "start_time": "2022-01-31T03:07:54.309Z"
   },
   {
    "duration": 205,
    "start_time": "2022-01-31T03:07:54.331Z"
   },
   {
    "duration": 4,
    "start_time": "2022-01-31T03:07:54.538Z"
   },
   {
    "duration": 19,
    "start_time": "2022-01-31T03:07:54.543Z"
   },
   {
    "duration": 16,
    "start_time": "2022-01-31T03:07:54.563Z"
   },
   {
    "duration": 1073,
    "start_time": "2022-01-31T03:08:54.917Z"
   },
   {
    "duration": 3,
    "start_time": "2022-01-31T03:08:55.992Z"
   },
   {
    "duration": 50,
    "start_time": "2022-01-31T03:08:55.998Z"
   },
   {
    "duration": 7,
    "start_time": "2022-01-31T03:08:56.050Z"
   },
   {
    "duration": 16,
    "start_time": "2022-01-31T03:08:56.059Z"
   },
   {
    "duration": 154,
    "start_time": "2022-01-31T03:08:56.077Z"
   },
   {
    "duration": 8,
    "start_time": "2022-01-31T03:08:56.233Z"
   },
   {
    "duration": 23,
    "start_time": "2022-01-31T03:08:56.243Z"
   },
   {
    "duration": 45,
    "start_time": "2022-01-31T03:08:56.268Z"
   },
   {
    "duration": 95,
    "start_time": "2022-01-31T03:08:56.315Z"
   },
   {
    "duration": 16,
    "start_time": "2022-01-31T03:08:56.411Z"
   },
   {
    "duration": 14,
    "start_time": "2022-01-31T03:08:56.429Z"
   },
   {
    "duration": 142,
    "start_time": "2022-01-31T03:08:56.445Z"
   },
   {
    "duration": 10,
    "start_time": "2022-01-31T03:08:56.589Z"
   },
   {
    "duration": 17,
    "start_time": "2022-01-31T03:08:56.601Z"
   },
   {
    "duration": 27,
    "start_time": "2022-01-31T03:08:56.620Z"
   },
   {
    "duration": 22,
    "start_time": "2022-01-31T03:08:56.649Z"
   },
   {
    "duration": 27,
    "start_time": "2022-01-31T03:08:56.673Z"
   },
   {
    "duration": 55,
    "start_time": "2022-01-31T03:08:56.702Z"
   },
   {
    "duration": 19,
    "start_time": "2022-01-31T03:08:56.759Z"
   },
   {
    "duration": 5,
    "start_time": "2022-01-31T03:08:56.798Z"
   },
   {
    "duration": 21,
    "start_time": "2022-01-31T03:08:56.805Z"
   },
   {
    "duration": 9,
    "start_time": "2022-01-31T03:08:56.830Z"
   },
   {
    "duration": 15,
    "start_time": "2022-01-31T03:08:56.841Z"
   },
   {
    "duration": 9,
    "start_time": "2022-01-31T03:08:56.858Z"
   },
   {
    "duration": 39,
    "start_time": "2022-01-31T03:08:56.869Z"
   },
   {
    "duration": 120,
    "start_time": "2022-01-31T03:08:56.910Z"
   },
   {
    "duration": 8,
    "start_time": "2022-01-31T03:08:57.032Z"
   },
   {
    "duration": 31,
    "start_time": "2022-01-31T03:08:57.042Z"
   },
   {
    "duration": 24,
    "start_time": "2022-01-31T03:08:57.075Z"
   },
   {
    "duration": 7,
    "start_time": "2022-01-31T03:08:57.101Z"
   },
   {
    "duration": 16,
    "start_time": "2022-01-31T03:08:57.110Z"
   },
   {
    "duration": 7,
    "start_time": "2022-01-31T03:08:57.127Z"
   },
   {
    "duration": 11,
    "start_time": "2022-01-31T03:08:57.136Z"
   },
   {
    "duration": 19,
    "start_time": "2022-01-31T03:08:57.149Z"
   },
   {
    "duration": 4,
    "start_time": "2022-01-31T03:08:57.198Z"
   },
   {
    "duration": 11,
    "start_time": "2022-01-31T03:08:57.204Z"
   },
   {
    "duration": 18,
    "start_time": "2022-01-31T03:08:57.216Z"
   },
   {
    "duration": 14,
    "start_time": "2022-01-31T03:08:57.236Z"
   },
   {
    "duration": 7,
    "start_time": "2022-01-31T03:08:57.252Z"
   },
   {
    "duration": 46,
    "start_time": "2022-01-31T03:08:57.261Z"
   },
   {
    "duration": 9,
    "start_time": "2022-01-31T03:08:57.309Z"
   },
   {
    "duration": 19,
    "start_time": "2022-01-31T03:08:57.319Z"
   },
   {
    "duration": 9,
    "start_time": "2022-01-31T03:08:57.340Z"
   },
   {
    "duration": 51,
    "start_time": "2022-01-31T03:08:57.351Z"
   },
   {
    "duration": 8,
    "start_time": "2022-01-31T03:08:57.404Z"
   },
   {
    "duration": 14,
    "start_time": "2022-01-31T03:08:57.414Z"
   },
   {
    "duration": 6,
    "start_time": "2022-01-31T03:08:57.430Z"
   },
   {
    "duration": 17,
    "start_time": "2022-01-31T03:08:57.438Z"
   },
   {
    "duration": 232,
    "start_time": "2022-01-31T03:08:57.457Z"
   },
   {
    "duration": 8,
    "start_time": "2022-01-31T03:08:57.690Z"
   },
   {
    "duration": 16,
    "start_time": "2022-01-31T03:08:57.700Z"
   },
   {
    "duration": 14,
    "start_time": "2022-01-31T03:08:57.718Z"
   },
   {
    "duration": 1034,
    "start_time": "2022-01-31T03:09:26.353Z"
   },
   {
    "duration": 3,
    "start_time": "2022-01-31T03:09:27.389Z"
   },
   {
    "duration": 47,
    "start_time": "2022-01-31T03:09:27.399Z"
   },
   {
    "duration": 9,
    "start_time": "2022-01-31T03:09:27.448Z"
   },
   {
    "duration": 21,
    "start_time": "2022-01-31T03:09:27.460Z"
   },
   {
    "duration": 159,
    "start_time": "2022-01-31T03:09:27.484Z"
   },
   {
    "duration": 8,
    "start_time": "2022-01-31T03:09:27.645Z"
   },
   {
    "duration": 22,
    "start_time": "2022-01-31T03:09:27.657Z"
   },
   {
    "duration": 29,
    "start_time": "2022-01-31T03:09:27.700Z"
   },
   {
    "duration": 106,
    "start_time": "2022-01-31T03:09:27.731Z"
   },
   {
    "duration": 16,
    "start_time": "2022-01-31T03:09:27.840Z"
   },
   {
    "duration": 15,
    "start_time": "2022-01-31T03:09:27.858Z"
   },
   {
    "duration": 145,
    "start_time": "2022-01-31T03:09:27.875Z"
   },
   {
    "duration": 9,
    "start_time": "2022-01-31T03:09:28.021Z"
   },
   {
    "duration": 22,
    "start_time": "2022-01-31T03:09:28.032Z"
   },
   {
    "duration": 45,
    "start_time": "2022-01-31T03:09:28.056Z"
   },
   {
    "duration": 22,
    "start_time": "2022-01-31T03:09:28.103Z"
   },
   {
    "duration": 8,
    "start_time": "2022-01-31T03:09:28.127Z"
   },
   {
    "duration": 66,
    "start_time": "2022-01-31T03:09:28.137Z"
   },
   {
    "duration": 19,
    "start_time": "2022-01-31T03:09:28.205Z"
   },
   {
    "duration": 5,
    "start_time": "2022-01-31T03:09:28.226Z"
   },
   {
    "duration": 26,
    "start_time": "2022-01-31T03:09:28.233Z"
   },
   {
    "duration": 10,
    "start_time": "2022-01-31T03:09:28.262Z"
   },
   {
    "duration": 15,
    "start_time": "2022-01-31T03:09:28.300Z"
   },
   {
    "duration": 10,
    "start_time": "2022-01-31T03:09:28.317Z"
   },
   {
    "duration": 12,
    "start_time": "2022-01-31T03:09:28.328Z"
   },
   {
    "duration": 137,
    "start_time": "2022-01-31T03:09:28.342Z"
   },
   {
    "duration": 17,
    "start_time": "2022-01-31T03:09:28.481Z"
   },
   {
    "duration": 30,
    "start_time": "2022-01-31T03:09:28.500Z"
   },
   {
    "duration": 7,
    "start_time": "2022-01-31T03:09:28.532Z"
   },
   {
    "duration": 9,
    "start_time": "2022-01-31T03:09:28.541Z"
   },
   {
    "duration": 14,
    "start_time": "2022-01-31T03:09:28.552Z"
   },
   {
    "duration": 33,
    "start_time": "2022-01-31T03:09:28.567Z"
   },
   {
    "duration": 8,
    "start_time": "2022-01-31T03:09:28.602Z"
   },
   {
    "duration": 20,
    "start_time": "2022-01-31T03:09:28.612Z"
   },
   {
    "duration": 3,
    "start_time": "2022-01-31T03:09:28.634Z"
   },
   {
    "duration": 10,
    "start_time": "2022-01-31T03:09:28.639Z"
   },
   {
    "duration": 17,
    "start_time": "2022-01-31T03:09:28.651Z"
   },
   {
    "duration": 15,
    "start_time": "2022-01-31T03:09:28.698Z"
   },
   {
    "duration": 6,
    "start_time": "2022-01-31T03:09:28.715Z"
   },
   {
    "duration": 17,
    "start_time": "2022-01-31T03:09:28.723Z"
   },
   {
    "duration": 6,
    "start_time": "2022-01-31T03:09:28.741Z"
   },
   {
    "duration": 308,
    "start_time": "2022-01-31T03:09:28.749Z"
   },
   {
    "duration": 1530,
    "start_time": "2022-01-31T03:09:27.529Z"
   },
   {
    "duration": 1525,
    "start_time": "2022-01-31T03:09:27.535Z"
   },
   {
    "duration": 1522,
    "start_time": "2022-01-31T03:09:27.539Z"
   },
   {
    "duration": 1517,
    "start_time": "2022-01-31T03:09:27.545Z"
   },
   {
    "duration": 1512,
    "start_time": "2022-01-31T03:09:27.551Z"
   },
   {
    "duration": 1508,
    "start_time": "2022-01-31T03:09:27.556Z"
   },
   {
    "duration": 1504,
    "start_time": "2022-01-31T03:09:27.561Z"
   },
   {
    "duration": 1498,
    "start_time": "2022-01-31T03:09:27.567Z"
   },
   {
    "duration": 1497,
    "start_time": "2022-01-31T03:09:27.569Z"
   },
   {
    "duration": 1496,
    "start_time": "2022-01-31T03:09:27.572Z"
   },
   {
    "duration": 1038,
    "start_time": "2022-01-31T03:10:06.461Z"
   },
   {
    "duration": 2,
    "start_time": "2022-01-31T03:10:07.501Z"
   },
   {
    "duration": 45,
    "start_time": "2022-01-31T03:10:08.363Z"
   },
   {
    "duration": 8,
    "start_time": "2022-01-31T03:10:08.809Z"
   },
   {
    "duration": 15,
    "start_time": "2022-01-31T03:10:09.789Z"
   },
   {
    "duration": 159,
    "start_time": "2022-01-31T03:10:10.569Z"
   },
   {
    "duration": 8,
    "start_time": "2022-01-31T03:10:10.978Z"
   },
   {
    "duration": 21,
    "start_time": "2022-01-31T03:10:11.433Z"
   },
   {
    "duration": 28,
    "start_time": "2022-01-31T03:10:11.690Z"
   },
   {
    "duration": 92,
    "start_time": "2022-01-31T03:10:12.308Z"
   },
   {
    "duration": 16,
    "start_time": "2022-01-31T03:10:12.526Z"
   },
   {
    "duration": 14,
    "start_time": "2022-01-31T03:10:12.770Z"
   },
   {
    "duration": 129,
    "start_time": "2022-01-31T03:10:13.528Z"
   },
   {
    "duration": 8,
    "start_time": "2022-01-31T03:10:13.790Z"
   },
   {
    "duration": 19,
    "start_time": "2022-01-31T03:10:14.067Z"
   },
   {
    "duration": 29,
    "start_time": "2022-01-31T03:10:14.343Z"
   },
   {
    "duration": 22,
    "start_time": "2022-01-31T03:10:15.117Z"
   },
   {
    "duration": 7,
    "start_time": "2022-01-31T03:10:15.333Z"
   },
   {
    "duration": 54,
    "start_time": "2022-01-31T03:10:16.762Z"
   },
   {
    "duration": 20,
    "start_time": "2022-01-31T03:10:16.983Z"
   },
   {
    "duration": 6,
    "start_time": "2022-01-31T03:10:17.475Z"
   },
   {
    "duration": 21,
    "start_time": "2022-01-31T03:10:17.740Z"
   },
   {
    "duration": 11,
    "start_time": "2022-01-31T03:10:17.976Z"
   },
   {
    "duration": 16,
    "start_time": "2022-01-31T03:10:18.457Z"
   },
   {
    "duration": 9,
    "start_time": "2022-01-31T03:10:20.646Z"
   },
   {
    "duration": 13,
    "start_time": "2022-01-31T03:10:20.962Z"
   },
   {
    "duration": 107,
    "start_time": "2022-01-31T03:10:21.296Z"
   },
   {
    "duration": 8,
    "start_time": "2022-01-31T03:10:24.715Z"
   },
   {
    "duration": 30,
    "start_time": "2022-01-31T03:10:26.007Z"
   },
   {
    "duration": 7,
    "start_time": "2022-01-31T03:10:27.120Z"
   },
   {
    "duration": 8,
    "start_time": "2022-01-31T03:10:28.377Z"
   },
   {
    "duration": 14,
    "start_time": "2022-01-31T03:10:29.335Z"
   },
   {
    "duration": 8,
    "start_time": "2022-01-31T03:10:30.454Z"
   },
   {
    "duration": 9,
    "start_time": "2022-01-31T03:10:35.133Z"
   },
   {
    "duration": 27,
    "start_time": "2022-01-31T03:10:35.144Z"
   },
   {
    "duration": 4,
    "start_time": "2022-01-31T03:10:35.173Z"
   },
   {
    "duration": 13,
    "start_time": "2022-01-31T03:10:35.178Z"
   },
   {
    "duration": 14,
    "start_time": "2022-01-31T03:10:38.505Z"
   },
   {
    "duration": 15,
    "start_time": "2022-01-31T03:10:39.237Z"
   },
   {
    "duration": 6,
    "start_time": "2022-01-31T03:10:40.370Z"
   },
   {
    "duration": 17,
    "start_time": "2022-01-31T03:10:42.119Z"
   },
   {
    "duration": 8,
    "start_time": "2022-01-31T03:10:43.983Z"
   },
   {
    "duration": 5,
    "start_time": "2022-01-31T03:10:44.693Z"
   },
   {
    "duration": 314,
    "start_time": "2022-01-31T03:10:47.295Z"
   },
   {
    "duration": 227,
    "start_time": "2022-01-31T03:12:51.429Z"
   },
   {
    "duration": 212,
    "start_time": "2022-01-31T03:15:17.437Z"
   },
   {
    "duration": 1048,
    "start_time": "2022-01-31T03:16:14.847Z"
   },
   {
    "duration": 3,
    "start_time": "2022-01-31T03:16:15.897Z"
   },
   {
    "duration": 47,
    "start_time": "2022-01-31T03:16:15.902Z"
   },
   {
    "duration": 7,
    "start_time": "2022-01-31T03:16:15.951Z"
   },
   {
    "duration": 16,
    "start_time": "2022-01-31T03:16:15.959Z"
   },
   {
    "duration": 153,
    "start_time": "2022-01-31T03:16:15.977Z"
   },
   {
    "duration": 7,
    "start_time": "2022-01-31T03:16:16.132Z"
   },
   {
    "duration": 22,
    "start_time": "2022-01-31T03:16:16.142Z"
   },
   {
    "duration": 41,
    "start_time": "2022-01-31T03:16:16.166Z"
   },
   {
    "duration": 98,
    "start_time": "2022-01-31T03:16:16.209Z"
   },
   {
    "duration": 16,
    "start_time": "2022-01-31T03:16:16.308Z"
   },
   {
    "duration": 15,
    "start_time": "2022-01-31T03:16:16.326Z"
   },
   {
    "duration": 141,
    "start_time": "2022-01-31T03:16:16.342Z"
   },
   {
    "duration": 13,
    "start_time": "2022-01-31T03:16:16.485Z"
   },
   {
    "duration": 18,
    "start_time": "2022-01-31T03:16:16.500Z"
   },
   {
    "duration": 29,
    "start_time": "2022-01-31T03:16:16.520Z"
   },
   {
    "duration": 22,
    "start_time": "2022-01-31T03:16:16.551Z"
   },
   {
    "duration": 25,
    "start_time": "2022-01-31T03:16:16.575Z"
   },
   {
    "duration": 56,
    "start_time": "2022-01-31T03:16:16.602Z"
   },
   {
    "duration": 44,
    "start_time": "2022-01-31T03:16:16.660Z"
   },
   {
    "duration": 7,
    "start_time": "2022-01-31T03:16:16.706Z"
   },
   {
    "duration": 21,
    "start_time": "2022-01-31T03:16:16.715Z"
   },
   {
    "duration": 10,
    "start_time": "2022-01-31T03:16:16.742Z"
   },
   {
    "duration": 50,
    "start_time": "2022-01-31T03:16:16.755Z"
   },
   {
    "duration": 11,
    "start_time": "2022-01-31T03:16:16.807Z"
   },
   {
    "duration": 13,
    "start_time": "2022-01-31T03:16:16.820Z"
   },
   {
    "duration": 141,
    "start_time": "2022-01-31T03:16:16.835Z"
   },
   {
    "duration": 9,
    "start_time": "2022-01-31T03:16:16.978Z"
   },
   {
    "duration": 32,
    "start_time": "2022-01-31T03:16:16.998Z"
   },
   {
    "duration": 9,
    "start_time": "2022-01-31T03:16:17.031Z"
   },
   {
    "duration": 11,
    "start_time": "2022-01-31T03:16:17.042Z"
   },
   {
    "duration": 45,
    "start_time": "2022-01-31T03:16:17.055Z"
   },
   {
    "duration": 8,
    "start_time": "2022-01-31T03:16:17.102Z"
   },
   {
    "duration": 10,
    "start_time": "2022-01-31T03:16:17.112Z"
   },
   {
    "duration": 17,
    "start_time": "2022-01-31T03:16:17.124Z"
   },
   {
    "duration": 4,
    "start_time": "2022-01-31T03:16:17.143Z"
   },
   {
    "duration": 9,
    "start_time": "2022-01-31T03:16:17.149Z"
   },
   {
    "duration": 51,
    "start_time": "2022-01-31T03:16:17.159Z"
   },
   {
    "duration": 14,
    "start_time": "2022-01-31T03:16:17.212Z"
   },
   {
    "duration": 6,
    "start_time": "2022-01-31T03:16:17.228Z"
   },
   {
    "duration": 16,
    "start_time": "2022-01-31T03:16:17.235Z"
   },
   {
    "duration": 7,
    "start_time": "2022-01-31T03:16:17.253Z"
   },
   {
    "duration": 7,
    "start_time": "2022-01-31T03:16:17.298Z"
   },
   {
    "duration": 18,
    "start_time": "2022-01-31T03:16:17.307Z"
   },
   {
    "duration": 6,
    "start_time": "2022-01-31T03:16:17.327Z"
   },
   {
    "duration": 5,
    "start_time": "2022-01-31T03:16:17.335Z"
   },
   {
    "duration": 8,
    "start_time": "2022-01-31T03:16:17.341Z"
   },
   {
    "duration": 48,
    "start_time": "2022-01-31T03:16:17.351Z"
   },
   {
    "duration": 5,
    "start_time": "2022-01-31T03:16:17.400Z"
   },
   {
    "duration": 19,
    "start_time": "2022-01-31T03:16:17.406Z"
   },
   {
    "duration": 206,
    "start_time": "2022-01-31T03:16:17.427Z"
   },
   {
    "duration": 4,
    "start_time": "2022-01-31T03:16:17.635Z"
   },
   {
    "duration": 18,
    "start_time": "2022-01-31T03:16:17.641Z"
   },
   {
    "duration": 16,
    "start_time": "2022-01-31T03:16:17.661Z"
   },
   {
    "duration": 1122,
    "start_time": "2022-01-31T03:22:45.869Z"
   },
   {
    "duration": 3,
    "start_time": "2022-01-31T03:22:46.993Z"
   },
   {
    "duration": 42,
    "start_time": "2022-01-31T03:22:46.999Z"
   },
   {
    "duration": 7,
    "start_time": "2022-01-31T03:22:47.043Z"
   },
   {
    "duration": 19,
    "start_time": "2022-01-31T03:22:47.051Z"
   },
   {
    "duration": 1853,
    "start_time": "2022-01-31T03:22:47.072Z"
   },
   {
    "duration": 7,
    "start_time": "2022-01-31T03:22:48.927Z"
   },
   {
    "duration": 36,
    "start_time": "2022-01-31T03:22:48.937Z"
   },
   {
    "duration": 38,
    "start_time": "2022-01-31T03:22:48.975Z"
   },
   {
    "duration": 301,
    "start_time": "2022-01-31T03:22:49.014Z"
   },
   {
    "duration": 15,
    "start_time": "2022-01-31T03:22:49.317Z"
   },
   {
    "duration": 19,
    "start_time": "2022-01-31T03:22:49.334Z"
   },
   {
    "duration": 142,
    "start_time": "2022-01-31T03:22:49.354Z"
   },
   {
    "duration": 8,
    "start_time": "2022-01-31T03:22:49.498Z"
   },
   {
    "duration": 25,
    "start_time": "2022-01-31T03:22:49.508Z"
   },
   {
    "duration": 36,
    "start_time": "2022-01-31T03:22:49.535Z"
   },
   {
    "duration": 21,
    "start_time": "2022-01-31T03:22:49.573Z"
   },
   {
    "duration": 27,
    "start_time": "2022-01-31T03:22:49.595Z"
   },
   {
    "duration": 80,
    "start_time": "2022-01-31T03:22:49.624Z"
   },
   {
    "duration": 21,
    "start_time": "2022-01-31T03:22:49.706Z"
   },
   {
    "duration": 7,
    "start_time": "2022-01-31T03:22:49.729Z"
   },
   {
    "duration": 35,
    "start_time": "2022-01-31T03:22:49.737Z"
   },
   {
    "duration": 22,
    "start_time": "2022-01-31T03:22:49.775Z"
   },
   {
    "duration": 18,
    "start_time": "2022-01-31T03:22:49.799Z"
   },
   {
    "duration": 27,
    "start_time": "2022-01-31T03:22:49.819Z"
   },
   {
    "duration": 29,
    "start_time": "2022-01-31T03:22:49.848Z"
   },
   {
    "duration": 112,
    "start_time": "2022-01-31T03:22:49.879Z"
   },
   {
    "duration": 8,
    "start_time": "2022-01-31T03:22:49.993Z"
   },
   {
    "duration": 62,
    "start_time": "2022-01-31T03:22:50.003Z"
   },
   {
    "duration": 13,
    "start_time": "2022-01-31T03:22:50.066Z"
   },
   {
    "duration": 35,
    "start_time": "2022-01-31T03:22:50.081Z"
   },
   {
    "duration": 45,
    "start_time": "2022-01-31T03:22:50.118Z"
   },
   {
    "duration": 17,
    "start_time": "2022-01-31T03:22:50.165Z"
   },
   {
    "duration": 36,
    "start_time": "2022-01-31T03:22:50.184Z"
   },
   {
    "duration": 36,
    "start_time": "2022-01-31T03:22:50.222Z"
   },
   {
    "duration": 16,
    "start_time": "2022-01-31T03:22:50.260Z"
   },
   {
    "duration": 23,
    "start_time": "2022-01-31T03:22:50.278Z"
   },
   {
    "duration": 25,
    "start_time": "2022-01-31T03:22:50.303Z"
   },
   {
    "duration": 26,
    "start_time": "2022-01-31T03:22:50.330Z"
   },
   {
    "duration": 25,
    "start_time": "2022-01-31T03:22:50.358Z"
   },
   {
    "duration": 36,
    "start_time": "2022-01-31T03:22:50.384Z"
   },
   {
    "duration": 6,
    "start_time": "2022-01-31T03:22:50.422Z"
   },
   {
    "duration": 17,
    "start_time": "2022-01-31T03:22:50.430Z"
   },
   {
    "duration": 13,
    "start_time": "2022-01-31T03:22:50.449Z"
   },
   {
    "duration": 29,
    "start_time": "2022-01-31T03:22:50.464Z"
   },
   {
    "duration": 6,
    "start_time": "2022-01-31T03:22:50.495Z"
   },
   {
    "duration": 20,
    "start_time": "2022-01-31T03:22:50.503Z"
   },
   {
    "duration": 26,
    "start_time": "2022-01-31T03:22:50.525Z"
   },
   {
    "duration": 27,
    "start_time": "2022-01-31T03:22:50.553Z"
   },
   {
    "duration": 5,
    "start_time": "2022-01-31T03:22:50.581Z"
   },
   {
    "duration": 41,
    "start_time": "2022-01-31T03:22:50.587Z"
   },
   {
    "duration": 204,
    "start_time": "2022-01-31T03:22:50.630Z"
   },
   {
    "duration": 4,
    "start_time": "2022-01-31T03:22:50.836Z"
   },
   {
    "duration": 21,
    "start_time": "2022-01-31T03:22:50.842Z"
   },
   {
    "duration": 306,
    "start_time": "2022-01-31T03:22:50.865Z"
   },
   {
    "duration": 1505,
    "start_time": "2022-01-31T03:22:49.668Z"
   },
   {
    "duration": 6,
    "start_time": "2022-01-31T03:22:59.715Z"
   },
   {
    "duration": 19,
    "start_time": "2022-01-31T03:34:56.160Z"
   },
   {
    "duration": 18,
    "start_time": "2022-01-31T03:39:27.615Z"
   },
   {
    "duration": 1054,
    "start_time": "2022-01-31T03:43:58.455Z"
   },
   {
    "duration": 3,
    "start_time": "2022-01-31T03:43:59.511Z"
   },
   {
    "duration": 75,
    "start_time": "2022-01-31T03:43:59.516Z"
   },
   {
    "duration": 8,
    "start_time": "2022-01-31T03:43:59.593Z"
   },
   {
    "duration": 35,
    "start_time": "2022-01-31T03:43:59.602Z"
   },
   {
    "duration": 176,
    "start_time": "2022-01-31T03:43:59.640Z"
   },
   {
    "duration": 8,
    "start_time": "2022-01-31T03:43:59.818Z"
   },
   {
    "duration": 27,
    "start_time": "2022-01-31T03:43:59.827Z"
   },
   {
    "duration": 48,
    "start_time": "2022-01-31T03:43:59.856Z"
   },
   {
    "duration": 102,
    "start_time": "2022-01-31T03:43:59.905Z"
   },
   {
    "duration": 16,
    "start_time": "2022-01-31T03:44:00.008Z"
   },
   {
    "duration": 17,
    "start_time": "2022-01-31T03:44:00.025Z"
   },
   {
    "duration": 158,
    "start_time": "2022-01-31T03:44:00.044Z"
   },
   {
    "duration": 9,
    "start_time": "2022-01-31T03:44:00.203Z"
   },
   {
    "duration": 25,
    "start_time": "2022-01-31T03:44:00.213Z"
   },
   {
    "duration": 29,
    "start_time": "2022-01-31T03:44:00.240Z"
   },
   {
    "duration": 32,
    "start_time": "2022-01-31T03:44:00.270Z"
   },
   {
    "duration": 7,
    "start_time": "2022-01-31T03:44:00.305Z"
   },
   {
    "duration": 62,
    "start_time": "2022-01-31T03:44:00.314Z"
   },
   {
    "duration": 32,
    "start_time": "2022-01-31T03:44:00.378Z"
   },
   {
    "duration": 5,
    "start_time": "2022-01-31T03:44:00.411Z"
   },
   {
    "duration": 24,
    "start_time": "2022-01-31T03:44:00.418Z"
   },
   {
    "duration": 9,
    "start_time": "2022-01-31T03:44:00.444Z"
   },
   {
    "duration": 18,
    "start_time": "2022-01-31T03:44:00.455Z"
   },
   {
    "duration": 31,
    "start_time": "2022-01-31T03:44:00.475Z"
   },
   {
    "duration": 15,
    "start_time": "2022-01-31T03:44:00.508Z"
   },
   {
    "duration": 133,
    "start_time": "2022-01-31T03:44:00.525Z"
   },
   {
    "duration": 8,
    "start_time": "2022-01-31T03:44:00.660Z"
   },
   {
    "duration": 47,
    "start_time": "2022-01-31T03:44:00.670Z"
   },
   {
    "duration": 7,
    "start_time": "2022-01-31T03:44:00.719Z"
   },
   {
    "duration": 15,
    "start_time": "2022-01-31T03:44:00.727Z"
   },
   {
    "duration": 22,
    "start_time": "2022-01-31T03:44:00.744Z"
   },
   {
    "duration": 7,
    "start_time": "2022-01-31T03:44:00.768Z"
   },
   {
    "duration": 29,
    "start_time": "2022-01-31T03:44:00.777Z"
   },
   {
    "duration": 25,
    "start_time": "2022-01-31T03:44:00.807Z"
   },
   {
    "duration": 4,
    "start_time": "2022-01-31T03:44:00.834Z"
   },
   {
    "duration": 16,
    "start_time": "2022-01-31T03:44:00.840Z"
   },
   {
    "duration": 39,
    "start_time": "2022-01-31T03:44:00.858Z"
   },
   {
    "duration": 14,
    "start_time": "2022-01-31T03:44:00.899Z"
   },
   {
    "duration": 9,
    "start_time": "2022-01-31T03:44:00.914Z"
   },
   {
    "duration": 20,
    "start_time": "2022-01-31T03:44:00.924Z"
   },
   {
    "duration": 7,
    "start_time": "2022-01-31T03:44:00.945Z"
   },
   {
    "duration": 12,
    "start_time": "2022-01-31T03:44:00.953Z"
   },
   {
    "duration": 35,
    "start_time": "2022-01-31T03:44:00.967Z"
   },
   {
    "duration": 21,
    "start_time": "2022-01-31T03:44:01.003Z"
   },
   {
    "duration": 8,
    "start_time": "2022-01-31T03:44:01.026Z"
   },
   {
    "duration": 6,
    "start_time": "2022-01-31T03:44:01.036Z"
   },
   {
    "duration": 16,
    "start_time": "2022-01-31T03:44:01.043Z"
   },
   {
    "duration": 23,
    "start_time": "2022-01-31T03:44:01.060Z"
   },
   {
    "duration": 5,
    "start_time": "2022-01-31T03:44:01.098Z"
   },
   {
    "duration": 34,
    "start_time": "2022-01-31T03:44:01.105Z"
   },
   {
    "duration": 203,
    "start_time": "2022-01-31T03:44:01.141Z"
   },
   {
    "duration": 4,
    "start_time": "2022-01-31T03:44:01.347Z"
   },
   {
    "duration": 64,
    "start_time": "2022-01-31T03:44:01.355Z"
   },
   {
    "duration": 7,
    "start_time": "2022-01-31T03:44:01.421Z"
   },
   {
    "duration": 20,
    "start_time": "2022-01-31T03:44:01.429Z"
   },
   {
    "duration": 20,
    "start_time": "2022-01-31T03:44:01.451Z"
   },
   {
    "duration": 39,
    "start_time": "2022-01-31T03:44:01.473Z"
   },
   {
    "duration": 19,
    "start_time": "2022-01-31T03:44:01.514Z"
   },
   {
    "duration": 19,
    "start_time": "2022-01-31T03:44:50.642Z"
   },
   {
    "duration": 120,
    "start_time": "2022-01-31T03:46:03.462Z"
   },
   {
    "duration": 93,
    "start_time": "2022-01-31T03:46:20.792Z"
   },
   {
    "duration": 76,
    "start_time": "2022-01-31T03:47:46.770Z"
   },
   {
    "duration": 1148,
    "start_time": "2022-01-31T03:49:12.055Z"
   },
   {
    "duration": 2,
    "start_time": "2022-01-31T03:49:13.205Z"
   },
   {
    "duration": 59,
    "start_time": "2022-01-31T03:49:13.209Z"
   },
   {
    "duration": 6,
    "start_time": "2022-01-31T03:49:13.270Z"
   },
   {
    "duration": 17,
    "start_time": "2022-01-31T03:49:13.278Z"
   },
   {
    "duration": 159,
    "start_time": "2022-01-31T03:49:13.296Z"
   },
   {
    "duration": 8,
    "start_time": "2022-01-31T03:49:13.457Z"
   },
   {
    "duration": 21,
    "start_time": "2022-01-31T03:49:13.467Z"
   },
   {
    "duration": 28,
    "start_time": "2022-01-31T03:49:13.490Z"
   },
   {
    "duration": 89,
    "start_time": "2022-01-31T03:49:13.520Z"
   },
   {
    "duration": 14,
    "start_time": "2022-01-31T03:49:13.611Z"
   },
   {
    "duration": 13,
    "start_time": "2022-01-31T03:49:13.627Z"
   },
   {
    "duration": 128,
    "start_time": "2022-01-31T03:49:13.642Z"
   },
   {
    "duration": 7,
    "start_time": "2022-01-31T03:49:13.772Z"
   },
   {
    "duration": 19,
    "start_time": "2022-01-31T03:49:13.781Z"
   },
   {
    "duration": 26,
    "start_time": "2022-01-31T03:49:13.802Z"
   },
   {
    "duration": 20,
    "start_time": "2022-01-31T03:49:13.830Z"
   },
   {
    "duration": 6,
    "start_time": "2022-01-31T03:49:13.852Z"
   },
   {
    "duration": 53,
    "start_time": "2022-01-31T03:49:13.859Z"
   },
   {
    "duration": 20,
    "start_time": "2022-01-31T03:49:13.914Z"
   },
   {
    "duration": 5,
    "start_time": "2022-01-31T03:49:13.935Z"
   },
   {
    "duration": 57,
    "start_time": "2022-01-31T03:49:13.942Z"
   },
   {
    "duration": 10,
    "start_time": "2022-01-31T03:49:14.003Z"
   },
   {
    "duration": 15,
    "start_time": "2022-01-31T03:49:14.016Z"
   },
   {
    "duration": 66,
    "start_time": "2022-01-31T03:49:14.033Z"
   },
   {
    "duration": 10,
    "start_time": "2022-01-31T03:49:14.101Z"
   },
   {
    "duration": 213,
    "start_time": "2022-01-31T03:49:14.113Z"
   },
   {
    "duration": 8,
    "start_time": "2022-01-31T03:49:14.328Z"
   },
   {
    "duration": 83,
    "start_time": "2022-01-31T03:49:14.337Z"
   },
   {
    "duration": 7,
    "start_time": "2022-01-31T03:49:14.422Z"
   },
   {
    "duration": 11,
    "start_time": "2022-01-31T03:49:14.430Z"
   },
   {
    "duration": 65,
    "start_time": "2022-01-31T03:49:14.442Z"
   },
   {
    "duration": 7,
    "start_time": "2022-01-31T03:49:14.509Z"
   },
   {
    "duration": 10,
    "start_time": "2022-01-31T03:49:14.518Z"
   },
   {
    "duration": 70,
    "start_time": "2022-01-31T03:49:14.529Z"
   },
   {
    "duration": 4,
    "start_time": "2022-01-31T03:49:14.600Z"
   },
   {
    "duration": 9,
    "start_time": "2022-01-31T03:49:14.606Z"
   },
   {
    "duration": 19,
    "start_time": "2022-01-31T03:49:14.617Z"
   },
   {
    "duration": 64,
    "start_time": "2022-01-31T03:49:14.637Z"
   },
   {
    "duration": 5,
    "start_time": "2022-01-31T03:49:14.703Z"
   },
   {
    "duration": 17,
    "start_time": "2022-01-31T03:49:14.710Z"
   },
   {
    "duration": 7,
    "start_time": "2022-01-31T03:49:14.728Z"
   },
   {
    "duration": 63,
    "start_time": "2022-01-31T03:49:14.736Z"
   },
   {
    "duration": 7,
    "start_time": "2022-01-31T03:49:14.800Z"
   },
   {
    "duration": 23,
    "start_time": "2022-01-31T03:49:14.808Z"
   },
   {
    "duration": 6,
    "start_time": "2022-01-31T03:49:14.833Z"
   },
   {
    "duration": 6,
    "start_time": "2022-01-31T03:49:14.840Z"
   },
   {
    "duration": 56,
    "start_time": "2022-01-31T03:49:14.847Z"
   },
   {
    "duration": 12,
    "start_time": "2022-01-31T03:49:14.905Z"
   },
   {
    "duration": 4,
    "start_time": "2022-01-31T03:49:14.918Z"
   },
   {
    "duration": 16,
    "start_time": "2022-01-31T03:49:14.924Z"
   },
   {
    "duration": 321,
    "start_time": "2022-01-31T03:49:14.942Z"
   },
   {
    "duration": 3,
    "start_time": "2022-01-31T03:49:15.265Z"
   },
   {
    "duration": 28,
    "start_time": "2022-01-31T03:49:15.270Z"
   },
   {
    "duration": 24,
    "start_time": "2022-01-31T03:49:15.299Z"
   },
   {
    "duration": 93,
    "start_time": "2022-01-31T03:49:15.324Z"
   },
   {
    "duration": 1002,
    "start_time": "2022-01-31T03:49:14.417Z"
   },
   {
    "duration": 995,
    "start_time": "2022-01-31T03:49:14.425Z"
   },
   {
    "duration": 989,
    "start_time": "2022-01-31T03:49:14.432Z"
   },
   {
    "duration": 82,
    "start_time": "2022-01-31T03:49:33.736Z"
   },
   {
    "duration": 1104,
    "start_time": "2022-01-31T03:54:05.200Z"
   },
   {
    "duration": 3,
    "start_time": "2022-01-31T03:54:06.306Z"
   },
   {
    "duration": 57,
    "start_time": "2022-01-31T03:54:06.311Z"
   },
   {
    "duration": 8,
    "start_time": "2022-01-31T03:54:06.370Z"
   },
   {
    "duration": 21,
    "start_time": "2022-01-31T03:54:06.379Z"
   },
   {
    "duration": 173,
    "start_time": "2022-01-31T03:54:06.401Z"
   },
   {
    "duration": 7,
    "start_time": "2022-01-31T03:54:06.576Z"
   },
   {
    "duration": 28,
    "start_time": "2022-01-31T03:54:06.586Z"
   },
   {
    "duration": 28,
    "start_time": "2022-01-31T03:54:06.616Z"
   },
   {
    "duration": 107,
    "start_time": "2022-01-31T03:54:06.646Z"
   },
   {
    "duration": 15,
    "start_time": "2022-01-31T03:54:06.754Z"
   },
   {
    "duration": 31,
    "start_time": "2022-01-31T03:54:06.771Z"
   },
   {
    "duration": 135,
    "start_time": "2022-01-31T03:54:06.804Z"
   },
   {
    "duration": 10,
    "start_time": "2022-01-31T03:54:06.940Z"
   },
   {
    "duration": 20,
    "start_time": "2022-01-31T03:54:06.952Z"
   },
   {
    "duration": 46,
    "start_time": "2022-01-31T03:54:06.974Z"
   },
   {
    "duration": 22,
    "start_time": "2022-01-31T03:54:07.022Z"
   },
   {
    "duration": 6,
    "start_time": "2022-01-31T03:54:07.045Z"
   },
   {
    "duration": 71,
    "start_time": "2022-01-31T03:54:07.053Z"
   },
   {
    "duration": 21,
    "start_time": "2022-01-31T03:54:07.126Z"
   },
   {
    "duration": 6,
    "start_time": "2022-01-31T03:54:07.148Z"
   },
   {
    "duration": 43,
    "start_time": "2022-01-31T03:54:07.155Z"
   },
   {
    "duration": 11,
    "start_time": "2022-01-31T03:54:07.202Z"
   },
   {
    "duration": 16,
    "start_time": "2022-01-31T03:54:07.215Z"
   },
   {
    "duration": 10,
    "start_time": "2022-01-31T03:54:07.232Z"
   },
   {
    "duration": 13,
    "start_time": "2022-01-31T03:54:07.243Z"
   },
   {
    "duration": 142,
    "start_time": "2022-01-31T03:54:07.258Z"
   },
   {
    "duration": 8,
    "start_time": "2022-01-31T03:54:07.402Z"
   },
   {
    "duration": 33,
    "start_time": "2022-01-31T03:54:07.412Z"
   },
   {
    "duration": 7,
    "start_time": "2022-01-31T03:54:07.447Z"
   },
   {
    "duration": 9,
    "start_time": "2022-01-31T03:54:07.456Z"
   },
   {
    "duration": 41,
    "start_time": "2022-01-31T03:54:07.467Z"
   },
   {
    "duration": 7,
    "start_time": "2022-01-31T03:54:07.509Z"
   },
   {
    "duration": 9,
    "start_time": "2022-01-31T03:54:07.518Z"
   },
   {
    "duration": 16,
    "start_time": "2022-01-31T03:54:07.528Z"
   },
   {
    "duration": 4,
    "start_time": "2022-01-31T03:54:07.546Z"
   },
   {
    "duration": 9,
    "start_time": "2022-01-31T03:54:07.552Z"
   },
   {
    "duration": 47,
    "start_time": "2022-01-31T03:54:07.562Z"
   },
   {
    "duration": 13,
    "start_time": "2022-01-31T03:54:07.610Z"
   },
   {
    "duration": 5,
    "start_time": "2022-01-31T03:54:07.625Z"
   },
   {
    "duration": 16,
    "start_time": "2022-01-31T03:54:07.632Z"
   },
   {
    "duration": 6,
    "start_time": "2022-01-31T03:54:07.650Z"
   },
   {
    "duration": 43,
    "start_time": "2022-01-31T03:54:07.658Z"
   },
   {
    "duration": 8,
    "start_time": "2022-01-31T03:54:07.703Z"
   },
   {
    "duration": 17,
    "start_time": "2022-01-31T03:54:07.713Z"
   },
   {
    "duration": 6,
    "start_time": "2022-01-31T03:54:07.732Z"
   },
   {
    "duration": 5,
    "start_time": "2022-01-31T03:54:07.739Z"
   },
   {
    "duration": 19,
    "start_time": "2022-01-31T03:54:07.746Z"
   },
   {
    "duration": 35,
    "start_time": "2022-01-31T03:54:07.766Z"
   },
   {
    "duration": 4,
    "start_time": "2022-01-31T03:54:07.803Z"
   },
   {
    "duration": 18,
    "start_time": "2022-01-31T03:54:07.808Z"
   },
   {
    "duration": 208,
    "start_time": "2022-01-31T03:54:07.828Z"
   },
   {
    "duration": 3,
    "start_time": "2022-01-31T03:54:08.038Z"
   },
   {
    "duration": 20,
    "start_time": "2022-01-31T03:54:08.043Z"
   },
   {
    "duration": 6,
    "start_time": "2022-01-31T03:54:08.064Z"
   },
   {
    "duration": 72,
    "start_time": "2022-01-31T03:54:08.072Z"
   },
   {
    "duration": 1544,
    "start_time": "2022-01-31T03:54:06.602Z"
   },
   {
    "duration": 1539,
    "start_time": "2022-01-31T03:54:06.608Z"
   },
   {
    "duration": 1536,
    "start_time": "2022-01-31T03:54:06.612Z"
   },
   {
    "duration": 1519,
    "start_time": "2022-01-31T03:54:06.629Z"
   },
   {
    "duration": 78,
    "start_time": "2022-01-31T03:54:31.647Z"
   },
   {
    "duration": 70,
    "start_time": "2022-01-31T03:55:11.753Z"
   },
   {
    "duration": 83,
    "start_time": "2022-01-31T03:55:31.062Z"
   },
   {
    "duration": 1053,
    "start_time": "2022-01-31T04:00:04.646Z"
   },
   {
    "duration": 3,
    "start_time": "2022-01-31T04:00:05.701Z"
   },
   {
    "duration": 54,
    "start_time": "2022-01-31T04:00:05.706Z"
   },
   {
    "duration": 7,
    "start_time": "2022-01-31T04:00:05.762Z"
   },
   {
    "duration": 18,
    "start_time": "2022-01-31T04:00:05.771Z"
   },
   {
    "duration": 166,
    "start_time": "2022-01-31T04:00:05.791Z"
   },
   {
    "duration": 8,
    "start_time": "2022-01-31T04:00:05.959Z"
   },
   {
    "duration": 34,
    "start_time": "2022-01-31T04:00:05.970Z"
   },
   {
    "duration": 30,
    "start_time": "2022-01-31T04:00:06.007Z"
   },
   {
    "duration": 110,
    "start_time": "2022-01-31T04:00:06.038Z"
   },
   {
    "duration": 16,
    "start_time": "2022-01-31T04:00:06.150Z"
   },
   {
    "duration": 31,
    "start_time": "2022-01-31T04:00:06.168Z"
   },
   {
    "duration": 143,
    "start_time": "2022-01-31T04:00:06.200Z"
   },
   {
    "duration": 9,
    "start_time": "2022-01-31T04:00:06.345Z"
   },
   {
    "duration": 32,
    "start_time": "2022-01-31T04:00:06.356Z"
   },
   {
    "duration": 32,
    "start_time": "2022-01-31T04:00:06.390Z"
   },
   {
    "duration": 22,
    "start_time": "2022-01-31T04:00:06.424Z"
   },
   {
    "duration": 22,
    "start_time": "2022-01-31T04:00:06.447Z"
   },
   {
    "duration": 62,
    "start_time": "2022-01-31T04:00:06.470Z"
   },
   {
    "duration": 21,
    "start_time": "2022-01-31T04:00:06.534Z"
   },
   {
    "duration": 5,
    "start_time": "2022-01-31T04:00:06.556Z"
   },
   {
    "duration": 41,
    "start_time": "2022-01-31T04:00:06.563Z"
   },
   {
    "duration": 10,
    "start_time": "2022-01-31T04:00:06.607Z"
   },
   {
    "duration": 20,
    "start_time": "2022-01-31T04:00:06.619Z"
   },
   {
    "duration": 9,
    "start_time": "2022-01-31T04:00:06.640Z"
   },
   {
    "duration": 22,
    "start_time": "2022-01-31T04:00:06.651Z"
   },
   {
    "duration": 130,
    "start_time": "2022-01-31T04:00:06.675Z"
   },
   {
    "duration": 8,
    "start_time": "2022-01-31T04:00:06.807Z"
   },
   {
    "duration": 55,
    "start_time": "2022-01-31T04:00:06.817Z"
   },
   {
    "duration": 8,
    "start_time": "2022-01-31T04:00:06.874Z"
   },
   {
    "duration": 34,
    "start_time": "2022-01-31T04:00:06.883Z"
   },
   {
    "duration": 39,
    "start_time": "2022-01-31T04:00:06.918Z"
   },
   {
    "duration": 7,
    "start_time": "2022-01-31T04:00:06.959Z"
   },
   {
    "duration": 25,
    "start_time": "2022-01-31T04:00:06.968Z"
   },
   {
    "duration": 34,
    "start_time": "2022-01-31T04:00:06.995Z"
   },
   {
    "duration": 14,
    "start_time": "2022-01-31T04:00:07.031Z"
   },
   {
    "duration": 28,
    "start_time": "2022-01-31T04:00:07.046Z"
   },
   {
    "duration": 20,
    "start_time": "2022-01-31T04:00:07.075Z"
   },
   {
    "duration": 14,
    "start_time": "2022-01-31T04:00:07.097Z"
   },
   {
    "duration": 6,
    "start_time": "2022-01-31T04:00:07.113Z"
   },
   {
    "duration": 23,
    "start_time": "2022-01-31T04:00:07.120Z"
   },
   {
    "duration": 7,
    "start_time": "2022-01-31T04:00:07.144Z"
   },
   {
    "duration": 10,
    "start_time": "2022-01-31T04:00:07.153Z"
   },
   {
    "duration": 34,
    "start_time": "2022-01-31T04:00:07.165Z"
   },
   {
    "duration": 20,
    "start_time": "2022-01-31T04:00:07.201Z"
   },
   {
    "duration": 7,
    "start_time": "2022-01-31T04:00:07.222Z"
   },
   {
    "duration": 25,
    "start_time": "2022-01-31T04:00:07.230Z"
   },
   {
    "duration": 13,
    "start_time": "2022-01-31T04:00:07.257Z"
   },
   {
    "duration": 18,
    "start_time": "2022-01-31T04:00:07.272Z"
   },
   {
    "duration": 4,
    "start_time": "2022-01-31T04:00:07.297Z"
   },
   {
    "duration": 20,
    "start_time": "2022-01-31T04:00:07.303Z"
   },
   {
    "duration": 216,
    "start_time": "2022-01-31T04:00:07.324Z"
   },
   {
    "duration": 4,
    "start_time": "2022-01-31T04:00:07.542Z"
   },
   {
    "duration": 25,
    "start_time": "2022-01-31T04:00:07.547Z"
   },
   {
    "duration": 5,
    "start_time": "2022-01-31T04:00:07.574Z"
   },
   {
    "duration": 29,
    "start_time": "2022-01-31T04:00:07.581Z"
   },
   {
    "duration": 325,
    "start_time": "2022-01-31T04:00:07.612Z"
   },
   {
    "duration": 1544,
    "start_time": "2022-01-31T04:00:06.395Z"
   },
   {
    "duration": 1537,
    "start_time": "2022-01-31T04:00:06.403Z"
   },
   {
    "duration": 1534,
    "start_time": "2022-01-31T04:00:06.407Z"
   },
   {
    "duration": 1077,
    "start_time": "2022-01-31T04:00:48.318Z"
   },
   {
    "duration": 2,
    "start_time": "2022-01-31T04:00:49.397Z"
   },
   {
    "duration": 66,
    "start_time": "2022-01-31T04:00:49.402Z"
   },
   {
    "duration": 7,
    "start_time": "2022-01-31T04:00:49.470Z"
   },
   {
    "duration": 18,
    "start_time": "2022-01-31T04:00:49.479Z"
   },
   {
    "duration": 159,
    "start_time": "2022-01-31T04:00:49.499Z"
   },
   {
    "duration": 7,
    "start_time": "2022-01-31T04:00:49.660Z"
   },
   {
    "duration": 35,
    "start_time": "2022-01-31T04:00:49.670Z"
   },
   {
    "duration": 27,
    "start_time": "2022-01-31T04:00:49.707Z"
   },
   {
    "duration": 96,
    "start_time": "2022-01-31T04:00:49.735Z"
   },
   {
    "duration": 15,
    "start_time": "2022-01-31T04:00:49.832Z"
   },
   {
    "duration": 34,
    "start_time": "2022-01-31T04:00:49.849Z"
   },
   {
    "duration": 149,
    "start_time": "2022-01-31T04:00:49.885Z"
   },
   {
    "duration": 9,
    "start_time": "2022-01-31T04:00:50.036Z"
   },
   {
    "duration": 31,
    "start_time": "2022-01-31T04:00:50.047Z"
   },
   {
    "duration": 35,
    "start_time": "2022-01-31T04:00:50.080Z"
   },
   {
    "duration": 22,
    "start_time": "2022-01-31T04:00:50.117Z"
   },
   {
    "duration": 35,
    "start_time": "2022-01-31T04:00:50.141Z"
   },
   {
    "duration": 59,
    "start_time": "2022-01-31T04:00:50.178Z"
   },
   {
    "duration": 20,
    "start_time": "2022-01-31T04:00:50.239Z"
   },
   {
    "duration": 6,
    "start_time": "2022-01-31T04:00:50.261Z"
   },
   {
    "duration": 39,
    "start_time": "2022-01-31T04:00:50.268Z"
   },
   {
    "duration": 10,
    "start_time": "2022-01-31T04:00:50.310Z"
   },
   {
    "duration": 36,
    "start_time": "2022-01-31T04:00:50.322Z"
   },
   {
    "duration": 9,
    "start_time": "2022-01-31T04:00:50.360Z"
   },
   {
    "duration": 19,
    "start_time": "2022-01-31T04:00:50.371Z"
   },
   {
    "duration": 110,
    "start_time": "2022-01-31T04:00:50.391Z"
   },
   {
    "duration": 8,
    "start_time": "2022-01-31T04:00:50.503Z"
   },
   {
    "duration": 50,
    "start_time": "2022-01-31T04:00:50.512Z"
   },
   {
    "duration": 7,
    "start_time": "2022-01-31T04:00:50.564Z"
   },
   {
    "duration": 17,
    "start_time": "2022-01-31T04:00:50.572Z"
   },
   {
    "duration": 20,
    "start_time": "2022-01-31T04:00:50.591Z"
   },
   {
    "duration": 6,
    "start_time": "2022-01-31T04:00:50.613Z"
   },
   {
    "duration": 19,
    "start_time": "2022-01-31T04:00:50.621Z"
   },
   {
    "duration": 26,
    "start_time": "2022-01-31T04:00:50.642Z"
   },
   {
    "duration": 7,
    "start_time": "2022-01-31T04:00:50.669Z"
   },
   {
    "duration": 19,
    "start_time": "2022-01-31T04:00:50.677Z"
   },
   {
    "duration": 20,
    "start_time": "2022-01-31T04:00:50.697Z"
   },
   {
    "duration": 15,
    "start_time": "2022-01-31T04:00:50.719Z"
   },
   {
    "duration": 24,
    "start_time": "2022-01-31T04:00:50.735Z"
   },
   {
    "duration": 23,
    "start_time": "2022-01-31T04:00:50.760Z"
   },
   {
    "duration": 14,
    "start_time": "2022-01-31T04:00:50.785Z"
   },
   {
    "duration": 28,
    "start_time": "2022-01-31T04:00:50.801Z"
   },
   {
    "duration": 25,
    "start_time": "2022-01-31T04:00:50.831Z"
   },
   {
    "duration": 22,
    "start_time": "2022-01-31T04:00:50.858Z"
   },
   {
    "duration": 7,
    "start_time": "2022-01-31T04:00:50.882Z"
   },
   {
    "duration": 8,
    "start_time": "2022-01-31T04:00:50.891Z"
   },
   {
    "duration": 25,
    "start_time": "2022-01-31T04:00:50.900Z"
   },
   {
    "duration": 20,
    "start_time": "2022-01-31T04:00:50.927Z"
   },
   {
    "duration": 9,
    "start_time": "2022-01-31T04:00:50.949Z"
   },
   {
    "duration": 20,
    "start_time": "2022-01-31T04:00:50.960Z"
   },
   {
    "duration": 207,
    "start_time": "2022-01-31T04:00:50.981Z"
   },
   {
    "duration": 4,
    "start_time": "2022-01-31T04:00:51.190Z"
   },
   {
    "duration": 25,
    "start_time": "2022-01-31T04:00:51.198Z"
   },
   {
    "duration": 15,
    "start_time": "2022-01-31T04:00:51.225Z"
   },
   {
    "duration": 25,
    "start_time": "2022-01-31T04:00:51.242Z"
   },
   {
    "duration": 21,
    "start_time": "2022-01-31T04:00:51.268Z"
   },
   {
    "duration": 41,
    "start_time": "2022-01-31T04:00:51.291Z"
   },
   {
    "duration": 17,
    "start_time": "2022-01-31T04:00:51.334Z"
   },
   {
    "duration": 30,
    "start_time": "2022-01-31T04:00:51.353Z"
   },
   {
    "duration": 1103,
    "start_time": "2022-01-31T04:02:26.991Z"
   },
   {
    "duration": 3,
    "start_time": "2022-01-31T04:02:28.096Z"
   },
   {
    "duration": 51,
    "start_time": "2022-01-31T04:02:28.101Z"
   },
   {
    "duration": 7,
    "start_time": "2022-01-31T04:02:28.155Z"
   },
   {
    "duration": 16,
    "start_time": "2022-01-31T04:02:28.164Z"
   },
   {
    "duration": 157,
    "start_time": "2022-01-31T04:02:28.183Z"
   },
   {
    "duration": 8,
    "start_time": "2022-01-31T04:02:28.342Z"
   },
   {
    "duration": 24,
    "start_time": "2022-01-31T04:02:28.354Z"
   },
   {
    "duration": 42,
    "start_time": "2022-01-31T04:02:28.381Z"
   },
   {
    "duration": 109,
    "start_time": "2022-01-31T04:02:28.425Z"
   },
   {
    "duration": 15,
    "start_time": "2022-01-31T04:02:28.536Z"
   },
   {
    "duration": 15,
    "start_time": "2022-01-31T04:02:28.553Z"
   },
   {
    "duration": 143,
    "start_time": "2022-01-31T04:02:28.569Z"
   },
   {
    "duration": 8,
    "start_time": "2022-01-31T04:02:28.714Z"
   },
   {
    "duration": 30,
    "start_time": "2022-01-31T04:02:28.724Z"
   },
   {
    "duration": 32,
    "start_time": "2022-01-31T04:02:28.756Z"
   },
   {
    "duration": 21,
    "start_time": "2022-01-31T04:02:28.790Z"
   },
   {
    "duration": 11,
    "start_time": "2022-01-31T04:02:28.813Z"
   },
   {
    "duration": 59,
    "start_time": "2022-01-31T04:02:28.826Z"
   },
   {
    "duration": 20,
    "start_time": "2022-01-31T04:02:28.887Z"
   },
   {
    "duration": 5,
    "start_time": "2022-01-31T04:02:28.909Z"
   },
   {
    "duration": 21,
    "start_time": "2022-01-31T04:02:28.915Z"
   },
   {
    "duration": 9,
    "start_time": "2022-01-31T04:02:28.940Z"
   },
   {
    "duration": 48,
    "start_time": "2022-01-31T04:02:28.951Z"
   },
   {
    "duration": 10,
    "start_time": "2022-01-31T04:02:29.001Z"
   },
   {
    "duration": 13,
    "start_time": "2022-01-31T04:02:29.012Z"
   },
   {
    "duration": 127,
    "start_time": "2022-01-31T04:02:29.026Z"
   },
   {
    "duration": 7,
    "start_time": "2022-01-31T04:02:29.155Z"
   },
   {
    "duration": 44,
    "start_time": "2022-01-31T04:02:29.164Z"
   },
   {
    "duration": 7,
    "start_time": "2022-01-31T04:02:29.209Z"
   },
   {
    "duration": 9,
    "start_time": "2022-01-31T04:02:29.218Z"
   },
   {
    "duration": 17,
    "start_time": "2022-01-31T04:02:29.228Z"
   },
   {
    "duration": 7,
    "start_time": "2022-01-31T04:02:29.246Z"
   },
   {
    "duration": 11,
    "start_time": "2022-01-31T04:02:29.254Z"
   },
   {
    "duration": 42,
    "start_time": "2022-01-31T04:02:29.267Z"
   },
   {
    "duration": 4,
    "start_time": "2022-01-31T04:02:29.310Z"
   },
   {
    "duration": 11,
    "start_time": "2022-01-31T04:02:29.315Z"
   },
   {
    "duration": 16,
    "start_time": "2022-01-31T04:02:29.327Z"
   },
   {
    "duration": 14,
    "start_time": "2022-01-31T04:02:29.344Z"
   },
   {
    "duration": 39,
    "start_time": "2022-01-31T04:02:29.360Z"
   },
   {
    "duration": 16,
    "start_time": "2022-01-31T04:02:29.401Z"
   },
   {
    "duration": 5,
    "start_time": "2022-01-31T04:02:29.419Z"
   },
   {
    "duration": 8,
    "start_time": "2022-01-31T04:02:29.426Z"
   },
   {
    "duration": 7,
    "start_time": "2022-01-31T04:02:29.436Z"
   },
   {
    "duration": 20,
    "start_time": "2022-01-31T04:02:29.444Z"
   },
   {
    "duration": 39,
    "start_time": "2022-01-31T04:02:29.465Z"
   },
   {
    "duration": 6,
    "start_time": "2022-01-31T04:02:29.506Z"
   },
   {
    "duration": 9,
    "start_time": "2022-01-31T04:02:29.513Z"
   },
   {
    "duration": 11,
    "start_time": "2022-01-31T04:02:29.524Z"
   },
   {
    "duration": 4,
    "start_time": "2022-01-31T04:02:29.537Z"
   },
   {
    "duration": 17,
    "start_time": "2022-01-31T04:02:29.543Z"
   },
   {
    "duration": 230,
    "start_time": "2022-01-31T04:02:29.562Z"
   },
   {
    "duration": 5,
    "start_time": "2022-01-31T04:02:29.794Z"
   },
   {
    "duration": 20,
    "start_time": "2022-01-31T04:02:29.801Z"
   },
   {
    "duration": 14,
    "start_time": "2022-01-31T04:02:29.822Z"
   },
   {
    "duration": 5,
    "start_time": "2022-01-31T04:02:29.838Z"
   },
   {
    "duration": 18,
    "start_time": "2022-01-31T04:02:29.845Z"
   },
   {
    "duration": 36,
    "start_time": "2022-01-31T04:02:29.864Z"
   },
   {
    "duration": 24,
    "start_time": "2022-01-31T04:02:29.901Z"
   },
   {
    "duration": 15,
    "start_time": "2022-01-31T04:02:29.927Z"
   },
   {
    "duration": 15,
    "start_time": "2022-01-31T04:02:29.943Z"
   },
   {
    "duration": 7,
    "start_time": "2022-01-31T04:05:06.957Z"
   },
   {
    "duration": 1091,
    "start_time": "2022-01-31T06:03:39.809Z"
   },
   {
    "duration": 2,
    "start_time": "2022-01-31T06:03:40.902Z"
   },
   {
    "duration": 46,
    "start_time": "2022-01-31T06:03:40.906Z"
   },
   {
    "duration": 8,
    "start_time": "2022-01-31T06:03:40.954Z"
   },
   {
    "duration": 17,
    "start_time": "2022-01-31T06:03:40.963Z"
   },
   {
    "duration": 166,
    "start_time": "2022-01-31T06:03:40.982Z"
   },
   {
    "duration": 8,
    "start_time": "2022-01-31T06:03:41.151Z"
   },
   {
    "duration": 23,
    "start_time": "2022-01-31T06:03:41.163Z"
   },
   {
    "duration": 28,
    "start_time": "2022-01-31T06:03:41.200Z"
   },
   {
    "duration": 102,
    "start_time": "2022-01-31T06:03:41.230Z"
   },
   {
    "duration": 16,
    "start_time": "2022-01-31T06:03:41.334Z"
   },
   {
    "duration": 14,
    "start_time": "2022-01-31T06:03:41.352Z"
   },
   {
    "duration": 150,
    "start_time": "2022-01-31T06:03:41.368Z"
   },
   {
    "duration": 9,
    "start_time": "2022-01-31T06:03:41.519Z"
   },
   {
    "duration": 23,
    "start_time": "2022-01-31T06:03:41.529Z"
   },
   {
    "duration": 45,
    "start_time": "2022-01-31T06:03:41.554Z"
   },
   {
    "duration": 22,
    "start_time": "2022-01-31T06:03:41.601Z"
   },
   {
    "duration": 9,
    "start_time": "2022-01-31T06:03:41.625Z"
   },
   {
    "duration": 63,
    "start_time": "2022-01-31T06:03:41.635Z"
   },
   {
    "duration": 22,
    "start_time": "2022-01-31T06:03:41.700Z"
   },
   {
    "duration": 6,
    "start_time": "2022-01-31T06:03:41.723Z"
   },
   {
    "duration": 23,
    "start_time": "2022-01-31T06:03:41.731Z"
   },
   {
    "duration": 10,
    "start_time": "2022-01-31T06:03:41.758Z"
   },
   {
    "duration": 43,
    "start_time": "2022-01-31T06:03:41.770Z"
   },
   {
    "duration": 11,
    "start_time": "2022-01-31T06:03:41.815Z"
   },
   {
    "duration": 13,
    "start_time": "2022-01-31T06:03:41.828Z"
   },
   {
    "duration": 143,
    "start_time": "2022-01-31T06:03:41.843Z"
   },
   {
    "duration": 18,
    "start_time": "2022-01-31T06:03:41.988Z"
   },
   {
    "duration": 32,
    "start_time": "2022-01-31T06:03:42.008Z"
   },
   {
    "duration": 8,
    "start_time": "2022-01-31T06:03:42.042Z"
   },
   {
    "duration": 10,
    "start_time": "2022-01-31T06:03:42.051Z"
   },
   {
    "duration": 46,
    "start_time": "2022-01-31T06:03:42.063Z"
   },
   {
    "duration": 7,
    "start_time": "2022-01-31T06:03:42.110Z"
   },
   {
    "duration": 10,
    "start_time": "2022-01-31T06:03:42.118Z"
   },
   {
    "duration": 16,
    "start_time": "2022-01-31T06:03:42.130Z"
   },
   {
    "duration": 3,
    "start_time": "2022-01-31T06:03:42.148Z"
   },
   {
    "duration": 9,
    "start_time": "2022-01-31T06:03:42.153Z"
   },
   {
    "duration": 48,
    "start_time": "2022-01-31T06:03:42.164Z"
   },
   {
    "duration": 16,
    "start_time": "2022-01-31T06:03:42.214Z"
   },
   {
    "duration": 5,
    "start_time": "2022-01-31T06:03:42.232Z"
   },
   {
    "duration": 16,
    "start_time": "2022-01-31T06:03:42.239Z"
   },
   {
    "duration": 6,
    "start_time": "2022-01-31T06:03:42.257Z"
   },
   {
    "duration": 35,
    "start_time": "2022-01-31T06:03:42.265Z"
   },
   {
    "duration": 9,
    "start_time": "2022-01-31T06:03:42.302Z"
   },
   {
    "duration": 19,
    "start_time": "2022-01-31T06:03:42.312Z"
   },
   {
    "duration": 7,
    "start_time": "2022-01-31T06:03:42.333Z"
   },
   {
    "duration": 7,
    "start_time": "2022-01-31T06:03:42.342Z"
   },
   {
    "duration": 11,
    "start_time": "2022-01-31T06:03:42.350Z"
   },
   {
    "duration": 45,
    "start_time": "2022-01-31T06:03:42.363Z"
   },
   {
    "duration": 3,
    "start_time": "2022-01-31T06:03:42.410Z"
   },
   {
    "duration": 20,
    "start_time": "2022-01-31T06:03:42.415Z"
   },
   {
    "duration": 219,
    "start_time": "2022-01-31T06:03:42.437Z"
   },
   {
    "duration": 4,
    "start_time": "2022-01-31T06:03:42.658Z"
   },
   {
    "duration": 25,
    "start_time": "2022-01-31T06:03:42.663Z"
   },
   {
    "duration": 21,
    "start_time": "2022-01-31T06:03:42.690Z"
   },
   {
    "duration": 6,
    "start_time": "2022-01-31T06:03:42.713Z"
   },
   {
    "duration": 17,
    "start_time": "2022-01-31T06:03:42.720Z"
   },
   {
    "duration": 8,
    "start_time": "2022-01-31T06:03:42.739Z"
   },
   {
    "duration": 55,
    "start_time": "2022-01-31T06:03:42.749Z"
   },
   {
    "duration": 13,
    "start_time": "2022-01-31T06:03:42.805Z"
   },
   {
    "duration": 9,
    "start_time": "2022-01-31T06:03:42.819Z"
   },
   {
    "duration": 23,
    "start_time": "2022-01-31T06:03:42.830Z"
   },
   {
    "duration": 1053,
    "start_time": "2022-01-31T06:07:54.144Z"
   },
   {
    "duration": 3,
    "start_time": "2022-01-31T06:07:55.198Z"
   },
   {
    "duration": 41,
    "start_time": "2022-01-31T06:07:55.203Z"
   },
   {
    "duration": 8,
    "start_time": "2022-01-31T06:07:55.246Z"
   },
   {
    "duration": 19,
    "start_time": "2022-01-31T06:07:55.255Z"
   },
   {
    "duration": 161,
    "start_time": "2022-01-31T06:07:55.276Z"
   },
   {
    "duration": 7,
    "start_time": "2022-01-31T06:07:55.439Z"
   },
   {
    "duration": 24,
    "start_time": "2022-01-31T06:07:55.449Z"
   },
   {
    "duration": 37,
    "start_time": "2022-01-31T06:07:55.475Z"
   },
   {
    "duration": 93,
    "start_time": "2022-01-31T06:07:55.514Z"
   },
   {
    "duration": 15,
    "start_time": "2022-01-31T06:07:55.609Z"
   },
   {
    "duration": 13,
    "start_time": "2022-01-31T06:07:55.626Z"
   },
   {
    "duration": 148,
    "start_time": "2022-01-31T06:07:55.641Z"
   },
   {
    "duration": 8,
    "start_time": "2022-01-31T06:07:55.791Z"
   },
   {
    "duration": 20,
    "start_time": "2022-01-31T06:07:55.800Z"
   },
   {
    "duration": 28,
    "start_time": "2022-01-31T06:07:55.822Z"
   },
   {
    "duration": 22,
    "start_time": "2022-01-31T06:07:55.851Z"
   },
   {
    "duration": 25,
    "start_time": "2022-01-31T06:07:55.875Z"
   },
   {
    "duration": 54,
    "start_time": "2022-01-31T06:07:55.903Z"
   },
   {
    "duration": 40,
    "start_time": "2022-01-31T06:07:55.959Z"
   },
   {
    "duration": 7,
    "start_time": "2022-01-31T06:07:56.001Z"
   },
   {
    "duration": 23,
    "start_time": "2022-01-31T06:07:56.009Z"
   },
   {
    "duration": 11,
    "start_time": "2022-01-31T06:07:56.037Z"
   },
   {
    "duration": 52,
    "start_time": "2022-01-31T06:07:56.051Z"
   },
   {
    "duration": 9,
    "start_time": "2022-01-31T06:07:56.106Z"
   },
   {
    "duration": 13,
    "start_time": "2022-01-31T06:07:56.117Z"
   },
   {
    "duration": 133,
    "start_time": "2022-01-31T06:07:56.131Z"
   },
   {
    "duration": 8,
    "start_time": "2022-01-31T06:07:56.265Z"
   },
   {
    "duration": 42,
    "start_time": "2022-01-31T06:07:56.275Z"
   },
   {
    "duration": 7,
    "start_time": "2022-01-31T06:07:56.319Z"
   },
   {
    "duration": 11,
    "start_time": "2022-01-31T06:07:56.327Z"
   },
   {
    "duration": 15,
    "start_time": "2022-01-31T06:07:56.340Z"
   },
   {
    "duration": 6,
    "start_time": "2022-01-31T06:07:56.357Z"
   },
   {
    "duration": 10,
    "start_time": "2022-01-31T06:07:56.364Z"
   },
   {
    "duration": 18,
    "start_time": "2022-01-31T06:07:56.399Z"
   },
   {
    "duration": 4,
    "start_time": "2022-01-31T06:07:56.418Z"
   },
   {
    "duration": 12,
    "start_time": "2022-01-31T06:07:56.424Z"
   },
   {
    "duration": 18,
    "start_time": "2022-01-31T06:07:56.437Z"
   },
   {
    "duration": 14,
    "start_time": "2022-01-31T06:07:56.457Z"
   },
   {
    "duration": 7,
    "start_time": "2022-01-31T06:07:56.499Z"
   },
   {
    "duration": 20,
    "start_time": "2022-01-31T06:07:56.507Z"
   },
   {
    "duration": 6,
    "start_time": "2022-01-31T06:07:56.529Z"
   },
   {
    "duration": 11,
    "start_time": "2022-01-31T06:07:56.537Z"
   },
   {
    "duration": 13,
    "start_time": "2022-01-31T06:07:56.549Z"
   },
   {
    "duration": 43,
    "start_time": "2022-01-31T06:07:56.564Z"
   },
   {
    "duration": 7,
    "start_time": "2022-01-31T06:07:56.608Z"
   },
   {
    "duration": 9,
    "start_time": "2022-01-31T06:07:56.616Z"
   },
   {
    "duration": 11,
    "start_time": "2022-01-31T06:07:56.627Z"
   },
   {
    "duration": 11,
    "start_time": "2022-01-31T06:07:56.640Z"
   },
   {
    "duration": 4,
    "start_time": "2022-01-31T06:07:56.653Z"
   },
   {
    "duration": 48,
    "start_time": "2022-01-31T06:07:56.658Z"
   },
   {
    "duration": 207,
    "start_time": "2022-01-31T06:07:56.708Z"
   },
   {
    "duration": 4,
    "start_time": "2022-01-31T06:07:56.916Z"
   },
   {
    "duration": 22,
    "start_time": "2022-01-31T06:07:56.922Z"
   },
   {
    "duration": 16,
    "start_time": "2022-01-31T06:07:56.945Z"
   },
   {
    "duration": 5,
    "start_time": "2022-01-31T06:07:56.963Z"
   },
   {
    "duration": 36,
    "start_time": "2022-01-31T06:07:56.970Z"
   },
   {
    "duration": 10,
    "start_time": "2022-01-31T06:07:57.008Z"
   },
   {
    "duration": 23,
    "start_time": "2022-01-31T06:07:57.020Z"
   },
   {
    "duration": 13,
    "start_time": "2022-01-31T06:07:57.044Z"
   },
   {
    "duration": 9,
    "start_time": "2022-01-31T06:07:57.058Z"
   },
   {
    "duration": 50,
    "start_time": "2022-01-31T06:07:57.069Z"
   },
   {
    "duration": 10,
    "start_time": "2022-01-31T06:10:00.066Z"
   },
   {
    "duration": 1121,
    "start_time": "2022-01-31T06:10:18.670Z"
   },
   {
    "duration": 3,
    "start_time": "2022-01-31T06:10:19.793Z"
   },
   {
    "duration": 39,
    "start_time": "2022-01-31T06:10:19.799Z"
   },
   {
    "duration": 7,
    "start_time": "2022-01-31T06:10:19.840Z"
   },
   {
    "duration": 18,
    "start_time": "2022-01-31T06:10:19.849Z"
   },
   {
    "duration": 162,
    "start_time": "2022-01-31T06:10:19.869Z"
   },
   {
    "duration": 8,
    "start_time": "2022-01-31T06:10:20.032Z"
   },
   {
    "duration": 23,
    "start_time": "2022-01-31T06:10:20.043Z"
   },
   {
    "duration": 41,
    "start_time": "2022-01-31T06:10:20.068Z"
   },
   {
    "duration": 96,
    "start_time": "2022-01-31T06:10:20.110Z"
   },
   {
    "duration": 15,
    "start_time": "2022-01-31T06:10:20.207Z"
   },
   {
    "duration": 13,
    "start_time": "2022-01-31T06:10:20.224Z"
   },
   {
    "duration": 147,
    "start_time": "2022-01-31T06:10:20.239Z"
   },
   {
    "duration": 11,
    "start_time": "2022-01-31T06:10:20.387Z"
   },
   {
    "duration": 19,
    "start_time": "2022-01-31T06:10:20.400Z"
   },
   {
    "duration": 27,
    "start_time": "2022-01-31T06:10:20.420Z"
   },
   {
    "duration": 21,
    "start_time": "2022-01-31T06:10:20.449Z"
   },
   {
    "duration": 26,
    "start_time": "2022-01-31T06:10:20.472Z"
   },
   {
    "duration": 54,
    "start_time": "2022-01-31T06:10:20.500Z"
   },
   {
    "duration": 20,
    "start_time": "2022-01-31T06:10:20.556Z"
   },
   {
    "duration": 23,
    "start_time": "2022-01-31T06:10:20.578Z"
   },
   {
    "duration": 25,
    "start_time": "2022-01-31T06:10:20.603Z"
   },
   {
    "duration": 11,
    "start_time": "2022-01-31T06:10:20.632Z"
   },
   {
    "duration": 16,
    "start_time": "2022-01-31T06:10:20.645Z"
   },
   {
    "duration": 36,
    "start_time": "2022-01-31T06:10:20.663Z"
   },
   {
    "duration": 12,
    "start_time": "2022-01-31T06:10:20.701Z"
   },
   {
    "duration": 133,
    "start_time": "2022-01-31T06:10:20.716Z"
   },
   {
    "duration": 10,
    "start_time": "2022-01-31T06:10:20.851Z"
   },
   {
    "duration": 51,
    "start_time": "2022-01-31T06:10:20.863Z"
   },
   {
    "duration": 9,
    "start_time": "2022-01-31T06:10:20.915Z"
   },
   {
    "duration": 10,
    "start_time": "2022-01-31T06:10:20.926Z"
   },
   {
    "duration": 16,
    "start_time": "2022-01-31T06:10:20.938Z"
   },
   {
    "duration": 8,
    "start_time": "2022-01-31T06:10:20.956Z"
   },
   {
    "duration": 35,
    "start_time": "2022-01-31T06:10:20.966Z"
   },
   {
    "duration": 24,
    "start_time": "2022-01-31T06:10:21.003Z"
   },
   {
    "duration": 5,
    "start_time": "2022-01-31T06:10:21.029Z"
   },
   {
    "duration": 11,
    "start_time": "2022-01-31T06:10:21.036Z"
   },
   {
    "duration": 15,
    "start_time": "2022-01-31T06:10:21.049Z"
   },
   {
    "duration": 46,
    "start_time": "2022-01-31T06:10:21.066Z"
   },
   {
    "duration": 7,
    "start_time": "2022-01-31T06:10:21.114Z"
   },
   {
    "duration": 18,
    "start_time": "2022-01-31T06:10:21.123Z"
   },
   {
    "duration": 8,
    "start_time": "2022-01-31T06:10:21.143Z"
   },
   {
    "duration": 49,
    "start_time": "2022-01-31T06:10:21.153Z"
   },
   {
    "duration": 10,
    "start_time": "2022-01-31T06:10:21.204Z"
   },
   {
    "duration": 19,
    "start_time": "2022-01-31T06:10:21.217Z"
   },
   {
    "duration": 9,
    "start_time": "2022-01-31T06:10:21.238Z"
   },
   {
    "duration": 6,
    "start_time": "2022-01-31T06:10:21.249Z"
   },
   {
    "duration": 46,
    "start_time": "2022-01-31T06:10:21.257Z"
   },
   {
    "duration": 13,
    "start_time": "2022-01-31T06:10:21.306Z"
   },
   {
    "duration": 6,
    "start_time": "2022-01-31T06:10:21.321Z"
   },
   {
    "duration": 15,
    "start_time": "2022-01-31T06:10:21.329Z"
   },
   {
    "duration": 234,
    "start_time": "2022-01-31T06:10:21.346Z"
   },
   {
    "duration": 5,
    "start_time": "2022-01-31T06:10:21.581Z"
   },
   {
    "duration": 23,
    "start_time": "2022-01-31T06:10:21.588Z"
   },
   {
    "duration": 17,
    "start_time": "2022-01-31T06:10:21.613Z"
   },
   {
    "duration": 6,
    "start_time": "2022-01-31T06:10:21.632Z"
   },
   {
    "duration": 18,
    "start_time": "2022-01-31T06:10:21.639Z"
   },
   {
    "duration": 44,
    "start_time": "2022-01-31T06:10:21.659Z"
   },
   {
    "duration": 24,
    "start_time": "2022-01-31T06:10:21.706Z"
   },
   {
    "duration": 14,
    "start_time": "2022-01-31T06:10:21.732Z"
   },
   {
    "duration": 11,
    "start_time": "2022-01-31T06:10:21.747Z"
   },
   {
    "duration": 57,
    "start_time": "2022-01-31T06:10:21.760Z"
   },
   {
    "duration": 382,
    "start_time": "2022-01-31T06:29:49.443Z"
   },
   {
    "duration": 229,
    "start_time": "2022-01-31T06:30:34.913Z"
   },
   {
    "duration": 537,
    "start_time": "2022-01-31T06:31:19.100Z"
   },
   {
    "duration": 397,
    "start_time": "2022-01-31T06:38:06.156Z"
   },
   {
    "duration": 252,
    "start_time": "2022-01-31T06:38:45.557Z"
   },
   {
    "duration": 1260,
    "start_time": "2022-01-31T06:40:34.043Z"
   },
   {
    "duration": 3,
    "start_time": "2022-01-31T06:40:35.305Z"
   },
   {
    "duration": 43,
    "start_time": "2022-01-31T06:40:35.310Z"
   },
   {
    "duration": 8,
    "start_time": "2022-01-31T06:40:35.355Z"
   },
   {
    "duration": 19,
    "start_time": "2022-01-31T06:40:35.365Z"
   },
   {
    "duration": 166,
    "start_time": "2022-01-31T06:40:35.386Z"
   },
   {
    "duration": 9,
    "start_time": "2022-01-31T06:40:35.554Z"
   },
   {
    "duration": 34,
    "start_time": "2022-01-31T06:40:35.567Z"
   },
   {
    "duration": 29,
    "start_time": "2022-01-31T06:40:35.604Z"
   },
   {
    "duration": 114,
    "start_time": "2022-01-31T06:40:35.636Z"
   },
   {
    "duration": 16,
    "start_time": "2022-01-31T06:40:35.752Z"
   },
   {
    "duration": 32,
    "start_time": "2022-01-31T06:40:35.770Z"
   },
   {
    "duration": 144,
    "start_time": "2022-01-31T06:40:35.804Z"
   },
   {
    "duration": 9,
    "start_time": "2022-01-31T06:40:35.950Z"
   },
   {
    "duration": 31,
    "start_time": "2022-01-31T06:40:35.961Z"
   },
   {
    "duration": 36,
    "start_time": "2022-01-31T06:40:35.994Z"
   },
   {
    "duration": 23,
    "start_time": "2022-01-31T06:40:36.032Z"
   },
   {
    "duration": 10,
    "start_time": "2022-01-31T06:40:36.057Z"
   },
   {
    "duration": 75,
    "start_time": "2022-01-31T06:40:36.069Z"
   },
   {
    "duration": 20,
    "start_time": "2022-01-31T06:40:36.146Z"
   },
   {
    "duration": 18,
    "start_time": "2022-01-31T06:40:36.168Z"
   },
   {
    "duration": 51,
    "start_time": "2022-01-31T06:40:36.187Z"
   },
   {
    "duration": 18,
    "start_time": "2022-01-31T06:40:36.243Z"
   },
   {
    "duration": 21,
    "start_time": "2022-01-31T06:40:36.264Z"
   },
   {
    "duration": 11,
    "start_time": "2022-01-31T06:40:36.287Z"
   },
   {
    "duration": 27,
    "start_time": "2022-01-31T06:40:36.299Z"
   },
   {
    "duration": 121,
    "start_time": "2022-01-31T06:40:36.328Z"
   },
   {
    "duration": 8,
    "start_time": "2022-01-31T06:40:36.451Z"
   },
   {
    "duration": 45,
    "start_time": "2022-01-31T06:40:36.461Z"
   },
   {
    "duration": 7,
    "start_time": "2022-01-31T06:40:36.508Z"
   },
   {
    "duration": 13,
    "start_time": "2022-01-31T06:40:36.517Z"
   },
   {
    "duration": 15,
    "start_time": "2022-01-31T06:40:36.532Z"
   },
   {
    "duration": 13,
    "start_time": "2022-01-31T06:40:36.549Z"
   },
   {
    "duration": 15,
    "start_time": "2022-01-31T06:40:36.564Z"
   },
   {
    "duration": 32,
    "start_time": "2022-01-31T06:40:36.581Z"
   },
   {
    "duration": 4,
    "start_time": "2022-01-31T06:40:36.614Z"
   },
   {
    "duration": 18,
    "start_time": "2022-01-31T06:40:36.620Z"
   },
   {
    "duration": 23,
    "start_time": "2022-01-31T06:40:36.640Z"
   },
   {
    "duration": 14,
    "start_time": "2022-01-31T06:40:36.665Z"
   },
   {
    "duration": 20,
    "start_time": "2022-01-31T06:40:36.681Z"
   },
   {
    "duration": 17,
    "start_time": "2022-01-31T06:40:36.702Z"
   },
   {
    "duration": 7,
    "start_time": "2022-01-31T06:40:36.720Z"
   },
   {
    "duration": 24,
    "start_time": "2022-01-31T06:40:36.729Z"
   },
   {
    "duration": 11,
    "start_time": "2022-01-31T06:40:36.754Z"
   },
   {
    "duration": 32,
    "start_time": "2022-01-31T06:40:36.767Z"
   },
   {
    "duration": 7,
    "start_time": "2022-01-31T06:40:36.801Z"
   },
   {
    "duration": 7,
    "start_time": "2022-01-31T06:40:36.809Z"
   },
   {
    "duration": 21,
    "start_time": "2022-01-31T06:40:36.818Z"
   },
   {
    "duration": 28,
    "start_time": "2022-01-31T06:40:36.840Z"
   },
   {
    "duration": 10,
    "start_time": "2022-01-31T06:40:36.869Z"
   },
   {
    "duration": 29,
    "start_time": "2022-01-31T06:40:36.881Z"
   },
   {
    "duration": 223,
    "start_time": "2022-01-31T06:40:36.913Z"
   },
   {
    "duration": 5,
    "start_time": "2022-01-31T06:40:37.139Z"
   },
   {
    "duration": 42,
    "start_time": "2022-01-31T06:40:37.146Z"
   },
   {
    "duration": 19,
    "start_time": "2022-01-31T06:40:37.190Z"
   },
   {
    "duration": 23,
    "start_time": "2022-01-31T06:40:37.211Z"
   },
   {
    "duration": 25,
    "start_time": "2022-01-31T06:40:37.236Z"
   },
   {
    "duration": 32,
    "start_time": "2022-01-31T06:40:37.263Z"
   },
   {
    "duration": 34,
    "start_time": "2022-01-31T06:40:37.297Z"
   },
   {
    "duration": 27,
    "start_time": "2022-01-31T06:40:37.333Z"
   },
   {
    "duration": 22,
    "start_time": "2022-01-31T06:40:37.362Z"
   },
   {
    "duration": 34,
    "start_time": "2022-01-31T06:40:37.386Z"
   },
   {
    "duration": 212,
    "start_time": "2022-01-31T06:40:37.422Z"
   },
   {
    "duration": 726,
    "start_time": "2022-01-31T06:40:37.637Z"
   },
   {
    "duration": 217,
    "start_time": "2022-01-31T06:47:37.208Z"
   },
   {
    "duration": 243,
    "start_time": "2022-01-31T06:51:13.818Z"
   },
   {
    "duration": 241,
    "start_time": "2022-01-31T06:52:18.060Z"
   },
   {
    "duration": 312,
    "start_time": "2022-01-31T06:52:44.302Z"
   },
   {
    "duration": 323,
    "start_time": "2022-01-31T06:56:07.910Z"
   },
   {
    "duration": 252,
    "start_time": "2022-01-31T06:56:26.247Z"
   },
   {
    "duration": 1074,
    "start_time": "2022-01-31T06:56:46.021Z"
   },
   {
    "duration": 3,
    "start_time": "2022-01-31T06:56:47.098Z"
   },
   {
    "duration": 41,
    "start_time": "2022-01-31T06:56:47.103Z"
   },
   {
    "duration": 7,
    "start_time": "2022-01-31T06:56:47.146Z"
   },
   {
    "duration": 18,
    "start_time": "2022-01-31T06:56:47.155Z"
   },
   {
    "duration": 167,
    "start_time": "2022-01-31T06:56:47.175Z"
   },
   {
    "duration": 7,
    "start_time": "2022-01-31T06:56:47.344Z"
   },
   {
    "duration": 25,
    "start_time": "2022-01-31T06:56:47.353Z"
   },
   {
    "duration": 38,
    "start_time": "2022-01-31T06:56:47.380Z"
   },
   {
    "duration": 101,
    "start_time": "2022-01-31T06:56:47.419Z"
   },
   {
    "duration": 15,
    "start_time": "2022-01-31T06:56:47.522Z"
   },
   {
    "duration": 14,
    "start_time": "2022-01-31T06:56:47.538Z"
   },
   {
    "duration": 150,
    "start_time": "2022-01-31T06:56:47.554Z"
   },
   {
    "duration": 9,
    "start_time": "2022-01-31T06:56:47.705Z"
   },
   {
    "duration": 21,
    "start_time": "2022-01-31T06:56:47.715Z"
   },
   {
    "duration": 27,
    "start_time": "2022-01-31T06:56:47.738Z"
   },
   {
    "duration": 52,
    "start_time": "2022-01-31T06:56:47.767Z"
   },
   {
    "duration": 7,
    "start_time": "2022-01-31T06:56:47.820Z"
   },
   {
    "duration": 55,
    "start_time": "2022-01-31T06:56:47.829Z"
   },
   {
    "duration": 30,
    "start_time": "2022-01-31T06:56:47.885Z"
   },
   {
    "duration": 5,
    "start_time": "2022-01-31T06:56:47.917Z"
   },
   {
    "duration": 23,
    "start_time": "2022-01-31T06:56:47.923Z"
   },
   {
    "duration": 10,
    "start_time": "2022-01-31T06:56:47.950Z"
   },
   {
    "duration": 44,
    "start_time": "2022-01-31T06:56:47.963Z"
   },
   {
    "duration": 10,
    "start_time": "2022-01-31T06:56:48.009Z"
   },
   {
    "duration": 14,
    "start_time": "2022-01-31T06:56:48.021Z"
   },
   {
    "duration": 142,
    "start_time": "2022-01-31T06:56:48.037Z"
   },
   {
    "duration": 8,
    "start_time": "2022-01-31T06:56:48.180Z"
   },
   {
    "duration": 32,
    "start_time": "2022-01-31T06:56:48.199Z"
   },
   {
    "duration": 8,
    "start_time": "2022-01-31T06:56:48.232Z"
   },
   {
    "duration": 8,
    "start_time": "2022-01-31T06:56:48.242Z"
   },
   {
    "duration": 16,
    "start_time": "2022-01-31T06:56:48.252Z"
   },
   {
    "duration": 33,
    "start_time": "2022-01-31T06:56:48.269Z"
   },
   {
    "duration": 9,
    "start_time": "2022-01-31T06:56:48.304Z"
   },
   {
    "duration": 18,
    "start_time": "2022-01-31T06:56:48.314Z"
   },
   {
    "duration": 4,
    "start_time": "2022-01-31T06:56:48.333Z"
   },
   {
    "duration": 9,
    "start_time": "2022-01-31T06:56:48.339Z"
   },
   {
    "duration": 49,
    "start_time": "2022-01-31T06:56:48.349Z"
   },
   {
    "duration": 15,
    "start_time": "2022-01-31T06:56:48.400Z"
   },
   {
    "duration": 7,
    "start_time": "2022-01-31T06:56:48.417Z"
   },
   {
    "duration": 17,
    "start_time": "2022-01-31T06:56:48.426Z"
   },
   {
    "duration": 7,
    "start_time": "2022-01-31T06:56:48.444Z"
   },
   {
    "duration": 7,
    "start_time": "2022-01-31T06:56:48.452Z"
   },
   {
    "duration": 43,
    "start_time": "2022-01-31T06:56:48.460Z"
   },
   {
    "duration": 20,
    "start_time": "2022-01-31T06:56:48.505Z"
   },
   {
    "duration": 7,
    "start_time": "2022-01-31T06:56:48.526Z"
   },
   {
    "duration": 5,
    "start_time": "2022-01-31T06:56:48.535Z"
   },
   {
    "duration": 9,
    "start_time": "2022-01-31T06:56:48.542Z"
   },
   {
    "duration": 50,
    "start_time": "2022-01-31T06:56:48.552Z"
   },
   {
    "duration": 3,
    "start_time": "2022-01-31T06:56:48.604Z"
   },
   {
    "duration": 17,
    "start_time": "2022-01-31T06:56:48.609Z"
   },
   {
    "duration": 210,
    "start_time": "2022-01-31T06:56:48.628Z"
   },
   {
    "duration": 4,
    "start_time": "2022-01-31T06:56:48.840Z"
   },
   {
    "duration": 25,
    "start_time": "2022-01-31T06:56:48.846Z"
   },
   {
    "duration": 27,
    "start_time": "2022-01-31T06:56:48.872Z"
   },
   {
    "duration": 5,
    "start_time": "2022-01-31T06:56:48.901Z"
   },
   {
    "duration": 15,
    "start_time": "2022-01-31T06:56:48.908Z"
   },
   {
    "duration": 10,
    "start_time": "2022-01-31T06:56:48.925Z"
   },
   {
    "duration": 23,
    "start_time": "2022-01-31T06:56:48.937Z"
   },
   {
    "duration": 42,
    "start_time": "2022-01-31T06:56:48.962Z"
   },
   {
    "duration": 10,
    "start_time": "2022-01-31T06:56:49.006Z"
   },
   {
    "duration": 24,
    "start_time": "2022-01-31T06:56:49.017Z"
   },
   {
    "duration": 282,
    "start_time": "2022-01-31T06:56:49.042Z"
   },
   {
    "duration": 535,
    "start_time": "2022-01-31T06:56:49.325Z"
   },
   {
    "duration": 309,
    "start_time": "2022-01-31T07:05:48.051Z"
   },
   {
    "duration": 654,
    "start_time": "2022-01-31T07:05:56.867Z"
   },
   {
    "duration": 707,
    "start_time": "2022-01-31T07:08:41.754Z"
   },
   {
    "duration": 349,
    "start_time": "2022-01-31T07:09:11.307Z"
   },
   {
    "duration": 287,
    "start_time": "2022-01-31T07:09:20.954Z"
   },
   {
    "duration": 248,
    "start_time": "2022-01-31T07:09:34.128Z"
   },
   {
    "duration": 1208,
    "start_time": "2022-01-31T07:10:01.496Z"
   },
   {
    "duration": 3,
    "start_time": "2022-01-31T07:10:02.706Z"
   },
   {
    "duration": 51,
    "start_time": "2022-01-31T07:10:02.710Z"
   },
   {
    "duration": 7,
    "start_time": "2022-01-31T07:10:02.763Z"
   },
   {
    "duration": 25,
    "start_time": "2022-01-31T07:10:02.771Z"
   },
   {
    "duration": 167,
    "start_time": "2022-01-31T07:10:02.798Z"
   },
   {
    "duration": 8,
    "start_time": "2022-01-31T07:10:02.967Z"
   },
   {
    "duration": 31,
    "start_time": "2022-01-31T07:10:02.977Z"
   },
   {
    "duration": 28,
    "start_time": "2022-01-31T07:10:03.010Z"
   },
   {
    "duration": 104,
    "start_time": "2022-01-31T07:10:03.040Z"
   },
   {
    "duration": 16,
    "start_time": "2022-01-31T07:10:03.146Z"
   },
   {
    "duration": 20,
    "start_time": "2022-01-31T07:10:03.164Z"
   },
   {
    "duration": 149,
    "start_time": "2022-01-31T07:10:03.185Z"
   },
   {
    "duration": 8,
    "start_time": "2022-01-31T07:10:03.336Z"
   },
   {
    "duration": 30,
    "start_time": "2022-01-31T07:10:03.346Z"
   },
   {
    "duration": 34,
    "start_time": "2022-01-31T07:10:03.378Z"
   },
   {
    "duration": 22,
    "start_time": "2022-01-31T07:10:03.414Z"
   },
   {
    "duration": 21,
    "start_time": "2022-01-31T07:10:03.438Z"
   },
   {
    "duration": 76,
    "start_time": "2022-01-31T07:10:03.461Z"
   },
   {
    "duration": 21,
    "start_time": "2022-01-31T07:10:03.539Z"
   },
   {
    "duration": 9,
    "start_time": "2022-01-31T07:10:03.561Z"
   },
   {
    "duration": 33,
    "start_time": "2022-01-31T07:10:03.571Z"
   },
   {
    "duration": 10,
    "start_time": "2022-01-31T07:10:03.608Z"
   },
   {
    "duration": 18,
    "start_time": "2022-01-31T07:10:03.621Z"
   },
   {
    "duration": 9,
    "start_time": "2022-01-31T07:10:03.641Z"
   },
   {
    "duration": 19,
    "start_time": "2022-01-31T07:10:03.652Z"
   },
   {
    "duration": 135,
    "start_time": "2022-01-31T07:10:03.672Z"
   },
   {
    "duration": 8,
    "start_time": "2022-01-31T07:10:03.809Z"
   },
   {
    "duration": 42,
    "start_time": "2022-01-31T07:10:03.819Z"
   },
   {
    "duration": 7,
    "start_time": "2022-01-31T07:10:03.863Z"
   },
   {
    "duration": 11,
    "start_time": "2022-01-31T07:10:03.871Z"
   },
   {
    "duration": 28,
    "start_time": "2022-01-31T07:10:03.884Z"
   },
   {
    "duration": 6,
    "start_time": "2022-01-31T07:10:03.914Z"
   },
   {
    "duration": 23,
    "start_time": "2022-01-31T07:10:03.922Z"
   },
   {
    "duration": 22,
    "start_time": "2022-01-31T07:10:03.947Z"
   },
   {
    "duration": 5,
    "start_time": "2022-01-31T07:10:03.971Z"
   },
   {
    "duration": 27,
    "start_time": "2022-01-31T07:10:03.978Z"
   },
   {
    "duration": 22,
    "start_time": "2022-01-31T07:10:04.007Z"
   },
   {
    "duration": 16,
    "start_time": "2022-01-31T07:10:04.031Z"
   },
   {
    "duration": 7,
    "start_time": "2022-01-31T07:10:04.049Z"
   },
   {
    "duration": 51,
    "start_time": "2022-01-31T07:10:04.058Z"
   },
   {
    "duration": 9,
    "start_time": "2022-01-31T07:10:04.111Z"
   },
   {
    "duration": 14,
    "start_time": "2022-01-31T07:10:04.122Z"
   },
   {
    "duration": 15,
    "start_time": "2022-01-31T07:10:04.139Z"
   },
   {
    "duration": 47,
    "start_time": "2022-01-31T07:10:04.156Z"
   },
   {
    "duration": 8,
    "start_time": "2022-01-31T07:10:04.205Z"
   },
   {
    "duration": 14,
    "start_time": "2022-01-31T07:10:04.214Z"
   },
   {
    "duration": 19,
    "start_time": "2022-01-31T07:10:04.230Z"
   },
   {
    "duration": 26,
    "start_time": "2022-01-31T07:10:04.251Z"
   },
   {
    "duration": 4,
    "start_time": "2022-01-31T07:10:04.279Z"
   },
   {
    "duration": 24,
    "start_time": "2022-01-31T07:10:04.284Z"
   },
   {
    "duration": 209,
    "start_time": "2022-01-31T07:10:04.310Z"
   },
   {
    "duration": 3,
    "start_time": "2022-01-31T07:10:04.521Z"
   },
   {
    "duration": 26,
    "start_time": "2022-01-31T07:10:04.526Z"
   },
   {
    "duration": 16,
    "start_time": "2022-01-31T07:10:04.553Z"
   },
   {
    "duration": 6,
    "start_time": "2022-01-31T07:10:04.570Z"
   },
   {
    "duration": 33,
    "start_time": "2022-01-31T07:10:04.577Z"
   },
   {
    "duration": 10,
    "start_time": "2022-01-31T07:10:04.612Z"
   },
   {
    "duration": 30,
    "start_time": "2022-01-31T07:10:04.623Z"
   },
   {
    "duration": 14,
    "start_time": "2022-01-31T07:10:04.655Z"
   },
   {
    "duration": 32,
    "start_time": "2022-01-31T07:10:04.671Z"
   },
   {
    "duration": 29,
    "start_time": "2022-01-31T07:10:04.705Z"
   },
   {
    "duration": 267,
    "start_time": "2022-01-31T07:10:04.736Z"
   },
   {
    "duration": 551,
    "start_time": "2022-01-31T07:10:05.005Z"
   },
   {
    "duration": 662,
    "start_time": "2022-01-31T07:16:13.803Z"
   },
   {
    "duration": 1065,
    "start_time": "2022-01-31T07:16:31.339Z"
   },
   {
    "duration": 3,
    "start_time": "2022-01-31T07:16:32.407Z"
   },
   {
    "duration": 43,
    "start_time": "2022-01-31T07:16:32.413Z"
   },
   {
    "duration": 9,
    "start_time": "2022-01-31T07:16:32.458Z"
   },
   {
    "duration": 41,
    "start_time": "2022-01-31T07:16:32.469Z"
   },
   {
    "duration": 182,
    "start_time": "2022-01-31T07:16:32.512Z"
   },
   {
    "duration": 9,
    "start_time": "2022-01-31T07:16:32.696Z"
   },
   {
    "duration": 26,
    "start_time": "2022-01-31T07:16:32.708Z"
   },
   {
    "duration": 29,
    "start_time": "2022-01-31T07:16:32.737Z"
   },
   {
    "duration": 108,
    "start_time": "2022-01-31T07:16:32.768Z"
   },
   {
    "duration": 20,
    "start_time": "2022-01-31T07:16:32.878Z"
   },
   {
    "duration": 13,
    "start_time": "2022-01-31T07:16:32.900Z"
   },
   {
    "duration": 138,
    "start_time": "2022-01-31T07:16:32.914Z"
   },
   {
    "duration": 7,
    "start_time": "2022-01-31T07:16:33.054Z"
   },
   {
    "duration": 23,
    "start_time": "2022-01-31T07:16:33.063Z"
   },
   {
    "duration": 30,
    "start_time": "2022-01-31T07:16:33.099Z"
   },
   {
    "duration": 21,
    "start_time": "2022-01-31T07:16:33.130Z"
   },
   {
    "duration": 11,
    "start_time": "2022-01-31T07:16:33.153Z"
   },
   {
    "duration": 65,
    "start_time": "2022-01-31T07:16:33.166Z"
   },
   {
    "duration": 21,
    "start_time": "2022-01-31T07:16:33.233Z"
   },
   {
    "duration": 4,
    "start_time": "2022-01-31T07:16:33.256Z"
   },
   {
    "duration": 40,
    "start_time": "2022-01-31T07:16:33.262Z"
   },
   {
    "duration": 10,
    "start_time": "2022-01-31T07:16:33.306Z"
   },
   {
    "duration": 16,
    "start_time": "2022-01-31T07:16:33.318Z"
   },
   {
    "duration": 9,
    "start_time": "2022-01-31T07:16:33.336Z"
   },
   {
    "duration": 12,
    "start_time": "2022-01-31T07:16:33.347Z"
   },
   {
    "duration": 144,
    "start_time": "2022-01-31T07:16:33.361Z"
   },
   {
    "duration": 7,
    "start_time": "2022-01-31T07:16:33.507Z"
   },
   {
    "duration": 40,
    "start_time": "2022-01-31T07:16:33.516Z"
   },
   {
    "duration": 7,
    "start_time": "2022-01-31T07:16:33.558Z"
   },
   {
    "duration": 21,
    "start_time": "2022-01-31T07:16:33.566Z"
   },
   {
    "duration": 36,
    "start_time": "2022-01-31T07:16:33.588Z"
   },
   {
    "duration": 6,
    "start_time": "2022-01-31T07:16:33.626Z"
   },
   {
    "duration": 18,
    "start_time": "2022-01-31T07:16:33.634Z"
   },
   {
    "duration": 33,
    "start_time": "2022-01-31T07:16:33.654Z"
   },
   {
    "duration": 4,
    "start_time": "2022-01-31T07:16:33.688Z"
   },
   {
    "duration": 30,
    "start_time": "2022-01-31T07:16:33.693Z"
   },
   {
    "duration": 18,
    "start_time": "2022-01-31T07:16:33.725Z"
   },
   {
    "duration": 30,
    "start_time": "2022-01-31T07:16:33.744Z"
   },
   {
    "duration": 5,
    "start_time": "2022-01-31T07:16:33.776Z"
   },
   {
    "duration": 16,
    "start_time": "2022-01-31T07:16:33.783Z"
   },
   {
    "duration": 7,
    "start_time": "2022-01-31T07:16:33.800Z"
   },
   {
    "duration": 14,
    "start_time": "2022-01-31T07:16:33.808Z"
   },
   {
    "duration": 10,
    "start_time": "2022-01-31T07:16:33.823Z"
   },
   {
    "duration": 22,
    "start_time": "2022-01-31T07:16:33.834Z"
   },
   {
    "duration": 7,
    "start_time": "2022-01-31T07:16:33.857Z"
   },
   {
    "duration": 6,
    "start_time": "2022-01-31T07:16:33.865Z"
   },
   {
    "duration": 31,
    "start_time": "2022-01-31T07:16:33.872Z"
   },
   {
    "duration": 13,
    "start_time": "2022-01-31T07:16:33.905Z"
   },
   {
    "duration": 4,
    "start_time": "2022-01-31T07:16:33.920Z"
   },
   {
    "duration": 17,
    "start_time": "2022-01-31T07:16:33.925Z"
   },
   {
    "duration": 242,
    "start_time": "2022-01-31T07:16:33.944Z"
   },
   {
    "duration": 5,
    "start_time": "2022-01-31T07:16:34.188Z"
   },
   {
    "duration": 17,
    "start_time": "2022-01-31T07:16:34.199Z"
   },
   {
    "duration": 20,
    "start_time": "2022-01-31T07:16:34.217Z"
   },
   {
    "duration": 6,
    "start_time": "2022-01-31T07:16:34.239Z"
   },
   {
    "duration": 14,
    "start_time": "2022-01-31T07:16:34.248Z"
   },
   {
    "duration": 43,
    "start_time": "2022-01-31T07:16:34.264Z"
   },
   {
    "duration": 24,
    "start_time": "2022-01-31T07:16:34.309Z"
   },
   {
    "duration": 14,
    "start_time": "2022-01-31T07:16:34.335Z"
   },
   {
    "duration": 12,
    "start_time": "2022-01-31T07:16:34.350Z"
   },
   {
    "duration": 23,
    "start_time": "2022-01-31T07:16:34.398Z"
   },
   {
    "duration": 551,
    "start_time": "2022-01-31T07:16:34.423Z"
   },
   {
    "duration": -57,
    "start_time": "2022-01-31T07:16:35.033Z"
   },
   {
    "duration": 465,
    "start_time": "2022-01-31T07:17:07.517Z"
   },
   {
    "duration": 281,
    "start_time": "2022-01-31T07:17:54.537Z"
   },
   {
    "duration": 371,
    "start_time": "2022-01-31T07:21:49.647Z"
   },
   {
    "duration": 274,
    "start_time": "2022-01-31T07:22:35.030Z"
   },
   {
    "duration": 273,
    "start_time": "2022-01-31T07:22:46.997Z"
   },
   {
    "duration": 278,
    "start_time": "2022-01-31T07:23:02.933Z"
   },
   {
    "duration": 496,
    "start_time": "2022-01-31T07:23:29.702Z"
   },
   {
    "duration": 267,
    "start_time": "2022-01-31T07:23:59.455Z"
   },
   {
    "duration": 274,
    "start_time": "2022-01-31T07:24:06.029Z"
   },
   {
    "duration": 674,
    "start_time": "2022-01-31T07:26:02.396Z"
   },
   {
    "duration": 457,
    "start_time": "2022-01-31T07:26:18.365Z"
   },
   {
    "duration": 386,
    "start_time": "2022-01-31T07:26:33.864Z"
   },
   {
    "duration": 390,
    "start_time": "2022-01-31T07:26:43.247Z"
   },
   {
    "duration": 391,
    "start_time": "2022-01-31T07:26:51.605Z"
   },
   {
    "duration": 419,
    "start_time": "2022-01-31T07:27:01.375Z"
   },
   {
    "duration": 386,
    "start_time": "2022-01-31T07:27:10.650Z"
   },
   {
    "duration": 400,
    "start_time": "2022-01-31T07:27:20.080Z"
   },
   {
    "duration": 1097,
    "start_time": "2022-01-31T07:27:43.950Z"
   },
   {
    "duration": 4,
    "start_time": "2022-01-31T07:27:45.049Z"
   },
   {
    "duration": 49,
    "start_time": "2022-01-31T07:27:45.055Z"
   },
   {
    "duration": 8,
    "start_time": "2022-01-31T07:27:45.106Z"
   },
   {
    "duration": 39,
    "start_time": "2022-01-31T07:27:45.116Z"
   },
   {
    "duration": 169,
    "start_time": "2022-01-31T07:27:45.157Z"
   },
   {
    "duration": 8,
    "start_time": "2022-01-31T07:27:45.328Z"
   },
   {
    "duration": 26,
    "start_time": "2022-01-31T07:27:45.339Z"
   },
   {
    "duration": 47,
    "start_time": "2022-01-31T07:27:45.367Z"
   },
   {
    "duration": 105,
    "start_time": "2022-01-31T07:27:45.416Z"
   },
   {
    "duration": 16,
    "start_time": "2022-01-31T07:27:45.523Z"
   },
   {
    "duration": 23,
    "start_time": "2022-01-31T07:27:45.541Z"
   },
   {
    "duration": 155,
    "start_time": "2022-01-31T07:27:45.566Z"
   },
   {
    "duration": 9,
    "start_time": "2022-01-31T07:27:45.724Z"
   },
   {
    "duration": 21,
    "start_time": "2022-01-31T07:27:45.735Z"
   },
   {
    "duration": 54,
    "start_time": "2022-01-31T07:27:45.758Z"
   },
   {
    "duration": 22,
    "start_time": "2022-01-31T07:27:45.814Z"
   },
   {
    "duration": 8,
    "start_time": "2022-01-31T07:27:45.838Z"
   },
   {
    "duration": 65,
    "start_time": "2022-01-31T07:27:45.848Z"
   },
   {
    "duration": 21,
    "start_time": "2022-01-31T07:27:45.915Z"
   },
   {
    "duration": 6,
    "start_time": "2022-01-31T07:27:45.937Z"
   },
   {
    "duration": 24,
    "start_time": "2022-01-31T07:27:45.944Z"
   },
   {
    "duration": 32,
    "start_time": "2022-01-31T07:27:45.972Z"
   },
   {
    "duration": 17,
    "start_time": "2022-01-31T07:27:46.006Z"
   },
   {
    "duration": 10,
    "start_time": "2022-01-31T07:27:46.025Z"
   },
   {
    "duration": 14,
    "start_time": "2022-01-31T07:27:46.037Z"
   },
   {
    "duration": 146,
    "start_time": "2022-01-31T07:27:46.052Z"
   },
   {
    "duration": 8,
    "start_time": "2022-01-31T07:27:46.200Z"
   },
   {
    "duration": 36,
    "start_time": "2022-01-31T07:27:46.210Z"
   },
   {
    "duration": 7,
    "start_time": "2022-01-31T07:27:46.248Z"
   },
   {
    "duration": 9,
    "start_time": "2022-01-31T07:27:46.256Z"
   },
   {
    "duration": 39,
    "start_time": "2022-01-31T07:27:46.267Z"
   },
   {
    "duration": 7,
    "start_time": "2022-01-31T07:27:46.308Z"
   },
   {
    "duration": 17,
    "start_time": "2022-01-31T07:27:46.317Z"
   },
   {
    "duration": 18,
    "start_time": "2022-01-31T07:27:46.336Z"
   },
   {
    "duration": 4,
    "start_time": "2022-01-31T07:27:46.355Z"
   },
   {
    "duration": 11,
    "start_time": "2022-01-31T07:27:46.361Z"
   },
   {
    "duration": 38,
    "start_time": "2022-01-31T07:27:46.374Z"
   },
   {
    "duration": 15,
    "start_time": "2022-01-31T07:27:46.414Z"
   },
   {
    "duration": 6,
    "start_time": "2022-01-31T07:27:46.430Z"
   },
   {
    "duration": 18,
    "start_time": "2022-01-31T07:27:46.437Z"
   },
   {
    "duration": 44,
    "start_time": "2022-01-31T07:27:46.457Z"
   },
   {
    "duration": 6,
    "start_time": "2022-01-31T07:27:46.503Z"
   },
   {
    "duration": 10,
    "start_time": "2022-01-31T07:27:46.510Z"
   },
   {
    "duration": 20,
    "start_time": "2022-01-31T07:27:46.522Z"
   },
   {
    "duration": 7,
    "start_time": "2022-01-31T07:27:46.544Z"
   },
   {
    "duration": 5,
    "start_time": "2022-01-31T07:27:46.553Z"
   },
   {
    "duration": 44,
    "start_time": "2022-01-31T07:27:46.560Z"
   },
   {
    "duration": 14,
    "start_time": "2022-01-31T07:27:46.605Z"
   },
   {
    "duration": 4,
    "start_time": "2022-01-31T07:27:46.620Z"
   },
   {
    "duration": 17,
    "start_time": "2022-01-31T07:27:46.626Z"
   },
   {
    "duration": 231,
    "start_time": "2022-01-31T07:27:46.645Z"
   },
   {
    "duration": 3,
    "start_time": "2022-01-31T07:27:46.878Z"
   },
   {
    "duration": 27,
    "start_time": "2022-01-31T07:27:46.883Z"
   },
   {
    "duration": 20,
    "start_time": "2022-01-31T07:27:46.912Z"
   },
   {
    "duration": 6,
    "start_time": "2022-01-31T07:27:46.933Z"
   },
   {
    "duration": 16,
    "start_time": "2022-01-31T07:27:46.941Z"
   },
   {
    "duration": 10,
    "start_time": "2022-01-31T07:27:46.959Z"
   },
   {
    "duration": 25,
    "start_time": "2022-01-31T07:27:46.999Z"
   },
   {
    "duration": 15,
    "start_time": "2022-01-31T07:27:47.026Z"
   },
   {
    "duration": 10,
    "start_time": "2022-01-31T07:27:47.043Z"
   },
   {
    "duration": 55,
    "start_time": "2022-01-31T07:27:47.055Z"
   },
   {
    "duration": 435,
    "start_time": "2022-01-31T07:27:47.111Z"
   },
   {
    "duration": 571,
    "start_time": "2022-01-31T07:27:47.547Z"
   },
   {
    "duration": 1306,
    "start_time": "2022-01-31T07:28:27.105Z"
   },
   {
    "duration": 3,
    "start_time": "2022-01-31T07:28:28.413Z"
   },
   {
    "duration": 41,
    "start_time": "2022-01-31T07:28:28.418Z"
   },
   {
    "duration": 7,
    "start_time": "2022-01-31T07:28:28.461Z"
   },
   {
    "duration": 23,
    "start_time": "2022-01-31T07:28:28.470Z"
   },
   {
    "duration": 171,
    "start_time": "2022-01-31T07:28:28.495Z"
   },
   {
    "duration": 8,
    "start_time": "2022-01-31T07:28:28.668Z"
   },
   {
    "duration": 28,
    "start_time": "2022-01-31T07:28:28.679Z"
   },
   {
    "duration": 29,
    "start_time": "2022-01-31T07:28:28.709Z"
   },
   {
    "duration": 111,
    "start_time": "2022-01-31T07:28:28.739Z"
   },
   {
    "duration": 16,
    "start_time": "2022-01-31T07:28:28.852Z"
   },
   {
    "duration": 16,
    "start_time": "2022-01-31T07:28:28.869Z"
   },
   {
    "duration": 139,
    "start_time": "2022-01-31T07:28:28.899Z"
   },
   {
    "duration": 9,
    "start_time": "2022-01-31T07:28:29.039Z"
   },
   {
    "duration": 26,
    "start_time": "2022-01-31T07:28:29.050Z"
   },
   {
    "duration": 40,
    "start_time": "2022-01-31T07:28:29.078Z"
   },
   {
    "duration": 23,
    "start_time": "2022-01-31T07:28:29.119Z"
   },
   {
    "duration": 9,
    "start_time": "2022-01-31T07:28:29.144Z"
   },
   {
    "duration": 72,
    "start_time": "2022-01-31T07:28:29.155Z"
   },
   {
    "duration": 21,
    "start_time": "2022-01-31T07:28:29.229Z"
   },
   {
    "duration": 5,
    "start_time": "2022-01-31T07:28:29.252Z"
   },
   {
    "duration": 41,
    "start_time": "2022-01-31T07:28:29.259Z"
   },
   {
    "duration": 11,
    "start_time": "2022-01-31T07:28:29.304Z"
   },
   {
    "duration": 17,
    "start_time": "2022-01-31T07:28:29.317Z"
   },
   {
    "duration": 10,
    "start_time": "2022-01-31T07:28:29.336Z"
   },
   {
    "duration": 13,
    "start_time": "2022-01-31T07:28:29.348Z"
   },
   {
    "duration": 158,
    "start_time": "2022-01-31T07:28:29.363Z"
   },
   {
    "duration": 8,
    "start_time": "2022-01-31T07:28:29.523Z"
   },
   {
    "duration": 39,
    "start_time": "2022-01-31T07:28:29.533Z"
   },
   {
    "duration": 25,
    "start_time": "2022-01-31T07:28:29.573Z"
   },
   {
    "duration": 9,
    "start_time": "2022-01-31T07:28:29.600Z"
   },
   {
    "duration": 21,
    "start_time": "2022-01-31T07:28:29.611Z"
   },
   {
    "duration": 6,
    "start_time": "2022-01-31T07:28:29.634Z"
   },
   {
    "duration": 10,
    "start_time": "2022-01-31T07:28:29.642Z"
   },
   {
    "duration": 17,
    "start_time": "2022-01-31T07:28:29.654Z"
   },
   {
    "duration": 27,
    "start_time": "2022-01-31T07:28:29.672Z"
   },
   {
    "duration": 9,
    "start_time": "2022-01-31T07:28:29.701Z"
   },
   {
    "duration": 15,
    "start_time": "2022-01-31T07:28:29.712Z"
   },
   {
    "duration": 15,
    "start_time": "2022-01-31T07:28:29.729Z"
   },
   {
    "duration": 5,
    "start_time": "2022-01-31T07:28:29.746Z"
   },
   {
    "duration": 57,
    "start_time": "2022-01-31T07:28:29.753Z"
   },
   {
    "duration": 7,
    "start_time": "2022-01-31T07:28:29.811Z"
   },
   {
    "duration": 7,
    "start_time": "2022-01-31T07:28:29.819Z"
   },
   {
    "duration": 9,
    "start_time": "2022-01-31T07:28:29.827Z"
   },
   {
    "duration": 21,
    "start_time": "2022-01-31T07:28:29.837Z"
   },
   {
    "duration": 39,
    "start_time": "2022-01-31T07:28:29.860Z"
   },
   {
    "duration": 6,
    "start_time": "2022-01-31T07:28:29.901Z"
   },
   {
    "duration": 11,
    "start_time": "2022-01-31T07:28:29.909Z"
   },
   {
    "duration": 13,
    "start_time": "2022-01-31T07:28:29.922Z"
   },
   {
    "duration": 4,
    "start_time": "2022-01-31T07:28:29.936Z"
   },
   {
    "duration": 21,
    "start_time": "2022-01-31T07:28:29.942Z"
   },
   {
    "duration": 237,
    "start_time": "2022-01-31T07:28:29.965Z"
   },
   {
    "duration": 4,
    "start_time": "2022-01-31T07:28:30.204Z"
   },
   {
    "duration": 25,
    "start_time": "2022-01-31T07:28:30.210Z"
   },
   {
    "duration": 18,
    "start_time": "2022-01-31T07:28:30.238Z"
   },
   {
    "duration": 9,
    "start_time": "2022-01-31T07:28:30.258Z"
   },
   {
    "duration": 37,
    "start_time": "2022-01-31T07:28:30.269Z"
   },
   {
    "duration": 14,
    "start_time": "2022-01-31T07:28:30.308Z"
   },
   {
    "duration": 34,
    "start_time": "2022-01-31T07:28:30.324Z"
   },
   {
    "duration": 13,
    "start_time": "2022-01-31T07:28:30.360Z"
   },
   {
    "duration": 14,
    "start_time": "2022-01-31T07:28:30.374Z"
   },
   {
    "duration": 55,
    "start_time": "2022-01-31T07:28:30.390Z"
   },
   {
    "duration": 437,
    "start_time": "2022-01-31T07:28:30.446Z"
   },
   {
    "duration": 576,
    "start_time": "2022-01-31T07:28:30.885Z"
   },
   {
    "duration": 1094,
    "start_time": "2022-01-31T07:29:31.516Z"
   },
   {
    "duration": 2,
    "start_time": "2022-01-31T07:29:32.612Z"
   },
   {
    "duration": 43,
    "start_time": "2022-01-31T07:29:32.616Z"
   },
   {
    "duration": 7,
    "start_time": "2022-01-31T07:29:32.661Z"
   },
   {
    "duration": 18,
    "start_time": "2022-01-31T07:29:32.670Z"
   },
   {
    "duration": 166,
    "start_time": "2022-01-31T07:29:32.690Z"
   },
   {
    "duration": 8,
    "start_time": "2022-01-31T07:29:32.857Z"
   },
   {
    "duration": 30,
    "start_time": "2022-01-31T07:29:32.868Z"
   },
   {
    "duration": 27,
    "start_time": "2022-01-31T07:29:32.901Z"
   },
   {
    "duration": 105,
    "start_time": "2022-01-31T07:29:32.930Z"
   },
   {
    "duration": 15,
    "start_time": "2022-01-31T07:29:33.037Z"
   },
   {
    "duration": 13,
    "start_time": "2022-01-31T07:29:33.054Z"
   },
   {
    "duration": 145,
    "start_time": "2022-01-31T07:29:33.069Z"
   },
   {
    "duration": 8,
    "start_time": "2022-01-31T07:29:33.215Z"
   },
   {
    "duration": 34,
    "start_time": "2022-01-31T07:29:33.225Z"
   },
   {
    "duration": 28,
    "start_time": "2022-01-31T07:29:33.261Z"
   },
   {
    "duration": 21,
    "start_time": "2022-01-31T07:29:33.291Z"
   },
   {
    "duration": 17,
    "start_time": "2022-01-31T07:29:33.314Z"
   },
   {
    "duration": 67,
    "start_time": "2022-01-31T07:29:33.332Z"
   },
   {
    "duration": 21,
    "start_time": "2022-01-31T07:29:33.401Z"
   },
   {
    "duration": 5,
    "start_time": "2022-01-31T07:29:33.423Z"
   },
   {
    "duration": 23,
    "start_time": "2022-01-31T07:29:33.430Z"
   },
   {
    "duration": 10,
    "start_time": "2022-01-31T07:29:33.456Z"
   },
   {
    "duration": 44,
    "start_time": "2022-01-31T07:29:33.468Z"
   },
   {
    "duration": 15,
    "start_time": "2022-01-31T07:29:33.514Z"
   },
   {
    "duration": 26,
    "start_time": "2022-01-31T07:29:33.530Z"
   },
   {
    "duration": 112,
    "start_time": "2022-01-31T07:29:33.557Z"
   },
   {
    "duration": 8,
    "start_time": "2022-01-31T07:29:33.670Z"
   },
   {
    "duration": 45,
    "start_time": "2022-01-31T07:29:33.679Z"
   },
   {
    "duration": 7,
    "start_time": "2022-01-31T07:29:33.726Z"
   },
   {
    "duration": 19,
    "start_time": "2022-01-31T07:29:33.734Z"
   },
   {
    "duration": 28,
    "start_time": "2022-01-31T07:29:33.754Z"
   },
   {
    "duration": 11,
    "start_time": "2022-01-31T07:29:33.784Z"
   },
   {
    "duration": 28,
    "start_time": "2022-01-31T07:29:33.796Z"
   },
   {
    "duration": 19,
    "start_time": "2022-01-31T07:29:33.826Z"
   },
   {
    "duration": 4,
    "start_time": "2022-01-31T07:29:33.846Z"
   },
   {
    "duration": 9,
    "start_time": "2022-01-31T07:29:33.852Z"
   },
   {
    "duration": 14,
    "start_time": "2022-01-31T07:29:33.863Z"
   },
   {
    "duration": 23,
    "start_time": "2022-01-31T07:29:33.879Z"
   },
   {
    "duration": 6,
    "start_time": "2022-01-31T07:29:33.903Z"
   },
   {
    "duration": 18,
    "start_time": "2022-01-31T07:29:33.910Z"
   },
   {
    "duration": 7,
    "start_time": "2022-01-31T07:29:33.930Z"
   },
   {
    "duration": 7,
    "start_time": "2022-01-31T07:29:33.939Z"
   },
   {
    "duration": 7,
    "start_time": "2022-01-31T07:29:33.948Z"
   },
   {
    "duration": 52,
    "start_time": "2022-01-31T07:29:33.956Z"
   },
   {
    "duration": 7,
    "start_time": "2022-01-31T07:29:34.010Z"
   },
   {
    "duration": 5,
    "start_time": "2022-01-31T07:29:34.019Z"
   },
   {
    "duration": 9,
    "start_time": "2022-01-31T07:29:34.026Z"
   },
   {
    "duration": 15,
    "start_time": "2022-01-31T07:29:34.037Z"
   },
   {
    "duration": 13,
    "start_time": "2022-01-31T07:29:34.054Z"
   },
   {
    "duration": 38,
    "start_time": "2022-01-31T07:29:34.069Z"
   },
   {
    "duration": 228,
    "start_time": "2022-01-31T07:29:34.110Z"
   },
   {
    "duration": 4,
    "start_time": "2022-01-31T07:29:34.340Z"
   },
   {
    "duration": 22,
    "start_time": "2022-01-31T07:29:34.346Z"
   },
   {
    "duration": 17,
    "start_time": "2022-01-31T07:29:34.370Z"
   },
   {
    "duration": 11,
    "start_time": "2022-01-31T07:29:34.399Z"
   },
   {
    "duration": 43,
    "start_time": "2022-01-31T07:29:34.412Z"
   },
   {
    "duration": 31,
    "start_time": "2022-01-31T07:29:34.457Z"
   },
   {
    "duration": 419,
    "start_time": "2022-01-31T07:29:34.499Z"
   },
   {
    "duration": 575,
    "start_time": "2022-01-31T07:29:34.920Z"
   },
   {
    "duration": 287,
    "start_time": "2022-02-01T04:00:38.666Z"
   },
   {
    "duration": 268,
    "start_time": "2022-02-01T04:00:48.489Z"
   },
   {
    "duration": 1146,
    "start_time": "2022-02-01T04:02:15.495Z"
   },
   {
    "duration": 2,
    "start_time": "2022-02-01T04:02:16.643Z"
   },
   {
    "duration": 50,
    "start_time": "2022-02-01T04:02:16.647Z"
   },
   {
    "duration": 6,
    "start_time": "2022-02-01T04:02:16.698Z"
   },
   {
    "duration": 16,
    "start_time": "2022-02-01T04:02:16.705Z"
   },
   {
    "duration": 145,
    "start_time": "2022-02-01T04:02:16.722Z"
   },
   {
    "duration": 7,
    "start_time": "2022-02-01T04:02:16.869Z"
   },
   {
    "duration": 21,
    "start_time": "2022-02-01T04:02:16.878Z"
   },
   {
    "duration": 23,
    "start_time": "2022-02-01T04:02:16.901Z"
   },
   {
    "duration": 91,
    "start_time": "2022-02-01T04:02:16.926Z"
   },
   {
    "duration": 13,
    "start_time": "2022-02-01T04:02:17.019Z"
   },
   {
    "duration": 12,
    "start_time": "2022-02-01T04:02:17.033Z"
   },
   {
    "duration": 126,
    "start_time": "2022-02-01T04:02:17.047Z"
   },
   {
    "duration": 7,
    "start_time": "2022-02-01T04:02:17.175Z"
   },
   {
    "duration": 17,
    "start_time": "2022-02-01T04:02:17.183Z"
   },
   {
    "duration": 23,
    "start_time": "2022-02-01T04:02:17.202Z"
   },
   {
    "duration": 20,
    "start_time": "2022-02-01T04:02:17.227Z"
   },
   {
    "duration": 6,
    "start_time": "2022-02-01T04:02:17.249Z"
   },
   {
    "duration": 45,
    "start_time": "2022-02-01T04:02:17.271Z"
   },
   {
    "duration": 17,
    "start_time": "2022-02-01T04:02:17.318Z"
   },
   {
    "duration": 4,
    "start_time": "2022-02-01T04:02:17.336Z"
   },
   {
    "duration": 33,
    "start_time": "2022-02-01T04:02:17.342Z"
   },
   {
    "duration": 8,
    "start_time": "2022-02-01T04:02:17.378Z"
   },
   {
    "duration": 12,
    "start_time": "2022-02-01T04:02:17.388Z"
   },
   {
    "duration": 8,
    "start_time": "2022-02-01T04:02:17.401Z"
   },
   {
    "duration": 11,
    "start_time": "2022-02-01T04:02:17.410Z"
   },
   {
    "duration": 113,
    "start_time": "2022-02-01T04:02:17.423Z"
   },
   {
    "duration": 6,
    "start_time": "2022-02-01T04:02:17.538Z"
   },
   {
    "duration": 34,
    "start_time": "2022-02-01T04:02:17.546Z"
   },
   {
    "duration": 5,
    "start_time": "2022-02-01T04:02:17.582Z"
   },
   {
    "duration": 6,
    "start_time": "2022-02-01T04:02:17.589Z"
   },
   {
    "duration": 11,
    "start_time": "2022-02-01T04:02:17.597Z"
   },
   {
    "duration": 6,
    "start_time": "2022-02-01T04:02:17.609Z"
   },
   {
    "duration": 8,
    "start_time": "2022-02-01T04:02:17.616Z"
   },
   {
    "duration": 13,
    "start_time": "2022-02-01T04:02:17.626Z"
   },
   {
    "duration": 31,
    "start_time": "2022-02-01T04:02:17.640Z"
   },
   {
    "duration": 5,
    "start_time": "2022-02-01T04:02:17.673Z"
   },
   {
    "duration": 12,
    "start_time": "2022-02-01T04:02:17.679Z"
   },
   {
    "duration": 11,
    "start_time": "2022-02-01T04:02:17.692Z"
   },
   {
    "duration": 4,
    "start_time": "2022-02-01T04:02:17.704Z"
   },
   {
    "duration": 46,
    "start_time": "2022-02-01T04:02:17.710Z"
   },
   {
    "duration": 5,
    "start_time": "2022-02-01T04:02:17.757Z"
   },
   {
    "duration": 7,
    "start_time": "2022-02-01T04:02:17.764Z"
   },
   {
    "duration": 9,
    "start_time": "2022-02-01T04:02:17.773Z"
   },
   {
    "duration": 18,
    "start_time": "2022-02-01T04:02:17.784Z"
   },
   {
    "duration": 5,
    "start_time": "2022-02-01T04:02:17.803Z"
   },
   {
    "duration": 7,
    "start_time": "2022-02-01T04:02:17.809Z"
   },
   {
    "duration": 13,
    "start_time": "2022-02-01T04:02:17.817Z"
   },
   {
    "duration": 13,
    "start_time": "2022-02-01T04:02:17.831Z"
   },
   {
    "duration": 4,
    "start_time": "2022-02-01T04:02:17.845Z"
   },
   {
    "duration": 24,
    "start_time": "2022-02-01T04:02:17.850Z"
   },
   {
    "duration": 172,
    "start_time": "2022-02-01T04:02:17.876Z"
   },
   {
    "duration": 3,
    "start_time": "2022-02-01T04:02:18.050Z"
   },
   {
    "duration": 22,
    "start_time": "2022-02-01T04:02:18.055Z"
   },
   {
    "duration": 12,
    "start_time": "2022-02-01T04:02:18.078Z"
   },
   {
    "duration": 4,
    "start_time": "2022-02-01T04:02:18.092Z"
   },
   {
    "duration": 26,
    "start_time": "2022-02-01T04:02:18.097Z"
   },
   {
    "duration": 48,
    "start_time": "2022-02-01T04:02:18.124Z"
   },
   {
    "duration": 326,
    "start_time": "2022-02-01T04:02:18.173Z"
   },
   {
    "duration": 992,
    "start_time": "2022-02-01T04:02:18.501Z"
   },
   {
    "duration": 10,
    "start_time": "2022-02-01T04:02:19.495Z"
   },
   {
    "duration": 352,
    "start_time": "2022-02-01T04:02:19.507Z"
   },
   {
    "duration": 321,
    "start_time": "2022-02-01T04:10:59.010Z"
   },
   {
    "duration": 1003,
    "start_time": "2022-02-01T04:16:40.801Z"
   },
   {
    "duration": 2,
    "start_time": "2022-02-01T04:16:41.806Z"
   },
   {
    "duration": 41,
    "start_time": "2022-02-01T04:16:41.810Z"
   },
   {
    "duration": 6,
    "start_time": "2022-02-01T04:16:41.852Z"
   },
   {
    "duration": 13,
    "start_time": "2022-02-01T04:16:41.860Z"
   },
   {
    "duration": 134,
    "start_time": "2022-02-01T04:16:41.874Z"
   },
   {
    "duration": 6,
    "start_time": "2022-02-01T04:16:42.010Z"
   },
   {
    "duration": 18,
    "start_time": "2022-02-01T04:16:42.019Z"
   },
   {
    "duration": 21,
    "start_time": "2022-02-01T04:16:42.039Z"
   },
   {
    "duration": 79,
    "start_time": "2022-02-01T04:16:42.071Z"
   },
   {
    "duration": 12,
    "start_time": "2022-02-01T04:16:42.152Z"
   },
   {
    "duration": 10,
    "start_time": "2022-02-01T04:16:42.166Z"
   },
   {
    "duration": 111,
    "start_time": "2022-02-01T04:16:42.178Z"
   },
   {
    "duration": 8,
    "start_time": "2022-02-01T04:16:42.290Z"
   },
   {
    "duration": 16,
    "start_time": "2022-02-01T04:16:42.300Z"
   },
   {
    "duration": 23,
    "start_time": "2022-02-01T04:16:42.317Z"
   },
   {
    "duration": 34,
    "start_time": "2022-02-01T04:16:42.342Z"
   },
   {
    "duration": 7,
    "start_time": "2022-02-01T04:16:42.377Z"
   },
   {
    "duration": 46,
    "start_time": "2022-02-01T04:16:42.385Z"
   },
   {
    "duration": 17,
    "start_time": "2022-02-01T04:16:42.432Z"
   },
   {
    "duration": 5,
    "start_time": "2022-02-01T04:16:42.471Z"
   },
   {
    "duration": 16,
    "start_time": "2022-02-01T04:16:42.478Z"
   },
   {
    "duration": 8,
    "start_time": "2022-02-01T04:16:42.499Z"
   },
   {
    "duration": 13,
    "start_time": "2022-02-01T04:16:42.510Z"
   },
   {
    "duration": 8,
    "start_time": "2022-02-01T04:16:42.524Z"
   },
   {
    "duration": 44,
    "start_time": "2022-02-01T04:16:42.534Z"
   },
   {
    "duration": 97,
    "start_time": "2022-02-01T04:16:42.579Z"
   },
   {
    "duration": 6,
    "start_time": "2022-02-01T04:16:42.678Z"
   },
   {
    "duration": 26,
    "start_time": "2022-02-01T04:16:42.686Z"
   },
   {
    "duration": 6,
    "start_time": "2022-02-01T04:16:42.713Z"
   },
   {
    "duration": 8,
    "start_time": "2022-02-01T04:16:42.720Z"
   },
   {
    "duration": 11,
    "start_time": "2022-02-01T04:16:42.730Z"
   },
   {
    "duration": 30,
    "start_time": "2022-02-01T04:16:42.743Z"
   },
   {
    "duration": 8,
    "start_time": "2022-02-01T04:16:42.774Z"
   },
   {
    "duration": 15,
    "start_time": "2022-02-01T04:16:42.783Z"
   },
   {
    "duration": 3,
    "start_time": "2022-02-01T04:16:42.799Z"
   },
   {
    "duration": 10,
    "start_time": "2022-02-01T04:16:42.803Z"
   },
   {
    "duration": 15,
    "start_time": "2022-02-01T04:16:42.815Z"
   },
   {
    "duration": 11,
    "start_time": "2022-02-01T04:16:42.832Z"
   },
   {
    "duration": 29,
    "start_time": "2022-02-01T04:16:42.844Z"
   },
   {
    "duration": 14,
    "start_time": "2022-02-01T04:16:42.875Z"
   },
   {
    "duration": 5,
    "start_time": "2022-02-01T04:16:42.891Z"
   },
   {
    "duration": 12,
    "start_time": "2022-02-01T04:16:42.897Z"
   },
   {
    "duration": 10,
    "start_time": "2022-02-01T04:16:42.910Z"
   },
   {
    "duration": 18,
    "start_time": "2022-02-01T04:16:42.921Z"
   },
   {
    "duration": 5,
    "start_time": "2022-02-01T04:16:42.941Z"
   },
   {
    "duration": 27,
    "start_time": "2022-02-01T04:16:42.947Z"
   },
   {
    "duration": 6,
    "start_time": "2022-02-01T04:16:42.976Z"
   },
   {
    "duration": 12,
    "start_time": "2022-02-01T04:16:42.984Z"
   },
   {
    "duration": 3,
    "start_time": "2022-02-01T04:16:42.997Z"
   },
   {
    "duration": 18,
    "start_time": "2022-02-01T04:16:43.002Z"
   },
   {
    "duration": 187,
    "start_time": "2022-02-01T04:16:43.021Z"
   },
   {
    "duration": 3,
    "start_time": "2022-02-01T04:16:43.210Z"
   },
   {
    "duration": 28,
    "start_time": "2022-02-01T04:16:43.214Z"
   },
   {
    "duration": 11,
    "start_time": "2022-02-01T04:16:43.244Z"
   },
   {
    "duration": 13,
    "start_time": "2022-02-01T04:16:43.257Z"
   },
   {
    "duration": 39,
    "start_time": "2022-02-01T04:16:43.271Z"
   },
   {
    "duration": 23,
    "start_time": "2022-02-01T04:16:43.311Z"
   },
   {
    "duration": 316,
    "start_time": "2022-02-01T04:16:43.336Z"
   },
   {
    "duration": 555,
    "start_time": "2022-02-01T04:16:43.653Z"
   },
   {
    "duration": 11,
    "start_time": "2022-02-01T04:16:44.209Z"
   },
   {
    "duration": 324,
    "start_time": "2022-02-01T04:16:44.221Z"
   },
   {
    "duration": 310,
    "start_time": "2022-02-01T04:16:55.498Z"
   },
   {
    "duration": 11,
    "start_time": "2022-02-01T04:17:31.700Z"
   },
   {
    "duration": 334,
    "start_time": "2022-02-01T04:19:24.106Z"
   },
   {
    "duration": 306,
    "start_time": "2022-02-01T04:19:51.700Z"
   },
   {
    "duration": 11,
    "start_time": "2022-02-01T04:21:57.447Z"
   },
   {
    "duration": 366,
    "start_time": "2022-02-01T04:22:46.854Z"
   },
   {
    "duration": 1011,
    "start_time": "2022-02-01T04:28:45.087Z"
   },
   {
    "duration": 3,
    "start_time": "2022-02-01T04:28:46.099Z"
   },
   {
    "duration": 40,
    "start_time": "2022-02-01T04:28:46.105Z"
   },
   {
    "duration": 7,
    "start_time": "2022-02-01T04:28:46.147Z"
   },
   {
    "duration": 13,
    "start_time": "2022-02-01T04:28:46.155Z"
   },
   {
    "duration": 137,
    "start_time": "2022-02-01T04:28:46.170Z"
   },
   {
    "duration": 7,
    "start_time": "2022-02-01T04:28:46.308Z"
   },
   {
    "duration": 19,
    "start_time": "2022-02-01T04:28:46.317Z"
   },
   {
    "duration": 35,
    "start_time": "2022-02-01T04:28:46.338Z"
   },
   {
    "duration": 82,
    "start_time": "2022-02-01T04:28:46.374Z"
   },
   {
    "duration": 13,
    "start_time": "2022-02-01T04:28:46.457Z"
   },
   {
    "duration": 11,
    "start_time": "2022-02-01T04:28:46.472Z"
   },
   {
    "duration": 114,
    "start_time": "2022-02-01T04:28:46.484Z"
   },
   {
    "duration": 7,
    "start_time": "2022-02-01T04:28:46.600Z"
   },
   {
    "duration": 18,
    "start_time": "2022-02-01T04:28:46.608Z"
   },
   {
    "duration": 23,
    "start_time": "2022-02-01T04:28:46.628Z"
   },
   {
    "duration": 26,
    "start_time": "2022-02-01T04:28:46.653Z"
   },
   {
    "duration": 6,
    "start_time": "2022-02-01T04:28:46.681Z"
   },
   {
    "duration": 44,
    "start_time": "2022-02-01T04:28:46.689Z"
   },
   {
    "duration": 42,
    "start_time": "2022-02-01T04:28:46.734Z"
   },
   {
    "duration": 5,
    "start_time": "2022-02-01T04:28:46.778Z"
   },
   {
    "duration": 19,
    "start_time": "2022-02-01T04:28:46.784Z"
   },
   {
    "duration": 8,
    "start_time": "2022-02-01T04:28:46.807Z"
   },
   {
    "duration": 12,
    "start_time": "2022-02-01T04:28:46.818Z"
   },
   {
    "duration": 41,
    "start_time": "2022-02-01T04:28:46.832Z"
   },
   {
    "duration": 13,
    "start_time": "2022-02-01T04:28:46.875Z"
   },
   {
    "duration": 104,
    "start_time": "2022-02-01T04:28:46.890Z"
   },
   {
    "duration": 7,
    "start_time": "2022-02-01T04:28:46.996Z"
   },
   {
    "duration": 27,
    "start_time": "2022-02-01T04:28:47.005Z"
   },
   {
    "duration": 7,
    "start_time": "2022-02-01T04:28:47.033Z"
   },
   {
    "duration": 34,
    "start_time": "2022-02-01T04:28:47.041Z"
   },
   {
    "duration": 12,
    "start_time": "2022-02-01T04:28:47.077Z"
   },
   {
    "duration": 5,
    "start_time": "2022-02-01T04:28:47.090Z"
   },
   {
    "duration": 8,
    "start_time": "2022-02-01T04:28:47.097Z"
   },
   {
    "duration": 14,
    "start_time": "2022-02-01T04:28:47.106Z"
   },
   {
    "duration": 2,
    "start_time": "2022-02-01T04:28:47.122Z"
   },
   {
    "duration": 7,
    "start_time": "2022-02-01T04:28:47.126Z"
   },
   {
    "duration": 39,
    "start_time": "2022-02-01T04:28:47.135Z"
   },
   {
    "duration": 11,
    "start_time": "2022-02-01T04:28:47.175Z"
   },
   {
    "duration": 5,
    "start_time": "2022-02-01T04:28:47.188Z"
   },
   {
    "duration": 16,
    "start_time": "2022-02-01T04:28:47.194Z"
   },
   {
    "duration": 6,
    "start_time": "2022-02-01T04:28:47.211Z"
   },
   {
    "duration": 8,
    "start_time": "2022-02-01T04:28:47.219Z"
   },
   {
    "duration": 15,
    "start_time": "2022-02-01T04:28:47.228Z"
   },
   {
    "duration": 30,
    "start_time": "2022-02-01T04:28:47.245Z"
   },
   {
    "duration": 6,
    "start_time": "2022-02-01T04:28:47.276Z"
   },
   {
    "duration": 8,
    "start_time": "2022-02-01T04:28:47.284Z"
   },
   {
    "duration": 10,
    "start_time": "2022-02-01T04:28:47.294Z"
   },
   {
    "duration": 12,
    "start_time": "2022-02-01T04:28:47.306Z"
   },
   {
    "duration": 3,
    "start_time": "2022-02-01T04:28:47.319Z"
   },
   {
    "duration": 20,
    "start_time": "2022-02-01T04:28:47.324Z"
   },
   {
    "duration": 182,
    "start_time": "2022-02-01T04:28:47.346Z"
   },
   {
    "duration": 4,
    "start_time": "2022-02-01T04:28:47.530Z"
   },
   {
    "duration": 15,
    "start_time": "2022-02-01T04:28:47.536Z"
   },
   {
    "duration": 25,
    "start_time": "2022-02-01T04:28:47.553Z"
   },
   {
    "duration": 6,
    "start_time": "2022-02-01T04:28:47.579Z"
   },
   {
    "duration": 26,
    "start_time": "2022-02-01T04:28:47.586Z"
   },
   {
    "duration": 26,
    "start_time": "2022-02-01T04:28:47.613Z"
   },
   {
    "duration": 353,
    "start_time": "2022-02-01T04:28:47.640Z"
   },
   {
    "duration": 579,
    "start_time": "2022-02-01T04:28:47.995Z"
   },
   {
    "duration": 12,
    "start_time": "2022-02-01T04:28:48.576Z"
   },
   {
    "duration": 326,
    "start_time": "2022-02-01T04:28:48.590Z"
   },
   {
    "duration": 12,
    "start_time": "2022-02-01T04:28:48.918Z"
   },
   {
    "duration": 318,
    "start_time": "2022-02-01T04:28:48.931Z"
   },
   {
    "duration": 10,
    "start_time": "2022-02-01T04:28:49.251Z"
   },
   {
    "duration": 306,
    "start_time": "2022-02-01T04:28:49.272Z"
   },
   {
    "duration": 4,
    "start_time": "2022-02-01T04:38:29.967Z"
   },
   {
    "duration": 1001,
    "start_time": "2022-02-01T04:44:38.842Z"
   },
   {
    "duration": 3,
    "start_time": "2022-02-01T04:44:39.845Z"
   },
   {
    "duration": 50,
    "start_time": "2022-02-01T04:44:39.849Z"
   },
   {
    "duration": 6,
    "start_time": "2022-02-01T04:44:39.900Z"
   },
   {
    "duration": 13,
    "start_time": "2022-02-01T04:44:39.907Z"
   },
   {
    "duration": 143,
    "start_time": "2022-02-01T04:44:39.921Z"
   },
   {
    "duration": 7,
    "start_time": "2022-02-01T04:44:40.066Z"
   },
   {
    "duration": 18,
    "start_time": "2022-02-01T04:44:40.075Z"
   },
   {
    "duration": 22,
    "start_time": "2022-02-01T04:44:40.095Z"
   },
   {
    "duration": 89,
    "start_time": "2022-02-01T04:44:40.118Z"
   },
   {
    "duration": 12,
    "start_time": "2022-02-01T04:44:40.208Z"
   },
   {
    "duration": 11,
    "start_time": "2022-02-01T04:44:40.222Z"
   },
   {
    "duration": 129,
    "start_time": "2022-02-01T04:44:40.234Z"
   },
   {
    "duration": 7,
    "start_time": "2022-02-01T04:44:40.365Z"
   },
   {
    "duration": 17,
    "start_time": "2022-02-01T04:44:40.374Z"
   },
   {
    "duration": 24,
    "start_time": "2022-02-01T04:44:40.392Z"
   },
   {
    "duration": 22,
    "start_time": "2022-02-01T04:44:40.417Z"
   },
   {
    "duration": 7,
    "start_time": "2022-02-01T04:44:40.440Z"
   },
   {
    "duration": 62,
    "start_time": "2022-02-01T04:44:40.448Z"
   },
   {
    "duration": 17,
    "start_time": "2022-02-01T04:44:40.511Z"
   },
   {
    "duration": 4,
    "start_time": "2022-02-01T04:44:40.529Z"
   },
   {
    "duration": 17,
    "start_time": "2022-02-01T04:44:40.534Z"
   },
   {
    "duration": 24,
    "start_time": "2022-02-01T04:44:40.554Z"
   },
   {
    "duration": 13,
    "start_time": "2022-02-01T04:44:40.581Z"
   },
   {
    "duration": 10,
    "start_time": "2022-02-01T04:44:40.595Z"
   },
   {
    "duration": 12,
    "start_time": "2022-02-01T04:44:40.607Z"
   },
   {
    "duration": 118,
    "start_time": "2022-02-01T04:44:40.621Z"
   },
   {
    "duration": 8,
    "start_time": "2022-02-01T04:44:40.741Z"
   },
   {
    "duration": 43,
    "start_time": "2022-02-01T04:44:40.751Z"
   },
   {
    "duration": 8,
    "start_time": "2022-02-01T04:44:40.795Z"
   },
   {
    "duration": 8,
    "start_time": "2022-02-01T04:44:40.804Z"
   },
   {
    "duration": 13,
    "start_time": "2022-02-01T04:44:40.814Z"
   },
   {
    "duration": 7,
    "start_time": "2022-02-01T04:44:40.829Z"
   },
   {
    "duration": 38,
    "start_time": "2022-02-01T04:44:40.838Z"
   },
   {
    "duration": 15,
    "start_time": "2022-02-01T04:44:40.878Z"
   },
   {
    "duration": 4,
    "start_time": "2022-02-01T04:44:40.895Z"
   },
   {
    "duration": 7,
    "start_time": "2022-02-01T04:44:40.901Z"
   },
   {
    "duration": 12,
    "start_time": "2022-02-01T04:44:40.909Z"
   },
   {
    "duration": 11,
    "start_time": "2022-02-01T04:44:40.923Z"
   },
   {
    "duration": 38,
    "start_time": "2022-02-01T04:44:40.936Z"
   },
   {
    "duration": 15,
    "start_time": "2022-02-01T04:44:40.976Z"
   },
   {
    "duration": 6,
    "start_time": "2022-02-01T04:44:40.993Z"
   },
   {
    "duration": 5,
    "start_time": "2022-02-01T04:44:41.000Z"
   },
   {
    "duration": 11,
    "start_time": "2022-02-01T04:44:41.007Z"
   },
   {
    "duration": 18,
    "start_time": "2022-02-01T04:44:41.019Z"
   },
   {
    "duration": 37,
    "start_time": "2022-02-01T04:44:41.039Z"
   },
   {
    "duration": 5,
    "start_time": "2022-02-01T04:44:41.077Z"
   },
   {
    "duration": 7,
    "start_time": "2022-02-01T04:44:41.083Z"
   },
   {
    "duration": 13,
    "start_time": "2022-02-01T04:44:41.091Z"
   },
   {
    "duration": 3,
    "start_time": "2022-02-01T04:44:41.105Z"
   },
   {
    "duration": 20,
    "start_time": "2022-02-01T04:44:41.110Z"
   },
   {
    "duration": 185,
    "start_time": "2022-02-01T04:44:41.131Z"
   },
   {
    "duration": 3,
    "start_time": "2022-02-01T04:44:41.318Z"
   },
   {
    "duration": 15,
    "start_time": "2022-02-01T04:44:41.322Z"
   },
   {
    "duration": 13,
    "start_time": "2022-02-01T04:44:41.338Z"
   },
   {
    "duration": 24,
    "start_time": "2022-02-01T04:44:41.352Z"
   },
   {
    "duration": 339,
    "start_time": "2022-02-01T04:44:41.377Z"
   },
   {
    "duration": 546,
    "start_time": "2022-02-01T04:44:41.718Z"
   },
   {
    "duration": 12,
    "start_time": "2022-02-01T04:44:42.271Z"
   },
   {
    "duration": 318,
    "start_time": "2022-02-01T04:44:42.284Z"
   },
   {
    "duration": 10,
    "start_time": "2022-02-01T04:44:42.604Z"
   },
   {
    "duration": 307,
    "start_time": "2022-02-01T04:44:42.616Z"
   },
   {
    "duration": 11,
    "start_time": "2022-02-01T04:44:42.925Z"
   },
   {
    "duration": 318,
    "start_time": "2022-02-01T04:44:42.938Z"
   },
   {
    "duration": 6,
    "start_time": "2022-02-01T04:44:43.257Z"
   },
   {
    "duration": 320,
    "start_time": "2022-02-01T04:44:43.265Z"
   },
   {
    "duration": 894,
    "start_time": "2022-02-01T04:44:42.693Z"
   },
   {
    "duration": 892,
    "start_time": "2022-02-01T04:44:42.696Z"
   },
   {
    "duration": 889,
    "start_time": "2022-02-01T04:44:42.700Z"
   },
   {
    "duration": 885,
    "start_time": "2022-02-01T04:44:42.705Z"
   },
   {
    "duration": 882,
    "start_time": "2022-02-01T04:44:42.709Z"
   },
   {
    "duration": 13,
    "start_time": "2022-02-01T04:44:51.618Z"
   },
   {
    "duration": 6,
    "start_time": "2022-02-01T04:51:21.409Z"
   },
   {
    "duration": 486,
    "start_time": "2022-02-01T04:51:22.589Z"
   },
   {
    "duration": 918,
    "start_time": "2022-02-01T04:52:38.325Z"
   },
   {
    "duration": 3,
    "start_time": "2022-02-01T04:52:39.244Z"
   },
   {
    "duration": 56,
    "start_time": "2022-02-01T04:52:39.248Z"
   },
   {
    "duration": 9,
    "start_time": "2022-02-01T04:52:39.305Z"
   },
   {
    "duration": 34,
    "start_time": "2022-02-01T04:52:39.316Z"
   },
   {
    "duration": 154,
    "start_time": "2022-02-01T04:52:39.351Z"
   },
   {
    "duration": 7,
    "start_time": "2022-02-01T04:52:39.507Z"
   },
   {
    "duration": 43,
    "start_time": "2022-02-01T04:52:39.516Z"
   },
   {
    "duration": 23,
    "start_time": "2022-02-01T04:52:39.561Z"
   },
   {
    "duration": 86,
    "start_time": "2022-02-01T04:52:39.585Z"
   },
   {
    "duration": 14,
    "start_time": "2022-02-01T04:52:39.672Z"
   },
   {
    "duration": 26,
    "start_time": "2022-02-01T04:52:39.688Z"
   },
   {
    "duration": 126,
    "start_time": "2022-02-01T04:52:39.716Z"
   },
   {
    "duration": 7,
    "start_time": "2022-02-01T04:52:39.844Z"
   },
   {
    "duration": 29,
    "start_time": "2022-02-01T04:52:39.852Z"
   },
   {
    "duration": 24,
    "start_time": "2022-02-01T04:52:39.882Z"
   },
   {
    "duration": 27,
    "start_time": "2022-02-01T04:52:39.908Z"
   },
   {
    "duration": 18,
    "start_time": "2022-02-01T04:52:39.936Z"
   },
   {
    "duration": 59,
    "start_time": "2022-02-01T04:52:39.955Z"
   },
   {
    "duration": 28,
    "start_time": "2022-02-01T04:52:40.015Z"
   },
   {
    "duration": 5,
    "start_time": "2022-02-01T04:52:40.045Z"
   },
   {
    "duration": 39,
    "start_time": "2022-02-01T04:52:40.052Z"
   },
   {
    "duration": 11,
    "start_time": "2022-02-01T04:52:40.094Z"
   },
   {
    "duration": 23,
    "start_time": "2022-02-01T04:52:40.107Z"
   },
   {
    "duration": 17,
    "start_time": "2022-02-01T04:52:40.131Z"
   },
   {
    "duration": 25,
    "start_time": "2022-02-01T04:52:40.150Z"
   },
   {
    "duration": 93,
    "start_time": "2022-02-01T04:52:40.176Z"
   },
   {
    "duration": 6,
    "start_time": "2022-02-01T04:52:40.271Z"
   },
   {
    "duration": 39,
    "start_time": "2022-02-01T04:52:40.279Z"
   },
   {
    "duration": 15,
    "start_time": "2022-02-01T04:52:40.320Z"
   },
   {
    "duration": 14,
    "start_time": "2022-02-01T04:52:40.337Z"
   },
   {
    "duration": 28,
    "start_time": "2022-02-01T04:52:40.352Z"
   },
   {
    "duration": 18,
    "start_time": "2022-02-01T04:52:40.382Z"
   },
   {
    "duration": 17,
    "start_time": "2022-02-01T04:52:40.402Z"
   },
   {
    "duration": 27,
    "start_time": "2022-02-01T04:52:40.420Z"
   },
   {
    "duration": 7,
    "start_time": "2022-02-01T04:52:40.449Z"
   },
   {
    "duration": 27,
    "start_time": "2022-02-01T04:52:40.457Z"
   },
   {
    "duration": 21,
    "start_time": "2022-02-01T04:52:40.485Z"
   },
   {
    "duration": 22,
    "start_time": "2022-02-01T04:52:40.507Z"
   },
   {
    "duration": 4,
    "start_time": "2022-02-01T04:52:40.531Z"
   },
   {
    "duration": 26,
    "start_time": "2022-02-01T04:52:40.537Z"
   },
   {
    "duration": 12,
    "start_time": "2022-02-01T04:52:40.564Z"
   },
   {
    "duration": 18,
    "start_time": "2022-02-01T04:52:40.578Z"
   },
   {
    "duration": 14,
    "start_time": "2022-02-01T04:52:40.597Z"
   },
   {
    "duration": 26,
    "start_time": "2022-02-01T04:52:40.613Z"
   },
   {
    "duration": 17,
    "start_time": "2022-02-01T04:52:40.640Z"
   },
   {
    "duration": 13,
    "start_time": "2022-02-01T04:52:40.659Z"
   },
   {
    "duration": 19,
    "start_time": "2022-02-01T04:52:40.673Z"
   },
   {
    "duration": 17,
    "start_time": "2022-02-01T04:52:40.694Z"
   },
   {
    "duration": 19,
    "start_time": "2022-02-01T04:52:40.712Z"
   },
   {
    "duration": 20,
    "start_time": "2022-02-01T04:52:40.732Z"
   },
   {
    "duration": 180,
    "start_time": "2022-02-01T04:52:40.753Z"
   },
   {
    "duration": 3,
    "start_time": "2022-02-01T04:52:40.935Z"
   },
   {
    "duration": 28,
    "start_time": "2022-02-01T04:52:40.939Z"
   },
   {
    "duration": 23,
    "start_time": "2022-02-01T04:52:40.969Z"
   },
   {
    "duration": 15,
    "start_time": "2022-02-01T04:52:40.994Z"
   },
   {
    "duration": 321,
    "start_time": "2022-02-01T04:52:41.011Z"
   },
   {
    "duration": 564,
    "start_time": "2022-02-01T04:52:41.333Z"
   },
   {
    "duration": 11,
    "start_time": "2022-02-01T04:52:41.898Z"
   },
   {
    "duration": 323,
    "start_time": "2022-02-01T04:52:41.911Z"
   },
   {
    "duration": 10,
    "start_time": "2022-02-01T04:52:42.236Z"
   },
   {
    "duration": 311,
    "start_time": "2022-02-01T04:52:42.248Z"
   },
   {
    "duration": 14,
    "start_time": "2022-02-01T04:52:42.560Z"
   },
   {
    "duration": 306,
    "start_time": "2022-02-01T04:52:42.576Z"
   },
   {
    "duration": 4,
    "start_time": "2022-02-01T04:52:42.883Z"
   },
   {
    "duration": 25,
    "start_time": "2022-02-01T04:52:42.888Z"
   },
   {
    "duration": 17,
    "start_time": "2022-02-01T04:52:42.914Z"
   },
   {
    "duration": 601,
    "start_time": "2022-02-01T04:52:42.935Z"
   },
   {
    "duration": 857,
    "start_time": "2022-02-01T04:52:42.681Z"
   },
   {
    "duration": 854,
    "start_time": "2022-02-01T04:52:42.685Z"
   },
   {
    "duration": 851,
    "start_time": "2022-02-01T04:52:42.689Z"
   },
   {
    "duration": 4,
    "start_time": "2022-02-01T04:52:58.079Z"
   },
   {
    "duration": 13,
    "start_time": "2022-02-01T04:52:59.801Z"
   },
   {
    "duration": 6,
    "start_time": "2022-02-01T04:53:05.783Z"
   },
   {
    "duration": 7,
    "start_time": "2022-02-01T04:53:06.953Z"
   },
   {
    "duration": 7,
    "start_time": "2022-02-01T04:53:08.658Z"
   },
   {
    "duration": 3,
    "start_time": "2022-02-01T04:53:09.686Z"
   },
   {
    "duration": 4,
    "start_time": "2022-02-01T04:53:10.888Z"
   },
   {
    "duration": 4,
    "start_time": "2022-02-01T04:53:50.854Z"
   },
   {
    "duration": 1022,
    "start_time": "2022-02-01T04:54:04.321Z"
   },
   {
    "duration": 2,
    "start_time": "2022-02-01T04:54:05.345Z"
   },
   {
    "duration": 41,
    "start_time": "2022-02-01T04:54:05.349Z"
   },
   {
    "duration": 6,
    "start_time": "2022-02-01T04:54:05.392Z"
   },
   {
    "duration": 14,
    "start_time": "2022-02-01T04:54:05.399Z"
   },
   {
    "duration": 137,
    "start_time": "2022-02-01T04:54:05.414Z"
   },
   {
    "duration": 7,
    "start_time": "2022-02-01T04:54:05.552Z"
   },
   {
    "duration": 26,
    "start_time": "2022-02-01T04:54:05.562Z"
   },
   {
    "duration": 22,
    "start_time": "2022-02-01T04:54:05.590Z"
   },
   {
    "duration": 85,
    "start_time": "2022-02-01T04:54:05.614Z"
   },
   {
    "duration": 13,
    "start_time": "2022-02-01T04:54:05.700Z"
   },
   {
    "duration": 12,
    "start_time": "2022-02-01T04:54:05.714Z"
   },
   {
    "duration": 125,
    "start_time": "2022-02-01T04:54:05.727Z"
   },
   {
    "duration": 8,
    "start_time": "2022-02-01T04:54:05.853Z"
   },
   {
    "duration": 23,
    "start_time": "2022-02-01T04:54:05.862Z"
   },
   {
    "duration": 23,
    "start_time": "2022-02-01T04:54:05.886Z"
   },
   {
    "duration": 21,
    "start_time": "2022-02-01T04:54:05.911Z"
   },
   {
    "duration": 10,
    "start_time": "2022-02-01T04:54:05.934Z"
   },
   {
    "duration": 58,
    "start_time": "2022-02-01T04:54:05.946Z"
   },
   {
    "duration": 18,
    "start_time": "2022-02-01T04:54:06.006Z"
   },
   {
    "duration": 4,
    "start_time": "2022-02-01T04:54:06.025Z"
   },
   {
    "duration": 20,
    "start_time": "2022-02-01T04:54:06.031Z"
   },
   {
    "duration": 8,
    "start_time": "2022-02-01T04:54:06.071Z"
   },
   {
    "duration": 12,
    "start_time": "2022-02-01T04:54:06.081Z"
   },
   {
    "duration": 7,
    "start_time": "2022-02-01T04:54:06.095Z"
   },
   {
    "duration": 13,
    "start_time": "2022-02-01T04:54:06.104Z"
   },
   {
    "duration": 106,
    "start_time": "2022-02-01T04:54:06.118Z"
   },
   {
    "duration": 8,
    "start_time": "2022-02-01T04:54:06.225Z"
   },
   {
    "duration": 38,
    "start_time": "2022-02-01T04:54:06.234Z"
   },
   {
    "duration": 6,
    "start_time": "2022-02-01T04:54:06.273Z"
   },
   {
    "duration": 9,
    "start_time": "2022-02-01T04:54:06.281Z"
   },
   {
    "duration": 14,
    "start_time": "2022-02-01T04:54:06.292Z"
   },
   {
    "duration": 7,
    "start_time": "2022-02-01T04:54:06.307Z"
   },
   {
    "duration": 9,
    "start_time": "2022-02-01T04:54:06.315Z"
   },
   {
    "duration": 15,
    "start_time": "2022-02-01T04:54:06.325Z"
   },
   {
    "duration": 30,
    "start_time": "2022-02-01T04:54:06.341Z"
   },
   {
    "duration": 6,
    "start_time": "2022-02-01T04:54:06.373Z"
   },
   {
    "duration": 17,
    "start_time": "2022-02-01T04:54:06.381Z"
   },
   {
    "duration": 11,
    "start_time": "2022-02-01T04:54:06.399Z"
   },
   {
    "duration": 5,
    "start_time": "2022-02-01T04:54:06.412Z"
   },
   {
    "duration": 19,
    "start_time": "2022-02-01T04:54:06.418Z"
   },
   {
    "duration": 9,
    "start_time": "2022-02-01T04:54:06.438Z"
   },
   {
    "duration": 24,
    "start_time": "2022-02-01T04:54:06.449Z"
   },
   {
    "duration": 6,
    "start_time": "2022-02-01T04:54:06.475Z"
   },
   {
    "duration": 19,
    "start_time": "2022-02-01T04:54:06.483Z"
   },
   {
    "duration": 6,
    "start_time": "2022-02-01T04:54:06.503Z"
   },
   {
    "duration": 5,
    "start_time": "2022-02-01T04:54:06.510Z"
   },
   {
    "duration": 10,
    "start_time": "2022-02-01T04:54:06.516Z"
   },
   {
    "duration": 11,
    "start_time": "2022-02-01T04:54:06.527Z"
   },
   {
    "duration": 4,
    "start_time": "2022-02-01T04:54:06.539Z"
   },
   {
    "duration": 39,
    "start_time": "2022-02-01T04:54:06.544Z"
   },
   {
    "duration": 174,
    "start_time": "2022-02-01T04:54:06.585Z"
   },
   {
    "duration": 3,
    "start_time": "2022-02-01T04:54:06.761Z"
   },
   {
    "duration": 20,
    "start_time": "2022-02-01T04:54:06.765Z"
   },
   {
    "duration": 13,
    "start_time": "2022-02-01T04:54:06.786Z"
   },
   {
    "duration": 5,
    "start_time": "2022-02-01T04:54:06.800Z"
   },
   {
    "duration": 338,
    "start_time": "2022-02-01T04:54:06.806Z"
   },
   {
    "duration": 571,
    "start_time": "2022-02-01T04:54:07.146Z"
   },
   {
    "duration": 12,
    "start_time": "2022-02-01T04:54:07.720Z"
   },
   {
    "duration": 326,
    "start_time": "2022-02-01T04:54:07.734Z"
   },
   {
    "duration": 16,
    "start_time": "2022-02-01T04:54:08.062Z"
   },
   {
    "duration": 316,
    "start_time": "2022-02-01T04:54:08.080Z"
   },
   {
    "duration": 10,
    "start_time": "2022-02-01T04:54:08.398Z"
   },
   {
    "duration": 314,
    "start_time": "2022-02-01T04:54:08.409Z"
   },
   {
    "duration": 4,
    "start_time": "2022-02-01T04:54:08.724Z"
   },
   {
    "duration": 15,
    "start_time": "2022-02-01T04:54:08.730Z"
   },
   {
    "duration": 6,
    "start_time": "2022-02-01T04:54:08.746Z"
   },
   {
    "duration": 6,
    "start_time": "2022-02-01T04:54:08.772Z"
   },
   {
    "duration": 6,
    "start_time": "2022-02-01T04:54:08.779Z"
   },
   {
    "duration": 5,
    "start_time": "2022-02-01T04:54:08.786Z"
   },
   {
    "duration": 5,
    "start_time": "2022-02-01T04:54:08.792Z"
   },
   {
    "duration": 6,
    "start_time": "2022-02-01T04:54:08.799Z"
   },
   {
    "duration": 10,
    "start_time": "2022-02-01T04:56:39.343Z"
   },
   {
    "duration": 4,
    "start_time": "2022-02-01T05:00:39.511Z"
   },
   {
    "duration": 1000,
    "start_time": "2022-02-01T05:00:44.627Z"
   },
   {
    "duration": 2,
    "start_time": "2022-02-01T05:00:45.629Z"
   },
   {
    "duration": 42,
    "start_time": "2022-02-01T05:00:45.633Z"
   },
   {
    "duration": 6,
    "start_time": "2022-02-01T05:00:45.677Z"
   },
   {
    "duration": 13,
    "start_time": "2022-02-01T05:00:45.685Z"
   },
   {
    "duration": 140,
    "start_time": "2022-02-01T05:00:45.699Z"
   },
   {
    "duration": 7,
    "start_time": "2022-02-01T05:00:45.840Z"
   },
   {
    "duration": 31,
    "start_time": "2022-02-01T05:00:45.850Z"
   },
   {
    "duration": 22,
    "start_time": "2022-02-01T05:00:45.883Z"
   },
   {
    "duration": 83,
    "start_time": "2022-02-01T05:00:45.907Z"
   },
   {
    "duration": 13,
    "start_time": "2022-02-01T05:00:45.992Z"
   },
   {
    "duration": 12,
    "start_time": "2022-02-01T05:00:46.007Z"
   },
   {
    "duration": 126,
    "start_time": "2022-02-01T05:00:46.021Z"
   },
   {
    "duration": 7,
    "start_time": "2022-02-01T05:00:46.149Z"
   },
   {
    "duration": 24,
    "start_time": "2022-02-01T05:00:46.158Z"
   },
   {
    "duration": 23,
    "start_time": "2022-02-01T05:00:46.184Z"
   },
   {
    "duration": 21,
    "start_time": "2022-02-01T05:00:46.209Z"
   },
   {
    "duration": 5,
    "start_time": "2022-02-01T05:00:46.232Z"
   },
   {
    "duration": 58,
    "start_time": "2022-02-01T05:00:46.239Z"
   },
   {
    "duration": 17,
    "start_time": "2022-02-01T05:00:46.299Z"
   },
   {
    "duration": 4,
    "start_time": "2022-02-01T05:00:46.317Z"
   },
   {
    "duration": 22,
    "start_time": "2022-02-01T05:00:46.323Z"
   },
   {
    "duration": 23,
    "start_time": "2022-02-01T05:00:46.349Z"
   },
   {
    "duration": 13,
    "start_time": "2022-02-01T05:00:46.375Z"
   },
   {
    "duration": 8,
    "start_time": "2022-02-01T05:00:46.389Z"
   },
   {
    "duration": 11,
    "start_time": "2022-02-01T05:00:46.399Z"
   },
   {
    "duration": 107,
    "start_time": "2022-02-01T05:00:46.412Z"
   },
   {
    "duration": 7,
    "start_time": "2022-02-01T05:00:46.521Z"
   },
   {
    "duration": 42,
    "start_time": "2022-02-01T05:00:46.530Z"
   },
   {
    "duration": 7,
    "start_time": "2022-02-01T05:00:46.574Z"
   },
   {
    "duration": 9,
    "start_time": "2022-02-01T05:00:46.582Z"
   },
   {
    "duration": 13,
    "start_time": "2022-02-01T05:00:46.592Z"
   },
   {
    "duration": 6,
    "start_time": "2022-02-01T05:00:46.606Z"
   },
   {
    "duration": 6,
    "start_time": "2022-02-01T05:00:46.614Z"
   },
   {
    "duration": 17,
    "start_time": "2022-02-01T05:00:46.621Z"
   },
   {
    "duration": 4,
    "start_time": "2022-02-01T05:00:46.640Z"
   },
   {
    "duration": 7,
    "start_time": "2022-02-01T05:00:46.672Z"
   },
   {
    "duration": 12,
    "start_time": "2022-02-01T05:00:46.681Z"
   },
   {
    "duration": 12,
    "start_time": "2022-02-01T05:00:46.695Z"
   },
   {
    "duration": 5,
    "start_time": "2022-02-01T05:00:46.709Z"
   },
   {
    "duration": 14,
    "start_time": "2022-02-01T05:00:46.716Z"
   },
   {
    "duration": 45,
    "start_time": "2022-02-01T05:00:46.732Z"
   },
   {
    "duration": 6,
    "start_time": "2022-02-01T05:00:46.779Z"
   },
   {
    "duration": 7,
    "start_time": "2022-02-01T05:00:46.786Z"
   },
   {
    "duration": 15,
    "start_time": "2022-02-01T05:00:46.795Z"
   },
   {
    "duration": 6,
    "start_time": "2022-02-01T05:00:46.812Z"
   },
   {
    "duration": 5,
    "start_time": "2022-02-01T05:00:46.820Z"
   },
   {
    "duration": 15,
    "start_time": "2022-02-01T05:00:46.826Z"
   },
   {
    "duration": 12,
    "start_time": "2022-02-01T05:00:46.872Z"
   },
   {
    "duration": 5,
    "start_time": "2022-02-01T05:00:46.885Z"
   },
   {
    "duration": 14,
    "start_time": "2022-02-01T05:00:46.891Z"
   },
   {
    "duration": 188,
    "start_time": "2022-02-01T05:00:46.907Z"
   },
   {
    "duration": 4,
    "start_time": "2022-02-01T05:00:47.096Z"
   },
   {
    "duration": 15,
    "start_time": "2022-02-01T05:00:47.102Z"
   },
   {
    "duration": 13,
    "start_time": "2022-02-01T05:00:47.118Z"
   },
   {
    "duration": 4,
    "start_time": "2022-02-01T05:00:47.132Z"
   },
   {
    "duration": 335,
    "start_time": "2022-02-01T05:00:47.138Z"
   },
   {
    "duration": 551,
    "start_time": "2022-02-01T05:00:47.474Z"
   },
   {
    "duration": 11,
    "start_time": "2022-02-01T05:00:48.027Z"
   },
   {
    "duration": 335,
    "start_time": "2022-02-01T05:00:48.039Z"
   },
   {
    "duration": 11,
    "start_time": "2022-02-01T05:00:48.376Z"
   },
   {
    "duration": 311,
    "start_time": "2022-02-01T05:00:48.389Z"
   },
   {
    "duration": 11,
    "start_time": "2022-02-01T05:00:48.702Z"
   },
   {
    "duration": 324,
    "start_time": "2022-02-01T05:00:48.714Z"
   },
   {
    "duration": 4,
    "start_time": "2022-02-01T05:00:49.040Z"
   },
   {
    "duration": 26,
    "start_time": "2022-02-01T05:00:49.046Z"
   },
   {
    "duration": 6,
    "start_time": "2022-02-01T05:00:49.073Z"
   },
   {
    "duration": 326,
    "start_time": "2022-02-01T05:00:49.084Z"
   },
   {
    "duration": 901,
    "start_time": "2022-02-01T05:00:48.512Z"
   },
   {
    "duration": 898,
    "start_time": "2022-02-01T05:00:48.516Z"
   },
   {
    "duration": 894,
    "start_time": "2022-02-01T05:00:48.521Z"
   },
   {
    "duration": 866,
    "start_time": "2022-02-01T05:00:48.551Z"
   },
   {
    "duration": 856,
    "start_time": "2022-02-01T05:00:48.562Z"
   },
   {
    "duration": 7,
    "start_time": "2022-02-01T05:01:02.490Z"
   },
   {
    "duration": 7,
    "start_time": "2022-02-01T05:01:08.506Z"
   },
   {
    "duration": 3,
    "start_time": "2022-02-01T05:01:18.113Z"
   },
   {
    "duration": 3,
    "start_time": "2022-02-01T05:05:55.091Z"
   },
   {
    "duration": 4,
    "start_time": "2022-02-01T05:05:57.306Z"
   },
   {
    "duration": 3491,
    "start_time": "2022-02-01T05:09:27.269Z"
   },
   {
    "duration": 1018,
    "start_time": "2022-02-01T05:09:40.121Z"
   },
   {
    "duration": 2,
    "start_time": "2022-02-01T05:09:41.141Z"
   },
   {
    "duration": 45,
    "start_time": "2022-02-01T05:09:41.145Z"
   },
   {
    "duration": 5,
    "start_time": "2022-02-01T05:09:41.192Z"
   },
   {
    "duration": 13,
    "start_time": "2022-02-01T05:09:41.199Z"
   },
   {
    "duration": 139,
    "start_time": "2022-02-01T05:09:41.214Z"
   },
   {
    "duration": 6,
    "start_time": "2022-02-01T05:09:41.355Z"
   },
   {
    "duration": 20,
    "start_time": "2022-02-01T05:09:41.364Z"
   },
   {
    "duration": 22,
    "start_time": "2022-02-01T05:09:41.385Z"
   },
   {
    "duration": 84,
    "start_time": "2022-02-01T05:09:41.409Z"
   },
   {
    "duration": 12,
    "start_time": "2022-02-01T05:09:41.495Z"
   },
   {
    "duration": 11,
    "start_time": "2022-02-01T05:09:41.508Z"
   },
   {
    "duration": 142,
    "start_time": "2022-02-01T05:09:41.520Z"
   },
   {
    "duration": 11,
    "start_time": "2022-02-01T05:09:41.663Z"
   },
   {
    "duration": 15,
    "start_time": "2022-02-01T05:09:41.676Z"
   },
   {
    "duration": 21,
    "start_time": "2022-02-01T05:09:41.693Z"
   },
   {
    "duration": 20,
    "start_time": "2022-02-01T05:09:41.716Z"
   },
   {
    "duration": 9,
    "start_time": "2022-02-01T05:09:41.738Z"
   },
   {
    "duration": 55,
    "start_time": "2022-02-01T05:09:41.748Z"
   },
   {
    "duration": 16,
    "start_time": "2022-02-01T05:09:41.805Z"
   },
   {
    "duration": 3,
    "start_time": "2022-02-01T05:09:41.823Z"
   },
   {
    "duration": 16,
    "start_time": "2022-02-01T05:09:41.828Z"
   },
   {
    "duration": 25,
    "start_time": "2022-02-01T05:09:41.847Z"
   },
   {
    "duration": 13,
    "start_time": "2022-02-01T05:09:41.874Z"
   },
   {
    "duration": 7,
    "start_time": "2022-02-01T05:09:41.888Z"
   },
   {
    "duration": 12,
    "start_time": "2022-02-01T05:09:41.896Z"
   },
   {
    "duration": 111,
    "start_time": "2022-02-01T05:09:41.910Z"
   },
   {
    "duration": 6,
    "start_time": "2022-02-01T05:09:42.023Z"
   },
   {
    "duration": 25,
    "start_time": "2022-02-01T05:09:42.031Z"
   },
   {
    "duration": 14,
    "start_time": "2022-02-01T05:09:42.058Z"
   },
   {
    "duration": 6,
    "start_time": "2022-02-01T05:09:42.074Z"
   },
   {
    "duration": 12,
    "start_time": "2022-02-01T05:09:42.081Z"
   },
   {
    "duration": 5,
    "start_time": "2022-02-01T05:09:42.095Z"
   },
   {
    "duration": 8,
    "start_time": "2022-02-01T05:09:42.101Z"
   },
   {
    "duration": 15,
    "start_time": "2022-02-01T05:09:42.110Z"
   },
   {
    "duration": 3,
    "start_time": "2022-02-01T05:09:42.126Z"
   },
   {
    "duration": 10,
    "start_time": "2022-02-01T05:09:42.131Z"
   },
   {
    "duration": 11,
    "start_time": "2022-02-01T05:09:42.171Z"
   },
   {
    "duration": 11,
    "start_time": "2022-02-01T05:09:42.184Z"
   },
   {
    "duration": 6,
    "start_time": "2022-02-01T05:09:42.197Z"
   },
   {
    "duration": 17,
    "start_time": "2022-02-01T05:09:42.204Z"
   },
   {
    "duration": 5,
    "start_time": "2022-02-01T05:09:42.222Z"
   },
   {
    "duration": 8,
    "start_time": "2022-02-01T05:09:42.229Z"
   },
   {
    "duration": 33,
    "start_time": "2022-02-01T05:09:42.239Z"
   },
   {
    "duration": 15,
    "start_time": "2022-02-01T05:09:42.274Z"
   },
   {
    "duration": 6,
    "start_time": "2022-02-01T05:09:42.290Z"
   },
   {
    "duration": 5,
    "start_time": "2022-02-01T05:09:42.297Z"
   },
   {
    "duration": 10,
    "start_time": "2022-02-01T05:09:42.304Z"
   },
   {
    "duration": 14,
    "start_time": "2022-02-01T05:09:42.315Z"
   },
   {
    "duration": 4,
    "start_time": "2022-02-01T05:09:42.330Z"
   },
   {
    "duration": 36,
    "start_time": "2022-02-01T05:09:42.335Z"
   },
   {
    "duration": 174,
    "start_time": "2022-02-01T05:09:42.373Z"
   },
   {
    "duration": 4,
    "start_time": "2022-02-01T05:09:42.548Z"
   },
   {
    "duration": 20,
    "start_time": "2022-02-01T05:09:42.553Z"
   },
   {
    "duration": 13,
    "start_time": "2022-02-01T05:09:42.574Z"
   },
   {
    "duration": 4,
    "start_time": "2022-02-01T05:09:42.588Z"
   },
   {
    "duration": 340,
    "start_time": "2022-02-01T05:09:42.594Z"
   },
   {
    "duration": 559,
    "start_time": "2022-02-01T05:09:42.936Z"
   },
   {
    "duration": 11,
    "start_time": "2022-02-01T05:09:43.497Z"
   },
   {
    "duration": 319,
    "start_time": "2022-02-01T05:09:43.509Z"
   },
   {
    "duration": 10,
    "start_time": "2022-02-01T05:09:43.830Z"
   },
   {
    "duration": 317,
    "start_time": "2022-02-01T05:09:43.842Z"
   },
   {
    "duration": 19,
    "start_time": "2022-02-01T05:09:44.160Z"
   },
   {
    "duration": 314,
    "start_time": "2022-02-01T05:09:44.181Z"
   },
   {
    "duration": 3,
    "start_time": "2022-02-01T05:09:44.496Z"
   },
   {
    "duration": 15,
    "start_time": "2022-02-01T05:09:44.501Z"
   },
   {
    "duration": 5,
    "start_time": "2022-02-01T05:09:44.518Z"
   },
   {
    "duration": 8,
    "start_time": "2022-02-01T05:09:44.527Z"
   },
   {
    "duration": 35,
    "start_time": "2022-02-01T05:09:44.537Z"
   },
   {
    "duration": 3,
    "start_time": "2022-02-01T05:09:44.573Z"
   },
   {
    "duration": 5,
    "start_time": "2022-02-01T05:09:44.578Z"
   },
   {
    "duration": 5,
    "start_time": "2022-02-01T05:09:44.585Z"
   },
   {
    "duration": 3705,
    "start_time": "2022-02-01T05:10:04.935Z"
   },
   {
    "duration": 1049,
    "start_time": "2022-02-01T05:10:14.862Z"
   },
   {
    "duration": 2,
    "start_time": "2022-02-01T05:10:15.913Z"
   },
   {
    "duration": 69,
    "start_time": "2022-02-01T05:10:15.917Z"
   },
   {
    "duration": 15,
    "start_time": "2022-02-01T05:10:15.987Z"
   },
   {
    "duration": 16,
    "start_time": "2022-02-01T05:10:16.004Z"
   },
   {
    "duration": 160,
    "start_time": "2022-02-01T05:10:16.021Z"
   },
   {
    "duration": 7,
    "start_time": "2022-02-01T05:10:16.183Z"
   },
   {
    "duration": 32,
    "start_time": "2022-02-01T05:10:16.193Z"
   },
   {
    "duration": 24,
    "start_time": "2022-02-01T05:10:16.228Z"
   },
   {
    "duration": 90,
    "start_time": "2022-02-01T05:10:16.253Z"
   },
   {
    "duration": 12,
    "start_time": "2022-02-01T05:10:16.345Z"
   },
   {
    "duration": 19,
    "start_time": "2022-02-01T05:10:16.359Z"
   },
   {
    "duration": 124,
    "start_time": "2022-02-01T05:10:16.380Z"
   },
   {
    "duration": 8,
    "start_time": "2022-02-01T05:10:16.506Z"
   },
   {
    "duration": 17,
    "start_time": "2022-02-01T05:10:16.515Z"
   },
   {
    "duration": 39,
    "start_time": "2022-02-01T05:10:16.533Z"
   },
   {
    "duration": 22,
    "start_time": "2022-02-01T05:10:16.574Z"
   },
   {
    "duration": 6,
    "start_time": "2022-02-01T05:10:16.597Z"
   },
   {
    "duration": 47,
    "start_time": "2022-02-01T05:10:16.604Z"
   },
   {
    "duration": 25,
    "start_time": "2022-02-01T05:10:16.652Z"
   },
   {
    "duration": 4,
    "start_time": "2022-02-01T05:10:16.679Z"
   },
   {
    "duration": 17,
    "start_time": "2022-02-01T05:10:16.684Z"
   },
   {
    "duration": 9,
    "start_time": "2022-02-01T05:10:16.705Z"
   },
   {
    "duration": 13,
    "start_time": "2022-02-01T05:10:16.717Z"
   },
   {
    "duration": 41,
    "start_time": "2022-02-01T05:10:16.732Z"
   },
   {
    "duration": 14,
    "start_time": "2022-02-01T05:10:16.775Z"
   },
   {
    "duration": 113,
    "start_time": "2022-02-01T05:10:16.791Z"
   },
   {
    "duration": 8,
    "start_time": "2022-02-01T05:10:16.906Z"
   },
   {
    "duration": 27,
    "start_time": "2022-02-01T05:10:16.916Z"
   },
   {
    "duration": 28,
    "start_time": "2022-02-01T05:10:16.945Z"
   },
   {
    "duration": 8,
    "start_time": "2022-02-01T05:10:16.975Z"
   },
   {
    "duration": 14,
    "start_time": "2022-02-01T05:10:16.985Z"
   },
   {
    "duration": 8,
    "start_time": "2022-02-01T05:10:17.001Z"
   },
   {
    "duration": 8,
    "start_time": "2022-02-01T05:10:17.010Z"
   },
   {
    "duration": 14,
    "start_time": "2022-02-01T05:10:17.020Z"
   },
   {
    "duration": 4,
    "start_time": "2022-02-01T05:10:17.071Z"
   },
   {
    "duration": 6,
    "start_time": "2022-02-01T05:10:17.078Z"
   },
   {
    "duration": 13,
    "start_time": "2022-02-01T05:10:17.086Z"
   },
   {
    "duration": 11,
    "start_time": "2022-02-01T05:10:17.100Z"
   },
   {
    "duration": 5,
    "start_time": "2022-02-01T05:10:17.112Z"
   },
   {
    "duration": 16,
    "start_time": "2022-02-01T05:10:17.118Z"
   },
   {
    "duration": 5,
    "start_time": "2022-02-01T05:10:17.135Z"
   },
   {
    "duration": 5,
    "start_time": "2022-02-01T05:10:17.171Z"
   },
   {
    "duration": 8,
    "start_time": "2022-02-01T05:10:17.178Z"
   },
   {
    "duration": 17,
    "start_time": "2022-02-01T05:10:17.188Z"
   },
   {
    "duration": 5,
    "start_time": "2022-02-01T05:10:17.207Z"
   },
   {
    "duration": 6,
    "start_time": "2022-02-01T05:10:17.213Z"
   },
   {
    "duration": 10,
    "start_time": "2022-02-01T05:10:17.220Z"
   },
   {
    "duration": 14,
    "start_time": "2022-02-01T05:10:17.231Z"
   },
   {
    "duration": 27,
    "start_time": "2022-02-01T05:10:17.246Z"
   },
   {
    "duration": 16,
    "start_time": "2022-02-01T05:10:17.274Z"
   },
   {
    "duration": 184,
    "start_time": "2022-02-01T05:10:17.292Z"
   },
   {
    "duration": 3,
    "start_time": "2022-02-01T05:10:17.478Z"
   },
   {
    "duration": 16,
    "start_time": "2022-02-01T05:10:17.482Z"
   },
   {
    "duration": 12,
    "start_time": "2022-02-01T05:10:17.499Z"
   },
   {
    "duration": 5,
    "start_time": "2022-02-01T05:10:17.512Z"
   },
   {
    "duration": 364,
    "start_time": "2022-02-01T05:10:17.518Z"
   },
   {
    "duration": 624,
    "start_time": "2022-02-01T05:10:17.883Z"
   },
   {
    "duration": 11,
    "start_time": "2022-02-01T05:10:18.508Z"
   },
   {
    "duration": 332,
    "start_time": "2022-02-01T05:10:18.521Z"
   },
   {
    "duration": 10,
    "start_time": "2022-02-01T05:10:18.854Z"
   },
   {
    "duration": 321,
    "start_time": "2022-02-01T05:10:18.865Z"
   },
   {
    "duration": 10,
    "start_time": "2022-02-01T05:10:19.188Z"
   },
   {
    "duration": 316,
    "start_time": "2022-02-01T05:10:19.200Z"
   },
   {
    "duration": 3,
    "start_time": "2022-02-01T05:10:19.518Z"
   },
   {
    "duration": 15,
    "start_time": "2022-02-01T05:10:19.522Z"
   },
   {
    "duration": 33,
    "start_time": "2022-02-01T05:10:19.539Z"
   },
   {
    "duration": 17,
    "start_time": "2022-02-01T05:10:19.578Z"
   },
   {
    "duration": 8,
    "start_time": "2022-02-01T05:10:19.597Z"
   },
   {
    "duration": 3,
    "start_time": "2022-02-01T05:10:19.606Z"
   },
   {
    "duration": 4,
    "start_time": "2022-02-01T05:10:19.611Z"
   },
   {
    "duration": 4,
    "start_time": "2022-02-01T05:10:19.672Z"
   },
   {
    "duration": 1345,
    "start_time": "2022-02-01T05:13:31.492Z"
   },
   {
    "duration": 3,
    "start_time": "2022-02-01T05:13:32.839Z"
   },
   {
    "duration": 40,
    "start_time": "2022-02-01T05:13:32.844Z"
   },
   {
    "duration": 6,
    "start_time": "2022-02-01T05:13:32.886Z"
   },
   {
    "duration": 13,
    "start_time": "2022-02-01T05:13:32.894Z"
   },
   {
    "duration": 142,
    "start_time": "2022-02-01T05:13:32.909Z"
   },
   {
    "duration": 7,
    "start_time": "2022-02-01T05:13:33.052Z"
   },
   {
    "duration": 22,
    "start_time": "2022-02-01T05:13:33.061Z"
   },
   {
    "duration": 22,
    "start_time": "2022-02-01T05:13:33.085Z"
   },
   {
    "duration": 85,
    "start_time": "2022-02-01T05:13:33.109Z"
   },
   {
    "duration": 12,
    "start_time": "2022-02-01T05:13:33.196Z"
   },
   {
    "duration": 11,
    "start_time": "2022-02-01T05:13:33.210Z"
   },
   {
    "duration": 121,
    "start_time": "2022-02-01T05:13:33.222Z"
   },
   {
    "duration": 8,
    "start_time": "2022-02-01T05:13:33.344Z"
   },
   {
    "duration": 25,
    "start_time": "2022-02-01T05:13:33.353Z"
   },
   {
    "duration": 24,
    "start_time": "2022-02-01T05:13:33.380Z"
   },
   {
    "duration": 22,
    "start_time": "2022-02-01T05:13:33.406Z"
   },
   {
    "duration": 6,
    "start_time": "2022-02-01T05:13:33.430Z"
   },
   {
    "duration": 62,
    "start_time": "2022-02-01T05:13:33.438Z"
   },
   {
    "duration": 18,
    "start_time": "2022-02-01T05:13:33.501Z"
   },
   {
    "duration": 5,
    "start_time": "2022-02-01T05:13:33.520Z"
   },
   {
    "duration": 17,
    "start_time": "2022-02-01T05:13:33.527Z"
   },
   {
    "duration": 9,
    "start_time": "2022-02-01T05:13:33.573Z"
   },
   {
    "duration": 13,
    "start_time": "2022-02-01T05:13:33.584Z"
   },
   {
    "duration": 8,
    "start_time": "2022-02-01T05:13:33.599Z"
   },
   {
    "duration": 9,
    "start_time": "2022-02-01T05:13:33.608Z"
   },
   {
    "duration": 114,
    "start_time": "2022-02-01T05:13:33.619Z"
   },
   {
    "duration": 7,
    "start_time": "2022-02-01T05:13:33.735Z"
   },
   {
    "duration": 39,
    "start_time": "2022-02-01T05:13:33.744Z"
   },
   {
    "duration": 7,
    "start_time": "2022-02-01T05:13:33.784Z"
   },
   {
    "duration": 8,
    "start_time": "2022-02-01T05:13:33.792Z"
   },
   {
    "duration": 12,
    "start_time": "2022-02-01T05:13:33.802Z"
   },
   {
    "duration": 7,
    "start_time": "2022-02-01T05:13:33.815Z"
   },
   {
    "duration": 9,
    "start_time": "2022-02-01T05:13:33.823Z"
   },
   {
    "duration": 40,
    "start_time": "2022-02-01T05:13:33.833Z"
   },
   {
    "duration": 3,
    "start_time": "2022-02-01T05:13:33.875Z"
   },
   {
    "duration": 13,
    "start_time": "2022-02-01T05:13:33.879Z"
   },
   {
    "duration": 30,
    "start_time": "2022-02-01T05:13:33.893Z"
   },
   {
    "duration": 17,
    "start_time": "2022-02-01T05:13:33.925Z"
   },
   {
    "duration": 28,
    "start_time": "2022-02-01T05:13:33.943Z"
   },
   {
    "duration": 20,
    "start_time": "2022-02-01T05:13:33.973Z"
   },
   {
    "duration": 10,
    "start_time": "2022-02-01T05:13:33.995Z"
   },
   {
    "duration": 18,
    "start_time": "2022-02-01T05:13:34.007Z"
   },
   {
    "duration": 23,
    "start_time": "2022-02-01T05:13:34.027Z"
   },
   {
    "duration": 28,
    "start_time": "2022-02-01T05:13:34.052Z"
   },
   {
    "duration": 17,
    "start_time": "2022-02-01T05:13:34.082Z"
   },
   {
    "duration": 21,
    "start_time": "2022-02-01T05:13:34.100Z"
   },
   {
    "duration": 31,
    "start_time": "2022-02-01T05:13:34.122Z"
   },
   {
    "duration": 24,
    "start_time": "2022-02-01T05:13:34.154Z"
   },
   {
    "duration": 15,
    "start_time": "2022-02-01T05:13:34.179Z"
   },
   {
    "duration": 32,
    "start_time": "2022-02-01T05:13:34.195Z"
   },
   {
    "duration": 183,
    "start_time": "2022-02-01T05:13:34.229Z"
   },
   {
    "duration": 4,
    "start_time": "2022-02-01T05:13:34.413Z"
   },
   {
    "duration": 26,
    "start_time": "2022-02-01T05:13:34.418Z"
   },
   {
    "duration": 24,
    "start_time": "2022-02-01T05:13:34.445Z"
   },
   {
    "duration": 5,
    "start_time": "2022-02-01T05:13:34.471Z"
   },
   {
    "duration": 334,
    "start_time": "2022-02-01T05:13:34.477Z"
   },
   {
    "duration": 569,
    "start_time": "2022-02-01T05:13:34.812Z"
   },
   {
    "duration": 11,
    "start_time": "2022-02-01T05:13:35.383Z"
   },
   {
    "duration": 317,
    "start_time": "2022-02-01T05:13:35.396Z"
   },
   {
    "duration": 10,
    "start_time": "2022-02-01T05:13:35.714Z"
   },
   {
    "duration": 316,
    "start_time": "2022-02-01T05:13:35.726Z"
   },
   {
    "duration": 10,
    "start_time": "2022-02-01T05:13:36.043Z"
   },
   {
    "duration": 317,
    "start_time": "2022-02-01T05:13:36.054Z"
   },
   {
    "duration": 5,
    "start_time": "2022-02-01T05:13:36.373Z"
   },
   {
    "duration": 26,
    "start_time": "2022-02-01T05:13:36.379Z"
   },
   {
    "duration": 11,
    "start_time": "2022-02-01T05:13:36.406Z"
   },
   {
    "duration": 37,
    "start_time": "2022-02-01T05:13:36.421Z"
   },
   {
    "duration": 18,
    "start_time": "2022-02-01T05:13:36.460Z"
   },
   {
    "duration": 23,
    "start_time": "2022-02-01T05:13:36.479Z"
   },
   {
    "duration": 23,
    "start_time": "2022-02-01T05:13:36.503Z"
   },
   {
    "duration": 17,
    "start_time": "2022-02-01T05:13:36.527Z"
   },
   {
    "duration": 27,
    "start_time": "2022-02-01T05:13:36.545Z"
   },
   {
    "duration": 17,
    "start_time": "2022-02-01T05:13:36.573Z"
   },
   {
    "duration": 972,
    "start_time": "2022-02-01T05:15:11.929Z"
   },
   {
    "duration": 3,
    "start_time": "2022-02-01T05:15:12.903Z"
   },
   {
    "duration": 58,
    "start_time": "2022-02-01T05:15:12.907Z"
   },
   {
    "duration": 8,
    "start_time": "2022-02-01T05:15:12.967Z"
   },
   {
    "duration": 13,
    "start_time": "2022-02-01T05:15:12.977Z"
   },
   {
    "duration": 144,
    "start_time": "2022-02-01T05:15:12.992Z"
   },
   {
    "duration": 7,
    "start_time": "2022-02-01T05:15:13.138Z"
   },
   {
    "duration": 31,
    "start_time": "2022-02-01T05:15:13.147Z"
   },
   {
    "duration": 22,
    "start_time": "2022-02-01T05:15:13.181Z"
   },
   {
    "duration": 85,
    "start_time": "2022-02-01T05:15:13.204Z"
   },
   {
    "duration": 14,
    "start_time": "2022-02-01T05:15:13.290Z"
   },
   {
    "duration": 11,
    "start_time": "2022-02-01T05:15:13.305Z"
   },
   {
    "duration": 130,
    "start_time": "2022-02-01T05:15:13.317Z"
   },
   {
    "duration": 7,
    "start_time": "2022-02-01T05:15:13.448Z"
   },
   {
    "duration": 26,
    "start_time": "2022-02-01T05:15:13.456Z"
   },
   {
    "duration": 23,
    "start_time": "2022-02-01T05:15:13.483Z"
   },
   {
    "duration": 20,
    "start_time": "2022-02-01T05:15:13.507Z"
   },
   {
    "duration": 5,
    "start_time": "2022-02-01T05:15:13.529Z"
   },
   {
    "duration": 56,
    "start_time": "2022-02-01T05:15:13.535Z"
   },
   {
    "duration": 17,
    "start_time": "2022-02-01T05:15:13.593Z"
   },
   {
    "duration": 4,
    "start_time": "2022-02-01T05:15:13.612Z"
   },
   {
    "duration": 18,
    "start_time": "2022-02-01T05:15:13.617Z"
   },
   {
    "duration": 8,
    "start_time": "2022-02-01T05:15:13.638Z"
   },
   {
    "duration": 13,
    "start_time": "2022-02-01T05:15:13.672Z"
   },
   {
    "duration": 8,
    "start_time": "2022-02-01T05:15:13.687Z"
   },
   {
    "duration": 12,
    "start_time": "2022-02-01T05:15:13.697Z"
   },
   {
    "duration": 118,
    "start_time": "2022-02-01T05:15:13.710Z"
   },
   {
    "duration": 7,
    "start_time": "2022-02-01T05:15:13.830Z"
   },
   {
    "duration": 34,
    "start_time": "2022-02-01T05:15:13.838Z"
   },
   {
    "duration": 7,
    "start_time": "2022-02-01T05:15:13.873Z"
   },
   {
    "duration": 7,
    "start_time": "2022-02-01T05:15:13.881Z"
   },
   {
    "duration": 12,
    "start_time": "2022-02-01T05:15:13.890Z"
   },
   {
    "duration": 6,
    "start_time": "2022-02-01T05:15:13.904Z"
   },
   {
    "duration": 8,
    "start_time": "2022-02-01T05:15:13.912Z"
   },
   {
    "duration": 13,
    "start_time": "2022-02-01T05:15:13.921Z"
   },
   {
    "duration": 37,
    "start_time": "2022-02-01T05:15:13.935Z"
   },
   {
    "duration": 6,
    "start_time": "2022-02-01T05:15:13.973Z"
   },
   {
    "duration": 12,
    "start_time": "2022-02-01T05:15:13.981Z"
   },
   {
    "duration": 11,
    "start_time": "2022-02-01T05:15:13.994Z"
   },
   {
    "duration": 5,
    "start_time": "2022-02-01T05:15:14.006Z"
   },
   {
    "duration": 15,
    "start_time": "2022-02-01T05:15:14.012Z"
   },
   {
    "duration": 5,
    "start_time": "2022-02-01T05:15:14.028Z"
   },
   {
    "duration": 40,
    "start_time": "2022-02-01T05:15:14.035Z"
   },
   {
    "duration": 7,
    "start_time": "2022-02-01T05:15:14.076Z"
   },
   {
    "duration": 15,
    "start_time": "2022-02-01T05:15:14.085Z"
   },
   {
    "duration": 5,
    "start_time": "2022-02-01T05:15:14.101Z"
   },
   {
    "duration": 11,
    "start_time": "2022-02-01T05:15:14.107Z"
   },
   {
    "duration": 13,
    "start_time": "2022-02-01T05:15:14.120Z"
   },
   {
    "duration": 12,
    "start_time": "2022-02-01T05:15:14.135Z"
   },
   {
    "duration": 3,
    "start_time": "2022-02-01T05:15:14.149Z"
   },
   {
    "duration": 24,
    "start_time": "2022-02-01T05:15:14.154Z"
   },
   {
    "duration": 169,
    "start_time": "2022-02-01T05:15:14.180Z"
   },
   {
    "duration": 3,
    "start_time": "2022-02-01T05:15:14.351Z"
   },
   {
    "duration": 25,
    "start_time": "2022-02-01T05:15:14.355Z"
   },
   {
    "duration": 16,
    "start_time": "2022-02-01T05:15:14.382Z"
   },
   {
    "duration": 9,
    "start_time": "2022-02-01T05:15:14.399Z"
   },
   {
    "duration": 322,
    "start_time": "2022-02-01T05:15:14.409Z"
   },
   {
    "duration": 557,
    "start_time": "2022-02-01T05:15:14.733Z"
   },
   {
    "duration": 12,
    "start_time": "2022-02-01T05:15:15.292Z"
   },
   {
    "duration": 323,
    "start_time": "2022-02-01T05:15:15.305Z"
   },
   {
    "duration": 10,
    "start_time": "2022-02-01T05:15:15.630Z"
   },
   {
    "duration": 320,
    "start_time": "2022-02-01T05:15:15.641Z"
   },
   {
    "duration": 14,
    "start_time": "2022-02-01T05:15:15.963Z"
   },
   {
    "duration": 324,
    "start_time": "2022-02-01T05:15:15.979Z"
   },
   {
    "duration": 5,
    "start_time": "2022-02-01T05:15:16.304Z"
   },
   {
    "duration": 6,
    "start_time": "2022-02-01T05:15:16.311Z"
   },
   {
    "duration": 4,
    "start_time": "2022-02-01T05:15:16.318Z"
   },
   {
    "duration": 12,
    "start_time": "2022-02-01T05:15:16.326Z"
   },
   {
    "duration": 5,
    "start_time": "2022-02-01T05:15:16.339Z"
   },
   {
    "duration": 37,
    "start_time": "2022-02-01T05:15:16.345Z"
   },
   {
    "duration": 5,
    "start_time": "2022-02-01T05:15:16.383Z"
   },
   {
    "duration": 2,
    "start_time": "2022-02-01T05:15:16.390Z"
   },
   {
    "duration": 8,
    "start_time": "2022-02-01T05:15:16.393Z"
   },
   {
    "duration": 10,
    "start_time": "2022-02-01T05:15:16.402Z"
   },
   {
    "duration": 5,
    "start_time": "2022-02-01T05:16:29.208Z"
   },
   {
    "duration": 1042,
    "start_time": "2022-02-01T05:17:23.105Z"
   },
   {
    "duration": 2,
    "start_time": "2022-02-01T05:17:24.149Z"
   },
   {
    "duration": 39,
    "start_time": "2022-02-01T05:17:24.153Z"
   },
   {
    "duration": 5,
    "start_time": "2022-02-01T05:17:24.194Z"
   },
   {
    "duration": 14,
    "start_time": "2022-02-01T05:17:24.200Z"
   },
   {
    "duration": 134,
    "start_time": "2022-02-01T05:17:24.216Z"
   },
   {
    "duration": 7,
    "start_time": "2022-02-01T05:17:24.352Z"
   },
   {
    "duration": 28,
    "start_time": "2022-02-01T05:17:24.361Z"
   },
   {
    "duration": 22,
    "start_time": "2022-02-01T05:17:24.390Z"
   },
   {
    "duration": 81,
    "start_time": "2022-02-01T05:17:24.413Z"
   },
   {
    "duration": 12,
    "start_time": "2022-02-01T05:17:24.496Z"
   },
   {
    "duration": 11,
    "start_time": "2022-02-01T05:17:24.510Z"
   },
   {
    "duration": 122,
    "start_time": "2022-02-01T05:17:24.522Z"
   },
   {
    "duration": 7,
    "start_time": "2022-02-01T05:17:24.645Z"
   },
   {
    "duration": 24,
    "start_time": "2022-02-01T05:17:24.654Z"
   },
   {
    "duration": 23,
    "start_time": "2022-02-01T05:17:24.679Z"
   },
   {
    "duration": 21,
    "start_time": "2022-02-01T05:17:24.704Z"
   },
   {
    "duration": 8,
    "start_time": "2022-02-01T05:17:24.726Z"
   },
   {
    "duration": 52,
    "start_time": "2022-02-01T05:17:24.736Z"
   },
   {
    "duration": 18,
    "start_time": "2022-02-01T05:17:24.789Z"
   },
   {
    "duration": 5,
    "start_time": "2022-02-01T05:17:24.808Z"
   },
   {
    "duration": 19,
    "start_time": "2022-02-01T05:17:24.814Z"
   },
   {
    "duration": 8,
    "start_time": "2022-02-01T05:17:24.836Z"
   },
   {
    "duration": 37,
    "start_time": "2022-02-01T05:17:24.846Z"
   },
   {
    "duration": 8,
    "start_time": "2022-02-01T05:17:24.884Z"
   },
   {
    "duration": 13,
    "start_time": "2022-02-01T05:17:24.894Z"
   },
   {
    "duration": 105,
    "start_time": "2022-02-01T05:17:24.908Z"
   },
   {
    "duration": 7,
    "start_time": "2022-02-01T05:17:25.015Z"
   },
   {
    "duration": 27,
    "start_time": "2022-02-01T05:17:25.023Z"
   },
   {
    "duration": 19,
    "start_time": "2022-02-01T05:17:25.052Z"
   },
   {
    "duration": 6,
    "start_time": "2022-02-01T05:17:25.073Z"
   },
   {
    "duration": 13,
    "start_time": "2022-02-01T05:17:25.080Z"
   },
   {
    "duration": 6,
    "start_time": "2022-02-01T05:17:25.094Z"
   },
   {
    "duration": 8,
    "start_time": "2022-02-01T05:17:25.102Z"
   },
   {
    "duration": 14,
    "start_time": "2022-02-01T05:17:25.111Z"
   },
   {
    "duration": 3,
    "start_time": "2022-02-01T05:17:25.126Z"
   },
   {
    "duration": 11,
    "start_time": "2022-02-01T05:17:25.130Z"
   },
   {
    "duration": 11,
    "start_time": "2022-02-01T05:17:25.172Z"
   },
   {
    "duration": 11,
    "start_time": "2022-02-01T05:17:25.184Z"
   },
   {
    "duration": 4,
    "start_time": "2022-02-01T05:17:25.196Z"
   },
   {
    "duration": 15,
    "start_time": "2022-02-01T05:17:25.201Z"
   },
   {
    "duration": 6,
    "start_time": "2022-02-01T05:17:25.218Z"
   },
   {
    "duration": 6,
    "start_time": "2022-02-01T05:17:25.226Z"
   },
   {
    "duration": 41,
    "start_time": "2022-02-01T05:17:25.233Z"
   },
   {
    "duration": 15,
    "start_time": "2022-02-01T05:17:25.276Z"
   },
   {
    "duration": 5,
    "start_time": "2022-02-01T05:17:25.293Z"
   },
   {
    "duration": 4,
    "start_time": "2022-02-01T05:17:25.299Z"
   },
   {
    "duration": 14,
    "start_time": "2022-02-01T05:17:25.305Z"
   },
   {
    "duration": 15,
    "start_time": "2022-02-01T05:17:25.320Z"
   },
   {
    "duration": 4,
    "start_time": "2022-02-01T05:17:25.336Z"
   },
   {
    "duration": 33,
    "start_time": "2022-02-01T05:17:25.341Z"
   },
   {
    "duration": 178,
    "start_time": "2022-02-01T05:17:25.375Z"
   },
   {
    "duration": 3,
    "start_time": "2022-02-01T05:17:25.554Z"
   },
   {
    "duration": 25,
    "start_time": "2022-02-01T05:17:25.559Z"
   },
   {
    "duration": 12,
    "start_time": "2022-02-01T05:17:25.585Z"
   },
   {
    "duration": 4,
    "start_time": "2022-02-01T05:17:25.598Z"
   },
   {
    "duration": 332,
    "start_time": "2022-02-01T05:17:25.603Z"
   },
   {
    "duration": 576,
    "start_time": "2022-02-01T05:17:25.936Z"
   },
   {
    "duration": 12,
    "start_time": "2022-02-01T05:17:26.514Z"
   },
   {
    "duration": 331,
    "start_time": "2022-02-01T05:17:26.527Z"
   },
   {
    "duration": 15,
    "start_time": "2022-02-01T05:17:26.859Z"
   },
   {
    "duration": 312,
    "start_time": "2022-02-01T05:17:26.875Z"
   },
   {
    "duration": 10,
    "start_time": "2022-02-01T05:17:27.189Z"
   },
   {
    "duration": 312,
    "start_time": "2022-02-01T05:17:27.200Z"
   },
   {
    "duration": 5,
    "start_time": "2022-02-01T05:17:27.514Z"
   },
   {
    "duration": 20,
    "start_time": "2022-02-01T05:17:27.521Z"
   },
   {
    "duration": 8,
    "start_time": "2022-02-01T05:17:27.542Z"
   },
   {
    "duration": 3,
    "start_time": "2022-02-01T05:17:27.573Z"
   },
   {
    "duration": 15,
    "start_time": "2022-02-01T05:17:27.577Z"
   },
   {
    "duration": 9,
    "start_time": "2022-02-01T05:17:27.593Z"
   },
   {
    "duration": 11,
    "start_time": "2022-02-01T05:17:27.603Z"
   },
   {
    "duration": 5,
    "start_time": "2022-02-01T05:17:27.615Z"
   },
   {
    "duration": 2,
    "start_time": "2022-02-01T05:17:27.622Z"
   },
   {
    "duration": 11,
    "start_time": "2022-02-01T05:17:27.625Z"
   },
   {
    "duration": 8,
    "start_time": "2022-02-01T05:17:27.637Z"
   },
   {
    "duration": 981,
    "start_time": "2022-02-01T05:18:03.554Z"
   },
   {
    "duration": 2,
    "start_time": "2022-02-01T05:18:04.537Z"
   },
   {
    "duration": 39,
    "start_time": "2022-02-01T05:18:04.541Z"
   },
   {
    "duration": 6,
    "start_time": "2022-02-01T05:18:04.582Z"
   },
   {
    "duration": 14,
    "start_time": "2022-02-01T05:18:04.589Z"
   },
   {
    "duration": 138,
    "start_time": "2022-02-01T05:18:04.604Z"
   },
   {
    "duration": 8,
    "start_time": "2022-02-01T05:18:04.744Z"
   },
   {
    "duration": 30,
    "start_time": "2022-02-01T05:18:04.755Z"
   },
   {
    "duration": 25,
    "start_time": "2022-02-01T05:18:04.788Z"
   },
   {
    "duration": 100,
    "start_time": "2022-02-01T05:18:04.815Z"
   },
   {
    "duration": 12,
    "start_time": "2022-02-01T05:18:04.917Z"
   },
   {
    "duration": 11,
    "start_time": "2022-02-01T05:18:04.931Z"
   },
   {
    "duration": 133,
    "start_time": "2022-02-01T05:18:04.943Z"
   },
   {
    "duration": 6,
    "start_time": "2022-02-01T05:18:05.078Z"
   },
   {
    "duration": 16,
    "start_time": "2022-02-01T05:18:05.086Z"
   },
   {
    "duration": 24,
    "start_time": "2022-02-01T05:18:05.103Z"
   },
   {
    "duration": 21,
    "start_time": "2022-02-01T05:18:05.128Z"
   },
   {
    "duration": 7,
    "start_time": "2022-02-01T05:18:05.150Z"
   },
   {
    "duration": 46,
    "start_time": "2022-02-01T05:18:05.171Z"
   },
   {
    "duration": 16,
    "start_time": "2022-02-01T05:18:05.219Z"
   },
   {
    "duration": 3,
    "start_time": "2022-02-01T05:18:05.236Z"
   },
   {
    "duration": 35,
    "start_time": "2022-02-01T05:18:05.241Z"
   },
   {
    "duration": 8,
    "start_time": "2022-02-01T05:18:05.280Z"
   },
   {
    "duration": 14,
    "start_time": "2022-02-01T05:18:05.290Z"
   },
   {
    "duration": 8,
    "start_time": "2022-02-01T05:18:05.305Z"
   },
   {
    "duration": 13,
    "start_time": "2022-02-01T05:18:05.315Z"
   },
   {
    "duration": 114,
    "start_time": "2022-02-01T05:18:05.329Z"
   },
   {
    "duration": 7,
    "start_time": "2022-02-01T05:18:05.445Z"
   },
   {
    "duration": 34,
    "start_time": "2022-02-01T05:18:05.453Z"
   },
   {
    "duration": 6,
    "start_time": "2022-02-01T05:18:05.489Z"
   },
   {
    "duration": 8,
    "start_time": "2022-02-01T05:18:05.497Z"
   },
   {
    "duration": 13,
    "start_time": "2022-02-01T05:18:05.506Z"
   },
   {
    "duration": 6,
    "start_time": "2022-02-01T05:18:05.520Z"
   },
   {
    "duration": 7,
    "start_time": "2022-02-01T05:18:05.528Z"
   },
   {
    "duration": 42,
    "start_time": "2022-02-01T05:18:05.536Z"
   },
   {
    "duration": 3,
    "start_time": "2022-02-01T05:18:05.579Z"
   },
   {
    "duration": 7,
    "start_time": "2022-02-01T05:18:05.584Z"
   },
   {
    "duration": 13,
    "start_time": "2022-02-01T05:18:05.593Z"
   },
   {
    "duration": 11,
    "start_time": "2022-02-01T05:18:05.608Z"
   },
   {
    "duration": 4,
    "start_time": "2022-02-01T05:18:05.621Z"
   },
   {
    "duration": 17,
    "start_time": "2022-02-01T05:18:05.627Z"
   },
   {
    "duration": 31,
    "start_time": "2022-02-01T05:18:05.645Z"
   },
   {
    "duration": 5,
    "start_time": "2022-02-01T05:18:05.677Z"
   },
   {
    "duration": 8,
    "start_time": "2022-02-01T05:18:05.683Z"
   },
   {
    "duration": 18,
    "start_time": "2022-02-01T05:18:05.692Z"
   },
   {
    "duration": 5,
    "start_time": "2022-02-01T05:18:05.711Z"
   },
   {
    "duration": 7,
    "start_time": "2022-02-01T05:18:05.717Z"
   },
   {
    "duration": 16,
    "start_time": "2022-02-01T05:18:05.726Z"
   },
   {
    "duration": 29,
    "start_time": "2022-02-01T05:18:05.743Z"
   },
   {
    "duration": 4,
    "start_time": "2022-02-01T05:18:05.773Z"
   },
   {
    "duration": 14,
    "start_time": "2022-02-01T05:18:05.778Z"
   },
   {
    "duration": 184,
    "start_time": "2022-02-01T05:18:05.794Z"
   },
   {
    "duration": 4,
    "start_time": "2022-02-01T05:18:05.979Z"
   },
   {
    "duration": 15,
    "start_time": "2022-02-01T05:18:05.985Z"
   },
   {
    "duration": 13,
    "start_time": "2022-02-01T05:18:06.001Z"
   },
   {
    "duration": 4,
    "start_time": "2022-02-01T05:18:06.016Z"
   },
   {
    "duration": 337,
    "start_time": "2022-02-01T05:18:06.022Z"
   },
   {
    "duration": 615,
    "start_time": "2022-02-01T05:18:06.360Z"
   },
   {
    "duration": 11,
    "start_time": "2022-02-01T05:18:06.977Z"
   },
   {
    "duration": 332,
    "start_time": "2022-02-01T05:18:06.989Z"
   },
   {
    "duration": 10,
    "start_time": "2022-02-01T05:18:07.323Z"
   },
   {
    "duration": 314,
    "start_time": "2022-02-01T05:18:07.334Z"
   },
   {
    "duration": 10,
    "start_time": "2022-02-01T05:18:07.649Z"
   },
   {
    "duration": 311,
    "start_time": "2022-02-01T05:18:07.660Z"
   },
   {
    "duration": 5,
    "start_time": "2022-02-01T05:18:07.973Z"
   },
   {
    "duration": 10,
    "start_time": "2022-02-01T05:18:07.979Z"
   },
   {
    "duration": 6,
    "start_time": "2022-02-01T05:18:07.990Z"
   },
   {
    "duration": 3,
    "start_time": "2022-02-01T05:18:08.001Z"
   },
   {
    "duration": 14,
    "start_time": "2022-02-01T05:18:08.005Z"
   },
   {
    "duration": 5,
    "start_time": "2022-02-01T05:18:08.021Z"
   },
   {
    "duration": 10,
    "start_time": "2022-02-01T05:18:08.027Z"
   },
   {
    "duration": 35,
    "start_time": "2022-02-01T05:18:08.039Z"
   },
   {
    "duration": 2,
    "start_time": "2022-02-01T05:18:08.076Z"
   },
   {
    "duration": 6,
    "start_time": "2022-02-01T05:18:08.079Z"
   },
   {
    "duration": 6,
    "start_time": "2022-02-01T05:18:08.086Z"
   },
   {
    "duration": 3430,
    "start_time": "2022-02-01T05:19:52.730Z"
   },
   {
    "duration": 1018,
    "start_time": "2022-02-01T05:20:01.614Z"
   },
   {
    "duration": 3,
    "start_time": "2022-02-01T05:20:02.634Z"
   },
   {
    "duration": 39,
    "start_time": "2022-02-01T05:20:02.639Z"
   },
   {
    "duration": 5,
    "start_time": "2022-02-01T05:20:02.680Z"
   },
   {
    "duration": 17,
    "start_time": "2022-02-01T05:20:02.687Z"
   },
   {
    "duration": 138,
    "start_time": "2022-02-01T05:20:02.705Z"
   },
   {
    "duration": 7,
    "start_time": "2022-02-01T05:20:02.845Z"
   },
   {
    "duration": 24,
    "start_time": "2022-02-01T05:20:02.854Z"
   },
   {
    "duration": 23,
    "start_time": "2022-02-01T05:20:02.880Z"
   },
   {
    "duration": 87,
    "start_time": "2022-02-01T05:20:02.904Z"
   },
   {
    "duration": 13,
    "start_time": "2022-02-01T05:20:02.993Z"
   },
   {
    "duration": 13,
    "start_time": "2022-02-01T05:20:03.007Z"
   },
   {
    "duration": 118,
    "start_time": "2022-02-01T05:20:03.022Z"
   },
   {
    "duration": 7,
    "start_time": "2022-02-01T05:20:03.142Z"
   },
   {
    "duration": 25,
    "start_time": "2022-02-01T05:20:03.151Z"
   },
   {
    "duration": 24,
    "start_time": "2022-02-01T05:20:03.178Z"
   },
   {
    "duration": 23,
    "start_time": "2022-02-01T05:20:03.204Z"
   },
   {
    "duration": 6,
    "start_time": "2022-02-01T05:20:03.228Z"
   },
   {
    "duration": 67,
    "start_time": "2022-02-01T05:20:03.236Z"
   },
   {
    "duration": 18,
    "start_time": "2022-02-01T05:20:03.304Z"
   },
   {
    "duration": 5,
    "start_time": "2022-02-01T05:20:03.324Z"
   },
   {
    "duration": 18,
    "start_time": "2022-02-01T05:20:03.330Z"
   },
   {
    "duration": 9,
    "start_time": "2022-02-01T05:20:03.374Z"
   },
   {
    "duration": 14,
    "start_time": "2022-02-01T05:20:03.386Z"
   },
   {
    "duration": 9,
    "start_time": "2022-02-01T05:20:03.401Z"
   },
   {
    "duration": 12,
    "start_time": "2022-02-01T05:20:03.412Z"
   },
   {
    "duration": 117,
    "start_time": "2022-02-01T05:20:03.426Z"
   },
   {
    "duration": 7,
    "start_time": "2022-02-01T05:20:03.544Z"
   },
   {
    "duration": 34,
    "start_time": "2022-02-01T05:20:03.552Z"
   },
   {
    "duration": 6,
    "start_time": "2022-02-01T05:20:03.588Z"
   },
   {
    "duration": 10,
    "start_time": "2022-02-01T05:20:03.595Z"
   },
   {
    "duration": 15,
    "start_time": "2022-02-01T05:20:03.606Z"
   },
   {
    "duration": 7,
    "start_time": "2022-02-01T05:20:03.622Z"
   },
   {
    "duration": 8,
    "start_time": "2022-02-01T05:20:03.630Z"
   },
   {
    "duration": 34,
    "start_time": "2022-02-01T05:20:03.639Z"
   },
   {
    "duration": 3,
    "start_time": "2022-02-01T05:20:03.675Z"
   },
   {
    "duration": 7,
    "start_time": "2022-02-01T05:20:03.679Z"
   },
   {
    "duration": 15,
    "start_time": "2022-02-01T05:20:03.687Z"
   },
   {
    "duration": 12,
    "start_time": "2022-02-01T05:20:03.704Z"
   },
   {
    "duration": 5,
    "start_time": "2022-02-01T05:20:03.717Z"
   },
   {
    "duration": 20,
    "start_time": "2022-02-01T05:20:03.724Z"
   },
   {
    "duration": 27,
    "start_time": "2022-02-01T05:20:03.745Z"
   },
   {
    "duration": 4,
    "start_time": "2022-02-01T05:20:03.774Z"
   },
   {
    "duration": 8,
    "start_time": "2022-02-01T05:20:03.780Z"
   },
   {
    "duration": 17,
    "start_time": "2022-02-01T05:20:03.789Z"
   },
   {
    "duration": 6,
    "start_time": "2022-02-01T05:20:03.807Z"
   },
   {
    "duration": 6,
    "start_time": "2022-02-01T05:20:03.815Z"
   },
   {
    "duration": 15,
    "start_time": "2022-02-01T05:20:03.822Z"
   },
   {
    "duration": 13,
    "start_time": "2022-02-01T05:20:03.838Z"
   },
   {
    "duration": 4,
    "start_time": "2022-02-01T05:20:03.871Z"
   },
   {
    "duration": 14,
    "start_time": "2022-02-01T05:20:03.876Z"
   },
   {
    "duration": 183,
    "start_time": "2022-02-01T05:20:03.891Z"
   },
   {
    "duration": 4,
    "start_time": "2022-02-01T05:20:04.075Z"
   },
   {
    "duration": 17,
    "start_time": "2022-02-01T05:20:04.080Z"
   },
   {
    "duration": 13,
    "start_time": "2022-02-01T05:20:04.099Z"
   },
   {
    "duration": 5,
    "start_time": "2022-02-01T05:20:04.113Z"
   },
   {
    "duration": 341,
    "start_time": "2022-02-01T05:20:04.119Z"
   },
   {
    "duration": 1126,
    "start_time": "2022-02-01T05:20:04.461Z"
   },
   {
    "duration": 11,
    "start_time": "2022-02-01T05:20:05.588Z"
   },
   {
    "duration": 319,
    "start_time": "2022-02-01T05:20:05.600Z"
   },
   {
    "duration": 9,
    "start_time": "2022-02-01T05:20:05.921Z"
   },
   {
    "duration": 321,
    "start_time": "2022-02-01T05:20:05.932Z"
   },
   {
    "duration": 18,
    "start_time": "2022-02-01T05:20:06.254Z"
   },
   {
    "duration": 303,
    "start_time": "2022-02-01T05:20:06.273Z"
   },
   {
    "duration": 5,
    "start_time": "2022-02-01T05:20:06.577Z"
   },
   {
    "duration": 6,
    "start_time": "2022-02-01T05:20:06.584Z"
   },
   {
    "duration": 6,
    "start_time": "2022-02-01T05:20:06.592Z"
   },
   {
    "duration": 3,
    "start_time": "2022-02-01T05:20:06.602Z"
   },
   {
    "duration": 14,
    "start_time": "2022-02-01T05:20:06.606Z"
   },
   {
    "duration": 5,
    "start_time": "2022-02-01T05:20:06.621Z"
   },
   {
    "duration": 11,
    "start_time": "2022-02-01T05:20:06.627Z"
   },
   {
    "duration": 6,
    "start_time": "2022-02-01T05:20:06.671Z"
   },
   {
    "duration": 3,
    "start_time": "2022-02-01T05:20:06.678Z"
   },
   {
    "duration": 7,
    "start_time": "2022-02-01T05:20:06.682Z"
   },
   {
    "duration": 10,
    "start_time": "2022-02-01T05:20:06.690Z"
   },
   {
    "duration": 1009,
    "start_time": "2022-02-01T05:20:27.528Z"
   },
   {
    "duration": 3,
    "start_time": "2022-02-01T05:20:28.538Z"
   },
   {
    "duration": 38,
    "start_time": "2022-02-01T05:20:28.544Z"
   },
   {
    "duration": 6,
    "start_time": "2022-02-01T05:20:28.584Z"
   },
   {
    "duration": 15,
    "start_time": "2022-02-01T05:20:28.592Z"
   },
   {
    "duration": 138,
    "start_time": "2022-02-01T05:20:28.609Z"
   },
   {
    "duration": 7,
    "start_time": "2022-02-01T05:20:28.749Z"
   },
   {
    "duration": 31,
    "start_time": "2022-02-01T05:20:28.758Z"
   },
   {
    "duration": 23,
    "start_time": "2022-02-01T05:20:28.791Z"
   },
   {
    "duration": 88,
    "start_time": "2022-02-01T05:20:28.816Z"
   },
   {
    "duration": 13,
    "start_time": "2022-02-01T05:20:28.905Z"
   },
   {
    "duration": 12,
    "start_time": "2022-02-01T05:20:28.920Z"
   },
   {
    "duration": 131,
    "start_time": "2022-02-01T05:20:28.933Z"
   },
   {
    "duration": 11,
    "start_time": "2022-02-01T05:20:29.066Z"
   },
   {
    "duration": 18,
    "start_time": "2022-02-01T05:20:29.078Z"
   },
   {
    "duration": 23,
    "start_time": "2022-02-01T05:20:29.098Z"
   },
   {
    "duration": 22,
    "start_time": "2022-02-01T05:20:29.122Z"
   },
   {
    "duration": 7,
    "start_time": "2022-02-01T05:20:29.145Z"
   },
   {
    "duration": 62,
    "start_time": "2022-02-01T05:20:29.153Z"
   },
   {
    "duration": 16,
    "start_time": "2022-02-01T05:20:29.217Z"
   },
   {
    "duration": 4,
    "start_time": "2022-02-01T05:20:29.235Z"
   },
   {
    "duration": 34,
    "start_time": "2022-02-01T05:20:29.240Z"
   },
   {
    "duration": 8,
    "start_time": "2022-02-01T05:20:29.278Z"
   },
   {
    "duration": 13,
    "start_time": "2022-02-01T05:20:29.288Z"
   },
   {
    "duration": 8,
    "start_time": "2022-02-01T05:20:29.302Z"
   },
   {
    "duration": 14,
    "start_time": "2022-02-01T05:20:29.311Z"
   },
   {
    "duration": 123,
    "start_time": "2022-02-01T05:20:29.327Z"
   },
   {
    "duration": 7,
    "start_time": "2022-02-01T05:20:29.452Z"
   },
   {
    "duration": 28,
    "start_time": "2022-02-01T05:20:29.472Z"
   },
   {
    "duration": 7,
    "start_time": "2022-02-01T05:20:29.501Z"
   },
   {
    "duration": 8,
    "start_time": "2022-02-01T05:20:29.510Z"
   },
   {
    "duration": 14,
    "start_time": "2022-02-01T05:20:29.520Z"
   },
   {
    "duration": 6,
    "start_time": "2022-02-01T05:20:29.535Z"
   },
   {
    "duration": 6,
    "start_time": "2022-02-01T05:20:29.571Z"
   },
   {
    "duration": 14,
    "start_time": "2022-02-01T05:20:29.579Z"
   },
   {
    "duration": 3,
    "start_time": "2022-02-01T05:20:29.595Z"
   },
   {
    "duration": 7,
    "start_time": "2022-02-01T05:20:29.599Z"
   },
   {
    "duration": 13,
    "start_time": "2022-02-01T05:20:29.608Z"
   },
   {
    "duration": 12,
    "start_time": "2022-02-01T05:20:29.622Z"
   },
   {
    "duration": 5,
    "start_time": "2022-02-01T05:20:29.635Z"
   },
   {
    "duration": 41,
    "start_time": "2022-02-01T05:20:29.641Z"
   },
   {
    "duration": 5,
    "start_time": "2022-02-01T05:20:29.684Z"
   },
   {
    "duration": 4,
    "start_time": "2022-02-01T05:20:29.691Z"
   },
   {
    "duration": 8,
    "start_time": "2022-02-01T05:20:29.697Z"
   },
   {
    "duration": 18,
    "start_time": "2022-02-01T05:20:29.706Z"
   },
   {
    "duration": 6,
    "start_time": "2022-02-01T05:20:29.725Z"
   },
   {
    "duration": 40,
    "start_time": "2022-02-01T05:20:29.732Z"
   },
   {
    "duration": 9,
    "start_time": "2022-02-01T05:20:29.774Z"
   },
   {
    "duration": 11,
    "start_time": "2022-02-01T05:20:29.785Z"
   },
   {
    "duration": 3,
    "start_time": "2022-02-01T05:20:29.798Z"
   },
   {
    "duration": 17,
    "start_time": "2022-02-01T05:20:29.803Z"
   },
   {
    "duration": 190,
    "start_time": "2022-02-01T05:20:29.822Z"
   },
   {
    "duration": 3,
    "start_time": "2022-02-01T05:20:30.014Z"
   },
   {
    "duration": 20,
    "start_time": "2022-02-01T05:20:30.019Z"
   },
   {
    "duration": 15,
    "start_time": "2022-02-01T05:20:30.040Z"
   },
   {
    "duration": 18,
    "start_time": "2022-02-01T05:20:30.056Z"
   },
   {
    "duration": 337,
    "start_time": "2022-02-01T05:20:30.075Z"
   },
   {
    "duration": 609,
    "start_time": "2022-02-01T05:20:30.414Z"
   },
   {
    "duration": 12,
    "start_time": "2022-02-01T05:20:31.025Z"
   },
   {
    "duration": 341,
    "start_time": "2022-02-01T05:20:31.038Z"
   },
   {
    "duration": 10,
    "start_time": "2022-02-01T05:20:31.381Z"
   },
   {
    "duration": 319,
    "start_time": "2022-02-01T05:20:31.393Z"
   },
   {
    "duration": 10,
    "start_time": "2022-02-01T05:20:31.714Z"
   },
   {
    "duration": 331,
    "start_time": "2022-02-01T05:20:31.725Z"
   },
   {
    "duration": 15,
    "start_time": "2022-02-01T05:20:32.058Z"
   },
   {
    "duration": 10,
    "start_time": "2022-02-01T05:20:32.074Z"
   },
   {
    "duration": 7,
    "start_time": "2022-02-01T05:20:32.086Z"
   },
   {
    "duration": 7,
    "start_time": "2022-02-01T05:20:32.098Z"
   },
   {
    "duration": 4,
    "start_time": "2022-02-01T05:20:32.106Z"
   },
   {
    "duration": 14,
    "start_time": "2022-02-01T05:20:32.111Z"
   },
   {
    "duration": 6,
    "start_time": "2022-02-01T05:20:32.127Z"
   },
   {
    "duration": 43,
    "start_time": "2022-02-01T05:20:32.134Z"
   },
   {
    "duration": 5,
    "start_time": "2022-02-01T05:20:32.179Z"
   },
   {
    "duration": 2,
    "start_time": "2022-02-01T05:20:32.186Z"
   },
   {
    "duration": 9,
    "start_time": "2022-02-01T05:20:32.189Z"
   },
   {
    "duration": 12,
    "start_time": "2022-02-01T05:20:32.199Z"
   },
   {
    "duration": 1014,
    "start_time": "2022-02-01T05:32:39.816Z"
   },
   {
    "duration": 3,
    "start_time": "2022-02-01T05:32:40.832Z"
   },
   {
    "duration": 44,
    "start_time": "2022-02-01T05:32:40.836Z"
   },
   {
    "duration": 7,
    "start_time": "2022-02-01T05:32:40.881Z"
   },
   {
    "duration": 15,
    "start_time": "2022-02-01T05:32:40.889Z"
   },
   {
    "duration": 143,
    "start_time": "2022-02-01T05:32:40.906Z"
   },
   {
    "duration": 7,
    "start_time": "2022-02-01T05:32:41.050Z"
   },
   {
    "duration": 24,
    "start_time": "2022-02-01T05:32:41.059Z"
   },
   {
    "duration": 23,
    "start_time": "2022-02-01T05:32:41.085Z"
   },
   {
    "duration": 87,
    "start_time": "2022-02-01T05:32:41.110Z"
   },
   {
    "duration": 13,
    "start_time": "2022-02-01T05:32:41.198Z"
   },
   {
    "duration": 16,
    "start_time": "2022-02-01T05:32:41.212Z"
   },
   {
    "duration": 127,
    "start_time": "2022-02-01T05:32:41.229Z"
   },
   {
    "duration": 14,
    "start_time": "2022-02-01T05:32:41.358Z"
   },
   {
    "duration": 16,
    "start_time": "2022-02-01T05:32:41.374Z"
   },
   {
    "duration": 25,
    "start_time": "2022-02-01T05:32:41.392Z"
   },
   {
    "duration": 23,
    "start_time": "2022-02-01T05:32:41.418Z"
   },
   {
    "duration": 7,
    "start_time": "2022-02-01T05:32:41.442Z"
   },
   {
    "duration": 45,
    "start_time": "2022-02-01T05:32:41.471Z"
   },
   {
    "duration": 17,
    "start_time": "2022-02-01T05:32:41.518Z"
   },
   {
    "duration": 5,
    "start_time": "2022-02-01T05:32:41.537Z"
   },
   {
    "duration": 43,
    "start_time": "2022-02-01T05:32:41.544Z"
   },
   {
    "duration": 13,
    "start_time": "2022-02-01T05:32:41.591Z"
   },
   {
    "duration": 17,
    "start_time": "2022-02-01T05:32:41.606Z"
   },
   {
    "duration": 10,
    "start_time": "2022-02-01T05:32:41.625Z"
   },
   {
    "duration": 38,
    "start_time": "2022-02-01T05:32:41.637Z"
   },
   {
    "duration": 98,
    "start_time": "2022-02-01T05:32:41.677Z"
   },
   {
    "duration": 7,
    "start_time": "2022-02-01T05:32:41.776Z"
   },
   {
    "duration": 26,
    "start_time": "2022-02-01T05:32:41.784Z"
   },
   {
    "duration": 5,
    "start_time": "2022-02-01T05:32:41.812Z"
   },
   {
    "duration": 6,
    "start_time": "2022-02-01T05:32:41.819Z"
   },
   {
    "duration": 11,
    "start_time": "2022-02-01T05:32:41.827Z"
   },
   {
    "duration": 32,
    "start_time": "2022-02-01T05:32:41.840Z"
   },
   {
    "duration": 7,
    "start_time": "2022-02-01T05:32:41.873Z"
   },
   {
    "duration": 15,
    "start_time": "2022-02-01T05:32:41.881Z"
   },
   {
    "duration": 20,
    "start_time": "2022-02-01T05:32:41.897Z"
   },
   {
    "duration": 15,
    "start_time": "2022-02-01T05:32:41.918Z"
   },
   {
    "duration": 19,
    "start_time": "2022-02-01T05:32:41.935Z"
   },
   {
    "duration": 11,
    "start_time": "2022-02-01T05:32:41.956Z"
   },
   {
    "duration": 5,
    "start_time": "2022-02-01T05:32:41.968Z"
   },
   {
    "duration": 16,
    "start_time": "2022-02-01T05:32:41.974Z"
   },
   {
    "duration": 4,
    "start_time": "2022-02-01T05:32:41.992Z"
   },
   {
    "duration": 13,
    "start_time": "2022-02-01T05:32:41.998Z"
   },
   {
    "duration": 9,
    "start_time": "2022-02-01T05:32:42.013Z"
   },
   {
    "duration": 17,
    "start_time": "2022-02-01T05:32:42.024Z"
   },
   {
    "duration": 5,
    "start_time": "2022-02-01T05:32:42.043Z"
   },
   {
    "duration": 6,
    "start_time": "2022-02-01T05:32:42.049Z"
   },
   {
    "duration": 35,
    "start_time": "2022-02-01T05:32:42.056Z"
   },
   {
    "duration": 9,
    "start_time": "2022-02-01T05:32:42.093Z"
   },
   {
    "duration": 3,
    "start_time": "2022-02-01T05:32:42.104Z"
   },
   {
    "duration": 15,
    "start_time": "2022-02-01T05:32:42.109Z"
   },
   {
    "duration": 181,
    "start_time": "2022-02-01T05:32:42.125Z"
   },
   {
    "duration": 3,
    "start_time": "2022-02-01T05:32:42.308Z"
   },
   {
    "duration": 20,
    "start_time": "2022-02-01T05:32:42.312Z"
   },
   {
    "duration": 24,
    "start_time": "2022-02-01T05:32:42.333Z"
   },
   {
    "duration": 4,
    "start_time": "2022-02-01T05:32:42.358Z"
   },
   {
    "duration": 320,
    "start_time": "2022-02-01T05:32:42.371Z"
   },
   {
    "duration": 573,
    "start_time": "2022-02-01T05:32:42.692Z"
   },
   {
    "duration": 14,
    "start_time": "2022-02-01T05:32:43.267Z"
   },
   {
    "duration": 325,
    "start_time": "2022-02-01T05:32:43.282Z"
   },
   {
    "duration": 11,
    "start_time": "2022-02-01T05:32:43.608Z"
   },
   {
    "duration": 317,
    "start_time": "2022-02-01T05:32:43.620Z"
   },
   {
    "duration": 10,
    "start_time": "2022-02-01T05:32:43.938Z"
   },
   {
    "duration": 316,
    "start_time": "2022-02-01T05:32:43.950Z"
   },
   {
    "duration": 5,
    "start_time": "2022-02-01T05:32:44.271Z"
   },
   {
    "duration": 8,
    "start_time": "2022-02-01T05:32:44.277Z"
   },
   {
    "duration": 7,
    "start_time": "2022-02-01T05:32:44.286Z"
   },
   {
    "duration": 3,
    "start_time": "2022-02-01T05:32:44.297Z"
   },
   {
    "duration": 13,
    "start_time": "2022-02-01T05:32:44.301Z"
   },
   {
    "duration": 5,
    "start_time": "2022-02-01T05:32:44.315Z"
   },
   {
    "duration": 11,
    "start_time": "2022-02-01T05:32:44.321Z"
   },
   {
    "duration": 38,
    "start_time": "2022-02-01T05:32:44.334Z"
   },
   {
    "duration": 2,
    "start_time": "2022-02-01T05:32:44.373Z"
   },
   {
    "duration": 6,
    "start_time": "2022-02-01T05:32:44.377Z"
   },
   {
    "duration": 10,
    "start_time": "2022-02-01T05:32:44.384Z"
   },
   {
    "duration": 103,
    "start_time": "2022-02-01T05:34:02.734Z"
   },
   {
    "duration": 985,
    "start_time": "2022-02-01T05:34:17.154Z"
   },
   {
    "duration": 2,
    "start_time": "2022-02-01T05:34:18.141Z"
   },
   {
    "duration": 40,
    "start_time": "2022-02-01T05:34:18.145Z"
   },
   {
    "duration": 6,
    "start_time": "2022-02-01T05:34:18.187Z"
   },
   {
    "duration": 14,
    "start_time": "2022-02-01T05:34:18.195Z"
   },
   {
    "duration": 149,
    "start_time": "2022-02-01T05:34:18.211Z"
   },
   {
    "duration": 8,
    "start_time": "2022-02-01T05:34:18.361Z"
   },
   {
    "duration": 17,
    "start_time": "2022-02-01T05:34:18.373Z"
   },
   {
    "duration": 23,
    "start_time": "2022-02-01T05:34:18.392Z"
   },
   {
    "duration": 87,
    "start_time": "2022-02-01T05:34:18.416Z"
   },
   {
    "duration": 13,
    "start_time": "2022-02-01T05:34:18.504Z"
   },
   {
    "duration": 56,
    "start_time": "2022-02-01T05:34:18.518Z"
   },
   {
    "duration": 165,
    "start_time": "2022-02-01T05:34:18.576Z"
   },
   {
    "duration": 7,
    "start_time": "2022-02-01T05:34:18.742Z"
   },
   {
    "duration": 26,
    "start_time": "2022-02-01T05:34:18.750Z"
   },
   {
    "duration": 23,
    "start_time": "2022-02-01T05:34:18.777Z"
   },
   {
    "duration": 20,
    "start_time": "2022-02-01T05:34:18.802Z"
   },
   {
    "duration": 6,
    "start_time": "2022-02-01T05:34:18.824Z"
   },
   {
    "duration": 46,
    "start_time": "2022-02-01T05:34:18.831Z"
   },
   {
    "duration": 17,
    "start_time": "2022-02-01T05:34:18.879Z"
   },
   {
    "duration": 4,
    "start_time": "2022-02-01T05:34:18.898Z"
   },
   {
    "duration": 19,
    "start_time": "2022-02-01T05:34:18.903Z"
   },
   {
    "duration": 7,
    "start_time": "2022-02-01T05:34:18.926Z"
   },
   {
    "duration": 12,
    "start_time": "2022-02-01T05:34:18.936Z"
   },
   {
    "duration": 8,
    "start_time": "2022-02-01T05:34:18.949Z"
   },
   {
    "duration": 16,
    "start_time": "2022-02-01T05:34:18.958Z"
   },
   {
    "duration": 90,
    "start_time": "2022-02-01T05:34:18.975Z"
   },
   {
    "duration": 7,
    "start_time": "2022-02-01T05:34:19.071Z"
   },
   {
    "duration": 25,
    "start_time": "2022-02-01T05:34:19.079Z"
   },
   {
    "duration": 6,
    "start_time": "2022-02-01T05:34:19.106Z"
   },
   {
    "duration": 10,
    "start_time": "2022-02-01T05:34:19.113Z"
   },
   {
    "duration": 11,
    "start_time": "2022-02-01T05:34:19.124Z"
   },
   {
    "duration": 6,
    "start_time": "2022-02-01T05:34:19.136Z"
   },
   {
    "duration": 9,
    "start_time": "2022-02-01T05:34:19.143Z"
   },
   {
    "duration": 24,
    "start_time": "2022-02-01T05:34:19.153Z"
   },
   {
    "duration": 3,
    "start_time": "2022-02-01T05:34:19.178Z"
   },
   {
    "duration": 13,
    "start_time": "2022-02-01T05:34:19.183Z"
   },
   {
    "duration": 18,
    "start_time": "2022-02-01T05:34:19.198Z"
   },
   {
    "duration": 11,
    "start_time": "2022-02-01T05:34:19.217Z"
   },
   {
    "duration": 5,
    "start_time": "2022-02-01T05:34:19.229Z"
   },
   {
    "duration": 20,
    "start_time": "2022-02-01T05:34:19.235Z"
   },
   {
    "duration": 6,
    "start_time": "2022-02-01T05:34:19.256Z"
   },
   {
    "duration": 6,
    "start_time": "2022-02-01T05:34:19.263Z"
   },
   {
    "duration": 10,
    "start_time": "2022-02-01T05:34:19.270Z"
   },
   {
    "duration": 18,
    "start_time": "2022-02-01T05:34:19.281Z"
   },
   {
    "duration": 5,
    "start_time": "2022-02-01T05:34:19.301Z"
   },
   {
    "duration": 5,
    "start_time": "2022-02-01T05:34:19.307Z"
   },
   {
    "duration": 14,
    "start_time": "2022-02-01T05:34:19.314Z"
   },
   {
    "duration": 19,
    "start_time": "2022-02-01T05:34:19.329Z"
   },
   {
    "duration": 3,
    "start_time": "2022-02-01T05:34:19.350Z"
   },
   {
    "duration": 20,
    "start_time": "2022-02-01T05:34:19.354Z"
   },
   {
    "duration": 174,
    "start_time": "2022-02-01T05:34:19.375Z"
   },
   {
    "duration": 3,
    "start_time": "2022-02-01T05:34:19.551Z"
   },
   {
    "duration": 16,
    "start_time": "2022-02-01T05:34:19.556Z"
   },
   {
    "duration": 12,
    "start_time": "2022-02-01T05:34:19.573Z"
   },
   {
    "duration": 5,
    "start_time": "2022-02-01T05:34:19.586Z"
   },
   {
    "duration": 462,
    "start_time": "2022-02-01T05:34:19.592Z"
   },
   {
    "duration": 628,
    "start_time": "2022-02-01T05:34:20.055Z"
   },
   {
    "duration": 13,
    "start_time": "2022-02-01T05:34:20.685Z"
   },
   {
    "duration": 341,
    "start_time": "2022-02-01T05:34:20.700Z"
   },
   {
    "duration": 11,
    "start_time": "2022-02-01T05:34:21.043Z"
   },
   {
    "duration": 321,
    "start_time": "2022-02-01T05:34:21.056Z"
   },
   {
    "duration": 10,
    "start_time": "2022-02-01T05:34:21.379Z"
   },
   {
    "duration": 317,
    "start_time": "2022-02-01T05:34:21.391Z"
   },
   {
    "duration": 6,
    "start_time": "2022-02-01T05:34:21.709Z"
   },
   {
    "duration": 7,
    "start_time": "2022-02-01T05:34:21.716Z"
   },
   {
    "duration": 5,
    "start_time": "2022-02-01T05:34:21.724Z"
   },
   {
    "duration": 3,
    "start_time": "2022-02-01T05:34:21.734Z"
   },
   {
    "duration": 34,
    "start_time": "2022-02-01T05:34:21.738Z"
   },
   {
    "duration": 4,
    "start_time": "2022-02-01T05:34:21.774Z"
   },
   {
    "duration": 12,
    "start_time": "2022-02-01T05:34:21.780Z"
   },
   {
    "duration": 6,
    "start_time": "2022-02-01T05:34:21.793Z"
   },
   {
    "duration": 6,
    "start_time": "2022-02-01T05:34:21.800Z"
   },
   {
    "duration": 9,
    "start_time": "2022-02-01T05:34:21.807Z"
   },
   {
    "duration": 10,
    "start_time": "2022-02-01T05:34:21.817Z"
   },
   {
    "duration": 5,
    "start_time": "2022-02-01T05:41:16.070Z"
   },
   {
    "duration": 1007,
    "start_time": "2022-02-01T05:43:50.258Z"
   },
   {
    "duration": 3,
    "start_time": "2022-02-01T05:43:51.267Z"
   },
   {
    "duration": 61,
    "start_time": "2022-02-01T05:43:51.272Z"
   },
   {
    "duration": 16,
    "start_time": "2022-02-01T05:43:51.334Z"
   },
   {
    "duration": 48,
    "start_time": "2022-02-01T05:43:51.351Z"
   },
   {
    "duration": 159,
    "start_time": "2022-02-01T05:43:51.400Z"
   },
   {
    "duration": 11,
    "start_time": "2022-02-01T05:43:51.560Z"
   },
   {
    "duration": 28,
    "start_time": "2022-02-01T05:43:51.573Z"
   },
   {
    "duration": 36,
    "start_time": "2022-02-01T05:43:51.603Z"
   },
   {
    "duration": 81,
    "start_time": "2022-02-01T05:43:51.641Z"
   },
   {
    "duration": 14,
    "start_time": "2022-02-01T05:43:51.724Z"
   },
   {
    "duration": 17,
    "start_time": "2022-02-01T05:43:51.739Z"
   },
   {
    "duration": 126,
    "start_time": "2022-02-01T05:43:51.758Z"
   },
   {
    "duration": 8,
    "start_time": "2022-02-01T05:43:51.886Z"
   },
   {
    "duration": 21,
    "start_time": "2022-02-01T05:43:51.896Z"
   },
   {
    "duration": 23,
    "start_time": "2022-02-01T05:43:51.919Z"
   },
   {
    "duration": 21,
    "start_time": "2022-02-01T05:43:51.944Z"
   },
   {
    "duration": 8,
    "start_time": "2022-02-01T05:43:51.967Z"
   },
   {
    "duration": 47,
    "start_time": "2022-02-01T05:43:51.977Z"
   },
   {
    "duration": 18,
    "start_time": "2022-02-01T05:43:52.026Z"
   },
   {
    "duration": 27,
    "start_time": "2022-02-01T05:43:52.045Z"
   },
   {
    "duration": 21,
    "start_time": "2022-02-01T05:43:52.074Z"
   },
   {
    "duration": 8,
    "start_time": "2022-02-01T05:43:52.096Z"
   },
   {
    "duration": 13,
    "start_time": "2022-02-01T05:43:52.105Z"
   },
   {
    "duration": 10,
    "start_time": "2022-02-01T05:43:52.119Z"
   },
   {
    "duration": 12,
    "start_time": "2022-02-01T05:43:52.131Z"
   },
   {
    "duration": 97,
    "start_time": "2022-02-01T05:43:52.174Z"
   },
   {
    "duration": 7,
    "start_time": "2022-02-01T05:43:52.274Z"
   },
   {
    "duration": 27,
    "start_time": "2022-02-01T05:43:52.282Z"
   },
   {
    "duration": 6,
    "start_time": "2022-02-01T05:43:52.310Z"
   },
   {
    "duration": 8,
    "start_time": "2022-02-01T05:43:52.317Z"
   },
   {
    "duration": 16,
    "start_time": "2022-02-01T05:43:52.326Z"
   },
   {
    "duration": 5,
    "start_time": "2022-02-01T05:43:52.343Z"
   },
   {
    "duration": 7,
    "start_time": "2022-02-01T05:43:52.371Z"
   },
   {
    "duration": 14,
    "start_time": "2022-02-01T05:43:52.379Z"
   },
   {
    "duration": 3,
    "start_time": "2022-02-01T05:43:52.394Z"
   },
   {
    "duration": 8,
    "start_time": "2022-02-01T05:43:52.399Z"
   },
   {
    "duration": 20,
    "start_time": "2022-02-01T05:43:52.408Z"
   },
   {
    "duration": 11,
    "start_time": "2022-02-01T05:43:52.429Z"
   },
   {
    "duration": 5,
    "start_time": "2022-02-01T05:43:52.442Z"
   },
   {
    "duration": 14,
    "start_time": "2022-02-01T05:43:52.472Z"
   },
   {
    "duration": 5,
    "start_time": "2022-02-01T05:43:52.488Z"
   },
   {
    "duration": 5,
    "start_time": "2022-02-01T05:43:52.495Z"
   },
   {
    "duration": 10,
    "start_time": "2022-02-01T05:43:52.501Z"
   },
   {
    "duration": 20,
    "start_time": "2022-02-01T05:43:52.512Z"
   },
   {
    "duration": 6,
    "start_time": "2022-02-01T05:43:52.533Z"
   },
   {
    "duration": 34,
    "start_time": "2022-02-01T05:43:52.540Z"
   },
   {
    "duration": 7,
    "start_time": "2022-02-01T05:43:52.575Z"
   },
   {
    "duration": 12,
    "start_time": "2022-02-01T05:43:52.583Z"
   },
   {
    "duration": 4,
    "start_time": "2022-02-01T05:43:52.596Z"
   },
   {
    "duration": 22,
    "start_time": "2022-02-01T05:43:52.601Z"
   },
   {
    "duration": 180,
    "start_time": "2022-02-01T05:43:52.625Z"
   },
   {
    "duration": 3,
    "start_time": "2022-02-01T05:43:52.806Z"
   },
   {
    "duration": 15,
    "start_time": "2022-02-01T05:43:52.811Z"
   },
   {
    "duration": 13,
    "start_time": "2022-02-01T05:43:52.827Z"
   },
   {
    "duration": 5,
    "start_time": "2022-02-01T05:43:52.842Z"
   },
   {
    "duration": 328,
    "start_time": "2022-02-01T05:43:52.872Z"
   },
   {
    "duration": 567,
    "start_time": "2022-02-01T05:43:53.202Z"
   },
   {
    "duration": 11,
    "start_time": "2022-02-01T05:43:53.771Z"
   },
   {
    "duration": 328,
    "start_time": "2022-02-01T05:43:53.783Z"
   },
   {
    "duration": 11,
    "start_time": "2022-02-01T05:43:54.113Z"
   },
   {
    "duration": 322,
    "start_time": "2022-02-01T05:43:54.125Z"
   },
   {
    "duration": 10,
    "start_time": "2022-02-01T05:43:54.449Z"
   },
   {
    "duration": 314,
    "start_time": "2022-02-01T05:43:54.460Z"
   },
   {
    "duration": 6,
    "start_time": "2022-02-01T05:43:54.775Z"
   },
   {
    "duration": 8,
    "start_time": "2022-02-01T05:43:54.783Z"
   },
   {
    "duration": 7,
    "start_time": "2022-02-01T05:43:54.792Z"
   },
   {
    "duration": 3,
    "start_time": "2022-02-01T05:43:54.800Z"
   },
   {
    "duration": 107,
    "start_time": "2022-02-01T05:43:54.805Z"
   },
   {
    "duration": 6,
    "start_time": "2022-02-01T05:43:54.914Z"
   },
   {
    "duration": 12,
    "start_time": "2022-02-01T05:43:54.921Z"
   },
   {
    "duration": 5,
    "start_time": "2022-02-01T05:43:54.935Z"
   },
   {
    "duration": 2,
    "start_time": "2022-02-01T05:43:54.942Z"
   },
   {
    "duration": 27,
    "start_time": "2022-02-01T05:43:54.945Z"
   },
   {
    "duration": 3,
    "start_time": "2022-02-01T05:43:54.973Z"
   },
   {
    "duration": 6,
    "start_time": "2022-02-01T05:43:54.978Z"
   },
   {
    "duration": 9,
    "start_time": "2022-02-01T05:43:54.985Z"
   },
   {
    "duration": 14,
    "start_time": "2022-02-01T05:43:54.996Z"
   },
   {
    "duration": 329,
    "start_time": "2022-02-01T05:43:55.011Z"
   },
   {
    "duration": 893,
    "start_time": "2022-02-01T05:43:54.449Z"
   },
   {
    "duration": 890,
    "start_time": "2022-02-01T05:43:54.453Z"
   },
   {
    "duration": 887,
    "start_time": "2022-02-01T05:43:54.457Z"
   },
   {
    "duration": 7,
    "start_time": "2022-02-01T05:44:10.508Z"
   },
   {
    "duration": 7,
    "start_time": "2022-02-01T05:44:12.508Z"
   },
   {
    "duration": 4,
    "start_time": "2022-02-01T05:44:13.853Z"
   },
   {
    "duration": 3,
    "start_time": "2022-02-01T05:44:15.412Z"
   },
   {
    "duration": 922,
    "start_time": "2022-02-01T06:00:21.516Z"
   },
   {
    "duration": 2,
    "start_time": "2022-02-01T06:00:22.440Z"
   },
   {
    "duration": 39,
    "start_time": "2022-02-01T06:00:22.444Z"
   },
   {
    "duration": 6,
    "start_time": "2022-02-01T06:00:22.485Z"
   },
   {
    "duration": 13,
    "start_time": "2022-02-01T06:00:22.492Z"
   },
   {
    "duration": 137,
    "start_time": "2022-02-01T06:00:22.507Z"
   },
   {
    "duration": 7,
    "start_time": "2022-02-01T06:00:22.646Z"
   },
   {
    "duration": 23,
    "start_time": "2022-02-01T06:00:22.655Z"
   },
   {
    "duration": 23,
    "start_time": "2022-02-01T06:00:22.680Z"
   },
   {
    "duration": 93,
    "start_time": "2022-02-01T06:00:22.705Z"
   },
   {
    "duration": 15,
    "start_time": "2022-02-01T06:00:22.800Z"
   },
   {
    "duration": 13,
    "start_time": "2022-02-01T06:00:22.817Z"
   },
   {
    "duration": 135,
    "start_time": "2022-02-01T06:00:22.832Z"
   },
   {
    "duration": 9,
    "start_time": "2022-02-01T06:00:22.968Z"
   },
   {
    "duration": 18,
    "start_time": "2022-02-01T06:00:22.978Z"
   },
   {
    "duration": 25,
    "start_time": "2022-02-01T06:00:22.998Z"
   },
   {
    "duration": 22,
    "start_time": "2022-02-01T06:00:23.024Z"
   },
   {
    "duration": 24,
    "start_time": "2022-02-01T06:00:23.048Z"
   },
   {
    "duration": 49,
    "start_time": "2022-02-01T06:00:23.073Z"
   },
   {
    "duration": 18,
    "start_time": "2022-02-01T06:00:23.124Z"
   },
   {
    "duration": 5,
    "start_time": "2022-02-01T06:00:23.143Z"
   },
   {
    "duration": 39,
    "start_time": "2022-02-01T06:00:23.149Z"
   },
   {
    "duration": 9,
    "start_time": "2022-02-01T06:00:23.193Z"
   },
   {
    "duration": 15,
    "start_time": "2022-02-01T06:00:23.204Z"
   },
   {
    "duration": 9,
    "start_time": "2022-02-01T06:00:23.220Z"
   },
   {
    "duration": 45,
    "start_time": "2022-02-01T06:00:23.230Z"
   },
   {
    "duration": 97,
    "start_time": "2022-02-01T06:00:23.276Z"
   },
   {
    "duration": 8,
    "start_time": "2022-02-01T06:00:23.375Z"
   },
   {
    "duration": 30,
    "start_time": "2022-02-01T06:00:23.384Z"
   },
   {
    "duration": 8,
    "start_time": "2022-02-01T06:00:23.415Z"
   },
   {
    "duration": 8,
    "start_time": "2022-02-01T06:00:23.424Z"
   },
   {
    "duration": 46,
    "start_time": "2022-02-01T06:00:23.434Z"
   },
   {
    "duration": 8,
    "start_time": "2022-02-01T06:00:23.481Z"
   },
   {
    "duration": 9,
    "start_time": "2022-02-01T06:00:23.491Z"
   },
   {
    "duration": 15,
    "start_time": "2022-02-01T06:00:23.501Z"
   },
   {
    "duration": 3,
    "start_time": "2022-02-01T06:00:23.518Z"
   },
   {
    "duration": 25,
    "start_time": "2022-02-01T06:00:23.523Z"
   },
   {
    "duration": 26,
    "start_time": "2022-02-01T06:00:23.549Z"
   },
   {
    "duration": 26,
    "start_time": "2022-02-01T06:00:23.577Z"
   },
   {
    "duration": 11,
    "start_time": "2022-02-01T06:00:23.604Z"
   },
   {
    "duration": 31,
    "start_time": "2022-02-01T06:00:23.617Z"
   },
   {
    "duration": 6,
    "start_time": "2022-02-01T06:00:23.650Z"
   },
   {
    "duration": 15,
    "start_time": "2022-02-01T06:00:23.657Z"
   },
   {
    "duration": 17,
    "start_time": "2022-02-01T06:00:23.674Z"
   },
   {
    "duration": 34,
    "start_time": "2022-02-01T06:00:23.693Z"
   },
   {
    "duration": 14,
    "start_time": "2022-02-01T06:00:23.729Z"
   },
   {
    "duration": 22,
    "start_time": "2022-02-01T06:00:23.745Z"
   },
   {
    "duration": 37,
    "start_time": "2022-02-01T06:00:23.768Z"
   },
   {
    "duration": 23,
    "start_time": "2022-02-01T06:00:23.806Z"
   },
   {
    "duration": 23,
    "start_time": "2022-02-01T06:00:23.830Z"
   },
   {
    "duration": 27,
    "start_time": "2022-02-01T06:00:23.855Z"
   },
   {
    "duration": 182,
    "start_time": "2022-02-01T06:00:23.884Z"
   },
   {
    "duration": 4,
    "start_time": "2022-02-01T06:00:24.068Z"
   },
   {
    "duration": 15,
    "start_time": "2022-02-01T06:00:24.074Z"
   },
   {
    "duration": 14,
    "start_time": "2022-02-01T06:00:24.090Z"
   },
   {
    "duration": 5,
    "start_time": "2022-02-01T06:00:24.105Z"
   },
   {
    "duration": 354,
    "start_time": "2022-02-01T06:00:24.112Z"
   },
   {
    "duration": 569,
    "start_time": "2022-02-01T06:00:24.471Z"
   },
   {
    "duration": 12,
    "start_time": "2022-02-01T06:00:25.042Z"
   },
   {
    "duration": 328,
    "start_time": "2022-02-01T06:00:25.056Z"
   },
   {
    "duration": 10,
    "start_time": "2022-02-01T06:00:25.386Z"
   },
   {
    "duration": 340,
    "start_time": "2022-02-01T06:00:25.397Z"
   },
   {
    "duration": 11,
    "start_time": "2022-02-01T06:00:25.739Z"
   },
   {
    "duration": 322,
    "start_time": "2022-02-01T06:00:25.752Z"
   },
   {
    "duration": 6,
    "start_time": "2022-02-01T06:00:26.076Z"
   },
   {
    "duration": 10,
    "start_time": "2022-02-01T06:00:26.083Z"
   },
   {
    "duration": 8,
    "start_time": "2022-02-01T06:00:26.095Z"
   },
   {
    "duration": 3,
    "start_time": "2022-02-01T06:00:26.108Z"
   },
   {
    "duration": 15,
    "start_time": "2022-02-01T06:00:26.113Z"
   },
   {
    "duration": 10,
    "start_time": "2022-02-01T06:00:26.129Z"
   },
   {
    "duration": 41,
    "start_time": "2022-02-01T06:00:26.140Z"
   },
   {
    "duration": 7,
    "start_time": "2022-02-01T06:00:26.183Z"
   },
   {
    "duration": 4,
    "start_time": "2022-02-01T06:00:26.192Z"
   },
   {
    "duration": 6,
    "start_time": "2022-02-01T06:00:26.197Z"
   },
   {
    "duration": 10,
    "start_time": "2022-02-01T06:00:26.204Z"
   },
   {
    "duration": 9,
    "start_time": "2022-02-01T06:00:26.215Z"
   },
   {
    "duration": 8,
    "start_time": "2022-02-01T06:00:26.225Z"
   },
   {
    "duration": 9,
    "start_time": "2022-02-01T06:00:26.234Z"
   },
   {
    "duration": 94,
    "start_time": "2022-02-01T06:00:26.245Z"
   },
   {
    "duration": 7,
    "start_time": "2022-02-01T06:00:26.341Z"
   },
   {
    "duration": 3,
    "start_time": "2022-02-01T06:00:26.350Z"
   },
   {
    "duration": 18,
    "start_time": "2022-02-01T06:00:26.355Z"
   },
   {
    "duration": 1107,
    "start_time": "2022-02-10T12:32:38.706Z"
   },
   {
    "duration": 3,
    "start_time": "2022-02-10T12:32:39.815Z"
   },
   {
    "duration": 28,
    "start_time": "2022-02-10T12:32:39.820Z"
   },
   {
    "duration": 7,
    "start_time": "2022-02-10T12:32:39.850Z"
   },
   {
    "duration": 27,
    "start_time": "2022-02-10T12:32:39.858Z"
   },
   {
    "duration": 146,
    "start_time": "2022-02-10T12:32:39.886Z"
   },
   {
    "duration": 8,
    "start_time": "2022-02-10T12:32:40.034Z"
   },
   {
    "duration": 31,
    "start_time": "2022-02-10T12:32:40.044Z"
   },
   {
    "duration": 41,
    "start_time": "2022-02-10T12:32:40.078Z"
   },
   {
    "duration": 85,
    "start_time": "2022-02-10T12:32:40.121Z"
   },
   {
    "duration": 19,
    "start_time": "2022-02-10T12:32:40.208Z"
   },
   {
    "duration": 17,
    "start_time": "2022-02-10T12:32:40.228Z"
   },
   {
    "duration": 136,
    "start_time": "2022-02-10T12:32:40.247Z"
   },
   {
    "duration": 8,
    "start_time": "2022-02-10T12:32:40.385Z"
   },
   {
    "duration": 28,
    "start_time": "2022-02-10T12:32:40.395Z"
   },
   {
    "duration": 27,
    "start_time": "2022-02-10T12:32:40.425Z"
   },
   {
    "duration": 16,
    "start_time": "2022-02-10T12:32:40.454Z"
   },
   {
    "duration": 10,
    "start_time": "2022-02-10T12:32:40.471Z"
   },
   {
    "duration": 69,
    "start_time": "2022-02-10T12:32:40.483Z"
   },
   {
    "duration": 18,
    "start_time": "2022-02-10T12:32:40.554Z"
   },
   {
    "duration": 5,
    "start_time": "2022-02-10T12:32:40.574Z"
   },
   {
    "duration": 39,
    "start_time": "2022-02-10T12:32:40.580Z"
   },
   {
    "duration": 10,
    "start_time": "2022-02-10T12:32:40.624Z"
   },
   {
    "duration": 15,
    "start_time": "2022-02-10T12:32:40.637Z"
   },
   {
    "duration": 9,
    "start_time": "2022-02-10T12:32:40.654Z"
   },
   {
    "duration": 18,
    "start_time": "2022-02-10T12:32:40.664Z"
   },
   {
    "duration": 123,
    "start_time": "2022-02-10T12:32:40.684Z"
   },
   {
    "duration": 12,
    "start_time": "2022-02-10T12:32:40.809Z"
   },
   {
    "duration": 28,
    "start_time": "2022-02-10T12:32:40.822Z"
   },
   {
    "duration": 7,
    "start_time": "2022-02-10T12:32:40.852Z"
   },
   {
    "duration": 10,
    "start_time": "2022-02-10T12:32:40.860Z"
   },
   {
    "duration": 20,
    "start_time": "2022-02-10T12:32:40.871Z"
   },
   {
    "duration": 33,
    "start_time": "2022-02-10T12:32:40.892Z"
   },
   {
    "duration": 12,
    "start_time": "2022-02-10T12:32:40.927Z"
   },
   {
    "duration": 37,
    "start_time": "2022-02-10T12:32:40.940Z"
   },
   {
    "duration": 12,
    "start_time": "2022-02-10T12:32:40.979Z"
   },
   {
    "duration": 9,
    "start_time": "2022-02-10T12:32:40.993Z"
   },
   {
    "duration": 17,
    "start_time": "2022-02-10T12:32:41.003Z"
   },
   {
    "duration": 14,
    "start_time": "2022-02-10T12:32:41.022Z"
   },
   {
    "duration": 6,
    "start_time": "2022-02-10T12:32:41.038Z"
   },
   {
    "duration": 21,
    "start_time": "2022-02-10T12:32:41.046Z"
   },
   {
    "duration": 7,
    "start_time": "2022-02-10T12:32:41.068Z"
   },
   {
    "duration": 8,
    "start_time": "2022-02-10T12:32:41.076Z"
   },
   {
    "duration": 35,
    "start_time": "2022-02-10T12:32:41.086Z"
   },
   {
    "duration": 17,
    "start_time": "2022-02-10T12:32:41.123Z"
   },
   {
    "duration": 6,
    "start_time": "2022-02-10T12:32:41.142Z"
   },
   {
    "duration": 6,
    "start_time": "2022-02-10T12:32:41.149Z"
   },
   {
    "duration": 11,
    "start_time": "2022-02-10T12:32:41.156Z"
   },
   {
    "duration": 11,
    "start_time": "2022-02-10T12:32:41.168Z"
   },
   {
    "duration": 4,
    "start_time": "2022-02-10T12:32:41.180Z"
   },
   {
    "duration": 13,
    "start_time": "2022-02-10T12:32:41.218Z"
   },
   {
    "duration": 199,
    "start_time": "2022-02-10T12:32:41.232Z"
   },
   {
    "duration": 3,
    "start_time": "2022-02-10T12:32:41.433Z"
   },
   {
    "duration": 21,
    "start_time": "2022-02-10T12:32:41.438Z"
   },
   {
    "duration": 14,
    "start_time": "2022-02-10T12:32:41.461Z"
   },
   {
    "duration": 6,
    "start_time": "2022-02-10T12:32:41.477Z"
   },
   {
    "duration": 379,
    "start_time": "2022-02-10T12:32:41.485Z"
   },
   {
    "duration": 1132,
    "start_time": "2022-02-10T12:32:41.866Z"
   },
   {
    "duration": 23,
    "start_time": "2022-02-10T12:32:43.000Z"
   },
   {
    "duration": 376,
    "start_time": "2022-02-10T12:32:43.025Z"
   },
   {
    "duration": 21,
    "start_time": "2022-02-10T12:32:43.403Z"
   },
   {
    "duration": 371,
    "start_time": "2022-02-10T12:32:43.426Z"
   },
   {
    "duration": 20,
    "start_time": "2022-02-10T12:32:43.799Z"
   },
   {
    "duration": 353,
    "start_time": "2022-02-10T12:32:43.821Z"
   },
   {
    "duration": 6,
    "start_time": "2022-02-10T12:32:44.177Z"
   },
   {
    "duration": 21,
    "start_time": "2022-02-10T12:32:44.184Z"
   },
   {
    "duration": 15,
    "start_time": "2022-02-10T12:32:44.207Z"
   },
   {
    "duration": 4,
    "start_time": "2022-02-10T12:32:44.228Z"
   },
   {
    "duration": 19,
    "start_time": "2022-02-10T12:32:44.234Z"
   },
   {
    "duration": 11,
    "start_time": "2022-02-10T12:32:44.255Z"
   },
   {
    "duration": 17,
    "start_time": "2022-02-10T12:32:44.267Z"
   },
   {
    "duration": 7,
    "start_time": "2022-02-10T12:32:44.286Z"
   },
   {
    "duration": 12,
    "start_time": "2022-02-10T12:32:44.294Z"
   },
   {
    "duration": 8,
    "start_time": "2022-02-10T12:32:44.319Z"
   },
   {
    "duration": 7,
    "start_time": "2022-02-10T12:32:44.329Z"
   },
   {
    "duration": 8,
    "start_time": "2022-02-10T12:32:44.337Z"
   },
   {
    "duration": 12,
    "start_time": "2022-02-10T12:32:44.347Z"
   },
   {
    "duration": 14,
    "start_time": "2022-02-10T12:32:44.360Z"
   },
   {
    "duration": 87,
    "start_time": "2022-02-10T12:32:44.376Z"
   },
   {
    "duration": 10,
    "start_time": "2022-02-10T12:32:44.465Z"
   },
   {
    "duration": 7,
    "start_time": "2022-02-10T12:32:44.476Z"
   },
   {
    "duration": 8,
    "start_time": "2022-02-10T12:32:44.485Z"
   },
   {
    "duration": 19,
    "start_time": "2022-02-10T13:01:58.990Z"
   },
   {
    "duration": 5,
    "start_time": "2022-02-10T13:14:24.869Z"
   },
   {
    "duration": 5,
    "start_time": "2022-02-10T13:14:34.775Z"
   },
   {
    "duration": 358,
    "start_time": "2022-02-10T13:14:52.939Z"
   },
   {
    "duration": 6,
    "start_time": "2022-02-10T13:14:55.454Z"
   },
   {
    "duration": 978,
    "start_time": "2022-02-10T14:31:42.215Z"
   },
   {
    "duration": 3,
    "start_time": "2022-02-10T14:31:43.196Z"
   },
   {
    "duration": 55,
    "start_time": "2022-02-10T14:31:43.201Z"
   },
   {
    "duration": 6,
    "start_time": "2022-02-10T14:31:43.258Z"
   },
   {
    "duration": 17,
    "start_time": "2022-02-10T14:31:43.266Z"
   },
   {
    "duration": 142,
    "start_time": "2022-02-10T14:31:43.285Z"
   },
   {
    "duration": 9,
    "start_time": "2022-02-10T14:31:43.430Z"
   },
   {
    "duration": 19,
    "start_time": "2022-02-10T14:31:43.442Z"
   },
   {
    "duration": 23,
    "start_time": "2022-02-10T14:31:43.463Z"
   },
   {
    "duration": 122,
    "start_time": "2022-02-10T14:31:43.487Z"
   },
   {
    "duration": 20,
    "start_time": "2022-02-10T14:31:43.611Z"
   },
   {
    "duration": 10,
    "start_time": "2022-02-10T14:31:43.633Z"
   },
   {
    "duration": 114,
    "start_time": "2022-02-10T14:31:43.645Z"
   },
   {
    "duration": 7,
    "start_time": "2022-02-10T14:31:43.761Z"
   },
   {
    "duration": 28,
    "start_time": "2022-02-10T14:31:43.769Z"
   },
   {
    "duration": 48,
    "start_time": "2022-02-10T14:31:43.799Z"
   },
   {
    "duration": 23,
    "start_time": "2022-02-10T14:31:43.849Z"
   },
   {
    "duration": 7,
    "start_time": "2022-02-10T14:31:43.874Z"
   },
   {
    "duration": 87,
    "start_time": "2022-02-10T14:31:43.883Z"
   },
   {
    "duration": 24,
    "start_time": "2022-02-10T14:31:43.972Z"
   },
   {
    "duration": 5,
    "start_time": "2022-02-10T14:31:43.998Z"
   },
   {
    "duration": 38,
    "start_time": "2022-02-10T14:31:44.005Z"
   },
   {
    "duration": 9,
    "start_time": "2022-02-10T14:31:44.048Z"
   },
   {
    "duration": 16,
    "start_time": "2022-02-10T14:31:44.060Z"
   },
   {
    "duration": 14,
    "start_time": "2022-02-10T14:31:44.078Z"
   },
   {
    "duration": 38,
    "start_time": "2022-02-10T14:31:44.094Z"
   },
   {
    "duration": 101,
    "start_time": "2022-02-10T14:31:44.135Z"
   },
   {
    "duration": 8,
    "start_time": "2022-02-10T14:31:44.238Z"
   },
   {
    "duration": 28,
    "start_time": "2022-02-10T14:31:44.248Z"
   },
   {
    "duration": 7,
    "start_time": "2022-02-10T14:31:44.277Z"
   },
   {
    "duration": 10,
    "start_time": "2022-02-10T14:31:44.285Z"
   },
   {
    "duration": 37,
    "start_time": "2022-02-10T14:31:44.296Z"
   },
   {
    "duration": 7,
    "start_time": "2022-02-10T14:31:44.335Z"
   },
   {
    "duration": 9,
    "start_time": "2022-02-10T14:31:44.343Z"
   },
   {
    "duration": 16,
    "start_time": "2022-02-10T14:31:44.354Z"
   },
   {
    "duration": 4,
    "start_time": "2022-02-10T14:31:44.372Z"
   },
   {
    "duration": 84,
    "start_time": "2022-02-10T14:31:44.378Z"
   },
   {
    "duration": 17,
    "start_time": "2022-02-10T14:31:44.463Z"
   },
   {
    "duration": 13,
    "start_time": "2022-02-10T14:31:44.481Z"
   },
   {
    "duration": 6,
    "start_time": "2022-02-10T14:31:44.496Z"
   },
   {
    "duration": 14,
    "start_time": "2022-02-10T14:31:44.503Z"
   },
   {
    "duration": 8,
    "start_time": "2022-02-10T14:31:44.519Z"
   },
   {
    "duration": 4,
    "start_time": "2022-02-10T14:31:44.529Z"
   },
   {
    "duration": 6,
    "start_time": "2022-02-10T14:31:44.535Z"
   },
   {
    "duration": 21,
    "start_time": "2022-02-10T14:31:44.543Z"
   },
   {
    "duration": 6,
    "start_time": "2022-02-10T14:31:44.565Z"
   },
   {
    "duration": 102,
    "start_time": "2022-02-10T14:31:44.572Z"
   },
   {
    "duration": 454,
    "start_time": "2022-02-10T14:31:44.222Z"
   },
   {
    "duration": 442,
    "start_time": "2022-02-10T14:31:44.235Z"
   },
   {
    "duration": 429,
    "start_time": "2022-02-10T14:31:44.249Z"
   },
   {
    "duration": 423,
    "start_time": "2022-02-10T14:31:44.255Z"
   },
   {
    "duration": 412,
    "start_time": "2022-02-10T14:31:44.267Z"
   },
   {
    "duration": 407,
    "start_time": "2022-02-10T14:31:44.273Z"
   },
   {
    "duration": 395,
    "start_time": "2022-02-10T14:31:44.285Z"
   },
   {
    "duration": 390,
    "start_time": "2022-02-10T14:31:44.291Z"
   },
   {
    "duration": 386,
    "start_time": "2022-02-10T14:31:44.296Z"
   },
   {
    "duration": 367,
    "start_time": "2022-02-10T14:31:44.316Z"
   },
   {
    "duration": 360,
    "start_time": "2022-02-10T14:31:44.324Z"
   },
   {
    "duration": 344,
    "start_time": "2022-02-10T14:31:44.341Z"
   },
   {
    "duration": 328,
    "start_time": "2022-02-10T14:31:44.357Z"
   },
   {
    "duration": 318,
    "start_time": "2022-02-10T14:31:44.368Z"
   },
   {
    "duration": 306,
    "start_time": "2022-02-10T14:31:44.381Z"
   },
   {
    "duration": 301,
    "start_time": "2022-02-10T14:31:44.387Z"
   },
   {
    "duration": 288,
    "start_time": "2022-02-10T14:31:44.400Z"
   },
   {
    "duration": 275,
    "start_time": "2022-02-10T14:31:44.414Z"
   },
   {
    "duration": 271,
    "start_time": "2022-02-10T14:31:44.419Z"
   },
   {
    "duration": 254,
    "start_time": "2022-02-10T14:31:44.437Z"
   },
   {
    "duration": 238,
    "start_time": "2022-02-10T14:31:44.454Z"
   },
   {
    "duration": 227,
    "start_time": "2022-02-10T14:31:44.465Z"
   },
   {
    "duration": 221,
    "start_time": "2022-02-10T14:31:44.472Z"
   },
   {
    "duration": 208,
    "start_time": "2022-02-10T14:31:44.486Z"
   },
   {
    "duration": 192,
    "start_time": "2022-02-10T14:31:44.502Z"
   },
   {
    "duration": 183,
    "start_time": "2022-02-10T14:31:44.512Z"
   },
   {
    "duration": 178,
    "start_time": "2022-02-10T14:31:44.518Z"
   },
   {
    "duration": 173,
    "start_time": "2022-02-10T14:31:44.524Z"
   },
   {
    "duration": 168,
    "start_time": "2022-02-10T14:31:44.529Z"
   },
   {
    "duration": 164,
    "start_time": "2022-02-10T14:31:44.534Z"
   },
   {
    "duration": 159,
    "start_time": "2022-02-10T14:31:44.540Z"
   },
   {
    "duration": 155,
    "start_time": "2022-02-10T14:31:44.545Z"
   },
   {
    "duration": 150,
    "start_time": "2022-02-10T14:31:44.550Z"
   },
   {
    "duration": 146,
    "start_time": "2022-02-10T14:31:44.555Z"
   },
   {
    "duration": 142,
    "start_time": "2022-02-10T14:31:44.560Z"
   },
   {
    "duration": 8137,
    "start_time": "2022-02-10T14:36:06.336Z"
   },
   {
    "duration": 1082,
    "start_time": "2022-02-10T14:36:13.393Z"
   },
   {
    "duration": 287,
    "start_time": "2022-02-10T14:48:45.078Z"
   },
   {
    "duration": 287,
    "start_time": "2022-02-10T14:57:08.243Z"
   },
   {
    "duration": 275,
    "start_time": "2022-02-10T14:57:26.336Z"
   },
   {
    "duration": 1128,
    "start_time": "2022-02-10T15:09:19.246Z"
   },
   {
    "duration": 2,
    "start_time": "2022-02-10T15:09:20.376Z"
   },
   {
    "duration": 44,
    "start_time": "2022-02-10T15:09:20.380Z"
   },
   {
    "duration": 5,
    "start_time": "2022-02-10T15:09:20.426Z"
   },
   {
    "duration": 14,
    "start_time": "2022-02-10T15:09:20.432Z"
   },
   {
    "duration": 132,
    "start_time": "2022-02-10T15:09:20.448Z"
   },
   {
    "duration": 6,
    "start_time": "2022-02-10T15:09:20.582Z"
   },
   {
    "duration": 20,
    "start_time": "2022-02-10T15:09:20.590Z"
   },
   {
    "duration": 34,
    "start_time": "2022-02-10T15:09:20.612Z"
   },
   {
    "duration": 80,
    "start_time": "2022-02-10T15:09:20.647Z"
   },
   {
    "duration": 12,
    "start_time": "2022-02-10T15:09:20.729Z"
   },
   {
    "duration": 11,
    "start_time": "2022-02-10T15:09:20.742Z"
   },
   {
    "duration": 116,
    "start_time": "2022-02-10T15:09:20.754Z"
   },
   {
    "duration": 7,
    "start_time": "2022-02-10T15:09:20.872Z"
   },
   {
    "duration": 17,
    "start_time": "2022-02-10T15:09:20.881Z"
   },
   {
    "duration": 35,
    "start_time": "2022-02-10T15:09:20.900Z"
   },
   {
    "duration": 19,
    "start_time": "2022-02-10T15:09:20.937Z"
   },
   {
    "duration": 6,
    "start_time": "2022-02-10T15:09:20.958Z"
   },
   {
    "duration": 44,
    "start_time": "2022-02-10T15:09:20.966Z"
   },
   {
    "duration": 31,
    "start_time": "2022-02-10T15:09:21.011Z"
   },
   {
    "duration": 4,
    "start_time": "2022-02-10T15:09:21.043Z"
   },
   {
    "duration": 18,
    "start_time": "2022-02-10T15:09:21.048Z"
   },
   {
    "duration": 8,
    "start_time": "2022-02-10T15:09:21.069Z"
   },
   {
    "duration": 12,
    "start_time": "2022-02-10T15:09:21.079Z"
   },
   {
    "duration": 36,
    "start_time": "2022-02-10T15:09:21.092Z"
   },
   {
    "duration": 13,
    "start_time": "2022-02-10T15:09:21.129Z"
   },
   {
    "duration": 101,
    "start_time": "2022-02-10T15:09:21.143Z"
   },
   {
    "duration": 7,
    "start_time": "2022-02-10T15:09:21.245Z"
   },
   {
    "duration": 25,
    "start_time": "2022-02-10T15:09:21.253Z"
   },
   {
    "duration": 5,
    "start_time": "2022-02-10T15:09:21.280Z"
   },
   {
    "duration": 8,
    "start_time": "2022-02-10T15:09:21.287Z"
   },
   {
    "duration": 34,
    "start_time": "2022-02-10T15:09:21.296Z"
   },
   {
    "duration": 6,
    "start_time": "2022-02-10T15:09:21.331Z"
   },
   {
    "duration": 9,
    "start_time": "2022-02-10T15:09:21.338Z"
   },
   {
    "duration": 13,
    "start_time": "2022-02-10T15:09:21.349Z"
   },
   {
    "duration": 3,
    "start_time": "2022-02-10T15:09:21.363Z"
   },
   {
    "duration": 7,
    "start_time": "2022-02-10T15:09:21.367Z"
   },
   {
    "duration": 10,
    "start_time": "2022-02-10T15:09:21.376Z"
   },
   {
    "duration": 11,
    "start_time": "2022-02-10T15:09:21.388Z"
   },
   {
    "duration": 5,
    "start_time": "2022-02-10T15:09:21.427Z"
   },
   {
    "duration": 13,
    "start_time": "2022-02-10T15:09:21.433Z"
   },
   {
    "duration": 5,
    "start_time": "2022-02-10T15:09:21.447Z"
   },
   {
    "duration": 5,
    "start_time": "2022-02-10T15:09:21.454Z"
   },
   {
    "duration": 7,
    "start_time": "2022-02-10T15:09:21.460Z"
   },
   {
    "duration": 14,
    "start_time": "2022-02-10T15:09:21.468Z"
   },
   {
    "duration": 5,
    "start_time": "2022-02-10T15:09:21.483Z"
   },
   {
    "duration": 40,
    "start_time": "2022-02-10T15:09:21.490Z"
   },
   {
    "duration": 7,
    "start_time": "2022-02-10T15:09:21.531Z"
   },
   {
    "duration": 9,
    "start_time": "2022-02-10T15:09:21.540Z"
   },
   {
    "duration": 3,
    "start_time": "2022-02-10T15:09:21.551Z"
   },
   {
    "duration": 15,
    "start_time": "2022-02-10T15:09:21.556Z"
   },
   {
    "duration": 188,
    "start_time": "2022-02-10T15:09:21.573Z"
   },
   {
    "duration": 3,
    "start_time": "2022-02-10T15:09:21.762Z"
   },
   {
    "duration": 14,
    "start_time": "2022-02-10T15:09:21.767Z"
   },
   {
    "duration": 12,
    "start_time": "2022-02-10T15:09:21.782Z"
   },
   {
    "duration": 4,
    "start_time": "2022-02-10T15:09:21.796Z"
   },
   {
    "duration": 330,
    "start_time": "2022-02-10T15:09:21.801Z"
   },
   {
    "duration": 588,
    "start_time": "2022-02-10T15:09:22.132Z"
   },
   {
    "duration": 13,
    "start_time": "2022-02-10T15:09:22.721Z"
   },
   {
    "duration": 319,
    "start_time": "2022-02-10T15:09:22.736Z"
   },
   {
    "duration": 10,
    "start_time": "2022-02-10T15:09:23.057Z"
   },
   {
    "duration": 308,
    "start_time": "2022-02-10T15:09:23.068Z"
   },
   {
    "duration": 9,
    "start_time": "2022-02-10T15:09:23.378Z"
   },
   {
    "duration": 308,
    "start_time": "2022-02-10T15:09:23.389Z"
   },
   {
    "duration": 6,
    "start_time": "2022-02-10T15:09:23.698Z"
   },
   {
    "duration": 8,
    "start_time": "2022-02-10T15:09:23.705Z"
   },
   {
    "duration": 5,
    "start_time": "2022-02-10T15:09:23.727Z"
   },
   {
    "duration": 2,
    "start_time": "2022-02-10T15:09:23.737Z"
   },
   {
    "duration": 14,
    "start_time": "2022-02-10T15:09:23.741Z"
   },
   {
    "duration": 6,
    "start_time": "2022-02-10T15:09:23.756Z"
   },
   {
    "duration": 3,
    "start_time": "2022-02-10T15:09:23.764Z"
   },
   {
    "duration": 8,
    "start_time": "2022-02-10T15:09:23.768Z"
   },
   {
    "duration": 5,
    "start_time": "2022-02-10T15:09:23.777Z"
   },
   {
    "duration": 574,
    "start_time": "2022-02-10T15:09:23.784Z"
   },
   {
    "duration": 1126,
    "start_time": "2022-02-10T15:09:23.235Z"
   },
   {
    "duration": 1123,
    "start_time": "2022-02-10T15:09:23.239Z"
   },
   {
    "duration": 1120,
    "start_time": "2022-02-10T15:09:23.244Z"
   },
   {
    "duration": 1113,
    "start_time": "2022-02-10T15:09:23.252Z"
   },
   {
    "duration": 1106,
    "start_time": "2022-02-10T15:09:23.260Z"
   },
   {
    "duration": 1099,
    "start_time": "2022-02-10T15:09:23.268Z"
   },
   {
    "duration": 1094,
    "start_time": "2022-02-10T15:09:23.275Z"
   },
   {
    "duration": 1091,
    "start_time": "2022-02-10T15:09:23.279Z"
   },
   {
    "duration": 987,
    "start_time": "2022-02-10T15:10:07.164Z"
   },
   {
    "duration": 2,
    "start_time": "2022-02-10T15:10:08.153Z"
   },
   {
    "duration": 44,
    "start_time": "2022-02-10T15:10:08.157Z"
   },
   {
    "duration": 5,
    "start_time": "2022-02-10T15:10:08.203Z"
   },
   {
    "duration": 13,
    "start_time": "2022-02-10T15:10:08.210Z"
   },
   {
    "duration": 130,
    "start_time": "2022-02-10T15:10:08.225Z"
   },
   {
    "duration": 7,
    "start_time": "2022-02-10T15:10:08.357Z"
   },
   {
    "duration": 21,
    "start_time": "2022-02-10T15:10:08.367Z"
   },
   {
    "duration": 37,
    "start_time": "2022-02-10T15:10:08.390Z"
   },
   {
    "duration": 78,
    "start_time": "2022-02-10T15:10:08.428Z"
   },
   {
    "duration": 13,
    "start_time": "2022-02-10T15:10:08.508Z"
   },
   {
    "duration": 15,
    "start_time": "2022-02-10T15:10:08.522Z"
   },
   {
    "duration": 113,
    "start_time": "2022-02-10T15:10:08.538Z"
   },
   {
    "duration": 7,
    "start_time": "2022-02-10T15:10:08.653Z"
   },
   {
    "duration": 18,
    "start_time": "2022-02-10T15:10:08.661Z"
   },
   {
    "duration": 22,
    "start_time": "2022-02-10T15:10:08.680Z"
   },
   {
    "duration": 24,
    "start_time": "2022-02-10T15:10:08.704Z"
   },
   {
    "duration": 5,
    "start_time": "2022-02-10T15:10:08.729Z"
   },
   {
    "duration": 45,
    "start_time": "2022-02-10T15:10:08.736Z"
   },
   {
    "duration": 17,
    "start_time": "2022-02-10T15:10:08.782Z"
   },
   {
    "duration": 4,
    "start_time": "2022-02-10T15:10:08.800Z"
   },
   {
    "duration": 36,
    "start_time": "2022-02-10T15:10:08.805Z"
   },
   {
    "duration": 8,
    "start_time": "2022-02-10T15:10:08.845Z"
   },
   {
    "duration": 12,
    "start_time": "2022-02-10T15:10:08.855Z"
   },
   {
    "duration": 9,
    "start_time": "2022-02-10T15:10:08.868Z"
   },
   {
    "duration": 11,
    "start_time": "2022-02-10T15:10:08.879Z"
   },
   {
    "duration": 113,
    "start_time": "2022-02-10T15:10:08.892Z"
   },
   {
    "duration": 6,
    "start_time": "2022-02-10T15:10:09.006Z"
   },
   {
    "duration": 31,
    "start_time": "2022-02-10T15:10:09.014Z"
   },
   {
    "duration": 6,
    "start_time": "2022-02-10T15:10:09.047Z"
   },
   {
    "duration": 10,
    "start_time": "2022-02-10T15:10:09.055Z"
   },
   {
    "duration": 13,
    "start_time": "2022-02-10T15:10:09.067Z"
   },
   {
    "duration": 7,
    "start_time": "2022-02-10T15:10:09.082Z"
   },
   {
    "duration": 14,
    "start_time": "2022-02-10T15:10:09.091Z"
   },
   {
    "duration": 14,
    "start_time": "2022-02-10T15:10:09.128Z"
   },
   {
    "duration": 3,
    "start_time": "2022-02-10T15:10:09.143Z"
   },
   {
    "duration": 9,
    "start_time": "2022-02-10T15:10:09.148Z"
   },
   {
    "duration": 13,
    "start_time": "2022-02-10T15:10:09.158Z"
   },
   {
    "duration": 12,
    "start_time": "2022-02-10T15:10:09.172Z"
   },
   {
    "duration": 5,
    "start_time": "2022-02-10T15:10:09.185Z"
   },
   {
    "duration": 43,
    "start_time": "2022-02-10T15:10:09.191Z"
   },
   {
    "duration": 5,
    "start_time": "2022-02-10T15:10:09.236Z"
   },
   {
    "duration": 4,
    "start_time": "2022-02-10T15:10:09.243Z"
   },
   {
    "duration": 5,
    "start_time": "2022-02-10T15:10:09.249Z"
   },
   {
    "duration": 15,
    "start_time": "2022-02-10T15:10:09.256Z"
   },
   {
    "duration": 5,
    "start_time": "2022-02-10T15:10:09.272Z"
   },
   {
    "duration": 4,
    "start_time": "2022-02-10T15:10:09.279Z"
   },
   {
    "duration": 44,
    "start_time": "2022-02-10T15:10:09.285Z"
   },
   {
    "duration": 8,
    "start_time": "2022-02-10T15:10:09.331Z"
   },
   {
    "duration": 8,
    "start_time": "2022-02-10T15:10:09.341Z"
   },
   {
    "duration": 15,
    "start_time": "2022-02-10T15:10:09.351Z"
   },
   {
    "duration": 179,
    "start_time": "2022-02-10T15:10:09.367Z"
   },
   {
    "duration": 4,
    "start_time": "2022-02-10T15:10:09.547Z"
   },
   {
    "duration": 16,
    "start_time": "2022-02-10T15:10:09.552Z"
   },
   {
    "duration": 12,
    "start_time": "2022-02-10T15:10:09.570Z"
   },
   {
    "duration": 4,
    "start_time": "2022-02-10T15:10:09.584Z"
   },
   {
    "duration": 337,
    "start_time": "2022-02-10T15:10:09.590Z"
   },
   {
    "duration": 615,
    "start_time": "2022-02-10T15:10:09.929Z"
   },
   {
    "duration": 11,
    "start_time": "2022-02-10T15:10:10.546Z"
   },
   {
    "duration": 322,
    "start_time": "2022-02-10T15:10:10.558Z"
   },
   {
    "duration": 11,
    "start_time": "2022-02-10T15:10:10.881Z"
   },
   {
    "duration": 307,
    "start_time": "2022-02-10T15:10:10.893Z"
   },
   {
    "duration": 10,
    "start_time": "2022-02-10T15:10:11.201Z"
   },
   {
    "duration": 315,
    "start_time": "2022-02-10T15:10:11.212Z"
   },
   {
    "duration": 5,
    "start_time": "2022-02-10T15:10:11.528Z"
   },
   {
    "duration": 7,
    "start_time": "2022-02-10T15:10:11.535Z"
   },
   {
    "duration": 6,
    "start_time": "2022-02-10T15:10:11.543Z"
   },
   {
    "duration": 3,
    "start_time": "2022-02-10T15:10:11.553Z"
   },
   {
    "duration": 14,
    "start_time": "2022-02-10T15:10:11.558Z"
   },
   {
    "duration": 5,
    "start_time": "2022-02-10T15:10:11.573Z"
   },
   {
    "duration": 4,
    "start_time": "2022-02-10T15:10:11.580Z"
   },
   {
    "duration": 7,
    "start_time": "2022-02-10T15:10:11.585Z"
   },
   {
    "duration": 2,
    "start_time": "2022-02-10T15:10:11.594Z"
   },
   {
    "duration": 575,
    "start_time": "2022-02-10T15:10:11.597Z"
   },
   {
    "duration": 1159,
    "start_time": "2022-02-10T15:10:11.016Z"
   },
   {
    "duration": 1129,
    "start_time": "2022-02-10T15:10:11.047Z"
   },
   {
    "duration": 1121,
    "start_time": "2022-02-10T15:10:11.056Z"
   },
   {
    "duration": 1117,
    "start_time": "2022-02-10T15:10:11.061Z"
   },
   {
    "duration": 1114,
    "start_time": "2022-02-10T15:10:11.065Z"
   },
   {
    "duration": 1107,
    "start_time": "2022-02-10T15:10:11.073Z"
   },
   {
    "duration": 1104,
    "start_time": "2022-02-10T15:10:11.077Z"
   },
   {
    "duration": 1101,
    "start_time": "2022-02-10T15:10:11.081Z"
   },
   {
    "duration": 1332,
    "start_time": "2022-02-10T15:11:18.521Z"
   },
   {
    "duration": 3,
    "start_time": "2022-02-10T15:11:19.855Z"
   },
   {
    "duration": 51,
    "start_time": "2022-02-10T15:11:19.860Z"
   },
   {
    "duration": 7,
    "start_time": "2022-02-10T15:11:19.913Z"
   },
   {
    "duration": 17,
    "start_time": "2022-02-10T15:11:19.922Z"
   },
   {
    "duration": 176,
    "start_time": "2022-02-10T15:11:19.940Z"
   },
   {
    "duration": 10,
    "start_time": "2022-02-10T15:11:20.118Z"
   },
   {
    "duration": 26,
    "start_time": "2022-02-10T15:11:20.131Z"
   },
   {
    "duration": 27,
    "start_time": "2022-02-10T15:11:20.159Z"
   },
   {
    "duration": 114,
    "start_time": "2022-02-10T15:11:20.188Z"
   },
   {
    "duration": 26,
    "start_time": "2022-02-10T15:11:20.304Z"
   },
   {
    "duration": 13,
    "start_time": "2022-02-10T15:11:20.331Z"
   },
   {
    "duration": 114,
    "start_time": "2022-02-10T15:11:20.345Z"
   },
   {
    "duration": 7,
    "start_time": "2022-02-10T15:11:20.461Z"
   },
   {
    "duration": 16,
    "start_time": "2022-02-10T15:11:20.470Z"
   },
   {
    "duration": 23,
    "start_time": "2022-02-10T15:11:20.488Z"
   },
   {
    "duration": 21,
    "start_time": "2022-02-10T15:11:20.527Z"
   },
   {
    "duration": 7,
    "start_time": "2022-02-10T15:11:20.550Z"
   },
   {
    "duration": 46,
    "start_time": "2022-02-10T15:11:20.558Z"
   },
   {
    "duration": 22,
    "start_time": "2022-02-10T15:11:20.605Z"
   },
   {
    "duration": 4,
    "start_time": "2022-02-10T15:11:20.628Z"
   },
   {
    "duration": 17,
    "start_time": "2022-02-10T15:11:20.634Z"
   },
   {
    "duration": 7,
    "start_time": "2022-02-10T15:11:20.655Z"
   },
   {
    "duration": 12,
    "start_time": "2022-02-10T15:11:20.664Z"
   },
   {
    "duration": 7,
    "start_time": "2022-02-10T15:11:20.678Z"
   },
   {
    "duration": 42,
    "start_time": "2022-02-10T15:11:20.686Z"
   },
   {
    "duration": 90,
    "start_time": "2022-02-10T15:11:20.729Z"
   },
   {
    "duration": 11,
    "start_time": "2022-02-10T15:11:20.820Z"
   },
   {
    "duration": 29,
    "start_time": "2022-02-10T15:11:20.832Z"
   },
   {
    "duration": 6,
    "start_time": "2022-02-10T15:11:20.862Z"
   },
   {
    "duration": 8,
    "start_time": "2022-02-10T15:11:20.869Z"
   },
   {
    "duration": 13,
    "start_time": "2022-02-10T15:11:20.878Z"
   },
   {
    "duration": 6,
    "start_time": "2022-02-10T15:11:20.893Z"
   },
   {
    "duration": 31,
    "start_time": "2022-02-10T15:11:20.900Z"
   },
   {
    "duration": 13,
    "start_time": "2022-02-10T15:11:20.932Z"
   },
   {
    "duration": 3,
    "start_time": "2022-02-10T15:11:20.946Z"
   },
   {
    "duration": 8,
    "start_time": "2022-02-10T15:11:20.950Z"
   },
   {
    "duration": 12,
    "start_time": "2022-02-10T15:11:20.959Z"
   },
   {
    "duration": 11,
    "start_time": "2022-02-10T15:11:20.973Z"
   },
   {
    "duration": 6,
    "start_time": "2022-02-10T15:11:20.985Z"
   },
   {
    "duration": 47,
    "start_time": "2022-02-10T15:11:20.992Z"
   },
   {
    "duration": 6,
    "start_time": "2022-02-10T15:11:21.040Z"
   },
   {
    "duration": 5,
    "start_time": "2022-02-10T15:11:21.048Z"
   },
   {
    "duration": 7,
    "start_time": "2022-02-10T15:11:21.054Z"
   },
   {
    "duration": 32,
    "start_time": "2022-02-10T15:11:21.063Z"
   },
   {
    "duration": 6,
    "start_time": "2022-02-10T15:11:21.097Z"
   },
   {
    "duration": 25,
    "start_time": "2022-02-10T15:11:21.104Z"
   },
   {
    "duration": 6,
    "start_time": "2022-02-10T15:11:21.130Z"
   },
   {
    "duration": 15,
    "start_time": "2022-02-10T15:11:21.138Z"
   },
   {
    "duration": 5,
    "start_time": "2022-02-10T15:11:21.154Z"
   },
   {
    "duration": 17,
    "start_time": "2022-02-10T15:11:21.160Z"
   },
   {
    "duration": 181,
    "start_time": "2022-02-10T15:11:21.178Z"
   },
   {
    "duration": 4,
    "start_time": "2022-02-10T15:11:21.360Z"
   },
   {
    "duration": 18,
    "start_time": "2022-02-10T15:11:21.366Z"
   },
   {
    "duration": 12,
    "start_time": "2022-02-10T15:11:21.385Z"
   },
   {
    "duration": 4,
    "start_time": "2022-02-10T15:11:21.398Z"
   },
   {
    "duration": 342,
    "start_time": "2022-02-10T15:11:21.404Z"
   },
   {
    "duration": 620,
    "start_time": "2022-02-10T15:11:21.747Z"
   },
   {
    "duration": 11,
    "start_time": "2022-02-10T15:11:22.369Z"
   },
   {
    "duration": 328,
    "start_time": "2022-02-10T15:11:22.381Z"
   },
   {
    "duration": 22,
    "start_time": "2022-02-10T15:11:22.711Z"
   },
   {
    "duration": 480,
    "start_time": "2022-02-10T15:11:22.735Z"
   },
   {
    "duration": 18,
    "start_time": "2022-02-10T15:11:23.217Z"
   },
   {
    "duration": 307,
    "start_time": "2022-02-10T15:11:23.237Z"
   },
   {
    "duration": 5,
    "start_time": "2022-02-10T15:11:23.546Z"
   },
   {
    "duration": 9,
    "start_time": "2022-02-10T15:11:23.553Z"
   },
   {
    "duration": 6,
    "start_time": "2022-02-10T15:11:23.563Z"
   },
   {
    "duration": 3,
    "start_time": "2022-02-10T15:11:23.574Z"
   },
   {
    "duration": 19,
    "start_time": "2022-02-10T15:11:23.578Z"
   },
   {
    "duration": 29,
    "start_time": "2022-02-10T15:11:23.599Z"
   },
   {
    "duration": 3,
    "start_time": "2022-02-10T15:11:23.629Z"
   },
   {
    "duration": 8,
    "start_time": "2022-02-10T15:11:23.633Z"
   },
   {
    "duration": 6,
    "start_time": "2022-02-10T15:11:23.642Z"
   },
   {
    "duration": 6,
    "start_time": "2022-02-10T15:11:23.649Z"
   },
   {
    "duration": 7,
    "start_time": "2022-02-10T15:11:23.656Z"
   },
   {
    "duration": 8,
    "start_time": "2022-02-10T15:11:23.664Z"
   },
   {
    "duration": 8,
    "start_time": "2022-02-10T15:11:23.673Z"
   },
   {
    "duration": 11,
    "start_time": "2022-02-10T15:11:23.682Z"
   },
   {
    "duration": 94,
    "start_time": "2022-02-10T15:11:23.694Z"
   },
   {
    "duration": 6,
    "start_time": "2022-02-10T15:11:23.790Z"
   },
   {
    "duration": 5,
    "start_time": "2022-02-10T15:11:23.798Z"
   },
   {
    "duration": 9,
    "start_time": "2022-02-10T15:11:23.804Z"
   },
   {
    "duration": 975,
    "start_time": "2022-02-10T15:15:07.942Z"
   },
   {
    "duration": 3,
    "start_time": "2022-02-10T15:15:08.919Z"
   },
   {
    "duration": 43,
    "start_time": "2022-02-10T15:15:08.927Z"
   },
   {
    "duration": 6,
    "start_time": "2022-02-10T15:15:08.972Z"
   },
   {
    "duration": 16,
    "start_time": "2022-02-10T15:15:08.979Z"
   },
   {
    "duration": 168,
    "start_time": "2022-02-10T15:15:08.997Z"
   },
   {
    "duration": 9,
    "start_time": "2022-02-10T15:15:09.167Z"
   },
   {
    "duration": 22,
    "start_time": "2022-02-10T15:15:09.178Z"
   },
   {
    "duration": 30,
    "start_time": "2022-02-10T15:15:09.202Z"
   },
   {
    "duration": 78,
    "start_time": "2022-02-10T15:15:09.234Z"
   },
   {
    "duration": 17,
    "start_time": "2022-02-10T15:15:09.314Z"
   },
   {
    "duration": 12,
    "start_time": "2022-02-10T15:15:09.332Z"
   },
   {
    "duration": 112,
    "start_time": "2022-02-10T15:15:09.345Z"
   },
   {
    "duration": 7,
    "start_time": "2022-02-10T15:15:09.458Z"
   },
   {
    "duration": 18,
    "start_time": "2022-02-10T15:15:09.466Z"
   },
   {
    "duration": 42,
    "start_time": "2022-02-10T15:15:09.485Z"
   },
   {
    "duration": 20,
    "start_time": "2022-02-10T15:15:09.528Z"
   },
   {
    "duration": 6,
    "start_time": "2022-02-10T15:15:09.550Z"
   },
   {
    "duration": 49,
    "start_time": "2022-02-10T15:15:09.557Z"
   },
   {
    "duration": 25,
    "start_time": "2022-02-10T15:15:09.607Z"
   },
   {
    "duration": 4,
    "start_time": "2022-02-10T15:15:09.634Z"
   },
   {
    "duration": 22,
    "start_time": "2022-02-10T15:15:09.640Z"
   },
   {
    "duration": 8,
    "start_time": "2022-02-10T15:15:09.666Z"
   },
   {
    "duration": 12,
    "start_time": "2022-02-10T15:15:09.677Z"
   },
   {
    "duration": 8,
    "start_time": "2022-02-10T15:15:09.691Z"
   },
   {
    "duration": 36,
    "start_time": "2022-02-10T15:15:09.701Z"
   },
   {
    "duration": 103,
    "start_time": "2022-02-10T15:15:09.739Z"
   },
   {
    "duration": 7,
    "start_time": "2022-02-10T15:15:09.843Z"
   },
   {
    "duration": 25,
    "start_time": "2022-02-10T15:15:09.852Z"
   },
   {
    "duration": 6,
    "start_time": "2022-02-10T15:15:09.878Z"
   },
   {
    "duration": 8,
    "start_time": "2022-02-10T15:15:09.885Z"
   },
   {
    "duration": 32,
    "start_time": "2022-02-10T15:15:09.895Z"
   },
   {
    "duration": 7,
    "start_time": "2022-02-10T15:15:09.928Z"
   },
   {
    "duration": 7,
    "start_time": "2022-02-10T15:15:09.937Z"
   },
   {
    "duration": 13,
    "start_time": "2022-02-10T15:15:09.946Z"
   },
   {
    "duration": 3,
    "start_time": "2022-02-10T15:15:09.960Z"
   },
   {
    "duration": 8,
    "start_time": "2022-02-10T15:15:09.965Z"
   },
   {
    "duration": 11,
    "start_time": "2022-02-10T15:15:09.975Z"
   },
   {
    "duration": 41,
    "start_time": "2022-02-10T15:15:09.987Z"
   },
   {
    "duration": 5,
    "start_time": "2022-02-10T15:15:10.029Z"
   },
   {
    "duration": 15,
    "start_time": "2022-02-10T15:15:10.035Z"
   },
   {
    "duration": 5,
    "start_time": "2022-02-10T15:15:10.052Z"
   },
   {
    "duration": 4,
    "start_time": "2022-02-10T15:15:10.059Z"
   },
   {
    "duration": 6,
    "start_time": "2022-02-10T15:15:10.064Z"
   },
   {
    "duration": 15,
    "start_time": "2022-02-10T15:15:10.071Z"
   },
   {
    "duration": 5,
    "start_time": "2022-02-10T15:15:10.087Z"
   },
   {
    "duration": 5,
    "start_time": "2022-02-10T15:15:10.127Z"
   },
   {
    "duration": 10,
    "start_time": "2022-02-10T15:15:10.134Z"
   },
   {
    "duration": 9,
    "start_time": "2022-02-10T15:15:10.145Z"
   },
   {
    "duration": 4,
    "start_time": "2022-02-10T15:15:10.155Z"
   },
   {
    "duration": 13,
    "start_time": "2022-02-10T15:15:10.160Z"
   },
   {
    "duration": 182,
    "start_time": "2022-02-10T15:15:10.174Z"
   },
   {
    "duration": 3,
    "start_time": "2022-02-10T15:15:10.357Z"
   },
   {
    "duration": 20,
    "start_time": "2022-02-10T15:15:10.361Z"
   },
   {
    "duration": 12,
    "start_time": "2022-02-10T15:15:10.382Z"
   },
   {
    "duration": 4,
    "start_time": "2022-02-10T15:15:10.395Z"
   },
   {
    "duration": 334,
    "start_time": "2022-02-10T15:15:10.401Z"
   },
   {
    "duration": 612,
    "start_time": "2022-02-10T15:15:10.736Z"
   },
   {
    "duration": 10,
    "start_time": "2022-02-10T15:15:11.350Z"
   },
   {
    "duration": 323,
    "start_time": "2022-02-10T15:15:11.362Z"
   },
   {
    "duration": 9,
    "start_time": "2022-02-10T15:15:11.687Z"
   },
   {
    "duration": 313,
    "start_time": "2022-02-10T15:15:11.697Z"
   },
   {
    "duration": 19,
    "start_time": "2022-02-10T15:15:12.011Z"
   },
   {
    "duration": 309,
    "start_time": "2022-02-10T15:15:12.031Z"
   },
   {
    "duration": 6,
    "start_time": "2022-02-10T15:15:12.341Z"
   },
   {
    "duration": 7,
    "start_time": "2022-02-10T15:15:12.348Z"
   },
   {
    "duration": 6,
    "start_time": "2022-02-10T15:15:12.356Z"
   },
   {
    "duration": 3,
    "start_time": "2022-02-10T15:15:12.367Z"
   },
   {
    "duration": 13,
    "start_time": "2022-02-10T15:15:12.371Z"
   },
   {
    "duration": 5,
    "start_time": "2022-02-10T15:15:12.386Z"
   },
   {
    "duration": 4,
    "start_time": "2022-02-10T15:15:12.392Z"
   },
   {
    "duration": 2,
    "start_time": "2022-02-10T15:15:12.427Z"
   },
   {
    "duration": 4,
    "start_time": "2022-02-10T15:15:12.431Z"
   },
   {
    "duration": 5,
    "start_time": "2022-02-10T15:15:12.436Z"
   },
   {
    "duration": 5,
    "start_time": "2022-02-10T15:15:12.442Z"
   },
   {
    "duration": 6,
    "start_time": "2022-02-10T15:15:12.448Z"
   },
   {
    "duration": 5,
    "start_time": "2022-02-10T15:15:12.456Z"
   },
   {
    "duration": 8,
    "start_time": "2022-02-10T15:15:12.462Z"
   },
   {
    "duration": 93,
    "start_time": "2022-02-10T15:15:12.471Z"
   },
   {
    "duration": 5,
    "start_time": "2022-02-10T15:15:12.566Z"
   },
   {
    "duration": 4,
    "start_time": "2022-02-10T15:15:12.573Z"
   },
   {
    "duration": 5,
    "start_time": "2022-02-10T15:15:12.578Z"
   },
   {
    "duration": 1022,
    "start_time": "2022-02-10T15:16:18.464Z"
   },
   {
    "duration": 2,
    "start_time": "2022-02-10T15:16:19.488Z"
   },
   {
    "duration": 67,
    "start_time": "2022-02-10T15:16:19.492Z"
   },
   {
    "duration": 6,
    "start_time": "2022-02-10T15:16:19.560Z"
   },
   {
    "duration": 13,
    "start_time": "2022-02-10T15:16:19.567Z"
   },
   {
    "duration": 131,
    "start_time": "2022-02-10T15:16:19.581Z"
   },
   {
    "duration": 9,
    "start_time": "2022-02-10T15:16:19.714Z"
   },
   {
    "duration": 19,
    "start_time": "2022-02-10T15:16:19.729Z"
   },
   {
    "duration": 27,
    "start_time": "2022-02-10T15:16:19.750Z"
   },
   {
    "duration": 94,
    "start_time": "2022-02-10T15:16:19.779Z"
   },
   {
    "duration": 12,
    "start_time": "2022-02-10T15:16:19.875Z"
   },
   {
    "duration": 11,
    "start_time": "2022-02-10T15:16:19.889Z"
   },
   {
    "duration": 113,
    "start_time": "2022-02-10T15:16:19.901Z"
   },
   {
    "duration": 13,
    "start_time": "2022-02-10T15:16:20.015Z"
   },
   {
    "duration": 18,
    "start_time": "2022-02-10T15:16:20.030Z"
   },
   {
    "duration": 23,
    "start_time": "2022-02-10T15:16:20.050Z"
   },
   {
    "duration": 20,
    "start_time": "2022-02-10T15:16:20.074Z"
   },
   {
    "duration": 6,
    "start_time": "2022-02-10T15:16:20.095Z"
   },
   {
    "duration": 56,
    "start_time": "2022-02-10T15:16:20.103Z"
   },
   {
    "duration": 16,
    "start_time": "2022-02-10T15:16:20.161Z"
   },
   {
    "duration": 4,
    "start_time": "2022-02-10T15:16:20.179Z"
   },
   {
    "duration": 18,
    "start_time": "2022-02-10T15:16:20.184Z"
   },
   {
    "duration": 27,
    "start_time": "2022-02-10T15:16:20.206Z"
   },
   {
    "duration": 13,
    "start_time": "2022-02-10T15:16:20.235Z"
   },
   {
    "duration": 7,
    "start_time": "2022-02-10T15:16:20.249Z"
   },
   {
    "duration": 12,
    "start_time": "2022-02-10T15:16:20.258Z"
   },
   {
    "duration": 109,
    "start_time": "2022-02-10T15:16:20.272Z"
   },
   {
    "duration": 8,
    "start_time": "2022-02-10T15:16:20.383Z"
   },
   {
    "duration": 37,
    "start_time": "2022-02-10T15:16:20.392Z"
   },
   {
    "duration": 7,
    "start_time": "2022-02-10T15:16:20.431Z"
   },
   {
    "duration": 14,
    "start_time": "2022-02-10T15:16:20.439Z"
   },
   {
    "duration": 17,
    "start_time": "2022-02-10T15:16:20.455Z"
   },
   {
    "duration": 6,
    "start_time": "2022-02-10T15:16:20.474Z"
   },
   {
    "duration": 7,
    "start_time": "2022-02-10T15:16:20.482Z"
   },
   {
    "duration": 38,
    "start_time": "2022-02-10T15:16:20.491Z"
   },
   {
    "duration": 3,
    "start_time": "2022-02-10T15:16:20.531Z"
   },
   {
    "duration": 8,
    "start_time": "2022-02-10T15:16:20.535Z"
   },
   {
    "duration": 16,
    "start_time": "2022-02-10T15:16:20.544Z"
   },
   {
    "duration": 12,
    "start_time": "2022-02-10T15:16:20.561Z"
   },
   {
    "duration": 13,
    "start_time": "2022-02-10T15:16:20.574Z"
   },
   {
    "duration": 13,
    "start_time": "2022-02-10T15:16:20.588Z"
   },
   {
    "duration": 5,
    "start_time": "2022-02-10T15:16:20.627Z"
   },
   {
    "duration": 23,
    "start_time": "2022-02-10T15:16:20.633Z"
   },
   {
    "duration": 13,
    "start_time": "2022-02-10T15:16:20.657Z"
   },
   {
    "duration": 16,
    "start_time": "2022-02-10T15:16:20.671Z"
   },
   {
    "duration": 5,
    "start_time": "2022-02-10T15:16:20.688Z"
   },
   {
    "duration": 5,
    "start_time": "2022-02-10T15:16:20.695Z"
   },
   {
    "duration": 12,
    "start_time": "2022-02-10T15:16:20.701Z"
   },
   {
    "duration": 13,
    "start_time": "2022-02-10T15:16:20.714Z"
   },
   {
    "duration": 3,
    "start_time": "2022-02-10T15:16:20.729Z"
   },
   {
    "duration": 13,
    "start_time": "2022-02-10T15:16:20.733Z"
   },
   {
    "duration": 175,
    "start_time": "2022-02-10T15:16:20.748Z"
   },
   {
    "duration": 4,
    "start_time": "2022-02-10T15:16:20.924Z"
   },
   {
    "duration": 31,
    "start_time": "2022-02-10T15:16:20.929Z"
   },
   {
    "duration": 13,
    "start_time": "2022-02-10T15:16:20.961Z"
   },
   {
    "duration": 5,
    "start_time": "2022-02-10T15:16:20.975Z"
   },
   {
    "duration": 317,
    "start_time": "2022-02-10T15:16:20.981Z"
   },
   {
    "duration": 628,
    "start_time": "2022-02-10T15:16:21.299Z"
   },
   {
    "duration": 10,
    "start_time": "2022-02-10T15:16:21.929Z"
   },
   {
    "duration": 319,
    "start_time": "2022-02-10T15:16:21.941Z"
   },
   {
    "duration": 9,
    "start_time": "2022-02-10T15:16:22.262Z"
   },
   {
    "duration": 314,
    "start_time": "2022-02-10T15:16:22.273Z"
   },
   {
    "duration": 9,
    "start_time": "2022-02-10T15:16:22.589Z"
   },
   {
    "duration": 311,
    "start_time": "2022-02-10T15:16:22.600Z"
   },
   {
    "duration": 5,
    "start_time": "2022-02-10T15:16:22.913Z"
   },
   {
    "duration": 7,
    "start_time": "2022-02-10T15:16:22.927Z"
   },
   {
    "duration": 27,
    "start_time": "2022-02-10T15:16:22.936Z"
   },
   {
    "duration": 6,
    "start_time": "2022-02-10T15:16:22.968Z"
   },
   {
    "duration": 20,
    "start_time": "2022-02-10T15:16:22.976Z"
   },
   {
    "duration": 8,
    "start_time": "2022-02-10T15:16:22.997Z"
   },
   {
    "duration": 4,
    "start_time": "2022-02-10T15:16:23.007Z"
   },
   {
    "duration": 13,
    "start_time": "2022-02-10T15:16:23.012Z"
   },
   {
    "duration": 3,
    "start_time": "2022-02-10T15:16:23.026Z"
   },
   {
    "duration": 8,
    "start_time": "2022-02-10T15:16:23.030Z"
   },
   {
    "duration": 5,
    "start_time": "2022-02-10T15:16:23.040Z"
   },
   {
    "duration": 7,
    "start_time": "2022-02-10T15:16:23.046Z"
   },
   {
    "duration": 5,
    "start_time": "2022-02-10T15:16:23.054Z"
   },
   {
    "duration": 6,
    "start_time": "2022-02-10T15:16:23.061Z"
   },
   {
    "duration": 82,
    "start_time": "2022-02-10T15:16:23.069Z"
   },
   {
    "duration": 6,
    "start_time": "2022-02-10T15:16:23.153Z"
   },
   {
    "duration": 3,
    "start_time": "2022-02-10T15:16:23.161Z"
   },
   {
    "duration": 5,
    "start_time": "2022-02-10T15:16:23.165Z"
   }
  ],
  "kernelspec": {
   "display_name": "Python 3 (ipykernel)",
   "language": "python",
   "name": "python3"
  },
  "language_info": {
   "codemirror_mode": {
    "name": "ipython",
    "version": 3
   },
   "file_extension": ".py",
   "mimetype": "text/x-python",
   "name": "python",
   "nbconvert_exporter": "python",
   "pygments_lexer": "ipython3",
   "version": "3.9.12"
  },
  "toc": {
   "base_numbering": 1,
   "nav_menu": {},
   "number_sections": true,
   "sideBar": true,
   "skip_h1_title": true,
   "title_cell": "Содержание",
   "title_sidebar": "Contents",
   "toc_cell": true,
   "toc_position": {
    "height": "1112px",
    "left": "258px",
    "top": "112.23px",
    "width": "165px"
   },
   "toc_section_display": true,
   "toc_window_display": false
  }
 },
 "nbformat": 4,
 "nbformat_minor": 2
}

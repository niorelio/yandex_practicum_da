{
 "cells": [
  {
   "cell_type": "markdown",
   "metadata": {},
   "source": [
    "## Настройка окружения"
   ]
  },
  {
   "cell_type": "code",
   "execution_count": 1,
   "metadata": {},
   "outputs": [],
   "source": [
    "# загружаем библиотеки\n",
    "import pandas as pd\n",
    "from sqlalchemy import create_engine "
   ]
  },
  {
   "cell_type": "code",
   "execution_count": 2,
   "metadata": {},
   "outputs": [],
   "source": [
    "# устанавливаем параметры\n",
    "db_config = {'user': 'praktikum_student', # имя пользователя\n",
    "'pwd': 'Sdf4$2;d-d30pp', # пароль\n",
    "'host': 'rc1b-wcoijxj3yxfsf3fs.mdb.yandexcloud.net',\n",
    "'port': 6432, # порт подключения\n",
    "'db': 'data-analyst-final-project-db'} # название базы данных\n",
    "connection_string = 'postgresql://{}:{}@{}:{}/{}'.format(db_config['user'],\n",
    " db_config['pwd'],\n",
    " db_config['host'],\n",
    " db_config['port'],\n",
    " db_config['db'])\n",
    "# сохраняем коннектор\n",
    "engine = create_engine(connection_string, connect_args={'sslmode':'require'}) "
   ]
  },
  {
   "cell_type": "code",
   "execution_count": 3,
   "metadata": {},
   "outputs": [],
   "source": [
    "# функция, выполняющая SQL-запрос\n",
    "def ask(sql):\n",
    "    return pd.read_sql(sql,con=engine)"
   ]
  },
  {
   "cell_type": "markdown",
   "metadata": {},
   "source": [
    "## Цели исследования\n",
    "\n",
    "1. Проанализировать базу данных для того чтобы сформулировать ценностное предложение для нового продукта\n",
    "2. Изучить информацию о книгах, издательствах, авторах и пользовательских обзоров книг."
   ]
  },
  {
   "cell_type": "markdown",
   "metadata": {},
   "source": [
    "## Исследование таблиц"
   ]
  },
  {
   "cell_type": "code",
   "execution_count": 4,
   "metadata": {},
   "outputs": [
    {
     "data": {
      "text/html": [
       "<div>\n",
       "<style scoped>\n",
       "    .dataframe tbody tr th:only-of-type {\n",
       "        vertical-align: middle;\n",
       "    }\n",
       "\n",
       "    .dataframe tbody tr th {\n",
       "        vertical-align: top;\n",
       "    }\n",
       "\n",
       "    .dataframe thead th {\n",
       "        text-align: right;\n",
       "    }\n",
       "</style>\n",
       "<table border=\"1\" class=\"dataframe\">\n",
       "  <thead>\n",
       "    <tr style=\"text-align: right;\">\n",
       "      <th></th>\n",
       "      <th>book_id</th>\n",
       "      <th>author_id</th>\n",
       "      <th>title</th>\n",
       "      <th>num_pages</th>\n",
       "      <th>publication_date</th>\n",
       "      <th>publisher_id</th>\n",
       "    </tr>\n",
       "  </thead>\n",
       "  <tbody>\n",
       "    <tr>\n",
       "      <th>0</th>\n",
       "      <td>1</td>\n",
       "      <td>546</td>\n",
       "      <td>'Salem's Lot</td>\n",
       "      <td>594</td>\n",
       "      <td>2005-11-01</td>\n",
       "      <td>93</td>\n",
       "    </tr>\n",
       "    <tr>\n",
       "      <th>1</th>\n",
       "      <td>2</td>\n",
       "      <td>465</td>\n",
       "      <td>1 000 Places to See Before You Die</td>\n",
       "      <td>992</td>\n",
       "      <td>2003-05-22</td>\n",
       "      <td>336</td>\n",
       "    </tr>\n",
       "    <tr>\n",
       "      <th>2</th>\n",
       "      <td>3</td>\n",
       "      <td>407</td>\n",
       "      <td>13 Little Blue Envelopes (Little Blue Envelope...</td>\n",
       "      <td>322</td>\n",
       "      <td>2010-12-21</td>\n",
       "      <td>135</td>\n",
       "    </tr>\n",
       "    <tr>\n",
       "      <th>3</th>\n",
       "      <td>4</td>\n",
       "      <td>82</td>\n",
       "      <td>1491: New Revelations of the Americas Before C...</td>\n",
       "      <td>541</td>\n",
       "      <td>2006-10-10</td>\n",
       "      <td>309</td>\n",
       "    </tr>\n",
       "    <tr>\n",
       "      <th>4</th>\n",
       "      <td>5</td>\n",
       "      <td>125</td>\n",
       "      <td>1776</td>\n",
       "      <td>386</td>\n",
       "      <td>2006-07-04</td>\n",
       "      <td>268</td>\n",
       "    </tr>\n",
       "  </tbody>\n",
       "</table>\n",
       "</div>"
      ],
      "text/plain": [
       "   book_id  author_id                                              title  \\\n",
       "0        1        546                                       'Salem's Lot   \n",
       "1        2        465                 1 000 Places to See Before You Die   \n",
       "2        3        407  13 Little Blue Envelopes (Little Blue Envelope...   \n",
       "3        4         82  1491: New Revelations of the Americas Before C...   \n",
       "4        5        125                                               1776   \n",
       "\n",
       "   num_pages publication_date  publisher_id  \n",
       "0        594       2005-11-01            93  \n",
       "1        992       2003-05-22           336  \n",
       "2        322       2010-12-21           135  \n",
       "3        541       2006-10-10           309  \n",
       "4        386       2006-07-04           268  "
      ]
     },
     "execution_count": 4,
     "metadata": {},
     "output_type": "execute_result"
    }
   ],
   "source": [
    "# присваиваем переменной таблицу с книгами\n",
    "books_sql = '''\n",
    "SELECT *\n",
    "FROM books\n",
    "ORDER BY\n",
    " book_id ASC\n",
    "LIMIT 5\n",
    "'''\n",
    "ask(books_sql)"
   ]
  },
  {
   "cell_type": "code",
   "execution_count": 5,
   "metadata": {},
   "outputs": [
    {
     "data": {
      "text/html": [
       "<div>\n",
       "<style scoped>\n",
       "    .dataframe tbody tr th:only-of-type {\n",
       "        vertical-align: middle;\n",
       "    }\n",
       "\n",
       "    .dataframe tbody tr th {\n",
       "        vertical-align: top;\n",
       "    }\n",
       "\n",
       "    .dataframe thead th {\n",
       "        text-align: right;\n",
       "    }\n",
       "</style>\n",
       "<table border=\"1\" class=\"dataframe\">\n",
       "  <thead>\n",
       "    <tr style=\"text-align: right;\">\n",
       "      <th></th>\n",
       "      <th>author_id</th>\n",
       "      <th>author</th>\n",
       "    </tr>\n",
       "  </thead>\n",
       "  <tbody>\n",
       "    <tr>\n",
       "      <th>0</th>\n",
       "      <td>1</td>\n",
       "      <td>A.S. Byatt</td>\n",
       "    </tr>\n",
       "    <tr>\n",
       "      <th>1</th>\n",
       "      <td>2</td>\n",
       "      <td>Aesop/Laura Harris/Laura Gibbs</td>\n",
       "    </tr>\n",
       "    <tr>\n",
       "      <th>2</th>\n",
       "      <td>3</td>\n",
       "      <td>Agatha Christie</td>\n",
       "    </tr>\n",
       "    <tr>\n",
       "      <th>3</th>\n",
       "      <td>4</td>\n",
       "      <td>Alan Brennert</td>\n",
       "    </tr>\n",
       "    <tr>\n",
       "      <th>4</th>\n",
       "      <td>5</td>\n",
       "      <td>Alan Moore/David   Lloyd</td>\n",
       "    </tr>\n",
       "  </tbody>\n",
       "</table>\n",
       "</div>"
      ],
      "text/plain": [
       "   author_id                          author\n",
       "0          1                      A.S. Byatt\n",
       "1          2  Aesop/Laura Harris/Laura Gibbs\n",
       "2          3                 Agatha Christie\n",
       "3          4                   Alan Brennert\n",
       "4          5        Alan Moore/David   Lloyd"
      ]
     },
     "execution_count": 5,
     "metadata": {},
     "output_type": "execute_result"
    }
   ],
   "source": [
    "# присваиваем переменной таблицу с авторами\n",
    "authors_sql = '''\n",
    "SELECT *\n",
    "FROM authors\n",
    "ORDER BY\n",
    " author_id ASC\n",
    "LIMIT 5\n",
    "'''\n",
    "ask(authors_sql)"
   ]
  },
  {
   "cell_type": "code",
   "execution_count": 6,
   "metadata": {},
   "outputs": [
    {
     "data": {
      "text/html": [
       "<div>\n",
       "<style scoped>\n",
       "    .dataframe tbody tr th:only-of-type {\n",
       "        vertical-align: middle;\n",
       "    }\n",
       "\n",
       "    .dataframe tbody tr th {\n",
       "        vertical-align: top;\n",
       "    }\n",
       "\n",
       "    .dataframe thead th {\n",
       "        text-align: right;\n",
       "    }\n",
       "</style>\n",
       "<table border=\"1\" class=\"dataframe\">\n",
       "  <thead>\n",
       "    <tr style=\"text-align: right;\">\n",
       "      <th></th>\n",
       "      <th>publisher_id</th>\n",
       "      <th>publisher</th>\n",
       "    </tr>\n",
       "  </thead>\n",
       "  <tbody>\n",
       "    <tr>\n",
       "      <th>0</th>\n",
       "      <td>1</td>\n",
       "      <td>Ace</td>\n",
       "    </tr>\n",
       "    <tr>\n",
       "      <th>1</th>\n",
       "      <td>2</td>\n",
       "      <td>Ace Book</td>\n",
       "    </tr>\n",
       "    <tr>\n",
       "      <th>2</th>\n",
       "      <td>3</td>\n",
       "      <td>Ace Books</td>\n",
       "    </tr>\n",
       "    <tr>\n",
       "      <th>3</th>\n",
       "      <td>4</td>\n",
       "      <td>Ace Hardcover</td>\n",
       "    </tr>\n",
       "    <tr>\n",
       "      <th>4</th>\n",
       "      <td>5</td>\n",
       "      <td>Addison Wesley Publishing Company</td>\n",
       "    </tr>\n",
       "  </tbody>\n",
       "</table>\n",
       "</div>"
      ],
      "text/plain": [
       "   publisher_id                          publisher\n",
       "0             1                                Ace\n",
       "1             2                           Ace Book\n",
       "2             3                          Ace Books\n",
       "3             4                      Ace Hardcover\n",
       "4             5  Addison Wesley Publishing Company"
      ]
     },
     "execution_count": 6,
     "metadata": {},
     "output_type": "execute_result"
    }
   ],
   "source": [
    "# присваиваем переменной таблицу с издательствами\n",
    "publishers_sql = '''\n",
    "SELECT *\n",
    "FROM publishers\n",
    "ORDER BY\n",
    " publisher_id ASC\n",
    "LIMIT 5\n",
    "'''\n",
    "ask(publishers_sql)"
   ]
  },
  {
   "cell_type": "code",
   "execution_count": 7,
   "metadata": {},
   "outputs": [
    {
     "data": {
      "text/html": [
       "<div>\n",
       "<style scoped>\n",
       "    .dataframe tbody tr th:only-of-type {\n",
       "        vertical-align: middle;\n",
       "    }\n",
       "\n",
       "    .dataframe tbody tr th {\n",
       "        vertical-align: top;\n",
       "    }\n",
       "\n",
       "    .dataframe thead th {\n",
       "        text-align: right;\n",
       "    }\n",
       "</style>\n",
       "<table border=\"1\" class=\"dataframe\">\n",
       "  <thead>\n",
       "    <tr style=\"text-align: right;\">\n",
       "      <th></th>\n",
       "      <th>rating_id</th>\n",
       "      <th>book_id</th>\n",
       "      <th>username</th>\n",
       "      <th>rating</th>\n",
       "    </tr>\n",
       "  </thead>\n",
       "  <tbody>\n",
       "    <tr>\n",
       "      <th>0</th>\n",
       "      <td>1</td>\n",
       "      <td>1</td>\n",
       "      <td>ryanfranco</td>\n",
       "      <td>4</td>\n",
       "    </tr>\n",
       "    <tr>\n",
       "      <th>1</th>\n",
       "      <td>2</td>\n",
       "      <td>1</td>\n",
       "      <td>grantpatricia</td>\n",
       "      <td>2</td>\n",
       "    </tr>\n",
       "    <tr>\n",
       "      <th>2</th>\n",
       "      <td>3</td>\n",
       "      <td>1</td>\n",
       "      <td>brandtandrea</td>\n",
       "      <td>5</td>\n",
       "    </tr>\n",
       "    <tr>\n",
       "      <th>3</th>\n",
       "      <td>4</td>\n",
       "      <td>2</td>\n",
       "      <td>lorichen</td>\n",
       "      <td>3</td>\n",
       "    </tr>\n",
       "    <tr>\n",
       "      <th>4</th>\n",
       "      <td>5</td>\n",
       "      <td>2</td>\n",
       "      <td>mariokeller</td>\n",
       "      <td>2</td>\n",
       "    </tr>\n",
       "  </tbody>\n",
       "</table>\n",
       "</div>"
      ],
      "text/plain": [
       "   rating_id  book_id       username  rating\n",
       "0          1        1     ryanfranco       4\n",
       "1          2        1  grantpatricia       2\n",
       "2          3        1   brandtandrea       5\n",
       "3          4        2       lorichen       3\n",
       "4          5        2    mariokeller       2"
      ]
     },
     "execution_count": 7,
     "metadata": {},
     "output_type": "execute_result"
    }
   ],
   "source": [
    "# присваиваем переменной таблицу с рейтингами\n",
    "ratings_sql = '''\n",
    "SELECT *\n",
    "FROM ratings\n",
    "ORDER BY\n",
    " rating_id ASC\n",
    "LIMIT 5\n",
    "'''\n",
    "ask(ratings_sql)"
   ]
  },
  {
   "cell_type": "code",
   "execution_count": 8,
   "metadata": {},
   "outputs": [
    {
     "data": {
      "text/html": [
       "<div>\n",
       "<style scoped>\n",
       "    .dataframe tbody tr th:only-of-type {\n",
       "        vertical-align: middle;\n",
       "    }\n",
       "\n",
       "    .dataframe tbody tr th {\n",
       "        vertical-align: top;\n",
       "    }\n",
       "\n",
       "    .dataframe thead th {\n",
       "        text-align: right;\n",
       "    }\n",
       "</style>\n",
       "<table border=\"1\" class=\"dataframe\">\n",
       "  <thead>\n",
       "    <tr style=\"text-align: right;\">\n",
       "      <th></th>\n",
       "      <th>review_id</th>\n",
       "      <th>book_id</th>\n",
       "      <th>username</th>\n",
       "      <th>text</th>\n",
       "    </tr>\n",
       "  </thead>\n",
       "  <tbody>\n",
       "    <tr>\n",
       "      <th>0</th>\n",
       "      <td>1</td>\n",
       "      <td>1</td>\n",
       "      <td>brandtandrea</td>\n",
       "      <td>Mention society tell send professor analysis. ...</td>\n",
       "    </tr>\n",
       "    <tr>\n",
       "      <th>1</th>\n",
       "      <td>2</td>\n",
       "      <td>1</td>\n",
       "      <td>ryanfranco</td>\n",
       "      <td>Foot glass pretty audience hit themselves. Amo...</td>\n",
       "    </tr>\n",
       "    <tr>\n",
       "      <th>2</th>\n",
       "      <td>3</td>\n",
       "      <td>2</td>\n",
       "      <td>lorichen</td>\n",
       "      <td>Listen treat keep worry. Miss husband tax but ...</td>\n",
       "    </tr>\n",
       "    <tr>\n",
       "      <th>3</th>\n",
       "      <td>4</td>\n",
       "      <td>3</td>\n",
       "      <td>johnsonamanda</td>\n",
       "      <td>Finally month interesting blue could nature cu...</td>\n",
       "    </tr>\n",
       "    <tr>\n",
       "      <th>4</th>\n",
       "      <td>5</td>\n",
       "      <td>3</td>\n",
       "      <td>scotttamara</td>\n",
       "      <td>Nation purpose heavy give wait song will. List...</td>\n",
       "    </tr>\n",
       "  </tbody>\n",
       "</table>\n",
       "</div>"
      ],
      "text/plain": [
       "   review_id  book_id       username  \\\n",
       "0          1        1   brandtandrea   \n",
       "1          2        1     ryanfranco   \n",
       "2          3        2       lorichen   \n",
       "3          4        3  johnsonamanda   \n",
       "4          5        3    scotttamara   \n",
       "\n",
       "                                                text  \n",
       "0  Mention society tell send professor analysis. ...  \n",
       "1  Foot glass pretty audience hit themselves. Amo...  \n",
       "2  Listen treat keep worry. Miss husband tax but ...  \n",
       "3  Finally month interesting blue could nature cu...  \n",
       "4  Nation purpose heavy give wait song will. List...  "
      ]
     },
     "execution_count": 8,
     "metadata": {},
     "output_type": "execute_result"
    }
   ],
   "source": [
    "# присваиваем переменной таблицу с обзорами\n",
    "reviews_sql = '''\n",
    "SELECT *\n",
    "FROM reviews\n",
    "ORDER BY\n",
    " review_id ASC\n",
    "LIMIT 5\n",
    "'''\n",
    "ask(reviews_sql)"
   ]
  },
  {
   "cell_type": "markdown",
   "metadata": {},
   "source": [
    "### Вывод об исследовании таблиц\n",
    "\n",
    "Подключение к базе данных успешно. Все таблицы сохранены в своих переменных. "
   ]
  },
  {
   "cell_type": "markdown",
   "metadata": {},
   "source": [
    "## Анализ данных\n",
    "\n",
    "- Посчитайте, сколько книг вышло после 1 января 2000 года;\n",
    "- Для каждой книги посчитайте количество обзоров и среднюю оценку;\n",
    "- Определите издательство, которое выпустило наибольшее число книг толще 50 страниц — так вы исключите из анализа брошюры;\n",
    "- Определите автора с самой высокой средней оценкой книг — учитывайте только книги с 50 и более оценками;\n",
    "- Посчитайте среднее количество обзоров от пользователей, которые поставили больше 50 оценок.\n"
   ]
  },
  {
   "cell_type": "code",
   "execution_count": 9,
   "metadata": {},
   "outputs": [
    {
     "data": {
      "text/html": [
       "<div>\n",
       "<style scoped>\n",
       "    .dataframe tbody tr th:only-of-type {\n",
       "        vertical-align: middle;\n",
       "    }\n",
       "\n",
       "    .dataframe tbody tr th {\n",
       "        vertical-align: top;\n",
       "    }\n",
       "\n",
       "    .dataframe thead th {\n",
       "        text-align: right;\n",
       "    }\n",
       "</style>\n",
       "<table border=\"1\" class=\"dataframe\">\n",
       "  <thead>\n",
       "    <tr style=\"text-align: right;\">\n",
       "      <th></th>\n",
       "      <th>books_count</th>\n",
       "    </tr>\n",
       "  </thead>\n",
       "  <tbody>\n",
       "    <tr>\n",
       "      <th>0</th>\n",
       "      <td>821</td>\n",
       "    </tr>\n",
       "  </tbody>\n",
       "</table>\n",
       "</div>"
      ],
      "text/plain": [
       "   books_count\n",
       "0          821"
      ]
     },
     "execution_count": 9,
     "metadata": {},
     "output_type": "execute_result"
    }
   ],
   "source": [
    "# сколько книг вышло после 1 января 2000 года\n",
    "books_cnt = '''\n",
    "SELECT COUNT(DISTINCT book_id) AS books_count\n",
    "FROM books\n",
    "WHERE publication_date >= '2000-01-01'\n",
    "'''\n",
    "ask(books_cnt)"
   ]
  },
  {
   "cell_type": "markdown",
   "metadata": {},
   "source": [
    "После 1 января 2000 года вышла 821 книга"
   ]
  },
  {
   "cell_type": "code",
   "execution_count": 10,
   "metadata": {},
   "outputs": [
    {
     "data": {
      "text/html": [
       "<div>\n",
       "<style scoped>\n",
       "    .dataframe tbody tr th:only-of-type {\n",
       "        vertical-align: middle;\n",
       "    }\n",
       "\n",
       "    .dataframe tbody tr th {\n",
       "        vertical-align: top;\n",
       "    }\n",
       "\n",
       "    .dataframe thead th {\n",
       "        text-align: right;\n",
       "    }\n",
       "</style>\n",
       "<table border=\"1\" class=\"dataframe\">\n",
       "  <thead>\n",
       "    <tr style=\"text-align: right;\">\n",
       "      <th></th>\n",
       "      <th>title</th>\n",
       "      <th>avg_rating</th>\n",
       "      <th>cnt_review</th>\n",
       "    </tr>\n",
       "  </thead>\n",
       "  <tbody>\n",
       "    <tr>\n",
       "      <th>0</th>\n",
       "      <td>The Cat in the Hat and Other Dr. Seuss Favorites</td>\n",
       "      <td>5.00</td>\n",
       "      <td>NaN</td>\n",
       "    </tr>\n",
       "    <tr>\n",
       "      <th>1</th>\n",
       "      <td>A Dirty Job (Grim Reaper  #1)</td>\n",
       "      <td>5.00</td>\n",
       "      <td>4.0</td>\n",
       "    </tr>\n",
       "    <tr>\n",
       "      <th>2</th>\n",
       "      <td>Moneyball: The Art of Winning an Unfair Game</td>\n",
       "      <td>5.00</td>\n",
       "      <td>3.0</td>\n",
       "    </tr>\n",
       "    <tr>\n",
       "      <th>3</th>\n",
       "      <td>School's Out—Forever (Maximum Ride  #2)</td>\n",
       "      <td>5.00</td>\n",
       "      <td>3.0</td>\n",
       "    </tr>\n",
       "    <tr>\n",
       "      <th>4</th>\n",
       "      <td>Women</td>\n",
       "      <td>5.00</td>\n",
       "      <td>2.0</td>\n",
       "    </tr>\n",
       "    <tr>\n",
       "      <th>...</th>\n",
       "      <td>...</td>\n",
       "      <td>...</td>\n",
       "      <td>...</td>\n",
       "    </tr>\n",
       "    <tr>\n",
       "      <th>995</th>\n",
       "      <td>The World Is Flat: A Brief History of the Twen...</td>\n",
       "      <td>2.25</td>\n",
       "      <td>3.0</td>\n",
       "    </tr>\n",
       "    <tr>\n",
       "      <th>996</th>\n",
       "      <td>Drowning Ruth</td>\n",
       "      <td>2.00</td>\n",
       "      <td>3.0</td>\n",
       "    </tr>\n",
       "    <tr>\n",
       "      <th>997</th>\n",
       "      <td>His Excellency: George Washington</td>\n",
       "      <td>2.00</td>\n",
       "      <td>2.0</td>\n",
       "    </tr>\n",
       "    <tr>\n",
       "      <th>998</th>\n",
       "      <td>Junky</td>\n",
       "      <td>2.00</td>\n",
       "      <td>2.0</td>\n",
       "    </tr>\n",
       "    <tr>\n",
       "      <th>999</th>\n",
       "      <td>Harvesting the Heart</td>\n",
       "      <td>1.50</td>\n",
       "      <td>2.0</td>\n",
       "    </tr>\n",
       "  </tbody>\n",
       "</table>\n",
       "<p>1000 rows × 3 columns</p>\n",
       "</div>"
      ],
      "text/plain": [
       "                                                 title  avg_rating  cnt_review\n",
       "0     The Cat in the Hat and Other Dr. Seuss Favorites        5.00         NaN\n",
       "1                        A Dirty Job (Grim Reaper  #1)        5.00         4.0\n",
       "2         Moneyball: The Art of Winning an Unfair Game        5.00         3.0\n",
       "3              School's Out—Forever (Maximum Ride  #2)        5.00         3.0\n",
       "4                                                Women        5.00         2.0\n",
       "..                                                 ...         ...         ...\n",
       "995  The World Is Flat: A Brief History of the Twen...        2.25         3.0\n",
       "996                                      Drowning Ruth        2.00         3.0\n",
       "997                  His Excellency: George Washington        2.00         2.0\n",
       "998                                              Junky        2.00         2.0\n",
       "999                               Harvesting the Heart        1.50         2.0\n",
       "\n",
       "[1000 rows x 3 columns]"
      ]
     },
     "execution_count": 10,
     "metadata": {},
     "output_type": "execute_result"
    }
   ],
   "source": [
    "# количество обзоров и средняя оценка для каждой книги\n",
    "rev_cnt = \"\"\"\n",
    "  \n",
    "WITH books AS (\n",
    "    SELECT book_id, \n",
    "    title \n",
    "    FROM books\n",
    "),\n",
    "g_ratings AS (\n",
    "    SELECT \n",
    "    book_id,\n",
    "    AVG(rating) AS avg_rating\n",
    "    FROM ratings\n",
    "    GROUP BY book_id\n",
    "),\n",
    "g_reviews AS (\n",
    "    SELECT \n",
    "    book_id,\n",
    "    COUNT(review_id) AS cnt_review\n",
    "    FROM reviews\n",
    "    GROUP BY book_id\n",
    ")\n",
    "SELECT \n",
    "books.title,\n",
    "g_ratings.avg_rating,\n",
    "g_reviews.cnt_review\n",
    "FROM books\n",
    "LEFT JOIN g_ratings ON books.book_id = g_ratings.book_id\n",
    "LEFT JOIN g_reviews ON books.book_id = g_reviews.book_id\n",
    "ORDER BY g_ratings.avg_rating DESC, g_reviews.cnt_review DESC\n",
    "\n",
    "\n",
    "\"\"\"\n",
    "\n",
    "\n",
    "ask(rev_cnt)"
   ]
  },
  {
   "cell_type": "markdown",
   "metadata": {},
   "source": [
    "* Вся тысяча книг\n",
    "* В основном запросе к таблице books присоединяются результаты двух подзапросов с подсчетом количества обзоров и средней оценкой каждой книги.\n",
    "* Есть книги без отзывов"
   ]
  },
  {
   "cell_type": "code",
   "execution_count": 11,
   "metadata": {},
   "outputs": [
    {
     "data": {
      "text/html": [
       "<div>\n",
       "<style scoped>\n",
       "    .dataframe tbody tr th:only-of-type {\n",
       "        vertical-align: middle;\n",
       "    }\n",
       "\n",
       "    .dataframe tbody tr th {\n",
       "        vertical-align: top;\n",
       "    }\n",
       "\n",
       "    .dataframe thead th {\n",
       "        text-align: right;\n",
       "    }\n",
       "</style>\n",
       "<table border=\"1\" class=\"dataframe\">\n",
       "  <thead>\n",
       "    <tr style=\"text-align: right;\">\n",
       "      <th></th>\n",
       "      <th>id</th>\n",
       "      <th>publisher</th>\n",
       "      <th>number_of_books</th>\n",
       "    </tr>\n",
       "  </thead>\n",
       "  <tbody>\n",
       "    <tr>\n",
       "      <th>0</th>\n",
       "      <td>212</td>\n",
       "      <td>Penguin Books</td>\n",
       "      <td>42</td>\n",
       "    </tr>\n",
       "    <tr>\n",
       "      <th>1</th>\n",
       "      <td>309</td>\n",
       "      <td>Vintage</td>\n",
       "      <td>31</td>\n",
       "    </tr>\n",
       "    <tr>\n",
       "      <th>2</th>\n",
       "      <td>116</td>\n",
       "      <td>Grand Central Publishing</td>\n",
       "      <td>25</td>\n",
       "    </tr>\n",
       "    <tr>\n",
       "      <th>3</th>\n",
       "      <td>217</td>\n",
       "      <td>Penguin Classics</td>\n",
       "      <td>24</td>\n",
       "    </tr>\n",
       "    <tr>\n",
       "      <th>4</th>\n",
       "      <td>33</td>\n",
       "      <td>Ballantine Books</td>\n",
       "      <td>19</td>\n",
       "    </tr>\n",
       "    <tr>\n",
       "      <th>5</th>\n",
       "      <td>35</td>\n",
       "      <td>Bantam</td>\n",
       "      <td>19</td>\n",
       "    </tr>\n",
       "    <tr>\n",
       "      <th>6</th>\n",
       "      <td>45</td>\n",
       "      <td>Berkley</td>\n",
       "      <td>17</td>\n",
       "    </tr>\n",
       "    <tr>\n",
       "      <th>7</th>\n",
       "      <td>46</td>\n",
       "      <td>Berkley Books</td>\n",
       "      <td>14</td>\n",
       "    </tr>\n",
       "    <tr>\n",
       "      <th>8</th>\n",
       "      <td>284</td>\n",
       "      <td>St. Martin's Press</td>\n",
       "      <td>14</td>\n",
       "    </tr>\n",
       "    <tr>\n",
       "      <th>9</th>\n",
       "      <td>83</td>\n",
       "      <td>Delta</td>\n",
       "      <td>13</td>\n",
       "    </tr>\n",
       "  </tbody>\n",
       "</table>\n",
       "</div>"
      ],
      "text/plain": [
       "    id                 publisher  number_of_books\n",
       "0  212             Penguin Books               42\n",
       "1  309                   Vintage               31\n",
       "2  116  Grand Central Publishing               25\n",
       "3  217          Penguin Classics               24\n",
       "4   33          Ballantine Books               19\n",
       "5   35                    Bantam               19\n",
       "6   45                   Berkley               17\n",
       "7   46             Berkley Books               14\n",
       "8  284        St. Martin's Press               14\n",
       "9   83                     Delta               13"
      ]
     },
     "execution_count": 11,
     "metadata": {},
     "output_type": "execute_result"
    }
   ],
   "source": [
    "# опредеяем издательство, которое выпустило наибольшее число книг толще 50 страниц\n",
    "pub = '''\n",
    "SELECT\n",
    " publishers.publisher_id AS id,\n",
    " publishers.publisher AS publisher,\n",
    " COUNT(DISTINCT books.book_id) AS number_of_books\n",
    "FROM publishers\n",
    " LEFT JOIN books ON books.publisher_id = publishers.publisher_id\n",
    "WHERE \n",
    " books.num_pages > 50\n",
    "GROUP BY\n",
    " id,\n",
    " publisher\n",
    "ORDER BY\n",
    " number_of_books DESC\n",
    "LIMIT 10\n",
    "'''\n",
    "ask(pub)"
   ]
  },
  {
   "cell_type": "markdown",
   "metadata": {},
   "source": [
    "Больше всех книг толще 50 страниц выпустило издетельство \"Penguin Books\""
   ]
  },
  {
   "cell_type": "code",
   "execution_count": 12,
   "metadata": {},
   "outputs": [
    {
     "data": {
      "text/html": [
       "<div>\n",
       "<style scoped>\n",
       "    .dataframe tbody tr th:only-of-type {\n",
       "        vertical-align: middle;\n",
       "    }\n",
       "\n",
       "    .dataframe tbody tr th {\n",
       "        vertical-align: top;\n",
       "    }\n",
       "\n",
       "    .dataframe thead th {\n",
       "        text-align: right;\n",
       "    }\n",
       "</style>\n",
       "<table border=\"1\" class=\"dataframe\">\n",
       "  <thead>\n",
       "    <tr style=\"text-align: right;\">\n",
       "      <th></th>\n",
       "      <th>author</th>\n",
       "      <th>avg</th>\n",
       "    </tr>\n",
       "  </thead>\n",
       "  <tbody>\n",
       "    <tr>\n",
       "      <th>0</th>\n",
       "      <td>J.K. Rowling/Mary GrandPré</td>\n",
       "      <td>4.283844</td>\n",
       "    </tr>\n",
       "    <tr>\n",
       "      <th>1</th>\n",
       "      <td>Markus Zusak/Cao Xuân Việt Khương</td>\n",
       "      <td>4.264151</td>\n",
       "    </tr>\n",
       "    <tr>\n",
       "      <th>2</th>\n",
       "      <td>J.R.R. Tolkien</td>\n",
       "      <td>4.258446</td>\n",
       "    </tr>\n",
       "    <tr>\n",
       "      <th>3</th>\n",
       "      <td>Louisa May Alcott</td>\n",
       "      <td>4.192308</td>\n",
       "    </tr>\n",
       "    <tr>\n",
       "      <th>4</th>\n",
       "      <td>Rick Riordan</td>\n",
       "      <td>4.080645</td>\n",
       "    </tr>\n",
       "    <tr>\n",
       "      <th>5</th>\n",
       "      <td>William Golding</td>\n",
       "      <td>3.901408</td>\n",
       "    </tr>\n",
       "    <tr>\n",
       "      <th>6</th>\n",
       "      <td>J.D. Salinger</td>\n",
       "      <td>3.825581</td>\n",
       "    </tr>\n",
       "    <tr>\n",
       "      <th>7</th>\n",
       "      <td>Paulo Coelho/Alan R. Clarke/Özdemir İnce</td>\n",
       "      <td>3.789474</td>\n",
       "    </tr>\n",
       "    <tr>\n",
       "      <th>8</th>\n",
       "      <td>William Shakespeare/Paul Werstine/Barbara A. M...</td>\n",
       "      <td>3.787879</td>\n",
       "    </tr>\n",
       "    <tr>\n",
       "      <th>9</th>\n",
       "      <td>Dan Brown</td>\n",
       "      <td>3.754540</td>\n",
       "    </tr>\n",
       "    <tr>\n",
       "      <th>10</th>\n",
       "      <td>Lois Lowry</td>\n",
       "      <td>3.750000</td>\n",
       "    </tr>\n",
       "    <tr>\n",
       "      <th>11</th>\n",
       "      <td>George Orwell/Boris Grabnar/Peter Škerl</td>\n",
       "      <td>3.729730</td>\n",
       "    </tr>\n",
       "    <tr>\n",
       "      <th>12</th>\n",
       "      <td>Stephenie Meyer</td>\n",
       "      <td>3.662500</td>\n",
       "    </tr>\n",
       "    <tr>\n",
       "      <th>13</th>\n",
       "      <td>John Steinbeck</td>\n",
       "      <td>3.622951</td>\n",
       "    </tr>\n",
       "  </tbody>\n",
       "</table>\n",
       "</div>"
      ],
      "text/plain": [
       "                                               author       avg\n",
       "0                          J.K. Rowling/Mary GrandPré  4.283844\n",
       "1                   Markus Zusak/Cao Xuân Việt Khương  4.264151\n",
       "2                                      J.R.R. Tolkien  4.258446\n",
       "3                                   Louisa May Alcott  4.192308\n",
       "4                                        Rick Riordan  4.080645\n",
       "5                                     William Golding  3.901408\n",
       "6                                       J.D. Salinger  3.825581\n",
       "7            Paulo Coelho/Alan R. Clarke/Özdemir İnce  3.789474\n",
       "8   William Shakespeare/Paul Werstine/Barbara A. M...  3.787879\n",
       "9                                           Dan Brown  3.754540\n",
       "10                                         Lois Lowry  3.750000\n",
       "11            George Orwell/Boris Grabnar/Peter Škerl  3.729730\n",
       "12                                    Stephenie Meyer  3.662500\n",
       "13                                     John Steinbeck  3.622951"
      ]
     },
     "execution_count": 12,
     "metadata": {},
     "output_type": "execute_result"
    }
   ],
   "source": [
    "# определим автора с самой высокой средней оценкой книг — учитывайте только книги с 50 и более оценками\n",
    "aut = '''\n",
    "SELECT \n",
    "  br.author,\n",
    "  AVG(br.avg)\n",
    "  FROM \n",
    "  (\n",
    "    SELECT b.title,\n",
    "           author,\n",
    "           AVG(rating)\n",
    "           FROM books AS b\n",
    "           JOIN authors AS a ON b.author_id=a.author_id\n",
    "           JOIN ratings AS r ON b.book_id=r.book_id\n",
    "           GROUP BY b.book_id,\n",
    "                    author\n",
    "           HAVING COUNT(r.book_id) >= 50\n",
    "           ORDER BY AVG(rating) \n",
    "    ) AS br\n",
    "GROUP BY br.author\n",
    "ORDER BY AVG(br.avg) DESC\n",
    "'''\n",
    "\n",
    "ask(aut)"
   ]
  },
  {
   "cell_type": "markdown",
   "metadata": {},
   "source": [
    "Автор с самой высокой средней оценкой книг J.K. Rowling/Mary GrandPré имеет самое большое число оценок в топ-10 авторов"
   ]
  },
  {
   "cell_type": "code",
   "execution_count": 13,
   "metadata": {},
   "outputs": [
    {
     "data": {
      "text/html": [
       "<div>\n",
       "<style scoped>\n",
       "    .dataframe tbody tr th:only-of-type {\n",
       "        vertical-align: middle;\n",
       "    }\n",
       "\n",
       "    .dataframe tbody tr th {\n",
       "        vertical-align: top;\n",
       "    }\n",
       "\n",
       "    .dataframe thead th {\n",
       "        text-align: right;\n",
       "    }\n",
       "</style>\n",
       "<table border=\"1\" class=\"dataframe\">\n",
       "  <thead>\n",
       "    <tr style=\"text-align: right;\">\n",
       "      <th></th>\n",
       "      <th>avg_count</th>\n",
       "    </tr>\n",
       "  </thead>\n",
       "  <tbody>\n",
       "    <tr>\n",
       "      <th>0</th>\n",
       "      <td>24.333333</td>\n",
       "    </tr>\n",
       "  </tbody>\n",
       "</table>\n",
       "</div>"
      ],
      "text/plain": [
       "   avg_count\n",
       "0  24.333333"
      ]
     },
     "execution_count": 13,
     "metadata": {},
     "output_type": "execute_result"
    }
   ],
   "source": [
    "# считаем среднее количество обзоров от пользователей, которые поставили больше 50 оценок\n",
    "rev = '''\n",
    "SELECT\n",
    " AVG (number_of_reviews) AS AVG_count\n",
    " FROM\n",
    " (\n",
    "   SELECT\n",
    "    COUNT (review_id) AS number_of_reviews\n",
    "   FROM\n",
    "    reviews\n",
    "   INNER JOIN\n",
    "   (SELECT\n",
    "     username,\n",
    "     COUNT (rating_id) AS number_of_ratings\n",
    "    FROM\n",
    "     ratings\n",
    "    GROUP BY\n",
    "     username\n",
    "    HAVING COUNT (rating_id) > 50 ) AS ratings_users ON ratings_users.username = reviews.username\n",
    "    GROUP BY\n",
    "    reviews.username\n",
    " ) AS number_of_reviews\n",
    "'''\n",
    "ask(rev)"
   ]
  },
  {
   "cell_type": "markdown",
   "metadata": {},
   "source": [
    "Среднее количество обзоров от пользователей, которые поставили больше 50 оценок - 24"
   ]
  },
  {
   "cell_type": "markdown",
   "metadata": {},
   "source": [
    "## Ответы на задания\n",
    "\n",
    "1. После 1 января 2000 года вышла 821 книга\n",
    "2. В основном запросе к таблице books присоединяются результаты двух подзапросов с подсчетом количества обзоров и средней оценкой каждой книги.\n",
    "3. Больше всех книг толще 50 страниц выпустило издетельство \"Penguin Books\"\n",
    "4. Автор с самой высокой средней оценкой книг J.K. Rowling/Mary GrandPré имеет самое большое число оценок в топ-10 авторов\n",
    "5. Среднее количество обзоров от пользователей, которые поставили больше 50 оценок - 24"
   ]
  }
 ],
 "metadata": {
  "ExecuteTimeLog": [
   {
    "duration": 484,
    "start_time": "2022-07-28T09:37:11.551Z"
   },
   {
    "duration": 3,
    "start_time": "2022-07-28T09:37:14.164Z"
   },
   {
    "duration": 7394,
    "start_time": "2022-07-28T09:37:38.846Z"
   },
   {
    "duration": 484,
    "start_time": "2022-07-28T09:38:43.462Z"
   },
   {
    "duration": 6405,
    "start_time": "2022-07-28T09:38:43.948Z"
   },
   {
    "duration": 69,
    "start_time": "2022-07-28T09:38:50.354Z"
   },
   {
    "duration": 3,
    "start_time": "2022-07-28T09:40:31.697Z"
   },
   {
    "duration": 314,
    "start_time": "2022-07-28T09:40:47.391Z"
   },
   {
    "duration": 101,
    "start_time": "2022-07-28T10:06:05.551Z"
   },
   {
    "duration": 101,
    "start_time": "2022-07-28T10:07:17.883Z"
   },
   {
    "duration": 132,
    "start_time": "2022-07-28T10:08:01.466Z"
   },
   {
    "duration": 154,
    "start_time": "2022-07-28T10:09:39.446Z"
   },
   {
    "duration": 72,
    "start_time": "2022-07-28T10:30:05.994Z"
   },
   {
    "duration": 3,
    "start_time": "2022-07-28T10:30:16.491Z"
   },
   {
    "duration": 54,
    "start_time": "2022-07-28T10:30:19.941Z"
   },
   {
    "duration": 89,
    "start_time": "2022-07-28T10:30:25.689Z"
   },
   {
    "duration": 86,
    "start_time": "2022-07-28T10:31:05.665Z"
   },
   {
    "duration": 59,
    "start_time": "2022-07-28T10:31:22.548Z"
   },
   {
    "duration": 86,
    "start_time": "2022-07-28T10:32:52.600Z"
   },
   {
    "duration": 52,
    "start_time": "2022-07-28T10:33:29.449Z"
   },
   {
    "duration": 90,
    "start_time": "2022-07-28T10:33:40.205Z"
   },
   {
    "duration": 86,
    "start_time": "2022-07-28T10:38:59.351Z"
   },
   {
    "duration": 90,
    "start_time": "2022-07-28T10:39:43.730Z"
   },
   {
    "duration": 551,
    "start_time": "2022-07-28T10:39:49.453Z"
   },
   {
    "duration": 6959,
    "start_time": "2022-07-28T10:39:50.009Z"
   },
   {
    "duration": 3,
    "start_time": "2022-07-28T10:39:56.970Z"
   },
   {
    "duration": 340,
    "start_time": "2022-07-28T10:39:56.976Z"
   },
   {
    "duration": 84,
    "start_time": "2022-07-28T10:39:57.318Z"
   },
   {
    "duration": 83,
    "start_time": "2022-07-28T10:39:57.404Z"
   },
   {
    "duration": 127,
    "start_time": "2022-07-28T10:39:57.489Z"
   },
   {
    "duration": 113,
    "start_time": "2022-07-28T10:39:57.618Z"
   },
   {
    "duration": 75,
    "start_time": "2022-07-28T10:39:57.738Z"
   },
   {
    "duration": 100,
    "start_time": "2022-07-28T10:39:57.816Z"
   },
   {
    "duration": 299,
    "start_time": "2022-07-28T10:40:38.575Z"
   },
   {
    "duration": 98,
    "start_time": "2022-07-28T10:41:12.362Z"
   },
   {
    "duration": 100,
    "start_time": "2022-07-28T10:41:29.260Z"
   },
   {
    "duration": 92,
    "start_time": "2022-07-28T10:48:40.554Z"
   },
   {
    "duration": 103,
    "start_time": "2022-07-28T10:48:53.567Z"
   },
   {
    "duration": 95,
    "start_time": "2022-07-28T10:49:21.042Z"
   },
   {
    "duration": 103,
    "start_time": "2022-07-28T10:49:28.781Z"
   },
   {
    "duration": 108,
    "start_time": "2022-07-28T10:49:58.946Z"
   },
   {
    "duration": 98,
    "start_time": "2022-07-28T10:50:59.967Z"
   },
   {
    "duration": 75,
    "start_time": "2022-07-28T11:02:19.545Z"
   },
   {
    "duration": 118,
    "start_time": "2022-07-28T11:03:25.682Z"
   },
   {
    "duration": 104,
    "start_time": "2022-07-28T11:05:39.074Z"
   },
   {
    "duration": 116,
    "start_time": "2022-07-28T11:05:52.470Z"
   },
   {
    "duration": 136,
    "start_time": "2022-07-28T11:06:13.490Z"
   },
   {
    "duration": 606,
    "start_time": "2022-07-28T11:08:17.105Z"
   },
   {
    "duration": 9376,
    "start_time": "2022-07-28T11:08:17.714Z"
   },
   {
    "duration": 4,
    "start_time": "2022-07-28T11:08:27.092Z"
   },
   {
    "duration": 316,
    "start_time": "2022-07-28T11:08:27.098Z"
   },
   {
    "duration": 90,
    "start_time": "2022-07-28T11:08:27.416Z"
   },
   {
    "duration": 83,
    "start_time": "2022-07-28T11:08:27.508Z"
   },
   {
    "duration": 109,
    "start_time": "2022-07-28T11:08:27.593Z"
   },
   {
    "duration": 93,
    "start_time": "2022-07-28T11:08:27.704Z"
   },
   {
    "duration": 70,
    "start_time": "2022-07-28T11:08:27.799Z"
   },
   {
    "duration": 88,
    "start_time": "2022-07-28T11:08:27.873Z"
   },
   {
    "duration": 77,
    "start_time": "2022-07-28T11:08:50.420Z"
   },
   {
    "duration": 113,
    "start_time": "2022-07-28T11:08:57.177Z"
   },
   {
    "duration": 110,
    "start_time": "2022-07-28T11:10:24.434Z"
   },
   {
    "duration": 88,
    "start_time": "2022-07-28T11:10:31.191Z"
   },
   {
    "duration": 81,
    "start_time": "2022-07-28T11:14:45.486Z"
   },
   {
    "duration": 100,
    "start_time": "2022-07-28T11:17:06.468Z"
   },
   {
    "duration": 72,
    "start_time": "2022-07-28T11:22:23.037Z"
   },
   {
    "duration": 569,
    "start_time": "2022-07-28T11:27:16.320Z"
   },
   {
    "duration": 8812,
    "start_time": "2022-07-28T11:27:16.892Z"
   },
   {
    "duration": 3,
    "start_time": "2022-07-28T11:27:25.707Z"
   },
   {
    "duration": 331,
    "start_time": "2022-07-28T11:27:25.712Z"
   },
   {
    "duration": 74,
    "start_time": "2022-07-28T11:27:26.048Z"
   },
   {
    "duration": 83,
    "start_time": "2022-07-28T11:27:26.124Z"
   },
   {
    "duration": 106,
    "start_time": "2022-07-28T11:27:26.209Z"
   },
   {
    "duration": 105,
    "start_time": "2022-07-28T11:27:26.317Z"
   },
   {
    "duration": 83,
    "start_time": "2022-07-28T11:27:26.424Z"
   },
   {
    "duration": 100,
    "start_time": "2022-07-28T11:27:26.509Z"
   },
   {
    "duration": 91,
    "start_time": "2022-07-28T11:27:26.612Z"
   },
   {
    "duration": 98,
    "start_time": "2022-07-28T11:27:26.705Z"
   },
   {
    "duration": 90,
    "start_time": "2022-07-28T11:27:26.805Z"
   },
   {
    "duration": 78,
    "start_time": "2022-07-28T11:31:54.895Z"
   },
   {
    "duration": 72,
    "start_time": "2022-07-28T11:32:30.768Z"
   },
   {
    "duration": 78,
    "start_time": "2022-07-28T11:32:48.473Z"
   },
   {
    "duration": 77,
    "start_time": "2022-07-28T11:33:13.818Z"
   },
   {
    "duration": 476,
    "start_time": "2022-07-28T11:34:23.389Z"
   },
   {
    "duration": 7226,
    "start_time": "2022-07-28T11:34:23.867Z"
   },
   {
    "duration": 4,
    "start_time": "2022-07-28T11:34:31.094Z"
   },
   {
    "duration": 274,
    "start_time": "2022-07-28T11:34:31.100Z"
   },
   {
    "duration": 76,
    "start_time": "2022-07-28T11:34:31.376Z"
   },
   {
    "duration": 77,
    "start_time": "2022-07-28T11:34:31.454Z"
   },
   {
    "duration": 74,
    "start_time": "2022-07-28T11:34:31.533Z"
   },
   {
    "duration": 76,
    "start_time": "2022-07-28T11:34:31.608Z"
   },
   {
    "duration": 77,
    "start_time": "2022-07-28T11:34:31.686Z"
   },
   {
    "duration": 111,
    "start_time": "2022-07-28T11:34:31.765Z"
   },
   {
    "duration": 73,
    "start_time": "2022-07-28T11:34:31.878Z"
   },
   {
    "duration": 82,
    "start_time": "2022-07-28T11:34:31.952Z"
   },
   {
    "duration": 75,
    "start_time": "2022-07-28T11:34:32.036Z"
   },
   {
    "duration": 556,
    "start_time": "2022-07-28T11:40:27.048Z"
   },
   {
    "duration": 6957,
    "start_time": "2022-07-28T11:40:27.606Z"
   },
   {
    "duration": 3,
    "start_time": "2022-07-28T11:40:34.565Z"
   },
   {
    "duration": 228,
    "start_time": "2022-07-28T11:40:34.570Z"
   },
   {
    "duration": 67,
    "start_time": "2022-07-28T11:40:34.799Z"
   },
   {
    "duration": 69,
    "start_time": "2022-07-28T11:40:34.868Z"
   },
   {
    "duration": 69,
    "start_time": "2022-07-28T11:40:34.939Z"
   },
   {
    "duration": 65,
    "start_time": "2022-07-28T11:40:35.010Z"
   },
   {
    "duration": 64,
    "start_time": "2022-07-28T11:40:35.077Z"
   },
   {
    "duration": 101,
    "start_time": "2022-07-28T11:40:35.143Z"
   },
   {
    "duration": 67,
    "start_time": "2022-07-28T11:40:35.245Z"
   },
   {
    "duration": 69,
    "start_time": "2022-07-28T11:40:35.314Z"
   },
   {
    "duration": 69,
    "start_time": "2022-07-28T11:40:35.385Z"
   },
   {
    "duration": 610,
    "start_time": "2022-07-28T12:40:30.018Z"
   },
   {
    "duration": 19848,
    "start_time": "2022-07-28T12:40:30.630Z"
   },
   {
    "duration": 3,
    "start_time": "2022-07-28T12:40:50.480Z"
   },
   {
    "duration": 91,
    "start_time": "2022-07-28T12:40:50.485Z"
   },
   {
    "duration": 13,
    "start_time": "2022-07-28T12:40:50.578Z"
   },
   {
    "duration": 12,
    "start_time": "2022-07-28T12:40:50.593Z"
   },
   {
    "duration": 13,
    "start_time": "2022-07-28T12:40:50.607Z"
   },
   {
    "duration": 14,
    "start_time": "2022-07-28T12:40:50.622Z"
   },
   {
    "duration": 15,
    "start_time": "2022-07-28T12:40:50.637Z"
   },
   {
    "duration": 51,
    "start_time": "2022-07-28T12:40:50.654Z"
   },
   {
    "duration": 15,
    "start_time": "2022-07-28T12:40:50.707Z"
   },
   {
    "duration": 20,
    "start_time": "2022-07-28T12:40:50.724Z"
   },
   {
    "duration": 19,
    "start_time": "2022-07-28T12:40:50.746Z"
   },
   {
    "duration": 33,
    "start_time": "2022-07-28T12:43:03.395Z"
   },
   {
    "duration": 21,
    "start_time": "2022-07-28T12:43:06.927Z"
   },
   {
    "duration": 45,
    "start_time": "2022-07-28T14:25:43.501Z"
   },
   {
    "duration": 451,
    "start_time": "2022-07-28T14:25:51.330Z"
   },
   {
    "duration": 8649,
    "start_time": "2022-07-28T14:25:51.783Z"
   },
   {
    "duration": 3,
    "start_time": "2022-07-28T14:26:00.434Z"
   },
   {
    "duration": 95,
    "start_time": "2022-07-28T14:26:00.438Z"
   },
   {
    "duration": 10,
    "start_time": "2022-07-28T14:26:00.535Z"
   },
   {
    "duration": 18,
    "start_time": "2022-07-28T14:26:00.546Z"
   },
   {
    "duration": 11,
    "start_time": "2022-07-28T14:26:00.565Z"
   },
   {
    "duration": 28,
    "start_time": "2022-07-28T14:26:00.578Z"
   },
   {
    "duration": 10,
    "start_time": "2022-07-28T14:26:00.608Z"
   },
   {
    "duration": 43,
    "start_time": "2022-07-28T14:26:00.620Z"
   },
   {
    "duration": 13,
    "start_time": "2022-07-28T14:26:00.665Z"
   },
   {
    "duration": 29,
    "start_time": "2022-07-28T14:26:00.680Z"
   },
   {
    "duration": 13,
    "start_time": "2022-07-28T14:26:00.711Z"
   },
   {
    "duration": 25,
    "start_time": "2022-07-28T14:26:17.293Z"
   },
   {
    "duration": 25,
    "start_time": "2022-07-28T14:29:58.453Z"
   },
   {
    "duration": 153,
    "start_time": "2022-07-28T14:43:02.413Z"
   },
   {
    "duration": 97,
    "start_time": "2022-07-28T14:48:23.040Z"
   },
   {
    "duration": 103,
    "start_time": "2022-07-28T14:48:32.606Z"
   },
   {
    "duration": 98,
    "start_time": "2022-07-28T14:49:40.262Z"
   },
   {
    "duration": 122,
    "start_time": "2022-07-28T14:50:33.317Z"
   },
   {
    "duration": 101,
    "start_time": "2022-07-28T14:53:36.935Z"
   },
   {
    "duration": 16,
    "start_time": "2022-07-28T14:55:19.850Z"
   },
   {
    "duration": 959,
    "start_time": "2022-07-28T14:55:33.099Z"
   },
   {
    "duration": 15,
    "start_time": "2022-07-28T14:55:50.631Z"
   },
   {
    "duration": 1788,
    "start_time": "2022-07-28T14:56:39.031Z"
   },
   {
    "duration": 659,
    "start_time": "2022-07-28T14:58:40.233Z"
   },
   {
    "duration": 107,
    "start_time": "2022-07-28T15:02:02.320Z"
   },
   {
    "duration": 100,
    "start_time": "2022-07-28T15:02:34.113Z"
   },
   {
    "duration": 1046,
    "start_time": "2022-07-28T15:02:55.944Z"
   },
   {
    "duration": 1002,
    "start_time": "2022-07-28T15:04:17.949Z"
   },
   {
    "duration": 411,
    "start_time": "2022-07-28T15:05:25.554Z"
   },
   {
    "duration": 28,
    "start_time": "2022-07-28T15:13:58.447Z"
   },
   {
    "duration": 34,
    "start_time": "2022-07-28T15:14:06.221Z"
   },
   {
    "duration": 106,
    "start_time": "2022-07-28T15:21:23.855Z"
   },
   {
    "duration": 146,
    "start_time": "2022-07-28T15:25:56.637Z"
   },
   {
    "duration": 15,
    "start_time": "2022-07-28T15:28:04.923Z"
   },
   {
    "duration": 24,
    "start_time": "2022-07-28T15:38:53.762Z"
   },
   {
    "duration": 24,
    "start_time": "2022-07-28T15:44:08.353Z"
   },
   {
    "duration": 572,
    "start_time": "2022-07-28T15:46:17.160Z"
   },
   {
    "duration": 8776,
    "start_time": "2022-07-28T15:46:17.734Z"
   },
   {
    "duration": 4,
    "start_time": "2022-07-28T15:46:26.512Z"
   },
   {
    "duration": 79,
    "start_time": "2022-07-28T15:46:26.521Z"
   },
   {
    "duration": 24,
    "start_time": "2022-07-28T15:46:26.601Z"
   },
   {
    "duration": 10,
    "start_time": "2022-07-28T15:46:26.627Z"
   },
   {
    "duration": 10,
    "start_time": "2022-07-28T15:46:26.639Z"
   },
   {
    "duration": 12,
    "start_time": "2022-07-28T15:46:26.651Z"
   },
   {
    "duration": 9,
    "start_time": "2022-07-28T15:46:26.664Z"
   },
   {
    "duration": 28,
    "start_time": "2022-07-28T15:46:26.676Z"
   },
   {
    "duration": 20,
    "start_time": "2022-07-28T15:46:26.710Z"
   },
   {
    "duration": 15,
    "start_time": "2022-07-28T15:46:26.732Z"
   },
   {
    "duration": 11,
    "start_time": "2022-07-28T15:46:26.749Z"
   },
   {
    "duration": 487,
    "start_time": "2022-07-28T15:48:42.118Z"
   },
   {
    "duration": 9319,
    "start_time": "2022-07-28T15:48:42.608Z"
   },
   {
    "duration": 3,
    "start_time": "2022-07-28T15:48:51.928Z"
   },
   {
    "duration": 101,
    "start_time": "2022-07-28T15:48:51.932Z"
   },
   {
    "duration": 10,
    "start_time": "2022-07-28T15:48:52.035Z"
   },
   {
    "duration": 9,
    "start_time": "2022-07-28T15:48:52.047Z"
   },
   {
    "duration": 15,
    "start_time": "2022-07-28T15:48:52.058Z"
   },
   {
    "duration": 15,
    "start_time": "2022-07-28T15:48:52.075Z"
   },
   {
    "duration": 16,
    "start_time": "2022-07-28T15:48:52.091Z"
   },
   {
    "duration": 23,
    "start_time": "2022-07-28T15:48:52.116Z"
   },
   {
    "duration": 12,
    "start_time": "2022-07-28T15:48:52.140Z"
   },
   {
    "duration": 16,
    "start_time": "2022-07-28T15:48:52.154Z"
   },
   {
    "duration": 11,
    "start_time": "2022-07-28T15:48:52.171Z"
   },
   {
    "duration": 490,
    "start_time": "2022-07-28T19:16:33.547Z"
   },
   {
    "duration": 8495,
    "start_time": "2022-07-28T19:16:34.039Z"
   },
   {
    "duration": 3,
    "start_time": "2022-07-28T19:16:42.537Z"
   },
   {
    "duration": 241,
    "start_time": "2022-07-28T19:16:42.542Z"
   },
   {
    "duration": 71,
    "start_time": "2022-07-28T19:16:42.785Z"
   },
   {
    "duration": 66,
    "start_time": "2022-07-28T19:16:42.858Z"
   },
   {
    "duration": 65,
    "start_time": "2022-07-28T19:16:42.925Z"
   },
   {
    "duration": 64,
    "start_time": "2022-07-28T19:16:42.991Z"
   },
   {
    "duration": 63,
    "start_time": "2022-07-28T19:16:43.058Z"
   },
   {
    "duration": 96,
    "start_time": "2022-07-28T19:16:43.123Z"
   },
   {
    "duration": 66,
    "start_time": "2022-07-28T19:16:43.220Z"
   },
   {
    "duration": 69,
    "start_time": "2022-07-28T19:16:43.288Z"
   },
   {
    "duration": 66,
    "start_time": "2022-07-28T19:16:43.360Z"
   }
  ],
  "kernelspec": {
   "display_name": "Python 3 (ipykernel)",
   "language": "python",
   "name": "python3"
  },
  "language_info": {
   "codemirror_mode": {
    "name": "ipython",
    "version": 3
   },
   "file_extension": ".py",
   "mimetype": "text/x-python",
   "name": "python",
   "nbconvert_exporter": "python",
   "pygments_lexer": "ipython3",
   "version": "3.9.12"
  },
  "toc": {
   "base_numbering": 1,
   "nav_menu": {},
   "number_sections": false,
   "sideBar": true,
   "skip_h1_title": false,
   "title_cell": "Table of Contents",
   "title_sidebar": "Contents",
   "toc_cell": false,
   "toc_position": {},
   "toc_section_display": true,
   "toc_window_display": true
  }
 },
 "nbformat": 4,
 "nbformat_minor": 2
}

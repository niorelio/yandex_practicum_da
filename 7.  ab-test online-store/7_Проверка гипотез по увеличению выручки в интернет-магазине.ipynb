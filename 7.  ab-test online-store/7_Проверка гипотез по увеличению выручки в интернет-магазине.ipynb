{
 "cells": [
  {
   "cell_type": "markdown",
   "metadata": {},
   "source": [
    "## Загрузка данных"
   ]
  },
  {
   "cell_type": "code",
   "execution_count": 1,
   "metadata": {},
   "outputs": [],
   "source": [
    "# загружаем библиотеки\n",
    "import pandas as pd\n",
    "import datetime as dt\n",
    "import math\n",
    "import numpy as np\n",
    "\n",
    "import scipy.stats as stats\n",
    "from scipy import stats as st\n",
    "\n",
    "import seaborn as sns\n",
    "import matplotlib.pyplot as plt \n",
    "\n",
    "import warnings\n",
    "warnings.filterwarnings('ignore')"
   ]
  },
  {
   "cell_type": "code",
   "execution_count": 2,
   "metadata": {},
   "outputs": [],
   "source": [
    "# задаем формат таблиц\n",
    "pd.set_option('display.max_columns', None)\n",
    "pd.options.display.float_format = '{:,.2f}'.format\n",
    "pd.options.display.max_colwidth = 150 "
   ]
  },
  {
   "cell_type": "code",
   "execution_count": 3,
   "metadata": {},
   "outputs": [],
   "source": [
    "# загружаем датасеты\n",
    "try:\n",
    "    hypothesis = pd.read_csv(\n",
    "        'c:/Users/Nior/yandex.practicum_DA/educational_projects/7. Принятие решений в бизнесе/data/hypothesis.csv')\n",
    "except:\n",
    "    hypothesis = pd.read_csv('/datasets/hypothesis.csv')\n",
    "\n",
    "try:\n",
    "    orders = pd.read_csv(\n",
    "        'c:/Users/Nior/yandex.practicum_DA/educational_projects/7. Принятие решений в бизнесе/data/orders.csv')\n",
    "except:\n",
    "    orders = pd.read_csv('/datasets/orders.csv')\n",
    "\n",
    "try:\n",
    "    visitors = pd.read_csv(\n",
    "        'c:/Users/Nior/yandex.practicum_DA/educational_projects/7. Принятие решений в бизнесе/data/visitors.csv')\n",
    "except:\n",
    "    visitors = pd.read_csv('/datasets/visitors.csv')\n",
    "\n",
    "\n",
    "\n"
   ]
  },
  {
   "cell_type": "code",
   "execution_count": 4,
   "metadata": {},
   "outputs": [],
   "source": [
    "# фунция для получения общей информации о датасетах\n",
    "def get_info(df, df_name):\n",
    "    print(f'Общая информация о таблице - {df_name}')\n",
    "    display(df.head()) # выводим \"голову\" таблицы\n",
    "    print(df.info() , '\\n') # общую информацию\n",
    "    print(df.columns, '\\n') # названия столбцов\n",
    "    print(df.describe(),'\\n') # числовое описание\n",
    "    print(f'Количество NaN значений в таблице - {df_name}', '\\n') \n",
    "    print(df.isna().sum()) # количество пропусков\n",
    "    print(f'Число дубликатов в таблице - {df_name}', '\\n') \n",
    "    print(df.duplicated().sum()) # количество дубликатов"
   ]
  },
  {
   "cell_type": "code",
   "execution_count": 5,
   "metadata": {},
   "outputs": [
    {
     "name": "stdout",
     "output_type": "stream",
     "text": [
      "Общая информация о таблице - hypothesis\n"
     ]
    },
    {
     "data": {
      "text/html": [
       "<div>\n",
       "<style scoped>\n",
       "    .dataframe tbody tr th:only-of-type {\n",
       "        vertical-align: middle;\n",
       "    }\n",
       "\n",
       "    .dataframe tbody tr th {\n",
       "        vertical-align: top;\n",
       "    }\n",
       "\n",
       "    .dataframe thead th {\n",
       "        text-align: right;\n",
       "    }\n",
       "</style>\n",
       "<table border=\"1\" class=\"dataframe\">\n",
       "  <thead>\n",
       "    <tr style=\"text-align: right;\">\n",
       "      <th></th>\n",
       "      <th>Hypothesis</th>\n",
       "      <th>Reach</th>\n",
       "      <th>Impact</th>\n",
       "      <th>Confidence</th>\n",
       "      <th>Efforts</th>\n",
       "    </tr>\n",
       "  </thead>\n",
       "  <tbody>\n",
       "    <tr>\n",
       "      <th>0</th>\n",
       "      <td>Добавить два новых канала привлечения трафика, что позволит привлекать на 30% больше пользователей</td>\n",
       "      <td>3</td>\n",
       "      <td>10</td>\n",
       "      <td>8</td>\n",
       "      <td>6</td>\n",
       "    </tr>\n",
       "    <tr>\n",
       "      <th>1</th>\n",
       "      <td>Запустить собственную службу доставки, что сократит срок доставки заказов</td>\n",
       "      <td>2</td>\n",
       "      <td>5</td>\n",
       "      <td>4</td>\n",
       "      <td>10</td>\n",
       "    </tr>\n",
       "    <tr>\n",
       "      <th>2</th>\n",
       "      <td>Добавить блоки рекомендаций товаров на сайт интернет магазина, чтобы повысить конверсию и средний чек заказа</td>\n",
       "      <td>8</td>\n",
       "      <td>3</td>\n",
       "      <td>7</td>\n",
       "      <td>3</td>\n",
       "    </tr>\n",
       "    <tr>\n",
       "      <th>3</th>\n",
       "      <td>Изменить структура категорий, что увеличит конверсию, т.к. пользователи быстрее найдут нужный товар</td>\n",
       "      <td>8</td>\n",
       "      <td>3</td>\n",
       "      <td>3</td>\n",
       "      <td>8</td>\n",
       "    </tr>\n",
       "    <tr>\n",
       "      <th>4</th>\n",
       "      <td>Изменить цвет фона главной страницы, чтобы увеличить вовлеченность пользователей</td>\n",
       "      <td>3</td>\n",
       "      <td>1</td>\n",
       "      <td>1</td>\n",
       "      <td>1</td>\n",
       "    </tr>\n",
       "  </tbody>\n",
       "</table>\n",
       "</div>"
      ],
      "text/plain": [
       "                                                                                                     Hypothesis  \\\n",
       "0            Добавить два новых канала привлечения трафика, что позволит привлекать на 30% больше пользователей   \n",
       "1                                     Запустить собственную службу доставки, что сократит срок доставки заказов   \n",
       "2  Добавить блоки рекомендаций товаров на сайт интернет магазина, чтобы повысить конверсию и средний чек заказа   \n",
       "3           Изменить структура категорий, что увеличит конверсию, т.к. пользователи быстрее найдут нужный товар   \n",
       "4                              Изменить цвет фона главной страницы, чтобы увеличить вовлеченность пользователей   \n",
       "\n",
       "   Reach  Impact  Confidence  Efforts  \n",
       "0      3      10           8        6  \n",
       "1      2       5           4       10  \n",
       "2      8       3           7        3  \n",
       "3      8       3           3        8  \n",
       "4      3       1           1        1  "
      ]
     },
     "metadata": {},
     "output_type": "display_data"
    },
    {
     "name": "stdout",
     "output_type": "stream",
     "text": [
      "<class 'pandas.core.frame.DataFrame'>\n",
      "RangeIndex: 9 entries, 0 to 8\n",
      "Data columns (total 5 columns):\n",
      " #   Column      Non-Null Count  Dtype \n",
      "---  ------      --------------  ----- \n",
      " 0   Hypothesis  9 non-null      object\n",
      " 1   Reach       9 non-null      int64 \n",
      " 2   Impact      9 non-null      int64 \n",
      " 3   Confidence  9 non-null      int64 \n",
      " 4   Efforts     9 non-null      int64 \n",
      "dtypes: int64(4), object(1)\n",
      "memory usage: 488.0+ bytes\n",
      "None \n",
      "\n",
      "Index(['Hypothesis', 'Reach', 'Impact', 'Confidence', 'Efforts'], dtype='object') \n",
      "\n",
      "       Reach  Impact  Confidence  Efforts\n",
      "count   9.00    9.00        9.00     9.00\n",
      "mean    4.78    4.78        5.56     4.89\n",
      "std     3.15    3.19        3.05     2.80\n",
      "min     1.00    1.00        1.00     1.00\n",
      "25%     3.00    3.00        3.00     3.00\n",
      "50%     3.00    3.00        7.00     5.00\n",
      "75%     8.00    7.00        8.00     6.00\n",
      "max    10.00   10.00        9.00    10.00 \n",
      "\n",
      "Количество NaN значений в таблице - hypothesis \n",
      "\n",
      "Hypothesis    0\n",
      "Reach         0\n",
      "Impact        0\n",
      "Confidence    0\n",
      "Efforts       0\n",
      "dtype: int64\n",
      "Число дубликатов в таблице - hypothesis \n",
      "\n",
      "0\n"
     ]
    }
   ],
   "source": [
    "# изучаем таблицу гипотез\n",
    "get_info(hypothesis, 'hypothesis')"
   ]
  },
  {
   "cell_type": "markdown",
   "metadata": {},
   "source": [
    "В таблице 5 столбцов:\n",
    "* `object` - 1 столбец\n",
    "* `int64` - 4 столбца\n",
    "\n",
    "*В названиях столбцов смешаный регистр.*\n",
    "\n",
    "Согласно документации к данным:\n",
    "* Hypothesis — краткое описание гипотезы; \n",
    "* Reach — охват пользователей по 10-балльной шкале; \n",
    "* Impact — влияние на пользователей по 10-балльной шкале; \n",
    "* Confidence — уверенность в гипотезе по 10-балльной шкале; \n",
    "* Efforts — затраты ресурсов на проверку гипотезы по 10-балльной шкале. Чем больше значение Efforts, тем дороже проверка гипотезы.\n",
    "\n",
    "Таблица содержит 9 строк, не имеет пропусков и дубликатов."
   ]
  },
  {
   "cell_type": "code",
   "execution_count": 6,
   "metadata": {},
   "outputs": [
    {
     "name": "stdout",
     "output_type": "stream",
     "text": [
      "Общая информация о таблице - orders\n"
     ]
    },
    {
     "data": {
      "text/html": [
       "<div>\n",
       "<style scoped>\n",
       "    .dataframe tbody tr th:only-of-type {\n",
       "        vertical-align: middle;\n",
       "    }\n",
       "\n",
       "    .dataframe tbody tr th {\n",
       "        vertical-align: top;\n",
       "    }\n",
       "\n",
       "    .dataframe thead th {\n",
       "        text-align: right;\n",
       "    }\n",
       "</style>\n",
       "<table border=\"1\" class=\"dataframe\">\n",
       "  <thead>\n",
       "    <tr style=\"text-align: right;\">\n",
       "      <th></th>\n",
       "      <th>transactionId</th>\n",
       "      <th>visitorId</th>\n",
       "      <th>date</th>\n",
       "      <th>revenue</th>\n",
       "      <th>group</th>\n",
       "    </tr>\n",
       "  </thead>\n",
       "  <tbody>\n",
       "    <tr>\n",
       "      <th>0</th>\n",
       "      <td>3667963787</td>\n",
       "      <td>3312258926</td>\n",
       "      <td>2019-08-15</td>\n",
       "      <td>1650</td>\n",
       "      <td>B</td>\n",
       "    </tr>\n",
       "    <tr>\n",
       "      <th>1</th>\n",
       "      <td>2804400009</td>\n",
       "      <td>3642806036</td>\n",
       "      <td>2019-08-15</td>\n",
       "      <td>730</td>\n",
       "      <td>B</td>\n",
       "    </tr>\n",
       "    <tr>\n",
       "      <th>2</th>\n",
       "      <td>2961555356</td>\n",
       "      <td>4069496402</td>\n",
       "      <td>2019-08-15</td>\n",
       "      <td>400</td>\n",
       "      <td>A</td>\n",
       "    </tr>\n",
       "    <tr>\n",
       "      <th>3</th>\n",
       "      <td>3797467345</td>\n",
       "      <td>1196621759</td>\n",
       "      <td>2019-08-15</td>\n",
       "      <td>9759</td>\n",
       "      <td>B</td>\n",
       "    </tr>\n",
       "    <tr>\n",
       "      <th>4</th>\n",
       "      <td>2282983706</td>\n",
       "      <td>2322279887</td>\n",
       "      <td>2019-08-15</td>\n",
       "      <td>2308</td>\n",
       "      <td>B</td>\n",
       "    </tr>\n",
       "  </tbody>\n",
       "</table>\n",
       "</div>"
      ],
      "text/plain": [
       "   transactionId   visitorId        date  revenue group\n",
       "0     3667963787  3312258926  2019-08-15     1650     B\n",
       "1     2804400009  3642806036  2019-08-15      730     B\n",
       "2     2961555356  4069496402  2019-08-15      400     A\n",
       "3     3797467345  1196621759  2019-08-15     9759     B\n",
       "4     2282983706  2322279887  2019-08-15     2308     B"
      ]
     },
     "metadata": {},
     "output_type": "display_data"
    },
    {
     "name": "stdout",
     "output_type": "stream",
     "text": [
      "<class 'pandas.core.frame.DataFrame'>\n",
      "RangeIndex: 1197 entries, 0 to 1196\n",
      "Data columns (total 5 columns):\n",
      " #   Column         Non-Null Count  Dtype \n",
      "---  ------         --------------  ----- \n",
      " 0   transactionId  1197 non-null   int64 \n",
      " 1   visitorId      1197 non-null   int64 \n",
      " 2   date           1197 non-null   object\n",
      " 3   revenue        1197 non-null   int64 \n",
      " 4   group          1197 non-null   object\n",
      "dtypes: int64(3), object(2)\n",
      "memory usage: 46.9+ KB\n",
      "None \n",
      "\n",
      "Index(['transactionId', 'visitorId', 'date', 'revenue', 'group'], dtype='object') \n",
      "\n",
      "         transactionId        visitorId      revenue\n",
      "count         1,197.00         1,197.00     1,197.00\n",
      "mean  2,155,621,385.53 2,165,960,143.10     8,348.01\n",
      "std   1,229,084,904.76 1,236,014,192.15    39,191.13\n",
      "min       1,062,393.00     5,114,589.00        50.00\n",
      "25%   1,166,775,572.00 1,111,826,046.00     1,220.00\n",
      "50%   2,145,193,898.00 2,217,984,702.00     2,978.00\n",
      "75%   3,237,740,112.00 3,177,606,451.00     8,290.00\n",
      "max   4,293,855,558.00 4,283,872,382.00 1,294,500.00 \n",
      "\n",
      "Количество NaN значений в таблице - orders \n",
      "\n",
      "transactionId    0\n",
      "visitorId        0\n",
      "date             0\n",
      "revenue          0\n",
      "group            0\n",
      "dtype: int64\n",
      "Число дубликатов в таблице - orders \n",
      "\n",
      "0\n"
     ]
    }
   ],
   "source": [
    "# изучаем таблицу заказов\n",
    "get_info(orders, 'orders')"
   ]
  },
  {
   "cell_type": "code",
   "execution_count": 7,
   "metadata": {},
   "outputs": [
    {
     "name": "stdout",
     "output_type": "stream",
     "text": [
      "Количество пользователей, которые есть в обоих группах:  58\n",
      "Всего уникальных пользователей:  1031\n"
     ]
    }
   ],
   "source": [
    "# проверим могут ли быть пользователи в двух группах одновременно\n",
    "print('Количество пользователей, которые есть в обоих группах: ',len(orders.groupby('visitorId').agg(\n",
    "    {'group':'nunique'}\n",
    ").query('group > 1')))\n",
    "print('Всего уникальных пользователей: ', orders['visitorId'].nunique())"
   ]
  },
  {
   "cell_type": "markdown",
   "metadata": {},
   "source": [
    "В таблице 5 столбцов:\n",
    "* `int64` - 3 столбца\n",
    "* `object` - 2 столбца\n",
    "\n",
    "*Смешаный регистр в названиях столбцов, дата в формате object.*\n",
    "\n",
    "Согласно документации к данным:\n",
    "* transactionId — идентификатор заказа; \n",
    "* visitorId — идентификатор пользователя, совершившего заказ; \n",
    "* date — дата, когда был совершён заказ; \n",
    "* revenue — выручка заказа; group — группа A/B-теста, в которую попал заказ.\n",
    "\n",
    "Таблица содержит 1197 строк, пропуски отсутствуют. Обнаружены неявные дубликаты 58 строк из пользователей, попавших в 2 группы, что составляет 5,63% от количества уникальных пользователей. Большой значимости они не несут, но удаление может нарушить связь с visitors. *Спросить у коллег как так вышло.*"
   ]
  },
  {
   "cell_type": "code",
   "execution_count": 8,
   "metadata": {},
   "outputs": [
    {
     "name": "stdout",
     "output_type": "stream",
     "text": [
      "Общая информация о таблице - visitors\n"
     ]
    },
    {
     "data": {
      "text/html": [
       "<div>\n",
       "<style scoped>\n",
       "    .dataframe tbody tr th:only-of-type {\n",
       "        vertical-align: middle;\n",
       "    }\n",
       "\n",
       "    .dataframe tbody tr th {\n",
       "        vertical-align: top;\n",
       "    }\n",
       "\n",
       "    .dataframe thead th {\n",
       "        text-align: right;\n",
       "    }\n",
       "</style>\n",
       "<table border=\"1\" class=\"dataframe\">\n",
       "  <thead>\n",
       "    <tr style=\"text-align: right;\">\n",
       "      <th></th>\n",
       "      <th>date</th>\n",
       "      <th>group</th>\n",
       "      <th>visitors</th>\n",
       "    </tr>\n",
       "  </thead>\n",
       "  <tbody>\n",
       "    <tr>\n",
       "      <th>0</th>\n",
       "      <td>2019-08-01</td>\n",
       "      <td>A</td>\n",
       "      <td>719</td>\n",
       "    </tr>\n",
       "    <tr>\n",
       "      <th>1</th>\n",
       "      <td>2019-08-02</td>\n",
       "      <td>A</td>\n",
       "      <td>619</td>\n",
       "    </tr>\n",
       "    <tr>\n",
       "      <th>2</th>\n",
       "      <td>2019-08-03</td>\n",
       "      <td>A</td>\n",
       "      <td>507</td>\n",
       "    </tr>\n",
       "    <tr>\n",
       "      <th>3</th>\n",
       "      <td>2019-08-04</td>\n",
       "      <td>A</td>\n",
       "      <td>717</td>\n",
       "    </tr>\n",
       "    <tr>\n",
       "      <th>4</th>\n",
       "      <td>2019-08-05</td>\n",
       "      <td>A</td>\n",
       "      <td>756</td>\n",
       "    </tr>\n",
       "  </tbody>\n",
       "</table>\n",
       "</div>"
      ],
      "text/plain": [
       "         date group  visitors\n",
       "0  2019-08-01     A       719\n",
       "1  2019-08-02     A       619\n",
       "2  2019-08-03     A       507\n",
       "3  2019-08-04     A       717\n",
       "4  2019-08-05     A       756"
      ]
     },
     "metadata": {},
     "output_type": "display_data"
    },
    {
     "name": "stdout",
     "output_type": "stream",
     "text": [
      "<class 'pandas.core.frame.DataFrame'>\n",
      "RangeIndex: 62 entries, 0 to 61\n",
      "Data columns (total 3 columns):\n",
      " #   Column    Non-Null Count  Dtype \n",
      "---  ------    --------------  ----- \n",
      " 0   date      62 non-null     object\n",
      " 1   group     62 non-null     object\n",
      " 2   visitors  62 non-null     int64 \n",
      "dtypes: int64(1), object(2)\n",
      "memory usage: 1.6+ KB\n",
      "None \n",
      "\n",
      "Index(['date', 'group', 'visitors'], dtype='object') \n",
      "\n",
      "       visitors\n",
      "count     62.00\n",
      "mean     607.29\n",
      "std      114.40\n",
      "min      361.00\n",
      "25%      534.00\n",
      "50%      624.50\n",
      "75%      710.50\n",
      "max      770.00 \n",
      "\n",
      "Количество NaN значений в таблице - visitors \n",
      "\n",
      "date        0\n",
      "group       0\n",
      "visitors    0\n",
      "dtype: int64\n",
      "Число дубликатов в таблице - visitors \n",
      "\n",
      "0\n"
     ]
    }
   ],
   "source": [
    "# изучаем таблицу посетителей\n",
    "get_info(visitors, 'visitors')"
   ]
  },
  {
   "cell_type": "markdown",
   "metadata": {},
   "source": [
    "В таблице 3 столбца:\n",
    "* `int64` - 1 столбца\n",
    "* `object` - 2 столбца\n",
    "\n",
    "*Дата в формате object.*\n",
    "\n",
    "Согласно документации к данным:\n",
    "* date — дата; \n",
    "* group — группа A/B-теста; \n",
    "* visitors — количество пользователей в указанную дату в указанной группе A/B-теста\n",
    "\n",
    "Таблица содержит 62 строки, дубликаты и пропуски отсутствуют."
   ]
  },
  {
   "cell_type": "markdown",
   "metadata": {},
   "source": [
    "## Предобработка данных"
   ]
  },
  {
   "cell_type": "code",
   "execution_count": 9,
   "metadata": {},
   "outputs": [
    {
     "data": {
      "text/html": [
       "<div>\n",
       "<style scoped>\n",
       "    .dataframe tbody tr th:only-of-type {\n",
       "        vertical-align: middle;\n",
       "    }\n",
       "\n",
       "    .dataframe tbody tr th {\n",
       "        vertical-align: top;\n",
       "    }\n",
       "\n",
       "    .dataframe thead th {\n",
       "        text-align: right;\n",
       "    }\n",
       "</style>\n",
       "<table border=\"1\" class=\"dataframe\">\n",
       "  <thead>\n",
       "    <tr style=\"text-align: right;\">\n",
       "      <th></th>\n",
       "      <th>hypothesis</th>\n",
       "      <th>reach</th>\n",
       "      <th>impact</th>\n",
       "      <th>confidence</th>\n",
       "      <th>efforts</th>\n",
       "    </tr>\n",
       "  </thead>\n",
       "  <tbody>\n",
       "    <tr>\n",
       "      <th>0</th>\n",
       "      <td>Добавить два новых канала привлечения трафика, что позволит привлекать на 30% больше пользователей</td>\n",
       "      <td>3</td>\n",
       "      <td>10</td>\n",
       "      <td>8</td>\n",
       "      <td>6</td>\n",
       "    </tr>\n",
       "    <tr>\n",
       "      <th>1</th>\n",
       "      <td>Запустить собственную службу доставки, что сократит срок доставки заказов</td>\n",
       "      <td>2</td>\n",
       "      <td>5</td>\n",
       "      <td>4</td>\n",
       "      <td>10</td>\n",
       "    </tr>\n",
       "    <tr>\n",
       "      <th>2</th>\n",
       "      <td>Добавить блоки рекомендаций товаров на сайт интернет магазина, чтобы повысить конверсию и средний чек заказа</td>\n",
       "      <td>8</td>\n",
       "      <td>3</td>\n",
       "      <td>7</td>\n",
       "      <td>3</td>\n",
       "    </tr>\n",
       "    <tr>\n",
       "      <th>3</th>\n",
       "      <td>Изменить структура категорий, что увеличит конверсию, т.к. пользователи быстрее найдут нужный товар</td>\n",
       "      <td>8</td>\n",
       "      <td>3</td>\n",
       "      <td>3</td>\n",
       "      <td>8</td>\n",
       "    </tr>\n",
       "    <tr>\n",
       "      <th>4</th>\n",
       "      <td>Изменить цвет фона главной страницы, чтобы увеличить вовлеченность пользователей</td>\n",
       "      <td>3</td>\n",
       "      <td>1</td>\n",
       "      <td>1</td>\n",
       "      <td>1</td>\n",
       "    </tr>\n",
       "  </tbody>\n",
       "</table>\n",
       "</div>"
      ],
      "text/plain": [
       "                                                                                                     hypothesis  \\\n",
       "0            Добавить два новых канала привлечения трафика, что позволит привлекать на 30% больше пользователей   \n",
       "1                                     Запустить собственную службу доставки, что сократит срок доставки заказов   \n",
       "2  Добавить блоки рекомендаций товаров на сайт интернет магазина, чтобы повысить конверсию и средний чек заказа   \n",
       "3           Изменить структура категорий, что увеличит конверсию, т.к. пользователи быстрее найдут нужный товар   \n",
       "4                              Изменить цвет фона главной страницы, чтобы увеличить вовлеченность пользователей   \n",
       "\n",
       "   reach  impact  confidence  efforts  \n",
       "0      3      10           8        6  \n",
       "1      2       5           4       10  \n",
       "2      8       3           7        3  \n",
       "3      8       3           3        8  \n",
       "4      3       1           1        1  "
      ]
     },
     "execution_count": 9,
     "metadata": {},
     "output_type": "execute_result"
    }
   ],
   "source": [
    "# поправим названия колонок в таблице гипотез\n",
    "hypothesis.columns = [x.lower() for x in hypothesis.columns]\n",
    "hypothesis.head()"
   ]
  },
  {
   "cell_type": "code",
   "execution_count": 10,
   "metadata": {},
   "outputs": [
    {
     "data": {
      "text/html": [
       "<div>\n",
       "<style scoped>\n",
       "    .dataframe tbody tr th:only-of-type {\n",
       "        vertical-align: middle;\n",
       "    }\n",
       "\n",
       "    .dataframe tbody tr th {\n",
       "        vertical-align: top;\n",
       "    }\n",
       "\n",
       "    .dataframe thead th {\n",
       "        text-align: right;\n",
       "    }\n",
       "</style>\n",
       "<table border=\"1\" class=\"dataframe\">\n",
       "  <thead>\n",
       "    <tr style=\"text-align: right;\">\n",
       "      <th></th>\n",
       "      <th>transaction_id</th>\n",
       "      <th>visitor_id</th>\n",
       "      <th>date</th>\n",
       "      <th>revenue</th>\n",
       "      <th>group</th>\n",
       "    </tr>\n",
       "  </thead>\n",
       "  <tbody>\n",
       "    <tr>\n",
       "      <th>0</th>\n",
       "      <td>3667963787</td>\n",
       "      <td>3312258926</td>\n",
       "      <td>2019-08-15</td>\n",
       "      <td>1650</td>\n",
       "      <td>B</td>\n",
       "    </tr>\n",
       "    <tr>\n",
       "      <th>1</th>\n",
       "      <td>2804400009</td>\n",
       "      <td>3642806036</td>\n",
       "      <td>2019-08-15</td>\n",
       "      <td>730</td>\n",
       "      <td>B</td>\n",
       "    </tr>\n",
       "    <tr>\n",
       "      <th>2</th>\n",
       "      <td>2961555356</td>\n",
       "      <td>4069496402</td>\n",
       "      <td>2019-08-15</td>\n",
       "      <td>400</td>\n",
       "      <td>A</td>\n",
       "    </tr>\n",
       "    <tr>\n",
       "      <th>3</th>\n",
       "      <td>3797467345</td>\n",
       "      <td>1196621759</td>\n",
       "      <td>2019-08-15</td>\n",
       "      <td>9759</td>\n",
       "      <td>B</td>\n",
       "    </tr>\n",
       "    <tr>\n",
       "      <th>4</th>\n",
       "      <td>2282983706</td>\n",
       "      <td>2322279887</td>\n",
       "      <td>2019-08-15</td>\n",
       "      <td>2308</td>\n",
       "      <td>B</td>\n",
       "    </tr>\n",
       "  </tbody>\n",
       "</table>\n",
       "</div>"
      ],
      "text/plain": [
       "   transaction_id  visitor_id        date  revenue group\n",
       "0      3667963787  3312258926  2019-08-15     1650     B\n",
       "1      2804400009  3642806036  2019-08-15      730     B\n",
       "2      2961555356  4069496402  2019-08-15      400     A\n",
       "3      3797467345  1196621759  2019-08-15     9759     B\n",
       "4      2282983706  2322279887  2019-08-15     2308     B"
      ]
     },
     "execution_count": 10,
     "metadata": {},
     "output_type": "execute_result"
    }
   ],
   "source": [
    "# поправим названия колонок в таблице заказов\n",
    "orders.columns = [x.lower().replace('id', '_id') for x in orders.columns]\n",
    "orders.head()"
   ]
  },
  {
   "cell_type": "code",
   "execution_count": 11,
   "metadata": {},
   "outputs": [
    {
     "name": "stdout",
     "output_type": "stream",
     "text": [
      "<class 'pandas.core.frame.DataFrame'>\n",
      "RangeIndex: 1197 entries, 0 to 1196\n",
      "Data columns (total 5 columns):\n",
      " #   Column          Non-Null Count  Dtype         \n",
      "---  ------          --------------  -----         \n",
      " 0   transaction_id  1197 non-null   int64         \n",
      " 1   visitor_id      1197 non-null   int64         \n",
      " 2   date            1197 non-null   datetime64[ns]\n",
      " 3   revenue         1197 non-null   int64         \n",
      " 4   group           1197 non-null   object        \n",
      "dtypes: datetime64[ns](1), int64(3), object(1)\n",
      "memory usage: 46.9+ KB\n"
     ]
    }
   ],
   "source": [
    "# исправляем даты\n",
    "orders['date'] = orders['date'].map(lambda x: dt.datetime.strptime(x, '%Y-%m-%d'))\n",
    "visitors['date'] = visitors['date'].map(lambda x: dt.datetime.strptime(x, '%Y-%m-%d'))\n",
    "# проверяем формат в заказах\n",
    "orders.info()"
   ]
  },
  {
   "cell_type": "code",
   "execution_count": 12,
   "metadata": {},
   "outputs": [
    {
     "name": "stdout",
     "output_type": "stream",
     "text": [
      "<class 'pandas.core.frame.DataFrame'>\n",
      "RangeIndex: 62 entries, 0 to 61\n",
      "Data columns (total 3 columns):\n",
      " #   Column    Non-Null Count  Dtype         \n",
      "---  ------    --------------  -----         \n",
      " 0   date      62 non-null     datetime64[ns]\n",
      " 1   group     62 non-null     object        \n",
      " 2   visitors  62 non-null     int64         \n",
      "dtypes: datetime64[ns](1), int64(1), object(1)\n",
      "memory usage: 1.6+ KB\n"
     ]
    }
   ],
   "source": [
    "# проверяем формат в посетителях\n",
    "visitors.info()"
   ]
  },
  {
   "cell_type": "markdown",
   "metadata": {},
   "source": [
    "### Выводы о предобратотке данных"
   ]
  },
  {
   "cell_type": "markdown",
   "metadata": {},
   "source": [
    "* изучили данные датасетов\n",
    "\n",
    "* обнаружили и иправили следующие проблемы: смешаный регистр в названиях столбцов, дата в формате object, неявные дубликаты 5%\n",
    "\n",
    "* пропуски в таблицах отсутствуют"
   ]
  },
  {
   "cell_type": "markdown",
   "metadata": {},
   "source": [
    "## Приоритизация гипотез"
   ]
  },
  {
   "cell_type": "markdown",
   "metadata": {},
   "source": [
    "### Фреймворк ICE для приоритизации гипотез. "
   ]
  },
  {
   "cell_type": "code",
   "execution_count": 13,
   "metadata": {},
   "outputs": [],
   "source": [
    "# считаем ICE для приоритизации гипотез\n",
    "hypothesis['ICE'] = hypothesis['impact'] * hypothesis['confidence'] / hypothesis['efforts']"
   ]
  },
  {
   "cell_type": "code",
   "execution_count": 14,
   "metadata": {},
   "outputs": [
    {
     "data": {
      "text/html": [
       "<div>\n",
       "<style scoped>\n",
       "    .dataframe tbody tr th:only-of-type {\n",
       "        vertical-align: middle;\n",
       "    }\n",
       "\n",
       "    .dataframe tbody tr th {\n",
       "        vertical-align: top;\n",
       "    }\n",
       "\n",
       "    .dataframe thead th {\n",
       "        text-align: right;\n",
       "    }\n",
       "</style>\n",
       "<table border=\"1\" class=\"dataframe\">\n",
       "  <thead>\n",
       "    <tr style=\"text-align: right;\">\n",
       "      <th></th>\n",
       "      <th>hypothesis</th>\n",
       "      <th>reach</th>\n",
       "      <th>impact</th>\n",
       "      <th>confidence</th>\n",
       "      <th>efforts</th>\n",
       "      <th>ICE</th>\n",
       "    </tr>\n",
       "  </thead>\n",
       "  <tbody>\n",
       "    <tr>\n",
       "      <th>8</th>\n",
       "      <td>Запустить акцию, дающую скидку на товар в день рождения</td>\n",
       "      <td>1</td>\n",
       "      <td>9</td>\n",
       "      <td>9</td>\n",
       "      <td>5</td>\n",
       "      <td>16.20</td>\n",
       "    </tr>\n",
       "    <tr>\n",
       "      <th>0</th>\n",
       "      <td>Добавить два новых канала привлечения трафика, что позволит привлекать на 30% больше пользователей</td>\n",
       "      <td>3</td>\n",
       "      <td>10</td>\n",
       "      <td>8</td>\n",
       "      <td>6</td>\n",
       "      <td>13.33</td>\n",
       "    </tr>\n",
       "    <tr>\n",
       "      <th>7</th>\n",
       "      <td>Добавить форму подписки на все основные страницы, чтобы собрать базу клиентов для email-рассылок</td>\n",
       "      <td>10</td>\n",
       "      <td>7</td>\n",
       "      <td>8</td>\n",
       "      <td>5</td>\n",
       "      <td>11.20</td>\n",
       "    </tr>\n",
       "    <tr>\n",
       "      <th>6</th>\n",
       "      <td>Показать на главной странице баннеры с актуальными акциями и распродажами, чтобы увеличить конверсию</td>\n",
       "      <td>5</td>\n",
       "      <td>3</td>\n",
       "      <td>8</td>\n",
       "      <td>3</td>\n",
       "      <td>8.00</td>\n",
       "    </tr>\n",
       "    <tr>\n",
       "      <th>2</th>\n",
       "      <td>Добавить блоки рекомендаций товаров на сайт интернет магазина, чтобы повысить конверсию и средний чек заказа</td>\n",
       "      <td>8</td>\n",
       "      <td>3</td>\n",
       "      <td>7</td>\n",
       "      <td>3</td>\n",
       "      <td>7.00</td>\n",
       "    </tr>\n",
       "    <tr>\n",
       "      <th>1</th>\n",
       "      <td>Запустить собственную службу доставки, что сократит срок доставки заказов</td>\n",
       "      <td>2</td>\n",
       "      <td>5</td>\n",
       "      <td>4</td>\n",
       "      <td>10</td>\n",
       "      <td>2.00</td>\n",
       "    </tr>\n",
       "    <tr>\n",
       "      <th>5</th>\n",
       "      <td>Добавить страницу отзывов клиентов о магазине, что позволит увеличить количество заказов</td>\n",
       "      <td>3</td>\n",
       "      <td>2</td>\n",
       "      <td>2</td>\n",
       "      <td>3</td>\n",
       "      <td>1.33</td>\n",
       "    </tr>\n",
       "    <tr>\n",
       "      <th>3</th>\n",
       "      <td>Изменить структура категорий, что увеличит конверсию, т.к. пользователи быстрее найдут нужный товар</td>\n",
       "      <td>8</td>\n",
       "      <td>3</td>\n",
       "      <td>3</td>\n",
       "      <td>8</td>\n",
       "      <td>1.12</td>\n",
       "    </tr>\n",
       "    <tr>\n",
       "      <th>4</th>\n",
       "      <td>Изменить цвет фона главной страницы, чтобы увеличить вовлеченность пользователей</td>\n",
       "      <td>3</td>\n",
       "      <td>1</td>\n",
       "      <td>1</td>\n",
       "      <td>1</td>\n",
       "      <td>1.00</td>\n",
       "    </tr>\n",
       "  </tbody>\n",
       "</table>\n",
       "</div>"
      ],
      "text/plain": [
       "                                                                                                     hypothesis  \\\n",
       "8                                                       Запустить акцию, дающую скидку на товар в день рождения   \n",
       "0            Добавить два новых канала привлечения трафика, что позволит привлекать на 30% больше пользователей   \n",
       "7              Добавить форму подписки на все основные страницы, чтобы собрать базу клиентов для email-рассылок   \n",
       "6          Показать на главной странице баннеры с актуальными акциями и распродажами, чтобы увеличить конверсию   \n",
       "2  Добавить блоки рекомендаций товаров на сайт интернет магазина, чтобы повысить конверсию и средний чек заказа   \n",
       "1                                     Запустить собственную службу доставки, что сократит срок доставки заказов   \n",
       "5                      Добавить страницу отзывов клиентов о магазине, что позволит увеличить количество заказов   \n",
       "3           Изменить структура категорий, что увеличит конверсию, т.к. пользователи быстрее найдут нужный товар   \n",
       "4                              Изменить цвет фона главной страницы, чтобы увеличить вовлеченность пользователей   \n",
       "\n",
       "   reach  impact  confidence  efforts   ICE  \n",
       "8      1       9           9        5 16.20  \n",
       "0      3      10           8        6 13.33  \n",
       "7     10       7           8        5 11.20  \n",
       "6      5       3           8        3  8.00  \n",
       "2      8       3           7        3  7.00  \n",
       "1      2       5           4       10  2.00  \n",
       "5      3       2           2        3  1.33  \n",
       "3      8       3           3        8  1.12  \n",
       "4      3       1           1        1  1.00  "
      ]
     },
     "execution_count": 14,
     "metadata": {},
     "output_type": "execute_result"
    }
   ],
   "source": [
    "# отсортируем их по убыванию приоритета\n",
    "hypothesis_ice = hypothesis.sort_values('ICE', ascending=False)\n",
    "hypothesis_ice"
   ]
  },
  {
   "cell_type": "code",
   "execution_count": 15,
   "metadata": {},
   "outputs": [
    {
     "data": {
      "image/png": "[encoded data removed]",
      "text/plain": [
       "<Figure size 432x288 with 1 Axes>"
      ]
     },
     "metadata": {
      "needs_background": "light"
     },
     "output_type": "display_data"
    }
   ],
   "source": [
    "# смотрим приоритеты на графике\n",
    "ax = hypothesis[['hypothesis', 'ICE']].set_index('hypothesis').sort_values('ICE', ascending=True).plot(kind='barh')\n",
    "ax.set_xlabel('Приоритет')\n",
    "ax.set_ylabel('Гипотеза')\n",
    "ax.set_title('ICE')\n",
    "plt.show()"
   ]
  },
  {
   "cell_type": "markdown",
   "metadata": {},
   "source": [
    "По методу ICE самыми перспективными гипотезами явлются 8, 0 и 7, самой бесперспективной 4."
   ]
  },
  {
   "cell_type": "markdown",
   "metadata": {},
   "source": [
    "### Фреймворк RICE для приоритизации гипотез. "
   ]
  },
  {
   "cell_type": "code",
   "execution_count": 16,
   "metadata": {},
   "outputs": [],
   "source": [
    "# считаем RICE для приоритизации гипотез\n",
    "hypothesis['RICE'] = hypothesis['reach'] * hypothesis['impact'] * hypothesis['confidence'] / hypothesis['efforts']"
   ]
  },
  {
   "cell_type": "code",
   "execution_count": 17,
   "metadata": {},
   "outputs": [
    {
     "data": {
      "text/html": [
       "<div>\n",
       "<style scoped>\n",
       "    .dataframe tbody tr th:only-of-type {\n",
       "        vertical-align: middle;\n",
       "    }\n",
       "\n",
       "    .dataframe tbody tr th {\n",
       "        vertical-align: top;\n",
       "    }\n",
       "\n",
       "    .dataframe thead th {\n",
       "        text-align: right;\n",
       "    }\n",
       "</style>\n",
       "<table border=\"1\" class=\"dataframe\">\n",
       "  <thead>\n",
       "    <tr style=\"text-align: right;\">\n",
       "      <th></th>\n",
       "      <th>hypothesis</th>\n",
       "      <th>reach</th>\n",
       "      <th>impact</th>\n",
       "      <th>confidence</th>\n",
       "      <th>efforts</th>\n",
       "      <th>ICE</th>\n",
       "      <th>RICE</th>\n",
       "    </tr>\n",
       "  </thead>\n",
       "  <tbody>\n",
       "    <tr>\n",
       "      <th>7</th>\n",
       "      <td>Добавить форму подписки на все основные страницы, чтобы собрать базу клиентов для email-рассылок</td>\n",
       "      <td>10</td>\n",
       "      <td>7</td>\n",
       "      <td>8</td>\n",
       "      <td>5</td>\n",
       "      <td>11.20</td>\n",
       "      <td>112.00</td>\n",
       "    </tr>\n",
       "    <tr>\n",
       "      <th>2</th>\n",
       "      <td>Добавить блоки рекомендаций товаров на сайт интернет магазина, чтобы повысить конверсию и средний чек заказа</td>\n",
       "      <td>8</td>\n",
       "      <td>3</td>\n",
       "      <td>7</td>\n",
       "      <td>3</td>\n",
       "      <td>7.00</td>\n",
       "      <td>56.00</td>\n",
       "    </tr>\n",
       "    <tr>\n",
       "      <th>0</th>\n",
       "      <td>Добавить два новых канала привлечения трафика, что позволит привлекать на 30% больше пользователей</td>\n",
       "      <td>3</td>\n",
       "      <td>10</td>\n",
       "      <td>8</td>\n",
       "      <td>6</td>\n",
       "      <td>13.33</td>\n",
       "      <td>40.00</td>\n",
       "    </tr>\n",
       "    <tr>\n",
       "      <th>6</th>\n",
       "      <td>Показать на главной странице баннеры с актуальными акциями и распродажами, чтобы увеличить конверсию</td>\n",
       "      <td>5</td>\n",
       "      <td>3</td>\n",
       "      <td>8</td>\n",
       "      <td>3</td>\n",
       "      <td>8.00</td>\n",
       "      <td>40.00</td>\n",
       "    </tr>\n",
       "    <tr>\n",
       "      <th>8</th>\n",
       "      <td>Запустить акцию, дающую скидку на товар в день рождения</td>\n",
       "      <td>1</td>\n",
       "      <td>9</td>\n",
       "      <td>9</td>\n",
       "      <td>5</td>\n",
       "      <td>16.20</td>\n",
       "      <td>16.20</td>\n",
       "    </tr>\n",
       "    <tr>\n",
       "      <th>3</th>\n",
       "      <td>Изменить структура категорий, что увеличит конверсию, т.к. пользователи быстрее найдут нужный товар</td>\n",
       "      <td>8</td>\n",
       "      <td>3</td>\n",
       "      <td>3</td>\n",
       "      <td>8</td>\n",
       "      <td>1.12</td>\n",
       "      <td>9.00</td>\n",
       "    </tr>\n",
       "    <tr>\n",
       "      <th>1</th>\n",
       "      <td>Запустить собственную службу доставки, что сократит срок доставки заказов</td>\n",
       "      <td>2</td>\n",
       "      <td>5</td>\n",
       "      <td>4</td>\n",
       "      <td>10</td>\n",
       "      <td>2.00</td>\n",
       "      <td>4.00</td>\n",
       "    </tr>\n",
       "    <tr>\n",
       "      <th>5</th>\n",
       "      <td>Добавить страницу отзывов клиентов о магазине, что позволит увеличить количество заказов</td>\n",
       "      <td>3</td>\n",
       "      <td>2</td>\n",
       "      <td>2</td>\n",
       "      <td>3</td>\n",
       "      <td>1.33</td>\n",
       "      <td>4.00</td>\n",
       "    </tr>\n",
       "    <tr>\n",
       "      <th>4</th>\n",
       "      <td>Изменить цвет фона главной страницы, чтобы увеличить вовлеченность пользователей</td>\n",
       "      <td>3</td>\n",
       "      <td>1</td>\n",
       "      <td>1</td>\n",
       "      <td>1</td>\n",
       "      <td>1.00</td>\n",
       "      <td>3.00</td>\n",
       "    </tr>\n",
       "  </tbody>\n",
       "</table>\n",
       "</div>"
      ],
      "text/plain": [
       "                                                                                                     hypothesis  \\\n",
       "7              Добавить форму подписки на все основные страницы, чтобы собрать базу клиентов для email-рассылок   \n",
       "2  Добавить блоки рекомендаций товаров на сайт интернет магазина, чтобы повысить конверсию и средний чек заказа   \n",
       "0            Добавить два новых канала привлечения трафика, что позволит привлекать на 30% больше пользователей   \n",
       "6          Показать на главной странице баннеры с актуальными акциями и распродажами, чтобы увеличить конверсию   \n",
       "8                                                       Запустить акцию, дающую скидку на товар в день рождения   \n",
       "3           Изменить структура категорий, что увеличит конверсию, т.к. пользователи быстрее найдут нужный товар   \n",
       "1                                     Запустить собственную службу доставки, что сократит срок доставки заказов   \n",
       "5                      Добавить страницу отзывов клиентов о магазине, что позволит увеличить количество заказов   \n",
       "4                              Изменить цвет фона главной страницы, чтобы увеличить вовлеченность пользователей   \n",
       "\n",
       "   reach  impact  confidence  efforts   ICE   RICE  \n",
       "7     10       7           8        5 11.20 112.00  \n",
       "2      8       3           7        3  7.00  56.00  \n",
       "0      3      10           8        6 13.33  40.00  \n",
       "6      5       3           8        3  8.00  40.00  \n",
       "8      1       9           9        5 16.20  16.20  \n",
       "3      8       3           3        8  1.12   9.00  \n",
       "1      2       5           4       10  2.00   4.00  \n",
       "5      3       2           2        3  1.33   4.00  \n",
       "4      3       1           1        1  1.00   3.00  "
      ]
     },
     "execution_count": 17,
     "metadata": {},
     "output_type": "execute_result"
    }
   ],
   "source": [
    "# отсортируем их по убыванию приоритета\n",
    "hypothesis_rice = hypothesis.sort_values(by='RICE',ascending=False)\n",
    "hypothesis_rice"
   ]
  },
  {
   "cell_type": "code",
   "execution_count": 18,
   "metadata": {},
   "outputs": [
    {
     "data": {
      "image/png": "[encoded data removed]",
      "text/plain": [
       "<Figure size 432x288 with 1 Axes>"
      ]
     },
     "metadata": {
      "needs_background": "light"
     },
     "output_type": "display_data"
    }
   ],
   "source": [
    "ax = hypothesis[['hypothesis', 'RICE']].set_index('hypothesis').sort_values('RICE', ascending=True).plot(kind='barh')\n",
    "ax.set_xlabel('Приоритет')\n",
    "ax.set_ylabel('Гипотеза')\n",
    "ax.set_title('RICE')\n",
    "plt.show()"
   ]
  },
  {
   "cell_type": "markdown",
   "metadata": {},
   "source": [
    "По методу RICE самыми перспективными гипотезами явлются 7, 2 и 0, самой бесперспективной 4."
   ]
  },
  {
   "cell_type": "markdown",
   "metadata": {},
   "source": [
    "### Сравним RICE и ICE"
   ]
  },
  {
   "cell_type": "code",
   "execution_count": 19,
   "metadata": {},
   "outputs": [
    {
     "data": {
      "text/html": [
       "<div>\n",
       "<style scoped>\n",
       "    .dataframe tbody tr th:only-of-type {\n",
       "        vertical-align: middle;\n",
       "    }\n",
       "\n",
       "    .dataframe tbody tr th {\n",
       "        vertical-align: top;\n",
       "    }\n",
       "\n",
       "    .dataframe thead th {\n",
       "        text-align: right;\n",
       "    }\n",
       "</style>\n",
       "<table border=\"1\" class=\"dataframe\">\n",
       "  <thead>\n",
       "    <tr style=\"text-align: right;\">\n",
       "      <th></th>\n",
       "      <th>Нумерация ICE</th>\n",
       "      <th>Нумерация RICE</th>\n",
       "    </tr>\n",
       "  </thead>\n",
       "  <tbody>\n",
       "    <tr>\n",
       "      <th>0</th>\n",
       "      <td>8</td>\n",
       "      <td>7</td>\n",
       "    </tr>\n",
       "    <tr>\n",
       "      <th>1</th>\n",
       "      <td>0</td>\n",
       "      <td>2</td>\n",
       "    </tr>\n",
       "    <tr>\n",
       "      <th>2</th>\n",
       "      <td>7</td>\n",
       "      <td>0</td>\n",
       "    </tr>\n",
       "    <tr>\n",
       "      <th>3</th>\n",
       "      <td>6</td>\n",
       "      <td>6</td>\n",
       "    </tr>\n",
       "    <tr>\n",
       "      <th>4</th>\n",
       "      <td>2</td>\n",
       "      <td>8</td>\n",
       "    </tr>\n",
       "    <tr>\n",
       "      <th>5</th>\n",
       "      <td>1</td>\n",
       "      <td>3</td>\n",
       "    </tr>\n",
       "    <tr>\n",
       "      <th>6</th>\n",
       "      <td>5</td>\n",
       "      <td>1</td>\n",
       "    </tr>\n",
       "    <tr>\n",
       "      <th>7</th>\n",
       "      <td>3</td>\n",
       "      <td>5</td>\n",
       "    </tr>\n",
       "    <tr>\n",
       "      <th>8</th>\n",
       "      <td>4</td>\n",
       "      <td>4</td>\n",
       "    </tr>\n",
       "  </tbody>\n",
       "</table>\n",
       "</div>"
      ],
      "text/plain": [
       "   Нумерация ICE  Нумерация RICE\n",
       "0              8               7\n",
       "1              0               2\n",
       "2              7               0\n",
       "3              6               6\n",
       "4              2               8\n",
       "5              1               3\n",
       "6              5               1\n",
       "7              3               5\n",
       "8              4               4"
      ]
     },
     "execution_count": 19,
     "metadata": {},
     "output_type": "execute_result"
    }
   ],
   "source": [
    "# нарисуем таблицу для оценки изменений\n",
    "results = [\n",
    "    [8, 7],\n",
    "    [0, 2],\n",
    "    [7, 0],\n",
    "    [6, 6],\n",
    "    [2, 8],\n",
    "    [1, 3],\n",
    "    [5, 1],\n",
    "    [3, 5],\n",
    "    [4, 4]\n",
    "]\n",
    "lists = ['Нумерация ICE', 'Нумерация RICE']\n",
    "\n",
    "ice_rice = pd.DataFrame(data=results , columns=lists) # создаём таблицу и сохраняем её в переменную world_map\n",
    "ice_rice"
   ]
  },
  {
   "cell_type": "markdown",
   "metadata": {},
   "source": [
    "Видим, что у RICE и ICE разная приоретизация. Так вышло потому метод RICE учитывает охват аудитории, а ICE нет. \n",
    "\n",
    "RICE предлагает \"набирать массу\" гипотезами: \n",
    "- добавить форму подписки на все основные станицы сайта, \n",
    "- добавить блоки рекомендаций, \n",
    "- показывать баннеры с акциями.\n",
    "\n",
    "Тем не менее и ICE, и RICE определяют 7 и 0 перспективными, а 4 бесперспективной. Гипотеза 8 \"скидка в день рождения\", в ICE была самой перспективной, а в RICE опустилась на 5ю позицию, поскольку имеет самый маленький охват аудитории 1/10. "
   ]
  },
  {
   "cell_type": "markdown",
   "metadata": {},
   "source": [
    "## Анализируем A/B-тест"
   ]
  },
  {
   "cell_type": "markdown",
   "metadata": {},
   "source": [
    "Чтобы построить графики, необходимо подготовить данные. Выше мы сделали предобработку датасетов, сейчас нужно собрать кумулятивные данные. "
   ]
  },
  {
   "cell_type": "code",
   "execution_count": 20,
   "metadata": {},
   "outputs": [
    {
     "data": {
      "text/plain": [
       "array(['B', 'A'], dtype=object)"
      ]
     },
     "execution_count": 20,
     "metadata": {},
     "output_type": "execute_result"
    }
   ],
   "source": [
    "# проверяем количество групп в А/В тесте\n",
    "orders['group'].unique()"
   ]
  },
  {
   "cell_type": "markdown",
   "metadata": {},
   "source": [
    "В тесте участвуют 2 группы А и В"
   ]
  },
  {
   "cell_type": "code",
   "execution_count": 21,
   "metadata": {},
   "outputs": [
    {
     "data": {
      "text/plain": [
       "B    640\n",
       "A    557\n",
       "Name: group, dtype: int64"
      ]
     },
     "execution_count": 21,
     "metadata": {},
     "output_type": "execute_result"
    }
   ],
   "source": [
    "# смотрим сколько у нас пользователей в кадой группе\n",
    "orders['group'].value_counts()"
   ]
  },
  {
   "cell_type": "markdown",
   "metadata": {},
   "source": [
    "Проверяем гипотезу о равенстве среднего количества пользователей в каждой паре датасетов. Помним, что в датасете orders - 1197 уникальных позиций. Соответственно делим набор данных на две части (в зависимости от группы) и проверяем гипотезу по столбцам.\n",
    "\n",
    "* **Н0** Среднее количество пользователей в группе А и В не различаются\n",
    "* **Н1** Среднее количество пользователей в группе А и В различаются\n",
    "\n",
    "Отмечу также, что проверять столбцы transaction_id, visitors_id и date не имеет смысла поскольку они не несут информации о выручке заказа."
   ]
  },
  {
   "cell_type": "code",
   "execution_count": 22,
   "metadata": {},
   "outputs": [
    {
     "name": "stdout",
     "output_type": "stream",
     "text": [
      "p-значение для сравнения групп А и B:  0.403693443754076\n",
      "Не получилось отвергнуть нулевую гипотезу для сравнения групп А и B\n",
      "Относительное различие в выручке между группами : 0.259\n"
     ]
    }
   ],
   "source": [
    "# выделим группы\n",
    "group_a = orders.query('group == \"A\"')\n",
    "group_b = orders.query('group == \"B\"')\n",
    "\n",
    "alpha = 0.05  # критический уровень статистической значимости\n",
    "\n",
    "# проверим t-тестом\n",
    "result = st.ttest_ind(group_a['revenue'], group_b['revenue'])\n",
    "\n",
    "print('p-значение для сравнения групп А и B: ', result.pvalue)\n",
    "\n",
    "if result.pvalue < alpha:\n",
    "    print('Отвергаем нулевую гипотезу для сравнения групп А и B')\n",
    "else:\n",
    "    print('Не получилось отвергнуть нулевую гипотезу для сравнения групп А и B')\n",
    "    \n",
    "print('Относительное различие в выручке между группами : {0:.3f}'.format(\n",
    "    group_b['revenue'].mean()/group_a['revenue'].mean()-1))"
   ]
  },
  {
   "cell_type": "code",
   "execution_count": 23,
   "metadata": {},
   "outputs": [
    {
     "name": "stdout",
     "output_type": "stream",
     "text": [
      "p-значение:  0.3646454927716229\n",
      "Не получилось отвергнуть нулевую гипотезу, вывод о различии сделать нельзя\n"
     ]
    }
   ],
   "source": [
    "# проверим непараметрическим тестом\n",
    "results = st.mannwhitneyu(group_a['revenue'], group_b['revenue'], True, 'less') # ваш код\n",
    "\n",
    "print('p-значение: ', results.pvalue)\n",
    "\n",
    "if results.pvalue < alpha:\n",
    "    print('Отвергаем нулевую гипотезу: разница статистически значима')\n",
    "else:\n",
    "    print('Не получилось отвергнуть нулевую гипотезу, вывод о различии сделать нельзя') "
   ]
  },
  {
   "cell_type": "markdown",
   "metadata": {},
   "source": [
    "Наблюдаемые данные не подтверждают наличие разницы. Нельзя сказать, что группа В отличается от группы А по выручке"
   ]
  },
  {
   "cell_type": "code",
   "execution_count": 24,
   "metadata": {},
   "outputs": [],
   "source": [
    "# создаем массив уникальных пар значений дат и групп теста\n",
    "dates_groups = orders[['date','group']].drop_duplicates() "
   ]
  },
  {
   "cell_type": "code",
   "execution_count": 25,
   "metadata": {},
   "outputs": [],
   "source": [
    "# получаем агрегированные кумулятивные по дням данные о заказах \n",
    "orders_aggregated = dates_groups.apply(lambda x: orders[np.logical_and(orders['date'] <= x['date']\\\n",
    "                            , orders['group'] == x['group'])].agg({\n",
    "    'date' : 'max', \n",
    "    'group' : 'max', \n",
    "    'transaction_id' : 'nunique', \n",
    "    'visitor_id' : 'nunique', \n",
    "    'revenue' : 'sum'\n",
    "}), axis=1).sort_values(by=['date','group'])"
   ]
  },
  {
   "cell_type": "code",
   "execution_count": 26,
   "metadata": {},
   "outputs": [],
   "source": [
    "# получаем агрегированные кумулятивные данные по дням о посетителях\n",
    "visitors_aggregated = dates_groups.apply(lambda x: visitors[np.logical_and(visitors['date'] <= x['date']\\\n",
    "                            , visitors['group'] == x['group'])].agg({'date' : 'max', 'group' : 'max', 'visitors' : 'sum'})\\\n",
    "                            , axis=1).sort_values(by=['date','group'])"
   ]
  },
  {
   "cell_type": "code",
   "execution_count": 27,
   "metadata": {},
   "outputs": [
    {
     "data": {
      "text/html": [
       "<div>\n",
       "<style scoped>\n",
       "    .dataframe tbody tr th:only-of-type {\n",
       "        vertical-align: middle;\n",
       "    }\n",
       "\n",
       "    .dataframe tbody tr th {\n",
       "        vertical-align: top;\n",
       "    }\n",
       "\n",
       "    .dataframe thead th {\n",
       "        text-align: right;\n",
       "    }\n",
       "</style>\n",
       "<table border=\"1\" class=\"dataframe\">\n",
       "  <thead>\n",
       "    <tr style=\"text-align: right;\">\n",
       "      <th></th>\n",
       "      <th>date</th>\n",
       "      <th>group</th>\n",
       "      <th>orders</th>\n",
       "      <th>buyers</th>\n",
       "      <th>revenue</th>\n",
       "      <th>visitors</th>\n",
       "    </tr>\n",
       "  </thead>\n",
       "  <tbody>\n",
       "    <tr>\n",
       "      <th>0</th>\n",
       "      <td>2019-08-01</td>\n",
       "      <td>A</td>\n",
       "      <td>24</td>\n",
       "      <td>20</td>\n",
       "      <td>148579</td>\n",
       "      <td>719</td>\n",
       "    </tr>\n",
       "    <tr>\n",
       "      <th>1</th>\n",
       "      <td>2019-08-01</td>\n",
       "      <td>B</td>\n",
       "      <td>21</td>\n",
       "      <td>20</td>\n",
       "      <td>101217</td>\n",
       "      <td>713</td>\n",
       "    </tr>\n",
       "    <tr>\n",
       "      <th>2</th>\n",
       "      <td>2019-08-02</td>\n",
       "      <td>A</td>\n",
       "      <td>44</td>\n",
       "      <td>38</td>\n",
       "      <td>242401</td>\n",
       "      <td>1338</td>\n",
       "    </tr>\n",
       "    <tr>\n",
       "      <th>3</th>\n",
       "      <td>2019-08-02</td>\n",
       "      <td>B</td>\n",
       "      <td>45</td>\n",
       "      <td>43</td>\n",
       "      <td>266748</td>\n",
       "      <td>1294</td>\n",
       "    </tr>\n",
       "    <tr>\n",
       "      <th>4</th>\n",
       "      <td>2019-08-03</td>\n",
       "      <td>A</td>\n",
       "      <td>68</td>\n",
       "      <td>62</td>\n",
       "      <td>354874</td>\n",
       "      <td>1845</td>\n",
       "    </tr>\n",
       "  </tbody>\n",
       "</table>\n",
       "</div>"
      ],
      "text/plain": [
       "        date group  orders  buyers  revenue  visitors\n",
       "0 2019-08-01     A      24      20   148579       719\n",
       "1 2019-08-01     B      21      20   101217       713\n",
       "2 2019-08-02     A      44      38   242401      1338\n",
       "3 2019-08-02     B      45      43   266748      1294\n",
       "4 2019-08-03     A      68      62   354874      1845"
      ]
     },
     "execution_count": 27,
     "metadata": {},
     "output_type": "execute_result"
    }
   ],
   "source": [
    "# собираем в одну таблицу и даем понятные названия\n",
    "cumulative_data = orders_aggregated.merge(visitors_aggregated, left_on=['date', 'group'], right_on=['date', 'group'])\n",
    "cumulative_data.columns = ['date', 'group', 'orders', 'buyers', 'revenue', 'visitors']\n",
    "\n",
    "cumulative_data.head()"
   ]
  },
  {
   "cell_type": "markdown",
   "metadata": {},
   "source": [
    "Получили датафрейм cumulative_data со столбцами:\n",
    "\n",
    "* `date` — дата;\n",
    "* `group` — группа A/B-теста;\n",
    "* `orders` — кумулятивное число заказов на указанную дату в указанной группе;\n",
    "* `buyers` — кумулятивное число пользователей, совершивших хотя бы один заказ, на указанную дату в указанной группе;\n",
    "* `revenue` — кумулятивная выручка на указанную дату в указанной группе (средний чек);\n",
    "* `visitors` — кумулятивное количество посетителей интернет-магазина на указанную дату в определённой группе."
   ]
  },
  {
   "cell_type": "markdown",
   "metadata": {},
   "source": [
    "### График кумулятивной выручки по группам. "
   ]
  },
  {
   "cell_type": "code",
   "execution_count": 28,
   "metadata": {},
   "outputs": [
    {
     "data": {
      "text/plain": [
       "Text(0, 0.5, 'Выручка')"
      ]
     },
     "execution_count": 28,
     "metadata": {},
     "output_type": "execute_result"
    },
    {
     "data": {
      "image/png": "[encoded data removed]",
      "text/plain": [
       "<Figure size 864x432 with 1 Axes>"
      ]
     },
     "metadata": {
      "needs_background": "light"
     },
     "output_type": "display_data"
    }
   ],
   "source": [
    "# кумулятивное количество заказов и выручки по дням в группе А и В\n",
    "cumulative_revenue_a = cumulative_data[cumulative_data['group']=='A'][['date','revenue', 'orders']]\n",
    "cumulative_revenue_b = cumulative_data[cumulative_data['group']=='B'][['date','revenue', 'orders']]\n",
    "\n",
    "\n",
    "plt.figure(figsize=(12, 6)) # размер графика\n",
    "plt.grid() # сетка\n",
    "plt.title('Кумулятивная выручка по группам') # имя графика\n",
    "\n",
    "plt.plot(cumulative_revenue_a['date'], \n",
    "         cumulative_revenue_a['revenue'], \n",
    "         label = 'A', \n",
    "         color='green', \n",
    "         marker='o') # выручка гр.А\n",
    "plt.plot(cumulative_revenue_b['date'], \n",
    "         cumulative_revenue_b['revenue'], \n",
    "         label = 'B', \n",
    "         color='orange', \n",
    "         marker='o') # выручка гр.В\n",
    "\n",
    "plt.legend() # подпишем группы на графике\n",
    "plt.xticks(rotation=45) # повернем даты на оси х, чтобы лучше читались\n",
    "plt.xlabel('Дата') # подпись оси х\n",
    "plt.ylabel('Выручка') # подпись оси у"
   ]
  },
  {
   "cell_type": "markdown",
   "metadata": {},
   "source": [
    "Из графика видим: тест проводился в течение календарного месяца - августа 2019. Кумулятивная выручка по дням в обеих группах плавно растет до 18 августа, группа В показывает немного лучшие результаты. 19 августа в группе происходит резкий скачок, после чего график стабилизируется и продолжает плавный рост до конца месяца. Стоит уточнить, была ли это одна крупная покупка или всплеск роста числа заказов."
   ]
  },
  {
   "cell_type": "markdown",
   "metadata": {},
   "source": [
    "### График кумулятивного среднего чека по группам. "
   ]
  },
  {
   "cell_type": "code",
   "execution_count": 29,
   "metadata": {},
   "outputs": [
    {
     "data": {
      "text/plain": [
       "Text(0, 0.5, 'Средний чек')"
      ]
     },
     "execution_count": 29,
     "metadata": {},
     "output_type": "execute_result"
    },
    {
     "data": {
      "image/png": "[encoded data removed]",
      "text/plain": [
       "<Figure size 864x432 with 1 Axes>"
      ]
     },
     "metadata": {
      "needs_background": "light"
     },
     "output_type": "display_data"
    }
   ],
   "source": [
    "# построим графики среднего чека по группам — разделим кумулятивную выручку на кумулятивное число заказов\n",
    "plt.figure(figsize=(12, 6))\n",
    "plt.grid()\n",
    "plt.title('Кумулятивный средний чек по группам')\n",
    "\n",
    "plt.plot(cumulative_revenue_a['date'], \n",
    "         cumulative_revenue_a['revenue']/cumulative_revenue_a['orders'], \n",
    "         label='A', \n",
    "         color='green', \n",
    "         marker='o')\n",
    "plt.plot(cumulative_revenue_b['date'], \n",
    "         cumulative_revenue_b['revenue']/cumulative_revenue_b['orders'], \n",
    "         label='B', \n",
    "         color='orange', \n",
    "         marker='o')\n",
    "\n",
    "plt.legend() \n",
    "plt.xticks(rotation=45)\n",
    "plt.xlabel('Дата')\n",
    "plt.ylabel('Средний чек')"
   ]
  },
  {
   "cell_type": "markdown",
   "metadata": {},
   "source": [
    "Средний чек в начале месяца скачет в обеих группах. 15 августа он устанавливается на отметке около 7000. После чего 19 августа в группе В происходит скачок и далее средний чек в группе В плавно падает. В группе А до 27 августа держится на отметке до 7000, дальше плавно растет. Все еще есть вероятность крупных покупок 19 августа в группе В."
   ]
  },
  {
   "cell_type": "markdown",
   "metadata": {},
   "source": [
    "### График относительного изменения кумулятивного среднего чека группы B к группе A. "
   ]
  },
  {
   "cell_type": "code",
   "execution_count": 30,
   "metadata": {},
   "outputs": [
    {
     "data": {
      "text/plain": [
       "<matplotlib.lines.Line2D at 0x19c55966b80>"
      ]
     },
     "execution_count": 30,
     "metadata": {},
     "output_type": "execute_result"
    },
    {
     "data": {
      "image/png": "[encoded data removed]",
      "text/plain": [
       "<Figure size 864x432 with 1 Axes>"
      ]
     },
     "metadata": {
      "needs_background": "light"
     },
     "output_type": "display_data"
    }
   ],
   "source": [
    "# собираем данные в одном датафрейме\n",
    "merged_cr = cumulative_revenue_a.merge(\n",
    "    cumulative_revenue_b, \n",
    "    left_on='date', \n",
    "    right_on='date', \n",
    "    how='left', \n",
    "    suffixes=['_a', '_b']\n",
    ")\n",
    "\n",
    "# cтроим отношение средних чеков\n",
    "plt.figure(figsize=(12, 6))\n",
    "plt.grid()\n",
    "plt.title('Относительноу изменение кумулятивного среднего чека группы B к группе A')\n",
    "plt.plot(\n",
    "    merged_cr['date'], \n",
    "    (merged_cr['revenue_b']/merged_cr['orders_b'])/(merged_cr['revenue_a']/merged_cr['orders_a'])-1,\n",
    "    marker='o')\n",
    "plt.xticks(rotation=45)\n",
    "plt.xlabel('Дата')\n",
    "plt.ylabel('Дельта')\n",
    "# добавляем ось X\n",
    "plt.axhline(y=0, color='black', linestyle='--') "
   ]
  },
  {
   "cell_type": "markdown",
   "metadata": {},
   "source": [
    "График относительного изменения кумулятивного среднего чека сильно колеблется из-за выбросов. Видим несколько скачков 6 августа, 19 августа, возможно аномалию стоит поискать раньше, чем 18 августа."
   ]
  },
  {
   "cell_type": "markdown",
   "metadata": {},
   "source": [
    "### График кумулятивной конверсии по группам. "
   ]
  },
  {
   "cell_type": "code",
   "execution_count": 31,
   "metadata": {},
   "outputs": [
    {
     "data": {
      "text/plain": [
       "<matplotlib.legend.Legend at 0x19c559e4c40>"
      ]
     },
     "execution_count": 31,
     "metadata": {},
     "output_type": "execute_result"
    },
    {
     "data": {
      "image/png": "[encoded data removed]",
      "text/plain": [
       "<Figure size 864x432 with 1 Axes>"
      ]
     },
     "metadata": {
      "needs_background": "light"
     },
     "output_type": "display_data"
    }
   ],
   "source": [
    "# считаем кумулятивную конверсию\n",
    "cumulative_data['conversion'] = cumulative_data['orders']/cumulative_data['visitors']\n",
    "\n",
    "# отделяем данные по группе A\n",
    "cum_data = cumulative_data[cumulative_data['group']=='A']\n",
    "\n",
    "# отделяем данные по группе B\n",
    "cum_datb = cumulative_data[cumulative_data['group']=='B']\n",
    "\n",
    "# строим графики\n",
    "plt.figure(figsize=(12, 6))\n",
    "plt.grid()\n",
    "plt.title('Кумулятивная конверсия по группам')\n",
    "plt.plot(cum_data['date'], \n",
    "         cum_data['conversion'], \n",
    "         label='A', \n",
    "         color='green', \n",
    "         marker='o')\n",
    "plt.plot(cum_datb['date'], \n",
    "         cum_datb['conversion'], \n",
    "         label='B',\n",
    "         color='orange', \n",
    "         marker='o')\n",
    "plt.xticks(rotation=45)\n",
    "plt.xlabel('Дата')\n",
    "plt.ylabel('Кумулятивная конверсия')\n",
    "plt.legend()"
   ]
  },
  {
   "cell_type": "markdown",
   "metadata": {},
   "source": [
    "Вначале графики колебались, но в итоге выровнялись и зафиксировались на примерно одном расстоянии друг от друга. График конверсии не показывает аномалий, поскольку не учитывает сумму покупок, а только их количество. Видимо дело все же в аномально больших покупках. "
   ]
  },
  {
   "cell_type": "markdown",
   "metadata": {},
   "source": [
    "### График относительного изменения кумулятивной конверсии группы B к группе A. "
   ]
  },
  {
   "cell_type": "code",
   "execution_count": 32,
   "metadata": {},
   "outputs": [
    {
     "data": {
      "text/plain": [
       "<matplotlib.lines.Line2D at 0x19c55bbca00>"
      ]
     },
     "execution_count": 32,
     "metadata": {},
     "output_type": "execute_result"
    },
    {
     "data": {
      "image/png": "[encoded data removed]",
      "text/plain": [
       "<Figure size 864x432 with 1 Axes>"
      ]
     },
     "metadata": {
      "needs_background": "light"
     },
     "output_type": "display_data"
    }
   ],
   "source": [
    "# собираем данные в одном датафрейме\n",
    "merged_сс = cum_data[['date','conversion']].merge(\n",
    "    cum_datb[['date','conversion']], \n",
    "    left_on='date', \n",
    "    right_on='date', \n",
    "    how='left', \n",
    "    suffixes=['_a', '_b']\n",
    ")\n",
    "\n",
    "# строим графики\n",
    "plt.figure(figsize=(12, 6))\n",
    "plt.grid()\n",
    "plt.title('Кумулятивная конверсия по группам')\n",
    "plt.plot( merged_сс['date'], \n",
    "    merged_сс['conversion_b']/merged_сс['conversion_a']-1, \n",
    "    label=\"Относительный прирост конверсии группы B относительно группы A\", \n",
    "    marker = 'o')\n",
    "plt.legend()\n",
    "plt.xlabel('Дата')\n",
    "plt.ylabel('Дельта')\n",
    "plt.axhline(y=0, color='black', linestyle='--')\n",
    "plt.axhline(y=0.1, color='grey', linestyle='--')"
   ]
  },
  {
   "cell_type": "markdown",
   "metadata": {},
   "source": [
    "C 9 августа группа Б лидирует по конверсии, достигая 20% в середине исследуемого периода (14 августа). Среднее число конверсии группы В около 10%."
   ]
  },
  {
   "cell_type": "code",
   "execution_count": 33,
   "metadata": {},
   "outputs": [
    {
     "name": "stdout",
     "output_type": "stream",
     "text": [
      "В среднем пользователи совершают: 1.16 покупок\n"
     ]
    }
   ],
   "source": [
    "# соберем таблицу с пользователями и количеством из заказов\n",
    "users_orders = (orders.groupby('visitor_id', as_index = False)\n",
    "                          .agg({'transaction_id': pd.Series.nunique}))\n",
    "\n",
    "users_orders.columns = ['user_id', 'orders']\n",
    "users_orders.head()\n",
    "print('В среднем пользователи совершают:', round(users_orders['orders'].mean(),2), 'покупок')"
   ]
  },
  {
   "cell_type": "code",
   "execution_count": 34,
   "metadata": {},
   "outputs": [
    {
     "data": {
      "image/png": "[encoded data removed]",
      "text/plain": [
       "<Figure size 864x432 with 1 Axes>"
      ]
     },
     "metadata": {
      "needs_background": "light"
     },
     "output_type": "display_data"
    }
   ],
   "source": [
    "# серия из чисел от 0 до количества наблюдений в ordersByUsers\n",
    "plt.figure(figsize=(12, 6))\n",
    "plt.grid()\n",
    "plt.title('Количество заказов по пользователям')\n",
    "x_values = pd.Series(range(0,len(users_orders['orders'])))\n",
    "plt.scatter(x_values, users_orders['orders'])\n",
    "plt.xlabel('Пользователь')\n",
    "plt.ylabel('Количество заказов')\n",
    "plt.show()"
   ]
  },
  {
   "cell_type": "markdown",
   "metadata": {},
   "source": [
    "Видим, что основная масса пользователей делает 1 заказ, есть пользователи, совершающие 2 покупки, редко 3. 4 человека сделали больше 8 покупок."
   ]
  },
  {
   "cell_type": "markdown",
   "metadata": {},
   "source": [
    "### Выберем границу для определения аномальных пользователей."
   ]
  },
  {
   "cell_type": "code",
   "execution_count": 35,
   "metadata": {},
   "outputs": [
    {
     "name": "stdout",
     "output_type": "stream",
     "text": [
      "95 перцентиль: 2.00\n",
      "98 перцентиль: 3.00\n",
      "99 перцентиль: 4.00\n",
      "Граница отсечения аномалий [3]\n"
     ]
    }
   ],
   "source": [
    "print('95 перцентиль: %.2f' % (np.percentile(users_orders['orders'], [95])))\n",
    "print('98 перцентиль: %.2f' % (np.percentile(users_orders['orders'], [98])))\n",
    "print('99 перцентиль: %.2f' % (np.percentile(users_orders['orders'], [99])))\n",
    "anomal_orders = (np.percentile(users_orders['orders'], [98])).astype('int')\n",
    "print('Граница отсечения аномалий', anomal_orders)"
   ]
  },
  {
   "cell_type": "markdown",
   "metadata": {},
   "source": [
    "Не более 5% пользователей оформили больше чем 2 заказа, не более 1% пользователей обормили более четрыех заказов. 2 заказа в неделю не выглядят сверхъестественными. Возьмем 98 перцентиль как границу для отсечения аномалий, так мы применим минимальные изменения к выборке."
   ]
  },
  {
   "cell_type": "code",
   "execution_count": 36,
   "metadata": {},
   "outputs": [
    {
     "data": {
      "image/png": "[encoded data removed]",
      "text/plain": [
       "<Figure size 1200x600 with 1 Axes>"
      ]
     },
     "metadata": {
      "needs_background": "light"
     },
     "output_type": "display_data"
    }
   ],
   "source": [
    "# строим график распределения стоимостей заказов\n",
    "\n",
    "order_values = pd.Series(range(0,len(orders['revenue'])))\n",
    "\n",
    "plt.figure(figsize=(12,6), dpi=100)\n",
    "plt.grid()\n",
    "plt.title('График распределения стоимостей заказов')\n",
    "plt.scatter(order_values, orders['revenue'])\n",
    "plt.xlabel('Порядковый номер заказа')\n",
    "plt.ylabel('Сумма заказа, руб')\n",
    "plt.show()"
   ]
  },
  {
   "cell_type": "markdown",
   "metadata": {},
   "source": [
    "Видим на графике практически гладкое \"море заказов\" и 2 выброса, один на уровне 200000, другой выше миллиона."
   ]
  },
  {
   "cell_type": "code",
   "execution_count": 37,
   "metadata": {},
   "outputs": [
    {
     "data": {
      "text/html": [
       "<div>\n",
       "<style scoped>\n",
       "    .dataframe tbody tr th:only-of-type {\n",
       "        vertical-align: middle;\n",
       "    }\n",
       "\n",
       "    .dataframe tbody tr th {\n",
       "        vertical-align: top;\n",
       "    }\n",
       "\n",
       "    .dataframe thead th {\n",
       "        text-align: right;\n",
       "    }\n",
       "</style>\n",
       "<table border=\"1\" class=\"dataframe\">\n",
       "  <thead>\n",
       "    <tr style=\"text-align: right;\">\n",
       "      <th></th>\n",
       "      <th>transaction_id</th>\n",
       "      <th>visitor_id</th>\n",
       "      <th>date</th>\n",
       "      <th>revenue</th>\n",
       "      <th>group</th>\n",
       "    </tr>\n",
       "  </thead>\n",
       "  <tbody>\n",
       "    <tr>\n",
       "      <th>425</th>\n",
       "      <td>590470918</td>\n",
       "      <td>1920142716</td>\n",
       "      <td>2019-08-19</td>\n",
       "      <td>1294500</td>\n",
       "      <td>B</td>\n",
       "    </tr>\n",
       "    <tr>\n",
       "      <th>1196</th>\n",
       "      <td>3936777065</td>\n",
       "      <td>2108080724</td>\n",
       "      <td>2019-08-15</td>\n",
       "      <td>202740</td>\n",
       "      <td>B</td>\n",
       "    </tr>\n",
       "    <tr>\n",
       "      <th>858</th>\n",
       "      <td>192721366</td>\n",
       "      <td>1316129916</td>\n",
       "      <td>2019-08-27</td>\n",
       "      <td>93940</td>\n",
       "      <td>A</td>\n",
       "    </tr>\n",
       "    <tr>\n",
       "      <th>1136</th>\n",
       "      <td>666610489</td>\n",
       "      <td>1307669133</td>\n",
       "      <td>2019-08-13</td>\n",
       "      <td>92550</td>\n",
       "      <td>A</td>\n",
       "    </tr>\n",
       "    <tr>\n",
       "      <th>744</th>\n",
       "      <td>3668308183</td>\n",
       "      <td>888512513</td>\n",
       "      <td>2019-08-27</td>\n",
       "      <td>86620</td>\n",
       "      <td>B</td>\n",
       "    </tr>\n",
       "  </tbody>\n",
       "</table>\n",
       "</div>"
      ],
      "text/plain": [
       "      transaction_id  visitor_id       date  revenue group\n",
       "425        590470918  1920142716 2019-08-19  1294500     B\n",
       "1196      3936777065  2108080724 2019-08-15   202740     B\n",
       "858        192721366  1316129916 2019-08-27    93940     A\n",
       "1136       666610489  1307669133 2019-08-13    92550     A\n",
       "744       3668308183   888512513 2019-08-27    86620     B"
      ]
     },
     "execution_count": 37,
     "metadata": {},
     "output_type": "execute_result"
    }
   ],
   "source": [
    "# посмотрим на самы большие заказы\n",
    "orders.sort_values(by='revenue', ascending=False).head(5)"
   ]
  },
  {
   "cell_type": "markdown",
   "metadata": {},
   "source": [
    "Таблица показывает нам огромный заказ под номером 425 в группе В и 1196, который не так велик, но так же значителен, и тоже в группе В."
   ]
  },
  {
   "cell_type": "markdown",
   "metadata": {},
   "source": [
    "### Выберем границу для определения аномальных заказов."
   ]
  },
  {
   "cell_type": "code",
   "execution_count": 38,
   "metadata": {},
   "outputs": [
    {
     "name": "stdout",
     "output_type": "stream",
     "text": [
      "95 перцентиль: 28000.00\n",
      "99 перцентиль: 58233.20\n",
      "Граница отсечения аномалий [28000]\n"
     ]
    }
   ],
   "source": [
    "print('95 перцентиль: %.2f' % (np.percentile(orders['revenue'], [95])))\n",
    "print('99 перцентиль: %.2f' % (np.percentile(orders['revenue'], [99])))\n",
    "anomal_revenue = (np.percentile(orders['revenue'], [95])).astype('int')\n",
    "print('Граница отсечения аномалий', anomal_revenue)"
   ]
  },
  {
   "cell_type": "markdown",
   "metadata": {},
   "source": [
    "Не более 5% пользователей совершили покупки более 28000 и не более 1% купили больше, чем на 58233."
   ]
  },
  {
   "cell_type": "markdown",
   "metadata": {},
   "source": [
    "### Считаем статистическую значимость различий в конверсии между группами по «сырым» данным. "
   ]
  },
  {
   "cell_type": "code",
   "execution_count": 39,
   "metadata": {},
   "outputs": [],
   "source": [
    "# подготовим данные\n",
    "# посетители по дням и кумулятивные для группы А\n",
    "visitors_a_daily = visitors[visitors['group'] == 'A'][['date', 'visitors']]\n",
    "visitors_a_daily.columns = ['date', 'visitors_date_a']\n",
    "\n",
    "visitors_a_cum = visitors_a_daily.apply(\n",
    "    lambda x: visitors_a_daily[visitors_a_daily['date'] <= x['date']].agg(\n",
    "        {'date': 'max', 'visitors_date_a': 'sum'}\n",
    "    ),\n",
    "    axis=1,\n",
    ")\n",
    "visitors_a_cum.columns = ['date', 'visitors_cum_a']"
   ]
  },
  {
   "cell_type": "code",
   "execution_count": 40,
   "metadata": {},
   "outputs": [],
   "source": [
    "# посетители по дням и накопительные для группы B\n",
    "visitors_b_daily = visitors[visitors['group'] == 'B'][['date', 'visitors']]\n",
    "visitors_b_daily.columns = ['date', 'visitors_date_b']\n",
    "\n",
    "visitors_b_cum = visitors_b_daily.apply(\n",
    "    lambda x: visitors_b_daily[visitors_b_daily['date'] <= x['date']].agg(\n",
    "        {'date': 'max', 'visitors_date_b': 'sum'}\n",
    "    ),\n",
    "    axis=1,\n",
    ")\n",
    "visitors_b_cum.columns = ['date', 'visitors_cum_b']"
   ]
  },
  {
   "cell_type": "code",
   "execution_count": 41,
   "metadata": {},
   "outputs": [],
   "source": [
    "# заказы по дням и кумулятивные для группы А\n",
    "orders_a_daily = (\n",
    "    orders[orders['group'] == 'A'][['date', 'transaction_id', 'visitor_id', 'revenue']]\n",
    "    .groupby('date', as_index=False)\n",
    "    .agg({'transaction_id': pd.Series.nunique, 'revenue': 'sum'})\n",
    ")\n",
    "orders_a_daily.columns = ['date', 'orders_date_a', 'revenue_date_a']\n",
    "\n",
    "orders_a_cum = orders_a_daily.apply(\n",
    "    lambda x: orders_a_daily[orders_a_daily['date'] <= x['date']].agg(\n",
    "        {'date': 'max', 'orders_date_a': 'sum', 'revenue_date_a': 'sum'}\n",
    "    ),\n",
    "    axis=1,\n",
    ").sort_values(by=['date'])\n",
    "orders_a_cum.columns = [\n",
    "    'date',\n",
    "    'orders_a_cum',\n",
    "    'revenue_a_cum',\n",
    "]"
   ]
  },
  {
   "cell_type": "code",
   "execution_count": 42,
   "metadata": {},
   "outputs": [],
   "source": [
    "# заказы по дням и кумулятивные для группы А\n",
    "orders_b_daily = (\n",
    "    orders[orders['group'] == 'B'][['date', 'transaction_id', 'visitor_id', 'revenue']]\n",
    "    .groupby('date', as_index=False)\n",
    "    .agg({'transaction_id': pd.Series.nunique, 'revenue': 'sum'})\n",
    ")\n",
    "orders_b_daily.columns = ['date', 'orders_date_b', 'revenue_date_b']\n",
    "\n",
    "orders_b_cum = orders_b_daily.apply(\n",
    "    lambda x: orders_b_daily[orders_b_daily['date'] <= x['date']].agg(\n",
    "        {'date': 'max', 'orders_date_b': 'sum', 'revenue_date_b': 'sum'}\n",
    "    ),\n",
    "    axis=1,\n",
    ").sort_values(by=['date'])\n",
    "orders_b_cum.columns = [\n",
    "    'date',\n",
    "    'orders_b_cum',\n",
    "    'revenue_b_cum',\n",
    "]"
   ]
  },
  {
   "cell_type": "code",
   "execution_count": 43,
   "metadata": {},
   "outputs": [
    {
     "data": {
      "text/html": [
       "<div>\n",
       "<style scoped>\n",
       "    .dataframe tbody tr th:only-of-type {\n",
       "        vertical-align: middle;\n",
       "    }\n",
       "\n",
       "    .dataframe tbody tr th {\n",
       "        vertical-align: top;\n",
       "    }\n",
       "\n",
       "    .dataframe thead th {\n",
       "        text-align: right;\n",
       "    }\n",
       "</style>\n",
       "<table border=\"1\" class=\"dataframe\">\n",
       "  <thead>\n",
       "    <tr style=\"text-align: right;\">\n",
       "      <th></th>\n",
       "      <th>date</th>\n",
       "      <th>orders_date_a</th>\n",
       "      <th>revenue_date_a</th>\n",
       "      <th>orders_date_b</th>\n",
       "      <th>revenue_date_b</th>\n",
       "      <th>orders_a_cum</th>\n",
       "      <th>revenue_a_cum</th>\n",
       "      <th>orders_b_cum</th>\n",
       "      <th>revenue_b_cum</th>\n",
       "      <th>visitors_date_a</th>\n",
       "      <th>visitors_date_b</th>\n",
       "      <th>visitors_cum_a</th>\n",
       "      <th>visitors_cum_b</th>\n",
       "    </tr>\n",
       "  </thead>\n",
       "  <tbody>\n",
       "    <tr>\n",
       "      <th>0</th>\n",
       "      <td>2019-08-01</td>\n",
       "      <td>24</td>\n",
       "      <td>148579</td>\n",
       "      <td>21</td>\n",
       "      <td>101217</td>\n",
       "      <td>24</td>\n",
       "      <td>148579</td>\n",
       "      <td>21</td>\n",
       "      <td>101217</td>\n",
       "      <td>719</td>\n",
       "      <td>713</td>\n",
       "      <td>719</td>\n",
       "      <td>713</td>\n",
       "    </tr>\n",
       "    <tr>\n",
       "      <th>1</th>\n",
       "      <td>2019-08-02</td>\n",
       "      <td>20</td>\n",
       "      <td>93822</td>\n",
       "      <td>24</td>\n",
       "      <td>165531</td>\n",
       "      <td>44</td>\n",
       "      <td>242401</td>\n",
       "      <td>45</td>\n",
       "      <td>266748</td>\n",
       "      <td>619</td>\n",
       "      <td>581</td>\n",
       "      <td>1338</td>\n",
       "      <td>1294</td>\n",
       "    </tr>\n",
       "    <tr>\n",
       "      <th>2</th>\n",
       "      <td>2019-08-03</td>\n",
       "      <td>24</td>\n",
       "      <td>112473</td>\n",
       "      <td>16</td>\n",
       "      <td>114248</td>\n",
       "      <td>68</td>\n",
       "      <td>354874</td>\n",
       "      <td>61</td>\n",
       "      <td>380996</td>\n",
       "      <td>507</td>\n",
       "      <td>509</td>\n",
       "      <td>1845</td>\n",
       "      <td>1803</td>\n",
       "    </tr>\n",
       "    <tr>\n",
       "      <th>3</th>\n",
       "      <td>2019-08-04</td>\n",
       "      <td>16</td>\n",
       "      <td>70825</td>\n",
       "      <td>17</td>\n",
       "      <td>108571</td>\n",
       "      <td>84</td>\n",
       "      <td>425699</td>\n",
       "      <td>78</td>\n",
       "      <td>489567</td>\n",
       "      <td>717</td>\n",
       "      <td>770</td>\n",
       "      <td>2562</td>\n",
       "      <td>2573</td>\n",
       "    </tr>\n",
       "    <tr>\n",
       "      <th>4</th>\n",
       "      <td>2019-08-05</td>\n",
       "      <td>25</td>\n",
       "      <td>124218</td>\n",
       "      <td>23</td>\n",
       "      <td>92428</td>\n",
       "      <td>109</td>\n",
       "      <td>549917</td>\n",
       "      <td>101</td>\n",
       "      <td>581995</td>\n",
       "      <td>756</td>\n",
       "      <td>707</td>\n",
       "      <td>3318</td>\n",
       "      <td>3280</td>\n",
       "    </tr>\n",
       "  </tbody>\n",
       "</table>\n",
       "</div>"
      ],
      "text/plain": [
       "        date  orders_date_a  revenue_date_a  orders_date_b  revenue_date_b  \\\n",
       "0 2019-08-01             24          148579             21          101217   \n",
       "1 2019-08-02             20           93822             24          165531   \n",
       "2 2019-08-03             24          112473             16          114248   \n",
       "3 2019-08-04             16           70825             17          108571   \n",
       "4 2019-08-05             25          124218             23           92428   \n",
       "\n",
       "   orders_a_cum  revenue_a_cum  orders_b_cum  revenue_b_cum  visitors_date_a  \\\n",
       "0            24         148579            21         101217              719   \n",
       "1            44         242401            45         266748              619   \n",
       "2            68         354874            61         380996              507   \n",
       "3            84         425699            78         489567              717   \n",
       "4           109         549917           101         581995              756   \n",
       "\n",
       "   visitors_date_b  visitors_cum_a  visitors_cum_b  \n",
       "0              713             719             713  \n",
       "1              581            1338            1294  \n",
       "2              509            1845            1803  \n",
       "3              770            2562            2573  \n",
       "4              707            3318            3280  "
      ]
     },
     "execution_count": 43,
     "metadata": {},
     "output_type": "execute_result"
    }
   ],
   "source": [
    "# собираем все в одну таблицу\n",
    "data = (\n",
    "    orders_a_daily.merge(\n",
    "        orders_b_daily, left_on='date', right_on='date', how='left'\n",
    "    )\n",
    "    .merge(orders_a_cum, left_on='date', right_on='date', how='left')\n",
    "    .merge(orders_b_cum, left_on='date', right_on='date', how='left')\n",
    "    .merge(visitors_a_daily, left_on='date', right_on='date', how='left')\n",
    "    .merge(visitors_b_daily, left_on='date', right_on='date', how='left')\n",
    "    .merge(visitors_a_cum, left_on='date', right_on='date', how='left')\n",
    "    .merge(visitors_b_cum, left_on='date', right_on='date', how='left')\n",
    ")\n",
    "\n",
    "data.head(5)"
   ]
  },
  {
   "cell_type": "markdown",
   "metadata": {},
   "source": [
    "Получили таблицу со столбцами:\n",
    "\n",
    "* `date` — дата;\n",
    "* `orders_date_a` — количество заказов в выбранную дату в группе A;\n",
    "* `revenue_date_a` — суммарная выручка в выбранную дату в группе A;\n",
    "* `orders_date_b` — количество заказов в выбранную дату в группе B;\n",
    "* `revenue_date_b` — суммарная выручка в выбранную дату в группе B;\n",
    "* `orders_a_cum` — суммарное число заказов до выбранной даты включительно в группе A;\n",
    "* `revenue_a_cum` — суммарная выручка до выбранной даты включительно в группе A;\n",
    "* `orders_b_cum` — суммарное количество заказов до выбранной даты включительно в группе B;\n",
    "* `revenue_b_cum` — суммарная выручка до выбранной даты включительно в группе B;\n",
    "* `visitors_date_а` — количество пользователей в выбранную дату в группе A;\n",
    "* `visitors_date_b` — количество пользователей в выбранную дату в группе B;\n",
    "* `visitors_a_cum` — количество пользователей до выбранной даты включительно в группе A;\n",
    "* `visitors_b_cum` — количество пользователей до выбранной даты включительно в группе B."
   ]
  },
  {
   "cell_type": "code",
   "execution_count": 44,
   "metadata": {},
   "outputs": [],
   "source": [
    "# cоздадим переменные для пользователей, которые заказывали хотя бы 1 раз, укажем число совершённых заказов.\n",
    "orders_users_a = (\n",
    "    orders[orders['group'] == 'A']\n",
    "    .groupby('visitor_id', as_index=False)\n",
    "    .agg({'transaction_id': pd.Series.nunique})\n",
    ")\n",
    "orders_users_a.columns = ['user_id', 'orders']\n",
    "\n",
    "orders_users_b = (\n",
    "    orders[orders['group'] == 'B']\n",
    "    .groupby('visitor_id', as_index=False)\n",
    "    .agg({'transaction_id': pd.Series.nunique})\n",
    ")\n",
    "orders_users_b.columns = ['user_id', 'orders'] "
   ]
  },
  {
   "cell_type": "code",
   "execution_count": 45,
   "metadata": {},
   "outputs": [],
   "source": [
    "# объявим переменные, в которых пользователям из разных групп будет соответствовать количество заказов \n",
    "sample_a = pd.concat(\n",
    "    [\n",
    "        orders_users_a['orders'],\n",
    "        pd.Series(\n",
    "            0,\n",
    "            index=np.arange(\n",
    "                data['visitors_date_a'].sum() - len(orders_users_a['orders'])\n",
    "            ),\n",
    "            name='orders',\n",
    "        ),\n",
    "    ],\n",
    "    axis=0,\n",
    ")\n",
    "\n",
    "sample_b = pd.concat(\n",
    "    [\n",
    "        orders_users_b['orders'],\n",
    "        pd.Series(\n",
    "            0,\n",
    "            index=np.arange(\n",
    "                data['visitors_date_b'].sum() - len(orders_users_b['orders'])\n",
    "            ),\n",
    "            name='orders',\n",
    "        ),\n",
    "    ],\n",
    "    axis=0,\n",
    ")"
   ]
  },
  {
   "cell_type": "code",
   "execution_count": 46,
   "metadata": {},
   "outputs": [
    {
     "data": {
      "image/png": "[encoded data removed]",
      "text/plain": [
       "<Figure size 864x648 with 1 Axes>"
      ]
     },
     "metadata": {
      "needs_background": "light"
     },
     "output_type": "display_data"
    }
   ],
   "source": [
    "# посмотрим на получившиеся распределения\n",
    "sample_a.hist(bins=sample_a.nunique(), figsize=(12, 9), alpha=0.5, label='A')\n",
    "sample_b.hist(bins=sample_a.nunique(), figsize=(12, 9), alpha=0.5, label='B')\n",
    "plt.xlabel('Количество заказов')\n",
    "plt.ylabel('Частота')\n",
    "plt.legend()\n",
    "plt.show()"
   ]
  },
  {
   "cell_type": "markdown",
   "metadata": {},
   "source": [
    "Распределения не нормальны.\n",
    "\n",
    "**Конверсия**\n",
    "\n",
    "**H0**: Значимых различий в конверсии группы А и группы В нет\n",
    "\n",
    "**H1**: Конверсия группы А и группы В значимо различается\n",
    "\n",
    "**Уровень значимости** - 0.05\n",
    "\n",
    "Для проверки будем использовать непараметрический тест **Уилкоксона-Манна-Уитни**"
   ]
  },
  {
   "cell_type": "code",
   "execution_count": 47,
   "metadata": {},
   "outputs": [
    {
     "name": "stdout",
     "output_type": "stream",
     "text": [
      "Статистическая значимость различий в конверсии между группами по «сырым» данным: 0.017\n",
      "Отвергаем нулевую гипотезу: разница статистически значима\n",
      "Относительное различие в конверсии между группами : 0.138\n"
     ]
    }
   ],
   "source": [
    "print('Статистическая значимость различий в конверсии между группами по «сырым» данным: {0:.3f}'.format\n",
    "      (stats.mannwhitneyu(sample_a,sample_b, alternative=\"two-sided\")[1]))\n",
    "\n",
    "alpha = 0.05  # критический уровень статистической значимости\n",
    "\n",
    "results = stats.mannwhitneyu(sample_a,sample_b, alternative=\"two-sided\")[1]\n",
    "\n",
    "if results < alpha:\n",
    "    print('Отвергаем нулевую гипотезу: разница статистически значима')\n",
    "else:\n",
    "    print(\n",
    "        'Не получилось отвергнуть нулевую гипотезу, вывод о различии сделать нельзя'\n",
    "    ) \n",
    "    \n",
    "\n",
    "print('Относительное различие в конверсии между группами : {0:.3f}'.format(sample_b.mean()/sample_a.mean()-1))"
   ]
  },
  {
   "cell_type": "markdown",
   "metadata": {},
   "source": [
    "Вывод: По «сырым» данным различия в конверсии групп A и B есть.\n",
    "Первое число — p-value = 0.016 меньше 0.05. Нулевую гипотезу отвергаем. Относительный выигрыш группы B равен 13.8% — второе число в выводе."
   ]
  },
  {
   "cell_type": "markdown",
   "metadata": {},
   "source": [
    "### Считаем статистическую значимость различий в среднем чеке заказа между группами по «сырым» данным."
   ]
  },
  {
   "cell_type": "markdown",
   "metadata": {},
   "source": [
    "**Средний чек**\n",
    "\n",
    "**H0**: Значимых различий в среднем чеке группы А и группы B нет\n",
    "\n",
    "**H1**: Средний чек значимо различается\n",
    "\n",
    "Уровень значимости - 0.05\n",
    "\n",
    "Для проверки будем использовать непараметрический тест **Уилкоксона-Манна-Уитни**"
   ]
  },
  {
   "cell_type": "code",
   "execution_count": 48,
   "metadata": {},
   "outputs": [
    {
     "name": "stdout",
     "output_type": "stream",
     "text": [
      "Cтатистическая значимость различий в среднем чеке между группами по «сырым» данным: 0.729\n",
      "Не получилось отвергнуть нулевую гипотезу, вывод о различии сделать нельзя\n",
      "Относительные различия в среднем чеке между группами: 0.259\n"
     ]
    }
   ],
   "source": [
    "print('Cтатистическая значимость различий в среднем чеке между группами по «сырым» данным: {0:.3f}'.format(\n",
    "    stats.mannwhitneyu(\n",
    "        orders[orders['group']=='A']['revenue'], \n",
    "        orders[orders['group']=='B']['revenue'], \n",
    "        alternative=\"two-sided\")[1]))\n",
    "\n",
    "results = stats.mannwhitneyu(orders[orders['group']=='A']['revenue'],\n",
    "                             orders[orders['group']=='B']['revenue'],\n",
    "                             alternative=\"two-sided\")[1]\n",
    "\n",
    "if results < alpha:\n",
    "    print('Отвергаем нулевую гипотезу: разница статистически значима')\n",
    "else:\n",
    "    print(\n",
    "        'Не получилось отвергнуть нулевую гипотезу, вывод о различии сделать нельзя'\n",
    "    ) \n",
    "    \n",
    "\n",
    "print('Относительные различия в среднем чеке между группами: {0:.3f}'.format(\n",
    "    orders[orders['group']=='B']['revenue'].mean()/orders[orders['group']=='A']['revenue'].mean()-1))"
   ]
  },
  {
   "cell_type": "code",
   "execution_count": 49,
   "metadata": {},
   "outputs": [
    {
     "name": "stdout",
     "output_type": "stream",
     "text": [
      "Средний чек по сырым данным в группе А: 7333.58\n",
      "Средний чек по сырым данным в группе B: 9230.88\n"
     ]
    }
   ],
   "source": [
    "print('Средний чек по сырым данным в группе А: {0:.2f}'.format (orders[orders['group']=='A']['revenue'].mean()))\n",
    "print('Средний чек по сырым данным в группе B: {0:.2f}'.format (orders[orders['group']=='B']['revenue'].mean()))"
   ]
  },
  {
   "cell_type": "markdown",
   "metadata": {},
   "source": [
    "P-value значительно больше 0.05. Значит, причин отвергать нулевую гипотезу и считать, что в среднем чеке есть различия, нет. Впрочем, средний чек группы B выше среднего чека группы A на 25%.\n",
    "\n",
    "Напомним, что найденные выше 95-й и 99-й перцентили средних чеков равны 28000 и 58233 рублям. А 95-й и 99-й перцентили количества заказов на одного пользователя равны 2 и 4 заказа на пользователя.\n",
    "\n",
    "Примем за аномальных пользователей тех, кто совершил от 3 заказов или совершил заказ дороже 28 000 рублей. Так мы уберём 5% пользователей с наибольшим числом заказов и от 1% до 5% пользователей с дорогими заказами. Сделаем срезы пользователей с числом заказов больше 3 — users_many_orders и пользователей, совершивших заказы дороже 20 000 — users_expensive_orders. Объединим их в таблице anomal_users."
   ]
  },
  {
   "cell_type": "markdown",
   "metadata": {},
   "source": [
    "### Cчитаем статистическую значимость различий в конверсии между группами по «очищенным» данным."
   ]
  },
  {
   "cell_type": "code",
   "execution_count": 50,
   "metadata": {},
   "outputs": [
    {
     "name": "stdout",
     "output_type": "stream",
     "text": [
      "(63,)\n"
     ]
    }
   ],
   "source": [
    "users_many_orders = pd.concat(\n",
    "    [\n",
    "        orders_users_a[orders_users_a['orders'] > anomal_orders[0]]['user_id'],\n",
    "        orders_users_b[orders_users_b['orders'] > anomal_orders[0]]['user_id'],\n",
    "    ],\n",
    "    axis=0,\n",
    ")\n",
    "users_expensive_orders = orders[orders['revenue'] > anomal_revenue[0]]['visitor_id']\n",
    "anomal_users = (\n",
    "    pd.concat([users_many_orders, users_expensive_orders], axis=0)\n",
    "    .drop_duplicates()\n",
    "    .sort_values()\n",
    ")\n",
    "\n",
    "print(anomal_users.shape)"
   ]
  },
  {
   "cell_type": "markdown",
   "metadata": {},
   "source": [
    "Всего 63 аномальных пользователя."
   ]
  },
  {
   "cell_type": "code",
   "execution_count": 51,
   "metadata": {},
   "outputs": [],
   "source": [
    "# считаем конверсию без аномалий\n",
    "sample_a_filtered = pd.concat(\n",
    "    [\n",
    "        orders_users_a[\n",
    "            np.logical_not(orders_users_a['user_id'].isin(anomal_users))\n",
    "        ]['orders'],\n",
    "        pd.Series(\n",
    "            0,\n",
    "            index=np.arange(\n",
    "                visitors_a_daily['visitors_date_a'].sum() - len(orders_users_a['orders'])\n",
    "            ),\n",
    "            name='orders',\n",
    "        ),\n",
    "    ],\n",
    "    axis=0,\n",
    ")\n",
    "\n",
    "sample_b_filtered = pd.concat(\n",
    "    [\n",
    "        orders_users_b[\n",
    "            np.logical_not(orders_users_b['user_id'].isin(anomal_users))\n",
    "        ]['orders'],\n",
    "        pd.Series(\n",
    "            0,\n",
    "            index=np.arange(\n",
    "                visitors_b_daily['visitors_date_b'].sum() - len(orders_users_b['orders'])\n",
    "            ),\n",
    "            name='orders',\n",
    "        ),\n",
    "    ],\n",
    "    axis=0,\n",
    ")"
   ]
  },
  {
   "cell_type": "markdown",
   "metadata": {},
   "source": [
    "**Конверсия**\n",
    "\n",
    "**H0**: Значимых различий в конверсии нет\n",
    "\n",
    "**H1**: Конверсия значимо различается\n",
    "\n",
    "Уровень значимости - 0.05"
   ]
  },
  {
   "cell_type": "code",
   "execution_count": 52,
   "metadata": {},
   "outputs": [
    {
     "name": "stdout",
     "output_type": "stream",
     "text": [
      "Статистическая значимость различий в конверсии между группами по «очищенным» данным: 0.018\n",
      "Отвергаем нулевую гипотезу: разница статистически значима\n",
      "Относительное различие в конверсии между группами : 0.148\n"
     ]
    }
   ],
   "source": [
    "print('Статистическая значимость различий в конверсии между группами по «очищенным» данным: {0:.3f}'.format(\n",
    "    stats.mannwhitneyu(sample_a_filtered,sample_b_filtered, alternative=\"two-sided\")[1]))\n",
    "\n",
    "results = stats.mannwhitneyu(sample_a_filtered,sample_b_filtered, alternative=\"two-sided\")[1]\n",
    "\n",
    "if results < alpha:\n",
    "    print('Отвергаем нулевую гипотезу: разница статистически значима')\n",
    "else:\n",
    "    print(\n",
    "        'Не получилось отвергнуть нулевую гипотезу, вывод о различии сделать нельзя'\n",
    "    ) \n",
    "    \n",
    "\n",
    "print('Относительное различие в конверсии между группами : {0:.3f}'.format(\n",
    "    sample_b_filtered.mean()/sample_a_filtered.mean()-1))"
   ]
  },
  {
   "cell_type": "markdown",
   "metadata": {},
   "source": [
    "По очищенным данным сохраняются различия в конверсии: \n",
    "* p-value 0.017 - по сырым, \n",
    "* p-value 0.018 - по очищенным.\n",
    "\n",
    "Относительная разница выросла с 13.8% до 14.8%. \n",
    "\n",
    "Можно с большой уверенностью говорить о том, что в группе В лучше конверсия. **Отвергаем** нулевую гипотезу, разница статистичесски значима."
   ]
  },
  {
   "cell_type": "markdown",
   "metadata": {},
   "source": [
    "### Считаем статистическую значимость различий в среднем чеке заказа между группами по «очищенным» данным"
   ]
  },
  {
   "cell_type": "code",
   "execution_count": 53,
   "metadata": {},
   "outputs": [
    {
     "name": "stdout",
     "output_type": "stream",
     "text": [
      "Статистическая значимость различий в среднем чеке между группами по «очищенным» данным: 0.977\n",
      "Не получилось отвергнуть нулевую гипотезу, вывод о различии сделать нельзя\n",
      "Относительные различия в среднем чеке между группами: 0.017\n"
     ]
    }
   ],
   "source": [
    "# считаем средний чек без аномалий\n",
    "sample_a_filt_rev = orders[np.logical_and(orders['group']=='A',\n",
    "                            np.logical_not(orders['visitor_id'].isin(anomal_users)))]['revenue']\n",
    "\n",
    "sample_b_filt_rev = orders[np.logical_and(orders['group']=='B',\n",
    "                            np.logical_not(orders['visitor_id'].isin(anomal_users)))]['revenue']\n",
    "\n",
    "print('Статистическая значимость различий в среднем чеке между группами по «очищенным» данным: {0:.3f}'.format(\n",
    "    stats.mannwhitneyu(\n",
    "        sample_a_filt_rev, \n",
    "        sample_b_filt_rev, \n",
    "        alternative=\"two-sided\")[1]))\n",
    "\n",
    "results = stats.mannwhitneyu(sample_a_filt_rev, sample_b_filt_rev, alternative=\"two-sided\")[1]\n",
    "\n",
    "if results < alpha:\n",
    "    print('Отвергаем нулевую гипотезу: разница статистически значима')\n",
    "else:\n",
    "    print(\n",
    "        'Не получилось отвергнуть нулевую гипотезу, вывод о различии сделать нельзя'\n",
    "    ) \n",
    "\n",
    "print('Относительные различия в среднем чеке между группами: {0:.3f}'.format(\n",
    "    sample_a_filt_rev.mean()/sample_b_filt_rev.mean()-1))"
   ]
  },
  {
   "cell_type": "code",
   "execution_count": 54,
   "metadata": {},
   "outputs": [
    {
     "name": "stdout",
     "output_type": "stream",
     "text": [
      "Средний чек по сырым данным в группе А: 5192.07\n",
      "Средний чек по сырым данным в группе B: 5104.89\n"
     ]
    }
   ],
   "source": [
    "print('Средний чек по сырым данным в группе А: {0:.2f}'.format (orders[np.logical_and(orders['group']=='A',\n",
    "                            np.logical_not(orders['visitor_id'].isin(anomal_users)))]['revenue'].mean()))\n",
    "print('Средний чек по сырым данным в группе B: {0:.2f}'.format (orders[np.logical_and(orders['group']=='B',\n",
    "                            np.logical_not(orders['visitor_id'].isin(anomal_users)))]['revenue'].mean()))"
   ]
  },
  {
   "cell_type": "markdown",
   "metadata": {},
   "source": [
    "P-value вырос с 0.729 до 0.977, а вот относительные различия снизились с 0.259 до 0.017, следовательно мы **не отвергаем** нулевую гипотезу. Заодно снизился и средний чек, кстати, в группе В теперь он ниже, чем в А."
   ]
  },
  {
   "cell_type": "markdown",
   "metadata": {},
   "source": [
    "### Принимаем решение по результатам теста."
   ]
  },
  {
   "cell_type": "code",
   "execution_count": 55,
   "metadata": {},
   "outputs": [],
   "source": [
    "# считаем кумулятивную конверсию по очищенным данным\n",
    "#отсекаем аномальных пользователей\n",
    "orders_normal = orders.query('visitor_id not in @anomal_users')\n",
    "orders_filtered = dates_groups.apply(\n",
    "    lambda x: orders_normal[np.logical_and(\n",
    "        orders_normal['date'] <= x['date'], \n",
    "        orders_normal['group'] == x['group']\n",
    "    )]\\\n",
    "                                    .agg(\n",
    "        {'date':'max', \n",
    "         'group':'max', \n",
    "         'transaction_id':pd.Series.nunique, \n",
    "         'visitor_id':pd.Series.nunique, \n",
    "         'revenue':'sum'}), axis=1\n",
    ")\\\n",
    "                                    .sort_values(\n",
    "    by=['date','group']\n",
    "                                                )\n",
    "# собираем очищенный накопитель заказов\n",
    "cum_data_filt = orders_filtered.merge(visitors_aggregated, left_on=['date', 'group'], \\\n",
    "                                                            right_on=['date', 'group'])\n",
    "cum_data_filt.columns = ['date', 'group', 'orders', 'buyers', 'revenue', 'visitors']\n",
    "cum_data_filt['conversion'] = cum_data_filt['orders']/cum_data_filt['visitors']\n",
    "\n",
    "# делим по дням в группе А\n",
    "cum_rev_a_filt = cum_data_filt[cum_data_filt['group']=='A'][['date','revenue', 'orders', 'conversion']]\n",
    "\n",
    "# делим по дням в группе B\n",
    "cum_rev_b_filt = cum_data_filt[cum_data_filt['group']=='B'][['date','revenue', 'orders', 'conversion']]\n",
    "\n",
    "# собираем данные в одном датафрейме\n",
    "merged_сum_rev_filt = cum_rev_a_filt.merge(cum_rev_b_filt, left_on='date'\\\n",
    "                                                       , right_on='date', how='left', suffixes=['_a', '_b'])"
   ]
  },
  {
   "cell_type": "code",
   "execution_count": 56,
   "metadata": {},
   "outputs": [
    {
     "data": {
      "text/plain": [
       "<matplotlib.legend.Legend at 0x19c55c1c400>"
      ]
     },
     "execution_count": 56,
     "metadata": {},
     "output_type": "execute_result"
    },
    {
     "data": {
      "image/png": "[encoded data removed]",
      "text/plain": [
       "<Figure size 864x432 with 1 Axes>"
      ]
     },
     "metadata": {
      "needs_background": "light"
     },
     "output_type": "display_data"
    }
   ],
   "source": [
    "# строим графики\n",
    "plt.figure(figsize=(12, 6))\n",
    "plt.grid()\n",
    "plt.title('Кумулятивная конверсия по группам, очищенные данные')\n",
    "plt.plot(cum_rev_a_filt['date'], \n",
    "         cum_rev_a_filt['conversion'], \n",
    "         label='A', \n",
    "         color='green', \n",
    "         marker='o')\n",
    "plt.plot(cum_rev_b_filt['date'], \n",
    "         cum_rev_b_filt['conversion'], \n",
    "         label='B',\n",
    "         color='orange', \n",
    "         marker='o')\n",
    "plt.xticks(rotation=45)\n",
    "plt.xlabel('Дата')\n",
    "plt.ylabel('Кумулятивная конверсия')\n",
    "plt.legend()"
   ]
  },
  {
   "cell_type": "markdown",
   "metadata": {},
   "source": [
    "Видим, что на \"очищенных\" данных конверсия снизилась. По \"сырым\" данным к концу исследуемого периода кумулятивная конверсия в группе Б держалась на уровне 34%, на \"очищенных\" не доходит до 31%."
   ]
  },
  {
   "cell_type": "code",
   "execution_count": 57,
   "metadata": {},
   "outputs": [
    {
     "data": {
      "image/png": "[encoded data removed]",
      "text/plain": [
       "<Figure size 864x432 with 1 Axes>"
      ]
     },
     "metadata": {
      "needs_background": "light"
     },
     "output_type": "display_data"
    }
   ],
   "source": [
    "# cтроим отношение средних чеков\n",
    "plt.figure(figsize=(12,6))\n",
    "plt.grid()\n",
    "plt.title('Кумулятивный средний чек по группам, очищенные данные')\n",
    "plt.plot(cum_rev_a_filt['date'], \n",
    "         cum_rev_a_filt['revenue']/cum_rev_a_filt['orders'], \n",
    "         label = 'A',\n",
    "         color='green', \n",
    "         marker='o')\n",
    "plt.plot(cum_rev_b_filt['date'], \n",
    "         cum_rev_b_filt['revenue']/cum_rev_b_filt['orders'], \n",
    "         label = 'B',\n",
    "         color='orange', \n",
    "         marker='o')\n",
    "plt.legend()\n",
    "plt.xticks(rotation=45)\n",
    "plt.xlabel('Дата')\n",
    "plt.ylabel('Средний чек, руб')\n",
    "plt.show()"
   ]
  },
  {
   "cell_type": "markdown",
   "metadata": {},
   "source": [
    "Графики остаются нестабльными, в конце исследуемого периода группа А вышла в лидеры по среднему чеку. "
   ]
  },
  {
   "cell_type": "markdown",
   "metadata": {},
   "source": [
    "Найдем минимальную длительность теста для определения относительного различия между группами теста в 2% при условиях: \n",
    "* базовая конверсия 30%, - кумулятивная конверсия на ощищенных данных в группе В не доходит до 31%\n",
    "* групп (вариаций) 2, \n",
    "* пользователей в день в среднем 31, \n",
    "* из них в тесте участвует каждый второй.\n",
    "\n",
    "Будем использовать калькулятор расчёта длительности теста: https://vwo.com/tools/ab-test-duration-calculator/ "
   ]
  },
  {
   "cell_type": "code",
   "execution_count": 58,
   "metadata": {},
   "outputs": [
    {
     "data": {
      "text/html": [
       "<div>\n",
       "<style scoped>\n",
       "    .dataframe tbody tr th:only-of-type {\n",
       "        vertical-align: middle;\n",
       "    }\n",
       "\n",
       "    .dataframe tbody tr th {\n",
       "        vertical-align: top;\n",
       "    }\n",
       "\n",
       "    .dataframe thead th {\n",
       "        text-align: right;\n",
       "    }\n",
       "</style>\n",
       "<table border=\"1\" class=\"dataframe\">\n",
       "  <thead>\n",
       "    <tr style=\"text-align: right;\">\n",
       "      <th></th>\n",
       "      <th>orders_date_a</th>\n",
       "      <th>revenue_date_a</th>\n",
       "      <th>orders_date_b</th>\n",
       "      <th>revenue_date_b</th>\n",
       "      <th>orders_a_cum</th>\n",
       "      <th>revenue_a_cum</th>\n",
       "      <th>orders_b_cum</th>\n",
       "      <th>revenue_b_cum</th>\n",
       "      <th>visitors_date_a</th>\n",
       "      <th>visitors_date_b</th>\n",
       "      <th>visitors_cum_a</th>\n",
       "      <th>visitors_cum_b</th>\n",
       "    </tr>\n",
       "  </thead>\n",
       "  <tbody>\n",
       "    <tr>\n",
       "      <th>count</th>\n",
       "      <td>31.00</td>\n",
       "      <td>31.00</td>\n",
       "      <td>31.00</td>\n",
       "      <td>31.00</td>\n",
       "      <td>31.00</td>\n",
       "      <td>31.00</td>\n",
       "      <td>31.00</td>\n",
       "      <td>31.00</td>\n",
       "      <td>31.00</td>\n",
       "      <td>31.00</td>\n",
       "      <td>31.00</td>\n",
       "      <td>31.00</td>\n",
       "    </tr>\n",
       "    <tr>\n",
       "      <th>mean</th>\n",
       "      <td>17.97</td>\n",
       "      <td>131,767.84</td>\n",
       "      <td>20.65</td>\n",
       "      <td>190,572.90</td>\n",
       "      <td>297.71</td>\n",
       "      <td>2,024,355.58</td>\n",
       "      <td>337.61</td>\n",
       "      <td>2,904,625.68</td>\n",
       "      <td>604.39</td>\n",
       "      <td>610.19</td>\n",
       "      <td>9,860.42</td>\n",
       "      <td>9,906.19</td>\n",
       "    </tr>\n",
       "    <tr>\n",
       "      <th>std</th>\n",
       "      <td>4.96</td>\n",
       "      <td>72,146.28</td>\n",
       "      <td>5.19</td>\n",
       "      <td>238,001.24</td>\n",
       "      <td>160.36</td>\n",
       "      <td>1,209,240.73</td>\n",
       "      <td>184.92</td>\n",
       "      <td>1,932,481.84</td>\n",
       "      <td>112.40</td>\n",
       "      <td>118.16</td>\n",
       "      <td>5,389.78</td>\n",
       "      <td>5,455.34</td>\n",
       "    </tr>\n",
       "    <tr>\n",
       "      <th>min</th>\n",
       "      <td>10.00</td>\n",
       "      <td>48,484.00</td>\n",
       "      <td>9.00</td>\n",
       "      <td>53,310.00</td>\n",
       "      <td>24.00</td>\n",
       "      <td>148,579.00</td>\n",
       "      <td>21.00</td>\n",
       "      <td>101,217.00</td>\n",
       "      <td>361.00</td>\n",
       "      <td>369.00</td>\n",
       "      <td>719.00</td>\n",
       "      <td>713.00</td>\n",
       "    </tr>\n",
       "    <tr>\n",
       "      <th>25%</th>\n",
       "      <td>15.00</td>\n",
       "      <td>77,602.00</td>\n",
       "      <td>16.00</td>\n",
       "      <td>105,332.00</td>\n",
       "      <td>169.00</td>\n",
       "      <td>931,350.00</td>\n",
       "      <td>192.50</td>\n",
       "      <td>1,350,995.00</td>\n",
       "      <td>541.00</td>\n",
       "      <td>537.00</td>\n",
       "      <td>5,547.50</td>\n",
       "      <td>5,603.00</td>\n",
       "    </tr>\n",
       "    <tr>\n",
       "      <th>50%</th>\n",
       "      <td>17.00</td>\n",
       "      <td>112,473.00</td>\n",
       "      <td>21.00</td>\n",
       "      <td>147,274.00</td>\n",
       "      <td>301.00</td>\n",
       "      <td>2,078,908.00</td>\n",
       "      <td>359.00</td>\n",
       "      <td>2,539,635.00</td>\n",
       "      <td>619.00</td>\n",
       "      <td>654.00</td>\n",
       "      <td>10,047.00</td>\n",
       "      <td>10,013.00</td>\n",
       "    </tr>\n",
       "    <tr>\n",
       "      <th>75%</th>\n",
       "      <td>22.50</td>\n",
       "      <td>165,761.50</td>\n",
       "      <td>24.00</td>\n",
       "      <td>177,353.50</td>\n",
       "      <td>433.50</td>\n",
       "      <td>2,938,218.50</td>\n",
       "      <td>485.00</td>\n",
       "      <td>4,750,969.00</td>\n",
       "      <td>705.00</td>\n",
       "      <td>711.00</td>\n",
       "      <td>14,124.50</td>\n",
       "      <td>14,259.00</td>\n",
       "    </tr>\n",
       "    <tr>\n",
       "      <th>max</th>\n",
       "      <td>28.00</td>\n",
       "      <td>320,690.00</td>\n",
       "      <td>31.00</td>\n",
       "      <td>1,429,920.00</td>\n",
       "      <td>557.00</td>\n",
       "      <td>4,084,803.00</td>\n",
       "      <td>640.00</td>\n",
       "      <td>5,907,760.00</td>\n",
       "      <td>756.00</td>\n",
       "      <td>770.00</td>\n",
       "      <td>18,736.00</td>\n",
       "      <td>18,916.00</td>\n",
       "    </tr>\n",
       "  </tbody>\n",
       "</table>\n",
       "</div>"
      ],
      "text/plain": [
       "       orders_date_a  revenue_date_a  orders_date_b  revenue_date_b  \\\n",
       "count          31.00           31.00          31.00           31.00   \n",
       "mean           17.97      131,767.84          20.65      190,572.90   \n",
       "std             4.96       72,146.28           5.19      238,001.24   \n",
       "min            10.00       48,484.00           9.00       53,310.00   \n",
       "25%            15.00       77,602.00          16.00      105,332.00   \n",
       "50%            17.00      112,473.00          21.00      147,274.00   \n",
       "75%            22.50      165,761.50          24.00      177,353.50   \n",
       "max            28.00      320,690.00          31.00    1,429,920.00   \n",
       "\n",
       "       orders_a_cum  revenue_a_cum  orders_b_cum  revenue_b_cum  \\\n",
       "count         31.00          31.00         31.00          31.00   \n",
       "mean         297.71   2,024,355.58        337.61   2,904,625.68   \n",
       "std          160.36   1,209,240.73        184.92   1,932,481.84   \n",
       "min           24.00     148,579.00         21.00     101,217.00   \n",
       "25%          169.00     931,350.00        192.50   1,350,995.00   \n",
       "50%          301.00   2,078,908.00        359.00   2,539,635.00   \n",
       "75%          433.50   2,938,218.50        485.00   4,750,969.00   \n",
       "max          557.00   4,084,803.00        640.00   5,907,760.00   \n",
       "\n",
       "       visitors_date_a  visitors_date_b  visitors_cum_a  visitors_cum_b  \n",
       "count            31.00            31.00           31.00           31.00  \n",
       "mean            604.39           610.19        9,860.42        9,906.19  \n",
       "std             112.40           118.16        5,389.78        5,455.34  \n",
       "min             361.00           369.00          719.00          713.00  \n",
       "25%             541.00           537.00        5,547.50        5,603.00  \n",
       "50%             619.00           654.00       10,047.00       10,013.00  \n",
       "75%             705.00           711.00       14,124.50       14,259.00  \n",
       "max             756.00           770.00       18,736.00       18,916.00  "
      ]
     },
     "execution_count": 58,
     "metadata": {},
     "output_type": "execute_result"
    }
   ],
   "source": [
    "# смотрим сколько пользователей в день в среднем по группам\n",
    "data.describe()"
   ]
  },
  {
   "cell_type": "markdown",
   "metadata": {},
   "source": [
    "В среднем 604 пользователя в группе А и 610 пользователей в групппе В в день. Суммарно 1214 пользователей в день в среднем."
   ]
  },
  {
   "cell_type": "markdown",
   "metadata": {},
   "source": [
    "Минимальное улучшение коэффициента конверсии, которое мы хотим обнаружить - 20%\n",
    "\n",
    "Результат теста: 2 дня. Тест говорит, что пора его завершать, победила группа В."
   ]
  },
  {
   "cell_type": "markdown",
   "metadata": {},
   "source": [
    "## Вывод"
   ]
  },
  {
   "cell_type": "markdown",
   "metadata": {},
   "source": [
    "**В предобработке данных**:\n",
    "* изучили данные датасетов\n",
    "\n",
    "* обнаружили и иправили следующие проблемы: смешаный регистр в названиях столбцов, дата в формате object, неявные дубликаты 5%\n",
    "\n",
    "* пропуски в таблицах отсутствуют\n",
    "\n",
    "**В приоретизации гипотез**:\n",
    "* составили фреймворки ICE и RICE: \n",
    "    * лучшая гипотеза ICE - \"Запустить акцию, дающую скидку на товар в день рождения\"\n",
    "    * лучшая гипотеза RICE - \"Добавить форму подписки на все основные страницы, чтобы собрать базу клиентов для email-рассылок\"\n",
    "Приорет гипотез различается из-за учета охвата аудитории в RICE. Акцию в день рождения получит только именинник, email-рассылку получит вся база.\n",
    "\n",
    "**Результаты А/В теста**:\n",
    "* по «сырым» данным различия в конверсии групп A и B есть\n",
    "* по \"очищенным данным\" различия сохраняются и группа В лидирует\n",
    "* по «сырым» данным нет смысла анализировать средний чек, выбросы в группе В ломают всю картину\n",
    "* по \"очищенным данным\" средний чек, по критерию Манна-Уитни, не имеет значимых различий\n",
    "* по \"очищенным данным\" графики среднего чека переплетаются и меняют позиции\n",
    "* необходимо **завершить тест**, зафиксировать победу группы В."
   ]
  }
 ],
 "metadata": {
  "ExecuteTimeLog": [
   {
    "duration": 1669,
    "start_time": "2022-05-13T07:41:48.295Z"
   },
   {
    "duration": 4,
    "start_time": "2022-05-13T07:41:49.968Z"
   },
   {
    "duration": 46,
    "start_time": "2022-05-13T07:41:53.803Z"
   },
   {
    "duration": 131,
    "start_time": "2022-05-13T07:41:55.632Z"
   },
   {
    "duration": 3,
    "start_time": "2022-05-13T07:42:07.043Z"
   },
   {
    "duration": 4,
    "start_time": "2022-05-13T07:42:16.472Z"
   },
   {
    "duration": 25,
    "start_time": "2022-05-13T07:45:06.108Z"
   },
   {
    "duration": 4,
    "start_time": "2022-05-13T07:46:42.794Z"
   },
   {
    "duration": 21,
    "start_time": "2022-05-13T07:46:45.494Z"
   },
   {
    "duration": 21,
    "start_time": "2022-05-13T07:48:59.450Z"
   },
   {
    "duration": 111,
    "start_time": "2022-05-13T07:50:44.506Z"
   },
   {
    "duration": 4,
    "start_time": "2022-05-13T07:50:55.382Z"
   },
   {
    "duration": 35,
    "start_time": "2022-05-13T07:50:57.512Z"
   },
   {
    "duration": 4,
    "start_time": "2022-05-13T07:51:43.156Z"
   },
   {
    "duration": 33,
    "start_time": "2022-05-13T07:51:43.573Z"
   },
   {
    "duration": 4,
    "start_time": "2022-05-13T07:55:38.663Z"
   },
   {
    "duration": 32,
    "start_time": "2022-05-13T07:55:39.079Z"
   },
   {
    "duration": 4,
    "start_time": "2022-05-13T07:55:47.678Z"
   },
   {
    "duration": 34,
    "start_time": "2022-05-13T07:55:48.092Z"
   },
   {
    "duration": 30,
    "start_time": "2022-05-13T09:50:39.413Z"
   },
   {
    "duration": 32,
    "start_time": "2022-05-13T09:52:39.519Z"
   },
   {
    "duration": 29,
    "start_time": "2022-05-13T09:52:50.710Z"
   },
   {
    "duration": 29,
    "start_time": "2022-05-13T09:53:13.615Z"
   },
   {
    "duration": 29,
    "start_time": "2022-05-13T10:10:20.511Z"
   },
   {
    "duration": 4,
    "start_time": "2022-05-13T10:17:18.290Z"
   },
   {
    "duration": 14,
    "start_time": "2022-05-13T10:17:25.993Z"
   },
   {
    "duration": 13,
    "start_time": "2022-05-13T10:18:47.761Z"
   },
   {
    "duration": 99,
    "start_time": "2022-05-13T10:22:08.393Z"
   },
   {
    "duration": 9,
    "start_time": "2022-05-13T10:23:26.779Z"
   },
   {
    "duration": 6,
    "start_time": "2022-05-13T10:24:43.341Z"
   },
   {
    "duration": 1333,
    "start_time": "2022-05-13T10:26:02.532Z"
   },
   {
    "duration": 4,
    "start_time": "2022-05-13T10:26:03.869Z"
   },
   {
    "duration": 60,
    "start_time": "2022-05-13T10:26:03.875Z"
   },
   {
    "duration": 6,
    "start_time": "2022-05-13T10:26:03.937Z"
   },
   {
    "duration": 52,
    "start_time": "2022-05-13T10:26:03.946Z"
   },
   {
    "duration": 44,
    "start_time": "2022-05-13T10:26:04.000Z"
   },
   {
    "duration": 41,
    "start_time": "2022-05-13T10:26:04.046Z"
   },
   {
    "duration": 44,
    "start_time": "2022-05-13T10:26:04.088Z"
   },
   {
    "duration": 16,
    "start_time": "2022-05-13T10:26:04.134Z"
   },
   {
    "duration": 12,
    "start_time": "2022-05-13T10:26:04.152Z"
   },
   {
    "duration": 14,
    "start_time": "2022-05-13T10:40:58.862Z"
   },
   {
    "duration": 16,
    "start_time": "2022-05-13T10:41:11.613Z"
   },
   {
    "duration": 11,
    "start_time": "2022-05-13T10:42:04.592Z"
   },
   {
    "duration": 8,
    "start_time": "2022-05-13T11:17:53.768Z"
   },
   {
    "duration": 10,
    "start_time": "2022-05-13T11:18:20.049Z"
   },
   {
    "duration": 151,
    "start_time": "2022-05-13T11:20:49.026Z"
   },
   {
    "duration": 298,
    "start_time": "2022-05-13T11:21:01.087Z"
   },
   {
    "duration": 1370,
    "start_time": "2022-05-13T11:33:24.676Z"
   },
   {
    "duration": 3,
    "start_time": "2022-05-13T11:33:26.048Z"
   },
   {
    "duration": 47,
    "start_time": "2022-05-13T11:33:26.053Z"
   },
   {
    "duration": 4,
    "start_time": "2022-05-13T11:33:26.102Z"
   },
   {
    "duration": 41,
    "start_time": "2022-05-13T11:33:26.109Z"
   },
   {
    "duration": 31,
    "start_time": "2022-05-13T11:33:26.152Z"
   },
   {
    "duration": 119,
    "start_time": "2022-05-13T11:33:26.185Z"
   },
   {
    "duration": 0,
    "start_time": "2022-05-13T11:33:26.306Z"
   },
   {
    "duration": 0,
    "start_time": "2022-05-13T11:33:26.307Z"
   },
   {
    "duration": 0,
    "start_time": "2022-05-13T11:33:26.308Z"
   },
   {
    "duration": 0,
    "start_time": "2022-05-13T11:33:26.309Z"
   },
   {
    "duration": 0,
    "start_time": "2022-05-13T11:33:26.310Z"
   },
   {
    "duration": 0,
    "start_time": "2022-05-13T11:33:26.312Z"
   },
   {
    "duration": 0,
    "start_time": "2022-05-13T11:33:26.313Z"
   },
   {
    "duration": 0,
    "start_time": "2022-05-13T11:33:26.314Z"
   },
   {
    "duration": 13,
    "start_time": "2022-05-13T11:34:21.194Z"
   },
   {
    "duration": 1140,
    "start_time": "2022-05-13T11:44:28.903Z"
   },
   {
    "duration": 3,
    "start_time": "2022-05-13T11:44:30.045Z"
   },
   {
    "duration": 88,
    "start_time": "2022-05-13T11:44:30.050Z"
   },
   {
    "duration": 6,
    "start_time": "2022-05-13T11:44:30.140Z"
   },
   {
    "duration": 80,
    "start_time": "2022-05-13T11:44:30.148Z"
   },
   {
    "duration": 29,
    "start_time": "2022-05-13T11:44:30.230Z"
   },
   {
    "duration": 28,
    "start_time": "2022-05-13T11:44:30.261Z"
   },
   {
    "duration": 42,
    "start_time": "2022-05-13T11:44:30.291Z"
   },
   {
    "duration": 37,
    "start_time": "2022-05-13T11:44:30.335Z"
   },
   {
    "duration": 41,
    "start_time": "2022-05-13T11:44:30.375Z"
   },
   {
    "duration": 124,
    "start_time": "2022-05-13T11:44:30.417Z"
   },
   {
    "duration": 0,
    "start_time": "2022-05-13T11:44:30.543Z"
   },
   {
    "duration": 0,
    "start_time": "2022-05-13T11:44:30.544Z"
   },
   {
    "duration": 0,
    "start_time": "2022-05-13T11:44:30.545Z"
   },
   {
    "duration": 0,
    "start_time": "2022-05-13T11:44:30.547Z"
   },
   {
    "duration": 0,
    "start_time": "2022-05-13T11:44:30.548Z"
   },
   {
    "duration": 6,
    "start_time": "2022-05-13T11:44:42.424Z"
   },
   {
    "duration": 17,
    "start_time": "2022-05-13T11:45:41.081Z"
   },
   {
    "duration": 12,
    "start_time": "2022-05-13T11:46:16.569Z"
   },
   {
    "duration": 1264,
    "start_time": "2022-05-13T12:22:24.880Z"
   },
   {
    "duration": 3,
    "start_time": "2022-05-13T12:22:26.146Z"
   },
   {
    "duration": 61,
    "start_time": "2022-05-13T12:22:26.151Z"
   },
   {
    "duration": 5,
    "start_time": "2022-05-13T12:22:26.215Z"
   },
   {
    "duration": 71,
    "start_time": "2022-05-13T12:22:26.222Z"
   },
   {
    "duration": 31,
    "start_time": "2022-05-13T12:22:26.294Z"
   },
   {
    "duration": 11,
    "start_time": "2022-05-13T12:22:26.327Z"
   },
   {
    "duration": 25,
    "start_time": "2022-05-13T12:22:26.367Z"
   },
   {
    "duration": 20,
    "start_time": "2022-05-13T12:22:26.393Z"
   },
   {
    "duration": 24,
    "start_time": "2022-05-13T12:22:26.415Z"
   },
   {
    "duration": 41,
    "start_time": "2022-05-13T12:22:26.441Z"
   },
   {
    "duration": 27,
    "start_time": "2022-05-13T12:22:26.484Z"
   },
   {
    "duration": 27,
    "start_time": "2022-05-13T12:22:26.513Z"
   },
   {
    "duration": 47,
    "start_time": "2022-05-13T12:22:26.542Z"
   },
   {
    "duration": 298,
    "start_time": "2022-05-13T12:22:26.591Z"
   },
   {
    "duration": 10,
    "start_time": "2022-05-13T12:28:25.508Z"
   },
   {
    "duration": 5,
    "start_time": "2022-05-13T12:30:11.837Z"
   },
   {
    "duration": 11,
    "start_time": "2022-05-13T12:30:44.071Z"
   },
   {
    "duration": 9,
    "start_time": "2022-05-13T12:31:05.770Z"
   },
   {
    "duration": 273,
    "start_time": "2022-05-13T12:31:57.952Z"
   },
   {
    "duration": 5,
    "start_time": "2022-05-13T12:37:16.708Z"
   },
   {
    "duration": 12,
    "start_time": "2022-05-13T12:37:29.239Z"
   },
   {
    "duration": 1126,
    "start_time": "2022-05-13T12:37:43.401Z"
   },
   {
    "duration": 3,
    "start_time": "2022-05-13T12:37:44.529Z"
   },
   {
    "duration": 49,
    "start_time": "2022-05-13T12:37:44.533Z"
   },
   {
    "duration": 4,
    "start_time": "2022-05-13T12:37:44.584Z"
   },
   {
    "duration": 41,
    "start_time": "2022-05-13T12:37:44.590Z"
   },
   {
    "duration": 36,
    "start_time": "2022-05-13T12:37:44.633Z"
   },
   {
    "duration": 13,
    "start_time": "2022-05-13T12:37:44.671Z"
   },
   {
    "duration": 24,
    "start_time": "2022-05-13T12:37:44.685Z"
   },
   {
    "duration": 7,
    "start_time": "2022-05-13T12:37:44.711Z"
   },
   {
    "duration": 9,
    "start_time": "2022-05-13T12:37:44.720Z"
   },
   {
    "duration": 45,
    "start_time": "2022-05-13T12:37:44.731Z"
   },
   {
    "duration": 12,
    "start_time": "2022-05-13T12:37:44.778Z"
   },
   {
    "duration": 6,
    "start_time": "2022-05-13T12:37:44.792Z"
   },
   {
    "duration": 11,
    "start_time": "2022-05-13T12:37:44.801Z"
   },
   {
    "duration": 311,
    "start_time": "2022-05-13T12:37:44.814Z"
   },
   {
    "duration": 4,
    "start_time": "2022-05-13T12:37:45.127Z"
   },
   {
    "duration": 13,
    "start_time": "2022-05-13T12:37:45.133Z"
   },
   {
    "duration": 263,
    "start_time": "2022-05-13T12:37:45.147Z"
   },
   {
    "duration": 1194,
    "start_time": "2022-05-13T12:38:46.190Z"
   },
   {
    "duration": 3,
    "start_time": "2022-05-13T12:38:47.387Z"
   },
   {
    "duration": 42,
    "start_time": "2022-05-13T12:38:47.392Z"
   },
   {
    "duration": 5,
    "start_time": "2022-05-13T12:38:47.437Z"
   },
   {
    "duration": 45,
    "start_time": "2022-05-13T12:38:47.444Z"
   },
   {
    "duration": 28,
    "start_time": "2022-05-13T12:38:47.491Z"
   },
   {
    "duration": 96,
    "start_time": "2022-05-13T12:38:47.521Z"
   },
   {
    "duration": 26,
    "start_time": "2022-05-13T12:38:47.619Z"
   },
   {
    "duration": 51,
    "start_time": "2022-05-13T12:38:47.647Z"
   },
   {
    "duration": 35,
    "start_time": "2022-05-13T12:38:47.701Z"
   },
   {
    "duration": 39,
    "start_time": "2022-05-13T12:38:47.738Z"
   },
   {
    "duration": 17,
    "start_time": "2022-05-13T12:38:47.779Z"
   },
   {
    "duration": 48,
    "start_time": "2022-05-13T12:38:47.797Z"
   },
   {
    "duration": 55,
    "start_time": "2022-05-13T12:38:47.847Z"
   },
   {
    "duration": 449,
    "start_time": "2022-05-13T12:38:47.905Z"
   },
   {
    "duration": 15,
    "start_time": "2022-05-13T12:38:48.356Z"
   },
   {
    "duration": 59,
    "start_time": "2022-05-13T12:38:48.373Z"
   },
   {
    "duration": 317,
    "start_time": "2022-05-13T12:38:48.434Z"
   },
   {
    "duration": 12,
    "start_time": "2022-05-13T12:40:01.351Z"
   },
   {
    "duration": 1279,
    "start_time": "2022-05-13T12:40:25.092Z"
   },
   {
    "duration": 3,
    "start_time": "2022-05-13T12:40:26.374Z"
   },
   {
    "duration": 51,
    "start_time": "2022-05-13T12:40:26.379Z"
   },
   {
    "duration": 5,
    "start_time": "2022-05-13T12:40:26.432Z"
   },
   {
    "duration": 40,
    "start_time": "2022-05-13T12:40:26.439Z"
   },
   {
    "duration": 27,
    "start_time": "2022-05-13T12:40:26.481Z"
   },
   {
    "duration": 9,
    "start_time": "2022-05-13T12:40:26.510Z"
   },
   {
    "duration": 52,
    "start_time": "2022-05-13T12:40:26.521Z"
   },
   {
    "duration": 8,
    "start_time": "2022-05-13T12:40:26.575Z"
   },
   {
    "duration": 19,
    "start_time": "2022-05-13T12:40:26.584Z"
   },
   {
    "duration": 15,
    "start_time": "2022-05-13T12:40:26.605Z"
   },
   {
    "duration": 10,
    "start_time": "2022-05-13T12:40:26.622Z"
   },
   {
    "duration": 6,
    "start_time": "2022-05-13T12:40:26.634Z"
   },
   {
    "duration": 16,
    "start_time": "2022-05-13T12:40:26.668Z"
   },
   {
    "duration": 266,
    "start_time": "2022-05-13T12:40:26.686Z"
   },
   {
    "duration": 13,
    "start_time": "2022-05-13T12:40:26.954Z"
   },
   {
    "duration": 17,
    "start_time": "2022-05-13T12:40:26.969Z"
   },
   {
    "duration": 240,
    "start_time": "2022-05-13T12:40:26.988Z"
   },
   {
    "duration": 11,
    "start_time": "2022-05-13T12:40:42.433Z"
   },
   {
    "duration": 1285,
    "start_time": "2022-05-13T12:42:16.578Z"
   },
   {
    "duration": 3,
    "start_time": "2022-05-13T12:42:17.865Z"
   },
   {
    "duration": 50,
    "start_time": "2022-05-13T12:42:17.870Z"
   },
   {
    "duration": 5,
    "start_time": "2022-05-13T12:42:17.922Z"
   },
   {
    "duration": 44,
    "start_time": "2022-05-13T12:42:17.929Z"
   },
   {
    "duration": 27,
    "start_time": "2022-05-13T12:42:17.975Z"
   },
   {
    "duration": 9,
    "start_time": "2022-05-13T12:42:18.004Z"
   },
   {
    "duration": 56,
    "start_time": "2022-05-13T12:42:18.015Z"
   },
   {
    "duration": 9,
    "start_time": "2022-05-13T12:42:18.072Z"
   },
   {
    "duration": 14,
    "start_time": "2022-05-13T12:42:18.082Z"
   },
   {
    "duration": 20,
    "start_time": "2022-05-13T12:42:18.097Z"
   },
   {
    "duration": 19,
    "start_time": "2022-05-13T12:42:18.119Z"
   },
   {
    "duration": 54,
    "start_time": "2022-05-13T12:42:18.140Z"
   },
   {
    "duration": 2170,
    "start_time": "2022-05-13T12:42:18.197Z"
   },
   {
    "duration": 0,
    "start_time": "2022-05-13T12:42:20.368Z"
   },
   {
    "duration": 0,
    "start_time": "2022-05-13T12:42:20.370Z"
   },
   {
    "duration": 0,
    "start_time": "2022-05-13T12:42:20.371Z"
   },
   {
    "duration": 0,
    "start_time": "2022-05-13T12:42:20.372Z"
   },
   {
    "duration": 5,
    "start_time": "2022-05-13T12:43:21.223Z"
   },
   {
    "duration": 265,
    "start_time": "2022-05-13T12:43:24.365Z"
   },
   {
    "duration": 4,
    "start_time": "2022-05-13T12:43:28.468Z"
   },
   {
    "duration": 10,
    "start_time": "2022-05-13T12:43:47.153Z"
   },
   {
    "duration": 6,
    "start_time": "2022-05-13T12:45:39.229Z"
   },
   {
    "duration": 13,
    "start_time": "2022-05-13T12:45:52.935Z"
   },
   {
    "duration": 252,
    "start_time": "2022-05-13T12:46:06.285Z"
   },
   {
    "duration": 1304,
    "start_time": "2022-05-13T12:49:45.685Z"
   },
   {
    "duration": 4,
    "start_time": "2022-05-13T12:49:46.991Z"
   },
   {
    "duration": 53,
    "start_time": "2022-05-13T12:49:46.997Z"
   },
   {
    "duration": 5,
    "start_time": "2022-05-13T12:49:47.052Z"
   },
   {
    "duration": 50,
    "start_time": "2022-05-13T12:49:47.059Z"
   },
   {
    "duration": 30,
    "start_time": "2022-05-13T12:49:47.111Z"
   },
   {
    "duration": 28,
    "start_time": "2022-05-13T12:49:47.143Z"
   },
   {
    "duration": 25,
    "start_time": "2022-05-13T12:49:47.172Z"
   },
   {
    "duration": 8,
    "start_time": "2022-05-13T12:49:47.199Z"
   },
   {
    "duration": 10,
    "start_time": "2022-05-13T12:49:47.209Z"
   },
   {
    "duration": 47,
    "start_time": "2022-05-13T12:49:47.221Z"
   },
   {
    "duration": 11,
    "start_time": "2022-05-13T12:49:47.270Z"
   },
   {
    "duration": 46,
    "start_time": "2022-05-13T12:49:47.282Z"
   },
   {
    "duration": 30,
    "start_time": "2022-05-13T12:49:47.330Z"
   },
   {
    "duration": 269,
    "start_time": "2022-05-13T12:49:47.362Z"
   },
   {
    "duration": 4,
    "start_time": "2022-05-13T12:49:47.633Z"
   },
   {
    "duration": 22,
    "start_time": "2022-05-13T12:49:47.639Z"
   },
   {
    "duration": 255,
    "start_time": "2022-05-13T12:49:47.667Z"
   },
   {
    "duration": 2234,
    "start_time": "2022-05-13T12:53:19.732Z"
   },
   {
    "duration": 13,
    "start_time": "2022-05-13T12:54:33.174Z"
   },
   {
    "duration": 139,
    "start_time": "2022-05-13T12:55:34.874Z"
   },
   {
    "duration": 13,
    "start_time": "2022-05-13T12:55:46.530Z"
   },
   {
    "duration": 13,
    "start_time": "2022-05-13T12:57:14.339Z"
   },
   {
    "duration": 260,
    "start_time": "2022-05-13T12:57:16.639Z"
   },
   {
    "duration": 4,
    "start_time": "2022-05-13T12:57:18.377Z"
   },
   {
    "duration": 13,
    "start_time": "2022-05-13T12:57:19.358Z"
   },
   {
    "duration": 244,
    "start_time": "2022-05-13T12:57:22.759Z"
   },
   {
    "duration": 12,
    "start_time": "2022-05-13T13:03:45.577Z"
   },
   {
    "duration": 15,
    "start_time": "2022-05-13T13:03:53.202Z"
   },
   {
    "duration": 15,
    "start_time": "2022-05-13T13:04:28.643Z"
   },
   {
    "duration": 12,
    "start_time": "2022-05-13T13:05:07.779Z"
   },
   {
    "duration": 13,
    "start_time": "2022-05-13T13:05:30.619Z"
   },
   {
    "duration": 13,
    "start_time": "2022-05-13T13:05:57.850Z"
   },
   {
    "duration": 7,
    "start_time": "2022-05-13T13:06:18.269Z"
   },
   {
    "duration": 14,
    "start_time": "2022-05-13T13:06:26.636Z"
   },
   {
    "duration": 1185,
    "start_time": "2022-05-13T13:07:43.164Z"
   },
   {
    "duration": 2,
    "start_time": "2022-05-13T13:07:44.352Z"
   },
   {
    "duration": 62,
    "start_time": "2022-05-13T13:07:44.356Z"
   },
   {
    "duration": 4,
    "start_time": "2022-05-13T13:07:44.420Z"
   },
   {
    "duration": 56,
    "start_time": "2022-05-13T13:07:44.427Z"
   },
   {
    "duration": 29,
    "start_time": "2022-05-13T13:07:44.485Z"
   },
   {
    "duration": 13,
    "start_time": "2022-05-13T13:07:44.515Z"
   },
   {
    "duration": 57,
    "start_time": "2022-05-13T13:07:44.530Z"
   },
   {
    "duration": 9,
    "start_time": "2022-05-13T13:07:44.589Z"
   },
   {
    "duration": 14,
    "start_time": "2022-05-13T13:07:44.600Z"
   },
   {
    "duration": 29,
    "start_time": "2022-05-13T13:07:44.615Z"
   },
   {
    "duration": 26,
    "start_time": "2022-05-13T13:07:44.646Z"
   },
   {
    "duration": 8,
    "start_time": "2022-05-13T13:07:44.674Z"
   },
   {
    "duration": 11,
    "start_time": "2022-05-13T13:07:44.685Z"
   },
   {
    "duration": 288,
    "start_time": "2022-05-13T13:07:44.697Z"
   },
   {
    "duration": 5,
    "start_time": "2022-05-13T13:07:44.987Z"
   },
   {
    "duration": 18,
    "start_time": "2022-05-13T13:07:44.993Z"
   },
   {
    "duration": 274,
    "start_time": "2022-05-13T13:07:45.013Z"
   },
   {
    "duration": 2837,
    "start_time": "2022-05-13T13:07:45.289Z"
   },
   {
    "duration": 0,
    "start_time": "2022-05-13T13:07:48.127Z"
   },
   {
    "duration": 9,
    "start_time": "2022-05-13T13:17:41.021Z"
   },
   {
    "duration": 8,
    "start_time": "2022-05-13T13:18:08.143Z"
   },
   {
    "duration": 1196,
    "start_time": "2022-05-13T13:34:27.580Z"
   },
   {
    "duration": 3,
    "start_time": "2022-05-13T13:34:28.780Z"
   },
   {
    "duration": 61,
    "start_time": "2022-05-13T13:34:28.785Z"
   },
   {
    "duration": 5,
    "start_time": "2022-05-13T13:34:28.847Z"
   },
   {
    "duration": 56,
    "start_time": "2022-05-13T13:34:28.855Z"
   },
   {
    "duration": 31,
    "start_time": "2022-05-13T13:34:28.913Z"
   },
   {
    "duration": 23,
    "start_time": "2022-05-13T13:34:28.946Z"
   },
   {
    "duration": 24,
    "start_time": "2022-05-13T13:34:28.971Z"
   },
   {
    "duration": 9,
    "start_time": "2022-05-13T13:34:28.997Z"
   },
   {
    "duration": 12,
    "start_time": "2022-05-13T13:34:29.008Z"
   },
   {
    "duration": 51,
    "start_time": "2022-05-13T13:34:29.022Z"
   },
   {
    "duration": 18,
    "start_time": "2022-05-13T13:34:29.075Z"
   },
   {
    "duration": 10,
    "start_time": "2022-05-13T13:34:29.095Z"
   },
   {
    "duration": 22,
    "start_time": "2022-05-13T13:34:29.108Z"
   },
   {
    "duration": 299,
    "start_time": "2022-05-13T13:34:29.132Z"
   },
   {
    "duration": 4,
    "start_time": "2022-05-13T13:34:29.433Z"
   },
   {
    "duration": 19,
    "start_time": "2022-05-13T13:34:29.439Z"
   },
   {
    "duration": 255,
    "start_time": "2022-05-13T13:34:29.468Z"
   },
   {
    "duration": 9,
    "start_time": "2022-05-13T13:34:29.725Z"
   },
   {
    "duration": 9,
    "start_time": "2022-05-13T13:37:34.727Z"
   },
   {
    "duration": 1265,
    "start_time": "2022-05-15T07:05:08.127Z"
   },
   {
    "duration": 3,
    "start_time": "2022-05-15T07:05:09.394Z"
   },
   {
    "duration": 45,
    "start_time": "2022-05-15T07:05:09.398Z"
   },
   {
    "duration": 5,
    "start_time": "2022-05-15T07:05:09.444Z"
   },
   {
    "duration": 37,
    "start_time": "2022-05-15T07:05:09.451Z"
   },
   {
    "duration": 26,
    "start_time": "2022-05-15T07:05:09.489Z"
   },
   {
    "duration": 9,
    "start_time": "2022-05-15T07:05:09.516Z"
   },
   {
    "duration": 25,
    "start_time": "2022-05-15T07:05:09.527Z"
   },
   {
    "duration": 34,
    "start_time": "2022-05-15T07:05:09.554Z"
   },
   {
    "duration": 14,
    "start_time": "2022-05-15T07:05:09.590Z"
   },
   {
    "duration": 15,
    "start_time": "2022-05-15T07:05:09.606Z"
   },
   {
    "duration": 15,
    "start_time": "2022-05-15T07:05:09.623Z"
   },
   {
    "duration": 10,
    "start_time": "2022-05-15T07:05:09.640Z"
   },
   {
    "duration": 16,
    "start_time": "2022-05-15T07:05:09.652Z"
   },
   {
    "duration": 279,
    "start_time": "2022-05-15T07:05:09.669Z"
   },
   {
    "duration": 4,
    "start_time": "2022-05-15T07:05:09.950Z"
   },
   {
    "duration": 13,
    "start_time": "2022-05-15T07:05:09.956Z"
   },
   {
    "duration": 258,
    "start_time": "2022-05-15T07:05:09.971Z"
   },
   {
    "duration": 8,
    "start_time": "2022-05-15T07:05:10.231Z"
   },
   {
    "duration": 108,
    "start_time": "2022-05-15T07:05:10.241Z"
   },
   {
    "duration": 0,
    "start_time": "2022-05-15T07:05:10.350Z"
   },
   {
    "duration": 0,
    "start_time": "2022-05-15T07:05:10.351Z"
   },
   {
    "duration": 0,
    "start_time": "2022-05-15T07:05:10.352Z"
   },
   {
    "duration": 6,
    "start_time": "2022-05-15T07:06:11.376Z"
   },
   {
    "duration": 24,
    "start_time": "2022-05-15T07:06:13.625Z"
   },
   {
    "duration": 151,
    "start_time": "2022-05-15T07:06:34.464Z"
   },
   {
    "duration": 111,
    "start_time": "2022-05-15T07:06:35.631Z"
   },
   {
    "duration": 14,
    "start_time": "2022-05-15T07:06:37.456Z"
   },
   {
    "duration": 10,
    "start_time": "2022-05-15T07:10:55.936Z"
   },
   {
    "duration": 11,
    "start_time": "2022-05-15T07:12:50.715Z"
   },
   {
    "duration": 227,
    "start_time": "2022-05-15T07:13:05.143Z"
   },
   {
    "duration": 171,
    "start_time": "2022-05-15T07:17:16.026Z"
   },
   {
    "duration": 202,
    "start_time": "2022-05-15T07:17:49.586Z"
   },
   {
    "duration": 1153,
    "start_time": "2022-05-15T07:22:58.381Z"
   },
   {
    "duration": 3,
    "start_time": "2022-05-15T07:22:59.536Z"
   },
   {
    "duration": 46,
    "start_time": "2022-05-15T07:22:59.541Z"
   },
   {
    "duration": 5,
    "start_time": "2022-05-15T07:22:59.589Z"
   },
   {
    "duration": 40,
    "start_time": "2022-05-15T07:22:59.596Z"
   },
   {
    "duration": 27,
    "start_time": "2022-05-15T07:22:59.638Z"
   },
   {
    "duration": 11,
    "start_time": "2022-05-15T07:22:59.689Z"
   },
   {
    "duration": 23,
    "start_time": "2022-05-15T07:22:59.701Z"
   },
   {
    "duration": 8,
    "start_time": "2022-05-15T07:22:59.725Z"
   },
   {
    "duration": 10,
    "start_time": "2022-05-15T07:22:59.735Z"
   },
   {
    "duration": 48,
    "start_time": "2022-05-15T07:22:59.747Z"
   },
   {
    "duration": 10,
    "start_time": "2022-05-15T07:22:59.797Z"
   },
   {
    "duration": 6,
    "start_time": "2022-05-15T07:22:59.809Z"
   },
   {
    "duration": 10,
    "start_time": "2022-05-15T07:22:59.818Z"
   },
   {
    "duration": 284,
    "start_time": "2022-05-15T07:22:59.830Z"
   },
   {
    "duration": 5,
    "start_time": "2022-05-15T07:23:00.115Z"
   },
   {
    "duration": 21,
    "start_time": "2022-05-15T07:23:00.121Z"
   },
   {
    "duration": 244,
    "start_time": "2022-05-15T07:23:00.144Z"
   },
   {
    "duration": 9,
    "start_time": "2022-05-15T07:23:00.390Z"
   },
   {
    "duration": 19,
    "start_time": "2022-05-15T07:23:00.401Z"
   },
   {
    "duration": 165,
    "start_time": "2022-05-15T07:23:00.421Z"
   },
   {
    "duration": 119,
    "start_time": "2022-05-15T07:23:00.587Z"
   },
   {
    "duration": 13,
    "start_time": "2022-05-15T07:23:00.707Z"
   },
   {
    "duration": 345,
    "start_time": "2022-05-15T07:23:00.722Z"
   },
   {
    "duration": 210,
    "start_time": "2022-05-15T07:24:52.997Z"
   },
   {
    "duration": 224,
    "start_time": "2022-05-15T07:33:00.894Z"
   },
   {
    "duration": 205,
    "start_time": "2022-05-15T07:35:08.966Z"
   },
   {
    "duration": 188,
    "start_time": "2022-05-15T07:35:23.483Z"
   },
   {
    "duration": 1128,
    "start_time": "2022-05-15T07:43:44.503Z"
   },
   {
    "duration": 2,
    "start_time": "2022-05-15T07:43:45.633Z"
   },
   {
    "duration": 45,
    "start_time": "2022-05-15T07:43:45.637Z"
   },
   {
    "duration": 4,
    "start_time": "2022-05-15T07:43:45.685Z"
   },
   {
    "duration": 38,
    "start_time": "2022-05-15T07:43:45.691Z"
   },
   {
    "duration": 25,
    "start_time": "2022-05-15T07:43:45.731Z"
   },
   {
    "duration": 9,
    "start_time": "2022-05-15T07:43:45.758Z"
   },
   {
    "duration": 22,
    "start_time": "2022-05-15T07:43:45.787Z"
   },
   {
    "duration": 7,
    "start_time": "2022-05-15T07:43:45.811Z"
   },
   {
    "duration": 10,
    "start_time": "2022-05-15T07:43:45.820Z"
   },
   {
    "duration": 460,
    "start_time": "2022-05-15T07:43:45.832Z"
   },
   {
    "duration": 0,
    "start_time": "2022-05-15T07:43:46.293Z"
   },
   {
    "duration": 0,
    "start_time": "2022-05-15T07:43:46.294Z"
   },
   {
    "duration": 0,
    "start_time": "2022-05-15T07:43:46.295Z"
   },
   {
    "duration": 0,
    "start_time": "2022-05-15T07:43:46.297Z"
   },
   {
    "duration": 0,
    "start_time": "2022-05-15T07:43:46.298Z"
   },
   {
    "duration": 0,
    "start_time": "2022-05-15T07:43:46.299Z"
   },
   {
    "duration": 0,
    "start_time": "2022-05-15T07:43:46.300Z"
   },
   {
    "duration": 0,
    "start_time": "2022-05-15T07:43:46.301Z"
   },
   {
    "duration": 0,
    "start_time": "2022-05-15T07:43:46.302Z"
   },
   {
    "duration": 0,
    "start_time": "2022-05-15T07:43:46.303Z"
   },
   {
    "duration": 0,
    "start_time": "2022-05-15T07:43:46.304Z"
   },
   {
    "duration": 0,
    "start_time": "2022-05-15T07:43:46.305Z"
   },
   {
    "duration": 0,
    "start_time": "2022-05-15T07:43:46.306Z"
   },
   {
    "duration": 1139,
    "start_time": "2022-05-15T07:44:58.101Z"
   },
   {
    "duration": 3,
    "start_time": "2022-05-15T07:44:59.242Z"
   },
   {
    "duration": 40,
    "start_time": "2022-05-15T07:44:59.246Z"
   },
   {
    "duration": 5,
    "start_time": "2022-05-15T07:44:59.288Z"
   },
   {
    "duration": 34,
    "start_time": "2022-05-15T07:44:59.295Z"
   },
   {
    "duration": 27,
    "start_time": "2022-05-15T07:44:59.330Z"
   },
   {
    "duration": 33,
    "start_time": "2022-05-15T07:44:59.359Z"
   },
   {
    "duration": 21,
    "start_time": "2022-05-15T07:44:59.394Z"
   },
   {
    "duration": 7,
    "start_time": "2022-05-15T07:44:59.416Z"
   },
   {
    "duration": 9,
    "start_time": "2022-05-15T07:44:59.426Z"
   },
   {
    "duration": 21,
    "start_time": "2022-05-15T07:44:59.437Z"
   },
   {
    "duration": 39,
    "start_time": "2022-05-15T07:44:59.460Z"
   },
   {
    "duration": 6,
    "start_time": "2022-05-15T07:44:59.500Z"
   },
   {
    "duration": 11,
    "start_time": "2022-05-15T07:44:59.508Z"
   },
   {
    "duration": 269,
    "start_time": "2022-05-15T07:44:59.520Z"
   },
   {
    "duration": 5,
    "start_time": "2022-05-15T07:44:59.790Z"
   },
   {
    "duration": 16,
    "start_time": "2022-05-15T07:44:59.796Z"
   },
   {
    "duration": 249,
    "start_time": "2022-05-15T07:44:59.813Z"
   },
   {
    "duration": 9,
    "start_time": "2022-05-15T07:45:00.064Z"
   },
   {
    "duration": 17,
    "start_time": "2022-05-15T07:45:00.075Z"
   },
   {
    "duration": 157,
    "start_time": "2022-05-15T07:45:00.094Z"
   },
   {
    "duration": 117,
    "start_time": "2022-05-15T07:45:00.253Z"
   },
   {
    "duration": 18,
    "start_time": "2022-05-15T07:45:00.371Z"
   },
   {
    "duration": 266,
    "start_time": "2022-05-15T07:45:00.390Z"
   },
   {
    "duration": 191,
    "start_time": "2022-05-15T07:48:10.204Z"
   },
   {
    "duration": 95,
    "start_time": "2022-05-15T08:55:27.325Z"
   },
   {
    "duration": 163,
    "start_time": "2022-05-15T08:56:01.495Z"
   },
   {
    "duration": 192,
    "start_time": "2022-05-15T08:56:45.855Z"
   },
   {
    "duration": 1190,
    "start_time": "2022-05-15T08:58:30.357Z"
   },
   {
    "duration": 3,
    "start_time": "2022-05-15T08:58:31.549Z"
   },
   {
    "duration": 40,
    "start_time": "2022-05-15T08:58:31.554Z"
   },
   {
    "duration": 5,
    "start_time": "2022-05-15T08:58:31.596Z"
   },
   {
    "duration": 44,
    "start_time": "2022-05-15T08:58:31.602Z"
   },
   {
    "duration": 40,
    "start_time": "2022-05-15T08:58:31.648Z"
   },
   {
    "duration": 11,
    "start_time": "2022-05-15T08:58:31.689Z"
   },
   {
    "duration": 25,
    "start_time": "2022-05-15T08:58:31.702Z"
   },
   {
    "duration": 9,
    "start_time": "2022-05-15T08:58:31.728Z"
   },
   {
    "duration": 11,
    "start_time": "2022-05-15T08:58:31.739Z"
   },
   {
    "duration": 22,
    "start_time": "2022-05-15T08:58:31.789Z"
   },
   {
    "duration": 30,
    "start_time": "2022-05-15T08:58:31.813Z"
   },
   {
    "duration": 11,
    "start_time": "2022-05-15T08:58:31.844Z"
   },
   {
    "duration": 21,
    "start_time": "2022-05-15T08:58:31.857Z"
   },
   {
    "duration": 268,
    "start_time": "2022-05-15T08:58:31.880Z"
   },
   {
    "duration": 4,
    "start_time": "2022-05-15T08:58:32.150Z"
   },
   {
    "duration": 23,
    "start_time": "2022-05-15T08:58:32.156Z"
   },
   {
    "duration": 240,
    "start_time": "2022-05-15T08:58:32.181Z"
   },
   {
    "duration": 9,
    "start_time": "2022-05-15T08:58:32.422Z"
   },
   {
    "duration": 9,
    "start_time": "2022-05-15T08:58:32.433Z"
   },
   {
    "duration": 167,
    "start_time": "2022-05-15T08:58:32.443Z"
   },
   {
    "duration": 129,
    "start_time": "2022-05-15T08:58:32.612Z"
   },
   {
    "duration": 13,
    "start_time": "2022-05-15T08:58:32.743Z"
   },
   {
    "duration": 354,
    "start_time": "2022-05-15T08:58:32.757Z"
   },
   {
    "duration": 278,
    "start_time": "2022-05-15T08:58:33.112Z"
   },
   {
    "duration": 197,
    "start_time": "2022-05-15T08:59:06.104Z"
   },
   {
    "duration": 1576,
    "start_time": "2022-05-15T09:03:35.863Z"
   },
   {
    "duration": 3,
    "start_time": "2022-05-15T09:03:37.441Z"
   },
   {
    "duration": 42,
    "start_time": "2022-05-15T09:03:37.446Z"
   },
   {
    "duration": 5,
    "start_time": "2022-05-15T09:03:37.491Z"
   },
   {
    "duration": 39,
    "start_time": "2022-05-15T09:03:37.497Z"
   },
   {
    "duration": 27,
    "start_time": "2022-05-15T09:03:37.537Z"
   },
   {
    "duration": 31,
    "start_time": "2022-05-15T09:03:37.565Z"
   },
   {
    "duration": 24,
    "start_time": "2022-05-15T09:03:37.598Z"
   },
   {
    "duration": 8,
    "start_time": "2022-05-15T09:03:37.623Z"
   },
   {
    "duration": 10,
    "start_time": "2022-05-15T09:03:37.633Z"
   },
   {
    "duration": 46,
    "start_time": "2022-05-15T09:03:37.645Z"
   },
   {
    "duration": 10,
    "start_time": "2022-05-15T09:03:37.693Z"
   },
   {
    "duration": 12,
    "start_time": "2022-05-15T09:03:37.704Z"
   },
   {
    "duration": 19,
    "start_time": "2022-05-15T09:03:37.717Z"
   },
   {
    "duration": 275,
    "start_time": "2022-05-15T09:03:37.738Z"
   },
   {
    "duration": 5,
    "start_time": "2022-05-15T09:03:38.015Z"
   },
   {
    "duration": 13,
    "start_time": "2022-05-15T09:03:38.022Z"
   },
   {
    "duration": 251,
    "start_time": "2022-05-15T09:03:38.037Z"
   },
   {
    "duration": 9,
    "start_time": "2022-05-15T09:03:38.290Z"
   },
   {
    "duration": 10,
    "start_time": "2022-05-15T09:03:38.301Z"
   },
   {
    "duration": 172,
    "start_time": "2022-05-15T09:03:38.312Z"
   },
   {
    "duration": 125,
    "start_time": "2022-05-15T09:03:38.485Z"
   },
   {
    "duration": 14,
    "start_time": "2022-05-15T09:03:38.612Z"
   },
   {
    "duration": 295,
    "start_time": "2022-05-15T09:03:38.627Z"
   },
   {
    "duration": 203,
    "start_time": "2022-05-15T09:03:38.924Z"
   },
   {
    "duration": 205,
    "start_time": "2022-05-15T09:09:27.695Z"
   },
   {
    "duration": 207,
    "start_time": "2022-05-15T09:09:48.199Z"
   },
   {
    "duration": 194,
    "start_time": "2022-05-15T09:09:59.584Z"
   },
   {
    "duration": 197,
    "start_time": "2022-05-15T09:11:17.536Z"
   },
   {
    "duration": 361,
    "start_time": "2022-05-15T09:22:22.164Z"
   },
   {
    "duration": 285,
    "start_time": "2022-05-15T09:23:53.975Z"
   },
   {
    "duration": 1126,
    "start_time": "2022-05-15T09:24:10.495Z"
   },
   {
    "duration": 3,
    "start_time": "2022-05-15T09:24:11.623Z"
   },
   {
    "duration": 51,
    "start_time": "2022-05-15T09:24:11.628Z"
   },
   {
    "duration": 5,
    "start_time": "2022-05-15T09:24:11.681Z"
   },
   {
    "duration": 52,
    "start_time": "2022-05-15T09:24:11.687Z"
   },
   {
    "duration": 33,
    "start_time": "2022-05-15T09:24:11.741Z"
   },
   {
    "duration": 19,
    "start_time": "2022-05-15T09:24:11.776Z"
   },
   {
    "duration": 26,
    "start_time": "2022-05-15T09:24:11.797Z"
   },
   {
    "duration": 9,
    "start_time": "2022-05-15T09:24:11.824Z"
   },
   {
    "duration": 14,
    "start_time": "2022-05-15T09:24:11.837Z"
   },
   {
    "duration": 65,
    "start_time": "2022-05-15T09:24:11.853Z"
   },
   {
    "duration": 21,
    "start_time": "2022-05-15T09:24:11.920Z"
   },
   {
    "duration": 6,
    "start_time": "2022-05-15T09:24:11.943Z"
   },
   {
    "duration": 16,
    "start_time": "2022-05-15T09:24:11.951Z"
   },
   {
    "duration": 299,
    "start_time": "2022-05-15T09:24:11.969Z"
   },
   {
    "duration": 4,
    "start_time": "2022-05-15T09:24:12.270Z"
   },
   {
    "duration": 15,
    "start_time": "2022-05-15T09:24:12.275Z"
   },
   {
    "duration": 246,
    "start_time": "2022-05-15T09:24:12.292Z"
   },
   {
    "duration": 11,
    "start_time": "2022-05-15T09:24:12.540Z"
   },
   {
    "duration": 8,
    "start_time": "2022-05-15T09:24:12.553Z"
   },
   {
    "duration": 166,
    "start_time": "2022-05-15T09:24:12.563Z"
   },
   {
    "duration": 128,
    "start_time": "2022-05-15T09:24:12.731Z"
   },
   {
    "duration": 28,
    "start_time": "2022-05-15T09:24:12.861Z"
   },
   {
    "duration": 297,
    "start_time": "2022-05-15T09:24:12.891Z"
   },
   {
    "duration": 222,
    "start_time": "2022-05-15T09:24:13.192Z"
   },
   {
    "duration": 260,
    "start_time": "2022-05-15T09:24:13.416Z"
   },
   {
    "duration": 296,
    "start_time": "2022-05-15T09:24:22.992Z"
   },
   {
    "duration": 297,
    "start_time": "2022-05-15T09:25:17.316Z"
   },
   {
    "duration": 108,
    "start_time": "2022-05-15T09:29:13.899Z"
   },
   {
    "duration": 294,
    "start_time": "2022-05-15T09:29:43.204Z"
   },
   {
    "duration": 1085,
    "start_time": "2022-05-15T09:29:53.243Z"
   },
   {
    "duration": 2,
    "start_time": "2022-05-15T09:29:54.330Z"
   },
   {
    "duration": 75,
    "start_time": "2022-05-15T09:29:54.334Z"
   },
   {
    "duration": 4,
    "start_time": "2022-05-15T09:29:54.412Z"
   },
   {
    "duration": 40,
    "start_time": "2022-05-15T09:29:54.417Z"
   },
   {
    "duration": 30,
    "start_time": "2022-05-15T09:29:54.459Z"
   },
   {
    "duration": 9,
    "start_time": "2022-05-15T09:29:54.491Z"
   },
   {
    "duration": 24,
    "start_time": "2022-05-15T09:29:54.502Z"
   },
   {
    "duration": 8,
    "start_time": "2022-05-15T09:29:54.527Z"
   },
   {
    "duration": 9,
    "start_time": "2022-05-15T09:29:54.537Z"
   },
   {
    "duration": 56,
    "start_time": "2022-05-15T09:29:54.547Z"
   },
   {
    "duration": 20,
    "start_time": "2022-05-15T09:29:54.604Z"
   },
   {
    "duration": 11,
    "start_time": "2022-05-15T09:29:54.626Z"
   },
   {
    "duration": 13,
    "start_time": "2022-05-15T09:29:54.638Z"
   },
   {
    "duration": 258,
    "start_time": "2022-05-15T09:29:54.653Z"
   },
   {
    "duration": 5,
    "start_time": "2022-05-15T09:29:54.912Z"
   },
   {
    "duration": 14,
    "start_time": "2022-05-15T09:29:54.919Z"
   },
   {
    "duration": 253,
    "start_time": "2022-05-15T09:29:54.935Z"
   },
   {
    "duration": 9,
    "start_time": "2022-05-15T09:29:55.190Z"
   },
   {
    "duration": 10,
    "start_time": "2022-05-15T09:29:55.200Z"
   },
   {
    "duration": 166,
    "start_time": "2022-05-15T09:29:55.211Z"
   },
   {
    "duration": 130,
    "start_time": "2022-05-15T09:29:55.379Z"
   },
   {
    "duration": 13,
    "start_time": "2022-05-15T09:29:55.510Z"
   },
   {
    "duration": 288,
    "start_time": "2022-05-15T09:29:55.524Z"
   },
   {
    "duration": 208,
    "start_time": "2022-05-15T09:29:55.814Z"
   },
   {
    "duration": 271,
    "start_time": "2022-05-15T09:29:56.024Z"
   },
   {
    "duration": 300,
    "start_time": "2022-05-15T09:30:07.555Z"
   },
   {
    "duration": 255,
    "start_time": "2022-05-15T09:33:46.805Z"
   },
   {
    "duration": 292,
    "start_time": "2022-05-15T09:34:05.056Z"
   },
   {
    "duration": 379,
    "start_time": "2022-05-15T09:34:35.764Z"
   },
   {
    "duration": 253,
    "start_time": "2022-05-15T09:35:10.210Z"
   },
   {
    "duration": 329,
    "start_time": "2022-05-15T09:35:52.366Z"
   },
   {
    "duration": 169,
    "start_time": "2022-05-15T09:44:39.628Z"
   },
   {
    "duration": 233,
    "start_time": "2022-05-15T09:45:50.230Z"
   },
   {
    "duration": 221,
    "start_time": "2022-05-15T09:46:51.535Z"
   },
   {
    "duration": 313,
    "start_time": "2022-05-15T10:15:41.249Z"
   },
   {
    "duration": 330,
    "start_time": "2022-05-15T10:15:55.783Z"
   },
   {
    "duration": 324,
    "start_time": "2022-05-15T10:17:24.453Z"
   },
   {
    "duration": 307,
    "start_time": "2022-05-15T10:19:05.614Z"
   },
   {
    "duration": 337,
    "start_time": "2022-05-15T10:22:43.043Z"
   },
   {
    "duration": 241,
    "start_time": "2022-05-15T10:22:56.885Z"
   },
   {
    "duration": 116,
    "start_time": "2022-05-15T10:24:10.532Z"
   },
   {
    "duration": 120,
    "start_time": "2022-05-15T10:24:59.648Z"
   },
   {
    "duration": 101,
    "start_time": "2022-05-15T10:25:55.803Z"
   },
   {
    "duration": 125,
    "start_time": "2022-05-15T10:26:54.896Z"
   },
   {
    "duration": 221,
    "start_time": "2022-05-15T10:27:58.324Z"
   },
   {
    "duration": 142,
    "start_time": "2022-05-15T10:28:55.680Z"
   },
   {
    "duration": 86,
    "start_time": "2022-05-15T10:30:47.557Z"
   },
   {
    "duration": 125,
    "start_time": "2022-05-15T10:31:10.194Z"
   },
   {
    "duration": 107,
    "start_time": "2022-05-15T10:31:24.065Z"
   },
   {
    "duration": 84,
    "start_time": "2022-05-15T10:34:24.583Z"
   },
   {
    "duration": 85,
    "start_time": "2022-05-15T10:35:03.337Z"
   },
   {
    "duration": 114,
    "start_time": "2022-05-15T10:35:11.206Z"
   },
   {
    "duration": 116,
    "start_time": "2022-05-16T08:00:57.882Z"
   },
   {
    "duration": 1690,
    "start_time": "2022-05-16T08:01:03.592Z"
   },
   {
    "duration": 4,
    "start_time": "2022-05-16T08:01:05.284Z"
   },
   {
    "duration": 58,
    "start_time": "2022-05-16T08:01:05.290Z"
   },
   {
    "duration": 6,
    "start_time": "2022-05-16T08:01:05.351Z"
   },
   {
    "duration": 68,
    "start_time": "2022-05-16T08:01:05.359Z"
   },
   {
    "duration": 53,
    "start_time": "2022-05-16T08:01:05.429Z"
   },
   {
    "duration": 14,
    "start_time": "2022-05-16T08:01:05.484Z"
   },
   {
    "duration": 59,
    "start_time": "2022-05-16T08:01:05.500Z"
   },
   {
    "duration": 11,
    "start_time": "2022-05-16T08:01:05.561Z"
   },
   {
    "duration": 18,
    "start_time": "2022-05-16T08:01:05.575Z"
   },
   {
    "duration": 35,
    "start_time": "2022-05-16T08:01:05.595Z"
   },
   {
    "duration": 48,
    "start_time": "2022-05-16T08:01:05.632Z"
   },
   {
    "duration": 10,
    "start_time": "2022-05-16T08:01:05.682Z"
   },
   {
    "duration": 47,
    "start_time": "2022-05-16T08:01:05.694Z"
   },
   {
    "duration": 423,
    "start_time": "2022-05-16T08:01:05.743Z"
   },
   {
    "duration": 6,
    "start_time": "2022-05-16T08:01:06.168Z"
   },
   {
    "duration": 19,
    "start_time": "2022-05-16T08:01:06.177Z"
   },
   {
    "duration": 413,
    "start_time": "2022-05-16T08:01:06.198Z"
   },
   {
    "duration": 13,
    "start_time": "2022-05-16T08:01:06.614Z"
   },
   {
    "duration": 30,
    "start_time": "2022-05-16T08:01:06.630Z"
   },
   {
    "duration": 278,
    "start_time": "2022-05-16T08:01:06.662Z"
   },
   {
    "duration": 225,
    "start_time": "2022-05-16T08:01:06.943Z"
   },
   {
    "duration": 20,
    "start_time": "2022-05-16T08:01:07.171Z"
   },
   {
    "duration": 722,
    "start_time": "2022-05-16T08:01:07.193Z"
   },
   {
    "duration": 522,
    "start_time": "2022-05-16T08:01:07.918Z"
   },
   {
    "duration": 664,
    "start_time": "2022-05-16T08:01:08.443Z"
   },
   {
    "duration": 552,
    "start_time": "2022-05-16T08:01:09.110Z"
   },
   {
    "duration": 613,
    "start_time": "2022-05-16T08:01:09.668Z"
   },
   {
    "duration": 147,
    "start_time": "2022-05-16T08:01:10.284Z"
   },
   {
    "duration": 0,
    "start_time": "2022-05-16T08:01:10.434Z"
   },
   {
    "duration": 0,
    "start_time": "2022-05-16T08:01:10.436Z"
   },
   {
    "duration": 429,
    "start_time": "2022-05-16T08:01:31.906Z"
   },
   {
    "duration": 1475,
    "start_time": "2022-05-16T08:02:00.800Z"
   },
   {
    "duration": 4,
    "start_time": "2022-05-16T08:02:02.278Z"
   },
   {
    "duration": 57,
    "start_time": "2022-05-16T08:02:02.284Z"
   },
   {
    "duration": 7,
    "start_time": "2022-05-16T08:02:02.344Z"
   },
   {
    "duration": 55,
    "start_time": "2022-05-16T08:02:02.354Z"
   },
   {
    "duration": 53,
    "start_time": "2022-05-16T08:02:02.411Z"
   },
   {
    "duration": 14,
    "start_time": "2022-05-16T08:02:02.466Z"
   },
   {
    "duration": 70,
    "start_time": "2022-05-16T08:02:02.482Z"
   },
   {
    "duration": 25,
    "start_time": "2022-05-16T08:02:02.554Z"
   },
   {
    "duration": 57,
    "start_time": "2022-05-16T08:02:02.581Z"
   },
   {
    "duration": 38,
    "start_time": "2022-05-16T08:02:02.640Z"
   },
   {
    "duration": 66,
    "start_time": "2022-05-16T08:02:02.680Z"
   },
   {
    "duration": 8,
    "start_time": "2022-05-16T08:02:02.749Z"
   },
   {
    "duration": 17,
    "start_time": "2022-05-16T08:02:02.761Z"
   },
   {
    "duration": 519,
    "start_time": "2022-05-16T08:02:02.781Z"
   },
   {
    "duration": 6,
    "start_time": "2022-05-16T08:02:03.302Z"
   },
   {
    "duration": 18,
    "start_time": "2022-05-16T08:02:03.310Z"
   },
   {
    "duration": 416,
    "start_time": "2022-05-16T08:02:03.330Z"
   },
   {
    "duration": 17,
    "start_time": "2022-05-16T08:02:03.748Z"
   },
   {
    "duration": 10,
    "start_time": "2022-05-16T08:02:03.767Z"
   },
   {
    "duration": 294,
    "start_time": "2022-05-16T08:02:03.779Z"
   },
   {
    "duration": 225,
    "start_time": "2022-05-16T08:02:04.075Z"
   },
   {
    "duration": 19,
    "start_time": "2022-05-16T08:02:04.303Z"
   },
   {
    "duration": 508,
    "start_time": "2022-05-16T08:02:04.325Z"
   },
   {
    "duration": 371,
    "start_time": "2022-05-16T08:02:04.835Z"
   },
   {
    "duration": 498,
    "start_time": "2022-05-16T08:02:05.208Z"
   },
   {
    "duration": 396,
    "start_time": "2022-05-16T08:02:05.708Z"
   },
   {
    "duration": 521,
    "start_time": "2022-05-16T08:02:06.107Z"
   },
   {
    "duration": 242,
    "start_time": "2022-05-16T08:02:06.631Z"
   },
   {
    "duration": 361,
    "start_time": "2022-05-16T08:02:06.875Z"
   },
   {
    "duration": 161,
    "start_time": "2022-05-16T08:02:07.239Z"
   },
   {
    "duration": 8,
    "start_time": "2022-05-16T08:02:26.183Z"
   },
   {
    "duration": 6,
    "start_time": "2022-05-16T08:04:54.089Z"
   },
   {
    "duration": 411,
    "start_time": "2022-05-16T08:06:53.820Z"
   },
   {
    "duration": 1848,
    "start_time": "2022-05-16T08:10:03.544Z"
   },
   {
    "duration": 5,
    "start_time": "2022-05-16T08:10:05.395Z"
   },
   {
    "duration": 49,
    "start_time": "2022-05-16T08:10:05.402Z"
   },
   {
    "duration": 6,
    "start_time": "2022-05-16T08:10:05.454Z"
   },
   {
    "duration": 60,
    "start_time": "2022-05-16T08:10:05.462Z"
   },
   {
    "duration": 66,
    "start_time": "2022-05-16T08:10:05.524Z"
   },
   {
    "duration": 16,
    "start_time": "2022-05-16T08:10:05.593Z"
   },
   {
    "duration": 66,
    "start_time": "2022-05-16T08:10:05.612Z"
   },
   {
    "duration": 12,
    "start_time": "2022-05-16T08:10:05.680Z"
   },
   {
    "duration": 15,
    "start_time": "2022-05-16T08:10:05.698Z"
   },
   {
    "duration": 34,
    "start_time": "2022-05-16T08:10:05.757Z"
   },
   {
    "duration": 19,
    "start_time": "2022-05-16T08:10:05.794Z"
   },
   {
    "duration": 8,
    "start_time": "2022-05-16T08:10:05.816Z"
   },
   {
    "duration": 16,
    "start_time": "2022-05-16T08:10:05.856Z"
   },
   {
    "duration": 445,
    "start_time": "2022-05-16T08:10:05.875Z"
   },
   {
    "duration": 7,
    "start_time": "2022-05-16T08:10:06.323Z"
   },
   {
    "duration": 35,
    "start_time": "2022-05-16T08:10:06.332Z"
   },
   {
    "duration": 500,
    "start_time": "2022-05-16T08:10:06.370Z"
   },
   {
    "duration": 14,
    "start_time": "2022-05-16T08:10:06.872Z"
   },
   {
    "duration": 8,
    "start_time": "2022-05-16T08:10:06.888Z"
   },
   {
    "duration": 303,
    "start_time": "2022-05-16T08:10:06.898Z"
   },
   {
    "duration": 229,
    "start_time": "2022-05-16T08:10:07.203Z"
   },
   {
    "duration": 31,
    "start_time": "2022-05-16T08:10:07.434Z"
   },
   {
    "duration": 493,
    "start_time": "2022-05-16T08:10:07.467Z"
   },
   {
    "duration": 365,
    "start_time": "2022-05-16T08:10:07.962Z"
   },
   {
    "duration": 461,
    "start_time": "2022-05-16T08:10:08.329Z"
   },
   {
    "duration": 491,
    "start_time": "2022-05-16T08:10:08.793Z"
   },
   {
    "duration": 590,
    "start_time": "2022-05-16T08:10:09.290Z"
   },
   {
    "duration": 295,
    "start_time": "2022-05-16T08:10:09.882Z"
   },
   {
    "duration": 255,
    "start_time": "2022-05-16T08:10:10.180Z"
   },
   {
    "duration": 6,
    "start_time": "2022-05-16T08:10:10.437Z"
   },
   {
    "duration": 424,
    "start_time": "2022-05-16T08:10:10.457Z"
   },
   {
    "duration": 14,
    "start_time": "2022-05-16T08:10:10.883Z"
   },
   {
    "duration": 1735,
    "start_time": "2022-05-16T08:16:56.791Z"
   },
   {
    "duration": 7,
    "start_time": "2022-05-16T08:17:28.090Z"
   },
   {
    "duration": 19,
    "start_time": "2022-05-16T08:59:14.196Z"
   },
   {
    "duration": 25,
    "start_time": "2022-05-16T08:59:40.196Z"
   },
   {
    "duration": 16,
    "start_time": "2022-05-16T08:59:58.368Z"
   },
   {
    "duration": 29,
    "start_time": "2022-05-16T09:42:22.078Z"
   },
   {
    "duration": 31,
    "start_time": "2022-05-16T09:42:52.430Z"
   },
   {
    "duration": 274,
    "start_time": "2022-05-16T09:43:28.857Z"
   },
   {
    "duration": 274,
    "start_time": "2022-05-16T09:43:48.071Z"
   },
   {
    "duration": 14,
    "start_time": "2022-05-16T09:51:32.097Z"
   },
   {
    "duration": 16,
    "start_time": "2022-05-16T09:52:14.969Z"
   },
   {
    "duration": 170,
    "start_time": "2022-05-16T10:14:54.693Z"
   },
   {
    "duration": 179,
    "start_time": "2022-05-16T10:15:56.532Z"
   },
   {
    "duration": 279,
    "start_time": "2022-05-16T10:16:32.877Z"
   },
   {
    "duration": 378,
    "start_time": "2022-05-16T10:17:09.678Z"
   },
   {
    "duration": 9,
    "start_time": "2022-05-16T10:33:16.107Z"
   },
   {
    "duration": 366,
    "start_time": "2022-05-16T10:34:39.553Z"
   },
   {
    "duration": 536,
    "start_time": "2022-05-16T10:39:23.812Z"
   },
   {
    "duration": 361,
    "start_time": "2022-05-16T10:39:53.634Z"
   },
   {
    "duration": 477,
    "start_time": "2022-05-16T10:40:17.569Z"
   },
   {
    "duration": 2136,
    "start_time": "2022-05-16T10:40:35.496Z"
   },
   {
    "duration": 6,
    "start_time": "2022-05-16T10:40:37.635Z"
   },
   {
    "duration": 69,
    "start_time": "2022-05-16T10:40:37.643Z"
   },
   {
    "duration": 9,
    "start_time": "2022-05-16T10:40:37.715Z"
   },
   {
    "duration": 80,
    "start_time": "2022-05-16T10:40:37.729Z"
   },
   {
    "duration": 81,
    "start_time": "2022-05-16T10:40:37.812Z"
   },
   {
    "duration": 15,
    "start_time": "2022-05-16T10:40:37.895Z"
   },
   {
    "duration": 81,
    "start_time": "2022-05-16T10:40:37.913Z"
   },
   {
    "duration": 16,
    "start_time": "2022-05-16T10:40:37.996Z"
   },
   {
    "duration": 53,
    "start_time": "2022-05-16T10:40:38.015Z"
   },
   {
    "duration": 37,
    "start_time": "2022-05-16T10:40:38.071Z"
   },
   {
    "duration": 15,
    "start_time": "2022-05-16T10:40:38.110Z"
   },
   {
    "duration": 35,
    "start_time": "2022-05-16T10:40:38.129Z"
   },
   {
    "duration": 42,
    "start_time": "2022-05-16T10:40:38.174Z"
   },
   {
    "duration": 686,
    "start_time": "2022-05-16T10:40:38.219Z"
   },
   {
    "duration": 8,
    "start_time": "2022-05-16T10:40:38.908Z"
   },
   {
    "duration": 48,
    "start_time": "2022-05-16T10:40:38.918Z"
   },
   {
    "duration": 581,
    "start_time": "2022-05-16T10:40:38.970Z"
   },
   {
    "duration": 20,
    "start_time": "2022-05-16T10:40:39.557Z"
   },
   {
    "duration": 17,
    "start_time": "2022-05-16T10:40:39.581Z"
   },
   {
    "duration": 364,
    "start_time": "2022-05-16T10:40:39.601Z"
   },
   {
    "duration": 281,
    "start_time": "2022-05-16T10:40:39.968Z"
   },
   {
    "duration": 31,
    "start_time": "2022-05-16T10:40:40.252Z"
   },
   {
    "duration": 798,
    "start_time": "2022-05-16T10:40:40.286Z"
   },
   {
    "duration": 512,
    "start_time": "2022-05-16T10:40:41.087Z"
   },
   {
    "duration": 607,
    "start_time": "2022-05-16T10:40:41.601Z"
   },
   {
    "duration": 620,
    "start_time": "2022-05-16T10:40:42.211Z"
   },
   {
    "duration": 640,
    "start_time": "2022-05-16T10:40:42.834Z"
   },
   {
    "duration": 457,
    "start_time": "2022-05-16T10:40:43.478Z"
   },
   {
    "duration": 354,
    "start_time": "2022-05-16T10:40:43.937Z"
   },
   {
    "duration": 7,
    "start_time": "2022-05-16T10:40:44.294Z"
   },
   {
    "duration": 479,
    "start_time": "2022-05-16T10:40:44.304Z"
   },
   {
    "duration": 16,
    "start_time": "2022-05-16T10:40:44.786Z"
   },
   {
    "duration": 12,
    "start_time": "2022-05-16T10:40:44.805Z"
   },
   {
    "duration": 431,
    "start_time": "2022-05-16T10:40:44.821Z"
   },
   {
    "duration": 373,
    "start_time": "2022-05-16T10:40:45.254Z"
   },
   {
    "duration": 10,
    "start_time": "2022-05-16T10:40:45.630Z"
   },
   {
    "duration": 375,
    "start_time": "2022-05-16T10:40:45.643Z"
   },
   {
    "duration": 468,
    "start_time": "2022-05-16T10:41:07.055Z"
   },
   {
    "duration": 468,
    "start_time": "2022-05-16T10:41:19.177Z"
   },
   {
    "duration": 406,
    "start_time": "2022-05-16T10:41:23.480Z"
   },
   {
    "duration": 51,
    "start_time": "2022-05-16T11:03:31.076Z"
   },
   {
    "duration": 45,
    "start_time": "2022-05-16T11:10:08.030Z"
   },
   {
    "duration": 32,
    "start_time": "2022-05-16T11:13:37.573Z"
   },
   {
    "duration": 1517,
    "start_time": "2022-05-16T11:14:09.563Z"
   },
   {
    "duration": 4,
    "start_time": "2022-05-16T11:14:11.082Z"
   },
   {
    "duration": 48,
    "start_time": "2022-05-16T11:14:11.088Z"
   },
   {
    "duration": 6,
    "start_time": "2022-05-16T11:14:11.138Z"
   },
   {
    "duration": 59,
    "start_time": "2022-05-16T11:14:11.147Z"
   },
   {
    "duration": 65,
    "start_time": "2022-05-16T11:14:11.208Z"
   },
   {
    "duration": 19,
    "start_time": "2022-05-16T11:14:11.276Z"
   },
   {
    "duration": 78,
    "start_time": "2022-05-16T11:14:11.298Z"
   },
   {
    "duration": 16,
    "start_time": "2022-05-16T11:14:11.379Z"
   },
   {
    "duration": 13,
    "start_time": "2022-05-16T11:14:11.397Z"
   },
   {
    "duration": 72,
    "start_time": "2022-05-16T11:14:11.412Z"
   },
   {
    "duration": 21,
    "start_time": "2022-05-16T11:14:11.486Z"
   },
   {
    "duration": 8,
    "start_time": "2022-05-16T11:14:11.509Z"
   },
   {
    "duration": 36,
    "start_time": "2022-05-16T11:14:11.521Z"
   },
   {
    "duration": 433,
    "start_time": "2022-05-16T11:14:11.560Z"
   },
   {
    "duration": 6,
    "start_time": "2022-05-16T11:14:11.995Z"
   },
   {
    "duration": 22,
    "start_time": "2022-05-16T11:14:12.003Z"
   },
   {
    "duration": 413,
    "start_time": "2022-05-16T11:14:12.028Z"
   },
   {
    "duration": 17,
    "start_time": "2022-05-16T11:14:12.444Z"
   },
   {
    "duration": 21,
    "start_time": "2022-05-16T11:14:12.464Z"
   },
   {
    "duration": 285,
    "start_time": "2022-05-16T11:14:12.488Z"
   },
   {
    "duration": 235,
    "start_time": "2022-05-16T11:14:12.775Z"
   },
   {
    "duration": 19,
    "start_time": "2022-05-16T11:14:13.013Z"
   },
   {
    "duration": 531,
    "start_time": "2022-05-16T11:14:13.035Z"
   },
   {
    "duration": 469,
    "start_time": "2022-05-16T11:14:13.568Z"
   },
   {
    "duration": 459,
    "start_time": "2022-05-16T11:14:14.040Z"
   },
   {
    "duration": 423,
    "start_time": "2022-05-16T11:14:14.501Z"
   },
   {
    "duration": 494,
    "start_time": "2022-05-16T11:14:14.926Z"
   },
   {
    "duration": 268,
    "start_time": "2022-05-16T11:14:15.423Z"
   },
   {
    "duration": 253,
    "start_time": "2022-05-16T11:14:15.693Z"
   },
   {
    "duration": 8,
    "start_time": "2022-05-16T11:14:15.956Z"
   },
   {
    "duration": 530,
    "start_time": "2022-05-16T11:14:15.966Z"
   },
   {
    "duration": 16,
    "start_time": "2022-05-16T11:14:16.498Z"
   },
   {
    "duration": 7,
    "start_time": "2022-05-16T11:14:16.516Z"
   },
   {
    "duration": 484,
    "start_time": "2022-05-16T11:14:16.526Z"
   },
   {
    "duration": 257,
    "start_time": "2022-05-16T11:14:17.013Z"
   },
   {
    "duration": 11,
    "start_time": "2022-05-16T11:14:17.272Z"
   },
   {
    "duration": 45,
    "start_time": "2022-05-16T11:14:17.285Z"
   },
   {
    "duration": 4,
    "start_time": "2022-05-16T11:14:17.333Z"
   },
   {
    "duration": 182,
    "start_time": "2022-05-16T11:15:55.684Z"
   },
   {
    "duration": 47,
    "start_time": "2022-05-16T11:16:16.583Z"
   },
   {
    "duration": 9,
    "start_time": "2022-05-16T11:16:40.272Z"
   },
   {
    "duration": 5,
    "start_time": "2022-05-16T11:17:10.899Z"
   },
   {
    "duration": 14,
    "start_time": "2022-05-16T11:18:59.575Z"
   },
   {
    "duration": 29,
    "start_time": "2022-05-16T11:19:35.573Z"
   },
   {
    "duration": 34,
    "start_time": "2022-05-16T11:20:00.437Z"
   },
   {
    "duration": 21,
    "start_time": "2022-05-16T11:20:12.355Z"
   },
   {
    "duration": 12,
    "start_time": "2022-05-16T11:20:41.814Z"
   },
   {
    "duration": 15,
    "start_time": "2022-05-16T11:20:55.279Z"
   },
   {
    "duration": 32,
    "start_time": "2022-05-16T11:21:04.267Z"
   },
   {
    "duration": 16,
    "start_time": "2022-05-16T11:25:05.474Z"
   },
   {
    "duration": 1811,
    "start_time": "2022-05-16T11:28:59.048Z"
   },
   {
    "duration": 1732,
    "start_time": "2022-05-16T11:29:58.251Z"
   },
   {
    "duration": 20,
    "start_time": "2022-05-16T11:35:11.978Z"
   },
   {
    "duration": 36,
    "start_time": "2022-05-16T11:35:33.673Z"
   },
   {
    "duration": 1814,
    "start_time": "2022-05-16T11:36:16.708Z"
   },
   {
    "duration": 4,
    "start_time": "2022-05-16T11:36:18.524Z"
   },
   {
    "duration": 46,
    "start_time": "2022-05-16T11:36:18.530Z"
   },
   {
    "duration": 7,
    "start_time": "2022-05-16T11:36:18.579Z"
   },
   {
    "duration": 54,
    "start_time": "2022-05-16T11:36:18.589Z"
   },
   {
    "duration": 43,
    "start_time": "2022-05-16T11:36:18.657Z"
   },
   {
    "duration": 14,
    "start_time": "2022-05-16T11:36:18.703Z"
   },
   {
    "duration": 65,
    "start_time": "2022-05-16T11:36:18.719Z"
   },
   {
    "duration": 13,
    "start_time": "2022-05-16T11:36:18.786Z"
   },
   {
    "duration": 15,
    "start_time": "2022-05-16T11:36:18.803Z"
   },
   {
    "duration": 35,
    "start_time": "2022-05-16T11:36:18.857Z"
   },
   {
    "duration": 25,
    "start_time": "2022-05-16T11:36:18.894Z"
   },
   {
    "duration": 12,
    "start_time": "2022-05-16T11:36:18.921Z"
   },
   {
    "duration": 33,
    "start_time": "2022-05-16T11:36:18.935Z"
   },
   {
    "duration": 455,
    "start_time": "2022-05-16T11:36:18.970Z"
   },
   {
    "duration": 5,
    "start_time": "2022-05-16T11:36:19.428Z"
   },
   {
    "duration": 30,
    "start_time": "2022-05-16T11:36:19.436Z"
   },
   {
    "duration": 409,
    "start_time": "2022-05-16T11:36:19.468Z"
   },
   {
    "duration": 13,
    "start_time": "2022-05-16T11:36:19.880Z"
   },
   {
    "duration": 9,
    "start_time": "2022-05-16T11:36:19.895Z"
   },
   {
    "duration": 304,
    "start_time": "2022-05-16T11:36:19.906Z"
   },
   {
    "duration": 224,
    "start_time": "2022-05-16T11:36:20.212Z"
   },
   {
    "duration": 32,
    "start_time": "2022-05-16T11:36:20.439Z"
   },
   {
    "duration": 514,
    "start_time": "2022-05-16T11:36:20.474Z"
   },
   {
    "duration": 387,
    "start_time": "2022-05-16T11:36:20.991Z"
   },
   {
    "duration": 501,
    "start_time": "2022-05-16T11:36:21.381Z"
   },
   {
    "duration": 413,
    "start_time": "2022-05-16T11:36:21.884Z"
   },
   {
    "duration": 520,
    "start_time": "2022-05-16T11:36:22.302Z"
   },
   {
    "duration": 257,
    "start_time": "2022-05-16T11:36:22.825Z"
   },
   {
    "duration": 362,
    "start_time": "2022-05-16T11:36:23.085Z"
   },
   {
    "duration": 7,
    "start_time": "2022-05-16T11:36:23.457Z"
   },
   {
    "duration": 458,
    "start_time": "2022-05-16T11:36:23.466Z"
   },
   {
    "duration": 14,
    "start_time": "2022-05-16T11:36:23.927Z"
   },
   {
    "duration": 7,
    "start_time": "2022-05-16T11:36:23.957Z"
   },
   {
    "duration": 422,
    "start_time": "2022-05-16T11:36:23.967Z"
   },
   {
    "duration": 312,
    "start_time": "2022-05-16T11:36:24.391Z"
   },
   {
    "duration": 9,
    "start_time": "2022-05-16T11:36:24.706Z"
   },
   {
    "duration": 56,
    "start_time": "2022-05-16T11:36:24.717Z"
   },
   {
    "duration": 218,
    "start_time": "2022-05-16T11:36:24.776Z"
   },
   {
    "duration": 57,
    "start_time": "2022-05-16T11:39:57.834Z"
   },
   {
    "duration": 1505,
    "start_time": "2022-05-16T11:40:18.874Z"
   },
   {
    "duration": 5,
    "start_time": "2022-05-16T11:40:20.382Z"
   },
   {
    "duration": 43,
    "start_time": "2022-05-16T11:40:20.390Z"
   },
   {
    "duration": 8,
    "start_time": "2022-05-16T11:40:20.435Z"
   },
   {
    "duration": 56,
    "start_time": "2022-05-16T11:40:20.446Z"
   },
   {
    "duration": 72,
    "start_time": "2022-05-16T11:40:20.505Z"
   },
   {
    "duration": 16,
    "start_time": "2022-05-16T11:40:20.579Z"
   },
   {
    "duration": 71,
    "start_time": "2022-05-16T11:40:20.598Z"
   },
   {
    "duration": 13,
    "start_time": "2022-05-16T11:40:20.672Z"
   },
   {
    "duration": 20,
    "start_time": "2022-05-16T11:40:20.687Z"
   },
   {
    "duration": 65,
    "start_time": "2022-05-16T11:40:20.709Z"
   },
   {
    "duration": 26,
    "start_time": "2022-05-16T11:40:20.776Z"
   },
   {
    "duration": 8,
    "start_time": "2022-05-16T11:40:20.804Z"
   },
   {
    "duration": 16,
    "start_time": "2022-05-16T11:40:20.817Z"
   },
   {
    "duration": 444,
    "start_time": "2022-05-16T11:40:20.858Z"
   },
   {
    "duration": 8,
    "start_time": "2022-05-16T11:40:21.305Z"
   },
   {
    "duration": 39,
    "start_time": "2022-05-16T11:40:21.316Z"
   },
   {
    "duration": 404,
    "start_time": "2022-05-16T11:40:21.358Z"
   },
   {
    "duration": 14,
    "start_time": "2022-05-16T11:40:21.765Z"
   },
   {
    "duration": 15,
    "start_time": "2022-05-16T11:40:21.781Z"
   },
   {
    "duration": 297,
    "start_time": "2022-05-16T11:40:21.799Z"
   },
   {
    "duration": 226,
    "start_time": "2022-05-16T11:40:22.098Z"
   },
   {
    "duration": 33,
    "start_time": "2022-05-16T11:40:22.326Z"
   },
   {
    "duration": 518,
    "start_time": "2022-05-16T11:40:22.361Z"
   },
   {
    "duration": 378,
    "start_time": "2022-05-16T11:40:22.881Z"
   },
   {
    "duration": 459,
    "start_time": "2022-05-16T11:40:23.261Z"
   },
   {
    "duration": 567,
    "start_time": "2022-05-16T11:40:23.723Z"
   },
   {
    "duration": 546,
    "start_time": "2022-05-16T11:40:24.293Z"
   },
   {
    "duration": 275,
    "start_time": "2022-05-16T11:40:24.841Z"
   },
   {
    "duration": 365,
    "start_time": "2022-05-16T11:40:25.119Z"
   },
   {
    "duration": 6,
    "start_time": "2022-05-16T11:40:25.487Z"
   },
   {
    "duration": 456,
    "start_time": "2022-05-16T11:40:25.495Z"
   },
   {
    "duration": 14,
    "start_time": "2022-05-16T11:40:25.957Z"
   },
   {
    "duration": 8,
    "start_time": "2022-05-16T11:40:25.974Z"
   },
   {
    "duration": 548,
    "start_time": "2022-05-16T11:40:25.984Z"
   },
   {
    "duration": 304,
    "start_time": "2022-05-16T11:40:26.535Z"
   },
   {
    "duration": 19,
    "start_time": "2022-05-16T11:40:26.841Z"
   },
   {
    "duration": 57,
    "start_time": "2022-05-16T11:40:26.862Z"
   },
   {
    "duration": 240,
    "start_time": "2022-05-16T11:41:19.153Z"
   },
   {
    "duration": 1799,
    "start_time": "2022-05-16T11:50:29.940Z"
   },
   {
    "duration": 4,
    "start_time": "2022-05-16T11:50:31.742Z"
   },
   {
    "duration": 52,
    "start_time": "2022-05-16T11:50:31.748Z"
   },
   {
    "duration": 9,
    "start_time": "2022-05-16T11:50:31.804Z"
   },
   {
    "duration": 74,
    "start_time": "2022-05-16T11:50:31.815Z"
   },
   {
    "duration": 65,
    "start_time": "2022-05-16T11:50:31.892Z"
   },
   {
    "duration": 16,
    "start_time": "2022-05-16T11:50:31.959Z"
   },
   {
    "duration": 38,
    "start_time": "2022-05-16T11:50:31.977Z"
   },
   {
    "duration": 48,
    "start_time": "2022-05-16T11:50:32.018Z"
   },
   {
    "duration": 13,
    "start_time": "2022-05-16T11:50:32.072Z"
   },
   {
    "duration": 69,
    "start_time": "2022-05-16T11:50:32.088Z"
   },
   {
    "duration": 26,
    "start_time": "2022-05-16T11:50:32.159Z"
   },
   {
    "duration": 26,
    "start_time": "2022-05-16T11:50:32.187Z"
   },
   {
    "duration": 20,
    "start_time": "2022-05-16T11:50:32.215Z"
   },
   {
    "duration": 433,
    "start_time": "2022-05-16T11:50:32.237Z"
   },
   {
    "duration": 6,
    "start_time": "2022-05-16T11:50:32.672Z"
   },
   {
    "duration": 20,
    "start_time": "2022-05-16T11:50:32.680Z"
   },
   {
    "duration": 414,
    "start_time": "2022-05-16T11:50:32.703Z"
   },
   {
    "duration": 12,
    "start_time": "2022-05-16T11:50:33.119Z"
   },
   {
    "duration": 28,
    "start_time": "2022-05-16T11:50:33.133Z"
   },
   {
    "duration": 285,
    "start_time": "2022-05-16T11:50:33.164Z"
   },
   {
    "duration": 229,
    "start_time": "2022-05-16T11:50:33.451Z"
   },
   {
    "duration": 19,
    "start_time": "2022-05-16T11:50:33.683Z"
   },
   {
    "duration": 754,
    "start_time": "2022-05-16T11:50:33.704Z"
   },
   {
    "duration": 535,
    "start_time": "2022-05-16T11:50:34.461Z"
   },
   {
    "duration": 498,
    "start_time": "2022-05-16T11:50:34.998Z"
   },
   {
    "duration": 414,
    "start_time": "2022-05-16T11:50:35.499Z"
   },
   {
    "duration": 516,
    "start_time": "2022-05-16T11:50:35.918Z"
   },
   {
    "duration": 294,
    "start_time": "2022-05-16T11:50:36.438Z"
   },
   {
    "duration": 261,
    "start_time": "2022-05-16T11:50:36.737Z"
   },
   {
    "duration": 7,
    "start_time": "2022-05-16T11:50:37.000Z"
   },
   {
    "duration": 456,
    "start_time": "2022-05-16T11:50:37.009Z"
   },
   {
    "duration": 17,
    "start_time": "2022-05-16T11:50:37.467Z"
   },
   {
    "duration": 10,
    "start_time": "2022-05-16T11:50:37.486Z"
   },
   {
    "duration": 573,
    "start_time": "2022-05-16T11:50:37.499Z"
   },
   {
    "duration": 395,
    "start_time": "2022-05-16T11:50:38.074Z"
   },
   {
    "duration": 13,
    "start_time": "2022-05-16T11:50:38.472Z"
   },
   {
    "duration": 116,
    "start_time": "2022-05-16T11:50:38.487Z"
   },
   {
    "duration": 1552,
    "start_time": "2022-05-16T12:02:07.002Z"
   },
   {
    "duration": 4,
    "start_time": "2022-05-16T12:02:08.558Z"
   },
   {
    "duration": 73,
    "start_time": "2022-05-16T12:02:08.565Z"
   },
   {
    "duration": 9,
    "start_time": "2022-05-16T12:02:08.642Z"
   },
   {
    "duration": 89,
    "start_time": "2022-05-16T12:02:08.654Z"
   },
   {
    "duration": 50,
    "start_time": "2022-05-16T12:02:08.745Z"
   },
   {
    "duration": 15,
    "start_time": "2022-05-16T12:02:08.798Z"
   },
   {
    "duration": 69,
    "start_time": "2022-05-16T12:02:08.816Z"
   },
   {
    "duration": 11,
    "start_time": "2022-05-16T12:02:08.887Z"
   },
   {
    "duration": 12,
    "start_time": "2022-05-16T12:02:08.903Z"
   },
   {
    "duration": 78,
    "start_time": "2022-05-16T12:02:08.917Z"
   },
   {
    "duration": 15,
    "start_time": "2022-05-16T12:02:08.998Z"
   },
   {
    "duration": 12,
    "start_time": "2022-05-16T12:02:09.016Z"
   },
   {
    "duration": 45,
    "start_time": "2022-05-16T12:02:09.030Z"
   },
   {
    "duration": 452,
    "start_time": "2022-05-16T12:02:09.078Z"
   },
   {
    "duration": 5,
    "start_time": "2022-05-16T12:02:09.532Z"
   },
   {
    "duration": 31,
    "start_time": "2022-05-16T12:02:09.540Z"
   },
   {
    "duration": 423,
    "start_time": "2022-05-16T12:02:09.573Z"
   },
   {
    "duration": 13,
    "start_time": "2022-05-16T12:02:09.999Z"
   },
   {
    "duration": 17,
    "start_time": "2022-05-16T12:02:10.014Z"
   },
   {
    "duration": 308,
    "start_time": "2022-05-16T12:02:10.033Z"
   },
   {
    "duration": 223,
    "start_time": "2022-05-16T12:02:10.343Z"
   },
   {
    "duration": 30,
    "start_time": "2022-05-16T12:02:10.572Z"
   },
   {
    "duration": 535,
    "start_time": "2022-05-16T12:02:10.605Z"
   },
   {
    "duration": 408,
    "start_time": "2022-05-16T12:02:11.142Z"
   },
   {
    "duration": 567,
    "start_time": "2022-05-16T12:02:11.555Z"
   },
   {
    "duration": 506,
    "start_time": "2022-05-16T12:02:12.126Z"
   },
   {
    "duration": 645,
    "start_time": "2022-05-16T12:02:12.642Z"
   },
   {
    "duration": 425,
    "start_time": "2022-05-16T12:02:13.290Z"
   },
   {
    "duration": 294,
    "start_time": "2022-05-16T12:02:13.718Z"
   },
   {
    "duration": 7,
    "start_time": "2022-05-16T12:02:14.014Z"
   },
   {
    "duration": 482,
    "start_time": "2022-05-16T12:02:14.023Z"
   },
   {
    "duration": 15,
    "start_time": "2022-05-16T12:02:14.508Z"
   },
   {
    "duration": 38,
    "start_time": "2022-05-16T12:02:14.526Z"
   },
   {
    "duration": 124,
    "start_time": "2022-05-16T12:02:14.567Z"
   },
   {
    "duration": 0,
    "start_time": "2022-05-16T12:02:14.694Z"
   },
   {
    "duration": 0,
    "start_time": "2022-05-16T12:02:14.696Z"
   },
   {
    "duration": 0,
    "start_time": "2022-05-16T12:02:14.698Z"
   },
   {
    "duration": 253,
    "start_time": "2022-05-16T12:03:14.603Z"
   },
   {
    "duration": 177,
    "start_time": "2022-05-16T12:03:58.254Z"
   },
   {
    "duration": 283,
    "start_time": "2022-05-16T12:04:57.379Z"
   },
   {
    "duration": 534,
    "start_time": "2022-05-16T12:05:19.010Z"
   },
   {
    "duration": 333,
    "start_time": "2022-05-16T12:05:24.528Z"
   },
   {
    "duration": 15,
    "start_time": "2022-05-16T12:05:30.058Z"
   },
   {
    "duration": 92,
    "start_time": "2022-05-16T12:05:35.462Z"
   },
   {
    "duration": 1817,
    "start_time": "2022-05-16T12:06:47.085Z"
   },
   {
    "duration": 4,
    "start_time": "2022-05-16T12:06:48.908Z"
   },
   {
    "duration": 50,
    "start_time": "2022-05-16T12:06:48.914Z"
   },
   {
    "duration": 12,
    "start_time": "2022-05-16T12:06:48.967Z"
   },
   {
    "duration": 80,
    "start_time": "2022-05-16T12:06:48.983Z"
   },
   {
    "duration": 47,
    "start_time": "2022-05-16T12:06:49.069Z"
   },
   {
    "duration": 15,
    "start_time": "2022-05-16T12:06:49.119Z"
   },
   {
    "duration": 47,
    "start_time": "2022-05-16T12:06:49.156Z"
   },
   {
    "duration": 12,
    "start_time": "2022-05-16T12:06:49.206Z"
   },
   {
    "duration": 54,
    "start_time": "2022-05-16T12:06:49.220Z"
   },
   {
    "duration": 49,
    "start_time": "2022-05-16T12:06:49.277Z"
   },
   {
    "duration": 14,
    "start_time": "2022-05-16T12:06:49.329Z"
   },
   {
    "duration": 17,
    "start_time": "2022-05-16T12:06:49.346Z"
   },
   {
    "duration": 35,
    "start_time": "2022-05-16T12:06:49.375Z"
   },
   {
    "duration": 463,
    "start_time": "2022-05-16T12:06:49.412Z"
   },
   {
    "duration": 8,
    "start_time": "2022-05-16T12:06:49.879Z"
   },
   {
    "duration": 26,
    "start_time": "2022-05-16T12:06:49.894Z"
   },
   {
    "duration": 428,
    "start_time": "2022-05-16T12:06:49.922Z"
   },
   {
    "duration": 24,
    "start_time": "2022-05-16T12:06:50.356Z"
   },
   {
    "duration": 25,
    "start_time": "2022-05-16T12:06:50.382Z"
   },
   {
    "duration": 320,
    "start_time": "2022-05-16T12:06:50.409Z"
   },
   {
    "duration": 224,
    "start_time": "2022-05-16T12:06:50.731Z"
   },
   {
    "duration": 22,
    "start_time": "2022-05-16T12:06:50.963Z"
   },
   {
    "duration": 704,
    "start_time": "2022-05-16T12:06:50.987Z"
   },
   {
    "duration": 504,
    "start_time": "2022-05-16T12:06:51.694Z"
   },
   {
    "duration": 608,
    "start_time": "2022-05-16T12:06:52.201Z"
   },
   {
    "duration": 595,
    "start_time": "2022-05-16T12:06:52.812Z"
   },
   {
    "duration": 537,
    "start_time": "2022-05-16T12:06:53.410Z"
   },
   {
    "duration": 401,
    "start_time": "2022-05-16T12:06:53.950Z"
   },
   {
    "duration": 354,
    "start_time": "2022-05-16T12:06:54.356Z"
   },
   {
    "duration": 9,
    "start_time": "2022-05-16T12:06:54.712Z"
   },
   {
    "duration": 489,
    "start_time": "2022-05-16T12:06:54.724Z"
   },
   {
    "duration": 13,
    "start_time": "2022-05-16T12:06:55.216Z"
   },
   {
    "duration": 30,
    "start_time": "2022-05-16T12:06:55.231Z"
   },
   {
    "duration": 409,
    "start_time": "2022-05-16T12:06:55.264Z"
   },
   {
    "duration": 358,
    "start_time": "2022-05-16T12:06:55.676Z"
   },
   {
    "duration": 2790,
    "start_time": "2022-05-16T12:06:56.037Z"
   },
   {
    "duration": 0,
    "start_time": "2022-05-16T12:06:58.830Z"
   },
   {
    "duration": 18,
    "start_time": "2022-05-16T12:07:21.063Z"
   },
   {
    "duration": 93,
    "start_time": "2022-05-16T12:07:32.511Z"
   },
   {
    "duration": 381,
    "start_time": "2022-05-16T12:09:33.730Z"
   },
   {
    "duration": 2012,
    "start_time": "2022-05-16T12:22:54.887Z"
   },
   {
    "duration": 4,
    "start_time": "2022-05-16T12:22:56.903Z"
   },
   {
    "duration": 49,
    "start_time": "2022-05-16T12:22:56.910Z"
   },
   {
    "duration": 6,
    "start_time": "2022-05-16T12:22:56.962Z"
   },
   {
    "duration": 93,
    "start_time": "2022-05-16T12:22:56.972Z"
   },
   {
    "duration": 62,
    "start_time": "2022-05-16T12:22:57.068Z"
   },
   {
    "duration": 23,
    "start_time": "2022-05-16T12:22:57.157Z"
   },
   {
    "duration": 75,
    "start_time": "2022-05-16T12:22:57.184Z"
   },
   {
    "duration": 16,
    "start_time": "2022-05-16T12:22:57.262Z"
   },
   {
    "duration": 14,
    "start_time": "2022-05-16T12:22:57.281Z"
   },
   {
    "duration": 72,
    "start_time": "2022-05-16T12:22:57.298Z"
   },
   {
    "duration": 46,
    "start_time": "2022-05-16T12:22:57.372Z"
   },
   {
    "duration": 14,
    "start_time": "2022-05-16T12:22:57.421Z"
   },
   {
    "duration": 30,
    "start_time": "2022-05-16T12:22:57.444Z"
   },
   {
    "duration": 701,
    "start_time": "2022-05-16T12:22:57.477Z"
   },
   {
    "duration": 8,
    "start_time": "2022-05-16T12:22:58.183Z"
   },
   {
    "duration": 31,
    "start_time": "2022-05-16T12:22:58.195Z"
   },
   {
    "duration": 594,
    "start_time": "2022-05-16T12:22:58.228Z"
   },
   {
    "duration": 12,
    "start_time": "2022-05-16T12:22:58.825Z"
   },
   {
    "duration": 27,
    "start_time": "2022-05-16T12:22:58.840Z"
   },
   {
    "duration": 288,
    "start_time": "2022-05-16T12:22:58.870Z"
   },
   {
    "duration": 232,
    "start_time": "2022-05-16T12:22:59.160Z"
   },
   {
    "duration": 19,
    "start_time": "2022-05-16T12:22:59.395Z"
   },
   {
    "duration": 513,
    "start_time": "2022-05-16T12:22:59.416Z"
   },
   {
    "duration": 375,
    "start_time": "2022-05-16T12:22:59.931Z"
   },
   {
    "duration": 508,
    "start_time": "2022-05-16T12:23:00.308Z"
   },
   {
    "duration": 404,
    "start_time": "2022-05-16T12:23:00.819Z"
   },
   {
    "duration": 637,
    "start_time": "2022-05-16T12:23:01.226Z"
   },
   {
    "duration": 318,
    "start_time": "2022-05-16T12:23:01.866Z"
   },
   {
    "duration": 269,
    "start_time": "2022-05-16T12:23:02.187Z"
   },
   {
    "duration": 8,
    "start_time": "2022-05-16T12:23:02.459Z"
   },
   {
    "duration": 458,
    "start_time": "2022-05-16T12:23:02.471Z"
   },
   {
    "duration": 15,
    "start_time": "2022-05-16T12:23:02.932Z"
   },
   {
    "duration": 6,
    "start_time": "2022-05-16T12:23:02.957Z"
   },
   {
    "duration": 548,
    "start_time": "2022-05-16T12:23:02.966Z"
   },
   {
    "duration": 297,
    "start_time": "2022-05-16T12:23:03.517Z"
   },
   {
    "duration": 12,
    "start_time": "2022-05-16T12:23:03.817Z"
   },
   {
    "duration": 368,
    "start_time": "2022-05-16T12:23:03.832Z"
   },
   {
    "duration": 68,
    "start_time": "2022-05-16T12:23:04.202Z"
   },
   {
    "duration": 120,
    "start_time": "2022-05-16T12:27:03.953Z"
   },
   {
    "duration": 128,
    "start_time": "2022-05-16T12:27:27.085Z"
   },
   {
    "duration": 104,
    "start_time": "2022-05-16T12:27:46.826Z"
   },
   {
    "duration": 29,
    "start_time": "2022-05-16T12:28:16.905Z"
   },
   {
    "duration": 151,
    "start_time": "2022-05-16T13:48:21.453Z"
   },
   {
    "duration": 1792,
    "start_time": "2022-05-16T13:48:58.302Z"
   },
   {
    "duration": 1633,
    "start_time": "2022-05-16T13:49:34.002Z"
   },
   {
    "duration": 1524,
    "start_time": "2022-05-16T13:49:58.257Z"
   },
   {
    "duration": 24,
    "start_time": "2022-05-16T13:50:30.368Z"
   },
   {
    "duration": 11,
    "start_time": "2022-05-16T13:50:57.808Z"
   },
   {
    "duration": 19,
    "start_time": "2022-05-16T13:54:58.497Z"
   },
   {
    "duration": 12,
    "start_time": "2022-05-16T13:55:09.704Z"
   },
   {
    "duration": 12,
    "start_time": "2022-05-16T13:56:06.738Z"
   },
   {
    "duration": 13,
    "start_time": "2022-05-16T13:56:18.425Z"
   },
   {
    "duration": 54,
    "start_time": "2022-05-16T14:16:12.705Z"
   },
   {
    "duration": 1707,
    "start_time": "2022-05-16T14:29:32.361Z"
   },
   {
    "duration": 1696,
    "start_time": "2022-05-16T14:29:59.351Z"
   },
   {
    "duration": 1652,
    "start_time": "2022-05-16T14:30:20.426Z"
   },
   {
    "duration": 20,
    "start_time": "2022-05-16T14:30:54.884Z"
   },
   {
    "duration": 49,
    "start_time": "2022-05-16T16:40:22.454Z"
   },
   {
    "duration": 65,
    "start_time": "2022-05-16T16:40:51.665Z"
   },
   {
    "duration": 65,
    "start_time": "2022-05-16T16:41:48.367Z"
   },
   {
    "duration": 19,
    "start_time": "2022-05-16T16:43:25.344Z"
   },
   {
    "duration": 32,
    "start_time": "2022-05-16T16:44:52.357Z"
   },
   {
    "duration": 314,
    "start_time": "2022-05-16T16:45:11.199Z"
   },
   {
    "duration": 456,
    "start_time": "2022-05-16T16:45:34.573Z"
   },
   {
    "duration": 311,
    "start_time": "2022-05-16T16:45:55.409Z"
   },
   {
    "duration": 481,
    "start_time": "2022-05-16T16:46:01.146Z"
   },
   {
    "duration": 412,
    "start_time": "2022-05-16T16:46:08.389Z"
   },
   {
    "duration": 1723,
    "start_time": "2022-05-16T16:47:10.168Z"
   },
   {
    "duration": 4,
    "start_time": "2022-05-16T16:47:11.894Z"
   },
   {
    "duration": 81,
    "start_time": "2022-05-16T16:47:11.900Z"
   },
   {
    "duration": 8,
    "start_time": "2022-05-16T16:47:11.983Z"
   },
   {
    "duration": 88,
    "start_time": "2022-05-16T16:47:11.995Z"
   },
   {
    "duration": 74,
    "start_time": "2022-05-16T16:47:12.086Z"
   },
   {
    "duration": 17,
    "start_time": "2022-05-16T16:47:12.162Z"
   },
   {
    "duration": 76,
    "start_time": "2022-05-16T16:47:12.182Z"
   },
   {
    "duration": 15,
    "start_time": "2022-05-16T16:47:12.260Z"
   },
   {
    "duration": 37,
    "start_time": "2022-05-16T16:47:12.277Z"
   },
   {
    "duration": 45,
    "start_time": "2022-05-16T16:47:12.316Z"
   },
   {
    "duration": 63,
    "start_time": "2022-05-16T16:47:12.363Z"
   },
   {
    "duration": 27,
    "start_time": "2022-05-16T16:47:12.428Z"
   },
   {
    "duration": 26,
    "start_time": "2022-05-16T16:47:12.459Z"
   },
   {
    "duration": 448,
    "start_time": "2022-05-16T16:47:12.488Z"
   },
   {
    "duration": 18,
    "start_time": "2022-05-16T16:47:12.938Z"
   },
   {
    "duration": 30,
    "start_time": "2022-05-16T16:47:12.958Z"
   },
   {
    "duration": 394,
    "start_time": "2022-05-16T16:47:12.990Z"
   },
   {
    "duration": 12,
    "start_time": "2022-05-16T16:47:13.387Z"
   },
   {
    "duration": 18,
    "start_time": "2022-05-16T16:47:13.402Z"
   },
   {
    "duration": 280,
    "start_time": "2022-05-16T16:47:13.423Z"
   },
   {
    "duration": 225,
    "start_time": "2022-05-16T16:47:13.705Z"
   },
   {
    "duration": 33,
    "start_time": "2022-05-16T16:47:13.932Z"
   },
   {
    "duration": 655,
    "start_time": "2022-05-16T16:47:13.968Z"
   },
   {
    "duration": 366,
    "start_time": "2022-05-16T16:47:14.626Z"
   },
   {
    "duration": 490,
    "start_time": "2022-05-16T16:47:14.994Z"
   },
   {
    "duration": 395,
    "start_time": "2022-05-16T16:47:15.486Z"
   },
   {
    "duration": 466,
    "start_time": "2022-05-16T16:47:15.883Z"
   },
   {
    "duration": 259,
    "start_time": "2022-05-16T16:47:16.355Z"
   },
   {
    "duration": 269,
    "start_time": "2022-05-16T16:47:16.617Z"
   },
   {
    "duration": 6,
    "start_time": "2022-05-16T16:47:16.888Z"
   },
   {
    "duration": 434,
    "start_time": "2022-05-16T16:47:16.897Z"
   },
   {
    "duration": 26,
    "start_time": "2022-05-16T16:47:17.333Z"
   },
   {
    "duration": 7,
    "start_time": "2022-05-16T16:47:17.361Z"
   },
   {
    "duration": 422,
    "start_time": "2022-05-16T16:47:17.370Z"
   },
   {
    "duration": 262,
    "start_time": "2022-05-16T16:47:17.794Z"
   },
   {
    "duration": 10,
    "start_time": "2022-05-16T16:47:18.058Z"
   },
   {
    "duration": 348,
    "start_time": "2022-05-16T16:47:18.070Z"
   },
   {
    "duration": 68,
    "start_time": "2022-05-16T16:47:18.420Z"
   },
   {
    "duration": 21,
    "start_time": "2022-05-16T16:47:18.491Z"
   },
   {
    "duration": 13,
    "start_time": "2022-05-16T16:47:18.517Z"
   },
   {
    "duration": 16,
    "start_time": "2022-05-16T16:47:18.557Z"
   },
   {
    "duration": 56,
    "start_time": "2022-05-16T16:47:18.576Z"
   },
   {
    "duration": 20,
    "start_time": "2022-05-16T16:47:18.657Z"
   },
   {
    "duration": 346,
    "start_time": "2022-05-16T16:47:18.679Z"
   },
   {
    "duration": 438,
    "start_time": "2022-05-16T16:47:19.027Z"
   },
   {
    "duration": 1538,
    "start_time": "2022-05-16T16:48:05.757Z"
   },
   {
    "duration": 4,
    "start_time": "2022-05-16T16:48:07.298Z"
   },
   {
    "duration": 44,
    "start_time": "2022-05-16T16:48:07.304Z"
   },
   {
    "duration": 7,
    "start_time": "2022-05-16T16:48:07.352Z"
   },
   {
    "duration": 58,
    "start_time": "2022-05-16T16:48:07.361Z"
   },
   {
    "duration": 74,
    "start_time": "2022-05-16T16:48:07.422Z"
   },
   {
    "duration": 13,
    "start_time": "2022-05-16T16:48:07.499Z"
   },
   {
    "duration": 64,
    "start_time": "2022-05-16T16:48:07.515Z"
   },
   {
    "duration": 12,
    "start_time": "2022-05-16T16:48:07.581Z"
   },
   {
    "duration": 14,
    "start_time": "2022-05-16T16:48:07.597Z"
   },
   {
    "duration": 70,
    "start_time": "2022-05-16T16:48:07.613Z"
   },
   {
    "duration": 15,
    "start_time": "2022-05-16T16:48:07.686Z"
   },
   {
    "duration": 10,
    "start_time": "2022-05-16T16:48:07.704Z"
   },
   {
    "duration": 49,
    "start_time": "2022-05-16T16:48:07.717Z"
   },
   {
    "duration": 449,
    "start_time": "2022-05-16T16:48:07.769Z"
   },
   {
    "duration": 6,
    "start_time": "2022-05-16T16:48:08.220Z"
   },
   {
    "duration": 45,
    "start_time": "2022-05-16T16:48:08.229Z"
   },
   {
    "duration": 419,
    "start_time": "2022-05-16T16:48:08.277Z"
   },
   {
    "duration": 12,
    "start_time": "2022-05-16T16:48:08.698Z"
   },
   {
    "duration": 10,
    "start_time": "2022-05-16T16:48:08.712Z"
   },
   {
    "duration": 302,
    "start_time": "2022-05-16T16:48:08.725Z"
   },
   {
    "duration": 239,
    "start_time": "2022-05-16T16:48:09.029Z"
   },
   {
    "duration": 21,
    "start_time": "2022-05-16T16:48:09.271Z"
   },
   {
    "duration": 711,
    "start_time": "2022-05-16T16:48:09.294Z"
   },
   {
    "duration": 383,
    "start_time": "2022-05-16T16:48:10.008Z"
   },
   {
    "duration": 617,
    "start_time": "2022-05-16T16:48:10.393Z"
   },
   {
    "duration": 562,
    "start_time": "2022-05-16T16:48:11.012Z"
   },
   {
    "duration": 646,
    "start_time": "2022-05-16T16:48:11.582Z"
   },
   {
    "duration": 303,
    "start_time": "2022-05-16T16:48:12.230Z"
   },
   {
    "duration": 271,
    "start_time": "2022-05-16T16:48:12.535Z"
   },
   {
    "duration": 7,
    "start_time": "2022-05-16T16:48:12.808Z"
   },
   {
    "duration": 456,
    "start_time": "2022-05-16T16:48:12.818Z"
   },
   {
    "duration": 15,
    "start_time": "2022-05-16T16:48:13.276Z"
   },
   {
    "duration": 27,
    "start_time": "2022-05-16T16:48:13.293Z"
   },
   {
    "duration": 408,
    "start_time": "2022-05-16T16:48:13.323Z"
   },
   {
    "duration": 280,
    "start_time": "2022-05-16T16:48:13.734Z"
   },
   {
    "duration": 9,
    "start_time": "2022-05-16T16:48:14.017Z"
   },
   {
    "duration": 344,
    "start_time": "2022-05-16T16:48:14.028Z"
   },
   {
    "duration": 55,
    "start_time": "2022-05-16T16:48:14.374Z"
   },
   {
    "duration": 41,
    "start_time": "2022-05-16T16:48:14.431Z"
   },
   {
    "duration": 13,
    "start_time": "2022-05-16T16:48:14.474Z"
   },
   {
    "duration": 17,
    "start_time": "2022-05-16T16:48:14.489Z"
   },
   {
    "duration": 83,
    "start_time": "2022-05-16T16:48:14.508Z"
   },
   {
    "duration": 21,
    "start_time": "2022-05-16T16:48:14.593Z"
   },
   {
    "duration": 326,
    "start_time": "2022-05-16T16:48:14.616Z"
   },
   {
    "duration": 432,
    "start_time": "2022-05-16T16:48:14.944Z"
   },
   {
    "duration": 1594,
    "start_time": "2022-05-16T16:54:18.512Z"
   },
   {
    "duration": 5,
    "start_time": "2022-05-16T16:54:20.108Z"
   },
   {
    "duration": 48,
    "start_time": "2022-05-16T16:54:20.115Z"
   },
   {
    "duration": 7,
    "start_time": "2022-05-16T16:54:20.166Z"
   },
   {
    "duration": 58,
    "start_time": "2022-05-16T16:54:20.175Z"
   },
   {
    "duration": 59,
    "start_time": "2022-05-16T16:54:20.235Z"
   },
   {
    "duration": 16,
    "start_time": "2022-05-16T16:54:20.297Z"
   },
   {
    "duration": 73,
    "start_time": "2022-05-16T16:54:20.316Z"
   },
   {
    "duration": 14,
    "start_time": "2022-05-16T16:54:20.392Z"
   },
   {
    "duration": 48,
    "start_time": "2022-05-16T16:54:20.410Z"
   },
   {
    "duration": 39,
    "start_time": "2022-05-16T16:54:20.460Z"
   },
   {
    "duration": 25,
    "start_time": "2022-05-16T16:54:20.501Z"
   },
   {
    "duration": 15,
    "start_time": "2022-05-16T16:54:20.529Z"
   },
   {
    "duration": 21,
    "start_time": "2022-05-16T16:54:20.546Z"
   },
   {
    "duration": 432,
    "start_time": "2022-05-16T16:54:20.569Z"
   },
   {
    "duration": 6,
    "start_time": "2022-05-16T16:54:21.004Z"
   },
   {
    "duration": 26,
    "start_time": "2022-05-16T16:54:21.012Z"
   },
   {
    "duration": 407,
    "start_time": "2022-05-16T16:54:21.041Z"
   },
   {
    "duration": 14,
    "start_time": "2022-05-16T16:54:21.450Z"
   },
   {
    "duration": 14,
    "start_time": "2022-05-16T16:54:21.466Z"
   },
   {
    "duration": 290,
    "start_time": "2022-05-16T16:54:21.483Z"
   },
   {
    "duration": 231,
    "start_time": "2022-05-16T16:54:21.775Z"
   },
   {
    "duration": 25,
    "start_time": "2022-05-16T16:54:22.008Z"
   },
   {
    "duration": 515,
    "start_time": "2022-05-16T16:54:22.035Z"
   },
   {
    "duration": 378,
    "start_time": "2022-05-16T16:54:22.555Z"
   },
   {
    "duration": 465,
    "start_time": "2022-05-16T16:54:22.935Z"
   },
   {
    "duration": 411,
    "start_time": "2022-05-16T16:54:23.402Z"
   },
   {
    "duration": 495,
    "start_time": "2022-05-16T16:54:23.819Z"
   },
   {
    "duration": 320,
    "start_time": "2022-05-16T16:54:24.317Z"
   },
   {
    "duration": 272,
    "start_time": "2022-05-16T16:54:24.639Z"
   },
   {
    "duration": 10,
    "start_time": "2022-05-16T16:54:24.914Z"
   },
   {
    "duration": 625,
    "start_time": "2022-05-16T16:54:24.927Z"
   },
   {
    "duration": 19,
    "start_time": "2022-05-16T16:54:25.556Z"
   },
   {
    "duration": 10,
    "start_time": "2022-05-16T16:54:25.578Z"
   },
   {
    "duration": 428,
    "start_time": "2022-05-16T16:54:25.592Z"
   },
   {
    "duration": 321,
    "start_time": "2022-05-16T16:54:26.022Z"
   },
   {
    "duration": 15,
    "start_time": "2022-05-16T16:54:26.345Z"
   },
   {
    "duration": 364,
    "start_time": "2022-05-16T16:54:26.363Z"
   },
   {
    "duration": 94,
    "start_time": "2022-05-16T16:54:26.730Z"
   },
   {
    "duration": 36,
    "start_time": "2022-05-16T16:54:26.828Z"
   },
   {
    "duration": 13,
    "start_time": "2022-05-16T16:54:26.866Z"
   },
   {
    "duration": 17,
    "start_time": "2022-05-16T16:54:26.882Z"
   },
   {
    "duration": 92,
    "start_time": "2022-05-16T16:54:26.901Z"
   },
   {
    "duration": 19,
    "start_time": "2022-05-16T16:54:26.995Z"
   },
   {
    "duration": 343,
    "start_time": "2022-05-16T16:54:27.056Z"
   },
   {
    "duration": 697,
    "start_time": "2022-05-16T16:54:27.401Z"
   },
   {
    "duration": 0,
    "start_time": "2022-05-16T16:54:28.100Z"
   },
   {
    "duration": 368,
    "start_time": "2022-05-16T16:54:47.344Z"
   },
   {
    "duration": 276,
    "start_time": "2022-05-16T16:55:03.624Z"
   },
   {
    "duration": 111,
    "start_time": "2022-05-16T16:55:23.272Z"
   },
   {
    "duration": 305,
    "start_time": "2022-05-16T16:56:09.170Z"
   },
   {
    "duration": 111,
    "start_time": "2022-05-16T16:56:12.016Z"
   },
   {
    "duration": 490,
    "start_time": "2022-05-16T16:57:29.851Z"
   },
   {
    "duration": 388,
    "start_time": "2022-05-16T17:01:25.155Z"
   },
   {
    "duration": 2000,
    "start_time": "2022-05-16T17:02:38.341Z"
   },
   {
    "duration": 5,
    "start_time": "2022-05-16T17:02:40.344Z"
   },
   {
    "duration": 47,
    "start_time": "2022-05-16T17:02:40.356Z"
   },
   {
    "duration": 9,
    "start_time": "2022-05-16T17:02:40.408Z"
   },
   {
    "duration": 78,
    "start_time": "2022-05-16T17:02:40.419Z"
   },
   {
    "duration": 78,
    "start_time": "2022-05-16T17:02:40.500Z"
   },
   {
    "duration": 16,
    "start_time": "2022-05-16T17:02:40.581Z"
   },
   {
    "duration": 74,
    "start_time": "2022-05-16T17:02:40.600Z"
   },
   {
    "duration": 12,
    "start_time": "2022-05-16T17:02:40.676Z"
   },
   {
    "duration": 20,
    "start_time": "2022-05-16T17:02:40.692Z"
   },
   {
    "duration": 62,
    "start_time": "2022-05-16T17:02:40.714Z"
   },
   {
    "duration": 20,
    "start_time": "2022-05-16T17:02:40.778Z"
   },
   {
    "duration": 12,
    "start_time": "2022-05-16T17:02:40.800Z"
   },
   {
    "duration": 18,
    "start_time": "2022-05-16T17:02:40.815Z"
   },
   {
    "duration": 456,
    "start_time": "2022-05-16T17:02:40.835Z"
   },
   {
    "duration": 6,
    "start_time": "2022-05-16T17:02:41.293Z"
   },
   {
    "duration": 20,
    "start_time": "2022-05-16T17:02:41.301Z"
   },
   {
    "duration": 424,
    "start_time": "2022-05-16T17:02:41.323Z"
   },
   {
    "duration": 13,
    "start_time": "2022-05-16T17:02:41.756Z"
   },
   {
    "duration": 13,
    "start_time": "2022-05-16T17:02:41.771Z"
   },
   {
    "duration": 305,
    "start_time": "2022-05-16T17:02:41.786Z"
   },
   {
    "duration": 233,
    "start_time": "2022-05-16T17:02:42.093Z"
   },
   {
    "duration": 36,
    "start_time": "2022-05-16T17:02:42.329Z"
   },
   {
    "duration": 502,
    "start_time": "2022-05-16T17:02:42.367Z"
   },
   {
    "duration": 376,
    "start_time": "2022-05-16T17:02:42.872Z"
   },
   {
    "duration": 475,
    "start_time": "2022-05-16T17:02:43.250Z"
   },
   {
    "duration": 403,
    "start_time": "2022-05-16T17:02:43.727Z"
   },
   {
    "duration": 516,
    "start_time": "2022-05-16T17:02:44.136Z"
   },
   {
    "duration": 343,
    "start_time": "2022-05-16T17:02:44.657Z"
   },
   {
    "duration": 276,
    "start_time": "2022-05-16T17:02:45.003Z"
   },
   {
    "duration": 8,
    "start_time": "2022-05-16T17:02:45.282Z"
   },
   {
    "duration": 453,
    "start_time": "2022-05-16T17:02:45.293Z"
   },
   {
    "duration": 19,
    "start_time": "2022-05-16T17:02:45.749Z"
   },
   {
    "duration": 8,
    "start_time": "2022-05-16T17:02:45.771Z"
   },
   {
    "duration": 420,
    "start_time": "2022-05-16T17:02:45.782Z"
   },
   {
    "duration": 332,
    "start_time": "2022-05-16T17:02:46.204Z"
   },
   {
    "duration": 26,
    "start_time": "2022-05-16T17:02:46.538Z"
   },
   {
    "duration": 354,
    "start_time": "2022-05-16T17:02:46.567Z"
   },
   {
    "duration": 66,
    "start_time": "2022-05-16T17:02:46.924Z"
   },
   {
    "duration": 21,
    "start_time": "2022-05-16T17:02:46.993Z"
   },
   {
    "duration": 12,
    "start_time": "2022-05-16T17:02:47.016Z"
   },
   {
    "duration": 11,
    "start_time": "2022-05-16T17:02:47.057Z"
   },
   {
    "duration": 56,
    "start_time": "2022-05-16T17:02:47.071Z"
   },
   {
    "duration": 37,
    "start_time": "2022-05-16T17:02:47.129Z"
   },
   {
    "duration": 336,
    "start_time": "2022-05-16T17:02:47.168Z"
   },
   {
    "duration": 497,
    "start_time": "2022-05-16T17:02:47.507Z"
   },
   {
    "duration": 541,
    "start_time": "2022-05-16T17:02:48.009Z"
   },
   {
    "duration": 130,
    "start_time": "2022-05-16T17:08:11.187Z"
   },
   {
    "duration": 1650,
    "start_time": "2022-05-16T17:08:49.389Z"
   },
   {
    "duration": 4,
    "start_time": "2022-05-16T17:08:51.043Z"
   },
   {
    "duration": 55,
    "start_time": "2022-05-16T17:08:51.057Z"
   },
   {
    "duration": 6,
    "start_time": "2022-05-16T17:08:51.115Z"
   },
   {
    "duration": 76,
    "start_time": "2022-05-16T17:08:51.124Z"
   },
   {
    "duration": 69,
    "start_time": "2022-05-16T17:08:51.203Z"
   },
   {
    "duration": 15,
    "start_time": "2022-05-16T17:08:51.275Z"
   },
   {
    "duration": 72,
    "start_time": "2022-05-16T17:08:51.292Z"
   },
   {
    "duration": 13,
    "start_time": "2022-05-16T17:08:51.366Z"
   },
   {
    "duration": 27,
    "start_time": "2022-05-16T17:08:51.381Z"
   },
   {
    "duration": 78,
    "start_time": "2022-05-16T17:08:51.411Z"
   },
   {
    "duration": 27,
    "start_time": "2022-05-16T17:08:51.492Z"
   },
   {
    "duration": 13,
    "start_time": "2022-05-16T17:08:51.522Z"
   },
   {
    "duration": 22,
    "start_time": "2022-05-16T17:08:51.563Z"
   },
   {
    "duration": 546,
    "start_time": "2022-05-16T17:08:51.589Z"
   },
   {
    "duration": 6,
    "start_time": "2022-05-16T17:08:52.137Z"
   },
   {
    "duration": 24,
    "start_time": "2022-05-16T17:08:52.158Z"
   },
   {
    "duration": 571,
    "start_time": "2022-05-16T17:08:52.185Z"
   },
   {
    "duration": 17,
    "start_time": "2022-05-16T17:08:52.760Z"
   },
   {
    "duration": 13,
    "start_time": "2022-05-16T17:08:52.780Z"
   },
   {
    "duration": 303,
    "start_time": "2022-05-16T17:08:52.796Z"
   },
   {
    "duration": 220,
    "start_time": "2022-05-16T17:08:53.101Z"
   },
   {
    "duration": 36,
    "start_time": "2022-05-16T17:08:53.323Z"
   },
   {
    "duration": 501,
    "start_time": "2022-05-16T17:08:53.362Z"
   },
   {
    "duration": 379,
    "start_time": "2022-05-16T17:08:53.865Z"
   },
   {
    "duration": 471,
    "start_time": "2022-05-16T17:08:54.247Z"
   },
   {
    "duration": 396,
    "start_time": "2022-05-16T17:08:54.720Z"
   },
   {
    "duration": 523,
    "start_time": "2022-05-16T17:08:55.118Z"
   },
   {
    "duration": 264,
    "start_time": "2022-05-16T17:08:55.643Z"
   },
   {
    "duration": 266,
    "start_time": "2022-05-16T17:08:55.909Z"
   },
   {
    "duration": 7,
    "start_time": "2022-05-16T17:08:56.178Z"
   },
   {
    "duration": 652,
    "start_time": "2022-05-16T17:08:56.187Z"
   },
   {
    "duration": 25,
    "start_time": "2022-05-16T17:08:56.842Z"
   },
   {
    "duration": 8,
    "start_time": "2022-05-16T17:08:56.870Z"
   },
   {
    "duration": 410,
    "start_time": "2022-05-16T17:08:56.880Z"
   },
   {
    "duration": 269,
    "start_time": "2022-05-16T17:08:57.293Z"
   },
   {
    "duration": 10,
    "start_time": "2022-05-16T17:08:57.564Z"
   },
   {
    "duration": 500,
    "start_time": "2022-05-16T17:08:57.577Z"
   },
   {
    "duration": 99,
    "start_time": "2022-05-16T17:08:58.080Z"
   },
   {
    "duration": 27,
    "start_time": "2022-05-16T17:08:58.182Z"
   },
   {
    "duration": 147,
    "start_time": "2022-05-16T17:08:58.218Z"
   },
   {
    "duration": 0,
    "start_time": "2022-05-16T17:08:58.369Z"
   },
   {
    "duration": 0,
    "start_time": "2022-05-16T17:08:58.371Z"
   },
   {
    "duration": 0,
    "start_time": "2022-05-16T17:08:58.373Z"
   },
   {
    "duration": 0,
    "start_time": "2022-05-16T17:08:58.376Z"
   },
   {
    "duration": 0,
    "start_time": "2022-05-16T17:08:58.378Z"
   },
   {
    "duration": 0,
    "start_time": "2022-05-16T17:08:58.379Z"
   },
   {
    "duration": 0,
    "start_time": "2022-05-16T17:08:58.381Z"
   },
   {
    "duration": 116,
    "start_time": "2022-05-16T17:09:38.882Z"
   },
   {
    "duration": 10,
    "start_time": "2022-05-16T17:10:22.239Z"
   },
   {
    "duration": 11,
    "start_time": "2022-05-16T17:11:12.316Z"
   },
   {
    "duration": 1513,
    "start_time": "2022-05-16T17:15:22.810Z"
   },
   {
    "duration": 3,
    "start_time": "2022-05-16T17:15:24.326Z"
   },
   {
    "duration": 57,
    "start_time": "2022-05-16T17:15:24.331Z"
   },
   {
    "duration": 7,
    "start_time": "2022-05-16T17:15:24.391Z"
   },
   {
    "duration": 75,
    "start_time": "2022-05-16T17:15:24.401Z"
   },
   {
    "duration": 44,
    "start_time": "2022-05-16T17:15:24.479Z"
   },
   {
    "duration": 46,
    "start_time": "2022-05-16T17:15:24.526Z"
   },
   {
    "duration": 59,
    "start_time": "2022-05-16T17:15:24.575Z"
   },
   {
    "duration": 33,
    "start_time": "2022-05-16T17:15:24.637Z"
   },
   {
    "duration": 15,
    "start_time": "2022-05-16T17:15:24.675Z"
   },
   {
    "duration": 70,
    "start_time": "2022-05-16T17:15:24.693Z"
   },
   {
    "duration": 38,
    "start_time": "2022-05-16T17:15:24.766Z"
   },
   {
    "duration": 24,
    "start_time": "2022-05-16T17:15:24.807Z"
   },
   {
    "duration": 39,
    "start_time": "2022-05-16T17:15:24.834Z"
   },
   {
    "duration": 695,
    "start_time": "2022-05-16T17:15:24.876Z"
   },
   {
    "duration": 8,
    "start_time": "2022-05-16T17:15:25.574Z"
   },
   {
    "duration": 36,
    "start_time": "2022-05-16T17:15:25.585Z"
   },
   {
    "duration": 401,
    "start_time": "2022-05-16T17:15:25.624Z"
   },
   {
    "duration": 13,
    "start_time": "2022-05-16T17:15:26.027Z"
   },
   {
    "duration": 9,
    "start_time": "2022-05-16T17:15:26.058Z"
   },
   {
    "duration": 292,
    "start_time": "2022-05-16T17:15:26.069Z"
   },
   {
    "duration": 231,
    "start_time": "2022-05-16T17:15:26.363Z"
   },
   {
    "duration": 23,
    "start_time": "2022-05-16T17:15:26.597Z"
   },
   {
    "duration": 718,
    "start_time": "2022-05-16T17:15:26.622Z"
   },
   {
    "duration": 575,
    "start_time": "2022-05-16T17:15:27.343Z"
   },
   {
    "duration": 645,
    "start_time": "2022-05-16T17:15:27.921Z"
   },
   {
    "duration": 406,
    "start_time": "2022-05-16T17:15:28.568Z"
   },
   {
    "duration": 490,
    "start_time": "2022-05-16T17:15:28.982Z"
   },
   {
    "duration": 256,
    "start_time": "2022-05-16T17:15:29.474Z"
   },
   {
    "duration": 371,
    "start_time": "2022-05-16T17:15:29.732Z"
   },
   {
    "duration": 7,
    "start_time": "2022-05-16T17:15:30.105Z"
   },
   {
    "duration": 458,
    "start_time": "2022-05-16T17:15:30.115Z"
   },
   {
    "duration": 14,
    "start_time": "2022-05-16T17:15:30.576Z"
   },
   {
    "duration": 15,
    "start_time": "2022-05-16T17:15:30.593Z"
   },
   {
    "duration": 556,
    "start_time": "2022-05-16T17:15:30.612Z"
   },
   {
    "duration": 277,
    "start_time": "2022-05-16T17:15:31.171Z"
   },
   {
    "duration": 10,
    "start_time": "2022-05-16T17:15:31.451Z"
   },
   {
    "duration": 356,
    "start_time": "2022-05-16T17:15:31.464Z"
   },
   {
    "duration": 69,
    "start_time": "2022-05-16T17:15:31.823Z"
   },
   {
    "duration": 22,
    "start_time": "2022-05-16T17:15:31.894Z"
   },
   {
    "duration": 10,
    "start_time": "2022-05-16T17:15:31.918Z"
   },
   {
    "duration": 38,
    "start_time": "2022-05-16T17:15:31.930Z"
   },
   {
    "duration": 23,
    "start_time": "2022-05-16T17:15:31.971Z"
   },
   {
    "duration": 83,
    "start_time": "2022-05-16T17:15:31.996Z"
   },
   {
    "duration": 21,
    "start_time": "2022-05-16T17:15:32.081Z"
   },
   {
    "duration": 352,
    "start_time": "2022-05-16T17:15:32.105Z"
   },
   {
    "duration": 502,
    "start_time": "2022-05-16T17:15:32.459Z"
   },
   {
    "duration": 553,
    "start_time": "2022-05-16T17:15:32.963Z"
   },
   {
    "duration": 10,
    "start_time": "2022-05-16T17:15:33.520Z"
   },
   {
    "duration": 12,
    "start_time": "2022-05-16T17:21:56.455Z"
   },
   {
    "duration": 1602,
    "start_time": "2022-05-16T17:23:31.834Z"
   },
   {
    "duration": 4,
    "start_time": "2022-05-16T17:23:33.439Z"
   },
   {
    "duration": 56,
    "start_time": "2022-05-16T17:23:33.445Z"
   },
   {
    "duration": 7,
    "start_time": "2022-05-16T17:23:33.503Z"
   },
   {
    "duration": 75,
    "start_time": "2022-05-16T17:23:33.513Z"
   },
   {
    "duration": 72,
    "start_time": "2022-05-16T17:23:33.592Z"
   },
   {
    "duration": 17,
    "start_time": "2022-05-16T17:23:33.667Z"
   },
   {
    "duration": 70,
    "start_time": "2022-05-16T17:23:33.687Z"
   },
   {
    "duration": 14,
    "start_time": "2022-05-16T17:23:33.759Z"
   },
   {
    "duration": 16,
    "start_time": "2022-05-16T17:23:33.776Z"
   },
   {
    "duration": 70,
    "start_time": "2022-05-16T17:23:33.796Z"
   },
   {
    "duration": 16,
    "start_time": "2022-05-16T17:23:33.868Z"
   },
   {
    "duration": 10,
    "start_time": "2022-05-16T17:23:33.886Z"
   },
   {
    "duration": 14,
    "start_time": "2022-05-16T17:23:33.900Z"
   },
   {
    "duration": 456,
    "start_time": "2022-05-16T17:23:33.917Z"
   },
   {
    "duration": 7,
    "start_time": "2022-05-16T17:23:34.375Z"
   },
   {
    "duration": 22,
    "start_time": "2022-05-16T17:23:34.384Z"
   },
   {
    "duration": 412,
    "start_time": "2022-05-16T17:23:34.409Z"
   },
   {
    "duration": 14,
    "start_time": "2022-05-16T17:23:34.823Z"
   },
   {
    "duration": 8,
    "start_time": "2022-05-16T17:23:34.857Z"
   },
   {
    "duration": 392,
    "start_time": "2022-05-16T17:23:34.868Z"
   },
   {
    "duration": 228,
    "start_time": "2022-05-16T17:23:35.262Z"
   },
   {
    "duration": 22,
    "start_time": "2022-05-16T17:23:35.493Z"
   },
   {
    "duration": 497,
    "start_time": "2022-05-16T17:23:35.517Z"
   },
   {
    "duration": 477,
    "start_time": "2022-05-16T17:23:36.016Z"
   },
   {
    "duration": 487,
    "start_time": "2022-05-16T17:23:36.495Z"
   },
   {
    "duration": 411,
    "start_time": "2022-05-16T17:23:36.985Z"
   },
   {
    "duration": 529,
    "start_time": "2022-05-16T17:23:37.398Z"
   },
   {
    "duration": 301,
    "start_time": "2022-05-16T17:23:37.929Z"
   },
   {
    "duration": 271,
    "start_time": "2022-05-16T17:23:38.232Z"
   },
   {
    "duration": 8,
    "start_time": "2022-05-16T17:23:38.506Z"
   },
   {
    "duration": 452,
    "start_time": "2022-05-16T17:23:38.516Z"
   },
   {
    "duration": 14,
    "start_time": "2022-05-16T17:23:38.970Z"
   },
   {
    "duration": 7,
    "start_time": "2022-05-16T17:23:38.987Z"
   },
   {
    "duration": 415,
    "start_time": "2022-05-16T17:23:38.996Z"
   },
   {
    "duration": 275,
    "start_time": "2022-05-16T17:23:39.413Z"
   },
   {
    "duration": 12,
    "start_time": "2022-05-16T17:23:39.691Z"
   },
   {
    "duration": 349,
    "start_time": "2022-05-16T17:23:39.705Z"
   },
   {
    "duration": 57,
    "start_time": "2022-05-16T17:23:40.056Z"
   },
   {
    "duration": 41,
    "start_time": "2022-05-16T17:23:40.115Z"
   },
   {
    "duration": 10,
    "start_time": "2022-05-16T17:23:40.164Z"
   },
   {
    "duration": 14,
    "start_time": "2022-05-16T17:23:40.177Z"
   },
   {
    "duration": 15,
    "start_time": "2022-05-16T17:23:40.194Z"
   },
   {
    "duration": 96,
    "start_time": "2022-05-16T17:23:40.211Z"
   },
   {
    "duration": 18,
    "start_time": "2022-05-16T17:23:40.309Z"
   },
   {
    "duration": 37,
    "start_time": "2022-05-16T17:23:40.329Z"
   },
   {
    "duration": 338,
    "start_time": "2022-05-16T17:23:40.368Z"
   },
   {
    "duration": 375,
    "start_time": "2022-05-16T17:23:40.709Z"
   },
   {
    "duration": 390,
    "start_time": "2022-05-16T17:23:41.086Z"
   },
   {
    "duration": 338,
    "start_time": "2022-05-16T17:23:57.783Z"
   },
   {
    "duration": 141,
    "start_time": "2022-05-16T17:25:07.215Z"
   },
   {
    "duration": 478,
    "start_time": "2022-05-16T17:25:14.083Z"
   },
   {
    "duration": 1557,
    "start_time": "2022-05-16T17:32:51.320Z"
   },
   {
    "duration": 3,
    "start_time": "2022-05-16T17:32:52.880Z"
   },
   {
    "duration": 56,
    "start_time": "2022-05-16T17:32:52.885Z"
   },
   {
    "duration": 6,
    "start_time": "2022-05-16T17:32:52.944Z"
   },
   {
    "duration": 61,
    "start_time": "2022-05-16T17:32:52.953Z"
   },
   {
    "duration": 61,
    "start_time": "2022-05-16T17:32:53.017Z"
   },
   {
    "duration": 14,
    "start_time": "2022-05-16T17:32:53.080Z"
   },
   {
    "duration": 65,
    "start_time": "2022-05-16T17:32:53.096Z"
   },
   {
    "duration": 12,
    "start_time": "2022-05-16T17:32:53.163Z"
   },
   {
    "duration": 13,
    "start_time": "2022-05-16T17:32:53.179Z"
   },
   {
    "duration": 62,
    "start_time": "2022-05-16T17:32:53.194Z"
   },
   {
    "duration": 14,
    "start_time": "2022-05-16T17:32:53.259Z"
   },
   {
    "duration": 9,
    "start_time": "2022-05-16T17:32:53.276Z"
   },
   {
    "duration": 18,
    "start_time": "2022-05-16T17:32:53.287Z"
   },
   {
    "duration": 451,
    "start_time": "2022-05-16T17:32:53.307Z"
   },
   {
    "duration": 6,
    "start_time": "2022-05-16T17:32:53.760Z"
   },
   {
    "duration": 23,
    "start_time": "2022-05-16T17:32:53.768Z"
   },
   {
    "duration": 410,
    "start_time": "2022-05-16T17:32:53.793Z"
   },
   {
    "duration": 13,
    "start_time": "2022-05-16T17:32:54.205Z"
   },
   {
    "duration": 14,
    "start_time": "2022-05-16T17:32:54.221Z"
   },
   {
    "duration": 295,
    "start_time": "2022-05-16T17:32:54.238Z"
   },
   {
    "duration": 242,
    "start_time": "2022-05-16T17:32:54.536Z"
   },
   {
    "duration": 33,
    "start_time": "2022-05-16T17:32:54.781Z"
   },
   {
    "duration": 686,
    "start_time": "2022-05-16T17:32:54.817Z"
   },
   {
    "duration": 497,
    "start_time": "2022-05-16T17:32:55.506Z"
   },
   {
    "duration": 594,
    "start_time": "2022-05-16T17:32:56.005Z"
   },
   {
    "duration": 535,
    "start_time": "2022-05-16T17:32:56.602Z"
   },
   {
    "duration": 498,
    "start_time": "2022-05-16T17:32:57.145Z"
   },
   {
    "duration": 258,
    "start_time": "2022-05-16T17:32:57.645Z"
   },
   {
    "duration": 257,
    "start_time": "2022-05-16T17:32:57.905Z"
   },
   {
    "duration": 6,
    "start_time": "2022-05-16T17:32:58.164Z"
   },
   {
    "duration": 445,
    "start_time": "2022-05-16T17:32:58.173Z"
   },
   {
    "duration": 13,
    "start_time": "2022-05-16T17:32:58.620Z"
   },
   {
    "duration": 25,
    "start_time": "2022-05-16T17:32:58.636Z"
   },
   {
    "duration": 389,
    "start_time": "2022-05-16T17:32:58.664Z"
   },
   {
    "duration": 284,
    "start_time": "2022-05-16T17:32:59.057Z"
   },
   {
    "duration": 19,
    "start_time": "2022-05-16T17:32:59.343Z"
   },
   {
    "duration": 352,
    "start_time": "2022-05-16T17:32:59.364Z"
   },
   {
    "duration": 71,
    "start_time": "2022-05-16T17:32:59.719Z"
   },
   {
    "duration": 23,
    "start_time": "2022-05-16T17:32:59.793Z"
   },
   {
    "duration": 38,
    "start_time": "2022-05-16T17:32:59.819Z"
   },
   {
    "duration": 13,
    "start_time": "2022-05-16T17:32:59.860Z"
   },
   {
    "duration": 15,
    "start_time": "2022-05-16T17:32:59.876Z"
   },
   {
    "duration": 95,
    "start_time": "2022-05-16T17:32:59.893Z"
   },
   {
    "duration": 23,
    "start_time": "2022-05-16T17:32:59.991Z"
   },
   {
    "duration": 46,
    "start_time": "2022-05-16T17:33:00.016Z"
   },
   {
    "duration": 348,
    "start_time": "2022-05-16T17:33:00.064Z"
   },
   {
    "duration": 390,
    "start_time": "2022-05-16T17:33:00.415Z"
   },
   {
    "duration": 378,
    "start_time": "2022-05-16T17:33:00.807Z"
   },
   {
    "duration": 1576,
    "start_time": "2022-05-16T18:02:48.537Z"
   },
   {
    "duration": 4,
    "start_time": "2022-05-16T18:02:50.115Z"
   },
   {
    "duration": 50,
    "start_time": "2022-05-16T18:02:50.121Z"
   },
   {
    "duration": 6,
    "start_time": "2022-05-16T18:02:50.174Z"
   },
   {
    "duration": 83,
    "start_time": "2022-05-16T18:02:50.183Z"
   },
   {
    "duration": 49,
    "start_time": "2022-05-16T18:02:50.268Z"
   },
   {
    "duration": 40,
    "start_time": "2022-05-16T18:02:50.320Z"
   },
   {
    "duration": 43,
    "start_time": "2022-05-16T18:02:50.363Z"
   },
   {
    "duration": 14,
    "start_time": "2022-05-16T18:02:50.408Z"
   },
   {
    "duration": 19,
    "start_time": "2022-05-16T18:02:50.459Z"
   },
   {
    "duration": 37,
    "start_time": "2022-05-16T18:02:50.481Z"
   },
   {
    "duration": 21,
    "start_time": "2022-05-16T18:02:50.560Z"
   },
   {
    "duration": 6,
    "start_time": "2022-05-16T18:02:50.583Z"
   },
   {
    "duration": 20,
    "start_time": "2022-05-16T18:02:50.591Z"
   },
   {
    "duration": 492,
    "start_time": "2022-05-16T18:02:50.613Z"
   },
   {
    "duration": 6,
    "start_time": "2022-05-16T18:02:51.107Z"
   },
   {
    "duration": 20,
    "start_time": "2022-05-16T18:02:51.116Z"
   },
   {
    "duration": 423,
    "start_time": "2022-05-16T18:02:51.162Z"
   },
   {
    "duration": 14,
    "start_time": "2022-05-16T18:02:51.588Z"
   },
   {
    "duration": 15,
    "start_time": "2022-05-16T18:02:51.604Z"
   },
   {
    "duration": 309,
    "start_time": "2022-05-16T18:02:51.622Z"
   },
   {
    "duration": 225,
    "start_time": "2022-05-16T18:02:51.933Z"
   },
   {
    "duration": 24,
    "start_time": "2022-05-16T18:02:52.161Z"
   },
   {
    "duration": 549,
    "start_time": "2022-05-16T18:02:52.188Z"
   },
   {
    "duration": 394,
    "start_time": "2022-05-16T18:02:52.739Z"
   },
   {
    "duration": 489,
    "start_time": "2022-05-16T18:02:53.135Z"
   },
   {
    "duration": 429,
    "start_time": "2022-05-16T18:02:53.627Z"
   },
   {
    "duration": 533,
    "start_time": "2022-05-16T18:02:54.064Z"
   },
   {
    "duration": 426,
    "start_time": "2022-05-16T18:02:54.600Z"
   },
   {
    "duration": 406,
    "start_time": "2022-05-16T18:02:55.029Z"
   },
   {
    "duration": 19,
    "start_time": "2022-05-16T18:02:55.438Z"
   },
   {
    "duration": 450,
    "start_time": "2022-05-16T18:02:55.463Z"
   },
   {
    "duration": 14,
    "start_time": "2022-05-16T18:02:55.916Z"
   },
   {
    "duration": 27,
    "start_time": "2022-05-16T18:02:55.932Z"
   },
   {
    "duration": 410,
    "start_time": "2022-05-16T18:02:55.964Z"
   },
   {
    "duration": 314,
    "start_time": "2022-05-16T18:02:56.377Z"
   },
   {
    "duration": 9,
    "start_time": "2022-05-16T18:02:56.694Z"
   },
   {
    "duration": 378,
    "start_time": "2022-05-16T18:02:56.706Z"
   },
   {
    "duration": 74,
    "start_time": "2022-05-16T18:02:57.087Z"
   },
   {
    "duration": 23,
    "start_time": "2022-05-16T18:02:57.164Z"
   },
   {
    "duration": 10,
    "start_time": "2022-05-16T18:02:57.189Z"
   },
   {
    "duration": 15,
    "start_time": "2022-05-16T18:02:57.202Z"
   },
   {
    "duration": 45,
    "start_time": "2022-05-16T18:02:57.219Z"
   },
   {
    "duration": 64,
    "start_time": "2022-05-16T18:02:57.269Z"
   },
   {
    "duration": 35,
    "start_time": "2022-05-16T18:02:57.336Z"
   },
   {
    "duration": 17,
    "start_time": "2022-05-16T18:02:57.374Z"
   },
   {
    "duration": 394,
    "start_time": "2022-05-16T18:02:57.394Z"
   },
   {
    "duration": 388,
    "start_time": "2022-05-16T18:02:57.790Z"
   },
   {
    "duration": 393,
    "start_time": "2022-05-16T18:02:58.181Z"
   },
   {
    "duration": 1591,
    "start_time": "2022-05-16T18:03:22.539Z"
   },
   {
    "duration": 4,
    "start_time": "2022-05-16T18:03:24.133Z"
   },
   {
    "duration": 62,
    "start_time": "2022-05-16T18:03:24.139Z"
   },
   {
    "duration": 6,
    "start_time": "2022-05-16T18:03:24.203Z"
   },
   {
    "duration": 65,
    "start_time": "2022-05-16T18:03:24.214Z"
   },
   {
    "duration": 90,
    "start_time": "2022-05-16T18:03:24.282Z"
   },
   {
    "duration": 17,
    "start_time": "2022-05-16T18:03:24.374Z"
   },
   {
    "duration": 37,
    "start_time": "2022-05-16T18:03:24.393Z"
   },
   {
    "duration": 36,
    "start_time": "2022-05-16T18:03:24.432Z"
   },
   {
    "duration": 23,
    "start_time": "2022-05-16T18:03:24.473Z"
   },
   {
    "duration": 36,
    "start_time": "2022-05-16T18:03:24.498Z"
   },
   {
    "duration": 41,
    "start_time": "2022-05-16T18:03:24.536Z"
   },
   {
    "duration": 11,
    "start_time": "2022-05-16T18:03:24.579Z"
   },
   {
    "duration": 20,
    "start_time": "2022-05-16T18:03:24.595Z"
   },
   {
    "duration": 568,
    "start_time": "2022-05-16T18:03:24.618Z"
   },
   {
    "duration": 6,
    "start_time": "2022-05-16T18:03:25.188Z"
   },
   {
    "duration": 18,
    "start_time": "2022-05-16T18:03:25.197Z"
   },
   {
    "duration": 430,
    "start_time": "2022-05-16T18:03:25.217Z"
   },
   {
    "duration": 15,
    "start_time": "2022-05-16T18:03:25.655Z"
   },
   {
    "duration": 20,
    "start_time": "2022-05-16T18:03:25.672Z"
   },
   {
    "duration": 298,
    "start_time": "2022-05-16T18:03:25.695Z"
   },
   {
    "duration": 224,
    "start_time": "2022-05-16T18:03:25.995Z"
   },
   {
    "duration": 19,
    "start_time": "2022-05-16T18:03:26.221Z"
   },
   {
    "duration": 512,
    "start_time": "2022-05-16T18:03:26.258Z"
   },
   {
    "duration": 491,
    "start_time": "2022-05-16T18:03:26.773Z"
   },
   {
    "duration": 456,
    "start_time": "2022-05-16T18:03:27.266Z"
   },
   {
    "duration": 421,
    "start_time": "2022-05-16T18:03:27.725Z"
   },
   {
    "duration": 498,
    "start_time": "2022-05-16T18:03:28.149Z"
   },
   {
    "duration": 314,
    "start_time": "2022-05-16T18:03:28.666Z"
   },
   {
    "duration": 276,
    "start_time": "2022-05-16T18:03:28.983Z"
   },
   {
    "duration": 7,
    "start_time": "2022-05-16T18:03:29.262Z"
   },
   {
    "duration": 472,
    "start_time": "2022-05-16T18:03:29.272Z"
   },
   {
    "duration": 25,
    "start_time": "2022-05-16T18:03:29.746Z"
   },
   {
    "duration": 10,
    "start_time": "2022-05-16T18:03:29.774Z"
   },
   {
    "duration": 412,
    "start_time": "2022-05-16T18:03:29.786Z"
   },
   {
    "duration": 312,
    "start_time": "2022-05-16T18:03:30.200Z"
   },
   {
    "duration": 12,
    "start_time": "2022-05-16T18:03:30.515Z"
   },
   {
    "duration": 398,
    "start_time": "2022-05-16T18:03:30.530Z"
   },
   {
    "duration": 74,
    "start_time": "2022-05-16T18:03:30.931Z"
   },
   {
    "duration": 25,
    "start_time": "2022-05-16T18:03:31.008Z"
   },
   {
    "duration": 12,
    "start_time": "2022-05-16T18:03:31.064Z"
   },
   {
    "duration": 38,
    "start_time": "2022-05-16T18:03:31.081Z"
   },
   {
    "duration": 38,
    "start_time": "2022-05-16T18:03:31.122Z"
   },
   {
    "duration": 89,
    "start_time": "2022-05-16T18:03:31.168Z"
   },
   {
    "duration": 23,
    "start_time": "2022-05-16T18:03:31.260Z"
   },
   {
    "duration": 26,
    "start_time": "2022-05-16T18:03:31.286Z"
   },
   {
    "duration": 349,
    "start_time": "2022-05-16T18:03:31.314Z"
   },
   {
    "duration": 376,
    "start_time": "2022-05-16T18:03:31.668Z"
   },
   {
    "duration": 402,
    "start_time": "2022-05-16T18:03:32.046Z"
   },
   {
    "duration": 1798,
    "start_time": "2022-05-18T05:14:19.719Z"
   },
   {
    "duration": 4,
    "start_time": "2022-05-18T05:14:21.525Z"
   },
   {
    "duration": 117,
    "start_time": "2022-05-18T05:14:21.530Z"
   },
   {
    "duration": 6,
    "start_time": "2022-05-18T05:14:21.650Z"
   },
   {
    "duration": 60,
    "start_time": "2022-05-18T05:14:21.657Z"
   },
   {
    "duration": 30,
    "start_time": "2022-05-18T05:14:21.719Z"
   },
   {
    "duration": 11,
    "start_time": "2022-05-18T05:14:21.750Z"
   },
   {
    "duration": 23,
    "start_time": "2022-05-18T05:14:21.763Z"
   },
   {
    "duration": 8,
    "start_time": "2022-05-18T05:14:21.788Z"
   },
   {
    "duration": 12,
    "start_time": "2022-05-18T05:14:21.828Z"
   },
   {
    "duration": 25,
    "start_time": "2022-05-18T05:14:21.842Z"
   },
   {
    "duration": 13,
    "start_time": "2022-05-18T05:14:21.869Z"
   },
   {
    "duration": 7,
    "start_time": "2022-05-18T05:14:21.883Z"
   },
   {
    "duration": 18,
    "start_time": "2022-05-18T05:14:21.892Z"
   },
   {
    "duration": 341,
    "start_time": "2022-05-18T05:14:21.927Z"
   },
   {
    "duration": 4,
    "start_time": "2022-05-18T05:14:22.270Z"
   },
   {
    "duration": 17,
    "start_time": "2022-05-18T05:14:22.276Z"
   },
   {
    "duration": 338,
    "start_time": "2022-05-18T05:14:22.294Z"
   },
   {
    "duration": 8,
    "start_time": "2022-05-18T05:14:22.634Z"
   },
   {
    "duration": 11,
    "start_time": "2022-05-18T05:14:22.644Z"
   },
   {
    "duration": 194,
    "start_time": "2022-05-18T05:14:22.657Z"
   },
   {
    "duration": 140,
    "start_time": "2022-05-18T05:14:22.853Z"
   },
   {
    "duration": 16,
    "start_time": "2022-05-18T05:14:22.994Z"
   },
   {
    "duration": 747,
    "start_time": "2022-05-18T05:14:23.012Z"
   },
   {
    "duration": 483,
    "start_time": "2022-05-18T05:14:23.760Z"
   },
   {
    "duration": 625,
    "start_time": "2022-05-18T05:14:24.245Z"
   },
   {
    "duration": 380,
    "start_time": "2022-05-18T05:14:24.873Z"
   },
   {
    "duration": 339,
    "start_time": "2022-05-18T05:14:25.256Z"
   },
   {
    "duration": 127,
    "start_time": "2022-05-18T05:14:25.597Z"
   },
   {
    "duration": 152,
    "start_time": "2022-05-18T05:14:25.726Z"
   },
   {
    "duration": 4,
    "start_time": "2022-05-18T05:14:25.880Z"
   },
   {
    "duration": 217,
    "start_time": "2022-05-18T05:14:25.885Z"
   },
   {
    "duration": 10,
    "start_time": "2022-05-18T05:14:26.104Z"
   },
   {
    "duration": 5,
    "start_time": "2022-05-18T05:14:26.125Z"
   },
   {
    "duration": 228,
    "start_time": "2022-05-18T05:14:26.131Z"
   },
   {
    "duration": 138,
    "start_time": "2022-05-18T05:14:26.361Z"
   },
   {
    "duration": 7,
    "start_time": "2022-05-18T05:14:26.501Z"
   },
   {
    "duration": 228,
    "start_time": "2022-05-18T05:14:26.509Z"
   },
   {
    "duration": 53,
    "start_time": "2022-05-18T05:14:26.739Z"
   },
   {
    "duration": 34,
    "start_time": "2022-05-18T05:14:26.794Z"
   },
   {
    "duration": 8,
    "start_time": "2022-05-18T05:14:26.830Z"
   },
   {
    "duration": 14,
    "start_time": "2022-05-18T05:14:26.839Z"
   },
   {
    "duration": 7,
    "start_time": "2022-05-18T05:14:26.855Z"
   },
   {
    "duration": 87,
    "start_time": "2022-05-18T05:14:26.864Z"
   },
   {
    "duration": 13,
    "start_time": "2022-05-18T05:14:26.953Z"
   },
   {
    "duration": 9,
    "start_time": "2022-05-18T05:14:26.967Z"
   },
   {
    "duration": 212,
    "start_time": "2022-05-18T05:14:26.977Z"
   },
   {
    "duration": 239,
    "start_time": "2022-05-18T05:14:27.191Z"
   },
   {
    "duration": 312,
    "start_time": "2022-05-18T05:14:27.431Z"
   },
   {
    "duration": 1270,
    "start_time": "2022-05-18T06:13:04.251Z"
   },
   {
    "duration": 5,
    "start_time": "2022-05-18T06:13:05.523Z"
   },
   {
    "duration": 238,
    "start_time": "2022-05-18T06:13:05.530Z"
   },
   {
    "duration": 4,
    "start_time": "2022-05-18T06:13:05.770Z"
   },
   {
    "duration": 38,
    "start_time": "2022-05-18T06:13:05.776Z"
   },
   {
    "duration": 26,
    "start_time": "2022-05-18T06:13:05.816Z"
   },
   {
    "duration": 9,
    "start_time": "2022-05-18T06:13:05.844Z"
   },
   {
    "duration": 21,
    "start_time": "2022-05-18T06:13:05.855Z"
   },
   {
    "duration": 7,
    "start_time": "2022-05-18T06:13:05.878Z"
   },
   {
    "duration": 40,
    "start_time": "2022-05-18T06:13:05.889Z"
   },
   {
    "duration": 31,
    "start_time": "2022-05-18T06:13:05.930Z"
   },
   {
    "duration": 11,
    "start_time": "2022-05-18T06:13:05.963Z"
   },
   {
    "duration": 13,
    "start_time": "2022-05-18T06:13:05.976Z"
   },
   {
    "duration": 11,
    "start_time": "2022-05-18T06:13:05.991Z"
   },
   {
    "duration": 288,
    "start_time": "2022-05-18T06:13:06.004Z"
   },
   {
    "duration": 4,
    "start_time": "2022-05-18T06:13:06.294Z"
   },
   {
    "duration": 12,
    "start_time": "2022-05-18T06:13:06.299Z"
   },
   {
    "duration": 316,
    "start_time": "2022-05-18T06:13:06.313Z"
   },
   {
    "duration": 8,
    "start_time": "2022-05-18T06:13:06.631Z"
   },
   {
    "duration": 10,
    "start_time": "2022-05-18T06:13:06.640Z"
   },
   {
    "duration": 168,
    "start_time": "2022-05-18T06:13:06.651Z"
   },
   {
    "duration": 128,
    "start_time": "2022-05-18T06:13:06.820Z"
   },
   {
    "duration": 11,
    "start_time": "2022-05-18T06:13:06.950Z"
   },
   {
    "duration": 329,
    "start_time": "2022-05-18T06:13:06.962Z"
   },
   {
    "duration": 206,
    "start_time": "2022-05-18T06:13:07.293Z"
   },
   {
    "duration": 393,
    "start_time": "2022-05-18T06:13:07.500Z"
   },
   {
    "duration": 253,
    "start_time": "2022-05-18T06:13:07.895Z"
   },
   {
    "duration": 308,
    "start_time": "2022-05-18T06:13:08.151Z"
   },
   {
    "duration": 136,
    "start_time": "2022-05-18T06:13:08.461Z"
   },
   {
    "duration": 175,
    "start_time": "2022-05-18T06:13:08.598Z"
   },
   {
    "duration": 5,
    "start_time": "2022-05-18T06:13:08.775Z"
   },
   {
    "duration": 195,
    "start_time": "2022-05-18T06:13:08.781Z"
   },
   {
    "duration": 9,
    "start_time": "2022-05-18T06:13:08.977Z"
   },
   {
    "duration": 4,
    "start_time": "2022-05-18T06:13:08.988Z"
   },
   {
    "duration": 241,
    "start_time": "2022-05-18T06:13:08.994Z"
   },
   {
    "duration": 139,
    "start_time": "2022-05-18T06:13:09.236Z"
   },
   {
    "duration": 7,
    "start_time": "2022-05-18T06:13:09.377Z"
   },
   {
    "duration": 199,
    "start_time": "2022-05-18T06:13:09.385Z"
   },
   {
    "duration": 53,
    "start_time": "2022-05-18T06:13:09.586Z"
   },
   {
    "duration": 14,
    "start_time": "2022-05-18T06:13:09.640Z"
   },
   {
    "duration": 6,
    "start_time": "2022-05-18T06:13:09.655Z"
   },
   {
    "duration": 9,
    "start_time": "2022-05-18T06:13:09.662Z"
   },
   {
    "duration": 6,
    "start_time": "2022-05-18T06:13:09.673Z"
   },
   {
    "duration": 72,
    "start_time": "2022-05-18T06:13:09.681Z"
   },
   {
    "duration": 14,
    "start_time": "2022-05-18T06:13:09.759Z"
   },
   {
    "duration": 7,
    "start_time": "2022-05-18T06:13:09.774Z"
   },
   {
    "duration": 193,
    "start_time": "2022-05-18T06:13:09.783Z"
   },
   {
    "duration": 207,
    "start_time": "2022-05-18T06:13:09.977Z"
   },
   {
    "duration": 299,
    "start_time": "2022-05-18T06:13:10.186Z"
   },
   {
    "duration": 1182,
    "start_time": "2022-05-18T06:17:29.226Z"
   },
   {
    "duration": 3,
    "start_time": "2022-05-18T06:17:30.410Z"
   },
   {
    "duration": 83,
    "start_time": "2022-05-18T06:17:30.415Z"
   },
   {
    "duration": 4,
    "start_time": "2022-05-18T06:17:30.500Z"
   },
   {
    "duration": 48,
    "start_time": "2022-05-18T06:17:30.505Z"
   },
   {
    "duration": 27,
    "start_time": "2022-05-18T06:17:30.554Z"
   },
   {
    "duration": 16,
    "start_time": "2022-05-18T06:17:30.583Z"
   },
   {
    "duration": 43,
    "start_time": "2022-05-18T06:17:30.601Z"
   },
   {
    "duration": 8,
    "start_time": "2022-05-18T06:17:30.645Z"
   },
   {
    "duration": 12,
    "start_time": "2022-05-18T06:17:30.655Z"
   },
   {
    "duration": 33,
    "start_time": "2022-05-18T06:17:30.669Z"
   },
   {
    "duration": 32,
    "start_time": "2022-05-18T06:17:30.703Z"
   },
   {
    "duration": 30,
    "start_time": "2022-05-18T06:17:30.736Z"
   },
   {
    "duration": 43,
    "start_time": "2022-05-18T06:17:30.767Z"
   },
   {
    "duration": 277,
    "start_time": "2022-05-18T06:17:30.811Z"
   },
   {
    "duration": 4,
    "start_time": "2022-05-18T06:17:31.090Z"
   },
   {
    "duration": 16,
    "start_time": "2022-05-18T06:17:31.095Z"
   },
   {
    "duration": 317,
    "start_time": "2022-05-18T06:17:31.113Z"
   },
   {
    "duration": 8,
    "start_time": "2022-05-18T06:17:31.432Z"
   },
   {
    "duration": 30,
    "start_time": "2022-05-18T06:17:31.442Z"
   },
   {
    "duration": 178,
    "start_time": "2022-05-18T06:17:31.474Z"
   },
   {
    "duration": 123,
    "start_time": "2022-05-18T06:17:31.654Z"
   },
   {
    "duration": 12,
    "start_time": "2022-05-18T06:17:31.779Z"
   },
   {
    "duration": 347,
    "start_time": "2022-05-18T06:17:31.793Z"
   },
   {
    "duration": 232,
    "start_time": "2022-05-18T06:17:32.142Z"
   },
   {
    "duration": 341,
    "start_time": "2022-05-18T06:17:32.376Z"
   },
   {
    "duration": 249,
    "start_time": "2022-05-18T06:17:32.719Z"
   },
   {
    "duration": 314,
    "start_time": "2022-05-18T06:17:32.971Z"
   },
   {
    "duration": 167,
    "start_time": "2022-05-18T06:17:33.286Z"
   },
   {
    "duration": 165,
    "start_time": "2022-05-18T06:17:33.455Z"
   },
   {
    "duration": 5,
    "start_time": "2022-05-18T06:17:33.622Z"
   },
   {
    "duration": 206,
    "start_time": "2022-05-18T06:17:33.628Z"
   },
   {
    "duration": 10,
    "start_time": "2022-05-18T06:17:33.835Z"
   },
   {
    "duration": 11,
    "start_time": "2022-05-18T06:17:33.846Z"
   },
   {
    "duration": 243,
    "start_time": "2022-05-18T06:17:33.859Z"
   },
   {
    "duration": 136,
    "start_time": "2022-05-18T06:17:34.103Z"
   },
   {
    "duration": 6,
    "start_time": "2022-05-18T06:17:34.241Z"
   },
   {
    "duration": 209,
    "start_time": "2022-05-18T06:17:34.248Z"
   },
   {
    "duration": 58,
    "start_time": "2022-05-18T06:17:34.459Z"
   },
   {
    "duration": 28,
    "start_time": "2022-05-18T06:17:34.531Z"
   },
   {
    "duration": 6,
    "start_time": "2022-05-18T06:17:34.560Z"
   },
   {
    "duration": 10,
    "start_time": "2022-05-18T06:17:34.567Z"
   },
   {
    "duration": 9,
    "start_time": "2022-05-18T06:17:34.579Z"
   },
   {
    "duration": 64,
    "start_time": "2022-05-18T06:17:34.590Z"
   },
   {
    "duration": 12,
    "start_time": "2022-05-18T06:17:34.656Z"
   },
   {
    "duration": 12,
    "start_time": "2022-05-18T06:17:34.670Z"
   },
   {
    "duration": 200,
    "start_time": "2022-05-18T06:17:34.683Z"
   },
   {
    "duration": 215,
    "start_time": "2022-05-18T06:17:34.884Z"
   },
   {
    "duration": 315,
    "start_time": "2022-05-18T06:17:35.101Z"
   },
   {
    "duration": 5,
    "start_time": "2022-05-18T06:22:04.324Z"
   },
   {
    "duration": 4,
    "start_time": "2022-05-18T06:26:53.527Z"
   },
   {
    "duration": 12,
    "start_time": "2022-05-18T06:39:52.683Z"
   },
   {
    "duration": 112,
    "start_time": "2022-05-18T07:03:29.476Z"
   },
   {
    "duration": 12,
    "start_time": "2022-05-18T07:03:46.452Z"
   },
   {
    "duration": 14,
    "start_time": "2022-05-18T07:07:44.773Z"
   },
   {
    "duration": 12,
    "start_time": "2022-05-18T07:07:59.322Z"
   },
   {
    "duration": 11,
    "start_time": "2022-05-18T07:10:24.797Z"
   },
   {
    "duration": 9,
    "start_time": "2022-05-18T07:10:26.061Z"
   },
   {
    "duration": 1231,
    "start_time": "2022-05-18T07:11:00.487Z"
   },
   {
    "duration": 4,
    "start_time": "2022-05-18T07:11:01.720Z"
   },
   {
    "duration": 115,
    "start_time": "2022-05-18T07:11:01.726Z"
   },
   {
    "duration": 8,
    "start_time": "2022-05-18T07:11:01.846Z"
   },
   {
    "duration": 72,
    "start_time": "2022-05-18T07:11:01.856Z"
   },
   {
    "duration": 62,
    "start_time": "2022-05-18T07:11:01.930Z"
   },
   {
    "duration": 30,
    "start_time": "2022-05-18T07:11:01.994Z"
   },
   {
    "duration": 61,
    "start_time": "2022-05-18T07:11:02.027Z"
   },
   {
    "duration": 9,
    "start_time": "2022-05-18T07:11:02.089Z"
   },
   {
    "duration": 15,
    "start_time": "2022-05-18T07:11:02.101Z"
   },
   {
    "duration": 51,
    "start_time": "2022-05-18T07:11:02.117Z"
   },
   {
    "duration": 13,
    "start_time": "2022-05-18T07:11:02.170Z"
   },
   {
    "duration": 8,
    "start_time": "2022-05-18T07:11:02.185Z"
   },
   {
    "duration": 15,
    "start_time": "2022-05-18T07:11:02.194Z"
   },
   {
    "duration": 311,
    "start_time": "2022-05-18T07:11:02.211Z"
   },
   {
    "duration": 14,
    "start_time": "2022-05-18T07:11:02.527Z"
   },
   {
    "duration": 15,
    "start_time": "2022-05-18T07:11:02.543Z"
   },
   {
    "duration": 371,
    "start_time": "2022-05-18T07:11:02.559Z"
   },
   {
    "duration": 13,
    "start_time": "2022-05-18T07:11:02.932Z"
   },
   {
    "duration": 8,
    "start_time": "2022-05-18T07:11:02.947Z"
   },
   {
    "duration": 10,
    "start_time": "2022-05-18T07:11:02.957Z"
   },
   {
    "duration": 14,
    "start_time": "2022-05-18T07:11:02.969Z"
   },
   {
    "duration": 13,
    "start_time": "2022-05-18T07:11:02.984Z"
   },
   {
    "duration": 8,
    "start_time": "2022-05-18T07:11:02.999Z"
   },
   {
    "duration": 194,
    "start_time": "2022-05-18T07:11:03.030Z"
   },
   {
    "duration": 188,
    "start_time": "2022-05-18T07:11:03.229Z"
   },
   {
    "duration": 22,
    "start_time": "2022-05-18T07:11:03.419Z"
   },
   {
    "duration": 373,
    "start_time": "2022-05-18T07:11:03.449Z"
   },
   {
    "duration": 266,
    "start_time": "2022-05-18T07:11:03.824Z"
   },
   {
    "duration": 383,
    "start_time": "2022-05-18T07:11:04.092Z"
   },
   {
    "duration": 290,
    "start_time": "2022-05-18T07:11:04.477Z"
   },
   {
    "duration": 320,
    "start_time": "2022-05-18T07:11:04.769Z"
   },
   {
    "duration": 168,
    "start_time": "2022-05-18T07:11:05.091Z"
   },
   {
    "duration": 191,
    "start_time": "2022-05-18T07:11:05.261Z"
   },
   {
    "duration": 5,
    "start_time": "2022-05-18T07:11:05.454Z"
   },
   {
    "duration": 216,
    "start_time": "2022-05-18T07:11:05.460Z"
   },
   {
    "duration": 12,
    "start_time": "2022-05-18T07:11:05.678Z"
   },
   {
    "duration": 6,
    "start_time": "2022-05-18T07:11:05.692Z"
   },
   {
    "duration": 311,
    "start_time": "2022-05-18T07:11:05.700Z"
   },
   {
    "duration": 155,
    "start_time": "2022-05-18T07:11:06.012Z"
   },
   {
    "duration": 7,
    "start_time": "2022-05-18T07:11:06.169Z"
   },
   {
    "duration": 234,
    "start_time": "2022-05-18T07:11:06.177Z"
   },
   {
    "duration": 71,
    "start_time": "2022-05-18T07:11:06.413Z"
   },
   {
    "duration": 19,
    "start_time": "2022-05-18T07:11:06.485Z"
   },
   {
    "duration": 36,
    "start_time": "2022-05-18T07:11:06.505Z"
   },
   {
    "duration": 15,
    "start_time": "2022-05-18T07:11:06.544Z"
   },
   {
    "duration": 8,
    "start_time": "2022-05-18T07:11:06.561Z"
   },
   {
    "duration": 58,
    "start_time": "2022-05-18T07:11:06.570Z"
   },
   {
    "duration": 20,
    "start_time": "2022-05-18T07:11:06.633Z"
   },
   {
    "duration": 16,
    "start_time": "2022-05-18T07:11:06.655Z"
   },
   {
    "duration": 230,
    "start_time": "2022-05-18T07:11:06.673Z"
   },
   {
    "duration": 244,
    "start_time": "2022-05-18T07:11:06.905Z"
   },
   {
    "duration": 368,
    "start_time": "2022-05-18T07:11:07.150Z"
   },
   {
    "duration": 5,
    "start_time": "2022-05-18T07:16:29.408Z"
   },
   {
    "duration": 7,
    "start_time": "2022-05-18T07:16:39.920Z"
   },
   {
    "duration": 6,
    "start_time": "2022-05-18T07:28:26.056Z"
   },
   {
    "duration": 115,
    "start_time": "2022-05-18T07:29:08.527Z"
   },
   {
    "duration": 9,
    "start_time": "2022-05-18T07:29:33.851Z"
   },
   {
    "duration": 4,
    "start_time": "2022-05-18T07:30:02.352Z"
   },
   {
    "duration": 9,
    "start_time": "2022-05-18T07:30:26.862Z"
   },
   {
    "duration": 8,
    "start_time": "2022-05-18T07:31:24.873Z"
   },
   {
    "duration": 9,
    "start_time": "2022-05-18T07:31:32.712Z"
   },
   {
    "duration": 25,
    "start_time": "2022-05-18T07:32:14.003Z"
   },
   {
    "duration": 5,
    "start_time": "2022-05-18T07:43:56.717Z"
   },
   {
    "duration": 10,
    "start_time": "2022-05-18T07:44:24.176Z"
   },
   {
    "duration": 8,
    "start_time": "2022-05-18T07:45:57.600Z"
   },
   {
    "duration": 10,
    "start_time": "2022-05-18T07:46:12.362Z"
   },
   {
    "duration": 3,
    "start_time": "2022-05-18T07:50:43.518Z"
   },
   {
    "duration": 36,
    "start_time": "2022-05-18T07:51:08.955Z"
   },
   {
    "duration": 1095,
    "start_time": "2022-05-18T08:04:42.360Z"
   },
   {
    "duration": 3,
    "start_time": "2022-05-18T08:04:43.456Z"
   },
   {
    "duration": 78,
    "start_time": "2022-05-18T08:04:43.461Z"
   },
   {
    "duration": 4,
    "start_time": "2022-05-18T08:04:43.540Z"
   },
   {
    "duration": 36,
    "start_time": "2022-05-18T08:04:43.546Z"
   },
   {
    "duration": 25,
    "start_time": "2022-05-18T08:04:43.584Z"
   },
   {
    "duration": 19,
    "start_time": "2022-05-18T08:04:43.611Z"
   },
   {
    "duration": 22,
    "start_time": "2022-05-18T08:04:43.631Z"
   },
   {
    "duration": 8,
    "start_time": "2022-05-18T08:04:43.654Z"
   },
   {
    "duration": 10,
    "start_time": "2022-05-18T08:04:43.663Z"
   },
   {
    "duration": 21,
    "start_time": "2022-05-18T08:04:43.675Z"
   },
   {
    "duration": 38,
    "start_time": "2022-05-18T08:04:43.698Z"
   },
   {
    "duration": 6,
    "start_time": "2022-05-18T08:04:43.737Z"
   },
   {
    "duration": 10,
    "start_time": "2022-05-18T08:04:43.746Z"
   },
   {
    "duration": 291,
    "start_time": "2022-05-18T08:04:43.757Z"
   },
   {
    "duration": 4,
    "start_time": "2022-05-18T08:04:44.050Z"
   },
   {
    "duration": 12,
    "start_time": "2022-05-18T08:04:44.055Z"
   },
   {
    "duration": 312,
    "start_time": "2022-05-18T08:04:44.068Z"
   },
   {
    "duration": 8,
    "start_time": "2022-05-18T08:04:44.382Z"
   },
   {
    "duration": 8,
    "start_time": "2022-05-18T08:04:44.391Z"
   },
   {
    "duration": 15,
    "start_time": "2022-05-18T08:04:44.401Z"
   },
   {
    "duration": 18,
    "start_time": "2022-05-18T08:04:44.417Z"
   },
   {
    "duration": 8,
    "start_time": "2022-05-18T08:04:44.436Z"
   },
   {
    "duration": 6,
    "start_time": "2022-05-18T08:04:44.446Z"
   },
   {
    "duration": 181,
    "start_time": "2022-05-18T08:04:44.453Z"
   },
   {
    "duration": 121,
    "start_time": "2022-05-18T08:04:44.636Z"
   },
   {
    "duration": 12,
    "start_time": "2022-05-18T08:04:44.758Z"
   },
   {
    "duration": 340,
    "start_time": "2022-05-18T08:04:44.772Z"
   },
   {
    "duration": 228,
    "start_time": "2022-05-18T08:04:45.113Z"
   },
   {
    "duration": 316,
    "start_time": "2022-05-18T08:04:45.343Z"
   },
   {
    "duration": 252,
    "start_time": "2022-05-18T08:04:45.662Z"
   },
   {
    "duration": 359,
    "start_time": "2022-05-18T08:04:45.916Z"
   },
   {
    "duration": 137,
    "start_time": "2022-05-18T08:04:46.277Z"
   },
   {
    "duration": 151,
    "start_time": "2022-05-18T08:04:46.416Z"
   },
   {
    "duration": 6,
    "start_time": "2022-05-18T08:04:46.569Z"
   },
   {
    "duration": 229,
    "start_time": "2022-05-18T08:04:46.577Z"
   },
   {
    "duration": 19,
    "start_time": "2022-05-18T08:04:46.808Z"
   },
   {
    "duration": 5,
    "start_time": "2022-05-18T08:04:46.828Z"
   },
   {
    "duration": 241,
    "start_time": "2022-05-18T08:04:46.835Z"
   },
   {
    "duration": 155,
    "start_time": "2022-05-18T08:04:47.078Z"
   },
   {
    "duration": 7,
    "start_time": "2022-05-18T08:04:47.238Z"
   },
   {
    "duration": 212,
    "start_time": "2022-05-18T08:04:47.246Z"
   },
   {
    "duration": 53,
    "start_time": "2022-05-18T08:04:47.459Z"
   },
   {
    "duration": 26,
    "start_time": "2022-05-18T08:04:47.514Z"
   },
   {
    "duration": 6,
    "start_time": "2022-05-18T08:04:47.542Z"
   },
   {
    "duration": 134,
    "start_time": "2022-05-18T08:04:47.550Z"
   },
   {
    "duration": 0,
    "start_time": "2022-05-18T08:04:47.685Z"
   },
   {
    "duration": 0,
    "start_time": "2022-05-18T08:04:47.687Z"
   },
   {
    "duration": 0,
    "start_time": "2022-05-18T08:04:47.688Z"
   },
   {
    "duration": 0,
    "start_time": "2022-05-18T08:04:47.689Z"
   },
   {
    "duration": 0,
    "start_time": "2022-05-18T08:04:47.690Z"
   },
   {
    "duration": 0,
    "start_time": "2022-05-18T08:04:47.691Z"
   },
   {
    "duration": 0,
    "start_time": "2022-05-18T08:04:47.692Z"
   },
   {
    "duration": 0,
    "start_time": "2022-05-18T08:04:47.693Z"
   },
   {
    "duration": 8,
    "start_time": "2022-05-18T08:05:16.947Z"
   },
   {
    "duration": 8,
    "start_time": "2022-05-18T08:07:58.399Z"
   },
   {
    "duration": 13,
    "start_time": "2022-05-18T08:08:27.447Z"
   },
   {
    "duration": 8,
    "start_time": "2022-05-18T08:09:07.302Z"
   },
   {
    "duration": 13,
    "start_time": "2022-05-18T08:09:16.785Z"
   },
   {
    "duration": 1177,
    "start_time": "2022-05-18T08:09:27.687Z"
   },
   {
    "duration": 3,
    "start_time": "2022-05-18T08:09:28.866Z"
   },
   {
    "duration": 77,
    "start_time": "2022-05-18T08:09:28.870Z"
   },
   {
    "duration": 4,
    "start_time": "2022-05-18T08:09:28.949Z"
   },
   {
    "duration": 43,
    "start_time": "2022-05-18T08:09:28.955Z"
   },
   {
    "duration": 31,
    "start_time": "2022-05-18T08:09:29.000Z"
   },
   {
    "duration": 10,
    "start_time": "2022-05-18T08:09:29.032Z"
   },
   {
    "duration": 22,
    "start_time": "2022-05-18T08:09:29.043Z"
   },
   {
    "duration": 8,
    "start_time": "2022-05-18T08:09:29.067Z"
   },
   {
    "duration": 10,
    "start_time": "2022-05-18T08:09:29.077Z"
   },
   {
    "duration": 56,
    "start_time": "2022-05-18T08:09:29.089Z"
   },
   {
    "duration": 13,
    "start_time": "2022-05-18T08:09:29.147Z"
   },
   {
    "duration": 5,
    "start_time": "2022-05-18T08:09:29.162Z"
   },
   {
    "duration": 11,
    "start_time": "2022-05-18T08:09:29.170Z"
   },
   {
    "duration": 280,
    "start_time": "2022-05-18T08:09:29.182Z"
   },
   {
    "duration": 4,
    "start_time": "2022-05-18T08:09:29.464Z"
   },
   {
    "duration": 14,
    "start_time": "2022-05-18T08:09:29.469Z"
   },
   {
    "duration": 340,
    "start_time": "2022-05-18T08:09:29.484Z"
   },
   {
    "duration": 8,
    "start_time": "2022-05-18T08:09:29.826Z"
   },
   {
    "duration": 6,
    "start_time": "2022-05-18T08:09:29.836Z"
   },
   {
    "duration": 8,
    "start_time": "2022-05-18T08:09:29.844Z"
   },
   {
    "duration": 10,
    "start_time": "2022-05-18T08:09:29.853Z"
   },
   {
    "duration": 7,
    "start_time": "2022-05-18T08:09:29.865Z"
   },
   {
    "duration": 8,
    "start_time": "2022-05-18T08:09:29.873Z"
   },
   {
    "duration": 193,
    "start_time": "2022-05-18T08:09:29.883Z"
   },
   {
    "duration": 125,
    "start_time": "2022-05-18T08:09:30.078Z"
   },
   {
    "duration": 24,
    "start_time": "2022-05-18T08:09:30.205Z"
   },
   {
    "duration": 378,
    "start_time": "2022-05-18T08:09:30.231Z"
   },
   {
    "duration": 232,
    "start_time": "2022-05-18T08:09:30.610Z"
   },
   {
    "duration": 303,
    "start_time": "2022-05-18T08:09:30.844Z"
   },
   {
    "duration": 236,
    "start_time": "2022-05-18T08:09:31.149Z"
   },
   {
    "duration": 361,
    "start_time": "2022-05-18T08:09:31.387Z"
   },
   {
    "duration": 164,
    "start_time": "2022-05-18T08:09:31.750Z"
   },
   {
    "duration": 170,
    "start_time": "2022-05-18T08:09:31.916Z"
   },
   {
    "duration": 7,
    "start_time": "2022-05-18T08:09:32.089Z"
   },
   {
    "duration": 215,
    "start_time": "2022-05-18T08:09:32.097Z"
   },
   {
    "duration": 16,
    "start_time": "2022-05-18T08:09:32.314Z"
   },
   {
    "duration": 4,
    "start_time": "2022-05-18T08:09:32.332Z"
   },
   {
    "duration": 274,
    "start_time": "2022-05-18T08:09:32.338Z"
   },
   {
    "duration": 155,
    "start_time": "2022-05-18T08:09:32.614Z"
   },
   {
    "duration": 7,
    "start_time": "2022-05-18T08:09:32.772Z"
   },
   {
    "duration": 218,
    "start_time": "2022-05-18T08:09:32.780Z"
   },
   {
    "duration": 61,
    "start_time": "2022-05-18T08:09:33.000Z"
   },
   {
    "duration": 15,
    "start_time": "2022-05-18T08:09:33.063Z"
   },
   {
    "duration": 6,
    "start_time": "2022-05-18T08:09:33.079Z"
   },
   {
    "duration": 134,
    "start_time": "2022-05-18T08:09:33.087Z"
   },
   {
    "duration": 0,
    "start_time": "2022-05-18T08:09:33.223Z"
   },
   {
    "duration": 0,
    "start_time": "2022-05-18T08:09:33.227Z"
   },
   {
    "duration": 0,
    "start_time": "2022-05-18T08:09:33.229Z"
   },
   {
    "duration": 0,
    "start_time": "2022-05-18T08:09:33.230Z"
   },
   {
    "duration": 0,
    "start_time": "2022-05-18T08:09:33.231Z"
   },
   {
    "duration": 0,
    "start_time": "2022-05-18T08:09:33.232Z"
   },
   {
    "duration": 0,
    "start_time": "2022-05-18T08:09:33.233Z"
   },
   {
    "duration": 0,
    "start_time": "2022-05-18T08:09:33.235Z"
   },
   {
    "duration": 8,
    "start_time": "2022-05-18T08:14:34.048Z"
   },
   {
    "duration": 6,
    "start_time": "2022-05-18T08:15:22.346Z"
   },
   {
    "duration": 6,
    "start_time": "2022-05-18T08:16:04.713Z"
   },
   {
    "duration": 8,
    "start_time": "2022-05-18T08:16:25.811Z"
   },
   {
    "duration": 1130,
    "start_time": "2022-05-18T08:16:30.492Z"
   },
   {
    "duration": 3,
    "start_time": "2022-05-18T08:16:31.624Z"
   },
   {
    "duration": 77,
    "start_time": "2022-05-18T08:16:31.629Z"
   },
   {
    "duration": 4,
    "start_time": "2022-05-18T08:16:31.707Z"
   },
   {
    "duration": 39,
    "start_time": "2022-05-18T08:16:31.713Z"
   },
   {
    "duration": 34,
    "start_time": "2022-05-18T08:16:31.754Z"
   },
   {
    "duration": 11,
    "start_time": "2022-05-18T08:16:31.790Z"
   },
   {
    "duration": 25,
    "start_time": "2022-05-18T08:16:31.827Z"
   },
   {
    "duration": 9,
    "start_time": "2022-05-18T08:16:31.854Z"
   },
   {
    "duration": 20,
    "start_time": "2022-05-18T08:16:31.864Z"
   },
   {
    "duration": 44,
    "start_time": "2022-05-18T08:16:31.886Z"
   },
   {
    "duration": 16,
    "start_time": "2022-05-18T08:16:31.932Z"
   },
   {
    "duration": 10,
    "start_time": "2022-05-18T08:16:31.949Z"
   },
   {
    "duration": 29,
    "start_time": "2022-05-18T08:16:31.962Z"
   },
   {
    "duration": 272,
    "start_time": "2022-05-18T08:16:31.993Z"
   },
   {
    "duration": 5,
    "start_time": "2022-05-18T08:16:32.267Z"
   },
   {
    "duration": 17,
    "start_time": "2022-05-18T08:16:32.273Z"
   },
   {
    "duration": 328,
    "start_time": "2022-05-18T08:16:32.292Z"
   },
   {
    "duration": 11,
    "start_time": "2022-05-18T08:16:32.621Z"
   },
   {
    "duration": 5,
    "start_time": "2022-05-18T08:16:32.634Z"
   },
   {
    "duration": 8,
    "start_time": "2022-05-18T08:16:32.640Z"
   },
   {
    "duration": 13,
    "start_time": "2022-05-18T08:16:32.649Z"
   },
   {
    "duration": 9,
    "start_time": "2022-05-18T08:16:32.663Z"
   },
   {
    "duration": 6,
    "start_time": "2022-05-18T08:16:32.674Z"
   },
   {
    "duration": 185,
    "start_time": "2022-05-18T08:16:32.682Z"
   },
   {
    "duration": 115,
    "start_time": "2022-05-18T08:16:32.868Z"
   },
   {
    "duration": 11,
    "start_time": "2022-05-18T08:16:32.985Z"
   },
   {
    "duration": 335,
    "start_time": "2022-05-18T08:16:32.998Z"
   },
   {
    "duration": 219,
    "start_time": "2022-05-18T08:16:33.335Z"
   },
   {
    "duration": 303,
    "start_time": "2022-05-18T08:16:33.556Z"
   },
   {
    "duration": 245,
    "start_time": "2022-05-18T08:16:33.861Z"
   },
   {
    "duration": 357,
    "start_time": "2022-05-18T08:16:34.107Z"
   },
   {
    "duration": 131,
    "start_time": "2022-05-18T08:16:34.466Z"
   },
   {
    "duration": 146,
    "start_time": "2022-05-18T08:16:34.599Z"
   },
   {
    "duration": 7,
    "start_time": "2022-05-18T08:16:34.747Z"
   },
   {
    "duration": 206,
    "start_time": "2022-05-18T08:16:34.755Z"
   },
   {
    "duration": 8,
    "start_time": "2022-05-18T08:16:34.963Z"
   },
   {
    "duration": 6,
    "start_time": "2022-05-18T08:16:34.972Z"
   },
   {
    "duration": 237,
    "start_time": "2022-05-18T08:16:34.980Z"
   },
   {
    "duration": 139,
    "start_time": "2022-05-18T08:16:35.218Z"
   },
   {
    "duration": 6,
    "start_time": "2022-05-18T08:16:35.360Z"
   },
   {
    "duration": 212,
    "start_time": "2022-05-18T08:16:35.367Z"
   },
   {
    "duration": 56,
    "start_time": "2022-05-18T08:16:35.581Z"
   },
   {
    "duration": 15,
    "start_time": "2022-05-18T08:16:35.638Z"
   },
   {
    "duration": 6,
    "start_time": "2022-05-18T08:16:35.654Z"
   },
   {
    "duration": 9,
    "start_time": "2022-05-18T08:16:35.661Z"
   },
   {
    "duration": 8,
    "start_time": "2022-05-18T08:16:35.671Z"
   },
   {
    "duration": 79,
    "start_time": "2022-05-18T08:16:35.681Z"
   },
   {
    "duration": 13,
    "start_time": "2022-05-18T08:16:35.762Z"
   },
   {
    "duration": 7,
    "start_time": "2022-05-18T08:16:35.776Z"
   },
   {
    "duration": 216,
    "start_time": "2022-05-18T08:16:35.785Z"
   },
   {
    "duration": 207,
    "start_time": "2022-05-18T08:16:36.003Z"
   },
   {
    "duration": 312,
    "start_time": "2022-05-18T08:16:36.212Z"
   },
   {
    "duration": 36,
    "start_time": "2022-05-18T08:16:36.527Z"
   },
   {
    "duration": 71,
    "start_time": "2022-05-18T13:08:17.019Z"
   },
   {
    "duration": 1441,
    "start_time": "2022-05-18T13:14:55.786Z"
   },
   {
    "duration": 4,
    "start_time": "2022-05-18T13:14:57.229Z"
   },
   {
    "duration": 224,
    "start_time": "2022-05-18T13:14:57.234Z"
   },
   {
    "duration": 5,
    "start_time": "2022-05-18T13:14:57.461Z"
   },
   {
    "duration": 45,
    "start_time": "2022-05-18T13:14:57.467Z"
   },
   {
    "duration": 36,
    "start_time": "2022-05-18T13:14:57.513Z"
   },
   {
    "duration": 11,
    "start_time": "2022-05-18T13:14:57.550Z"
   },
   {
    "duration": 23,
    "start_time": "2022-05-18T13:14:57.563Z"
   },
   {
    "duration": 8,
    "start_time": "2022-05-18T13:14:57.588Z"
   },
   {
    "duration": 43,
    "start_time": "2022-05-18T13:14:57.599Z"
   },
   {
    "duration": 22,
    "start_time": "2022-05-18T13:14:57.644Z"
   },
   {
    "duration": 13,
    "start_time": "2022-05-18T13:14:57.668Z"
   },
   {
    "duration": 6,
    "start_time": "2022-05-18T13:14:57.682Z"
   },
   {
    "duration": 15,
    "start_time": "2022-05-18T13:14:57.689Z"
   },
   {
    "duration": 307,
    "start_time": "2022-05-18T13:14:57.705Z"
   },
   {
    "duration": 4,
    "start_time": "2022-05-18T13:14:58.014Z"
   },
   {
    "duration": 26,
    "start_time": "2022-05-18T13:14:58.020Z"
   },
   {
    "duration": 323,
    "start_time": "2022-05-18T13:14:58.048Z"
   },
   {
    "duration": 8,
    "start_time": "2022-05-18T13:14:58.373Z"
   },
   {
    "duration": 8,
    "start_time": "2022-05-18T13:14:58.383Z"
   },
   {
    "duration": 8,
    "start_time": "2022-05-18T13:14:58.392Z"
   },
   {
    "duration": 12,
    "start_time": "2022-05-18T13:14:58.401Z"
   },
   {
    "duration": 31,
    "start_time": "2022-05-18T13:14:58.415Z"
   },
   {
    "duration": 8,
    "start_time": "2022-05-18T13:14:58.448Z"
   },
   {
    "duration": 167,
    "start_time": "2022-05-18T13:14:58.458Z"
   },
   {
    "duration": 149,
    "start_time": "2022-05-18T13:14:58.627Z"
   },
   {
    "duration": 12,
    "start_time": "2022-05-18T13:14:58.778Z"
   },
   {
    "duration": 366,
    "start_time": "2022-05-18T13:14:58.795Z"
   },
   {
    "duration": 227,
    "start_time": "2022-05-18T13:14:59.163Z"
   },
   {
    "duration": 413,
    "start_time": "2022-05-18T13:14:59.392Z"
   },
   {
    "duration": 290,
    "start_time": "2022-05-18T13:14:59.807Z"
   },
   {
    "duration": 428,
    "start_time": "2022-05-18T13:15:00.098Z"
   },
   {
    "duration": 150,
    "start_time": "2022-05-18T13:15:00.528Z"
   },
   {
    "duration": 168,
    "start_time": "2022-05-18T13:15:00.681Z"
   },
   {
    "duration": 7,
    "start_time": "2022-05-18T13:15:00.851Z"
   },
   {
    "duration": 228,
    "start_time": "2022-05-18T13:15:00.859Z"
   },
   {
    "duration": 10,
    "start_time": "2022-05-18T13:15:01.089Z"
   },
   {
    "duration": 31,
    "start_time": "2022-05-18T13:15:01.100Z"
   },
   {
    "duration": 238,
    "start_time": "2022-05-18T13:15:01.133Z"
   },
   {
    "duration": 153,
    "start_time": "2022-05-18T13:15:01.373Z"
   },
   {
    "duration": 18,
    "start_time": "2022-05-18T13:15:01.528Z"
   },
   {
    "duration": 245,
    "start_time": "2022-05-18T13:15:01.547Z"
   },
   {
    "duration": 65,
    "start_time": "2022-05-18T13:15:01.794Z"
   },
   {
    "duration": 18,
    "start_time": "2022-05-18T13:15:01.861Z"
   },
   {
    "duration": 35,
    "start_time": "2022-05-18T13:15:01.881Z"
   },
   {
    "duration": 10,
    "start_time": "2022-05-18T13:15:01.918Z"
   },
   {
    "duration": 29,
    "start_time": "2022-05-18T13:15:01.930Z"
   },
   {
    "duration": 91,
    "start_time": "2022-05-18T13:15:01.962Z"
   },
   {
    "duration": 16,
    "start_time": "2022-05-18T13:15:02.055Z"
   },
   {
    "duration": 50,
    "start_time": "2022-05-18T13:15:02.073Z"
   },
   {
    "duration": 216,
    "start_time": "2022-05-18T13:15:02.125Z"
   },
   {
    "duration": 225,
    "start_time": "2022-05-18T13:15:02.343Z"
   },
   {
    "duration": 333,
    "start_time": "2022-05-18T13:15:02.569Z"
   },
   {
    "duration": 48,
    "start_time": "2022-05-18T13:15:02.904Z"
   },
   {
    "duration": 1465,
    "start_time": "2022-05-20T08:16:27.284Z"
   },
   {
    "duration": 4,
    "start_time": "2022-05-20T08:16:28.751Z"
   },
   {
    "duration": 259,
    "start_time": "2022-05-20T08:16:28.756Z"
   },
   {
    "duration": 5,
    "start_time": "2022-05-20T08:16:29.017Z"
   },
   {
    "duration": 55,
    "start_time": "2022-05-20T08:16:29.023Z"
   },
   {
    "duration": 30,
    "start_time": "2022-05-20T08:16:29.079Z"
   },
   {
    "duration": 10,
    "start_time": "2022-05-20T08:16:29.111Z"
   },
   {
    "duration": 25,
    "start_time": "2022-05-20T08:16:29.125Z"
   },
   {
    "duration": 8,
    "start_time": "2022-05-20T08:16:29.152Z"
   },
   {
    "duration": 38,
    "start_time": "2022-05-20T08:16:29.163Z"
   },
   {
    "duration": 27,
    "start_time": "2022-05-20T08:16:29.203Z"
   },
   {
    "duration": 16,
    "start_time": "2022-05-20T08:16:29.232Z"
   },
   {
    "duration": 8,
    "start_time": "2022-05-20T08:16:29.250Z"
   },
   {
    "duration": 16,
    "start_time": "2022-05-20T08:16:29.260Z"
   },
   {
    "duration": 320,
    "start_time": "2022-05-20T08:16:29.279Z"
   },
   {
    "duration": 5,
    "start_time": "2022-05-20T08:16:29.601Z"
   },
   {
    "duration": 16,
    "start_time": "2022-05-20T08:16:29.607Z"
   },
   {
    "duration": 353,
    "start_time": "2022-05-20T08:16:29.625Z"
   },
   {
    "duration": 15,
    "start_time": "2022-05-20T08:16:29.979Z"
   },
   {
    "duration": 6,
    "start_time": "2022-05-20T08:16:29.996Z"
   },
   {
    "duration": 19,
    "start_time": "2022-05-20T08:16:30.004Z"
   },
   {
    "duration": 18,
    "start_time": "2022-05-20T08:16:30.024Z"
   },
   {
    "duration": 17,
    "start_time": "2022-05-20T08:16:30.044Z"
   },
   {
    "duration": 20,
    "start_time": "2022-05-20T08:16:30.064Z"
   },
   {
    "duration": 206,
    "start_time": "2022-05-20T08:16:30.086Z"
   },
   {
    "duration": 204,
    "start_time": "2022-05-20T08:16:30.294Z"
   },
   {
    "duration": 14,
    "start_time": "2022-05-20T08:16:30.500Z"
   },
   {
    "duration": 882,
    "start_time": "2022-05-20T08:16:30.518Z"
   },
   {
    "duration": 639,
    "start_time": "2022-05-20T08:16:31.402Z"
   },
   {
    "duration": 605,
    "start_time": "2022-05-20T08:16:32.095Z"
   },
   {
    "duration": 316,
    "start_time": "2022-05-20T08:16:32.701Z"
   },
   {
    "duration": 333,
    "start_time": "2022-05-20T08:16:33.019Z"
   },
   {
    "duration": 128,
    "start_time": "2022-05-20T08:16:33.353Z"
   },
   {
    "duration": 163,
    "start_time": "2022-05-20T08:16:33.483Z"
   },
   {
    "duration": 8,
    "start_time": "2022-05-20T08:16:33.648Z"
   },
   {
    "duration": 214,
    "start_time": "2022-05-20T08:16:33.657Z"
   },
   {
    "duration": 9,
    "start_time": "2022-05-20T08:16:33.872Z"
   },
   {
    "duration": 7,
    "start_time": "2022-05-20T08:16:33.894Z"
   },
   {
    "duration": 240,
    "start_time": "2022-05-20T08:16:33.903Z"
   },
   {
    "duration": 151,
    "start_time": "2022-05-20T08:16:34.145Z"
   },
   {
    "duration": 7,
    "start_time": "2022-05-20T08:16:34.298Z"
   },
   {
    "duration": 216,
    "start_time": "2022-05-20T08:16:34.306Z"
   },
   {
    "duration": 52,
    "start_time": "2022-05-20T08:16:34.523Z"
   },
   {
    "duration": 28,
    "start_time": "2022-05-20T08:16:34.577Z"
   },
   {
    "duration": 22,
    "start_time": "2022-05-20T08:16:34.606Z"
   },
   {
    "duration": 21,
    "start_time": "2022-05-20T08:16:34.630Z"
   },
   {
    "duration": 19,
    "start_time": "2022-05-20T08:16:34.653Z"
   },
   {
    "duration": 73,
    "start_time": "2022-05-20T08:16:34.673Z"
   },
   {
    "duration": 14,
    "start_time": "2022-05-20T08:16:34.748Z"
   },
   {
    "duration": 9,
    "start_time": "2022-05-20T08:16:34.764Z"
   },
   {
    "duration": 210,
    "start_time": "2022-05-20T08:16:34.775Z"
   },
   {
    "duration": 239,
    "start_time": "2022-05-20T08:16:34.987Z"
   },
   {
    "duration": 360,
    "start_time": "2022-05-20T08:16:35.229Z"
   },
   {
    "duration": 34,
    "start_time": "2022-05-20T08:16:35.591Z"
   }
  ],
  "kernelspec": {
   "display_name": "Python 3 (ipykernel)",
   "language": "python",
   "name": "python3"
  },
  "language_info": {
   "codemirror_mode": {
    "name": "ipython",
    "version": 3
   },
   "file_extension": ".py",
   "mimetype": "text/x-python",
   "name": "python",
   "nbconvert_exporter": "python",
   "pygments_lexer": "ipython3",
   "version": "3.9.12"
  },
  "toc": {
   "base_numbering": 1,
   "nav_menu": {},
   "number_sections": true,
   "sideBar": true,
   "skip_h1_title": true,
   "title_cell": "Table of Contents",
   "title_sidebar": "Contents",
   "toc_cell": false,
   "toc_position": {
    "height": "calc(100% - 180px)",
    "left": "10px",
    "top": "150px",
    "width": "262px"
   },
   "toc_section_display": true,
   "toc_window_display": true
  }
 },
 "nbformat": 4,
 "nbformat_minor": 2
}

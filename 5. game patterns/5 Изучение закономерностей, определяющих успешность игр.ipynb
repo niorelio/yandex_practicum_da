{
 "cells": [
  {
   "cell_type": "markdown",
   "metadata": {
    "toc": true
   },
   "source": [
    "<h1>Содержание<span class=\"tocSkip\"></span></h1>\n",
    "<div class=\"toc\"><ul class=\"toc-item\"><li><ul class=\"toc-item\"><li><span><a href=\"#Загрузка-данных\" data-toc-modified-id=\"Загрузка-данных-0.1\">Загрузка данных</a></span><ul class=\"toc-item\"><li><span><a href=\"#Вывод--описания-данных\" data-toc-modified-id=\"Вывод--описания-данных-0.1.1\">Вывод  описания данных</a></span></li></ul></li><li><span><a href=\"#Подготовка-данных\" data-toc-modified-id=\"Подготовка-данных-0.2\">Подготовка данных</a></span><ul class=\"toc-item\"><li><span><a href=\"#Замените-названия-столбцов-(приведите-к-нижнему-регистру)\" data-toc-modified-id=\"Замените-названия-столбцов-(приведите-к-нижнему-регистру)-0.2.1\">Замените названия столбцов (приведите к нижнему регистру)</a></span></li></ul></li></ul></li><li><span><a href=\"#Заменим-названия-столбцов\" data-toc-modified-id=\"Заменим-названия-столбцов-1\">Заменим названия столбцов</a></span></li><li><span><a href=\"#Приведем-данные-к-нужным-типам\" data-toc-modified-id=\"Приведем-данные-к-нужным-типам-2\">Приведем данные к нужным типам</a></span><ul class=\"toc-item\"><li><ul class=\"toc-item\"><li><span><a href=\"#Обработайте-пропуски-при-необходимости\" data-toc-modified-id=\"Обработайте-пропуски-при-необходимости-2.0.1\">Обработайте пропуски при необходимости</a></span></li><li><span><a href=\"#Преобразуйте-данные-в-нужные-типы\" data-toc-modified-id=\"Преобразуйте-данные-в-нужные-типы-2.0.2\">Преобразуйте данные в нужные типы</a></span></li><li><span><a href=\"#Посчитайте-суммарные-продажи-во-всех-регионах-и-запишите-их-в-отдельный-столбец.\" data-toc-modified-id=\"Посчитайте-суммарные-продажи-во-всех-регионах-и-запишите-их-в-отдельный-столбец.-2.0.3\">Посчитайте суммарные продажи во всех регионах и запишите их в отдельный столбец.</a></span></li><li><span><a href=\"#Выводы-по-подготовке-данных\" data-toc-modified-id=\"Выводы-по-подготовке-данных-2.0.4\">Выводы по подготовке данных</a></span></li></ul></li><li><span><a href=\"#Исследовательский-анализ-данных\" data-toc-modified-id=\"Исследовательский-анализ-данных-2.1\">Исследовательский анализ данных</a></span><ul class=\"toc-item\"><li><span><a href=\"#Посмотрите,-сколько-игр-выпускалось-в-разные-годы.-Важны-ли-данные-за-все-периоды?\" data-toc-modified-id=\"Посмотрите,-сколько-игр-выпускалось-в-разные-годы.-Важны-ли-данные-за-все-периоды?-2.1.1\">Посмотрите, сколько игр выпускалось в разные годы. Важны ли данные за все периоды?</a></span></li><li><span><a href=\"#Посмотрите,-как-менялись-продажи-по-платформам.-Выберите-платформы-с-наибольшими-суммарными-продажами-и-постройте-распределение-по-годам.-За-какой-характерный-срок-появляются-новые-и-исчезают-старые-платформы?\" data-toc-modified-id=\"Посмотрите,-как-менялись-продажи-по-платформам.-Выберите-платформы-с-наибольшими-суммарными-продажами-и-постройте-распределение-по-годам.-За-какой-характерный-срок-появляются-новые-и-исчезают-старые-платформы?-2.1.2\">Посмотрите, как менялись продажи по платформам. Выберите платформы с наибольшими суммарными продажами и постройте распределение по годам. За какой характерный срок появляются новые и исчезают старые платформы?</a></span></li><li><span><a href=\"#Возьмите-данные-за-соответствующий-актуальный-период.-Актуальный-период-определите-самостоятельно-в-результате-исследования-предыдущих-вопросов.-Основной-фактор-—-эти-данные-помогут-построить-прогноз-на-2017-год.-Не-учитывайте-в-работе-данные-за-предыдущие-годы.\" data-toc-modified-id=\"Возьмите-данные-за-соответствующий-актуальный-период.-Актуальный-период-определите-самостоятельно-в-результате-исследования-предыдущих-вопросов.-Основной-фактор-—-эти-данные-помогут-построить-прогноз-на-2017-год.-Не-учитывайте-в-работе-данные-за-предыдущие-годы.-2.1.3\">Возьмите данные за соответствующий актуальный период. Актуальный период определите самостоятельно в результате исследования предыдущих вопросов. Основной фактор — эти данные помогут построить прогноз на 2017 год. Не учитывайте в работе данные за предыдущие годы.</a></span></li><li><span><a href=\"#Какие-платформы-лидируют-по-продажам,-растут-или-падают?-Выберите-несколько-потенциально-прибыльных-платформ.-Постройте-график-«ящик-с-усами»-по-глобальным-продажам-игр-в-разбивке-по-платформам.-Опишите-результат.\" data-toc-modified-id=\"Какие-платформы-лидируют-по-продажам,-растут-или-падают?-Выберите-несколько-потенциально-прибыльных-платформ.-Постройте-график-«ящик-с-усами»-по-глобальным-продажам-игр-в-разбивке-по-платформам.-Опишите-результат.-2.1.4\">Какие платформы лидируют по продажам, растут или падают? Выберите несколько потенциально прибыльных платформ. Постройте график «ящик с усами» по глобальным продажам игр в разбивке по платформам. Опишите результат.</a></span></li><li><span><a href=\"#Посмотрите,-как-влияют-на-продажи-внутри-одной-популярной-платформы-отзывы-пользователей-и-критиков.-Постройте-диаграмму-рассеяния-и-посчитайте-корреляцию-между-отзывами-и-продажами.-Сформулируйте-выводы.\" data-toc-modified-id=\"Посмотрите,-как-влияют-на-продажи-внутри-одной-популярной-платформы-отзывы-пользователей-и-критиков.-Постройте-диаграмму-рассеяния-и-посчитайте-корреляцию-между-отзывами-и-продажами.-Сформулируйте-выводы.-2.1.5\">Посмотрите, как влияют на продажи внутри одной популярной платформы отзывы пользователей и критиков. Постройте диаграмму рассеяния и посчитайте корреляцию между отзывами и продажами. Сформулируйте выводы.</a></span></li><li><span><a href=\"#Соотнесите-выводы-с-продажами-игр-на-других-платформах.\" data-toc-modified-id=\"Соотнесите-выводы-с-продажами-игр-на-других-платформах.-2.1.6\">Соотнесите выводы с продажами игр на других платформах.</a></span></li><li><span><a href=\"#Посмотрите-на-общее-распределение-игр-по-жанрам.-Что-можно-сказать-о-самых-прибыльных-жанрах?-Выделяются-ли-жанры-с-высокими-и-низкими-продажами?\" data-toc-modified-id=\"Посмотрите-на-общее-распределение-игр-по-жанрам.-Что-можно-сказать-о-самых-прибыльных-жанрах?-Выделяются-ли-жанры-с-высокими-и-низкими-продажами?-2.1.7\">Посмотрите на общее распределение игр по жанрам. Что можно сказать о самых прибыльных жанрах? Выделяются ли жанры с высокими и низкими продажами?</a></span></li><li><span><a href=\"#Вывод-по-исследовательскому-анализу-данных\" data-toc-modified-id=\"Вывод-по-исследовательскому-анализу-данных-2.1.8\">Вывод по исследовательскому анализу данных</a></span></li></ul></li><li><span><a href=\"#Составьте-портрет-пользователя-каждого-региона\" data-toc-modified-id=\"Составьте-портрет-пользователя-каждого-региона-2.2\">Составьте портрет пользователя каждого региона</a></span><ul class=\"toc-item\"><li><span><a href=\"#Самые-популярные-платформы-(топ-5).-Опишите-различия-в-долях-продаж.\" data-toc-modified-id=\"Самые-популярные-платформы-(топ-5).-Опишите-различия-в-долях-продаж.-2.2.1\">Самые популярные платформы (топ-5). Опишите различия в долях продаж.</a></span></li><li><span><a href=\"#Самые-популярные-жанры-(топ-5).-Поясните-разницу.\" data-toc-modified-id=\"Самые-популярные-жанры-(топ-5).-Поясните-разницу.-2.2.2\">Самые популярные жанры (топ-5). Поясните разницу.</a></span></li><li><span><a href=\"#Влияет-ли-рейтинг-ESRB-на-продажи-в-отдельном-регионе?\" data-toc-modified-id=\"Влияет-ли-рейтинг-ESRB-на-продажи-в-отдельном-регионе?-2.2.3\">Влияет ли рейтинг ESRB на продажи в отдельном регионе?</a></span></li><li><span><a href=\"#Вывод-по-портрету-пользователя:\" data-toc-modified-id=\"Вывод-по-портрету-пользователя:-2.2.4\">Вывод по портрету пользователя:</a></span></li></ul></li><li><span><a href=\"#Проверьте-гипотезы\" data-toc-modified-id=\"Проверьте-гипотезы-2.3\">Проверьте гипотезы</a></span><ul class=\"toc-item\"><li><span><a href=\"#Средние-пользовательские-рейтинги-платформ-Xbox-One-и-PC-одинаковые\" data-toc-modified-id=\"Средние-пользовательские-рейтинги-платформ-Xbox-One-и-PC-одинаковые-2.3.1\">Средние пользовательские рейтинги платформ Xbox One и PC одинаковые</a></span></li><li><span><a href=\"#Средние-пользовательские-рейтинги-жанров-Action-(англ.-«действие»,-экшенигры)-и-Sports-(англ.-«спортивные-соревнования»)-разные\" data-toc-modified-id=\"Средние-пользовательские-рейтинги-жанров-Action-(англ.-«действие»,-экшенигры)-и-Sports-(англ.-«спортивные-соревнования»)-разные-2.3.2\">Средние пользовательские рейтинги жанров Action (англ. «действие», экшенигры) и Sports (англ. «спортивные соревнования») разные</a></span></li><li><span><a href=\"#Результат-исследования\" data-toc-modified-id=\"Результат-исследования-2.3.3\">Результат исследования</a></span></li></ul></li><li><span><a href=\"#Общий-вывод\" data-toc-modified-id=\"Общий-вывод-2.4\">Общий вывод</a></span></li></ul></li></ul></div>"
   ]
  },
  {
   "cell_type": "markdown",
   "metadata": {},
   "source": [
    "## Загрузка данных"
   ]
  },
  {
   "cell_type": "code",
   "execution_count": 1,
   "metadata": {},
   "outputs": [],
   "source": [
    "# загрузим библиотеки\n",
    "import pandas as pd\n",
    "import matplotlib.pyplot as plt \n",
    "import numpy as np\n",
    "import seaborn as sns\n",
    "\n",
    "from datetime import datetime\n",
    "from scipy import stats as st\n",
    "\n",
    "import warnings\n",
    "warnings.filterwarnings('ignore')"
   ]
  },
  {
   "cell_type": "code",
   "execution_count": 2,
   "metadata": {},
   "outputs": [],
   "source": [
    "# настраиваем окружение\n",
    "pd.set_option('display.max_columns', None)\n",
    "pd.options.display.float_format = '{:,.2f}'.format"
   ]
  },
  {
   "cell_type": "code",
   "execution_count": 3,
   "metadata": {},
   "outputs": [
    {
     "data": {
      "text/html": [
       "<div>\n",
       "<style scoped>\n",
       "    .dataframe tbody tr th:only-of-type {\n",
       "        vertical-align: middle;\n",
       "    }\n",
       "\n",
       "    .dataframe tbody tr th {\n",
       "        vertical-align: top;\n",
       "    }\n",
       "\n",
       "    .dataframe thead th {\n",
       "        text-align: right;\n",
       "    }\n",
       "</style>\n",
       "<table border=\"1\" class=\"dataframe\">\n",
       "  <thead>\n",
       "    <tr style=\"text-align: right;\">\n",
       "      <th></th>\n",
       "      <th>Name</th>\n",
       "      <th>Platform</th>\n",
       "      <th>Year_of_Release</th>\n",
       "      <th>Genre</th>\n",
       "      <th>NA_sales</th>\n",
       "      <th>EU_sales</th>\n",
       "      <th>JP_sales</th>\n",
       "      <th>Other_sales</th>\n",
       "      <th>Critic_Score</th>\n",
       "      <th>User_Score</th>\n",
       "      <th>Rating</th>\n",
       "    </tr>\n",
       "  </thead>\n",
       "  <tbody>\n",
       "    <tr>\n",
       "      <th>0</th>\n",
       "      <td>Wii Sports</td>\n",
       "      <td>Wii</td>\n",
       "      <td>2,006.00</td>\n",
       "      <td>Sports</td>\n",
       "      <td>41.36</td>\n",
       "      <td>28.96</td>\n",
       "      <td>3.77</td>\n",
       "      <td>8.45</td>\n",
       "      <td>76.00</td>\n",
       "      <td>8</td>\n",
       "      <td>E</td>\n",
       "    </tr>\n",
       "    <tr>\n",
       "      <th>1</th>\n",
       "      <td>Super Mario Bros.</td>\n",
       "      <td>NES</td>\n",
       "      <td>1,985.00</td>\n",
       "      <td>Platform</td>\n",
       "      <td>29.08</td>\n",
       "      <td>3.58</td>\n",
       "      <td>6.81</td>\n",
       "      <td>0.77</td>\n",
       "      <td>NaN</td>\n",
       "      <td>NaN</td>\n",
       "      <td>NaN</td>\n",
       "    </tr>\n",
       "    <tr>\n",
       "      <th>2</th>\n",
       "      <td>Mario Kart Wii</td>\n",
       "      <td>Wii</td>\n",
       "      <td>2,008.00</td>\n",
       "      <td>Racing</td>\n",
       "      <td>15.68</td>\n",
       "      <td>12.76</td>\n",
       "      <td>3.79</td>\n",
       "      <td>3.29</td>\n",
       "      <td>82.00</td>\n",
       "      <td>8.3</td>\n",
       "      <td>E</td>\n",
       "    </tr>\n",
       "    <tr>\n",
       "      <th>3</th>\n",
       "      <td>Wii Sports Resort</td>\n",
       "      <td>Wii</td>\n",
       "      <td>2,009.00</td>\n",
       "      <td>Sports</td>\n",
       "      <td>15.61</td>\n",
       "      <td>10.93</td>\n",
       "      <td>3.28</td>\n",
       "      <td>2.95</td>\n",
       "      <td>80.00</td>\n",
       "      <td>8</td>\n",
       "      <td>E</td>\n",
       "    </tr>\n",
       "    <tr>\n",
       "      <th>4</th>\n",
       "      <td>Pokemon Red/Pokemon Blue</td>\n",
       "      <td>GB</td>\n",
       "      <td>1,996.00</td>\n",
       "      <td>Role-Playing</td>\n",
       "      <td>11.27</td>\n",
       "      <td>8.89</td>\n",
       "      <td>10.22</td>\n",
       "      <td>1.00</td>\n",
       "      <td>NaN</td>\n",
       "      <td>NaN</td>\n",
       "      <td>NaN</td>\n",
       "    </tr>\n",
       "  </tbody>\n",
       "</table>\n",
       "</div>"
      ],
      "text/plain": [
       "                       Name Platform  Year_of_Release         Genre  NA_sales  \\\n",
       "0                Wii Sports      Wii         2,006.00        Sports     41.36   \n",
       "1         Super Mario Bros.      NES         1,985.00      Platform     29.08   \n",
       "2            Mario Kart Wii      Wii         2,008.00        Racing     15.68   \n",
       "3         Wii Sports Resort      Wii         2,009.00        Sports     15.61   \n",
       "4  Pokemon Red/Pokemon Blue       GB         1,996.00  Role-Playing     11.27   \n",
       "\n",
       "   EU_sales  JP_sales  Other_sales  Critic_Score User_Score Rating  \n",
       "0     28.96      3.77         8.45         76.00          8      E  \n",
       "1      3.58      6.81         0.77           NaN        NaN    NaN  \n",
       "2     12.76      3.79         3.29         82.00        8.3      E  \n",
       "3     10.93      3.28         2.95         80.00          8      E  \n",
       "4      8.89     10.22         1.00           NaN        NaN    NaN  "
      ]
     },
     "execution_count": 3,
     "metadata": {},
     "output_type": "execute_result"
    }
   ],
   "source": [
    "# загружаем датасет\n",
    "try:\n",
    "    data = pd.read_csv(\n",
    "        'c:/Users/Nior/yandex.practicum_DA/educational_projects/5. Сборный проект - 1/games.csv')\n",
    "except:\n",
    "    data = pd.read_csv('/datasets/games.csv')\n",
    "data.head()"
   ]
  },
  {
   "cell_type": "code",
   "execution_count": 4,
   "metadata": {},
   "outputs": [
    {
     "name": "stdout",
     "output_type": "stream",
     "text": [
      "<class 'pandas.core.frame.DataFrame'>\n",
      "RangeIndex: 16715 entries, 0 to 16714\n",
      "Data columns (total 11 columns):\n",
      " #   Column           Non-Null Count  Dtype  \n",
      "---  ------           --------------  -----  \n",
      " 0   Name             16713 non-null  object \n",
      " 1   Platform         16715 non-null  object \n",
      " 2   Year_of_Release  16446 non-null  float64\n",
      " 3   Genre            16713 non-null  object \n",
      " 4   NA_sales         16715 non-null  float64\n",
      " 5   EU_sales         16715 non-null  float64\n",
      " 6   JP_sales         16715 non-null  float64\n",
      " 7   Other_sales      16715 non-null  float64\n",
      " 8   Critic_Score     8137 non-null   float64\n",
      " 9   User_Score       10014 non-null  object \n",
      " 10  Rating           9949 non-null   object \n",
      "dtypes: float64(6), object(5)\n",
      "memory usage: 1.4+ MB\n"
     ]
    }
   ],
   "source": [
    "# посмотрим общую информацию о данных в таблице\n",
    "data.info()"
   ]
  },
  {
   "cell_type": "code",
   "execution_count": 5,
   "metadata": {},
   "outputs": [
    {
     "data": {
      "text/html": [
       "<div>\n",
       "<style scoped>\n",
       "    .dataframe tbody tr th:only-of-type {\n",
       "        vertical-align: middle;\n",
       "    }\n",
       "\n",
       "    .dataframe tbody tr th {\n",
       "        vertical-align: top;\n",
       "    }\n",
       "\n",
       "    .dataframe thead th {\n",
       "        text-align: right;\n",
       "    }\n",
       "</style>\n",
       "<table border=\"1\" class=\"dataframe\">\n",
       "  <thead>\n",
       "    <tr style=\"text-align: right;\">\n",
       "      <th></th>\n",
       "      <th>Year_of_Release</th>\n",
       "      <th>NA_sales</th>\n",
       "      <th>EU_sales</th>\n",
       "      <th>JP_sales</th>\n",
       "      <th>Other_sales</th>\n",
       "      <th>Critic_Score</th>\n",
       "    </tr>\n",
       "  </thead>\n",
       "  <tbody>\n",
       "    <tr>\n",
       "      <th>count</th>\n",
       "      <td>16,446.00</td>\n",
       "      <td>16,715.00</td>\n",
       "      <td>16,715.00</td>\n",
       "      <td>16,715.00</td>\n",
       "      <td>16,715.00</td>\n",
       "      <td>8,137.00</td>\n",
       "    </tr>\n",
       "    <tr>\n",
       "      <th>mean</th>\n",
       "      <td>2,006.48</td>\n",
       "      <td>0.26</td>\n",
       "      <td>0.15</td>\n",
       "      <td>0.08</td>\n",
       "      <td>0.05</td>\n",
       "      <td>68.97</td>\n",
       "    </tr>\n",
       "    <tr>\n",
       "      <th>std</th>\n",
       "      <td>5.88</td>\n",
       "      <td>0.81</td>\n",
       "      <td>0.50</td>\n",
       "      <td>0.31</td>\n",
       "      <td>0.19</td>\n",
       "      <td>13.94</td>\n",
       "    </tr>\n",
       "    <tr>\n",
       "      <th>min</th>\n",
       "      <td>1,980.00</td>\n",
       "      <td>0.00</td>\n",
       "      <td>0.00</td>\n",
       "      <td>0.00</td>\n",
       "      <td>0.00</td>\n",
       "      <td>13.00</td>\n",
       "    </tr>\n",
       "    <tr>\n",
       "      <th>25%</th>\n",
       "      <td>2,003.00</td>\n",
       "      <td>0.00</td>\n",
       "      <td>0.00</td>\n",
       "      <td>0.00</td>\n",
       "      <td>0.00</td>\n",
       "      <td>60.00</td>\n",
       "    </tr>\n",
       "    <tr>\n",
       "      <th>50%</th>\n",
       "      <td>2,007.00</td>\n",
       "      <td>0.08</td>\n",
       "      <td>0.02</td>\n",
       "      <td>0.00</td>\n",
       "      <td>0.01</td>\n",
       "      <td>71.00</td>\n",
       "    </tr>\n",
       "    <tr>\n",
       "      <th>75%</th>\n",
       "      <td>2,010.00</td>\n",
       "      <td>0.24</td>\n",
       "      <td>0.11</td>\n",
       "      <td>0.04</td>\n",
       "      <td>0.03</td>\n",
       "      <td>79.00</td>\n",
       "    </tr>\n",
       "    <tr>\n",
       "      <th>max</th>\n",
       "      <td>2,016.00</td>\n",
       "      <td>41.36</td>\n",
       "      <td>28.96</td>\n",
       "      <td>10.22</td>\n",
       "      <td>10.57</td>\n",
       "      <td>98.00</td>\n",
       "    </tr>\n",
       "  </tbody>\n",
       "</table>\n",
       "</div>"
      ],
      "text/plain": [
       "       Year_of_Release  NA_sales  EU_sales  JP_sales  Other_sales  \\\n",
       "count        16,446.00 16,715.00 16,715.00 16,715.00    16,715.00   \n",
       "mean          2,006.48      0.26      0.15      0.08         0.05   \n",
       "std               5.88      0.81      0.50      0.31         0.19   \n",
       "min           1,980.00      0.00      0.00      0.00         0.00   \n",
       "25%           2,003.00      0.00      0.00      0.00         0.00   \n",
       "50%           2,007.00      0.08      0.02      0.00         0.01   \n",
       "75%           2,010.00      0.24      0.11      0.04         0.03   \n",
       "max           2,016.00     41.36     28.96     10.22        10.57   \n",
       "\n",
       "       Critic_Score  \n",
       "count      8,137.00  \n",
       "mean          68.97  \n",
       "std           13.94  \n",
       "min           13.00  \n",
       "25%           60.00  \n",
       "50%           71.00  \n",
       "75%           79.00  \n",
       "max           98.00  "
      ]
     },
     "execution_count": 5,
     "metadata": {},
     "output_type": "execute_result"
    }
   ],
   "source": [
    "# посмотрим цифровое описание данных в таблице\n",
    "data.describe()"
   ]
  },
  {
   "cell_type": "markdown",
   "metadata": {},
   "source": [
    "### Вывод  описания данных\n",
    "\n",
    "В таблице 11 стоблцов. \n",
    "\n",
    "Тип данных:\n",
    "- float64 - 6 стоблцов,\n",
    "- object - 5 столбцов.\n",
    "\n",
    "В каждой строке таблицы — данные об играх: описательная часть с датами выпуска игр от 1980 по 2016г, а так же данные о продажах в разных странах и разные оценки игр. Предварительно можно утверждать, что, данных достаточно для проверки гипотез.\n",
    "\n",
    "Но встречаются проблемы с данными:\n",
    "\n",
    "- Есть пропущенные значения в столбцах\n",
    "- Смешаный регистр в названии столбца\n",
    "- Некорректные типы данных\n",
    "- Значение 'tbd' в столбце с оценкой пользователей"
   ]
  },
  {
   "cell_type": "markdown",
   "metadata": {},
   "source": [
    "## Подготовка данных"
   ]
  },
  {
   "cell_type": "code",
   "execution_count": 6,
   "metadata": {},
   "outputs": [
    {
     "data": {
      "text/html": [
       "<div>\n",
       "<style scoped>\n",
       "    .dataframe tbody tr th:only-of-type {\n",
       "        vertical-align: middle;\n",
       "    }\n",
       "\n",
       "    .dataframe tbody tr th {\n",
       "        vertical-align: top;\n",
       "    }\n",
       "\n",
       "    .dataframe thead th {\n",
       "        text-align: right;\n",
       "    }\n",
       "</style>\n",
       "<table border=\"1\" class=\"dataframe\">\n",
       "  <thead>\n",
       "    <tr style=\"text-align: right;\">\n",
       "      <th></th>\n",
       "      <th>name</th>\n",
       "      <th>platform</th>\n",
       "      <th>year_of_release</th>\n",
       "      <th>genre</th>\n",
       "      <th>na_sales</th>\n",
       "      <th>eu_sales</th>\n",
       "      <th>jp_sales</th>\n",
       "      <th>other_sales</th>\n",
       "      <th>critic_score</th>\n",
       "      <th>user_score</th>\n",
       "      <th>rating</th>\n",
       "    </tr>\n",
       "  </thead>\n",
       "  <tbody>\n",
       "    <tr>\n",
       "      <th>0</th>\n",
       "      <td>Wii Sports</td>\n",
       "      <td>Wii</td>\n",
       "      <td>2,006.00</td>\n",
       "      <td>Sports</td>\n",
       "      <td>41.36</td>\n",
       "      <td>28.96</td>\n",
       "      <td>3.77</td>\n",
       "      <td>8.45</td>\n",
       "      <td>76.00</td>\n",
       "      <td>8</td>\n",
       "      <td>E</td>\n",
       "    </tr>\n",
       "    <tr>\n",
       "      <th>1</th>\n",
       "      <td>Super Mario Bros.</td>\n",
       "      <td>NES</td>\n",
       "      <td>1,985.00</td>\n",
       "      <td>Platform</td>\n",
       "      <td>29.08</td>\n",
       "      <td>3.58</td>\n",
       "      <td>6.81</td>\n",
       "      <td>0.77</td>\n",
       "      <td>NaN</td>\n",
       "      <td>NaN</td>\n",
       "      <td>NaN</td>\n",
       "    </tr>\n",
       "    <tr>\n",
       "      <th>2</th>\n",
       "      <td>Mario Kart Wii</td>\n",
       "      <td>Wii</td>\n",
       "      <td>2,008.00</td>\n",
       "      <td>Racing</td>\n",
       "      <td>15.68</td>\n",
       "      <td>12.76</td>\n",
       "      <td>3.79</td>\n",
       "      <td>3.29</td>\n",
       "      <td>82.00</td>\n",
       "      <td>8.3</td>\n",
       "      <td>E</td>\n",
       "    </tr>\n",
       "    <tr>\n",
       "      <th>3</th>\n",
       "      <td>Wii Sports Resort</td>\n",
       "      <td>Wii</td>\n",
       "      <td>2,009.00</td>\n",
       "      <td>Sports</td>\n",
       "      <td>15.61</td>\n",
       "      <td>10.93</td>\n",
       "      <td>3.28</td>\n",
       "      <td>2.95</td>\n",
       "      <td>80.00</td>\n",
       "      <td>8</td>\n",
       "      <td>E</td>\n",
       "    </tr>\n",
       "    <tr>\n",
       "      <th>4</th>\n",
       "      <td>Pokemon Red/Pokemon Blue</td>\n",
       "      <td>GB</td>\n",
       "      <td>1,996.00</td>\n",
       "      <td>Role-Playing</td>\n",
       "      <td>11.27</td>\n",
       "      <td>8.89</td>\n",
       "      <td>10.22</td>\n",
       "      <td>1.00</td>\n",
       "      <td>NaN</td>\n",
       "      <td>NaN</td>\n",
       "      <td>NaN</td>\n",
       "    </tr>\n",
       "  </tbody>\n",
       "</table>\n",
       "</div>"
      ],
      "text/plain": [
       "                       name platform  year_of_release         genre  na_sales  \\\n",
       "0                Wii Sports      Wii         2,006.00        Sports     41.36   \n",
       "1         Super Mario Bros.      NES         1,985.00      Platform     29.08   \n",
       "2            Mario Kart Wii      Wii         2,008.00        Racing     15.68   \n",
       "3         Wii Sports Resort      Wii         2,009.00        Sports     15.61   \n",
       "4  Pokemon Red/Pokemon Blue       GB         1,996.00  Role-Playing     11.27   \n",
       "\n",
       "   eu_sales  jp_sales  other_sales  critic_score user_score rating  \n",
       "0     28.96      3.77         8.45         76.00          8      E  \n",
       "1      3.58      6.81         0.77           NaN        NaN    NaN  \n",
       "2     12.76      3.79         3.29         82.00        8.3      E  \n",
       "3     10.93      3.28         2.95         80.00          8      E  \n",
       "4      8.89     10.22         1.00           NaN        NaN    NaN  "
      ]
     },
     "execution_count": 6,
     "metadata": {},
     "output_type": "execute_result"
    }
   ],
   "source": [
    "# приведем название колонок к нижнему регистру\n",
    "data.columns = data.columns.str.lower()\n",
    "data.head()"
   ]
  },
  {
   "cell_type": "code",
   "execution_count": 7,
   "metadata": {},
   "outputs": [
    {
     "name": "stdout",
     "output_type": "stream",
     "text": [
      "<class 'pandas.core.frame.DataFrame'>\n",
      "RangeIndex: 16715 entries, 0 to 16714\n",
      "Data columns (total 11 columns):\n",
      " #   Column           Non-Null Count  Dtype  \n",
      "---  ------           --------------  -----  \n",
      " 0   name             16713 non-null  object \n",
      " 1   platform         16715 non-null  object \n",
      " 2   year_of_release  16446 non-null  float64\n",
      " 3   genre            16713 non-null  object \n",
      " 4   na_sales         16715 non-null  float64\n",
      " 5   eu_sales         16715 non-null  float64\n",
      " 6   jp_sales         16715 non-null  float64\n",
      " 7   other_sales      16715 non-null  float64\n",
      " 8   critic_score     8137 non-null   float64\n",
      " 9   user_score       10014 non-null  object \n",
      " 10  rating           9949 non-null   object \n",
      "dtypes: float64(6), object(5)\n",
      "memory usage: 1.4+ MB\n"
     ]
    }
   ],
   "source": [
    "data.info()"
   ]
  },
  {
   "cell_type": "markdown",
   "metadata": {},
   "source": [
    "Нужно привести:\n",
    "\n",
    "- год к годам\n",
    "- оценку пользователей к числам с плавающей запятой"
   ]
  },
  {
   "cell_type": "markdown",
   "metadata": {},
   "source": [
    "### Обработайте пропуски при необходимости"
   ]
  },
  {
   "cell_type": "code",
   "execution_count": 8,
   "metadata": {},
   "outputs": [
    {
     "data": {
      "text/plain": [
       "platform              0\n",
       "na_sales              0\n",
       "eu_sales              0\n",
       "jp_sales              0\n",
       "other_sales           0\n",
       "name                  2\n",
       "genre                 2\n",
       "year_of_release     269\n",
       "user_score         6701\n",
       "rating             6766\n",
       "critic_score       8578\n",
       "dtype: int64"
      ]
     },
     "execution_count": 8,
     "metadata": {},
     "output_type": "execute_result"
    }
   ],
   "source": [
    "# Посмотрим пропуски перед переводом в формат\n",
    "\n",
    "data.isna().sum().sort_values()"
   ]
  },
  {
   "cell_type": "code",
   "execution_count": 9,
   "metadata": {},
   "outputs": [
    {
     "data": {
      "text/plain": [
       "platform           0.00\n",
       "na_sales           0.00\n",
       "eu_sales           0.00\n",
       "jp_sales           0.00\n",
       "other_sales        0.00\n",
       "name               0.01\n",
       "genre              0.01\n",
       "year_of_release    1.61\n",
       "user_score        40.09\n",
       "rating            40.48\n",
       "critic_score      51.32\n",
       "dtype: float64"
      ]
     },
     "execution_count": 9,
     "metadata": {},
     "output_type": "execute_result"
    }
   ],
   "source": [
    "# Посмотрим теперь в процентах\n",
    "data.isna().sum().sort_values()/data.shape[0]*100"
   ]
  },
  {
   "cell_type": "markdown",
   "metadata": {},
   "source": [
    "Имеем:\n",
    "- 2 игры без названия\n",
    "- 2 игры без жанра\n",
    "- в 1,61% отсутствует год выпуска\n",
    "- в 40.09% отсутствует оценка пользователей\n",
    "- в 40.48 отсутствует рейтинг от организации ESRB\n",
    "- в 51.32% отсутствует оценка критиков\n",
    "\n",
    "Необходимость заполнять пропуски:\n",
    "* Пропуски в scores заполнять *не надо* - любое заполнение исказит результаты корреляционного анализа и стат-тестов. \n",
    "* Пропуски в rating *можно заполнить заглушкой* потому, что это категориальная переменная. \n",
    "* Пропуски в годах и названиях игр заполнять *не нужно* - их не более 2%, можно просто отфильтровать эти строки из набора данных."
   ]
  },
  {
   "cell_type": "code",
   "execution_count": 10,
   "metadata": {},
   "outputs": [
    {
     "data": {
      "text/plain": [
       "0        False\n",
       "11134    False\n",
       "11135    False\n",
       "11136    False\n",
       "11137    False\n",
       "         ...  \n",
       "5568     False\n",
       "5573     False\n",
       "16714    False\n",
       "659       True\n",
       "14244     True\n",
       "Name: name, Length: 16715, dtype: bool"
      ]
     },
     "execution_count": 10,
     "metadata": {},
     "output_type": "execute_result"
    }
   ],
   "source": [
    "# найдем строки с пропусками в имени\n",
    "data['name'].isna().sort_values()"
   ]
  },
  {
   "cell_type": "code",
   "execution_count": 11,
   "metadata": {},
   "outputs": [
    {
     "data": {
      "text/plain": [
       "name                   NaN\n",
       "platform               GEN\n",
       "year_of_release   1,993.00\n",
       "genre                  NaN\n",
       "na_sales              1.78\n",
       "eu_sales              0.53\n",
       "jp_sales              0.00\n",
       "other_sales           0.08\n",
       "critic_score           NaN\n",
       "user_score             NaN\n",
       "rating                 NaN\n",
       "Name: 659, dtype: object"
      ]
     },
     "execution_count": 11,
     "metadata": {},
     "output_type": "execute_result"
    }
   ],
   "source": [
    "# Посмотрим строку 659\n",
    "data.loc[659]"
   ]
  },
  {
   "cell_type": "code",
   "execution_count": 12,
   "metadata": {},
   "outputs": [
    {
     "data": {
      "text/plain": [
       "name                   NaN\n",
       "platform               GEN\n",
       "year_of_release   1,993.00\n",
       "genre                  NaN\n",
       "na_sales              0.00\n",
       "eu_sales              0.00\n",
       "jp_sales              0.03\n",
       "other_sales           0.00\n",
       "critic_score           NaN\n",
       "user_score             NaN\n",
       "rating                 NaN\n",
       "Name: 14244, dtype: object"
      ]
     },
     "execution_count": 12,
     "metadata": {},
     "output_type": "execute_result"
    }
   ],
   "source": [
    "# Посмотрим строку 14244\n",
    "data.loc[14244]"
   ]
  },
  {
   "cell_type": "code",
   "execution_count": 13,
   "metadata": {},
   "outputs": [
    {
     "data": {
      "text/html": [
       "<div>\n",
       "<style scoped>\n",
       "    .dataframe tbody tr th:only-of-type {\n",
       "        vertical-align: middle;\n",
       "    }\n",
       "\n",
       "    .dataframe tbody tr th {\n",
       "        vertical-align: top;\n",
       "    }\n",
       "\n",
       "    .dataframe thead th {\n",
       "        text-align: right;\n",
       "    }\n",
       "</style>\n",
       "<table border=\"1\" class=\"dataframe\">\n",
       "  <thead>\n",
       "    <tr style=\"text-align: right;\">\n",
       "      <th></th>\n",
       "      <th>name</th>\n",
       "      <th>platform</th>\n",
       "      <th>year_of_release</th>\n",
       "      <th>genre</th>\n",
       "      <th>na_sales</th>\n",
       "      <th>eu_sales</th>\n",
       "      <th>jp_sales</th>\n",
       "      <th>other_sales</th>\n",
       "      <th>critic_score</th>\n",
       "      <th>user_score</th>\n",
       "      <th>rating</th>\n",
       "    </tr>\n",
       "  </thead>\n",
       "  <tbody>\n",
       "    <tr>\n",
       "      <th>1</th>\n",
       "      <td>Super Mario Bros.</td>\n",
       "      <td>NES</td>\n",
       "      <td>1,985.00</td>\n",
       "      <td>Platform</td>\n",
       "      <td>29.08</td>\n",
       "      <td>3.58</td>\n",
       "      <td>6.81</td>\n",
       "      <td>0.77</td>\n",
       "      <td>NaN</td>\n",
       "      <td>NaN</td>\n",
       "      <td>NaN</td>\n",
       "    </tr>\n",
       "    <tr>\n",
       "      <th>4</th>\n",
       "      <td>Pokemon Red/Pokemon Blue</td>\n",
       "      <td>GB</td>\n",
       "      <td>1,996.00</td>\n",
       "      <td>Role-Playing</td>\n",
       "      <td>11.27</td>\n",
       "      <td>8.89</td>\n",
       "      <td>10.22</td>\n",
       "      <td>1.00</td>\n",
       "      <td>NaN</td>\n",
       "      <td>NaN</td>\n",
       "      <td>NaN</td>\n",
       "    </tr>\n",
       "    <tr>\n",
       "      <th>5</th>\n",
       "      <td>Tetris</td>\n",
       "      <td>GB</td>\n",
       "      <td>1,989.00</td>\n",
       "      <td>Puzzle</td>\n",
       "      <td>23.20</td>\n",
       "      <td>2.26</td>\n",
       "      <td>4.22</td>\n",
       "      <td>0.58</td>\n",
       "      <td>NaN</td>\n",
       "      <td>NaN</td>\n",
       "      <td>NaN</td>\n",
       "    </tr>\n",
       "    <tr>\n",
       "      <th>9</th>\n",
       "      <td>Duck Hunt</td>\n",
       "      <td>NES</td>\n",
       "      <td>1,984.00</td>\n",
       "      <td>Shooter</td>\n",
       "      <td>26.93</td>\n",
       "      <td>0.63</td>\n",
       "      <td>0.28</td>\n",
       "      <td>0.47</td>\n",
       "      <td>NaN</td>\n",
       "      <td>NaN</td>\n",
       "      <td>NaN</td>\n",
       "    </tr>\n",
       "    <tr>\n",
       "      <th>10</th>\n",
       "      <td>Nintendogs</td>\n",
       "      <td>DS</td>\n",
       "      <td>2,005.00</td>\n",
       "      <td>Simulation</td>\n",
       "      <td>9.05</td>\n",
       "      <td>10.95</td>\n",
       "      <td>1.93</td>\n",
       "      <td>2.74</td>\n",
       "      <td>NaN</td>\n",
       "      <td>NaN</td>\n",
       "      <td>NaN</td>\n",
       "    </tr>\n",
       "    <tr>\n",
       "      <th>...</th>\n",
       "      <td>...</td>\n",
       "      <td>...</td>\n",
       "      <td>...</td>\n",
       "      <td>...</td>\n",
       "      <td>...</td>\n",
       "      <td>...</td>\n",
       "      <td>...</td>\n",
       "      <td>...</td>\n",
       "      <td>...</td>\n",
       "      <td>...</td>\n",
       "      <td>...</td>\n",
       "    </tr>\n",
       "    <tr>\n",
       "      <th>16710</th>\n",
       "      <td>Samurai Warriors: Sanada Maru</td>\n",
       "      <td>PS3</td>\n",
       "      <td>2,016.00</td>\n",
       "      <td>Action</td>\n",
       "      <td>0.00</td>\n",
       "      <td>0.00</td>\n",
       "      <td>0.01</td>\n",
       "      <td>0.00</td>\n",
       "      <td>NaN</td>\n",
       "      <td>NaN</td>\n",
       "      <td>NaN</td>\n",
       "    </tr>\n",
       "    <tr>\n",
       "      <th>16711</th>\n",
       "      <td>LMA Manager 2007</td>\n",
       "      <td>X360</td>\n",
       "      <td>2,006.00</td>\n",
       "      <td>Sports</td>\n",
       "      <td>0.00</td>\n",
       "      <td>0.01</td>\n",
       "      <td>0.00</td>\n",
       "      <td>0.00</td>\n",
       "      <td>NaN</td>\n",
       "      <td>NaN</td>\n",
       "      <td>NaN</td>\n",
       "    </tr>\n",
       "    <tr>\n",
       "      <th>16712</th>\n",
       "      <td>Haitaka no Psychedelica</td>\n",
       "      <td>PSV</td>\n",
       "      <td>2,016.00</td>\n",
       "      <td>Adventure</td>\n",
       "      <td>0.00</td>\n",
       "      <td>0.00</td>\n",
       "      <td>0.01</td>\n",
       "      <td>0.00</td>\n",
       "      <td>NaN</td>\n",
       "      <td>NaN</td>\n",
       "      <td>NaN</td>\n",
       "    </tr>\n",
       "    <tr>\n",
       "      <th>16713</th>\n",
       "      <td>Spirits &amp; Spells</td>\n",
       "      <td>GBA</td>\n",
       "      <td>2,003.00</td>\n",
       "      <td>Platform</td>\n",
       "      <td>0.01</td>\n",
       "      <td>0.00</td>\n",
       "      <td>0.00</td>\n",
       "      <td>0.00</td>\n",
       "      <td>NaN</td>\n",
       "      <td>NaN</td>\n",
       "      <td>NaN</td>\n",
       "    </tr>\n",
       "    <tr>\n",
       "      <th>16714</th>\n",
       "      <td>Winning Post 8 2016</td>\n",
       "      <td>PSV</td>\n",
       "      <td>2,016.00</td>\n",
       "      <td>Simulation</td>\n",
       "      <td>0.00</td>\n",
       "      <td>0.00</td>\n",
       "      <td>0.01</td>\n",
       "      <td>0.00</td>\n",
       "      <td>NaN</td>\n",
       "      <td>NaN</td>\n",
       "      <td>NaN</td>\n",
       "    </tr>\n",
       "  </tbody>\n",
       "</table>\n",
       "<p>8837 rows × 11 columns</p>\n",
       "</div>"
      ],
      "text/plain": [
       "                                name platform  year_of_release         genre  \\\n",
       "1                  Super Mario Bros.      NES         1,985.00      Platform   \n",
       "4           Pokemon Red/Pokemon Blue       GB         1,996.00  Role-Playing   \n",
       "5                             Tetris       GB         1,989.00        Puzzle   \n",
       "9                          Duck Hunt      NES         1,984.00       Shooter   \n",
       "10                        Nintendogs       DS         2,005.00    Simulation   \n",
       "...                              ...      ...              ...           ...   \n",
       "16710  Samurai Warriors: Sanada Maru      PS3         2,016.00        Action   \n",
       "16711               LMA Manager 2007     X360         2,006.00        Sports   \n",
       "16712        Haitaka no Psychedelica      PSV         2,016.00     Adventure   \n",
       "16713               Spirits & Spells      GBA         2,003.00      Platform   \n",
       "16714            Winning Post 8 2016      PSV         2,016.00    Simulation   \n",
       "\n",
       "       na_sales  eu_sales  jp_sales  other_sales  critic_score user_score  \\\n",
       "1         29.08      3.58      6.81         0.77           NaN        NaN   \n",
       "4         11.27      8.89     10.22         1.00           NaN        NaN   \n",
       "5         23.20      2.26      4.22         0.58           NaN        NaN   \n",
       "9         26.93      0.63      0.28         0.47           NaN        NaN   \n",
       "10         9.05     10.95      1.93         2.74           NaN        NaN   \n",
       "...         ...       ...       ...          ...           ...        ...   \n",
       "16710      0.00      0.00      0.01         0.00           NaN        NaN   \n",
       "16711      0.00      0.01      0.00         0.00           NaN        NaN   \n",
       "16712      0.00      0.00      0.01         0.00           NaN        NaN   \n",
       "16713      0.01      0.00      0.00         0.00           NaN        NaN   \n",
       "16714      0.00      0.00      0.01         0.00           NaN        NaN   \n",
       "\n",
       "      rating  \n",
       "1        NaN  \n",
       "4        NaN  \n",
       "5        NaN  \n",
       "9        NaN  \n",
       "10       NaN  \n",
       "...      ...  \n",
       "16710    NaN  \n",
       "16711    NaN  \n",
       "16712    NaN  \n",
       "16713    NaN  \n",
       "16714    NaN  \n",
       "\n",
       "[8837 rows x 11 columns]"
      ]
     },
     "execution_count": 13,
     "metadata": {},
     "output_type": "execute_result"
    }
   ],
   "source": [
    "# Изучим строки с пропусками\n",
    "data[data.isna().any(1)]"
   ]
  },
  {
   "cell_type": "markdown",
   "metadata": {},
   "source": [
    "Возможные причины появления пропусков:\n",
    "- Пропуски в названии игры - похоже на техническую ошибку: одна платформа, один год издания, довольно старый - 1993. Одна игра продавалась только в Японии, вторая где угодно, кроме Японии. Мое предположение - это задублировавшаяся при переносе данных игра, у которой снесло название. Вторая гипотеза: данные добыты из открытых исторических источников, а не напрямую из логов компаний, данные могут быть не полными за давностью лет.\n",
    "- Пропуски в жанре - та же самые строки, что и пропуски в имени.\n",
    "- Пропуски в годе издания - похоже на техническую ошибку. На разных платформах игры выходят в разное время, эти данные могли быть повреждены при копировании.\n",
    "- Пропуски в оценках игроков, пропуски в оценках критиков, пропуски в рейтинге - имеются в большом количестве, от 40 до 51%, часто встречаются вместе часть выражена NaN, часть TBD. Очень похоже на то что хранились в других таблицах и не были переданы для анализа.\n",
    "\n",
    "TBD - аббревиатура от английского To Be Determined (будет определено) или To Be Decided (будет решено). Используется, если какая-то информация еще не определена или решение по вопросу не принято. Акроним служит для отметки неясностей или пропусков, которые надо заполнить, в информации требований. По сути NaN, вести себя с ним будем как с пропусками."
   ]
  },
  {
   "cell_type": "code",
   "execution_count": 14,
   "metadata": {},
   "outputs": [],
   "source": [
    "data['rating'] = data['rating'].fillna('unknown')"
   ]
  },
  {
   "cell_type": "code",
   "execution_count": 15,
   "metadata": {},
   "outputs": [],
   "source": [
    "# удалим строки с пропущенным годом, названием и жанром\n",
    "data = data.dropna(subset=['year_of_release'])\n",
    "data = data.dropna(subset=['name'])\n",
    "data = data.dropna(subset=['genre'])"
   ]
  },
  {
   "cell_type": "code",
   "execution_count": 16,
   "metadata": {},
   "outputs": [
    {
     "data": {
      "text/plain": [
       "name                  0\n",
       "platform              0\n",
       "year_of_release       0\n",
       "genre                 0\n",
       "na_sales              0\n",
       "eu_sales              0\n",
       "jp_sales              0\n",
       "other_sales           0\n",
       "rating                0\n",
       "user_score         6605\n",
       "critic_score       8461\n",
       "dtype: int64"
      ]
     },
     "execution_count": 16,
     "metadata": {},
     "output_type": "execute_result"
    }
   ],
   "source": [
    "# Посмотрим оставшиеся пропуски\n",
    "data.isna().sum().sort_values()"
   ]
  },
  {
   "cell_type": "markdown",
   "metadata": {},
   "source": [
    "Строки с пропусками в имени, жанре и дате релиза удалены."
   ]
  },
  {
   "cell_type": "markdown",
   "metadata": {},
   "source": [
    "### Преобразуйте данные в нужные типы\n",
    "\n",
    "Нельзя поменять тип данных у части значений в колонке (вернее можно, но колонка все равно останется float). В конкретно этом случае лучше просто исключить игры без годов выпуска. Их 1,61% (меньше 5%) - это очень мало. Проставлять значения не будем, так как выход одной игры на разных платформах может отличаться в 3-5 лет."
   ]
  },
  {
   "cell_type": "code",
   "execution_count": 17,
   "metadata": {},
   "outputs": [
    {
     "data": {
      "text/plain": [
       "array([1980, 1981, 1982, 1983, 1984, 1985, 1986, 1987, 1988, 1989, 1990,\n",
       "       1991, 1992, 1993, 1994, 1995, 1996, 1997, 1998, 1999, 2000, 2001,\n",
       "       2002, 2003, 2004, 2005, 2006, 2007, 2008, 2009, 2010, 2011, 2012,\n",
       "       2013, 2014, 2015, 2016])"
      ]
     },
     "execution_count": 17,
     "metadata": {},
     "output_type": "execute_result"
    }
   ],
   "source": [
    "data['year_of_release'] = data['year_of_release'].astype('int')\n",
    "\n",
    "data['year_of_release'].sort_values().unique()"
   ]
  },
  {
   "cell_type": "markdown",
   "metadata": {},
   "source": [
    "После замены типа данных на целочисленный получили годы с 1980 по 2016."
   ]
  },
  {
   "cell_type": "code",
   "execution_count": 18,
   "metadata": {},
   "outputs": [
    {
     "data": {
      "text/plain": [
       "2376"
      ]
     },
     "execution_count": 18,
     "metadata": {},
     "output_type": "execute_result"
    }
   ],
   "source": [
    "# tbd мешает приведению к точке с плавающей запятой, посмотрим подробнее\n",
    "data[data['user_score'] == 'tbd']['user_score'].count()"
   ]
  },
  {
   "cell_type": "code",
   "execution_count": 19,
   "metadata": {},
   "outputs": [
    {
     "data": {
      "text/plain": [
       "0"
      ]
     },
     "execution_count": 19,
     "metadata": {},
     "output_type": "execute_result"
    }
   ],
   "source": [
    "# Так как это пропуски, то проставим np.nan\n",
    "data.loc[data['user_score'] == 'tbd','user_score'] = np.nan\n",
    "data[data['user_score'] == 'tbd']['user_score'].count()"
   ]
  },
  {
   "cell_type": "markdown",
   "metadata": {},
   "source": [
    "Все tbd заменены на nan"
   ]
  },
  {
   "cell_type": "code",
   "execution_count": 20,
   "metadata": {},
   "outputs": [
    {
     "name": "stdout",
     "output_type": "stream",
     "text": [
      "<class 'pandas.core.frame.DataFrame'>\n",
      "Int64Index: 16444 entries, 0 to 16714\n",
      "Data columns (total 11 columns):\n",
      " #   Column           Non-Null Count  Dtype  \n",
      "---  ------           --------------  -----  \n",
      " 0   name             16444 non-null  object \n",
      " 1   platform         16444 non-null  object \n",
      " 2   year_of_release  16444 non-null  int32  \n",
      " 3   genre            16444 non-null  object \n",
      " 4   na_sales         16444 non-null  float64\n",
      " 5   eu_sales         16444 non-null  float64\n",
      " 6   jp_sales         16444 non-null  float64\n",
      " 7   other_sales      16444 non-null  float64\n",
      " 8   critic_score     7983 non-null   float64\n",
      " 9   user_score       7463 non-null   float64\n",
      " 10  rating           16444 non-null  object \n",
      "dtypes: float64(6), int32(1), object(4)\n",
      "memory usage: 1.4+ MB\n"
     ]
    }
   ],
   "source": [
    "data['user_score'] = data['user_score'].astype('float')\n",
    "data.info()"
   ]
  },
  {
   "cell_type": "markdown",
   "metadata": {},
   "source": [
    "Оценки пользователей приведены к фармату числа с плавающей точкой"
   ]
  },
  {
   "cell_type": "code",
   "execution_count": 21,
   "metadata": {},
   "outputs": [],
   "source": [
    "# До кучи проставим строчные буквы в именных столбцах\n",
    "data['name'] = data['name'].str.lower()\n",
    "data['platform'] = data['platform'].str.lower()\n",
    "data['genre'] = data['genre'].str.lower()\n",
    "data['rating'] = data['rating'].str.lower()"
   ]
  },
  {
   "cell_type": "code",
   "execution_count": 22,
   "metadata": {},
   "outputs": [
    {
     "data": {
      "text/html": [
       "<div>\n",
       "<style scoped>\n",
       "    .dataframe tbody tr th:only-of-type {\n",
       "        vertical-align: middle;\n",
       "    }\n",
       "\n",
       "    .dataframe tbody tr th {\n",
       "        vertical-align: top;\n",
       "    }\n",
       "\n",
       "    .dataframe thead th {\n",
       "        text-align: right;\n",
       "    }\n",
       "</style>\n",
       "<table border=\"1\" class=\"dataframe\">\n",
       "  <thead>\n",
       "    <tr style=\"text-align: right;\">\n",
       "      <th></th>\n",
       "      <th>name</th>\n",
       "      <th>platform</th>\n",
       "      <th>year_of_release</th>\n",
       "      <th>genre</th>\n",
       "      <th>na_sales</th>\n",
       "      <th>eu_sales</th>\n",
       "      <th>jp_sales</th>\n",
       "      <th>other_sales</th>\n",
       "      <th>critic_score</th>\n",
       "      <th>user_score</th>\n",
       "      <th>rating</th>\n",
       "    </tr>\n",
       "  </thead>\n",
       "  <tbody>\n",
       "    <tr>\n",
       "      <th>0</th>\n",
       "      <td>wii sports</td>\n",
       "      <td>wii</td>\n",
       "      <td>2006</td>\n",
       "      <td>sports</td>\n",
       "      <td>41.36</td>\n",
       "      <td>28.96</td>\n",
       "      <td>3.77</td>\n",
       "      <td>8.45</td>\n",
       "      <td>76.00</td>\n",
       "      <td>8.00</td>\n",
       "      <td>e</td>\n",
       "    </tr>\n",
       "    <tr>\n",
       "      <th>1</th>\n",
       "      <td>super mario bros.</td>\n",
       "      <td>nes</td>\n",
       "      <td>1985</td>\n",
       "      <td>platform</td>\n",
       "      <td>29.08</td>\n",
       "      <td>3.58</td>\n",
       "      <td>6.81</td>\n",
       "      <td>0.77</td>\n",
       "      <td>NaN</td>\n",
       "      <td>NaN</td>\n",
       "      <td>unknown</td>\n",
       "    </tr>\n",
       "    <tr>\n",
       "      <th>2</th>\n",
       "      <td>mario kart wii</td>\n",
       "      <td>wii</td>\n",
       "      <td>2008</td>\n",
       "      <td>racing</td>\n",
       "      <td>15.68</td>\n",
       "      <td>12.76</td>\n",
       "      <td>3.79</td>\n",
       "      <td>3.29</td>\n",
       "      <td>82.00</td>\n",
       "      <td>8.30</td>\n",
       "      <td>e</td>\n",
       "    </tr>\n",
       "    <tr>\n",
       "      <th>3</th>\n",
       "      <td>wii sports resort</td>\n",
       "      <td>wii</td>\n",
       "      <td>2009</td>\n",
       "      <td>sports</td>\n",
       "      <td>15.61</td>\n",
       "      <td>10.93</td>\n",
       "      <td>3.28</td>\n",
       "      <td>2.95</td>\n",
       "      <td>80.00</td>\n",
       "      <td>8.00</td>\n",
       "      <td>e</td>\n",
       "    </tr>\n",
       "    <tr>\n",
       "      <th>4</th>\n",
       "      <td>pokemon red/pokemon blue</td>\n",
       "      <td>gb</td>\n",
       "      <td>1996</td>\n",
       "      <td>role-playing</td>\n",
       "      <td>11.27</td>\n",
       "      <td>8.89</td>\n",
       "      <td>10.22</td>\n",
       "      <td>1.00</td>\n",
       "      <td>NaN</td>\n",
       "      <td>NaN</td>\n",
       "      <td>unknown</td>\n",
       "    </tr>\n",
       "  </tbody>\n",
       "</table>\n",
       "</div>"
      ],
      "text/plain": [
       "                       name platform  year_of_release         genre  na_sales  \\\n",
       "0                wii sports      wii             2006        sports     41.36   \n",
       "1         super mario bros.      nes             1985      platform     29.08   \n",
       "2            mario kart wii      wii             2008        racing     15.68   \n",
       "3         wii sports resort      wii             2009        sports     15.61   \n",
       "4  pokemon red/pokemon blue       gb             1996  role-playing     11.27   \n",
       "\n",
       "   eu_sales  jp_sales  other_sales  critic_score  user_score   rating  \n",
       "0     28.96      3.77         8.45         76.00        8.00        e  \n",
       "1      3.58      6.81         0.77           NaN         NaN  unknown  \n",
       "2     12.76      3.79         3.29         82.00        8.30        e  \n",
       "3     10.93      3.28         2.95         80.00        8.00        e  \n",
       "4      8.89     10.22         1.00           NaN         NaN  unknown  "
      ]
     },
     "execution_count": 22,
     "metadata": {},
     "output_type": "execute_result"
    }
   ],
   "source": [
    "data.head()"
   ]
  },
  {
   "cell_type": "markdown",
   "metadata": {},
   "source": [
    "Теперь все буквы в таблице строчные."
   ]
  },
  {
   "cell_type": "markdown",
   "metadata": {},
   "source": [
    "### Посчитайте суммарные продажи во всех регионах и запишите их в отдельный столбец."
   ]
  },
  {
   "cell_type": "code",
   "execution_count": 23,
   "metadata": {},
   "outputs": [
    {
     "data": {
      "text/html": [
       "<div>\n",
       "<style scoped>\n",
       "    .dataframe tbody tr th:only-of-type {\n",
       "        vertical-align: middle;\n",
       "    }\n",
       "\n",
       "    .dataframe tbody tr th {\n",
       "        vertical-align: top;\n",
       "    }\n",
       "\n",
       "    .dataframe thead th {\n",
       "        text-align: right;\n",
       "    }\n",
       "</style>\n",
       "<table border=\"1\" class=\"dataframe\">\n",
       "  <thead>\n",
       "    <tr style=\"text-align: right;\">\n",
       "      <th></th>\n",
       "      <th>name</th>\n",
       "      <th>platform</th>\n",
       "      <th>year_of_release</th>\n",
       "      <th>genre</th>\n",
       "      <th>na_sales</th>\n",
       "      <th>eu_sales</th>\n",
       "      <th>jp_sales</th>\n",
       "      <th>other_sales</th>\n",
       "      <th>critic_score</th>\n",
       "      <th>user_score</th>\n",
       "      <th>rating</th>\n",
       "      <th>total_sales</th>\n",
       "    </tr>\n",
       "  </thead>\n",
       "  <tbody>\n",
       "    <tr>\n",
       "      <th>0</th>\n",
       "      <td>wii sports</td>\n",
       "      <td>wii</td>\n",
       "      <td>2006</td>\n",
       "      <td>sports</td>\n",
       "      <td>41.36</td>\n",
       "      <td>28.96</td>\n",
       "      <td>3.77</td>\n",
       "      <td>8.45</td>\n",
       "      <td>76.00</td>\n",
       "      <td>8.00</td>\n",
       "      <td>e</td>\n",
       "      <td>82.54</td>\n",
       "    </tr>\n",
       "    <tr>\n",
       "      <th>1</th>\n",
       "      <td>super mario bros.</td>\n",
       "      <td>nes</td>\n",
       "      <td>1985</td>\n",
       "      <td>platform</td>\n",
       "      <td>29.08</td>\n",
       "      <td>3.58</td>\n",
       "      <td>6.81</td>\n",
       "      <td>0.77</td>\n",
       "      <td>NaN</td>\n",
       "      <td>NaN</td>\n",
       "      <td>unknown</td>\n",
       "      <td>40.24</td>\n",
       "    </tr>\n",
       "    <tr>\n",
       "      <th>2</th>\n",
       "      <td>mario kart wii</td>\n",
       "      <td>wii</td>\n",
       "      <td>2008</td>\n",
       "      <td>racing</td>\n",
       "      <td>15.68</td>\n",
       "      <td>12.76</td>\n",
       "      <td>3.79</td>\n",
       "      <td>3.29</td>\n",
       "      <td>82.00</td>\n",
       "      <td>8.30</td>\n",
       "      <td>e</td>\n",
       "      <td>35.52</td>\n",
       "    </tr>\n",
       "    <tr>\n",
       "      <th>3</th>\n",
       "      <td>wii sports resort</td>\n",
       "      <td>wii</td>\n",
       "      <td>2009</td>\n",
       "      <td>sports</td>\n",
       "      <td>15.61</td>\n",
       "      <td>10.93</td>\n",
       "      <td>3.28</td>\n",
       "      <td>2.95</td>\n",
       "      <td>80.00</td>\n",
       "      <td>8.00</td>\n",
       "      <td>e</td>\n",
       "      <td>32.77</td>\n",
       "    </tr>\n",
       "    <tr>\n",
       "      <th>4</th>\n",
       "      <td>pokemon red/pokemon blue</td>\n",
       "      <td>gb</td>\n",
       "      <td>1996</td>\n",
       "      <td>role-playing</td>\n",
       "      <td>11.27</td>\n",
       "      <td>8.89</td>\n",
       "      <td>10.22</td>\n",
       "      <td>1.00</td>\n",
       "      <td>NaN</td>\n",
       "      <td>NaN</td>\n",
       "      <td>unknown</td>\n",
       "      <td>31.38</td>\n",
       "    </tr>\n",
       "  </tbody>\n",
       "</table>\n",
       "</div>"
      ],
      "text/plain": [
       "                       name platform  year_of_release         genre  na_sales  \\\n",
       "0                wii sports      wii             2006        sports     41.36   \n",
       "1         super mario bros.      nes             1985      platform     29.08   \n",
       "2            mario kart wii      wii             2008        racing     15.68   \n",
       "3         wii sports resort      wii             2009        sports     15.61   \n",
       "4  pokemon red/pokemon blue       gb             1996  role-playing     11.27   \n",
       "\n",
       "   eu_sales  jp_sales  other_sales  critic_score  user_score   rating  \\\n",
       "0     28.96      3.77         8.45         76.00        8.00        e   \n",
       "1      3.58      6.81         0.77           NaN         NaN  unknown   \n",
       "2     12.76      3.79         3.29         82.00        8.30        e   \n",
       "3     10.93      3.28         2.95         80.00        8.00        e   \n",
       "4      8.89     10.22         1.00           NaN         NaN  unknown   \n",
       "\n",
       "   total_sales  \n",
       "0        82.54  \n",
       "1        40.24  \n",
       "2        35.52  \n",
       "3        32.77  \n",
       "4        31.38  "
      ]
     },
     "execution_count": 23,
     "metadata": {},
     "output_type": "execute_result"
    }
   ],
   "source": [
    "# Посчитайте количество продаж во всех регионах и запишите в отдельный столбец\n",
    "data['total_sales'] = data['na_sales'] + data['eu_sales'] + data['jp_sales'] + data['other_sales']\n",
    "data.head()"
   ]
  },
  {
   "cell_type": "markdown",
   "metadata": {},
   "source": [
    "Столбец с суммарными продажами рассчитан и записан."
   ]
  },
  {
   "cell_type": "markdown",
   "metadata": {},
   "source": [
    "### Выводы по подготовке данных\n",
    "\n",
    "- все строковые значения изменены на \"нижний\" регистр\n",
    "- заменены форматы данных в колонках \"год издания игры\" и \"оценка пользователей\"\n",
    "- определены и описаны вероятные причины появления пропусков\n",
    "- удалены строки с пропущенным годом, названием и жанром\n",
    "- остальные пропуски оставлены, чтобы не искажать картину анализа данных\n",
    "- создан столбец с суммарными продажами"
   ]
  },
  {
   "cell_type": "markdown",
   "metadata": {},
   "source": [
    "## Исследовательский анализ данных\n",
    "\n",
    "\n",
    "[Начало тетрадки](#intro)\n",
    "\n",
    "1. Посмотрите, сколько игр выпускалось в разные годы. Важны ли данные за все периоды?\n",
    "\n",
    "2. Посмотрите, как менялись продажи по платформам. Выберите платформы с наибольшими суммарными продажами и постройте распределение по годам. За какой характерный срок появляются новые и исчезают старые платформы?\n",
    "\n",
    "3. Возьмите данные за соответствующий **актуальный период**. Актуальный период определите самостоятельно в результате исследования предыдущих вопросов. Основной фактор — эти данные помогут построить прогноз на 2017 год. Не учитывайте в работе данные за **предыдущие годы**.\n",
    "\n",
    "4. Какие платформы лидируют по продажам, растут или падают? Выберите несколько потенциально прибыльных платформ. Постройте график «ящик с усами» по глобальным продажам игр в разбивке по платформам. Опишите результат.\n",
    "\n",
    "5. Посмотрите, как влияют на продажи внутри одной популярной платформы отзывы пользователей и критиков. Постройте диаграмму рассеяния и посчитайте корреляцию между отзывами и продажами. Сформулируйте выводы. Соотнесите выводы с продажами игр на других платформах.\n",
    "\n",
    "6. Посмотрите на общее распределение игр по жанрам. Что можно сказать о самых прибыльных жанрах? Выделяются ли жанры с высокими и низкими продажами?"
   ]
  },
  {
   "cell_type": "markdown",
   "metadata": {},
   "source": [
    "### Посмотрите, сколько игр выпускалось в разные годы. Важны ли данные за все периоды?"
   ]
  },
  {
   "cell_type": "code",
   "execution_count": 24,
   "metadata": {},
   "outputs": [
    {
     "data": {
      "text/plain": [
       "year_of_release\n",
       "1980       9\n",
       "1981      46\n",
       "1982      36\n",
       "1983      17\n",
       "1984      14\n",
       "1985      14\n",
       "1986      21\n",
       "1987      16\n",
       "1988      15\n",
       "1989      17\n",
       "1990      16\n",
       "1991      41\n",
       "1992      43\n",
       "1993      60\n",
       "1994     121\n",
       "1995     219\n",
       "1996     263\n",
       "1997     289\n",
       "1998     379\n",
       "1999     338\n",
       "2000     350\n",
       "2001     482\n",
       "2002     829\n",
       "2003     775\n",
       "2004     762\n",
       "2005     939\n",
       "2006    1006\n",
       "2007    1197\n",
       "2008    1427\n",
       "2009    1426\n",
       "2010    1255\n",
       "2011    1136\n",
       "2012     653\n",
       "2013     544\n",
       "2014     581\n",
       "2015     606\n",
       "2016     502\n",
       "Name: year_of_release, dtype: int64"
      ]
     },
     "execution_count": 24,
     "metadata": {},
     "output_type": "execute_result"
    }
   ],
   "source": [
    "# посчитаем скольео игр выпускалось\n",
    "data.groupby('year_of_release')['year_of_release'].count()"
   ]
  },
  {
   "cell_type": "code",
   "execution_count": 25,
   "metadata": {},
   "outputs": [
    {
     "data": {
      "text/plain": [
       "Text(0.5, 1.0, 'Количество игр выпускаемое в разные годы')"
      ]
     },
     "execution_count": 25,
     "metadata": {},
     "output_type": "execute_result"
    },
    {
     "data": {
      "image/png": "[encoded data removed]",
      "text/plain": [
       "<Figure size 432x288 with 1 Axes>"
      ]
     },
     "metadata": {
      "needs_background": "light"
     },
     "output_type": "display_data"
    }
   ],
   "source": [
    "# построим для наглядности гистограмму \n",
    "\n",
    "ax = data['year_of_release'].plot(kind='hist', bins=40).legend()\n",
    "plt.title('Количество игр выпускаемое в разные годы')"
   ]
  },
  {
   "cell_type": "markdown",
   "metadata": {},
   "source": [
    "Появились в 80-ых, затем было долго плато — мощностей не хватало, а на текстовых квестах много не заработаешь. С 95-года росли чипы видеоадаптеров в мощности, соответственно игр выпускалось все больше. С 2010 года спад, насыщение рынка, переход на мобильные платформы. Можно сказать, что данные до 1995 года не важны. Отбросим их."
   ]
  },
  {
   "cell_type": "code",
   "execution_count": 26,
   "metadata": {},
   "outputs": [],
   "source": [
    "# оставим в таблице игры моложе 1995 года\n",
    "data = data.query('year_of_release >= 1995')"
   ]
  },
  {
   "cell_type": "markdown",
   "metadata": {},
   "source": [
    "### Посмотрите, как менялись продажи по платформам. Выберите платформы с наибольшими суммарными продажами и постройте распределение по годам. За какой характерный срок появляются новые и исчезают старые платформы?"
   ]
  },
  {
   "cell_type": "code",
   "execution_count": 27,
   "metadata": {},
   "outputs": [
    {
     "data": {
      "text/html": [
       "<div>\n",
       "<style scoped>\n",
       "    .dataframe tbody tr th:only-of-type {\n",
       "        vertical-align: middle;\n",
       "    }\n",
       "\n",
       "    .dataframe tbody tr th {\n",
       "        vertical-align: top;\n",
       "    }\n",
       "\n",
       "    .dataframe thead th {\n",
       "        text-align: right;\n",
       "    }\n",
       "</style>\n",
       "<table border=\"1\" class=\"dataframe\">\n",
       "  <thead>\n",
       "    <tr style=\"text-align: right;\">\n",
       "      <th></th>\n",
       "      <th>total_sales</th>\n",
       "    </tr>\n",
       "    <tr>\n",
       "      <th>platform</th>\n",
       "      <th></th>\n",
       "    </tr>\n",
       "  </thead>\n",
       "  <tbody>\n",
       "    <tr>\n",
       "      <th>ps2</th>\n",
       "      <td>1,233.56</td>\n",
       "    </tr>\n",
       "    <tr>\n",
       "      <th>x360</th>\n",
       "      <td>961.24</td>\n",
       "    </tr>\n",
       "    <tr>\n",
       "      <th>ps3</th>\n",
       "      <td>931.34</td>\n",
       "    </tr>\n",
       "    <tr>\n",
       "      <th>wii</th>\n",
       "      <td>891.18</td>\n",
       "    </tr>\n",
       "    <tr>\n",
       "      <th>ds</th>\n",
       "      <td>802.76</td>\n",
       "    </tr>\n",
       "    <tr>\n",
       "      <th>ps</th>\n",
       "      <td>721.55</td>\n",
       "    </tr>\n",
       "    <tr>\n",
       "      <th>ps4</th>\n",
       "      <td>314.14</td>\n",
       "    </tr>\n",
       "    <tr>\n",
       "      <th>gba</th>\n",
       "      <td>312.88</td>\n",
       "    </tr>\n",
       "    <tr>\n",
       "      <th>psp</th>\n",
       "      <td>289.53</td>\n",
       "    </tr>\n",
       "    <tr>\n",
       "      <th>3ds</th>\n",
       "      <td>257.81</td>\n",
       "    </tr>\n",
       "  </tbody>\n",
       "</table>\n",
       "</div>"
      ],
      "text/plain": [
       "          total_sales\n",
       "platform             \n",
       "ps2          1,233.56\n",
       "x360           961.24\n",
       "ps3            931.34\n",
       "wii            891.18\n",
       "ds             802.76\n",
       "ps             721.55\n",
       "ps4            314.14\n",
       "gba            312.88\n",
       "psp            289.53\n",
       "3ds            257.81"
      ]
     },
     "execution_count": 27,
     "metadata": {},
     "output_type": "execute_result"
    }
   ],
   "source": [
    "# соберем топ-10 платформ с наибольшими суммарными продажами и посмотрим сколько их\n",
    "top_10 = data.groupby('platform')\\\n",
    "    .agg({'total_sales': 'sum'})\n",
    "top_10 = top_10.sort_values('total_sales', ascending=False).head(10)\n",
    "top_10.sort_values('total_sales', ascending=False).head(10)"
   ]
  },
  {
   "cell_type": "code",
   "execution_count": 28,
   "metadata": {},
   "outputs": [
    {
     "data": {
      "text/plain": [
       "<AxesSubplot:ylabel='platform'>"
      ]
     },
     "execution_count": 28,
     "metadata": {},
     "output_type": "execute_result"
    },
    {
     "data": {
      "image/png": "[encoded data removed]",
      "text/plain": [
       "<Figure size 432x288 with 1 Axes>"
      ]
     },
     "metadata": {
      "needs_background": "light"
     },
     "output_type": "display_data"
    }
   ],
   "source": [
    "# построим гистограмму топов платформ по суммарным продажам\n",
    "\n",
    "top_10.sort_values('total_sales', ascending=True).plot(kind='barh')"
   ]
  },
  {
   "cell_type": "markdown",
   "metadata": {},
   "source": [
    "Из графика наглядно видно суммарные продажи по лидирующим платформам."
   ]
  },
  {
   "cell_type": "code",
   "execution_count": 29,
   "metadata": {},
   "outputs": [],
   "source": [
    "# заберем названия, лежащие в индексе\n",
    "top_10 = top_10.index"
   ]
  },
  {
   "cell_type": "code",
   "execution_count": 30,
   "metadata": {},
   "outputs": [
    {
     "data": {
      "image/png": "[encoded data removed]",
      "text/plain": [
       "<Figure size 720x360 with 1 Axes>"
      ]
     },
     "metadata": {
      "needs_background": "light"
     },
     "output_type": "display_data"
    }
   ],
   "source": [
    "# посмотрим распределение по годам\n",
    "\n",
    "data.query('platform in @top_10').pivot_table(index = 'year_of_release',\n",
    "                                                            columns = 'platform',\n",
    "                                                            values = 'total_sales',\n",
    "                                                            aggfunc = 'sum').plot(figsize=(10,5))\n",
    "plt.xlim(1994, 2017)\n",
    "plt.show()"
   ]
  },
  {
   "cell_type": "markdown",
   "metadata": {},
   "source": [
    "Из графика распределения по годам видим время \"жизни\" 10 самых продаваемых платформ. В среднем платформа довольно резко стартует, потом наступает плато, часто с небольшим \"проседанием\" по продажам, после продажи так же резко падают. После еще год - два идут минималье продажи и платформа \"умирает\"."
   ]
  },
  {
   "cell_type": "code",
   "execution_count": 31,
   "metadata": {},
   "outputs": [],
   "source": [
    "# минимальные значимые продажи в миллионах\n",
    "min_sales = 10"
   ]
  },
  {
   "cell_type": "code",
   "execution_count": 32,
   "metadata": {},
   "outputs": [
    {
     "data": {
      "text/plain": [
       "year_of_release   3.75\n",
       "dtype: float64"
      ]
     },
     "execution_count": 32,
     "metadata": {},
     "output_type": "execute_result"
    }
   ],
   "source": [
    "# суммарные продажи в год выше порога\n",
    "report = data.query('platform in @top_10').groupby(['platform', 'year_of_release']).agg({'total_sales': 'sum'}).query('total_sales > @min_sales') # среднее число лет выше порога продаж, деленное на 2 (половину времени существования платформа падает)\n",
    "report.reset_index().groupby('platform').agg({'year_of_release': 'nunique'}).mean() / 2\n"
   ]
  },
  {
   "cell_type": "markdown",
   "metadata": {},
   "source": [
    "Старые платформы изчезают и появляются новые, в среднем, за 3,7 года. "
   ]
  },
  {
   "cell_type": "markdown",
   "metadata": {},
   "source": [
    "### Возьмите данные за соответствующий актуальный период. Актуальный период определите самостоятельно в результате исследования предыдущих вопросов. Основной фактор — эти данные помогут построить прогноз на 2017 год. Не учитывайте в работе данные за предыдущие годы. "
   ]
  },
  {
   "cell_type": "markdown",
   "metadata": {},
   "source": [
    "Ранее мы определили период появления и исчезания платформ в 3,7 года. Будем считать его актуальным для прогноза на 2017. Данные заканчиваются 2016 годом, следовательно берем данные от 2012 по 2016."
   ]
  },
  {
   "cell_type": "code",
   "execution_count": 33,
   "metadata": {},
   "outputs": [],
   "source": [
    "# отбросим неактуальные данные\n",
    "data = data.query('year_of_release >= 2012')"
   ]
  },
  {
   "cell_type": "code",
   "execution_count": 34,
   "metadata": {},
   "outputs": [
    {
     "name": "stdout",
     "output_type": "stream",
     "text": [
      "<class 'pandas.core.frame.DataFrame'>\n",
      "Int64Index: 2886 entries, 16 to 16714\n",
      "Data columns (total 12 columns):\n",
      " #   Column           Non-Null Count  Dtype  \n",
      "---  ------           --------------  -----  \n",
      " 0   name             2886 non-null   object \n",
      " 1   platform         2886 non-null   object \n",
      " 2   year_of_release  2886 non-null   int32  \n",
      " 3   genre            2886 non-null   object \n",
      " 4   na_sales         2886 non-null   float64\n",
      " 5   eu_sales         2886 non-null   float64\n",
      " 6   jp_sales         2886 non-null   float64\n",
      " 7   other_sales      2886 non-null   float64\n",
      " 8   critic_score     1312 non-null   float64\n",
      " 9   user_score       1531 non-null   float64\n",
      " 10  rating           2886 non-null   object \n",
      " 11  total_sales      2886 non-null   float64\n",
      "dtypes: float64(7), int32(1), object(4)\n",
      "memory usage: 281.8+ KB\n"
     ]
    }
   ],
   "source": [
    "# посмотрим что осталось\n",
    "data.info()"
   ]
  },
  {
   "cell_type": "markdown",
   "metadata": {},
   "source": [
    "В таблице осталось 1689 игр из 16713, но и максимальное количество игр было выпущено в период с 2006 по 2011. Фильтр сработал."
   ]
  },
  {
   "cell_type": "markdown",
   "metadata": {},
   "source": [
    "### Какие платформы лидируют по продажам, растут или падают? Выберите несколько потенциально прибыльных платформ. Постройте график «ящик с усами» по глобальным продажам игр в разбивке по платформам. Опишите результат."
   ]
  },
  {
   "cell_type": "markdown",
   "metadata": {},
   "source": [
    "data.describe()"
   ]
  },
  {
   "cell_type": "code",
   "execution_count": 35,
   "metadata": {},
   "outputs": [
    {
     "data": {
      "text/plain": [
       "array(['ps3', 'x360', 'ps4', '3ds', 'ds', 'xone', 'wiiu', 'wii', 'pc',\n",
       "       'psv', 'psp'], dtype=object)"
      ]
     },
     "execution_count": 35,
     "metadata": {},
     "output_type": "execute_result"
    }
   ],
   "source": [
    "# посмотрим какие платформы остались\n",
    "data['platform'].unique()"
   ]
  },
  {
   "cell_type": "markdown",
   "metadata": {},
   "source": [
    "Осталось 11 живых платформ."
   ]
  },
  {
   "cell_type": "code",
   "execution_count": 36,
   "metadata": {},
   "outputs": [
    {
     "data": {
      "text/plain": [
       "(2011.0, 2016.0)"
      ]
     },
     "execution_count": 36,
     "metadata": {},
     "output_type": "execute_result"
    },
    {
     "data": {
      "image/png": "[encoded data removed]",
      "text/plain": [
       "<Figure size 720x360 with 1 Axes>"
      ]
     },
     "metadata": {
      "needs_background": "light"
     },
     "output_type": "display_data"
    }
   ],
   "source": [
    "# посмотрим распределение по годам\n",
    "\n",
    "data.pivot_table(index = 'year_of_release', columns = 'platform', values = 'total_sales', aggfunc = 'sum').plot(figsize=(10,5))\n",
    "plt.xlim(2011, 2016)"
   ]
  },
  {
   "cell_type": "markdown",
   "metadata": {},
   "source": [
    "Из графика видим, что в определенном актуальном периоде все платформы \"падают\":\n",
    "- ds - закончила свое существование в 2013,\n",
    "- psp - закончила свое существование в 2015,\n",
    "\n",
    "Платформы, которые в самом конце своего существования:\n",
    "- pc\n",
    "- wii\n",
    "- wiiu\n",
    "- psv\n",
    "\n",
    "Платформы, которые относительно недавно сошли с пика продаж:\n",
    "- ps3 - выглядит как пик, но это второе рождение на фоне выпуска ps4\n",
    "- x360\n",
    "\n",
    "Платформы, которые были на пике продаж в указанный период: \n",
    "- ps4\n",
    "- xone\n",
    "- 3ds"
   ]
  },
  {
   "cell_type": "code",
   "execution_count": 37,
   "metadata": {},
   "outputs": [
    {
     "data": {
      "image/png": "[encoded data removed]",
      "text/plain": [
       "<Figure size 864x1080 with 1 Axes>"
      ]
     },
     "metadata": {
      "needs_background": "light"
     },
     "output_type": "display_data"
    }
   ],
   "source": [
    "# построим диаграмму размаха\n",
    "\n",
    "data.boxplot('total_sales', by='platform',figsize=(12,15)).set_ylim(0,5)\n",
    "plt.xlabel('Название платформы')\n",
    "plt.ylabel('Количество проданых копий игр, млн')\n",
    "plt.title('Количество проданых копий игр для платформ за 2013-2016')\n",
    "plt.show()"
   ]
  },
  {
   "cell_type": "markdown",
   "metadata": {},
   "source": [
    "Ящик с усами говорит о том, что:\n",
    "- игры для psp, psv не достигают полумиллиона проданых копий и имеют самые низкие продажи\n",
    "- ds прочно лежит, продажи остановились на половине миллиона копий, выбросные значения отсутствую.\n",
    "- картина для pc примерно такая же как для ds, но имеется хвост из выбросов, платформа еще жива\n",
    "- 3ds незначительно выше четверых предыдущих по межквартильному размаху, однако имеется большой хвост из выбросов. Пик продаж у данной платформы был в 2013, но это ей не помогло\n",
    "- приблизительно одно положение у ps3 и wiiu, wiiu сошла с пика продаж давно, ps3 переживала второй пик продаж в 2013. Предположительно, этим можно объяснить разницу в выбросных хвостах, у wiiu он значительно меньше ps3\n",
    "- следующаяя пара wii и xone, по медианному значению они очень близки к предыдущей паре, но приблизительно на треть выше по межквартильному размаху.\n",
    "- ps4 и x360 пара лидеров продаж, для ps4 это характерно - она была на пике продаж в выбранном периоде, а x360 дожимает плоды былой славы\n",
    "\n",
    "Потенциально прибыльными можно считать ps4, xone, 3ds"
   ]
  },
  {
   "cell_type": "markdown",
   "metadata": {},
   "source": [
    "### Посмотрите, как влияют на продажи внутри одной популярной платформы отзывы пользователей и критиков. Постройте диаграмму рассеяния и посчитайте корреляцию между отзывами и продажами. Сформулируйте выводы. "
   ]
  },
  {
   "cell_type": "code",
   "execution_count": 38,
   "metadata": {},
   "outputs": [
    {
     "data": {
      "text/plain": [
       "-0.031957110204556424"
      ]
     },
     "execution_count": 38,
     "metadata": {},
     "output_type": "execute_result"
    }
   ],
   "source": [
    "# посчитаем, есть ли взаимосвязь между отзывали пользователей и продажами\n",
    "data.query('platform == \"ps4\"')['user_score'].corr(data.query('platform == \"ps4\"')['total_sales'])"
   ]
  },
  {
   "cell_type": "markdown",
   "metadata": {},
   "source": [
    "Линейная корреляция на уровне -3%. Линейной зависимости нет."
   ]
  },
  {
   "cell_type": "code",
   "execution_count": 39,
   "metadata": {},
   "outputs": [
    {
     "data": {
      "text/plain": [
       "<AxesSubplot:xlabel='total_sales'>"
      ]
     },
     "execution_count": 39,
     "metadata": {},
     "output_type": "execute_result"
    },
    {
     "data": {
      "image/png": "[encoded data removed]",
      "text/plain": [
       "<Figure size 720x576 with 1 Axes>"
      ]
     },
     "metadata": {
      "needs_background": "light"
     },
     "output_type": "display_data"
    }
   ],
   "source": [
    "# поищем взаимосвязь на диаграмме рассеяния\n",
    "\n",
    "data.query('platform == \"ps4\"').plot( x='total_sales',\n",
    "           y='user_score',\n",
    "           ylim=(0, 15),\n",
    "           style='o',\n",
    "           grid=True,\n",
    "           figsize=(10, 8))"
   ]
  },
  {
   "cell_type": "code",
   "execution_count": 40,
   "metadata": {},
   "outputs": [
    {
     "data": {
      "text/plain": [
       "0.40656790206178095"
      ]
     },
     "execution_count": 40,
     "metadata": {},
     "output_type": "execute_result"
    }
   ],
   "source": [
    "# посчитаем, есть ли взаимосвязь между отзывали критиков и продажами\n",
    "data.query('platform == \"ps4\"')['critic_score'].corr(data.query('platform == \"ps4\"')['total_sales'])"
   ]
  },
  {
   "cell_type": "markdown",
   "metadata": {},
   "source": [
    "Величина коэффициента корреляции отражает силы связи. При оценке силы связи коэффициентов корреляции используется шкала Чеддока. Наш коэфициент 0,4 - слабая линейная зависимость."
   ]
  },
  {
   "cell_type": "code",
   "execution_count": 41,
   "metadata": {},
   "outputs": [
    {
     "data": {
      "text/plain": [
       "<AxesSubplot:xlabel='total_sales'>"
      ]
     },
     "execution_count": 41,
     "metadata": {},
     "output_type": "execute_result"
    },
    {
     "data": {
      "image/png": "[encoded data removed]",
      "text/plain": [
       "<Figure size 720x576 with 1 Axes>"
      ]
     },
     "metadata": {
      "needs_background": "light"
     },
     "output_type": "display_data"
    }
   ],
   "source": [
    "# посмотрим взаимосвязь на диаграмме рассеяния\n",
    "\n",
    "data.query('platform == \"ps4\"').plot( x='total_sales',\n",
    "           y='critic_score',\n",
    "           ylim=(0, 100),\n",
    "           style='o',\n",
    "           grid=True,\n",
    "           figsize=(10, 8))"
   ]
  },
  {
   "cell_type": "markdown",
   "metadata": {},
   "source": [
    "На графике видим слабую линейную зависимость, высокие оценки критиков несколько влияют на количество продаж. Несмотря на то, что не нашли линейную зависимость между пользовательскими оценками и продажами, графики продаж выглядят похоже."
   ]
  },
  {
   "cell_type": "code",
   "execution_count": 42,
   "metadata": {},
   "outputs": [
    {
     "data": {
      "text/plain": [
       "0.5576539782764632"
      ]
     },
     "execution_count": 42,
     "metadata": {},
     "output_type": "execute_result"
    }
   ],
   "source": [
    "# проверим есть ли линейная взаимосвязь между оченками пользователей и критиков\n",
    "data.query('platform == \"ps4\"')['user_score'].corr(data.query('platform == \"ps4\"')['critic_score'])"
   ]
  },
  {
   "cell_type": "markdown",
   "metadata": {},
   "source": [
    "0,55 по шкале Чеддока считается средней зависимостью - стоит это учитывать. "
   ]
  },
  {
   "cell_type": "code",
   "execution_count": 43,
   "metadata": {},
   "outputs": [
    {
     "data": {
      "text/plain": [
       "<AxesSubplot:xlabel='user_score'>"
      ]
     },
     "execution_count": 43,
     "metadata": {},
     "output_type": "execute_result"
    },
    {
     "data": {
      "image/png": "[encoded data removed]",
      "text/plain": [
       "<Figure size 720x576 with 1 Axes>"
      ]
     },
     "metadata": {
      "needs_background": "light"
     },
     "output_type": "display_data"
    }
   ],
   "source": [
    "# поищем взаимосвязь на диаграмме рассеяния\n",
    "\n",
    "data.query('platform == \"ps4\"').plot( x='user_score',\n",
    "           y='critic_score',\n",
    "           ylim=(0, 100),\n",
    "           style='o',\n",
    "           grid=True,\n",
    "           figsize=(10, 8))"
   ]
  },
  {
   "cell_type": "markdown",
   "metadata": {},
   "source": [
    "Оценки пользователей не влияют на продажи, а оценки критиков влияют. Можно предположить, что критикам  выгодно ставить высокие оценки, если пользователи высоко оценивают игру."
   ]
  },
  {
   "cell_type": "markdown",
   "metadata": {},
   "source": [
    "### Соотнесите выводы с продажами игр на других платформах."
   ]
  },
  {
   "cell_type": "code",
   "execution_count": 44,
   "metadata": {},
   "outputs": [
    {
     "name": "stdout",
     "output_type": "stream",
     "text": [
      "-0.07 Коэффициент корреляции между отзывали пользователей и продажами xone\n",
      "0.20 Коэффициент корреляции между отзывали пользователей и продажами 3ds\n"
     ]
    }
   ],
   "source": [
    "# посчитаем, есть ли взаимосвязь между отзывали пользователей и продажами\n",
    "\n",
    "print(\"{0:.2f} Коэффициент корреляции между отзывали пользователей и продажами xone\".format(data.query('platform == \"xone\"')['user_score'].corr(data.query('platform == \"xone\"')['total_sales'])))\n",
    "print(\"{0:.2f} Коэффициент корреляции между отзывали пользователей и продажами 3ds\".format(data.query('platform == \"3ds\"')['user_score'].corr(data.query('platform == \"3ds\"')['total_sales'])))"
   ]
  },
  {
   "cell_type": "markdown",
   "metadata": {},
   "source": [
    "У xone так же картина, что и у ps4. Линейной зависимости нет. Можно было бы сказать, что первый положительный коэффициент у 3ds говорит о положительной зависимости, однако, шкала Чеддока четко дает ответ: от 0 до 0,3 это очень слабая корреляция, и скорее всего мы не будем принимать ее в расчет."
   ]
  },
  {
   "cell_type": "code",
   "execution_count": 45,
   "metadata": {},
   "outputs": [
    {
     "name": "stdout",
     "output_type": "stream",
     "text": [
      "0.42 Коэффициент корреляции между отзывали критиков и продажами xone\n",
      "0.32 Коэффициент корреляции между отзывали критиков и продажами 3ds\n"
     ]
    }
   ],
   "source": [
    "# посчитаем, есть ли взаимосвязь между отзывали пользователей и продажами\n",
    "print(\"{0:.2f} Коэффициент корреляции между отзывали критиков и продажами xone\".format(data.query('platform == \"xone\"')['critic_score'].corr(data.query('platform == \"xone\"')['total_sales'])))\n",
    "print(\"{0:.2f} Коэффициент корреляции между отзывали критиков и продажами 3ds\".format(data.query('platform == \"3ds\"')['critic_score'].corr(data.query('platform == \"3ds\"')['total_sales'])))"
   ]
  },
  {
   "cell_type": "markdown",
   "metadata": {},
   "source": [
    "У xone коэффициент корреляции Пирсона между критиками и продажами - 0.41, у 3ds - 0.32. Две слабые линейные зависимости. Как и у ps4."
   ]
  },
  {
   "cell_type": "code",
   "execution_count": 46,
   "metadata": {},
   "outputs": [
    {
     "data": {
      "text/plain": [
       "<AxesSubplot:xlabel='critic_score', ylabel='user_score'>"
      ]
     },
     "execution_count": 46,
     "metadata": {},
     "output_type": "execute_result"
    },
    {
     "data": {
      "image/png": "[encoded data removed]",
      "text/plain": [
       "<Figure size 432x288 with 1 Axes>"
      ]
     },
     "metadata": {
      "needs_background": "light"
     },
     "output_type": "display_data"
    }
   ],
   "source": [
    "# построим диаграмму рассеяния\n",
    "ax = data.query('platform == \"ps4\"').plot(x='critic_score', y = 'user_score', style = 'o', label = 'ps4')\n",
    "data.query('platform == \"xone\"').plot(x='critic_score', y = 'user_score', style = 'x', ax=ax, label = 'xone')\n",
    "data.query('platform == \"3ds\"').plot(kind = 'scatter', x='critic_score', y = 'user_score', color = 'green', grid=True, ax=ax, label = '3ds')"
   ]
  },
  {
   "cell_type": "markdown",
   "metadata": {},
   "source": [
    "На всех самых перспективных в выбранном периоде платформах. Имеется зависимость между оценками пользователей и критиков."
   ]
  },
  {
   "cell_type": "markdown",
   "metadata": {},
   "source": [
    "### Посмотрите на общее распределение игр по жанрам. Что можно сказать о самых прибыльных жанрах? Выделяются ли жанры с высокими и низкими продажами?"
   ]
  },
  {
   "cell_type": "code",
   "execution_count": 47,
   "metadata": {},
   "outputs": [
    {
     "data": {
      "text/plain": [
       "array(['action', 'adventure', 'fighting', 'misc', 'platform', 'puzzle',\n",
       "       'racing', 'role-playing', 'shooter', 'simulation', 'sports',\n",
       "       'strategy'], dtype=object)"
      ]
     },
     "execution_count": 47,
     "metadata": {},
     "output_type": "execute_result"
    }
   ],
   "source": [
    "# посмотрим какие жарны игры были выпущены в актуальном периоде\n",
    "data['genre'].sort_values().unique()"
   ]
  },
  {
   "cell_type": "code",
   "execution_count": 48,
   "metadata": {},
   "outputs": [
    {
     "data": {
      "text/html": [
       "<div>\n",
       "<style scoped>\n",
       "    .dataframe tbody tr th:only-of-type {\n",
       "        vertical-align: middle;\n",
       "    }\n",
       "\n",
       "    .dataframe tbody tr th {\n",
       "        vertical-align: top;\n",
       "    }\n",
       "\n",
       "    .dataframe thead th {\n",
       "        text-align: right;\n",
       "    }\n",
       "</style>\n",
       "<table border=\"1\" class=\"dataframe\">\n",
       "  <thead>\n",
       "    <tr style=\"text-align: right;\">\n",
       "      <th></th>\n",
       "      <th>name</th>\n",
       "    </tr>\n",
       "    <tr>\n",
       "      <th>genre</th>\n",
       "      <th></th>\n",
       "    </tr>\n",
       "  </thead>\n",
       "  <tbody>\n",
       "    <tr>\n",
       "      <th>action</th>\n",
       "      <td>1031</td>\n",
       "    </tr>\n",
       "    <tr>\n",
       "      <th>role-playing</th>\n",
       "      <td>370</td>\n",
       "    </tr>\n",
       "    <tr>\n",
       "      <th>adventure</th>\n",
       "      <td>302</td>\n",
       "    </tr>\n",
       "    <tr>\n",
       "      <th>sports</th>\n",
       "      <td>268</td>\n",
       "    </tr>\n",
       "    <tr>\n",
       "      <th>shooter</th>\n",
       "      <td>235</td>\n",
       "    </tr>\n",
       "    <tr>\n",
       "      <th>misc</th>\n",
       "      <td>192</td>\n",
       "    </tr>\n",
       "    <tr>\n",
       "      <th>racing</th>\n",
       "      <td>115</td>\n",
       "    </tr>\n",
       "    <tr>\n",
       "      <th>fighting</th>\n",
       "      <td>109</td>\n",
       "    </tr>\n",
       "    <tr>\n",
       "      <th>platform</th>\n",
       "      <td>85</td>\n",
       "    </tr>\n",
       "    <tr>\n",
       "      <th>simulation</th>\n",
       "      <td>80</td>\n",
       "    </tr>\n",
       "    <tr>\n",
       "      <th>strategy</th>\n",
       "      <td>71</td>\n",
       "    </tr>\n",
       "    <tr>\n",
       "      <th>puzzle</th>\n",
       "      <td>28</td>\n",
       "    </tr>\n",
       "  </tbody>\n",
       "</table>\n",
       "</div>"
      ],
      "text/plain": [
       "              name\n",
       "genre             \n",
       "action        1031\n",
       "role-playing   370\n",
       "adventure      302\n",
       "sports         268\n",
       "shooter        235\n",
       "misc           192\n",
       "racing         115\n",
       "fighting       109\n",
       "platform        85\n",
       "simulation      80\n",
       "strategy        71\n",
       "puzzle          28"
      ]
     },
     "execution_count": 48,
     "metadata": {},
     "output_type": "execute_result"
    }
   ],
   "source": [
    "# посчитаем сколько игр разных жанров выпустили\n",
    "popular_genre = data.groupby('genre').agg({'name':'count'})\n",
    "popular_genre.sort_values(by='name', ascending=False)"
   ]
  },
  {
   "cell_type": "markdown",
   "metadata": {},
   "source": [
    "С отрывом лидирует action."
   ]
  },
  {
   "cell_type": "code",
   "execution_count": 49,
   "metadata": {},
   "outputs": [
    {
     "data": {
      "text/plain": [
       "Text(0.5, 0, 'Количество продаж, мнл копий')"
      ]
     },
     "execution_count": 49,
     "metadata": {},
     "output_type": "execute_result"
    },
    {
     "data": {
      "image/png": "[encoded data removed]",
      "text/plain": [
       "<Figure size 432x288 with 1 Axes>"
      ]
     },
     "metadata": {
      "needs_background": "light"
     },
     "output_type": "display_data"
    }
   ],
   "source": [
    "# построим для наглядности гистограмму \n",
    "ax = popular_genre.sort_values(by='name', ascending=False).plot(kind='barh')\n",
    "plt.title('Общее распределение игр по жанрам')\n",
    "plt.xlabel('Количество продаж, мнл копий')"
   ]
  },
  {
   "cell_type": "markdown",
   "metadata": {},
   "source": [
    "Самыми непопулярными оказались пазлы, самыми выпускаемыми - экшены. Так же в пятерке лидеров оказались по убыванию: ролевые игры, приключения, спорт и шутеры."
   ]
  },
  {
   "cell_type": "code",
   "execution_count": 50,
   "metadata": {},
   "outputs": [
    {
     "data": {
      "image/png": "[encoded data removed]",
      "text/plain": [
       "<Figure size 720x720 with 1 Axes>"
      ]
     },
     "metadata": {
      "needs_background": "light"
     },
     "output_type": "display_data"
    }
   ],
   "source": [
    "# Посмотрим на жанры с точти зрения прибыли\n",
    "data.boxplot(column = 'total_sales', by = 'genre', figsize=(10,10))\n",
    "plt.ylim([0, 4])\n",
    "plt.xlabel('Название жанра')\n",
    "plt.ylabel('Количество проданых копий игр, млн')\n",
    "plt.title('Количество проданых копий игр для жанров за 2013-2016')\n",
    "plt.show()"
   ]
  },
  {
   "cell_type": "markdown",
   "metadata": {},
   "source": [
    "Из диаграммы размаха видим, что самые выпускамые и самые продаваемые игры - это две большие разницы. Лучше всего продаются шутеры, а у самых выпускаемых экшенов продажи часто улетают в выбросы."
   ]
  },
  {
   "cell_type": "code",
   "execution_count": 51,
   "metadata": {},
   "outputs": [
    {
     "data": {
      "text/html": [
       "<div>\n",
       "<style scoped>\n",
       "    .dataframe tbody tr th:only-of-type {\n",
       "        vertical-align: middle;\n",
       "    }\n",
       "\n",
       "    .dataframe tbody tr th {\n",
       "        vertical-align: top;\n",
       "    }\n",
       "\n",
       "    .dataframe thead th {\n",
       "        text-align: right;\n",
       "    }\n",
       "</style>\n",
       "<table border=\"1\" class=\"dataframe\">\n",
       "  <thead>\n",
       "    <tr style=\"text-align: right;\">\n",
       "      <th></th>\n",
       "      <th>total_sales</th>\n",
       "    </tr>\n",
       "    <tr>\n",
       "      <th>genre</th>\n",
       "      <th></th>\n",
       "    </tr>\n",
       "  </thead>\n",
       "  <tbody>\n",
       "    <tr>\n",
       "      <th>action</th>\n",
       "      <td>0.12</td>\n",
       "    </tr>\n",
       "    <tr>\n",
       "      <th>adventure</th>\n",
       "      <td>0.03</td>\n",
       "    </tr>\n",
       "    <tr>\n",
       "      <th>fighting</th>\n",
       "      <td>0.13</td>\n",
       "    </tr>\n",
       "    <tr>\n",
       "      <th>misc</th>\n",
       "      <td>0.12</td>\n",
       "    </tr>\n",
       "    <tr>\n",
       "      <th>platform</th>\n",
       "      <td>0.21</td>\n",
       "    </tr>\n",
       "    <tr>\n",
       "      <th>puzzle</th>\n",
       "      <td>0.04</td>\n",
       "    </tr>\n",
       "    <tr>\n",
       "      <th>racing</th>\n",
       "      <td>0.14</td>\n",
       "    </tr>\n",
       "    <tr>\n",
       "      <th>role-playing</th>\n",
       "      <td>0.14</td>\n",
       "    </tr>\n",
       "    <tr>\n",
       "      <th>shooter</th>\n",
       "      <td>0.44</td>\n",
       "    </tr>\n",
       "    <tr>\n",
       "      <th>simulation</th>\n",
       "      <td>0.12</td>\n",
       "    </tr>\n",
       "    <tr>\n",
       "      <th>sports</th>\n",
       "      <td>0.24</td>\n",
       "    </tr>\n",
       "    <tr>\n",
       "      <th>strategy</th>\n",
       "      <td>0.08</td>\n",
       "    </tr>\n",
       "  </tbody>\n",
       "</table>\n",
       "</div>"
      ],
      "text/plain": [
       "              total_sales\n",
       "genre                    \n",
       "action               0.12\n",
       "adventure            0.03\n",
       "fighting             0.13\n",
       "misc                 0.12\n",
       "platform             0.21\n",
       "puzzle               0.04\n",
       "racing               0.14\n",
       "role-playing         0.14\n",
       "shooter              0.44\n",
       "simulation           0.12\n",
       "sports               0.24\n",
       "strategy             0.08"
      ]
     },
     "execution_count": 51,
     "metadata": {},
     "output_type": "execute_result"
    }
   ],
   "source": [
    "# посчитаем медианные продажи по жанрам для оценки их прибыльности.\n",
    "data.groupby('genre').agg({'total_sales':'median'})"
   ]
  },
  {
   "cell_type": "markdown",
   "metadata": {},
   "source": [
    "На диаграмме размаха продаж увидели значительное количество выбросов, поэтому будем оценивать медианные продажи, как более устойчивые к выбросам:\n",
    "\n",
    "- Максимальные медианные продажи у шутеров 0,44 млн копий\n",
    "- Второе место занимает спорт 0,24 млн копий\n",
    "- На третьем платформеры 0,21 млн копий\n",
    "- Четвертое делят гонки и ролевые игры с продажами в 0,14 млн копий\n",
    "- Пятое место по продажам занимают драки 0,13 млн\n",
    "- Шестую позицию делят игры \"разных\" жанров, симуляции и экшены - 0,12 млн копий\n",
    "- Седьмое место у стратегий 0.08 млн копий\n",
    "- Восьмое пазлы 0.04\n",
    "- На девятом приключения 0.03\n",
    "\n",
    "Не важно сколько игры разных жанров вы придумали, медианные продажи говорят сами за себя. Пазлов очень мало, но продаются они лучше, чем приключения. Экшенов написали 1031, однако, спорт, которых 268 в указанном периоде, превосходят экшен по медианным продажам на 0,32 млн копий."
   ]
  },
  {
   "cell_type": "markdown",
   "metadata": {},
   "source": [
    "### Вывод по исследовательскому анализу данных"
   ]
  },
  {
   "cell_type": "markdown",
   "metadata": {},
   "source": [
    "Появились в 80-ых, затем было долго плато — мощностей не хватало, а на текстовых квестах много не заработаешь. С 95-года росли чипы видеоадаптеров в мощности, соответственно игр выпускалось все больше. С 2010 года спад, насыщение рынка, переход на мобильные платформы. Можно сказать, что данные до 1995 года не важны.\n",
    "\n",
    "Рассмотрели время \"жизни\" 10 самых продаваемых платформ. В среднем платформа довольно резко стартует, потом наступает плато, часто с небольшим \"проседанием\" по продажам, после продажи так же резко падают. После еще год - два идут минималье продажи и платформа \"умирает\".\n",
    "\n",
    "Определили период появления и исчезания платформ в 3,7 года. Будем считать его актуальным для прогноза на 2017. Данные заканчиваются 2016 годом, следовательно берем данные от 2012 по 2016.\n",
    "\n",
    "В определенном актуальном периоде все платформы \"падают\". На пике продаж в указанный период:\n",
    "\n",
    "* ps4\n",
    "* xone\n",
    "* 3ds\n",
    "\n",
    "Оценки пользователей не влияют на продажи, а оценки критиков влияют. Можно предположить, что критикам выгодно ставить высокие оценки, если пользователи высоко оценивают игру. На всех самых перспективных в выбранном периоде платформах. Лучше всего продаются шутеры. Экшенов много, но спорт берут чаще. Пазлов очень мало, но продаются они лучше, чем приключения. \n"
   ]
  },
  {
   "cell_type": "markdown",
   "metadata": {},
   "source": [
    "## Составьте портрет пользователя каждого региона\n",
    "\n",
    "Определите для пользователя каждого региона (NA, EU, JP):\n",
    "\n",
    "* Самые популярные платформы (топ-5). Опишите различия в долях продаж.\n",
    "* Самые популярные жанры (топ-5). Поясните разницу.\n",
    "* Влияет ли рейтинг ESRB на продажи в отдельном регионе?"
   ]
  },
  {
   "cell_type": "markdown",
   "metadata": {},
   "source": [
    "### Самые популярные платформы (топ-5). Опишите различия в долях продаж."
   ]
  },
  {
   "cell_type": "code",
   "execution_count": 52,
   "metadata": {},
   "outputs": [
    {
     "data": {
      "text/html": [
       "<div>\n",
       "<style scoped>\n",
       "    .dataframe tbody tr th:only-of-type {\n",
       "        vertical-align: middle;\n",
       "    }\n",
       "\n",
       "    .dataframe tbody tr th {\n",
       "        vertical-align: top;\n",
       "    }\n",
       "\n",
       "    .dataframe thead th {\n",
       "        text-align: right;\n",
       "    }\n",
       "</style>\n",
       "<table border=\"1\" class=\"dataframe\">\n",
       "  <thead>\n",
       "    <tr style=\"text-align: right;\">\n",
       "      <th></th>\n",
       "      <th>platform</th>\n",
       "      <th>na_sales</th>\n",
       "      <th>%_of_total</th>\n",
       "    </tr>\n",
       "  </thead>\n",
       "  <tbody>\n",
       "    <tr>\n",
       "      <th>0</th>\n",
       "      <td>x360</td>\n",
       "      <td>140.05</td>\n",
       "      <td>0.24</td>\n",
       "    </tr>\n",
       "    <tr>\n",
       "      <th>1</th>\n",
       "      <td>ps4</td>\n",
       "      <td>108.74</td>\n",
       "      <td>0.18</td>\n",
       "    </tr>\n",
       "    <tr>\n",
       "      <th>2</th>\n",
       "      <td>ps3</td>\n",
       "      <td>103.38</td>\n",
       "      <td>0.17</td>\n",
       "    </tr>\n",
       "    <tr>\n",
       "      <th>3</th>\n",
       "      <td>xone</td>\n",
       "      <td>93.12</td>\n",
       "      <td>0.16</td>\n",
       "    </tr>\n",
       "    <tr>\n",
       "      <th>4</th>\n",
       "      <td>3ds</td>\n",
       "      <td>55.31</td>\n",
       "      <td>0.09</td>\n",
       "    </tr>\n",
       "  </tbody>\n",
       "</table>\n",
       "</div>"
      ],
      "text/plain": [
       "  platform  na_sales  %_of_total\n",
       "0     x360    140.05        0.24\n",
       "1      ps4    108.74        0.18\n",
       "2      ps3    103.38        0.17\n",
       "3     xone     93.12        0.16\n",
       "4      3ds     55.31        0.09"
      ]
     },
     "execution_count": 52,
     "metadata": {},
     "output_type": "execute_result"
    }
   ],
   "source": [
    "# посчитаем количество и долю продаж по популярным платформам в северной америке\n",
    "platform_top_na = data.groupby ('platform').agg ({'na_sales': 'sum'}).sort_values (by ='na_sales', ascending = False).reset_index()\n",
    "platform_top_na['%_of_total'] = platform_top_na['na_sales'] / platform_top_na['na_sales'].sum()\n",
    "platform_top_na = platform_top_na.head()\n",
    "platform_top_na"
   ]
  },
  {
   "cell_type": "markdown",
   "metadata": {},
   "source": [
    "Из таблицы видим, что лидирующей приставкой является x360. Его выбирает 24% игроков Северной Америки. Количество проданых копий игр для x360 составило 140.05 млн. На втором месте ps4 - выбор 18% игроков и 108.74 млн проданых копий. Второе, третье и четвертое место отличаются друг от друга на 1% от общего числа игроков: 18, 17 и 16%. На пятом месте топ-5 - 3ds, 55.31млн проданых копий. Еще 16% игроков выбирают не такие популярные приставки."
   ]
  },
  {
   "cell_type": "code",
   "execution_count": 53,
   "metadata": {},
   "outputs": [
    {
     "data": {
      "text/html": [
       "<div>\n",
       "<style scoped>\n",
       "    .dataframe tbody tr th:only-of-type {\n",
       "        vertical-align: middle;\n",
       "    }\n",
       "\n",
       "    .dataframe tbody tr th {\n",
       "        vertical-align: top;\n",
       "    }\n",
       "\n",
       "    .dataframe thead th {\n",
       "        text-align: right;\n",
       "    }\n",
       "</style>\n",
       "<table border=\"1\" class=\"dataframe\">\n",
       "  <thead>\n",
       "    <tr style=\"text-align: right;\">\n",
       "      <th></th>\n",
       "      <th>platform</th>\n",
       "      <th>jp_sales</th>\n",
       "      <th>%_of_total</th>\n",
       "    </tr>\n",
       "  </thead>\n",
       "  <tbody>\n",
       "    <tr>\n",
       "      <th>0</th>\n",
       "      <td>3ds</td>\n",
       "      <td>87.79</td>\n",
       "      <td>0.46</td>\n",
       "    </tr>\n",
       "    <tr>\n",
       "      <th>1</th>\n",
       "      <td>ps3</td>\n",
       "      <td>35.29</td>\n",
       "      <td>0.18</td>\n",
       "    </tr>\n",
       "    <tr>\n",
       "      <th>2</th>\n",
       "      <td>psv</td>\n",
       "      <td>21.04</td>\n",
       "      <td>0.11</td>\n",
       "    </tr>\n",
       "    <tr>\n",
       "      <th>3</th>\n",
       "      <td>ps4</td>\n",
       "      <td>15.96</td>\n",
       "      <td>0.08</td>\n",
       "    </tr>\n",
       "    <tr>\n",
       "      <th>4</th>\n",
       "      <td>wiiu</td>\n",
       "      <td>13.01</td>\n",
       "      <td>0.07</td>\n",
       "    </tr>\n",
       "  </tbody>\n",
       "</table>\n",
       "</div>"
      ],
      "text/plain": [
       "  platform  jp_sales  %_of_total\n",
       "0      3ds     87.79        0.46\n",
       "1      ps3     35.29        0.18\n",
       "2      psv     21.04        0.11\n",
       "3      ps4     15.96        0.08\n",
       "4     wiiu     13.01        0.07"
      ]
     },
     "execution_count": 53,
     "metadata": {},
     "output_type": "execute_result"
    }
   ],
   "source": [
    "# посчитаем количество и долю продаж по популярным платформам в японии\n",
    "platform_top_jp = data.groupby ('platform').agg ({'jp_sales': 'sum'}).sort_values (by ='jp_sales', ascending = False).reset_index()\n",
    "platform_top_jp['%_of_total'] = platform_top_jp['jp_sales'] / platform_top_jp['jp_sales'].sum()\n",
    "platform_top_jp = platform_top_jp.head()\n",
    "platform_top_jp"
   ]
  },
  {
   "cell_type": "markdown",
   "metadata": {},
   "source": [
    "Из таблицы видим, что лидирующей приставкой является 3ds. Его выбирает 46% игроков Японии. Количество проданых копий игр для 3ds составило 87.79 млн. Со значительным отрывом на втором месте ps3. 35.29 млн проданых копий и 18% игроков. В psv играет 11% игроков и купили 21.04 млн копий игр. На четвертом месте ps4 - выбор 8% игроков. На пятом wiiu 7% игроков. Топ-5 приствок в Японии очень популярен, другие приставки выбирает всего 10% игроков."
   ]
  },
  {
   "cell_type": "code",
   "execution_count": 54,
   "metadata": {},
   "outputs": [
    {
     "data": {
      "text/html": [
       "<div>\n",
       "<style scoped>\n",
       "    .dataframe tbody tr th:only-of-type {\n",
       "        vertical-align: middle;\n",
       "    }\n",
       "\n",
       "    .dataframe tbody tr th {\n",
       "        vertical-align: top;\n",
       "    }\n",
       "\n",
       "    .dataframe thead th {\n",
       "        text-align: right;\n",
       "    }\n",
       "</style>\n",
       "<table border=\"1\" class=\"dataframe\">\n",
       "  <thead>\n",
       "    <tr style=\"text-align: right;\">\n",
       "      <th></th>\n",
       "      <th>platform</th>\n",
       "      <th>eu_sales</th>\n",
       "      <th>%_of_total</th>\n",
       "    </tr>\n",
       "  </thead>\n",
       "  <tbody>\n",
       "    <tr>\n",
       "      <th>0</th>\n",
       "      <td>ps4</td>\n",
       "      <td>141.09</td>\n",
       "      <td>0.28</td>\n",
       "    </tr>\n",
       "    <tr>\n",
       "      <th>1</th>\n",
       "      <td>ps3</td>\n",
       "      <td>106.86</td>\n",
       "      <td>0.21</td>\n",
       "    </tr>\n",
       "    <tr>\n",
       "      <th>2</th>\n",
       "      <td>x360</td>\n",
       "      <td>74.52</td>\n",
       "      <td>0.15</td>\n",
       "    </tr>\n",
       "    <tr>\n",
       "      <th>3</th>\n",
       "      <td>xone</td>\n",
       "      <td>51.59</td>\n",
       "      <td>0.10</td>\n",
       "    </tr>\n",
       "    <tr>\n",
       "      <th>4</th>\n",
       "      <td>3ds</td>\n",
       "      <td>42.64</td>\n",
       "      <td>0.08</td>\n",
       "    </tr>\n",
       "  </tbody>\n",
       "</table>\n",
       "</div>"
      ],
      "text/plain": [
       "  platform  eu_sales  %_of_total\n",
       "0      ps4    141.09        0.28\n",
       "1      ps3    106.86        0.21\n",
       "2     x360     74.52        0.15\n",
       "3     xone     51.59        0.10\n",
       "4      3ds     42.64        0.08"
      ]
     },
     "execution_count": 54,
     "metadata": {},
     "output_type": "execute_result"
    }
   ],
   "source": [
    "# посчитаем количество и долю продаж по популярным платформам в европе\n",
    "platform_top_eu = data.groupby ('platform').agg ({'eu_sales': 'sum'}).sort_values (by ='eu_sales', ascending = False).reset_index()\n",
    "platform_top_eu['%_of_total'] = platform_top_eu['eu_sales'] / platform_top_eu['eu_sales'].sum()\n",
    "platform_top_eu = platform_top_eu.head()\n",
    "platform_top_eu"
   ]
  },
  {
   "cell_type": "markdown",
   "metadata": {},
   "source": [
    "Из таблицы видим, что лидирующей приставкой является ps4. Его выбирает 28% игроков Европы. Количество проданых копий игр для ps4 составило 141.09 млн. С отрывом в 7% игроков и 34,23млн проданых копий игр на втором месте ps3. Третье место занимает x360 - выбор 15% игроков и 74.52 млн проданых копий игр. Четвертое место у xone, 10% игроков и 51.59 млн проданых копий игр. На пятом 3ds. Его выбирают 8% игроков. 18% игроков выбирает другие приставки."
   ]
  },
  {
   "cell_type": "code",
   "execution_count": 55,
   "metadata": {},
   "outputs": [
    {
     "data": {
      "text/plain": [
       "Text(0, 0.5, 'количество продаж игр в млн копий')"
      ]
     },
     "execution_count": 55,
     "metadata": {},
     "output_type": "execute_result"
    },
    {
     "data": {
      "image/png": "[encoded data removed]",
      "text/plain": [
       "<Figure size 1152x432 with 3 Axes>"
      ]
     },
     "metadata": {
      "needs_background": "light"
     },
     "output_type": "display_data"
    }
   ],
   "source": [
    "#графики в одну строку\n",
    "fig, (ax1, ax2, ax3) = plt.subplots(nrows=1, ncols=3, figsize=(16, 6))\n",
    "\n",
    "fig.suptitle('Самые популярные платформы (топ-5)', fontweight =\"bold\")\n",
    "\n",
    "#график по Северной Америке\n",
    "ax1 = sns.barplot(data=platform_top_na, x='platform', y='na_sales', ax=ax1)\n",
    "ax1.set_title('Северная Америка')\n",
    "ax1.set_xlabel('платформа')\n",
    "ax1.set_ylabel('количество продаж игр в млн копий')\n",
    "\n",
    "# график по Японии\n",
    "ax2 = sns.barplot(data=platform_top_jp, x='platform', y='jp_sales', ax=ax2)\n",
    "ax2.set_ylim(0,140)\n",
    "ax2.set_title('Япония')\n",
    "ax2.set_xlabel('платформа')\n",
    "ax2.set_ylabel('количество продаж игр в млн копий')\n",
    "\n",
    "# график по Европе\n",
    "ax3 = sns.barplot(data=platform_top_eu, x='platform', y='eu_sales', ax=ax3)\n",
    "ax3.set_title('Европа')\n",
    "ax3.set_xlabel('платформа')\n",
    "ax3.set_ylabel('количество продаж игр в млн копий')"
   ]
  },
  {
   "cell_type": "markdown",
   "metadata": {},
   "source": [
    "Из графика видим:\n",
    "\n",
    "- В Японии численность населения меньше, чем в США или Европе, соответственно меньше игроков и ниже продажи.\n",
    "\n",
    "- У Японии в топ-5 только приставки собственных производителей, приставки от Microsoft в топ-5 не вошли\n",
    "\n",
    "- На родине Майкрософта доминирует он же. Европа любит приставку Японии. Япония предпочитает портативную игру. В каждой стране лидирующия приставка имеет отрыв на не менее, чем 30млн копий игр от второй позиции. В Японии лидирующая приставка занимает чуть меньше, чем половину игроков. В Европе и Америке лидирующая приставка увлекает около четверти игроков.\n",
    "\n",
    "- ps3 занимает второе место в Европе и Японии\n",
    "\n",
    "- ps4 в Америке и Европе более популярен, чем ps3. В Японии наоборот.\n",
    "\n",
    "- xone и 3ds занимают четветрую и пятую позиции, как в Америке, так и в Европе. \n",
    "\n",
    "- psv и wiiu входят в топ-5 только в Японии и не популярен в других локациях."
   ]
  },
  {
   "cell_type": "markdown",
   "metadata": {},
   "source": [
    "### Самые популярные жанры (топ-5). Поясните разницу."
   ]
  },
  {
   "cell_type": "code",
   "execution_count": 56,
   "metadata": {},
   "outputs": [
    {
     "name": "stdout",
     "output_type": "stream",
     "text": [
      "              na_sales\n",
      "genre                 \n",
      "action          177.84\n",
      "shooter         144.77\n",
      "sports           81.53\n",
      "role-playing     64.00\n",
      "misc             38.19\n"
     ]
    },
    {
     "data": {
      "image/png": "[encoded data removed]",
      "text/plain": [
       "<Figure size 360x360 with 1 Axes>"
      ]
     },
     "metadata": {
      "needs_background": "light"
     },
     "output_type": "display_data"
    },
    {
     "name": "stdout",
     "output_type": "stream",
     "text": [
      "              eu_sales\n",
      "genre                 \n",
      "action          159.34\n",
      "shooter         113.47\n",
      "sports           69.09\n",
      "role-playing     48.53\n",
      "racing           27.29\n"
     ]
    },
    {
     "data": {
      "image/png": "[encoded data removed]",
      "text/plain": [
       "<Figure size 360x360 with 1 Axes>"
      ]
     },
     "metadata": {
      "needs_background": "light"
     },
     "output_type": "display_data"
    },
    {
     "name": "stdout",
     "output_type": "stream",
     "text": [
      "              jp_sales\n",
      "genre                 \n",
      "role-playing     65.44\n",
      "action           52.80\n",
      "misc             12.86\n",
      "simulation       10.41\n",
      "fighting          9.44\n"
     ]
    },
    {
     "data": {
      "image/png": "[encoded data removed]",
      "text/plain": [
       "<Figure size 360x360 with 1 Axes>"
      ]
     },
     "metadata": {
      "needs_background": "light"
     },
     "output_type": "display_data"
    }
   ],
   "source": [
    "# посчитаем продажи по жанрам для топ-5 по локациям\n",
    "def sales(info): # функция, которая все нарисует\n",
    "    countries = data[['na_sales', 'eu_sales', 'jp_sales']] # все нужные страны\n",
    "    for col in countries: # все колонки с продажами в нужных странах\n",
    "        pivot_table = data.pivot_table(index=info, values=col, aggfunc = 'sum').sort_values(col, ascending=False)\n",
    "        top_5 = pivot_table.head()\n",
    "        print(top_5)\n",
    "        \n",
    "        plt.figure(figsize=(5,5))\n",
    "        sns.barplot(data=top_5, x=top_5.index, y=col)\n",
    "        plt.show()\n",
    "    \n",
    "for info in ['genre']:\n",
    "    sales(info)"
   ]
  },
  {
   "cell_type": "markdown",
   "metadata": {},
   "source": [
    "В Северной Америке и Европе цифры приблизительно одинаковые:\n",
    "\n",
    "* Первые четыре пункта одинаковые по убыванию выбирают экшены, шутеры, спорт и ролевые игры. \n",
    "* На пятом месте в Америке все подряд, в Европе гонки. \n",
    "* Распредения выглядят примерно одинаково.\n",
    "\n",
    "В Японии:\n",
    "* На первом месте ролевые игры\n",
    "* Экшены на втором месте\n",
    "* Между третьим и вторым местом разница в продажах в 4 раза, что составило 39,9млн копий. На третьем месте все подряд.\n",
    "* Разница в продажах между третьим, четвертым и пятым местом в среднем 1,7млн копий"
   ]
  },
  {
   "cell_type": "markdown",
   "metadata": {},
   "source": [
    "### Влияет ли рейтинг ESRB на продажи в отдельном регионе?"
   ]
  },
  {
   "cell_type": "code",
   "execution_count": 57,
   "metadata": {},
   "outputs": [
    {
     "name": "stdout",
     "output_type": "stream",
     "text": [
      "         na_sales\n",
      "rating           \n",
      "m          231.57\n",
      "e          114.37\n",
      "unknown    103.31\n",
      "e10+        75.70\n",
      "t           66.02\n"
     ]
    },
    {
     "data": {
      "image/png": "[encoded data removed]",
      "text/plain": [
       "<Figure size 360x360 with 1 Axes>"
      ]
     },
     "metadata": {
      "needs_background": "light"
     },
     "output_type": "display_data"
    },
    {
     "name": "stdout",
     "output_type": "stream",
     "text": [
      "         eu_sales\n",
      "rating           \n",
      "m          193.96\n",
      "e          113.03\n",
      "unknown     91.50\n",
      "e10+        55.37\n",
      "t           52.96\n"
     ]
    },
    {
     "data": {
      "image/png": "[encoded data removed]",
      "text/plain": [
       "<Figure size 360x360 with 1 Axes>"
      ]
     },
     "metadata": {
      "needs_background": "light"
     },
     "output_type": "display_data"
    },
    {
     "name": "stdout",
     "output_type": "stream",
     "text": [
      "         jp_sales\n",
      "rating           \n",
      "unknown    108.84\n",
      "e           28.33\n",
      "t           26.02\n",
      "m           21.20\n",
      "e10+         8.19\n"
     ]
    },
    {
     "data": {
      "image/png": "[encoded data removed]",
      "text/plain": [
       "<Figure size 360x360 with 1 Axes>"
      ]
     },
     "metadata": {
      "needs_background": "light"
     },
     "output_type": "display_data"
    }
   ],
   "source": [
    "# посчитаем продажи по рейтингам для топ-5 по локациям\n",
    "def sales(info): # функция, которая все нарисует\n",
    "    countries = data[['na_sales', 'eu_sales', 'jp_sales']] # все нужные страны\n",
    "    for col in countries: # все колонки с продажами в нужных странах\n",
    "        pivot_table = data.pivot_table(index=info, values=col, aggfunc = 'sum').sort_values(col, ascending=False)\n",
    "        top_5 = pivot_table.head()\n",
    "        print(top_5)\n",
    "        \n",
    "        plt.figure(figsize=(5,5))\n",
    "        sns.barplot(data=top_5, x=top_5.index, y=col)\n",
    "        plt.show()\n",
    "    \n",
    "for info in ['rating']:\n",
    "    sales(info)"
   ]
  },
  {
   "cell_type": "markdown",
   "metadata": {},
   "source": [
    "Для Америки и Европы система рейтингов актуальна и влияет на продажи. Мы видим рейтинговые значения m и e на первых двух позициях, неопределенный рейтинг на третьем месте и рейтинговые значения e10+ и t на четвертом и пятом местах. Распределения приблизительно одинаковые. Продажи на втором месте составляет примерно половину от продаж на первом.\n",
    "\n",
    "Для Японии система рейтингов выглядит неактуальной и не влияющей на продажи. На первом месте неопределенный рейтинг. Системные рейтинги расположились от второго по четвертое места. Продажи на втором месте составляют приблизительно четверть от продаж на первом."
   ]
  },
  {
   "cell_type": "markdown",
   "metadata": {},
   "source": [
    "### Вывод по портрету пользователя:\n",
    "\n",
    "* Определены самые популярные платформы для каждой локации\n",
    "* Определены самые популярные жанры для каждой локации\n",
    "* Определено влияние рейтинга ESRB на продажи в отдельном регионе"
   ]
  },
  {
   "cell_type": "markdown",
   "metadata": {},
   "source": [
    "## Проверьте гипотезы"
   ]
  },
  {
   "cell_type": "markdown",
   "metadata": {},
   "source": [
    "* Средние пользовательские рейтинги платформ Xbox One и PC одинаковые;\n",
    "* Средние пользовательские рейтинги жанров Action (англ. «действие», экшенигры) и Sports (англ. «спортивные соревнования») разные."
   ]
  },
  {
   "cell_type": "markdown",
   "metadata": {},
   "source": [
    "Будем использовать t-критерий Стьюдента, так как сравниваемые выборки независимы между собой."
   ]
  },
  {
   "cell_type": "markdown",
   "metadata": {},
   "source": [
    "### Средние пользовательские рейтинги платформ Xbox One и PC одинаковые"
   ]
  },
  {
   "cell_type": "code",
   "execution_count": 58,
   "metadata": {},
   "outputs": [],
   "source": [
    "# зададим альфу\n",
    "alpha = 0.05"
   ]
  },
  {
   "cell_type": "code",
   "execution_count": 59,
   "metadata": {},
   "outputs": [],
   "source": [
    "# сформируем выборки \n",
    "xone = data[(data['platform'] == 'xone') & (data['user_score'] > 0)]['user_score'] # для игроков Xbox One\n",
    "pc = data[(data['platform'] == 'pc') & (data['user_score'] > 0)]['user_score'] # для игроков на компьютере"
   ]
  },
  {
   "cell_type": "code",
   "execution_count": 60,
   "metadata": {},
   "outputs": [
    {
     "data": {
      "text/plain": [
       "count   182.00\n",
       "mean      6.52\n",
       "std       1.38\n",
       "min       1.60\n",
       "25%       5.80\n",
       "50%       6.80\n",
       "75%       7.50\n",
       "max       9.20\n",
       "Name: user_score, dtype: float64"
      ]
     },
     "execution_count": 60,
     "metadata": {},
     "output_type": "execute_result"
    }
   ],
   "source": [
    "# посмотрим числовые значения выборки Xbox One \n",
    "xone.describe()"
   ]
  },
  {
   "cell_type": "markdown",
   "metadata": {},
   "source": [
    "Посмотрели на выборку рейтинга игроков для Xbox One. Всего 182 оценки. Средний балл 6.52. Медианное значение 6.8 балла. Минимальная оценка - 1.6 балла, максимальная - 9.2."
   ]
  },
  {
   "cell_type": "code",
   "execution_count": 61,
   "metadata": {},
   "outputs": [
    {
     "data": {
      "text/plain": [
       "count   206.00\n",
       "mean      6.43\n",
       "std       1.66\n",
       "min       1.40\n",
       "25%       5.50\n",
       "50%       6.80\n",
       "75%       7.70\n",
       "max       9.30\n",
       "Name: user_score, dtype: float64"
      ]
     },
     "execution_count": 61,
     "metadata": {},
     "output_type": "execute_result"
    }
   ],
   "source": [
    "# посмотрим числовые значения выборки PC\n",
    "pc.describe()"
   ]
  },
  {
   "cell_type": "markdown",
   "metadata": {},
   "source": [
    "Посмотрели на выборку рейтинга игроков для PC. Всего 206 оценок. Средний балл 6.43. Медианное значение 6.8 балла. Минимальная оценка 1.4, максимальная - 9.3."
   ]
  },
  {
   "cell_type": "markdown",
   "metadata": {},
   "source": [
    "Выборки очень похожи, однако, есть сомнения, что дисперсии у совокупностей одинаковые, параметр equal_var при вызове метода scipy.stats.ttest_ind() укажем, как False, и тест посчитает дисперсии выборок по отдельности.\n",
    "\n",
    "Будем использовать t-критерий Стьюдента, так как сравниваемые выборки независимы между собой.\n",
    "\n",
    "Гипотеза о равенстве средних двух генеральных совокупностей №1\n",
    "\n",
    "Гипотезы:\n",
    "* H0: средний пользовательский рейтинги платформ Xbox One и PC одинаковые\n",
    "* H1: средний пользовательский рейтинги платформ Xbox One и PC различаются"
   ]
  },
  {
   "cell_type": "code",
   "execution_count": 62,
   "metadata": {},
   "outputs": [],
   "source": [
    "results = st.ttest_ind(xone, pc, equal_var = False)"
   ]
  },
  {
   "cell_type": "code",
   "execution_count": 63,
   "metadata": {},
   "outputs": [
    {
     "name": "stdout",
     "output_type": "stream",
     "text": [
      "p-значение: 0.5489537965134912\n",
      "Не получилось отвергнуть нулевую гипотезу\n"
     ]
    }
   ],
   "source": [
    "print('p-значение:', results.pvalue)\n",
    "\n",
    "if (results.pvalue < alpha):\n",
    "    print(\"Отвергаем нулевую гипотезу\")\n",
    "else:\n",
    "    print(\"Не получилось отвергнуть нулевую гипотезу\")"
   ]
  },
  {
   "cell_type": "markdown",
   "metadata": {},
   "source": [
    "С вероятностью в 54% такой результат может быть получен случайно. Значимых различий нет."
   ]
  },
  {
   "cell_type": "markdown",
   "metadata": {},
   "source": [
    "### Средние пользовательские рейтинги жанров Action (англ. «действие», экшенигры) и Sports (англ. «спортивные соревнования») разные"
   ]
  },
  {
   "cell_type": "code",
   "execution_count": 64,
   "metadata": {},
   "outputs": [],
   "source": [
    "# сформируем выборки \n",
    "action = data[(data['genre'] == 'action') & (data['user_score'] > 0)]['user_score'] # для игроков в экшен\n",
    "sports = data[(data['genre'] == 'sports') & (data['user_score'] > 0)]['user_score'] # для игроков в спорт"
   ]
  },
  {
   "cell_type": "code",
   "execution_count": 65,
   "metadata": {},
   "outputs": [
    {
     "data": {
      "text/plain": [
       "count   523.00\n",
       "mean      6.83\n",
       "std       1.37\n",
       "min       1.60\n",
       "25%       6.25\n",
       "50%       7.10\n",
       "75%       7.80\n",
       "max       9.10\n",
       "Name: user_score, dtype: float64"
      ]
     },
     "execution_count": 65,
     "metadata": {},
     "output_type": "execute_result"
    }
   ],
   "source": [
    "# посмотрим числовые значения выборки PC\n",
    "action.describe()"
   ]
  },
  {
   "cell_type": "markdown",
   "metadata": {},
   "source": [
    "Смотрим числовые значения выборки action. Всего 523 оценки. Средний балл 6.83. Медианный 6.25. Минимальный балл 1.6, максимальный - 9.1."
   ]
  },
  {
   "cell_type": "code",
   "execution_count": 66,
   "metadata": {},
   "outputs": [
    {
     "data": {
      "text/plain": [
       "count   195.00\n",
       "mean      5.46\n",
       "std       1.74\n",
       "min       0.20\n",
       "25%       4.30\n",
       "50%       5.70\n",
       "75%       6.80\n",
       "max       8.80\n",
       "Name: user_score, dtype: float64"
      ]
     },
     "execution_count": 66,
     "metadata": {},
     "output_type": "execute_result"
    }
   ],
   "source": [
    "# посмотрим числовые значения выборки PC\n",
    "sports.describe()"
   ]
  },
  {
   "cell_type": "markdown",
   "metadata": {},
   "source": [
    "Смотрим числовые значения выборки sports. Всего 195 оценок. Средний балл 5.46. Медианный 5.7. Минимальный балл 0.2, максимальный - 8.8."
   ]
  },
  {
   "cell_type": "markdown",
   "metadata": {},
   "source": [
    "Выборки сильно различаются, есть сомнения, что дисперсии у совокупностей одинаковые, параметр equal_var при вызове метода scipy.stats.ttest_ind() укажем, как False, и тест посчитает дисперсии выборок по отдельности.\n",
    "\n",
    "Будем использовать t-критерий Стьюдента, так как сравниваемые выборки независимы между собой.\n",
    "\n",
    "Гипотеза о равенстве средних двух генеральных совокупностей №1\n",
    "\n",
    "Гипотезы:\n",
    "\n",
    "H0: средний пользовательский рейтинг жанров Action и Sports одинаковый\n",
    "H1: средний пользовательский рейтинг жанров Action и Sports различается"
   ]
  },
  {
   "cell_type": "code",
   "execution_count": 67,
   "metadata": {},
   "outputs": [],
   "source": [
    "results = st.ttest_ind(action, sports, equal_var = False)"
   ]
  },
  {
   "cell_type": "code",
   "execution_count": 68,
   "metadata": {},
   "outputs": [
    {
     "name": "stdout",
     "output_type": "stream",
     "text": [
      "p-значение: 4.24307776572644e-20\n",
      "Отвергаем нулевую гипотезу\n"
     ]
    }
   ],
   "source": [
    "print('p-значение:', results.pvalue)\n",
    "\n",
    "if (results.pvalue < alpha):\n",
    "    print(\"Отвергаем нулевую гипотезу\")\n",
    "else:\n",
    "    print(\"Не получилось отвергнуть нулевую гипотезу\")"
   ]
  },
  {
   "cell_type": "markdown",
   "metadata": {},
   "source": [
    "Разница не случайна, есть значимые различия между выборками"
   ]
  },
  {
   "cell_type": "markdown",
   "metadata": {},
   "source": [
    "### Результат исследования"
   ]
  },
  {
   "cell_type": "markdown",
   "metadata": {},
   "source": [
    "Средние пользовательские рейтинги платформ Xbox One и PC одинаковые и это не связано с популярностью платформы. Несмотря на то, что Xbox One находится в пятерке лидеров платфом в Европе и Америке, а PC не попал в топ-продаж нигде.\n",
    "\n",
    "Средние пользовательские рейтинги жанров Action  и Sports разные и это связано с популярностью жанра, но не с продажами. В Action играет много народу по всему миру, он входит в топ-5 по всем регионам. Спортивные игры выбирают Европа и Америка, а Япония их избегает. Медианные продажи у жанра спорт выше, но у экшенов сильнео больше игр."
   ]
  },
  {
   "cell_type": "markdown",
   "metadata": {},
   "source": [
    "## Общий вывод"
   ]
  },
  {
   "cell_type": "markdown",
   "metadata": {},
   "source": [
    "**В таблице 11 стоблцов.**\n",
    "\n",
    "Тип данных:\n",
    "\n",
    "* `float64` - 6 стоблцов,\n",
    "* `object` - 5 столбцов.\n",
    "\n",
    "В каждой строке таблицы — данные об играх: описательная часть с датами выпуска игр от 1980 по 2016г, а так же данные о продажах в разных странах и разные оценки игр. Предварительно можно утверждать, что, данных достаточно для проверки гипотез.\n",
    "\n",
    "Но встречаются проблемы с данными:\n",
    "\n",
    "* Есть пропущенные значения в столбцах\n",
    "* Смешаный регистр в названии столбца\n",
    "* Некорректные типы данных\n",
    "* Значение 'tbd' в столбце с оценкой пользователей"
   ]
  },
  {
   "cell_type": "markdown",
   "metadata": {},
   "source": [
    "**В подготовке данных данных:**\n",
    "\n",
    "* все строковые значения изменены на \"нижний\" регистр\n",
    "* заменены форматы данных в колонках \"год издания игры\" и \"оценка пользователей\"\n",
    "* определены и описаны вероятные причины появления пропусков\n",
    "* удалены строки с пропущенным годом, названием и жанром\n",
    "* остальные пропуски оставлены, чтобы не искажать картину анализа данных\n",
    "* создан столбец с суммарными продажами"
   ]
  },
  {
   "cell_type": "markdown",
   "metadata": {},
   "source": [
    "**Исследовательский анализ данных**\n",
    "\n",
    "Появились в 80-ых, затем было долго плато — мощностей не хватало, а на текстовых квестах много не заработаешь. С 95-года росли чипы видеоадаптеров в мощности, соответственно игр выпускалось все больше. С 2010 года спад, насыщение рынка, переход на мобильные платформы. Можно сказать, что данные до 1995 года не важны.\n",
    "\n",
    "Рассмотрели время \"жизни\" 10 самых продаваемых платформ. В среднем платформа довольно резко стартует, потом наступает плато, часто с небольшим \"проседанием\" по продажам, после продажи так же резко падают. После еще год - два идут минималье продажи и платформа \"умирает\".\n",
    "\n",
    "Определили период появления и исчезания платформ в 3,7 года. Будем считать его актуальным для прогноза на 2017. Данные заканчиваются 2016 годом, следовательно берем данные от 2012 по 2016.\n",
    "\n",
    "В определенном актуальном периоде все платформы \"падают\". На пике продаж в указанный период:\n",
    "\n",
    "* ps4\n",
    "* xone\n",
    "* 3ds\n",
    "\n",
    "Оценки пользователей не влияют на продажи, а оценки критиков влияют. Можно предположить, что критикам выгодно ставить высокие оценки, если пользователи высоко оценивают игру. На всех самых перспективных в выбранном периоде платформах. Лучше всего продаются шутеры. Экшенов много, но спорт берут чаще. Пазлов очень мало, но продаются они лучше, чем приключения."
   ]
  },
  {
   "cell_type": "markdown",
   "metadata": {},
   "source": [
    "**Портрет пользователя**\n",
    "\n",
    "В Японии численность населения меньше, чем в США или Европе, соответственно меньше игроков и ниже продажи. На родине Майкрософта доминирует он же. Европа любит приставку Японии. Япония предпочитает портативную игру. В каждой стране лидирующия приставка имеет отрыв на не менее, чем 30млн копий игр от второй позиции. В Японии лидирующая приставка занимает чуть меньше, чем половину игроков. В Европе и Америке лидирующая приставка увлекает около четверти игроков.\n",
    "\n",
    "В Северной Америке и Европе цифры приблизительно одинаковые:\n",
    "\n",
    "* Первые четыре пункта одинаковые по убыванию выбирают экшены, шутеры, спорт и ролевые игры. \n",
    "* На пятом месте в Америке все подряд, в Европе гонки. \n",
    "* Распредения выглядят примерно одинаково.\n",
    "\n",
    "В Японии:\n",
    "* На первом месте ролевые игры\n",
    "* Экшены на втором месте\n",
    "* Между третьим и вторым местом разница в продажах в 4 раза, что составило 39,9млн копий. На третьем месте все подряд.\n",
    "* Разница в продажах между третьим, четвертым и пятым местом в среднем 1,7млн копий"
   ]
  },
  {
   "cell_type": "markdown",
   "metadata": {},
   "source": [
    "Для Америки и Европы система рейтингов актуальна и влияет на продажи. Мы видим рейтинговые значения m и e на первых двух позициях, неопределенный рейтинг на третьем месте и рейтинговые значения e10+ и t на четвертом и пятом местах. Распределения приблизительно одинаковые. Продажи на втором месте составляет примерно половину от продаж на первом.\n",
    "\n",
    "Для Японии система рейтингов выглядит неактуальной и не влияющей на продажи. На первом месте неопределенный рейтинг. Системные рейтинги расположились от второго по четвертое места. Продажи на втором месте составляют приблизительно четверть от продаж на первом."
   ]
  },
  {
   "cell_type": "markdown",
   "metadata": {},
   "source": [
    "Средние пользовательские рейтинги платформ Xbox One и PC одинаковые и это не связано с популярностью платформы. Несмотря на то, что Xbox One находится в пятерке лидеров платфом в Европе и Америке, а PC не попал в топ-продаж нигде.\n",
    "\n",
    "Средние пользовательские рейтинги жанров Action и Sports разные и это связано с популярностью жанра, но не с продажами. В Action играет много народу по всему миру, он входит в топ-5 по всем регионам. Спортивные игры выбирают Европа и Америка, а Япония их избегает. Медианные продажи у жанра спорт выше, но у экшенов сильнео больше игр."
   ]
  },
  {
   "cell_type": "markdown",
   "metadata": {},
   "source": [
    "Геймдев выглядит печально уж 10 лет как. Тем не менее люди играть не перестали и разработчики тоже выпускают игры, хотя делают это более осмотрительно. \n",
    "\n",
    "**Рекомендации**\n",
    "\n",
    "* Внести рейтинговые значения для игр. Предоставить локальные рейтинги для стран, не использующих рейтинг ESRB\n",
    "* Указывать источники отзывов, заполнять набор данных без пропусков\n",
    "* Перед тем, как начать делать игру искать спонсора или инвестора"
   ]
  }
 ],
 "metadata": {
  "ExecuteTimeLog": [
   {
    "duration": 78,
    "start_time": "2022-02-12T03:34:26.723Z"
   },
   {
    "duration": 1383,
    "start_time": "2022-02-12T03:34:26.820Z"
   },
   {
    "duration": 61,
    "start_time": "2022-02-12T03:34:28.205Z"
   },
   {
    "duration": 14,
    "start_time": "2022-02-12T03:34:28.268Z"
   },
   {
    "duration": 39,
    "start_time": "2022-02-12T03:34:28.284Z"
   },
   {
    "duration": 16,
    "start_time": "2022-02-12T03:34:28.349Z"
   },
   {
    "duration": 45,
    "start_time": "2022-02-12T03:34:28.367Z"
   },
   {
    "duration": 24,
    "start_time": "2022-02-12T03:34:28.415Z"
   },
   {
    "duration": 37,
    "start_time": "2022-02-12T03:34:28.443Z"
   },
   {
    "duration": 22,
    "start_time": "2022-02-12T03:34:28.484Z"
   },
   {
    "duration": 26,
    "start_time": "2022-02-12T03:34:28.509Z"
   },
   {
    "duration": 13,
    "start_time": "2022-02-12T03:34:28.538Z"
   },
   {
    "duration": 35,
    "start_time": "2022-02-12T03:34:28.554Z"
   },
   {
    "duration": 23,
    "start_time": "2022-02-12T03:34:28.592Z"
   },
   {
    "duration": 38,
    "start_time": "2022-02-12T03:34:28.618Z"
   },
   {
    "duration": 11,
    "start_time": "2022-02-12T03:34:28.658Z"
   },
   {
    "duration": 12,
    "start_time": "2022-02-12T03:34:28.672Z"
   },
   {
    "duration": 10,
    "start_time": "2022-02-12T03:34:28.686Z"
   },
   {
    "duration": 51,
    "start_time": "2022-02-12T03:34:28.698Z"
   },
   {
    "duration": 16,
    "start_time": "2022-02-12T03:34:28.751Z"
   },
   {
    "duration": 15,
    "start_time": "2022-02-12T03:34:28.770Z"
   },
   {
    "duration": 23,
    "start_time": "2022-02-12T03:34:28.787Z"
   },
   {
    "duration": 38,
    "start_time": "2022-02-12T03:34:28.812Z"
   },
   {
    "duration": 447,
    "start_time": "2022-02-12T03:34:28.855Z"
   },
   {
    "duration": 10,
    "start_time": "2022-02-12T03:34:29.305Z"
   },
   {
    "duration": 33,
    "start_time": "2022-02-12T03:34:29.317Z"
   },
   {
    "duration": 301,
    "start_time": "2022-02-12T03:34:29.353Z"
   },
   {
    "duration": 4,
    "start_time": "2022-02-12T03:34:29.656Z"
   },
   {
    "duration": 495,
    "start_time": "2022-02-12T03:34:29.663Z"
   },
   {
    "duration": 4,
    "start_time": "2022-02-12T03:34:30.161Z"
   },
   {
    "duration": 37,
    "start_time": "2022-02-12T03:34:30.169Z"
   },
   {
    "duration": 28,
    "start_time": "2022-02-12T03:34:30.210Z"
   },
   {
    "duration": 61,
    "start_time": "2022-02-12T03:34:30.241Z"
   },
   {
    "duration": 35,
    "start_time": "2022-02-12T03:34:30.306Z"
   },
   {
    "duration": 493,
    "start_time": "2022-02-12T03:34:30.344Z"
   },
   {
    "duration": 752,
    "start_time": "2022-02-12T03:34:30.840Z"
   },
   {
    "duration": 13,
    "start_time": "2022-02-12T03:34:31.595Z"
   },
   {
    "duration": 476,
    "start_time": "2022-02-12T03:34:31.612Z"
   },
   {
    "duration": 728,
    "start_time": "2022-02-12T03:34:31.362Z"
   },
   {
    "duration": 725,
    "start_time": "2022-02-12T03:34:31.367Z"
   },
   {
    "duration": 719,
    "start_time": "2022-02-12T03:34:31.374Z"
   },
   {
    "duration": 714,
    "start_time": "2022-02-12T03:34:31.381Z"
   },
   {
    "duration": 712,
    "start_time": "2022-02-12T03:34:31.384Z"
   },
   {
    "duration": 710,
    "start_time": "2022-02-12T03:34:31.387Z"
   },
   {
    "duration": 709,
    "start_time": "2022-02-12T03:34:31.390Z"
   },
   {
    "duration": 708,
    "start_time": "2022-02-12T03:34:31.392Z"
   },
   {
    "duration": 707,
    "start_time": "2022-02-12T03:34:31.394Z"
   },
   {
    "duration": 1259,
    "start_time": "2022-02-12T03:36:44.133Z"
   },
   {
    "duration": 57,
    "start_time": "2022-02-12T03:36:45.395Z"
   },
   {
    "duration": 16,
    "start_time": "2022-02-12T03:36:45.455Z"
   },
   {
    "duration": 40,
    "start_time": "2022-02-12T03:36:45.475Z"
   },
   {
    "duration": 44,
    "start_time": "2022-02-12T03:36:45.518Z"
   },
   {
    "duration": 20,
    "start_time": "2022-02-12T03:36:45.564Z"
   },
   {
    "duration": 22,
    "start_time": "2022-02-12T03:36:45.587Z"
   },
   {
    "duration": 36,
    "start_time": "2022-02-12T03:36:45.613Z"
   },
   {
    "duration": 9,
    "start_time": "2022-02-12T03:36:45.652Z"
   },
   {
    "duration": 11,
    "start_time": "2022-02-12T03:36:45.663Z"
   },
   {
    "duration": 10,
    "start_time": "2022-02-12T03:36:45.676Z"
   },
   {
    "duration": 61,
    "start_time": "2022-02-12T03:36:45.689Z"
   },
   {
    "duration": 23,
    "start_time": "2022-02-12T03:36:45.754Z"
   },
   {
    "duration": 13,
    "start_time": "2022-02-12T03:36:45.780Z"
   },
   {
    "duration": 8,
    "start_time": "2022-02-12T03:36:45.796Z"
   },
   {
    "duration": 48,
    "start_time": "2022-02-12T03:36:45.807Z"
   },
   {
    "duration": 9,
    "start_time": "2022-02-12T03:36:45.858Z"
   },
   {
    "duration": 14,
    "start_time": "2022-02-12T03:36:45.870Z"
   },
   {
    "duration": 17,
    "start_time": "2022-02-12T03:36:45.886Z"
   },
   {
    "duration": 55,
    "start_time": "2022-02-12T03:36:45.906Z"
   },
   {
    "duration": 20,
    "start_time": "2022-02-12T03:36:45.964Z"
   },
   {
    "duration": 9,
    "start_time": "2022-02-12T03:36:45.987Z"
   },
   {
    "duration": 460,
    "start_time": "2022-02-12T03:36:46.001Z"
   },
   {
    "duration": 10,
    "start_time": "2022-02-12T03:36:46.464Z"
   },
   {
    "duration": 16,
    "start_time": "2022-02-12T03:36:46.476Z"
   },
   {
    "duration": 311,
    "start_time": "2022-02-12T03:36:46.494Z"
   },
   {
    "duration": 3,
    "start_time": "2022-02-12T03:36:46.808Z"
   },
   {
    "duration": 473,
    "start_time": "2022-02-12T03:36:46.813Z"
   },
   {
    "duration": 3,
    "start_time": "2022-02-12T03:36:47.289Z"
   },
   {
    "duration": 27,
    "start_time": "2022-02-12T03:36:47.295Z"
   },
   {
    "duration": 30,
    "start_time": "2022-02-12T03:36:47.324Z"
   },
   {
    "duration": 15,
    "start_time": "2022-02-12T03:36:47.356Z"
   },
   {
    "duration": 6,
    "start_time": "2022-02-12T03:36:47.374Z"
   },
   {
    "duration": 497,
    "start_time": "2022-02-12T03:36:47.382Z"
   },
   {
    "duration": 728,
    "start_time": "2022-02-12T03:36:47.882Z"
   },
   {
    "duration": 12,
    "start_time": "2022-02-12T03:36:48.612Z"
   },
   {
    "duration": 383,
    "start_time": "2022-02-12T03:36:48.627Z"
   },
   {
    "duration": 727,
    "start_time": "2022-02-12T03:36:48.286Z"
   },
   {
    "duration": 726,
    "start_time": "2022-02-12T03:36:48.289Z"
   },
   {
    "duration": 726,
    "start_time": "2022-02-12T03:36:48.292Z"
   },
   {
    "duration": 725,
    "start_time": "2022-02-12T03:36:48.295Z"
   },
   {
    "duration": 725,
    "start_time": "2022-02-12T03:36:48.297Z"
   },
   {
    "duration": 726,
    "start_time": "2022-02-12T03:36:48.298Z"
   },
   {
    "duration": 726,
    "start_time": "2022-02-12T03:36:48.300Z"
   },
   {
    "duration": 727,
    "start_time": "2022-02-12T03:36:48.302Z"
   },
   {
    "duration": 727,
    "start_time": "2022-02-12T03:36:48.304Z"
   },
   {
    "duration": 1326,
    "start_time": "2022-02-12T03:42:09.665Z"
   },
   {
    "duration": 62,
    "start_time": "2022-02-12T03:42:10.994Z"
   },
   {
    "duration": 14,
    "start_time": "2022-02-12T03:42:11.059Z"
   },
   {
    "duration": 38,
    "start_time": "2022-02-12T03:42:11.076Z"
   },
   {
    "duration": 45,
    "start_time": "2022-02-12T03:42:11.117Z"
   },
   {
    "duration": 20,
    "start_time": "2022-02-12T03:42:11.165Z"
   },
   {
    "duration": 12,
    "start_time": "2022-02-12T03:42:11.188Z"
   },
   {
    "duration": 44,
    "start_time": "2022-02-12T03:42:11.204Z"
   },
   {
    "duration": 11,
    "start_time": "2022-02-12T03:42:11.252Z"
   },
   {
    "duration": 8,
    "start_time": "2022-02-12T03:42:11.266Z"
   },
   {
    "duration": 9,
    "start_time": "2022-02-12T03:42:11.277Z"
   },
   {
    "duration": 78,
    "start_time": "2022-02-12T03:42:11.289Z"
   },
   {
    "duration": 22,
    "start_time": "2022-02-12T03:42:11.371Z"
   },
   {
    "duration": 14,
    "start_time": "2022-02-12T03:42:11.396Z"
   },
   {
    "duration": 42,
    "start_time": "2022-02-12T03:42:11.413Z"
   },
   {
    "duration": 9,
    "start_time": "2022-02-12T03:42:11.458Z"
   },
   {
    "duration": 9,
    "start_time": "2022-02-12T03:42:11.469Z"
   },
   {
    "duration": 12,
    "start_time": "2022-02-12T03:42:11.480Z"
   },
   {
    "duration": 56,
    "start_time": "2022-02-12T03:42:11.494Z"
   },
   {
    "duration": 15,
    "start_time": "2022-02-12T03:42:11.553Z"
   },
   {
    "duration": 23,
    "start_time": "2022-02-12T03:42:11.571Z"
   },
   {
    "duration": 8,
    "start_time": "2022-02-12T03:42:11.597Z"
   },
   {
    "duration": 473,
    "start_time": "2022-02-12T03:42:11.610Z"
   },
   {
    "duration": 11,
    "start_time": "2022-02-12T03:42:12.087Z"
   },
   {
    "duration": 21,
    "start_time": "2022-02-12T03:42:12.100Z"
   },
   {
    "duration": 333,
    "start_time": "2022-02-12T03:42:12.124Z"
   },
   {
    "duration": 3,
    "start_time": "2022-02-12T03:42:12.460Z"
   },
   {
    "duration": 489,
    "start_time": "2022-02-12T03:42:12.465Z"
   },
   {
    "duration": 3,
    "start_time": "2022-02-12T03:42:12.956Z"
   },
   {
    "duration": 27,
    "start_time": "2022-02-12T03:42:12.961Z"
   },
   {
    "duration": 7,
    "start_time": "2022-02-12T03:42:12.990Z"
   },
   {
    "duration": 50,
    "start_time": "2022-02-12T03:42:12.999Z"
   },
   {
    "duration": 6,
    "start_time": "2022-02-12T03:42:13.052Z"
   },
   {
    "duration": 699,
    "start_time": "2022-02-12T03:42:13.060Z"
   },
   {
    "duration": 905,
    "start_time": "2022-02-12T03:42:13.763Z"
   },
   {
    "duration": 11,
    "start_time": "2022-02-12T03:42:14.671Z"
   },
   {
    "duration": 368,
    "start_time": "2022-02-12T03:42:14.685Z"
   },
   {
    "duration": 739,
    "start_time": "2022-02-12T03:42:14.317Z"
   },
   {
    "duration": 736,
    "start_time": "2022-02-12T03:42:14.321Z"
   },
   {
    "duration": 735,
    "start_time": "2022-02-12T03:42:14.323Z"
   },
   {
    "duration": 733,
    "start_time": "2022-02-12T03:42:14.327Z"
   },
   {
    "duration": 731,
    "start_time": "2022-02-12T03:42:14.330Z"
   },
   {
    "duration": 729,
    "start_time": "2022-02-12T03:42:14.333Z"
   },
   {
    "duration": 728,
    "start_time": "2022-02-12T03:42:14.335Z"
   },
   {
    "duration": 728,
    "start_time": "2022-02-12T03:42:14.337Z"
   },
   {
    "duration": 713,
    "start_time": "2022-02-12T03:42:14.353Z"
   },
   {
    "duration": 1259,
    "start_time": "2022-02-12T03:48:05.796Z"
   },
   {
    "duration": 61,
    "start_time": "2022-02-12T03:48:07.058Z"
   },
   {
    "duration": 27,
    "start_time": "2022-02-12T03:48:07.122Z"
   },
   {
    "duration": 41,
    "start_time": "2022-02-12T03:48:07.152Z"
   },
   {
    "duration": 16,
    "start_time": "2022-02-12T03:48:07.195Z"
   },
   {
    "duration": 50,
    "start_time": "2022-02-12T03:48:07.213Z"
   },
   {
    "duration": 19,
    "start_time": "2022-02-12T03:48:07.266Z"
   },
   {
    "duration": 18,
    "start_time": "2022-02-12T03:48:07.289Z"
   },
   {
    "duration": 9,
    "start_time": "2022-02-12T03:48:07.310Z"
   },
   {
    "duration": 7,
    "start_time": "2022-02-12T03:48:07.349Z"
   },
   {
    "duration": 23,
    "start_time": "2022-02-12T03:48:07.358Z"
   },
   {
    "duration": 33,
    "start_time": "2022-02-12T03:48:07.384Z"
   },
   {
    "duration": 34,
    "start_time": "2022-02-12T03:48:07.419Z"
   },
   {
    "duration": 12,
    "start_time": "2022-02-12T03:48:07.455Z"
   },
   {
    "duration": 16,
    "start_time": "2022-02-12T03:48:07.469Z"
   },
   {
    "duration": 31,
    "start_time": "2022-02-12T03:48:07.487Z"
   },
   {
    "duration": 18,
    "start_time": "2022-02-12T03:48:07.520Z"
   },
   {
    "duration": 24,
    "start_time": "2022-02-12T03:48:07.541Z"
   },
   {
    "duration": 46,
    "start_time": "2022-02-12T03:48:07.567Z"
   },
   {
    "duration": 14,
    "start_time": "2022-02-12T03:48:07.615Z"
   },
   {
    "duration": 43,
    "start_time": "2022-02-12T03:48:07.632Z"
   },
   {
    "duration": 30,
    "start_time": "2022-02-12T03:48:07.678Z"
   },
   {
    "duration": 423,
    "start_time": "2022-02-12T03:48:07.714Z"
   },
   {
    "duration": 14,
    "start_time": "2022-02-12T03:48:08.139Z"
   },
   {
    "duration": 17,
    "start_time": "2022-02-12T03:48:08.156Z"
   },
   {
    "duration": 295,
    "start_time": "2022-02-12T03:48:08.175Z"
   },
   {
    "duration": 3,
    "start_time": "2022-02-12T03:48:08.472Z"
   },
   {
    "duration": 475,
    "start_time": "2022-02-12T03:48:08.477Z"
   },
   {
    "duration": 3,
    "start_time": "2022-02-12T03:48:08.954Z"
   },
   {
    "duration": 28,
    "start_time": "2022-02-12T03:48:08.960Z"
   },
   {
    "duration": 8,
    "start_time": "2022-02-12T03:48:08.990Z"
   },
   {
    "duration": 14,
    "start_time": "2022-02-12T03:48:09.000Z"
   },
   {
    "duration": 35,
    "start_time": "2022-02-12T03:48:09.016Z"
   },
   {
    "duration": 466,
    "start_time": "2022-02-12T03:48:09.054Z"
   },
   {
    "duration": 731,
    "start_time": "2022-02-12T03:48:09.523Z"
   },
   {
    "duration": 12,
    "start_time": "2022-02-12T03:48:10.257Z"
   },
   {
    "duration": 407,
    "start_time": "2022-02-12T03:48:10.272Z"
   },
   {
    "duration": 12,
    "start_time": "2022-02-12T03:48:10.681Z"
   },
   {
    "duration": 391,
    "start_time": "2022-02-12T03:48:10.696Z"
   },
   {
    "duration": 13,
    "start_time": "2022-02-12T03:48:11.089Z"
   },
   {
    "duration": 402,
    "start_time": "2022-02-12T03:48:11.104Z"
   },
   {
    "duration": 13,
    "start_time": "2022-02-12T03:48:11.509Z"
   },
   {
    "duration": 32,
    "start_time": "2022-02-12T03:48:11.524Z"
   },
   {
    "duration": 12,
    "start_time": "2022-02-12T03:48:11.559Z"
   },
   {
    "duration": 12,
    "start_time": "2022-02-12T03:48:11.573Z"
   },
   {
    "duration": 624,
    "start_time": "2022-02-12T03:48:11.588Z"
   },
   {
    "duration": 343,
    "start_time": "2022-02-12T03:53:41.228Z"
   },
   {
    "duration": 5624,
    "start_time": "2022-02-12T03:53:52.283Z"
   },
   {
    "duration": 16,
    "start_time": "2022-02-12T03:54:04.442Z"
   },
   {
    "duration": 7,
    "start_time": "2022-02-12T03:58:38.012Z"
   },
   {
    "duration": 1455,
    "start_time": "2022-02-12T03:58:46.829Z"
   },
   {
    "duration": 63,
    "start_time": "2022-02-12T03:58:48.286Z"
   },
   {
    "duration": 13,
    "start_time": "2022-02-12T03:58:48.353Z"
   },
   {
    "duration": 39,
    "start_time": "2022-02-12T03:58:48.369Z"
   },
   {
    "duration": 40,
    "start_time": "2022-02-12T03:58:48.410Z"
   },
   {
    "duration": 13,
    "start_time": "2022-02-12T03:58:48.452Z"
   },
   {
    "duration": 14,
    "start_time": "2022-02-12T03:58:48.467Z"
   },
   {
    "duration": 19,
    "start_time": "2022-02-12T03:58:48.485Z"
   },
   {
    "duration": 43,
    "start_time": "2022-02-12T03:58:48.507Z"
   },
   {
    "duration": 7,
    "start_time": "2022-02-12T03:58:48.552Z"
   },
   {
    "duration": 9,
    "start_time": "2022-02-12T03:58:48.561Z"
   },
   {
    "duration": 32,
    "start_time": "2022-02-12T03:58:48.572Z"
   },
   {
    "duration": 59,
    "start_time": "2022-02-12T03:58:48.606Z"
   },
   {
    "duration": 12,
    "start_time": "2022-02-12T03:58:48.667Z"
   },
   {
    "duration": 9,
    "start_time": "2022-02-12T03:58:48.681Z"
   },
   {
    "duration": 9,
    "start_time": "2022-02-12T03:58:48.692Z"
   },
   {
    "duration": 49,
    "start_time": "2022-02-12T03:58:48.703Z"
   },
   {
    "duration": 17,
    "start_time": "2022-02-12T03:58:48.755Z"
   },
   {
    "duration": 33,
    "start_time": "2022-02-12T03:58:48.774Z"
   },
   {
    "duration": 43,
    "start_time": "2022-02-12T03:58:48.809Z"
   },
   {
    "duration": 23,
    "start_time": "2022-02-12T03:58:48.856Z"
   },
   {
    "duration": 9,
    "start_time": "2022-02-12T03:58:48.882Z"
   },
   {
    "duration": 474,
    "start_time": "2022-02-12T03:58:48.899Z"
   },
   {
    "duration": 9,
    "start_time": "2022-02-12T03:58:49.376Z"
   },
   {
    "duration": 15,
    "start_time": "2022-02-12T03:58:49.388Z"
   },
   {
    "duration": 313,
    "start_time": "2022-02-12T03:58:49.405Z"
   },
   {
    "duration": 3,
    "start_time": "2022-02-12T03:58:49.720Z"
   },
   {
    "duration": 473,
    "start_time": "2022-02-12T03:58:49.726Z"
   },
   {
    "duration": 3,
    "start_time": "2022-02-12T03:58:50.202Z"
   },
   {
    "duration": 49,
    "start_time": "2022-02-12T03:58:50.207Z"
   },
   {
    "duration": 7,
    "start_time": "2022-02-12T03:58:50.258Z"
   },
   {
    "duration": 16,
    "start_time": "2022-02-12T03:58:50.268Z"
   },
   {
    "duration": 6,
    "start_time": "2022-02-12T03:58:50.286Z"
   },
   {
    "duration": 506,
    "start_time": "2022-02-12T03:58:50.295Z"
   },
   {
    "duration": 729,
    "start_time": "2022-02-12T03:58:50.804Z"
   },
   {
    "duration": 25,
    "start_time": "2022-02-12T03:58:51.536Z"
   },
   {
    "duration": 397,
    "start_time": "2022-02-12T03:58:51.564Z"
   },
   {
    "duration": 14,
    "start_time": "2022-02-12T03:58:51.965Z"
   },
   {
    "duration": 510,
    "start_time": "2022-02-12T03:58:51.982Z"
   },
   {
    "duration": 15,
    "start_time": "2022-02-12T03:58:52.496Z"
   },
   {
    "duration": 397,
    "start_time": "2022-02-12T03:58:52.513Z"
   },
   {
    "duration": 14,
    "start_time": "2022-02-12T03:58:52.913Z"
   },
   {
    "duration": 14,
    "start_time": "2022-02-12T03:58:52.949Z"
   },
   {
    "duration": 13,
    "start_time": "2022-02-12T03:58:52.966Z"
   },
   {
    "duration": 15,
    "start_time": "2022-02-12T03:58:52.982Z"
   },
   {
    "duration": 585,
    "start_time": "2022-02-12T03:58:53.000Z"
   },
   {
    "duration": 8,
    "start_time": "2022-02-12T03:58:53.588Z"
   },
   {
    "duration": 21,
    "start_time": "2022-02-12T03:58:53.599Z"
   },
   {
    "duration": 354,
    "start_time": "2022-02-12T03:58:53.648Z"
   },
   {
    "duration": 1204,
    "start_time": "2022-02-12T03:59:55.897Z"
   },
   {
    "duration": 72,
    "start_time": "2022-02-12T03:59:57.104Z"
   },
   {
    "duration": 16,
    "start_time": "2022-02-12T03:59:57.180Z"
   },
   {
    "duration": 67,
    "start_time": "2022-02-12T03:59:57.200Z"
   },
   {
    "duration": 17,
    "start_time": "2022-02-12T03:59:57.270Z"
   },
   {
    "duration": 21,
    "start_time": "2022-02-12T03:59:57.289Z"
   },
   {
    "duration": 43,
    "start_time": "2022-02-12T03:59:57.314Z"
   },
   {
    "duration": 15,
    "start_time": "2022-02-12T03:59:57.364Z"
   },
   {
    "duration": 11,
    "start_time": "2022-02-12T03:59:57.382Z"
   },
   {
    "duration": 6,
    "start_time": "2022-02-12T03:59:57.396Z"
   },
   {
    "duration": 49,
    "start_time": "2022-02-12T03:59:57.404Z"
   },
   {
    "duration": 33,
    "start_time": "2022-02-12T03:59:57.456Z"
   },
   {
    "duration": 21,
    "start_time": "2022-02-12T03:59:57.491Z"
   },
   {
    "duration": 39,
    "start_time": "2022-02-12T03:59:57.515Z"
   },
   {
    "duration": 8,
    "start_time": "2022-02-12T03:59:57.557Z"
   },
   {
    "duration": 8,
    "start_time": "2022-02-12T03:59:57.568Z"
   },
   {
    "duration": 13,
    "start_time": "2022-02-12T03:59:57.578Z"
   },
   {
    "duration": 60,
    "start_time": "2022-02-12T03:59:57.593Z"
   },
   {
    "duration": 36,
    "start_time": "2022-02-12T03:59:57.655Z"
   },
   {
    "duration": 18,
    "start_time": "2022-02-12T03:59:57.693Z"
   },
   {
    "duration": 46,
    "start_time": "2022-02-12T03:59:57.713Z"
   },
   {
    "duration": 10,
    "start_time": "2022-02-12T03:59:57.762Z"
   },
   {
    "duration": 440,
    "start_time": "2022-02-12T03:59:57.780Z"
   },
   {
    "duration": 25,
    "start_time": "2022-02-12T03:59:58.224Z"
   },
   {
    "duration": 15,
    "start_time": "2022-02-12T03:59:58.252Z"
   },
   {
    "duration": 301,
    "start_time": "2022-02-12T03:59:58.269Z"
   },
   {
    "duration": 3,
    "start_time": "2022-02-12T03:59:58.573Z"
   },
   {
    "duration": 462,
    "start_time": "2022-02-12T03:59:58.579Z"
   },
   {
    "duration": 5,
    "start_time": "2022-02-12T03:59:59.044Z"
   },
   {
    "duration": 26,
    "start_time": "2022-02-12T03:59:59.051Z"
   },
   {
    "duration": 7,
    "start_time": "2022-02-12T03:59:59.080Z"
   },
   {
    "duration": 13,
    "start_time": "2022-02-12T03:59:59.089Z"
   },
   {
    "duration": 45,
    "start_time": "2022-02-12T03:59:59.105Z"
   },
   {
    "duration": 461,
    "start_time": "2022-02-12T03:59:59.153Z"
   },
   {
    "duration": 748,
    "start_time": "2022-02-12T03:59:59.616Z"
   },
   {
    "duration": 13,
    "start_time": "2022-02-12T04:00:00.366Z"
   },
   {
    "duration": 413,
    "start_time": "2022-02-12T04:00:00.381Z"
   },
   {
    "duration": 12,
    "start_time": "2022-02-12T04:00:00.796Z"
   },
   {
    "duration": 389,
    "start_time": "2022-02-12T04:00:00.811Z"
   },
   {
    "duration": 14,
    "start_time": "2022-02-12T04:00:01.203Z"
   },
   {
    "duration": 404,
    "start_time": "2022-02-12T04:00:01.219Z"
   },
   {
    "duration": 22,
    "start_time": "2022-02-12T04:00:01.626Z"
   },
   {
    "duration": 15,
    "start_time": "2022-02-12T04:00:01.651Z"
   },
   {
    "duration": 19,
    "start_time": "2022-02-12T04:00:01.668Z"
   },
   {
    "duration": 25,
    "start_time": "2022-02-12T04:00:01.690Z"
   },
   {
    "duration": 591,
    "start_time": "2022-02-12T04:00:01.719Z"
   },
   {
    "duration": 378,
    "start_time": "2022-02-12T04:00:02.312Z"
   },
   {
    "duration": 749,
    "start_time": "2022-02-12T04:00:01.943Z"
   },
   {
    "duration": 748,
    "start_time": "2022-02-12T04:00:01.946Z"
   },
   {
    "duration": 10,
    "start_time": "2022-02-12T04:01:10.844Z"
   },
   {
    "duration": 16,
    "start_time": "2022-02-12T04:01:57.849Z"
   },
   {
    "duration": 267,
    "start_time": "2022-02-12T04:02:08.194Z"
   },
   {
    "duration": 241,
    "start_time": "2022-02-12T04:05:10.952Z"
   },
   {
    "duration": 426,
    "start_time": "2022-02-12T04:06:31.200Z"
   },
   {
    "duration": 415,
    "start_time": "2022-02-12T04:07:38.768Z"
   },
   {
    "duration": 236,
    "start_time": "2022-02-12T04:08:53.039Z"
   },
   {
    "duration": 1325,
    "start_time": "2022-02-12T04:09:03.422Z"
   },
   {
    "duration": 58,
    "start_time": "2022-02-12T04:09:04.750Z"
   },
   {
    "duration": 14,
    "start_time": "2022-02-12T04:09:04.811Z"
   },
   {
    "duration": 54,
    "start_time": "2022-02-12T04:09:04.828Z"
   },
   {
    "duration": 15,
    "start_time": "2022-02-12T04:09:04.885Z"
   },
   {
    "duration": 19,
    "start_time": "2022-02-12T04:09:04.903Z"
   },
   {
    "duration": 12,
    "start_time": "2022-02-12T04:09:04.949Z"
   },
   {
    "duration": 12,
    "start_time": "2022-02-12T04:09:04.965Z"
   },
   {
    "duration": 9,
    "start_time": "2022-02-12T04:09:04.981Z"
   },
   {
    "duration": 6,
    "start_time": "2022-02-12T04:09:04.992Z"
   },
   {
    "duration": 50,
    "start_time": "2022-02-12T04:09:05.000Z"
   },
   {
    "duration": 32,
    "start_time": "2022-02-12T04:09:05.052Z"
   },
   {
    "duration": 22,
    "start_time": "2022-02-12T04:09:05.086Z"
   },
   {
    "duration": 45,
    "start_time": "2022-02-12T04:09:05.110Z"
   },
   {
    "duration": 9,
    "start_time": "2022-02-12T04:09:05.157Z"
   },
   {
    "duration": 9,
    "start_time": "2022-02-12T04:09:05.168Z"
   },
   {
    "duration": 13,
    "start_time": "2022-02-12T04:09:05.179Z"
   },
   {
    "duration": 55,
    "start_time": "2022-02-12T04:09:05.195Z"
   },
   {
    "duration": 32,
    "start_time": "2022-02-12T04:09:05.252Z"
   },
   {
    "duration": 17,
    "start_time": "2022-02-12T04:09:05.287Z"
   },
   {
    "duration": 44,
    "start_time": "2022-02-12T04:09:05.306Z"
   },
   {
    "duration": 10,
    "start_time": "2022-02-12T04:09:05.352Z"
   },
   {
    "duration": 450,
    "start_time": "2022-02-12T04:09:05.367Z"
   },
   {
    "duration": 10,
    "start_time": "2022-02-12T04:09:05.820Z"
   },
   {
    "duration": 35,
    "start_time": "2022-02-12T04:09:05.832Z"
   },
   {
    "duration": 289,
    "start_time": "2022-02-12T04:09:05.870Z"
   },
   {
    "duration": 3,
    "start_time": "2022-02-12T04:09:06.162Z"
   },
   {
    "duration": 474,
    "start_time": "2022-02-12T04:09:06.167Z"
   },
   {
    "duration": 3,
    "start_time": "2022-02-12T04:09:06.648Z"
   },
   {
    "duration": 27,
    "start_time": "2022-02-12T04:09:06.654Z"
   },
   {
    "duration": 8,
    "start_time": "2022-02-12T04:09:06.684Z"
   },
   {
    "duration": 16,
    "start_time": "2022-02-12T04:09:06.694Z"
   },
   {
    "duration": 39,
    "start_time": "2022-02-12T04:09:06.713Z"
   },
   {
    "duration": 505,
    "start_time": "2022-02-12T04:09:06.754Z"
   },
   {
    "duration": 1073,
    "start_time": "2022-02-12T04:09:07.263Z"
   },
   {
    "duration": 17,
    "start_time": "2022-02-12T04:09:08.339Z"
   },
   {
    "duration": 402,
    "start_time": "2022-02-12T04:09:08.359Z"
   },
   {
    "duration": 12,
    "start_time": "2022-02-12T04:09:08.764Z"
   },
   {
    "duration": 393,
    "start_time": "2022-02-12T04:09:08.778Z"
   },
   {
    "duration": 12,
    "start_time": "2022-02-12T04:09:09.174Z"
   },
   {
    "duration": 407,
    "start_time": "2022-02-12T04:09:09.189Z"
   },
   {
    "duration": 12,
    "start_time": "2022-02-12T04:09:09.598Z"
   },
   {
    "duration": 13,
    "start_time": "2022-02-12T04:09:09.613Z"
   },
   {
    "duration": 29,
    "start_time": "2022-02-12T04:09:09.629Z"
   },
   {
    "duration": 13,
    "start_time": "2022-02-12T04:09:09.661Z"
   },
   {
    "duration": 600,
    "start_time": "2022-02-12T04:09:09.676Z"
   },
   {
    "duration": 10,
    "start_time": "2022-02-12T04:09:10.279Z"
   },
   {
    "duration": 22,
    "start_time": "2022-02-12T04:09:10.292Z"
   },
   {
    "duration": 321,
    "start_time": "2022-02-12T04:09:10.316Z"
   },
   {
    "duration": 1228,
    "start_time": "2022-02-12T04:09:25.579Z"
   },
   {
    "duration": 61,
    "start_time": "2022-02-12T04:09:26.809Z"
   },
   {
    "duration": 13,
    "start_time": "2022-02-12T04:09:26.873Z"
   },
   {
    "duration": 63,
    "start_time": "2022-02-12T04:09:26.890Z"
   },
   {
    "duration": 17,
    "start_time": "2022-02-12T04:09:26.956Z"
   },
   {
    "duration": 15,
    "start_time": "2022-02-12T04:09:26.975Z"
   },
   {
    "duration": 12,
    "start_time": "2022-02-12T04:09:26.993Z"
   },
   {
    "duration": 48,
    "start_time": "2022-02-12T04:09:27.009Z"
   },
   {
    "duration": 13,
    "start_time": "2022-02-12T04:09:27.061Z"
   },
   {
    "duration": 8,
    "start_time": "2022-02-12T04:09:27.077Z"
   },
   {
    "duration": 9,
    "start_time": "2022-02-12T04:09:27.088Z"
   },
   {
    "duration": 77,
    "start_time": "2022-02-12T04:09:27.100Z"
   },
   {
    "duration": 22,
    "start_time": "2022-02-12T04:09:27.180Z"
   },
   {
    "duration": 11,
    "start_time": "2022-02-12T04:09:27.205Z"
   },
   {
    "duration": 11,
    "start_time": "2022-02-12T04:09:27.249Z"
   },
   {
    "duration": 11,
    "start_time": "2022-02-12T04:09:27.262Z"
   },
   {
    "duration": 13,
    "start_time": "2022-02-12T04:09:27.276Z"
   },
   {
    "duration": 21,
    "start_time": "2022-02-12T04:09:27.292Z"
   },
   {
    "duration": 34,
    "start_time": "2022-02-12T04:09:27.349Z"
   },
   {
    "duration": 18,
    "start_time": "2022-02-12T04:09:27.386Z"
   },
   {
    "duration": 41,
    "start_time": "2022-02-12T04:09:27.407Z"
   },
   {
    "duration": 10,
    "start_time": "2022-02-12T04:09:27.451Z"
   },
   {
    "duration": 461,
    "start_time": "2022-02-12T04:09:27.466Z"
   },
   {
    "duration": 22,
    "start_time": "2022-02-12T04:09:27.930Z"
   },
   {
    "duration": 18,
    "start_time": "2022-02-12T04:09:27.954Z"
   },
   {
    "duration": 307,
    "start_time": "2022-02-12T04:09:27.975Z"
   },
   {
    "duration": 4,
    "start_time": "2022-02-12T04:09:28.284Z"
   },
   {
    "duration": 479,
    "start_time": "2022-02-12T04:09:28.290Z"
   },
   {
    "duration": 3,
    "start_time": "2022-02-12T04:09:28.771Z"
   },
   {
    "duration": 36,
    "start_time": "2022-02-12T04:09:28.777Z"
   },
   {
    "duration": 8,
    "start_time": "2022-02-12T04:09:28.816Z"
   },
   {
    "duration": 12,
    "start_time": "2022-02-12T04:09:28.849Z"
   },
   {
    "duration": 11,
    "start_time": "2022-02-12T04:09:28.863Z"
   },
   {
    "duration": 506,
    "start_time": "2022-02-12T04:09:28.877Z"
   },
   {
    "duration": 769,
    "start_time": "2022-02-12T04:09:29.386Z"
   },
   {
    "duration": 15,
    "start_time": "2022-02-12T04:09:30.158Z"
   },
   {
    "duration": 417,
    "start_time": "2022-02-12T04:09:30.177Z"
   },
   {
    "duration": 14,
    "start_time": "2022-02-12T04:09:30.597Z"
   },
   {
    "duration": 399,
    "start_time": "2022-02-12T04:09:30.613Z"
   },
   {
    "duration": 13,
    "start_time": "2022-02-12T04:09:31.015Z"
   },
   {
    "duration": 400,
    "start_time": "2022-02-12T04:09:31.030Z"
   },
   {
    "duration": 22,
    "start_time": "2022-02-12T04:09:31.432Z"
   },
   {
    "duration": 18,
    "start_time": "2022-02-12T04:09:31.456Z"
   },
   {
    "duration": 17,
    "start_time": "2022-02-12T04:09:31.476Z"
   },
   {
    "duration": 16,
    "start_time": "2022-02-12T04:09:31.495Z"
   },
   {
    "duration": 593,
    "start_time": "2022-02-12T04:09:31.514Z"
   },
   {
    "duration": 13,
    "start_time": "2022-02-12T04:09:32.110Z"
   },
   {
    "duration": 35,
    "start_time": "2022-02-12T04:09:32.126Z"
   },
   {
    "duration": 359,
    "start_time": "2022-02-12T04:09:32.164Z"
   },
   {
    "duration": 722,
    "start_time": "2022-02-12T05:26:57.022Z"
   },
   {
    "duration": 591,
    "start_time": "2022-02-12T05:27:36.003Z"
   },
   {
    "duration": 591,
    "start_time": "2022-02-12T05:27:53.395Z"
   },
   {
    "duration": 1277,
    "start_time": "2022-02-12T05:28:12.115Z"
   },
   {
    "duration": 61,
    "start_time": "2022-02-12T05:28:13.394Z"
   },
   {
    "duration": 14,
    "start_time": "2022-02-12T05:28:13.458Z"
   },
   {
    "duration": 39,
    "start_time": "2022-02-12T05:28:13.475Z"
   },
   {
    "duration": 44,
    "start_time": "2022-02-12T05:28:13.516Z"
   },
   {
    "duration": 16,
    "start_time": "2022-02-12T05:28:13.563Z"
   },
   {
    "duration": 12,
    "start_time": "2022-02-12T05:28:13.582Z"
   },
   {
    "duration": 16,
    "start_time": "2022-02-12T05:28:13.598Z"
   },
   {
    "duration": 39,
    "start_time": "2022-02-12T05:28:13.617Z"
   },
   {
    "duration": 8,
    "start_time": "2022-02-12T05:28:13.659Z"
   },
   {
    "duration": 8,
    "start_time": "2022-02-12T05:28:13.670Z"
   },
   {
    "duration": 30,
    "start_time": "2022-02-12T05:28:13.680Z"
   },
   {
    "duration": 23,
    "start_time": "2022-02-12T05:28:13.748Z"
   },
   {
    "duration": 13,
    "start_time": "2022-02-12T05:28:13.773Z"
   },
   {
    "duration": 10,
    "start_time": "2022-02-12T05:28:13.788Z"
   },
   {
    "duration": 9,
    "start_time": "2022-02-12T05:28:13.800Z"
   },
   {
    "duration": 14,
    "start_time": "2022-02-12T05:28:13.849Z"
   },
   {
    "duration": 15,
    "start_time": "2022-02-12T05:28:13.866Z"
   },
   {
    "duration": 34,
    "start_time": "2022-02-12T05:28:13.884Z"
   },
   {
    "duration": 15,
    "start_time": "2022-02-12T05:28:13.949Z"
   },
   {
    "duration": 18,
    "start_time": "2022-02-12T05:28:13.967Z"
   },
   {
    "duration": 9,
    "start_time": "2022-02-12T05:28:13.988Z"
   },
   {
    "duration": 465,
    "start_time": "2022-02-12T05:28:14.002Z"
   },
   {
    "duration": 10,
    "start_time": "2022-02-12T05:28:14.470Z"
   },
   {
    "duration": 15,
    "start_time": "2022-02-12T05:28:14.483Z"
   },
   {
    "duration": 308,
    "start_time": "2022-02-12T05:28:14.500Z"
   },
   {
    "duration": 4,
    "start_time": "2022-02-12T05:28:14.810Z"
   },
   {
    "duration": 476,
    "start_time": "2022-02-12T05:28:14.817Z"
   },
   {
    "duration": 4,
    "start_time": "2022-02-12T05:28:15.296Z"
   },
   {
    "duration": 59,
    "start_time": "2022-02-12T05:28:15.303Z"
   },
   {
    "duration": 10,
    "start_time": "2022-02-12T05:28:15.365Z"
   },
   {
    "duration": 10,
    "start_time": "2022-02-12T05:28:15.378Z"
   },
   {
    "duration": 6,
    "start_time": "2022-02-12T05:28:15.391Z"
   },
   {
    "duration": 494,
    "start_time": "2022-02-12T05:28:15.399Z"
   },
   {
    "duration": 739,
    "start_time": "2022-02-12T05:28:15.896Z"
   },
   {
    "duration": 14,
    "start_time": "2022-02-12T05:28:16.648Z"
   },
   {
    "duration": 419,
    "start_time": "2022-02-12T05:28:16.665Z"
   },
   {
    "duration": 14,
    "start_time": "2022-02-12T05:28:17.088Z"
   },
   {
    "duration": 407,
    "start_time": "2022-02-12T05:28:17.104Z"
   },
   {
    "duration": 12,
    "start_time": "2022-02-12T05:28:17.514Z"
   },
   {
    "duration": 422,
    "start_time": "2022-02-12T05:28:17.529Z"
   },
   {
    "duration": 15,
    "start_time": "2022-02-12T05:28:17.954Z"
   },
   {
    "duration": 14,
    "start_time": "2022-02-12T05:28:17.973Z"
   },
   {
    "duration": 12,
    "start_time": "2022-02-12T05:28:17.990Z"
   },
   {
    "duration": 54,
    "start_time": "2022-02-12T05:28:18.004Z"
   },
   {
    "duration": 565,
    "start_time": "2022-02-12T05:28:18.061Z"
   },
   {
    "duration": 24,
    "start_time": "2022-02-12T05:28:18.630Z"
   },
   {
    "duration": 16,
    "start_time": "2022-02-12T05:28:18.657Z"
   },
   {
    "duration": 356,
    "start_time": "2022-02-12T05:28:18.676Z"
   },
   {
    "duration": 600,
    "start_time": "2022-02-12T05:28:19.035Z"
   },
   {
    "duration": 621,
    "start_time": "2022-02-12T05:30:11.917Z"
   },
   {
    "duration": 1508,
    "start_time": "2022-02-12T05:30:28.617Z"
   },
   {
    "duration": 64,
    "start_time": "2022-02-12T05:30:30.128Z"
   },
   {
    "duration": 13,
    "start_time": "2022-02-12T05:30:30.195Z"
   },
   {
    "duration": 63,
    "start_time": "2022-02-12T05:30:30.211Z"
   },
   {
    "duration": 15,
    "start_time": "2022-02-12T05:30:30.277Z"
   },
   {
    "duration": 22,
    "start_time": "2022-02-12T05:30:30.295Z"
   },
   {
    "duration": 41,
    "start_time": "2022-02-12T05:30:30.319Z"
   },
   {
    "duration": 15,
    "start_time": "2022-02-12T05:30:30.364Z"
   },
   {
    "duration": 19,
    "start_time": "2022-02-12T05:30:30.382Z"
   },
   {
    "duration": 23,
    "start_time": "2022-02-12T05:30:30.404Z"
   },
   {
    "duration": 21,
    "start_time": "2022-02-12T05:30:30.430Z"
   },
   {
    "duration": 49,
    "start_time": "2022-02-12T05:30:30.453Z"
   },
   {
    "duration": 23,
    "start_time": "2022-02-12T05:30:30.505Z"
   },
   {
    "duration": 26,
    "start_time": "2022-02-12T05:30:30.531Z"
   },
   {
    "duration": 24,
    "start_time": "2022-02-12T05:30:30.560Z"
   },
   {
    "duration": 18,
    "start_time": "2022-02-12T05:30:30.587Z"
   },
   {
    "duration": 25,
    "start_time": "2022-02-12T05:30:30.608Z"
   },
   {
    "duration": 43,
    "start_time": "2022-02-12T05:30:30.636Z"
   },
   {
    "duration": 81,
    "start_time": "2022-02-12T05:30:30.682Z"
   },
   {
    "duration": 28,
    "start_time": "2022-02-12T05:30:30.766Z"
   },
   {
    "duration": 54,
    "start_time": "2022-02-12T05:30:30.796Z"
   },
   {
    "duration": 45,
    "start_time": "2022-02-12T05:30:30.852Z"
   },
   {
    "duration": 463,
    "start_time": "2022-02-12T05:30:30.905Z"
   },
   {
    "duration": 10,
    "start_time": "2022-02-12T05:30:31.371Z"
   },
   {
    "duration": 19,
    "start_time": "2022-02-12T05:30:31.384Z"
   },
   {
    "duration": 342,
    "start_time": "2022-02-12T05:30:31.406Z"
   },
   {
    "duration": 3,
    "start_time": "2022-02-12T05:30:31.751Z"
   },
   {
    "duration": 510,
    "start_time": "2022-02-12T05:30:31.757Z"
   },
   {
    "duration": 3,
    "start_time": "2022-02-12T05:30:32.269Z"
   },
   {
    "duration": 38,
    "start_time": "2022-02-12T05:30:32.275Z"
   },
   {
    "duration": 37,
    "start_time": "2022-02-12T05:30:32.316Z"
   },
   {
    "duration": 16,
    "start_time": "2022-02-12T05:30:32.356Z"
   },
   {
    "duration": 6,
    "start_time": "2022-02-12T05:30:32.375Z"
   },
   {
    "duration": 532,
    "start_time": "2022-02-12T05:30:32.383Z"
   },
   {
    "duration": 747,
    "start_time": "2022-02-12T05:30:32.918Z"
   },
   {
    "duration": 12,
    "start_time": "2022-02-12T05:30:33.668Z"
   },
   {
    "duration": 433,
    "start_time": "2022-02-12T05:30:33.682Z"
   },
   {
    "duration": 13,
    "start_time": "2022-02-12T05:30:34.118Z"
   },
   {
    "duration": 409,
    "start_time": "2022-02-12T05:30:34.149Z"
   },
   {
    "duration": 14,
    "start_time": "2022-02-12T05:30:34.561Z"
   },
   {
    "duration": 389,
    "start_time": "2022-02-12T05:30:34.578Z"
   },
   {
    "duration": 13,
    "start_time": "2022-02-12T05:30:34.969Z"
   },
   {
    "duration": 13,
    "start_time": "2022-02-12T05:30:34.985Z"
   },
   {
    "duration": 12,
    "start_time": "2022-02-12T05:30:35.000Z"
   },
   {
    "duration": 15,
    "start_time": "2022-02-12T05:30:35.015Z"
   },
   {
    "duration": 648,
    "start_time": "2022-02-12T05:30:35.033Z"
   },
   {
    "duration": 12,
    "start_time": "2022-02-12T05:30:35.684Z"
   },
   {
    "duration": 52,
    "start_time": "2022-02-12T05:30:35.698Z"
   },
   {
    "duration": 446,
    "start_time": "2022-02-12T05:30:35.752Z"
   },
   {
    "duration": 625,
    "start_time": "2022-02-12T05:30:36.200Z"
   },
   {
    "duration": 743,
    "start_time": "2022-02-12T05:30:43.850Z"
   },
   {
    "duration": 747,
    "start_time": "2022-02-12T05:31:04.977Z"
   },
   {
    "duration": 723,
    "start_time": "2022-02-12T05:31:33.138Z"
   },
   {
    "duration": 1269,
    "start_time": "2022-02-12T05:32:12.232Z"
   },
   {
    "duration": 63,
    "start_time": "2022-02-12T05:32:13.503Z"
   },
   {
    "duration": 13,
    "start_time": "2022-02-12T05:32:13.569Z"
   },
   {
    "duration": 39,
    "start_time": "2022-02-12T05:32:13.585Z"
   },
   {
    "duration": 16,
    "start_time": "2022-02-12T05:32:13.648Z"
   },
   {
    "duration": 23,
    "start_time": "2022-02-12T05:32:13.666Z"
   },
   {
    "duration": 18,
    "start_time": "2022-02-12T05:32:13.691Z"
   },
   {
    "duration": 12,
    "start_time": "2022-02-12T05:32:13.713Z"
   },
   {
    "duration": 10,
    "start_time": "2022-02-12T05:32:13.750Z"
   },
   {
    "duration": 11,
    "start_time": "2022-02-12T05:32:13.763Z"
   },
   {
    "duration": 19,
    "start_time": "2022-02-12T05:32:13.776Z"
   },
   {
    "duration": 53,
    "start_time": "2022-02-12T05:32:13.797Z"
   },
   {
    "duration": 22,
    "start_time": "2022-02-12T05:32:13.852Z"
   },
   {
    "duration": 11,
    "start_time": "2022-02-12T05:32:13.877Z"
   },
   {
    "duration": 10,
    "start_time": "2022-02-12T05:32:13.890Z"
   },
   {
    "duration": 48,
    "start_time": "2022-02-12T05:32:13.902Z"
   },
   {
    "duration": 17,
    "start_time": "2022-02-12T05:32:13.952Z"
   },
   {
    "duration": 17,
    "start_time": "2022-02-12T05:32:13.971Z"
   },
   {
    "duration": 63,
    "start_time": "2022-02-12T05:32:13.990Z"
   },
   {
    "duration": 15,
    "start_time": "2022-02-12T05:32:14.055Z"
   },
   {
    "duration": 18,
    "start_time": "2022-02-12T05:32:14.073Z"
   },
   {
    "duration": 9,
    "start_time": "2022-02-12T05:32:14.094Z"
   },
   {
    "duration": 481,
    "start_time": "2022-02-12T05:32:14.109Z"
   },
   {
    "duration": 11,
    "start_time": "2022-02-12T05:32:14.594Z"
   },
   {
    "duration": 15,
    "start_time": "2022-02-12T05:32:14.608Z"
   },
   {
    "duration": 309,
    "start_time": "2022-02-12T05:32:14.650Z"
   },
   {
    "duration": 4,
    "start_time": "2022-02-12T05:32:14.962Z"
   },
   {
    "duration": 527,
    "start_time": "2022-02-12T05:32:14.968Z"
   },
   {
    "duration": 4,
    "start_time": "2022-02-12T05:32:15.498Z"
   },
   {
    "duration": 50,
    "start_time": "2022-02-12T05:32:15.506Z"
   },
   {
    "duration": 9,
    "start_time": "2022-02-12T05:32:15.558Z"
   },
   {
    "duration": 19,
    "start_time": "2022-02-12T05:32:15.569Z"
   },
   {
    "duration": 6,
    "start_time": "2022-02-12T05:32:15.590Z"
   },
   {
    "duration": 497,
    "start_time": "2022-02-12T05:32:15.599Z"
   },
   {
    "duration": 782,
    "start_time": "2022-02-12T05:32:16.098Z"
   },
   {
    "duration": 15,
    "start_time": "2022-02-12T05:32:16.883Z"
   },
   {
    "duration": 428,
    "start_time": "2022-02-12T05:32:16.901Z"
   },
   {
    "duration": 22,
    "start_time": "2022-02-12T05:32:17.333Z"
   },
   {
    "duration": 413,
    "start_time": "2022-02-12T05:32:17.358Z"
   },
   {
    "duration": 15,
    "start_time": "2022-02-12T05:32:17.774Z"
   },
   {
    "duration": 513,
    "start_time": "2022-02-12T05:32:17.791Z"
   },
   {
    "duration": 19,
    "start_time": "2022-02-12T05:32:18.307Z"
   },
   {
    "duration": 19,
    "start_time": "2022-02-12T05:32:18.348Z"
   },
   {
    "duration": 17,
    "start_time": "2022-02-12T05:32:18.370Z"
   },
   {
    "duration": 23,
    "start_time": "2022-02-12T05:32:18.390Z"
   },
   {
    "duration": 700,
    "start_time": "2022-02-12T05:32:18.416Z"
   },
   {
    "duration": 10,
    "start_time": "2022-02-12T05:32:19.119Z"
   },
   {
    "duration": 26,
    "start_time": "2022-02-12T05:32:19.131Z"
   },
   {
    "duration": 322,
    "start_time": "2022-02-12T05:32:19.159Z"
   },
   {
    "duration": 757,
    "start_time": "2022-02-12T05:32:19.484Z"
   },
   {
    "duration": 796,
    "start_time": "2022-02-12T05:32:44.020Z"
   },
   {
    "duration": 709,
    "start_time": "2022-02-12T05:32:50.482Z"
   },
   {
    "duration": 748,
    "start_time": "2022-02-12T05:33:06.483Z"
   },
   {
    "duration": 817,
    "start_time": "2022-02-12T05:33:17.940Z"
   },
   {
    "duration": 765,
    "start_time": "2022-02-12T05:33:41.608Z"
   },
   {
    "duration": 1292,
    "start_time": "2022-02-12T05:36:24.512Z"
   },
   {
    "duration": 59,
    "start_time": "2022-02-12T05:36:25.806Z"
   },
   {
    "duration": 14,
    "start_time": "2022-02-12T05:36:25.868Z"
   },
   {
    "duration": 40,
    "start_time": "2022-02-12T05:36:25.884Z"
   },
   {
    "duration": 17,
    "start_time": "2022-02-12T05:36:25.948Z"
   },
   {
    "duration": 24,
    "start_time": "2022-02-12T05:36:25.967Z"
   },
   {
    "duration": 15,
    "start_time": "2022-02-12T05:36:25.994Z"
   },
   {
    "duration": 38,
    "start_time": "2022-02-12T05:36:26.013Z"
   },
   {
    "duration": 10,
    "start_time": "2022-02-12T05:36:26.054Z"
   },
   {
    "duration": 11,
    "start_time": "2022-02-12T05:36:26.066Z"
   },
   {
    "duration": 15,
    "start_time": "2022-02-12T05:36:26.079Z"
   },
   {
    "duration": 56,
    "start_time": "2022-02-12T05:36:26.096Z"
   },
   {
    "duration": 24,
    "start_time": "2022-02-12T05:36:26.154Z"
   },
   {
    "duration": 14,
    "start_time": "2022-02-12T05:36:26.180Z"
   },
   {
    "duration": 12,
    "start_time": "2022-02-12T05:36:26.197Z"
   },
   {
    "duration": 11,
    "start_time": "2022-02-12T05:36:26.248Z"
   },
   {
    "duration": 19,
    "start_time": "2022-02-12T05:36:26.261Z"
   },
   {
    "duration": 17,
    "start_time": "2022-02-12T05:36:26.282Z"
   },
   {
    "duration": 57,
    "start_time": "2022-02-12T05:36:26.301Z"
   },
   {
    "duration": 19,
    "start_time": "2022-02-12T05:36:26.361Z"
   },
   {
    "duration": 22,
    "start_time": "2022-02-12T05:36:26.382Z"
   },
   {
    "duration": 12,
    "start_time": "2022-02-12T05:36:26.406Z"
   },
   {
    "duration": 433,
    "start_time": "2022-02-12T05:36:26.453Z"
   },
   {
    "duration": 11,
    "start_time": "2022-02-12T05:36:26.889Z"
   },
   {
    "duration": 17,
    "start_time": "2022-02-12T05:36:26.902Z"
   },
   {
    "duration": 327,
    "start_time": "2022-02-12T05:36:26.921Z"
   },
   {
    "duration": 3,
    "start_time": "2022-02-12T05:36:27.251Z"
   },
   {
    "duration": 476,
    "start_time": "2022-02-12T05:36:27.258Z"
   },
   {
    "duration": 14,
    "start_time": "2022-02-12T05:36:27.737Z"
   },
   {
    "duration": 29,
    "start_time": "2022-02-12T05:36:27.754Z"
   },
   {
    "duration": 9,
    "start_time": "2022-02-12T05:36:27.786Z"
   },
   {
    "duration": 15,
    "start_time": "2022-02-12T05:36:27.797Z"
   },
   {
    "duration": 8,
    "start_time": "2022-02-12T05:36:27.849Z"
   },
   {
    "duration": 482,
    "start_time": "2022-02-12T05:36:27.860Z"
   },
   {
    "duration": 742,
    "start_time": "2022-02-12T05:36:28.348Z"
   },
   {
    "duration": 16,
    "start_time": "2022-02-12T05:36:29.094Z"
   },
   {
    "duration": 472,
    "start_time": "2022-02-12T05:36:29.113Z"
   },
   {
    "duration": 14,
    "start_time": "2022-02-12T05:36:29.587Z"
   },
   {
    "duration": 421,
    "start_time": "2022-02-12T05:36:29.604Z"
   },
   {
    "duration": 24,
    "start_time": "2022-02-12T05:36:30.027Z"
   },
   {
    "duration": 422,
    "start_time": "2022-02-12T05:36:30.054Z"
   },
   {
    "duration": 13,
    "start_time": "2022-02-12T05:36:30.478Z"
   },
   {
    "duration": 25,
    "start_time": "2022-02-12T05:36:30.494Z"
   },
   {
    "duration": 31,
    "start_time": "2022-02-12T05:36:30.521Z"
   },
   {
    "duration": 21,
    "start_time": "2022-02-12T05:36:30.555Z"
   },
   {
    "duration": 602,
    "start_time": "2022-02-12T05:36:30.579Z"
   },
   {
    "duration": 10,
    "start_time": "2022-02-12T05:36:31.184Z"
   },
   {
    "duration": 23,
    "start_time": "2022-02-12T05:36:31.196Z"
   },
   {
    "duration": 342,
    "start_time": "2022-02-12T05:36:31.221Z"
   },
   {
    "duration": 861,
    "start_time": "2022-02-12T05:36:31.565Z"
   },
   {
    "duration": 76,
    "start_time": "2022-02-12T05:42:22.892Z"
   },
   {
    "duration": 76,
    "start_time": "2022-02-12T05:42:32.636Z"
   },
   {
    "duration": 102,
    "start_time": "2022-02-12T05:42:45.328Z"
   },
   {
    "duration": 81,
    "start_time": "2022-02-12T05:43:05.672Z"
   },
   {
    "duration": 77,
    "start_time": "2022-02-12T05:43:11.356Z"
   },
   {
    "duration": 20,
    "start_time": "2022-02-12T05:43:17.512Z"
   },
   {
    "duration": 396,
    "start_time": "2022-02-12T05:43:59.829Z"
   },
   {
    "duration": 262,
    "start_time": "2022-02-12T05:44:07.894Z"
   },
   {
    "duration": 301,
    "start_time": "2022-02-12T05:44:26.454Z"
   },
   {
    "duration": 245,
    "start_time": "2022-02-12T05:44:47.770Z"
   },
   {
    "duration": 18,
    "start_time": "2022-02-12T05:45:09.928Z"
   },
   {
    "duration": 76,
    "start_time": "2022-02-12T05:45:41.334Z"
   },
   {
    "duration": 24,
    "start_time": "2022-02-12T05:45:49.781Z"
   },
   {
    "duration": 14,
    "start_time": "2022-02-12T05:51:19.410Z"
   },
   {
    "duration": 1319,
    "start_time": "2022-02-12T05:52:55.080Z"
   },
   {
    "duration": 63,
    "start_time": "2022-02-12T05:52:56.401Z"
   },
   {
    "duration": 14,
    "start_time": "2022-02-12T05:52:56.467Z"
   },
   {
    "duration": 63,
    "start_time": "2022-02-12T05:52:56.485Z"
   },
   {
    "duration": 16,
    "start_time": "2022-02-12T05:52:56.551Z"
   },
   {
    "duration": 23,
    "start_time": "2022-02-12T05:52:56.569Z"
   },
   {
    "duration": 13,
    "start_time": "2022-02-12T05:52:56.595Z"
   },
   {
    "duration": 44,
    "start_time": "2022-02-12T05:52:56.612Z"
   },
   {
    "duration": 10,
    "start_time": "2022-02-12T05:52:56.660Z"
   },
   {
    "duration": 6,
    "start_time": "2022-02-12T05:52:56.673Z"
   },
   {
    "duration": 13,
    "start_time": "2022-02-12T05:52:56.681Z"
   },
   {
    "duration": 68,
    "start_time": "2022-02-12T05:52:56.697Z"
   },
   {
    "duration": 22,
    "start_time": "2022-02-12T05:52:56.768Z"
   },
   {
    "duration": 12,
    "start_time": "2022-02-12T05:52:56.792Z"
   },
   {
    "duration": 10,
    "start_time": "2022-02-12T05:52:56.806Z"
   },
   {
    "duration": 38,
    "start_time": "2022-02-12T05:52:56.818Z"
   },
   {
    "duration": 13,
    "start_time": "2022-02-12T05:52:56.858Z"
   },
   {
    "duration": 16,
    "start_time": "2022-02-12T05:52:56.873Z"
   },
   {
    "duration": 69,
    "start_time": "2022-02-12T05:52:56.891Z"
   },
   {
    "duration": 16,
    "start_time": "2022-02-12T05:52:56.963Z"
   },
   {
    "duration": 19,
    "start_time": "2022-02-12T05:52:56.981Z"
   },
   {
    "duration": 9,
    "start_time": "2022-02-12T05:52:57.002Z"
   },
   {
    "duration": 454,
    "start_time": "2022-02-12T05:52:57.048Z"
   },
   {
    "duration": 10,
    "start_time": "2022-02-12T05:52:57.505Z"
   },
   {
    "duration": 38,
    "start_time": "2022-02-12T05:52:57.518Z"
   },
   {
    "duration": 298,
    "start_time": "2022-02-12T05:52:57.558Z"
   },
   {
    "duration": 3,
    "start_time": "2022-02-12T05:52:57.859Z"
   },
   {
    "duration": 467,
    "start_time": "2022-02-12T05:52:57.864Z"
   },
   {
    "duration": 14,
    "start_time": "2022-02-12T05:52:58.334Z"
   },
   {
    "duration": 24,
    "start_time": "2022-02-12T05:52:58.351Z"
   },
   {
    "duration": 6,
    "start_time": "2022-02-12T05:52:58.378Z"
   },
   {
    "duration": 10,
    "start_time": "2022-02-12T05:52:58.387Z"
   },
   {
    "duration": 6,
    "start_time": "2022-02-12T05:52:58.399Z"
   },
   {
    "duration": 502,
    "start_time": "2022-02-12T05:52:58.407Z"
   },
   {
    "duration": 732,
    "start_time": "2022-02-12T05:52:58.911Z"
   },
   {
    "duration": 12,
    "start_time": "2022-02-12T05:52:59.649Z"
   },
   {
    "duration": 389,
    "start_time": "2022-02-12T05:52:59.664Z"
   },
   {
    "duration": 12,
    "start_time": "2022-02-12T05:53:00.056Z"
   },
   {
    "duration": 390,
    "start_time": "2022-02-12T05:53:00.070Z"
   },
   {
    "duration": 13,
    "start_time": "2022-02-12T05:53:00.463Z"
   },
   {
    "duration": 421,
    "start_time": "2022-02-12T05:53:00.478Z"
   },
   {
    "duration": 14,
    "start_time": "2022-02-12T05:53:00.901Z"
   },
   {
    "duration": 38,
    "start_time": "2022-02-12T05:53:00.918Z"
   },
   {
    "duration": 21,
    "start_time": "2022-02-12T05:53:00.959Z"
   },
   {
    "duration": 16,
    "start_time": "2022-02-12T05:53:00.982Z"
   },
   {
    "duration": 617,
    "start_time": "2022-02-12T05:53:01.001Z"
   },
   {
    "duration": 11,
    "start_time": "2022-02-12T05:53:01.620Z"
   },
   {
    "duration": 14,
    "start_time": "2022-02-12T05:53:01.649Z"
   },
   {
    "duration": 323,
    "start_time": "2022-02-12T05:53:01.665Z"
   },
   {
    "duration": 773,
    "start_time": "2022-02-12T05:53:01.991Z"
   },
   {
    "duration": 15,
    "start_time": "2022-02-12T05:53:02.767Z"
   },
   {
    "duration": 24,
    "start_time": "2022-02-12T05:53:11.475Z"
   },
   {
    "duration": 77,
    "start_time": "2022-02-12T05:54:29.251Z"
   },
   {
    "duration": 16,
    "start_time": "2022-02-12T05:54:34.291Z"
   },
   {
    "duration": 376,
    "start_time": "2022-02-12T05:55:02.989Z"
   },
   {
    "duration": 12,
    "start_time": "2022-02-12T05:56:06.200Z"
   },
   {
    "duration": 17,
    "start_time": "2022-02-12T05:56:42.705Z"
   },
   {
    "duration": 753,
    "start_time": "2022-02-12T05:57:39.047Z"
   },
   {
    "duration": 19,
    "start_time": "2022-02-12T05:58:06.685Z"
   },
   {
    "duration": 12,
    "start_time": "2022-02-12T06:00:03.231Z"
   },
   {
    "duration": 795,
    "start_time": "2022-02-12T06:28:25.814Z"
   },
   {
    "duration": 1473,
    "start_time": "2022-02-12T06:34:16.689Z"
   },
   {
    "duration": 806,
    "start_time": "2022-02-12T06:38:53.996Z"
   },
   {
    "duration": 711,
    "start_time": "2022-02-12T06:47:20.187Z"
   },
   {
    "duration": 83,
    "start_time": "2022-02-12T06:49:34.276Z"
   },
   {
    "duration": 278,
    "start_time": "2022-02-12T06:49:46.157Z"
   },
   {
    "duration": 302,
    "start_time": "2022-02-12T06:50:17.088Z"
   },
   {
    "duration": 70,
    "start_time": "2022-02-12T06:50:23.271Z"
   },
   {
    "duration": 1949,
    "start_time": "2022-02-12T06:51:18.470Z"
   },
   {
    "duration": 102,
    "start_time": "2022-02-12T06:51:20.424Z"
   },
   {
    "duration": 35,
    "start_time": "2022-02-12T06:51:20.531Z"
   },
   {
    "duration": 46,
    "start_time": "2022-02-12T06:51:20.570Z"
   },
   {
    "duration": 33,
    "start_time": "2022-02-12T06:51:20.618Z"
   },
   {
    "duration": 18,
    "start_time": "2022-02-12T06:51:20.653Z"
   },
   {
    "duration": 12,
    "start_time": "2022-02-12T06:51:20.674Z"
   },
   {
    "duration": 20,
    "start_time": "2022-02-12T06:51:20.690Z"
   },
   {
    "duration": 43,
    "start_time": "2022-02-12T06:51:20.713Z"
   },
   {
    "duration": 14,
    "start_time": "2022-02-12T06:51:20.758Z"
   },
   {
    "duration": 8,
    "start_time": "2022-02-12T06:51:20.775Z"
   },
   {
    "duration": 71,
    "start_time": "2022-02-12T06:51:20.785Z"
   },
   {
    "duration": 24,
    "start_time": "2022-02-12T06:51:20.859Z"
   },
   {
    "duration": 13,
    "start_time": "2022-02-12T06:51:20.886Z"
   },
   {
    "duration": 10,
    "start_time": "2022-02-12T06:51:20.902Z"
   },
   {
    "duration": 10,
    "start_time": "2022-02-12T06:51:20.950Z"
   },
   {
    "duration": 17,
    "start_time": "2022-02-12T06:51:20.962Z"
   },
   {
    "duration": 18,
    "start_time": "2022-02-12T06:51:20.982Z"
   },
   {
    "duration": 70,
    "start_time": "2022-02-12T06:51:21.002Z"
   },
   {
    "duration": 23,
    "start_time": "2022-02-12T06:51:21.075Z"
   },
   {
    "duration": 23,
    "start_time": "2022-02-12T06:51:21.101Z"
   },
   {
    "duration": 30,
    "start_time": "2022-02-12T06:51:21.127Z"
   },
   {
    "duration": 486,
    "start_time": "2022-02-12T06:51:21.162Z"
   },
   {
    "duration": 10,
    "start_time": "2022-02-12T06:51:21.652Z"
   },
   {
    "duration": 16,
    "start_time": "2022-02-12T06:51:21.665Z"
   },
   {
    "duration": 322,
    "start_time": "2022-02-12T06:51:21.684Z"
   },
   {
    "duration": 4,
    "start_time": "2022-02-12T06:51:22.008Z"
   },
   {
    "duration": 505,
    "start_time": "2022-02-12T06:51:22.016Z"
   },
   {
    "duration": 5,
    "start_time": "2022-02-12T06:51:22.525Z"
   },
   {
    "duration": 30,
    "start_time": "2022-02-12T06:51:22.549Z"
   },
   {
    "duration": 8,
    "start_time": "2022-02-12T06:51:22.582Z"
   },
   {
    "duration": 16,
    "start_time": "2022-02-12T06:51:22.593Z"
   },
   {
    "duration": 7,
    "start_time": "2022-02-12T06:51:22.648Z"
   },
   {
    "duration": 504,
    "start_time": "2022-02-12T06:51:22.657Z"
   },
   {
    "duration": 756,
    "start_time": "2022-02-12T06:51:23.164Z"
   },
   {
    "duration": 25,
    "start_time": "2022-02-12T06:51:23.923Z"
   },
   {
    "duration": 415,
    "start_time": "2022-02-12T06:51:23.951Z"
   },
   {
    "duration": 14,
    "start_time": "2022-02-12T06:51:24.368Z"
   },
   {
    "duration": 401,
    "start_time": "2022-02-12T06:51:24.385Z"
   },
   {
    "duration": 14,
    "start_time": "2022-02-12T06:51:24.789Z"
   },
   {
    "duration": 430,
    "start_time": "2022-02-12T06:51:24.805Z"
   },
   {
    "duration": 22,
    "start_time": "2022-02-12T06:51:25.237Z"
   },
   {
    "duration": 15,
    "start_time": "2022-02-12T06:51:25.262Z"
   },
   {
    "duration": 15,
    "start_time": "2022-02-12T06:51:25.279Z"
   },
   {
    "duration": 18,
    "start_time": "2022-02-12T06:51:25.297Z"
   },
   {
    "duration": 594,
    "start_time": "2022-02-12T06:51:25.349Z"
   },
   {
    "duration": 10,
    "start_time": "2022-02-12T06:51:25.948Z"
   },
   {
    "duration": 18,
    "start_time": "2022-02-12T06:51:25.961Z"
   },
   {
    "duration": 360,
    "start_time": "2022-02-12T06:51:25.982Z"
   },
   {
    "duration": 772,
    "start_time": "2022-02-12T06:51:26.349Z"
   },
   {
    "duration": 27,
    "start_time": "2022-02-12T06:51:27.123Z"
   },
   {
    "duration": 84,
    "start_time": "2022-02-12T06:51:27.153Z"
   },
   {
    "duration": 66,
    "start_time": "2022-02-12T06:51:38.552Z"
   },
   {
    "duration": 763,
    "start_time": "2022-02-12T06:51:58.826Z"
   },
   {
    "duration": 1287,
    "start_time": "2022-02-13T07:42:08.361Z"
   },
   {
    "duration": 60,
    "start_time": "2022-02-13T07:42:09.651Z"
   },
   {
    "duration": 33,
    "start_time": "2022-02-13T07:42:09.715Z"
   },
   {
    "duration": 41,
    "start_time": "2022-02-13T07:42:09.751Z"
   },
   {
    "duration": 17,
    "start_time": "2022-02-13T07:42:09.795Z"
   },
   {
    "duration": 46,
    "start_time": "2022-02-13T07:42:09.815Z"
   },
   {
    "duration": 16,
    "start_time": "2022-02-13T07:42:09.864Z"
   },
   {
    "duration": 15,
    "start_time": "2022-02-13T07:42:09.886Z"
   },
   {
    "duration": 48,
    "start_time": "2022-02-13T07:42:09.905Z"
   },
   {
    "duration": 7,
    "start_time": "2022-02-13T07:42:09.955Z"
   },
   {
    "duration": 10,
    "start_time": "2022-02-13T07:42:09.964Z"
   },
   {
    "duration": 34,
    "start_time": "2022-02-13T07:42:09.977Z"
   },
   {
    "duration": 52,
    "start_time": "2022-02-13T07:42:10.013Z"
   },
   {
    "duration": 13,
    "start_time": "2022-02-13T07:42:10.067Z"
   },
   {
    "duration": 11,
    "start_time": "2022-02-13T07:42:10.082Z"
   },
   {
    "duration": 8,
    "start_time": "2022-02-13T07:42:10.096Z"
   },
   {
    "duration": 49,
    "start_time": "2022-02-13T07:42:10.106Z"
   },
   {
    "duration": 25,
    "start_time": "2022-02-13T07:42:10.157Z"
   },
   {
    "duration": 36,
    "start_time": "2022-02-13T07:42:10.184Z"
   },
   {
    "duration": 33,
    "start_time": "2022-02-13T07:42:10.223Z"
   },
   {
    "duration": 20,
    "start_time": "2022-02-13T07:42:10.259Z"
   },
   {
    "duration": 9,
    "start_time": "2022-02-13T07:42:10.281Z"
   },
   {
    "duration": 553,
    "start_time": "2022-02-13T07:42:10.295Z"
   },
   {
    "duration": 10,
    "start_time": "2022-02-13T07:42:10.852Z"
   },
   {
    "duration": 15,
    "start_time": "2022-02-13T07:42:10.865Z"
   },
   {
    "duration": 324,
    "start_time": "2022-02-13T07:42:10.882Z"
   },
   {
    "duration": 4,
    "start_time": "2022-02-13T07:42:11.208Z"
   },
   {
    "duration": 474,
    "start_time": "2022-02-13T07:42:11.214Z"
   },
   {
    "duration": 4,
    "start_time": "2022-02-13T07:42:11.690Z"
   },
   {
    "duration": 52,
    "start_time": "2022-02-13T07:42:11.696Z"
   },
   {
    "duration": 8,
    "start_time": "2022-02-13T07:42:11.750Z"
   },
   {
    "duration": 19,
    "start_time": "2022-02-13T07:42:11.761Z"
   },
   {
    "duration": 7,
    "start_time": "2022-02-13T07:42:11.782Z"
   },
   {
    "duration": 501,
    "start_time": "2022-02-13T07:42:11.791Z"
   },
   {
    "duration": 750,
    "start_time": "2022-02-13T07:42:12.294Z"
   },
   {
    "duration": 14,
    "start_time": "2022-02-13T07:42:13.049Z"
   },
   {
    "duration": 508,
    "start_time": "2022-02-13T07:42:13.066Z"
   },
   {
    "duration": 13,
    "start_time": "2022-02-13T07:42:13.576Z"
   },
   {
    "duration": 394,
    "start_time": "2022-02-13T07:42:13.592Z"
   },
   {
    "duration": 12,
    "start_time": "2022-02-13T07:42:13.988Z"
   },
   {
    "duration": 400,
    "start_time": "2022-02-13T07:42:14.003Z"
   },
   {
    "duration": 13,
    "start_time": "2022-02-13T07:42:14.406Z"
   },
   {
    "duration": 34,
    "start_time": "2022-02-13T07:42:14.422Z"
   },
   {
    "duration": 30,
    "start_time": "2022-02-13T07:42:14.458Z"
   },
   {
    "duration": 52,
    "start_time": "2022-02-13T07:42:14.491Z"
   },
   {
    "duration": 572,
    "start_time": "2022-02-13T07:42:14.545Z"
   },
   {
    "duration": 10,
    "start_time": "2022-02-13T07:42:15.120Z"
   },
   {
    "duration": 44,
    "start_time": "2022-02-13T07:42:15.133Z"
   },
   {
    "duration": 489,
    "start_time": "2022-02-13T07:42:15.180Z"
   },
   {
    "duration": 1149,
    "start_time": "2022-02-13T07:42:15.673Z"
   },
   {
    "duration": 32,
    "start_time": "2022-02-13T07:42:16.825Z"
   },
   {
    "duration": 619,
    "start_time": "2022-02-13T07:42:16.860Z"
   },
   {
    "duration": -78,
    "start_time": "2022-02-13T07:42:17.560Z"
   },
   {
    "duration": 242,
    "start_time": "2022-02-13T07:42:28.874Z"
   },
   {
    "duration": 1185,
    "start_time": "2022-02-13T07:43:01.931Z"
   },
   {
    "duration": 16,
    "start_time": "2022-02-13T07:43:51.473Z"
   },
   {
    "duration": 1323,
    "start_time": "2022-02-13T07:48:53.379Z"
   },
   {
    "duration": 60,
    "start_time": "2022-02-13T07:48:54.705Z"
   },
   {
    "duration": 13,
    "start_time": "2022-02-13T07:48:54.768Z"
   },
   {
    "duration": 39,
    "start_time": "2022-02-13T07:48:54.784Z"
   },
   {
    "duration": 16,
    "start_time": "2022-02-13T07:48:54.849Z"
   },
   {
    "duration": 15,
    "start_time": "2022-02-13T07:48:54.867Z"
   },
   {
    "duration": 14,
    "start_time": "2022-02-13T07:48:54.884Z"
   },
   {
    "duration": 16,
    "start_time": "2022-02-13T07:48:54.902Z"
   },
   {
    "duration": 9,
    "start_time": "2022-02-13T07:48:54.950Z"
   },
   {
    "duration": 12,
    "start_time": "2022-02-13T07:48:54.961Z"
   },
   {
    "duration": 10,
    "start_time": "2022-02-13T07:48:54.975Z"
   },
   {
    "duration": 67,
    "start_time": "2022-02-13T07:48:54.988Z"
   },
   {
    "duration": 22,
    "start_time": "2022-02-13T07:48:55.058Z"
   },
   {
    "duration": 12,
    "start_time": "2022-02-13T07:48:55.082Z"
   },
   {
    "duration": 11,
    "start_time": "2022-02-13T07:48:55.097Z"
   },
   {
    "duration": 43,
    "start_time": "2022-02-13T07:48:55.110Z"
   },
   {
    "duration": 21,
    "start_time": "2022-02-13T07:48:55.155Z"
   },
   {
    "duration": 21,
    "start_time": "2022-02-13T07:48:55.178Z"
   },
   {
    "duration": 49,
    "start_time": "2022-02-13T07:48:55.202Z"
   },
   {
    "duration": 15,
    "start_time": "2022-02-13T07:48:55.253Z"
   },
   {
    "duration": 25,
    "start_time": "2022-02-13T07:48:55.270Z"
   },
   {
    "duration": 9,
    "start_time": "2022-02-13T07:48:55.298Z"
   },
   {
    "duration": 457,
    "start_time": "2022-02-13T07:48:55.312Z"
   },
   {
    "duration": 10,
    "start_time": "2022-02-13T07:48:55.772Z"
   },
   {
    "duration": 21,
    "start_time": "2022-02-13T07:48:55.785Z"
   },
   {
    "duration": 292,
    "start_time": "2022-02-13T07:48:55.808Z"
   },
   {
    "duration": 4,
    "start_time": "2022-02-13T07:48:56.103Z"
   },
   {
    "duration": 469,
    "start_time": "2022-02-13T07:48:56.109Z"
   },
   {
    "duration": 3,
    "start_time": "2022-02-13T07:48:56.581Z"
   },
   {
    "duration": 34,
    "start_time": "2022-02-13T07:48:56.587Z"
   },
   {
    "duration": 27,
    "start_time": "2022-02-13T07:48:56.624Z"
   },
   {
    "duration": 10,
    "start_time": "2022-02-13T07:48:56.653Z"
   },
   {
    "duration": 14,
    "start_time": "2022-02-13T07:48:56.666Z"
   },
   {
    "duration": 549,
    "start_time": "2022-02-13T07:48:56.682Z"
   },
   {
    "duration": 790,
    "start_time": "2022-02-13T07:48:57.234Z"
   },
   {
    "duration": 24,
    "start_time": "2022-02-13T07:48:58.026Z"
   },
   {
    "duration": 406,
    "start_time": "2022-02-13T07:48:58.052Z"
   },
   {
    "duration": 13,
    "start_time": "2022-02-13T07:48:58.460Z"
   },
   {
    "duration": 394,
    "start_time": "2022-02-13T07:48:58.476Z"
   },
   {
    "duration": 13,
    "start_time": "2022-02-13T07:48:58.873Z"
   },
   {
    "duration": 415,
    "start_time": "2022-02-13T07:48:58.889Z"
   },
   {
    "duration": 13,
    "start_time": "2022-02-13T07:48:59.306Z"
   },
   {
    "duration": 35,
    "start_time": "2022-02-13T07:48:59.321Z"
   },
   {
    "duration": 23,
    "start_time": "2022-02-13T07:48:59.359Z"
   },
   {
    "duration": 31,
    "start_time": "2022-02-13T07:48:59.384Z"
   },
   {
    "duration": 570,
    "start_time": "2022-02-13T07:48:59.418Z"
   },
   {
    "duration": 12,
    "start_time": "2022-02-13T07:48:59.991Z"
   },
   {
    "duration": 44,
    "start_time": "2022-02-13T07:49:00.006Z"
   },
   {
    "duration": 338,
    "start_time": "2022-02-13T07:49:00.053Z"
   },
   {
    "duration": 749,
    "start_time": "2022-02-13T07:49:00.394Z"
   },
   {
    "duration": 15,
    "start_time": "2022-02-13T07:49:01.149Z"
   },
   {
    "duration": 1181,
    "start_time": "2022-02-13T07:49:01.167Z"
   },
   {
    "duration": 17,
    "start_time": "2022-02-13T07:49:02.351Z"
   },
   {
    "duration": 816,
    "start_time": "2022-02-13T07:49:02.371Z"
   },
   {
    "duration": 1265,
    "start_time": "2022-02-13T07:49:32.577Z"
   },
   {
    "duration": 80,
    "start_time": "2022-02-13T07:49:33.845Z"
   },
   {
    "duration": 32,
    "start_time": "2022-02-13T07:49:33.929Z"
   },
   {
    "duration": 52,
    "start_time": "2022-02-13T07:49:33.964Z"
   },
   {
    "duration": 33,
    "start_time": "2022-02-13T07:49:34.019Z"
   },
   {
    "duration": 27,
    "start_time": "2022-02-13T07:49:34.055Z"
   },
   {
    "duration": 17,
    "start_time": "2022-02-13T07:49:34.085Z"
   },
   {
    "duration": 15,
    "start_time": "2022-02-13T07:49:34.105Z"
   },
   {
    "duration": 35,
    "start_time": "2022-02-13T07:49:34.122Z"
   },
   {
    "duration": 6,
    "start_time": "2022-02-13T07:49:34.160Z"
   },
   {
    "duration": 8,
    "start_time": "2022-02-13T07:49:34.169Z"
   },
   {
    "duration": 29,
    "start_time": "2022-02-13T07:49:34.180Z"
   },
   {
    "duration": 55,
    "start_time": "2022-02-13T07:49:34.212Z"
   },
   {
    "duration": 12,
    "start_time": "2022-02-13T07:49:34.269Z"
   },
   {
    "duration": 9,
    "start_time": "2022-02-13T07:49:34.283Z"
   },
   {
    "duration": 11,
    "start_time": "2022-02-13T07:49:34.295Z"
   },
   {
    "duration": 24,
    "start_time": "2022-02-13T07:49:34.348Z"
   },
   {
    "duration": 32,
    "start_time": "2022-02-13T07:49:34.375Z"
   },
   {
    "duration": 38,
    "start_time": "2022-02-13T07:49:34.410Z"
   },
   {
    "duration": 38,
    "start_time": "2022-02-13T07:49:34.451Z"
   },
   {
    "duration": 43,
    "start_time": "2022-02-13T07:49:34.491Z"
   },
   {
    "duration": 9,
    "start_time": "2022-02-13T07:49:34.536Z"
   },
   {
    "duration": 436,
    "start_time": "2022-02-13T07:49:34.551Z"
   },
   {
    "duration": 11,
    "start_time": "2022-02-13T07:49:34.992Z"
   },
   {
    "duration": 19,
    "start_time": "2022-02-13T07:49:35.005Z"
   },
   {
    "duration": 303,
    "start_time": "2022-02-13T07:49:35.026Z"
   },
   {
    "duration": 3,
    "start_time": "2022-02-13T07:49:35.332Z"
   },
   {
    "duration": 461,
    "start_time": "2022-02-13T07:49:35.349Z"
   },
   {
    "duration": 3,
    "start_time": "2022-02-13T07:49:35.813Z"
   },
   {
    "duration": 46,
    "start_time": "2022-02-13T07:49:35.819Z"
   },
   {
    "duration": 7,
    "start_time": "2022-02-13T07:49:35.867Z"
   },
   {
    "duration": 13,
    "start_time": "2022-02-13T07:49:35.877Z"
   },
   {
    "duration": 5,
    "start_time": "2022-02-13T07:49:35.893Z"
   },
   {
    "duration": 500,
    "start_time": "2022-02-13T07:49:35.901Z"
   },
   {
    "duration": 745,
    "start_time": "2022-02-13T07:49:36.404Z"
   },
   {
    "duration": 14,
    "start_time": "2022-02-13T07:49:37.151Z"
   },
   {
    "duration": 411,
    "start_time": "2022-02-13T07:49:37.168Z"
   },
   {
    "duration": 14,
    "start_time": "2022-02-13T07:49:37.581Z"
   },
   {
    "duration": 385,
    "start_time": "2022-02-13T07:49:37.597Z"
   },
   {
    "duration": 14,
    "start_time": "2022-02-13T07:49:37.985Z"
   },
   {
    "duration": 404,
    "start_time": "2022-02-13T07:49:38.001Z"
   },
   {
    "duration": 12,
    "start_time": "2022-02-13T07:49:38.408Z"
   },
   {
    "duration": 32,
    "start_time": "2022-02-13T07:49:38.423Z"
   },
   {
    "duration": 12,
    "start_time": "2022-02-13T07:49:38.458Z"
   },
   {
    "duration": 16,
    "start_time": "2022-02-13T07:49:38.472Z"
   },
   {
    "duration": 597,
    "start_time": "2022-02-13T07:49:38.490Z"
   },
   {
    "duration": 9,
    "start_time": "2022-02-13T07:49:39.089Z"
   },
   {
    "duration": 13,
    "start_time": "2022-02-13T07:49:39.101Z"
   },
   {
    "duration": 349,
    "start_time": "2022-02-13T07:49:39.116Z"
   },
   {
    "duration": 746,
    "start_time": "2022-02-13T07:49:39.467Z"
   },
   {
    "duration": 33,
    "start_time": "2022-02-13T07:49:40.217Z"
   },
   {
    "duration": 1240,
    "start_time": "2022-02-13T07:49:40.253Z"
   },
   {
    "duration": 15,
    "start_time": "2022-02-13T07:49:41.496Z"
   },
   {
    "duration": 747,
    "start_time": "2022-02-13T07:49:41.514Z"
   },
   {
    "duration": 1312,
    "start_time": "2022-02-13T07:51:46.799Z"
   },
   {
    "duration": 59,
    "start_time": "2022-02-13T07:51:48.114Z"
   },
   {
    "duration": 13,
    "start_time": "2022-02-13T07:51:48.176Z"
   },
   {
    "duration": 64,
    "start_time": "2022-02-13T07:51:48.192Z"
   },
   {
    "duration": 15,
    "start_time": "2022-02-13T07:51:48.259Z"
   },
   {
    "duration": 15,
    "start_time": "2022-02-13T07:51:48.276Z"
   },
   {
    "duration": 12,
    "start_time": "2022-02-13T07:51:48.294Z"
   },
   {
    "duration": 51,
    "start_time": "2022-02-13T07:51:48.310Z"
   },
   {
    "duration": 9,
    "start_time": "2022-02-13T07:51:48.364Z"
   },
   {
    "duration": 7,
    "start_time": "2022-02-13T07:51:48.376Z"
   },
   {
    "duration": 13,
    "start_time": "2022-02-13T07:51:48.385Z"
   },
   {
    "duration": 67,
    "start_time": "2022-02-13T07:51:48.401Z"
   },
   {
    "duration": 22,
    "start_time": "2022-02-13T07:51:48.471Z"
   },
   {
    "duration": 13,
    "start_time": "2022-02-13T07:51:48.496Z"
   },
   {
    "duration": 40,
    "start_time": "2022-02-13T07:51:48.512Z"
   },
   {
    "duration": 13,
    "start_time": "2022-02-13T07:51:48.555Z"
   },
   {
    "duration": 20,
    "start_time": "2022-02-13T07:51:48.571Z"
   },
   {
    "duration": 59,
    "start_time": "2022-02-13T07:51:48.594Z"
   },
   {
    "duration": 54,
    "start_time": "2022-02-13T07:51:48.656Z"
   },
   {
    "duration": 45,
    "start_time": "2022-02-13T07:51:48.714Z"
   },
   {
    "duration": 26,
    "start_time": "2022-02-13T07:51:48.762Z"
   },
   {
    "duration": 12,
    "start_time": "2022-02-13T07:51:48.790Z"
   },
   {
    "duration": 721,
    "start_time": "2022-02-13T07:51:48.809Z"
   },
   {
    "duration": 20,
    "start_time": "2022-02-13T07:51:49.534Z"
   },
   {
    "duration": 20,
    "start_time": "2022-02-13T07:51:49.559Z"
   },
   {
    "duration": 410,
    "start_time": "2022-02-13T07:51:49.581Z"
   },
   {
    "duration": 4,
    "start_time": "2022-02-13T07:51:49.994Z"
   },
   {
    "duration": 706,
    "start_time": "2022-02-13T07:51:50.001Z"
   },
   {
    "duration": 4,
    "start_time": "2022-02-13T07:51:50.710Z"
   },
   {
    "duration": 48,
    "start_time": "2022-02-13T07:51:50.718Z"
   },
   {
    "duration": 9,
    "start_time": "2022-02-13T07:51:50.769Z"
   },
   {
    "duration": 13,
    "start_time": "2022-02-13T07:51:50.781Z"
   },
   {
    "duration": 8,
    "start_time": "2022-02-13T07:51:50.797Z"
   },
   {
    "duration": 505,
    "start_time": "2022-02-13T07:51:50.808Z"
   },
   {
    "duration": 756,
    "start_time": "2022-02-13T07:51:51.316Z"
   },
   {
    "duration": 14,
    "start_time": "2022-02-13T07:51:52.076Z"
   },
   {
    "duration": 425,
    "start_time": "2022-02-13T07:51:52.093Z"
   },
   {
    "duration": 13,
    "start_time": "2022-02-13T07:51:52.521Z"
   },
   {
    "duration": 380,
    "start_time": "2022-02-13T07:51:52.548Z"
   },
   {
    "duration": 22,
    "start_time": "2022-02-13T07:51:52.930Z"
   },
   {
    "duration": 397,
    "start_time": "2022-02-13T07:51:52.954Z"
   },
   {
    "duration": 11,
    "start_time": "2022-02-13T07:51:53.354Z"
   },
   {
    "duration": 14,
    "start_time": "2022-02-13T07:51:53.367Z"
   },
   {
    "duration": 17,
    "start_time": "2022-02-13T07:51:53.383Z"
   },
   {
    "duration": 52,
    "start_time": "2022-02-13T07:51:53.403Z"
   },
   {
    "duration": 562,
    "start_time": "2022-02-13T07:51:53.458Z"
   },
   {
    "duration": 26,
    "start_time": "2022-02-13T07:51:54.022Z"
   },
   {
    "duration": 14,
    "start_time": "2022-02-13T07:51:54.050Z"
   },
   {
    "duration": 330,
    "start_time": "2022-02-13T07:51:54.066Z"
   },
   {
    "duration": 755,
    "start_time": "2022-02-13T07:51:54.398Z"
   },
   {
    "duration": 14,
    "start_time": "2022-02-13T07:51:55.155Z"
   },
   {
    "duration": 1357,
    "start_time": "2022-02-13T07:51:55.171Z"
   },
   {
    "duration": 21,
    "start_time": "2022-02-13T07:51:56.530Z"
   },
   {
    "duration": 802,
    "start_time": "2022-02-13T07:51:56.553Z"
   },
   {
    "duration": 1139,
    "start_time": "2022-02-13T07:55:36.111Z"
   },
   {
    "duration": 17,
    "start_time": "2022-02-13T07:55:42.507Z"
   },
   {
    "duration": 1687,
    "start_time": "2022-02-13T09:28:44.830Z"
   },
   {
    "duration": 58,
    "start_time": "2022-02-13T09:28:46.520Z"
   },
   {
    "duration": 13,
    "start_time": "2022-02-13T09:28:46.582Z"
   },
   {
    "duration": 65,
    "start_time": "2022-02-13T09:28:46.598Z"
   },
   {
    "duration": 16,
    "start_time": "2022-02-13T09:28:46.666Z"
   },
   {
    "duration": 18,
    "start_time": "2022-02-13T09:28:46.685Z"
   },
   {
    "duration": 44,
    "start_time": "2022-02-13T09:28:46.706Z"
   },
   {
    "duration": 15,
    "start_time": "2022-02-13T09:28:46.754Z"
   },
   {
    "duration": 10,
    "start_time": "2022-02-13T09:28:46.773Z"
   },
   {
    "duration": 7,
    "start_time": "2022-02-13T09:28:46.786Z"
   },
   {
    "duration": 17,
    "start_time": "2022-02-13T09:28:46.795Z"
   },
   {
    "duration": 80,
    "start_time": "2022-02-13T09:28:46.816Z"
   },
   {
    "duration": 25,
    "start_time": "2022-02-13T09:28:46.898Z"
   },
   {
    "duration": 14,
    "start_time": "2022-02-13T09:28:46.948Z"
   },
   {
    "duration": 18,
    "start_time": "2022-02-13T09:28:46.965Z"
   },
   {
    "duration": 14,
    "start_time": "2022-02-13T09:28:46.986Z"
   },
   {
    "duration": 14,
    "start_time": "2022-02-13T09:28:47.003Z"
   },
   {
    "duration": 49,
    "start_time": "2022-02-13T09:28:47.020Z"
   },
   {
    "duration": 37,
    "start_time": "2022-02-13T09:28:47.072Z"
   },
   {
    "duration": 39,
    "start_time": "2022-02-13T09:28:47.112Z"
   },
   {
    "duration": 21,
    "start_time": "2022-02-13T09:28:47.155Z"
   },
   {
    "duration": 10,
    "start_time": "2022-02-13T09:28:47.178Z"
   },
   {
    "duration": 586,
    "start_time": "2022-02-13T09:28:47.194Z"
   },
   {
    "duration": 11,
    "start_time": "2022-02-13T09:28:47.785Z"
   },
   {
    "duration": 18,
    "start_time": "2022-02-13T09:28:47.799Z"
   },
   {
    "duration": 312,
    "start_time": "2022-02-13T09:28:47.848Z"
   },
   {
    "duration": 3,
    "start_time": "2022-02-13T09:28:48.163Z"
   },
   {
    "duration": 504,
    "start_time": "2022-02-13T09:28:48.169Z"
   },
   {
    "duration": 3,
    "start_time": "2022-02-13T09:28:48.676Z"
   },
   {
    "duration": 28,
    "start_time": "2022-02-13T09:28:48.682Z"
   },
   {
    "duration": 42,
    "start_time": "2022-02-13T09:28:48.713Z"
   },
   {
    "duration": 15,
    "start_time": "2022-02-13T09:28:48.757Z"
   },
   {
    "duration": 7,
    "start_time": "2022-02-13T09:28:48.774Z"
   },
   {
    "duration": 538,
    "start_time": "2022-02-13T09:28:48.784Z"
   },
   {
    "duration": 1117,
    "start_time": "2022-02-13T09:28:49.324Z"
   },
   {
    "duration": 20,
    "start_time": "2022-02-13T09:28:50.444Z"
   },
   {
    "duration": 627,
    "start_time": "2022-02-13T09:28:50.468Z"
   },
   {
    "duration": 19,
    "start_time": "2022-02-13T09:28:51.098Z"
   },
   {
    "duration": 531,
    "start_time": "2022-02-13T09:28:51.120Z"
   },
   {
    "duration": 12,
    "start_time": "2022-02-13T09:28:51.654Z"
   },
   {
    "duration": 448,
    "start_time": "2022-02-13T09:28:51.668Z"
   },
   {
    "duration": 28,
    "start_time": "2022-02-13T09:28:52.120Z"
   },
   {
    "duration": 14,
    "start_time": "2022-02-13T09:28:52.151Z"
   },
   {
    "duration": 18,
    "start_time": "2022-02-13T09:28:52.168Z"
   },
   {
    "duration": 20,
    "start_time": "2022-02-13T09:28:52.188Z"
   },
   {
    "duration": 707,
    "start_time": "2022-02-13T09:28:52.211Z"
   },
   {
    "duration": 28,
    "start_time": "2022-02-13T09:28:52.921Z"
   },
   {
    "duration": 15,
    "start_time": "2022-02-13T09:28:52.952Z"
   },
   {
    "duration": 349,
    "start_time": "2022-02-13T09:28:52.970Z"
   },
   {
    "duration": 770,
    "start_time": "2022-02-13T09:28:53.323Z"
   },
   {
    "duration": 13,
    "start_time": "2022-02-13T09:28:54.095Z"
   },
   {
    "duration": 556,
    "start_time": "2022-02-13T09:28:54.111Z"
   },
   {
    "duration": -74,
    "start_time": "2022-02-13T09:28:54.745Z"
   },
   {
    "duration": -77,
    "start_time": "2022-02-13T09:28:54.751Z"
   },
   {
    "duration": -78,
    "start_time": "2022-02-13T09:28:54.754Z"
   },
   {
    "duration": 44,
    "start_time": "2022-02-13T09:29:32.349Z"
   },
   {
    "duration": 49,
    "start_time": "2022-02-13T09:30:17.142Z"
   },
   {
    "duration": 1316,
    "start_time": "2022-02-13T09:35:12.001Z"
   },
   {
    "duration": 63,
    "start_time": "2022-02-13T09:35:13.319Z"
   },
   {
    "duration": 14,
    "start_time": "2022-02-13T09:35:13.386Z"
   },
   {
    "duration": 71,
    "start_time": "2022-02-13T09:35:13.403Z"
   },
   {
    "duration": 17,
    "start_time": "2022-02-13T09:35:13.477Z"
   },
   {
    "duration": 16,
    "start_time": "2022-02-13T09:35:13.496Z"
   },
   {
    "duration": 37,
    "start_time": "2022-02-13T09:35:13.515Z"
   },
   {
    "duration": 13,
    "start_time": "2022-02-13T09:35:13.555Z"
   },
   {
    "duration": 22,
    "start_time": "2022-02-13T09:35:13.572Z"
   },
   {
    "duration": 19,
    "start_time": "2022-02-13T09:35:13.597Z"
   },
   {
    "duration": 18,
    "start_time": "2022-02-13T09:35:13.619Z"
   },
   {
    "duration": 30,
    "start_time": "2022-02-13T09:35:13.648Z"
   },
   {
    "duration": 6,
    "start_time": "2022-02-13T09:35:13.680Z"
   },
   {
    "duration": 34,
    "start_time": "2022-02-13T09:35:13.689Z"
   },
   {
    "duration": 25,
    "start_time": "2022-02-13T09:35:13.725Z"
   },
   {
    "duration": 9,
    "start_time": "2022-02-13T09:35:13.753Z"
   },
   {
    "duration": 8,
    "start_time": "2022-02-13T09:35:13.765Z"
   },
   {
    "duration": 15,
    "start_time": "2022-02-13T09:35:13.776Z"
   },
   {
    "duration": 58,
    "start_time": "2022-02-13T09:35:13.793Z"
   },
   {
    "duration": 38,
    "start_time": "2022-02-13T09:35:13.853Z"
   },
   {
    "duration": 20,
    "start_time": "2022-02-13T09:35:13.893Z"
   },
   {
    "duration": 46,
    "start_time": "2022-02-13T09:35:13.915Z"
   },
   {
    "duration": 17,
    "start_time": "2022-02-13T09:35:13.967Z"
   },
   {
    "duration": 464,
    "start_time": "2022-02-13T09:35:13.987Z"
   },
   {
    "duration": 10,
    "start_time": "2022-02-13T09:35:14.453Z"
   },
   {
    "duration": 15,
    "start_time": "2022-02-13T09:35:14.466Z"
   },
   {
    "duration": 331,
    "start_time": "2022-02-13T09:35:14.483Z"
   },
   {
    "duration": 4,
    "start_time": "2022-02-13T09:35:14.817Z"
   },
   {
    "duration": 532,
    "start_time": "2022-02-13T09:35:14.824Z"
   },
   {
    "duration": 3,
    "start_time": "2022-02-13T09:35:15.359Z"
   },
   {
    "duration": 32,
    "start_time": "2022-02-13T09:35:15.364Z"
   },
   {
    "duration": 7,
    "start_time": "2022-02-13T09:35:15.398Z"
   },
   {
    "duration": 20,
    "start_time": "2022-02-13T09:35:15.408Z"
   },
   {
    "duration": 7,
    "start_time": "2022-02-13T09:35:15.431Z"
   },
   {
    "duration": 568,
    "start_time": "2022-02-13T09:35:15.441Z"
   },
   {
    "duration": 908,
    "start_time": "2022-02-13T09:35:16.011Z"
   },
   {
    "duration": 13,
    "start_time": "2022-02-13T09:35:16.922Z"
   },
   {
    "duration": 550,
    "start_time": "2022-02-13T09:35:16.948Z"
   },
   {
    "duration": 12,
    "start_time": "2022-02-13T09:35:17.501Z"
   },
   {
    "duration": 395,
    "start_time": "2022-02-13T09:35:17.515Z"
   },
   {
    "duration": 15,
    "start_time": "2022-02-13T09:35:17.912Z"
   },
   {
    "duration": 418,
    "start_time": "2022-02-13T09:35:17.949Z"
   },
   {
    "duration": 13,
    "start_time": "2022-02-13T09:35:18.369Z"
   },
   {
    "duration": 17,
    "start_time": "2022-02-13T09:35:18.385Z"
   },
   {
    "duration": 17,
    "start_time": "2022-02-13T09:35:18.405Z"
   },
   {
    "duration": 34,
    "start_time": "2022-02-13T09:35:18.425Z"
   },
   {
    "duration": 645,
    "start_time": "2022-02-13T09:35:18.462Z"
   },
   {
    "duration": 15,
    "start_time": "2022-02-13T09:35:19.110Z"
   },
   {
    "duration": 34,
    "start_time": "2022-02-13T09:35:19.128Z"
   },
   {
    "duration": 370,
    "start_time": "2022-02-13T09:35:19.166Z"
   },
   {
    "duration": 748,
    "start_time": "2022-02-13T09:35:19.539Z"
   },
   {
    "duration": 13,
    "start_time": "2022-02-13T09:35:20.289Z"
   },
   {
    "duration": 68,
    "start_time": "2022-02-13T09:35:20.304Z"
   },
   {
    "duration": 457,
    "start_time": "2022-02-13T09:35:20.374Z"
   },
   {
    "duration": 20,
    "start_time": "2022-02-13T09:35:20.834Z"
   },
   {
    "duration": 832,
    "start_time": "2022-02-13T09:35:20.858Z"
   },
   {
    "duration": 512,
    "start_time": "2022-02-13T09:39:28.220Z"
   },
   {
    "duration": 1353,
    "start_time": "2022-02-13T09:40:49.538Z"
   },
   {
    "duration": 62,
    "start_time": "2022-02-13T09:40:50.894Z"
   },
   {
    "duration": 14,
    "start_time": "2022-02-13T09:40:50.959Z"
   },
   {
    "duration": 48,
    "start_time": "2022-02-13T09:40:50.977Z"
   },
   {
    "duration": 33,
    "start_time": "2022-02-13T09:40:51.028Z"
   },
   {
    "duration": 16,
    "start_time": "2022-02-13T09:40:51.064Z"
   },
   {
    "duration": 14,
    "start_time": "2022-02-13T09:40:51.083Z"
   },
   {
    "duration": 49,
    "start_time": "2022-02-13T09:40:51.101Z"
   },
   {
    "duration": 10,
    "start_time": "2022-02-13T09:40:51.153Z"
   },
   {
    "duration": 7,
    "start_time": "2022-02-13T09:40:51.166Z"
   },
   {
    "duration": 8,
    "start_time": "2022-02-13T09:40:51.176Z"
   },
   {
    "duration": 69,
    "start_time": "2022-02-13T09:40:51.186Z"
   },
   {
    "duration": 7,
    "start_time": "2022-02-13T09:40:51.257Z"
   },
   {
    "duration": 23,
    "start_time": "2022-02-13T09:40:51.266Z"
   },
   {
    "duration": 12,
    "start_time": "2022-02-13T09:40:51.291Z"
   },
   {
    "duration": 43,
    "start_time": "2022-02-13T09:40:51.305Z"
   },
   {
    "duration": 10,
    "start_time": "2022-02-13T09:40:51.350Z"
   },
   {
    "duration": 14,
    "start_time": "2022-02-13T09:40:51.363Z"
   },
   {
    "duration": 17,
    "start_time": "2022-02-13T09:40:51.379Z"
   },
   {
    "duration": 74,
    "start_time": "2022-02-13T09:40:51.398Z"
   },
   {
    "duration": 14,
    "start_time": "2022-02-13T09:40:51.475Z"
   },
   {
    "duration": 25,
    "start_time": "2022-02-13T09:40:51.491Z"
   },
   {
    "duration": 32,
    "start_time": "2022-02-13T09:40:51.521Z"
   },
   {
    "duration": 480,
    "start_time": "2022-02-13T09:40:51.557Z"
   },
   {
    "duration": 17,
    "start_time": "2022-02-13T09:40:52.041Z"
   },
   {
    "duration": 25,
    "start_time": "2022-02-13T09:40:52.061Z"
   },
   {
    "duration": 337,
    "start_time": "2022-02-13T09:40:52.090Z"
   },
   {
    "duration": 4,
    "start_time": "2022-02-13T09:40:52.430Z"
   },
   {
    "duration": 725,
    "start_time": "2022-02-13T09:40:52.437Z"
   },
   {
    "duration": 4,
    "start_time": "2022-02-13T09:40:53.165Z"
   },
   {
    "duration": 29,
    "start_time": "2022-02-13T09:40:53.172Z"
   },
   {
    "duration": 45,
    "start_time": "2022-02-13T09:40:53.204Z"
   },
   {
    "duration": 11,
    "start_time": "2022-02-13T09:40:53.252Z"
   },
   {
    "duration": 7,
    "start_time": "2022-02-13T09:40:53.267Z"
   },
   {
    "duration": 579,
    "start_time": "2022-02-13T09:40:53.278Z"
   },
   {
    "duration": 804,
    "start_time": "2022-02-13T09:40:53.860Z"
   },
   {
    "duration": 14,
    "start_time": "2022-02-13T09:40:54.667Z"
   },
   {
    "duration": 464,
    "start_time": "2022-02-13T09:40:54.685Z"
   },
   {
    "duration": 14,
    "start_time": "2022-02-13T09:40:55.151Z"
   },
   {
    "duration": 403,
    "start_time": "2022-02-13T09:40:55.167Z"
   },
   {
    "duration": 13,
    "start_time": "2022-02-13T09:40:55.573Z"
   },
   {
    "duration": 421,
    "start_time": "2022-02-13T09:40:55.588Z"
   },
   {
    "duration": 13,
    "start_time": "2022-02-13T09:40:56.011Z"
   },
   {
    "duration": 31,
    "start_time": "2022-02-13T09:40:56.027Z"
   },
   {
    "duration": 14,
    "start_time": "2022-02-13T09:40:56.061Z"
   },
   {
    "duration": 21,
    "start_time": "2022-02-13T09:40:56.077Z"
   },
   {
    "duration": 592,
    "start_time": "2022-02-13T09:40:56.102Z"
   },
   {
    "duration": 11,
    "start_time": "2022-02-13T09:40:56.697Z"
   },
   {
    "duration": 38,
    "start_time": "2022-02-13T09:40:56.710Z"
   },
   {
    "duration": 337,
    "start_time": "2022-02-13T09:40:56.751Z"
   },
   {
    "duration": 786,
    "start_time": "2022-02-13T09:40:57.092Z"
   },
   {
    "duration": 14,
    "start_time": "2022-02-13T09:40:57.881Z"
   },
   {
    "duration": 70,
    "start_time": "2022-02-13T09:40:57.897Z"
   },
   {
    "duration": 463,
    "start_time": "2022-02-13T09:40:57.970Z"
   },
   {
    "duration": 23,
    "start_time": "2022-02-13T09:40:58.436Z"
   },
   {
    "duration": 773,
    "start_time": "2022-02-13T09:40:58.462Z"
   },
   {
    "duration": 49,
    "start_time": "2022-02-13T09:42:13.123Z"
   },
   {
    "duration": 51,
    "start_time": "2022-02-13T09:42:59.743Z"
   },
   {
    "duration": 1343,
    "start_time": "2022-02-13T09:55:52.266Z"
   },
   {
    "duration": 64,
    "start_time": "2022-02-13T09:55:53.612Z"
   },
   {
    "duration": 15,
    "start_time": "2022-02-13T09:55:53.680Z"
   },
   {
    "duration": 61,
    "start_time": "2022-02-13T09:55:53.698Z"
   },
   {
    "duration": 16,
    "start_time": "2022-02-13T09:55:53.761Z"
   },
   {
    "duration": 16,
    "start_time": "2022-02-13T09:55:53.780Z"
   },
   {
    "duration": 49,
    "start_time": "2022-02-13T09:55:53.799Z"
   },
   {
    "duration": 16,
    "start_time": "2022-02-13T09:55:53.855Z"
   },
   {
    "duration": 10,
    "start_time": "2022-02-13T09:55:53.875Z"
   },
   {
    "duration": 6,
    "start_time": "2022-02-13T09:55:53.888Z"
   },
   {
    "duration": 7,
    "start_time": "2022-02-13T09:55:53.897Z"
   },
   {
    "duration": 33,
    "start_time": "2022-02-13T09:55:53.950Z"
   },
   {
    "duration": 7,
    "start_time": "2022-02-13T09:55:53.986Z"
   },
   {
    "duration": 61,
    "start_time": "2022-02-13T09:55:53.996Z"
   },
   {
    "duration": 14,
    "start_time": "2022-02-13T09:55:54.060Z"
   },
   {
    "duration": 11,
    "start_time": "2022-02-13T09:55:54.077Z"
   },
   {
    "duration": 10,
    "start_time": "2022-02-13T09:55:54.093Z"
   },
   {
    "duration": 16,
    "start_time": "2022-02-13T09:55:54.149Z"
   },
   {
    "duration": 18,
    "start_time": "2022-02-13T09:55:54.168Z"
   },
   {
    "duration": 73,
    "start_time": "2022-02-13T09:55:54.189Z"
   },
   {
    "duration": 15,
    "start_time": "2022-02-13T09:55:54.265Z"
   },
   {
    "duration": 23,
    "start_time": "2022-02-13T09:55:54.283Z"
   },
   {
    "duration": 9,
    "start_time": "2022-02-13T09:55:54.312Z"
   },
   {
    "duration": 477,
    "start_time": "2022-02-13T09:55:54.325Z"
   },
   {
    "duration": 12,
    "start_time": "2022-02-13T09:55:54.804Z"
   },
   {
    "duration": 38,
    "start_time": "2022-02-13T09:55:54.820Z"
   },
   {
    "duration": 433,
    "start_time": "2022-02-13T09:55:54.861Z"
   },
   {
    "duration": 3,
    "start_time": "2022-02-13T09:55:55.297Z"
   },
   {
    "duration": 503,
    "start_time": "2022-02-13T09:55:55.303Z"
   },
   {
    "duration": 3,
    "start_time": "2022-02-13T09:55:55.809Z"
   },
   {
    "duration": 55,
    "start_time": "2022-02-13T09:55:55.815Z"
   },
   {
    "duration": 9,
    "start_time": "2022-02-13T09:55:55.872Z"
   },
   {
    "duration": 15,
    "start_time": "2022-02-13T09:55:55.884Z"
   },
   {
    "duration": 5,
    "start_time": "2022-02-13T09:55:55.902Z"
   },
   {
    "duration": 615,
    "start_time": "2022-02-13T09:55:55.910Z"
   },
   {
    "duration": 898,
    "start_time": "2022-02-13T09:55:56.528Z"
   },
   {
    "duration": 25,
    "start_time": "2022-02-13T09:55:57.428Z"
   },
   {
    "duration": 428,
    "start_time": "2022-02-13T09:55:57.456Z"
   },
   {
    "duration": 14,
    "start_time": "2022-02-13T09:55:57.886Z"
   },
   {
    "duration": 416,
    "start_time": "2022-02-13T09:55:57.902Z"
   },
   {
    "duration": 28,
    "start_time": "2022-02-13T09:55:58.320Z"
   },
   {
    "duration": 416,
    "start_time": "2022-02-13T09:55:58.351Z"
   },
   {
    "duration": 13,
    "start_time": "2022-02-13T09:55:58.769Z"
   },
   {
    "duration": 14,
    "start_time": "2022-02-13T09:55:58.785Z"
   },
   {
    "duration": 49,
    "start_time": "2022-02-13T09:55:58.801Z"
   },
   {
    "duration": 13,
    "start_time": "2022-02-13T09:55:58.853Z"
   },
   {
    "duration": 623,
    "start_time": "2022-02-13T09:55:58.868Z"
   },
   {
    "duration": 14,
    "start_time": "2022-02-13T09:55:59.495Z"
   },
   {
    "duration": 38,
    "start_time": "2022-02-13T09:55:59.512Z"
   },
   {
    "duration": 593,
    "start_time": "2022-02-13T09:55:59.552Z"
   },
   {
    "duration": 1127,
    "start_time": "2022-02-13T09:56:00.150Z"
   },
   {
    "duration": 17,
    "start_time": "2022-02-13T09:56:01.281Z"
   },
   {
    "duration": 92,
    "start_time": "2022-02-13T09:56:01.300Z"
   },
   {
    "duration": 85,
    "start_time": "2022-02-13T09:56:01.394Z"
   },
   {
    "duration": 83,
    "start_time": "2022-02-13T09:56:01.482Z"
   },
   {
    "duration": 1145,
    "start_time": "2022-02-13T09:56:01.568Z"
   },
   {
    "duration": 1372,
    "start_time": "2022-02-13T09:58:27.315Z"
   },
   {
    "duration": 63,
    "start_time": "2022-02-13T09:58:28.689Z"
   },
   {
    "duration": 17,
    "start_time": "2022-02-13T09:58:28.756Z"
   },
   {
    "duration": 41,
    "start_time": "2022-02-13T09:58:28.777Z"
   },
   {
    "duration": 46,
    "start_time": "2022-02-13T09:58:28.820Z"
   },
   {
    "duration": 22,
    "start_time": "2022-02-13T09:58:28.869Z"
   },
   {
    "duration": 18,
    "start_time": "2022-02-13T09:58:28.894Z"
   },
   {
    "duration": 28,
    "start_time": "2022-02-13T09:58:28.962Z"
   },
   {
    "duration": 13,
    "start_time": "2022-02-13T09:58:28.995Z"
   },
   {
    "duration": 8,
    "start_time": "2022-02-13T09:58:29.012Z"
   },
   {
    "duration": 29,
    "start_time": "2022-02-13T09:58:29.023Z"
   },
   {
    "duration": 47,
    "start_time": "2022-02-13T09:58:29.055Z"
   },
   {
    "duration": 6,
    "start_time": "2022-02-13T09:58:29.104Z"
   },
   {
    "duration": 52,
    "start_time": "2022-02-13T09:58:29.113Z"
   },
   {
    "duration": 11,
    "start_time": "2022-02-13T09:58:29.168Z"
   },
   {
    "duration": 8,
    "start_time": "2022-02-13T09:58:29.182Z"
   },
   {
    "duration": 10,
    "start_time": "2022-02-13T09:58:29.193Z"
   },
   {
    "duration": 71,
    "start_time": "2022-02-13T09:58:29.205Z"
   },
   {
    "duration": 20,
    "start_time": "2022-02-13T09:58:29.279Z"
   },
   {
    "duration": 65,
    "start_time": "2022-02-13T09:58:29.302Z"
   },
   {
    "duration": 16,
    "start_time": "2022-02-13T09:58:29.370Z"
   },
   {
    "duration": 25,
    "start_time": "2022-02-13T09:58:29.388Z"
   },
   {
    "duration": 31,
    "start_time": "2022-02-13T09:58:29.419Z"
   },
   {
    "duration": 497,
    "start_time": "2022-02-13T09:58:29.456Z"
   },
   {
    "duration": 11,
    "start_time": "2022-02-13T09:58:29.956Z"
   },
   {
    "duration": 20,
    "start_time": "2022-02-13T09:58:29.969Z"
   },
   {
    "duration": 352,
    "start_time": "2022-02-13T09:58:29.992Z"
   },
   {
    "duration": 4,
    "start_time": "2022-02-13T09:58:30.349Z"
   },
   {
    "duration": 544,
    "start_time": "2022-02-13T09:58:30.361Z"
   },
   {
    "duration": 3,
    "start_time": "2022-02-13T09:58:30.908Z"
   },
   {
    "duration": 53,
    "start_time": "2022-02-13T09:58:30.914Z"
   },
   {
    "duration": 25,
    "start_time": "2022-02-13T09:58:30.969Z"
   },
   {
    "duration": 35,
    "start_time": "2022-02-13T09:58:30.996Z"
   },
   {
    "duration": 30,
    "start_time": "2022-02-13T09:58:31.035Z"
   },
   {
    "duration": 524,
    "start_time": "2022-02-13T09:58:31.068Z"
   },
   {
    "duration": 837,
    "start_time": "2022-02-13T09:58:31.595Z"
   },
   {
    "duration": 30,
    "start_time": "2022-02-13T09:58:32.435Z"
   },
   {
    "duration": 463,
    "start_time": "2022-02-13T09:58:32.469Z"
   },
   {
    "duration": 19,
    "start_time": "2022-02-13T09:58:32.934Z"
   },
   {
    "duration": 529,
    "start_time": "2022-02-13T09:58:32.955Z"
   },
   {
    "duration": 17,
    "start_time": "2022-02-13T09:58:33.488Z"
   },
   {
    "duration": 505,
    "start_time": "2022-02-13T09:58:33.507Z"
   },
   {
    "duration": 14,
    "start_time": "2022-02-13T09:58:34.016Z"
   },
   {
    "duration": 31,
    "start_time": "2022-02-13T09:58:34.032Z"
   },
   {
    "duration": 31,
    "start_time": "2022-02-13T09:58:34.066Z"
   },
   {
    "duration": 17,
    "start_time": "2022-02-13T09:58:34.100Z"
   },
   {
    "duration": 664,
    "start_time": "2022-02-13T09:58:34.120Z"
   },
   {
    "duration": 10,
    "start_time": "2022-02-13T09:58:34.786Z"
   },
   {
    "duration": 16,
    "start_time": "2022-02-13T09:58:34.798Z"
   },
   {
    "duration": 377,
    "start_time": "2022-02-13T09:58:34.817Z"
   },
   {
    "duration": 1070,
    "start_time": "2022-02-13T09:58:35.198Z"
   },
   {
    "duration": 13,
    "start_time": "2022-02-13T09:58:36.271Z"
   },
   {
    "duration": 76,
    "start_time": "2022-02-13T09:58:36.286Z"
   },
   {
    "duration": 53,
    "start_time": "2022-02-13T09:58:36.365Z"
   },
   {
    "duration": 77,
    "start_time": "2022-02-13T09:58:36.421Z"
   },
   {
    "duration": 819,
    "start_time": "2022-02-13T09:58:36.501Z"
   },
   {
    "duration": 1290,
    "start_time": "2022-02-13T10:10:09.221Z"
   },
   {
    "duration": 65,
    "start_time": "2022-02-13T10:10:10.514Z"
   },
   {
    "duration": 14,
    "start_time": "2022-02-13T10:10:10.581Z"
   },
   {
    "duration": 57,
    "start_time": "2022-02-13T10:10:10.598Z"
   },
   {
    "duration": 16,
    "start_time": "2022-02-13T10:10:10.657Z"
   },
   {
    "duration": 24,
    "start_time": "2022-02-13T10:10:10.676Z"
   },
   {
    "duration": 25,
    "start_time": "2022-02-13T10:10:10.703Z"
   },
   {
    "duration": 28,
    "start_time": "2022-02-13T10:10:10.732Z"
   },
   {
    "duration": 33,
    "start_time": "2022-02-13T10:10:10.763Z"
   },
   {
    "duration": 6,
    "start_time": "2022-02-13T10:10:10.799Z"
   },
   {
    "duration": 13,
    "start_time": "2022-02-13T10:10:10.808Z"
   },
   {
    "duration": 44,
    "start_time": "2022-02-13T10:10:10.824Z"
   },
   {
    "duration": 7,
    "start_time": "2022-02-13T10:10:10.871Z"
   },
   {
    "duration": 40,
    "start_time": "2022-02-13T10:10:10.881Z"
   },
   {
    "duration": 27,
    "start_time": "2022-02-13T10:10:10.924Z"
   },
   {
    "duration": 11,
    "start_time": "2022-02-13T10:10:10.954Z"
   },
   {
    "duration": 15,
    "start_time": "2022-02-13T10:10:10.969Z"
   },
   {
    "duration": 22,
    "start_time": "2022-02-13T10:10:10.987Z"
   },
   {
    "duration": 46,
    "start_time": "2022-02-13T10:10:11.012Z"
   },
   {
    "duration": 38,
    "start_time": "2022-02-13T10:10:11.061Z"
   },
   {
    "duration": 23,
    "start_time": "2022-02-13T10:10:11.101Z"
   },
   {
    "duration": 46,
    "start_time": "2022-02-13T10:10:11.126Z"
   },
   {
    "duration": 11,
    "start_time": "2022-02-13T10:10:11.177Z"
   },
   {
    "duration": 485,
    "start_time": "2022-02-13T10:10:11.191Z"
   },
   {
    "duration": 11,
    "start_time": "2022-02-13T10:10:11.679Z"
   },
   {
    "duration": 22,
    "start_time": "2022-02-13T10:10:11.692Z"
   },
   {
    "duration": 309,
    "start_time": "2022-02-13T10:10:11.717Z"
   },
   {
    "duration": 4,
    "start_time": "2022-02-13T10:10:12.028Z"
   },
   {
    "duration": 514,
    "start_time": "2022-02-13T10:10:12.035Z"
   },
   {
    "duration": 3,
    "start_time": "2022-02-13T10:10:12.552Z"
   },
   {
    "duration": 32,
    "start_time": "2022-02-13T10:10:12.557Z"
   },
   {
    "duration": 9,
    "start_time": "2022-02-13T10:10:12.592Z"
   },
   {
    "duration": 45,
    "start_time": "2022-02-13T10:10:12.603Z"
   },
   {
    "duration": 6,
    "start_time": "2022-02-13T10:10:12.651Z"
   },
   {
    "duration": 498,
    "start_time": "2022-02-13T10:10:12.660Z"
   },
   {
    "duration": 890,
    "start_time": "2022-02-13T10:10:13.161Z"
   },
   {
    "duration": 13,
    "start_time": "2022-02-13T10:10:14.054Z"
   },
   {
    "duration": 436,
    "start_time": "2022-02-13T10:10:14.070Z"
   },
   {
    "duration": 15,
    "start_time": "2022-02-13T10:10:14.508Z"
   },
   {
    "duration": 414,
    "start_time": "2022-02-13T10:10:14.526Z"
   },
   {
    "duration": 13,
    "start_time": "2022-02-13T10:10:14.948Z"
   },
   {
    "duration": 422,
    "start_time": "2022-02-13T10:10:14.964Z"
   },
   {
    "duration": 16,
    "start_time": "2022-02-13T10:10:15.388Z"
   },
   {
    "duration": 16,
    "start_time": "2022-02-13T10:10:15.407Z"
   },
   {
    "duration": 33,
    "start_time": "2022-02-13T10:10:15.426Z"
   },
   {
    "duration": 18,
    "start_time": "2022-02-13T10:10:15.461Z"
   },
   {
    "duration": 621,
    "start_time": "2022-02-13T10:10:15.481Z"
   },
   {
    "duration": 10,
    "start_time": "2022-02-13T10:10:16.105Z"
   },
   {
    "duration": 35,
    "start_time": "2022-02-13T10:10:16.117Z"
   },
   {
    "duration": 321,
    "start_time": "2022-02-13T10:10:16.155Z"
   },
   {
    "duration": 872,
    "start_time": "2022-02-13T10:10:16.479Z"
   },
   {
    "duration": 13,
    "start_time": "2022-02-13T10:10:17.354Z"
   },
   {
    "duration": 578,
    "start_time": "2022-02-13T10:10:17.370Z"
   },
   {
    "duration": -75,
    "start_time": "2022-02-13T10:10:18.026Z"
   },
   {
    "duration": -84,
    "start_time": "2022-02-13T10:10:18.037Z"
   },
   {
    "duration": -87,
    "start_time": "2022-02-13T10:10:18.041Z"
   },
   {
    "duration": 1443,
    "start_time": "2022-02-13T10:10:47.717Z"
   },
   {
    "duration": 59,
    "start_time": "2022-02-13T10:10:49.163Z"
   },
   {
    "duration": 26,
    "start_time": "2022-02-13T10:10:49.225Z"
   },
   {
    "duration": 40,
    "start_time": "2022-02-13T10:10:49.253Z"
   },
   {
    "duration": 17,
    "start_time": "2022-02-13T10:10:49.296Z"
   },
   {
    "duration": 46,
    "start_time": "2022-02-13T10:10:49.316Z"
   },
   {
    "duration": 15,
    "start_time": "2022-02-13T10:10:49.365Z"
   },
   {
    "duration": 13,
    "start_time": "2022-02-13T10:10:49.384Z"
   },
   {
    "duration": 50,
    "start_time": "2022-02-13T10:10:49.400Z"
   },
   {
    "duration": 7,
    "start_time": "2022-02-13T10:10:49.453Z"
   },
   {
    "duration": 10,
    "start_time": "2022-02-13T10:10:49.463Z"
   },
   {
    "duration": 32,
    "start_time": "2022-02-13T10:10:49.476Z"
   },
   {
    "duration": 43,
    "start_time": "2022-02-13T10:10:49.510Z"
   },
   {
    "duration": 26,
    "start_time": "2022-02-13T10:10:49.555Z"
   },
   {
    "duration": 11,
    "start_time": "2022-02-13T10:10:49.584Z"
   },
   {
    "duration": 22,
    "start_time": "2022-02-13T10:10:49.597Z"
   },
   {
    "duration": 29,
    "start_time": "2022-02-13T10:10:49.621Z"
   },
   {
    "duration": 13,
    "start_time": "2022-02-13T10:10:49.652Z"
   },
   {
    "duration": 16,
    "start_time": "2022-02-13T10:10:49.667Z"
   },
   {
    "duration": 34,
    "start_time": "2022-02-13T10:10:49.685Z"
   },
   {
    "duration": 14,
    "start_time": "2022-02-13T10:10:49.749Z"
   },
   {
    "duration": 20,
    "start_time": "2022-02-13T10:10:49.766Z"
   },
   {
    "duration": 8,
    "start_time": "2022-02-13T10:10:49.791Z"
   },
   {
    "duration": 475,
    "start_time": "2022-02-13T10:10:49.802Z"
   },
   {
    "duration": 12,
    "start_time": "2022-02-13T10:10:50.280Z"
   },
   {
    "duration": 18,
    "start_time": "2022-02-13T10:10:50.295Z"
   },
   {
    "duration": 327,
    "start_time": "2022-02-13T10:10:50.315Z"
   },
   {
    "duration": 3,
    "start_time": "2022-02-13T10:10:50.648Z"
   },
   {
    "duration": 483,
    "start_time": "2022-02-13T10:10:50.654Z"
   },
   {
    "duration": 3,
    "start_time": "2022-02-13T10:10:51.148Z"
   },
   {
    "duration": 29,
    "start_time": "2022-02-13T10:10:51.155Z"
   },
   {
    "duration": 7,
    "start_time": "2022-02-13T10:10:51.187Z"
   },
   {
    "duration": 13,
    "start_time": "2022-02-13T10:10:51.196Z"
   },
   {
    "duration": 41,
    "start_time": "2022-02-13T10:10:51.212Z"
   },
   {
    "duration": 504,
    "start_time": "2022-02-13T10:10:51.256Z"
   },
   {
    "duration": 857,
    "start_time": "2022-02-13T10:10:51.763Z"
   },
   {
    "duration": 13,
    "start_time": "2022-02-13T10:10:52.622Z"
   },
   {
    "duration": 463,
    "start_time": "2022-02-13T10:10:52.649Z"
   },
   {
    "duration": 13,
    "start_time": "2022-02-13T10:10:53.115Z"
   },
   {
    "duration": 388,
    "start_time": "2022-02-13T10:10:53.149Z"
   },
   {
    "duration": 17,
    "start_time": "2022-02-13T10:10:53.540Z"
   },
   {
    "duration": 408,
    "start_time": "2022-02-13T10:10:53.560Z"
   },
   {
    "duration": 13,
    "start_time": "2022-02-13T10:10:53.970Z"
   },
   {
    "duration": 14,
    "start_time": "2022-02-13T10:10:53.986Z"
   },
   {
    "duration": 12,
    "start_time": "2022-02-13T10:10:54.002Z"
   },
   {
    "duration": 46,
    "start_time": "2022-02-13T10:10:54.016Z"
   },
   {
    "duration": 525,
    "start_time": "2022-02-13T10:10:54.065Z"
   },
   {
    "duration": 13,
    "start_time": "2022-02-13T10:10:54.593Z"
   },
   {
    "duration": 15,
    "start_time": "2022-02-13T10:10:54.608Z"
   },
   {
    "duration": 341,
    "start_time": "2022-02-13T10:10:54.649Z"
   },
   {
    "duration": 1215,
    "start_time": "2022-02-13T10:10:54.993Z"
   },
   {
    "duration": 19,
    "start_time": "2022-02-13T10:10:56.211Z"
   },
   {
    "duration": 707,
    "start_time": "2022-02-13T10:10:56.249Z"
   },
   {
    "duration": -141,
    "start_time": "2022-02-13T10:10:57.100Z"
   },
   {
    "duration": -144,
    "start_time": "2022-02-13T10:10:57.105Z"
   },
   {
    "duration": -145,
    "start_time": "2022-02-13T10:10:57.107Z"
   },
   {
    "duration": 690,
    "start_time": "2022-02-13T10:11:25.581Z"
   },
   {
    "duration": 901,
    "start_time": "2022-02-13T10:12:10.147Z"
   },
   {
    "duration": 561,
    "start_time": "2022-02-13T10:13:44.460Z"
   },
   {
    "duration": 1537,
    "start_time": "2022-02-13T10:14:13.088Z"
   },
   {
    "duration": 68,
    "start_time": "2022-02-13T10:14:14.628Z"
   },
   {
    "duration": 18,
    "start_time": "2022-02-13T10:14:14.700Z"
   },
   {
    "duration": 62,
    "start_time": "2022-02-13T10:14:14.721Z"
   },
   {
    "duration": 16,
    "start_time": "2022-02-13T10:14:14.786Z"
   },
   {
    "duration": 45,
    "start_time": "2022-02-13T10:14:14.805Z"
   },
   {
    "duration": 22,
    "start_time": "2022-02-13T10:14:14.853Z"
   },
   {
    "duration": 14,
    "start_time": "2022-02-13T10:14:14.879Z"
   },
   {
    "duration": 10,
    "start_time": "2022-02-13T10:14:14.897Z"
   },
   {
    "duration": 43,
    "start_time": "2022-02-13T10:14:14.909Z"
   },
   {
    "duration": 14,
    "start_time": "2022-02-13T10:14:14.954Z"
   },
   {
    "duration": 40,
    "start_time": "2022-02-13T10:14:14.971Z"
   },
   {
    "duration": 7,
    "start_time": "2022-02-13T10:14:15.014Z"
   },
   {
    "duration": 46,
    "start_time": "2022-02-13T10:14:15.024Z"
   },
   {
    "duration": 11,
    "start_time": "2022-02-13T10:14:15.072Z"
   },
   {
    "duration": 9,
    "start_time": "2022-02-13T10:14:15.086Z"
   },
   {
    "duration": 8,
    "start_time": "2022-02-13T10:14:15.098Z"
   },
   {
    "duration": 52,
    "start_time": "2022-02-13T10:14:15.108Z"
   },
   {
    "duration": 22,
    "start_time": "2022-02-13T10:14:15.162Z"
   },
   {
    "duration": 35,
    "start_time": "2022-02-13T10:14:15.186Z"
   },
   {
    "duration": 16,
    "start_time": "2022-02-13T10:14:15.249Z"
   },
   {
    "duration": 20,
    "start_time": "2022-02-13T10:14:15.267Z"
   },
   {
    "duration": 8,
    "start_time": "2022-02-13T10:14:15.293Z"
   },
   {
    "duration": 465,
    "start_time": "2022-02-13T10:14:15.304Z"
   },
   {
    "duration": 10,
    "start_time": "2022-02-13T10:14:15.772Z"
   },
   {
    "duration": 21,
    "start_time": "2022-02-13T10:14:15.785Z"
   },
   {
    "duration": 312,
    "start_time": "2022-02-13T10:14:15.809Z"
   },
   {
    "duration": 4,
    "start_time": "2022-02-13T10:14:16.125Z"
   },
   {
    "duration": 635,
    "start_time": "2022-02-13T10:14:16.132Z"
   },
   {
    "duration": 3,
    "start_time": "2022-02-13T10:14:16.770Z"
   },
   {
    "duration": 45,
    "start_time": "2022-02-13T10:14:16.776Z"
   },
   {
    "duration": 7,
    "start_time": "2022-02-13T10:14:16.824Z"
   },
   {
    "duration": 21,
    "start_time": "2022-02-13T10:14:16.848Z"
   },
   {
    "duration": 6,
    "start_time": "2022-02-13T10:14:16.872Z"
   },
   {
    "duration": 492,
    "start_time": "2022-02-13T10:14:16.881Z"
   },
   {
    "duration": 757,
    "start_time": "2022-02-13T10:14:17.375Z"
   },
   {
    "duration": 19,
    "start_time": "2022-02-13T10:14:18.134Z"
   },
   {
    "duration": 488,
    "start_time": "2022-02-13T10:14:18.155Z"
   },
   {
    "duration": 12,
    "start_time": "2022-02-13T10:14:18.649Z"
   },
   {
    "duration": 420,
    "start_time": "2022-02-13T10:14:18.664Z"
   },
   {
    "duration": 13,
    "start_time": "2022-02-13T10:14:19.086Z"
   },
   {
    "duration": 403,
    "start_time": "2022-02-13T10:14:19.102Z"
   },
   {
    "duration": 13,
    "start_time": "2022-02-13T10:14:19.508Z"
   },
   {
    "duration": 36,
    "start_time": "2022-02-13T10:14:19.524Z"
   },
   {
    "duration": 17,
    "start_time": "2022-02-13T10:14:19.563Z"
   },
   {
    "duration": 12,
    "start_time": "2022-02-13T10:14:19.582Z"
   },
   {
    "duration": 534,
    "start_time": "2022-02-13T10:14:19.596Z"
   },
   {
    "duration": 18,
    "start_time": "2022-02-13T10:14:20.133Z"
   },
   {
    "duration": 27,
    "start_time": "2022-02-13T10:14:20.153Z"
   },
   {
    "duration": 326,
    "start_time": "2022-02-13T10:14:20.183Z"
   },
   {
    "duration": 761,
    "start_time": "2022-02-13T10:14:20.511Z"
   },
   {
    "duration": 13,
    "start_time": "2022-02-13T10:14:21.274Z"
   },
   {
    "duration": 721,
    "start_time": "2022-02-13T10:14:21.290Z"
   },
   {
    "duration": 70,
    "start_time": "2022-02-13T10:14:22.014Z"
   },
   {
    "duration": 87,
    "start_time": "2022-02-13T10:14:22.086Z"
   },
   {
    "duration": 882,
    "start_time": "2022-02-13T10:14:22.176Z"
   },
   {
    "duration": 1461,
    "start_time": "2022-02-13T10:18:32.270Z"
   },
   {
    "duration": 60,
    "start_time": "2022-02-13T10:18:33.734Z"
   },
   {
    "duration": 13,
    "start_time": "2022-02-13T10:18:33.797Z"
   },
   {
    "duration": 74,
    "start_time": "2022-02-13T10:18:33.813Z"
   },
   {
    "duration": 22,
    "start_time": "2022-02-13T10:18:33.890Z"
   },
   {
    "duration": 45,
    "start_time": "2022-02-13T10:18:33.915Z"
   },
   {
    "duration": 13,
    "start_time": "2022-02-13T10:18:33.963Z"
   },
   {
    "duration": 19,
    "start_time": "2022-02-13T10:18:33.981Z"
   },
   {
    "duration": 51,
    "start_time": "2022-02-13T10:18:34.004Z"
   },
   {
    "duration": 9,
    "start_time": "2022-02-13T10:18:34.058Z"
   },
   {
    "duration": 14,
    "start_time": "2022-02-13T10:18:34.069Z"
   },
   {
    "duration": 59,
    "start_time": "2022-02-13T10:18:34.093Z"
   },
   {
    "duration": 8,
    "start_time": "2022-02-13T10:18:34.154Z"
   },
   {
    "duration": 37,
    "start_time": "2022-02-13T10:18:34.165Z"
   },
   {
    "duration": 13,
    "start_time": "2022-02-13T10:18:34.205Z"
   },
   {
    "duration": 11,
    "start_time": "2022-02-13T10:18:34.248Z"
   },
   {
    "duration": 9,
    "start_time": "2022-02-13T10:18:34.262Z"
   },
   {
    "duration": 13,
    "start_time": "2022-02-13T10:18:34.274Z"
   },
   {
    "duration": 19,
    "start_time": "2022-02-13T10:18:34.289Z"
   },
   {
    "duration": 72,
    "start_time": "2022-02-13T10:18:34.310Z"
   },
   {
    "duration": 25,
    "start_time": "2022-02-13T10:18:34.384Z"
   },
   {
    "duration": 38,
    "start_time": "2022-02-13T10:18:34.412Z"
   },
   {
    "duration": 8,
    "start_time": "2022-02-13T10:18:34.456Z"
   },
   {
    "duration": 458,
    "start_time": "2022-02-13T10:18:34.468Z"
   },
   {
    "duration": 22,
    "start_time": "2022-02-13T10:18:34.928Z"
   },
   {
    "duration": 15,
    "start_time": "2022-02-13T10:18:34.953Z"
   },
   {
    "duration": 327,
    "start_time": "2022-02-13T10:18:34.971Z"
   },
   {
    "duration": 4,
    "start_time": "2022-02-13T10:18:35.301Z"
   },
   {
    "duration": 498,
    "start_time": "2022-02-13T10:18:35.307Z"
   },
   {
    "duration": 4,
    "start_time": "2022-02-13T10:18:35.807Z"
   },
   {
    "duration": 46,
    "start_time": "2022-02-13T10:18:35.813Z"
   },
   {
    "duration": 7,
    "start_time": "2022-02-13T10:18:35.862Z"
   },
   {
    "duration": 16,
    "start_time": "2022-02-13T10:18:35.871Z"
   },
   {
    "duration": 6,
    "start_time": "2022-02-13T10:18:35.889Z"
   },
   {
    "duration": 486,
    "start_time": "2022-02-13T10:18:35.897Z"
   },
   {
    "duration": 758,
    "start_time": "2022-02-13T10:18:36.385Z"
   },
   {
    "duration": 14,
    "start_time": "2022-02-13T10:18:37.149Z"
   },
   {
    "duration": 486,
    "start_time": "2022-02-13T10:18:37.165Z"
   },
   {
    "duration": 13,
    "start_time": "2022-02-13T10:18:37.653Z"
   },
   {
    "duration": 485,
    "start_time": "2022-02-13T10:18:37.669Z"
   },
   {
    "duration": 13,
    "start_time": "2022-02-13T10:18:38.157Z"
   },
   {
    "duration": 422,
    "start_time": "2022-02-13T10:18:38.173Z"
   },
   {
    "duration": 14,
    "start_time": "2022-02-13T10:18:38.597Z"
   },
   {
    "duration": 36,
    "start_time": "2022-02-13T10:18:38.614Z"
   },
   {
    "duration": 17,
    "start_time": "2022-02-13T10:18:38.653Z"
   },
   {
    "duration": 16,
    "start_time": "2022-02-13T10:18:38.672Z"
   },
   {
    "duration": 534,
    "start_time": "2022-02-13T10:18:38.690Z"
   },
   {
    "duration": 25,
    "start_time": "2022-02-13T10:18:39.228Z"
   },
   {
    "duration": 15,
    "start_time": "2022-02-13T10:18:39.256Z"
   },
   {
    "duration": 348,
    "start_time": "2022-02-13T10:18:39.274Z"
   },
   {
    "duration": 754,
    "start_time": "2022-02-13T10:18:39.625Z"
   },
   {
    "duration": 15,
    "start_time": "2022-02-13T10:18:40.382Z"
   },
   {
    "duration": 15,
    "start_time": "2022-02-13T10:18:40.400Z"
   },
   {
    "duration": 700,
    "start_time": "2022-02-13T10:18:40.449Z"
   },
   {
    "duration": 51,
    "start_time": "2022-02-13T10:18:41.151Z"
   },
   {
    "duration": 79,
    "start_time": "2022-02-13T10:18:41.205Z"
   },
   {
    "duration": 844,
    "start_time": "2022-02-13T10:18:41.287Z"
   },
   {
    "duration": 1528,
    "start_time": "2022-02-13T10:19:48.114Z"
   },
   {
    "duration": 56,
    "start_time": "2022-02-13T10:19:49.645Z"
   },
   {
    "duration": 14,
    "start_time": "2022-02-13T10:19:49.705Z"
   },
   {
    "duration": 61,
    "start_time": "2022-02-13T10:19:49.722Z"
   },
   {
    "duration": 15,
    "start_time": "2022-02-13T10:19:49.785Z"
   },
   {
    "duration": 15,
    "start_time": "2022-02-13T10:19:49.802Z"
   },
   {
    "duration": 37,
    "start_time": "2022-02-13T10:19:49.819Z"
   },
   {
    "duration": 15,
    "start_time": "2022-02-13T10:19:49.860Z"
   },
   {
    "duration": 9,
    "start_time": "2022-02-13T10:19:49.878Z"
   },
   {
    "duration": 6,
    "start_time": "2022-02-13T10:19:49.889Z"
   },
   {
    "duration": 54,
    "start_time": "2022-02-13T10:19:49.897Z"
   },
   {
    "duration": 34,
    "start_time": "2022-02-13T10:19:49.953Z"
   },
   {
    "duration": 6,
    "start_time": "2022-02-13T10:19:49.989Z"
   },
   {
    "duration": 24,
    "start_time": "2022-02-13T10:19:49.998Z"
   },
   {
    "duration": 34,
    "start_time": "2022-02-13T10:19:50.024Z"
   },
   {
    "duration": 9,
    "start_time": "2022-02-13T10:19:50.060Z"
   },
   {
    "duration": 9,
    "start_time": "2022-02-13T10:19:50.072Z"
   },
   {
    "duration": 13,
    "start_time": "2022-02-13T10:19:50.083Z"
   },
   {
    "duration": 54,
    "start_time": "2022-02-13T10:19:50.098Z"
   },
   {
    "duration": 36,
    "start_time": "2022-02-13T10:19:50.154Z"
   },
   {
    "duration": 14,
    "start_time": "2022-02-13T10:19:50.193Z"
   },
   {
    "duration": 48,
    "start_time": "2022-02-13T10:19:50.210Z"
   },
   {
    "duration": 11,
    "start_time": "2022-02-13T10:19:50.266Z"
   },
   {
    "duration": 459,
    "start_time": "2022-02-13T10:19:50.281Z"
   },
   {
    "duration": 11,
    "start_time": "2022-02-13T10:19:50.743Z"
   },
   {
    "duration": 16,
    "start_time": "2022-02-13T10:19:50.756Z"
   },
   {
    "duration": 324,
    "start_time": "2022-02-13T10:19:50.774Z"
   },
   {
    "duration": 3,
    "start_time": "2022-02-13T10:19:51.100Z"
   },
   {
    "duration": 476,
    "start_time": "2022-02-13T10:19:51.105Z"
   },
   {
    "duration": 4,
    "start_time": "2022-02-13T10:19:51.583Z"
   },
   {
    "duration": 26,
    "start_time": "2022-02-13T10:19:51.589Z"
   },
   {
    "duration": 36,
    "start_time": "2022-02-13T10:19:51.618Z"
   },
   {
    "duration": 12,
    "start_time": "2022-02-13T10:19:51.657Z"
   },
   {
    "duration": 10,
    "start_time": "2022-02-13T10:19:51.672Z"
   },
   {
    "duration": 536,
    "start_time": "2022-02-13T10:19:51.684Z"
   },
   {
    "duration": 856,
    "start_time": "2022-02-13T10:19:52.224Z"
   },
   {
    "duration": 13,
    "start_time": "2022-02-13T10:19:53.082Z"
   },
   {
    "duration": 506,
    "start_time": "2022-02-13T10:19:53.098Z"
   },
   {
    "duration": 14,
    "start_time": "2022-02-13T10:19:53.606Z"
   },
   {
    "duration": 420,
    "start_time": "2022-02-13T10:19:53.623Z"
   },
   {
    "duration": 14,
    "start_time": "2022-02-13T10:19:54.050Z"
   },
   {
    "duration": 434,
    "start_time": "2022-02-13T10:19:54.066Z"
   },
   {
    "duration": 13,
    "start_time": "2022-02-13T10:19:54.503Z"
   },
   {
    "duration": 31,
    "start_time": "2022-02-13T10:19:54.519Z"
   },
   {
    "duration": 12,
    "start_time": "2022-02-13T10:19:54.552Z"
   },
   {
    "duration": 11,
    "start_time": "2022-02-13T10:19:54.566Z"
   },
   {
    "duration": 505,
    "start_time": "2022-02-13T10:19:54.580Z"
   },
   {
    "duration": 11,
    "start_time": "2022-02-13T10:19:55.088Z"
   },
   {
    "duration": 14,
    "start_time": "2022-02-13T10:19:55.102Z"
   },
   {
    "duration": 324,
    "start_time": "2022-02-13T10:19:55.149Z"
   },
   {
    "duration": 762,
    "start_time": "2022-02-13T10:19:55.476Z"
   },
   {
    "duration": 17,
    "start_time": "2022-02-13T10:19:56.241Z"
   },
   {
    "duration": 397,
    "start_time": "2022-02-13T10:19:56.260Z"
   },
   {
    "duration": -79,
    "start_time": "2022-02-13T10:19:56.738Z"
   },
   {
    "duration": -81,
    "start_time": "2022-02-13T10:19:56.742Z"
   },
   {
    "duration": -82,
    "start_time": "2022-02-13T10:19:56.745Z"
   },
   {
    "duration": -89,
    "start_time": "2022-02-13T10:19:56.753Z"
   },
   {
    "duration": 288,
    "start_time": "2022-02-13T10:20:09.543Z"
   },
   {
    "duration": 11,
    "start_time": "2022-02-13T10:20:31.352Z"
   },
   {
    "duration": 17,
    "start_time": "2022-02-13T10:20:42.802Z"
   },
   {
    "duration": 17,
    "start_time": "2022-02-13T10:20:53.897Z"
   },
   {
    "duration": 1493,
    "start_time": "2022-02-13T10:22:44.404Z"
   },
   {
    "duration": 55,
    "start_time": "2022-02-13T10:22:45.899Z"
   },
   {
    "duration": 13,
    "start_time": "2022-02-13T10:22:45.958Z"
   },
   {
    "duration": 39,
    "start_time": "2022-02-13T10:22:45.974Z"
   },
   {
    "duration": 45,
    "start_time": "2022-02-13T10:22:46.016Z"
   },
   {
    "duration": 16,
    "start_time": "2022-02-13T10:22:46.063Z"
   },
   {
    "duration": 12,
    "start_time": "2022-02-13T10:22:46.082Z"
   },
   {
    "duration": 14,
    "start_time": "2022-02-13T10:22:46.098Z"
   },
   {
    "duration": 12,
    "start_time": "2022-02-13T10:22:46.150Z"
   },
   {
    "duration": 7,
    "start_time": "2022-02-13T10:22:46.165Z"
   },
   {
    "duration": 20,
    "start_time": "2022-02-13T10:22:46.175Z"
   },
   {
    "duration": 61,
    "start_time": "2022-02-13T10:22:46.197Z"
   },
   {
    "duration": 6,
    "start_time": "2022-02-13T10:22:46.261Z"
   },
   {
    "duration": 24,
    "start_time": "2022-02-13T10:22:46.270Z"
   },
   {
    "duration": 11,
    "start_time": "2022-02-13T10:22:46.296Z"
   },
   {
    "duration": 44,
    "start_time": "2022-02-13T10:22:46.310Z"
   },
   {
    "duration": 9,
    "start_time": "2022-02-13T10:22:46.356Z"
   },
   {
    "duration": 16,
    "start_time": "2022-02-13T10:22:46.368Z"
   },
   {
    "duration": 15,
    "start_time": "2022-02-13T10:22:46.387Z"
   },
   {
    "duration": 73,
    "start_time": "2022-02-13T10:22:46.405Z"
   },
   {
    "duration": 15,
    "start_time": "2022-02-13T10:22:46.481Z"
   },
   {
    "duration": 18,
    "start_time": "2022-02-13T10:22:46.499Z"
   },
   {
    "duration": 33,
    "start_time": "2022-02-13T10:22:46.523Z"
   },
   {
    "duration": 514,
    "start_time": "2022-02-13T10:22:46.559Z"
   },
   {
    "duration": 12,
    "start_time": "2022-02-13T10:22:47.075Z"
   },
   {
    "duration": 21,
    "start_time": "2022-02-13T10:22:47.089Z"
   },
   {
    "duration": 338,
    "start_time": "2022-02-13T10:22:47.113Z"
   },
   {
    "duration": 3,
    "start_time": "2022-02-13T10:22:47.454Z"
   },
   {
    "duration": 496,
    "start_time": "2022-02-13T10:22:47.459Z"
   },
   {
    "duration": 4,
    "start_time": "2022-02-13T10:22:47.957Z"
   },
   {
    "duration": 30,
    "start_time": "2022-02-13T10:22:47.963Z"
   },
   {
    "duration": 7,
    "start_time": "2022-02-13T10:22:47.995Z"
   },
   {
    "duration": 45,
    "start_time": "2022-02-13T10:22:48.005Z"
   },
   {
    "duration": 8,
    "start_time": "2022-02-13T10:22:48.053Z"
   },
   {
    "duration": 563,
    "start_time": "2022-02-13T10:22:48.064Z"
   },
   {
    "duration": 858,
    "start_time": "2022-02-13T10:22:48.630Z"
   },
   {
    "duration": 19,
    "start_time": "2022-02-13T10:22:49.491Z"
   },
   {
    "duration": 509,
    "start_time": "2022-02-13T10:22:49.513Z"
   },
   {
    "duration": 25,
    "start_time": "2022-02-13T10:22:50.024Z"
   },
   {
    "duration": 412,
    "start_time": "2022-02-13T10:22:50.052Z"
   },
   {
    "duration": 14,
    "start_time": "2022-02-13T10:22:50.467Z"
   },
   {
    "duration": 551,
    "start_time": "2022-02-13T10:22:50.483Z"
   },
   {
    "duration": 18,
    "start_time": "2022-02-13T10:22:51.037Z"
   },
   {
    "duration": 20,
    "start_time": "2022-02-13T10:22:51.058Z"
   },
   {
    "duration": 17,
    "start_time": "2022-02-13T10:22:51.080Z"
   },
   {
    "duration": 16,
    "start_time": "2022-02-13T10:22:51.100Z"
   },
   {
    "duration": 545,
    "start_time": "2022-02-13T10:22:51.119Z"
   },
   {
    "duration": 10,
    "start_time": "2022-02-13T10:22:51.666Z"
   },
   {
    "duration": 21,
    "start_time": "2022-02-13T10:22:51.679Z"
   },
   {
    "duration": 373,
    "start_time": "2022-02-13T10:22:51.703Z"
   },
   {
    "duration": 796,
    "start_time": "2022-02-13T10:22:52.078Z"
   },
   {
    "duration": 13,
    "start_time": "2022-02-13T10:22:52.876Z"
   },
   {
    "duration": 16,
    "start_time": "2022-02-13T10:22:52.892Z"
   },
   {
    "duration": 6507,
    "start_time": "2022-02-13T10:22:52.911Z"
   },
   {
    "duration": -128,
    "start_time": "2022-02-13T10:22:59.548Z"
   },
   {
    "duration": -138,
    "start_time": "2022-02-13T10:22:59.560Z"
   },
   {
    "duration": -142,
    "start_time": "2022-02-13T10:22:59.565Z"
   },
   {
    "duration": -144,
    "start_time": "2022-02-13T10:22:59.568Z"
   },
   {
    "duration": -145,
    "start_time": "2022-02-13T10:22:59.571Z"
   },
   {
    "duration": 1500,
    "start_time": "2022-02-13T10:24:52.077Z"
   },
   {
    "duration": 68,
    "start_time": "2022-02-13T10:24:53.580Z"
   },
   {
    "duration": 16,
    "start_time": "2022-02-13T10:24:53.651Z"
   },
   {
    "duration": 43,
    "start_time": "2022-02-13T10:24:53.671Z"
   },
   {
    "duration": 43,
    "start_time": "2022-02-13T10:24:53.717Z"
   },
   {
    "duration": 18,
    "start_time": "2022-02-13T10:24:53.763Z"
   },
   {
    "duration": 12,
    "start_time": "2022-02-13T10:24:53.783Z"
   },
   {
    "duration": 13,
    "start_time": "2022-02-13T10:24:53.799Z"
   },
   {
    "duration": 10,
    "start_time": "2022-02-13T10:24:53.848Z"
   },
   {
    "duration": 7,
    "start_time": "2022-02-13T10:24:53.860Z"
   },
   {
    "duration": 12,
    "start_time": "2022-02-13T10:24:53.869Z"
   },
   {
    "duration": 66,
    "start_time": "2022-02-13T10:24:53.884Z"
   },
   {
    "duration": 5,
    "start_time": "2022-02-13T10:24:53.953Z"
   },
   {
    "duration": 22,
    "start_time": "2022-02-13T10:24:53.961Z"
   },
   {
    "duration": 12,
    "start_time": "2022-02-13T10:24:53.986Z"
   },
   {
    "duration": 9,
    "start_time": "2022-02-13T10:24:54.000Z"
   },
   {
    "duration": 9,
    "start_time": "2022-02-13T10:24:54.049Z"
   },
   {
    "duration": 13,
    "start_time": "2022-02-13T10:24:54.061Z"
   },
   {
    "duration": 16,
    "start_time": "2022-02-13T10:24:54.077Z"
   },
   {
    "duration": 63,
    "start_time": "2022-02-13T10:24:54.096Z"
   },
   {
    "duration": 16,
    "start_time": "2022-02-13T10:24:54.161Z"
   },
   {
    "duration": 23,
    "start_time": "2022-02-13T10:24:54.179Z"
   },
   {
    "duration": 9,
    "start_time": "2022-02-13T10:24:54.208Z"
   },
   {
    "duration": 573,
    "start_time": "2022-02-13T10:24:54.221Z"
   },
   {
    "duration": 10,
    "start_time": "2022-02-13T10:24:54.797Z"
   },
   {
    "duration": 38,
    "start_time": "2022-02-13T10:24:54.810Z"
   },
   {
    "duration": 295,
    "start_time": "2022-02-13T10:24:54.851Z"
   },
   {
    "duration": 3,
    "start_time": "2022-02-13T10:24:55.149Z"
   },
   {
    "duration": 451,
    "start_time": "2022-02-13T10:24:55.154Z"
   },
   {
    "duration": 4,
    "start_time": "2022-02-13T10:24:55.608Z"
   },
   {
    "duration": 64,
    "start_time": "2022-02-13T10:24:55.615Z"
   },
   {
    "duration": 23,
    "start_time": "2022-02-13T10:24:55.682Z"
   },
   {
    "duration": 39,
    "start_time": "2022-02-13T10:24:55.707Z"
   },
   {
    "duration": 25,
    "start_time": "2022-02-13T10:24:55.749Z"
   },
   {
    "duration": 441,
    "start_time": "2022-02-13T10:24:55.777Z"
   },
   {
    "duration": 749,
    "start_time": "2022-02-13T10:24:56.221Z"
   },
   {
    "duration": 13,
    "start_time": "2022-02-13T10:24:56.973Z"
   },
   {
    "duration": 507,
    "start_time": "2022-02-13T10:24:56.988Z"
   },
   {
    "duration": 14,
    "start_time": "2022-02-13T10:24:57.497Z"
   },
   {
    "duration": 419,
    "start_time": "2022-02-13T10:24:57.513Z"
   },
   {
    "duration": 20,
    "start_time": "2022-02-13T10:24:57.935Z"
   },
   {
    "duration": 396,
    "start_time": "2022-02-13T10:24:57.957Z"
   },
   {
    "duration": 13,
    "start_time": "2022-02-13T10:24:58.355Z"
   },
   {
    "duration": 13,
    "start_time": "2022-02-13T10:24:58.370Z"
   },
   {
    "duration": 12,
    "start_time": "2022-02-13T10:24:58.385Z"
   },
   {
    "duration": 51,
    "start_time": "2022-02-13T10:24:58.399Z"
   },
   {
    "duration": 536,
    "start_time": "2022-02-13T10:24:58.452Z"
   },
   {
    "duration": 10,
    "start_time": "2022-02-13T10:24:58.991Z"
   },
   {
    "duration": 14,
    "start_time": "2022-02-13T10:24:59.004Z"
   },
   {
    "duration": 356,
    "start_time": "2022-02-13T10:24:59.021Z"
   },
   {
    "duration": 785,
    "start_time": "2022-02-13T10:24:59.380Z"
   },
   {
    "duration": 13,
    "start_time": "2022-02-13T10:25:00.169Z"
   },
   {
    "duration": 22,
    "start_time": "2022-02-13T10:25:00.186Z"
   },
   {
    "duration": 6299,
    "start_time": "2022-02-13T10:25:00.211Z"
   },
   {
    "duration": -121,
    "start_time": "2022-02-13T10:25:06.634Z"
   },
   {
    "duration": -124,
    "start_time": "2022-02-13T10:25:06.638Z"
   },
   {
    "duration": -125,
    "start_time": "2022-02-13T10:25:06.640Z"
   },
   {
    "duration": -126,
    "start_time": "2022-02-13T10:25:06.643Z"
   },
   {
    "duration": -127,
    "start_time": "2022-02-13T10:25:06.645Z"
   },
   {
    "duration": 1562,
    "start_time": "2022-02-13T10:27:59.522Z"
   },
   {
    "duration": 68,
    "start_time": "2022-02-13T10:28:01.086Z"
   },
   {
    "duration": 14,
    "start_time": "2022-02-13T10:28:01.157Z"
   },
   {
    "duration": 41,
    "start_time": "2022-02-13T10:28:01.174Z"
   },
   {
    "duration": 42,
    "start_time": "2022-02-13T10:28:01.218Z"
   },
   {
    "duration": 27,
    "start_time": "2022-02-13T10:28:01.263Z"
   },
   {
    "duration": 21,
    "start_time": "2022-02-13T10:28:01.294Z"
   },
   {
    "duration": 49,
    "start_time": "2022-02-13T10:28:01.321Z"
   },
   {
    "duration": 12,
    "start_time": "2022-02-13T10:28:01.374Z"
   },
   {
    "duration": 21,
    "start_time": "2022-02-13T10:28:01.389Z"
   },
   {
    "duration": 36,
    "start_time": "2022-02-13T10:28:01.413Z"
   },
   {
    "duration": 50,
    "start_time": "2022-02-13T10:28:01.452Z"
   },
   {
    "duration": 7,
    "start_time": "2022-02-13T10:28:01.505Z"
   },
   {
    "duration": 53,
    "start_time": "2022-02-13T10:28:01.515Z"
   },
   {
    "duration": 18,
    "start_time": "2022-02-13T10:28:01.572Z"
   },
   {
    "duration": 12,
    "start_time": "2022-02-13T10:28:01.594Z"
   },
   {
    "duration": 46,
    "start_time": "2022-02-13T10:28:01.609Z"
   },
   {
    "duration": 24,
    "start_time": "2022-02-13T10:28:01.659Z"
   },
   {
    "duration": 19,
    "start_time": "2022-02-13T10:28:01.685Z"
   },
   {
    "duration": 67,
    "start_time": "2022-02-13T10:28:01.706Z"
   },
   {
    "duration": 17,
    "start_time": "2022-02-13T10:28:01.776Z"
   },
   {
    "duration": 32,
    "start_time": "2022-02-13T10:28:01.796Z"
   },
   {
    "duration": 26,
    "start_time": "2022-02-13T10:28:01.835Z"
   },
   {
    "duration": 485,
    "start_time": "2022-02-13T10:28:01.865Z"
   },
   {
    "duration": 13,
    "start_time": "2022-02-13T10:28:02.354Z"
   },
   {
    "duration": 20,
    "start_time": "2022-02-13T10:28:02.369Z"
   },
   {
    "duration": 342,
    "start_time": "2022-02-13T10:28:02.392Z"
   },
   {
    "duration": 11,
    "start_time": "2022-02-13T10:28:02.737Z"
   },
   {
    "duration": 463,
    "start_time": "2022-02-13T10:28:02.751Z"
   },
   {
    "duration": 3,
    "start_time": "2022-02-13T10:28:03.217Z"
   },
   {
    "duration": 47,
    "start_time": "2022-02-13T10:28:03.222Z"
   },
   {
    "duration": 9,
    "start_time": "2022-02-13T10:28:03.273Z"
   },
   {
    "duration": 20,
    "start_time": "2022-02-13T10:28:03.285Z"
   },
   {
    "duration": 9,
    "start_time": "2022-02-13T10:28:03.308Z"
   },
   {
    "duration": 495,
    "start_time": "2022-02-13T10:28:03.320Z"
   },
   {
    "duration": 871,
    "start_time": "2022-02-13T10:28:03.818Z"
   },
   {
    "duration": 14,
    "start_time": "2022-02-13T10:28:04.692Z"
   },
   {
    "duration": 614,
    "start_time": "2022-02-13T10:28:04.708Z"
   },
   {
    "duration": 23,
    "start_time": "2022-02-13T10:28:05.325Z"
   },
   {
    "duration": 422,
    "start_time": "2022-02-13T10:28:05.351Z"
   },
   {
    "duration": 15,
    "start_time": "2022-02-13T10:28:05.776Z"
   },
   {
    "duration": 627,
    "start_time": "2022-02-13T10:28:05.795Z"
   },
   {
    "duration": 29,
    "start_time": "2022-02-13T10:28:06.426Z"
   },
   {
    "duration": 49,
    "start_time": "2022-02-13T10:28:06.458Z"
   },
   {
    "duration": 18,
    "start_time": "2022-02-13T10:28:06.509Z"
   },
   {
    "duration": 21,
    "start_time": "2022-02-13T10:28:06.531Z"
   },
   {
    "duration": 595,
    "start_time": "2022-02-13T10:28:06.555Z"
   },
   {
    "duration": 14,
    "start_time": "2022-02-13T10:28:07.154Z"
   },
   {
    "duration": 17,
    "start_time": "2022-02-13T10:28:07.171Z"
   },
   {
    "duration": 382,
    "start_time": "2022-02-13T10:28:07.191Z"
   },
   {
    "duration": 797,
    "start_time": "2022-02-13T10:28:07.577Z"
   },
   {
    "duration": 15,
    "start_time": "2022-02-13T10:28:08.378Z"
   },
   {
    "duration": 28,
    "start_time": "2022-02-13T10:28:08.395Z"
   },
   {
    "duration": 12720,
    "start_time": "2022-02-13T10:28:08.425Z"
   },
   {
    "duration": -116,
    "start_time": "2022-02-13T10:28:21.265Z"
   },
   {
    "duration": -123,
    "start_time": "2022-02-13T10:28:21.274Z"
   },
   {
    "duration": -127,
    "start_time": "2022-02-13T10:28:21.279Z"
   },
   {
    "duration": -130,
    "start_time": "2022-02-13T10:28:21.284Z"
   },
   {
    "duration": -132,
    "start_time": "2022-02-13T10:28:21.287Z"
   },
   {
    "duration": 1829,
    "start_time": "2022-02-13T10:28:33.277Z"
   },
   {
    "duration": 92,
    "start_time": "2022-02-13T10:28:35.110Z"
   },
   {
    "duration": 14,
    "start_time": "2022-02-13T10:28:35.205Z"
   },
   {
    "duration": 61,
    "start_time": "2022-02-13T10:28:35.222Z"
   },
   {
    "duration": 16,
    "start_time": "2022-02-13T10:28:35.285Z"
   },
   {
    "duration": 48,
    "start_time": "2022-02-13T10:28:35.304Z"
   },
   {
    "duration": 13,
    "start_time": "2022-02-13T10:28:35.354Z"
   },
   {
    "duration": 25,
    "start_time": "2022-02-13T10:28:35.371Z"
   },
   {
    "duration": 14,
    "start_time": "2022-02-13T10:28:35.401Z"
   },
   {
    "duration": 7,
    "start_time": "2022-02-13T10:28:35.449Z"
   },
   {
    "duration": 12,
    "start_time": "2022-02-13T10:28:35.458Z"
   },
   {
    "duration": 36,
    "start_time": "2022-02-13T10:28:35.472Z"
   },
   {
    "duration": 6,
    "start_time": "2022-02-13T10:28:35.511Z"
   },
   {
    "duration": 23,
    "start_time": "2022-02-13T10:28:35.550Z"
   },
   {
    "duration": 15,
    "start_time": "2022-02-13T10:28:35.576Z"
   },
   {
    "duration": 11,
    "start_time": "2022-02-13T10:28:35.594Z"
   },
   {
    "duration": 46,
    "start_time": "2022-02-13T10:28:35.608Z"
   },
   {
    "duration": 28,
    "start_time": "2022-02-13T10:28:35.657Z"
   },
   {
    "duration": 21,
    "start_time": "2022-02-13T10:28:35.688Z"
   },
   {
    "duration": 58,
    "start_time": "2022-02-13T10:28:35.712Z"
   },
   {
    "duration": 17,
    "start_time": "2022-02-13T10:28:35.773Z"
   },
   {
    "duration": 20,
    "start_time": "2022-02-13T10:28:35.793Z"
   },
   {
    "duration": 9,
    "start_time": "2022-02-13T10:28:35.848Z"
   },
   {
    "duration": 441,
    "start_time": "2022-02-13T10:28:35.860Z"
   },
   {
    "duration": 10,
    "start_time": "2022-02-13T10:28:36.304Z"
   },
   {
    "duration": 39,
    "start_time": "2022-02-13T10:28:36.316Z"
   },
   {
    "duration": 305,
    "start_time": "2022-02-13T10:28:36.358Z"
   },
   {
    "duration": 3,
    "start_time": "2022-02-13T10:28:36.665Z"
   },
   {
    "duration": 496,
    "start_time": "2022-02-13T10:28:36.671Z"
   },
   {
    "duration": 4,
    "start_time": "2022-02-13T10:28:37.170Z"
   },
   {
    "duration": 36,
    "start_time": "2022-02-13T10:28:37.177Z"
   },
   {
    "duration": 33,
    "start_time": "2022-02-13T10:28:37.216Z"
   },
   {
    "duration": 11,
    "start_time": "2022-02-13T10:28:37.252Z"
   },
   {
    "duration": 6,
    "start_time": "2022-02-13T10:28:37.266Z"
   },
   {
    "duration": 512,
    "start_time": "2022-02-13T10:28:37.275Z"
   },
   {
    "duration": 761,
    "start_time": "2022-02-13T10:28:37.790Z"
   },
   {
    "duration": 13,
    "start_time": "2022-02-13T10:28:38.554Z"
   },
   {
    "duration": 485,
    "start_time": "2022-02-13T10:28:38.570Z"
   },
   {
    "duration": 13,
    "start_time": "2022-02-13T10:28:39.058Z"
   },
   {
    "duration": 418,
    "start_time": "2022-02-13T10:28:39.074Z"
   },
   {
    "duration": 14,
    "start_time": "2022-02-13T10:28:39.496Z"
   },
   {
    "duration": 438,
    "start_time": "2022-02-13T10:28:39.513Z"
   },
   {
    "duration": 14,
    "start_time": "2022-02-13T10:28:39.954Z"
   },
   {
    "duration": 20,
    "start_time": "2022-02-13T10:28:39.971Z"
   },
   {
    "duration": 15,
    "start_time": "2022-02-13T10:28:39.993Z"
   },
   {
    "duration": 46,
    "start_time": "2022-02-13T10:28:40.011Z"
   },
   {
    "duration": 551,
    "start_time": "2022-02-13T10:28:40.060Z"
   },
   {
    "duration": 11,
    "start_time": "2022-02-13T10:28:40.613Z"
   },
   {
    "duration": 34,
    "start_time": "2022-02-13T10:28:40.628Z"
   },
   {
    "duration": 474,
    "start_time": "2022-02-13T10:28:40.665Z"
   },
   {
    "duration": 792,
    "start_time": "2022-02-13T10:28:41.149Z"
   },
   {
    "duration": 12,
    "start_time": "2022-02-13T10:28:41.949Z"
   },
   {
    "duration": 21,
    "start_time": "2022-02-13T10:28:41.964Z"
   },
   {
    "duration": 6632,
    "start_time": "2022-02-13T10:28:41.988Z"
   },
   {
    "duration": -128,
    "start_time": "2022-02-13T10:28:48.752Z"
   },
   {
    "duration": -133,
    "start_time": "2022-02-13T10:28:48.760Z"
   },
   {
    "duration": -135,
    "start_time": "2022-02-13T10:28:48.764Z"
   },
   {
    "duration": -135,
    "start_time": "2022-02-13T10:28:48.767Z"
   },
   {
    "duration": -136,
    "start_time": "2022-02-13T10:28:48.770Z"
   },
   {
    "duration": 1969,
    "start_time": "2022-02-13T10:29:09.257Z"
   },
   {
    "duration": 58,
    "start_time": "2022-02-13T10:29:11.230Z"
   },
   {
    "duration": 15,
    "start_time": "2022-02-13T10:29:11.291Z"
   },
   {
    "duration": 71,
    "start_time": "2022-02-13T10:29:11.308Z"
   },
   {
    "duration": 32,
    "start_time": "2022-02-13T10:29:11.383Z"
   },
   {
    "duration": 32,
    "start_time": "2022-02-13T10:29:11.418Z"
   },
   {
    "duration": 15,
    "start_time": "2022-02-13T10:29:11.453Z"
   },
   {
    "duration": 19,
    "start_time": "2022-02-13T10:29:11.474Z"
   },
   {
    "duration": 10,
    "start_time": "2022-02-13T10:29:11.496Z"
   },
   {
    "duration": 42,
    "start_time": "2022-02-13T10:29:11.509Z"
   },
   {
    "duration": 13,
    "start_time": "2022-02-13T10:29:11.554Z"
   },
   {
    "duration": 56,
    "start_time": "2022-02-13T10:29:11.570Z"
   },
   {
    "duration": 8,
    "start_time": "2022-02-13T10:29:11.650Z"
   },
   {
    "duration": 25,
    "start_time": "2022-02-13T10:29:11.661Z"
   },
   {
    "duration": 16,
    "start_time": "2022-02-13T10:29:11.689Z"
   },
   {
    "duration": 46,
    "start_time": "2022-02-13T10:29:11.708Z"
   },
   {
    "duration": 11,
    "start_time": "2022-02-13T10:29:11.757Z"
   },
   {
    "duration": 23,
    "start_time": "2022-02-13T10:29:11.771Z"
   },
   {
    "duration": 23,
    "start_time": "2022-02-13T10:29:11.797Z"
   },
   {
    "duration": 64,
    "start_time": "2022-02-13T10:29:11.822Z"
   },
   {
    "duration": 16,
    "start_time": "2022-02-13T10:29:11.889Z"
   },
   {
    "duration": 58,
    "start_time": "2022-02-13T10:29:11.908Z"
   },
   {
    "duration": 11,
    "start_time": "2022-02-13T10:29:11.972Z"
   },
   {
    "duration": 528,
    "start_time": "2022-02-13T10:29:11.986Z"
   },
   {
    "duration": 31,
    "start_time": "2022-02-13T10:29:12.518Z"
   },
   {
    "duration": 16,
    "start_time": "2022-02-13T10:29:12.552Z"
   },
   {
    "duration": 336,
    "start_time": "2022-02-13T10:29:12.571Z"
   },
   {
    "duration": 3,
    "start_time": "2022-02-13T10:29:12.909Z"
   },
   {
    "duration": 699,
    "start_time": "2022-02-13T10:29:12.916Z"
   },
   {
    "duration": 3,
    "start_time": "2022-02-13T10:29:13.618Z"
   },
   {
    "duration": 48,
    "start_time": "2022-02-13T10:29:13.623Z"
   },
   {
    "duration": 8,
    "start_time": "2022-02-13T10:29:13.674Z"
   },
   {
    "duration": 17,
    "start_time": "2022-02-13T10:29:13.684Z"
   },
   {
    "duration": 8,
    "start_time": "2022-02-13T10:29:13.704Z"
   },
   {
    "duration": 710,
    "start_time": "2022-02-13T10:29:13.714Z"
   },
   {
    "duration": 853,
    "start_time": "2022-02-13T10:29:14.426Z"
   },
   {
    "duration": 12,
    "start_time": "2022-02-13T10:29:15.282Z"
   },
   {
    "duration": 498,
    "start_time": "2022-02-13T10:29:15.297Z"
   },
   {
    "duration": 13,
    "start_time": "2022-02-13T10:29:15.797Z"
   },
   {
    "duration": 402,
    "start_time": "2022-02-13T10:29:15.813Z"
   },
   {
    "duration": 35,
    "start_time": "2022-02-13T10:29:16.218Z"
   },
   {
    "duration": 641,
    "start_time": "2022-02-13T10:29:16.255Z"
   },
   {
    "duration": 64,
    "start_time": "2022-02-13T10:29:16.899Z"
   },
   {
    "duration": 24,
    "start_time": "2022-02-13T10:29:16.965Z"
   },
   {
    "duration": 68,
    "start_time": "2022-02-13T10:29:16.992Z"
   },
   {
    "duration": 19,
    "start_time": "2022-02-13T10:29:17.063Z"
   },
   {
    "duration": 555,
    "start_time": "2022-02-13T10:29:17.085Z"
   },
   {
    "duration": 15,
    "start_time": "2022-02-13T10:29:17.642Z"
   },
   {
    "duration": 18,
    "start_time": "2022-02-13T10:29:17.660Z"
   },
   {
    "duration": 373,
    "start_time": "2022-02-13T10:29:17.681Z"
   },
   {
    "duration": 816,
    "start_time": "2022-02-13T10:29:18.057Z"
   },
   {
    "duration": 13,
    "start_time": "2022-02-13T10:29:18.876Z"
   },
   {
    "duration": 22,
    "start_time": "2022-02-13T10:29:18.892Z"
   },
   {
    "duration": 6901,
    "start_time": "2022-02-13T10:29:18.918Z"
   },
   {
    "duration": -110,
    "start_time": "2022-02-13T10:29:25.931Z"
   },
   {
    "duration": -114,
    "start_time": "2022-02-13T10:29:25.937Z"
   },
   {
    "duration": -119,
    "start_time": "2022-02-13T10:29:25.943Z"
   },
   {
    "duration": -124,
    "start_time": "2022-02-13T10:29:25.949Z"
   },
   {
    "duration": -127,
    "start_time": "2022-02-13T10:29:25.953Z"
   },
   {
    "duration": 495,
    "start_time": "2022-02-13T10:29:49.260Z"
   },
   {
    "duration": 463,
    "start_time": "2022-02-13T10:30:00.623Z"
   },
   {
    "duration": 490,
    "start_time": "2022-02-13T10:30:07.964Z"
   },
   {
    "duration": 472,
    "start_time": "2022-02-13T10:30:17.834Z"
   },
   {
    "duration": 1521,
    "start_time": "2022-02-13T10:35:36.480Z"
   },
   {
    "duration": 85,
    "start_time": "2022-02-13T10:35:38.004Z"
   },
   {
    "duration": 23,
    "start_time": "2022-02-13T10:35:38.093Z"
   },
   {
    "duration": 84,
    "start_time": "2022-02-13T10:35:38.120Z"
   },
   {
    "duration": 26,
    "start_time": "2022-02-13T10:35:38.207Z"
   },
   {
    "duration": 30,
    "start_time": "2022-02-13T10:35:38.235Z"
   },
   {
    "duration": 13,
    "start_time": "2022-02-13T10:35:38.268Z"
   },
   {
    "duration": 15,
    "start_time": "2022-02-13T10:35:38.285Z"
   },
   {
    "duration": 52,
    "start_time": "2022-02-13T10:35:38.303Z"
   },
   {
    "duration": 8,
    "start_time": "2022-02-13T10:35:38.358Z"
   },
   {
    "duration": 11,
    "start_time": "2022-02-13T10:35:38.369Z"
   },
   {
    "duration": 68,
    "start_time": "2022-02-13T10:35:38.382Z"
   },
   {
    "duration": 7,
    "start_time": "2022-02-13T10:35:38.453Z"
   },
   {
    "duration": 25,
    "start_time": "2022-02-13T10:35:38.462Z"
   },
   {
    "duration": 11,
    "start_time": "2022-02-13T10:35:38.490Z"
   },
   {
    "duration": 45,
    "start_time": "2022-02-13T10:35:38.504Z"
   },
   {
    "duration": 12,
    "start_time": "2022-02-13T10:35:38.552Z"
   },
   {
    "duration": 19,
    "start_time": "2022-02-13T10:35:38.567Z"
   },
   {
    "duration": 17,
    "start_time": "2022-02-13T10:35:38.589Z"
   },
   {
    "duration": 74,
    "start_time": "2022-02-13T10:35:38.609Z"
   },
   {
    "duration": 19,
    "start_time": "2022-02-13T10:35:38.686Z"
   },
   {
    "duration": 45,
    "start_time": "2022-02-13T10:35:38.708Z"
   },
   {
    "duration": 10,
    "start_time": "2022-02-13T10:35:38.759Z"
   },
   {
    "duration": 493,
    "start_time": "2022-02-13T10:35:38.774Z"
   },
   {
    "duration": 12,
    "start_time": "2022-02-13T10:35:39.270Z"
   },
   {
    "duration": 17,
    "start_time": "2022-02-13T10:35:39.285Z"
   },
   {
    "duration": 348,
    "start_time": "2022-02-13T10:35:39.306Z"
   },
   {
    "duration": 4,
    "start_time": "2022-02-13T10:35:39.658Z"
   },
   {
    "duration": 483,
    "start_time": "2022-02-13T10:35:39.665Z"
   },
   {
    "duration": 4,
    "start_time": "2022-02-13T10:35:40.152Z"
   },
   {
    "duration": 44,
    "start_time": "2022-02-13T10:35:40.159Z"
   },
   {
    "duration": 11,
    "start_time": "2022-02-13T10:35:40.206Z"
   },
   {
    "duration": 41,
    "start_time": "2022-02-13T10:35:40.220Z"
   },
   {
    "duration": 8,
    "start_time": "2022-02-13T10:35:40.264Z"
   },
   {
    "duration": 753,
    "start_time": "2022-02-13T10:35:40.275Z"
   },
   {
    "duration": 1313,
    "start_time": "2022-02-13T10:35:41.031Z"
   },
   {
    "duration": 19,
    "start_time": "2022-02-13T10:35:42.350Z"
   },
   {
    "duration": 489,
    "start_time": "2022-02-13T10:35:42.373Z"
   },
   {
    "duration": 14,
    "start_time": "2022-02-13T10:35:42.865Z"
   },
   {
    "duration": 415,
    "start_time": "2022-02-13T10:35:42.881Z"
   },
   {
    "duration": 13,
    "start_time": "2022-02-13T10:35:43.299Z"
   },
   {
    "duration": 528,
    "start_time": "2022-02-13T10:35:43.315Z"
   },
   {
    "duration": 32,
    "start_time": "2022-02-13T10:35:43.848Z"
   },
   {
    "duration": 27,
    "start_time": "2022-02-13T10:35:43.890Z"
   },
   {
    "duration": 31,
    "start_time": "2022-02-13T10:35:43.920Z"
   },
   {
    "duration": 140,
    "start_time": "2022-02-13T10:35:43.955Z"
   },
   {
    "duration": 796,
    "start_time": "2022-02-13T10:35:44.100Z"
   },
   {
    "duration": 13,
    "start_time": "2022-02-13T10:35:44.899Z"
   },
   {
    "duration": 35,
    "start_time": "2022-02-13T10:35:44.915Z"
   },
   {
    "duration": 481,
    "start_time": "2022-02-13T10:35:44.953Z"
   },
   {
    "duration": 1172,
    "start_time": "2022-02-13T10:35:45.437Z"
   },
   {
    "duration": 17,
    "start_time": "2022-02-13T10:35:46.613Z"
   },
   {
    "duration": 22,
    "start_time": "2022-02-13T10:35:46.650Z"
   },
   {
    "duration": 7134,
    "start_time": "2022-02-13T10:35:46.676Z"
   },
   {
    "duration": -118,
    "start_time": "2022-02-13T10:35:53.931Z"
   },
   {
    "duration": -120,
    "start_time": "2022-02-13T10:35:53.935Z"
   },
   {
    "duration": -121,
    "start_time": "2022-02-13T10:35:53.938Z"
   },
   {
    "duration": -122,
    "start_time": "2022-02-13T10:35:53.941Z"
   },
   {
    "duration": -122,
    "start_time": "2022-02-13T10:35:53.943Z"
   },
   {
    "duration": 1656,
    "start_time": "2022-02-13T10:37:10.357Z"
   },
   {
    "duration": 85,
    "start_time": "2022-02-13T10:37:12.016Z"
   },
   {
    "duration": 21,
    "start_time": "2022-02-13T10:37:12.105Z"
   },
   {
    "duration": 73,
    "start_time": "2022-02-13T10:37:12.130Z"
   },
   {
    "duration": 43,
    "start_time": "2022-02-13T10:37:12.206Z"
   },
   {
    "duration": 20,
    "start_time": "2022-02-13T10:37:12.252Z"
   },
   {
    "duration": 23,
    "start_time": "2022-02-13T10:37:12.276Z"
   },
   {
    "duration": 49,
    "start_time": "2022-02-13T10:37:12.304Z"
   },
   {
    "duration": 13,
    "start_time": "2022-02-13T10:37:12.357Z"
   },
   {
    "duration": 29,
    "start_time": "2022-02-13T10:37:12.374Z"
   },
   {
    "duration": 18,
    "start_time": "2022-02-13T10:37:12.406Z"
   },
   {
    "duration": 59,
    "start_time": "2022-02-13T10:37:12.427Z"
   },
   {
    "duration": 6,
    "start_time": "2022-02-13T10:37:12.491Z"
   },
   {
    "duration": 30,
    "start_time": "2022-02-13T10:37:12.500Z"
   },
   {
    "duration": 13,
    "start_time": "2022-02-13T10:37:12.548Z"
   },
   {
    "duration": 15,
    "start_time": "2022-02-13T10:37:12.564Z"
   },
   {
    "duration": 12,
    "start_time": "2022-02-13T10:37:12.582Z"
   },
   {
    "duration": 54,
    "start_time": "2022-02-13T10:37:12.596Z"
   },
   {
    "duration": 15,
    "start_time": "2022-02-13T10:37:12.652Z"
   },
   {
    "duration": 42,
    "start_time": "2022-02-13T10:37:12.670Z"
   },
   {
    "duration": 37,
    "start_time": "2022-02-13T10:37:12.715Z"
   },
   {
    "duration": 21,
    "start_time": "2022-02-13T10:37:12.754Z"
   },
   {
    "duration": 9,
    "start_time": "2022-02-13T10:37:12.781Z"
   },
   {
    "duration": 500,
    "start_time": "2022-02-13T10:37:12.794Z"
   },
   {
    "duration": 12,
    "start_time": "2022-02-13T10:37:13.298Z"
   },
   {
    "duration": 42,
    "start_time": "2022-02-13T10:37:13.314Z"
   },
   {
    "duration": 454,
    "start_time": "2022-02-13T10:37:13.359Z"
   },
   {
    "duration": 4,
    "start_time": "2022-02-13T10:37:13.817Z"
   },
   {
    "duration": 676,
    "start_time": "2022-02-13T10:37:13.824Z"
   },
   {
    "duration": 4,
    "start_time": "2022-02-13T10:37:14.503Z"
   },
   {
    "duration": 56,
    "start_time": "2022-02-13T10:37:14.510Z"
   },
   {
    "duration": 10,
    "start_time": "2022-02-13T10:37:14.569Z"
   },
   {
    "duration": 18,
    "start_time": "2022-02-13T10:37:14.582Z"
   },
   {
    "duration": 12,
    "start_time": "2022-02-13T10:37:14.603Z"
   },
   {
    "duration": 553,
    "start_time": "2022-02-13T10:37:14.618Z"
   },
   {
    "duration": 879,
    "start_time": "2022-02-13T10:37:15.178Z"
   },
   {
    "duration": 18,
    "start_time": "2022-02-13T10:37:16.060Z"
   },
   {
    "duration": 699,
    "start_time": "2022-02-13T10:37:16.081Z"
   },
   {
    "duration": 14,
    "start_time": "2022-02-13T10:37:16.784Z"
   },
   {
    "duration": 581,
    "start_time": "2022-02-13T10:37:16.801Z"
   },
   {
    "duration": 15,
    "start_time": "2022-02-13T10:37:17.384Z"
   },
   {
    "duration": 577,
    "start_time": "2022-02-13T10:37:17.402Z"
   },
   {
    "duration": 23,
    "start_time": "2022-02-13T10:37:17.982Z"
   },
   {
    "duration": 4,
    "start_time": "2022-02-13T10:37:18.009Z"
   },
   {
    "duration": 42,
    "start_time": "2022-02-13T10:37:18.016Z"
   },
   {
    "duration": 16,
    "start_time": "2022-02-13T10:37:18.061Z"
   },
   {
    "duration": 687,
    "start_time": "2022-02-13T10:37:18.080Z"
   },
   {
    "duration": 12,
    "start_time": "2022-02-13T10:37:18.769Z"
   },
   {
    "duration": 16,
    "start_time": "2022-02-13T10:37:18.784Z"
   },
   {
    "duration": 389,
    "start_time": "2022-02-13T10:37:18.804Z"
   },
   {
    "duration": 813,
    "start_time": "2022-02-13T10:37:19.195Z"
   },
   {
    "duration": 16,
    "start_time": "2022-02-13T10:37:20.011Z"
   },
   {
    "duration": 38,
    "start_time": "2022-02-13T10:37:20.029Z"
   },
   {
    "duration": 6449,
    "start_time": "2022-02-13T10:37:20.070Z"
   },
   {
    "duration": -103,
    "start_time": "2022-02-13T10:37:26.624Z"
   },
   {
    "duration": -107,
    "start_time": "2022-02-13T10:37:26.630Z"
   },
   {
    "duration": -111,
    "start_time": "2022-02-13T10:37:26.636Z"
   },
   {
    "duration": -116,
    "start_time": "2022-02-13T10:37:26.643Z"
   },
   {
    "duration": -119,
    "start_time": "2022-02-13T10:37:26.648Z"
   },
   {
    "duration": 1504,
    "start_time": "2022-02-13T10:38:29.947Z"
   },
   {
    "duration": 78,
    "start_time": "2022-02-13T10:38:31.455Z"
   },
   {
    "duration": 26,
    "start_time": "2022-02-13T10:38:31.536Z"
   },
   {
    "duration": 50,
    "start_time": "2022-02-13T10:38:31.565Z"
   },
   {
    "duration": 47,
    "start_time": "2022-02-13T10:38:31.617Z"
   },
   {
    "duration": 33,
    "start_time": "2022-02-13T10:38:31.668Z"
   },
   {
    "duration": 19,
    "start_time": "2022-02-13T10:38:31.705Z"
   },
   {
    "duration": 20,
    "start_time": "2022-02-13T10:38:31.748Z"
   },
   {
    "duration": 10,
    "start_time": "2022-02-13T10:38:31.771Z"
   },
   {
    "duration": 13,
    "start_time": "2022-02-13T10:38:31.784Z"
   },
   {
    "duration": 15,
    "start_time": "2022-02-13T10:38:31.800Z"
   },
   {
    "duration": 32,
    "start_time": "2022-02-13T10:38:31.849Z"
   },
   {
    "duration": 7,
    "start_time": "2022-02-13T10:38:31.884Z"
   },
   {
    "duration": 54,
    "start_time": "2022-02-13T10:38:31.894Z"
   },
   {
    "duration": 15,
    "start_time": "2022-02-13T10:38:31.951Z"
   },
   {
    "duration": 12,
    "start_time": "2022-02-13T10:38:31.968Z"
   },
   {
    "duration": 12,
    "start_time": "2022-02-13T10:38:31.982Z"
   },
   {
    "duration": 56,
    "start_time": "2022-02-13T10:38:31.997Z"
   },
   {
    "duration": 19,
    "start_time": "2022-02-13T10:38:32.056Z"
   },
   {
    "duration": 39,
    "start_time": "2022-02-13T10:38:32.079Z"
   },
   {
    "duration": 49,
    "start_time": "2022-02-13T10:38:32.121Z"
   },
   {
    "duration": 32,
    "start_time": "2022-02-13T10:38:32.174Z"
   },
   {
    "duration": 14,
    "start_time": "2022-02-13T10:38:32.249Z"
   },
   {
    "duration": 809,
    "start_time": "2022-02-13T10:38:32.268Z"
   },
   {
    "duration": 13,
    "start_time": "2022-02-13T10:38:33.080Z"
   },
   {
    "duration": 28,
    "start_time": "2022-02-13T10:38:33.096Z"
   },
   {
    "duration": 343,
    "start_time": "2022-02-13T10:38:33.150Z"
   },
   {
    "duration": 4,
    "start_time": "2022-02-13T10:38:33.496Z"
   },
   {
    "duration": 657,
    "start_time": "2022-02-13T10:38:33.502Z"
   },
   {
    "duration": 3,
    "start_time": "2022-02-13T10:38:34.162Z"
   },
   {
    "duration": 51,
    "start_time": "2022-02-13T10:38:34.168Z"
   },
   {
    "duration": 29,
    "start_time": "2022-02-13T10:38:34.222Z"
   },
   {
    "duration": 13,
    "start_time": "2022-02-13T10:38:34.253Z"
   },
   {
    "duration": 8,
    "start_time": "2022-02-13T10:38:34.270Z"
   },
   {
    "duration": 503,
    "start_time": "2022-02-13T10:38:34.281Z"
   },
   {
    "duration": 789,
    "start_time": "2022-02-13T10:38:34.786Z"
   },
   {
    "duration": 14,
    "start_time": "2022-02-13T10:38:35.577Z"
   },
   {
    "duration": 504,
    "start_time": "2022-02-13T10:38:35.594Z"
   },
   {
    "duration": 13,
    "start_time": "2022-02-13T10:38:36.101Z"
   },
   {
    "duration": 424,
    "start_time": "2022-02-13T10:38:36.117Z"
   },
   {
    "duration": 17,
    "start_time": "2022-02-13T10:38:36.544Z"
   },
   {
    "duration": 427,
    "start_time": "2022-02-13T10:38:36.564Z"
   },
   {
    "duration": 29,
    "start_time": "2022-02-13T10:38:36.994Z"
   },
   {
    "duration": 20,
    "start_time": "2022-02-13T10:38:37.048Z"
   },
   {
    "duration": 20,
    "start_time": "2022-02-13T10:38:37.071Z"
   },
   {
    "duration": 560,
    "start_time": "2022-02-13T10:38:37.094Z"
   },
   {
    "duration": 10,
    "start_time": "2022-02-13T10:38:37.657Z"
   },
   {
    "duration": 18,
    "start_time": "2022-02-13T10:38:37.670Z"
   },
   {
    "duration": 657,
    "start_time": "2022-02-13T10:38:37.692Z"
   },
   {
    "duration": 1202,
    "start_time": "2022-02-13T10:38:38.352Z"
   },
   {
    "duration": 18,
    "start_time": "2022-02-13T10:38:39.558Z"
   },
   {
    "duration": 28,
    "start_time": "2022-02-13T10:38:39.580Z"
   },
   {
    "duration": 6197,
    "start_time": "2022-02-13T10:38:39.612Z"
   },
   {
    "duration": -143,
    "start_time": "2022-02-13T10:38:45.955Z"
   },
   {
    "duration": -145,
    "start_time": "2022-02-13T10:38:45.958Z"
   },
   {
    "duration": -146,
    "start_time": "2022-02-13T10:38:45.961Z"
   },
   {
    "duration": -146,
    "start_time": "2022-02-13T10:38:45.963Z"
   },
   {
    "duration": -148,
    "start_time": "2022-02-13T10:38:45.967Z"
   },
   {
    "duration": 1588,
    "start_time": "2022-02-13T10:39:27.041Z"
   },
   {
    "duration": 65,
    "start_time": "2022-02-13T10:39:28.632Z"
   },
   {
    "duration": 21,
    "start_time": "2022-02-13T10:39:28.701Z"
   },
   {
    "duration": 82,
    "start_time": "2022-02-13T10:39:28.725Z"
   },
   {
    "duration": 31,
    "start_time": "2022-02-13T10:39:28.810Z"
   },
   {
    "duration": 19,
    "start_time": "2022-02-13T10:39:28.844Z"
   },
   {
    "duration": 14,
    "start_time": "2022-02-13T10:39:28.866Z"
   },
   {
    "duration": 15,
    "start_time": "2022-02-13T10:39:28.886Z"
   },
   {
    "duration": 11,
    "start_time": "2022-02-13T10:39:28.904Z"
   },
   {
    "duration": 8,
    "start_time": "2022-02-13T10:39:28.949Z"
   },
   {
    "duration": 8,
    "start_time": "2022-02-13T10:39:28.961Z"
   },
   {
    "duration": 77,
    "start_time": "2022-02-13T10:39:28.971Z"
   },
   {
    "duration": 8,
    "start_time": "2022-02-13T10:39:29.051Z"
   },
   {
    "duration": 22,
    "start_time": "2022-02-13T10:39:29.061Z"
   },
   {
    "duration": 12,
    "start_time": "2022-02-13T10:39:29.085Z"
   },
   {
    "duration": 10,
    "start_time": "2022-02-13T10:39:29.100Z"
   },
   {
    "duration": 45,
    "start_time": "2022-02-13T10:39:29.113Z"
   },
   {
    "duration": 16,
    "start_time": "2022-02-13T10:39:29.161Z"
   },
   {
    "duration": 25,
    "start_time": "2022-02-13T10:39:29.181Z"
   },
   {
    "duration": 94,
    "start_time": "2022-02-13T10:39:29.210Z"
   },
   {
    "duration": 15,
    "start_time": "2022-02-13T10:39:29.307Z"
   },
   {
    "duration": 41,
    "start_time": "2022-02-13T10:39:29.325Z"
   },
   {
    "duration": 10,
    "start_time": "2022-02-13T10:39:29.371Z"
   },
   {
    "duration": 485,
    "start_time": "2022-02-13T10:39:29.384Z"
   },
   {
    "duration": 13,
    "start_time": "2022-02-13T10:39:29.872Z"
   },
   {
    "duration": 18,
    "start_time": "2022-02-13T10:39:29.888Z"
   },
   {
    "duration": 332,
    "start_time": "2022-02-13T10:39:29.909Z"
   },
   {
    "duration": 5,
    "start_time": "2022-02-13T10:39:30.249Z"
   },
   {
    "duration": 474,
    "start_time": "2022-02-13T10:39:30.257Z"
   },
   {
    "duration": 14,
    "start_time": "2022-02-13T10:39:30.734Z"
   },
   {
    "duration": 30,
    "start_time": "2022-02-13T10:39:30.751Z"
   },
   {
    "duration": 9,
    "start_time": "2022-02-13T10:39:30.784Z"
   },
   {
    "duration": 33,
    "start_time": "2022-02-13T10:39:30.795Z"
   },
   {
    "duration": 19,
    "start_time": "2022-02-13T10:39:30.831Z"
   },
   {
    "duration": 495,
    "start_time": "2022-02-13T10:39:30.853Z"
   },
   {
    "duration": 790,
    "start_time": "2022-02-13T10:39:31.351Z"
   },
   {
    "duration": 13,
    "start_time": "2022-02-13T10:39:32.144Z"
   },
   {
    "duration": 524,
    "start_time": "2022-02-13T10:39:32.160Z"
   },
   {
    "duration": 14,
    "start_time": "2022-02-13T10:39:32.686Z"
   },
   {
    "duration": 422,
    "start_time": "2022-02-13T10:39:32.702Z"
   },
   {
    "duration": 27,
    "start_time": "2022-02-13T10:39:33.127Z"
   },
   {
    "duration": 436,
    "start_time": "2022-02-13T10:39:33.157Z"
   },
   {
    "duration": 20,
    "start_time": "2022-02-13T10:39:33.595Z"
   },
   {
    "duration": 38,
    "start_time": "2022-02-13T10:39:33.617Z"
   },
   {
    "duration": 18,
    "start_time": "2022-02-13T10:39:33.658Z"
   },
   {
    "duration": 595,
    "start_time": "2022-02-13T10:39:33.679Z"
   },
   {
    "duration": 14,
    "start_time": "2022-02-13T10:39:34.276Z"
   },
   {
    "duration": 21,
    "start_time": "2022-02-13T10:39:34.293Z"
   },
   {
    "duration": 549,
    "start_time": "2022-02-13T10:39:34.319Z"
   },
   {
    "duration": 1388,
    "start_time": "2022-02-13T10:39:34.871Z"
   },
   {
    "duration": 17,
    "start_time": "2022-02-13T10:39:36.263Z"
   },
   {
    "duration": 19,
    "start_time": "2022-02-13T10:39:36.283Z"
   },
   {
    "duration": 6881,
    "start_time": "2022-02-13T10:39:36.305Z"
   },
   {
    "duration": -120,
    "start_time": "2022-02-13T10:39:43.310Z"
   },
   {
    "duration": -122,
    "start_time": "2022-02-13T10:39:43.314Z"
   },
   {
    "duration": -124,
    "start_time": "2022-02-13T10:39:43.319Z"
   },
   {
    "duration": -125,
    "start_time": "2022-02-13T10:39:43.322Z"
   },
   {
    "duration": -124,
    "start_time": "2022-02-13T10:39:43.324Z"
   },
   {
    "duration": 1650,
    "start_time": "2022-02-13T10:41:18.611Z"
   },
   {
    "duration": 57,
    "start_time": "2022-02-13T10:41:20.264Z"
   },
   {
    "duration": 26,
    "start_time": "2022-02-13T10:41:20.325Z"
   },
   {
    "duration": 38,
    "start_time": "2022-02-13T10:41:20.354Z"
   },
   {
    "duration": 15,
    "start_time": "2022-02-13T10:41:20.395Z"
   },
   {
    "duration": 45,
    "start_time": "2022-02-13T10:41:20.413Z"
   },
   {
    "duration": 19,
    "start_time": "2022-02-13T10:41:20.461Z"
   },
   {
    "duration": 24,
    "start_time": "2022-02-13T10:41:20.485Z"
   },
   {
    "duration": 38,
    "start_time": "2022-02-13T10:41:20.512Z"
   },
   {
    "duration": 7,
    "start_time": "2022-02-13T10:41:20.553Z"
   },
   {
    "duration": 11,
    "start_time": "2022-02-13T10:41:20.563Z"
   },
   {
    "duration": 35,
    "start_time": "2022-02-13T10:41:20.577Z"
   },
   {
    "duration": 39,
    "start_time": "2022-02-13T10:41:20.614Z"
   },
   {
    "duration": 27,
    "start_time": "2022-02-13T10:41:20.655Z"
   },
   {
    "duration": 14,
    "start_time": "2022-02-13T10:41:20.685Z"
   },
   {
    "duration": 19,
    "start_time": "2022-02-13T10:41:20.701Z"
   },
   {
    "duration": 16,
    "start_time": "2022-02-13T10:41:20.748Z"
   },
   {
    "duration": 23,
    "start_time": "2022-02-13T10:41:20.767Z"
   },
   {
    "duration": 21,
    "start_time": "2022-02-13T10:41:20.793Z"
   },
   {
    "duration": 64,
    "start_time": "2022-02-13T10:41:20.817Z"
   },
   {
    "duration": 16,
    "start_time": "2022-02-13T10:41:20.884Z"
   },
   {
    "duration": 52,
    "start_time": "2022-02-13T10:41:20.903Z"
   },
   {
    "duration": 11,
    "start_time": "2022-02-13T10:41:20.961Z"
   },
   {
    "duration": 477,
    "start_time": "2022-02-13T10:41:20.976Z"
   },
   {
    "duration": 12,
    "start_time": "2022-02-13T10:41:21.456Z"
   },
   {
    "duration": 20,
    "start_time": "2022-02-13T10:41:21.470Z"
   },
   {
    "duration": 334,
    "start_time": "2022-02-13T10:41:21.492Z"
   },
   {
    "duration": 4,
    "start_time": "2022-02-13T10:41:21.830Z"
   },
   {
    "duration": 620,
    "start_time": "2022-02-13T10:41:21.848Z"
   },
   {
    "duration": 3,
    "start_time": "2022-02-13T10:41:22.471Z"
   },
   {
    "duration": 36,
    "start_time": "2022-02-13T10:41:22.476Z"
   },
   {
    "duration": 34,
    "start_time": "2022-02-13T10:41:22.515Z"
   },
   {
    "duration": 17,
    "start_time": "2022-02-13T10:41:22.553Z"
   },
   {
    "duration": 8,
    "start_time": "2022-02-13T10:41:22.573Z"
   },
   {
    "duration": 608,
    "start_time": "2022-02-13T10:41:22.584Z"
   },
   {
    "duration": 818,
    "start_time": "2022-02-13T10:41:23.195Z"
   },
   {
    "duration": 31,
    "start_time": "2022-02-13T10:41:24.017Z"
   },
   {
    "duration": 524,
    "start_time": "2022-02-13T10:41:24.051Z"
   },
   {
    "duration": 17,
    "start_time": "2022-02-13T10:41:24.578Z"
   },
   {
    "duration": 425,
    "start_time": "2022-02-13T10:41:24.597Z"
   },
   {
    "duration": 27,
    "start_time": "2022-02-13T10:41:25.025Z"
   },
   {
    "duration": 425,
    "start_time": "2022-02-13T10:41:25.054Z"
   },
   {
    "duration": 21,
    "start_time": "2022-02-13T10:41:25.482Z"
   },
   {
    "duration": 47,
    "start_time": "2022-02-13T10:41:25.506Z"
   },
   {
    "duration": 13,
    "start_time": "2022-02-13T10:41:25.556Z"
   },
   {
    "duration": 561,
    "start_time": "2022-02-13T10:41:25.572Z"
   },
   {
    "duration": 22,
    "start_time": "2022-02-13T10:41:26.136Z"
   },
   {
    "duration": 16,
    "start_time": "2022-02-13T10:41:26.161Z"
   },
   {
    "duration": 350,
    "start_time": "2022-02-13T10:41:26.179Z"
   },
   {
    "duration": 822,
    "start_time": "2022-02-13T10:41:26.532Z"
   },
   {
    "duration": 13,
    "start_time": "2022-02-13T10:41:27.356Z"
   },
   {
    "duration": 16,
    "start_time": "2022-02-13T10:41:27.372Z"
   },
   {
    "duration": 16,
    "start_time": "2022-02-13T10:41:27.390Z"
   },
   {
    "duration": 8169,
    "start_time": "2022-02-13T10:41:27.408Z"
   },
   {
    "duration": -134,
    "start_time": "2022-02-13T10:41:35.715Z"
   },
   {
    "duration": -136,
    "start_time": "2022-02-13T10:41:35.719Z"
   },
   {
    "duration": -137,
    "start_time": "2022-02-13T10:41:35.723Z"
   },
   {
    "duration": -139,
    "start_time": "2022-02-13T10:41:35.727Z"
   },
   {
    "duration": 1557,
    "start_time": "2022-02-13T10:45:32.406Z"
   },
   {
    "duration": 65,
    "start_time": "2022-02-13T10:45:33.966Z"
   },
   {
    "duration": 22,
    "start_time": "2022-02-13T10:45:34.034Z"
   },
   {
    "duration": 62,
    "start_time": "2022-02-13T10:45:34.060Z"
   },
   {
    "duration": 29,
    "start_time": "2022-02-13T10:45:34.124Z"
   },
   {
    "duration": 15,
    "start_time": "2022-02-13T10:45:34.155Z"
   },
   {
    "duration": 29,
    "start_time": "2022-02-13T10:45:34.173Z"
   },
   {
    "duration": 14,
    "start_time": "2022-02-13T10:45:34.206Z"
   },
   {
    "duration": 16,
    "start_time": "2022-02-13T10:45:34.248Z"
   },
   {
    "duration": 14,
    "start_time": "2022-02-13T10:45:34.267Z"
   },
   {
    "duration": 23,
    "start_time": "2022-02-13T10:45:34.284Z"
   },
   {
    "duration": 46,
    "start_time": "2022-02-13T10:45:34.310Z"
   },
   {
    "duration": 6,
    "start_time": "2022-02-13T10:45:34.359Z"
   },
   {
    "duration": 47,
    "start_time": "2022-02-13T10:45:34.367Z"
   },
   {
    "duration": 15,
    "start_time": "2022-02-13T10:45:34.416Z"
   },
   {
    "duration": 26,
    "start_time": "2022-02-13T10:45:34.434Z"
   },
   {
    "duration": 10,
    "start_time": "2022-02-13T10:45:34.462Z"
   },
   {
    "duration": 16,
    "start_time": "2022-02-13T10:45:34.475Z"
   },
   {
    "duration": 55,
    "start_time": "2022-02-13T10:45:34.494Z"
   },
   {
    "duration": 46,
    "start_time": "2022-02-13T10:45:34.552Z"
   },
   {
    "duration": 31,
    "start_time": "2022-02-13T10:45:34.601Z"
   },
   {
    "duration": 38,
    "start_time": "2022-02-13T10:45:34.634Z"
   },
   {
    "duration": 30,
    "start_time": "2022-02-13T10:45:34.677Z"
   },
   {
    "duration": 496,
    "start_time": "2022-02-13T10:45:34.711Z"
   },
   {
    "duration": 11,
    "start_time": "2022-02-13T10:45:35.209Z"
   },
   {
    "duration": 31,
    "start_time": "2022-02-13T10:45:35.222Z"
   },
   {
    "duration": 302,
    "start_time": "2022-02-13T10:45:35.256Z"
   },
   {
    "duration": 4,
    "start_time": "2022-02-13T10:45:35.561Z"
   },
   {
    "duration": 462,
    "start_time": "2022-02-13T10:45:35.567Z"
   },
   {
    "duration": 4,
    "start_time": "2022-02-13T10:45:36.031Z"
   },
   {
    "duration": 29,
    "start_time": "2022-02-13T10:45:36.049Z"
   },
   {
    "duration": 8,
    "start_time": "2022-02-13T10:45:36.081Z"
   },
   {
    "duration": 19,
    "start_time": "2022-02-13T10:45:36.091Z"
   },
   {
    "duration": 37,
    "start_time": "2022-02-13T10:45:36.112Z"
   },
   {
    "duration": 445,
    "start_time": "2022-02-13T10:45:36.152Z"
   },
   {
    "duration": 958,
    "start_time": "2022-02-13T10:45:36.599Z"
   },
   {
    "duration": 12,
    "start_time": "2022-02-13T10:45:37.560Z"
   },
   {
    "duration": 675,
    "start_time": "2022-02-13T10:45:37.574Z"
   },
   {
    "duration": 13,
    "start_time": "2022-02-13T10:45:38.252Z"
   },
   {
    "duration": 553,
    "start_time": "2022-02-13T10:45:38.268Z"
   },
   {
    "duration": 24,
    "start_time": "2022-02-13T10:45:38.823Z"
   },
   {
    "duration": 401,
    "start_time": "2022-02-13T10:45:38.850Z"
   },
   {
    "duration": 19,
    "start_time": "2022-02-13T10:45:39.253Z"
   },
   {
    "duration": 28,
    "start_time": "2022-02-13T10:45:39.275Z"
   },
   {
    "duration": 512,
    "start_time": "2022-02-13T10:45:39.306Z"
   },
   {
    "duration": 11,
    "start_time": "2022-02-13T10:45:39.821Z"
   },
   {
    "duration": 27,
    "start_time": "2022-02-13T10:45:39.834Z"
   },
   {
    "duration": 331,
    "start_time": "2022-02-13T10:45:39.864Z"
   },
   {
    "duration": 755,
    "start_time": "2022-02-13T10:45:40.197Z"
   },
   {
    "duration": 12,
    "start_time": "2022-02-13T10:45:40.955Z"
   },
   {
    "duration": 17,
    "start_time": "2022-02-13T10:45:40.969Z"
   },
   {
    "duration": 15,
    "start_time": "2022-02-13T10:45:40.988Z"
   },
   {
    "duration": 7482,
    "start_time": "2022-02-13T10:45:41.006Z"
   },
   {
    "duration": -149,
    "start_time": "2022-02-13T10:45:48.640Z"
   },
   {
    "duration": -150,
    "start_time": "2022-02-13T10:45:48.642Z"
   },
   {
    "duration": -151,
    "start_time": "2022-02-13T10:45:48.645Z"
   },
   {
    "duration": -160,
    "start_time": "2022-02-13T10:45:48.655Z"
   },
   {
    "duration": 1483,
    "start_time": "2022-02-13T10:46:02.737Z"
   },
   {
    "duration": 69,
    "start_time": "2022-02-13T10:46:04.223Z"
   },
   {
    "duration": 13,
    "start_time": "2022-02-13T10:46:04.296Z"
   },
   {
    "duration": 71,
    "start_time": "2022-02-13T10:46:04.312Z"
   },
   {
    "duration": 16,
    "start_time": "2022-02-13T10:46:04.386Z"
   },
   {
    "duration": 20,
    "start_time": "2022-02-13T10:46:04.405Z"
   },
   {
    "duration": 30,
    "start_time": "2022-02-13T10:46:04.427Z"
   },
   {
    "duration": 14,
    "start_time": "2022-02-13T10:46:04.461Z"
   },
   {
    "duration": 10,
    "start_time": "2022-02-13T10:46:04.478Z"
   },
   {
    "duration": 7,
    "start_time": "2022-02-13T10:46:04.490Z"
   },
   {
    "duration": 54,
    "start_time": "2022-02-13T10:46:04.499Z"
   },
   {
    "duration": 36,
    "start_time": "2022-02-13T10:46:04.555Z"
   },
   {
    "duration": 6,
    "start_time": "2022-02-13T10:46:04.594Z"
   },
   {
    "duration": 52,
    "start_time": "2022-02-13T10:46:04.603Z"
   },
   {
    "duration": 13,
    "start_time": "2022-02-13T10:46:04.658Z"
   },
   {
    "duration": 10,
    "start_time": "2022-02-13T10:46:04.673Z"
   },
   {
    "duration": 9,
    "start_time": "2022-02-13T10:46:04.686Z"
   },
   {
    "duration": 53,
    "start_time": "2022-02-13T10:46:04.697Z"
   },
   {
    "duration": 16,
    "start_time": "2022-02-13T10:46:04.752Z"
   },
   {
    "duration": 37,
    "start_time": "2022-02-13T10:46:04.770Z"
   },
   {
    "duration": 46,
    "start_time": "2022-02-13T10:46:04.809Z"
   },
   {
    "duration": 23,
    "start_time": "2022-02-13T10:46:04.857Z"
   },
   {
    "duration": 9,
    "start_time": "2022-02-13T10:46:04.886Z"
   },
   {
    "duration": 500,
    "start_time": "2022-02-13T10:46:04.899Z"
   },
   {
    "duration": 10,
    "start_time": "2022-02-13T10:46:05.402Z"
   },
   {
    "duration": 35,
    "start_time": "2022-02-13T10:46:05.415Z"
   },
   {
    "duration": 335,
    "start_time": "2022-02-13T10:46:05.452Z"
   },
   {
    "duration": 5,
    "start_time": "2022-02-13T10:46:05.790Z"
   },
   {
    "duration": 466,
    "start_time": "2022-02-13T10:46:05.798Z"
   },
   {
    "duration": 3,
    "start_time": "2022-02-13T10:46:06.266Z"
   },
   {
    "duration": 31,
    "start_time": "2022-02-13T10:46:06.271Z"
   },
   {
    "duration": 8,
    "start_time": "2022-02-13T10:46:06.305Z"
   },
   {
    "duration": 49,
    "start_time": "2022-02-13T10:46:06.315Z"
   },
   {
    "duration": 5,
    "start_time": "2022-02-13T10:46:06.367Z"
   },
   {
    "duration": 512,
    "start_time": "2022-02-13T10:46:06.374Z"
   },
   {
    "duration": 855,
    "start_time": "2022-02-13T10:46:06.888Z"
   },
   {
    "duration": 13,
    "start_time": "2022-02-13T10:46:07.749Z"
   },
   {
    "duration": 483,
    "start_time": "2022-02-13T10:46:07.765Z"
   },
   {
    "duration": 18,
    "start_time": "2022-02-13T10:46:08.251Z"
   },
   {
    "duration": 479,
    "start_time": "2022-02-13T10:46:08.272Z"
   },
   {
    "duration": 13,
    "start_time": "2022-02-13T10:46:08.753Z"
   },
   {
    "duration": 410,
    "start_time": "2022-02-13T10:46:08.769Z"
   },
   {
    "duration": 19,
    "start_time": "2022-02-13T10:46:09.182Z"
   },
   {
    "duration": 48,
    "start_time": "2022-02-13T10:46:09.205Z"
   },
   {
    "duration": 528,
    "start_time": "2022-02-13T10:46:09.255Z"
   },
   {
    "duration": 12,
    "start_time": "2022-02-13T10:46:09.786Z"
   },
   {
    "duration": 14,
    "start_time": "2022-02-13T10:46:09.801Z"
   },
   {
    "duration": 348,
    "start_time": "2022-02-13T10:46:09.817Z"
   },
   {
    "duration": 806,
    "start_time": "2022-02-13T10:46:10.167Z"
   },
   {
    "duration": 13,
    "start_time": "2022-02-13T10:46:10.976Z"
   },
   {
    "duration": 18,
    "start_time": "2022-02-13T10:46:10.991Z"
   },
   {
    "duration": 49,
    "start_time": "2022-02-13T10:46:11.012Z"
   },
   {
    "duration": 5863,
    "start_time": "2022-02-13T10:46:11.063Z"
   },
   {
    "duration": -124,
    "start_time": "2022-02-13T10:46:17.054Z"
   },
   {
    "duration": -126,
    "start_time": "2022-02-13T10:46:17.057Z"
   },
   {
    "duration": -126,
    "start_time": "2022-02-13T10:46:17.059Z"
   },
   {
    "duration": -128,
    "start_time": "2022-02-13T10:46:17.063Z"
   },
   {
    "duration": 1467,
    "start_time": "2022-02-13T10:49:31.987Z"
   },
   {
    "duration": 61,
    "start_time": "2022-02-13T10:49:33.457Z"
   },
   {
    "duration": 28,
    "start_time": "2022-02-13T10:49:33.521Z"
   },
   {
    "duration": 48,
    "start_time": "2022-02-13T10:49:33.552Z"
   },
   {
    "duration": 51,
    "start_time": "2022-02-13T10:49:33.603Z"
   },
   {
    "duration": 18,
    "start_time": "2022-02-13T10:49:33.657Z"
   },
   {
    "duration": 16,
    "start_time": "2022-02-13T10:49:33.679Z"
   },
   {
    "duration": 49,
    "start_time": "2022-02-13T10:49:33.701Z"
   },
   {
    "duration": 16,
    "start_time": "2022-02-13T10:49:33.755Z"
   },
   {
    "duration": 9,
    "start_time": "2022-02-13T10:49:33.774Z"
   },
   {
    "duration": 10,
    "start_time": "2022-02-13T10:49:33.786Z"
   },
   {
    "duration": 82,
    "start_time": "2022-02-13T10:49:33.799Z"
   },
   {
    "duration": 7,
    "start_time": "2022-02-13T10:49:33.885Z"
   },
   {
    "duration": 53,
    "start_time": "2022-02-13T10:49:33.896Z"
   },
   {
    "duration": 15,
    "start_time": "2022-02-13T10:49:33.952Z"
   },
   {
    "duration": 34,
    "start_time": "2022-02-13T10:49:33.972Z"
   },
   {
    "duration": 13,
    "start_time": "2022-02-13T10:49:34.010Z"
   },
   {
    "duration": 36,
    "start_time": "2022-02-13T10:49:34.026Z"
   },
   {
    "duration": 21,
    "start_time": "2022-02-13T10:49:34.064Z"
   },
   {
    "duration": 64,
    "start_time": "2022-02-13T10:49:34.087Z"
   },
   {
    "duration": 19,
    "start_time": "2022-02-13T10:49:34.154Z"
   },
   {
    "duration": 24,
    "start_time": "2022-02-13T10:49:34.176Z"
   },
   {
    "duration": 47,
    "start_time": "2022-02-13T10:49:34.205Z"
   },
   {
    "duration": 486,
    "start_time": "2022-02-13T10:49:34.256Z"
   },
   {
    "duration": 12,
    "start_time": "2022-02-13T10:49:34.749Z"
   },
   {
    "duration": 26,
    "start_time": "2022-02-13T10:49:34.765Z"
   },
   {
    "duration": 345,
    "start_time": "2022-02-13T10:49:34.794Z"
   },
   {
    "duration": 7,
    "start_time": "2022-02-13T10:49:35.142Z"
   },
   {
    "duration": 447,
    "start_time": "2022-02-13T10:49:35.152Z"
   },
   {
    "duration": 3,
    "start_time": "2022-02-13T10:49:35.602Z"
   },
   {
    "duration": 48,
    "start_time": "2022-02-13T10:49:35.608Z"
   },
   {
    "duration": 8,
    "start_time": "2022-02-13T10:49:35.659Z"
   },
   {
    "duration": 18,
    "start_time": "2022-02-13T10:49:35.670Z"
   },
   {
    "duration": 16,
    "start_time": "2022-02-13T10:49:35.691Z"
   },
   {
    "duration": 474,
    "start_time": "2022-02-13T10:49:35.709Z"
   },
   {
    "duration": 837,
    "start_time": "2022-02-13T10:49:36.185Z"
   },
   {
    "duration": 29,
    "start_time": "2022-02-13T10:49:37.025Z"
   },
   {
    "duration": 755,
    "start_time": "2022-02-13T10:49:37.057Z"
   },
   {
    "duration": 13,
    "start_time": "2022-02-13T10:49:37.815Z"
   },
   {
    "duration": 404,
    "start_time": "2022-02-13T10:49:37.850Z"
   },
   {
    "duration": 13,
    "start_time": "2022-02-13T10:49:38.258Z"
   },
   {
    "duration": 431,
    "start_time": "2022-02-13T10:49:38.274Z"
   },
   {
    "duration": 45,
    "start_time": "2022-02-13T10:49:38.708Z"
   },
   {
    "duration": 37,
    "start_time": "2022-02-13T10:49:38.756Z"
   },
   {
    "duration": 540,
    "start_time": "2022-02-13T10:49:38.796Z"
   },
   {
    "duration": 16,
    "start_time": "2022-02-13T10:49:39.338Z"
   },
   {
    "duration": 17,
    "start_time": "2022-02-13T10:49:39.357Z"
   },
   {
    "duration": 488,
    "start_time": "2022-02-13T10:49:39.376Z"
   },
   {
    "duration": 838,
    "start_time": "2022-02-13T10:49:39.868Z"
   },
   {
    "duration": 18,
    "start_time": "2022-02-13T10:49:40.709Z"
   },
   {
    "duration": 41,
    "start_time": "2022-02-13T10:49:40.729Z"
   },
   {
    "duration": 21,
    "start_time": "2022-02-13T10:49:40.773Z"
   },
   {
    "duration": 9370,
    "start_time": "2022-02-13T10:49:40.797Z"
   },
   {
    "duration": -119,
    "start_time": "2022-02-13T10:49:50.290Z"
   },
   {
    "duration": -120,
    "start_time": "2022-02-13T10:49:50.292Z"
   },
   {
    "duration": -121,
    "start_time": "2022-02-13T10:49:50.295Z"
   },
   {
    "duration": -122,
    "start_time": "2022-02-13T10:49:50.299Z"
   },
   {
    "duration": 1014,
    "start_time": "2022-02-13T10:49:56.181Z"
   },
   {
    "duration": 1476,
    "start_time": "2022-02-13T10:50:32.125Z"
   },
   {
    "duration": 61,
    "start_time": "2022-02-13T10:50:33.604Z"
   },
   {
    "duration": 14,
    "start_time": "2022-02-13T10:50:33.668Z"
   },
   {
    "duration": 40,
    "start_time": "2022-02-13T10:50:33.685Z"
   },
   {
    "duration": 33,
    "start_time": "2022-02-13T10:50:33.728Z"
   },
   {
    "duration": 15,
    "start_time": "2022-02-13T10:50:33.764Z"
   },
   {
    "duration": 14,
    "start_time": "2022-02-13T10:50:33.782Z"
   },
   {
    "duration": 13,
    "start_time": "2022-02-13T10:50:33.800Z"
   },
   {
    "duration": 11,
    "start_time": "2022-02-13T10:50:33.848Z"
   },
   {
    "duration": 7,
    "start_time": "2022-02-13T10:50:33.862Z"
   },
   {
    "duration": 8,
    "start_time": "2022-02-13T10:50:33.872Z"
   },
   {
    "duration": 72,
    "start_time": "2022-02-13T10:50:33.883Z"
   },
   {
    "duration": 6,
    "start_time": "2022-02-13T10:50:33.957Z"
   },
   {
    "duration": 34,
    "start_time": "2022-02-13T10:50:33.966Z"
   },
   {
    "duration": 13,
    "start_time": "2022-02-13T10:50:34.002Z"
   },
   {
    "duration": 34,
    "start_time": "2022-02-13T10:50:34.018Z"
   },
   {
    "duration": 9,
    "start_time": "2022-02-13T10:50:34.055Z"
   },
   {
    "duration": 33,
    "start_time": "2022-02-13T10:50:34.066Z"
   },
   {
    "duration": 31,
    "start_time": "2022-02-13T10:50:34.102Z"
   },
   {
    "duration": 44,
    "start_time": "2022-02-13T10:50:34.136Z"
   },
   {
    "duration": 18,
    "start_time": "2022-02-13T10:50:34.183Z"
   },
   {
    "duration": 48,
    "start_time": "2022-02-13T10:50:34.204Z"
   },
   {
    "duration": 9,
    "start_time": "2022-02-13T10:50:34.258Z"
   },
   {
    "duration": 459,
    "start_time": "2022-02-13T10:50:34.270Z"
   },
   {
    "duration": 19,
    "start_time": "2022-02-13T10:50:34.731Z"
   },
   {
    "duration": 14,
    "start_time": "2022-02-13T10:50:34.753Z"
   },
   {
    "duration": 308,
    "start_time": "2022-02-13T10:50:34.770Z"
   },
   {
    "duration": 4,
    "start_time": "2022-02-13T10:50:35.080Z"
   },
   {
    "duration": 457,
    "start_time": "2022-02-13T10:50:35.086Z"
   },
   {
    "duration": 4,
    "start_time": "2022-02-13T10:50:35.549Z"
   },
   {
    "duration": 28,
    "start_time": "2022-02-13T10:50:35.556Z"
   },
   {
    "duration": 8,
    "start_time": "2022-02-13T10:50:35.587Z"
   },
   {
    "duration": 13,
    "start_time": "2022-02-13T10:50:35.597Z"
   },
   {
    "duration": 41,
    "start_time": "2022-02-13T10:50:35.612Z"
   },
   {
    "duration": 465,
    "start_time": "2022-02-13T10:50:35.655Z"
   },
   {
    "duration": 811,
    "start_time": "2022-02-13T10:50:36.122Z"
   },
   {
    "duration": 22,
    "start_time": "2022-02-13T10:50:36.935Z"
   },
   {
    "duration": 615,
    "start_time": "2022-02-13T10:50:36.960Z"
   },
   {
    "duration": 13,
    "start_time": "2022-02-13T10:50:37.578Z"
   },
   {
    "duration": 412,
    "start_time": "2022-02-13T10:50:37.593Z"
   },
   {
    "duration": 14,
    "start_time": "2022-02-13T10:50:38.008Z"
   },
   {
    "duration": 432,
    "start_time": "2022-02-13T10:50:38.024Z"
   },
   {
    "duration": 19,
    "start_time": "2022-02-13T10:50:38.459Z"
   },
   {
    "duration": 25,
    "start_time": "2022-02-13T10:50:38.481Z"
   },
   {
    "duration": 573,
    "start_time": "2022-02-13T10:50:38.509Z"
   },
   {
    "duration": 10,
    "start_time": "2022-02-13T10:50:39.084Z"
   },
   {
    "duration": 17,
    "start_time": "2022-02-13T10:50:39.096Z"
   },
   {
    "duration": 357,
    "start_time": "2022-02-13T10:50:39.117Z"
   },
   {
    "duration": 979,
    "start_time": "2022-02-13T10:50:39.477Z"
   },
   {
    "duration": -127,
    "start_time": "2022-02-13T10:50:40.587Z"
   },
   {
    "duration": -130,
    "start_time": "2022-02-13T10:50:40.592Z"
   },
   {
    "duration": -138,
    "start_time": "2022-02-13T10:50:40.601Z"
   },
   {
    "duration": -140,
    "start_time": "2022-02-13T10:50:40.605Z"
   },
   {
    "duration": -140,
    "start_time": "2022-02-13T10:50:40.607Z"
   },
   {
    "duration": -145,
    "start_time": "2022-02-13T10:50:40.613Z"
   },
   {
    "duration": -152,
    "start_time": "2022-02-13T10:50:40.622Z"
   },
   {
    "duration": -156,
    "start_time": "2022-02-13T10:50:40.627Z"
   },
   {
    "duration": 897,
    "start_time": "2022-02-13T10:51:06.022Z"
   },
   {
    "duration": 1479,
    "start_time": "2022-02-13T10:52:00.434Z"
   },
   {
    "duration": 58,
    "start_time": "2022-02-13T10:52:01.916Z"
   },
   {
    "duration": 14,
    "start_time": "2022-02-13T10:52:01.977Z"
   },
   {
    "duration": 58,
    "start_time": "2022-02-13T10:52:01.994Z"
   },
   {
    "duration": 17,
    "start_time": "2022-02-13T10:52:02.055Z"
   },
   {
    "duration": 21,
    "start_time": "2022-02-13T10:52:02.074Z"
   },
   {
    "duration": 22,
    "start_time": "2022-02-13T10:52:02.098Z"
   },
   {
    "duration": 37,
    "start_time": "2022-02-13T10:52:02.124Z"
   },
   {
    "duration": 23,
    "start_time": "2022-02-13T10:52:02.164Z"
   },
   {
    "duration": 40,
    "start_time": "2022-02-13T10:52:02.190Z"
   },
   {
    "duration": 19,
    "start_time": "2022-02-13T10:52:02.232Z"
   },
   {
    "duration": 43,
    "start_time": "2022-02-13T10:52:02.254Z"
   },
   {
    "duration": 7,
    "start_time": "2022-02-13T10:52:02.299Z"
   },
   {
    "duration": 23,
    "start_time": "2022-02-13T10:52:02.308Z"
   },
   {
    "duration": 13,
    "start_time": "2022-02-13T10:52:02.348Z"
   },
   {
    "duration": 10,
    "start_time": "2022-02-13T10:52:02.363Z"
   },
   {
    "duration": 9,
    "start_time": "2022-02-13T10:52:02.377Z"
   },
   {
    "duration": 16,
    "start_time": "2022-02-13T10:52:02.388Z"
   },
   {
    "duration": 55,
    "start_time": "2022-02-13T10:52:02.407Z"
   },
   {
    "duration": 37,
    "start_time": "2022-02-13T10:52:02.465Z"
   },
   {
    "duration": 44,
    "start_time": "2022-02-13T10:52:02.505Z"
   },
   {
    "duration": 20,
    "start_time": "2022-02-13T10:52:02.552Z"
   },
   {
    "duration": 13,
    "start_time": "2022-02-13T10:52:02.578Z"
   },
   {
    "duration": 486,
    "start_time": "2022-02-13T10:52:02.596Z"
   },
   {
    "duration": 10,
    "start_time": "2022-02-13T10:52:03.084Z"
   },
   {
    "duration": 21,
    "start_time": "2022-02-13T10:52:03.096Z"
   },
   {
    "duration": 305,
    "start_time": "2022-02-13T10:52:03.120Z"
   },
   {
    "duration": 3,
    "start_time": "2022-02-13T10:52:03.428Z"
   },
   {
    "duration": 459,
    "start_time": "2022-02-13T10:52:03.434Z"
   },
   {
    "duration": 4,
    "start_time": "2022-02-13T10:52:03.896Z"
   },
   {
    "duration": 56,
    "start_time": "2022-02-13T10:52:03.903Z"
   },
   {
    "duration": 9,
    "start_time": "2022-02-13T10:52:03.961Z"
   },
   {
    "duration": 14,
    "start_time": "2022-02-13T10:52:03.973Z"
   },
   {
    "duration": 6,
    "start_time": "2022-02-13T10:52:03.990Z"
   },
   {
    "duration": 486,
    "start_time": "2022-02-13T10:52:03.998Z"
   },
   {
    "duration": 902,
    "start_time": "2022-02-13T10:52:04.487Z"
   },
   {
    "duration": 14,
    "start_time": "2022-02-13T10:52:05.392Z"
   },
   {
    "duration": 479,
    "start_time": "2022-02-13T10:52:05.408Z"
   },
   {
    "duration": 13,
    "start_time": "2022-02-13T10:52:05.889Z"
   },
   {
    "duration": 395,
    "start_time": "2022-02-13T10:52:05.905Z"
   },
   {
    "duration": 13,
    "start_time": "2022-02-13T10:52:06.303Z"
   },
   {
    "duration": 412,
    "start_time": "2022-02-13T10:52:06.319Z"
   },
   {
    "duration": 23,
    "start_time": "2022-02-13T10:52:06.734Z"
   },
   {
    "duration": 26,
    "start_time": "2022-02-13T10:52:06.759Z"
   },
   {
    "duration": 535,
    "start_time": "2022-02-13T10:52:06.788Z"
   },
   {
    "duration": 21,
    "start_time": "2022-02-13T10:52:07.326Z"
   },
   {
    "duration": 13,
    "start_time": "2022-02-13T10:52:07.350Z"
   },
   {
    "duration": 350,
    "start_time": "2022-02-13T10:52:07.365Z"
   },
   {
    "duration": 984,
    "start_time": "2022-02-13T10:52:07.718Z"
   },
   {
    "duration": 15,
    "start_time": "2022-02-13T10:52:08.705Z"
   },
   {
    "duration": 37,
    "start_time": "2022-02-13T10:52:08.723Z"
   },
   {
    "duration": 17,
    "start_time": "2022-02-13T10:52:08.762Z"
   },
   {
    "duration": 7758,
    "start_time": "2022-02-13T10:52:08.781Z"
   },
   {
    "duration": -117,
    "start_time": "2022-02-13T10:52:16.659Z"
   },
   {
    "duration": -119,
    "start_time": "2022-02-13T10:52:16.662Z"
   },
   {
    "duration": -120,
    "start_time": "2022-02-13T10:52:16.665Z"
   },
   {
    "duration": -121,
    "start_time": "2022-02-13T10:52:16.668Z"
   },
   {
    "duration": 966,
    "start_time": "2022-02-13T10:52:21.275Z"
   },
   {
    "duration": 1566,
    "start_time": "2022-02-13T10:53:40.339Z"
   },
   {
    "duration": 60,
    "start_time": "2022-02-13T10:53:41.907Z"
   },
   {
    "duration": 14,
    "start_time": "2022-02-13T10:53:41.970Z"
   },
   {
    "duration": 61,
    "start_time": "2022-02-13T10:53:41.988Z"
   },
   {
    "duration": 19,
    "start_time": "2022-02-13T10:53:42.052Z"
   },
   {
    "duration": 19,
    "start_time": "2022-02-13T10:53:42.074Z"
   },
   {
    "duration": 13,
    "start_time": "2022-02-13T10:53:42.096Z"
   },
   {
    "duration": 52,
    "start_time": "2022-02-13T10:53:42.115Z"
   },
   {
    "duration": 13,
    "start_time": "2022-02-13T10:53:42.171Z"
   },
   {
    "duration": 8,
    "start_time": "2022-02-13T10:53:42.186Z"
   },
   {
    "duration": 53,
    "start_time": "2022-02-13T10:53:42.197Z"
   },
   {
    "duration": 33,
    "start_time": "2022-02-13T10:53:42.253Z"
   },
   {
    "duration": 6,
    "start_time": "2022-02-13T10:53:42.289Z"
   },
   {
    "duration": 50,
    "start_time": "2022-02-13T10:53:42.298Z"
   },
   {
    "duration": 13,
    "start_time": "2022-02-13T10:53:42.351Z"
   },
   {
    "duration": 9,
    "start_time": "2022-02-13T10:53:42.367Z"
   },
   {
    "duration": 12,
    "start_time": "2022-02-13T10:53:42.378Z"
   },
   {
    "duration": 13,
    "start_time": "2022-02-13T10:53:42.393Z"
   },
   {
    "duration": 50,
    "start_time": "2022-02-13T10:53:42.408Z"
   },
   {
    "duration": 35,
    "start_time": "2022-02-13T10:53:42.461Z"
   },
   {
    "duration": 20,
    "start_time": "2022-02-13T10:53:42.498Z"
   },
   {
    "duration": 43,
    "start_time": "2022-02-13T10:53:42.520Z"
   },
   {
    "duration": 9,
    "start_time": "2022-02-13T10:53:42.568Z"
   },
   {
    "duration": 455,
    "start_time": "2022-02-13T10:53:42.580Z"
   },
   {
    "duration": 20,
    "start_time": "2022-02-13T10:53:43.038Z"
   },
   {
    "duration": 16,
    "start_time": "2022-02-13T10:53:43.061Z"
   },
   {
    "duration": 315,
    "start_time": "2022-02-13T10:53:43.080Z"
   },
   {
    "duration": 5,
    "start_time": "2022-02-13T10:53:43.398Z"
   },
   {
    "duration": 474,
    "start_time": "2022-02-13T10:53:43.406Z"
   },
   {
    "duration": 3,
    "start_time": "2022-02-13T10:53:43.883Z"
   },
   {
    "duration": 29,
    "start_time": "2022-02-13T10:53:43.889Z"
   },
   {
    "duration": 32,
    "start_time": "2022-02-13T10:53:43.921Z"
   },
   {
    "duration": 12,
    "start_time": "2022-02-13T10:53:43.955Z"
   },
   {
    "duration": 10,
    "start_time": "2022-02-13T10:53:43.970Z"
   },
   {
    "duration": 474,
    "start_time": "2022-02-13T10:53:43.982Z"
   },
   {
    "duration": 824,
    "start_time": "2022-02-13T10:53:44.459Z"
   },
   {
    "duration": 13,
    "start_time": "2022-02-13T10:53:45.286Z"
   },
   {
    "duration": 470,
    "start_time": "2022-02-13T10:53:45.301Z"
   },
   {
    "duration": 13,
    "start_time": "2022-02-13T10:53:45.774Z"
   },
   {
    "duration": 405,
    "start_time": "2022-02-13T10:53:45.789Z"
   },
   {
    "duration": 12,
    "start_time": "2022-02-13T10:53:46.196Z"
   },
   {
    "duration": 453,
    "start_time": "2022-02-13T10:53:46.211Z"
   },
   {
    "duration": 19,
    "start_time": "2022-02-13T10:53:46.666Z"
   },
   {
    "duration": 22,
    "start_time": "2022-02-13T10:53:46.688Z"
   },
   {
    "duration": 617,
    "start_time": "2022-02-13T10:53:46.713Z"
   },
   {
    "duration": 21,
    "start_time": "2022-02-13T10:53:47.333Z"
   },
   {
    "duration": 22,
    "start_time": "2022-02-13T10:53:47.357Z"
   },
   {
    "duration": 481,
    "start_time": "2022-02-13T10:53:47.382Z"
   },
   {
    "duration": 928,
    "start_time": "2022-02-13T10:53:47.865Z"
   },
   {
    "duration": 13,
    "start_time": "2022-02-13T10:53:48.796Z"
   },
   {
    "duration": 44,
    "start_time": "2022-02-13T10:53:48.812Z"
   },
   {
    "duration": 17,
    "start_time": "2022-02-13T10:53:48.858Z"
   },
   {
    "duration": 6542,
    "start_time": "2022-02-13T10:53:48.878Z"
   },
   {
    "duration": -121,
    "start_time": "2022-02-13T10:53:55.544Z"
   },
   {
    "duration": -121,
    "start_time": "2022-02-13T10:53:55.547Z"
   },
   {
    "duration": -122,
    "start_time": "2022-02-13T10:53:55.550Z"
   },
   {
    "duration": -122,
    "start_time": "2022-02-13T10:53:55.552Z"
   },
   {
    "duration": 1477,
    "start_time": "2022-02-13T10:54:21.266Z"
   },
   {
    "duration": 62,
    "start_time": "2022-02-13T10:54:22.749Z"
   },
   {
    "duration": 17,
    "start_time": "2022-02-13T10:54:22.815Z"
   },
   {
    "duration": 64,
    "start_time": "2022-02-13T10:54:22.851Z"
   },
   {
    "duration": 47,
    "start_time": "2022-02-13T10:54:22.918Z"
   },
   {
    "duration": 18,
    "start_time": "2022-02-13T10:54:22.969Z"
   },
   {
    "duration": 15,
    "start_time": "2022-02-13T10:54:22.990Z"
   },
   {
    "duration": 51,
    "start_time": "2022-02-13T10:54:23.010Z"
   },
   {
    "duration": 14,
    "start_time": "2022-02-13T10:54:23.064Z"
   },
   {
    "duration": 7,
    "start_time": "2022-02-13T10:54:23.080Z"
   },
   {
    "duration": 11,
    "start_time": "2022-02-13T10:54:23.089Z"
   },
   {
    "duration": 67,
    "start_time": "2022-02-13T10:54:23.102Z"
   },
   {
    "duration": 12,
    "start_time": "2022-02-13T10:54:23.172Z"
   },
   {
    "duration": 33,
    "start_time": "2022-02-13T10:54:23.188Z"
   },
   {
    "duration": 40,
    "start_time": "2022-02-13T10:54:23.224Z"
   },
   {
    "duration": 11,
    "start_time": "2022-02-13T10:54:23.267Z"
   },
   {
    "duration": 11,
    "start_time": "2022-02-13T10:54:23.281Z"
   },
   {
    "duration": 56,
    "start_time": "2022-02-13T10:54:23.295Z"
   },
   {
    "duration": 26,
    "start_time": "2022-02-13T10:54:23.354Z"
   },
   {
    "duration": 37,
    "start_time": "2022-02-13T10:54:23.383Z"
   },
   {
    "duration": 38,
    "start_time": "2022-02-13T10:54:23.422Z"
   },
   {
    "duration": 24,
    "start_time": "2022-02-13T10:54:23.462Z"
   },
   {
    "duration": 11,
    "start_time": "2022-02-13T10:54:23.492Z"
   },
   {
    "duration": 479,
    "start_time": "2022-02-13T10:54:23.506Z"
   },
   {
    "duration": 10,
    "start_time": "2022-02-13T10:54:23.988Z"
   },
   {
    "duration": 17,
    "start_time": "2022-02-13T10:54:24.000Z"
   },
   {
    "duration": 332,
    "start_time": "2022-02-13T10:54:24.019Z"
   },
   {
    "duration": 4,
    "start_time": "2022-02-13T10:54:24.353Z"
   },
   {
    "duration": 484,
    "start_time": "2022-02-13T10:54:24.359Z"
   },
   {
    "duration": 3,
    "start_time": "2022-02-13T10:54:24.848Z"
   },
   {
    "duration": 31,
    "start_time": "2022-02-13T10:54:24.854Z"
   },
   {
    "duration": 7,
    "start_time": "2022-02-13T10:54:24.888Z"
   },
   {
    "duration": 20,
    "start_time": "2022-02-13T10:54:24.898Z"
   },
   {
    "duration": 33,
    "start_time": "2022-02-13T10:54:24.921Z"
   },
   {
    "duration": 500,
    "start_time": "2022-02-13T10:54:24.957Z"
   },
   {
    "duration": 825,
    "start_time": "2022-02-13T10:54:25.461Z"
   },
   {
    "duration": 14,
    "start_time": "2022-02-13T10:54:26.289Z"
   },
   {
    "duration": 704,
    "start_time": "2022-02-13T10:54:26.307Z"
   },
   {
    "duration": 14,
    "start_time": "2022-02-13T10:54:27.014Z"
   },
   {
    "duration": 412,
    "start_time": "2022-02-13T10:54:27.048Z"
   },
   {
    "duration": 13,
    "start_time": "2022-02-13T10:54:27.463Z"
   },
   {
    "duration": 433,
    "start_time": "2022-02-13T10:54:27.479Z"
   },
   {
    "duration": 19,
    "start_time": "2022-02-13T10:54:27.914Z"
   },
   {
    "duration": 19,
    "start_time": "2022-02-13T10:54:27.948Z"
   },
   {
    "duration": 530,
    "start_time": "2022-02-13T10:54:27.969Z"
   },
   {
    "duration": 10,
    "start_time": "2022-02-13T10:54:28.502Z"
   },
   {
    "duration": 39,
    "start_time": "2022-02-13T10:54:28.515Z"
   },
   {
    "duration": 506,
    "start_time": "2022-02-13T10:54:28.557Z"
   },
   {
    "duration": 925,
    "start_time": "2022-02-13T10:54:29.065Z"
   },
   {
    "duration": 14,
    "start_time": "2022-02-13T10:54:29.992Z"
   },
   {
    "duration": 48,
    "start_time": "2022-02-13T10:54:30.010Z"
   },
   {
    "duration": 17,
    "start_time": "2022-02-13T10:54:30.060Z"
   },
   {
    "duration": 6797,
    "start_time": "2022-02-13T10:54:30.079Z"
   },
   {
    "duration": -125,
    "start_time": "2022-02-13T10:54:37.004Z"
   },
   {
    "duration": -135,
    "start_time": "2022-02-13T10:54:37.016Z"
   },
   {
    "duration": -138,
    "start_time": "2022-02-13T10:54:37.020Z"
   },
   {
    "duration": -138,
    "start_time": "2022-02-13T10:54:37.022Z"
   },
   {
    "duration": 1492,
    "start_time": "2022-02-13T10:55:29.533Z"
   },
   {
    "duration": 58,
    "start_time": "2022-02-13T10:55:31.028Z"
   },
   {
    "duration": 15,
    "start_time": "2022-02-13T10:55:31.089Z"
   },
   {
    "duration": 66,
    "start_time": "2022-02-13T10:55:31.107Z"
   },
   {
    "duration": 15,
    "start_time": "2022-02-13T10:55:31.176Z"
   },
   {
    "duration": 33,
    "start_time": "2022-02-13T10:55:31.193Z"
   },
   {
    "duration": 21,
    "start_time": "2022-02-13T10:55:31.228Z"
   },
   {
    "duration": 16,
    "start_time": "2022-02-13T10:55:31.253Z"
   },
   {
    "duration": 13,
    "start_time": "2022-02-13T10:55:31.273Z"
   },
   {
    "duration": 14,
    "start_time": "2022-02-13T10:55:31.288Z"
   },
   {
    "duration": 47,
    "start_time": "2022-02-13T10:55:31.304Z"
   },
   {
    "duration": 47,
    "start_time": "2022-02-13T10:55:31.353Z"
   },
   {
    "duration": 5,
    "start_time": "2022-02-13T10:55:31.403Z"
   },
   {
    "duration": 45,
    "start_time": "2022-02-13T10:55:31.410Z"
   },
   {
    "duration": 13,
    "start_time": "2022-02-13T10:55:31.457Z"
   },
   {
    "duration": 19,
    "start_time": "2022-02-13T10:55:31.473Z"
   },
   {
    "duration": 12,
    "start_time": "2022-02-13T10:55:31.496Z"
   },
   {
    "duration": 49,
    "start_time": "2022-02-13T10:55:31.511Z"
   },
   {
    "duration": 20,
    "start_time": "2022-02-13T10:55:31.563Z"
   },
   {
    "duration": 35,
    "start_time": "2022-02-13T10:55:31.586Z"
   },
   {
    "duration": 17,
    "start_time": "2022-02-13T10:55:31.647Z"
   },
   {
    "duration": 27,
    "start_time": "2022-02-13T10:55:31.667Z"
   },
   {
    "duration": 10,
    "start_time": "2022-02-13T10:55:31.700Z"
   },
   {
    "duration": 514,
    "start_time": "2022-02-13T10:55:31.714Z"
   },
   {
    "duration": 18,
    "start_time": "2022-02-13T10:55:32.231Z"
   },
   {
    "duration": 21,
    "start_time": "2022-02-13T10:55:32.252Z"
   },
   {
    "duration": 391,
    "start_time": "2022-02-13T10:55:32.276Z"
   },
   {
    "duration": 5,
    "start_time": "2022-02-13T10:55:32.670Z"
   },
   {
    "duration": 496,
    "start_time": "2022-02-13T10:55:32.678Z"
   },
   {
    "duration": 3,
    "start_time": "2022-02-13T10:55:33.176Z"
   },
   {
    "duration": 36,
    "start_time": "2022-02-13T10:55:33.181Z"
   },
   {
    "duration": 34,
    "start_time": "2022-02-13T10:55:33.220Z"
   },
   {
    "duration": 12,
    "start_time": "2022-02-13T10:55:33.256Z"
   },
   {
    "duration": 7,
    "start_time": "2022-02-13T10:55:33.271Z"
   },
   {
    "duration": 497,
    "start_time": "2022-02-13T10:55:33.280Z"
   },
   {
    "duration": 836,
    "start_time": "2022-02-13T10:55:33.780Z"
   },
   {
    "duration": 29,
    "start_time": "2022-02-13T10:55:34.619Z"
   },
   {
    "duration": 488,
    "start_time": "2022-02-13T10:55:34.651Z"
   },
   {
    "duration": 17,
    "start_time": "2022-02-13T10:55:35.142Z"
   },
   {
    "duration": 389,
    "start_time": "2022-02-13T10:55:35.162Z"
   },
   {
    "duration": 13,
    "start_time": "2022-02-13T10:55:35.554Z"
   },
   {
    "duration": 503,
    "start_time": "2022-02-13T10:55:35.569Z"
   },
   {
    "duration": 19,
    "start_time": "2022-02-13T10:55:36.075Z"
   },
   {
    "duration": 19,
    "start_time": "2022-02-13T10:55:36.097Z"
   },
   {
    "duration": 555,
    "start_time": "2022-02-13T10:55:36.118Z"
   },
   {
    "duration": 10,
    "start_time": "2022-02-13T10:55:36.676Z"
   },
   {
    "duration": 18,
    "start_time": "2022-02-13T10:55:36.688Z"
   },
   {
    "duration": 347,
    "start_time": "2022-02-13T10:55:36.709Z"
   },
   {
    "duration": 1002,
    "start_time": "2022-02-13T10:55:37.059Z"
   },
   {
    "duration": 13,
    "start_time": "2022-02-13T10:55:38.063Z"
   },
   {
    "duration": 16,
    "start_time": "2022-02-13T10:55:38.078Z"
   },
   {
    "duration": 14,
    "start_time": "2022-02-13T10:55:38.097Z"
   },
   {
    "duration": 6149,
    "start_time": "2022-02-13T10:55:38.149Z"
   },
   {
    "duration": -127,
    "start_time": "2022-02-13T10:55:44.428Z"
   },
   {
    "duration": -139,
    "start_time": "2022-02-13T10:55:44.441Z"
   },
   {
    "duration": -141,
    "start_time": "2022-02-13T10:55:44.445Z"
   },
   {
    "duration": -143,
    "start_time": "2022-02-13T10:55:44.448Z"
   },
   {
    "duration": 923,
    "start_time": "2022-02-13T10:55:56.136Z"
   },
   {
    "duration": 899,
    "start_time": "2022-02-13T10:56:27.236Z"
   },
   {
    "duration": 1101,
    "start_time": "2022-02-13T10:56:49.752Z"
   },
   {
    "duration": 880,
    "start_time": "2022-02-13T10:58:05.497Z"
   },
   {
    "duration": 1447,
    "start_time": "2022-02-13T10:58:23.787Z"
   },
   {
    "duration": 59,
    "start_time": "2022-02-13T10:58:25.237Z"
   },
   {
    "duration": 16,
    "start_time": "2022-02-13T10:58:25.299Z"
   },
   {
    "duration": 64,
    "start_time": "2022-02-13T10:58:25.318Z"
   },
   {
    "duration": 15,
    "start_time": "2022-02-13T10:58:25.385Z"
   },
   {
    "duration": 18,
    "start_time": "2022-02-13T10:58:25.403Z"
   },
   {
    "duration": 41,
    "start_time": "2022-02-13T10:58:25.423Z"
   },
   {
    "duration": 20,
    "start_time": "2022-02-13T10:58:25.470Z"
   },
   {
    "duration": 14,
    "start_time": "2022-02-13T10:58:25.494Z"
   },
   {
    "duration": 40,
    "start_time": "2022-02-13T10:58:25.511Z"
   },
   {
    "duration": 12,
    "start_time": "2022-02-13T10:58:25.554Z"
   },
   {
    "duration": 38,
    "start_time": "2022-02-13T10:58:25.569Z"
   },
   {
    "duration": 6,
    "start_time": "2022-02-13T10:58:25.609Z"
   },
   {
    "duration": 23,
    "start_time": "2022-02-13T10:58:25.649Z"
   },
   {
    "duration": 12,
    "start_time": "2022-02-13T10:58:25.675Z"
   },
   {
    "duration": 11,
    "start_time": "2022-02-13T10:58:25.690Z"
   },
   {
    "duration": 50,
    "start_time": "2022-02-13T10:58:25.704Z"
   },
   {
    "duration": 13,
    "start_time": "2022-02-13T10:58:25.757Z"
   },
   {
    "duration": 20,
    "start_time": "2022-02-13T10:58:25.772Z"
   },
   {
    "duration": 65,
    "start_time": "2022-02-13T10:58:25.794Z"
   },
   {
    "duration": 20,
    "start_time": "2022-02-13T10:58:25.861Z"
   },
   {
    "duration": 19,
    "start_time": "2022-02-13T10:58:25.884Z"
   },
   {
    "duration": 9,
    "start_time": "2022-02-13T10:58:25.908Z"
   },
   {
    "duration": 447,
    "start_time": "2022-02-13T10:58:25.919Z"
   },
   {
    "duration": 11,
    "start_time": "2022-02-13T10:58:26.369Z"
   },
   {
    "duration": 29,
    "start_time": "2022-02-13T10:58:26.382Z"
   },
   {
    "duration": 308,
    "start_time": "2022-02-13T10:58:26.414Z"
   },
   {
    "duration": 3,
    "start_time": "2022-02-13T10:58:26.725Z"
   },
   {
    "duration": 472,
    "start_time": "2022-02-13T10:58:26.730Z"
   },
   {
    "duration": 3,
    "start_time": "2022-02-13T10:58:27.205Z"
   },
   {
    "duration": 53,
    "start_time": "2022-02-13T10:58:27.210Z"
   },
   {
    "duration": 9,
    "start_time": "2022-02-13T10:58:27.265Z"
   },
   {
    "duration": 16,
    "start_time": "2022-02-13T10:58:27.277Z"
   },
   {
    "duration": 6,
    "start_time": "2022-02-13T10:58:27.295Z"
   },
   {
    "duration": 470,
    "start_time": "2022-02-13T10:58:27.304Z"
   },
   {
    "duration": 779,
    "start_time": "2022-02-13T10:58:27.777Z"
   },
   {
    "duration": 12,
    "start_time": "2022-02-13T10:58:28.559Z"
   },
   {
    "duration": 479,
    "start_time": "2022-02-13T10:58:28.573Z"
   },
   {
    "duration": 12,
    "start_time": "2022-02-13T10:58:29.055Z"
   },
   {
    "duration": 409,
    "start_time": "2022-02-13T10:58:29.070Z"
   },
   {
    "duration": 15,
    "start_time": "2022-02-13T10:58:29.482Z"
   },
   {
    "duration": 439,
    "start_time": "2022-02-13T10:58:29.500Z"
   },
   {
    "duration": 26,
    "start_time": "2022-02-13T10:58:29.942Z"
   },
   {
    "duration": 52,
    "start_time": "2022-02-13T10:58:29.970Z"
   },
   {
    "duration": 537,
    "start_time": "2022-02-13T10:58:30.025Z"
   },
   {
    "duration": 10,
    "start_time": "2022-02-13T10:58:30.564Z"
   },
   {
    "duration": 45,
    "start_time": "2022-02-13T10:58:30.577Z"
   },
   {
    "duration": 330,
    "start_time": "2022-02-13T10:58:30.625Z"
   },
   {
    "duration": 912,
    "start_time": "2022-02-13T10:58:30.957Z"
   },
   {
    "duration": 12,
    "start_time": "2022-02-13T10:58:31.871Z"
   },
   {
    "duration": 25,
    "start_time": "2022-02-13T10:58:31.885Z"
   },
   {
    "duration": 37,
    "start_time": "2022-02-13T10:58:31.913Z"
   },
   {
    "duration": 6097,
    "start_time": "2022-02-13T10:58:31.953Z"
   },
   {
    "duration": -129,
    "start_time": "2022-02-13T10:58:38.183Z"
   },
   {
    "duration": -132,
    "start_time": "2022-02-13T10:58:38.188Z"
   },
   {
    "duration": -133,
    "start_time": "2022-02-13T10:58:38.192Z"
   },
   {
    "duration": -133,
    "start_time": "2022-02-13T10:58:38.194Z"
   },
   {
    "duration": 1514,
    "start_time": "2022-02-13T10:59:05.529Z"
   },
   {
    "duration": 62,
    "start_time": "2022-02-13T10:59:07.045Z"
   },
   {
    "duration": 14,
    "start_time": "2022-02-13T10:59:07.110Z"
   },
   {
    "duration": 46,
    "start_time": "2022-02-13T10:59:07.147Z"
   },
   {
    "duration": 19,
    "start_time": "2022-02-13T10:59:07.195Z"
   },
   {
    "duration": 42,
    "start_time": "2022-02-13T10:59:07.217Z"
   },
   {
    "duration": 13,
    "start_time": "2022-02-13T10:59:07.262Z"
   },
   {
    "duration": 22,
    "start_time": "2022-02-13T10:59:07.279Z"
   },
   {
    "duration": 49,
    "start_time": "2022-02-13T10:59:07.305Z"
   },
   {
    "duration": 9,
    "start_time": "2022-02-13T10:59:07.357Z"
   },
   {
    "duration": 10,
    "start_time": "2022-02-13T10:59:07.368Z"
   },
   {
    "duration": 36,
    "start_time": "2022-02-13T10:59:07.381Z"
   },
   {
    "duration": 32,
    "start_time": "2022-02-13T10:59:07.419Z"
   },
   {
    "duration": 26,
    "start_time": "2022-02-13T10:59:07.453Z"
   },
   {
    "duration": 12,
    "start_time": "2022-02-13T10:59:07.482Z"
   },
   {
    "duration": 18,
    "start_time": "2022-02-13T10:59:07.496Z"
   },
   {
    "duration": 38,
    "start_time": "2022-02-13T10:59:07.517Z"
   },
   {
    "duration": 16,
    "start_time": "2022-02-13T10:59:07.558Z"
   },
   {
    "duration": 24,
    "start_time": "2022-02-13T10:59:07.577Z"
   },
   {
    "duration": 84,
    "start_time": "2022-02-13T10:59:07.604Z"
   },
   {
    "duration": 18,
    "start_time": "2022-02-13T10:59:07.691Z"
   },
   {
    "duration": 45,
    "start_time": "2022-02-13T10:59:07.712Z"
   },
   {
    "duration": 10,
    "start_time": "2022-02-13T10:59:07.763Z"
   },
   {
    "duration": 457,
    "start_time": "2022-02-13T10:59:07.776Z"
   },
   {
    "duration": 17,
    "start_time": "2022-02-13T10:59:08.236Z"
   },
   {
    "duration": 15,
    "start_time": "2022-02-13T10:59:08.256Z"
   },
   {
    "duration": 315,
    "start_time": "2022-02-13T10:59:08.273Z"
   },
   {
    "duration": 3,
    "start_time": "2022-02-13T10:59:08.590Z"
   },
   {
    "duration": 559,
    "start_time": "2022-02-13T10:59:08.596Z"
   },
   {
    "duration": 3,
    "start_time": "2022-02-13T10:59:09.158Z"
   },
   {
    "duration": 29,
    "start_time": "2022-02-13T10:59:09.164Z"
   },
   {
    "duration": 7,
    "start_time": "2022-02-13T10:59:09.195Z"
   },
   {
    "duration": 45,
    "start_time": "2022-02-13T10:59:09.205Z"
   },
   {
    "duration": 6,
    "start_time": "2022-02-13T10:59:09.253Z"
   },
   {
    "duration": 456,
    "start_time": "2022-02-13T10:59:09.261Z"
   },
   {
    "duration": 777,
    "start_time": "2022-02-13T10:59:09.719Z"
   },
   {
    "duration": 14,
    "start_time": "2022-02-13T10:59:10.499Z"
   },
   {
    "duration": 473,
    "start_time": "2022-02-13T10:59:10.515Z"
   },
   {
    "duration": 13,
    "start_time": "2022-02-13T10:59:10.990Z"
   },
   {
    "duration": 396,
    "start_time": "2022-02-13T10:59:11.005Z"
   },
   {
    "duration": 13,
    "start_time": "2022-02-13T10:59:11.404Z"
   },
   {
    "duration": 443,
    "start_time": "2022-02-13T10:59:11.420Z"
   },
   {
    "duration": 21,
    "start_time": "2022-02-13T10:59:11.865Z"
   },
   {
    "duration": 22,
    "start_time": "2022-02-13T10:59:11.888Z"
   },
   {
    "duration": 515,
    "start_time": "2022-02-13T10:59:11.913Z"
   },
   {
    "duration": 20,
    "start_time": "2022-02-13T10:59:12.431Z"
   },
   {
    "duration": 18,
    "start_time": "2022-02-13T10:59:12.453Z"
   },
   {
    "duration": 335,
    "start_time": "2022-02-13T10:59:12.474Z"
   },
   {
    "duration": 696,
    "start_time": "2022-02-13T10:59:12.812Z"
   },
   {
    "duration": 13,
    "start_time": "2022-02-13T10:59:13.510Z"
   },
   {
    "duration": 35,
    "start_time": "2022-02-13T10:59:13.525Z"
   },
   {
    "duration": 15,
    "start_time": "2022-02-13T10:59:13.563Z"
   },
   {
    "duration": 7803,
    "start_time": "2022-02-13T10:59:13.580Z"
   },
   {
    "duration": -130,
    "start_time": "2022-02-13T10:59:21.515Z"
   },
   {
    "duration": -130,
    "start_time": "2022-02-13T10:59:21.517Z"
   },
   {
    "duration": -131,
    "start_time": "2022-02-13T10:59:21.520Z"
   },
   {
    "duration": -133,
    "start_time": "2022-02-13T10:59:21.523Z"
   },
   {
    "duration": 16,
    "start_time": "2022-02-13T10:59:33.793Z"
   },
   {
    "duration": 1472,
    "start_time": "2022-02-13T11:04:07.642Z"
   },
   {
    "duration": 64,
    "start_time": "2022-02-13T11:04:09.117Z"
   },
   {
    "duration": 17,
    "start_time": "2022-02-13T11:04:09.185Z"
   },
   {
    "duration": 64,
    "start_time": "2022-02-13T11:04:09.204Z"
   },
   {
    "duration": 21,
    "start_time": "2022-02-13T11:04:09.271Z"
   },
   {
    "duration": 18,
    "start_time": "2022-02-13T11:04:09.295Z"
   },
   {
    "duration": 38,
    "start_time": "2022-02-13T11:04:09.316Z"
   },
   {
    "duration": 14,
    "start_time": "2022-02-13T11:04:09.358Z"
   },
   {
    "duration": 10,
    "start_time": "2022-02-13T11:04:09.375Z"
   },
   {
    "duration": 11,
    "start_time": "2022-02-13T11:04:09.387Z"
   },
   {
    "duration": 12,
    "start_time": "2022-02-13T11:04:09.401Z"
   },
   {
    "duration": 65,
    "start_time": "2022-02-13T11:04:09.415Z"
   },
   {
    "duration": 6,
    "start_time": "2022-02-13T11:04:09.482Z"
   },
   {
    "duration": 25,
    "start_time": "2022-02-13T11:04:09.491Z"
   },
   {
    "duration": 42,
    "start_time": "2022-02-13T11:04:09.519Z"
   },
   {
    "duration": 9,
    "start_time": "2022-02-13T11:04:09.564Z"
   },
   {
    "duration": 9,
    "start_time": "2022-02-13T11:04:09.576Z"
   },
   {
    "duration": 18,
    "start_time": "2022-02-13T11:04:09.589Z"
   },
   {
    "duration": 17,
    "start_time": "2022-02-13T11:04:09.649Z"
   },
   {
    "duration": 37,
    "start_time": "2022-02-13T11:04:09.668Z"
   },
   {
    "duration": 16,
    "start_time": "2022-02-13T11:04:09.708Z"
   },
   {
    "duration": 24,
    "start_time": "2022-02-13T11:04:09.749Z"
   },
   {
    "duration": 9,
    "start_time": "2022-02-13T11:04:09.781Z"
   },
   {
    "duration": 502,
    "start_time": "2022-02-13T11:04:09.794Z"
   },
   {
    "duration": 10,
    "start_time": "2022-02-13T11:04:10.299Z"
   },
   {
    "duration": 35,
    "start_time": "2022-02-13T11:04:10.312Z"
   },
   {
    "duration": 340,
    "start_time": "2022-02-13T11:04:10.350Z"
   },
   {
    "duration": 3,
    "start_time": "2022-02-13T11:04:10.693Z"
   },
   {
    "duration": 483,
    "start_time": "2022-02-13T11:04:10.699Z"
   },
   {
    "duration": 4,
    "start_time": "2022-02-13T11:04:11.186Z"
   },
   {
    "duration": 27,
    "start_time": "2022-02-13T11:04:11.192Z"
   },
   {
    "duration": 31,
    "start_time": "2022-02-13T11:04:11.221Z"
   },
   {
    "duration": 13,
    "start_time": "2022-02-13T11:04:11.254Z"
   },
   {
    "duration": 5,
    "start_time": "2022-02-13T11:04:11.270Z"
   },
   {
    "duration": 488,
    "start_time": "2022-02-13T11:04:11.277Z"
   },
   {
    "duration": 830,
    "start_time": "2022-02-13T11:04:11.767Z"
   },
   {
    "duration": 13,
    "start_time": "2022-02-13T11:04:12.599Z"
   },
   {
    "duration": 484,
    "start_time": "2022-02-13T11:04:12.614Z"
   },
   {
    "duration": 13,
    "start_time": "2022-02-13T11:04:13.101Z"
   },
   {
    "duration": 418,
    "start_time": "2022-02-13T11:04:13.116Z"
   },
   {
    "duration": 21,
    "start_time": "2022-02-13T11:04:13.537Z"
   },
   {
    "duration": 425,
    "start_time": "2022-02-13T11:04:13.561Z"
   },
   {
    "duration": 20,
    "start_time": "2022-02-13T11:04:13.989Z"
   },
   {
    "duration": 45,
    "start_time": "2022-02-13T11:04:14.012Z"
   },
   {
    "duration": 558,
    "start_time": "2022-02-13T11:04:14.060Z"
   },
   {
    "duration": 28,
    "start_time": "2022-02-13T11:04:14.622Z"
   },
   {
    "duration": 15,
    "start_time": "2022-02-13T11:04:14.653Z"
   },
   {
    "duration": 347,
    "start_time": "2022-02-13T11:04:14.671Z"
   },
   {
    "duration": 702,
    "start_time": "2022-02-13T11:04:15.021Z"
   },
   {
    "duration": 25,
    "start_time": "2022-02-13T11:04:15.726Z"
   },
   {
    "duration": 19,
    "start_time": "2022-02-13T11:04:15.754Z"
   },
   {
    "duration": 16,
    "start_time": "2022-02-13T11:04:15.776Z"
   },
   {
    "duration": 54,
    "start_time": "2022-02-13T11:04:15.794Z"
   },
   {
    "duration": 7571,
    "start_time": "2022-02-13T11:04:15.851Z"
   },
   {
    "duration": -121,
    "start_time": "2022-02-13T11:04:23.545Z"
   },
   {
    "duration": -125,
    "start_time": "2022-02-13T11:04:23.551Z"
   },
   {
    "duration": -126,
    "start_time": "2022-02-13T11:04:23.554Z"
   },
   {
    "duration": -128,
    "start_time": "2022-02-13T11:04:23.557Z"
   },
   {
    "duration": 326,
    "start_time": "2022-02-14T06:25:04.334Z"
   },
   {
    "duration": 380,
    "start_time": "2022-02-14T06:25:51.703Z"
   },
   {
    "duration": 1435,
    "start_time": "2022-02-14T06:26:07.776Z"
   },
   {
    "duration": 59,
    "start_time": "2022-02-14T06:26:09.214Z"
   },
   {
    "duration": 13,
    "start_time": "2022-02-14T06:26:09.276Z"
   },
   {
    "duration": 62,
    "start_time": "2022-02-14T06:26:09.291Z"
   },
   {
    "duration": 18,
    "start_time": "2022-02-14T06:26:09.356Z"
   },
   {
    "duration": 17,
    "start_time": "2022-02-14T06:26:09.377Z"
   },
   {
    "duration": 44,
    "start_time": "2022-02-14T06:26:09.397Z"
   },
   {
    "duration": 14,
    "start_time": "2022-02-14T06:26:09.443Z"
   },
   {
    "duration": 10,
    "start_time": "2022-02-14T06:26:09.461Z"
   },
   {
    "duration": 6,
    "start_time": "2022-02-14T06:26:09.474Z"
   },
   {
    "duration": 51,
    "start_time": "2022-02-14T06:26:09.483Z"
   },
   {
    "duration": 34,
    "start_time": "2022-02-14T06:26:09.537Z"
   },
   {
    "duration": 7,
    "start_time": "2022-02-14T06:26:09.574Z"
   },
   {
    "duration": 57,
    "start_time": "2022-02-14T06:26:09.584Z"
   },
   {
    "duration": 13,
    "start_time": "2022-02-14T06:26:09.643Z"
   },
   {
    "duration": 14,
    "start_time": "2022-02-14T06:26:09.659Z"
   },
   {
    "duration": 10,
    "start_time": "2022-02-14T06:26:09.675Z"
   },
   {
    "duration": 46,
    "start_time": "2022-02-14T06:26:09.687Z"
   },
   {
    "duration": 15,
    "start_time": "2022-02-14T06:26:09.736Z"
   },
   {
    "duration": 39,
    "start_time": "2022-02-14T06:26:09.754Z"
   },
   {
    "duration": 45,
    "start_time": "2022-02-14T06:26:09.795Z"
   },
   {
    "duration": 21,
    "start_time": "2022-02-14T06:26:09.842Z"
   },
   {
    "duration": 10,
    "start_time": "2022-02-14T06:26:09.865Z"
   },
   {
    "duration": 471,
    "start_time": "2022-02-14T06:26:09.878Z"
   },
   {
    "duration": 11,
    "start_time": "2022-02-14T06:26:10.351Z"
   },
   {
    "duration": 15,
    "start_time": "2022-02-14T06:26:10.364Z"
   },
   {
    "duration": 345,
    "start_time": "2022-02-14T06:26:10.387Z"
   },
   {
    "duration": 4,
    "start_time": "2022-02-14T06:26:10.736Z"
   },
   {
    "duration": 478,
    "start_time": "2022-02-14T06:26:10.743Z"
   },
   {
    "duration": 3,
    "start_time": "2022-02-14T06:26:11.232Z"
   },
   {
    "duration": 32,
    "start_time": "2022-02-14T06:26:11.238Z"
   },
   {
    "duration": 7,
    "start_time": "2022-02-14T06:26:11.272Z"
   },
   {
    "duration": 12,
    "start_time": "2022-02-14T06:26:11.282Z"
   },
   {
    "duration": 37,
    "start_time": "2022-02-14T06:26:11.296Z"
   },
   {
    "duration": 461,
    "start_time": "2022-02-14T06:26:11.336Z"
   },
   {
    "duration": 902,
    "start_time": "2022-02-14T06:26:11.799Z"
   },
   {
    "duration": 13,
    "start_time": "2022-02-14T06:26:12.703Z"
   },
   {
    "duration": 495,
    "start_time": "2022-02-14T06:26:12.733Z"
   },
   {
    "duration": 12,
    "start_time": "2022-02-14T06:26:13.230Z"
   },
   {
    "duration": 511,
    "start_time": "2022-02-14T06:26:13.244Z"
   },
   {
    "duration": 16,
    "start_time": "2022-02-14T06:26:13.758Z"
   },
   {
    "duration": 414,
    "start_time": "2022-02-14T06:26:13.776Z"
   },
   {
    "duration": 18,
    "start_time": "2022-02-14T06:26:14.192Z"
   },
   {
    "duration": 36,
    "start_time": "2022-02-14T06:26:14.213Z"
   },
   {
    "duration": 545,
    "start_time": "2022-02-14T06:26:14.251Z"
   },
   {
    "duration": 10,
    "start_time": "2022-02-14T06:26:14.798Z"
   },
   {
    "duration": 33,
    "start_time": "2022-02-14T06:26:14.810Z"
   },
   {
    "duration": 329,
    "start_time": "2022-02-14T06:26:14.845Z"
   },
   {
    "duration": 712,
    "start_time": "2022-02-14T06:26:15.177Z"
   },
   {
    "duration": 12,
    "start_time": "2022-02-14T06:26:15.892Z"
   },
   {
    "duration": 37,
    "start_time": "2022-02-14T06:26:15.907Z"
   },
   {
    "duration": 16,
    "start_time": "2022-02-14T06:26:15.946Z"
   },
   {
    "duration": 16,
    "start_time": "2022-02-14T06:26:15.965Z"
   },
   {
    "duration": 496,
    "start_time": "2022-02-14T06:26:15.984Z"
   },
   {
    "duration": 3979,
    "start_time": "2022-02-14T06:26:16.483Z"
   },
   {
    "duration": 1419,
    "start_time": "2022-02-14T06:26:19.046Z"
   },
   {
    "duration": 1416,
    "start_time": "2022-02-14T06:26:19.050Z"
   },
   {
    "duration": 1415,
    "start_time": "2022-02-14T06:26:19.053Z"
   },
   {
    "duration": 1414,
    "start_time": "2022-02-14T06:26:19.056Z"
   },
   {
    "duration": 2171,
    "start_time": "2022-02-14T06:26:50.498Z"
   },
   {
    "duration": 257,
    "start_time": "2022-02-14T06:29:53.651Z"
   },
   {
    "duration": 307,
    "start_time": "2022-02-14T06:30:37.505Z"
   },
   {
    "duration": 331,
    "start_time": "2022-02-14T06:35:05.145Z"
   },
   {
    "duration": 1523,
    "start_time": "2022-02-14T06:35:49.787Z"
   },
   {
    "duration": 68,
    "start_time": "2022-02-14T06:35:51.313Z"
   },
   {
    "duration": 14,
    "start_time": "2022-02-14T06:35:51.383Z"
   },
   {
    "duration": 61,
    "start_time": "2022-02-14T06:35:51.400Z"
   },
   {
    "duration": 17,
    "start_time": "2022-02-14T06:35:51.463Z"
   },
   {
    "duration": 16,
    "start_time": "2022-02-14T06:35:51.482Z"
   },
   {
    "duration": 37,
    "start_time": "2022-02-14T06:35:51.501Z"
   },
   {
    "duration": 18,
    "start_time": "2022-02-14T06:35:51.542Z"
   },
   {
    "duration": 9,
    "start_time": "2022-02-14T06:35:51.563Z"
   },
   {
    "duration": 6,
    "start_time": "2022-02-14T06:35:51.575Z"
   },
   {
    "duration": 53,
    "start_time": "2022-02-14T06:35:51.584Z"
   },
   {
    "duration": 36,
    "start_time": "2022-02-14T06:35:51.639Z"
   },
   {
    "duration": 5,
    "start_time": "2022-02-14T06:35:51.677Z"
   },
   {
    "duration": 48,
    "start_time": "2022-02-14T06:35:51.684Z"
   },
   {
    "duration": 11,
    "start_time": "2022-02-14T06:35:51.735Z"
   },
   {
    "duration": 10,
    "start_time": "2022-02-14T06:35:51.748Z"
   },
   {
    "duration": 8,
    "start_time": "2022-02-14T06:35:51.760Z"
   },
   {
    "duration": 13,
    "start_time": "2022-02-14T06:35:51.770Z"
   },
   {
    "duration": 57,
    "start_time": "2022-02-14T06:35:51.785Z"
   },
   {
    "duration": 37,
    "start_time": "2022-02-14T06:35:51.844Z"
   },
   {
    "duration": 22,
    "start_time": "2022-02-14T06:35:51.883Z"
   },
   {
    "duration": 19,
    "start_time": "2022-02-14T06:35:51.933Z"
   },
   {
    "duration": 11,
    "start_time": "2022-02-14T06:35:51.957Z"
   },
   {
    "duration": 479,
    "start_time": "2022-02-14T06:35:51.971Z"
   },
   {
    "duration": 10,
    "start_time": "2022-02-14T06:35:52.452Z"
   },
   {
    "duration": 17,
    "start_time": "2022-02-14T06:35:52.465Z"
   },
   {
    "duration": 332,
    "start_time": "2022-02-14T06:35:52.484Z"
   },
   {
    "duration": 13,
    "start_time": "2022-02-14T06:35:52.819Z"
   },
   {
    "duration": 485,
    "start_time": "2022-02-14T06:35:52.835Z"
   },
   {
    "duration": 3,
    "start_time": "2022-02-14T06:35:53.322Z"
   },
   {
    "duration": 31,
    "start_time": "2022-02-14T06:35:53.332Z"
   },
   {
    "duration": 8,
    "start_time": "2022-02-14T06:35:53.366Z"
   },
   {
    "duration": 20,
    "start_time": "2022-02-14T06:35:53.376Z"
   },
   {
    "duration": 34,
    "start_time": "2022-02-14T06:35:53.398Z"
   },
   {
    "duration": 501,
    "start_time": "2022-02-14T06:35:53.435Z"
   },
   {
    "duration": 811,
    "start_time": "2022-02-14T06:35:53.938Z"
   },
   {
    "duration": 13,
    "start_time": "2022-02-14T06:35:54.751Z"
   },
   {
    "duration": 494,
    "start_time": "2022-02-14T06:35:54.766Z"
   },
   {
    "duration": 13,
    "start_time": "2022-02-14T06:35:55.262Z"
   },
   {
    "duration": 428,
    "start_time": "2022-02-14T06:35:55.277Z"
   },
   {
    "duration": 13,
    "start_time": "2022-02-14T06:35:55.707Z"
   },
   {
    "duration": 424,
    "start_time": "2022-02-14T06:35:55.733Z"
   },
   {
    "duration": 19,
    "start_time": "2022-02-14T06:35:56.159Z"
   },
   {
    "duration": 19,
    "start_time": "2022-02-14T06:35:56.181Z"
   },
   {
    "duration": 534,
    "start_time": "2022-02-14T06:35:56.203Z"
   },
   {
    "duration": 10,
    "start_time": "2022-02-14T06:35:56.739Z"
   },
   {
    "duration": 17,
    "start_time": "2022-02-14T06:35:56.751Z"
   },
   {
    "duration": 351,
    "start_time": "2022-02-14T06:35:56.770Z"
   },
   {
    "duration": 740,
    "start_time": "2022-02-14T06:35:57.124Z"
   },
   {
    "duration": 12,
    "start_time": "2022-02-14T06:35:57.866Z"
   },
   {
    "duration": 22,
    "start_time": "2022-02-14T06:35:57.880Z"
   },
   {
    "duration": 442,
    "start_time": "2022-02-14T06:35:57.904Z"
   },
   {
    "duration": 1458,
    "start_time": "2022-02-14T06:35:56.890Z"
   },
   {
    "duration": 1455,
    "start_time": "2022-02-14T06:35:56.895Z"
   },
   {
    "duration": 1451,
    "start_time": "2022-02-14T06:35:56.900Z"
   },
   {
    "duration": 1450,
    "start_time": "2022-02-14T06:35:56.903Z"
   },
   {
    "duration": 1444,
    "start_time": "2022-02-14T06:35:56.910Z"
   },
   {
    "duration": 257,
    "start_time": "2022-02-14T06:36:42.536Z"
   },
   {
    "duration": 1488,
    "start_time": "2022-02-14T06:39:15.209Z"
   },
   {
    "duration": 66,
    "start_time": "2022-02-14T06:39:16.700Z"
   },
   {
    "duration": 16,
    "start_time": "2022-02-14T06:39:16.770Z"
   },
   {
    "duration": 65,
    "start_time": "2022-02-14T06:39:16.790Z"
   },
   {
    "duration": 16,
    "start_time": "2022-02-14T06:39:16.858Z"
   },
   {
    "duration": 15,
    "start_time": "2022-02-14T06:39:16.876Z"
   },
   {
    "duration": 40,
    "start_time": "2022-02-14T06:39:16.893Z"
   },
   {
    "duration": 14,
    "start_time": "2022-02-14T06:39:16.937Z"
   },
   {
    "duration": 9,
    "start_time": "2022-02-14T06:39:16.954Z"
   },
   {
    "duration": 6,
    "start_time": "2022-02-14T06:39:16.965Z"
   },
   {
    "duration": 8,
    "start_time": "2022-02-14T06:39:16.973Z"
   },
   {
    "duration": 71,
    "start_time": "2022-02-14T06:39:16.983Z"
   },
   {
    "duration": 5,
    "start_time": "2022-02-14T06:39:17.057Z"
   },
   {
    "duration": 25,
    "start_time": "2022-02-14T06:39:17.064Z"
   },
   {
    "duration": 11,
    "start_time": "2022-02-14T06:39:17.091Z"
   },
   {
    "duration": 34,
    "start_time": "2022-02-14T06:39:17.105Z"
   },
   {
    "duration": 8,
    "start_time": "2022-02-14T06:39:17.142Z"
   },
   {
    "duration": 13,
    "start_time": "2022-02-14T06:39:17.153Z"
   },
   {
    "duration": 16,
    "start_time": "2022-02-14T06:39:17.168Z"
   },
   {
    "duration": 72,
    "start_time": "2022-02-14T06:39:17.186Z"
   },
   {
    "duration": 18,
    "start_time": "2022-02-14T06:39:17.261Z"
   },
   {
    "duration": 19,
    "start_time": "2022-02-14T06:39:17.281Z"
   },
   {
    "duration": 9,
    "start_time": "2022-02-14T06:39:17.334Z"
   },
   {
    "duration": 452,
    "start_time": "2022-02-14T06:39:17.346Z"
   },
   {
    "duration": 9,
    "start_time": "2022-02-14T06:39:17.800Z"
   },
   {
    "duration": 29,
    "start_time": "2022-02-14T06:39:17.812Z"
   },
   {
    "duration": 317,
    "start_time": "2022-02-14T06:39:17.843Z"
   },
   {
    "duration": 3,
    "start_time": "2022-02-14T06:39:18.162Z"
   },
   {
    "duration": 458,
    "start_time": "2022-02-14T06:39:18.168Z"
   },
   {
    "duration": 4,
    "start_time": "2022-02-14T06:39:18.628Z"
   },
   {
    "duration": 26,
    "start_time": "2022-02-14T06:39:18.634Z"
   },
   {
    "duration": 7,
    "start_time": "2022-02-14T06:39:18.662Z"
   },
   {
    "duration": 33,
    "start_time": "2022-02-14T06:39:18.671Z"
   },
   {
    "duration": 27,
    "start_time": "2022-02-14T06:39:18.706Z"
   },
   {
    "duration": 471,
    "start_time": "2022-02-14T06:39:18.736Z"
   },
   {
    "duration": 804,
    "start_time": "2022-02-14T06:39:19.209Z"
   },
   {
    "duration": 24,
    "start_time": "2022-02-14T06:39:20.016Z"
   },
   {
    "duration": 497,
    "start_time": "2022-02-14T06:39:20.042Z"
   },
   {
    "duration": 13,
    "start_time": "2022-02-14T06:39:20.541Z"
   },
   {
    "duration": 413,
    "start_time": "2022-02-14T06:39:20.557Z"
   },
   {
    "duration": 14,
    "start_time": "2022-02-14T06:39:20.973Z"
   },
   {
    "duration": 447,
    "start_time": "2022-02-14T06:39:20.990Z"
   },
   {
    "duration": 19,
    "start_time": "2022-02-14T06:39:21.440Z"
   },
   {
    "duration": 21,
    "start_time": "2022-02-14T06:39:21.462Z"
   },
   {
    "duration": 526,
    "start_time": "2022-02-14T06:39:21.486Z"
   },
   {
    "duration": 23,
    "start_time": "2022-02-14T06:39:22.015Z"
   },
   {
    "duration": 16,
    "start_time": "2022-02-14T06:39:22.041Z"
   },
   {
    "duration": 345,
    "start_time": "2022-02-14T06:39:22.060Z"
   },
   {
    "duration": 730,
    "start_time": "2022-02-14T06:39:22.409Z"
   },
   {
    "duration": 14,
    "start_time": "2022-02-14T06:39:23.142Z"
   },
   {
    "duration": 17,
    "start_time": "2022-02-14T06:39:23.158Z"
   },
   {
    "duration": 300,
    "start_time": "2022-02-14T06:39:23.178Z"
   },
   {
    "duration": 17,
    "start_time": "2022-02-14T06:39:23.481Z"
   },
   {
    "duration": 39,
    "start_time": "2022-02-14T06:39:23.500Z"
   },
   {
    "duration": 64,
    "start_time": "2022-02-14T06:39:23.541Z"
   },
   {
    "duration": 63,
    "start_time": "2022-02-14T06:39:23.607Z"
   },
   {
    "duration": 768,
    "start_time": "2022-02-14T06:39:23.674Z"
   },
   {
    "duration": 1486,
    "start_time": "2022-02-14T06:40:36.919Z"
   },
   {
    "duration": 59,
    "start_time": "2022-02-14T06:40:38.407Z"
   },
   {
    "duration": 14,
    "start_time": "2022-02-14T06:40:38.469Z"
   },
   {
    "duration": 63,
    "start_time": "2022-02-14T06:40:38.486Z"
   },
   {
    "duration": 17,
    "start_time": "2022-02-14T06:40:38.552Z"
   },
   {
    "duration": 30,
    "start_time": "2022-02-14T06:40:38.571Z"
   },
   {
    "duration": 29,
    "start_time": "2022-02-14T06:40:38.603Z"
   },
   {
    "duration": 14,
    "start_time": "2022-02-14T06:40:38.636Z"
   },
   {
    "duration": 17,
    "start_time": "2022-02-14T06:40:38.654Z"
   },
   {
    "duration": 14,
    "start_time": "2022-02-14T06:40:38.674Z"
   },
   {
    "duration": 16,
    "start_time": "2022-02-14T06:40:38.690Z"
   },
   {
    "duration": 53,
    "start_time": "2022-02-14T06:40:38.708Z"
   },
   {
    "duration": 6,
    "start_time": "2022-02-14T06:40:38.764Z"
   },
   {
    "duration": 38,
    "start_time": "2022-02-14T06:40:38.772Z"
   },
   {
    "duration": 20,
    "start_time": "2022-02-14T06:40:38.813Z"
   },
   {
    "duration": 9,
    "start_time": "2022-02-14T06:40:38.836Z"
   },
   {
    "duration": 15,
    "start_time": "2022-02-14T06:40:38.848Z"
   },
   {
    "duration": 25,
    "start_time": "2022-02-14T06:40:38.865Z"
   },
   {
    "duration": 18,
    "start_time": "2022-02-14T06:40:38.892Z"
   },
   {
    "duration": 35,
    "start_time": "2022-02-14T06:40:38.933Z"
   },
   {
    "duration": 65,
    "start_time": "2022-02-14T06:40:38.971Z"
   },
   {
    "duration": 24,
    "start_time": "2022-02-14T06:40:39.038Z"
   },
   {
    "duration": 9,
    "start_time": "2022-02-14T06:40:39.068Z"
   },
   {
    "duration": 577,
    "start_time": "2022-02-14T06:40:39.080Z"
   },
   {
    "duration": 11,
    "start_time": "2022-02-14T06:40:39.660Z"
   },
   {
    "duration": 35,
    "start_time": "2022-02-14T06:40:39.673Z"
   },
   {
    "duration": 299,
    "start_time": "2022-02-14T06:40:39.710Z"
   },
   {
    "duration": 3,
    "start_time": "2022-02-14T06:40:40.012Z"
   },
   {
    "duration": 850,
    "start_time": "2022-02-14T06:40:40.017Z"
   },
   {
    "duration": 5,
    "start_time": "2022-02-14T06:40:40.870Z"
   },
   {
    "duration": 55,
    "start_time": "2022-02-14T06:40:40.878Z"
   },
   {
    "duration": 10,
    "start_time": "2022-02-14T06:40:40.936Z"
   },
   {
    "duration": 29,
    "start_time": "2022-02-14T06:40:40.948Z"
   },
   {
    "duration": 11,
    "start_time": "2022-02-14T06:40:40.980Z"
   },
   {
    "duration": 469,
    "start_time": "2022-02-14T06:40:40.994Z"
   },
   {
    "duration": 822,
    "start_time": "2022-02-14T06:40:41.466Z"
   },
   {
    "duration": 16,
    "start_time": "2022-02-14T06:40:42.292Z"
   },
   {
    "duration": 481,
    "start_time": "2022-02-14T06:40:42.333Z"
   },
   {
    "duration": 24,
    "start_time": "2022-02-14T06:40:42.817Z"
   },
   {
    "duration": 398,
    "start_time": "2022-02-14T06:40:42.843Z"
   },
   {
    "duration": 13,
    "start_time": "2022-02-14T06:40:43.243Z"
   },
   {
    "duration": 433,
    "start_time": "2022-02-14T06:40:43.258Z"
   },
   {
    "duration": 21,
    "start_time": "2022-02-14T06:40:43.693Z"
   },
   {
    "duration": 35,
    "start_time": "2022-02-14T06:40:43.716Z"
   },
   {
    "duration": 535,
    "start_time": "2022-02-14T06:40:43.753Z"
   },
   {
    "duration": 10,
    "start_time": "2022-02-14T06:40:44.291Z"
   },
   {
    "duration": 36,
    "start_time": "2022-02-14T06:40:44.303Z"
   },
   {
    "duration": 332,
    "start_time": "2022-02-14T06:40:44.341Z"
   },
   {
    "duration": 735,
    "start_time": "2022-02-14T06:40:44.676Z"
   },
   {
    "duration": 21,
    "start_time": "2022-02-14T06:40:45.414Z"
   },
   {
    "duration": 17,
    "start_time": "2022-02-14T06:40:45.437Z"
   },
   {
    "duration": 287,
    "start_time": "2022-02-14T06:40:45.456Z"
   },
   {
    "duration": 18,
    "start_time": "2022-02-14T06:40:45.745Z"
   },
   {
    "duration": 17,
    "start_time": "2022-02-14T06:40:45.765Z"
   },
   {
    "duration": 78,
    "start_time": "2022-02-14T06:40:45.784Z"
   },
   {
    "duration": 71,
    "start_time": "2022-02-14T06:40:45.865Z"
   },
   {
    "duration": 761,
    "start_time": "2022-02-14T06:40:45.938Z"
   },
   {
    "duration": 605,
    "start_time": "2022-02-14T06:41:08.306Z"
   },
   {
    "duration": 553,
    "start_time": "2022-02-14T06:42:04.668Z"
   },
   {
    "duration": 423,
    "start_time": "2022-02-14T06:42:27.493Z"
   },
   {
    "duration": 1428,
    "start_time": "2022-02-14T06:42:42.676Z"
   },
   {
    "duration": 63,
    "start_time": "2022-02-14T06:42:44.107Z"
   },
   {
    "duration": 12,
    "start_time": "2022-02-14T06:42:44.173Z"
   },
   {
    "duration": 59,
    "start_time": "2022-02-14T06:42:44.188Z"
   },
   {
    "duration": 15,
    "start_time": "2022-02-14T06:42:44.249Z"
   },
   {
    "duration": 15,
    "start_time": "2022-02-14T06:42:44.266Z"
   },
   {
    "duration": 12,
    "start_time": "2022-02-14T06:42:44.283Z"
   },
   {
    "duration": 41,
    "start_time": "2022-02-14T06:42:44.299Z"
   },
   {
    "duration": 9,
    "start_time": "2022-02-14T06:42:44.343Z"
   },
   {
    "duration": 7,
    "start_time": "2022-02-14T06:42:44.354Z"
   },
   {
    "duration": 9,
    "start_time": "2022-02-14T06:42:44.363Z"
   },
   {
    "duration": 70,
    "start_time": "2022-02-14T06:42:44.374Z"
   },
   {
    "duration": 6,
    "start_time": "2022-02-14T06:42:44.446Z"
   },
   {
    "duration": 31,
    "start_time": "2022-02-14T06:42:44.454Z"
   },
   {
    "duration": 11,
    "start_time": "2022-02-14T06:42:44.487Z"
   },
   {
    "duration": 37,
    "start_time": "2022-02-14T06:42:44.500Z"
   },
   {
    "duration": 8,
    "start_time": "2022-02-14T06:42:44.540Z"
   },
   {
    "duration": 13,
    "start_time": "2022-02-14T06:42:44.551Z"
   },
   {
    "duration": 15,
    "start_time": "2022-02-14T06:42:44.567Z"
   },
   {
    "duration": 68,
    "start_time": "2022-02-14T06:42:44.584Z"
   },
   {
    "duration": 17,
    "start_time": "2022-02-14T06:42:44.655Z"
   },
   {
    "duration": 23,
    "start_time": "2022-02-14T06:42:44.675Z"
   },
   {
    "duration": 10,
    "start_time": "2022-02-14T06:42:44.733Z"
   },
   {
    "duration": 464,
    "start_time": "2022-02-14T06:42:44.748Z"
   },
   {
    "duration": 19,
    "start_time": "2022-02-14T06:42:45.215Z"
   },
   {
    "duration": 20,
    "start_time": "2022-02-14T06:42:45.236Z"
   },
   {
    "duration": 312,
    "start_time": "2022-02-14T06:42:45.258Z"
   },
   {
    "duration": 4,
    "start_time": "2022-02-14T06:42:45.573Z"
   },
   {
    "duration": 458,
    "start_time": "2022-02-14T06:42:45.580Z"
   },
   {
    "duration": 3,
    "start_time": "2022-02-14T06:42:46.040Z"
   },
   {
    "duration": 28,
    "start_time": "2022-02-14T06:42:46.046Z"
   },
   {
    "duration": 9,
    "start_time": "2022-02-14T06:42:46.077Z"
   },
   {
    "duration": 45,
    "start_time": "2022-02-14T06:42:46.089Z"
   },
   {
    "duration": 6,
    "start_time": "2022-02-14T06:42:46.137Z"
   },
   {
    "duration": 469,
    "start_time": "2022-02-14T06:42:46.146Z"
   },
   {
    "duration": 796,
    "start_time": "2022-02-14T06:42:46.618Z"
   },
   {
    "duration": 22,
    "start_time": "2022-02-14T06:42:47.417Z"
   },
   {
    "duration": 479,
    "start_time": "2022-02-14T06:42:47.442Z"
   },
   {
    "duration": 20,
    "start_time": "2022-02-14T06:42:47.924Z"
   },
   {
    "duration": 410,
    "start_time": "2022-02-14T06:42:47.947Z"
   },
   {
    "duration": 13,
    "start_time": "2022-02-14T06:42:48.360Z"
   },
   {
    "duration": 434,
    "start_time": "2022-02-14T06:42:48.376Z"
   },
   {
    "duration": 28,
    "start_time": "2022-02-14T06:42:48.813Z"
   },
   {
    "duration": 19,
    "start_time": "2022-02-14T06:42:48.843Z"
   },
   {
    "duration": 612,
    "start_time": "2022-02-14T06:42:48.864Z"
   },
   {
    "duration": 9,
    "start_time": "2022-02-14T06:42:49.479Z"
   },
   {
    "duration": 16,
    "start_time": "2022-02-14T06:42:49.491Z"
   },
   {
    "duration": 349,
    "start_time": "2022-02-14T06:42:49.509Z"
   },
   {
    "duration": 696,
    "start_time": "2022-02-14T06:42:49.861Z"
   },
   {
    "duration": 13,
    "start_time": "2022-02-14T06:42:50.559Z"
   },
   {
    "duration": 17,
    "start_time": "2022-02-14T06:42:50.574Z"
   },
   {
    "duration": 596,
    "start_time": "2022-02-14T06:42:50.593Z"
   },
   {
    "duration": 1394,
    "start_time": "2022-02-14T06:42:49.798Z"
   },
   {
    "duration": 1392,
    "start_time": "2022-02-14T06:42:49.801Z"
   },
   {
    "duration": 1391,
    "start_time": "2022-02-14T06:42:49.804Z"
   },
   {
    "duration": 1389,
    "start_time": "2022-02-14T06:42:49.807Z"
   },
   {
    "duration": 1388,
    "start_time": "2022-02-14T06:42:49.810Z"
   },
   {
    "duration": 492,
    "start_time": "2022-02-14T06:43:16.780Z"
   },
   {
    "duration": 269,
    "start_time": "2022-02-14T06:43:29.972Z"
   },
   {
    "duration": 1430,
    "start_time": "2022-02-14T06:43:47.972Z"
   },
   {
    "duration": 63,
    "start_time": "2022-02-14T06:43:49.405Z"
   },
   {
    "duration": 13,
    "start_time": "2022-02-14T06:43:49.471Z"
   },
   {
    "duration": 60,
    "start_time": "2022-02-14T06:43:49.487Z"
   },
   {
    "duration": 16,
    "start_time": "2022-02-14T06:43:49.549Z"
   },
   {
    "duration": 18,
    "start_time": "2022-02-14T06:43:49.567Z"
   },
   {
    "duration": 13,
    "start_time": "2022-02-14T06:43:49.587Z"
   },
   {
    "duration": 17,
    "start_time": "2022-02-14T06:43:49.632Z"
   },
   {
    "duration": 22,
    "start_time": "2022-02-14T06:43:49.653Z"
   },
   {
    "duration": 17,
    "start_time": "2022-02-14T06:43:49.678Z"
   },
   {
    "duration": 17,
    "start_time": "2022-02-14T06:43:49.697Z"
   },
   {
    "duration": 35,
    "start_time": "2022-02-14T06:43:49.733Z"
   },
   {
    "duration": 6,
    "start_time": "2022-02-14T06:43:49.770Z"
   },
   {
    "duration": 31,
    "start_time": "2022-02-14T06:43:49.778Z"
   },
   {
    "duration": 29,
    "start_time": "2022-02-14T06:43:49.811Z"
   },
   {
    "duration": 15,
    "start_time": "2022-02-14T06:43:49.842Z"
   },
   {
    "duration": 31,
    "start_time": "2022-02-14T06:43:49.859Z"
   },
   {
    "duration": 25,
    "start_time": "2022-02-14T06:43:49.892Z"
   },
   {
    "duration": 21,
    "start_time": "2022-02-14T06:43:49.919Z"
   },
   {
    "duration": 37,
    "start_time": "2022-02-14T06:43:49.943Z"
   },
   {
    "duration": 14,
    "start_time": "2022-02-14T06:43:49.982Z"
   },
   {
    "duration": 48,
    "start_time": "2022-02-14T06:43:49.999Z"
   },
   {
    "duration": 10,
    "start_time": "2022-02-14T06:43:50.052Z"
   },
   {
    "duration": 469,
    "start_time": "2022-02-14T06:43:50.065Z"
   },
   {
    "duration": 10,
    "start_time": "2022-02-14T06:43:50.538Z"
   },
   {
    "duration": 31,
    "start_time": "2022-02-14T06:43:50.550Z"
   },
   {
    "duration": 295,
    "start_time": "2022-02-14T06:43:50.583Z"
   },
   {
    "duration": 4,
    "start_time": "2022-02-14T06:43:50.881Z"
   },
   {
    "duration": 468,
    "start_time": "2022-02-14T06:43:50.887Z"
   },
   {
    "duration": 3,
    "start_time": "2022-02-14T06:43:51.357Z"
   },
   {
    "duration": 34,
    "start_time": "2022-02-14T06:43:51.363Z"
   },
   {
    "duration": 8,
    "start_time": "2022-02-14T06:43:51.400Z"
   },
   {
    "duration": 12,
    "start_time": "2022-02-14T06:43:51.432Z"
   },
   {
    "duration": 6,
    "start_time": "2022-02-14T06:43:51.447Z"
   },
   {
    "duration": 477,
    "start_time": "2022-02-14T06:43:51.456Z"
   },
   {
    "duration": 804,
    "start_time": "2022-02-14T06:43:51.936Z"
   },
   {
    "duration": 14,
    "start_time": "2022-02-14T06:43:52.743Z"
   },
   {
    "duration": 514,
    "start_time": "2022-02-14T06:43:52.760Z"
   },
   {
    "duration": 14,
    "start_time": "2022-02-14T06:43:53.277Z"
   },
   {
    "duration": 406,
    "start_time": "2022-02-14T06:43:53.294Z"
   },
   {
    "duration": 13,
    "start_time": "2022-02-14T06:43:53.702Z"
   },
   {
    "duration": 415,
    "start_time": "2022-02-14T06:43:53.717Z"
   },
   {
    "duration": 19,
    "start_time": "2022-02-14T06:43:54.134Z"
   },
   {
    "duration": 20,
    "start_time": "2022-02-14T06:43:54.155Z"
   },
   {
    "duration": 549,
    "start_time": "2022-02-14T06:43:54.178Z"
   },
   {
    "duration": 10,
    "start_time": "2022-02-14T06:43:54.732Z"
   },
   {
    "duration": 16,
    "start_time": "2022-02-14T06:43:54.745Z"
   },
   {
    "duration": 346,
    "start_time": "2022-02-14T06:43:54.764Z"
   },
   {
    "duration": 722,
    "start_time": "2022-02-14T06:43:55.113Z"
   },
   {
    "duration": 15,
    "start_time": "2022-02-14T06:43:55.838Z"
   },
   {
    "duration": 22,
    "start_time": "2022-02-14T06:43:55.856Z"
   },
   {
    "duration": 276,
    "start_time": "2022-02-14T06:43:55.881Z"
   },
   {
    "duration": 17,
    "start_time": "2022-02-14T06:43:56.159Z"
   },
   {
    "duration": 18,
    "start_time": "2022-02-14T06:43:56.179Z"
   },
   {
    "duration": 77,
    "start_time": "2022-02-14T06:43:56.200Z"
   },
   {
    "duration": 71,
    "start_time": "2022-02-14T06:43:56.279Z"
   },
   {
    "duration": 743,
    "start_time": "2022-02-14T06:43:56.352Z"
   },
   {
    "duration": 1492,
    "start_time": "2022-02-14T06:53:15.397Z"
   },
   {
    "duration": 65,
    "start_time": "2022-02-14T06:53:16.892Z"
   },
   {
    "duration": 16,
    "start_time": "2022-02-14T06:53:16.961Z"
   },
   {
    "duration": 64,
    "start_time": "2022-02-14T06:53:16.980Z"
   },
   {
    "duration": 17,
    "start_time": "2022-02-14T06:53:17.047Z"
   },
   {
    "duration": 17,
    "start_time": "2022-02-14T06:53:17.067Z"
   },
   {
    "duration": 51,
    "start_time": "2022-02-14T06:53:17.087Z"
   },
   {
    "duration": 16,
    "start_time": "2022-02-14T06:53:17.143Z"
   },
   {
    "duration": 13,
    "start_time": "2022-02-14T06:53:17.163Z"
   },
   {
    "duration": 7,
    "start_time": "2022-02-14T06:53:17.178Z"
   },
   {
    "duration": 50,
    "start_time": "2022-02-14T06:53:17.187Z"
   },
   {
    "duration": 33,
    "start_time": "2022-02-14T06:53:17.239Z"
   },
   {
    "duration": 6,
    "start_time": "2022-02-14T06:53:17.274Z"
   },
   {
    "duration": 50,
    "start_time": "2022-02-14T06:53:17.282Z"
   },
   {
    "duration": 13,
    "start_time": "2022-02-14T06:53:17.334Z"
   },
   {
    "duration": 9,
    "start_time": "2022-02-14T06:53:17.349Z"
   },
   {
    "duration": 8,
    "start_time": "2022-02-14T06:53:17.361Z"
   },
   {
    "duration": 14,
    "start_time": "2022-02-14T06:53:17.371Z"
   },
   {
    "duration": 54,
    "start_time": "2022-02-14T06:53:17.387Z"
   },
   {
    "duration": 36,
    "start_time": "2022-02-14T06:53:17.443Z"
   },
   {
    "duration": 18,
    "start_time": "2022-02-14T06:53:17.481Z"
   },
   {
    "duration": 43,
    "start_time": "2022-02-14T06:53:17.501Z"
   },
   {
    "duration": 9,
    "start_time": "2022-02-14T06:53:17.550Z"
   },
   {
    "duration": 472,
    "start_time": "2022-02-14T06:53:17.562Z"
   },
   {
    "duration": 10,
    "start_time": "2022-02-14T06:53:18.037Z"
   },
   {
    "duration": 18,
    "start_time": "2022-02-14T06:53:18.050Z"
   },
   {
    "duration": 327,
    "start_time": "2022-02-14T06:53:18.070Z"
   },
   {
    "duration": 3,
    "start_time": "2022-02-14T06:53:18.399Z"
   },
   {
    "duration": 463,
    "start_time": "2022-02-14T06:53:18.405Z"
   },
   {
    "duration": 3,
    "start_time": "2022-02-14T06:53:18.871Z"
   },
   {
    "duration": 30,
    "start_time": "2022-02-14T06:53:18.876Z"
   },
   {
    "duration": 30,
    "start_time": "2022-02-14T06:53:18.908Z"
   },
   {
    "duration": 12,
    "start_time": "2022-02-14T06:53:18.941Z"
   },
   {
    "duration": 8,
    "start_time": "2022-02-14T06:53:18.955Z"
   },
   {
    "duration": 497,
    "start_time": "2022-02-14T06:53:18.966Z"
   },
   {
    "duration": 812,
    "start_time": "2022-02-14T06:53:19.465Z"
   },
   {
    "duration": 13,
    "start_time": "2022-02-14T06:53:20.279Z"
   },
   {
    "duration": 502,
    "start_time": "2022-02-14T06:53:20.294Z"
   },
   {
    "duration": 13,
    "start_time": "2022-02-14T06:53:20.798Z"
   },
   {
    "duration": 424,
    "start_time": "2022-02-14T06:53:20.813Z"
   },
   {
    "duration": 12,
    "start_time": "2022-02-14T06:53:21.240Z"
   },
   {
    "duration": 418,
    "start_time": "2022-02-14T06:53:21.255Z"
   },
   {
    "duration": 18,
    "start_time": "2022-02-14T06:53:21.675Z"
   },
   {
    "duration": 39,
    "start_time": "2022-02-14T06:53:21.696Z"
   },
   {
    "duration": 549,
    "start_time": "2022-02-14T06:53:21.738Z"
   },
   {
    "duration": 10,
    "start_time": "2022-02-14T06:53:22.290Z"
   },
   {
    "duration": 32,
    "start_time": "2022-02-14T06:53:22.303Z"
   },
   {
    "duration": 335,
    "start_time": "2022-02-14T06:53:22.337Z"
   },
   {
    "duration": 735,
    "start_time": "2022-02-14T06:53:22.674Z"
   },
   {
    "duration": 28,
    "start_time": "2022-02-14T06:53:23.412Z"
   },
   {
    "duration": 24,
    "start_time": "2022-02-14T06:53:23.442Z"
   },
   {
    "duration": 277,
    "start_time": "2022-02-14T06:53:23.469Z"
   },
   {
    "duration": 19,
    "start_time": "2022-02-14T06:53:23.749Z"
   },
   {
    "duration": 278,
    "start_time": "2022-02-14T06:53:23.770Z"
   },
   {
    "duration": 21,
    "start_time": "2022-02-14T06:53:24.050Z"
   },
   {
    "duration": 270,
    "start_time": "2022-02-14T06:53:24.073Z"
   },
   {
    "duration": 26,
    "start_time": "2022-02-14T06:53:24.346Z"
   },
   {
    "duration": 93,
    "start_time": "2022-02-14T06:53:24.374Z"
   },
   {
    "duration": 1467,
    "start_time": "2022-02-14T06:53:23.002Z"
   },
   {
    "duration": 1488,
    "start_time": "2022-02-14T06:53:43.900Z"
   },
   {
    "duration": 59,
    "start_time": "2022-02-14T06:53:45.390Z"
   },
   {
    "duration": 13,
    "start_time": "2022-02-14T06:53:45.452Z"
   },
   {
    "duration": 42,
    "start_time": "2022-02-14T06:53:45.467Z"
   },
   {
    "duration": 35,
    "start_time": "2022-02-14T06:53:45.511Z"
   },
   {
    "duration": 14,
    "start_time": "2022-02-14T06:53:45.548Z"
   },
   {
    "duration": 12,
    "start_time": "2022-02-14T06:53:45.564Z"
   },
   {
    "duration": 15,
    "start_time": "2022-02-14T06:53:45.581Z"
   },
   {
    "duration": 12,
    "start_time": "2022-02-14T06:53:45.634Z"
   },
   {
    "duration": 7,
    "start_time": "2022-02-14T06:53:45.649Z"
   },
   {
    "duration": 10,
    "start_time": "2022-02-14T06:53:45.659Z"
   },
   {
    "duration": 86,
    "start_time": "2022-02-14T06:53:45.671Z"
   },
   {
    "duration": 6,
    "start_time": "2022-02-14T06:53:45.760Z"
   },
   {
    "duration": 23,
    "start_time": "2022-02-14T06:53:45.769Z"
   },
   {
    "duration": 43,
    "start_time": "2022-02-14T06:53:45.795Z"
   },
   {
    "duration": 9,
    "start_time": "2022-02-14T06:53:45.840Z"
   },
   {
    "duration": 9,
    "start_time": "2022-02-14T06:53:45.851Z"
   },
   {
    "duration": 17,
    "start_time": "2022-02-14T06:53:45.862Z"
   },
   {
    "duration": 15,
    "start_time": "2022-02-14T06:53:45.881Z"
   },
   {
    "duration": 38,
    "start_time": "2022-02-14T06:53:45.933Z"
   },
   {
    "duration": 23,
    "start_time": "2022-02-14T06:53:45.974Z"
   },
   {
    "duration": 42,
    "start_time": "2022-02-14T06:53:46.000Z"
   },
   {
    "duration": 10,
    "start_time": "2022-02-14T06:53:46.049Z"
   },
   {
    "duration": 471,
    "start_time": "2022-02-14T06:53:46.064Z"
   },
   {
    "duration": 12,
    "start_time": "2022-02-14T06:53:46.538Z"
   },
   {
    "duration": 17,
    "start_time": "2022-02-14T06:53:46.553Z"
   },
   {
    "duration": 341,
    "start_time": "2022-02-14T06:53:46.572Z"
   },
   {
    "duration": 3,
    "start_time": "2022-02-14T06:53:46.916Z"
   },
   {
    "duration": 457,
    "start_time": "2022-02-14T06:53:46.921Z"
   },
   {
    "duration": 4,
    "start_time": "2022-02-14T06:53:47.380Z"
   },
   {
    "duration": 48,
    "start_time": "2022-02-14T06:53:47.386Z"
   },
   {
    "duration": 8,
    "start_time": "2022-02-14T06:53:47.436Z"
   },
   {
    "duration": 10,
    "start_time": "2022-02-14T06:53:47.447Z"
   },
   {
    "duration": 6,
    "start_time": "2022-02-14T06:53:47.459Z"
   },
   {
    "duration": 479,
    "start_time": "2022-02-14T06:53:47.467Z"
   },
   {
    "duration": 824,
    "start_time": "2022-02-14T06:53:47.948Z"
   },
   {
    "duration": 14,
    "start_time": "2022-02-14T06:53:48.775Z"
   },
   {
    "duration": 522,
    "start_time": "2022-02-14T06:53:48.792Z"
   },
   {
    "duration": 21,
    "start_time": "2022-02-14T06:53:49.317Z"
   },
   {
    "duration": 401,
    "start_time": "2022-02-14T06:53:49.340Z"
   },
   {
    "duration": 13,
    "start_time": "2022-02-14T06:53:49.744Z"
   },
   {
    "duration": 443,
    "start_time": "2022-02-14T06:53:49.760Z"
   },
   {
    "duration": 28,
    "start_time": "2022-02-14T06:53:50.206Z"
   },
   {
    "duration": 28,
    "start_time": "2022-02-14T06:53:50.237Z"
   },
   {
    "duration": 544,
    "start_time": "2022-02-14T06:53:50.268Z"
   },
   {
    "duration": 20,
    "start_time": "2022-02-14T06:53:50.815Z"
   },
   {
    "duration": 18,
    "start_time": "2022-02-14T06:53:50.838Z"
   },
   {
    "duration": 380,
    "start_time": "2022-02-14T06:53:50.858Z"
   },
   {
    "duration": 775,
    "start_time": "2022-02-14T06:53:51.241Z"
   },
   {
    "duration": 26,
    "start_time": "2022-02-14T06:53:52.019Z"
   },
   {
    "duration": 30,
    "start_time": "2022-02-14T06:53:52.048Z"
   },
   {
    "duration": 326,
    "start_time": "2022-02-14T06:53:52.082Z"
   },
   {
    "duration": 33,
    "start_time": "2022-02-14T06:53:52.411Z"
   },
   {
    "duration": 319,
    "start_time": "2022-02-14T06:53:52.448Z"
   },
   {
    "duration": 25,
    "start_time": "2022-02-14T06:53:52.770Z"
   },
   {
    "duration": 324,
    "start_time": "2022-02-14T06:53:52.798Z"
   },
   {
    "duration": 31,
    "start_time": "2022-02-14T06:53:53.125Z"
   },
   {
    "duration": 1561,
    "start_time": "2022-02-14T06:53:53.158Z"
   },
   {
    "duration": 896,
    "start_time": "2022-02-14T06:53:54.731Z"
   },
   {
    "duration": 1250,
    "start_time": "2022-02-14T06:55:54.564Z"
   },
   {
    "duration": 1035,
    "start_time": "2022-02-14T06:56:36.254Z"
   },
   {
    "duration": 1434,
    "start_time": "2022-02-14T06:56:55.457Z"
   },
   {
    "duration": 61,
    "start_time": "2022-02-14T06:56:56.894Z"
   },
   {
    "duration": 13,
    "start_time": "2022-02-14T06:56:56.958Z"
   },
   {
    "duration": 59,
    "start_time": "2022-02-14T06:56:56.974Z"
   },
   {
    "duration": 17,
    "start_time": "2022-02-14T06:56:57.035Z"
   },
   {
    "duration": 17,
    "start_time": "2022-02-14T06:56:57.054Z"
   },
   {
    "duration": 12,
    "start_time": "2022-02-14T06:56:57.074Z"
   },
   {
    "duration": 47,
    "start_time": "2022-02-14T06:56:57.089Z"
   },
   {
    "duration": 9,
    "start_time": "2022-02-14T06:56:57.139Z"
   },
   {
    "duration": 8,
    "start_time": "2022-02-14T06:56:57.150Z"
   },
   {
    "duration": 10,
    "start_time": "2022-02-14T06:56:57.160Z"
   },
   {
    "duration": 79,
    "start_time": "2022-02-14T06:56:57.173Z"
   },
   {
    "duration": 7,
    "start_time": "2022-02-14T06:56:57.255Z"
   },
   {
    "duration": 33,
    "start_time": "2022-02-14T06:56:57.265Z"
   },
   {
    "duration": 35,
    "start_time": "2022-02-14T06:56:57.300Z"
   },
   {
    "duration": 8,
    "start_time": "2022-02-14T06:56:57.337Z"
   },
   {
    "duration": 8,
    "start_time": "2022-02-14T06:56:57.348Z"
   },
   {
    "duration": 21,
    "start_time": "2022-02-14T06:56:57.359Z"
   },
   {
    "duration": 58,
    "start_time": "2022-02-14T06:56:57.383Z"
   },
   {
    "duration": 35,
    "start_time": "2022-02-14T06:56:57.443Z"
   },
   {
    "duration": 16,
    "start_time": "2022-02-14T06:56:57.481Z"
   },
   {
    "duration": 47,
    "start_time": "2022-02-14T06:56:57.500Z"
   },
   {
    "duration": 8,
    "start_time": "2022-02-14T06:56:57.553Z"
   },
   {
    "duration": 467,
    "start_time": "2022-02-14T06:56:57.565Z"
   },
   {
    "duration": 10,
    "start_time": "2022-02-14T06:56:58.035Z"
   },
   {
    "duration": 17,
    "start_time": "2022-02-14T06:56:58.048Z"
   },
   {
    "duration": 323,
    "start_time": "2022-02-14T06:56:58.067Z"
   },
   {
    "duration": 4,
    "start_time": "2022-02-14T06:56:58.392Z"
   },
   {
    "duration": 457,
    "start_time": "2022-02-14T06:56:58.398Z"
   },
   {
    "duration": 3,
    "start_time": "2022-02-14T06:56:58.858Z"
   },
   {
    "duration": 28,
    "start_time": "2022-02-14T06:56:58.864Z"
   },
   {
    "duration": 38,
    "start_time": "2022-02-14T06:56:58.894Z"
   },
   {
    "duration": 11,
    "start_time": "2022-02-14T06:56:58.935Z"
   },
   {
    "duration": 7,
    "start_time": "2022-02-14T06:56:58.949Z"
   },
   {
    "duration": 483,
    "start_time": "2022-02-14T06:56:58.959Z"
   },
   {
    "duration": 790,
    "start_time": "2022-02-14T06:56:59.444Z"
   },
   {
    "duration": 15,
    "start_time": "2022-02-14T06:57:00.237Z"
   },
   {
    "duration": 595,
    "start_time": "2022-02-14T06:57:00.254Z"
   },
   {
    "duration": 13,
    "start_time": "2022-02-14T06:57:00.852Z"
   },
   {
    "duration": 406,
    "start_time": "2022-02-14T06:57:00.868Z"
   },
   {
    "duration": 14,
    "start_time": "2022-02-14T06:57:01.276Z"
   },
   {
    "duration": 443,
    "start_time": "2022-02-14T06:57:01.292Z"
   },
   {
    "duration": 20,
    "start_time": "2022-02-14T06:57:01.738Z"
   },
   {
    "duration": 34,
    "start_time": "2022-02-14T06:57:01.762Z"
   },
   {
    "duration": 490,
    "start_time": "2022-02-14T06:57:01.799Z"
   },
   {
    "duration": 12,
    "start_time": "2022-02-14T06:57:02.292Z"
   },
   {
    "duration": 37,
    "start_time": "2022-02-14T06:57:02.307Z"
   },
   {
    "duration": 348,
    "start_time": "2022-02-14T06:57:02.347Z"
   },
   {
    "duration": 716,
    "start_time": "2022-02-14T06:57:02.698Z"
   },
   {
    "duration": 26,
    "start_time": "2022-02-14T06:57:03.417Z"
   },
   {
    "duration": 19,
    "start_time": "2022-02-14T06:57:03.446Z"
   },
   {
    "duration": 281,
    "start_time": "2022-02-14T06:57:03.468Z"
   },
   {
    "duration": 17,
    "start_time": "2022-02-14T06:57:03.752Z"
   },
   {
    "duration": 275,
    "start_time": "2022-02-14T06:57:03.772Z"
   },
   {
    "duration": 18,
    "start_time": "2022-02-14T06:57:04.049Z"
   },
   {
    "duration": 364,
    "start_time": "2022-02-14T06:57:04.070Z"
   },
   {
    "duration": 24,
    "start_time": "2022-02-14T06:57:04.437Z"
   },
   {
    "duration": 1196,
    "start_time": "2022-02-14T06:57:04.464Z"
   },
   {
    "duration": 800,
    "start_time": "2022-02-14T06:57:05.662Z"
   },
   {
    "duration": 1415,
    "start_time": "2022-02-14T06:58:25.176Z"
   },
   {
    "duration": 60,
    "start_time": "2022-02-14T06:58:26.594Z"
   },
   {
    "duration": 13,
    "start_time": "2022-02-14T06:58:26.657Z"
   },
   {
    "duration": 68,
    "start_time": "2022-02-14T06:58:26.673Z"
   },
   {
    "duration": 17,
    "start_time": "2022-02-14T06:58:26.744Z"
   },
   {
    "duration": 16,
    "start_time": "2022-02-14T06:58:26.765Z"
   },
   {
    "duration": 51,
    "start_time": "2022-02-14T06:58:26.784Z"
   },
   {
    "duration": 17,
    "start_time": "2022-02-14T06:58:26.841Z"
   },
   {
    "duration": 11,
    "start_time": "2022-02-14T06:58:26.862Z"
   },
   {
    "duration": 8,
    "start_time": "2022-02-14T06:58:26.876Z"
   },
   {
    "duration": 8,
    "start_time": "2022-02-14T06:58:26.933Z"
   },
   {
    "duration": 37,
    "start_time": "2022-02-14T06:58:26.944Z"
   },
   {
    "duration": 6,
    "start_time": "2022-02-14T06:58:26.984Z"
   },
   {
    "duration": 56,
    "start_time": "2022-02-14T06:58:26.992Z"
   },
   {
    "duration": 12,
    "start_time": "2022-02-14T06:58:27.050Z"
   },
   {
    "duration": 10,
    "start_time": "2022-02-14T06:58:27.065Z"
   },
   {
    "duration": 8,
    "start_time": "2022-02-14T06:58:27.078Z"
   },
   {
    "duration": 45,
    "start_time": "2022-02-14T06:58:27.089Z"
   },
   {
    "duration": 16,
    "start_time": "2022-02-14T06:58:27.137Z"
   },
   {
    "duration": 41,
    "start_time": "2022-02-14T06:58:27.156Z"
   },
   {
    "duration": 86,
    "start_time": "2022-02-14T06:58:27.200Z"
   },
   {
    "duration": 79,
    "start_time": "2022-02-14T06:58:27.288Z"
   },
   {
    "duration": 11,
    "start_time": "2022-02-14T06:58:27.375Z"
   },
   {
    "duration": 448,
    "start_time": "2022-02-14T06:58:27.390Z"
   },
   {
    "duration": 12,
    "start_time": "2022-02-14T06:58:27.842Z"
   },
   {
    "duration": 17,
    "start_time": "2022-02-14T06:58:27.856Z"
   },
   {
    "duration": 346,
    "start_time": "2022-02-14T06:58:27.875Z"
   },
   {
    "duration": 10,
    "start_time": "2022-02-14T06:58:28.223Z"
   },
   {
    "duration": 451,
    "start_time": "2022-02-14T06:58:28.236Z"
   },
   {
    "duration": 4,
    "start_time": "2022-02-14T06:58:28.689Z"
   },
   {
    "duration": 47,
    "start_time": "2022-02-14T06:58:28.695Z"
   },
   {
    "duration": 7,
    "start_time": "2022-02-14T06:58:28.745Z"
   },
   {
    "duration": 10,
    "start_time": "2022-02-14T06:58:28.755Z"
   },
   {
    "duration": 6,
    "start_time": "2022-02-14T06:58:28.768Z"
   },
   {
    "duration": 488,
    "start_time": "2022-02-14T06:58:28.777Z"
   },
   {
    "duration": 933,
    "start_time": "2022-02-14T06:58:29.268Z"
   },
   {
    "duration": 14,
    "start_time": "2022-02-14T06:58:30.203Z"
   },
   {
    "duration": 489,
    "start_time": "2022-02-14T06:58:30.233Z"
   },
   {
    "duration": 13,
    "start_time": "2022-02-14T06:58:30.732Z"
   },
   {
    "duration": 403,
    "start_time": "2022-02-14T06:58:30.747Z"
   },
   {
    "duration": 13,
    "start_time": "2022-02-14T06:58:31.152Z"
   },
   {
    "duration": 421,
    "start_time": "2022-02-14T06:58:31.168Z"
   },
   {
    "duration": 19,
    "start_time": "2022-02-14T06:58:31.592Z"
   },
   {
    "duration": 20,
    "start_time": "2022-02-14T06:58:31.633Z"
   },
   {
    "duration": 527,
    "start_time": "2022-02-14T06:58:31.656Z"
   },
   {
    "duration": 9,
    "start_time": "2022-02-14T06:58:32.185Z"
   },
   {
    "duration": 30,
    "start_time": "2022-02-14T06:58:32.197Z"
   },
   {
    "duration": 339,
    "start_time": "2022-02-14T06:58:32.233Z"
   },
   {
    "duration": 879,
    "start_time": "2022-02-14T06:58:32.574Z"
   },
   {
    "duration": 13,
    "start_time": "2022-02-14T06:58:33.455Z"
   },
   {
    "duration": 17,
    "start_time": "2022-02-14T06:58:33.470Z"
   },
   {
    "duration": 273,
    "start_time": "2022-02-14T06:58:33.489Z"
   },
   {
    "duration": 18,
    "start_time": "2022-02-14T06:58:33.764Z"
   },
   {
    "duration": 275,
    "start_time": "2022-02-14T06:58:33.785Z"
   },
   {
    "duration": 18,
    "start_time": "2022-02-14T06:58:34.062Z"
   },
   {
    "duration": 260,
    "start_time": "2022-02-14T06:58:34.082Z"
   },
   {
    "duration": 25,
    "start_time": "2022-02-14T06:58:34.345Z"
   },
   {
    "duration": 1107,
    "start_time": "2022-02-14T06:58:34.372Z"
   },
   {
    "duration": 770,
    "start_time": "2022-02-14T06:58:35.481Z"
   },
   {
    "duration": 1480,
    "start_time": "2022-02-14T06:58:58.921Z"
   },
   {
    "duration": 65,
    "start_time": "2022-02-14T06:59:00.404Z"
   },
   {
    "duration": 14,
    "start_time": "2022-02-14T06:59:00.473Z"
   },
   {
    "duration": 76,
    "start_time": "2022-02-14T06:59:00.490Z"
   },
   {
    "duration": 18,
    "start_time": "2022-02-14T06:59:00.569Z"
   },
   {
    "duration": 30,
    "start_time": "2022-02-14T06:59:00.589Z"
   },
   {
    "duration": 22,
    "start_time": "2022-02-14T06:59:00.622Z"
   },
   {
    "duration": 22,
    "start_time": "2022-02-14T06:59:00.648Z"
   },
   {
    "duration": 21,
    "start_time": "2022-02-14T06:59:00.673Z"
   },
   {
    "duration": 11,
    "start_time": "2022-02-14T06:59:00.696Z"
   },
   {
    "duration": 9,
    "start_time": "2022-02-14T06:59:00.732Z"
   },
   {
    "duration": 41,
    "start_time": "2022-02-14T06:59:00.743Z"
   },
   {
    "duration": 7,
    "start_time": "2022-02-14T06:59:00.786Z"
   },
   {
    "duration": 43,
    "start_time": "2022-02-14T06:59:00.795Z"
   },
   {
    "duration": 12,
    "start_time": "2022-02-14T06:59:00.840Z"
   },
   {
    "duration": 14,
    "start_time": "2022-02-14T06:59:00.854Z"
   },
   {
    "duration": 9,
    "start_time": "2022-02-14T06:59:00.870Z"
   },
   {
    "duration": 51,
    "start_time": "2022-02-14T06:59:00.881Z"
   },
   {
    "duration": 16,
    "start_time": "2022-02-14T06:59:00.934Z"
   },
   {
    "duration": 41,
    "start_time": "2022-02-14T06:59:00.953Z"
   },
   {
    "duration": 45,
    "start_time": "2022-02-14T06:59:00.997Z"
   },
   {
    "duration": 33,
    "start_time": "2022-02-14T06:59:01.046Z"
   },
   {
    "duration": 9,
    "start_time": "2022-02-14T06:59:01.087Z"
   },
   {
    "duration": 476,
    "start_time": "2022-02-14T06:59:01.099Z"
   },
   {
    "duration": 10,
    "start_time": "2022-02-14T06:59:01.578Z"
   },
   {
    "duration": 24,
    "start_time": "2022-02-14T06:59:01.590Z"
   },
   {
    "duration": 310,
    "start_time": "2022-02-14T06:59:01.632Z"
   },
   {
    "duration": 3,
    "start_time": "2022-02-14T06:59:01.945Z"
   },
   {
    "duration": 492,
    "start_time": "2022-02-14T06:59:01.951Z"
   },
   {
    "duration": 2,
    "start_time": "2022-02-14T06:59:02.446Z"
   },
   {
    "duration": 39,
    "start_time": "2022-02-14T06:59:02.451Z"
   },
   {
    "duration": 8,
    "start_time": "2022-02-14T06:59:02.493Z"
   },
   {
    "duration": 35,
    "start_time": "2022-02-14T06:59:02.503Z"
   },
   {
    "duration": 11,
    "start_time": "2022-02-14T06:59:02.540Z"
   },
   {
    "duration": 478,
    "start_time": "2022-02-14T06:59:02.554Z"
   },
   {
    "duration": 808,
    "start_time": "2022-02-14T06:59:03.035Z"
   },
   {
    "duration": 13,
    "start_time": "2022-02-14T06:59:03.846Z"
   },
   {
    "duration": 493,
    "start_time": "2022-02-14T06:59:03.861Z"
   },
   {
    "duration": 15,
    "start_time": "2022-02-14T06:59:04.357Z"
   },
   {
    "duration": 417,
    "start_time": "2022-02-14T06:59:04.374Z"
   },
   {
    "duration": 14,
    "start_time": "2022-02-14T06:59:04.794Z"
   },
   {
    "duration": 442,
    "start_time": "2022-02-14T06:59:04.811Z"
   },
   {
    "duration": 19,
    "start_time": "2022-02-14T06:59:05.256Z"
   },
   {
    "duration": 21,
    "start_time": "2022-02-14T06:59:05.278Z"
   },
   {
    "duration": 611,
    "start_time": "2022-02-14T06:59:05.302Z"
   },
   {
    "duration": 18,
    "start_time": "2022-02-14T06:59:05.916Z"
   },
   {
    "duration": 16,
    "start_time": "2022-02-14T06:59:05.937Z"
   },
   {
    "duration": 362,
    "start_time": "2022-02-14T06:59:05.956Z"
   },
   {
    "duration": 742,
    "start_time": "2022-02-14T06:59:06.321Z"
   },
   {
    "duration": 13,
    "start_time": "2022-02-14T06:59:07.066Z"
   },
   {
    "duration": 23,
    "start_time": "2022-02-14T06:59:07.081Z"
   },
   {
    "duration": 355,
    "start_time": "2022-02-14T06:59:07.107Z"
   },
   {
    "duration": 18,
    "start_time": "2022-02-14T06:59:07.465Z"
   },
   {
    "duration": 266,
    "start_time": "2022-02-14T06:59:07.487Z"
   },
   {
    "duration": 18,
    "start_time": "2022-02-14T06:59:07.756Z"
   },
   {
    "duration": 260,
    "start_time": "2022-02-14T06:59:07.777Z"
   },
   {
    "duration": 26,
    "start_time": "2022-02-14T06:59:08.039Z"
   },
   {
    "duration": 1361,
    "start_time": "2022-02-14T06:59:08.067Z"
   },
   {
    "duration": 790,
    "start_time": "2022-02-14T06:59:09.433Z"
   },
   {
    "duration": 1421,
    "start_time": "2022-02-14T07:00:21.569Z"
   },
   {
    "duration": 65,
    "start_time": "2022-02-14T07:00:22.993Z"
   },
   {
    "duration": 14,
    "start_time": "2022-02-14T07:00:23.061Z"
   },
   {
    "duration": 62,
    "start_time": "2022-02-14T07:00:23.078Z"
   },
   {
    "duration": 16,
    "start_time": "2022-02-14T07:00:23.142Z"
   },
   {
    "duration": 14,
    "start_time": "2022-02-14T07:00:23.160Z"
   },
   {
    "duration": 11,
    "start_time": "2022-02-14T07:00:23.177Z"
   },
   {
    "duration": 50,
    "start_time": "2022-02-14T07:00:23.192Z"
   },
   {
    "duration": 10,
    "start_time": "2022-02-14T07:00:23.245Z"
   },
   {
    "duration": 6,
    "start_time": "2022-02-14T07:00:23.257Z"
   },
   {
    "duration": 9,
    "start_time": "2022-02-14T07:00:23.265Z"
   },
   {
    "duration": 63,
    "start_time": "2022-02-14T07:00:23.276Z"
   },
   {
    "duration": 5,
    "start_time": "2022-02-14T07:00:23.341Z"
   },
   {
    "duration": 29,
    "start_time": "2022-02-14T07:00:23.348Z"
   },
   {
    "duration": 14,
    "start_time": "2022-02-14T07:00:23.380Z"
   },
   {
    "duration": 39,
    "start_time": "2022-02-14T07:00:23.397Z"
   },
   {
    "duration": 9,
    "start_time": "2022-02-14T07:00:23.438Z"
   },
   {
    "duration": 13,
    "start_time": "2022-02-14T07:00:23.449Z"
   },
   {
    "duration": 17,
    "start_time": "2022-02-14T07:00:23.465Z"
   },
   {
    "duration": 80,
    "start_time": "2022-02-14T07:00:23.485Z"
   },
   {
    "duration": 18,
    "start_time": "2022-02-14T07:00:23.568Z"
   },
   {
    "duration": 44,
    "start_time": "2022-02-14T07:00:23.589Z"
   },
   {
    "duration": 10,
    "start_time": "2022-02-14T07:00:23.641Z"
   },
   {
    "duration": 467,
    "start_time": "2022-02-14T07:00:23.655Z"
   },
   {
    "duration": 10,
    "start_time": "2022-02-14T07:00:24.132Z"
   },
   {
    "duration": 18,
    "start_time": "2022-02-14T07:00:24.144Z"
   },
   {
    "duration": 310,
    "start_time": "2022-02-14T07:00:24.165Z"
   },
   {
    "duration": 3,
    "start_time": "2022-02-14T07:00:24.477Z"
   },
   {
    "duration": 461,
    "start_time": "2022-02-14T07:00:24.483Z"
   },
   {
    "duration": 3,
    "start_time": "2022-02-14T07:00:24.946Z"
   },
   {
    "duration": 27,
    "start_time": "2022-02-14T07:00:24.952Z"
   },
   {
    "duration": 7,
    "start_time": "2022-02-14T07:00:24.982Z"
   },
   {
    "duration": 41,
    "start_time": "2022-02-14T07:00:24.991Z"
   },
   {
    "duration": 7,
    "start_time": "2022-02-14T07:00:25.035Z"
   },
   {
    "duration": 482,
    "start_time": "2022-02-14T07:00:25.045Z"
   },
   {
    "duration": 791,
    "start_time": "2022-02-14T07:00:25.532Z"
   },
   {
    "duration": 14,
    "start_time": "2022-02-14T07:00:26.333Z"
   },
   {
    "duration": 472,
    "start_time": "2022-02-14T07:00:26.349Z"
   },
   {
    "duration": 17,
    "start_time": "2022-02-14T07:00:26.823Z"
   },
   {
    "duration": 402,
    "start_time": "2022-02-14T07:00:26.842Z"
   },
   {
    "duration": 19,
    "start_time": "2022-02-14T07:00:27.247Z"
   },
   {
    "duration": 451,
    "start_time": "2022-02-14T07:00:27.269Z"
   },
   {
    "duration": 23,
    "start_time": "2022-02-14T07:00:27.722Z"
   },
   {
    "duration": 18,
    "start_time": "2022-02-14T07:00:27.747Z"
   },
   {
    "duration": 511,
    "start_time": "2022-02-14T07:00:27.768Z"
   },
   {
    "duration": 9,
    "start_time": "2022-02-14T07:00:28.281Z"
   },
   {
    "duration": 16,
    "start_time": "2022-02-14T07:00:28.292Z"
   },
   {
    "duration": 335,
    "start_time": "2022-02-14T07:00:28.311Z"
   },
   {
    "duration": 686,
    "start_time": "2022-02-14T07:00:28.648Z"
   },
   {
    "duration": 12,
    "start_time": "2022-02-14T07:00:29.337Z"
   },
   {
    "duration": 12,
    "start_time": "2022-02-14T07:00:29.351Z"
   },
   {
    "duration": 269,
    "start_time": "2022-02-14T07:00:29.366Z"
   },
   {
    "duration": 12,
    "start_time": "2022-02-14T07:00:29.637Z"
   },
   {
    "duration": 257,
    "start_time": "2022-02-14T07:00:29.652Z"
   },
   {
    "duration": 24,
    "start_time": "2022-02-14T07:00:29.912Z"
   },
   {
    "duration": 260,
    "start_time": "2022-02-14T07:00:29.938Z"
   },
   {
    "duration": 40,
    "start_time": "2022-02-14T07:00:30.200Z"
   },
   {
    "duration": 1167,
    "start_time": "2022-02-14T07:00:30.243Z"
   },
   {
    "duration": 754,
    "start_time": "2022-02-14T07:00:31.413Z"
   },
   {
    "duration": 1481,
    "start_time": "2022-02-14T07:02:17.111Z"
   },
   {
    "duration": 69,
    "start_time": "2022-02-14T07:02:18.594Z"
   },
   {
    "duration": 14,
    "start_time": "2022-02-14T07:02:18.665Z"
   },
   {
    "duration": 62,
    "start_time": "2022-02-14T07:02:18.681Z"
   },
   {
    "duration": 16,
    "start_time": "2022-02-14T07:02:18.746Z"
   },
   {
    "duration": 20,
    "start_time": "2022-02-14T07:02:18.764Z"
   },
   {
    "duration": 13,
    "start_time": "2022-02-14T07:02:18.786Z"
   },
   {
    "duration": 17,
    "start_time": "2022-02-14T07:02:18.834Z"
   },
   {
    "duration": 9,
    "start_time": "2022-02-14T07:02:18.854Z"
   },
   {
    "duration": 7,
    "start_time": "2022-02-14T07:02:18.865Z"
   },
   {
    "duration": 9,
    "start_time": "2022-02-14T07:02:18.876Z"
   },
   {
    "duration": 73,
    "start_time": "2022-02-14T07:02:18.888Z"
   },
   {
    "duration": 6,
    "start_time": "2022-02-14T07:02:18.963Z"
   },
   {
    "duration": 26,
    "start_time": "2022-02-14T07:02:18.972Z"
   },
   {
    "duration": 44,
    "start_time": "2022-02-14T07:02:19.001Z"
   },
   {
    "duration": 11,
    "start_time": "2022-02-14T07:02:19.048Z"
   },
   {
    "duration": 11,
    "start_time": "2022-02-14T07:02:19.062Z"
   },
   {
    "duration": 56,
    "start_time": "2022-02-14T07:02:19.075Z"
   },
   {
    "duration": 18,
    "start_time": "2022-02-14T07:02:19.134Z"
   },
   {
    "duration": 40,
    "start_time": "2022-02-14T07:02:19.155Z"
   },
   {
    "duration": 48,
    "start_time": "2022-02-14T07:02:19.198Z"
   },
   {
    "duration": 20,
    "start_time": "2022-02-14T07:02:19.249Z"
   },
   {
    "duration": 9,
    "start_time": "2022-02-14T07:02:19.274Z"
   },
   {
    "duration": 488,
    "start_time": "2022-02-14T07:02:19.286Z"
   },
   {
    "duration": 13,
    "start_time": "2022-02-14T07:02:19.777Z"
   },
   {
    "duration": 17,
    "start_time": "2022-02-14T07:02:19.792Z"
   },
   {
    "duration": 302,
    "start_time": "2022-02-14T07:02:19.833Z"
   },
   {
    "duration": 3,
    "start_time": "2022-02-14T07:02:20.138Z"
   },
   {
    "duration": 468,
    "start_time": "2022-02-14T07:02:20.143Z"
   },
   {
    "duration": 3,
    "start_time": "2022-02-14T07:02:20.614Z"
   },
   {
    "duration": 30,
    "start_time": "2022-02-14T07:02:20.632Z"
   },
   {
    "duration": 7,
    "start_time": "2022-02-14T07:02:20.665Z"
   },
   {
    "duration": 16,
    "start_time": "2022-02-14T07:02:20.675Z"
   },
   {
    "duration": 6,
    "start_time": "2022-02-14T07:02:20.693Z"
   },
   {
    "duration": 481,
    "start_time": "2022-02-14T07:02:20.701Z"
   },
   {
    "duration": 796,
    "start_time": "2022-02-14T07:02:21.185Z"
   },
   {
    "duration": 12,
    "start_time": "2022-02-14T07:02:21.983Z"
   },
   {
    "duration": 501,
    "start_time": "2022-02-14T07:02:21.998Z"
   },
   {
    "duration": 12,
    "start_time": "2022-02-14T07:02:22.502Z"
   },
   {
    "duration": 399,
    "start_time": "2022-02-14T07:02:22.516Z"
   },
   {
    "duration": 21,
    "start_time": "2022-02-14T07:02:22.917Z"
   },
   {
    "duration": 428,
    "start_time": "2022-02-14T07:02:22.941Z"
   },
   {
    "duration": 19,
    "start_time": "2022-02-14T07:02:23.372Z"
   },
   {
    "duration": 40,
    "start_time": "2022-02-14T07:02:23.393Z"
   },
   {
    "duration": 508,
    "start_time": "2022-02-14T07:02:23.436Z"
   },
   {
    "duration": 10,
    "start_time": "2022-02-14T07:02:23.947Z"
   },
   {
    "duration": 14,
    "start_time": "2022-02-14T07:02:23.959Z"
   },
   {
    "duration": 358,
    "start_time": "2022-02-14T07:02:23.975Z"
   },
   {
    "duration": 717,
    "start_time": "2022-02-14T07:02:24.336Z"
   },
   {
    "duration": 13,
    "start_time": "2022-02-14T07:02:25.055Z"
   },
   {
    "duration": 18,
    "start_time": "2022-02-14T07:02:25.071Z"
   },
   {
    "duration": 285,
    "start_time": "2022-02-14T07:02:25.091Z"
   },
   {
    "duration": 12,
    "start_time": "2022-02-14T07:02:25.379Z"
   },
   {
    "duration": 664,
    "start_time": "2022-02-14T07:02:25.394Z"
   },
   {
    "duration": 1456,
    "start_time": "2022-02-14T07:02:24.604Z"
   },
   {
    "duration": 1452,
    "start_time": "2022-02-14T07:02:24.610Z"
   },
   {
    "duration": 1449,
    "start_time": "2022-02-14T07:02:24.614Z"
   },
   {
    "duration": 1447,
    "start_time": "2022-02-14T07:02:24.617Z"
   },
   {
    "duration": 1446,
    "start_time": "2022-02-14T07:02:24.619Z"
   },
   {
    "duration": 1491,
    "start_time": "2022-02-14T07:02:58.504Z"
   },
   {
    "duration": 66,
    "start_time": "2022-02-14T07:02:59.998Z"
   },
   {
    "duration": 15,
    "start_time": "2022-02-14T07:03:00.067Z"
   },
   {
    "duration": 61,
    "start_time": "2022-02-14T07:03:00.085Z"
   },
   {
    "duration": 16,
    "start_time": "2022-02-14T07:03:00.149Z"
   },
   {
    "duration": 21,
    "start_time": "2022-02-14T07:03:00.167Z"
   },
   {
    "duration": 15,
    "start_time": "2022-02-14T07:03:00.191Z"
   },
   {
    "duration": 36,
    "start_time": "2022-02-14T07:03:00.210Z"
   },
   {
    "duration": 11,
    "start_time": "2022-02-14T07:03:00.248Z"
   },
   {
    "duration": 12,
    "start_time": "2022-02-14T07:03:00.261Z"
   },
   {
    "duration": 29,
    "start_time": "2022-02-14T07:03:00.275Z"
   },
   {
    "duration": 50,
    "start_time": "2022-02-14T07:03:00.306Z"
   },
   {
    "duration": 6,
    "start_time": "2022-02-14T07:03:00.359Z"
   },
   {
    "duration": 28,
    "start_time": "2022-02-14T07:03:00.367Z"
   },
   {
    "duration": 36,
    "start_time": "2022-02-14T07:03:00.397Z"
   },
   {
    "duration": 9,
    "start_time": "2022-02-14T07:03:00.436Z"
   },
   {
    "duration": 17,
    "start_time": "2022-02-14T07:03:00.448Z"
   },
   {
    "duration": 34,
    "start_time": "2022-02-14T07:03:00.467Z"
   },
   {
    "duration": 46,
    "start_time": "2022-02-14T07:03:00.503Z"
   },
   {
    "duration": 52,
    "start_time": "2022-02-14T07:03:00.551Z"
   },
   {
    "duration": 15,
    "start_time": "2022-02-14T07:03:00.606Z"
   },
   {
    "duration": 26,
    "start_time": "2022-02-14T07:03:00.623Z"
   },
   {
    "duration": 14,
    "start_time": "2022-02-14T07:03:00.654Z"
   },
   {
    "duration": 464,
    "start_time": "2022-02-14T07:03:00.672Z"
   },
   {
    "duration": 10,
    "start_time": "2022-02-14T07:03:01.139Z"
   },
   {
    "duration": 19,
    "start_time": "2022-02-14T07:03:01.152Z"
   },
   {
    "duration": 321,
    "start_time": "2022-02-14T07:03:01.173Z"
   },
   {
    "duration": 3,
    "start_time": "2022-02-14T07:03:01.497Z"
   },
   {
    "duration": 464,
    "start_time": "2022-02-14T07:03:01.503Z"
   },
   {
    "duration": 3,
    "start_time": "2022-02-14T07:03:01.969Z"
   },
   {
    "duration": 39,
    "start_time": "2022-02-14T07:03:01.975Z"
   },
   {
    "duration": 20,
    "start_time": "2022-02-14T07:03:02.016Z"
   },
   {
    "duration": 28,
    "start_time": "2022-02-14T07:03:02.038Z"
   },
   {
    "duration": 11,
    "start_time": "2022-02-14T07:03:02.068Z"
   },
   {
    "duration": 450,
    "start_time": "2022-02-14T07:03:02.081Z"
   },
   {
    "duration": 778,
    "start_time": "2022-02-14T07:03:02.534Z"
   },
   {
    "duration": 21,
    "start_time": "2022-02-14T07:03:03.314Z"
   },
   {
    "duration": 476,
    "start_time": "2022-02-14T07:03:03.338Z"
   },
   {
    "duration": 22,
    "start_time": "2022-02-14T07:03:03.817Z"
   },
   {
    "duration": 383,
    "start_time": "2022-02-14T07:03:03.841Z"
   },
   {
    "duration": 14,
    "start_time": "2022-02-14T07:03:04.232Z"
   },
   {
    "duration": 410,
    "start_time": "2022-02-14T07:03:04.249Z"
   },
   {
    "duration": 19,
    "start_time": "2022-02-14T07:03:04.662Z"
   },
   {
    "duration": 48,
    "start_time": "2022-02-14T07:03:04.684Z"
   },
   {
    "duration": 532,
    "start_time": "2022-02-14T07:03:04.735Z"
   },
   {
    "duration": 13,
    "start_time": "2022-02-14T07:03:05.270Z"
   },
   {
    "duration": 13,
    "start_time": "2022-02-14T07:03:05.285Z"
   },
   {
    "duration": 357,
    "start_time": "2022-02-14T07:03:05.301Z"
   },
   {
    "duration": 715,
    "start_time": "2022-02-14T07:03:05.660Z"
   },
   {
    "duration": 12,
    "start_time": "2022-02-14T07:03:06.377Z"
   },
   {
    "duration": 14,
    "start_time": "2022-02-14T07:03:06.391Z"
   },
   {
    "duration": 375,
    "start_time": "2022-02-14T07:03:06.407Z"
   },
   {
    "duration": 11,
    "start_time": "2022-02-14T07:03:06.784Z"
   },
   {
    "duration": 237,
    "start_time": "2022-02-14T07:03:06.798Z"
   },
   {
    "duration": 13,
    "start_time": "2022-02-14T07:03:07.038Z"
   },
   {
    "duration": 269,
    "start_time": "2022-02-14T07:03:07.053Z"
   },
   {
    "duration": 28,
    "start_time": "2022-02-14T07:03:07.325Z"
   },
   {
    "duration": 1112,
    "start_time": "2022-02-14T07:03:07.355Z"
   },
   {
    "duration": 731,
    "start_time": "2022-02-14T07:03:08.470Z"
   },
   {
    "duration": 1475,
    "start_time": "2022-02-14T07:03:41.837Z"
   },
   {
    "duration": 65,
    "start_time": "2022-02-14T07:03:43.314Z"
   },
   {
    "duration": 17,
    "start_time": "2022-02-14T07:03:43.383Z"
   },
   {
    "duration": 63,
    "start_time": "2022-02-14T07:03:43.403Z"
   },
   {
    "duration": 16,
    "start_time": "2022-02-14T07:03:43.469Z"
   },
   {
    "duration": 20,
    "start_time": "2022-02-14T07:03:43.487Z"
   },
   {
    "duration": 14,
    "start_time": "2022-02-14T07:03:43.533Z"
   },
   {
    "duration": 16,
    "start_time": "2022-02-14T07:03:43.553Z"
   },
   {
    "duration": 11,
    "start_time": "2022-02-14T07:03:43.573Z"
   },
   {
    "duration": 51,
    "start_time": "2022-02-14T07:03:43.587Z"
   },
   {
    "duration": 10,
    "start_time": "2022-02-14T07:03:43.640Z"
   },
   {
    "duration": 36,
    "start_time": "2022-02-14T07:03:43.653Z"
   },
   {
    "duration": 5,
    "start_time": "2022-02-14T07:03:43.691Z"
   },
   {
    "duration": 54,
    "start_time": "2022-02-14T07:03:43.699Z"
   },
   {
    "duration": 13,
    "start_time": "2022-02-14T07:03:43.756Z"
   },
   {
    "duration": 11,
    "start_time": "2022-02-14T07:03:43.772Z"
   },
   {
    "duration": 11,
    "start_time": "2022-02-14T07:03:43.785Z"
   },
   {
    "duration": 47,
    "start_time": "2022-02-14T07:03:43.797Z"
   },
   {
    "duration": 17,
    "start_time": "2022-02-14T07:03:43.847Z"
   },
   {
    "duration": 70,
    "start_time": "2022-02-14T07:03:43.867Z"
   },
   {
    "duration": 17,
    "start_time": "2022-02-14T07:03:43.940Z"
   },
   {
    "duration": 21,
    "start_time": "2022-02-14T07:03:43.960Z"
   },
   {
    "duration": 10,
    "start_time": "2022-02-14T07:03:43.987Z"
   },
   {
    "duration": 472,
    "start_time": "2022-02-14T07:03:44.034Z"
   },
   {
    "duration": 24,
    "start_time": "2022-02-14T07:03:44.508Z"
   },
   {
    "duration": 17,
    "start_time": "2022-02-14T07:03:44.534Z"
   },
   {
    "duration": 323,
    "start_time": "2022-02-14T07:03:44.554Z"
   },
   {
    "duration": 3,
    "start_time": "2022-02-14T07:03:44.880Z"
   },
   {
    "duration": 510,
    "start_time": "2022-02-14T07:03:44.886Z"
   },
   {
    "duration": 3,
    "start_time": "2022-02-14T07:03:45.399Z"
   },
   {
    "duration": 47,
    "start_time": "2022-02-14T07:03:45.404Z"
   },
   {
    "duration": 8,
    "start_time": "2022-02-14T07:03:45.454Z"
   },
   {
    "duration": 20,
    "start_time": "2022-02-14T07:03:45.464Z"
   },
   {
    "duration": 6,
    "start_time": "2022-02-14T07:03:45.486Z"
   },
   {
    "duration": 486,
    "start_time": "2022-02-14T07:03:45.495Z"
   },
   {
    "duration": 813,
    "start_time": "2022-02-14T07:03:45.983Z"
   },
   {
    "duration": 15,
    "start_time": "2022-02-14T07:03:46.799Z"
   },
   {
    "duration": 510,
    "start_time": "2022-02-14T07:03:46.816Z"
   },
   {
    "duration": 13,
    "start_time": "2022-02-14T07:03:47.328Z"
   },
   {
    "duration": 425,
    "start_time": "2022-02-14T07:03:47.343Z"
   },
   {
    "duration": 15,
    "start_time": "2022-02-14T07:03:47.771Z"
   },
   {
    "duration": 425,
    "start_time": "2022-02-14T07:03:47.789Z"
   },
   {
    "duration": 26,
    "start_time": "2022-02-14T07:03:48.218Z"
   },
   {
    "duration": 18,
    "start_time": "2022-02-14T07:03:48.247Z"
   },
   {
    "duration": 540,
    "start_time": "2022-02-14T07:03:48.268Z"
   },
   {
    "duration": 9,
    "start_time": "2022-02-14T07:03:48.811Z"
   },
   {
    "duration": 22,
    "start_time": "2022-02-14T07:03:48.822Z"
   },
   {
    "duration": 344,
    "start_time": "2022-02-14T07:03:48.846Z"
   },
   {
    "duration": 705,
    "start_time": "2022-02-14T07:03:49.192Z"
   },
   {
    "duration": 13,
    "start_time": "2022-02-14T07:03:49.899Z"
   },
   {
    "duration": 12,
    "start_time": "2022-02-14T07:03:49.932Z"
   },
   {
    "duration": 259,
    "start_time": "2022-02-14T07:03:49.946Z"
   },
   {
    "duration": 24,
    "start_time": "2022-02-14T07:03:50.208Z"
   },
   {
    "duration": 229,
    "start_time": "2022-02-14T07:03:50.234Z"
   },
   {
    "duration": 12,
    "start_time": "2022-02-14T07:03:50.466Z"
   },
   {
    "duration": 259,
    "start_time": "2022-02-14T07:03:50.480Z"
   },
   {
    "duration": 24,
    "start_time": "2022-02-14T07:03:50.742Z"
   },
   {
    "duration": 1135,
    "start_time": "2022-02-14T07:03:50.769Z"
   },
   {
    "duration": 750,
    "start_time": "2022-02-14T07:03:51.907Z"
   },
   {
    "duration": 711,
    "start_time": "2022-02-14T07:05:34.309Z"
   },
   {
    "duration": 1489,
    "start_time": "2022-02-14T07:06:46.507Z"
   },
   {
    "duration": 69,
    "start_time": "2022-02-14T07:06:47.999Z"
   },
   {
    "duration": 14,
    "start_time": "2022-02-14T07:06:48.071Z"
   },
   {
    "duration": 58,
    "start_time": "2022-02-14T07:06:48.088Z"
   },
   {
    "duration": 15,
    "start_time": "2022-02-14T07:06:48.149Z"
   },
   {
    "duration": 17,
    "start_time": "2022-02-14T07:06:48.166Z"
   },
   {
    "duration": 12,
    "start_time": "2022-02-14T07:06:48.185Z"
   },
   {
    "duration": 42,
    "start_time": "2022-02-14T07:06:48.202Z"
   },
   {
    "duration": 9,
    "start_time": "2022-02-14T07:06:48.248Z"
   },
   {
    "duration": 11,
    "start_time": "2022-02-14T07:06:48.260Z"
   },
   {
    "duration": 12,
    "start_time": "2022-02-14T07:06:48.273Z"
   },
   {
    "duration": 71,
    "start_time": "2022-02-14T07:06:48.288Z"
   },
   {
    "duration": 6,
    "start_time": "2022-02-14T07:06:48.362Z"
   },
   {
    "duration": 24,
    "start_time": "2022-02-14T07:06:48.370Z"
   },
   {
    "duration": 36,
    "start_time": "2022-02-14T07:06:48.396Z"
   },
   {
    "duration": 9,
    "start_time": "2022-02-14T07:06:48.435Z"
   },
   {
    "duration": 9,
    "start_time": "2022-02-14T07:06:48.446Z"
   },
   {
    "duration": 13,
    "start_time": "2022-02-14T07:06:48.458Z"
   },
   {
    "duration": 15,
    "start_time": "2022-02-14T07:06:48.473Z"
   },
   {
    "duration": 36,
    "start_time": "2022-02-14T07:06:48.533Z"
   },
   {
    "duration": 19,
    "start_time": "2022-02-14T07:06:48.572Z"
   },
   {
    "duration": 41,
    "start_time": "2022-02-14T07:06:48.593Z"
   },
   {
    "duration": 10,
    "start_time": "2022-02-14T07:06:48.640Z"
   },
   {
    "duration": 482,
    "start_time": "2022-02-14T07:06:48.653Z"
   },
   {
    "duration": 11,
    "start_time": "2022-02-14T07:06:49.137Z"
   },
   {
    "duration": 16,
    "start_time": "2022-02-14T07:06:49.150Z"
   },
   {
    "duration": 322,
    "start_time": "2022-02-14T07:06:49.168Z"
   },
   {
    "duration": 3,
    "start_time": "2022-02-14T07:06:49.493Z"
   },
   {
    "duration": 468,
    "start_time": "2022-02-14T07:06:49.498Z"
   },
   {
    "duration": 3,
    "start_time": "2022-02-14T07:06:49.969Z"
   },
   {
    "duration": 27,
    "start_time": "2022-02-14T07:06:49.975Z"
   },
   {
    "duration": 32,
    "start_time": "2022-02-14T07:06:50.004Z"
   },
   {
    "duration": 15,
    "start_time": "2022-02-14T07:06:50.039Z"
   },
   {
    "duration": 6,
    "start_time": "2022-02-14T07:06:50.057Z"
   },
   {
    "duration": 490,
    "start_time": "2022-02-14T07:06:50.065Z"
   },
   {
    "duration": 798,
    "start_time": "2022-02-14T07:06:50.557Z"
   },
   {
    "duration": 14,
    "start_time": "2022-02-14T07:06:51.357Z"
   },
   {
    "duration": 486,
    "start_time": "2022-02-14T07:06:51.373Z"
   },
   {
    "duration": 14,
    "start_time": "2022-02-14T07:06:51.861Z"
   },
   {
    "duration": 407,
    "start_time": "2022-02-14T07:06:51.877Z"
   },
   {
    "duration": 12,
    "start_time": "2022-02-14T07:06:52.287Z"
   },
   {
    "duration": 416,
    "start_time": "2022-02-14T07:06:52.302Z"
   },
   {
    "duration": 27,
    "start_time": "2022-02-14T07:06:52.720Z"
   },
   {
    "duration": 22,
    "start_time": "2022-02-14T07:06:52.749Z"
   },
   {
    "duration": 527,
    "start_time": "2022-02-14T07:06:52.774Z"
   },
   {
    "duration": 9,
    "start_time": "2022-02-14T07:06:53.304Z"
   },
   {
    "duration": 26,
    "start_time": "2022-02-14T07:06:53.316Z"
   },
   {
    "duration": 334,
    "start_time": "2022-02-14T07:06:53.345Z"
   },
   {
    "duration": 716,
    "start_time": "2022-02-14T07:06:53.682Z"
   },
   {
    "duration": 13,
    "start_time": "2022-02-14T07:06:54.401Z"
   },
   {
    "duration": 12,
    "start_time": "2022-02-14T07:06:54.433Z"
   },
   {
    "duration": 269,
    "start_time": "2022-02-14T07:06:54.447Z"
   },
   {
    "duration": 17,
    "start_time": "2022-02-14T07:06:54.718Z"
   },
   {
    "duration": 236,
    "start_time": "2022-02-14T07:06:54.737Z"
   },
   {
    "duration": 12,
    "start_time": "2022-02-14T07:06:54.976Z"
   },
   {
    "duration": 252,
    "start_time": "2022-02-14T07:06:54.990Z"
   },
   {
    "duration": 97,
    "start_time": "2022-02-14T07:06:55.244Z"
   },
   {
    "duration": 1440,
    "start_time": "2022-02-14T07:06:53.904Z"
   },
   {
    "duration": 1220,
    "start_time": "2022-02-14T07:07:01.984Z"
   },
   {
    "duration": 718,
    "start_time": "2022-02-14T07:09:39.842Z"
   },
   {
    "duration": 1464,
    "start_time": "2022-02-14T07:11:57.838Z"
   },
   {
    "duration": 65,
    "start_time": "2022-02-14T07:11:59.304Z"
   },
   {
    "duration": 13,
    "start_time": "2022-02-14T07:11:59.372Z"
   },
   {
    "duration": 58,
    "start_time": "2022-02-14T07:11:59.388Z"
   },
   {
    "duration": 16,
    "start_time": "2022-02-14T07:11:59.449Z"
   },
   {
    "duration": 16,
    "start_time": "2022-02-14T07:11:59.468Z"
   },
   {
    "duration": 12,
    "start_time": "2022-02-14T07:11:59.487Z"
   },
   {
    "duration": 43,
    "start_time": "2022-02-14T07:11:59.502Z"
   },
   {
    "duration": 11,
    "start_time": "2022-02-14T07:11:59.548Z"
   },
   {
    "duration": 7,
    "start_time": "2022-02-14T07:11:59.561Z"
   },
   {
    "duration": 8,
    "start_time": "2022-02-14T07:11:59.570Z"
   },
   {
    "duration": 78,
    "start_time": "2022-02-14T07:11:59.581Z"
   },
   {
    "duration": 7,
    "start_time": "2022-02-14T07:11:59.662Z"
   },
   {
    "duration": 22,
    "start_time": "2022-02-14T07:11:59.671Z"
   },
   {
    "duration": 36,
    "start_time": "2022-02-14T07:11:59.696Z"
   },
   {
    "duration": 9,
    "start_time": "2022-02-14T07:11:59.734Z"
   },
   {
    "duration": 8,
    "start_time": "2022-02-14T07:11:59.746Z"
   },
   {
    "duration": 13,
    "start_time": "2022-02-14T07:11:59.757Z"
   },
   {
    "duration": 61,
    "start_time": "2022-02-14T07:11:59.773Z"
   },
   {
    "duration": 38,
    "start_time": "2022-02-14T07:11:59.836Z"
   },
   {
    "duration": 15,
    "start_time": "2022-02-14T07:11:59.876Z"
   },
   {
    "duration": 45,
    "start_time": "2022-02-14T07:11:59.893Z"
   },
   {
    "duration": 9,
    "start_time": "2022-02-14T07:11:59.945Z"
   },
   {
    "duration": 478,
    "start_time": "2022-02-14T07:11:59.957Z"
   },
   {
    "duration": 11,
    "start_time": "2022-02-14T07:12:00.437Z"
   },
   {
    "duration": 23,
    "start_time": "2022-02-14T07:12:00.450Z"
   },
   {
    "duration": 337,
    "start_time": "2022-02-14T07:12:00.475Z"
   },
   {
    "duration": 4,
    "start_time": "2022-02-14T07:12:00.814Z"
   },
   {
    "duration": 459,
    "start_time": "2022-02-14T07:12:00.831Z"
   },
   {
    "duration": 4,
    "start_time": "2022-02-14T07:12:01.294Z"
   },
   {
    "duration": 53,
    "start_time": "2022-02-14T07:12:01.300Z"
   },
   {
    "duration": 10,
    "start_time": "2022-02-14T07:12:01.356Z"
   },
   {
    "duration": 21,
    "start_time": "2022-02-14T07:12:01.368Z"
   },
   {
    "duration": 16,
    "start_time": "2022-02-14T07:12:01.392Z"
   },
   {
    "duration": 480,
    "start_time": "2022-02-14T07:12:01.411Z"
   },
   {
    "duration": 802,
    "start_time": "2022-02-14T07:12:01.894Z"
   },
   {
    "duration": 13,
    "start_time": "2022-02-14T07:12:02.698Z"
   },
   {
    "duration": 488,
    "start_time": "2022-02-14T07:12:02.713Z"
   },
   {
    "duration": 12,
    "start_time": "2022-02-14T07:12:03.203Z"
   },
   {
    "duration": 388,
    "start_time": "2022-02-14T07:12:03.233Z"
   },
   {
    "duration": 17,
    "start_time": "2022-02-14T07:12:03.623Z"
   },
   {
    "duration": 420,
    "start_time": "2022-02-14T07:12:03.643Z"
   },
   {
    "duration": 20,
    "start_time": "2022-02-14T07:12:04.066Z"
   },
   {
    "duration": 18,
    "start_time": "2022-02-14T07:12:04.088Z"
   },
   {
    "duration": 500,
    "start_time": "2022-02-14T07:12:04.108Z"
   },
   {
    "duration": 9,
    "start_time": "2022-02-14T07:12:04.611Z"
   },
   {
    "duration": 12,
    "start_time": "2022-02-14T07:12:04.633Z"
   },
   {
    "duration": 338,
    "start_time": "2022-02-14T07:12:04.648Z"
   },
   {
    "duration": 714,
    "start_time": "2022-02-14T07:12:04.988Z"
   },
   {
    "duration": 12,
    "start_time": "2022-02-14T07:12:05.704Z"
   },
   {
    "duration": 20,
    "start_time": "2022-02-14T07:12:05.719Z"
   },
   {
    "duration": 255,
    "start_time": "2022-02-14T07:12:05.742Z"
   },
   {
    "duration": 12,
    "start_time": "2022-02-14T07:12:06.000Z"
   },
   {
    "duration": 248,
    "start_time": "2022-02-14T07:12:06.015Z"
   },
   {
    "duration": 13,
    "start_time": "2022-02-14T07:12:06.265Z"
   },
   {
    "duration": 259,
    "start_time": "2022-02-14T07:12:06.282Z"
   },
   {
    "duration": 1210,
    "start_time": "2022-02-14T07:12:06.543Z"
   },
   {
    "duration": 1414,
    "start_time": "2022-02-14T07:12:06.342Z"
   },
   {
    "duration": 925,
    "start_time": "2022-02-14T07:12:24.626Z"
   },
   {
    "duration": 1457,
    "start_time": "2022-02-14T07:12:50.742Z"
   },
   {
    "duration": 62,
    "start_time": "2022-02-14T07:12:52.202Z"
   },
   {
    "duration": 12,
    "start_time": "2022-02-14T07:12:52.267Z"
   },
   {
    "duration": 62,
    "start_time": "2022-02-14T07:12:52.282Z"
   },
   {
    "duration": 16,
    "start_time": "2022-02-14T07:12:52.346Z"
   },
   {
    "duration": 16,
    "start_time": "2022-02-14T07:12:52.364Z"
   },
   {
    "duration": 11,
    "start_time": "2022-02-14T07:12:52.383Z"
   },
   {
    "duration": 46,
    "start_time": "2022-02-14T07:12:52.398Z"
   },
   {
    "duration": 16,
    "start_time": "2022-02-14T07:12:52.447Z"
   },
   {
    "duration": 12,
    "start_time": "2022-02-14T07:12:52.465Z"
   },
   {
    "duration": 18,
    "start_time": "2022-02-14T07:12:52.479Z"
   },
   {
    "duration": 50,
    "start_time": "2022-02-14T07:12:52.500Z"
   },
   {
    "duration": 6,
    "start_time": "2022-02-14T07:12:52.553Z"
   },
   {
    "duration": 34,
    "start_time": "2022-02-14T07:12:52.561Z"
   },
   {
    "duration": 11,
    "start_time": "2022-02-14T07:12:52.597Z"
   },
   {
    "duration": 23,
    "start_time": "2022-02-14T07:12:52.610Z"
   },
   {
    "duration": 10,
    "start_time": "2022-02-14T07:12:52.635Z"
   },
   {
    "duration": 22,
    "start_time": "2022-02-14T07:12:52.648Z"
   },
   {
    "duration": 27,
    "start_time": "2022-02-14T07:12:52.672Z"
   },
   {
    "duration": 63,
    "start_time": "2022-02-14T07:12:52.701Z"
   },
   {
    "duration": 21,
    "start_time": "2022-02-14T07:12:52.767Z"
   },
   {
    "duration": 22,
    "start_time": "2022-02-14T07:12:52.790Z"
   },
   {
    "duration": 9,
    "start_time": "2022-02-14T07:12:52.834Z"
   },
   {
    "duration": 694,
    "start_time": "2022-02-14T07:12:52.847Z"
   },
   {
    "duration": 10,
    "start_time": "2022-02-14T07:12:53.544Z"
   },
   {
    "duration": 16,
    "start_time": "2022-02-14T07:12:53.557Z"
   },
   {
    "duration": 318,
    "start_time": "2022-02-14T07:12:53.575Z"
   },
   {
    "duration": 4,
    "start_time": "2022-02-14T07:12:53.895Z"
   },
   {
    "duration": 485,
    "start_time": "2022-02-14T07:12:53.902Z"
   },
   {
    "duration": 5,
    "start_time": "2022-02-14T07:12:54.390Z"
   },
   {
    "duration": 50,
    "start_time": "2022-02-14T07:12:54.398Z"
   },
   {
    "duration": 7,
    "start_time": "2022-02-14T07:12:54.451Z"
   },
   {
    "duration": 12,
    "start_time": "2022-02-14T07:12:54.461Z"
   },
   {
    "duration": 5,
    "start_time": "2022-02-14T07:12:54.475Z"
   },
   {
    "duration": 498,
    "start_time": "2022-02-14T07:12:54.482Z"
   },
   {
    "duration": 822,
    "start_time": "2022-02-14T07:12:54.983Z"
   },
   {
    "duration": 26,
    "start_time": "2022-02-14T07:12:55.807Z"
   },
   {
    "duration": 690,
    "start_time": "2022-02-14T07:12:55.835Z"
   },
   {
    "duration": 13,
    "start_time": "2022-02-14T07:12:56.527Z"
   },
   {
    "duration": 416,
    "start_time": "2022-02-14T07:12:56.542Z"
   },
   {
    "duration": 12,
    "start_time": "2022-02-14T07:12:56.961Z"
   },
   {
    "duration": 436,
    "start_time": "2022-02-14T07:12:56.976Z"
   },
   {
    "duration": 25,
    "start_time": "2022-02-14T07:12:57.414Z"
   },
   {
    "duration": 37,
    "start_time": "2022-02-14T07:12:57.441Z"
   },
   {
    "duration": 514,
    "start_time": "2022-02-14T07:12:57.480Z"
   },
   {
    "duration": 9,
    "start_time": "2022-02-14T07:12:57.997Z"
   },
   {
    "duration": 33,
    "start_time": "2022-02-14T07:12:58.009Z"
   },
   {
    "duration": 344,
    "start_time": "2022-02-14T07:12:58.045Z"
   },
   {
    "duration": 715,
    "start_time": "2022-02-14T07:12:58.392Z"
   },
   {
    "duration": 25,
    "start_time": "2022-02-14T07:12:59.109Z"
   },
   {
    "duration": 12,
    "start_time": "2022-02-14T07:12:59.137Z"
   },
   {
    "duration": 265,
    "start_time": "2022-02-14T07:12:59.151Z"
   },
   {
    "duration": 20,
    "start_time": "2022-02-14T07:12:59.418Z"
   },
   {
    "duration": 229,
    "start_time": "2022-02-14T07:12:59.440Z"
   },
   {
    "duration": 12,
    "start_time": "2022-02-14T07:12:59.671Z"
   },
   {
    "duration": 257,
    "start_time": "2022-02-14T07:12:59.685Z"
   },
   {
    "duration": 847,
    "start_time": "2022-02-14T07:12:59.944Z"
   },
   {
    "duration": 768,
    "start_time": "2022-02-14T07:13:00.793Z"
   },
   {
    "duration": 1491,
    "start_time": "2022-02-14T07:13:19.011Z"
   },
   {
    "duration": 64,
    "start_time": "2022-02-14T07:13:20.505Z"
   },
   {
    "duration": 14,
    "start_time": "2022-02-14T07:13:20.573Z"
   },
   {
    "duration": 64,
    "start_time": "2022-02-14T07:13:20.590Z"
   },
   {
    "duration": 16,
    "start_time": "2022-02-14T07:13:20.657Z"
   },
   {
    "duration": 27,
    "start_time": "2022-02-14T07:13:20.676Z"
   },
   {
    "duration": 43,
    "start_time": "2022-02-14T07:13:20.706Z"
   },
   {
    "duration": 24,
    "start_time": "2022-02-14T07:13:20.754Z"
   },
   {
    "duration": 13,
    "start_time": "2022-02-14T07:13:20.782Z"
   },
   {
    "duration": 36,
    "start_time": "2022-02-14T07:13:20.798Z"
   },
   {
    "duration": 10,
    "start_time": "2022-02-14T07:13:20.837Z"
   },
   {
    "duration": 53,
    "start_time": "2022-02-14T07:13:20.850Z"
   },
   {
    "duration": 29,
    "start_time": "2022-02-14T07:13:20.906Z"
   },
   {
    "duration": 34,
    "start_time": "2022-02-14T07:13:20.937Z"
   },
   {
    "duration": 13,
    "start_time": "2022-02-14T07:13:20.973Z"
   },
   {
    "duration": 15,
    "start_time": "2022-02-14T07:13:20.989Z"
   },
   {
    "duration": 28,
    "start_time": "2022-02-14T07:13:21.007Z"
   },
   {
    "duration": 20,
    "start_time": "2022-02-14T07:13:21.037Z"
   },
   {
    "duration": 19,
    "start_time": "2022-02-14T07:13:21.059Z"
   },
   {
    "duration": 58,
    "start_time": "2022-02-14T07:13:21.080Z"
   },
   {
    "duration": 15,
    "start_time": "2022-02-14T07:13:21.140Z"
   },
   {
    "duration": 21,
    "start_time": "2022-02-14T07:13:21.157Z"
   },
   {
    "duration": 14,
    "start_time": "2022-02-14T07:13:21.183Z"
   },
   {
    "duration": 464,
    "start_time": "2022-02-14T07:13:21.200Z"
   },
   {
    "duration": 10,
    "start_time": "2022-02-14T07:13:21.667Z"
   },
   {
    "duration": 26,
    "start_time": "2022-02-14T07:13:21.679Z"
   },
   {
    "duration": 304,
    "start_time": "2022-02-14T07:13:21.707Z"
   },
   {
    "duration": 4,
    "start_time": "2022-02-14T07:13:22.014Z"
   },
   {
    "duration": 472,
    "start_time": "2022-02-14T07:13:22.020Z"
   },
   {
    "duration": 3,
    "start_time": "2022-02-14T07:13:22.495Z"
   },
   {
    "duration": 44,
    "start_time": "2022-02-14T07:13:22.503Z"
   },
   {
    "duration": 8,
    "start_time": "2022-02-14T07:13:22.549Z"
   },
   {
    "duration": 27,
    "start_time": "2022-02-14T07:13:22.560Z"
   },
   {
    "duration": 20,
    "start_time": "2022-02-14T07:13:22.590Z"
   },
   {
    "duration": 494,
    "start_time": "2022-02-14T07:13:22.612Z"
   },
   {
    "duration": 894,
    "start_time": "2022-02-14T07:13:23.109Z"
   },
   {
    "duration": 27,
    "start_time": "2022-02-14T07:13:24.005Z"
   },
   {
    "duration": 489,
    "start_time": "2022-02-14T07:13:24.034Z"
   },
   {
    "duration": 12,
    "start_time": "2022-02-14T07:13:24.532Z"
   },
   {
    "duration": 390,
    "start_time": "2022-02-14T07:13:24.547Z"
   },
   {
    "duration": 12,
    "start_time": "2022-02-14T07:13:24.940Z"
   },
   {
    "duration": 413,
    "start_time": "2022-02-14T07:13:24.955Z"
   },
   {
    "duration": 18,
    "start_time": "2022-02-14T07:13:25.370Z"
   },
   {
    "duration": 41,
    "start_time": "2022-02-14T07:13:25.391Z"
   },
   {
    "duration": 522,
    "start_time": "2022-02-14T07:13:25.435Z"
   },
   {
    "duration": 13,
    "start_time": "2022-02-14T07:13:25.960Z"
   },
   {
    "duration": 21,
    "start_time": "2022-02-14T07:13:25.976Z"
   },
   {
    "duration": 350,
    "start_time": "2022-02-14T07:13:25.999Z"
   },
   {
    "duration": 697,
    "start_time": "2022-02-14T07:13:26.352Z"
   },
   {
    "duration": 13,
    "start_time": "2022-02-14T07:13:27.052Z"
   },
   {
    "duration": 13,
    "start_time": "2022-02-14T07:13:27.068Z"
   },
   {
    "duration": 335,
    "start_time": "2022-02-14T07:13:27.083Z"
   },
   {
    "duration": 24,
    "start_time": "2022-02-14T07:13:27.422Z"
   },
   {
    "duration": 233,
    "start_time": "2022-02-14T07:13:27.449Z"
   },
   {
    "duration": 11,
    "start_time": "2022-02-14T07:13:27.685Z"
   },
   {
    "duration": 246,
    "start_time": "2022-02-14T07:13:27.698Z"
   },
   {
    "duration": 853,
    "start_time": "2022-02-14T07:13:27.946Z"
   },
   {
    "duration": 750,
    "start_time": "2022-02-14T07:13:28.802Z"
   },
   {
    "duration": 1482,
    "start_time": "2022-02-14T07:13:44.716Z"
   },
   {
    "duration": 65,
    "start_time": "2022-02-14T07:13:46.201Z"
   },
   {
    "duration": 17,
    "start_time": "2022-02-14T07:13:46.273Z"
   },
   {
    "duration": 62,
    "start_time": "2022-02-14T07:13:46.293Z"
   },
   {
    "duration": 17,
    "start_time": "2022-02-14T07:13:46.358Z"
   },
   {
    "duration": 16,
    "start_time": "2022-02-14T07:13:46.378Z"
   },
   {
    "duration": 46,
    "start_time": "2022-02-14T07:13:46.397Z"
   },
   {
    "duration": 13,
    "start_time": "2022-02-14T07:13:46.447Z"
   },
   {
    "duration": 9,
    "start_time": "2022-02-14T07:13:46.464Z"
   },
   {
    "duration": 5,
    "start_time": "2022-02-14T07:13:46.476Z"
   },
   {
    "duration": 54,
    "start_time": "2022-02-14T07:13:46.483Z"
   },
   {
    "duration": 31,
    "start_time": "2022-02-14T07:13:46.540Z"
   },
   {
    "duration": 6,
    "start_time": "2022-02-14T07:13:46.573Z"
   },
   {
    "duration": 22,
    "start_time": "2022-02-14T07:13:46.581Z"
   },
   {
    "duration": 39,
    "start_time": "2022-02-14T07:13:46.606Z"
   },
   {
    "duration": 11,
    "start_time": "2022-02-14T07:13:46.648Z"
   },
   {
    "duration": 11,
    "start_time": "2022-02-14T07:13:46.662Z"
   },
   {
    "duration": 61,
    "start_time": "2022-02-14T07:13:46.676Z"
   },
   {
    "duration": 17,
    "start_time": "2022-02-14T07:13:46.741Z"
   },
   {
    "duration": 35,
    "start_time": "2022-02-14T07:13:46.761Z"
   },
   {
    "duration": 47,
    "start_time": "2022-02-14T07:13:46.798Z"
   },
   {
    "duration": 25,
    "start_time": "2022-02-14T07:13:46.847Z"
   },
   {
    "duration": 9,
    "start_time": "2022-02-14T07:13:46.878Z"
   },
   {
    "duration": 468,
    "start_time": "2022-02-14T07:13:46.890Z"
   },
   {
    "duration": 11,
    "start_time": "2022-02-14T07:13:47.360Z"
   },
   {
    "duration": 17,
    "start_time": "2022-02-14T07:13:47.373Z"
   },
   {
    "duration": 315,
    "start_time": "2022-02-14T07:13:47.393Z"
   },
   {
    "duration": 3,
    "start_time": "2022-02-14T07:13:47.711Z"
   },
   {
    "duration": 498,
    "start_time": "2022-02-14T07:13:47.717Z"
   },
   {
    "duration": 14,
    "start_time": "2022-02-14T07:13:48.218Z"
   },
   {
    "duration": 31,
    "start_time": "2022-02-14T07:13:48.235Z"
   },
   {
    "duration": 9,
    "start_time": "2022-02-14T07:13:48.268Z"
   },
   {
    "duration": 52,
    "start_time": "2022-02-14T07:13:48.280Z"
   },
   {
    "duration": 8,
    "start_time": "2022-02-14T07:13:48.335Z"
   },
   {
    "duration": 481,
    "start_time": "2022-02-14T07:13:48.346Z"
   },
   {
    "duration": 790,
    "start_time": "2022-02-14T07:13:48.832Z"
   },
   {
    "duration": 19,
    "start_time": "2022-02-14T07:13:49.624Z"
   },
   {
    "duration": 489,
    "start_time": "2022-02-14T07:13:49.645Z"
   },
   {
    "duration": 12,
    "start_time": "2022-02-14T07:13:50.137Z"
   },
   {
    "duration": 414,
    "start_time": "2022-02-14T07:13:50.151Z"
   },
   {
    "duration": 13,
    "start_time": "2022-02-14T07:13:50.568Z"
   },
   {
    "duration": 516,
    "start_time": "2022-02-14T07:13:50.584Z"
   },
   {
    "duration": 30,
    "start_time": "2022-02-14T07:13:51.102Z"
   },
   {
    "duration": 23,
    "start_time": "2022-02-14T07:13:51.134Z"
   },
   {
    "duration": 540,
    "start_time": "2022-02-14T07:13:51.160Z"
   },
   {
    "duration": 9,
    "start_time": "2022-02-14T07:13:51.702Z"
   },
   {
    "duration": 26,
    "start_time": "2022-02-14T07:13:51.714Z"
   },
   {
    "duration": 332,
    "start_time": "2022-02-14T07:13:51.742Z"
   },
   {
    "duration": 712,
    "start_time": "2022-02-14T07:13:52.076Z"
   },
   {
    "duration": 15,
    "start_time": "2022-02-14T07:13:52.791Z"
   },
   {
    "duration": 35,
    "start_time": "2022-02-14T07:13:52.809Z"
   },
   {
    "duration": 272,
    "start_time": "2022-02-14T07:13:52.847Z"
   },
   {
    "duration": 19,
    "start_time": "2022-02-14T07:13:53.123Z"
   },
   {
    "duration": 250,
    "start_time": "2022-02-14T07:13:53.145Z"
   },
   {
    "duration": 12,
    "start_time": "2022-02-14T07:13:53.398Z"
   },
   {
    "duration": 261,
    "start_time": "2022-02-14T07:13:53.413Z"
   },
   {
    "duration": 821,
    "start_time": "2022-02-14T07:13:53.677Z"
   },
   {
    "duration": 763,
    "start_time": "2022-02-14T07:13:54.500Z"
   },
   {
    "duration": 746,
    "start_time": "2022-02-14T07:14:43.639Z"
   },
   {
    "duration": 1161,
    "start_time": "2022-02-14T07:16:25.381Z"
   },
   {
    "duration": 1034,
    "start_time": "2022-02-14T07:16:51.478Z"
   },
   {
    "duration": 710,
    "start_time": "2022-02-14T07:18:38.190Z"
   },
   {
    "duration": 1490,
    "start_time": "2022-02-14T07:18:46.201Z"
   },
   {
    "duration": 62,
    "start_time": "2022-02-14T07:18:47.694Z"
   },
   {
    "duration": 14,
    "start_time": "2022-02-14T07:18:47.759Z"
   },
   {
    "duration": 59,
    "start_time": "2022-02-14T07:18:47.776Z"
   },
   {
    "duration": 17,
    "start_time": "2022-02-14T07:18:47.837Z"
   },
   {
    "duration": 15,
    "start_time": "2022-02-14T07:18:47.856Z"
   },
   {
    "duration": 13,
    "start_time": "2022-02-14T07:18:47.873Z"
   },
   {
    "duration": 50,
    "start_time": "2022-02-14T07:18:47.891Z"
   },
   {
    "duration": 11,
    "start_time": "2022-02-14T07:18:47.945Z"
   },
   {
    "duration": 7,
    "start_time": "2022-02-14T07:18:47.959Z"
   },
   {
    "duration": 9,
    "start_time": "2022-02-14T07:18:47.968Z"
   },
   {
    "duration": 79,
    "start_time": "2022-02-14T07:18:47.980Z"
   },
   {
    "duration": 6,
    "start_time": "2022-02-14T07:18:48.062Z"
   },
   {
    "duration": 31,
    "start_time": "2022-02-14T07:18:48.072Z"
   },
   {
    "duration": 31,
    "start_time": "2022-02-14T07:18:48.106Z"
   },
   {
    "duration": 10,
    "start_time": "2022-02-14T07:18:48.139Z"
   },
   {
    "duration": 11,
    "start_time": "2022-02-14T07:18:48.151Z"
   },
   {
    "duration": 17,
    "start_time": "2022-02-14T07:18:48.164Z"
   },
   {
    "duration": 50,
    "start_time": "2022-02-14T07:18:48.183Z"
   },
   {
    "duration": 37,
    "start_time": "2022-02-14T07:18:48.236Z"
   },
   {
    "duration": 17,
    "start_time": "2022-02-14T07:18:48.276Z"
   },
   {
    "duration": 43,
    "start_time": "2022-02-14T07:18:48.295Z"
   },
   {
    "duration": 9,
    "start_time": "2022-02-14T07:18:48.344Z"
   },
   {
    "duration": 469,
    "start_time": "2022-02-14T07:18:48.358Z"
   },
   {
    "duration": 12,
    "start_time": "2022-02-14T07:18:48.833Z"
   },
   {
    "duration": 24,
    "start_time": "2022-02-14T07:18:48.848Z"
   },
   {
    "duration": 332,
    "start_time": "2022-02-14T07:18:48.875Z"
   },
   {
    "duration": 4,
    "start_time": "2022-02-14T07:18:49.209Z"
   },
   {
    "duration": 481,
    "start_time": "2022-02-14T07:18:49.216Z"
   },
   {
    "duration": 4,
    "start_time": "2022-02-14T07:18:49.700Z"
   },
   {
    "duration": 47,
    "start_time": "2022-02-14T07:18:49.707Z"
   },
   {
    "duration": 8,
    "start_time": "2022-02-14T07:18:49.758Z"
   },
   {
    "duration": 13,
    "start_time": "2022-02-14T07:18:49.768Z"
   },
   {
    "duration": 6,
    "start_time": "2022-02-14T07:18:49.783Z"
   },
   {
    "duration": 508,
    "start_time": "2022-02-14T07:18:49.792Z"
   },
   {
    "duration": 854,
    "start_time": "2022-02-14T07:18:50.304Z"
   },
   {
    "duration": 13,
    "start_time": "2022-02-14T07:18:51.160Z"
   },
   {
    "duration": 532,
    "start_time": "2022-02-14T07:18:51.176Z"
   },
   {
    "duration": 23,
    "start_time": "2022-02-14T07:18:51.710Z"
   },
   {
    "duration": 428,
    "start_time": "2022-02-14T07:18:51.736Z"
   },
   {
    "duration": 13,
    "start_time": "2022-02-14T07:18:52.166Z"
   },
   {
    "duration": 443,
    "start_time": "2022-02-14T07:18:52.182Z"
   },
   {
    "duration": 19,
    "start_time": "2022-02-14T07:18:52.628Z"
   },
   {
    "duration": 18,
    "start_time": "2022-02-14T07:18:52.650Z"
   },
   {
    "duration": 542,
    "start_time": "2022-02-14T07:18:52.671Z"
   },
   {
    "duration": 19,
    "start_time": "2022-02-14T07:18:53.216Z"
   },
   {
    "duration": 16,
    "start_time": "2022-02-14T07:18:53.238Z"
   },
   {
    "duration": 623,
    "start_time": "2022-02-14T07:18:53.257Z"
   },
   {
    "duration": 739,
    "start_time": "2022-02-14T07:18:53.882Z"
   },
   {
    "duration": 18,
    "start_time": "2022-02-14T07:18:54.624Z"
   },
   {
    "duration": 12,
    "start_time": "2022-02-14T07:18:54.645Z"
   },
   {
    "duration": 277,
    "start_time": "2022-02-14T07:18:54.659Z"
   },
   {
    "duration": 12,
    "start_time": "2022-02-14T07:18:54.938Z"
   },
   {
    "duration": 310,
    "start_time": "2022-02-14T07:18:54.953Z"
   },
   {
    "duration": 13,
    "start_time": "2022-02-14T07:18:55.265Z"
   },
   {
    "duration": 267,
    "start_time": "2022-02-14T07:18:55.280Z"
   },
   {
    "duration": 846,
    "start_time": "2022-02-14T07:18:55.549Z"
   },
   {
    "duration": 787,
    "start_time": "2022-02-14T07:18:56.398Z"
   },
   {
    "duration": 1482,
    "start_time": "2022-02-14T07:21:08.014Z"
   },
   {
    "duration": 69,
    "start_time": "2022-02-14T07:21:09.499Z"
   },
   {
    "duration": 14,
    "start_time": "2022-02-14T07:21:09.571Z"
   },
   {
    "duration": 61,
    "start_time": "2022-02-14T07:21:09.587Z"
   },
   {
    "duration": 16,
    "start_time": "2022-02-14T07:21:09.650Z"
   },
   {
    "duration": 14,
    "start_time": "2022-02-14T07:21:09.669Z"
   },
   {
    "duration": 12,
    "start_time": "2022-02-14T07:21:09.686Z"
   },
   {
    "duration": 14,
    "start_time": "2022-02-14T07:21:09.734Z"
   },
   {
    "duration": 9,
    "start_time": "2022-02-14T07:21:09.752Z"
   },
   {
    "duration": 7,
    "start_time": "2022-02-14T07:21:09.763Z"
   },
   {
    "duration": 9,
    "start_time": "2022-02-14T07:21:09.772Z"
   },
   {
    "duration": 73,
    "start_time": "2022-02-14T07:21:09.784Z"
   },
   {
    "duration": 7,
    "start_time": "2022-02-14T07:21:09.859Z"
   },
   {
    "duration": 25,
    "start_time": "2022-02-14T07:21:09.868Z"
   },
   {
    "duration": 42,
    "start_time": "2022-02-14T07:21:09.896Z"
   },
   {
    "duration": 10,
    "start_time": "2022-02-14T07:21:09.940Z"
   },
   {
    "duration": 9,
    "start_time": "2022-02-14T07:21:09.952Z"
   },
   {
    "duration": 15,
    "start_time": "2022-02-14T07:21:09.963Z"
   },
   {
    "duration": 54,
    "start_time": "2022-02-14T07:21:09.980Z"
   },
   {
    "duration": 37,
    "start_time": "2022-02-14T07:21:10.036Z"
   },
   {
    "duration": 15,
    "start_time": "2022-02-14T07:21:10.076Z"
   },
   {
    "duration": 50,
    "start_time": "2022-02-14T07:21:10.093Z"
   },
   {
    "duration": 8,
    "start_time": "2022-02-14T07:21:10.149Z"
   },
   {
    "duration": 466,
    "start_time": "2022-02-14T07:21:10.161Z"
   },
   {
    "duration": 10,
    "start_time": "2022-02-14T07:21:10.633Z"
   },
   {
    "duration": 18,
    "start_time": "2022-02-14T07:21:10.645Z"
   },
   {
    "duration": 302,
    "start_time": "2022-02-14T07:21:10.665Z"
   },
   {
    "duration": 3,
    "start_time": "2022-02-14T07:21:10.969Z"
   },
   {
    "duration": 463,
    "start_time": "2022-02-14T07:21:10.974Z"
   },
   {
    "duration": 3,
    "start_time": "2022-02-14T07:21:11.440Z"
   },
   {
    "duration": 32,
    "start_time": "2022-02-14T07:21:11.445Z"
   },
   {
    "duration": 11,
    "start_time": "2022-02-14T07:21:11.481Z"
   },
   {
    "duration": 38,
    "start_time": "2022-02-14T07:21:11.494Z"
   },
   {
    "duration": 6,
    "start_time": "2022-02-14T07:21:11.534Z"
   },
   {
    "duration": 483,
    "start_time": "2022-02-14T07:21:11.543Z"
   },
   {
    "duration": 833,
    "start_time": "2022-02-14T07:21:12.028Z"
   },
   {
    "duration": 14,
    "start_time": "2022-02-14T07:21:12.863Z"
   },
   {
    "duration": 491,
    "start_time": "2022-02-14T07:21:12.879Z"
   },
   {
    "duration": 13,
    "start_time": "2022-02-14T07:21:13.372Z"
   },
   {
    "duration": 420,
    "start_time": "2022-02-14T07:21:13.387Z"
   },
   {
    "duration": 12,
    "start_time": "2022-02-14T07:21:13.810Z"
   },
   {
    "duration": 431,
    "start_time": "2022-02-14T07:21:13.824Z"
   },
   {
    "duration": 19,
    "start_time": "2022-02-14T07:21:14.257Z"
   },
   {
    "duration": 22,
    "start_time": "2022-02-14T07:21:14.278Z"
   },
   {
    "duration": 530,
    "start_time": "2022-02-14T07:21:14.302Z"
   },
   {
    "duration": 10,
    "start_time": "2022-02-14T07:21:14.835Z"
   },
   {
    "duration": 15,
    "start_time": "2022-02-14T07:21:14.848Z"
   },
   {
    "duration": 361,
    "start_time": "2022-02-14T07:21:14.865Z"
   },
   {
    "duration": 718,
    "start_time": "2022-02-14T07:21:15.233Z"
   },
   {
    "duration": 12,
    "start_time": "2022-02-14T07:21:15.954Z"
   },
   {
    "duration": 414,
    "start_time": "2022-02-14T07:21:15.968Z"
   },
   {
    "duration": 1461,
    "start_time": "2022-02-14T07:21:14.924Z"
   },
   {
    "duration": 1459,
    "start_time": "2022-02-14T07:21:14.927Z"
   },
   {
    "duration": 1458,
    "start_time": "2022-02-14T07:21:14.930Z"
   },
   {
    "duration": 1457,
    "start_time": "2022-02-14T07:21:14.933Z"
   },
   {
    "duration": 1456,
    "start_time": "2022-02-14T07:21:14.935Z"
   },
   {
    "duration": 1455,
    "start_time": "2022-02-14T07:21:14.938Z"
   },
   {
    "duration": 1446,
    "start_time": "2022-02-14T07:21:14.948Z"
   },
   {
    "duration": 1445,
    "start_time": "2022-02-14T07:22:05.169Z"
   },
   {
    "duration": 61,
    "start_time": "2022-02-14T07:22:06.616Z"
   },
   {
    "duration": 13,
    "start_time": "2022-02-14T07:22:06.680Z"
   },
   {
    "duration": 63,
    "start_time": "2022-02-14T07:22:06.696Z"
   },
   {
    "duration": 15,
    "start_time": "2022-02-14T07:22:06.762Z"
   },
   {
    "duration": 19,
    "start_time": "2022-02-14T07:22:06.779Z"
   },
   {
    "duration": 37,
    "start_time": "2022-02-14T07:22:06.800Z"
   },
   {
    "duration": 14,
    "start_time": "2022-02-14T07:22:06.841Z"
   },
   {
    "duration": 10,
    "start_time": "2022-02-14T07:22:06.857Z"
   },
   {
    "duration": 6,
    "start_time": "2022-02-14T07:22:06.869Z"
   },
   {
    "duration": 12,
    "start_time": "2022-02-14T07:22:06.877Z"
   },
   {
    "duration": 65,
    "start_time": "2022-02-14T07:22:06.892Z"
   },
   {
    "duration": 5,
    "start_time": "2022-02-14T07:22:06.959Z"
   },
   {
    "duration": 31,
    "start_time": "2022-02-14T07:22:06.967Z"
   },
   {
    "duration": 31,
    "start_time": "2022-02-14T07:22:07.001Z"
   },
   {
    "duration": 9,
    "start_time": "2022-02-14T07:22:07.035Z"
   },
   {
    "duration": 9,
    "start_time": "2022-02-14T07:22:07.046Z"
   },
   {
    "duration": 17,
    "start_time": "2022-02-14T07:22:07.057Z"
   },
   {
    "duration": 56,
    "start_time": "2022-02-14T07:22:07.076Z"
   },
   {
    "duration": 36,
    "start_time": "2022-02-14T07:22:07.135Z"
   },
   {
    "duration": 15,
    "start_time": "2022-02-14T07:22:07.174Z"
   },
   {
    "duration": 46,
    "start_time": "2022-02-14T07:22:07.192Z"
   },
   {
    "duration": 9,
    "start_time": "2022-02-14T07:22:07.244Z"
   },
   {
    "duration": 483,
    "start_time": "2022-02-14T07:22:07.256Z"
   },
   {
    "duration": 12,
    "start_time": "2022-02-14T07:22:07.741Z"
   },
   {
    "duration": 17,
    "start_time": "2022-02-14T07:22:07.756Z"
   },
   {
    "duration": 332,
    "start_time": "2022-02-14T07:22:07.775Z"
   },
   {
    "duration": 3,
    "start_time": "2022-02-14T07:22:08.110Z"
   },
   {
    "duration": 454,
    "start_time": "2022-02-14T07:22:08.115Z"
   },
   {
    "duration": 3,
    "start_time": "2022-02-14T07:22:08.572Z"
   },
   {
    "duration": 57,
    "start_time": "2022-02-14T07:22:08.579Z"
   },
   {
    "duration": 10,
    "start_time": "2022-02-14T07:22:08.639Z"
   },
   {
    "duration": 22,
    "start_time": "2022-02-14T07:22:08.652Z"
   },
   {
    "duration": 6,
    "start_time": "2022-02-14T07:22:08.677Z"
   },
   {
    "duration": 487,
    "start_time": "2022-02-14T07:22:08.686Z"
   },
   {
    "duration": 800,
    "start_time": "2022-02-14T07:22:09.176Z"
   },
   {
    "duration": 14,
    "start_time": "2022-02-14T07:22:09.980Z"
   },
   {
    "duration": 500,
    "start_time": "2022-02-14T07:22:09.997Z"
   },
   {
    "duration": 12,
    "start_time": "2022-02-14T07:22:10.500Z"
   },
   {
    "duration": 399,
    "start_time": "2022-02-14T07:22:10.533Z"
   },
   {
    "duration": 13,
    "start_time": "2022-02-14T07:22:10.934Z"
   },
   {
    "duration": 412,
    "start_time": "2022-02-14T07:22:10.950Z"
   },
   {
    "duration": 19,
    "start_time": "2022-02-14T07:22:11.365Z"
   },
   {
    "duration": 29,
    "start_time": "2022-02-14T07:22:11.387Z"
   },
   {
    "duration": 507,
    "start_time": "2022-02-14T07:22:11.433Z"
   },
   {
    "duration": 10,
    "start_time": "2022-02-14T07:22:11.943Z"
   },
   {
    "duration": 22,
    "start_time": "2022-02-14T07:22:11.955Z"
   },
   {
    "duration": 347,
    "start_time": "2022-02-14T07:22:11.980Z"
   },
   {
    "duration": 715,
    "start_time": "2022-02-14T07:22:12.332Z"
   },
   {
    "duration": 13,
    "start_time": "2022-02-14T07:22:13.051Z"
   },
   {
    "duration": 20,
    "start_time": "2022-02-14T07:22:13.067Z"
   },
   {
    "duration": 284,
    "start_time": "2022-02-14T07:22:13.089Z"
   },
   {
    "duration": 18,
    "start_time": "2022-02-14T07:22:13.376Z"
   },
   {
    "duration": 239,
    "start_time": "2022-02-14T07:22:13.397Z"
   },
   {
    "duration": 19,
    "start_time": "2022-02-14T07:22:13.638Z"
   },
   {
    "duration": 259,
    "start_time": "2022-02-14T07:22:13.659Z"
   },
   {
    "duration": 1302,
    "start_time": "2022-02-14T07:22:13.921Z"
   },
   {
    "duration": 752,
    "start_time": "2022-02-14T07:22:15.225Z"
   },
   {
    "duration": 750,
    "start_time": "2022-02-14T07:22:32.542Z"
   },
   {
    "duration": 1486,
    "start_time": "2022-02-14T11:13:47.224Z"
   },
   {
    "duration": 63,
    "start_time": "2022-02-14T11:13:48.713Z"
   },
   {
    "duration": 15,
    "start_time": "2022-02-14T11:13:48.779Z"
   },
   {
    "duration": 67,
    "start_time": "2022-02-14T11:13:48.798Z"
   },
   {
    "duration": 16,
    "start_time": "2022-02-14T11:13:48.868Z"
   },
   {
    "duration": 18,
    "start_time": "2022-02-14T11:13:48.887Z"
   },
   {
    "duration": 35,
    "start_time": "2022-02-14T11:13:48.908Z"
   },
   {
    "duration": 33,
    "start_time": "2022-02-14T11:13:48.947Z"
   },
   {
    "duration": 17,
    "start_time": "2022-02-14T11:13:48.985Z"
   },
   {
    "duration": 13,
    "start_time": "2022-02-14T11:13:49.005Z"
   },
   {
    "duration": 12,
    "start_time": "2022-02-14T11:13:49.032Z"
   },
   {
    "duration": 46,
    "start_time": "2022-02-14T11:13:49.048Z"
   },
   {
    "duration": 6,
    "start_time": "2022-02-14T11:13:49.097Z"
   },
   {
    "duration": 43,
    "start_time": "2022-02-14T11:13:49.105Z"
   },
   {
    "duration": 15,
    "start_time": "2022-02-14T11:13:49.151Z"
   },
   {
    "duration": 30,
    "start_time": "2022-02-14T11:13:49.168Z"
   },
   {
    "duration": 18,
    "start_time": "2022-02-14T11:13:49.200Z"
   },
   {
    "duration": 33,
    "start_time": "2022-02-14T11:13:49.220Z"
   },
   {
    "duration": 25,
    "start_time": "2022-02-14T11:13:49.256Z"
   },
   {
    "duration": 41,
    "start_time": "2022-02-14T11:13:49.286Z"
   },
   {
    "duration": 16,
    "start_time": "2022-02-14T11:13:49.330Z"
   },
   {
    "duration": 28,
    "start_time": "2022-02-14T11:13:49.348Z"
   },
   {
    "duration": 10,
    "start_time": "2022-02-14T11:13:49.383Z"
   },
   {
    "duration": 498,
    "start_time": "2022-02-14T11:13:49.396Z"
   },
   {
    "duration": 10,
    "start_time": "2022-02-14T11:13:49.897Z"
   },
   {
    "duration": 33,
    "start_time": "2022-02-14T11:13:49.909Z"
   },
   {
    "duration": 309,
    "start_time": "2022-02-14T11:13:49.945Z"
   },
   {
    "duration": 4,
    "start_time": "2022-02-14T11:13:50.256Z"
   },
   {
    "duration": 471,
    "start_time": "2022-02-14T11:13:50.262Z"
   },
   {
    "duration": 3,
    "start_time": "2022-02-14T11:13:50.735Z"
   },
   {
    "duration": 29,
    "start_time": "2022-02-14T11:13:50.741Z"
   },
   {
    "duration": 8,
    "start_time": "2022-02-14T11:13:50.773Z"
   },
   {
    "duration": 29,
    "start_time": "2022-02-14T11:13:50.783Z"
   },
   {
    "duration": 23,
    "start_time": "2022-02-14T11:13:50.814Z"
   },
   {
    "duration": 478,
    "start_time": "2022-02-14T11:13:50.839Z"
   },
   {
    "duration": 807,
    "start_time": "2022-02-14T11:13:51.319Z"
   },
   {
    "duration": 15,
    "start_time": "2022-02-14T11:13:52.128Z"
   },
   {
    "duration": 486,
    "start_time": "2022-02-14T11:13:52.146Z"
   },
   {
    "duration": 13,
    "start_time": "2022-02-14T11:13:52.635Z"
   },
   {
    "duration": 404,
    "start_time": "2022-02-14T11:13:52.651Z"
   },
   {
    "duration": 14,
    "start_time": "2022-02-14T11:13:53.058Z"
   },
   {
    "duration": 495,
    "start_time": "2022-02-14T11:13:53.074Z"
   },
   {
    "duration": 19,
    "start_time": "2022-02-14T11:13:53.571Z"
   },
   {
    "duration": 40,
    "start_time": "2022-02-14T11:13:53.592Z"
   },
   {
    "duration": 572,
    "start_time": "2022-02-14T11:13:53.635Z"
   },
   {
    "duration": 10,
    "start_time": "2022-02-14T11:13:54.210Z"
   },
   {
    "duration": 14,
    "start_time": "2022-02-14T11:13:54.233Z"
   },
   {
    "duration": 355,
    "start_time": "2022-02-14T11:13:54.249Z"
   },
   {
    "duration": 730,
    "start_time": "2022-02-14T11:13:54.607Z"
   },
   {
    "duration": 12,
    "start_time": "2022-02-14T11:13:55.340Z"
   },
   {
    "duration": 22,
    "start_time": "2022-02-14T11:13:55.355Z"
   },
   {
    "duration": 281,
    "start_time": "2022-02-14T11:13:55.379Z"
   },
   {
    "duration": 19,
    "start_time": "2022-02-14T11:13:55.662Z"
   },
   {
    "duration": 251,
    "start_time": "2022-02-14T11:13:55.684Z"
   },
   {
    "duration": 20,
    "start_time": "2022-02-14T11:13:55.938Z"
   },
   {
    "duration": 263,
    "start_time": "2022-02-14T11:13:55.961Z"
   },
   {
    "duration": 873,
    "start_time": "2022-02-14T11:13:56.226Z"
   },
   {
    "duration": 813,
    "start_time": "2022-02-14T11:13:57.101Z"
   },
   {
    "duration": 336,
    "start_time": "2022-02-14T11:22:49.287Z"
   },
   {
    "duration": 376,
    "start_time": "2022-02-14T11:24:38.749Z"
   },
   {
    "duration": 256,
    "start_time": "2022-02-14T11:25:05.935Z"
   },
   {
    "duration": 272,
    "start_time": "2022-02-14T11:25:16.598Z"
   },
   {
    "duration": 768,
    "start_time": "2022-02-14T11:26:03.628Z"
   },
   {
    "duration": 939,
    "start_time": "2022-02-14T11:28:22.017Z"
   },
   {
    "duration": 979,
    "start_time": "2022-02-14T11:28:42.043Z"
   },
   {
    "duration": 1475,
    "start_time": "2022-02-14T11:28:56.922Z"
   },
   {
    "duration": 63,
    "start_time": "2022-02-14T11:28:58.400Z"
   },
   {
    "duration": 14,
    "start_time": "2022-02-14T11:28:58.465Z"
   },
   {
    "duration": 55,
    "start_time": "2022-02-14T11:28:58.481Z"
   },
   {
    "duration": 16,
    "start_time": "2022-02-14T11:28:58.538Z"
   },
   {
    "duration": 16,
    "start_time": "2022-02-14T11:28:58.556Z"
   },
   {
    "duration": 11,
    "start_time": "2022-02-14T11:28:58.574Z"
   },
   {
    "duration": 50,
    "start_time": "2022-02-14T11:28:58.589Z"
   },
   {
    "duration": 10,
    "start_time": "2022-02-14T11:28:58.641Z"
   },
   {
    "duration": 6,
    "start_time": "2022-02-14T11:28:58.653Z"
   },
   {
    "duration": 9,
    "start_time": "2022-02-14T11:28:58.662Z"
   },
   {
    "duration": 69,
    "start_time": "2022-02-14T11:28:58.674Z"
   },
   {
    "duration": 5,
    "start_time": "2022-02-14T11:28:58.745Z"
   },
   {
    "duration": 26,
    "start_time": "2022-02-14T11:28:58.753Z"
   },
   {
    "duration": 13,
    "start_time": "2022-02-14T11:28:58.781Z"
   },
   {
    "duration": 39,
    "start_time": "2022-02-14T11:28:58.797Z"
   },
   {
    "duration": 9,
    "start_time": "2022-02-14T11:28:58.839Z"
   },
   {
    "duration": 14,
    "start_time": "2022-02-14T11:28:58.851Z"
   },
   {
    "duration": 16,
    "start_time": "2022-02-14T11:28:58.867Z"
   },
   {
    "duration": 83,
    "start_time": "2022-02-14T11:28:58.885Z"
   },
   {
    "duration": 15,
    "start_time": "2022-02-14T11:28:58.971Z"
   },
   {
    "duration": 45,
    "start_time": "2022-02-14T11:28:58.988Z"
   },
   {
    "duration": 9,
    "start_time": "2022-02-14T11:28:59.039Z"
   },
   {
    "duration": 405,
    "start_time": "2022-02-14T11:28:59.052Z"
   },
   {
    "duration": -100,
    "start_time": "2022-02-14T11:28:59.560Z"
   },
   {
    "duration": -106,
    "start_time": "2022-02-14T11:28:59.567Z"
   },
   {
    "duration": -107,
    "start_time": "2022-02-14T11:28:59.570Z"
   },
   {
    "duration": -111,
    "start_time": "2022-02-14T11:28:59.575Z"
   },
   {
    "duration": -114,
    "start_time": "2022-02-14T11:28:59.579Z"
   },
   {
    "duration": -117,
    "start_time": "2022-02-14T11:28:59.584Z"
   },
   {
    "duration": -131,
    "start_time": "2022-02-14T11:28:59.599Z"
   },
   {
    "duration": -139,
    "start_time": "2022-02-14T11:28:59.608Z"
   },
   {
    "duration": -146,
    "start_time": "2022-02-14T11:28:59.616Z"
   },
   {
    "duration": -152,
    "start_time": "2022-02-14T11:28:59.624Z"
   },
   {
    "duration": -155,
    "start_time": "2022-02-14T11:28:59.628Z"
   },
   {
    "duration": -158,
    "start_time": "2022-02-14T11:28:59.632Z"
   },
   {
    "duration": -161,
    "start_time": "2022-02-14T11:28:59.637Z"
   },
   {
    "duration": -164,
    "start_time": "2022-02-14T11:28:59.641Z"
   },
   {
    "duration": -167,
    "start_time": "2022-02-14T11:28:59.645Z"
   },
   {
    "duration": -170,
    "start_time": "2022-02-14T11:28:59.650Z"
   },
   {
    "duration": -173,
    "start_time": "2022-02-14T11:28:59.654Z"
   },
   {
    "duration": -176,
    "start_time": "2022-02-14T11:28:59.658Z"
   },
   {
    "duration": -184,
    "start_time": "2022-02-14T11:28:59.668Z"
   },
   {
    "duration": -187,
    "start_time": "2022-02-14T11:28:59.672Z"
   },
   {
    "duration": -190,
    "start_time": "2022-02-14T11:28:59.676Z"
   },
   {
    "duration": -193,
    "start_time": "2022-02-14T11:28:59.681Z"
   },
   {
    "duration": -197,
    "start_time": "2022-02-14T11:28:59.686Z"
   },
   {
    "duration": -200,
    "start_time": "2022-02-14T11:28:59.690Z"
   },
   {
    "duration": -201,
    "start_time": "2022-02-14T11:28:59.693Z"
   },
   {
    "duration": -205,
    "start_time": "2022-02-14T11:28:59.698Z"
   },
   {
    "duration": -208,
    "start_time": "2022-02-14T11:28:59.702Z"
   },
   {
    "duration": -210,
    "start_time": "2022-02-14T11:28:59.706Z"
   },
   {
    "duration": -213,
    "start_time": "2022-02-14T11:28:59.710Z"
   },
   {
    "duration": -218,
    "start_time": "2022-02-14T11:28:59.715Z"
   },
   {
    "duration": -220,
    "start_time": "2022-02-14T11:28:59.718Z"
   },
   {
    "duration": -189,
    "start_time": "2022-02-14T11:28:59.721Z"
   },
   {
    "duration": -192,
    "start_time": "2022-02-14T11:28:59.725Z"
   },
   {
    "duration": -195,
    "start_time": "2022-02-14T11:28:59.729Z"
   },
   {
    "duration": 448,
    "start_time": "2022-02-14T11:29:19.861Z"
   },
   {
    "duration": 11,
    "start_time": "2022-02-14T11:29:23.958Z"
   },
   {
    "duration": 16,
    "start_time": "2022-02-14T11:29:25.416Z"
   },
   {
    "duration": 311,
    "start_time": "2022-02-14T11:29:33.350Z"
   },
   {
    "duration": 1460,
    "start_time": "2022-02-14T11:31:51.850Z"
   },
   {
    "duration": 65,
    "start_time": "2022-02-14T11:31:53.313Z"
   },
   {
    "duration": 16,
    "start_time": "2022-02-14T11:31:53.383Z"
   },
   {
    "duration": 67,
    "start_time": "2022-02-14T11:31:53.403Z"
   },
   {
    "duration": 17,
    "start_time": "2022-02-14T11:31:53.473Z"
   },
   {
    "duration": 50,
    "start_time": "2022-02-14T11:31:53.493Z"
   },
   {
    "duration": 15,
    "start_time": "2022-02-14T11:31:53.546Z"
   },
   {
    "duration": 15,
    "start_time": "2022-02-14T11:31:53.566Z"
   },
   {
    "duration": 52,
    "start_time": "2022-02-14T11:31:53.585Z"
   },
   {
    "duration": 7,
    "start_time": "2022-02-14T11:31:53.639Z"
   },
   {
    "duration": 13,
    "start_time": "2022-02-14T11:31:53.648Z"
   },
   {
    "duration": 32,
    "start_time": "2022-02-14T11:31:53.663Z"
   },
   {
    "duration": 39,
    "start_time": "2022-02-14T11:31:53.698Z"
   },
   {
    "duration": 27,
    "start_time": "2022-02-14T11:31:53.739Z"
   },
   {
    "duration": 12,
    "start_time": "2022-02-14T11:31:53.769Z"
   },
   {
    "duration": 9,
    "start_time": "2022-02-14T11:31:53.783Z"
   },
   {
    "duration": 43,
    "start_time": "2022-02-14T11:31:53.794Z"
   },
   {
    "duration": 16,
    "start_time": "2022-02-14T11:31:53.839Z"
   },
   {
    "duration": 18,
    "start_time": "2022-02-14T11:31:53.857Z"
   },
   {
    "duration": 70,
    "start_time": "2022-02-14T11:31:53.877Z"
   },
   {
    "duration": 16,
    "start_time": "2022-02-14T11:31:53.950Z"
   },
   {
    "duration": 27,
    "start_time": "2022-02-14T11:31:53.969Z"
   },
   {
    "duration": 31,
    "start_time": "2022-02-14T11:31:54.005Z"
   },
   {
    "duration": 474,
    "start_time": "2022-02-14T11:31:54.040Z"
   },
   {
    "duration": 21,
    "start_time": "2022-02-14T11:31:54.517Z"
   },
   {
    "duration": 18,
    "start_time": "2022-02-14T11:31:54.540Z"
   },
   {
    "duration": 330,
    "start_time": "2022-02-14T11:31:54.561Z"
   },
   {
    "duration": 3,
    "start_time": "2022-02-14T11:31:54.894Z"
   },
   {
    "duration": 480,
    "start_time": "2022-02-14T11:31:54.899Z"
   },
   {
    "duration": 3,
    "start_time": "2022-02-14T11:31:55.381Z"
   },
   {
    "duration": 47,
    "start_time": "2022-02-14T11:31:55.387Z"
   },
   {
    "duration": 7,
    "start_time": "2022-02-14T11:31:55.436Z"
   },
   {
    "duration": 210,
    "start_time": "2022-02-14T11:31:55.445Z"
   },
   {
    "duration": 6,
    "start_time": "2022-02-14T11:31:55.658Z"
   },
   {
    "duration": 470,
    "start_time": "2022-02-14T11:31:55.666Z"
   },
   {
    "duration": 823,
    "start_time": "2022-02-14T11:31:56.138Z"
   },
   {
    "duration": 13,
    "start_time": "2022-02-14T11:31:56.964Z"
   },
   {
    "duration": 526,
    "start_time": "2022-02-14T11:31:56.980Z"
   },
   {
    "duration": 24,
    "start_time": "2022-02-14T11:31:57.509Z"
   },
   {
    "duration": 402,
    "start_time": "2022-02-14T11:31:57.535Z"
   },
   {
    "duration": 13,
    "start_time": "2022-02-14T11:31:57.939Z"
   },
   {
    "duration": 424,
    "start_time": "2022-02-14T11:31:57.954Z"
   },
   {
    "duration": 20,
    "start_time": "2022-02-14T11:31:58.380Z"
   },
   {
    "duration": 42,
    "start_time": "2022-02-14T11:31:58.402Z"
   },
   {
    "duration": 559,
    "start_time": "2022-02-14T11:31:58.446Z"
   },
   {
    "duration": 24,
    "start_time": "2022-02-14T11:31:59.008Z"
   },
   {
    "duration": 16,
    "start_time": "2022-02-14T11:31:59.034Z"
   },
   {
    "duration": 345,
    "start_time": "2022-02-14T11:31:59.053Z"
   },
   {
    "duration": 727,
    "start_time": "2022-02-14T11:31:59.400Z"
   },
   {
    "duration": 14,
    "start_time": "2022-02-14T11:32:00.129Z"
   },
   {
    "duration": 38,
    "start_time": "2022-02-14T11:32:00.145Z"
   },
   {
    "duration": 492,
    "start_time": "2022-02-14T11:32:00.185Z"
   },
   {
    "duration": -103,
    "start_time": "2022-02-14T11:32:00.783Z"
   },
   {
    "duration": -104,
    "start_time": "2022-02-14T11:32:00.786Z"
   },
   {
    "duration": -107,
    "start_time": "2022-02-14T11:32:00.790Z"
   },
   {
    "duration": -108,
    "start_time": "2022-02-14T11:32:00.793Z"
   },
   {
    "duration": -109,
    "start_time": "2022-02-14T11:32:00.796Z"
   },
   {
    "duration": -111,
    "start_time": "2022-02-14T11:32:00.800Z"
   },
   {
    "duration": 1520,
    "start_time": "2022-02-14T11:32:29.098Z"
   },
   {
    "duration": 59,
    "start_time": "2022-02-14T11:32:30.621Z"
   },
   {
    "duration": 14,
    "start_time": "2022-02-14T11:32:30.683Z"
   },
   {
    "duration": 66,
    "start_time": "2022-02-14T11:32:30.699Z"
   },
   {
    "duration": 17,
    "start_time": "2022-02-14T11:32:30.768Z"
   },
   {
    "duration": 16,
    "start_time": "2022-02-14T11:32:30.788Z"
   },
   {
    "duration": 38,
    "start_time": "2022-02-14T11:32:30.806Z"
   },
   {
    "duration": 15,
    "start_time": "2022-02-14T11:32:30.848Z"
   },
   {
    "duration": 9,
    "start_time": "2022-02-14T11:32:30.866Z"
   },
   {
    "duration": 18,
    "start_time": "2022-02-14T11:32:30.877Z"
   },
   {
    "duration": 36,
    "start_time": "2022-02-14T11:32:30.898Z"
   },
   {
    "duration": 64,
    "start_time": "2022-02-14T11:32:30.937Z"
   },
   {
    "duration": 6,
    "start_time": "2022-02-14T11:32:31.003Z"
   },
   {
    "duration": 34,
    "start_time": "2022-02-14T11:32:31.011Z"
   },
   {
    "duration": 17,
    "start_time": "2022-02-14T11:32:31.047Z"
   },
   {
    "duration": 23,
    "start_time": "2022-02-14T11:32:31.067Z"
   },
   {
    "duration": 19,
    "start_time": "2022-02-14T11:32:31.092Z"
   },
   {
    "duration": 27,
    "start_time": "2022-02-14T11:32:31.113Z"
   },
   {
    "duration": 22,
    "start_time": "2022-02-14T11:32:31.144Z"
   },
   {
    "duration": 37,
    "start_time": "2022-02-14T11:32:31.168Z"
   },
   {
    "duration": 31,
    "start_time": "2022-02-14T11:32:31.208Z"
   },
   {
    "duration": 33,
    "start_time": "2022-02-14T11:32:31.241Z"
   },
   {
    "duration": 12,
    "start_time": "2022-02-14T11:32:31.280Z"
   },
   {
    "duration": 464,
    "start_time": "2022-02-14T11:32:31.295Z"
   },
   {
    "duration": 11,
    "start_time": "2022-02-14T11:32:31.761Z"
   },
   {
    "duration": 21,
    "start_time": "2022-02-14T11:32:31.774Z"
   },
   {
    "duration": 309,
    "start_time": "2022-02-14T11:32:31.797Z"
   },
   {
    "duration": 4,
    "start_time": "2022-02-14T11:32:32.108Z"
   },
   {
    "duration": 474,
    "start_time": "2022-02-14T11:32:32.114Z"
   },
   {
    "duration": 3,
    "start_time": "2022-02-14T11:32:32.590Z"
   },
   {
    "duration": 47,
    "start_time": "2022-02-14T11:32:32.596Z"
   },
   {
    "duration": 11,
    "start_time": "2022-02-14T11:32:32.646Z"
   },
   {
    "duration": 10,
    "start_time": "2022-02-14T11:32:32.660Z"
   },
   {
    "duration": 6,
    "start_time": "2022-02-14T11:32:32.672Z"
   },
   {
    "duration": 493,
    "start_time": "2022-02-14T11:32:32.680Z"
   },
   {
    "duration": 801,
    "start_time": "2022-02-14T11:32:33.175Z"
   },
   {
    "duration": 13,
    "start_time": "2022-02-14T11:32:33.979Z"
   },
   {
    "duration": 484,
    "start_time": "2022-02-14T11:32:33.995Z"
   },
   {
    "duration": 12,
    "start_time": "2022-02-14T11:32:34.482Z"
   },
   {
    "duration": 406,
    "start_time": "2022-02-14T11:32:34.496Z"
   },
   {
    "duration": 13,
    "start_time": "2022-02-14T11:32:34.904Z"
   },
   {
    "duration": 416,
    "start_time": "2022-02-14T11:32:34.919Z"
   },
   {
    "duration": 19,
    "start_time": "2022-02-14T11:32:35.337Z"
   },
   {
    "duration": 28,
    "start_time": "2022-02-14T11:32:35.359Z"
   },
   {
    "duration": 512,
    "start_time": "2022-02-14T11:32:35.390Z"
   },
   {
    "duration": 9,
    "start_time": "2022-02-14T11:32:35.905Z"
   },
   {
    "duration": 24,
    "start_time": "2022-02-14T11:32:35.916Z"
   },
   {
    "duration": 342,
    "start_time": "2022-02-14T11:32:35.943Z"
   },
   {
    "duration": 698,
    "start_time": "2022-02-14T11:32:36.288Z"
   },
   {
    "duration": 13,
    "start_time": "2022-02-14T11:32:36.989Z"
   },
   {
    "duration": 42,
    "start_time": "2022-02-14T11:32:37.005Z"
   },
   {
    "duration": 263,
    "start_time": "2022-02-14T11:32:37.050Z"
   },
   {
    "duration": 28,
    "start_time": "2022-02-14T11:32:37.315Z"
   },
   {
    "duration": 234,
    "start_time": "2022-02-14T11:32:37.345Z"
   },
   {
    "duration": 19,
    "start_time": "2022-02-14T11:32:37.581Z"
   },
   {
    "duration": 271,
    "start_time": "2022-02-14T11:32:37.603Z"
   },
   {
    "duration": 573,
    "start_time": "2022-02-14T11:32:37.877Z"
   },
   {
    "duration": 744,
    "start_time": "2022-02-14T11:32:38.453Z"
   },
   {
    "duration": 743,
    "start_time": "2022-02-14T11:33:05.041Z"
   },
   {
    "duration": 1486,
    "start_time": "2022-02-14T11:54:59.194Z"
   },
   {
    "duration": 63,
    "start_time": "2022-02-14T11:55:00.683Z"
   },
   {
    "duration": 14,
    "start_time": "2022-02-14T11:55:00.749Z"
   },
   {
    "duration": 50,
    "start_time": "2022-02-14T11:55:00.766Z"
   },
   {
    "duration": 27,
    "start_time": "2022-02-14T11:55:00.818Z"
   },
   {
    "duration": 36,
    "start_time": "2022-02-14T11:55:00.848Z"
   },
   {
    "duration": 17,
    "start_time": "2022-02-14T11:55:00.886Z"
   },
   {
    "duration": 32,
    "start_time": "2022-02-14T11:55:00.906Z"
   },
   {
    "duration": 15,
    "start_time": "2022-02-14T11:55:00.941Z"
   },
   {
    "duration": 12,
    "start_time": "2022-02-14T11:55:00.959Z"
   },
   {
    "duration": 14,
    "start_time": "2022-02-14T11:55:00.974Z"
   },
   {
    "duration": 49,
    "start_time": "2022-02-14T11:55:00.991Z"
   },
   {
    "duration": 6,
    "start_time": "2022-02-14T11:55:01.042Z"
   },
   {
    "duration": 26,
    "start_time": "2022-02-14T11:55:01.050Z"
   },
   {
    "duration": 11,
    "start_time": "2022-02-14T11:55:01.079Z"
   },
   {
    "duration": 41,
    "start_time": "2022-02-14T11:55:01.092Z"
   },
   {
    "duration": 8,
    "start_time": "2022-02-14T11:55:01.136Z"
   },
   {
    "duration": 17,
    "start_time": "2022-02-14T11:55:01.146Z"
   },
   {
    "duration": 23,
    "start_time": "2022-02-14T11:55:01.166Z"
   },
   {
    "duration": 64,
    "start_time": "2022-02-14T11:55:01.192Z"
   },
   {
    "duration": 14,
    "start_time": "2022-02-14T11:55:01.259Z"
   },
   {
    "duration": 21,
    "start_time": "2022-02-14T11:55:01.276Z"
   },
   {
    "duration": 34,
    "start_time": "2022-02-14T11:55:01.302Z"
   },
   {
    "duration": 470,
    "start_time": "2022-02-14T11:55:01.339Z"
   },
   {
    "duration": 20,
    "start_time": "2022-02-14T11:55:01.812Z"
   },
   {
    "duration": 25,
    "start_time": "2022-02-14T11:55:01.835Z"
   },
   {
    "duration": 311,
    "start_time": "2022-02-14T11:55:01.863Z"
   },
   {
    "duration": 3,
    "start_time": "2022-02-14T11:55:02.177Z"
   },
   {
    "duration": 476,
    "start_time": "2022-02-14T11:55:02.183Z"
   },
   {
    "duration": 3,
    "start_time": "2022-02-14T11:55:02.662Z"
   },
   {
    "duration": 34,
    "start_time": "2022-02-14T11:55:02.667Z"
   },
   {
    "duration": 28,
    "start_time": "2022-02-14T11:55:02.704Z"
   },
   {
    "duration": 11,
    "start_time": "2022-02-14T11:55:02.734Z"
   },
   {
    "duration": 9,
    "start_time": "2022-02-14T11:55:02.748Z"
   },
   {
    "duration": 462,
    "start_time": "2022-02-14T11:55:02.760Z"
   },
   {
    "duration": 813,
    "start_time": "2022-02-14T11:55:03.225Z"
   },
   {
    "duration": 13,
    "start_time": "2022-02-14T11:55:04.040Z"
   },
   {
    "duration": 472,
    "start_time": "2022-02-14T11:55:04.055Z"
   },
   {
    "duration": 13,
    "start_time": "2022-02-14T11:55:04.532Z"
   },
   {
    "duration": 391,
    "start_time": "2022-02-14T11:55:04.547Z"
   },
   {
    "duration": 12,
    "start_time": "2022-02-14T11:55:04.940Z"
   },
   {
    "duration": 447,
    "start_time": "2022-02-14T11:55:04.955Z"
   },
   {
    "duration": 30,
    "start_time": "2022-02-14T11:55:05.404Z"
   },
   {
    "duration": 21,
    "start_time": "2022-02-14T11:55:05.437Z"
   },
   {
    "duration": 560,
    "start_time": "2022-02-14T11:55:05.461Z"
   },
   {
    "duration": 18,
    "start_time": "2022-02-14T11:55:06.023Z"
   },
   {
    "duration": 13,
    "start_time": "2022-02-14T11:55:06.043Z"
   },
   {
    "duration": 375,
    "start_time": "2022-02-14T11:55:06.058Z"
   },
   {
    "duration": 715,
    "start_time": "2022-02-14T11:55:06.436Z"
   },
   {
    "duration": 12,
    "start_time": "2022-02-14T11:55:07.154Z"
   },
   {
    "duration": 18,
    "start_time": "2022-02-14T11:55:07.168Z"
   },
   {
    "duration": 274,
    "start_time": "2022-02-14T11:55:07.189Z"
   },
   {
    "duration": 19,
    "start_time": "2022-02-14T11:55:07.466Z"
   },
   {
    "duration": 252,
    "start_time": "2022-02-14T11:55:07.487Z"
   },
   {
    "duration": 18,
    "start_time": "2022-02-14T11:55:07.741Z"
   },
   {
    "duration": 266,
    "start_time": "2022-02-14T11:55:07.761Z"
   },
   {
    "duration": 736,
    "start_time": "2022-02-14T11:55:08.033Z"
   },
   {
    "duration": -117,
    "start_time": "2022-02-14T11:55:08.888Z"
   },
   {
    "duration": 813,
    "start_time": "2022-02-14T11:56:49.868Z"
   },
   {
    "duration": 1487,
    "start_time": "2022-02-14T12:02:30.017Z"
   },
   {
    "duration": 59,
    "start_time": "2022-02-14T12:02:31.507Z"
   },
   {
    "duration": 13,
    "start_time": "2022-02-14T12:02:31.569Z"
   },
   {
    "duration": 65,
    "start_time": "2022-02-14T12:02:31.585Z"
   },
   {
    "duration": 16,
    "start_time": "2022-02-14T12:02:31.653Z"
   },
   {
    "duration": 17,
    "start_time": "2022-02-14T12:02:31.671Z"
   },
   {
    "duration": 15,
    "start_time": "2022-02-14T12:02:31.691Z"
   },
   {
    "duration": 15,
    "start_time": "2022-02-14T12:02:31.733Z"
   },
   {
    "duration": 9,
    "start_time": "2022-02-14T12:02:31.751Z"
   },
   {
    "duration": 10,
    "start_time": "2022-02-14T12:02:31.762Z"
   },
   {
    "duration": 16,
    "start_time": "2022-02-14T12:02:31.775Z"
   },
   {
    "duration": 63,
    "start_time": "2022-02-14T12:02:31.794Z"
   },
   {
    "duration": 6,
    "start_time": "2022-02-14T12:02:31.860Z"
   },
   {
    "duration": 27,
    "start_time": "2022-02-14T12:02:31.869Z"
   },
   {
    "duration": 37,
    "start_time": "2022-02-14T12:02:31.898Z"
   },
   {
    "duration": 10,
    "start_time": "2022-02-14T12:02:31.937Z"
   },
   {
    "duration": 13,
    "start_time": "2022-02-14T12:02:31.950Z"
   },
   {
    "duration": 13,
    "start_time": "2022-02-14T12:02:31.966Z"
   },
   {
    "duration": 24,
    "start_time": "2022-02-14T12:02:31.981Z"
   },
   {
    "duration": 40,
    "start_time": "2022-02-14T12:02:32.031Z"
   },
   {
    "duration": 19,
    "start_time": "2022-02-14T12:02:32.074Z"
   },
   {
    "duration": 43,
    "start_time": "2022-02-14T12:02:32.096Z"
   },
   {
    "duration": 11,
    "start_time": "2022-02-14T12:02:32.145Z"
   },
   {
    "duration": 455,
    "start_time": "2022-02-14T12:02:32.159Z"
   },
   {
    "duration": 19,
    "start_time": "2022-02-14T12:02:32.617Z"
   },
   {
    "duration": 17,
    "start_time": "2022-02-14T12:02:32.638Z"
   },
   {
    "duration": 307,
    "start_time": "2022-02-14T12:02:32.658Z"
   },
   {
    "duration": 3,
    "start_time": "2022-02-14T12:02:32.968Z"
   },
   {
    "duration": 465,
    "start_time": "2022-02-14T12:02:32.973Z"
   },
   {
    "duration": 3,
    "start_time": "2022-02-14T12:02:33.442Z"
   },
   {
    "duration": 29,
    "start_time": "2022-02-14T12:02:33.447Z"
   },
   {
    "duration": 9,
    "start_time": "2022-02-14T12:02:33.478Z"
   },
   {
    "duration": 47,
    "start_time": "2022-02-14T12:02:33.489Z"
   },
   {
    "duration": 7,
    "start_time": "2022-02-14T12:02:33.538Z"
   },
   {
    "duration": 477,
    "start_time": "2022-02-14T12:02:33.547Z"
   },
   {
    "duration": 791,
    "start_time": "2022-02-14T12:02:34.031Z"
   },
   {
    "duration": 17,
    "start_time": "2022-02-14T12:02:34.824Z"
   },
   {
    "duration": 491,
    "start_time": "2022-02-14T12:02:34.843Z"
   },
   {
    "duration": 13,
    "start_time": "2022-02-14T12:02:35.337Z"
   },
   {
    "duration": 398,
    "start_time": "2022-02-14T12:02:35.353Z"
   },
   {
    "duration": 13,
    "start_time": "2022-02-14T12:02:35.754Z"
   },
   {
    "duration": 414,
    "start_time": "2022-02-14T12:02:35.769Z"
   },
   {
    "duration": 20,
    "start_time": "2022-02-14T12:02:36.186Z"
   },
   {
    "duration": 42,
    "start_time": "2022-02-14T12:02:36.208Z"
   },
   {
    "duration": 527,
    "start_time": "2022-02-14T12:02:36.253Z"
   },
   {
    "duration": 11,
    "start_time": "2022-02-14T12:02:36.784Z"
   },
   {
    "duration": 43,
    "start_time": "2022-02-14T12:02:36.798Z"
   },
   {
    "duration": 330,
    "start_time": "2022-02-14T12:02:36.843Z"
   },
   {
    "duration": 895,
    "start_time": "2022-02-14T12:02:37.176Z"
   },
   {
    "duration": 14,
    "start_time": "2022-02-14T12:02:38.074Z"
   },
   {
    "duration": 45,
    "start_time": "2022-02-14T12:02:38.090Z"
   },
   {
    "duration": 265,
    "start_time": "2022-02-14T12:02:38.138Z"
   },
   {
    "duration": 30,
    "start_time": "2022-02-14T12:02:38.405Z"
   },
   {
    "duration": 279,
    "start_time": "2022-02-14T12:02:38.438Z"
   },
   {
    "duration": 24,
    "start_time": "2022-02-14T12:02:38.719Z"
   },
   {
    "duration": 261,
    "start_time": "2022-02-14T12:02:38.746Z"
   },
   {
    "duration": 816,
    "start_time": "2022-02-14T12:02:39.010Z"
   },
   {
    "duration": 747,
    "start_time": "2022-02-14T12:02:39.828Z"
   },
   {
    "duration": 719,
    "start_time": "2022-02-14T12:04:55.096Z"
   },
   {
    "duration": 725,
    "start_time": "2022-02-14T12:06:08.598Z"
   },
   {
    "duration": 721,
    "start_time": "2022-02-14T12:07:24.491Z"
   },
   {
    "duration": 1130,
    "start_time": "2022-02-14T12:12:25.245Z"
   },
   {
    "duration": 1085,
    "start_time": "2022-02-14T12:12:37.080Z"
   },
   {
    "duration": 721,
    "start_time": "2022-02-14T12:12:55.868Z"
   },
   {
    "duration": 717,
    "start_time": "2022-02-14T12:13:15.310Z"
   },
   {
    "duration": 980,
    "start_time": "2022-02-14T12:15:01.043Z"
   },
   {
    "duration": 770,
    "start_time": "2022-02-14T12:16:25.492Z"
   },
   {
    "duration": 1511,
    "start_time": "2022-02-14T12:17:07.128Z"
   },
   {
    "duration": 60,
    "start_time": "2022-02-14T12:17:08.641Z"
   },
   {
    "duration": 13,
    "start_time": "2022-02-14T12:17:08.704Z"
   },
   {
    "duration": 41,
    "start_time": "2022-02-14T12:17:08.733Z"
   },
   {
    "duration": 16,
    "start_time": "2022-02-14T12:17:08.777Z"
   },
   {
    "duration": 44,
    "start_time": "2022-02-14T12:17:08.796Z"
   },
   {
    "duration": 12,
    "start_time": "2022-02-14T12:17:08.843Z"
   },
   {
    "duration": 14,
    "start_time": "2022-02-14T12:17:08.858Z"
   },
   {
    "duration": 8,
    "start_time": "2022-02-14T12:17:08.875Z"
   },
   {
    "duration": 6,
    "start_time": "2022-02-14T12:17:08.886Z"
   },
   {
    "duration": 8,
    "start_time": "2022-02-14T12:17:08.933Z"
   },
   {
    "duration": 31,
    "start_time": "2022-02-14T12:17:08.943Z"
   },
   {
    "duration": 6,
    "start_time": "2022-02-14T12:17:08.976Z"
   },
   {
    "duration": 59,
    "start_time": "2022-02-14T12:17:08.984Z"
   },
   {
    "duration": 11,
    "start_time": "2022-02-14T12:17:09.046Z"
   },
   {
    "duration": 12,
    "start_time": "2022-02-14T12:17:09.059Z"
   },
   {
    "duration": 9,
    "start_time": "2022-02-14T12:17:09.074Z"
   },
   {
    "duration": 52,
    "start_time": "2022-02-14T12:17:09.085Z"
   },
   {
    "duration": 19,
    "start_time": "2022-02-14T12:17:09.139Z"
   },
   {
    "duration": 36,
    "start_time": "2022-02-14T12:17:09.161Z"
   },
   {
    "duration": 41,
    "start_time": "2022-02-14T12:17:09.199Z"
   },
   {
    "duration": 19,
    "start_time": "2022-02-14T12:17:09.243Z"
   },
   {
    "duration": 9,
    "start_time": "2022-02-14T12:17:09.268Z"
   },
   {
    "duration": 581,
    "start_time": "2022-02-14T12:17:09.280Z"
   },
   {
    "duration": 11,
    "start_time": "2022-02-14T12:17:09.863Z"
   },
   {
    "duration": 19,
    "start_time": "2022-02-14T12:17:09.876Z"
   },
   {
    "duration": 329,
    "start_time": "2022-02-14T12:17:09.898Z"
   },
   {
    "duration": 3,
    "start_time": "2022-02-14T12:17:10.232Z"
   },
   {
    "duration": 459,
    "start_time": "2022-02-14T12:17:10.237Z"
   },
   {
    "duration": 4,
    "start_time": "2022-02-14T12:17:10.698Z"
   },
   {
    "duration": 43,
    "start_time": "2022-02-14T12:17:10.704Z"
   },
   {
    "duration": 7,
    "start_time": "2022-02-14T12:17:10.750Z"
   },
   {
    "duration": 18,
    "start_time": "2022-02-14T12:17:10.760Z"
   },
   {
    "duration": 5,
    "start_time": "2022-02-14T12:17:10.781Z"
   },
   {
    "duration": 484,
    "start_time": "2022-02-14T12:17:10.788Z"
   },
   {
    "duration": 800,
    "start_time": "2022-02-14T12:17:11.275Z"
   },
   {
    "duration": 14,
    "start_time": "2022-02-14T12:17:12.078Z"
   },
   {
    "duration": 616,
    "start_time": "2022-02-14T12:17:12.094Z"
   },
   {
    "duration": 24,
    "start_time": "2022-02-14T12:17:12.713Z"
   },
   {
    "duration": 399,
    "start_time": "2022-02-14T12:17:12.740Z"
   },
   {
    "duration": 13,
    "start_time": "2022-02-14T12:17:13.141Z"
   },
   {
    "duration": 514,
    "start_time": "2022-02-14T12:17:13.156Z"
   },
   {
    "duration": 20,
    "start_time": "2022-02-14T12:17:13.672Z"
   },
   {
    "duration": 38,
    "start_time": "2022-02-14T12:17:13.695Z"
   },
   {
    "duration": 547,
    "start_time": "2022-02-14T12:17:13.736Z"
   },
   {
    "duration": 10,
    "start_time": "2022-02-14T12:17:14.285Z"
   },
   {
    "duration": 34,
    "start_time": "2022-02-14T12:17:14.298Z"
   },
   {
    "duration": 340,
    "start_time": "2022-02-14T12:17:14.334Z"
   },
   {
    "duration": 710,
    "start_time": "2022-02-14T12:17:14.676Z"
   },
   {
    "duration": 13,
    "start_time": "2022-02-14T12:17:15.389Z"
   },
   {
    "duration": 40,
    "start_time": "2022-02-14T12:17:15.405Z"
   },
   {
    "duration": 20,
    "start_time": "2022-02-14T12:17:15.448Z"
   },
   {
    "duration": 25,
    "start_time": "2022-02-14T12:17:15.471Z"
   },
   {
    "duration": 811,
    "start_time": "2022-02-14T12:17:15.499Z"
   },
   {
    "duration": 1457,
    "start_time": "2022-02-14T13:44:05.358Z"
   },
   {
    "duration": 66,
    "start_time": "2022-02-14T13:44:06.818Z"
   },
   {
    "duration": 14,
    "start_time": "2022-02-14T13:44:06.886Z"
   },
   {
    "duration": 66,
    "start_time": "2022-02-14T13:44:06.902Z"
   },
   {
    "duration": 25,
    "start_time": "2022-02-14T13:44:06.971Z"
   },
   {
    "duration": 18,
    "start_time": "2022-02-14T13:44:06.999Z"
   },
   {
    "duration": 18,
    "start_time": "2022-02-14T13:44:07.033Z"
   },
   {
    "duration": 16,
    "start_time": "2022-02-14T13:44:07.056Z"
   },
   {
    "duration": 45,
    "start_time": "2022-02-14T13:44:07.075Z"
   },
   {
    "duration": 10,
    "start_time": "2022-02-14T13:44:07.122Z"
   },
   {
    "duration": 48,
    "start_time": "2022-02-14T13:44:07.135Z"
   },
   {
    "duration": 34,
    "start_time": "2022-02-14T13:44:07.185Z"
   },
   {
    "duration": 6,
    "start_time": "2022-02-14T13:44:07.221Z"
   },
   {
    "duration": 31,
    "start_time": "2022-02-14T13:44:07.229Z"
   },
   {
    "duration": 11,
    "start_time": "2022-02-14T13:44:07.263Z"
   },
   {
    "duration": 12,
    "start_time": "2022-02-14T13:44:07.276Z"
   },
   {
    "duration": 10,
    "start_time": "2022-02-14T13:44:07.291Z"
   },
   {
    "duration": 45,
    "start_time": "2022-02-14T13:44:07.304Z"
   },
   {
    "duration": 14,
    "start_time": "2022-02-14T13:44:07.352Z"
   },
   {
    "duration": 37,
    "start_time": "2022-02-14T13:44:07.369Z"
   },
   {
    "duration": 20,
    "start_time": "2022-02-14T13:44:07.432Z"
   },
   {
    "duration": 20,
    "start_time": "2022-02-14T13:44:07.455Z"
   },
   {
    "duration": 9,
    "start_time": "2022-02-14T13:44:07.480Z"
   },
   {
    "duration": 507,
    "start_time": "2022-02-14T13:44:07.492Z"
   },
   {
    "duration": 10,
    "start_time": "2022-02-14T13:44:08.001Z"
   },
   {
    "duration": 36,
    "start_time": "2022-02-14T13:44:08.014Z"
   },
   {
    "duration": 339,
    "start_time": "2022-02-14T13:44:08.053Z"
   },
   {
    "duration": 3,
    "start_time": "2022-02-14T13:44:08.394Z"
   },
   {
    "duration": 516,
    "start_time": "2022-02-14T13:44:08.400Z"
   },
   {
    "duration": 3,
    "start_time": "2022-02-14T13:44:08.918Z"
   },
   {
    "duration": 42,
    "start_time": "2022-02-14T13:44:08.923Z"
   },
   {
    "duration": 8,
    "start_time": "2022-02-14T13:44:08.967Z"
   },
   {
    "duration": 13,
    "start_time": "2022-02-14T13:44:08.977Z"
   },
   {
    "duration": 44,
    "start_time": "2022-02-14T13:44:08.993Z"
   },
   {
    "duration": 487,
    "start_time": "2022-02-14T13:44:09.040Z"
   },
   {
    "duration": 838,
    "start_time": "2022-02-14T13:44:09.533Z"
   },
   {
    "duration": 13,
    "start_time": "2022-02-14T13:44:10.374Z"
   },
   {
    "duration": 510,
    "start_time": "2022-02-14T13:44:10.389Z"
   },
   {
    "duration": 30,
    "start_time": "2022-02-14T13:44:10.902Z"
   },
   {
    "duration": 427,
    "start_time": "2022-02-14T13:44:10.934Z"
   },
   {
    "duration": 14,
    "start_time": "2022-02-14T13:44:11.363Z"
   },
   {
    "duration": 461,
    "start_time": "2022-02-14T13:44:11.379Z"
   },
   {
    "duration": 25,
    "start_time": "2022-02-14T13:44:11.843Z"
   },
   {
    "duration": 18,
    "start_time": "2022-02-14T13:44:11.870Z"
   },
   {
    "duration": 558,
    "start_time": "2022-02-14T13:44:11.890Z"
   },
   {
    "duration": 13,
    "start_time": "2022-02-14T13:44:12.453Z"
   },
   {
    "duration": 16,
    "start_time": "2022-02-14T13:44:12.469Z"
   },
   {
    "duration": 362,
    "start_time": "2022-02-14T13:44:12.488Z"
   },
   {
    "duration": 850,
    "start_time": "2022-02-14T13:44:12.852Z"
   },
   {
    "duration": 32,
    "start_time": "2022-02-14T13:44:13.705Z"
   },
   {
    "duration": 30,
    "start_time": "2022-02-14T13:44:13.740Z"
   },
   {
    "duration": 19,
    "start_time": "2022-02-14T13:44:13.772Z"
   },
   {
    "duration": 41,
    "start_time": "2022-02-14T13:44:13.794Z"
   },
   {
    "duration": 831,
    "start_time": "2022-02-14T13:44:13.838Z"
   },
   {
    "duration": 18,
    "start_time": "2022-02-14T13:50:13.266Z"
   },
   {
    "duration": 1492,
    "start_time": "2022-02-14T14:23:32.205Z"
   },
   {
    "duration": 65,
    "start_time": "2022-02-14T14:23:33.700Z"
   },
   {
    "duration": 15,
    "start_time": "2022-02-14T14:23:33.771Z"
   },
   {
    "duration": 68,
    "start_time": "2022-02-14T14:23:33.788Z"
   },
   {
    "duration": 16,
    "start_time": "2022-02-14T14:23:33.858Z"
   },
   {
    "duration": 15,
    "start_time": "2022-02-14T14:23:33.876Z"
   },
   {
    "duration": 41,
    "start_time": "2022-02-14T14:23:33.895Z"
   },
   {
    "duration": 14,
    "start_time": "2022-02-14T14:23:33.938Z"
   },
   {
    "duration": 10,
    "start_time": "2022-02-14T14:23:33.955Z"
   },
   {
    "duration": 6,
    "start_time": "2022-02-14T14:23:33.967Z"
   },
   {
    "duration": 9,
    "start_time": "2022-02-14T14:23:33.976Z"
   },
   {
    "duration": 75,
    "start_time": "2022-02-14T14:23:33.987Z"
   },
   {
    "duration": 6,
    "start_time": "2022-02-14T14:23:34.065Z"
   },
   {
    "duration": 26,
    "start_time": "2022-02-14T14:23:34.073Z"
   },
   {
    "duration": 37,
    "start_time": "2022-02-14T14:23:34.101Z"
   },
   {
    "duration": 9,
    "start_time": "2022-02-14T14:23:34.140Z"
   },
   {
    "duration": 8,
    "start_time": "2022-02-14T14:23:34.152Z"
   },
   {
    "duration": 13,
    "start_time": "2022-02-14T14:23:34.163Z"
   },
   {
    "duration": 62,
    "start_time": "2022-02-14T14:23:34.178Z"
   },
   {
    "duration": 36,
    "start_time": "2022-02-14T14:23:34.242Z"
   },
   {
    "duration": 18,
    "start_time": "2022-02-14T14:23:34.280Z"
   },
   {
    "duration": 42,
    "start_time": "2022-02-14T14:23:34.304Z"
   },
   {
    "duration": 14,
    "start_time": "2022-02-14T14:23:34.349Z"
   },
   {
    "duration": 460,
    "start_time": "2022-02-14T14:23:34.365Z"
   },
   {
    "duration": 11,
    "start_time": "2022-02-14T14:23:34.832Z"
   },
   {
    "duration": 15,
    "start_time": "2022-02-14T14:23:34.846Z"
   },
   {
    "duration": 321,
    "start_time": "2022-02-14T14:23:34.864Z"
   },
   {
    "duration": 4,
    "start_time": "2022-02-14T14:23:35.187Z"
   },
   {
    "duration": 460,
    "start_time": "2022-02-14T14:23:35.193Z"
   },
   {
    "duration": 3,
    "start_time": "2022-02-14T14:23:35.655Z"
   },
   {
    "duration": 32,
    "start_time": "2022-02-14T14:23:35.660Z"
   },
   {
    "duration": 8,
    "start_time": "2022-02-14T14:23:35.694Z"
   },
   {
    "duration": 36,
    "start_time": "2022-02-14T14:23:35.704Z"
   },
   {
    "duration": 7,
    "start_time": "2022-02-14T14:23:35.742Z"
   },
   {
    "duration": 466,
    "start_time": "2022-02-14T14:23:35.751Z"
   },
   {
    "duration": 802,
    "start_time": "2022-02-14T14:23:36.220Z"
   },
   {
    "duration": 15,
    "start_time": "2022-02-14T14:23:37.032Z"
   },
   {
    "duration": 485,
    "start_time": "2022-02-14T14:23:37.049Z"
   },
   {
    "duration": 13,
    "start_time": "2022-02-14T14:23:37.537Z"
   },
   {
    "duration": 395,
    "start_time": "2022-02-14T14:23:37.552Z"
   },
   {
    "duration": 13,
    "start_time": "2022-02-14T14:23:37.949Z"
   },
   {
    "duration": 417,
    "start_time": "2022-02-14T14:23:37.964Z"
   },
   {
    "duration": 20,
    "start_time": "2022-02-14T14:23:38.384Z"
   },
   {
    "duration": 46,
    "start_time": "2022-02-14T14:23:38.406Z"
   },
   {
    "duration": 506,
    "start_time": "2022-02-14T14:23:38.455Z"
   },
   {
    "duration": 9,
    "start_time": "2022-02-14T14:23:38.963Z"
   },
   {
    "duration": 14,
    "start_time": "2022-02-14T14:23:38.974Z"
   },
   {
    "duration": 359,
    "start_time": "2022-02-14T14:23:38.990Z"
   },
   {
    "duration": 712,
    "start_time": "2022-02-14T14:23:39.351Z"
   },
   {
    "duration": 18,
    "start_time": "2022-02-14T14:23:40.066Z"
   },
   {
    "duration": 48,
    "start_time": "2022-02-14T14:23:40.087Z"
   },
   {
    "duration": 19,
    "start_time": "2022-02-14T14:23:40.137Z"
   },
   {
    "duration": 18,
    "start_time": "2022-02-14T14:23:40.158Z"
   },
   {
    "duration": 810,
    "start_time": "2022-02-14T14:23:40.179Z"
   },
   {
    "duration": 113,
    "start_time": "2022-02-14T14:23:40.991Z"
   },
   {
    "duration": -90,
    "start_time": "2022-02-14T14:23:41.197Z"
   },
   {
    "duration": -93,
    "start_time": "2022-02-14T14:23:41.201Z"
   },
   {
    "duration": -95,
    "start_time": "2022-02-14T14:23:41.204Z"
   },
   {
    "duration": 709,
    "start_time": "2022-02-14T14:23:56.660Z"
   },
   {
    "duration": 7577,
    "start_time": "2022-02-14T14:24:18.945Z"
   },
   {
    "duration": 2367,
    "start_time": "2022-02-14T14:25:15.937Z"
   },
   {
    "duration": 115,
    "start_time": "2022-02-14T14:27:21.012Z"
   },
   {
    "duration": 7435,
    "start_time": "2022-02-14T14:31:12.897Z"
   },
   {
    "duration": 75,
    "start_time": "2022-02-14T14:31:31.536Z"
   },
   {
    "duration": 1520,
    "start_time": "2022-02-14T14:32:19.592Z"
   },
   {
    "duration": 843,
    "start_time": "2022-02-14T14:32:45.728Z"
   },
   {
    "duration": 2292,
    "start_time": "2022-02-14T14:33:55.047Z"
   },
   {
    "duration": 718,
    "start_time": "2022-02-14T14:34:33.192Z"
   },
   {
    "duration": 42,
    "start_time": "2022-02-14T14:49:02.116Z"
   },
   {
    "duration": 1019,
    "start_time": "2022-02-14T14:50:29.299Z"
   },
   {
    "duration": 797,
    "start_time": "2022-02-14T14:54:00.724Z"
   },
   {
    "duration": 777,
    "start_time": "2022-02-14T15:00:02.516Z"
   },
   {
    "duration": 620,
    "start_time": "2022-02-14T15:03:45.461Z"
   },
   {
    "duration": 861,
    "start_time": "2022-02-14T15:04:15.688Z"
   },
   {
    "duration": 305,
    "start_time": "2022-02-14T15:15:48.832Z"
   },
   {
    "duration": 390,
    "start_time": "2022-02-14T15:18:55.890Z"
   },
   {
    "duration": 294,
    "start_time": "2022-02-14T15:19:08.883Z"
   },
   {
    "duration": 1421,
    "start_time": "2022-02-14T15:19:55.068Z"
   },
   {
    "duration": 63,
    "start_time": "2022-02-14T15:19:56.492Z"
   },
   {
    "duration": 14,
    "start_time": "2022-02-14T15:19:56.559Z"
   },
   {
    "duration": 64,
    "start_time": "2022-02-14T15:19:56.576Z"
   },
   {
    "duration": 16,
    "start_time": "2022-02-14T15:19:56.643Z"
   },
   {
    "duration": 14,
    "start_time": "2022-02-14T15:19:56.661Z"
   },
   {
    "duration": 12,
    "start_time": "2022-02-14T15:19:56.677Z"
   },
   {
    "duration": 46,
    "start_time": "2022-02-14T15:19:56.693Z"
   },
   {
    "duration": 8,
    "start_time": "2022-02-14T15:19:56.742Z"
   },
   {
    "duration": 6,
    "start_time": "2022-02-14T15:19:56.753Z"
   },
   {
    "duration": 8,
    "start_time": "2022-02-14T15:19:56.761Z"
   },
   {
    "duration": 69,
    "start_time": "2022-02-14T15:19:56.771Z"
   },
   {
    "duration": 6,
    "start_time": "2022-02-14T15:19:56.842Z"
   },
   {
    "duration": 25,
    "start_time": "2022-02-14T15:19:56.850Z"
   },
   {
    "duration": 11,
    "start_time": "2022-02-14T15:19:56.877Z"
   },
   {
    "duration": 43,
    "start_time": "2022-02-14T15:19:56.891Z"
   },
   {
    "duration": 8,
    "start_time": "2022-02-14T15:19:56.937Z"
   },
   {
    "duration": 15,
    "start_time": "2022-02-14T15:19:56.948Z"
   },
   {
    "duration": 14,
    "start_time": "2022-02-14T15:19:56.965Z"
   },
   {
    "duration": 69,
    "start_time": "2022-02-14T15:19:56.981Z"
   },
   {
    "duration": 19,
    "start_time": "2022-02-14T15:19:57.052Z"
   },
   {
    "duration": 18,
    "start_time": "2022-02-14T15:19:57.074Z"
   },
   {
    "duration": 37,
    "start_time": "2022-02-14T15:19:57.098Z"
   },
   {
    "duration": 476,
    "start_time": "2022-02-14T15:19:57.138Z"
   },
   {
    "duration": 20,
    "start_time": "2022-02-14T15:19:57.616Z"
   },
   {
    "duration": 29,
    "start_time": "2022-02-14T15:19:57.638Z"
   },
   {
    "duration": 354,
    "start_time": "2022-02-14T15:19:57.670Z"
   },
   {
    "duration": 4,
    "start_time": "2022-02-14T15:19:58.031Z"
   },
   {
    "duration": 471,
    "start_time": "2022-02-14T15:19:58.037Z"
   },
   {
    "duration": 4,
    "start_time": "2022-02-14T15:19:58.510Z"
   },
   {
    "duration": 27,
    "start_time": "2022-02-14T15:19:58.532Z"
   },
   {
    "duration": 8,
    "start_time": "2022-02-14T15:19:58.562Z"
   },
   {
    "duration": 14,
    "start_time": "2022-02-14T15:19:58.572Z"
   },
   {
    "duration": 9,
    "start_time": "2022-02-14T15:19:58.589Z"
   },
   {
    "duration": 489,
    "start_time": "2022-02-14T15:19:58.600Z"
   },
   {
    "duration": 816,
    "start_time": "2022-02-14T15:19:59.092Z"
   },
   {
    "duration": 24,
    "start_time": "2022-02-14T15:19:59.910Z"
   },
   {
    "duration": 481,
    "start_time": "2022-02-14T15:19:59.937Z"
   },
   {
    "duration": 21,
    "start_time": "2022-02-14T15:20:00.420Z"
   },
   {
    "duration": 401,
    "start_time": "2022-02-14T15:20:00.443Z"
   },
   {
    "duration": 14,
    "start_time": "2022-02-14T15:20:00.848Z"
   },
   {
    "duration": 436,
    "start_time": "2022-02-14T15:20:00.865Z"
   },
   {
    "duration": 30,
    "start_time": "2022-02-14T15:20:01.304Z"
   },
   {
    "duration": 27,
    "start_time": "2022-02-14T15:20:01.338Z"
   },
   {
    "duration": 515,
    "start_time": "2022-02-14T15:20:01.368Z"
   },
   {
    "duration": 10,
    "start_time": "2022-02-14T15:20:01.886Z"
   },
   {
    "duration": 52,
    "start_time": "2022-02-14T15:20:01.899Z"
   },
   {
    "duration": 395,
    "start_time": "2022-02-14T15:20:01.953Z"
   },
   {
    "duration": 728,
    "start_time": "2022-02-14T15:20:02.351Z"
   },
   {
    "duration": 14,
    "start_time": "2022-02-14T15:20:03.082Z"
   },
   {
    "duration": 40,
    "start_time": "2022-02-14T15:20:03.098Z"
   },
   {
    "duration": 18,
    "start_time": "2022-02-14T15:20:03.141Z"
   },
   {
    "duration": 18,
    "start_time": "2022-02-14T15:20:03.161Z"
   },
   {
    "duration": 802,
    "start_time": "2022-02-14T15:20:03.182Z"
   },
   {
    "duration": 882,
    "start_time": "2022-02-14T15:20:03.986Z"
   },
   {
    "duration": 20,
    "start_time": "2022-02-14T15:20:04.870Z"
   },
   {
    "duration": 310,
    "start_time": "2022-02-14T15:20:04.892Z"
   },
   {
    "duration": 1679,
    "start_time": "2022-02-14T15:22:32.201Z"
   },
   {
    "duration": 66,
    "start_time": "2022-02-14T15:22:33.883Z"
   },
   {
    "duration": 14,
    "start_time": "2022-02-14T15:22:33.952Z"
   },
   {
    "duration": 65,
    "start_time": "2022-02-14T15:22:33.969Z"
   },
   {
    "duration": 18,
    "start_time": "2022-02-14T15:22:34.037Z"
   },
   {
    "duration": 21,
    "start_time": "2022-02-14T15:22:34.058Z"
   },
   {
    "duration": 13,
    "start_time": "2022-02-14T15:22:34.082Z"
   },
   {
    "duration": 16,
    "start_time": "2022-02-14T15:22:34.131Z"
   },
   {
    "duration": 15,
    "start_time": "2022-02-14T15:22:34.151Z"
   },
   {
    "duration": 7,
    "start_time": "2022-02-14T15:22:34.168Z"
   },
   {
    "duration": 16,
    "start_time": "2022-02-14T15:22:34.178Z"
   },
   {
    "duration": 61,
    "start_time": "2022-02-14T15:22:34.197Z"
   },
   {
    "duration": 6,
    "start_time": "2022-02-14T15:22:34.261Z"
   },
   {
    "duration": 30,
    "start_time": "2022-02-14T15:22:34.269Z"
   },
   {
    "duration": 31,
    "start_time": "2022-02-14T15:22:34.301Z"
   },
   {
    "duration": 10,
    "start_time": "2022-02-14T15:22:34.335Z"
   },
   {
    "duration": 23,
    "start_time": "2022-02-14T15:22:34.347Z"
   },
   {
    "duration": 37,
    "start_time": "2022-02-14T15:22:34.373Z"
   },
   {
    "duration": 20,
    "start_time": "2022-02-14T15:22:34.412Z"
   },
   {
    "duration": 41,
    "start_time": "2022-02-14T15:22:34.435Z"
   },
   {
    "duration": 16,
    "start_time": "2022-02-14T15:22:34.478Z"
   },
   {
    "duration": 45,
    "start_time": "2022-02-14T15:22:34.496Z"
   },
   {
    "duration": 12,
    "start_time": "2022-02-14T15:22:34.549Z"
   },
   {
    "duration": 481,
    "start_time": "2022-02-14T15:22:34.565Z"
   },
   {
    "duration": 9,
    "start_time": "2022-02-14T15:22:35.049Z"
   },
   {
    "duration": 22,
    "start_time": "2022-02-14T15:22:35.061Z"
   },
   {
    "duration": 310,
    "start_time": "2022-02-14T15:22:35.085Z"
   },
   {
    "duration": 5,
    "start_time": "2022-02-14T15:22:35.398Z"
   },
   {
    "duration": 478,
    "start_time": "2022-02-14T15:22:35.406Z"
   },
   {
    "duration": 3,
    "start_time": "2022-02-14T15:22:35.887Z"
   },
   {
    "duration": 48,
    "start_time": "2022-02-14T15:22:35.892Z"
   },
   {
    "duration": 9,
    "start_time": "2022-02-14T15:22:35.942Z"
   },
   {
    "duration": 11,
    "start_time": "2022-02-14T15:22:35.953Z"
   },
   {
    "duration": 8,
    "start_time": "2022-02-14T15:22:35.967Z"
   },
   {
    "duration": 496,
    "start_time": "2022-02-14T15:22:35.977Z"
   },
   {
    "duration": 843,
    "start_time": "2022-02-14T15:22:36.475Z"
   },
   {
    "duration": 22,
    "start_time": "2022-02-14T15:22:37.321Z"
   },
   {
    "duration": 482,
    "start_time": "2022-02-14T15:22:37.346Z"
   },
   {
    "duration": 15,
    "start_time": "2022-02-14T15:22:37.833Z"
   },
   {
    "duration": 421,
    "start_time": "2022-02-14T15:22:37.851Z"
   },
   {
    "duration": 14,
    "start_time": "2022-02-14T15:22:38.276Z"
   },
   {
    "duration": 425,
    "start_time": "2022-02-14T15:22:38.293Z"
   },
   {
    "duration": 29,
    "start_time": "2022-02-14T15:22:38.721Z"
   },
   {
    "duration": 19,
    "start_time": "2022-02-14T15:22:38.752Z"
   },
   {
    "duration": 518,
    "start_time": "2022-02-14T15:22:38.774Z"
   },
   {
    "duration": 12,
    "start_time": "2022-02-14T15:22:39.295Z"
   },
   {
    "duration": 15,
    "start_time": "2022-02-14T15:22:39.331Z"
   },
   {
    "duration": 533,
    "start_time": "2022-02-14T15:22:39.349Z"
   },
   {
    "duration": 710,
    "start_time": "2022-02-14T15:22:39.884Z"
   },
   {
    "duration": 13,
    "start_time": "2022-02-14T15:22:40.596Z"
   },
   {
    "duration": 25,
    "start_time": "2022-02-14T15:22:40.611Z"
   },
   {
    "duration": 15,
    "start_time": "2022-02-14T15:22:40.639Z"
   },
   {
    "duration": 18,
    "start_time": "2022-02-14T15:22:40.657Z"
   },
   {
    "duration": 1118,
    "start_time": "2022-02-14T15:22:40.678Z"
   },
   {
    "duration": 916,
    "start_time": "2022-02-14T15:22:41.799Z"
   },
   {
    "duration": 27,
    "start_time": "2022-02-14T15:22:42.718Z"
   },
   {
    "duration": 19,
    "start_time": "2022-02-14T15:22:42.748Z"
   },
   {
    "duration": 24,
    "start_time": "2022-02-14T15:22:42.770Z"
   },
   {
    "duration": 512,
    "start_time": "2022-02-14T15:22:42.796Z"
   },
   {
    "duration": 85,
    "start_time": "2022-02-14T15:27:09.991Z"
   },
   {
    "duration": 1457,
    "start_time": "2022-02-14T15:27:50.545Z"
   },
   {
    "duration": 59,
    "start_time": "2022-02-14T15:27:52.005Z"
   },
   {
    "duration": 13,
    "start_time": "2022-02-14T15:27:52.067Z"
   },
   {
    "duration": 64,
    "start_time": "2022-02-14T15:27:52.083Z"
   },
   {
    "duration": 18,
    "start_time": "2022-02-14T15:27:52.151Z"
   },
   {
    "duration": 20,
    "start_time": "2022-02-14T15:27:52.172Z"
   },
   {
    "duration": 38,
    "start_time": "2022-02-14T15:27:52.195Z"
   },
   {
    "duration": 17,
    "start_time": "2022-02-14T15:27:52.237Z"
   },
   {
    "duration": 12,
    "start_time": "2022-02-14T15:27:52.257Z"
   },
   {
    "duration": 6,
    "start_time": "2022-02-14T15:27:52.272Z"
   },
   {
    "duration": 19,
    "start_time": "2022-02-14T15:27:52.280Z"
   },
   {
    "duration": 63,
    "start_time": "2022-02-14T15:27:52.302Z"
   },
   {
    "duration": 6,
    "start_time": "2022-02-14T15:27:52.367Z"
   },
   {
    "duration": 34,
    "start_time": "2022-02-14T15:27:52.375Z"
   },
   {
    "duration": 24,
    "start_time": "2022-02-14T15:27:52.412Z"
   },
   {
    "duration": 21,
    "start_time": "2022-02-14T15:27:52.438Z"
   },
   {
    "duration": 19,
    "start_time": "2022-02-14T15:27:52.461Z"
   },
   {
    "duration": 21,
    "start_time": "2022-02-14T15:27:52.482Z"
   },
   {
    "duration": 17,
    "start_time": "2022-02-14T15:27:52.506Z"
   },
   {
    "duration": 38,
    "start_time": "2022-02-14T15:27:52.533Z"
   },
   {
    "duration": 39,
    "start_time": "2022-02-14T15:27:52.574Z"
   },
   {
    "duration": 35,
    "start_time": "2022-02-14T15:27:52.616Z"
   },
   {
    "duration": 21,
    "start_time": "2022-02-14T15:27:52.657Z"
   },
   {
    "duration": 465,
    "start_time": "2022-02-14T15:27:52.682Z"
   },
   {
    "duration": 11,
    "start_time": "2022-02-14T15:27:53.149Z"
   },
   {
    "duration": 17,
    "start_time": "2022-02-14T15:27:53.163Z"
   },
   {
    "duration": 336,
    "start_time": "2022-02-14T15:27:53.183Z"
   },
   {
    "duration": 10,
    "start_time": "2022-02-14T15:27:53.522Z"
   },
   {
    "duration": 459,
    "start_time": "2022-02-14T15:27:53.535Z"
   },
   {
    "duration": 4,
    "start_time": "2022-02-14T15:27:53.996Z"
   },
   {
    "duration": 48,
    "start_time": "2022-02-14T15:27:54.002Z"
   },
   {
    "duration": 24,
    "start_time": "2022-02-14T15:27:54.052Z"
   },
   {
    "duration": 10,
    "start_time": "2022-02-14T15:27:54.078Z"
   },
   {
    "duration": 6,
    "start_time": "2022-02-14T15:27:54.091Z"
   },
   {
    "duration": 465,
    "start_time": "2022-02-14T15:27:54.099Z"
   },
   {
    "duration": 804,
    "start_time": "2022-02-14T15:27:54.566Z"
   },
   {
    "duration": 13,
    "start_time": "2022-02-14T15:27:55.373Z"
   },
   {
    "duration": 506,
    "start_time": "2022-02-14T15:27:55.388Z"
   },
   {
    "duration": 13,
    "start_time": "2022-02-14T15:27:55.896Z"
   },
   {
    "duration": 411,
    "start_time": "2022-02-14T15:27:55.911Z"
   },
   {
    "duration": 14,
    "start_time": "2022-02-14T15:27:56.333Z"
   },
   {
    "duration": 425,
    "start_time": "2022-02-14T15:27:56.349Z"
   },
   {
    "duration": 19,
    "start_time": "2022-02-14T15:27:56.777Z"
   },
   {
    "duration": 39,
    "start_time": "2022-02-14T15:27:56.799Z"
   },
   {
    "duration": 554,
    "start_time": "2022-02-14T15:27:56.841Z"
   },
   {
    "duration": 10,
    "start_time": "2022-02-14T15:27:57.398Z"
   },
   {
    "duration": 29,
    "start_time": "2022-02-14T15:27:57.411Z"
   },
   {
    "duration": 356,
    "start_time": "2022-02-14T15:27:57.443Z"
   },
   {
    "duration": 733,
    "start_time": "2022-02-14T15:27:57.802Z"
   },
   {
    "duration": 12,
    "start_time": "2022-02-14T15:27:58.538Z"
   },
   {
    "duration": 20,
    "start_time": "2022-02-14T15:27:58.553Z"
   },
   {
    "duration": 56,
    "start_time": "2022-02-14T15:27:58.576Z"
   },
   {
    "duration": 17,
    "start_time": "2022-02-14T15:27:58.635Z"
   },
   {
    "duration": 813,
    "start_time": "2022-02-14T15:27:58.655Z"
   },
   {
    "duration": 908,
    "start_time": "2022-02-14T15:27:59.470Z"
   },
   {
    "duration": 22,
    "start_time": "2022-02-14T15:28:00.380Z"
   },
   {
    "duration": 44,
    "start_time": "2022-02-14T15:28:00.404Z"
   },
   {
    "duration": 23,
    "start_time": "2022-02-14T15:28:00.451Z"
   },
   {
    "duration": 177,
    "start_time": "2022-02-14T15:28:00.477Z"
   },
   {
    "duration": -94,
    "start_time": "2022-02-14T15:28:00.750Z"
   },
   {
    "duration": -95,
    "start_time": "2022-02-14T15:28:00.753Z"
   },
   {
    "duration": 1435,
    "start_time": "2022-02-14T15:29:29.968Z"
   },
   {
    "duration": 64,
    "start_time": "2022-02-14T15:29:31.405Z"
   },
   {
    "duration": 13,
    "start_time": "2022-02-14T15:29:31.472Z"
   },
   {
    "duration": 60,
    "start_time": "2022-02-14T15:29:31.488Z"
   },
   {
    "duration": 17,
    "start_time": "2022-02-14T15:29:31.550Z"
   },
   {
    "duration": 41,
    "start_time": "2022-02-14T15:29:31.570Z"
   },
   {
    "duration": 16,
    "start_time": "2022-02-14T15:29:31.614Z"
   },
   {
    "duration": 40,
    "start_time": "2022-02-14T15:29:31.634Z"
   },
   {
    "duration": 13,
    "start_time": "2022-02-14T15:29:31.677Z"
   },
   {
    "duration": 6,
    "start_time": "2022-02-14T15:29:31.693Z"
   },
   {
    "duration": 14,
    "start_time": "2022-02-14T15:29:31.702Z"
   },
   {
    "duration": 39,
    "start_time": "2022-02-14T15:29:31.718Z"
   },
   {
    "duration": 7,
    "start_time": "2022-02-14T15:29:31.759Z"
   },
   {
    "duration": 29,
    "start_time": "2022-02-14T15:29:31.768Z"
   },
   {
    "duration": 37,
    "start_time": "2022-02-14T15:29:31.799Z"
   },
   {
    "duration": 11,
    "start_time": "2022-02-14T15:29:31.838Z"
   },
   {
    "duration": 9,
    "start_time": "2022-02-14T15:29:31.851Z"
   },
   {
    "duration": 14,
    "start_time": "2022-02-14T15:29:31.862Z"
   },
   {
    "duration": 54,
    "start_time": "2022-02-14T15:29:31.879Z"
   },
   {
    "duration": 36,
    "start_time": "2022-02-14T15:29:31.935Z"
   },
   {
    "duration": 20,
    "start_time": "2022-02-14T15:29:31.975Z"
   },
   {
    "duration": 46,
    "start_time": "2022-02-14T15:29:31.998Z"
   },
   {
    "duration": 10,
    "start_time": "2022-02-14T15:29:32.050Z"
   },
   {
    "duration": 475,
    "start_time": "2022-02-14T15:29:32.064Z"
   },
   {
    "duration": 10,
    "start_time": "2022-02-14T15:29:32.541Z"
   },
   {
    "duration": 19,
    "start_time": "2022-02-14T15:29:32.553Z"
   },
   {
    "duration": 321,
    "start_time": "2022-02-14T15:29:32.574Z"
   },
   {
    "duration": 4,
    "start_time": "2022-02-14T15:29:32.897Z"
   },
   {
    "duration": 476,
    "start_time": "2022-02-14T15:29:32.903Z"
   },
   {
    "duration": 4,
    "start_time": "2022-02-14T15:29:33.381Z"
   },
   {
    "duration": 47,
    "start_time": "2022-02-14T15:29:33.387Z"
   },
   {
    "duration": 7,
    "start_time": "2022-02-14T15:29:33.436Z"
   },
   {
    "duration": 11,
    "start_time": "2022-02-14T15:29:33.446Z"
   },
   {
    "duration": 5,
    "start_time": "2022-02-14T15:29:33.460Z"
   },
   {
    "duration": 498,
    "start_time": "2022-02-14T15:29:33.467Z"
   },
   {
    "duration": 808,
    "start_time": "2022-02-14T15:29:33.967Z"
   },
   {
    "duration": 13,
    "start_time": "2022-02-14T15:29:34.777Z"
   },
   {
    "duration": 491,
    "start_time": "2022-02-14T15:29:34.792Z"
   },
   {
    "duration": 13,
    "start_time": "2022-02-14T15:29:35.285Z"
   },
   {
    "duration": 420,
    "start_time": "2022-02-14T15:29:35.300Z"
   },
   {
    "duration": 18,
    "start_time": "2022-02-14T15:29:35.722Z"
   },
   {
    "duration": 424,
    "start_time": "2022-02-14T15:29:35.743Z"
   },
   {
    "duration": 18,
    "start_time": "2022-02-14T15:29:36.169Z"
   },
   {
    "duration": 42,
    "start_time": "2022-02-14T15:29:36.190Z"
   },
   {
    "duration": 547,
    "start_time": "2022-02-14T15:29:36.234Z"
   },
   {
    "duration": 11,
    "start_time": "2022-02-14T15:29:36.783Z"
   },
   {
    "duration": 39,
    "start_time": "2022-02-14T15:29:36.797Z"
   },
   {
    "duration": 330,
    "start_time": "2022-02-14T15:29:36.839Z"
   },
   {
    "duration": 716,
    "start_time": "2022-02-14T15:29:37.173Z"
   },
   {
    "duration": 15,
    "start_time": "2022-02-14T15:29:37.892Z"
   },
   {
    "duration": 39,
    "start_time": "2022-02-14T15:29:37.909Z"
   },
   {
    "duration": 20,
    "start_time": "2022-02-14T15:29:37.951Z"
   },
   {
    "duration": 22,
    "start_time": "2022-02-14T15:29:37.974Z"
   },
   {
    "duration": 798,
    "start_time": "2022-02-14T15:29:38.034Z"
   },
   {
    "duration": 908,
    "start_time": "2022-02-14T15:29:38.834Z"
   },
   {
    "duration": 21,
    "start_time": "2022-02-14T15:29:39.745Z"
   },
   {
    "duration": 21,
    "start_time": "2022-02-14T15:29:39.769Z"
   },
   {
    "duration": 54,
    "start_time": "2022-02-14T15:29:39.792Z"
   },
   {
    "duration": 450,
    "start_time": "2022-02-14T15:29:39.848Z"
   },
   {
    "duration": -108,
    "start_time": "2022-02-14T15:29:40.408Z"
   },
   {
    "duration": -119,
    "start_time": "2022-02-14T15:29:40.421Z"
   },
   {
    "duration": 1739,
    "start_time": "2022-02-14T15:31:06.428Z"
   },
   {
    "duration": 68,
    "start_time": "2022-02-14T15:31:08.169Z"
   },
   {
    "duration": 14,
    "start_time": "2022-02-14T15:31:08.241Z"
   },
   {
    "duration": 74,
    "start_time": "2022-02-14T15:31:08.258Z"
   },
   {
    "duration": 25,
    "start_time": "2022-02-14T15:31:08.335Z"
   },
   {
    "duration": 18,
    "start_time": "2022-02-14T15:31:08.363Z"
   },
   {
    "duration": 11,
    "start_time": "2022-02-14T15:31:08.384Z"
   },
   {
    "duration": 48,
    "start_time": "2022-02-14T15:31:08.399Z"
   },
   {
    "duration": 11,
    "start_time": "2022-02-14T15:31:08.451Z"
   },
   {
    "duration": 9,
    "start_time": "2022-02-14T15:31:08.465Z"
   },
   {
    "duration": 10,
    "start_time": "2022-02-14T15:31:08.478Z"
   },
   {
    "duration": 88,
    "start_time": "2022-02-14T15:31:08.491Z"
   },
   {
    "duration": 7,
    "start_time": "2022-02-14T15:31:08.582Z"
   },
   {
    "duration": 59,
    "start_time": "2022-02-14T15:31:08.592Z"
   },
   {
    "duration": 15,
    "start_time": "2022-02-14T15:31:08.654Z"
   },
   {
    "duration": 14,
    "start_time": "2022-02-14T15:31:08.673Z"
   },
   {
    "duration": 14,
    "start_time": "2022-02-14T15:31:08.690Z"
   },
   {
    "duration": 41,
    "start_time": "2022-02-14T15:31:08.706Z"
   },
   {
    "duration": 23,
    "start_time": "2022-02-14T15:31:08.750Z"
   },
   {
    "duration": 70,
    "start_time": "2022-02-14T15:31:08.776Z"
   },
   {
    "duration": 16,
    "start_time": "2022-02-14T15:31:08.848Z"
   },
   {
    "duration": 22,
    "start_time": "2022-02-14T15:31:08.866Z"
   },
   {
    "duration": 45,
    "start_time": "2022-02-14T15:31:08.895Z"
   },
   {
    "duration": 559,
    "start_time": "2022-02-14T15:31:08.944Z"
   },
   {
    "duration": 30,
    "start_time": "2022-02-14T15:31:09.506Z"
   },
   {
    "duration": 21,
    "start_time": "2022-02-14T15:31:09.538Z"
   },
   {
    "duration": 363,
    "start_time": "2022-02-14T15:31:09.562Z"
   },
   {
    "duration": 4,
    "start_time": "2022-02-14T15:31:09.932Z"
   },
   {
    "duration": 516,
    "start_time": "2022-02-14T15:31:09.940Z"
   },
   {
    "duration": 4,
    "start_time": "2022-02-14T15:31:10.459Z"
   },
   {
    "duration": 30,
    "start_time": "2022-02-14T15:31:10.467Z"
   },
   {
    "duration": 36,
    "start_time": "2022-02-14T15:31:10.500Z"
   },
   {
    "duration": 15,
    "start_time": "2022-02-14T15:31:10.539Z"
   },
   {
    "duration": 6,
    "start_time": "2022-02-14T15:31:10.556Z"
   },
   {
    "duration": 544,
    "start_time": "2022-02-14T15:31:10.565Z"
   },
   {
    "duration": 921,
    "start_time": "2022-02-14T15:31:11.112Z"
   },
   {
    "duration": 14,
    "start_time": "2022-02-14T15:31:12.036Z"
   },
   {
    "duration": 579,
    "start_time": "2022-02-14T15:31:12.053Z"
   },
   {
    "duration": 13,
    "start_time": "2022-02-14T15:31:12.634Z"
   },
   {
    "duration": 473,
    "start_time": "2022-02-14T15:31:12.649Z"
   },
   {
    "duration": 22,
    "start_time": "2022-02-14T15:31:13.124Z"
   },
   {
    "duration": 509,
    "start_time": "2022-02-14T15:31:13.150Z"
   },
   {
    "duration": 28,
    "start_time": "2022-02-14T15:31:13.663Z"
   },
   {
    "duration": 47,
    "start_time": "2022-02-14T15:31:13.694Z"
   },
   {
    "duration": 566,
    "start_time": "2022-02-14T15:31:13.743Z"
   },
   {
    "duration": 22,
    "start_time": "2022-02-14T15:31:14.312Z"
   },
   {
    "duration": 21,
    "start_time": "2022-02-14T15:31:14.337Z"
   },
   {
    "duration": 352,
    "start_time": "2022-02-14T15:31:14.361Z"
   },
   {
    "duration": 733,
    "start_time": "2022-02-14T15:31:14.715Z"
   },
   {
    "duration": 12,
    "start_time": "2022-02-14T15:31:15.450Z"
   },
   {
    "duration": 19,
    "start_time": "2022-02-14T15:31:15.464Z"
   },
   {
    "duration": 57,
    "start_time": "2022-02-14T15:31:15.486Z"
   },
   {
    "duration": 18,
    "start_time": "2022-02-14T15:31:15.546Z"
   },
   {
    "duration": 885,
    "start_time": "2022-02-14T15:31:15.566Z"
   },
   {
    "duration": 915,
    "start_time": "2022-02-14T15:31:16.453Z"
   },
   {
    "duration": 22,
    "start_time": "2022-02-14T15:31:17.371Z"
   },
   {
    "duration": 371,
    "start_time": "2022-02-14T15:31:17.395Z"
   },
   {
    "duration": 20,
    "start_time": "2022-02-14T15:31:17.768Z"
   },
   {
    "duration": 322,
    "start_time": "2022-02-14T15:31:17.790Z"
   },
   {
    "duration": 28,
    "start_time": "2022-02-14T15:31:18.115Z"
   },
   {
    "duration": 342,
    "start_time": "2022-02-14T15:31:18.145Z"
   },
   {
    "duration": 737,
    "start_time": "2022-02-14T15:35:02.265Z"
   },
   {
    "duration": 1418,
    "start_time": "2022-02-14T15:36:22.775Z"
   },
   {
    "duration": 63,
    "start_time": "2022-02-14T15:36:24.195Z"
   },
   {
    "duration": 14,
    "start_time": "2022-02-14T15:36:24.260Z"
   },
   {
    "duration": 57,
    "start_time": "2022-02-14T15:36:24.276Z"
   },
   {
    "duration": 15,
    "start_time": "2022-02-14T15:36:24.336Z"
   },
   {
    "duration": 17,
    "start_time": "2022-02-14T15:36:24.353Z"
   },
   {
    "duration": 12,
    "start_time": "2022-02-14T15:36:24.373Z"
   },
   {
    "duration": 48,
    "start_time": "2022-02-14T15:36:24.390Z"
   },
   {
    "duration": 12,
    "start_time": "2022-02-14T15:36:24.441Z"
   },
   {
    "duration": 13,
    "start_time": "2022-02-14T15:36:24.455Z"
   },
   {
    "duration": 19,
    "start_time": "2022-02-14T15:36:24.470Z"
   },
   {
    "duration": 68,
    "start_time": "2022-02-14T15:36:24.491Z"
   },
   {
    "duration": 7,
    "start_time": "2022-02-14T15:36:24.561Z"
   },
   {
    "duration": 26,
    "start_time": "2022-02-14T15:36:24.570Z"
   },
   {
    "duration": 13,
    "start_time": "2022-02-14T15:36:24.599Z"
   },
   {
    "duration": 12,
    "start_time": "2022-02-14T15:36:24.633Z"
   },
   {
    "duration": 12,
    "start_time": "2022-02-14T15:36:24.648Z"
   },
   {
    "duration": 13,
    "start_time": "2022-02-14T15:36:24.663Z"
   },
   {
    "duration": 17,
    "start_time": "2022-02-14T15:36:24.678Z"
   },
   {
    "duration": 64,
    "start_time": "2022-02-14T15:36:24.697Z"
   },
   {
    "duration": 28,
    "start_time": "2022-02-14T15:36:24.764Z"
   },
   {
    "duration": 18,
    "start_time": "2022-02-14T15:36:24.794Z"
   },
   {
    "duration": 10,
    "start_time": "2022-02-14T15:36:24.834Z"
   },
   {
    "duration": 456,
    "start_time": "2022-02-14T15:36:24.847Z"
   },
   {
    "duration": 10,
    "start_time": "2022-02-14T15:36:25.305Z"
   },
   {
    "duration": 29,
    "start_time": "2022-02-14T15:36:25.318Z"
   },
   {
    "duration": 297,
    "start_time": "2022-02-14T15:36:25.349Z"
   },
   {
    "duration": 3,
    "start_time": "2022-02-14T15:36:25.648Z"
   },
   {
    "duration": 461,
    "start_time": "2022-02-14T15:36:25.653Z"
   },
   {
    "duration": 3,
    "start_time": "2022-02-14T15:36:26.116Z"
   },
   {
    "duration": 26,
    "start_time": "2022-02-14T15:36:26.132Z"
   },
   {
    "duration": 8,
    "start_time": "2022-02-14T15:36:26.161Z"
   },
   {
    "duration": 12,
    "start_time": "2022-02-14T15:36:26.171Z"
   },
   {
    "duration": 5,
    "start_time": "2022-02-14T15:36:26.185Z"
   },
   {
    "duration": 450,
    "start_time": "2022-02-14T15:36:26.233Z"
   },
   {
    "duration": 796,
    "start_time": "2022-02-14T15:36:26.685Z"
   },
   {
    "duration": 13,
    "start_time": "2022-02-14T15:36:27.483Z"
   },
   {
    "duration": 483,
    "start_time": "2022-02-14T15:36:27.498Z"
   },
   {
    "duration": 13,
    "start_time": "2022-02-14T15:36:27.983Z"
   },
   {
    "duration": 397,
    "start_time": "2022-02-14T15:36:28.000Z"
   },
   {
    "duration": 14,
    "start_time": "2022-02-14T15:36:28.400Z"
   },
   {
    "duration": 411,
    "start_time": "2022-02-14T15:36:28.432Z"
   },
   {
    "duration": 20,
    "start_time": "2022-02-14T15:36:28.846Z"
   },
   {
    "duration": 21,
    "start_time": "2022-02-14T15:36:28.870Z"
   },
   {
    "duration": 531,
    "start_time": "2022-02-14T15:36:28.894Z"
   },
   {
    "duration": 10,
    "start_time": "2022-02-14T15:36:29.432Z"
   },
   {
    "duration": 17,
    "start_time": "2022-02-14T15:36:29.444Z"
   },
   {
    "duration": 353,
    "start_time": "2022-02-14T15:36:29.463Z"
   },
   {
    "duration": 719,
    "start_time": "2022-02-14T15:36:29.818Z"
   },
   {
    "duration": 12,
    "start_time": "2022-02-14T15:36:30.539Z"
   },
   {
    "duration": 23,
    "start_time": "2022-02-14T15:36:30.554Z"
   },
   {
    "duration": 16,
    "start_time": "2022-02-14T15:36:30.579Z"
   },
   {
    "duration": 48,
    "start_time": "2022-02-14T15:36:30.598Z"
   },
   {
    "duration": 805,
    "start_time": "2022-02-14T15:36:30.648Z"
   },
   {
    "duration": 892,
    "start_time": "2022-02-14T15:36:31.456Z"
   },
   {
    "duration": 732,
    "start_time": "2022-02-14T15:36:32.350Z"
   },
   {
    "duration": 3,
    "start_time": "2022-02-14T15:51:49.343Z"
   },
   {
    "duration": 410,
    "start_time": "2022-02-14T15:51:50.852Z"
   },
   {
    "duration": 13,
    "start_time": "2022-02-14T15:52:19.171Z"
   },
   {
    "duration": 593,
    "start_time": "2022-02-14T15:52:51.495Z"
   },
   {
    "duration": 247,
    "start_time": "2022-02-15T09:19:24.234Z"
   },
   {
    "duration": 1201,
    "start_time": "2022-02-15T09:19:29.411Z"
   },
   {
    "duration": 48,
    "start_time": "2022-02-15T09:19:30.615Z"
   },
   {
    "duration": 11,
    "start_time": "2022-02-15T09:19:30.665Z"
   },
   {
    "duration": 42,
    "start_time": "2022-02-15T09:19:30.678Z"
   },
   {
    "duration": 18,
    "start_time": "2022-02-15T09:19:30.722Z"
   },
   {
    "duration": 20,
    "start_time": "2022-02-15T09:19:30.742Z"
   },
   {
    "duration": 9,
    "start_time": "2022-02-15T09:19:30.764Z"
   },
   {
    "duration": 25,
    "start_time": "2022-02-15T09:19:30.776Z"
   },
   {
    "duration": 29,
    "start_time": "2022-02-15T09:19:30.804Z"
   },
   {
    "duration": 14,
    "start_time": "2022-02-15T09:19:30.836Z"
   },
   {
    "duration": 22,
    "start_time": "2022-02-15T09:19:30.853Z"
   },
   {
    "duration": 51,
    "start_time": "2022-02-15T09:19:30.878Z"
   },
   {
    "duration": 6,
    "start_time": "2022-02-15T09:19:30.931Z"
   },
   {
    "duration": 33,
    "start_time": "2022-02-15T09:19:30.939Z"
   },
   {
    "duration": 17,
    "start_time": "2022-02-15T09:19:30.974Z"
   },
   {
    "duration": 31,
    "start_time": "2022-02-15T09:19:30.992Z"
   },
   {
    "duration": 41,
    "start_time": "2022-02-15T09:19:31.025Z"
   },
   {
    "duration": 15,
    "start_time": "2022-02-15T09:19:31.068Z"
   },
   {
    "duration": 36,
    "start_time": "2022-02-15T09:19:31.084Z"
   },
   {
    "duration": 35,
    "start_time": "2022-02-15T09:19:31.121Z"
   },
   {
    "duration": 11,
    "start_time": "2022-02-15T09:19:31.158Z"
   },
   {
    "duration": 16,
    "start_time": "2022-02-15T09:19:31.171Z"
   },
   {
    "duration": 9,
    "start_time": "2022-02-15T09:19:31.191Z"
   },
   {
    "duration": 302,
    "start_time": "2022-02-15T09:19:31.202Z"
   },
   {
    "duration": 20,
    "start_time": "2022-02-15T09:19:31.506Z"
   },
   {
    "duration": 38,
    "start_time": "2022-02-15T09:19:31.528Z"
   },
   {
    "duration": 276,
    "start_time": "2022-02-15T09:19:31.568Z"
   },
   {
    "duration": 3,
    "start_time": "2022-02-15T09:19:31.846Z"
   },
   {
    "duration": 354,
    "start_time": "2022-02-15T09:19:31.852Z"
   },
   {
    "duration": 2,
    "start_time": "2022-02-15T09:19:32.208Z"
   },
   {
    "duration": 29,
    "start_time": "2022-02-15T09:19:32.211Z"
   },
   {
    "duration": 5,
    "start_time": "2022-02-15T09:19:32.242Z"
   },
   {
    "duration": 12,
    "start_time": "2022-02-15T09:19:32.249Z"
   },
   {
    "duration": 7,
    "start_time": "2022-02-15T09:19:32.262Z"
   },
   {
    "duration": 311,
    "start_time": "2022-02-15T09:19:32.271Z"
   },
   {
    "duration": 500,
    "start_time": "2022-02-15T09:19:32.584Z"
   },
   {
    "duration": 10,
    "start_time": "2022-02-15T09:19:33.086Z"
   },
   {
    "duration": 339,
    "start_time": "2022-02-15T09:19:33.098Z"
   },
   {
    "duration": 10,
    "start_time": "2022-02-15T09:19:33.439Z"
   },
   {
    "duration": 368,
    "start_time": "2022-02-15T09:19:33.450Z"
   },
   {
    "duration": 13,
    "start_time": "2022-02-15T09:19:33.820Z"
   },
   {
    "duration": 373,
    "start_time": "2022-02-15T09:19:33.835Z"
   },
   {
    "duration": 24,
    "start_time": "2022-02-15T09:19:34.210Z"
   },
   {
    "duration": 18,
    "start_time": "2022-02-15T09:19:34.236Z"
   },
   {
    "duration": 430,
    "start_time": "2022-02-15T09:19:34.256Z"
   },
   {
    "duration": 8,
    "start_time": "2022-02-15T09:19:34.687Z"
   },
   {
    "duration": 23,
    "start_time": "2022-02-15T09:19:34.696Z"
   },
   {
    "duration": 211,
    "start_time": "2022-02-15T09:19:34.721Z"
   },
   {
    "duration": 646,
    "start_time": "2022-02-15T09:19:34.934Z"
   },
   {
    "duration": 12,
    "start_time": "2022-02-15T09:19:35.582Z"
   },
   {
    "duration": 34,
    "start_time": "2022-02-15T09:19:35.596Z"
   },
   {
    "duration": 18,
    "start_time": "2022-02-15T09:19:35.632Z"
   },
   {
    "duration": 15,
    "start_time": "2022-02-15T09:19:35.652Z"
   },
   {
    "duration": 508,
    "start_time": "2022-02-15T09:19:35.669Z"
   },
   {
    "duration": 597,
    "start_time": "2022-02-15T09:19:36.178Z"
   },
   {
    "duration": 480,
    "start_time": "2022-02-15T09:19:36.778Z"
   },
   {
    "duration": 3,
    "start_time": "2022-02-15T09:19:37.260Z"
   },
   {
    "duration": 10,
    "start_time": "2022-02-15T09:19:37.265Z"
   },
   {
    "duration": 4,
    "start_time": "2022-02-15T09:19:37.277Z"
   },
   {
    "duration": 3,
    "start_time": "2022-02-15T09:20:22.888Z"
   },
   {
    "duration": 286,
    "start_time": "2022-02-15T09:22:47.250Z"
   },
   {
    "duration": 8,
    "start_time": "2022-02-15T09:23:06.567Z"
   },
   {
    "duration": 6,
    "start_time": "2022-02-15T09:23:26.146Z"
   },
   {
    "duration": 4,
    "start_time": "2022-02-15T09:23:28.204Z"
   },
   {
    "duration": 8,
    "start_time": "2022-02-15T09:47:57.605Z"
   },
   {
    "duration": 12,
    "start_time": "2022-02-15T09:52:15.003Z"
   },
   {
    "duration": 1143,
    "start_time": "2022-02-15T09:58:54.677Z"
   },
   {
    "duration": 48,
    "start_time": "2022-02-15T09:58:55.822Z"
   },
   {
    "duration": 10,
    "start_time": "2022-02-15T09:58:55.873Z"
   },
   {
    "duration": 35,
    "start_time": "2022-02-15T09:58:55.885Z"
   },
   {
    "duration": 11,
    "start_time": "2022-02-15T09:58:55.922Z"
   },
   {
    "duration": 13,
    "start_time": "2022-02-15T09:58:55.934Z"
   },
   {
    "duration": 11,
    "start_time": "2022-02-15T09:58:55.949Z"
   },
   {
    "duration": 13,
    "start_time": "2022-02-15T09:58:55.962Z"
   },
   {
    "duration": 7,
    "start_time": "2022-02-15T09:58:55.977Z"
   },
   {
    "duration": 32,
    "start_time": "2022-02-15T09:58:55.986Z"
   },
   {
    "duration": 6,
    "start_time": "2022-02-15T09:58:56.021Z"
   },
   {
    "duration": 22,
    "start_time": "2022-02-15T09:58:56.029Z"
   },
   {
    "duration": 4,
    "start_time": "2022-02-15T09:58:56.053Z"
   },
   {
    "duration": 19,
    "start_time": "2022-02-15T09:58:56.059Z"
   },
   {
    "duration": 9,
    "start_time": "2022-02-15T09:58:56.080Z"
   },
   {
    "duration": 8,
    "start_time": "2022-02-15T09:58:56.119Z"
   },
   {
    "duration": 6,
    "start_time": "2022-02-15T09:58:56.129Z"
   },
   {
    "duration": 10,
    "start_time": "2022-02-15T09:58:56.137Z"
   },
   {
    "duration": 20,
    "start_time": "2022-02-15T09:58:56.148Z"
   },
   {
    "duration": 48,
    "start_time": "2022-02-15T09:58:56.170Z"
   },
   {
    "duration": 11,
    "start_time": "2022-02-15T09:58:56.220Z"
   },
   {
    "duration": 13,
    "start_time": "2022-02-15T09:58:56.233Z"
   },
   {
    "duration": 7,
    "start_time": "2022-02-15T09:58:56.250Z"
   },
   {
    "duration": 302,
    "start_time": "2022-02-15T09:58:56.260Z"
   },
   {
    "duration": 7,
    "start_time": "2022-02-15T09:58:56.564Z"
   },
   {
    "duration": 13,
    "start_time": "2022-02-15T09:58:56.573Z"
   },
   {
    "duration": 203,
    "start_time": "2022-02-15T09:58:56.588Z"
   },
   {
    "duration": 3,
    "start_time": "2022-02-15T09:58:56.793Z"
   },
   {
    "duration": 298,
    "start_time": "2022-02-15T09:58:56.798Z"
   },
   {
    "duration": 2,
    "start_time": "2022-02-15T09:58:57.098Z"
   },
   {
    "duration": 33,
    "start_time": "2022-02-15T09:58:57.102Z"
   },
   {
    "duration": 6,
    "start_time": "2022-02-15T09:58:57.137Z"
   },
   {
    "duration": 8,
    "start_time": "2022-02-15T09:58:57.144Z"
   },
   {
    "duration": 5,
    "start_time": "2022-02-15T09:58:57.154Z"
   },
   {
    "duration": 309,
    "start_time": "2022-02-15T09:58:57.160Z"
   },
   {
    "duration": 504,
    "start_time": "2022-02-15T09:58:57.471Z"
   },
   {
    "duration": 9,
    "start_time": "2022-02-15T09:58:57.977Z"
   },
   {
    "duration": 330,
    "start_time": "2022-02-15T09:58:57.988Z"
   },
   {
    "duration": 10,
    "start_time": "2022-02-15T09:58:58.320Z"
   },
   {
    "duration": 257,
    "start_time": "2022-02-15T09:58:58.331Z"
   },
   {
    "duration": 10,
    "start_time": "2022-02-15T09:58:58.590Z"
   },
   {
    "duration": 270,
    "start_time": "2022-02-15T09:58:58.601Z"
   },
   {
    "duration": 16,
    "start_time": "2022-02-15T09:58:58.873Z"
   },
   {
    "duration": 30,
    "start_time": "2022-02-15T09:58:58.891Z"
   },
   {
    "duration": 367,
    "start_time": "2022-02-15T09:58:58.922Z"
   },
   {
    "duration": 8,
    "start_time": "2022-02-15T09:58:59.290Z"
   },
   {
    "duration": 23,
    "start_time": "2022-02-15T09:58:59.299Z"
   },
   {
    "duration": 203,
    "start_time": "2022-02-15T09:58:59.323Z"
   },
   {
    "duration": 438,
    "start_time": "2022-02-15T09:58:59.528Z"
   },
   {
    "duration": 9,
    "start_time": "2022-02-15T09:58:59.967Z"
   },
   {
    "duration": 31,
    "start_time": "2022-02-15T09:58:59.978Z"
   },
   {
    "duration": 43,
    "start_time": "2022-02-15T09:59:00.011Z"
   },
   {
    "duration": 34,
    "start_time": "2022-02-15T09:59:00.057Z"
   },
   {
    "duration": 484,
    "start_time": "2022-02-15T09:59:00.094Z"
   },
   {
    "duration": 588,
    "start_time": "2022-02-15T09:59:00.580Z"
   },
   {
    "duration": 551,
    "start_time": "2022-02-15T09:59:01.170Z"
   },
   {
    "duration": 3,
    "start_time": "2022-02-15T09:59:01.723Z"
   },
   {
    "duration": 36,
    "start_time": "2022-02-15T09:59:01.727Z"
   },
   {
    "duration": 15,
    "start_time": "2022-02-15T09:59:01.765Z"
   },
   {
    "duration": 11,
    "start_time": "2022-02-15T09:59:01.781Z"
   },
   {
    "duration": 6,
    "start_time": "2022-02-15T09:59:01.794Z"
   },
   {
    "duration": 11,
    "start_time": "2022-02-15T09:59:01.802Z"
   },
   {
    "duration": 21,
    "start_time": "2022-02-15T09:59:01.816Z"
   },
   {
    "duration": 16,
    "start_time": "2022-02-15T09:59:01.840Z"
   },
   {
    "duration": 10,
    "start_time": "2022-02-15T09:59:01.858Z"
   },
   {
    "duration": 1247,
    "start_time": "2022-02-15T10:03:20.862Z"
   },
   {
    "duration": 45,
    "start_time": "2022-02-15T10:03:22.111Z"
   },
   {
    "duration": 10,
    "start_time": "2022-02-15T10:03:22.158Z"
   },
   {
    "duration": 31,
    "start_time": "2022-02-15T10:03:22.170Z"
   },
   {
    "duration": 11,
    "start_time": "2022-02-15T10:03:22.219Z"
   },
   {
    "duration": 14,
    "start_time": "2022-02-15T10:03:22.232Z"
   },
   {
    "duration": 9,
    "start_time": "2022-02-15T10:03:22.248Z"
   },
   {
    "duration": 10,
    "start_time": "2022-02-15T10:03:22.260Z"
   },
   {
    "duration": 8,
    "start_time": "2022-02-15T10:03:22.273Z"
   },
   {
    "duration": 40,
    "start_time": "2022-02-15T10:03:22.283Z"
   },
   {
    "duration": 10,
    "start_time": "2022-02-15T10:03:22.325Z"
   },
   {
    "duration": 24,
    "start_time": "2022-02-15T10:03:22.336Z"
   },
   {
    "duration": 5,
    "start_time": "2022-02-15T10:03:22.362Z"
   },
   {
    "duration": 16,
    "start_time": "2022-02-15T10:03:22.370Z"
   },
   {
    "duration": 35,
    "start_time": "2022-02-15T10:03:22.388Z"
   },
   {
    "duration": 8,
    "start_time": "2022-02-15T10:03:22.424Z"
   },
   {
    "duration": 6,
    "start_time": "2022-02-15T10:03:22.434Z"
   },
   {
    "duration": 11,
    "start_time": "2022-02-15T10:03:22.442Z"
   },
   {
    "duration": 12,
    "start_time": "2022-02-15T10:03:22.454Z"
   },
   {
    "duration": 58,
    "start_time": "2022-02-15T10:03:22.468Z"
   },
   {
    "duration": 10,
    "start_time": "2022-02-15T10:03:22.527Z"
   },
   {
    "duration": 13,
    "start_time": "2022-02-15T10:03:22.539Z"
   },
   {
    "duration": 7,
    "start_time": "2022-02-15T10:03:22.555Z"
   },
   {
    "duration": 292,
    "start_time": "2022-02-15T10:03:22.564Z"
   },
   {
    "duration": 8,
    "start_time": "2022-02-15T10:03:22.859Z"
   },
   {
    "duration": 12,
    "start_time": "2022-02-15T10:03:22.869Z"
   },
   {
    "duration": 205,
    "start_time": "2022-02-15T10:03:22.883Z"
   },
   {
    "duration": 3,
    "start_time": "2022-02-15T10:03:23.090Z"
   },
   {
    "duration": 289,
    "start_time": "2022-02-15T10:03:23.096Z"
   },
   {
    "duration": 3,
    "start_time": "2022-02-15T10:03:23.388Z"
   },
   {
    "duration": 38,
    "start_time": "2022-02-15T10:03:23.393Z"
   },
   {
    "duration": 8,
    "start_time": "2022-02-15T10:03:23.433Z"
   },
   {
    "duration": 11,
    "start_time": "2022-02-15T10:03:23.443Z"
   },
   {
    "duration": 5,
    "start_time": "2022-02-15T10:03:23.456Z"
   },
   {
    "duration": 309,
    "start_time": "2022-02-15T10:03:23.464Z"
   },
   {
    "duration": 485,
    "start_time": "2022-02-15T10:03:23.776Z"
   },
   {
    "duration": 11,
    "start_time": "2022-02-15T10:03:24.264Z"
   },
   {
    "duration": 341,
    "start_time": "2022-02-15T10:03:24.277Z"
   },
   {
    "duration": 10,
    "start_time": "2022-02-15T10:03:24.620Z"
   },
   {
    "duration": 253,
    "start_time": "2022-02-15T10:03:24.632Z"
   },
   {
    "duration": 11,
    "start_time": "2022-02-15T10:03:24.888Z"
   },
   {
    "duration": 269,
    "start_time": "2022-02-15T10:03:24.900Z"
   },
   {
    "duration": 15,
    "start_time": "2022-02-15T10:03:25.171Z"
   },
   {
    "duration": 30,
    "start_time": "2022-02-15T10:03:25.188Z"
   },
   {
    "duration": 372,
    "start_time": "2022-02-15T10:03:25.220Z"
   },
   {
    "duration": 8,
    "start_time": "2022-02-15T10:03:25.594Z"
   },
   {
    "duration": 21,
    "start_time": "2022-02-15T10:03:25.603Z"
   },
   {
    "duration": 219,
    "start_time": "2022-02-15T10:03:25.626Z"
   },
   {
    "duration": 511,
    "start_time": "2022-02-15T10:03:25.847Z"
   },
   {
    "duration": 13,
    "start_time": "2022-02-15T10:03:26.361Z"
   },
   {
    "duration": 18,
    "start_time": "2022-02-15T10:03:26.376Z"
   },
   {
    "duration": 39,
    "start_time": "2022-02-15T10:03:26.396Z"
   },
   {
    "duration": 19,
    "start_time": "2022-02-15T10:03:26.437Z"
   },
   {
    "duration": 546,
    "start_time": "2022-02-15T10:03:26.458Z"
   },
   {
    "duration": 727,
    "start_time": "2022-02-15T10:03:27.007Z"
   },
   {
    "duration": 503,
    "start_time": "2022-02-15T10:03:27.736Z"
   },
   {
    "duration": 3,
    "start_time": "2022-02-15T10:03:28.241Z"
   },
   {
    "duration": 20,
    "start_time": "2022-02-15T10:03:28.246Z"
   },
   {
    "duration": 10,
    "start_time": "2022-02-15T10:03:28.268Z"
   },
   {
    "duration": 9,
    "start_time": "2022-02-15T10:03:28.280Z"
   },
   {
    "duration": 4,
    "start_time": "2022-02-15T10:03:28.291Z"
   },
   {
    "duration": 23,
    "start_time": "2022-02-15T10:03:28.297Z"
   },
   {
    "duration": 16,
    "start_time": "2022-02-15T10:03:28.322Z"
   },
   {
    "duration": 9,
    "start_time": "2022-02-15T10:03:28.340Z"
   },
   {
    "duration": 12,
    "start_time": "2022-02-15T10:03:28.351Z"
   },
   {
    "duration": 4,
    "start_time": "2022-02-15T10:03:28.366Z"
   },
   {
    "duration": 6,
    "start_time": "2022-02-15T10:03:28.372Z"
   },
   {
    "duration": 1174,
    "start_time": "2022-02-22T19:18:44.228Z"
   },
   {
    "duration": 43,
    "start_time": "2022-02-22T19:18:45.405Z"
   },
   {
    "duration": 10,
    "start_time": "2022-02-22T19:18:45.451Z"
   },
   {
    "duration": 27,
    "start_time": "2022-02-22T19:18:45.463Z"
   },
   {
    "duration": 32,
    "start_time": "2022-02-22T19:18:45.492Z"
   },
   {
    "duration": 15,
    "start_time": "2022-02-22T19:18:45.527Z"
   },
   {
    "duration": 24,
    "start_time": "2022-02-22T19:18:45.544Z"
   },
   {
    "duration": 17,
    "start_time": "2022-02-22T19:18:45.571Z"
   },
   {
    "duration": 29,
    "start_time": "2022-02-22T19:18:45.591Z"
   },
   {
    "duration": 5,
    "start_time": "2022-02-22T19:18:45.622Z"
   },
   {
    "duration": 10,
    "start_time": "2022-02-22T19:18:45.629Z"
   },
   {
    "duration": 27,
    "start_time": "2022-02-22T19:18:45.640Z"
   },
   {
    "duration": 5,
    "start_time": "2022-02-22T19:18:45.669Z"
   },
   {
    "duration": 43,
    "start_time": "2022-02-22T19:18:45.675Z"
   },
   {
    "duration": 11,
    "start_time": "2022-02-22T19:18:45.721Z"
   },
   {
    "duration": 15,
    "start_time": "2022-02-22T19:18:45.734Z"
   },
   {
    "duration": 10,
    "start_time": "2022-02-22T19:18:45.751Z"
   },
   {
    "duration": 12,
    "start_time": "2022-02-22T19:18:45.763Z"
   },
   {
    "duration": 15,
    "start_time": "2022-02-22T19:18:45.777Z"
   },
   {
    "duration": 49,
    "start_time": "2022-02-22T19:18:45.793Z"
   },
   {
    "duration": 12,
    "start_time": "2022-02-22T19:18:45.844Z"
   },
   {
    "duration": 17,
    "start_time": "2022-02-22T19:18:45.858Z"
   },
   {
    "duration": 7,
    "start_time": "2022-02-22T19:18:45.879Z"
   },
   {
    "duration": 278,
    "start_time": "2022-02-22T19:18:45.918Z"
   },
   {
    "duration": 8,
    "start_time": "2022-02-22T19:18:46.198Z"
   },
   {
    "duration": 19,
    "start_time": "2022-02-22T19:18:46.207Z"
   },
   {
    "duration": 194,
    "start_time": "2022-02-22T19:18:46.228Z"
   },
   {
    "duration": 2,
    "start_time": "2022-02-22T19:18:46.424Z"
   },
   {
    "duration": 307,
    "start_time": "2022-02-22T19:18:46.428Z"
   },
   {
    "duration": 2,
    "start_time": "2022-02-22T19:18:46.737Z"
   },
   {
    "duration": 23,
    "start_time": "2022-02-22T19:18:46.740Z"
   },
   {
    "duration": 6,
    "start_time": "2022-02-22T19:18:46.765Z"
   },
   {
    "duration": 10,
    "start_time": "2022-02-22T19:18:46.773Z"
   },
   {
    "duration": 9,
    "start_time": "2022-02-22T19:18:46.785Z"
   },
   {
    "duration": 329,
    "start_time": "2022-02-22T19:18:46.796Z"
   },
   {
    "duration": 516,
    "start_time": "2022-02-22T19:18:47.127Z"
   },
   {
    "duration": 11,
    "start_time": "2022-02-22T19:18:47.645Z"
   },
   {
    "duration": 364,
    "start_time": "2022-02-22T19:18:47.658Z"
   },
   {
    "duration": 16,
    "start_time": "2022-02-22T19:18:48.024Z"
   },
   {
    "duration": 276,
    "start_time": "2022-02-22T19:18:48.042Z"
   },
   {
    "duration": 11,
    "start_time": "2022-02-22T19:18:48.320Z"
   },
   {
    "duration": 278,
    "start_time": "2022-02-22T19:18:48.333Z"
   },
   {
    "duration": 17,
    "start_time": "2022-02-22T19:18:48.613Z"
   },
   {
    "duration": 19,
    "start_time": "2022-02-22T19:18:48.632Z"
   },
   {
    "duration": 425,
    "start_time": "2022-02-22T19:18:48.653Z"
   },
   {
    "duration": 8,
    "start_time": "2022-02-22T19:18:49.080Z"
   },
   {
    "duration": 41,
    "start_time": "2022-02-22T19:18:49.089Z"
   },
   {
    "duration": 235,
    "start_time": "2022-02-22T19:18:49.131Z"
   },
   {
    "duration": 561,
    "start_time": "2022-02-22T19:18:49.368Z"
   },
   {
    "duration": 11,
    "start_time": "2022-02-22T19:18:49.931Z"
   },
   {
    "duration": 17,
    "start_time": "2022-02-22T19:18:49.944Z"
   },
   {
    "duration": 13,
    "start_time": "2022-02-22T19:18:49.962Z"
   },
   {
    "duration": 12,
    "start_time": "2022-02-22T19:18:49.977Z"
   },
   {
    "duration": 536,
    "start_time": "2022-02-22T19:18:50.019Z"
   },
   {
    "duration": 636,
    "start_time": "2022-02-22T19:18:50.557Z"
   },
   {
    "duration": 529,
    "start_time": "2022-02-22T19:18:51.195Z"
   },
   {
    "duration": 3,
    "start_time": "2022-02-22T19:18:51.726Z"
   },
   {
    "duration": 28,
    "start_time": "2022-02-22T19:18:51.730Z"
   },
   {
    "duration": 36,
    "start_time": "2022-02-22T19:18:51.760Z"
   },
   {
    "duration": 23,
    "start_time": "2022-02-22T19:18:51.798Z"
   },
   {
    "duration": 16,
    "start_time": "2022-02-22T19:18:51.823Z"
   },
   {
    "duration": 18,
    "start_time": "2022-02-22T19:18:51.841Z"
   },
   {
    "duration": 34,
    "start_time": "2022-02-22T19:18:51.861Z"
   },
   {
    "duration": 29,
    "start_time": "2022-02-22T19:18:51.898Z"
   },
   {
    "duration": 26,
    "start_time": "2022-02-22T19:18:51.929Z"
   },
   {
    "duration": 27,
    "start_time": "2022-02-22T19:18:51.957Z"
   },
   {
    "duration": 39,
    "start_time": "2022-02-22T19:18:51.986Z"
   }
  ],
  "kernelspec": {
   "display_name": "Python 3 (ipykernel)",
   "language": "python",
   "name": "python3"
  },
  "language_info": {
   "codemirror_mode": {
    "name": "ipython",
    "version": 3
   },
   "file_extension": ".py",
   "mimetype": "text/x-python",
   "name": "python",
   "nbconvert_exporter": "python",
   "pygments_lexer": "ipython3",
   "version": "3.9.12"
  },
  "toc": {
   "base_numbering": 1,
   "nav_menu": {},
   "number_sections": false,
   "sideBar": true,
   "skip_h1_title": false,
   "title_cell": "Содержание",
   "title_sidebar": "Contents",
   "toc_cell": true,
   "toc_position": {},
   "toc_section_display": true,
   "toc_window_display": true
  }
 },
 "nbformat": 4,
 "nbformat_minor": 2
}
